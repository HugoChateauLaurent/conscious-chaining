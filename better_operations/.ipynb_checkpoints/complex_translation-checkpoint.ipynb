{
 "cells": [
  {
   "cell_type": "code",
   "execution_count": 335,
   "metadata": {},
   "outputs": [
    {
     "name": "stdout",
     "output_type": "stream",
     "text": [
      "[1.09740557 1.09740557]\n",
      "-5 1.0974055713903554\n"
     ]
    }
   ],
   "source": [
    "import nengo_spa as spa\n",
    "import nengo\n",
    "import numpy as np\n",
    "\n",
    "dimensions = 16\n",
    "vocab = spa.Vocabulary(dimensions)\n",
    "vocab.populate(\"BASE.unitary()\")\n",
    "\n",
    "base = vocab.parse(\"BASE\").v # the base vector\n",
    "base = np.array([base])\n",
    "\n",
    "def power(base, e): # as in: https://forum.nengo.ai/t/vector-exponentials-with-unitary-semantic-pointers/505/2\n",
    "    return np.fft.ifft(np.fft.fft(base) ** e).real\n",
    "\n",
    "def retrieve_e_f(base):\n",
    "    def retrieve_e(y):\n",
    "        y_fft = np.fft.fft(y)\n",
    "        base_fft = np.fft.fft(base)\n",
    "        idx = np.where(np.logical_and(y_fft>0, base_fft>0)) # keep positive values\n",
    "\n",
    "        y_log = np.log(y_fft[idx])\n",
    "        base_log = np.log(base_fft[idx])\n",
    "        idx = np.where(base_log!=0) # keep nonzero base_log values\n",
    "\n",
    "\n",
    "        e = (y_log[idx] / base_log[idx]).real # base change rule\n",
    "        print(e)\n",
    "        idx = np.argmax(np.abs(e)) # for some reason, the result is always the maximum when it's positive and minimum when it's negative\n",
    "        \n",
    "        return e[idx]\n",
    "    \n",
    "    return retrieve_e\n",
    "\n",
    "e = -5\n",
    "y = power(base, e)\n",
    "retrieved_e = retrieve_e_f(base)(y)\n",
    "\n",
    "print(e, retrieved_e)"
   ]
  },
  {
   "cell_type": "code",
   "execution_count": null,
   "metadata": {},
   "outputs": [],
   "source": []
  },
  {
   "cell_type": "code",
   "execution_count": null,
   "metadata": {},
   "outputs": [],
   "source": []
  }
 ],
 "metadata": {
  "kernelspec": {
   "display_name": "CTN",
   "language": "python",
   "name": "ctn"
  },
  "language_info": {
   "codemirror_mode": {
    "name": "ipython",
    "version": 3
   },
   "file_extension": ".py",
   "mimetype": "text/x-python",
   "name": "python",
   "nbconvert_exporter": "python",
   "pygments_lexer": "ipython3",
   "version": "3.7.5"
  }
 },
 "nbformat": 4,
 "nbformat_minor": 2
}
