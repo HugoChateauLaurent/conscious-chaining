{
 "cells": [
  {
   "cell_type": "code",
   "execution_count": 1,
   "metadata": {},
   "outputs": [],
   "source": [
    "import nengo\n",
    "import nengo_spa as spa\n",
    "import pytry\n",
    "import numpy as np\n",
    "from random import shuffle\n",
    "import random\n",
    "import sys, os\n",
    "import math\n",
    "from IPython import display\n",
    "from scipy.optimize import brute, minimize\n",
    "from scipy.stats import sem\n",
    "import pandas as pd\n",
    "import matplotlib.pyplot as plt\n",
    "import matplotlib as mpl\n",
    "import matplotlib.style as style\n",
    "\n",
    "import os\n",
    "\n",
    "\n",
    "\n",
    "# Import our classes\n",
    "sys.path.append('..')\n",
    "import experiments as xps\n",
    "from experiments import create_xp\n",
    "from model import ExperimentRun, create_vocab\n",
    "from data import Data\n",
    "\n"
   ]
  },
  {
   "cell_type": "markdown",
   "metadata": {},
   "source": [
    "# Optimization and model parameters"
   ]
  },
  {
   "cell_type": "code",
   "execution_count": 2,
   "metadata": {},
   "outputs": [],
   "source": [
    "D = int(192)  # the dimensionality of the vectors\n",
    "PROC_FDBCK = .9\n",
    "PROC_FDBCK_SYN = .005\n",
    "GW_FDBCK = 1\n",
    "GW_SCALE = 2 # scale the input of GW for saturation and catching very short visual stimuli\n",
    "BG_THR = .1\n",
    "BG_BIAS = .5\n",
    "STIM_DURATION = .1\n",
    "FIX_DURATION = .5\n",
    "N_NEURONS_SCALE = 1\n",
    "N_SEEDS = 20\n",
    "STARTING_SEED = 1\n",
    "\n",
    "N_BLOCKS_PER_OPERATION = 1 # default: 10\n",
    "N_TRIALS_PER_DIGIT = 2 # default: 5\n",
    "N_DIFFERENT_DIGITS = 4 # default: 4\n",
    "N_DIFFERENT_OPERATIONS = 3 # default: 3\n"
   ]
  },
  {
   "cell_type": "code",
   "execution_count": 3,
   "metadata": {},
   "outputs": [
    {
     "name": "stdout",
     "output_type": "stream",
     "text": [
      "params: [1.]\n",
      "Simulating...\n",
      "\t seed 1/20\n",
      "running run_seed1_dim16\n"
     ]
    },
    {
     "name": "stderr",
     "output_type": "stream",
     "text": [
      "/home/ubuntu/anaconda3/envs/CTN/lib/python3.7/site-packages/nengo_spa/vocabulary.py:173: UserWarning: Could not create a semantic pointer with max_similarity=0.10 (D=16, M=7, similarity=0.13)\n",
      "  len(self._key2idx), best_sim))\n",
      "/home/ubuntu/anaconda3/envs/CTN/lib/python3.7/site-packages/nengo_spa/vocabulary.py:173: UserWarning: Could not create a semantic pointer with max_similarity=0.10 (D=16, M=8, similarity=0.12)\n",
      "  len(self._key2idx), best_sim))\n",
      "/home/ubuntu/anaconda3/envs/CTN/lib/python3.7/site-packages/nengo_spa/vocabulary.py:173: UserWarning: Could not create a semantic pointer with max_similarity=0.10 (D=16, M=10, similarity=0.16)\n",
      "  len(self._key2idx), best_sim))\n",
      "/home/ubuntu/anaconda3/envs/CTN/lib/python3.7/site-packages/nengo_spa/vocabulary.py:173: UserWarning: Could not create a semantic pointer with max_similarity=0.10 (D=16, M=11, similarity=0.18)\n",
      "  len(self._key2idx), best_sim))\n",
      "/home/ubuntu/anaconda3/envs/CTN/lib/python3.7/site-packages/nengo_spa/vocabulary.py:173: UserWarning: Could not create a semantic pointer with max_similarity=0.10 (D=16, M=12, similarity=0.15)\n",
      "  len(self._key2idx), best_sim))\n",
      "/home/ubuntu/anaconda3/envs/CTN/lib/python3.7/site-packages/nengo_spa/vocabulary.py:173: UserWarning: Could not create a semantic pointer with max_similarity=0.10 (D=16, M=13, similarity=0.21)\n",
      "  len(self._key2idx), best_sim))\n",
      "/home/ubuntu/anaconda3/envs/CTN/lib/python3.7/site-packages/nengo_spa/vocabulary.py:173: UserWarning: Could not create a semantic pointer with max_similarity=0.10 (D=16, M=14, similarity=0.18)\n",
      "  len(self._key2idx), best_sim))\n",
      "/home/ubuntu/anaconda3/envs/CTN/lib/python3.7/site-packages/nengo_spa/vocabulary.py:173: UserWarning: Could not create a semantic pointer with max_similarity=0.10 (D=16, M=15, similarity=0.21)\n",
      "  len(self._key2idx), best_sim))\n",
      "/home/ubuntu/anaconda3/envs/CTN/lib/python3.7/site-packages/nengo_spa/vocabulary.py:173: UserWarning: Could not create a semantic pointer with max_similarity=0.10 (D=16, M=16, similarity=0.25)\n",
      "  len(self._key2idx), best_sim))\n",
      "/home/ubuntu/anaconda3/envs/CTN/lib/python3.7/site-packages/nengo_spa/vocabulary.py:173: UserWarning: Could not create a semantic pointer with max_similarity=0.10 (D=16, M=17, similarity=0.24)\n",
      "  len(self._key2idx), best_sim))\n",
      "/home/ubuntu/anaconda3/envs/CTN/lib/python3.7/site-packages/nengo_spa/vocabulary.py:173: UserWarning: Could not create a semantic pointer with max_similarity=0.10 (D=16, M=18, similarity=0.26)\n",
      "  len(self._key2idx), best_sim))\n",
      "/home/ubuntu/anaconda3/envs/CTN/lib/python3.7/site-packages/nengo_spa/vocabulary.py:173: UserWarning: Could not create a semantic pointer with max_similarity=0.10 (D=16, M=19, similarity=0.23)\n",
      "  len(self._key2idx), best_sim))\n",
      "/home/ubuntu/anaconda3/envs/CTN/lib/python3.7/site-packages/nengo_spa/vocabulary.py:173: UserWarning: Could not create a semantic pointer with max_similarity=0.10 (D=16, M=20, similarity=0.26)\n",
      "  len(self._key2idx), best_sim))\n",
      "/home/ubuntu/anaconda3/envs/CTN/lib/python3.7/site-packages/nengo_spa/vocabulary.py:173: UserWarning: Could not create a semantic pointer with max_similarity=0.10 (D=16, M=21, similarity=0.26)\n",
      "  len(self._key2idx), best_sim))\n"
     ]
    },
    {
     "name": "stdout",
     "output_type": "stream",
     "text": [
      "No context argument was provided to nengo_ocl.Simulator\n",
      "Calling pyopencl.create_some_context() for you now:\n"
     ]
    },
    {
     "data": {
      "text/html": [
       "\n",
       "                <div id=\"a5229e3d-14d7-4900-9f25-40624944e8ec\" style=\"\n",
       "                    width: 100%;\n",
       "                    border: 1px solid #cfcfcf;\n",
       "                    border-radius: 4px;\n",
       "                    text-align: center;\n",
       "                    position: relative;\">\n",
       "                  <div class=\"pb-text\" style=\"\n",
       "                      position: absolute;\n",
       "                      width: 100%;\">\n",
       "                    0%\n",
       "                  </div>\n",
       "                  <div class=\"pb-fill\" style=\"\n",
       "                      background-color: #bdd2e6;\n",
       "                      width: 0%;\">\n",
       "                    <style type=\"text/css\" scoped=\"scoped\">\n",
       "                        @keyframes pb-fill-anim {\n",
       "                            0% { background-position: 0 0; }\n",
       "                            100% { background-position: 100px 0; }\n",
       "                        }\n",
       "                    </style>\n",
       "                    &nbsp;\n",
       "                  </div>\n",
       "                </div>"
      ],
      "text/plain": [
       "HtmlProgressBar cannot be displayed. Please use the TerminalProgressBar. It can be enabled with `nengo.rc.set('progress', 'progress_bar', 'nengo.utils.progress.TerminalProgressBar')`."
      ]
     },
     "metadata": {},
     "output_type": "display_data"
    },
    {
     "data": {
      "application/javascript": [
       "\n",
       "              (function () {\n",
       "                  var root = document.getElementById('a5229e3d-14d7-4900-9f25-40624944e8ec');\n",
       "                  var text = root.getElementsByClassName('pb-text')[0];\n",
       "                  var fill = root.getElementsByClassName('pb-fill')[0];\n",
       "\n",
       "                  text.innerHTML = 'Simulation finished in 0:01:49.';\n",
       "                  \n",
       "            if (100.0 > 0.) {\n",
       "                fill.style.transition = 'width 0.1s linear';\n",
       "            } else {\n",
       "                fill.style.transition = 'none';\n",
       "            }\n",
       "\n",
       "            fill.style.width = '100.0%';\n",
       "            fill.style.animation = 'none';\n",
       "            fill.style.backgroundImage = 'none'\n",
       "        \n",
       "                  \n",
       "                fill.style.animation = 'none';\n",
       "                fill.style.backgroundImage = 'none';\n",
       "            \n",
       "              })();\n",
       "        "
      ],
      "text/plain": [
       "<IPython.core.display.Javascript object>"
      ]
     },
     "metadata": {},
     "output_type": "display_data"
    },
    {
     "name": "stdout",
     "output_type": "stream",
     "text": [
      "seed = 1\n",
      "backend = 'nengo_ocl'\n",
      "dt = 0.001\n",
      "neuron_type = 'default'\n",
      "n_neurons_scale = 1\n",
      "s_crosstalk = 0\n",
      "s_evidence = None\n",
      "t_senso = 0\n",
      "vocab = <nengo_spa.vocabulary.Vocabulary object at 0x7fe8e32fec10>\n",
      "xp = <experiments.Xp1 object at 0x7fe8e1e474d0>\n",
      "proc_feedback = 0.9\n",
      "proc_feedback_synapse = 0.005\n",
      "GW_feedback = 1\n",
      "GW_threshold = 0.5\n",
      "GW_scale = 2\n",
      "BG_thr = 0.1\n",
      "BG_bias = 0.5\n",
      "integrator_reset = True\n",
      "data = <data.Data object at 0x7fe8e0711f90>\n",
      "\t seed 2/20\n",
      "running run_seed2_dim16\n"
     ]
    },
    {
     "name": "stderr",
     "output_type": "stream",
     "text": [
      "/home/ubuntu/anaconda3/envs/CTN/lib/python3.7/site-packages/nengo_spa/vocabulary.py:173: UserWarning: Could not create a semantic pointer with max_similarity=0.10 (D=16, M=9, similarity=0.10)\n",
      "  len(self._key2idx), best_sim))\n",
      "/home/ubuntu/anaconda3/envs/CTN/lib/python3.7/site-packages/nengo_spa/vocabulary.py:173: UserWarning: Could not create a semantic pointer with max_similarity=0.10 (D=16, M=10, similarity=0.22)\n",
      "  len(self._key2idx), best_sim))\n",
      "/home/ubuntu/anaconda3/envs/CTN/lib/python3.7/site-packages/nengo_spa/vocabulary.py:173: UserWarning: Could not create a semantic pointer with max_similarity=0.10 (D=16, M=11, similarity=0.13)\n",
      "  len(self._key2idx), best_sim))\n",
      "/home/ubuntu/anaconda3/envs/CTN/lib/python3.7/site-packages/nengo_spa/vocabulary.py:173: UserWarning: Could not create a semantic pointer with max_similarity=0.10 (D=16, M=12, similarity=0.17)\n",
      "  len(self._key2idx), best_sim))\n",
      "/home/ubuntu/anaconda3/envs/CTN/lib/python3.7/site-packages/nengo_spa/vocabulary.py:173: UserWarning: Could not create a semantic pointer with max_similarity=0.10 (D=16, M=13, similarity=0.22)\n",
      "  len(self._key2idx), best_sim))\n",
      "/home/ubuntu/anaconda3/envs/CTN/lib/python3.7/site-packages/nengo_spa/vocabulary.py:173: UserWarning: Could not create a semantic pointer with max_similarity=0.10 (D=16, M=14, similarity=0.13)\n",
      "  len(self._key2idx), best_sim))\n",
      "/home/ubuntu/anaconda3/envs/CTN/lib/python3.7/site-packages/nengo_spa/vocabulary.py:173: UserWarning: Could not create a semantic pointer with max_similarity=0.10 (D=16, M=15, similarity=0.26)\n",
      "  len(self._key2idx), best_sim))\n",
      "/home/ubuntu/anaconda3/envs/CTN/lib/python3.7/site-packages/nengo_spa/vocabulary.py:173: UserWarning: Could not create a semantic pointer with max_similarity=0.10 (D=16, M=16, similarity=0.18)\n",
      "  len(self._key2idx), best_sim))\n",
      "/home/ubuntu/anaconda3/envs/CTN/lib/python3.7/site-packages/nengo_spa/vocabulary.py:173: UserWarning: Could not create a semantic pointer with max_similarity=0.10 (D=16, M=17, similarity=0.26)\n",
      "  len(self._key2idx), best_sim))\n",
      "/home/ubuntu/anaconda3/envs/CTN/lib/python3.7/site-packages/nengo_spa/vocabulary.py:173: UserWarning: Could not create a semantic pointer with max_similarity=0.10 (D=16, M=18, similarity=0.22)\n",
      "  len(self._key2idx), best_sim))\n",
      "/home/ubuntu/anaconda3/envs/CTN/lib/python3.7/site-packages/nengo_spa/vocabulary.py:173: UserWarning: Could not create a semantic pointer with max_similarity=0.10 (D=16, M=19, similarity=0.23)\n",
      "  len(self._key2idx), best_sim))\n",
      "/home/ubuntu/anaconda3/envs/CTN/lib/python3.7/site-packages/nengo_spa/vocabulary.py:173: UserWarning: Could not create a semantic pointer with max_similarity=0.10 (D=16, M=20, similarity=0.22)\n",
      "  len(self._key2idx), best_sim))\n",
      "/home/ubuntu/anaconda3/envs/CTN/lib/python3.7/site-packages/nengo_spa/vocabulary.py:173: UserWarning: Could not create a semantic pointer with max_similarity=0.10 (D=16, M=21, similarity=0.25)\n",
      "  len(self._key2idx), best_sim))\n"
     ]
    },
    {
     "data": {
      "text/html": [
       "\n",
       "                <div id=\"a713f698-beba-43aa-9c28-2b540ef1c07e\" style=\"\n",
       "                    width: 100%;\n",
       "                    border: 1px solid #cfcfcf;\n",
       "                    border-radius: 4px;\n",
       "                    text-align: center;\n",
       "                    position: relative;\">\n",
       "                  <div class=\"pb-text\" style=\"\n",
       "                      position: absolute;\n",
       "                      width: 100%;\">\n",
       "                    0%\n",
       "                  </div>\n",
       "                  <div class=\"pb-fill\" style=\"\n",
       "                      background-color: #bdd2e6;\n",
       "                      width: 0%;\">\n",
       "                    <style type=\"text/css\" scoped=\"scoped\">\n",
       "                        @keyframes pb-fill-anim {\n",
       "                            0% { background-position: 0 0; }\n",
       "                            100% { background-position: 100px 0; }\n",
       "                        }\n",
       "                    </style>\n",
       "                    &nbsp;\n",
       "                  </div>\n",
       "                </div>"
      ],
      "text/plain": [
       "HtmlProgressBar cannot be displayed. Please use the TerminalProgressBar. It can be enabled with `nengo.rc.set('progress', 'progress_bar', 'nengo.utils.progress.TerminalProgressBar')`."
      ]
     },
     "metadata": {},
     "output_type": "display_data"
    },
    {
     "data": {
      "application/javascript": [
       "\n",
       "              (function () {\n",
       "                  var root = document.getElementById('a713f698-beba-43aa-9c28-2b540ef1c07e');\n",
       "                  var text = root.getElementsByClassName('pb-text')[0];\n",
       "                  var fill = root.getElementsByClassName('pb-fill')[0];\n",
       "\n",
       "                  text.innerHTML = 'Simulation finished in 0:01:42.';\n",
       "                  \n",
       "            if (100.0 > 0.) {\n",
       "                fill.style.transition = 'width 0.1s linear';\n",
       "            } else {\n",
       "                fill.style.transition = 'none';\n",
       "            }\n",
       "\n",
       "            fill.style.width = '100.0%';\n",
       "            fill.style.animation = 'none';\n",
       "            fill.style.backgroundImage = 'none'\n",
       "        \n",
       "                  \n",
       "                fill.style.animation = 'none';\n",
       "                fill.style.backgroundImage = 'none';\n",
       "            \n",
       "              })();\n",
       "        "
      ],
      "text/plain": [
       "<IPython.core.display.Javascript object>"
      ]
     },
     "metadata": {},
     "output_type": "display_data"
    },
    {
     "name": "stdout",
     "output_type": "stream",
     "text": [
      "seed = 2\n",
      "backend = 'nengo_ocl'\n",
      "dt = 0.001\n",
      "neuron_type = 'default'\n",
      "n_neurons_scale = 1\n",
      "s_crosstalk = 0\n",
      "s_evidence = None\n",
      "t_senso = 0\n",
      "vocab = <nengo_spa.vocabulary.Vocabulary object at 0x7fe8a4049c50>\n",
      "xp = <experiments.Xp1 object at 0x7fe8e1e7ca50>\n",
      "proc_feedback = 0.9\n",
      "proc_feedback_synapse = 0.005\n",
      "GW_feedback = 1\n",
      "GW_threshold = 0.5\n",
      "GW_scale = 2\n",
      "BG_thr = 0.1\n",
      "BG_bias = 0.5\n",
      "integrator_reset = True\n",
      "data = <data.Data object at 0x7fe8a5144d50>\n",
      "\t seed 3/20\n",
      "running run_seed3_dim16\n"
     ]
    },
    {
     "name": "stderr",
     "output_type": "stream",
     "text": [
      "/home/ubuntu/anaconda3/envs/CTN/lib/python3.7/site-packages/nengo_spa/vocabulary.py:173: UserWarning: Could not create a semantic pointer with max_similarity=0.10 (D=16, M=8, similarity=0.13)\n",
      "  len(self._key2idx), best_sim))\n",
      "/home/ubuntu/anaconda3/envs/CTN/lib/python3.7/site-packages/nengo_spa/vocabulary.py:173: UserWarning: Could not create a semantic pointer with max_similarity=0.10 (D=16, M=9, similarity=0.20)\n",
      "  len(self._key2idx), best_sim))\n",
      "/home/ubuntu/anaconda3/envs/CTN/lib/python3.7/site-packages/nengo_spa/vocabulary.py:173: UserWarning: Could not create a semantic pointer with max_similarity=0.10 (D=16, M=10, similarity=0.16)\n",
      "  len(self._key2idx), best_sim))\n",
      "/home/ubuntu/anaconda3/envs/CTN/lib/python3.7/site-packages/nengo_spa/vocabulary.py:173: UserWarning: Could not create a semantic pointer with max_similarity=0.10 (D=16, M=12, similarity=0.21)\n",
      "  len(self._key2idx), best_sim))\n",
      "/home/ubuntu/anaconda3/envs/CTN/lib/python3.7/site-packages/nengo_spa/vocabulary.py:173: UserWarning: Could not create a semantic pointer with max_similarity=0.10 (D=16, M=13, similarity=0.16)\n",
      "  len(self._key2idx), best_sim))\n",
      "/home/ubuntu/anaconda3/envs/CTN/lib/python3.7/site-packages/nengo_spa/vocabulary.py:173: UserWarning: Could not create a semantic pointer with max_similarity=0.10 (D=16, M=14, similarity=0.23)\n",
      "  len(self._key2idx), best_sim))\n",
      "/home/ubuntu/anaconda3/envs/CTN/lib/python3.7/site-packages/nengo_spa/vocabulary.py:173: UserWarning: Could not create a semantic pointer with max_similarity=0.10 (D=16, M=15, similarity=0.27)\n",
      "  len(self._key2idx), best_sim))\n",
      "/home/ubuntu/anaconda3/envs/CTN/lib/python3.7/site-packages/nengo_spa/vocabulary.py:173: UserWarning: Could not create a semantic pointer with max_similarity=0.10 (D=16, M=16, similarity=0.22)\n",
      "  len(self._key2idx), best_sim))\n",
      "/home/ubuntu/anaconda3/envs/CTN/lib/python3.7/site-packages/nengo_spa/vocabulary.py:173: UserWarning: Could not create a semantic pointer with max_similarity=0.10 (D=16, M=17, similarity=0.24)\n",
      "  len(self._key2idx), best_sim))\n",
      "/home/ubuntu/anaconda3/envs/CTN/lib/python3.7/site-packages/nengo_spa/vocabulary.py:173: UserWarning: Could not create a semantic pointer with max_similarity=0.10 (D=16, M=18, similarity=0.23)\n",
      "  len(self._key2idx), best_sim))\n",
      "/home/ubuntu/anaconda3/envs/CTN/lib/python3.7/site-packages/nengo_spa/vocabulary.py:173: UserWarning: Could not create a semantic pointer with max_similarity=0.10 (D=16, M=19, similarity=0.25)\n",
      "  len(self._key2idx), best_sim))\n",
      "/home/ubuntu/anaconda3/envs/CTN/lib/python3.7/site-packages/nengo_spa/vocabulary.py:173: UserWarning: Could not create a semantic pointer with max_similarity=0.10 (D=16, M=20, similarity=0.24)\n",
      "  len(self._key2idx), best_sim))\n"
     ]
    },
    {
     "data": {
      "text/html": [
       "\n",
       "                <div id=\"62d93fd6-2138-4c67-9c2e-049d4daebb29\" style=\"\n",
       "                    width: 100%;\n",
       "                    border: 1px solid #cfcfcf;\n",
       "                    border-radius: 4px;\n",
       "                    text-align: center;\n",
       "                    position: relative;\">\n",
       "                  <div class=\"pb-text\" style=\"\n",
       "                      position: absolute;\n",
       "                      width: 100%;\">\n",
       "                    0%\n",
       "                  </div>\n",
       "                  <div class=\"pb-fill\" style=\"\n",
       "                      background-color: #bdd2e6;\n",
       "                      width: 0%;\">\n",
       "                    <style type=\"text/css\" scoped=\"scoped\">\n",
       "                        @keyframes pb-fill-anim {\n",
       "                            0% { background-position: 0 0; }\n",
       "                            100% { background-position: 100px 0; }\n",
       "                        }\n",
       "                    </style>\n",
       "                    &nbsp;\n",
       "                  </div>\n",
       "                </div>"
      ],
      "text/plain": [
       "HtmlProgressBar cannot be displayed. Please use the TerminalProgressBar. It can be enabled with `nengo.rc.set('progress', 'progress_bar', 'nengo.utils.progress.TerminalProgressBar')`."
      ]
     },
     "metadata": {},
     "output_type": "display_data"
    },
    {
     "data": {
      "application/javascript": [
       "\n",
       "              (function () {\n",
       "                  var root = document.getElementById('62d93fd6-2138-4c67-9c2e-049d4daebb29');\n",
       "                  var text = root.getElementsByClassName('pb-text')[0];\n",
       "                  var fill = root.getElementsByClassName('pb-fill')[0];\n",
       "\n",
       "                  text.innerHTML = 'Simulation finished in 0:01:38.';\n",
       "                  \n",
       "            if (100.0 > 0.) {\n",
       "                fill.style.transition = 'width 0.1s linear';\n",
       "            } else {\n",
       "                fill.style.transition = 'none';\n",
       "            }\n",
       "\n",
       "            fill.style.width = '100.0%';\n",
       "            fill.style.animation = 'none';\n",
       "            fill.style.backgroundImage = 'none'\n",
       "        \n",
       "                  \n",
       "                fill.style.animation = 'none';\n",
       "                fill.style.backgroundImage = 'none';\n",
       "            \n",
       "              })();\n",
       "        "
      ],
      "text/plain": [
       "<IPython.core.display.Javascript object>"
      ]
     },
     "metadata": {},
     "output_type": "display_data"
    },
    {
     "name": "stdout",
     "output_type": "stream",
     "text": [
      "seed = 3\n",
      "backend = 'nengo_ocl'\n",
      "dt = 0.001\n",
      "neuron_type = 'default'\n",
      "n_neurons_scale = 1\n",
      "s_crosstalk = 0\n",
      "s_evidence = None\n",
      "t_senso = 0\n",
      "vocab = <nengo_spa.vocabulary.Vocabulary object at 0x7fe8adecef50>\n",
      "xp = <experiments.Xp1 object at 0x7fe88873c150>\n",
      "proc_feedback = 0.9\n",
      "proc_feedback_synapse = 0.005\n",
      "GW_feedback = 1\n",
      "GW_threshold = 0.5\n",
      "GW_scale = 2\n",
      "BG_thr = 0.1\n",
      "BG_bias = 0.5\n",
      "integrator_reset = True\n",
      "data = <data.Data object at 0x7fe8aeb263d0>\n",
      "\t seed 4/20\n",
      "running run_seed4_dim16\n"
     ]
    },
    {
     "name": "stderr",
     "output_type": "stream",
     "text": [
      "/home/ubuntu/anaconda3/envs/CTN/lib/python3.7/site-packages/nengo_spa/vocabulary.py:173: UserWarning: Could not create a semantic pointer with max_similarity=0.10 (D=16, M=7, similarity=0.13)\n",
      "  len(self._key2idx), best_sim))\n",
      "/home/ubuntu/anaconda3/envs/CTN/lib/python3.7/site-packages/nengo_spa/vocabulary.py:173: UserWarning: Could not create a semantic pointer with max_similarity=0.10 (D=16, M=8, similarity=0.10)\n",
      "  len(self._key2idx), best_sim))\n",
      "/home/ubuntu/anaconda3/envs/CTN/lib/python3.7/site-packages/nengo_spa/vocabulary.py:173: UserWarning: Could not create a semantic pointer with max_similarity=0.10 (D=16, M=9, similarity=0.15)\n",
      "  len(self._key2idx), best_sim))\n",
      "/home/ubuntu/anaconda3/envs/CTN/lib/python3.7/site-packages/nengo_spa/vocabulary.py:173: UserWarning: Could not create a semantic pointer with max_similarity=0.10 (D=16, M=10, similarity=0.13)\n",
      "  len(self._key2idx), best_sim))\n",
      "/home/ubuntu/anaconda3/envs/CTN/lib/python3.7/site-packages/nengo_spa/vocabulary.py:173: UserWarning: Could not create a semantic pointer with max_similarity=0.10 (D=16, M=11, similarity=0.17)\n",
      "  len(self._key2idx), best_sim))\n",
      "/home/ubuntu/anaconda3/envs/CTN/lib/python3.7/site-packages/nengo_spa/vocabulary.py:173: UserWarning: Could not create a semantic pointer with max_similarity=0.10 (D=16, M=12, similarity=0.16)\n",
      "  len(self._key2idx), best_sim))\n",
      "/home/ubuntu/anaconda3/envs/CTN/lib/python3.7/site-packages/nengo_spa/vocabulary.py:173: UserWarning: Could not create a semantic pointer with max_similarity=0.10 (D=16, M=13, similarity=0.20)\n",
      "  len(self._key2idx), best_sim))\n",
      "/home/ubuntu/anaconda3/envs/CTN/lib/python3.7/site-packages/nengo_spa/vocabulary.py:173: UserWarning: Could not create a semantic pointer with max_similarity=0.10 (D=16, M=15, similarity=0.16)\n",
      "  len(self._key2idx), best_sim))\n",
      "/home/ubuntu/anaconda3/envs/CTN/lib/python3.7/site-packages/nengo_spa/vocabulary.py:173: UserWarning: Could not create a semantic pointer with max_similarity=0.10 (D=16, M=16, similarity=0.25)\n",
      "  len(self._key2idx), best_sim))\n",
      "/home/ubuntu/anaconda3/envs/CTN/lib/python3.7/site-packages/nengo_spa/vocabulary.py:173: UserWarning: Could not create a semantic pointer with max_similarity=0.10 (D=16, M=17, similarity=0.18)\n",
      "  len(self._key2idx), best_sim))\n",
      "/home/ubuntu/anaconda3/envs/CTN/lib/python3.7/site-packages/nengo_spa/vocabulary.py:173: UserWarning: Could not create a semantic pointer with max_similarity=0.10 (D=16, M=18, similarity=0.27)\n",
      "  len(self._key2idx), best_sim))\n",
      "/home/ubuntu/anaconda3/envs/CTN/lib/python3.7/site-packages/nengo_spa/vocabulary.py:173: UserWarning: Could not create a semantic pointer with max_similarity=0.10 (D=16, M=19, similarity=0.21)\n",
      "  len(self._key2idx), best_sim))\n",
      "/home/ubuntu/anaconda3/envs/CTN/lib/python3.7/site-packages/nengo_spa/vocabulary.py:173: UserWarning: Could not create a semantic pointer with max_similarity=0.10 (D=16, M=20, similarity=0.23)\n",
      "  len(self._key2idx), best_sim))\n",
      "/home/ubuntu/anaconda3/envs/CTN/lib/python3.7/site-packages/nengo_spa/vocabulary.py:173: UserWarning: Could not create a semantic pointer with max_similarity=0.10 (D=16, M=21, similarity=0.27)\n",
      "  len(self._key2idx), best_sim))\n"
     ]
    },
    {
     "data": {
      "text/html": [
       "\n",
       "                <div id=\"4293834d-53f4-48b2-8ec0-6868436585aa\" style=\"\n",
       "                    width: 100%;\n",
       "                    border: 1px solid #cfcfcf;\n",
       "                    border-radius: 4px;\n",
       "                    text-align: center;\n",
       "                    position: relative;\">\n",
       "                  <div class=\"pb-text\" style=\"\n",
       "                      position: absolute;\n",
       "                      width: 100%;\">\n",
       "                    0%\n",
       "                  </div>\n",
       "                  <div class=\"pb-fill\" style=\"\n",
       "                      background-color: #bdd2e6;\n",
       "                      width: 0%;\">\n",
       "                    <style type=\"text/css\" scoped=\"scoped\">\n",
       "                        @keyframes pb-fill-anim {\n",
       "                            0% { background-position: 0 0; }\n",
       "                            100% { background-position: 100px 0; }\n",
       "                        }\n",
       "                    </style>\n",
       "                    &nbsp;\n",
       "                  </div>\n",
       "                </div>"
      ],
      "text/plain": [
       "HtmlProgressBar cannot be displayed. Please use the TerminalProgressBar. It can be enabled with `nengo.rc.set('progress', 'progress_bar', 'nengo.utils.progress.TerminalProgressBar')`."
      ]
     },
     "metadata": {},
     "output_type": "display_data"
    },
    {
     "data": {
      "application/javascript": [
       "\n",
       "              (function () {\n",
       "                  var root = document.getElementById('4293834d-53f4-48b2-8ec0-6868436585aa');\n",
       "                  var text = root.getElementsByClassName('pb-text')[0];\n",
       "                  var fill = root.getElementsByClassName('pb-fill')[0];\n",
       "\n",
       "                  text.innerHTML = 'Simulation finished in 0:01:38.';\n",
       "                  \n",
       "            if (100.0 > 0.) {\n",
       "                fill.style.transition = 'width 0.1s linear';\n",
       "            } else {\n",
       "                fill.style.transition = 'none';\n",
       "            }\n",
       "\n",
       "            fill.style.width = '100.0%';\n",
       "            fill.style.animation = 'none';\n",
       "            fill.style.backgroundImage = 'none'\n",
       "        \n",
       "                  \n",
       "                fill.style.animation = 'none';\n",
       "                fill.style.backgroundImage = 'none';\n",
       "            \n",
       "              })();\n",
       "        "
      ],
      "text/plain": [
       "<IPython.core.display.Javascript object>"
      ]
     },
     "metadata": {},
     "output_type": "display_data"
    },
    {
     "name": "stdout",
     "output_type": "stream",
     "text": [
      "seed = 4\n",
      "backend = 'nengo_ocl'\n",
      "dt = 0.001\n",
      "neuron_type = 'default'\n",
      "n_neurons_scale = 1\n",
      "s_crosstalk = 0\n",
      "s_evidence = None\n",
      "t_senso = 0\n",
      "vocab = <nengo_spa.vocabulary.Vocabulary object at 0x7fe8e19d5e50>\n",
      "xp = <experiments.Xp1 object at 0x7fe8aeb0ae10>\n",
      "proc_feedback = 0.9\n",
      "proc_feedback_synapse = 0.005\n",
      "GW_feedback = 1\n",
      "GW_threshold = 0.5\n",
      "GW_scale = 2\n",
      "BG_thr = 0.1\n",
      "BG_bias = 0.5\n",
      "integrator_reset = True\n",
      "data = <data.Data object at 0x7fe8898e0b90>\n",
      "\t seed 5/20\n",
      "running run_seed5_dim16\n"
     ]
    },
    {
     "name": "stderr",
     "output_type": "stream",
     "text": [
      "/home/ubuntu/anaconda3/envs/CTN/lib/python3.7/site-packages/nengo_spa/vocabulary.py:173: UserWarning: Could not create a semantic pointer with max_similarity=0.10 (D=16, M=9, similarity=0.17)\n",
      "  len(self._key2idx), best_sim))\n",
      "/home/ubuntu/anaconda3/envs/CTN/lib/python3.7/site-packages/nengo_spa/vocabulary.py:173: UserWarning: Could not create a semantic pointer with max_similarity=0.10 (D=16, M=11, similarity=0.19)\n",
      "  len(self._key2idx), best_sim))\n",
      "/home/ubuntu/anaconda3/envs/CTN/lib/python3.7/site-packages/nengo_spa/vocabulary.py:173: UserWarning: Could not create a semantic pointer with max_similarity=0.10 (D=16, M=12, similarity=0.20)\n",
      "  len(self._key2idx), best_sim))\n",
      "/home/ubuntu/anaconda3/envs/CTN/lib/python3.7/site-packages/nengo_spa/vocabulary.py:173: UserWarning: Could not create a semantic pointer with max_similarity=0.10 (D=16, M=13, similarity=0.23)\n",
      "  len(self._key2idx), best_sim))\n",
      "/home/ubuntu/anaconda3/envs/CTN/lib/python3.7/site-packages/nengo_spa/vocabulary.py:173: UserWarning: Could not create a semantic pointer with max_similarity=0.10 (D=16, M=14, similarity=0.17)\n",
      "  len(self._key2idx), best_sim))\n",
      "/home/ubuntu/anaconda3/envs/CTN/lib/python3.7/site-packages/nengo_spa/vocabulary.py:173: UserWarning: Could not create a semantic pointer with max_similarity=0.10 (D=16, M=15, similarity=0.20)\n",
      "  len(self._key2idx), best_sim))\n",
      "/home/ubuntu/anaconda3/envs/CTN/lib/python3.7/site-packages/nengo_spa/vocabulary.py:173: UserWarning: Could not create a semantic pointer with max_similarity=0.10 (D=16, M=17, similarity=0.28)\n",
      "  len(self._key2idx), best_sim))\n",
      "/home/ubuntu/anaconda3/envs/CTN/lib/python3.7/site-packages/nengo_spa/vocabulary.py:173: UserWarning: Could not create a semantic pointer with max_similarity=0.10 (D=16, M=18, similarity=0.18)\n",
      "  len(self._key2idx), best_sim))\n",
      "/home/ubuntu/anaconda3/envs/CTN/lib/python3.7/site-packages/nengo_spa/vocabulary.py:173: UserWarning: Could not create a semantic pointer with max_similarity=0.10 (D=16, M=21, similarity=0.23)\n",
      "  len(self._key2idx), best_sim))\n"
     ]
    },
    {
     "data": {
      "text/html": [
       "\n",
       "                <div id=\"4d9a2f00-a252-4b7a-90fa-e3eaa06f0f3d\" style=\"\n",
       "                    width: 100%;\n",
       "                    border: 1px solid #cfcfcf;\n",
       "                    border-radius: 4px;\n",
       "                    text-align: center;\n",
       "                    position: relative;\">\n",
       "                  <div class=\"pb-text\" style=\"\n",
       "                      position: absolute;\n",
       "                      width: 100%;\">\n",
       "                    0%\n",
       "                  </div>\n",
       "                  <div class=\"pb-fill\" style=\"\n",
       "                      background-color: #bdd2e6;\n",
       "                      width: 0%;\">\n",
       "                    <style type=\"text/css\" scoped=\"scoped\">\n",
       "                        @keyframes pb-fill-anim {\n",
       "                            0% { background-position: 0 0; }\n",
       "                            100% { background-position: 100px 0; }\n",
       "                        }\n",
       "                    </style>\n",
       "                    &nbsp;\n",
       "                  </div>\n",
       "                </div>"
      ],
      "text/plain": [
       "HtmlProgressBar cannot be displayed. Please use the TerminalProgressBar. It can be enabled with `nengo.rc.set('progress', 'progress_bar', 'nengo.utils.progress.TerminalProgressBar')`."
      ]
     },
     "metadata": {},
     "output_type": "display_data"
    },
    {
     "data": {
      "application/javascript": [
       "\n",
       "              (function () {\n",
       "                  var root = document.getElementById('4d9a2f00-a252-4b7a-90fa-e3eaa06f0f3d');\n",
       "                  var text = root.getElementsByClassName('pb-text')[0];\n",
       "                  var fill = root.getElementsByClassName('pb-fill')[0];\n",
       "\n",
       "                  text.innerHTML = 'Simulation finished in 0:01:36.';\n",
       "                  \n",
       "            if (100.0 > 0.) {\n",
       "                fill.style.transition = 'width 0.1s linear';\n",
       "            } else {\n",
       "                fill.style.transition = 'none';\n",
       "            }\n",
       "\n",
       "            fill.style.width = '100.0%';\n",
       "            fill.style.animation = 'none';\n",
       "            fill.style.backgroundImage = 'none'\n",
       "        \n",
       "                  \n",
       "                fill.style.animation = 'none';\n",
       "                fill.style.backgroundImage = 'none';\n",
       "            \n",
       "              })();\n",
       "        "
      ],
      "text/plain": [
       "<IPython.core.display.Javascript object>"
      ]
     },
     "metadata": {},
     "output_type": "display_data"
    },
    {
     "name": "stdout",
     "output_type": "stream",
     "text": [
      "seed = 5\n",
      "backend = 'nengo_ocl'\n",
      "dt = 0.001\n",
      "neuron_type = 'default'\n",
      "n_neurons_scale = 1\n",
      "s_crosstalk = 0\n",
      "s_evidence = None\n",
      "t_senso = 0\n",
      "vocab = <nengo_spa.vocabulary.Vocabulary object at 0x7fe8a7426510>\n",
      "xp = <experiments.Xp1 object at 0x7fe8e1874650>\n",
      "proc_feedback = 0.9\n",
      "proc_feedback_synapse = 0.005\n",
      "GW_feedback = 1\n",
      "GW_threshold = 0.5\n",
      "GW_scale = 2\n",
      "BG_thr = 0.1\n",
      "BG_bias = 0.5\n",
      "integrator_reset = True\n",
      "data = <data.Data object at 0x7fe8e17d81d0>\n",
      "\t seed 6/20\n",
      "running run_seed6_dim16\n"
     ]
    },
    {
     "name": "stderr",
     "output_type": "stream",
     "text": [
      "/home/ubuntu/anaconda3/envs/CTN/lib/python3.7/site-packages/nengo_spa/vocabulary.py:173: UserWarning: Could not create a semantic pointer with max_similarity=0.10 (D=16, M=9, similarity=0.16)\n",
      "  len(self._key2idx), best_sim))\n",
      "/home/ubuntu/anaconda3/envs/CTN/lib/python3.7/site-packages/nengo_spa/vocabulary.py:173: UserWarning: Could not create a semantic pointer with max_similarity=0.10 (D=16, M=12, similarity=0.19)\n",
      "  len(self._key2idx), best_sim))\n",
      "/home/ubuntu/anaconda3/envs/CTN/lib/python3.7/site-packages/nengo_spa/vocabulary.py:173: UserWarning: Could not create a semantic pointer with max_similarity=0.10 (D=16, M=13, similarity=0.14)\n",
      "  len(self._key2idx), best_sim))\n",
      "/home/ubuntu/anaconda3/envs/CTN/lib/python3.7/site-packages/nengo_spa/vocabulary.py:173: UserWarning: Could not create a semantic pointer with max_similarity=0.10 (D=16, M=17, similarity=0.27)\n",
      "  len(self._key2idx), best_sim))\n",
      "/home/ubuntu/anaconda3/envs/CTN/lib/python3.7/site-packages/nengo_spa/vocabulary.py:173: UserWarning: Could not create a semantic pointer with max_similarity=0.10 (D=16, M=20, similarity=0.27)\n",
      "  len(self._key2idx), best_sim))\n",
      "/home/ubuntu/anaconda3/envs/CTN/lib/python3.7/site-packages/nengo_spa/vocabulary.py:173: UserWarning: Could not create a semantic pointer with max_similarity=0.10 (D=16, M=21, similarity=0.24)\n",
      "  len(self._key2idx), best_sim))\n"
     ]
    },
    {
     "data": {
      "text/html": [
       "\n",
       "                <div id=\"6bc0b54c-9062-4100-bca7-0ab19d670cbf\" style=\"\n",
       "                    width: 100%;\n",
       "                    border: 1px solid #cfcfcf;\n",
       "                    border-radius: 4px;\n",
       "                    text-align: center;\n",
       "                    position: relative;\">\n",
       "                  <div class=\"pb-text\" style=\"\n",
       "                      position: absolute;\n",
       "                      width: 100%;\">\n",
       "                    0%\n",
       "                  </div>\n",
       "                  <div class=\"pb-fill\" style=\"\n",
       "                      background-color: #bdd2e6;\n",
       "                      width: 0%;\">\n",
       "                    <style type=\"text/css\" scoped=\"scoped\">\n",
       "                        @keyframes pb-fill-anim {\n",
       "                            0% { background-position: 0 0; }\n",
       "                            100% { background-position: 100px 0; }\n",
       "                        }\n",
       "                    </style>\n",
       "                    &nbsp;\n",
       "                  </div>\n",
       "                </div>"
      ],
      "text/plain": [
       "HtmlProgressBar cannot be displayed. Please use the TerminalProgressBar. It can be enabled with `nengo.rc.set('progress', 'progress_bar', 'nengo.utils.progress.TerminalProgressBar')`."
      ]
     },
     "metadata": {},
     "output_type": "display_data"
    },
    {
     "data": {
      "application/javascript": [
       "\n",
       "              (function () {\n",
       "                  var root = document.getElementById('6bc0b54c-9062-4100-bca7-0ab19d670cbf');\n",
       "                  var text = root.getElementsByClassName('pb-text')[0];\n",
       "                  var fill = root.getElementsByClassName('pb-fill')[0];\n",
       "\n",
       "                  text.innerHTML = 'Simulation finished in 0:01:37.';\n",
       "                  \n",
       "            if (100.0 > 0.) {\n",
       "                fill.style.transition = 'width 0.1s linear';\n",
       "            } else {\n",
       "                fill.style.transition = 'none';\n",
       "            }\n",
       "\n",
       "            fill.style.width = '100.0%';\n",
       "            fill.style.animation = 'none';\n",
       "            fill.style.backgroundImage = 'none'\n",
       "        \n",
       "                  \n",
       "                fill.style.animation = 'none';\n",
       "                fill.style.backgroundImage = 'none';\n",
       "            \n",
       "              })();\n",
       "        "
      ],
      "text/plain": [
       "<IPython.core.display.Javascript object>"
      ]
     },
     "metadata": {},
     "output_type": "display_data"
    },
    {
     "name": "stdout",
     "output_type": "stream",
     "text": [
      "seed = 6\n",
      "backend = 'nengo_ocl'\n",
      "dt = 0.001\n",
      "neuron_type = 'default'\n",
      "n_neurons_scale = 1\n",
      "s_crosstalk = 0\n",
      "s_evidence = None\n",
      "t_senso = 0\n",
      "vocab = <nengo_spa.vocabulary.Vocabulary object at 0x7fe8aeb26d50>\n",
      "xp = <experiments.Xp1 object at 0x7fe8a7426f10>\n",
      "proc_feedback = 0.9\n",
      "proc_feedback_synapse = 0.005\n",
      "GW_feedback = 1\n",
      "GW_threshold = 0.5\n",
      "GW_scale = 2\n",
      "BG_thr = 0.1\n",
      "BG_bias = 0.5\n",
      "integrator_reset = True\n",
      "data = <data.Data object at 0x7fe8e154e250>\n",
      "\t seed 7/20\n",
      "running run_seed7_dim16\n"
     ]
    },
    {
     "name": "stderr",
     "output_type": "stream",
     "text": [
      "/home/ubuntu/anaconda3/envs/CTN/lib/python3.7/site-packages/nengo_spa/vocabulary.py:173: UserWarning: Could not create a semantic pointer with max_similarity=0.10 (D=16, M=10, similarity=0.17)\n",
      "  len(self._key2idx), best_sim))\n",
      "/home/ubuntu/anaconda3/envs/CTN/lib/python3.7/site-packages/nengo_spa/vocabulary.py:173: UserWarning: Could not create a semantic pointer with max_similarity=0.10 (D=16, M=11, similarity=0.18)\n",
      "  len(self._key2idx), best_sim))\n",
      "/home/ubuntu/anaconda3/envs/CTN/lib/python3.7/site-packages/nengo_spa/vocabulary.py:173: UserWarning: Could not create a semantic pointer with max_similarity=0.10 (D=16, M=14, similarity=0.16)\n",
      "  len(self._key2idx), best_sim))\n",
      "/home/ubuntu/anaconda3/envs/CTN/lib/python3.7/site-packages/nengo_spa/vocabulary.py:173: UserWarning: Could not create a semantic pointer with max_similarity=0.10 (D=16, M=15, similarity=0.22)\n",
      "  len(self._key2idx), best_sim))\n",
      "/home/ubuntu/anaconda3/envs/CTN/lib/python3.7/site-packages/nengo_spa/vocabulary.py:173: UserWarning: Could not create a semantic pointer with max_similarity=0.10 (D=16, M=16, similarity=0.20)\n",
      "  len(self._key2idx), best_sim))\n",
      "/home/ubuntu/anaconda3/envs/CTN/lib/python3.7/site-packages/nengo_spa/vocabulary.py:173: UserWarning: Could not create a semantic pointer with max_similarity=0.10 (D=16, M=19, similarity=0.26)\n",
      "  len(self._key2idx), best_sim))\n",
      "/home/ubuntu/anaconda3/envs/CTN/lib/python3.7/site-packages/nengo_spa/vocabulary.py:173: UserWarning: Could not create a semantic pointer with max_similarity=0.10 (D=16, M=21, similarity=0.28)\n",
      "  len(self._key2idx), best_sim))\n",
      "/home/ubuntu/anaconda3/envs/CTN/lib/python3.7/site-packages/nengo/cache.py:447: UserWarning: Decoder cache index could not acquire lock. Cache index was not synced.\n",
      "  \"Decoder cache index could not acquire lock. \"\n"
     ]
    },
    {
     "data": {
      "text/html": [
       "\n",
       "                <div id=\"4c59a4b5-8999-4ff0-b53d-7323a7af428b\" style=\"\n",
       "                    width: 100%;\n",
       "                    border: 1px solid #cfcfcf;\n",
       "                    border-radius: 4px;\n",
       "                    text-align: center;\n",
       "                    position: relative;\">\n",
       "                  <div class=\"pb-text\" style=\"\n",
       "                      position: absolute;\n",
       "                      width: 100%;\">\n",
       "                    0%\n",
       "                  </div>\n",
       "                  <div class=\"pb-fill\" style=\"\n",
       "                      background-color: #bdd2e6;\n",
       "                      width: 0%;\">\n",
       "                    <style type=\"text/css\" scoped=\"scoped\">\n",
       "                        @keyframes pb-fill-anim {\n",
       "                            0% { background-position: 0 0; }\n",
       "                            100% { background-position: 100px 0; }\n",
       "                        }\n",
       "                    </style>\n",
       "                    &nbsp;\n",
       "                  </div>\n",
       "                </div>"
      ],
      "text/plain": [
       "HtmlProgressBar cannot be displayed. Please use the TerminalProgressBar. It can be enabled with `nengo.rc.set('progress', 'progress_bar', 'nengo.utils.progress.TerminalProgressBar')`."
      ]
     },
     "metadata": {},
     "output_type": "display_data"
    },
    {
     "data": {
      "application/javascript": [
       "\n",
       "              (function () {\n",
       "                  var root = document.getElementById('4c59a4b5-8999-4ff0-b53d-7323a7af428b');\n",
       "                  var text = root.getElementsByClassName('pb-text')[0];\n",
       "                  var fill = root.getElementsByClassName('pb-fill')[0];\n",
       "\n",
       "                  text.innerHTML = 'Simulation finished in 0:01:39.';\n",
       "                  \n",
       "            if (100.0 > 0.) {\n",
       "                fill.style.transition = 'width 0.1s linear';\n",
       "            } else {\n",
       "                fill.style.transition = 'none';\n",
       "            }\n",
       "\n",
       "            fill.style.width = '100.0%';\n",
       "            fill.style.animation = 'none';\n",
       "            fill.style.backgroundImage = 'none'\n",
       "        \n",
       "                  \n",
       "                fill.style.animation = 'none';\n",
       "                fill.style.backgroundImage = 'none';\n",
       "            \n",
       "              })();\n",
       "        "
      ],
      "text/plain": [
       "<IPython.core.display.Javascript object>"
      ]
     },
     "metadata": {},
     "output_type": "display_data"
    },
    {
     "name": "stdout",
     "output_type": "stream",
     "text": [
      "seed = 7\n",
      "backend = 'nengo_ocl'\n",
      "dt = 0.001\n",
      "neuron_type = 'default'\n",
      "n_neurons_scale = 1\n",
      "s_crosstalk = 0\n",
      "s_evidence = None\n",
      "t_senso = 0\n",
      "vocab = <nengo_spa.vocabulary.Vocabulary object at 0x7fe8a4a30ad0>\n",
      "xp = <experiments.Xp1 object at 0x7fe8a73b6890>\n",
      "proc_feedback = 0.9\n",
      "proc_feedback_synapse = 0.005\n",
      "GW_feedback = 1\n",
      "GW_threshold = 0.5\n",
      "GW_scale = 2\n",
      "BG_thr = 0.1\n",
      "BG_bias = 0.5\n",
      "integrator_reset = True\n",
      "data = <data.Data object at 0x7fe8e16cd510>\n",
      "\t seed 8/20\n",
      "running run_seed8_dim16\n"
     ]
    },
    {
     "name": "stderr",
     "output_type": "stream",
     "text": [
      "/home/ubuntu/anaconda3/envs/CTN/lib/python3.7/site-packages/nengo_spa/vocabulary.py:173: UserWarning: Could not create a semantic pointer with max_similarity=0.10 (D=16, M=9, similarity=0.12)\n",
      "  len(self._key2idx), best_sim))\n",
      "/home/ubuntu/anaconda3/envs/CTN/lib/python3.7/site-packages/nengo_spa/vocabulary.py:173: UserWarning: Could not create a semantic pointer with max_similarity=0.10 (D=16, M=10, similarity=0.21)\n",
      "  len(self._key2idx), best_sim))\n",
      "/home/ubuntu/anaconda3/envs/CTN/lib/python3.7/site-packages/nengo_spa/vocabulary.py:173: UserWarning: Could not create a semantic pointer with max_similarity=0.10 (D=16, M=12, similarity=0.23)\n",
      "  len(self._key2idx), best_sim))\n",
      "/home/ubuntu/anaconda3/envs/CTN/lib/python3.7/site-packages/nengo_spa/vocabulary.py:173: UserWarning: Could not create a semantic pointer with max_similarity=0.10 (D=16, M=14, similarity=0.19)\n",
      "  len(self._key2idx), best_sim))\n",
      "/home/ubuntu/anaconda3/envs/CTN/lib/python3.7/site-packages/nengo_spa/vocabulary.py:173: UserWarning: Could not create a semantic pointer with max_similarity=0.10 (D=16, M=15, similarity=0.25)\n",
      "  len(self._key2idx), best_sim))\n",
      "/home/ubuntu/anaconda3/envs/CTN/lib/python3.7/site-packages/nengo_spa/vocabulary.py:173: UserWarning: Could not create a semantic pointer with max_similarity=0.10 (D=16, M=16, similarity=0.23)\n",
      "  len(self._key2idx), best_sim))\n",
      "/home/ubuntu/anaconda3/envs/CTN/lib/python3.7/site-packages/nengo_spa/vocabulary.py:173: UserWarning: Could not create a semantic pointer with max_similarity=0.10 (D=16, M=17, similarity=0.21)\n",
      "  len(self._key2idx), best_sim))\n",
      "/home/ubuntu/anaconda3/envs/CTN/lib/python3.7/site-packages/nengo_spa/vocabulary.py:173: UserWarning: Could not create a semantic pointer with max_similarity=0.10 (D=16, M=18, similarity=0.24)\n",
      "  len(self._key2idx), best_sim))\n",
      "/home/ubuntu/anaconda3/envs/CTN/lib/python3.7/site-packages/nengo_spa/vocabulary.py:173: UserWarning: Could not create a semantic pointer with max_similarity=0.10 (D=16, M=19, similarity=0.24)\n",
      "  len(self._key2idx), best_sim))\n",
      "/home/ubuntu/anaconda3/envs/CTN/lib/python3.7/site-packages/nengo_spa/vocabulary.py:173: UserWarning: Could not create a semantic pointer with max_similarity=0.10 (D=16, M=20, similarity=0.26)\n",
      "  len(self._key2idx), best_sim))\n",
      "/home/ubuntu/anaconda3/envs/CTN/lib/python3.7/site-packages/nengo_spa/vocabulary.py:173: UserWarning: Could not create a semantic pointer with max_similarity=0.10 (D=16, M=21, similarity=0.34)\n",
      "  len(self._key2idx), best_sim))\n"
     ]
    },
    {
     "data": {
      "text/html": [
       "\n",
       "                <div id=\"bd241dde-8551-4b78-a6c6-3f5b213245f5\" style=\"\n",
       "                    width: 100%;\n",
       "                    border: 1px solid #cfcfcf;\n",
       "                    border-radius: 4px;\n",
       "                    text-align: center;\n",
       "                    position: relative;\">\n",
       "                  <div class=\"pb-text\" style=\"\n",
       "                      position: absolute;\n",
       "                      width: 100%;\">\n",
       "                    0%\n",
       "                  </div>\n",
       "                  <div class=\"pb-fill\" style=\"\n",
       "                      background-color: #bdd2e6;\n",
       "                      width: 0%;\">\n",
       "                    <style type=\"text/css\" scoped=\"scoped\">\n",
       "                        @keyframes pb-fill-anim {\n",
       "                            0% { background-position: 0 0; }\n",
       "                            100% { background-position: 100px 0; }\n",
       "                        }\n",
       "                    </style>\n",
       "                    &nbsp;\n",
       "                  </div>\n",
       "                </div>"
      ],
      "text/plain": [
       "HtmlProgressBar cannot be displayed. Please use the TerminalProgressBar. It can be enabled with `nengo.rc.set('progress', 'progress_bar', 'nengo.utils.progress.TerminalProgressBar')`."
      ]
     },
     "metadata": {},
     "output_type": "display_data"
    },
    {
     "data": {
      "application/javascript": [
       "\n",
       "              (function () {\n",
       "                  var root = document.getElementById('bd241dde-8551-4b78-a6c6-3f5b213245f5');\n",
       "                  var text = root.getElementsByClassName('pb-text')[0];\n",
       "                  var fill = root.getElementsByClassName('pb-fill')[0];\n",
       "\n",
       "                  text.innerHTML = 'Simulation finished in 0:01:38.';\n",
       "                  \n",
       "            if (100.0 > 0.) {\n",
       "                fill.style.transition = 'width 0.1s linear';\n",
       "            } else {\n",
       "                fill.style.transition = 'none';\n",
       "            }\n",
       "\n",
       "            fill.style.width = '100.0%';\n",
       "            fill.style.animation = 'none';\n",
       "            fill.style.backgroundImage = 'none'\n",
       "        \n",
       "                  \n",
       "                fill.style.animation = 'none';\n",
       "                fill.style.backgroundImage = 'none';\n",
       "            \n",
       "              })();\n",
       "        "
      ],
      "text/plain": [
       "<IPython.core.display.Javascript object>"
      ]
     },
     "metadata": {},
     "output_type": "display_data"
    },
    {
     "name": "stdout",
     "output_type": "stream",
     "text": [
      "seed = 8\n",
      "backend = 'nengo_ocl'\n",
      "dt = 0.001\n",
      "neuron_type = 'default'\n",
      "n_neurons_scale = 1\n",
      "s_crosstalk = 0\n",
      "s_evidence = None\n",
      "t_senso = 0\n",
      "vocab = <nengo_spa.vocabulary.Vocabulary object at 0x7fe8a4f11910>\n",
      "xp = <experiments.Xp1 object at 0x7fe8aeb3c250>\n",
      "proc_feedback = 0.9\n",
      "proc_feedback_synapse = 0.005\n",
      "GW_feedback = 1\n",
      "GW_threshold = 0.5\n",
      "GW_scale = 2\n",
      "BG_thr = 0.1\n",
      "BG_bias = 0.5\n",
      "integrator_reset = True\n",
      "data = <data.Data object at 0x7fe8a699d510>\n",
      "\t seed 9/20\n",
      "running run_seed9_dim16\n"
     ]
    },
    {
     "name": "stderr",
     "output_type": "stream",
     "text": [
      "/home/ubuntu/anaconda3/envs/CTN/lib/python3.7/site-packages/nengo_spa/vocabulary.py:173: UserWarning: Could not create a semantic pointer with max_similarity=0.10 (D=16, M=8, similarity=0.11)\n",
      "  len(self._key2idx), best_sim))\n",
      "/home/ubuntu/anaconda3/envs/CTN/lib/python3.7/site-packages/nengo_spa/vocabulary.py:173: UserWarning: Could not create a semantic pointer with max_similarity=0.10 (D=16, M=10, similarity=0.11)\n",
      "  len(self._key2idx), best_sim))\n",
      "/home/ubuntu/anaconda3/envs/CTN/lib/python3.7/site-packages/nengo_spa/vocabulary.py:173: UserWarning: Could not create a semantic pointer with max_similarity=0.10 (D=16, M=12, similarity=0.24)\n",
      "  len(self._key2idx), best_sim))\n",
      "/home/ubuntu/anaconda3/envs/CTN/lib/python3.7/site-packages/nengo_spa/vocabulary.py:173: UserWarning: Could not create a semantic pointer with max_similarity=0.10 (D=16, M=13, similarity=0.24)\n",
      "  len(self._key2idx), best_sim))\n",
      "/home/ubuntu/anaconda3/envs/CTN/lib/python3.7/site-packages/nengo_spa/vocabulary.py:173: UserWarning: Could not create a semantic pointer with max_similarity=0.10 (D=16, M=14, similarity=0.20)\n",
      "  len(self._key2idx), best_sim))\n",
      "/home/ubuntu/anaconda3/envs/CTN/lib/python3.7/site-packages/nengo_spa/vocabulary.py:173: UserWarning: Could not create a semantic pointer with max_similarity=0.10 (D=16, M=15, similarity=0.14)\n",
      "  len(self._key2idx), best_sim))\n",
      "/home/ubuntu/anaconda3/envs/CTN/lib/python3.7/site-packages/nengo_spa/vocabulary.py:173: UserWarning: Could not create a semantic pointer with max_similarity=0.10 (D=16, M=16, similarity=0.17)\n",
      "  len(self._key2idx), best_sim))\n",
      "/home/ubuntu/anaconda3/envs/CTN/lib/python3.7/site-packages/nengo_spa/vocabulary.py:173: UserWarning: Could not create a semantic pointer with max_similarity=0.10 (D=16, M=17, similarity=0.29)\n",
      "  len(self._key2idx), best_sim))\n",
      "/home/ubuntu/anaconda3/envs/CTN/lib/python3.7/site-packages/nengo_spa/vocabulary.py:173: UserWarning: Could not create a semantic pointer with max_similarity=0.10 (D=16, M=18, similarity=0.28)\n",
      "  len(self._key2idx), best_sim))\n",
      "/home/ubuntu/anaconda3/envs/CTN/lib/python3.7/site-packages/nengo_spa/vocabulary.py:173: UserWarning: Could not create a semantic pointer with max_similarity=0.10 (D=16, M=19, similarity=0.27)\n",
      "  len(self._key2idx), best_sim))\n",
      "/home/ubuntu/anaconda3/envs/CTN/lib/python3.7/site-packages/nengo_spa/vocabulary.py:173: UserWarning: Could not create a semantic pointer with max_similarity=0.10 (D=16, M=21, similarity=0.31)\n",
      "  len(self._key2idx), best_sim))\n"
     ]
    },
    {
     "data": {
      "text/html": [
       "\n",
       "                <div id=\"acfe4c6f-91bf-45a5-8604-150916e7b849\" style=\"\n",
       "                    width: 100%;\n",
       "                    border: 1px solid #cfcfcf;\n",
       "                    border-radius: 4px;\n",
       "                    text-align: center;\n",
       "                    position: relative;\">\n",
       "                  <div class=\"pb-text\" style=\"\n",
       "                      position: absolute;\n",
       "                      width: 100%;\">\n",
       "                    0%\n",
       "                  </div>\n",
       "                  <div class=\"pb-fill\" style=\"\n",
       "                      background-color: #bdd2e6;\n",
       "                      width: 0%;\">\n",
       "                    <style type=\"text/css\" scoped=\"scoped\">\n",
       "                        @keyframes pb-fill-anim {\n",
       "                            0% { background-position: 0 0; }\n",
       "                            100% { background-position: 100px 0; }\n",
       "                        }\n",
       "                    </style>\n",
       "                    &nbsp;\n",
       "                  </div>\n",
       "                </div>"
      ],
      "text/plain": [
       "HtmlProgressBar cannot be displayed. Please use the TerminalProgressBar. It can be enabled with `nengo.rc.set('progress', 'progress_bar', 'nengo.utils.progress.TerminalProgressBar')`."
      ]
     },
     "metadata": {},
     "output_type": "display_data"
    },
    {
     "data": {
      "application/javascript": [
       "\n",
       "              (function () {\n",
       "                  var root = document.getElementById('acfe4c6f-91bf-45a5-8604-150916e7b849');\n",
       "                  var text = root.getElementsByClassName('pb-text')[0];\n",
       "                  var fill = root.getElementsByClassName('pb-fill')[0];\n",
       "\n",
       "                  text.innerHTML = 'Simulation finished in 0:01:36.';\n",
       "                  \n",
       "            if (100.0 > 0.) {\n",
       "                fill.style.transition = 'width 0.1s linear';\n",
       "            } else {\n",
       "                fill.style.transition = 'none';\n",
       "            }\n",
       "\n",
       "            fill.style.width = '100.0%';\n",
       "            fill.style.animation = 'none';\n",
       "            fill.style.backgroundImage = 'none'\n",
       "        \n",
       "                  \n",
       "                fill.style.animation = 'none';\n",
       "                fill.style.backgroundImage = 'none';\n",
       "            \n",
       "              })();\n",
       "        "
      ],
      "text/plain": [
       "<IPython.core.display.Javascript object>"
      ]
     },
     "metadata": {},
     "output_type": "display_data"
    },
    {
     "name": "stdout",
     "output_type": "stream",
     "text": [
      "seed = 9\n",
      "backend = 'nengo_ocl'\n",
      "dt = 0.001\n",
      "neuron_type = 'default'\n",
      "n_neurons_scale = 1\n",
      "s_crosstalk = 0\n",
      "s_evidence = None\n",
      "t_senso = 0\n",
      "vocab = <nengo_spa.vocabulary.Vocabulary object at 0x7fe8d8119990>\n",
      "xp = <experiments.Xp1 object at 0x7fe8aeb7a690>\n",
      "proc_feedback = 0.9\n",
      "proc_feedback_synapse = 0.005\n",
      "GW_feedback = 1\n",
      "GW_threshold = 0.5\n",
      "GW_scale = 2\n",
      "BG_thr = 0.1\n",
      "BG_bias = 0.5\n",
      "integrator_reset = True\n",
      "data = <data.Data object at 0x7fe8a6647cd0>\n",
      "\t seed 10/20\n",
      "running run_seed10_dim16\n"
     ]
    },
    {
     "name": "stderr",
     "output_type": "stream",
     "text": [
      "/home/ubuntu/anaconda3/envs/CTN/lib/python3.7/site-packages/nengo_spa/vocabulary.py:173: UserWarning: Could not create a semantic pointer with max_similarity=0.10 (D=16, M=9, similarity=0.14)\n",
      "  len(self._key2idx), best_sim))\n",
      "/home/ubuntu/anaconda3/envs/CTN/lib/python3.7/site-packages/nengo_spa/vocabulary.py:173: UserWarning: Could not create a semantic pointer with max_similarity=0.10 (D=16, M=10, similarity=0.12)\n",
      "  len(self._key2idx), best_sim))\n",
      "/home/ubuntu/anaconda3/envs/CTN/lib/python3.7/site-packages/nengo_spa/vocabulary.py:173: UserWarning: Could not create a semantic pointer with max_similarity=0.10 (D=16, M=11, similarity=0.25)\n",
      "  len(self._key2idx), best_sim))\n",
      "/home/ubuntu/anaconda3/envs/CTN/lib/python3.7/site-packages/nengo_spa/vocabulary.py:173: UserWarning: Could not create a semantic pointer with max_similarity=0.10 (D=16, M=13, similarity=0.18)\n",
      "  len(self._key2idx), best_sim))\n",
      "/home/ubuntu/anaconda3/envs/CTN/lib/python3.7/site-packages/nengo_spa/vocabulary.py:173: UserWarning: Could not create a semantic pointer with max_similarity=0.10 (D=16, M=14, similarity=0.24)\n",
      "  len(self._key2idx), best_sim))\n",
      "/home/ubuntu/anaconda3/envs/CTN/lib/python3.7/site-packages/nengo_spa/vocabulary.py:173: UserWarning: Could not create a semantic pointer with max_similarity=0.10 (D=16, M=15, similarity=0.23)\n",
      "  len(self._key2idx), best_sim))\n",
      "/home/ubuntu/anaconda3/envs/CTN/lib/python3.7/site-packages/nengo_spa/vocabulary.py:173: UserWarning: Could not create a semantic pointer with max_similarity=0.10 (D=16, M=16, similarity=0.28)\n",
      "  len(self._key2idx), best_sim))\n",
      "/home/ubuntu/anaconda3/envs/CTN/lib/python3.7/site-packages/nengo_spa/vocabulary.py:173: UserWarning: Could not create a semantic pointer with max_similarity=0.10 (D=16, M=17, similarity=0.22)\n",
      "  len(self._key2idx), best_sim))\n"
     ]
    },
    {
     "data": {
      "text/html": [
       "\n",
       "                <div id=\"e858a757-ff01-487c-ab32-fc9dd5a36b81\" style=\"\n",
       "                    width: 100%;\n",
       "                    border: 1px solid #cfcfcf;\n",
       "                    border-radius: 4px;\n",
       "                    text-align: center;\n",
       "                    position: relative;\">\n",
       "                  <div class=\"pb-text\" style=\"\n",
       "                      position: absolute;\n",
       "                      width: 100%;\">\n",
       "                    0%\n",
       "                  </div>\n",
       "                  <div class=\"pb-fill\" style=\"\n",
       "                      background-color: #bdd2e6;\n",
       "                      width: 0%;\">\n",
       "                    <style type=\"text/css\" scoped=\"scoped\">\n",
       "                        @keyframes pb-fill-anim {\n",
       "                            0% { background-position: 0 0; }\n",
       "                            100% { background-position: 100px 0; }\n",
       "                        }\n",
       "                    </style>\n",
       "                    &nbsp;\n",
       "                  </div>\n",
       "                </div>"
      ],
      "text/plain": [
       "HtmlProgressBar cannot be displayed. Please use the TerminalProgressBar. It can be enabled with `nengo.rc.set('progress', 'progress_bar', 'nengo.utils.progress.TerminalProgressBar')`."
      ]
     },
     "metadata": {},
     "output_type": "display_data"
    },
    {
     "data": {
      "application/javascript": [
       "\n",
       "              (function () {\n",
       "                  var root = document.getElementById('e858a757-ff01-487c-ab32-fc9dd5a36b81');\n",
       "                  var text = root.getElementsByClassName('pb-text')[0];\n",
       "                  var fill = root.getElementsByClassName('pb-fill')[0];\n",
       "\n",
       "                  text.innerHTML = 'Simulation finished in 0:01:38.';\n",
       "                  \n",
       "            if (100.0 > 0.) {\n",
       "                fill.style.transition = 'width 0.1s linear';\n",
       "            } else {\n",
       "                fill.style.transition = 'none';\n",
       "            }\n",
       "\n",
       "            fill.style.width = '100.0%';\n",
       "            fill.style.animation = 'none';\n",
       "            fill.style.backgroundImage = 'none'\n",
       "        \n",
       "                  \n",
       "                fill.style.animation = 'none';\n",
       "                fill.style.backgroundImage = 'none';\n",
       "            \n",
       "              })();\n",
       "        "
      ],
      "text/plain": [
       "<IPython.core.display.Javascript object>"
      ]
     },
     "metadata": {},
     "output_type": "display_data"
    },
    {
     "name": "stdout",
     "output_type": "stream",
     "text": [
      "seed = 10\n",
      "backend = 'nengo_ocl'\n",
      "dt = 0.001\n",
      "neuron_type = 'default'\n",
      "n_neurons_scale = 1\n",
      "s_crosstalk = 0\n",
      "s_evidence = None\n",
      "t_senso = 0\n",
      "vocab = <nengo_spa.vocabulary.Vocabulary object at 0x7fe8e1630e50>\n",
      "xp = <experiments.Xp1 object at 0x7fe8a7328f50>\n",
      "proc_feedback = 0.9\n",
      "proc_feedback_synapse = 0.005\n",
      "GW_feedback = 1\n",
      "GW_threshold = 0.5\n",
      "GW_scale = 2\n",
      "BG_thr = 0.1\n",
      "BG_bias = 0.5\n",
      "integrator_reset = True\n",
      "data = <data.Data object at 0x7fe8a5ea0810>\n",
      "\t seed 11/20\n",
      "running run_seed11_dim16\n"
     ]
    },
    {
     "name": "stderr",
     "output_type": "stream",
     "text": [
      "/home/ubuntu/anaconda3/envs/CTN/lib/python3.7/site-packages/nengo_spa/vocabulary.py:173: UserWarning: Could not create a semantic pointer with max_similarity=0.10 (D=16, M=9, similarity=0.18)\n",
      "  len(self._key2idx), best_sim))\n",
      "/home/ubuntu/anaconda3/envs/CTN/lib/python3.7/site-packages/nengo_spa/vocabulary.py:173: UserWarning: Could not create a semantic pointer with max_similarity=0.10 (D=16, M=10, similarity=0.15)\n",
      "  len(self._key2idx), best_sim))\n",
      "/home/ubuntu/anaconda3/envs/CTN/lib/python3.7/site-packages/nengo_spa/vocabulary.py:173: UserWarning: Could not create a semantic pointer with max_similarity=0.10 (D=16, M=11, similarity=0.14)\n",
      "  len(self._key2idx), best_sim))\n",
      "/home/ubuntu/anaconda3/envs/CTN/lib/python3.7/site-packages/nengo_spa/vocabulary.py:173: UserWarning: Could not create a semantic pointer with max_similarity=0.10 (D=16, M=18, similarity=0.25)\n",
      "  len(self._key2idx), best_sim))\n",
      "/home/ubuntu/anaconda3/envs/CTN/lib/python3.7/site-packages/nengo_spa/vocabulary.py:173: UserWarning: Could not create a semantic pointer with max_similarity=0.10 (D=16, M=21, similarity=0.19)\n",
      "  len(self._key2idx), best_sim))\n"
     ]
    },
    {
     "data": {
      "text/html": [
       "\n",
       "                <div id=\"f67b6643-79d2-4c22-adb9-ac584de15e71\" style=\"\n",
       "                    width: 100%;\n",
       "                    border: 1px solid #cfcfcf;\n",
       "                    border-radius: 4px;\n",
       "                    text-align: center;\n",
       "                    position: relative;\">\n",
       "                  <div class=\"pb-text\" style=\"\n",
       "                      position: absolute;\n",
       "                      width: 100%;\">\n",
       "                    0%\n",
       "                  </div>\n",
       "                  <div class=\"pb-fill\" style=\"\n",
       "                      background-color: #bdd2e6;\n",
       "                      width: 0%;\">\n",
       "                    <style type=\"text/css\" scoped=\"scoped\">\n",
       "                        @keyframes pb-fill-anim {\n",
       "                            0% { background-position: 0 0; }\n",
       "                            100% { background-position: 100px 0; }\n",
       "                        }\n",
       "                    </style>\n",
       "                    &nbsp;\n",
       "                  </div>\n",
       "                </div>"
      ],
      "text/plain": [
       "HtmlProgressBar cannot be displayed. Please use the TerminalProgressBar. It can be enabled with `nengo.rc.set('progress', 'progress_bar', 'nengo.utils.progress.TerminalProgressBar')`."
      ]
     },
     "metadata": {},
     "output_type": "display_data"
    },
    {
     "data": {
      "application/javascript": [
       "\n",
       "              (function () {\n",
       "                  var root = document.getElementById('f67b6643-79d2-4c22-adb9-ac584de15e71');\n",
       "                  var text = root.getElementsByClassName('pb-text')[0];\n",
       "                  var fill = root.getElementsByClassName('pb-fill')[0];\n",
       "\n",
       "                  text.innerHTML = 'Simulation finished in 0:01:40.';\n",
       "                  \n",
       "            if (100.0 > 0.) {\n",
       "                fill.style.transition = 'width 0.1s linear';\n",
       "            } else {\n",
       "                fill.style.transition = 'none';\n",
       "            }\n",
       "\n",
       "            fill.style.width = '100.0%';\n",
       "            fill.style.animation = 'none';\n",
       "            fill.style.backgroundImage = 'none'\n",
       "        \n",
       "                  \n",
       "                fill.style.animation = 'none';\n",
       "                fill.style.backgroundImage = 'none';\n",
       "            \n",
       "              })();\n",
       "        "
      ],
      "text/plain": [
       "<IPython.core.display.Javascript object>"
      ]
     },
     "metadata": {},
     "output_type": "display_data"
    },
    {
     "name": "stdout",
     "output_type": "stream",
     "text": [
      "seed = 11\n",
      "backend = 'nengo_ocl'\n",
      "dt = 0.001\n",
      "neuron_type = 'default'\n",
      "n_neurons_scale = 1\n",
      "s_crosstalk = 0\n",
      "s_evidence = None\n",
      "t_senso = 0\n",
      "vocab = <nengo_spa.vocabulary.Vocabulary object at 0x7fe8a7375d50>\n",
      "xp = <experiments.Xp1 object at 0x7fe8e2101950>\n",
      "proc_feedback = 0.9\n",
      "proc_feedback_synapse = 0.005\n",
      "GW_feedback = 1\n",
      "GW_threshold = 0.5\n",
      "GW_scale = 2\n",
      "BG_thr = 0.1\n",
      "BG_bias = 0.5\n",
      "integrator_reset = True\n",
      "data = <data.Data object at 0x7fe8a4cfb110>\n",
      "\t seed 12/20\n",
      "running run_seed12_dim16\n"
     ]
    },
    {
     "name": "stderr",
     "output_type": "stream",
     "text": [
      "/home/ubuntu/anaconda3/envs/CTN/lib/python3.7/site-packages/nengo_spa/vocabulary.py:173: UserWarning: Could not create a semantic pointer with max_similarity=0.10 (D=16, M=8, similarity=0.12)\n",
      "  len(self._key2idx), best_sim))\n",
      "/home/ubuntu/anaconda3/envs/CTN/lib/python3.7/site-packages/nengo_spa/vocabulary.py:173: UserWarning: Could not create a semantic pointer with max_similarity=0.10 (D=16, M=11, similarity=0.16)\n",
      "  len(self._key2idx), best_sim))\n",
      "/home/ubuntu/anaconda3/envs/CTN/lib/python3.7/site-packages/nengo_spa/vocabulary.py:173: UserWarning: Could not create a semantic pointer with max_similarity=0.10 (D=16, M=14, similarity=0.25)\n",
      "  len(self._key2idx), best_sim))\n",
      "/home/ubuntu/anaconda3/envs/CTN/lib/python3.7/site-packages/nengo_spa/vocabulary.py:173: UserWarning: Could not create a semantic pointer with max_similarity=0.10 (D=16, M=15, similarity=0.24)\n",
      "  len(self._key2idx), best_sim))\n",
      "/home/ubuntu/anaconda3/envs/CTN/lib/python3.7/site-packages/nengo_spa/vocabulary.py:173: UserWarning: Could not create a semantic pointer with max_similarity=0.10 (D=16, M=20, similarity=0.28)\n",
      "  len(self._key2idx), best_sim))\n",
      "/home/ubuntu/anaconda3/envs/CTN/lib/python3.7/site-packages/nengo_spa/vocabulary.py:173: UserWarning: Could not create a semantic pointer with max_similarity=0.10 (D=16, M=21, similarity=0.26)\n",
      "  len(self._key2idx), best_sim))\n"
     ]
    },
    {
     "data": {
      "text/html": [
       "\n",
       "                <div id=\"1561752f-a31f-4271-b3c1-b9e76d353735\" style=\"\n",
       "                    width: 100%;\n",
       "                    border: 1px solid #cfcfcf;\n",
       "                    border-radius: 4px;\n",
       "                    text-align: center;\n",
       "                    position: relative;\">\n",
       "                  <div class=\"pb-text\" style=\"\n",
       "                      position: absolute;\n",
       "                      width: 100%;\">\n",
       "                    0%\n",
       "                  </div>\n",
       "                  <div class=\"pb-fill\" style=\"\n",
       "                      background-color: #bdd2e6;\n",
       "                      width: 0%;\">\n",
       "                    <style type=\"text/css\" scoped=\"scoped\">\n",
       "                        @keyframes pb-fill-anim {\n",
       "                            0% { background-position: 0 0; }\n",
       "                            100% { background-position: 100px 0; }\n",
       "                        }\n",
       "                    </style>\n",
       "                    &nbsp;\n",
       "                  </div>\n",
       "                </div>"
      ],
      "text/plain": [
       "HtmlProgressBar cannot be displayed. Please use the TerminalProgressBar. It can be enabled with `nengo.rc.set('progress', 'progress_bar', 'nengo.utils.progress.TerminalProgressBar')`."
      ]
     },
     "metadata": {},
     "output_type": "display_data"
    },
    {
     "data": {
      "application/javascript": [
       "\n",
       "              (function () {\n",
       "                  var root = document.getElementById('1561752f-a31f-4271-b3c1-b9e76d353735');\n",
       "                  var text = root.getElementsByClassName('pb-text')[0];\n",
       "                  var fill = root.getElementsByClassName('pb-fill')[0];\n",
       "\n",
       "                  text.innerHTML = 'Simulation finished in 0:01:37.';\n",
       "                  \n",
       "            if (100.0 > 0.) {\n",
       "                fill.style.transition = 'width 0.1s linear';\n",
       "            } else {\n",
       "                fill.style.transition = 'none';\n",
       "            }\n",
       "\n",
       "            fill.style.width = '100.0%';\n",
       "            fill.style.animation = 'none';\n",
       "            fill.style.backgroundImage = 'none'\n",
       "        \n",
       "                  \n",
       "                fill.style.animation = 'none';\n",
       "                fill.style.backgroundImage = 'none';\n",
       "            \n",
       "              })();\n",
       "        "
      ],
      "text/plain": [
       "<IPython.core.display.Javascript object>"
      ]
     },
     "metadata": {},
     "output_type": "display_data"
    },
    {
     "name": "stdout",
     "output_type": "stream",
     "text": [
      "seed = 12\n",
      "backend = 'nengo_ocl'\n",
      "dt = 0.001\n",
      "neuron_type = 'default'\n",
      "n_neurons_scale = 1\n",
      "s_crosstalk = 0\n",
      "s_evidence = None\n",
      "t_senso = 0\n",
      "vocab = <nengo_spa.vocabulary.Vocabulary object at 0x7fe8e1818950>\n",
      "xp = <experiments.Xp1 object at 0x7fe8a5af8e50>\n",
      "proc_feedback = 0.9\n",
      "proc_feedback_synapse = 0.005\n",
      "GW_feedback = 1\n",
      "GW_threshold = 0.5\n",
      "GW_scale = 2\n",
      "BG_thr = 0.1\n",
      "BG_bias = 0.5\n",
      "integrator_reset = True\n",
      "data = <data.Data object at 0x7fe8e180db10>\n",
      "\t seed 13/20\n",
      "running run_seed13_dim16\n"
     ]
    },
    {
     "name": "stderr",
     "output_type": "stream",
     "text": [
      "/home/ubuntu/anaconda3/envs/CTN/lib/python3.7/site-packages/nengo_spa/vocabulary.py:173: UserWarning: Could not create a semantic pointer with max_similarity=0.10 (D=16, M=7, similarity=0.14)\n",
      "  len(self._key2idx), best_sim))\n",
      "/home/ubuntu/anaconda3/envs/CTN/lib/python3.7/site-packages/nengo_spa/vocabulary.py:173: UserWarning: Could not create a semantic pointer with max_similarity=0.10 (D=16, M=11, similarity=0.24)\n",
      "  len(self._key2idx), best_sim))\n",
      "/home/ubuntu/anaconda3/envs/CTN/lib/python3.7/site-packages/nengo_spa/vocabulary.py:173: UserWarning: Could not create a semantic pointer with max_similarity=0.10 (D=16, M=16, similarity=0.24)\n",
      "  len(self._key2idx), best_sim))\n",
      "/home/ubuntu/anaconda3/envs/CTN/lib/python3.7/site-packages/nengo_spa/vocabulary.py:173: UserWarning: Could not create a semantic pointer with max_similarity=0.10 (D=16, M=17, similarity=0.20)\n",
      "  len(self._key2idx), best_sim))\n",
      "/home/ubuntu/anaconda3/envs/CTN/lib/python3.7/site-packages/nengo_spa/vocabulary.py:173: UserWarning: Could not create a semantic pointer with max_similarity=0.10 (D=16, M=18, similarity=0.20)\n",
      "  len(self._key2idx), best_sim))\n",
      "/home/ubuntu/anaconda3/envs/CTN/lib/python3.7/site-packages/nengo_spa/vocabulary.py:173: UserWarning: Could not create a semantic pointer with max_similarity=0.10 (D=16, M=20, similarity=0.30)\n",
      "  len(self._key2idx), best_sim))\n",
      "/home/ubuntu/anaconda3/envs/CTN/lib/python3.7/site-packages/nengo_spa/vocabulary.py:173: UserWarning: Could not create a semantic pointer with max_similarity=0.10 (D=16, M=21, similarity=0.30)\n",
      "  len(self._key2idx), best_sim))\n"
     ]
    },
    {
     "data": {
      "text/html": [
       "\n",
       "                <div id=\"647d0a03-3032-4b72-89b8-b613b45b0926\" style=\"\n",
       "                    width: 100%;\n",
       "                    border: 1px solid #cfcfcf;\n",
       "                    border-radius: 4px;\n",
       "                    text-align: center;\n",
       "                    position: relative;\">\n",
       "                  <div class=\"pb-text\" style=\"\n",
       "                      position: absolute;\n",
       "                      width: 100%;\">\n",
       "                    0%\n",
       "                  </div>\n",
       "                  <div class=\"pb-fill\" style=\"\n",
       "                      background-color: #bdd2e6;\n",
       "                      width: 0%;\">\n",
       "                    <style type=\"text/css\" scoped=\"scoped\">\n",
       "                        @keyframes pb-fill-anim {\n",
       "                            0% { background-position: 0 0; }\n",
       "                            100% { background-position: 100px 0; }\n",
       "                        }\n",
       "                    </style>\n",
       "                    &nbsp;\n",
       "                  </div>\n",
       "                </div>"
      ],
      "text/plain": [
       "HtmlProgressBar cannot be displayed. Please use the TerminalProgressBar. It can be enabled with `nengo.rc.set('progress', 'progress_bar', 'nengo.utils.progress.TerminalProgressBar')`."
      ]
     },
     "metadata": {},
     "output_type": "display_data"
    },
    {
     "data": {
      "application/javascript": [
       "\n",
       "              (function () {\n",
       "                  var root = document.getElementById('647d0a03-3032-4b72-89b8-b613b45b0926');\n",
       "                  var text = root.getElementsByClassName('pb-text')[0];\n",
       "                  var fill = root.getElementsByClassName('pb-fill')[0];\n",
       "\n",
       "                  text.innerHTML = 'Simulation finished in 0:01:36.';\n",
       "                  \n",
       "            if (100.0 > 0.) {\n",
       "                fill.style.transition = 'width 0.1s linear';\n",
       "            } else {\n",
       "                fill.style.transition = 'none';\n",
       "            }\n",
       "\n",
       "            fill.style.width = '100.0%';\n",
       "            fill.style.animation = 'none';\n",
       "            fill.style.backgroundImage = 'none'\n",
       "        \n",
       "                  \n",
       "                fill.style.animation = 'none';\n",
       "                fill.style.backgroundImage = 'none';\n",
       "            \n",
       "              })();\n",
       "        "
      ],
      "text/plain": [
       "<IPython.core.display.Javascript object>"
      ]
     },
     "metadata": {},
     "output_type": "display_data"
    },
    {
     "name": "stdout",
     "output_type": "stream",
     "text": [
      "seed = 13\n",
      "backend = 'nengo_ocl'\n",
      "dt = 0.001\n",
      "neuron_type = 'default'\n",
      "n_neurons_scale = 1\n",
      "s_crosstalk = 0\n",
      "s_evidence = None\n",
      "t_senso = 0\n",
      "vocab = <nengo_spa.vocabulary.Vocabulary object at 0x7fe8e19e59d0>\n",
      "xp = <experiments.Xp1 object at 0x7fe8a67b7410>\n",
      "proc_feedback = 0.9\n",
      "proc_feedback_synapse = 0.005\n",
      "GW_feedback = 1\n",
      "GW_threshold = 0.5\n",
      "GW_scale = 2\n",
      "BG_thr = 0.1\n",
      "BG_bias = 0.5\n",
      "integrator_reset = True\n",
      "data = <data.Data object at 0x7fe8aeb30c50>\n",
      "\t seed 14/20\n",
      "running run_seed14_dim16\n"
     ]
    },
    {
     "name": "stderr",
     "output_type": "stream",
     "text": [
      "/home/ubuntu/anaconda3/envs/CTN/lib/python3.7/site-packages/nengo_spa/vocabulary.py:173: UserWarning: Could not create a semantic pointer with max_similarity=0.10 (D=16, M=9, similarity=0.11)\n",
      "  len(self._key2idx), best_sim))\n",
      "/home/ubuntu/anaconda3/envs/CTN/lib/python3.7/site-packages/nengo_spa/vocabulary.py:173: UserWarning: Could not create a semantic pointer with max_similarity=0.10 (D=16, M=10, similarity=0.20)\n",
      "  len(self._key2idx), best_sim))\n",
      "/home/ubuntu/anaconda3/envs/CTN/lib/python3.7/site-packages/nengo_spa/vocabulary.py:173: UserWarning: Could not create a semantic pointer with max_similarity=0.10 (D=16, M=12, similarity=0.18)\n",
      "  len(self._key2idx), best_sim))\n",
      "/home/ubuntu/anaconda3/envs/CTN/lib/python3.7/site-packages/nengo_spa/vocabulary.py:173: UserWarning: Could not create a semantic pointer with max_similarity=0.10 (D=16, M=17, similarity=0.23)\n",
      "  len(self._key2idx), best_sim))\n",
      "/home/ubuntu/anaconda3/envs/CTN/lib/python3.7/site-packages/nengo_spa/vocabulary.py:173: UserWarning: Could not create a semantic pointer with max_similarity=0.10 (D=16, M=19, similarity=0.29)\n",
      "  len(self._key2idx), best_sim))\n"
     ]
    },
    {
     "data": {
      "text/html": [
       "\n",
       "                <div id=\"7dd0d6d2-da8a-49bb-9dae-3ec91091e456\" style=\"\n",
       "                    width: 100%;\n",
       "                    border: 1px solid #cfcfcf;\n",
       "                    border-radius: 4px;\n",
       "                    text-align: center;\n",
       "                    position: relative;\">\n",
       "                  <div class=\"pb-text\" style=\"\n",
       "                      position: absolute;\n",
       "                      width: 100%;\">\n",
       "                    0%\n",
       "                  </div>\n",
       "                  <div class=\"pb-fill\" style=\"\n",
       "                      background-color: #bdd2e6;\n",
       "                      width: 0%;\">\n",
       "                    <style type=\"text/css\" scoped=\"scoped\">\n",
       "                        @keyframes pb-fill-anim {\n",
       "                            0% { background-position: 0 0; }\n",
       "                            100% { background-position: 100px 0; }\n",
       "                        }\n",
       "                    </style>\n",
       "                    &nbsp;\n",
       "                  </div>\n",
       "                </div>"
      ],
      "text/plain": [
       "HtmlProgressBar cannot be displayed. Please use the TerminalProgressBar. It can be enabled with `nengo.rc.set('progress', 'progress_bar', 'nengo.utils.progress.TerminalProgressBar')`."
      ]
     },
     "metadata": {},
     "output_type": "display_data"
    },
    {
     "data": {
      "application/javascript": [
       "\n",
       "              (function () {\n",
       "                  var root = document.getElementById('7dd0d6d2-da8a-49bb-9dae-3ec91091e456');\n",
       "                  var text = root.getElementsByClassName('pb-text')[0];\n",
       "                  var fill = root.getElementsByClassName('pb-fill')[0];\n",
       "\n",
       "                  text.innerHTML = 'Simulation finished in 0:01:37.';\n",
       "                  \n",
       "            if (100.0 > 0.) {\n",
       "                fill.style.transition = 'width 0.1s linear';\n",
       "            } else {\n",
       "                fill.style.transition = 'none';\n",
       "            }\n",
       "\n",
       "            fill.style.width = '100.0%';\n",
       "            fill.style.animation = 'none';\n",
       "            fill.style.backgroundImage = 'none'\n",
       "        \n",
       "                  \n",
       "                fill.style.animation = 'none';\n",
       "                fill.style.backgroundImage = 'none';\n",
       "            \n",
       "              })();\n",
       "        "
      ],
      "text/plain": [
       "<IPython.core.display.Javascript object>"
      ]
     },
     "metadata": {},
     "output_type": "display_data"
    },
    {
     "name": "stdout",
     "output_type": "stream",
     "text": [
      "seed = 14\n",
      "backend = 'nengo_ocl'\n",
      "dt = 0.001\n",
      "neuron_type = 'default'\n",
      "n_neurons_scale = 1\n",
      "s_crosstalk = 0\n",
      "s_evidence = None\n",
      "t_senso = 0\n",
      "vocab = <nengo_spa.vocabulary.Vocabulary object at 0x7fe8a5e25f10>\n",
      "xp = <experiments.Xp1 object at 0x7fe8a59d5cd0>\n",
      "proc_feedback = 0.9\n",
      "proc_feedback_synapse = 0.005\n",
      "GW_feedback = 1\n",
      "GW_threshold = 0.5\n",
      "GW_scale = 2\n",
      "BG_thr = 0.1\n",
      "BG_bias = 0.5\n",
      "integrator_reset = True\n",
      "data = <data.Data object at 0x7fe8a585e9d0>\n",
      "\t seed 15/20\n",
      "running run_seed15_dim16\n"
     ]
    },
    {
     "name": "stderr",
     "output_type": "stream",
     "text": [
      "/home/ubuntu/anaconda3/envs/CTN/lib/python3.7/site-packages/nengo_spa/vocabulary.py:173: UserWarning: Could not create a semantic pointer with max_similarity=0.10 (D=16, M=7, similarity=0.10)\n",
      "  len(self._key2idx), best_sim))\n",
      "/home/ubuntu/anaconda3/envs/CTN/lib/python3.7/site-packages/nengo_spa/vocabulary.py:173: UserWarning: Could not create a semantic pointer with max_similarity=0.10 (D=16, M=11, similarity=0.12)\n",
      "  len(self._key2idx), best_sim))\n",
      "/home/ubuntu/anaconda3/envs/CTN/lib/python3.7/site-packages/nengo_spa/vocabulary.py:173: UserWarning: Could not create a semantic pointer with max_similarity=0.10 (D=16, M=15, similarity=0.21)\n",
      "  len(self._key2idx), best_sim))\n",
      "/home/ubuntu/anaconda3/envs/CTN/lib/python3.7/site-packages/nengo_spa/vocabulary.py:173: UserWarning: Could not create a semantic pointer with max_similarity=0.10 (D=16, M=19, similarity=0.28)\n",
      "  len(self._key2idx), best_sim))\n",
      "/home/ubuntu/anaconda3/envs/CTN/lib/python3.7/site-packages/nengo_spa/vocabulary.py:173: UserWarning: Could not create a semantic pointer with max_similarity=0.10 (D=16, M=20, similarity=0.31)\n",
      "  len(self._key2idx), best_sim))\n",
      "/home/ubuntu/anaconda3/envs/CTN/lib/python3.7/site-packages/nengo/cache.py:500: UserWarning: Decoder cache could not acquire lock and was set to readonly mode.\n",
      "  warnings.warn(\"Decoder cache could not acquire lock and was \"\n"
     ]
    },
    {
     "data": {
      "text/html": [
       "\n",
       "                <div id=\"8ece4a9b-672b-4683-88e5-54d581a407db\" style=\"\n",
       "                    width: 100%;\n",
       "                    border: 1px solid #cfcfcf;\n",
       "                    border-radius: 4px;\n",
       "                    text-align: center;\n",
       "                    position: relative;\">\n",
       "                  <div class=\"pb-text\" style=\"\n",
       "                      position: absolute;\n",
       "                      width: 100%;\">\n",
       "                    0%\n",
       "                  </div>\n",
       "                  <div class=\"pb-fill\" style=\"\n",
       "                      background-color: #bdd2e6;\n",
       "                      width: 0%;\">\n",
       "                    <style type=\"text/css\" scoped=\"scoped\">\n",
       "                        @keyframes pb-fill-anim {\n",
       "                            0% { background-position: 0 0; }\n",
       "                            100% { background-position: 100px 0; }\n",
       "                        }\n",
       "                    </style>\n",
       "                    &nbsp;\n",
       "                  </div>\n",
       "                </div>"
      ],
      "text/plain": [
       "HtmlProgressBar cannot be displayed. Please use the TerminalProgressBar. It can be enabled with `nengo.rc.set('progress', 'progress_bar', 'nengo.utils.progress.TerminalProgressBar')`."
      ]
     },
     "metadata": {},
     "output_type": "display_data"
    },
    {
     "data": {
      "application/javascript": [
       "\n",
       "              (function () {\n",
       "                  var root = document.getElementById('8ece4a9b-672b-4683-88e5-54d581a407db');\n",
       "                  var text = root.getElementsByClassName('pb-text')[0];\n",
       "                  var fill = root.getElementsByClassName('pb-fill')[0];\n",
       "\n",
       "                  text.innerHTML = 'Simulation finished in 0:01:40.';\n",
       "                  \n",
       "            if (100.0 > 0.) {\n",
       "                fill.style.transition = 'width 0.1s linear';\n",
       "            } else {\n",
       "                fill.style.transition = 'none';\n",
       "            }\n",
       "\n",
       "            fill.style.width = '100.0%';\n",
       "            fill.style.animation = 'none';\n",
       "            fill.style.backgroundImage = 'none'\n",
       "        \n",
       "                  \n",
       "                fill.style.animation = 'none';\n",
       "                fill.style.backgroundImage = 'none';\n",
       "            \n",
       "              })();\n",
       "        "
      ],
      "text/plain": [
       "<IPython.core.display.Javascript object>"
      ]
     },
     "metadata": {},
     "output_type": "display_data"
    },
    {
     "name": "stdout",
     "output_type": "stream",
     "text": [
      "seed = 15\n",
      "backend = 'nengo_ocl'\n",
      "dt = 0.001\n",
      "neuron_type = 'default'\n",
      "n_neurons_scale = 1\n",
      "s_crosstalk = 0\n",
      "s_evidence = None\n",
      "t_senso = 0\n",
      "vocab = <nengo_spa.vocabulary.Vocabulary object at 0x7fe8e197f590>\n",
      "xp = <experiments.Xp1 object at 0x7fe8e17e3d90>\n",
      "proc_feedback = 0.9\n",
      "proc_feedback_synapse = 0.005\n",
      "GW_feedback = 1\n",
      "GW_threshold = 0.5\n",
      "GW_scale = 2\n",
      "BG_thr = 0.1\n",
      "BG_bias = 0.5\n",
      "integrator_reset = True\n",
      "data = <data.Data object at 0x7fe8a6d03690>\n",
      "\t seed 16/20\n",
      "running run_seed16_dim16\n"
     ]
    },
    {
     "name": "stderr",
     "output_type": "stream",
     "text": [
      "/home/ubuntu/anaconda3/envs/CTN/lib/python3.7/site-packages/nengo_spa/vocabulary.py:173: UserWarning: Could not create a semantic pointer with max_similarity=0.10 (D=16, M=9, similarity=0.13)\n",
      "  len(self._key2idx), best_sim))\n",
      "/home/ubuntu/anaconda3/envs/CTN/lib/python3.7/site-packages/nengo_spa/vocabulary.py:173: UserWarning: Could not create a semantic pointer with max_similarity=0.10 (D=16, M=12, similarity=0.15)\n",
      "  len(self._key2idx), best_sim))\n",
      "/home/ubuntu/anaconda3/envs/CTN/lib/python3.7/site-packages/nengo_spa/vocabulary.py:173: UserWarning: Could not create a semantic pointer with max_similarity=0.10 (D=16, M=13, similarity=0.19)\n",
      "  len(self._key2idx), best_sim))\n",
      "/home/ubuntu/anaconda3/envs/CTN/lib/python3.7/site-packages/nengo_spa/vocabulary.py:173: UserWarning: Could not create a semantic pointer with max_similarity=0.10 (D=16, M=17, similarity=0.25)\n",
      "  len(self._key2idx), best_sim))\n",
      "/home/ubuntu/anaconda3/envs/CTN/lib/python3.7/site-packages/nengo_spa/vocabulary.py:173: UserWarning: Could not create a semantic pointer with max_similarity=0.10 (D=16, M=18, similarity=0.19)\n",
      "  len(self._key2idx), best_sim))\n",
      "/home/ubuntu/anaconda3/envs/CTN/lib/python3.7/site-packages/nengo_spa/vocabulary.py:173: UserWarning: Could not create a semantic pointer with max_similarity=0.10 (D=16, M=21, similarity=0.29)\n",
      "  len(self._key2idx), best_sim))\n"
     ]
    },
    {
     "data": {
      "text/html": [
       "\n",
       "                <div id=\"0759153a-0124-40d3-8bb6-748f9f088975\" style=\"\n",
       "                    width: 100%;\n",
       "                    border: 1px solid #cfcfcf;\n",
       "                    border-radius: 4px;\n",
       "                    text-align: center;\n",
       "                    position: relative;\">\n",
       "                  <div class=\"pb-text\" style=\"\n",
       "                      position: absolute;\n",
       "                      width: 100%;\">\n",
       "                    0%\n",
       "                  </div>\n",
       "                  <div class=\"pb-fill\" style=\"\n",
       "                      background-color: #bdd2e6;\n",
       "                      width: 0%;\">\n",
       "                    <style type=\"text/css\" scoped=\"scoped\">\n",
       "                        @keyframes pb-fill-anim {\n",
       "                            0% { background-position: 0 0; }\n",
       "                            100% { background-position: 100px 0; }\n",
       "                        }\n",
       "                    </style>\n",
       "                    &nbsp;\n",
       "                  </div>\n",
       "                </div>"
      ],
      "text/plain": [
       "HtmlProgressBar cannot be displayed. Please use the TerminalProgressBar. It can be enabled with `nengo.rc.set('progress', 'progress_bar', 'nengo.utils.progress.TerminalProgressBar')`."
      ]
     },
     "metadata": {},
     "output_type": "display_data"
    },
    {
     "data": {
      "application/javascript": [
       "\n",
       "              (function () {\n",
       "                  var root = document.getElementById('0759153a-0124-40d3-8bb6-748f9f088975');\n",
       "                  var text = root.getElementsByClassName('pb-text')[0];\n",
       "                  var fill = root.getElementsByClassName('pb-fill')[0];\n",
       "\n",
       "                  text.innerHTML = 'Simulation finished in 0:01:39.';\n",
       "                  \n",
       "            if (100.0 > 0.) {\n",
       "                fill.style.transition = 'width 0.1s linear';\n",
       "            } else {\n",
       "                fill.style.transition = 'none';\n",
       "            }\n",
       "\n",
       "            fill.style.width = '100.0%';\n",
       "            fill.style.animation = 'none';\n",
       "            fill.style.backgroundImage = 'none'\n",
       "        \n",
       "                  \n",
       "                fill.style.animation = 'none';\n",
       "                fill.style.backgroundImage = 'none';\n",
       "            \n",
       "              })();\n",
       "        "
      ],
      "text/plain": [
       "<IPython.core.display.Javascript object>"
      ]
     },
     "metadata": {},
     "output_type": "display_data"
    },
    {
     "name": "stdout",
     "output_type": "stream",
     "text": [
      "seed = 16\n",
      "backend = 'nengo_ocl'\n",
      "dt = 0.001\n",
      "neuron_type = 'default'\n",
      "n_neurons_scale = 1\n",
      "s_crosstalk = 0\n",
      "s_evidence = None\n",
      "t_senso = 0\n",
      "vocab = <nengo_spa.vocabulary.Vocabulary object at 0x7fe8a527e350>\n",
      "xp = <experiments.Xp1 object at 0x7fe8e1cb3c10>\n",
      "proc_feedback = 0.9\n",
      "proc_feedback_synapse = 0.005\n",
      "GW_feedback = 1\n",
      "GW_threshold = 0.5\n",
      "GW_scale = 2\n",
      "BG_thr = 0.1\n",
      "BG_bias = 0.5\n",
      "integrator_reset = True\n",
      "data = <data.Data object at 0x7fe8e17e9f90>\n",
      "\t seed 17/20\n",
      "running run_seed17_dim16\n"
     ]
    },
    {
     "name": "stderr",
     "output_type": "stream",
     "text": [
      "/home/ubuntu/anaconda3/envs/CTN/lib/python3.7/site-packages/nengo_spa/vocabulary.py:173: UserWarning: Could not create a semantic pointer with max_similarity=0.10 (D=16, M=11, similarity=0.20)\n",
      "  len(self._key2idx), best_sim))\n",
      "/home/ubuntu/anaconda3/envs/CTN/lib/python3.7/site-packages/nengo_spa/vocabulary.py:173: UserWarning: Could not create a semantic pointer with max_similarity=0.10 (D=16, M=13, similarity=0.21)\n",
      "  len(self._key2idx), best_sim))\n",
      "/home/ubuntu/anaconda3/envs/CTN/lib/python3.7/site-packages/nengo_spa/vocabulary.py:173: UserWarning: Could not create a semantic pointer with max_similarity=0.10 (D=16, M=16, similarity=0.21)\n",
      "  len(self._key2idx), best_sim))\n",
      "/home/ubuntu/anaconda3/envs/CTN/lib/python3.7/site-packages/nengo_spa/vocabulary.py:173: UserWarning: Could not create a semantic pointer with max_similarity=0.10 (D=16, M=19, similarity=0.30)\n",
      "  len(self._key2idx), best_sim))\n",
      "/home/ubuntu/anaconda3/envs/CTN/lib/python3.7/site-packages/nengo_spa/vocabulary.py:173: UserWarning: Could not create a semantic pointer with max_similarity=0.10 (D=16, M=20, similarity=0.20)\n",
      "  len(self._key2idx), best_sim))\n"
     ]
    },
    {
     "data": {
      "text/html": [
       "\n",
       "                <div id=\"35623bc1-a5ad-42e2-a84e-ffeb1908f331\" style=\"\n",
       "                    width: 100%;\n",
       "                    border: 1px solid #cfcfcf;\n",
       "                    border-radius: 4px;\n",
       "                    text-align: center;\n",
       "                    position: relative;\">\n",
       "                  <div class=\"pb-text\" style=\"\n",
       "                      position: absolute;\n",
       "                      width: 100%;\">\n",
       "                    0%\n",
       "                  </div>\n",
       "                  <div class=\"pb-fill\" style=\"\n",
       "                      background-color: #bdd2e6;\n",
       "                      width: 0%;\">\n",
       "                    <style type=\"text/css\" scoped=\"scoped\">\n",
       "                        @keyframes pb-fill-anim {\n",
       "                            0% { background-position: 0 0; }\n",
       "                            100% { background-position: 100px 0; }\n",
       "                        }\n",
       "                    </style>\n",
       "                    &nbsp;\n",
       "                  </div>\n",
       "                </div>"
      ],
      "text/plain": [
       "HtmlProgressBar cannot be displayed. Please use the TerminalProgressBar. It can be enabled with `nengo.rc.set('progress', 'progress_bar', 'nengo.utils.progress.TerminalProgressBar')`."
      ]
     },
     "metadata": {},
     "output_type": "display_data"
    },
    {
     "data": {
      "application/javascript": [
       "\n",
       "              (function () {\n",
       "                  var root = document.getElementById('35623bc1-a5ad-42e2-a84e-ffeb1908f331');\n",
       "                  var text = root.getElementsByClassName('pb-text')[0];\n",
       "                  var fill = root.getElementsByClassName('pb-fill')[0];\n",
       "\n",
       "                  text.innerHTML = 'Simulation finished in 0:01:39.';\n",
       "                  \n",
       "            if (100.0 > 0.) {\n",
       "                fill.style.transition = 'width 0.1s linear';\n",
       "            } else {\n",
       "                fill.style.transition = 'none';\n",
       "            }\n",
       "\n",
       "            fill.style.width = '100.0%';\n",
       "            fill.style.animation = 'none';\n",
       "            fill.style.backgroundImage = 'none'\n",
       "        \n",
       "                  \n",
       "                fill.style.animation = 'none';\n",
       "                fill.style.backgroundImage = 'none';\n",
       "            \n",
       "              })();\n",
       "        "
      ],
      "text/plain": [
       "<IPython.core.display.Javascript object>"
      ]
     },
     "metadata": {},
     "output_type": "display_data"
    },
    {
     "name": "stdout",
     "output_type": "stream",
     "text": [
      "seed = 17\n",
      "backend = 'nengo_ocl'\n",
      "dt = 0.001\n",
      "neuron_type = 'default'\n",
      "n_neurons_scale = 1\n",
      "s_crosstalk = 0\n",
      "s_evidence = None\n",
      "t_senso = 0\n",
      "vocab = <nengo_spa.vocabulary.Vocabulary object at 0x7fe8cce5db50>\n",
      "xp = <experiments.Xp1 object at 0x7fe8aeb7a090>\n",
      "proc_feedback = 0.9\n",
      "proc_feedback_synapse = 0.005\n",
      "GW_feedback = 1\n",
      "GW_threshold = 0.5\n",
      "GW_scale = 2\n",
      "BG_thr = 0.1\n",
      "BG_bias = 0.5\n",
      "integrator_reset = True\n",
      "data = <data.Data object at 0x7fe8e1cef510>\n",
      "\t seed 18/20\n",
      "running run_seed18_dim16\n"
     ]
    },
    {
     "name": "stderr",
     "output_type": "stream",
     "text": [
      "/home/ubuntu/anaconda3/envs/CTN/lib/python3.7/site-packages/nengo_spa/vocabulary.py:173: UserWarning: Could not create a semantic pointer with max_similarity=0.10 (D=16, M=14, similarity=0.18)\n",
      "  len(self._key2idx), best_sim))\n",
      "/home/ubuntu/anaconda3/envs/CTN/lib/python3.7/site-packages/nengo_spa/vocabulary.py:173: UserWarning: Could not create a semantic pointer with max_similarity=0.10 (D=16, M=18, similarity=0.26)\n",
      "  len(self._key2idx), best_sim))\n",
      "/home/ubuntu/anaconda3/envs/CTN/lib/python3.7/site-packages/nengo_spa/vocabulary.py:173: UserWarning: Could not create a semantic pointer with max_similarity=0.10 (D=16, M=19, similarity=0.22)\n",
      "  len(self._key2idx), best_sim))\n",
      "/home/ubuntu/anaconda3/envs/CTN/lib/python3.7/site-packages/nengo_spa/vocabulary.py:173: UserWarning: Could not create a semantic pointer with max_similarity=0.10 (D=16, M=20, similarity=0.25)\n",
      "  len(self._key2idx), best_sim))\n"
     ]
    },
    {
     "data": {
      "text/html": [
       "\n",
       "                <div id=\"8c6db067-7c4f-406b-8497-13be681cb262\" style=\"\n",
       "                    width: 100%;\n",
       "                    border: 1px solid #cfcfcf;\n",
       "                    border-radius: 4px;\n",
       "                    text-align: center;\n",
       "                    position: relative;\">\n",
       "                  <div class=\"pb-text\" style=\"\n",
       "                      position: absolute;\n",
       "                      width: 100%;\">\n",
       "                    0%\n",
       "                  </div>\n",
       "                  <div class=\"pb-fill\" style=\"\n",
       "                      background-color: #bdd2e6;\n",
       "                      width: 0%;\">\n",
       "                    <style type=\"text/css\" scoped=\"scoped\">\n",
       "                        @keyframes pb-fill-anim {\n",
       "                            0% { background-position: 0 0; }\n",
       "                            100% { background-position: 100px 0; }\n",
       "                        }\n",
       "                    </style>\n",
       "                    &nbsp;\n",
       "                  </div>\n",
       "                </div>"
      ],
      "text/plain": [
       "HtmlProgressBar cannot be displayed. Please use the TerminalProgressBar. It can be enabled with `nengo.rc.set('progress', 'progress_bar', 'nengo.utils.progress.TerminalProgressBar')`."
      ]
     },
     "metadata": {},
     "output_type": "display_data"
    },
    {
     "data": {
      "application/javascript": [
       "\n",
       "              (function () {\n",
       "                  var root = document.getElementById('8c6db067-7c4f-406b-8497-13be681cb262');\n",
       "                  var text = root.getElementsByClassName('pb-text')[0];\n",
       "                  var fill = root.getElementsByClassName('pb-fill')[0];\n",
       "\n",
       "                  text.innerHTML = 'Simulation finished in 0:01:40.';\n",
       "                  \n",
       "            if (100.0 > 0.) {\n",
       "                fill.style.transition = 'width 0.1s linear';\n",
       "            } else {\n",
       "                fill.style.transition = 'none';\n",
       "            }\n",
       "\n",
       "            fill.style.width = '100.0%';\n",
       "            fill.style.animation = 'none';\n",
       "            fill.style.backgroundImage = 'none'\n",
       "        \n",
       "                  \n",
       "                fill.style.animation = 'none';\n",
       "                fill.style.backgroundImage = 'none';\n",
       "            \n",
       "              })();\n",
       "        "
      ],
      "text/plain": [
       "<IPython.core.display.Javascript object>"
      ]
     },
     "metadata": {},
     "output_type": "display_data"
    },
    {
     "name": "stdout",
     "output_type": "stream",
     "text": [
      "seed = 18\n",
      "backend = 'nengo_ocl'\n",
      "dt = 0.001\n",
      "neuron_type = 'default'\n",
      "n_neurons_scale = 1\n",
      "s_crosstalk = 0\n",
      "s_evidence = None\n",
      "t_senso = 0\n",
      "vocab = <nengo_spa.vocabulary.Vocabulary object at 0x7fe8e072b410>\n",
      "xp = <experiments.Xp1 object at 0x7fe8f48564d0>\n",
      "proc_feedback = 0.9\n",
      "proc_feedback_synapse = 0.005\n",
      "GW_feedback = 1\n",
      "GW_threshold = 0.5\n",
      "GW_scale = 2\n",
      "BG_thr = 0.1\n",
      "BG_bias = 0.5\n",
      "integrator_reset = True\n",
      "data = <data.Data object at 0x7fe8a736ff90>\n",
      "\t seed 19/20\n",
      "running run_seed19_dim16\n"
     ]
    },
    {
     "name": "stderr",
     "output_type": "stream",
     "text": [
      "/home/ubuntu/anaconda3/envs/CTN/lib/python3.7/site-packages/nengo_spa/vocabulary.py:173: UserWarning: Could not create a semantic pointer with max_similarity=0.10 (D=16, M=14, similarity=0.15)\n",
      "  len(self._key2idx), best_sim))\n",
      "/home/ubuntu/anaconda3/envs/CTN/lib/python3.7/site-packages/nengo_spa/vocabulary.py:173: UserWarning: Could not create a semantic pointer with max_similarity=0.10 (D=16, M=18, similarity=0.21)\n",
      "  len(self._key2idx), best_sim))\n"
     ]
    },
    {
     "data": {
      "text/html": [
       "\n",
       "                <div id=\"b2a13511-c2bd-4085-9b1b-a01b02919bac\" style=\"\n",
       "                    width: 100%;\n",
       "                    border: 1px solid #cfcfcf;\n",
       "                    border-radius: 4px;\n",
       "                    text-align: center;\n",
       "                    position: relative;\">\n",
       "                  <div class=\"pb-text\" style=\"\n",
       "                      position: absolute;\n",
       "                      width: 100%;\">\n",
       "                    0%\n",
       "                  </div>\n",
       "                  <div class=\"pb-fill\" style=\"\n",
       "                      background-color: #bdd2e6;\n",
       "                      width: 0%;\">\n",
       "                    <style type=\"text/css\" scoped=\"scoped\">\n",
       "                        @keyframes pb-fill-anim {\n",
       "                            0% { background-position: 0 0; }\n",
       "                            100% { background-position: 100px 0; }\n",
       "                        }\n",
       "                    </style>\n",
       "                    &nbsp;\n",
       "                  </div>\n",
       "                </div>"
      ],
      "text/plain": [
       "HtmlProgressBar cannot be displayed. Please use the TerminalProgressBar. It can be enabled with `nengo.rc.set('progress', 'progress_bar', 'nengo.utils.progress.TerminalProgressBar')`."
      ]
     },
     "metadata": {},
     "output_type": "display_data"
    },
    {
     "data": {
      "application/javascript": [
       "\n",
       "              (function () {\n",
       "                  var root = document.getElementById('b2a13511-c2bd-4085-9b1b-a01b02919bac');\n",
       "                  var text = root.getElementsByClassName('pb-text')[0];\n",
       "                  var fill = root.getElementsByClassName('pb-fill')[0];\n",
       "\n",
       "                  text.innerHTML = 'Simulation finished in 0:01:37.';\n",
       "                  \n",
       "            if (100.0 > 0.) {\n",
       "                fill.style.transition = 'width 0.1s linear';\n",
       "            } else {\n",
       "                fill.style.transition = 'none';\n",
       "            }\n",
       "\n",
       "            fill.style.width = '100.0%';\n",
       "            fill.style.animation = 'none';\n",
       "            fill.style.backgroundImage = 'none'\n",
       "        \n",
       "                  \n",
       "                fill.style.animation = 'none';\n",
       "                fill.style.backgroundImage = 'none';\n",
       "            \n",
       "              })();\n",
       "        "
      ],
      "text/plain": [
       "<IPython.core.display.Javascript object>"
      ]
     },
     "metadata": {},
     "output_type": "display_data"
    },
    {
     "name": "stdout",
     "output_type": "stream",
     "text": [
      "seed = 19\n",
      "backend = 'nengo_ocl'\n",
      "dt = 0.001\n",
      "neuron_type = 'default'\n",
      "n_neurons_scale = 1\n",
      "s_crosstalk = 0\n",
      "s_evidence = None\n",
      "t_senso = 0\n",
      "vocab = <nengo_spa.vocabulary.Vocabulary object at 0x7fe8a5054a90>\n",
      "xp = <experiments.Xp1 object at 0x7fe8e072bd90>\n",
      "proc_feedback = 0.9\n",
      "proc_feedback_synapse = 0.005\n",
      "GW_feedback = 1\n",
      "GW_threshold = 0.5\n",
      "GW_scale = 2\n",
      "BG_thr = 0.1\n",
      "BG_bias = 0.5\n",
      "integrator_reset = True\n",
      "data = <data.Data object at 0x7fe8a504e250>\n",
      "\t seed 20/20\n",
      "running run_seed20_dim16\n"
     ]
    },
    {
     "name": "stderr",
     "output_type": "stream",
     "text": [
      "/home/ubuntu/anaconda3/envs/CTN/lib/python3.7/site-packages/nengo_spa/vocabulary.py:173: UserWarning: Could not create a semantic pointer with max_similarity=0.10 (D=16, M=8, similarity=0.14)\n",
      "  len(self._key2idx), best_sim))\n",
      "/home/ubuntu/anaconda3/envs/CTN/lib/python3.7/site-packages/nengo_spa/vocabulary.py:173: UserWarning: Could not create a semantic pointer with max_similarity=0.10 (D=16, M=10, similarity=0.23)\n",
      "  len(self._key2idx), best_sim))\n",
      "/home/ubuntu/anaconda3/envs/CTN/lib/python3.7/site-packages/nengo_spa/vocabulary.py:173: UserWarning: Could not create a semantic pointer with max_similarity=0.10 (D=16, M=15, similarity=0.18)\n",
      "  len(self._key2idx), best_sim))\n"
     ]
    },
    {
     "data": {
      "text/html": [
       "\n",
       "                <div id=\"4dd9047d-70f6-444d-a21d-b936aa41ba87\" style=\"\n",
       "                    width: 100%;\n",
       "                    border: 1px solid #cfcfcf;\n",
       "                    border-radius: 4px;\n",
       "                    text-align: center;\n",
       "                    position: relative;\">\n",
       "                  <div class=\"pb-text\" style=\"\n",
       "                      position: absolute;\n",
       "                      width: 100%;\">\n",
       "                    0%\n",
       "                  </div>\n",
       "                  <div class=\"pb-fill\" style=\"\n",
       "                      background-color: #bdd2e6;\n",
       "                      width: 0%;\">\n",
       "                    <style type=\"text/css\" scoped=\"scoped\">\n",
       "                        @keyframes pb-fill-anim {\n",
       "                            0% { background-position: 0 0; }\n",
       "                            100% { background-position: 100px 0; }\n",
       "                        }\n",
       "                    </style>\n",
       "                    &nbsp;\n",
       "                  </div>\n",
       "                </div>"
      ],
      "text/plain": [
       "HtmlProgressBar cannot be displayed. Please use the TerminalProgressBar. It can be enabled with `nengo.rc.set('progress', 'progress_bar', 'nengo.utils.progress.TerminalProgressBar')`."
      ]
     },
     "metadata": {},
     "output_type": "display_data"
    },
    {
     "data": {
      "application/javascript": [
       "\n",
       "              (function () {\n",
       "                  var root = document.getElementById('4dd9047d-70f6-444d-a21d-b936aa41ba87');\n",
       "                  var text = root.getElementsByClassName('pb-text')[0];\n",
       "                  var fill = root.getElementsByClassName('pb-fill')[0];\n",
       "\n",
       "                  text.innerHTML = 'Simulation finished in 0:01:38.';\n",
       "                  \n",
       "            if (100.0 > 0.) {\n",
       "                fill.style.transition = 'width 0.1s linear';\n",
       "            } else {\n",
       "                fill.style.transition = 'none';\n",
       "            }\n",
       "\n",
       "            fill.style.width = '100.0%';\n",
       "            fill.style.animation = 'none';\n",
       "            fill.style.backgroundImage = 'none'\n",
       "        \n",
       "                  \n",
       "                fill.style.animation = 'none';\n",
       "                fill.style.backgroundImage = 'none';\n",
       "            \n",
       "              })();\n",
       "        "
      ],
      "text/plain": [
       "<IPython.core.display.Javascript object>"
      ]
     },
     "metadata": {},
     "output_type": "display_data"
    },
    {
     "name": "stdout",
     "output_type": "stream",
     "text": [
      "seed = 20\n",
      "backend = 'nengo_ocl'\n",
      "dt = 0.001\n",
      "neuron_type = 'default'\n",
      "n_neurons_scale = 1\n",
      "s_crosstalk = 0\n",
      "s_evidence = None\n",
      "t_senso = 0\n",
      "vocab = <nengo_spa.vocabulary.Vocabulary object at 0x7fe8e17b26d0>\n",
      "xp = <experiments.Xp1 object at 0x7fe8e17b2790>\n",
      "proc_feedback = 0.9\n",
      "proc_feedback_synapse = 0.005\n",
      "GW_feedback = 1\n",
      "GW_threshold = 0.5\n",
      "GW_scale = 2\n",
      "BG_thr = 0.1\n",
      "BG_bias = 0.5\n",
      "integrator_reset = True\n",
      "data = <data.Data object at 0x7fe8a7378ed0>\n",
      "error rate: 0.8354166666666667\n",
      "params: [2.]\n",
      "Simulating...\n",
      "\t seed 1/20\n",
      "running run_seed1_dim32\n"
     ]
    },
    {
     "name": "stderr",
     "output_type": "stream",
     "text": [
      "/home/ubuntu/anaconda3/envs/CTN/lib/python3.7/site-packages/nengo_spa/vocabulary.py:173: UserWarning: Could not create a semantic pointer with max_similarity=0.10 (D=32, M=11, similarity=0.12)\n",
      "  len(self._key2idx), best_sim))\n",
      "/home/ubuntu/anaconda3/envs/CTN/lib/python3.7/site-packages/nengo_spa/vocabulary.py:173: UserWarning: Could not create a semantic pointer with max_similarity=0.10 (D=32, M=13, similarity=0.13)\n",
      "  len(self._key2idx), best_sim))\n",
      "/home/ubuntu/anaconda3/envs/CTN/lib/python3.7/site-packages/nengo_spa/vocabulary.py:173: UserWarning: Could not create a semantic pointer with max_similarity=0.10 (D=32, M=14, similarity=0.14)\n",
      "  len(self._key2idx), best_sim))\n",
      "/home/ubuntu/anaconda3/envs/CTN/lib/python3.7/site-packages/nengo_spa/vocabulary.py:173: UserWarning: Could not create a semantic pointer with max_similarity=0.10 (D=32, M=15, similarity=0.16)\n",
      "  len(self._key2idx), best_sim))\n",
      "/home/ubuntu/anaconda3/envs/CTN/lib/python3.7/site-packages/nengo_spa/vocabulary.py:173: UserWarning: Could not create a semantic pointer with max_similarity=0.10 (D=32, M=16, similarity=0.13)\n",
      "  len(self._key2idx), best_sim))\n",
      "/home/ubuntu/anaconda3/envs/CTN/lib/python3.7/site-packages/nengo_spa/vocabulary.py:173: UserWarning: Could not create a semantic pointer with max_similarity=0.10 (D=32, M=17, similarity=0.12)\n",
      "  len(self._key2idx), best_sim))\n",
      "/home/ubuntu/anaconda3/envs/CTN/lib/python3.7/site-packages/nengo_spa/vocabulary.py:173: UserWarning: Could not create a semantic pointer with max_similarity=0.10 (D=32, M=18, similarity=0.18)\n",
      "  len(self._key2idx), best_sim))\n",
      "/home/ubuntu/anaconda3/envs/CTN/lib/python3.7/site-packages/nengo_spa/vocabulary.py:173: UserWarning: Could not create a semantic pointer with max_similarity=0.10 (D=32, M=19, similarity=0.16)\n",
      "  len(self._key2idx), best_sim))\n",
      "/home/ubuntu/anaconda3/envs/CTN/lib/python3.7/site-packages/nengo_spa/vocabulary.py:173: UserWarning: Could not create a semantic pointer with max_similarity=0.10 (D=32, M=20, similarity=0.20)\n",
      "  len(self._key2idx), best_sim))\n",
      "/home/ubuntu/anaconda3/envs/CTN/lib/python3.7/site-packages/nengo_spa/vocabulary.py:173: UserWarning: Could not create a semantic pointer with max_similarity=0.10 (D=32, M=21, similarity=0.21)\n",
      "  len(self._key2idx), best_sim))\n"
     ]
    },
    {
     "data": {
      "text/html": [
       "\n",
       "                <div id=\"f9b48156-3104-446b-b1ca-2bc35f1ea9db\" style=\"\n",
       "                    width: 100%;\n",
       "                    border: 1px solid #cfcfcf;\n",
       "                    border-radius: 4px;\n",
       "                    text-align: center;\n",
       "                    position: relative;\">\n",
       "                  <div class=\"pb-text\" style=\"\n",
       "                      position: absolute;\n",
       "                      width: 100%;\">\n",
       "                    0%\n",
       "                  </div>\n",
       "                  <div class=\"pb-fill\" style=\"\n",
       "                      background-color: #bdd2e6;\n",
       "                      width: 0%;\">\n",
       "                    <style type=\"text/css\" scoped=\"scoped\">\n",
       "                        @keyframes pb-fill-anim {\n",
       "                            0% { background-position: 0 0; }\n",
       "                            100% { background-position: 100px 0; }\n",
       "                        }\n",
       "                    </style>\n",
       "                    &nbsp;\n",
       "                  </div>\n",
       "                </div>"
      ],
      "text/plain": [
       "HtmlProgressBar cannot be displayed. Please use the TerminalProgressBar. It can be enabled with `nengo.rc.set('progress', 'progress_bar', 'nengo.utils.progress.TerminalProgressBar')`."
      ]
     },
     "metadata": {},
     "output_type": "display_data"
    },
    {
     "data": {
      "application/javascript": [
       "\n",
       "              (function () {\n",
       "                  var root = document.getElementById('f9b48156-3104-446b-b1ca-2bc35f1ea9db');\n",
       "                  var text = root.getElementsByClassName('pb-text')[0];\n",
       "                  var fill = root.getElementsByClassName('pb-fill')[0];\n",
       "\n",
       "                  text.innerHTML = 'Simulation finished in 0:01:40.';\n",
       "                  \n",
       "            if (100.0 > 0.) {\n",
       "                fill.style.transition = 'width 0.1s linear';\n",
       "            } else {\n",
       "                fill.style.transition = 'none';\n",
       "            }\n",
       "\n",
       "            fill.style.width = '100.0%';\n",
       "            fill.style.animation = 'none';\n",
       "            fill.style.backgroundImage = 'none'\n",
       "        \n",
       "                  \n",
       "                fill.style.animation = 'none';\n",
       "                fill.style.backgroundImage = 'none';\n",
       "            \n",
       "              })();\n",
       "        "
      ],
      "text/plain": [
       "<IPython.core.display.Javascript object>"
      ]
     },
     "metadata": {},
     "output_type": "display_data"
    },
    {
     "name": "stdout",
     "output_type": "stream",
     "text": [
      "seed = 1\n",
      "backend = 'nengo_ocl'\n",
      "dt = 0.001\n",
      "neuron_type = 'default'\n",
      "n_neurons_scale = 1\n",
      "s_crosstalk = 0\n",
      "s_evidence = None\n",
      "t_senso = 0\n",
      "vocab = <nengo_spa.vocabulary.Vocabulary object at 0x7fe8a4ac1210>\n",
      "xp = <experiments.Xp1 object at 0x7fe8a4ac1c50>\n",
      "proc_feedback = 0.9\n",
      "proc_feedback_synapse = 0.005\n",
      "GW_feedback = 1\n",
      "GW_threshold = 0.5\n",
      "GW_scale = 2\n",
      "BG_thr = 0.1\n",
      "BG_bias = 0.5\n",
      "integrator_reset = True\n",
      "data = <data.Data object at 0x7fe8e16c95d0>\n",
      "\t seed 2/20\n",
      "running run_seed2_dim32\n"
     ]
    },
    {
     "name": "stderr",
     "output_type": "stream",
     "text": [
      "/home/ubuntu/anaconda3/envs/CTN/lib/python3.7/site-packages/nengo_spa/vocabulary.py:173: UserWarning: Could not create a semantic pointer with max_similarity=0.10 (D=32, M=11, similarity=0.13)\n",
      "  len(self._key2idx), best_sim))\n",
      "/home/ubuntu/anaconda3/envs/CTN/lib/python3.7/site-packages/nengo_spa/vocabulary.py:173: UserWarning: Could not create a semantic pointer with max_similarity=0.10 (D=32, M=14, similarity=0.17)\n",
      "  len(self._key2idx), best_sim))\n",
      "/home/ubuntu/anaconda3/envs/CTN/lib/python3.7/site-packages/nengo_spa/vocabulary.py:173: UserWarning: Could not create a semantic pointer with max_similarity=0.10 (D=32, M=15, similarity=0.14)\n",
      "  len(self._key2idx), best_sim))\n",
      "/home/ubuntu/anaconda3/envs/CTN/lib/python3.7/site-packages/nengo_spa/vocabulary.py:173: UserWarning: Could not create a semantic pointer with max_similarity=0.10 (D=32, M=16, similarity=0.10)\n",
      "  len(self._key2idx), best_sim))\n",
      "/home/ubuntu/anaconda3/envs/CTN/lib/python3.7/site-packages/nengo_spa/vocabulary.py:173: UserWarning: Could not create a semantic pointer with max_similarity=0.10 (D=32, M=17, similarity=0.14)\n",
      "  len(self._key2idx), best_sim))\n",
      "/home/ubuntu/anaconda3/envs/CTN/lib/python3.7/site-packages/nengo_spa/vocabulary.py:173: UserWarning: Could not create a semantic pointer with max_similarity=0.10 (D=32, M=19, similarity=0.17)\n",
      "  len(self._key2idx), best_sim))\n",
      "/home/ubuntu/anaconda3/envs/CTN/lib/python3.7/site-packages/nengo_spa/vocabulary.py:173: UserWarning: Could not create a semantic pointer with max_similarity=0.10 (D=32, M=20, similarity=0.18)\n",
      "  len(self._key2idx), best_sim))\n",
      "/home/ubuntu/anaconda3/envs/CTN/lib/python3.7/site-packages/nengo_spa/vocabulary.py:173: UserWarning: Could not create a semantic pointer with max_similarity=0.10 (D=32, M=21, similarity=0.18)\n",
      "  len(self._key2idx), best_sim))\n"
     ]
    },
    {
     "data": {
      "text/html": [
       "\n",
       "                <div id=\"cb516f57-6fc2-46ae-9f3e-5f66f5bf00a1\" style=\"\n",
       "                    width: 100%;\n",
       "                    border: 1px solid #cfcfcf;\n",
       "                    border-radius: 4px;\n",
       "                    text-align: center;\n",
       "                    position: relative;\">\n",
       "                  <div class=\"pb-text\" style=\"\n",
       "                      position: absolute;\n",
       "                      width: 100%;\">\n",
       "                    0%\n",
       "                  </div>\n",
       "                  <div class=\"pb-fill\" style=\"\n",
       "                      background-color: #bdd2e6;\n",
       "                      width: 0%;\">\n",
       "                    <style type=\"text/css\" scoped=\"scoped\">\n",
       "                        @keyframes pb-fill-anim {\n",
       "                            0% { background-position: 0 0; }\n",
       "                            100% { background-position: 100px 0; }\n",
       "                        }\n",
       "                    </style>\n",
       "                    &nbsp;\n",
       "                  </div>\n",
       "                </div>"
      ],
      "text/plain": [
       "HtmlProgressBar cannot be displayed. Please use the TerminalProgressBar. It can be enabled with `nengo.rc.set('progress', 'progress_bar', 'nengo.utils.progress.TerminalProgressBar')`."
      ]
     },
     "metadata": {},
     "output_type": "display_data"
    },
    {
     "data": {
      "application/javascript": [
       "\n",
       "              (function () {\n",
       "                  var root = document.getElementById('cb516f57-6fc2-46ae-9f3e-5f66f5bf00a1');\n",
       "                  var text = root.getElementsByClassName('pb-text')[0];\n",
       "                  var fill = root.getElementsByClassName('pb-fill')[0];\n",
       "\n",
       "                  text.innerHTML = 'Simulation finished in 0:01:38.';\n",
       "                  \n",
       "            if (100.0 > 0.) {\n",
       "                fill.style.transition = 'width 0.1s linear';\n",
       "            } else {\n",
       "                fill.style.transition = 'none';\n",
       "            }\n",
       "\n",
       "            fill.style.width = '100.0%';\n",
       "            fill.style.animation = 'none';\n",
       "            fill.style.backgroundImage = 'none'\n",
       "        \n",
       "                  \n",
       "                fill.style.animation = 'none';\n",
       "                fill.style.backgroundImage = 'none';\n",
       "            \n",
       "              })();\n",
       "        "
      ],
      "text/plain": [
       "<IPython.core.display.Javascript object>"
      ]
     },
     "metadata": {},
     "output_type": "display_data"
    },
    {
     "name": "stdout",
     "output_type": "stream",
     "text": [
      "seed = 2\n",
      "backend = 'nengo_ocl'\n",
      "dt = 0.001\n",
      "neuron_type = 'default'\n",
      "n_neurons_scale = 1\n",
      "s_crosstalk = 0\n",
      "s_evidence = None\n",
      "t_senso = 0\n",
      "vocab = <nengo_spa.vocabulary.Vocabulary object at 0x7fe8e20f5410>\n",
      "xp = <experiments.Xp1 object at 0x7fe8a4ac1b90>\n",
      "proc_feedback = 0.9\n",
      "proc_feedback_synapse = 0.005\n",
      "GW_feedback = 1\n",
      "GW_threshold = 0.5\n",
      "GW_scale = 2\n",
      "BG_thr = 0.1\n",
      "BG_bias = 0.5\n",
      "integrator_reset = True\n",
      "data = <data.Data object at 0x7fe8a5adb550>\n",
      "\t seed 3/20\n",
      "running run_seed3_dim32\n"
     ]
    },
    {
     "name": "stderr",
     "output_type": "stream",
     "text": [
      "/home/ubuntu/anaconda3/envs/CTN/lib/python3.7/site-packages/nengo_spa/vocabulary.py:173: UserWarning: Could not create a semantic pointer with max_similarity=0.10 (D=32, M=12, similarity=0.14)\n",
      "  len(self._key2idx), best_sim))\n",
      "/home/ubuntu/anaconda3/envs/CTN/lib/python3.7/site-packages/nengo_spa/vocabulary.py:173: UserWarning: Could not create a semantic pointer with max_similarity=0.10 (D=32, M=14, similarity=0.16)\n",
      "  len(self._key2idx), best_sim))\n",
      "/home/ubuntu/anaconda3/envs/CTN/lib/python3.7/site-packages/nengo_spa/vocabulary.py:173: UserWarning: Could not create a semantic pointer with max_similarity=0.10 (D=32, M=15, similarity=0.17)\n",
      "  len(self._key2idx), best_sim))\n",
      "/home/ubuntu/anaconda3/envs/CTN/lib/python3.7/site-packages/nengo_spa/vocabulary.py:173: UserWarning: Could not create a semantic pointer with max_similarity=0.10 (D=32, M=16, similarity=0.14)\n",
      "  len(self._key2idx), best_sim))\n",
      "/home/ubuntu/anaconda3/envs/CTN/lib/python3.7/site-packages/nengo_spa/vocabulary.py:173: UserWarning: Could not create a semantic pointer with max_similarity=0.10 (D=32, M=17, similarity=0.18)\n",
      "  len(self._key2idx), best_sim))\n",
      "/home/ubuntu/anaconda3/envs/CTN/lib/python3.7/site-packages/nengo_spa/vocabulary.py:173: UserWarning: Could not create a semantic pointer with max_similarity=0.10 (D=32, M=18, similarity=0.14)\n",
      "  len(self._key2idx), best_sim))\n",
      "/home/ubuntu/anaconda3/envs/CTN/lib/python3.7/site-packages/nengo_spa/vocabulary.py:173: UserWarning: Could not create a semantic pointer with max_similarity=0.10 (D=32, M=19, similarity=0.19)\n",
      "  len(self._key2idx), best_sim))\n",
      "/home/ubuntu/anaconda3/envs/CTN/lib/python3.7/site-packages/nengo_spa/vocabulary.py:173: UserWarning: Could not create a semantic pointer with max_similarity=0.10 (D=32, M=20, similarity=0.17)\n",
      "  len(self._key2idx), best_sim))\n",
      "/home/ubuntu/anaconda3/envs/CTN/lib/python3.7/site-packages/nengo_spa/vocabulary.py:173: UserWarning: Could not create a semantic pointer with max_similarity=0.10 (D=32, M=21, similarity=0.16)\n",
      "  len(self._key2idx), best_sim))\n"
     ]
    },
    {
     "data": {
      "text/html": [
       "\n",
       "                <div id=\"a6a99aff-af5f-44d4-9554-cf8f8b0fb8c2\" style=\"\n",
       "                    width: 100%;\n",
       "                    border: 1px solid #cfcfcf;\n",
       "                    border-radius: 4px;\n",
       "                    text-align: center;\n",
       "                    position: relative;\">\n",
       "                  <div class=\"pb-text\" style=\"\n",
       "                      position: absolute;\n",
       "                      width: 100%;\">\n",
       "                    0%\n",
       "                  </div>\n",
       "                  <div class=\"pb-fill\" style=\"\n",
       "                      background-color: #bdd2e6;\n",
       "                      width: 0%;\">\n",
       "                    <style type=\"text/css\" scoped=\"scoped\">\n",
       "                        @keyframes pb-fill-anim {\n",
       "                            0% { background-position: 0 0; }\n",
       "                            100% { background-position: 100px 0; }\n",
       "                        }\n",
       "                    </style>\n",
       "                    &nbsp;\n",
       "                  </div>\n",
       "                </div>"
      ],
      "text/plain": [
       "HtmlProgressBar cannot be displayed. Please use the TerminalProgressBar. It can be enabled with `nengo.rc.set('progress', 'progress_bar', 'nengo.utils.progress.TerminalProgressBar')`."
      ]
     },
     "metadata": {},
     "output_type": "display_data"
    },
    {
     "data": {
      "application/javascript": [
       "\n",
       "              (function () {\n",
       "                  var root = document.getElementById('a6a99aff-af5f-44d4-9554-cf8f8b0fb8c2');\n",
       "                  var text = root.getElementsByClassName('pb-text')[0];\n",
       "                  var fill = root.getElementsByClassName('pb-fill')[0];\n",
       "\n",
       "                  text.innerHTML = 'Simulation finished in 0:01:36.';\n",
       "                  \n",
       "            if (100.0 > 0.) {\n",
       "                fill.style.transition = 'width 0.1s linear';\n",
       "            } else {\n",
       "                fill.style.transition = 'none';\n",
       "            }\n",
       "\n",
       "            fill.style.width = '100.0%';\n",
       "            fill.style.animation = 'none';\n",
       "            fill.style.backgroundImage = 'none'\n",
       "        \n",
       "                  \n",
       "                fill.style.animation = 'none';\n",
       "                fill.style.backgroundImage = 'none';\n",
       "            \n",
       "              })();\n",
       "        "
      ],
      "text/plain": [
       "<IPython.core.display.Javascript object>"
      ]
     },
     "metadata": {},
     "output_type": "display_data"
    },
    {
     "name": "stdout",
     "output_type": "stream",
     "text": [
      "seed = 3\n",
      "backend = 'nengo_ocl'\n",
      "dt = 0.001\n",
      "neuron_type = 'default'\n",
      "n_neurons_scale = 1\n",
      "s_crosstalk = 0\n",
      "s_evidence = None\n",
      "t_senso = 0\n",
      "vocab = <nengo_spa.vocabulary.Vocabulary object at 0x7fe8a5154f50>\n",
      "xp = <experiments.Xp1 object at 0x7fe8d80ff110>\n",
      "proc_feedback = 0.9\n",
      "proc_feedback_synapse = 0.005\n",
      "GW_feedback = 1\n",
      "GW_threshold = 0.5\n",
      "GW_scale = 2\n",
      "BG_thr = 0.1\n",
      "BG_bias = 0.5\n",
      "integrator_reset = True\n",
      "data = <data.Data object at 0x7fe8a5171d50>\n",
      "\t seed 4/20\n",
      "running run_seed4_dim32\n"
     ]
    },
    {
     "name": "stderr",
     "output_type": "stream",
     "text": [
      "/home/ubuntu/anaconda3/envs/CTN/lib/python3.7/site-packages/nengo_spa/vocabulary.py:173: UserWarning: Could not create a semantic pointer with max_similarity=0.10 (D=32, M=9, similarity=0.10)\n",
      "  len(self._key2idx), best_sim))\n",
      "/home/ubuntu/anaconda3/envs/CTN/lib/python3.7/site-packages/nengo_spa/vocabulary.py:173: UserWarning: Could not create a semantic pointer with max_similarity=0.10 (D=32, M=13, similarity=0.14)\n",
      "  len(self._key2idx), best_sim))\n",
      "/home/ubuntu/anaconda3/envs/CTN/lib/python3.7/site-packages/nengo_spa/vocabulary.py:173: UserWarning: Could not create a semantic pointer with max_similarity=0.10 (D=32, M=14, similarity=0.12)\n",
      "  len(self._key2idx), best_sim))\n",
      "/home/ubuntu/anaconda3/envs/CTN/lib/python3.7/site-packages/nengo_spa/vocabulary.py:173: UserWarning: Could not create a semantic pointer with max_similarity=0.10 (D=32, M=16, similarity=0.11)\n",
      "  len(self._key2idx), best_sim))\n",
      "/home/ubuntu/anaconda3/envs/CTN/lib/python3.7/site-packages/nengo_spa/vocabulary.py:173: UserWarning: Could not create a semantic pointer with max_similarity=0.10 (D=32, M=18, similarity=0.17)\n",
      "  len(self._key2idx), best_sim))\n",
      "/home/ubuntu/anaconda3/envs/CTN/lib/python3.7/site-packages/nengo_spa/vocabulary.py:173: UserWarning: Could not create a semantic pointer with max_similarity=0.10 (D=32, M=19, similarity=0.20)\n",
      "  len(self._key2idx), best_sim))\n",
      "/home/ubuntu/anaconda3/envs/CTN/lib/python3.7/site-packages/nengo_spa/vocabulary.py:173: UserWarning: Could not create a semantic pointer with max_similarity=0.10 (D=32, M=20, similarity=0.15)\n",
      "  len(self._key2idx), best_sim))\n",
      "/home/ubuntu/anaconda3/envs/CTN/lib/python3.7/site-packages/nengo_spa/vocabulary.py:173: UserWarning: Could not create a semantic pointer with max_similarity=0.10 (D=32, M=21, similarity=0.20)\n",
      "  len(self._key2idx), best_sim))\n"
     ]
    },
    {
     "data": {
      "text/html": [
       "\n",
       "                <div id=\"8f142740-ff31-45f6-aa7a-9be6efb18f9d\" style=\"\n",
       "                    width: 100%;\n",
       "                    border: 1px solid #cfcfcf;\n",
       "                    border-radius: 4px;\n",
       "                    text-align: center;\n",
       "                    position: relative;\">\n",
       "                  <div class=\"pb-text\" style=\"\n",
       "                      position: absolute;\n",
       "                      width: 100%;\">\n",
       "                    0%\n",
       "                  </div>\n",
       "                  <div class=\"pb-fill\" style=\"\n",
       "                      background-color: #bdd2e6;\n",
       "                      width: 0%;\">\n",
       "                    <style type=\"text/css\" scoped=\"scoped\">\n",
       "                        @keyframes pb-fill-anim {\n",
       "                            0% { background-position: 0 0; }\n",
       "                            100% { background-position: 100px 0; }\n",
       "                        }\n",
       "                    </style>\n",
       "                    &nbsp;\n",
       "                  </div>\n",
       "                </div>"
      ],
      "text/plain": [
       "HtmlProgressBar cannot be displayed. Please use the TerminalProgressBar. It can be enabled with `nengo.rc.set('progress', 'progress_bar', 'nengo.utils.progress.TerminalProgressBar')`."
      ]
     },
     "metadata": {},
     "output_type": "display_data"
    },
    {
     "data": {
      "application/javascript": [
       "\n",
       "              (function () {\n",
       "                  var root = document.getElementById('8f142740-ff31-45f6-aa7a-9be6efb18f9d');\n",
       "                  var text = root.getElementsByClassName('pb-text')[0];\n",
       "                  var fill = root.getElementsByClassName('pb-fill')[0];\n",
       "\n",
       "                  text.innerHTML = 'Simulation finished in 0:01:37.';\n",
       "                  \n",
       "            if (100.0 > 0.) {\n",
       "                fill.style.transition = 'width 0.1s linear';\n",
       "            } else {\n",
       "                fill.style.transition = 'none';\n",
       "            }\n",
       "\n",
       "            fill.style.width = '100.0%';\n",
       "            fill.style.animation = 'none';\n",
       "            fill.style.backgroundImage = 'none'\n",
       "        \n",
       "                  \n",
       "                fill.style.animation = 'none';\n",
       "                fill.style.backgroundImage = 'none';\n",
       "            \n",
       "              })();\n",
       "        "
      ],
      "text/plain": [
       "<IPython.core.display.Javascript object>"
      ]
     },
     "metadata": {},
     "output_type": "display_data"
    },
    {
     "name": "stdout",
     "output_type": "stream",
     "text": [
      "seed = 4\n",
      "backend = 'nengo_ocl'\n",
      "dt = 0.001\n",
      "neuron_type = 'default'\n",
      "n_neurons_scale = 1\n",
      "s_crosstalk = 0\n",
      "s_evidence = None\n",
      "t_senso = 0\n",
      "vocab = <nengo_spa.vocabulary.Vocabulary object at 0x7fe8e1557190>\n",
      "xp = <experiments.Xp1 object at 0x7fe8d80f95d0>\n",
      "proc_feedback = 0.9\n",
      "proc_feedback_synapse = 0.005\n",
      "GW_feedback = 1\n",
      "GW_threshold = 0.5\n",
      "GW_scale = 2\n",
      "BG_thr = 0.1\n",
      "BG_bias = 0.5\n",
      "integrator_reset = True\n",
      "data = <data.Data object at 0x7fe8e1cfe410>\n",
      "\t seed 5/20\n",
      "running run_seed5_dim32\n"
     ]
    },
    {
     "name": "stderr",
     "output_type": "stream",
     "text": [
      "/home/ubuntu/anaconda3/envs/CTN/lib/python3.7/site-packages/nengo_spa/vocabulary.py:173: UserWarning: Could not create a semantic pointer with max_similarity=0.10 (D=32, M=12, similarity=0.10)\n",
      "  len(self._key2idx), best_sim))\n",
      "/home/ubuntu/anaconda3/envs/CTN/lib/python3.7/site-packages/nengo_spa/vocabulary.py:173: UserWarning: Could not create a semantic pointer with max_similarity=0.10 (D=32, M=14, similarity=0.10)\n",
      "  len(self._key2idx), best_sim))\n",
      "/home/ubuntu/anaconda3/envs/CTN/lib/python3.7/site-packages/nengo_spa/vocabulary.py:173: UserWarning: Could not create a semantic pointer with max_similarity=0.10 (D=32, M=15, similarity=0.19)\n",
      "  len(self._key2idx), best_sim))\n",
      "/home/ubuntu/anaconda3/envs/CTN/lib/python3.7/site-packages/nengo_spa/vocabulary.py:173: UserWarning: Could not create a semantic pointer with max_similarity=0.10 (D=32, M=16, similarity=0.16)\n",
      "  len(self._key2idx), best_sim))\n",
      "/home/ubuntu/anaconda3/envs/CTN/lib/python3.7/site-packages/nengo_spa/vocabulary.py:173: UserWarning: Could not create a semantic pointer with max_similarity=0.10 (D=32, M=17, similarity=0.16)\n",
      "  len(self._key2idx), best_sim))\n",
      "/home/ubuntu/anaconda3/envs/CTN/lib/python3.7/site-packages/nengo_spa/vocabulary.py:173: UserWarning: Could not create a semantic pointer with max_similarity=0.10 (D=32, M=19, similarity=0.18)\n",
      "  len(self._key2idx), best_sim))\n",
      "/home/ubuntu/anaconda3/envs/CTN/lib/python3.7/site-packages/nengo_spa/vocabulary.py:173: UserWarning: Could not create a semantic pointer with max_similarity=0.10 (D=32, M=21, similarity=0.19)\n",
      "  len(self._key2idx), best_sim))\n"
     ]
    },
    {
     "data": {
      "text/html": [
       "\n",
       "                <div id=\"979d8c6b-d21f-4a46-882e-669a6212346b\" style=\"\n",
       "                    width: 100%;\n",
       "                    border: 1px solid #cfcfcf;\n",
       "                    border-radius: 4px;\n",
       "                    text-align: center;\n",
       "                    position: relative;\">\n",
       "                  <div class=\"pb-text\" style=\"\n",
       "                      position: absolute;\n",
       "                      width: 100%;\">\n",
       "                    0%\n",
       "                  </div>\n",
       "                  <div class=\"pb-fill\" style=\"\n",
       "                      background-color: #bdd2e6;\n",
       "                      width: 0%;\">\n",
       "                    <style type=\"text/css\" scoped=\"scoped\">\n",
       "                        @keyframes pb-fill-anim {\n",
       "                            0% { background-position: 0 0; }\n",
       "                            100% { background-position: 100px 0; }\n",
       "                        }\n",
       "                    </style>\n",
       "                    &nbsp;\n",
       "                  </div>\n",
       "                </div>"
      ],
      "text/plain": [
       "HtmlProgressBar cannot be displayed. Please use the TerminalProgressBar. It can be enabled with `nengo.rc.set('progress', 'progress_bar', 'nengo.utils.progress.TerminalProgressBar')`."
      ]
     },
     "metadata": {},
     "output_type": "display_data"
    },
    {
     "data": {
      "application/javascript": [
       "\n",
       "              (function () {\n",
       "                  var root = document.getElementById('979d8c6b-d21f-4a46-882e-669a6212346b');\n",
       "                  var text = root.getElementsByClassName('pb-text')[0];\n",
       "                  var fill = root.getElementsByClassName('pb-fill')[0];\n",
       "\n",
       "                  text.innerHTML = 'Simulation finished in 0:01:36.';\n",
       "                  \n",
       "            if (100.0 > 0.) {\n",
       "                fill.style.transition = 'width 0.1s linear';\n",
       "            } else {\n",
       "                fill.style.transition = 'none';\n",
       "            }\n",
       "\n",
       "            fill.style.width = '100.0%';\n",
       "            fill.style.animation = 'none';\n",
       "            fill.style.backgroundImage = 'none'\n",
       "        \n",
       "                  \n",
       "                fill.style.animation = 'none';\n",
       "                fill.style.backgroundImage = 'none';\n",
       "            \n",
       "              })();\n",
       "        "
      ],
      "text/plain": [
       "<IPython.core.display.Javascript object>"
      ]
     },
     "metadata": {},
     "output_type": "display_data"
    },
    {
     "name": "stdout",
     "output_type": "stream",
     "text": [
      "seed = 5\n",
      "backend = 'nengo_ocl'\n",
      "dt = 0.001\n",
      "neuron_type = 'default'\n",
      "n_neurons_scale = 1\n",
      "s_crosstalk = 0\n",
      "s_evidence = None\n",
      "t_senso = 0\n",
      "vocab = <nengo_spa.vocabulary.Vocabulary object at 0x7fe8e1cfee90>\n",
      "xp = <experiments.Xp1 object at 0x7fe8a4e37590>\n",
      "proc_feedback = 0.9\n",
      "proc_feedback_synapse = 0.005\n",
      "GW_feedback = 1\n",
      "GW_threshold = 0.5\n",
      "GW_scale = 2\n",
      "BG_thr = 0.1\n",
      "BG_bias = 0.5\n",
      "integrator_reset = True\n",
      "data = <data.Data object at 0x7fe8e1684dd0>\n",
      "\t seed 6/20\n",
      "running run_seed6_dim32\n"
     ]
    },
    {
     "name": "stderr",
     "output_type": "stream",
     "text": [
      "/home/ubuntu/anaconda3/envs/CTN/lib/python3.7/site-packages/nengo_spa/vocabulary.py:173: UserWarning: Could not create a semantic pointer with max_similarity=0.10 (D=32, M=15, similarity=0.12)\n",
      "  len(self._key2idx), best_sim))\n",
      "/home/ubuntu/anaconda3/envs/CTN/lib/python3.7/site-packages/nengo_spa/vocabulary.py:173: UserWarning: Could not create a semantic pointer with max_similarity=0.10 (D=32, M=16, similarity=0.18)\n",
      "  len(self._key2idx), best_sim))\n",
      "/home/ubuntu/anaconda3/envs/CTN/lib/python3.7/site-packages/nengo_spa/vocabulary.py:173: UserWarning: Could not create a semantic pointer with max_similarity=0.10 (D=32, M=18, similarity=0.16)\n",
      "  len(self._key2idx), best_sim))\n",
      "/home/ubuntu/anaconda3/envs/CTN/lib/python3.7/site-packages/nengo_spa/vocabulary.py:173: UserWarning: Could not create a semantic pointer with max_similarity=0.10 (D=32, M=20, similarity=0.16)\n",
      "  len(self._key2idx), best_sim))\n"
     ]
    },
    {
     "data": {
      "text/html": [
       "\n",
       "                <div id=\"13bb17ef-7641-462e-926c-204f0a6d01cb\" style=\"\n",
       "                    width: 100%;\n",
       "                    border: 1px solid #cfcfcf;\n",
       "                    border-radius: 4px;\n",
       "                    text-align: center;\n",
       "                    position: relative;\">\n",
       "                  <div class=\"pb-text\" style=\"\n",
       "                      position: absolute;\n",
       "                      width: 100%;\">\n",
       "                    0%\n",
       "                  </div>\n",
       "                  <div class=\"pb-fill\" style=\"\n",
       "                      background-color: #bdd2e6;\n",
       "                      width: 0%;\">\n",
       "                    <style type=\"text/css\" scoped=\"scoped\">\n",
       "                        @keyframes pb-fill-anim {\n",
       "                            0% { background-position: 0 0; }\n",
       "                            100% { background-position: 100px 0; }\n",
       "                        }\n",
       "                    </style>\n",
       "                    &nbsp;\n",
       "                  </div>\n",
       "                </div>"
      ],
      "text/plain": [
       "HtmlProgressBar cannot be displayed. Please use the TerminalProgressBar. It can be enabled with `nengo.rc.set('progress', 'progress_bar', 'nengo.utils.progress.TerminalProgressBar')`."
      ]
     },
     "metadata": {},
     "output_type": "display_data"
    },
    {
     "data": {
      "application/javascript": [
       "\n",
       "              (function () {\n",
       "                  var root = document.getElementById('13bb17ef-7641-462e-926c-204f0a6d01cb');\n",
       "                  var text = root.getElementsByClassName('pb-text')[0];\n",
       "                  var fill = root.getElementsByClassName('pb-fill')[0];\n",
       "\n",
       "                  text.innerHTML = 'Simulation finished in 0:01:37.';\n",
       "                  \n",
       "            if (100.0 > 0.) {\n",
       "                fill.style.transition = 'width 0.1s linear';\n",
       "            } else {\n",
       "                fill.style.transition = 'none';\n",
       "            }\n",
       "\n",
       "            fill.style.width = '100.0%';\n",
       "            fill.style.animation = 'none';\n",
       "            fill.style.backgroundImage = 'none'\n",
       "        \n",
       "                  \n",
       "                fill.style.animation = 'none';\n",
       "                fill.style.backgroundImage = 'none';\n",
       "            \n",
       "              })();\n",
       "        "
      ],
      "text/plain": [
       "<IPython.core.display.Javascript object>"
      ]
     },
     "metadata": {},
     "output_type": "display_data"
    },
    {
     "name": "stdout",
     "output_type": "stream",
     "text": [
      "seed = 6\n",
      "backend = 'nengo_ocl'\n",
      "dt = 0.001\n",
      "neuron_type = 'default'\n",
      "n_neurons_scale = 1\n",
      "s_crosstalk = 0\n",
      "s_evidence = None\n",
      "t_senso = 0\n",
      "vocab = <nengo_spa.vocabulary.Vocabulary object at 0x7fe8e130c6d0>\n",
      "xp = <experiments.Xp1 object at 0x7fe8e130c110>\n",
      "proc_feedback = 0.9\n",
      "proc_feedback_synapse = 0.005\n",
      "GW_feedback = 1\n",
      "GW_threshold = 0.5\n",
      "GW_scale = 2\n",
      "BG_thr = 0.1\n",
      "BG_bias = 0.5\n",
      "integrator_reset = True\n",
      "data = <data.Data object at 0x7fe8a736e250>\n",
      "\t seed 7/20\n",
      "running run_seed7_dim32\n"
     ]
    },
    {
     "name": "stderr",
     "output_type": "stream",
     "text": [
      "/home/ubuntu/anaconda3/envs/CTN/lib/python3.7/site-packages/nengo_spa/vocabulary.py:173: UserWarning: Could not create a semantic pointer with max_similarity=0.10 (D=32, M=13, similarity=0.11)\n",
      "  len(self._key2idx), best_sim))\n",
      "/home/ubuntu/anaconda3/envs/CTN/lib/python3.7/site-packages/nengo_spa/vocabulary.py:173: UserWarning: Could not create a semantic pointer with max_similarity=0.10 (D=32, M=21, similarity=0.15)\n",
      "  len(self._key2idx), best_sim))\n"
     ]
    },
    {
     "data": {
      "text/html": [
       "\n",
       "                <div id=\"98500cf4-bff1-43a6-8108-06bafacb914b\" style=\"\n",
       "                    width: 100%;\n",
       "                    border: 1px solid #cfcfcf;\n",
       "                    border-radius: 4px;\n",
       "                    text-align: center;\n",
       "                    position: relative;\">\n",
       "                  <div class=\"pb-text\" style=\"\n",
       "                      position: absolute;\n",
       "                      width: 100%;\">\n",
       "                    0%\n",
       "                  </div>\n",
       "                  <div class=\"pb-fill\" style=\"\n",
       "                      background-color: #bdd2e6;\n",
       "                      width: 0%;\">\n",
       "                    <style type=\"text/css\" scoped=\"scoped\">\n",
       "                        @keyframes pb-fill-anim {\n",
       "                            0% { background-position: 0 0; }\n",
       "                            100% { background-position: 100px 0; }\n",
       "                        }\n",
       "                    </style>\n",
       "                    &nbsp;\n",
       "                  </div>\n",
       "                </div>"
      ],
      "text/plain": [
       "HtmlProgressBar cannot be displayed. Please use the TerminalProgressBar. It can be enabled with `nengo.rc.set('progress', 'progress_bar', 'nengo.utils.progress.TerminalProgressBar')`."
      ]
     },
     "metadata": {},
     "output_type": "display_data"
    },
    {
     "data": {
      "application/javascript": [
       "\n",
       "              (function () {\n",
       "                  var root = document.getElementById('98500cf4-bff1-43a6-8108-06bafacb914b');\n",
       "                  var text = root.getElementsByClassName('pb-text')[0];\n",
       "                  var fill = root.getElementsByClassName('pb-fill')[0];\n",
       "\n",
       "                  text.innerHTML = 'Simulation finished in 0:01:38.';\n",
       "                  \n",
       "            if (100.0 > 0.) {\n",
       "                fill.style.transition = 'width 0.1s linear';\n",
       "            } else {\n",
       "                fill.style.transition = 'none';\n",
       "            }\n",
       "\n",
       "            fill.style.width = '100.0%';\n",
       "            fill.style.animation = 'none';\n",
       "            fill.style.backgroundImage = 'none'\n",
       "        \n",
       "                  \n",
       "                fill.style.animation = 'none';\n",
       "                fill.style.backgroundImage = 'none';\n",
       "            \n",
       "              })();\n",
       "        "
      ],
      "text/plain": [
       "<IPython.core.display.Javascript object>"
      ]
     },
     "metadata": {},
     "output_type": "display_data"
    },
    {
     "name": "stdout",
     "output_type": "stream",
     "text": [
      "seed = 7\n",
      "backend = 'nengo_ocl'\n",
      "dt = 0.001\n",
      "neuron_type = 'default'\n",
      "n_neurons_scale = 1\n",
      "s_crosstalk = 0\n",
      "s_evidence = None\n",
      "t_senso = 0\n",
      "vocab = <nengo_spa.vocabulary.Vocabulary object at 0x7fe8a7384ed0>\n",
      "xp = <experiments.Xp1 object at 0x7fe8aeb35850>\n",
      "proc_feedback = 0.9\n",
      "proc_feedback_synapse = 0.005\n",
      "GW_feedback = 1\n",
      "GW_threshold = 0.5\n",
      "GW_scale = 2\n",
      "BG_thr = 0.1\n",
      "BG_bias = 0.5\n",
      "integrator_reset = True\n",
      "data = <data.Data object at 0x7fe8a4cfb790>\n",
      "\t seed 8/20\n",
      "running run_seed8_dim32\n"
     ]
    },
    {
     "name": "stderr",
     "output_type": "stream",
     "text": [
      "/home/ubuntu/anaconda3/envs/CTN/lib/python3.7/site-packages/nengo_spa/vocabulary.py:173: UserWarning: Could not create a semantic pointer with max_similarity=0.10 (D=32, M=10, similarity=0.12)\n",
      "  len(self._key2idx), best_sim))\n",
      "/home/ubuntu/anaconda3/envs/CTN/lib/python3.7/site-packages/nengo_spa/vocabulary.py:173: UserWarning: Could not create a semantic pointer with max_similarity=0.10 (D=32, M=13, similarity=0.12)\n",
      "  len(self._key2idx), best_sim))\n",
      "/home/ubuntu/anaconda3/envs/CTN/lib/python3.7/site-packages/nengo_spa/vocabulary.py:173: UserWarning: Could not create a semantic pointer with max_similarity=0.10 (D=32, M=14, similarity=0.13)\n",
      "  len(self._key2idx), best_sim))\n",
      "/home/ubuntu/anaconda3/envs/CTN/lib/python3.7/site-packages/nengo_spa/vocabulary.py:173: UserWarning: Could not create a semantic pointer with max_similarity=0.10 (D=32, M=16, similarity=0.17)\n",
      "  len(self._key2idx), best_sim))\n",
      "/home/ubuntu/anaconda3/envs/CTN/lib/python3.7/site-packages/nengo_spa/vocabulary.py:173: UserWarning: Could not create a semantic pointer with max_similarity=0.10 (D=32, M=17, similarity=0.13)\n",
      "  len(self._key2idx), best_sim))\n",
      "/home/ubuntu/anaconda3/envs/CTN/lib/python3.7/site-packages/nengo_spa/vocabulary.py:173: UserWarning: Could not create a semantic pointer with max_similarity=0.10 (D=32, M=18, similarity=0.19)\n",
      "  len(self._key2idx), best_sim))\n",
      "/home/ubuntu/anaconda3/envs/CTN/lib/python3.7/site-packages/nengo_spa/vocabulary.py:173: UserWarning: Could not create a semantic pointer with max_similarity=0.10 (D=32, M=19, similarity=0.13)\n",
      "  len(self._key2idx), best_sim))\n",
      "/home/ubuntu/anaconda3/envs/CTN/lib/python3.7/site-packages/nengo_spa/vocabulary.py:173: UserWarning: Could not create a semantic pointer with max_similarity=0.10 (D=32, M=21, similarity=0.17)\n",
      "  len(self._key2idx), best_sim))\n"
     ]
    },
    {
     "data": {
      "text/html": [
       "\n",
       "                <div id=\"96a79dcb-fbd9-4e21-b112-740ee7e7ab3a\" style=\"\n",
       "                    width: 100%;\n",
       "                    border: 1px solid #cfcfcf;\n",
       "                    border-radius: 4px;\n",
       "                    text-align: center;\n",
       "                    position: relative;\">\n",
       "                  <div class=\"pb-text\" style=\"\n",
       "                      position: absolute;\n",
       "                      width: 100%;\">\n",
       "                    0%\n",
       "                  </div>\n",
       "                  <div class=\"pb-fill\" style=\"\n",
       "                      background-color: #bdd2e6;\n",
       "                      width: 0%;\">\n",
       "                    <style type=\"text/css\" scoped=\"scoped\">\n",
       "                        @keyframes pb-fill-anim {\n",
       "                            0% { background-position: 0 0; }\n",
       "                            100% { background-position: 100px 0; }\n",
       "                        }\n",
       "                    </style>\n",
       "                    &nbsp;\n",
       "                  </div>\n",
       "                </div>"
      ],
      "text/plain": [
       "HtmlProgressBar cannot be displayed. Please use the TerminalProgressBar. It can be enabled with `nengo.rc.set('progress', 'progress_bar', 'nengo.utils.progress.TerminalProgressBar')`."
      ]
     },
     "metadata": {},
     "output_type": "display_data"
    },
    {
     "data": {
      "application/javascript": [
       "\n",
       "              (function () {\n",
       "                  var root = document.getElementById('96a79dcb-fbd9-4e21-b112-740ee7e7ab3a');\n",
       "                  var text = root.getElementsByClassName('pb-text')[0];\n",
       "                  var fill = root.getElementsByClassName('pb-fill')[0];\n",
       "\n",
       "                  text.innerHTML = 'Simulation finished in 0:01:39.';\n",
       "                  \n",
       "            if (100.0 > 0.) {\n",
       "                fill.style.transition = 'width 0.1s linear';\n",
       "            } else {\n",
       "                fill.style.transition = 'none';\n",
       "            }\n",
       "\n",
       "            fill.style.width = '100.0%';\n",
       "            fill.style.animation = 'none';\n",
       "            fill.style.backgroundImage = 'none'\n",
       "        \n",
       "                  \n",
       "                fill.style.animation = 'none';\n",
       "                fill.style.backgroundImage = 'none';\n",
       "            \n",
       "              })();\n",
       "        "
      ],
      "text/plain": [
       "<IPython.core.display.Javascript object>"
      ]
     },
     "metadata": {},
     "output_type": "display_data"
    },
    {
     "name": "stdout",
     "output_type": "stream",
     "text": [
      "seed = 8\n",
      "backend = 'nengo_ocl'\n",
      "dt = 0.001\n",
      "neuron_type = 'default'\n",
      "n_neurons_scale = 1\n",
      "s_crosstalk = 0\n",
      "s_evidence = None\n",
      "t_senso = 0\n",
      "vocab = <nengo_spa.vocabulary.Vocabulary object at 0x7fe8e146a990>\n",
      "xp = <experiments.Xp1 object at 0x7fe8aeb3ead0>\n",
      "proc_feedback = 0.9\n",
      "proc_feedback_synapse = 0.005\n",
      "GW_feedback = 1\n",
      "GW_threshold = 0.5\n",
      "GW_scale = 2\n",
      "BG_thr = 0.1\n",
      "BG_bias = 0.5\n",
      "integrator_reset = True\n",
      "data = <data.Data object at 0x7fe8aeb2ea10>\n",
      "\t seed 9/20\n",
      "running run_seed9_dim32\n"
     ]
    },
    {
     "name": "stderr",
     "output_type": "stream",
     "text": [
      "/home/ubuntu/anaconda3/envs/CTN/lib/python3.7/site-packages/nengo_spa/vocabulary.py:173: UserWarning: Could not create a semantic pointer with max_similarity=0.10 (D=32, M=12, similarity=0.11)\n",
      "  len(self._key2idx), best_sim))\n",
      "/home/ubuntu/anaconda3/envs/CTN/lib/python3.7/site-packages/nengo_spa/vocabulary.py:173: UserWarning: Could not create a semantic pointer with max_similarity=0.10 (D=32, M=18, similarity=0.12)\n",
      "  len(self._key2idx), best_sim))\n"
     ]
    },
    {
     "data": {
      "text/html": [
       "\n",
       "                <div id=\"1c76fdff-e1dc-43b7-8580-020ee9f3e4be\" style=\"\n",
       "                    width: 100%;\n",
       "                    border: 1px solid #cfcfcf;\n",
       "                    border-radius: 4px;\n",
       "                    text-align: center;\n",
       "                    position: relative;\">\n",
       "                  <div class=\"pb-text\" style=\"\n",
       "                      position: absolute;\n",
       "                      width: 100%;\">\n",
       "                    0%\n",
       "                  </div>\n",
       "                  <div class=\"pb-fill\" style=\"\n",
       "                      background-color: #bdd2e6;\n",
       "                      width: 0%;\">\n",
       "                    <style type=\"text/css\" scoped=\"scoped\">\n",
       "                        @keyframes pb-fill-anim {\n",
       "                            0% { background-position: 0 0; }\n",
       "                            100% { background-position: 100px 0; }\n",
       "                        }\n",
       "                    </style>\n",
       "                    &nbsp;\n",
       "                  </div>\n",
       "                </div>"
      ],
      "text/plain": [
       "HtmlProgressBar cannot be displayed. Please use the TerminalProgressBar. It can be enabled with `nengo.rc.set('progress', 'progress_bar', 'nengo.utils.progress.TerminalProgressBar')`."
      ]
     },
     "metadata": {},
     "output_type": "display_data"
    },
    {
     "data": {
      "application/javascript": [
       "\n",
       "              (function () {\n",
       "                  var root = document.getElementById('1c76fdff-e1dc-43b7-8580-020ee9f3e4be');\n",
       "                  var text = root.getElementsByClassName('pb-text')[0];\n",
       "                  var fill = root.getElementsByClassName('pb-fill')[0];\n",
       "\n",
       "                  text.innerHTML = 'Simulation finished in 0:01:39.';\n",
       "                  \n",
       "            if (100.0 > 0.) {\n",
       "                fill.style.transition = 'width 0.1s linear';\n",
       "            } else {\n",
       "                fill.style.transition = 'none';\n",
       "            }\n",
       "\n",
       "            fill.style.width = '100.0%';\n",
       "            fill.style.animation = 'none';\n",
       "            fill.style.backgroundImage = 'none'\n",
       "        \n",
       "                  \n",
       "                fill.style.animation = 'none';\n",
       "                fill.style.backgroundImage = 'none';\n",
       "            \n",
       "              })();\n",
       "        "
      ],
      "text/plain": [
       "<IPython.core.display.Javascript object>"
      ]
     },
     "metadata": {},
     "output_type": "display_data"
    },
    {
     "name": "stdout",
     "output_type": "stream",
     "text": [
      "seed = 9\n",
      "backend = 'nengo_ocl'\n",
      "dt = 0.001\n",
      "neuron_type = 'default'\n",
      "n_neurons_scale = 1\n",
      "s_crosstalk = 0\n",
      "s_evidence = None\n",
      "t_senso = 0\n",
      "vocab = <nengo_spa.vocabulary.Vocabulary object at 0x7fe8e1533390>\n",
      "xp = <experiments.Xp1 object at 0x7fe8a4e1fd90>\n",
      "proc_feedback = 0.9\n",
      "proc_feedback_synapse = 0.005\n",
      "GW_feedback = 1\n",
      "GW_threshold = 0.5\n",
      "GW_scale = 2\n",
      "BG_thr = 0.1\n",
      "BG_bias = 0.5\n",
      "integrator_reset = True\n",
      "data = <data.Data object at 0x7fe8e1827190>\n",
      "\t seed 10/20\n",
      "running run_seed10_dim32\n"
     ]
    },
    {
     "name": "stderr",
     "output_type": "stream",
     "text": [
      "/home/ubuntu/anaconda3/envs/CTN/lib/python3.7/site-packages/nengo_spa/vocabulary.py:173: UserWarning: Could not create a semantic pointer with max_similarity=0.10 (D=32, M=20, similarity=0.12)\n",
      "  len(self._key2idx), best_sim))\n"
     ]
    },
    {
     "data": {
      "text/html": [
       "\n",
       "                <div id=\"f56bdd3d-c8e0-48e4-b3eb-7eae967fffc6\" style=\"\n",
       "                    width: 100%;\n",
       "                    border: 1px solid #cfcfcf;\n",
       "                    border-radius: 4px;\n",
       "                    text-align: center;\n",
       "                    position: relative;\">\n",
       "                  <div class=\"pb-text\" style=\"\n",
       "                      position: absolute;\n",
       "                      width: 100%;\">\n",
       "                    0%\n",
       "                  </div>\n",
       "                  <div class=\"pb-fill\" style=\"\n",
       "                      background-color: #bdd2e6;\n",
       "                      width: 0%;\">\n",
       "                    <style type=\"text/css\" scoped=\"scoped\">\n",
       "                        @keyframes pb-fill-anim {\n",
       "                            0% { background-position: 0 0; }\n",
       "                            100% { background-position: 100px 0; }\n",
       "                        }\n",
       "                    </style>\n",
       "                    &nbsp;\n",
       "                  </div>\n",
       "                </div>"
      ],
      "text/plain": [
       "HtmlProgressBar cannot be displayed. Please use the TerminalProgressBar. It can be enabled with `nengo.rc.set('progress', 'progress_bar', 'nengo.utils.progress.TerminalProgressBar')`."
      ]
     },
     "metadata": {},
     "output_type": "display_data"
    },
    {
     "data": {
      "application/javascript": [
       "\n",
       "              (function () {\n",
       "                  var root = document.getElementById('f56bdd3d-c8e0-48e4-b3eb-7eae967fffc6');\n",
       "                  var text = root.getElementsByClassName('pb-text')[0];\n",
       "                  var fill = root.getElementsByClassName('pb-fill')[0];\n",
       "\n",
       "                  text.innerHTML = 'Simulation finished in 0:01:36.';\n",
       "                  \n",
       "            if (100.0 > 0.) {\n",
       "                fill.style.transition = 'width 0.1s linear';\n",
       "            } else {\n",
       "                fill.style.transition = 'none';\n",
       "            }\n",
       "\n",
       "            fill.style.width = '100.0%';\n",
       "            fill.style.animation = 'none';\n",
       "            fill.style.backgroundImage = 'none'\n",
       "        \n",
       "                  \n",
       "                fill.style.animation = 'none';\n",
       "                fill.style.backgroundImage = 'none';\n",
       "            \n",
       "              })();\n",
       "        "
      ],
      "text/plain": [
       "<IPython.core.display.Javascript object>"
      ]
     },
     "metadata": {},
     "output_type": "display_data"
    },
    {
     "name": "stdout",
     "output_type": "stream",
     "text": [
      "seed = 10\n",
      "backend = 'nengo_ocl'\n",
      "dt = 0.001\n",
      "neuron_type = 'default'\n",
      "n_neurons_scale = 1\n",
      "s_crosstalk = 0\n",
      "s_evidence = None\n",
      "t_senso = 0\n",
      "vocab = <nengo_spa.vocabulary.Vocabulary object at 0x7fe8e1681950>\n",
      "xp = <experiments.Xp1 object at 0x7fe8a4e04090>\n",
      "proc_feedback = 0.9\n",
      "proc_feedback_synapse = 0.005\n",
      "GW_feedback = 1\n",
      "GW_threshold = 0.5\n",
      "GW_scale = 2\n",
      "BG_thr = 0.1\n",
      "BG_bias = 0.5\n",
      "integrator_reset = True\n",
      "data = <data.Data object at 0x7fe8e1551510>\n",
      "\t seed 11/20\n",
      "running run_seed11_dim32\n"
     ]
    },
    {
     "name": "stderr",
     "output_type": "stream",
     "text": [
      "/home/ubuntu/anaconda3/envs/CTN/lib/python3.7/site-packages/nengo_spa/vocabulary.py:173: UserWarning: Could not create a semantic pointer with max_similarity=0.10 (D=32, M=18, similarity=0.15)\n",
      "  len(self._key2idx), best_sim))\n",
      "/home/ubuntu/anaconda3/envs/CTN/lib/python3.7/site-packages/nengo_spa/vocabulary.py:173: UserWarning: Could not create a semantic pointer with max_similarity=0.10 (D=32, M=19, similarity=0.15)\n",
      "  len(self._key2idx), best_sim))\n",
      "/home/ubuntu/anaconda3/envs/CTN/lib/python3.7/site-packages/nengo_spa/vocabulary.py:173: UserWarning: Could not create a semantic pointer with max_similarity=0.10 (D=32, M=20, similarity=0.19)\n",
      "  len(self._key2idx), best_sim))\n"
     ]
    },
    {
     "data": {
      "text/html": [
       "\n",
       "                <div id=\"eb3d4067-98e3-4cfc-b44a-f63382414b72\" style=\"\n",
       "                    width: 100%;\n",
       "                    border: 1px solid #cfcfcf;\n",
       "                    border-radius: 4px;\n",
       "                    text-align: center;\n",
       "                    position: relative;\">\n",
       "                  <div class=\"pb-text\" style=\"\n",
       "                      position: absolute;\n",
       "                      width: 100%;\">\n",
       "                    0%\n",
       "                  </div>\n",
       "                  <div class=\"pb-fill\" style=\"\n",
       "                      background-color: #bdd2e6;\n",
       "                      width: 0%;\">\n",
       "                    <style type=\"text/css\" scoped=\"scoped\">\n",
       "                        @keyframes pb-fill-anim {\n",
       "                            0% { background-position: 0 0; }\n",
       "                            100% { background-position: 100px 0; }\n",
       "                        }\n",
       "                    </style>\n",
       "                    &nbsp;\n",
       "                  </div>\n",
       "                </div>"
      ],
      "text/plain": [
       "HtmlProgressBar cannot be displayed. Please use the TerminalProgressBar. It can be enabled with `nengo.rc.set('progress', 'progress_bar', 'nengo.utils.progress.TerminalProgressBar')`."
      ]
     },
     "metadata": {},
     "output_type": "display_data"
    },
    {
     "data": {
      "application/javascript": [
       "\n",
       "              (function () {\n",
       "                  var root = document.getElementById('eb3d4067-98e3-4cfc-b44a-f63382414b72');\n",
       "                  var text = root.getElementsByClassName('pb-text')[0];\n",
       "                  var fill = root.getElementsByClassName('pb-fill')[0];\n",
       "\n",
       "                  text.innerHTML = 'Simulation finished in 0:01:40.';\n",
       "                  \n",
       "            if (100.0 > 0.) {\n",
       "                fill.style.transition = 'width 0.1s linear';\n",
       "            } else {\n",
       "                fill.style.transition = 'none';\n",
       "            }\n",
       "\n",
       "            fill.style.width = '100.0%';\n",
       "            fill.style.animation = 'none';\n",
       "            fill.style.backgroundImage = 'none'\n",
       "        \n",
       "                  \n",
       "                fill.style.animation = 'none';\n",
       "                fill.style.backgroundImage = 'none';\n",
       "            \n",
       "              })();\n",
       "        "
      ],
      "text/plain": [
       "<IPython.core.display.Javascript object>"
      ]
     },
     "metadata": {},
     "output_type": "display_data"
    },
    {
     "name": "stdout",
     "output_type": "stream",
     "text": [
      "seed = 11\n",
      "backend = 'nengo_ocl'\n",
      "dt = 0.001\n",
      "neuron_type = 'default'\n",
      "n_neurons_scale = 1\n",
      "s_crosstalk = 0\n",
      "s_evidence = None\n",
      "t_senso = 0\n",
      "vocab = <nengo_spa.vocabulary.Vocabulary object at 0x7fe8e1de7250>\n",
      "xp = <experiments.Xp1 object at 0x7fe8e1de7d50>\n",
      "proc_feedback = 0.9\n",
      "proc_feedback_synapse = 0.005\n",
      "GW_feedback = 1\n",
      "GW_threshold = 0.5\n",
      "GW_scale = 2\n",
      "BG_thr = 0.1\n",
      "BG_bias = 0.5\n",
      "integrator_reset = True\n",
      "data = <data.Data object at 0x7fe8e132f890>\n",
      "\t seed 12/20\n",
      "running run_seed12_dim32\n"
     ]
    },
    {
     "name": "stderr",
     "output_type": "stream",
     "text": [
      "/home/ubuntu/anaconda3/envs/CTN/lib/python3.7/site-packages/nengo_spa/vocabulary.py:173: UserWarning: Could not create a semantic pointer with max_similarity=0.10 (D=32, M=13, similarity=0.17)\n",
      "  len(self._key2idx), best_sim))\n"
     ]
    },
    {
     "data": {
      "text/html": [
       "\n",
       "                <div id=\"cd6a2aa5-751b-43fe-a668-316e2cf4e97b\" style=\"\n",
       "                    width: 100%;\n",
       "                    border: 1px solid #cfcfcf;\n",
       "                    border-radius: 4px;\n",
       "                    text-align: center;\n",
       "                    position: relative;\">\n",
       "                  <div class=\"pb-text\" style=\"\n",
       "                      position: absolute;\n",
       "                      width: 100%;\">\n",
       "                    0%\n",
       "                  </div>\n",
       "                  <div class=\"pb-fill\" style=\"\n",
       "                      background-color: #bdd2e6;\n",
       "                      width: 0%;\">\n",
       "                    <style type=\"text/css\" scoped=\"scoped\">\n",
       "                        @keyframes pb-fill-anim {\n",
       "                            0% { background-position: 0 0; }\n",
       "                            100% { background-position: 100px 0; }\n",
       "                        }\n",
       "                    </style>\n",
       "                    &nbsp;\n",
       "                  </div>\n",
       "                </div>"
      ],
      "text/plain": [
       "HtmlProgressBar cannot be displayed. Please use the TerminalProgressBar. It can be enabled with `nengo.rc.set('progress', 'progress_bar', 'nengo.utils.progress.TerminalProgressBar')`."
      ]
     },
     "metadata": {},
     "output_type": "display_data"
    },
    {
     "data": {
      "application/javascript": [
       "\n",
       "              (function () {\n",
       "                  var root = document.getElementById('cd6a2aa5-751b-43fe-a668-316e2cf4e97b');\n",
       "                  var text = root.getElementsByClassName('pb-text')[0];\n",
       "                  var fill = root.getElementsByClassName('pb-fill')[0];\n",
       "\n",
       "                  text.innerHTML = 'Simulation finished in 0:01:34.';\n",
       "                  \n",
       "            if (100.0 > 0.) {\n",
       "                fill.style.transition = 'width 0.1s linear';\n",
       "            } else {\n",
       "                fill.style.transition = 'none';\n",
       "            }\n",
       "\n",
       "            fill.style.width = '100.0%';\n",
       "            fill.style.animation = 'none';\n",
       "            fill.style.backgroundImage = 'none'\n",
       "        \n",
       "                  \n",
       "                fill.style.animation = 'none';\n",
       "                fill.style.backgroundImage = 'none';\n",
       "            \n",
       "              })();\n",
       "        "
      ],
      "text/plain": [
       "<IPython.core.display.Javascript object>"
      ]
     },
     "metadata": {},
     "output_type": "display_data"
    },
    {
     "name": "stdout",
     "output_type": "stream",
     "text": [
      "seed = 12\n",
      "backend = 'nengo_ocl'\n",
      "dt = 0.001\n",
      "neuron_type = 'default'\n",
      "n_neurons_scale = 1\n",
      "s_crosstalk = 0\n",
      "s_evidence = None\n",
      "t_senso = 0\n",
      "vocab = <nengo_spa.vocabulary.Vocabulary object at 0x7fe8d8115810>\n",
      "xp = <experiments.Xp1 object at 0x7fe8d81158d0>\n",
      "proc_feedback = 0.9\n",
      "proc_feedback_synapse = 0.005\n",
      "GW_feedback = 1\n",
      "GW_threshold = 0.5\n",
      "GW_scale = 2\n",
      "BG_thr = 0.1\n",
      "BG_bias = 0.5\n",
      "integrator_reset = True\n",
      "data = <data.Data object at 0x7fe8a4c0cb10>\n",
      "\t seed 13/20\n",
      "running run_seed13_dim32\n"
     ]
    },
    {
     "name": "stderr",
     "output_type": "stream",
     "text": [
      "/home/ubuntu/anaconda3/envs/CTN/lib/python3.7/site-packages/nengo_spa/vocabulary.py:173: UserWarning: Could not create a semantic pointer with max_similarity=0.10 (D=32, M=12, similarity=0.12)\n",
      "  len(self._key2idx), best_sim))\n",
      "/home/ubuntu/anaconda3/envs/CTN/lib/python3.7/site-packages/nengo_spa/vocabulary.py:173: UserWarning: Could not create a semantic pointer with max_similarity=0.10 (D=32, M=19, similarity=0.14)\n",
      "  len(self._key2idx), best_sim))\n"
     ]
    },
    {
     "data": {
      "text/html": [
       "\n",
       "                <div id=\"af7fabd7-07cf-4d56-acec-666197ec246d\" style=\"\n",
       "                    width: 100%;\n",
       "                    border: 1px solid #cfcfcf;\n",
       "                    border-radius: 4px;\n",
       "                    text-align: center;\n",
       "                    position: relative;\">\n",
       "                  <div class=\"pb-text\" style=\"\n",
       "                      position: absolute;\n",
       "                      width: 100%;\">\n",
       "                    0%\n",
       "                  </div>\n",
       "                  <div class=\"pb-fill\" style=\"\n",
       "                      background-color: #bdd2e6;\n",
       "                      width: 0%;\">\n",
       "                    <style type=\"text/css\" scoped=\"scoped\">\n",
       "                        @keyframes pb-fill-anim {\n",
       "                            0% { background-position: 0 0; }\n",
       "                            100% { background-position: 100px 0; }\n",
       "                        }\n",
       "                    </style>\n",
       "                    &nbsp;\n",
       "                  </div>\n",
       "                </div>"
      ],
      "text/plain": [
       "HtmlProgressBar cannot be displayed. Please use the TerminalProgressBar. It can be enabled with `nengo.rc.set('progress', 'progress_bar', 'nengo.utils.progress.TerminalProgressBar')`."
      ]
     },
     "metadata": {},
     "output_type": "display_data"
    },
    {
     "data": {
      "application/javascript": [
       "\n",
       "              (function () {\n",
       "                  var root = document.getElementById('af7fabd7-07cf-4d56-acec-666197ec246d');\n",
       "                  var text = root.getElementsByClassName('pb-text')[0];\n",
       "                  var fill = root.getElementsByClassName('pb-fill')[0];\n",
       "\n",
       "                  text.innerHTML = 'Simulation finished in 0:01:36.';\n",
       "                  \n",
       "            if (100.0 > 0.) {\n",
       "                fill.style.transition = 'width 0.1s linear';\n",
       "            } else {\n",
       "                fill.style.transition = 'none';\n",
       "            }\n",
       "\n",
       "            fill.style.width = '100.0%';\n",
       "            fill.style.animation = 'none';\n",
       "            fill.style.backgroundImage = 'none'\n",
       "        \n",
       "                  \n",
       "                fill.style.animation = 'none';\n",
       "                fill.style.backgroundImage = 'none';\n",
       "            \n",
       "              })();\n",
       "        "
      ],
      "text/plain": [
       "<IPython.core.display.Javascript object>"
      ]
     },
     "metadata": {},
     "output_type": "display_data"
    },
    {
     "name": "stdout",
     "output_type": "stream",
     "text": [
      "seed = 13\n",
      "backend = 'nengo_ocl'\n",
      "dt = 0.001\n",
      "neuron_type = 'default'\n",
      "n_neurons_scale = 1\n",
      "s_crosstalk = 0\n",
      "s_evidence = None\n",
      "t_senso = 0\n",
      "vocab = <nengo_spa.vocabulary.Vocabulary object at 0x7fe8e1862f50>\n",
      "xp = <experiments.Xp1 object at 0x7fe8d8115cd0>\n",
      "proc_feedback = 0.9\n",
      "proc_feedback_synapse = 0.005\n",
      "GW_feedback = 1\n",
      "GW_threshold = 0.5\n",
      "GW_scale = 2\n",
      "BG_thr = 0.1\n",
      "BG_bias = 0.5\n",
      "integrator_reset = True\n",
      "data = <data.Data object at 0x7fe8ace80450>\n",
      "\t seed 14/20\n",
      "running run_seed14_dim32\n"
     ]
    },
    {
     "name": "stderr",
     "output_type": "stream",
     "text": [
      "/home/ubuntu/anaconda3/envs/CTN/lib/python3.7/site-packages/nengo_spa/vocabulary.py:173: UserWarning: Could not create a semantic pointer with max_similarity=0.10 (D=32, M=9, similarity=0.12)\n",
      "  len(self._key2idx), best_sim))\n"
     ]
    },
    {
     "data": {
      "text/html": [
       "\n",
       "                <div id=\"98ff2f84-e85c-4c9b-93d4-55c7c0a7036a\" style=\"\n",
       "                    width: 100%;\n",
       "                    border: 1px solid #cfcfcf;\n",
       "                    border-radius: 4px;\n",
       "                    text-align: center;\n",
       "                    position: relative;\">\n",
       "                  <div class=\"pb-text\" style=\"\n",
       "                      position: absolute;\n",
       "                      width: 100%;\">\n",
       "                    0%\n",
       "                  </div>\n",
       "                  <div class=\"pb-fill\" style=\"\n",
       "                      background-color: #bdd2e6;\n",
       "                      width: 0%;\">\n",
       "                    <style type=\"text/css\" scoped=\"scoped\">\n",
       "                        @keyframes pb-fill-anim {\n",
       "                            0% { background-position: 0 0; }\n",
       "                            100% { background-position: 100px 0; }\n",
       "                        }\n",
       "                    </style>\n",
       "                    &nbsp;\n",
       "                  </div>\n",
       "                </div>"
      ],
      "text/plain": [
       "HtmlProgressBar cannot be displayed. Please use the TerminalProgressBar. It can be enabled with `nengo.rc.set('progress', 'progress_bar', 'nengo.utils.progress.TerminalProgressBar')`."
      ]
     },
     "metadata": {},
     "output_type": "display_data"
    },
    {
     "data": {
      "application/javascript": [
       "\n",
       "              (function () {\n",
       "                  var root = document.getElementById('98ff2f84-e85c-4c9b-93d4-55c7c0a7036a');\n",
       "                  var text = root.getElementsByClassName('pb-text')[0];\n",
       "                  var fill = root.getElementsByClassName('pb-fill')[0];\n",
       "\n",
       "                  text.innerHTML = 'Simulation finished in 0:01:41.';\n",
       "                  \n",
       "            if (100.0 > 0.) {\n",
       "                fill.style.transition = 'width 0.1s linear';\n",
       "            } else {\n",
       "                fill.style.transition = 'none';\n",
       "            }\n",
       "\n",
       "            fill.style.width = '100.0%';\n",
       "            fill.style.animation = 'none';\n",
       "            fill.style.backgroundImage = 'none'\n",
       "        \n",
       "                  \n",
       "                fill.style.animation = 'none';\n",
       "                fill.style.backgroundImage = 'none';\n",
       "            \n",
       "              })();\n",
       "        "
      ],
      "text/plain": [
       "<IPython.core.display.Javascript object>"
      ]
     },
     "metadata": {},
     "output_type": "display_data"
    },
    {
     "name": "stdout",
     "output_type": "stream",
     "text": [
      "seed = 14\n",
      "backend = 'nengo_ocl'\n",
      "dt = 0.001\n",
      "neuron_type = 'default'\n",
      "n_neurons_scale = 1\n",
      "s_crosstalk = 0\n",
      "s_evidence = None\n",
      "t_senso = 0\n",
      "vocab = <nengo_spa.vocabulary.Vocabulary object at 0x7fe8ace80790>\n",
      "xp = <experiments.Xp1 object at 0x7fe8a6952a50>\n",
      "proc_feedback = 0.9\n",
      "proc_feedback_synapse = 0.005\n",
      "GW_feedback = 1\n",
      "GW_threshold = 0.5\n",
      "GW_scale = 2\n",
      "BG_thr = 0.1\n",
      "BG_bias = 0.5\n",
      "integrator_reset = True\n",
      "data = <data.Data object at 0x7fe8e19f0790>\n",
      "\t seed 15/20\n",
      "running run_seed15_dim32\n"
     ]
    },
    {
     "name": "stderr",
     "output_type": "stream",
     "text": [
      "/home/ubuntu/anaconda3/envs/CTN/lib/python3.7/site-packages/nengo_spa/vocabulary.py:173: UserWarning: Could not create a semantic pointer with max_similarity=0.10 (D=32, M=15, similarity=0.15)\n",
      "  len(self._key2idx), best_sim))\n",
      "/home/ubuntu/anaconda3/envs/CTN/lib/python3.7/site-packages/nengo_spa/vocabulary.py:173: UserWarning: Could not create a semantic pointer with max_similarity=0.10 (D=32, M=16, similarity=0.12)\n",
      "  len(self._key2idx), best_sim))\n",
      "/home/ubuntu/anaconda3/envs/CTN/lib/python3.7/site-packages/nengo_spa/vocabulary.py:173: UserWarning: Could not create a semantic pointer with max_similarity=0.10 (D=32, M=17, similarity=0.19)\n",
      "  len(self._key2idx), best_sim))\n"
     ]
    },
    {
     "data": {
      "text/html": [
       "\n",
       "                <div id=\"1f090bfe-38dc-42e7-8466-357fcafa69e2\" style=\"\n",
       "                    width: 100%;\n",
       "                    border: 1px solid #cfcfcf;\n",
       "                    border-radius: 4px;\n",
       "                    text-align: center;\n",
       "                    position: relative;\">\n",
       "                  <div class=\"pb-text\" style=\"\n",
       "                      position: absolute;\n",
       "                      width: 100%;\">\n",
       "                    0%\n",
       "                  </div>\n",
       "                  <div class=\"pb-fill\" style=\"\n",
       "                      background-color: #bdd2e6;\n",
       "                      width: 0%;\">\n",
       "                    <style type=\"text/css\" scoped=\"scoped\">\n",
       "                        @keyframes pb-fill-anim {\n",
       "                            0% { background-position: 0 0; }\n",
       "                            100% { background-position: 100px 0; }\n",
       "                        }\n",
       "                    </style>\n",
       "                    &nbsp;\n",
       "                  </div>\n",
       "                </div>"
      ],
      "text/plain": [
       "HtmlProgressBar cannot be displayed. Please use the TerminalProgressBar. It can be enabled with `nengo.rc.set('progress', 'progress_bar', 'nengo.utils.progress.TerminalProgressBar')`."
      ]
     },
     "metadata": {},
     "output_type": "display_data"
    },
    {
     "data": {
      "application/javascript": [
       "\n",
       "              (function () {\n",
       "                  var root = document.getElementById('1f090bfe-38dc-42e7-8466-357fcafa69e2');\n",
       "                  var text = root.getElementsByClassName('pb-text')[0];\n",
       "                  var fill = root.getElementsByClassName('pb-fill')[0];\n",
       "\n",
       "                  text.innerHTML = 'Simulation finished in 0:01:43.';\n",
       "                  \n",
       "            if (100.0 > 0.) {\n",
       "                fill.style.transition = 'width 0.1s linear';\n",
       "            } else {\n",
       "                fill.style.transition = 'none';\n",
       "            }\n",
       "\n",
       "            fill.style.width = '100.0%';\n",
       "            fill.style.animation = 'none';\n",
       "            fill.style.backgroundImage = 'none'\n",
       "        \n",
       "                  \n",
       "                fill.style.animation = 'none';\n",
       "                fill.style.backgroundImage = 'none';\n",
       "            \n",
       "              })();\n",
       "        "
      ],
      "text/plain": [
       "<IPython.core.display.Javascript object>"
      ]
     },
     "metadata": {},
     "output_type": "display_data"
    },
    {
     "name": "stdout",
     "output_type": "stream",
     "text": [
      "seed = 15\n",
      "backend = 'nengo_ocl'\n",
      "dt = 0.001\n",
      "neuron_type = 'default'\n",
      "n_neurons_scale = 1\n",
      "s_crosstalk = 0\n",
      "s_evidence = None\n",
      "t_senso = 0\n",
      "vocab = <nengo_spa.vocabulary.Vocabulary object at 0x7fe8aca10d90>\n",
      "xp = <experiments.Xp1 object at 0x7fe8d8115250>\n",
      "proc_feedback = 0.9\n",
      "proc_feedback_synapse = 0.005\n",
      "GW_feedback = 1\n",
      "GW_threshold = 0.5\n",
      "GW_scale = 2\n",
      "BG_thr = 0.1\n",
      "BG_bias = 0.5\n",
      "integrator_reset = True\n",
      "data = <data.Data object at 0x7fe8cce5de50>\n",
      "\t seed 16/20\n",
      "running run_seed16_dim32\n"
     ]
    },
    {
     "name": "stderr",
     "output_type": "stream",
     "text": [
      "/home/ubuntu/anaconda3/envs/CTN/lib/python3.7/site-packages/nengo_spa/vocabulary.py:173: UserWarning: Could not create a semantic pointer with max_similarity=0.10 (D=32, M=12, similarity=0.16)\n",
      "  len(self._key2idx), best_sim))\n",
      "/home/ubuntu/anaconda3/envs/CTN/lib/python3.7/site-packages/nengo_spa/vocabulary.py:173: UserWarning: Could not create a semantic pointer with max_similarity=0.10 (D=32, M=15, similarity=0.13)\n",
      "  len(self._key2idx), best_sim))\n"
     ]
    },
    {
     "data": {
      "text/html": [
       "\n",
       "                <div id=\"a7cc084a-aa1b-45b7-8783-056ad6c16204\" style=\"\n",
       "                    width: 100%;\n",
       "                    border: 1px solid #cfcfcf;\n",
       "                    border-radius: 4px;\n",
       "                    text-align: center;\n",
       "                    position: relative;\">\n",
       "                  <div class=\"pb-text\" style=\"\n",
       "                      position: absolute;\n",
       "                      width: 100%;\">\n",
       "                    0%\n",
       "                  </div>\n",
       "                  <div class=\"pb-fill\" style=\"\n",
       "                      background-color: #bdd2e6;\n",
       "                      width: 0%;\">\n",
       "                    <style type=\"text/css\" scoped=\"scoped\">\n",
       "                        @keyframes pb-fill-anim {\n",
       "                            0% { background-position: 0 0; }\n",
       "                            100% { background-position: 100px 0; }\n",
       "                        }\n",
       "                    </style>\n",
       "                    &nbsp;\n",
       "                  </div>\n",
       "                </div>"
      ],
      "text/plain": [
       "HtmlProgressBar cannot be displayed. Please use the TerminalProgressBar. It can be enabled with `nengo.rc.set('progress', 'progress_bar', 'nengo.utils.progress.TerminalProgressBar')`."
      ]
     },
     "metadata": {},
     "output_type": "display_data"
    },
    {
     "data": {
      "application/javascript": [
       "\n",
       "              (function () {\n",
       "                  var root = document.getElementById('a7cc084a-aa1b-45b7-8783-056ad6c16204');\n",
       "                  var text = root.getElementsByClassName('pb-text')[0];\n",
       "                  var fill = root.getElementsByClassName('pb-fill')[0];\n",
       "\n",
       "                  text.innerHTML = 'Simulation finished in 0:01:40.';\n",
       "                  \n",
       "            if (100.0 > 0.) {\n",
       "                fill.style.transition = 'width 0.1s linear';\n",
       "            } else {\n",
       "                fill.style.transition = 'none';\n",
       "            }\n",
       "\n",
       "            fill.style.width = '100.0%';\n",
       "            fill.style.animation = 'none';\n",
       "            fill.style.backgroundImage = 'none'\n",
       "        \n",
       "                  \n",
       "                fill.style.animation = 'none';\n",
       "                fill.style.backgroundImage = 'none';\n",
       "            \n",
       "              })();\n",
       "        "
      ],
      "text/plain": [
       "<IPython.core.display.Javascript object>"
      ]
     },
     "metadata": {},
     "output_type": "display_data"
    },
    {
     "name": "stdout",
     "output_type": "stream",
     "text": [
      "seed = 16\n",
      "backend = 'nengo_ocl'\n",
      "dt = 0.001\n",
      "neuron_type = 'default'\n",
      "n_neurons_scale = 1\n",
      "s_crosstalk = 0\n",
      "s_evidence = None\n",
      "t_senso = 0\n",
      "vocab = <nengo_spa.vocabulary.Vocabulary object at 0x7fe8cce5dc90>\n",
      "xp = <experiments.Xp1 object at 0x7fe8cce5d290>\n",
      "proc_feedback = 0.9\n",
      "proc_feedback_synapse = 0.005\n",
      "GW_feedback = 1\n",
      "GW_threshold = 0.5\n",
      "GW_scale = 2\n",
      "BG_thr = 0.1\n",
      "BG_bias = 0.5\n",
      "integrator_reset = True\n",
      "data = <data.Data object at 0x7fe8a404ee10>\n",
      "\t seed 17/20\n",
      "running run_seed17_dim32\n"
     ]
    },
    {
     "data": {
      "text/html": [
       "\n",
       "                <div id=\"86802e1e-c43f-4c76-bc23-64039e1e3726\" style=\"\n",
       "                    width: 100%;\n",
       "                    border: 1px solid #cfcfcf;\n",
       "                    border-radius: 4px;\n",
       "                    text-align: center;\n",
       "                    position: relative;\">\n",
       "                  <div class=\"pb-text\" style=\"\n",
       "                      position: absolute;\n",
       "                      width: 100%;\">\n",
       "                    0%\n",
       "                  </div>\n",
       "                  <div class=\"pb-fill\" style=\"\n",
       "                      background-color: #bdd2e6;\n",
       "                      width: 0%;\">\n",
       "                    <style type=\"text/css\" scoped=\"scoped\">\n",
       "                        @keyframes pb-fill-anim {\n",
       "                            0% { background-position: 0 0; }\n",
       "                            100% { background-position: 100px 0; }\n",
       "                        }\n",
       "                    </style>\n",
       "                    &nbsp;\n",
       "                  </div>\n",
       "                </div>"
      ],
      "text/plain": [
       "HtmlProgressBar cannot be displayed. Please use the TerminalProgressBar. It can be enabled with `nengo.rc.set('progress', 'progress_bar', 'nengo.utils.progress.TerminalProgressBar')`."
      ]
     },
     "metadata": {},
     "output_type": "display_data"
    },
    {
     "data": {
      "application/javascript": [
       "\n",
       "              (function () {\n",
       "                  var root = document.getElementById('86802e1e-c43f-4c76-bc23-64039e1e3726');\n",
       "                  var text = root.getElementsByClassName('pb-text')[0];\n",
       "                  var fill = root.getElementsByClassName('pb-fill')[0];\n",
       "\n",
       "                  text.innerHTML = 'Simulation finished in 0:01:31.';\n",
       "                  \n",
       "            if (100.0 > 0.) {\n",
       "                fill.style.transition = 'width 0.1s linear';\n",
       "            } else {\n",
       "                fill.style.transition = 'none';\n",
       "            }\n",
       "\n",
       "            fill.style.width = '100.0%';\n",
       "            fill.style.animation = 'none';\n",
       "            fill.style.backgroundImage = 'none'\n",
       "        \n",
       "                  \n",
       "                fill.style.animation = 'none';\n",
       "                fill.style.backgroundImage = 'none';\n",
       "            \n",
       "              })();\n",
       "        "
      ],
      "text/plain": [
       "<IPython.core.display.Javascript object>"
      ]
     },
     "metadata": {},
     "output_type": "display_data"
    },
    {
     "name": "stdout",
     "output_type": "stream",
     "text": [
      "seed = 17\n",
      "backend = 'nengo_ocl'\n",
      "dt = 0.001\n",
      "neuron_type = 'default'\n",
      "n_neurons_scale = 1\n",
      "s_crosstalk = 0\n",
      "s_evidence = None\n",
      "t_senso = 0\n",
      "vocab = <nengo_spa.vocabulary.Vocabulary object at 0x7fe8e1703c10>\n",
      "xp = <experiments.Xp1 object at 0x7fe8e1703ad0>\n",
      "proc_feedback = 0.9\n",
      "proc_feedback_synapse = 0.005\n",
      "GW_feedback = 1\n",
      "GW_threshold = 0.5\n",
      "GW_scale = 2\n",
      "BG_thr = 0.1\n",
      "BG_bias = 0.5\n",
      "integrator_reset = True\n",
      "data = <data.Data object at 0x7fe8e1835a10>\n",
      "\t seed 18/20\n",
      "running run_seed18_dim32\n"
     ]
    },
    {
     "name": "stderr",
     "output_type": "stream",
     "text": [
      "/home/ubuntu/anaconda3/envs/CTN/lib/python3.7/site-packages/nengo_spa/vocabulary.py:173: UserWarning: Could not create a semantic pointer with max_similarity=0.10 (D=32, M=11, similarity=0.10)\n",
      "  len(self._key2idx), best_sim))\n",
      "/home/ubuntu/anaconda3/envs/CTN/lib/python3.7/site-packages/nengo_spa/vocabulary.py:173: UserWarning: Could not create a semantic pointer with max_similarity=0.10 (D=32, M=17, similarity=0.17)\n",
      "  len(self._key2idx), best_sim))\n",
      "/home/ubuntu/anaconda3/envs/CTN/lib/python3.7/site-packages/nengo_spa/vocabulary.py:173: UserWarning: Could not create a semantic pointer with max_similarity=0.10 (D=32, M=18, similarity=0.13)\n",
      "  len(self._key2idx), best_sim))\n"
     ]
    },
    {
     "data": {
      "text/html": [
       "\n",
       "                <div id=\"aec43377-c06f-4924-af51-f499727e0667\" style=\"\n",
       "                    width: 100%;\n",
       "                    border: 1px solid #cfcfcf;\n",
       "                    border-radius: 4px;\n",
       "                    text-align: center;\n",
       "                    position: relative;\">\n",
       "                  <div class=\"pb-text\" style=\"\n",
       "                      position: absolute;\n",
       "                      width: 100%;\">\n",
       "                    0%\n",
       "                  </div>\n",
       "                  <div class=\"pb-fill\" style=\"\n",
       "                      background-color: #bdd2e6;\n",
       "                      width: 0%;\">\n",
       "                    <style type=\"text/css\" scoped=\"scoped\">\n",
       "                        @keyframes pb-fill-anim {\n",
       "                            0% { background-position: 0 0; }\n",
       "                            100% { background-position: 100px 0; }\n",
       "                        }\n",
       "                    </style>\n",
       "                    &nbsp;\n",
       "                  </div>\n",
       "                </div>"
      ],
      "text/plain": [
       "HtmlProgressBar cannot be displayed. Please use the TerminalProgressBar. It can be enabled with `nengo.rc.set('progress', 'progress_bar', 'nengo.utils.progress.TerminalProgressBar')`."
      ]
     },
     "metadata": {},
     "output_type": "display_data"
    },
    {
     "data": {
      "application/javascript": [
       "\n",
       "              (function () {\n",
       "                  var root = document.getElementById('aec43377-c06f-4924-af51-f499727e0667');\n",
       "                  var text = root.getElementsByClassName('pb-text')[0];\n",
       "                  var fill = root.getElementsByClassName('pb-fill')[0];\n",
       "\n",
       "                  text.innerHTML = 'Simulation finished in 0:01:37.';\n",
       "                  \n",
       "            if (100.0 > 0.) {\n",
       "                fill.style.transition = 'width 0.1s linear';\n",
       "            } else {\n",
       "                fill.style.transition = 'none';\n",
       "            }\n",
       "\n",
       "            fill.style.width = '100.0%';\n",
       "            fill.style.animation = 'none';\n",
       "            fill.style.backgroundImage = 'none'\n",
       "        \n",
       "                  \n",
       "                fill.style.animation = 'none';\n",
       "                fill.style.backgroundImage = 'none';\n",
       "            \n",
       "              })();\n",
       "        "
      ],
      "text/plain": [
       "<IPython.core.display.Javascript object>"
      ]
     },
     "metadata": {},
     "output_type": "display_data"
    },
    {
     "name": "stdout",
     "output_type": "stream",
     "text": [
      "seed = 18\n",
      "backend = 'nengo_ocl'\n",
      "dt = 0.001\n",
      "neuron_type = 'default'\n",
      "n_neurons_scale = 1\n",
      "s_crosstalk = 0\n",
      "s_evidence = None\n",
      "t_senso = 0\n",
      "vocab = <nengo_spa.vocabulary.Vocabulary object at 0x7fe8a4058290>\n",
      "xp = <experiments.Xp1 object at 0x7fe8a4058790>\n",
      "proc_feedback = 0.9\n",
      "proc_feedback_synapse = 0.005\n",
      "GW_feedback = 1\n",
      "GW_threshold = 0.5\n",
      "GW_scale = 2\n",
      "BG_thr = 0.1\n",
      "BG_bias = 0.5\n",
      "integrator_reset = True\n",
      "data = <data.Data object at 0x7fe8a6e48f10>\n",
      "\t seed 19/20\n",
      "running run_seed19_dim32\n"
     ]
    },
    {
     "name": "stderr",
     "output_type": "stream",
     "text": [
      "/home/ubuntu/anaconda3/envs/CTN/lib/python3.7/site-packages/nengo_spa/vocabulary.py:173: UserWarning: Could not create a semantic pointer with max_similarity=0.10 (D=32, M=9, similarity=0.11)\n",
      "  len(self._key2idx), best_sim))\n"
     ]
    },
    {
     "data": {
      "text/html": [
       "\n",
       "                <div id=\"5033df41-b1e8-4981-9dcc-5829da3a5ab6\" style=\"\n",
       "                    width: 100%;\n",
       "                    border: 1px solid #cfcfcf;\n",
       "                    border-radius: 4px;\n",
       "                    text-align: center;\n",
       "                    position: relative;\">\n",
       "                  <div class=\"pb-text\" style=\"\n",
       "                      position: absolute;\n",
       "                      width: 100%;\">\n",
       "                    0%\n",
       "                  </div>\n",
       "                  <div class=\"pb-fill\" style=\"\n",
       "                      background-color: #bdd2e6;\n",
       "                      width: 0%;\">\n",
       "                    <style type=\"text/css\" scoped=\"scoped\">\n",
       "                        @keyframes pb-fill-anim {\n",
       "                            0% { background-position: 0 0; }\n",
       "                            100% { background-position: 100px 0; }\n",
       "                        }\n",
       "                    </style>\n",
       "                    &nbsp;\n",
       "                  </div>\n",
       "                </div>"
      ],
      "text/plain": [
       "HtmlProgressBar cannot be displayed. Please use the TerminalProgressBar. It can be enabled with `nengo.rc.set('progress', 'progress_bar', 'nengo.utils.progress.TerminalProgressBar')`."
      ]
     },
     "metadata": {},
     "output_type": "display_data"
    },
    {
     "data": {
      "application/javascript": [
       "\n",
       "              (function () {\n",
       "                  var root = document.getElementById('5033df41-b1e8-4981-9dcc-5829da3a5ab6');\n",
       "                  var text = root.getElementsByClassName('pb-text')[0];\n",
       "                  var fill = root.getElementsByClassName('pb-fill')[0];\n",
       "\n",
       "                  text.innerHTML = 'Simulation finished in 0:01:39.';\n",
       "                  \n",
       "            if (100.0 > 0.) {\n",
       "                fill.style.transition = 'width 0.1s linear';\n",
       "            } else {\n",
       "                fill.style.transition = 'none';\n",
       "            }\n",
       "\n",
       "            fill.style.width = '100.0%';\n",
       "            fill.style.animation = 'none';\n",
       "            fill.style.backgroundImage = 'none'\n",
       "        \n",
       "                  \n",
       "                fill.style.animation = 'none';\n",
       "                fill.style.backgroundImage = 'none';\n",
       "            \n",
       "              })();\n",
       "        "
      ],
      "text/plain": [
       "<IPython.core.display.Javascript object>"
      ]
     },
     "metadata": {},
     "output_type": "display_data"
    },
    {
     "name": "stdout",
     "output_type": "stream",
     "text": [
      "seed = 19\n",
      "backend = 'nengo_ocl'\n",
      "dt = 0.001\n",
      "neuron_type = 'default'\n",
      "n_neurons_scale = 1\n",
      "s_crosstalk = 0\n",
      "s_evidence = None\n",
      "t_senso = 0\n",
      "vocab = <nengo_spa.vocabulary.Vocabulary object at 0x7fe8a4c297d0>\n",
      "xp = <experiments.Xp1 object at 0x7fe8a4c298d0>\n",
      "proc_feedback = 0.9\n",
      "proc_feedback_synapse = 0.005\n",
      "GW_feedback = 1\n",
      "GW_threshold = 0.5\n",
      "GW_scale = 2\n",
      "BG_thr = 0.1\n",
      "BG_bias = 0.5\n",
      "integrator_reset = True\n",
      "data = <data.Data object at 0x7fe8ac196bd0>\n",
      "\t seed 20/20\n",
      "running run_seed20_dim32\n"
     ]
    },
    {
     "name": "stderr",
     "output_type": "stream",
     "text": [
      "/home/ubuntu/anaconda3/envs/CTN/lib/python3.7/site-packages/nengo_spa/vocabulary.py:173: UserWarning: Could not create a semantic pointer with max_similarity=0.10 (D=32, M=14, similarity=0.11)\n",
      "  len(self._key2idx), best_sim))\n"
     ]
    },
    {
     "data": {
      "text/html": [
       "\n",
       "                <div id=\"a724d16c-ba57-4709-b0e1-a2251cddadd5\" style=\"\n",
       "                    width: 100%;\n",
       "                    border: 1px solid #cfcfcf;\n",
       "                    border-radius: 4px;\n",
       "                    text-align: center;\n",
       "                    position: relative;\">\n",
       "                  <div class=\"pb-text\" style=\"\n",
       "                      position: absolute;\n",
       "                      width: 100%;\">\n",
       "                    0%\n",
       "                  </div>\n",
       "                  <div class=\"pb-fill\" style=\"\n",
       "                      background-color: #bdd2e6;\n",
       "                      width: 0%;\">\n",
       "                    <style type=\"text/css\" scoped=\"scoped\">\n",
       "                        @keyframes pb-fill-anim {\n",
       "                            0% { background-position: 0 0; }\n",
       "                            100% { background-position: 100px 0; }\n",
       "                        }\n",
       "                    </style>\n",
       "                    &nbsp;\n",
       "                  </div>\n",
       "                </div>"
      ],
      "text/plain": [
       "HtmlProgressBar cannot be displayed. Please use the TerminalProgressBar. It can be enabled with `nengo.rc.set('progress', 'progress_bar', 'nengo.utils.progress.TerminalProgressBar')`."
      ]
     },
     "metadata": {},
     "output_type": "display_data"
    },
    {
     "data": {
      "application/javascript": [
       "\n",
       "              (function () {\n",
       "                  var root = document.getElementById('a724d16c-ba57-4709-b0e1-a2251cddadd5');\n",
       "                  var text = root.getElementsByClassName('pb-text')[0];\n",
       "                  var fill = root.getElementsByClassName('pb-fill')[0];\n",
       "\n",
       "                  text.innerHTML = 'Simulation finished in 0:01:41.';\n",
       "                  \n",
       "            if (100.0 > 0.) {\n",
       "                fill.style.transition = 'width 0.1s linear';\n",
       "            } else {\n",
       "                fill.style.transition = 'none';\n",
       "            }\n",
       "\n",
       "            fill.style.width = '100.0%';\n",
       "            fill.style.animation = 'none';\n",
       "            fill.style.backgroundImage = 'none'\n",
       "        \n",
       "                  \n",
       "                fill.style.animation = 'none';\n",
       "                fill.style.backgroundImage = 'none';\n",
       "            \n",
       "              })();\n",
       "        "
      ],
      "text/plain": [
       "<IPython.core.display.Javascript object>"
      ]
     },
     "metadata": {},
     "output_type": "display_data"
    },
    {
     "name": "stdout",
     "output_type": "stream",
     "text": [
      "seed = 20\n",
      "backend = 'nengo_ocl'\n",
      "dt = 0.001\n",
      "neuron_type = 'default'\n",
      "n_neurons_scale = 1\n",
      "s_crosstalk = 0\n",
      "s_evidence = None\n",
      "t_senso = 0\n",
      "vocab = <nengo_spa.vocabulary.Vocabulary object at 0x7fe8e15d4190>\n",
      "xp = <experiments.Xp1 object at 0x7fe8e15c5c90>\n",
      "proc_feedback = 0.9\n",
      "proc_feedback_synapse = 0.005\n",
      "GW_feedback = 1\n",
      "GW_threshold = 0.5\n",
      "GW_scale = 2\n",
      "BG_thr = 0.1\n",
      "BG_bias = 0.5\n",
      "integrator_reset = True\n",
      "data = <data.Data object at 0x7fe8901b74d0>\n",
      "error rate: 0.46458333333333335\n",
      "params: [3.]\n",
      "Simulating...\n",
      "\t seed 1/20\n",
      "running run_seed1_dim48\n"
     ]
    },
    {
     "name": "stderr",
     "output_type": "stream",
     "text": [
      "/home/ubuntu/anaconda3/envs/CTN/lib/python3.7/site-packages/nengo_spa/vocabulary.py:173: UserWarning: Could not create a semantic pointer with max_similarity=0.10 (D=48, M=14, similarity=0.12)\n",
      "  len(self._key2idx), best_sim))\n",
      "/home/ubuntu/anaconda3/envs/CTN/lib/python3.7/site-packages/nengo_spa/vocabulary.py:173: UserWarning: Could not create a semantic pointer with max_similarity=0.10 (D=48, M=16, similarity=0.11)\n",
      "  len(self._key2idx), best_sim))\n",
      "/home/ubuntu/anaconda3/envs/CTN/lib/python3.7/site-packages/nengo_spa/vocabulary.py:173: UserWarning: Could not create a semantic pointer with max_similarity=0.10 (D=48, M=19, similarity=0.15)\n",
      "  len(self._key2idx), best_sim))\n",
      "/home/ubuntu/anaconda3/envs/CTN/lib/python3.7/site-packages/nengo_spa/vocabulary.py:173: UserWarning: Could not create a semantic pointer with max_similarity=0.10 (D=48, M=20, similarity=0.13)\n",
      "  len(self._key2idx), best_sim))\n",
      "/home/ubuntu/anaconda3/envs/CTN/lib/python3.7/site-packages/nengo_spa/vocabulary.py:173: UserWarning: Could not create a semantic pointer with max_similarity=0.10 (D=48, M=21, similarity=0.16)\n",
      "  len(self._key2idx), best_sim))\n"
     ]
    },
    {
     "data": {
      "text/html": [
       "\n",
       "                <div id=\"8dcc6f2f-cb7d-4d8f-b660-6684607de441\" style=\"\n",
       "                    width: 100%;\n",
       "                    border: 1px solid #cfcfcf;\n",
       "                    border-radius: 4px;\n",
       "                    text-align: center;\n",
       "                    position: relative;\">\n",
       "                  <div class=\"pb-text\" style=\"\n",
       "                      position: absolute;\n",
       "                      width: 100%;\">\n",
       "                    0%\n",
       "                  </div>\n",
       "                  <div class=\"pb-fill\" style=\"\n",
       "                      background-color: #bdd2e6;\n",
       "                      width: 0%;\">\n",
       "                    <style type=\"text/css\" scoped=\"scoped\">\n",
       "                        @keyframes pb-fill-anim {\n",
       "                            0% { background-position: 0 0; }\n",
       "                            100% { background-position: 100px 0; }\n",
       "                        }\n",
       "                    </style>\n",
       "                    &nbsp;\n",
       "                  </div>\n",
       "                </div>"
      ],
      "text/plain": [
       "HtmlProgressBar cannot be displayed. Please use the TerminalProgressBar. It can be enabled with `nengo.rc.set('progress', 'progress_bar', 'nengo.utils.progress.TerminalProgressBar')`."
      ]
     },
     "metadata": {},
     "output_type": "display_data"
    },
    {
     "data": {
      "application/javascript": [
       "\n",
       "              (function () {\n",
       "                  var root = document.getElementById('8dcc6f2f-cb7d-4d8f-b660-6684607de441');\n",
       "                  var text = root.getElementsByClassName('pb-text')[0];\n",
       "                  var fill = root.getElementsByClassName('pb-fill')[0];\n",
       "\n",
       "                  text.innerHTML = 'Simulation finished in 0:01:21.';\n",
       "                  \n",
       "            if (100.0 > 0.) {\n",
       "                fill.style.transition = 'width 0.1s linear';\n",
       "            } else {\n",
       "                fill.style.transition = 'none';\n",
       "            }\n",
       "\n",
       "            fill.style.width = '100.0%';\n",
       "            fill.style.animation = 'none';\n",
       "            fill.style.backgroundImage = 'none'\n",
       "        \n",
       "                  \n",
       "                fill.style.animation = 'none';\n",
       "                fill.style.backgroundImage = 'none';\n",
       "            \n",
       "              })();\n",
       "        "
      ],
      "text/plain": [
       "<IPython.core.display.Javascript object>"
      ]
     },
     "metadata": {},
     "output_type": "display_data"
    },
    {
     "name": "stdout",
     "output_type": "stream",
     "text": [
      "seed = 1\n",
      "backend = 'nengo_ocl'\n",
      "dt = 0.001\n",
      "neuron_type = 'default'\n",
      "n_neurons_scale = 1\n",
      "s_crosstalk = 0\n",
      "s_evidence = None\n",
      "t_senso = 0\n",
      "vocab = <nengo_spa.vocabulary.Vocabulary object at 0x7fe8a6526d50>\n",
      "xp = <experiments.Xp1 object at 0x7fe8a4c0cb90>\n",
      "proc_feedback = 0.9\n",
      "proc_feedback_synapse = 0.005\n",
      "GW_feedback = 1\n",
      "GW_threshold = 0.5\n",
      "GW_scale = 2\n",
      "BG_thr = 0.1\n",
      "BG_bias = 0.5\n",
      "integrator_reset = True\n",
      "data = <data.Data object at 0x7fe8ac702210>\n",
      "\t seed 2/20\n",
      "running run_seed2_dim48\n"
     ]
    },
    {
     "name": "stderr",
     "output_type": "stream",
     "text": [
      "/home/ubuntu/anaconda3/envs/CTN/lib/python3.7/site-packages/nengo_spa/vocabulary.py:173: UserWarning: Could not create a semantic pointer with max_similarity=0.10 (D=48, M=12, similarity=0.11)\n",
      "  len(self._key2idx), best_sim))\n",
      "/home/ubuntu/anaconda3/envs/CTN/lib/python3.7/site-packages/nengo_spa/vocabulary.py:173: UserWarning: Could not create a semantic pointer with max_similarity=0.10 (D=48, M=14, similarity=0.13)\n",
      "  len(self._key2idx), best_sim))\n",
      "/home/ubuntu/anaconda3/envs/CTN/lib/python3.7/site-packages/nengo_spa/vocabulary.py:173: UserWarning: Could not create a semantic pointer with max_similarity=0.10 (D=48, M=15, similarity=0.11)\n",
      "  len(self._key2idx), best_sim))\n",
      "/home/ubuntu/anaconda3/envs/CTN/lib/python3.7/site-packages/nengo_spa/vocabulary.py:173: UserWarning: Could not create a semantic pointer with max_similarity=0.10 (D=48, M=17, similarity=0.12)\n",
      "  len(self._key2idx), best_sim))\n",
      "/home/ubuntu/anaconda3/envs/CTN/lib/python3.7/site-packages/nengo_spa/vocabulary.py:173: UserWarning: Could not create a semantic pointer with max_similarity=0.10 (D=48, M=18, similarity=0.13)\n",
      "  len(self._key2idx), best_sim))\n",
      "/home/ubuntu/anaconda3/envs/CTN/lib/python3.7/site-packages/nengo_spa/vocabulary.py:173: UserWarning: Could not create a semantic pointer with max_similarity=0.10 (D=48, M=19, similarity=0.11)\n",
      "  len(self._key2idx), best_sim))\n",
      "/home/ubuntu/anaconda3/envs/CTN/lib/python3.7/site-packages/nengo_spa/vocabulary.py:173: UserWarning: Could not create a semantic pointer with max_similarity=0.10 (D=48, M=21, similarity=0.15)\n",
      "  len(self._key2idx), best_sim))\n"
     ]
    },
    {
     "data": {
      "text/html": [
       "\n",
       "                <div id=\"2e8bb3f4-069f-47fd-a0bb-998a06fe3748\" style=\"\n",
       "                    width: 100%;\n",
       "                    border: 1px solid #cfcfcf;\n",
       "                    border-radius: 4px;\n",
       "                    text-align: center;\n",
       "                    position: relative;\">\n",
       "                  <div class=\"pb-text\" style=\"\n",
       "                      position: absolute;\n",
       "                      width: 100%;\">\n",
       "                    0%\n",
       "                  </div>\n",
       "                  <div class=\"pb-fill\" style=\"\n",
       "                      background-color: #bdd2e6;\n",
       "                      width: 0%;\">\n",
       "                    <style type=\"text/css\" scoped=\"scoped\">\n",
       "                        @keyframes pb-fill-anim {\n",
       "                            0% { background-position: 0 0; }\n",
       "                            100% { background-position: 100px 0; }\n",
       "                        }\n",
       "                    </style>\n",
       "                    &nbsp;\n",
       "                  </div>\n",
       "                </div>"
      ],
      "text/plain": [
       "HtmlProgressBar cannot be displayed. Please use the TerminalProgressBar. It can be enabled with `nengo.rc.set('progress', 'progress_bar', 'nengo.utils.progress.TerminalProgressBar')`."
      ]
     },
     "metadata": {},
     "output_type": "display_data"
    },
    {
     "data": {
      "application/javascript": [
       "\n",
       "              (function () {\n",
       "                  var root = document.getElementById('2e8bb3f4-069f-47fd-a0bb-998a06fe3748');\n",
       "                  var text = root.getElementsByClassName('pb-text')[0];\n",
       "                  var fill = root.getElementsByClassName('pb-fill')[0];\n",
       "\n",
       "                  text.innerHTML = 'Simulation finished in 0:01:05.';\n",
       "                  \n",
       "            if (100.0 > 0.) {\n",
       "                fill.style.transition = 'width 0.1s linear';\n",
       "            } else {\n",
       "                fill.style.transition = 'none';\n",
       "            }\n",
       "\n",
       "            fill.style.width = '100.0%';\n",
       "            fill.style.animation = 'none';\n",
       "            fill.style.backgroundImage = 'none'\n",
       "        \n",
       "                  \n",
       "                fill.style.animation = 'none';\n",
       "                fill.style.backgroundImage = 'none';\n",
       "            \n",
       "              })();\n",
       "        "
      ],
      "text/plain": [
       "<IPython.core.display.Javascript object>"
      ]
     },
     "metadata": {},
     "output_type": "display_data"
    },
    {
     "name": "stdout",
     "output_type": "stream",
     "text": [
      "seed = 2\n",
      "backend = 'nengo_ocl'\n",
      "dt = 0.001\n",
      "neuron_type = 'default'\n",
      "n_neurons_scale = 1\n",
      "s_crosstalk = 0\n",
      "s_evidence = None\n",
      "t_senso = 0\n",
      "vocab = <nengo_spa.vocabulary.Vocabulary object at 0x7fe8e14b2f90>\n",
      "xp = <experiments.Xp1 object at 0x7fe8e1827110>\n",
      "proc_feedback = 0.9\n",
      "proc_feedback_synapse = 0.005\n",
      "GW_feedback = 1\n",
      "GW_threshold = 0.5\n",
      "GW_scale = 2\n",
      "BG_thr = 0.1\n",
      "BG_bias = 0.5\n",
      "integrator_reset = True\n",
      "data = <data.Data object at 0x7fe8d831dfd0>\n",
      "\t seed 3/20\n",
      "running run_seed3_dim48\n"
     ]
    },
    {
     "name": "stderr",
     "output_type": "stream",
     "text": [
      "/home/ubuntu/anaconda3/envs/CTN/lib/python3.7/site-packages/nengo_spa/vocabulary.py:173: UserWarning: Could not create a semantic pointer with max_similarity=0.10 (D=48, M=13, similarity=0.11)\n",
      "  len(self._key2idx), best_sim))\n",
      "/home/ubuntu/anaconda3/envs/CTN/lib/python3.7/site-packages/nengo_spa/vocabulary.py:173: UserWarning: Could not create a semantic pointer with max_similarity=0.10 (D=48, M=15, similarity=0.12)\n",
      "  len(self._key2idx), best_sim))\n",
      "/home/ubuntu/anaconda3/envs/CTN/lib/python3.7/site-packages/nengo_spa/vocabulary.py:173: UserWarning: Could not create a semantic pointer with max_similarity=0.10 (D=48, M=17, similarity=0.13)\n",
      "  len(self._key2idx), best_sim))\n",
      "/home/ubuntu/anaconda3/envs/CTN/lib/python3.7/site-packages/nengo_spa/vocabulary.py:173: UserWarning: Could not create a semantic pointer with max_similarity=0.10 (D=48, M=19, similarity=0.14)\n",
      "  len(self._key2idx), best_sim))\n",
      "/home/ubuntu/anaconda3/envs/CTN/lib/python3.7/site-packages/nengo_spa/vocabulary.py:173: UserWarning: Could not create a semantic pointer with max_similarity=0.10 (D=48, M=20, similarity=0.16)\n",
      "  len(self._key2idx), best_sim))\n"
     ]
    },
    {
     "data": {
      "text/html": [
       "\n",
       "                <div id=\"d9239a75-5924-4565-ab01-84eea4d99b34\" style=\"\n",
       "                    width: 100%;\n",
       "                    border: 1px solid #cfcfcf;\n",
       "                    border-radius: 4px;\n",
       "                    text-align: center;\n",
       "                    position: relative;\">\n",
       "                  <div class=\"pb-text\" style=\"\n",
       "                      position: absolute;\n",
       "                      width: 100%;\">\n",
       "                    0%\n",
       "                  </div>\n",
       "                  <div class=\"pb-fill\" style=\"\n",
       "                      background-color: #bdd2e6;\n",
       "                      width: 0%;\">\n",
       "                    <style type=\"text/css\" scoped=\"scoped\">\n",
       "                        @keyframes pb-fill-anim {\n",
       "                            0% { background-position: 0 0; }\n",
       "                            100% { background-position: 100px 0; }\n",
       "                        }\n",
       "                    </style>\n",
       "                    &nbsp;\n",
       "                  </div>\n",
       "                </div>"
      ],
      "text/plain": [
       "HtmlProgressBar cannot be displayed. Please use the TerminalProgressBar. It can be enabled with `nengo.rc.set('progress', 'progress_bar', 'nengo.utils.progress.TerminalProgressBar')`."
      ]
     },
     "metadata": {},
     "output_type": "display_data"
    },
    {
     "data": {
      "application/javascript": [
       "\n",
       "              (function () {\n",
       "                  var root = document.getElementById('d9239a75-5924-4565-ab01-84eea4d99b34');\n",
       "                  var text = root.getElementsByClassName('pb-text')[0];\n",
       "                  var fill = root.getElementsByClassName('pb-fill')[0];\n",
       "\n",
       "                  text.innerHTML = 'Simulation finished in 0:01:04.';\n",
       "                  \n",
       "            if (100.0 > 0.) {\n",
       "                fill.style.transition = 'width 0.1s linear';\n",
       "            } else {\n",
       "                fill.style.transition = 'none';\n",
       "            }\n",
       "\n",
       "            fill.style.width = '100.0%';\n",
       "            fill.style.animation = 'none';\n",
       "            fill.style.backgroundImage = 'none'\n",
       "        \n",
       "                  \n",
       "                fill.style.animation = 'none';\n",
       "                fill.style.backgroundImage = 'none';\n",
       "            \n",
       "              })();\n",
       "        "
      ],
      "text/plain": [
       "<IPython.core.display.Javascript object>"
      ]
     },
     "metadata": {},
     "output_type": "display_data"
    },
    {
     "name": "stdout",
     "output_type": "stream",
     "text": [
      "seed = 3\n",
      "backend = 'nengo_ocl'\n",
      "dt = 0.001\n",
      "neuron_type = 'default'\n",
      "n_neurons_scale = 1\n",
      "s_crosstalk = 0\n",
      "s_evidence = None\n",
      "t_senso = 0\n",
      "vocab = <nengo_spa.vocabulary.Vocabulary object at 0x7fe8e1324650>\n",
      "xp = <experiments.Xp1 object at 0x7fe8e1811ad0>\n",
      "proc_feedback = 0.9\n",
      "proc_feedback_synapse = 0.005\n",
      "GW_feedback = 1\n",
      "GW_threshold = 0.5\n",
      "GW_scale = 2\n",
      "BG_thr = 0.1\n",
      "BG_bias = 0.5\n",
      "integrator_reset = True\n",
      "data = <data.Data object at 0x7fe8a5fc7c50>\n",
      "\t seed 4/20\n",
      "running run_seed4_dim48\n"
     ]
    },
    {
     "name": "stderr",
     "output_type": "stream",
     "text": [
      "/home/ubuntu/anaconda3/envs/CTN/lib/python3.7/site-packages/nengo_spa/vocabulary.py:173: UserWarning: Could not create a semantic pointer with max_similarity=0.10 (D=48, M=13, similarity=0.10)\n",
      "  len(self._key2idx), best_sim))\n",
      "/home/ubuntu/anaconda3/envs/CTN/lib/python3.7/site-packages/nengo_spa/vocabulary.py:173: UserWarning: Could not create a semantic pointer with max_similarity=0.10 (D=48, M=16, similarity=0.14)\n",
      "  len(self._key2idx), best_sim))\n",
      "/home/ubuntu/anaconda3/envs/CTN/lib/python3.7/site-packages/nengo_spa/vocabulary.py:173: UserWarning: Could not create a semantic pointer with max_similarity=0.10 (D=48, M=18, similarity=0.14)\n",
      "  len(self._key2idx), best_sim))\n",
      "/home/ubuntu/anaconda3/envs/CTN/lib/python3.7/site-packages/nengo_spa/vocabulary.py:173: UserWarning: Could not create a semantic pointer with max_similarity=0.10 (D=48, M=19, similarity=0.13)\n",
      "  len(self._key2idx), best_sim))\n"
     ]
    },
    {
     "data": {
      "text/html": [
       "\n",
       "                <div id=\"5af0cdc2-b0f4-4a0a-8684-ee595b5c6b91\" style=\"\n",
       "                    width: 100%;\n",
       "                    border: 1px solid #cfcfcf;\n",
       "                    border-radius: 4px;\n",
       "                    text-align: center;\n",
       "                    position: relative;\">\n",
       "                  <div class=\"pb-text\" style=\"\n",
       "                      position: absolute;\n",
       "                      width: 100%;\">\n",
       "                    0%\n",
       "                  </div>\n",
       "                  <div class=\"pb-fill\" style=\"\n",
       "                      background-color: #bdd2e6;\n",
       "                      width: 0%;\">\n",
       "                    <style type=\"text/css\" scoped=\"scoped\">\n",
       "                        @keyframes pb-fill-anim {\n",
       "                            0% { background-position: 0 0; }\n",
       "                            100% { background-position: 100px 0; }\n",
       "                        }\n",
       "                    </style>\n",
       "                    &nbsp;\n",
       "                  </div>\n",
       "                </div>"
      ],
      "text/plain": [
       "HtmlProgressBar cannot be displayed. Please use the TerminalProgressBar. It can be enabled with `nengo.rc.set('progress', 'progress_bar', 'nengo.utils.progress.TerminalProgressBar')`."
      ]
     },
     "metadata": {},
     "output_type": "display_data"
    },
    {
     "data": {
      "application/javascript": [
       "\n",
       "              (function () {\n",
       "                  var root = document.getElementById('5af0cdc2-b0f4-4a0a-8684-ee595b5c6b91');\n",
       "                  var text = root.getElementsByClassName('pb-text')[0];\n",
       "                  var fill = root.getElementsByClassName('pb-fill')[0];\n",
       "\n",
       "                  text.innerHTML = 'Simulation finished in 0:01:05.';\n",
       "                  \n",
       "            if (100.0 > 0.) {\n",
       "                fill.style.transition = 'width 0.1s linear';\n",
       "            } else {\n",
       "                fill.style.transition = 'none';\n",
       "            }\n",
       "\n",
       "            fill.style.width = '100.0%';\n",
       "            fill.style.animation = 'none';\n",
       "            fill.style.backgroundImage = 'none'\n",
       "        \n",
       "                  \n",
       "                fill.style.animation = 'none';\n",
       "                fill.style.backgroundImage = 'none';\n",
       "            \n",
       "              })();\n",
       "        "
      ],
      "text/plain": [
       "<IPython.core.display.Javascript object>"
      ]
     },
     "metadata": {},
     "output_type": "display_data"
    },
    {
     "name": "stdout",
     "output_type": "stream",
     "text": [
      "seed = 4\n",
      "backend = 'nengo_ocl'\n",
      "dt = 0.001\n",
      "neuron_type = 'default'\n",
      "n_neurons_scale = 1\n",
      "s_crosstalk = 0\n",
      "s_evidence = None\n",
      "t_senso = 0\n",
      "vocab = <nengo_spa.vocabulary.Vocabulary object at 0x7fe8e1d0b910>\n",
      "xp = <experiments.Xp1 object at 0x7fe8d8314990>\n",
      "proc_feedback = 0.9\n",
      "proc_feedback_synapse = 0.005\n",
      "GW_feedback = 1\n",
      "GW_threshold = 0.5\n",
      "GW_scale = 2\n",
      "BG_thr = 0.1\n",
      "BG_bias = 0.5\n",
      "integrator_reset = True\n",
      "data = <data.Data object at 0x7fe8e1360b50>\n",
      "\t seed 5/20\n",
      "running run_seed5_dim48\n"
     ]
    },
    {
     "name": "stderr",
     "output_type": "stream",
     "text": [
      "/home/ubuntu/anaconda3/envs/CTN/lib/python3.7/site-packages/nengo_spa/vocabulary.py:173: UserWarning: Could not create a semantic pointer with max_similarity=0.10 (D=48, M=15, similarity=0.13)\n",
      "  len(self._key2idx), best_sim))\n",
      "/home/ubuntu/anaconda3/envs/CTN/lib/python3.7/site-packages/nengo_spa/vocabulary.py:173: UserWarning: Could not create a semantic pointer with max_similarity=0.10 (D=48, M=17, similarity=0.14)\n",
      "  len(self._key2idx), best_sim))\n",
      "/home/ubuntu/anaconda3/envs/CTN/lib/python3.7/site-packages/nengo_spa/vocabulary.py:173: UserWarning: Could not create a semantic pointer with max_similarity=0.10 (D=48, M=20, similarity=0.14)\n",
      "  len(self._key2idx), best_sim))\n"
     ]
    },
    {
     "data": {
      "text/html": [
       "\n",
       "                <div id=\"3023abbf-3e23-4880-9d87-8c0068c05bac\" style=\"\n",
       "                    width: 100%;\n",
       "                    border: 1px solid #cfcfcf;\n",
       "                    border-radius: 4px;\n",
       "                    text-align: center;\n",
       "                    position: relative;\">\n",
       "                  <div class=\"pb-text\" style=\"\n",
       "                      position: absolute;\n",
       "                      width: 100%;\">\n",
       "                    0%\n",
       "                  </div>\n",
       "                  <div class=\"pb-fill\" style=\"\n",
       "                      background-color: #bdd2e6;\n",
       "                      width: 0%;\">\n",
       "                    <style type=\"text/css\" scoped=\"scoped\">\n",
       "                        @keyframes pb-fill-anim {\n",
       "                            0% { background-position: 0 0; }\n",
       "                            100% { background-position: 100px 0; }\n",
       "                        }\n",
       "                    </style>\n",
       "                    &nbsp;\n",
       "                  </div>\n",
       "                </div>"
      ],
      "text/plain": [
       "HtmlProgressBar cannot be displayed. Please use the TerminalProgressBar. It can be enabled with `nengo.rc.set('progress', 'progress_bar', 'nengo.utils.progress.TerminalProgressBar')`."
      ]
     },
     "metadata": {},
     "output_type": "display_data"
    },
    {
     "data": {
      "application/javascript": [
       "\n",
       "              (function () {\n",
       "                  var root = document.getElementById('3023abbf-3e23-4880-9d87-8c0068c05bac');\n",
       "                  var text = root.getElementsByClassName('pb-text')[0];\n",
       "                  var fill = root.getElementsByClassName('pb-fill')[0];\n",
       "\n",
       "                  text.innerHTML = 'Simulation finished in 0:01:03.';\n",
       "                  \n",
       "            if (100.0 > 0.) {\n",
       "                fill.style.transition = 'width 0.1s linear';\n",
       "            } else {\n",
       "                fill.style.transition = 'none';\n",
       "            }\n",
       "\n",
       "            fill.style.width = '100.0%';\n",
       "            fill.style.animation = 'none';\n",
       "            fill.style.backgroundImage = 'none'\n",
       "        \n",
       "                  \n",
       "                fill.style.animation = 'none';\n",
       "                fill.style.backgroundImage = 'none';\n",
       "            \n",
       "              })();\n",
       "        "
      ],
      "text/plain": [
       "<IPython.core.display.Javascript object>"
      ]
     },
     "metadata": {},
     "output_type": "display_data"
    },
    {
     "name": "stdout",
     "output_type": "stream",
     "text": [
      "seed = 5\n",
      "backend = 'nengo_ocl'\n",
      "dt = 0.001\n",
      "neuron_type = 'default'\n",
      "n_neurons_scale = 1\n",
      "s_crosstalk = 0\n",
      "s_evidence = None\n",
      "t_senso = 0\n",
      "vocab = <nengo_spa.vocabulary.Vocabulary object at 0x7fe8e1e7c450>\n",
      "xp = <experiments.Xp1 object at 0x7fe8e1e7c650>\n",
      "proc_feedback = 0.9\n",
      "proc_feedback_synapse = 0.005\n",
      "GW_feedback = 1\n",
      "GW_threshold = 0.5\n",
      "GW_scale = 2\n",
      "BG_thr = 0.1\n",
      "BG_bias = 0.5\n",
      "integrator_reset = True\n",
      "data = <data.Data object at 0x7fe8ac862490>\n",
      "\t seed 6/20\n",
      "running run_seed6_dim48\n"
     ]
    },
    {
     "name": "stderr",
     "output_type": "stream",
     "text": [
      "/home/ubuntu/anaconda3/envs/CTN/lib/python3.7/site-packages/nengo_spa/vocabulary.py:173: UserWarning: Could not create a semantic pointer with max_similarity=0.10 (D=48, M=18, similarity=0.15)\n",
      "  len(self._key2idx), best_sim))\n"
     ]
    },
    {
     "data": {
      "text/html": [
       "\n",
       "                <div id=\"26cb182b-f1d4-431a-9d49-dde1919465a8\" style=\"\n",
       "                    width: 100%;\n",
       "                    border: 1px solid #cfcfcf;\n",
       "                    border-radius: 4px;\n",
       "                    text-align: center;\n",
       "                    position: relative;\">\n",
       "                  <div class=\"pb-text\" style=\"\n",
       "                      position: absolute;\n",
       "                      width: 100%;\">\n",
       "                    0%\n",
       "                  </div>\n",
       "                  <div class=\"pb-fill\" style=\"\n",
       "                      background-color: #bdd2e6;\n",
       "                      width: 0%;\">\n",
       "                    <style type=\"text/css\" scoped=\"scoped\">\n",
       "                        @keyframes pb-fill-anim {\n",
       "                            0% { background-position: 0 0; }\n",
       "                            100% { background-position: 100px 0; }\n",
       "                        }\n",
       "                    </style>\n",
       "                    &nbsp;\n",
       "                  </div>\n",
       "                </div>"
      ],
      "text/plain": [
       "HtmlProgressBar cannot be displayed. Please use the TerminalProgressBar. It can be enabled with `nengo.rc.set('progress', 'progress_bar', 'nengo.utils.progress.TerminalProgressBar')`."
      ]
     },
     "metadata": {},
     "output_type": "display_data"
    },
    {
     "data": {
      "application/javascript": [
       "\n",
       "              (function () {\n",
       "                  var root = document.getElementById('26cb182b-f1d4-431a-9d49-dde1919465a8');\n",
       "                  var text = root.getElementsByClassName('pb-text')[0];\n",
       "                  var fill = root.getElementsByClassName('pb-fill')[0];\n",
       "\n",
       "                  text.innerHTML = 'Simulation finished in 0:01:07.';\n",
       "                  \n",
       "            if (100.0 > 0.) {\n",
       "                fill.style.transition = 'width 0.1s linear';\n",
       "            } else {\n",
       "                fill.style.transition = 'none';\n",
       "            }\n",
       "\n",
       "            fill.style.width = '100.0%';\n",
       "            fill.style.animation = 'none';\n",
       "            fill.style.backgroundImage = 'none'\n",
       "        \n",
       "                  \n",
       "                fill.style.animation = 'none';\n",
       "                fill.style.backgroundImage = 'none';\n",
       "            \n",
       "              })();\n",
       "        "
      ],
      "text/plain": [
       "<IPython.core.display.Javascript object>"
      ]
     },
     "metadata": {},
     "output_type": "display_data"
    },
    {
     "name": "stdout",
     "output_type": "stream",
     "text": [
      "seed = 6\n",
      "backend = 'nengo_ocl'\n",
      "dt = 0.001\n",
      "neuron_type = 'default'\n",
      "n_neurons_scale = 1\n",
      "s_crosstalk = 0\n",
      "s_evidence = None\n",
      "t_senso = 0\n",
      "vocab = <nengo_spa.vocabulary.Vocabulary object at 0x7fe8ac862ad0>\n",
      "xp = <experiments.Xp1 object at 0x7fe8e1e7cbd0>\n",
      "proc_feedback = 0.9\n",
      "proc_feedback_synapse = 0.005\n",
      "GW_feedback = 1\n",
      "GW_threshold = 0.5\n",
      "GW_scale = 2\n",
      "BG_thr = 0.1\n",
      "BG_bias = 0.5\n",
      "integrator_reset = True\n",
      "data = <data.Data object at 0x7fe8c17632d0>\n",
      "\t seed 7/20\n",
      "running run_seed7_dim48\n"
     ]
    },
    {
     "name": "stderr",
     "output_type": "stream",
     "text": [
      "/home/ubuntu/anaconda3/envs/CTN/lib/python3.7/site-packages/nengo_spa/vocabulary.py:173: UserWarning: Could not create a semantic pointer with max_similarity=0.10 (D=48, M=12, similarity=0.12)\n",
      "  len(self._key2idx), best_sim))\n",
      "/home/ubuntu/anaconda3/envs/CTN/lib/python3.7/site-packages/nengo_spa/vocabulary.py:173: UserWarning: Could not create a semantic pointer with max_similarity=0.10 (D=48, M=14, similarity=0.10)\n",
      "  len(self._key2idx), best_sim))\n",
      "/home/ubuntu/anaconda3/envs/CTN/lib/python3.7/site-packages/nengo_spa/vocabulary.py:173: UserWarning: Could not create a semantic pointer with max_similarity=0.10 (D=48, M=16, similarity=0.12)\n",
      "  len(self._key2idx), best_sim))\n",
      "/home/ubuntu/anaconda3/envs/CTN/lib/python3.7/site-packages/nengo_spa/vocabulary.py:173: UserWarning: Could not create a semantic pointer with max_similarity=0.10 (D=48, M=18, similarity=0.11)\n",
      "  len(self._key2idx), best_sim))\n",
      "/home/ubuntu/anaconda3/envs/CTN/lib/python3.7/site-packages/nengo_spa/vocabulary.py:173: UserWarning: Could not create a semantic pointer with max_similarity=0.10 (D=48, M=19, similarity=0.16)\n",
      "  len(self._key2idx), best_sim))\n",
      "/home/ubuntu/anaconda3/envs/CTN/lib/python3.7/site-packages/nengo_spa/vocabulary.py:173: UserWarning: Could not create a semantic pointer with max_similarity=0.10 (D=48, M=21, similarity=0.14)\n",
      "  len(self._key2idx), best_sim))\n"
     ]
    },
    {
     "data": {
      "text/html": [
       "\n",
       "                <div id=\"63623ce8-6271-439a-afa3-f2e50ddd8b1b\" style=\"\n",
       "                    width: 100%;\n",
       "                    border: 1px solid #cfcfcf;\n",
       "                    border-radius: 4px;\n",
       "                    text-align: center;\n",
       "                    position: relative;\">\n",
       "                  <div class=\"pb-text\" style=\"\n",
       "                      position: absolute;\n",
       "                      width: 100%;\">\n",
       "                    0%\n",
       "                  </div>\n",
       "                  <div class=\"pb-fill\" style=\"\n",
       "                      background-color: #bdd2e6;\n",
       "                      width: 0%;\">\n",
       "                    <style type=\"text/css\" scoped=\"scoped\">\n",
       "                        @keyframes pb-fill-anim {\n",
       "                            0% { background-position: 0 0; }\n",
       "                            100% { background-position: 100px 0; }\n",
       "                        }\n",
       "                    </style>\n",
       "                    &nbsp;\n",
       "                  </div>\n",
       "                </div>"
      ],
      "text/plain": [
       "HtmlProgressBar cannot be displayed. Please use the TerminalProgressBar. It can be enabled with `nengo.rc.set('progress', 'progress_bar', 'nengo.utils.progress.TerminalProgressBar')`."
      ]
     },
     "metadata": {},
     "output_type": "display_data"
    },
    {
     "data": {
      "application/javascript": [
       "\n",
       "              (function () {\n",
       "                  var root = document.getElementById('63623ce8-6271-439a-afa3-f2e50ddd8b1b');\n",
       "                  var text = root.getElementsByClassName('pb-text')[0];\n",
       "                  var fill = root.getElementsByClassName('pb-fill')[0];\n",
       "\n",
       "                  text.innerHTML = 'Simulation finished in 0:01:08.';\n",
       "                  \n",
       "            if (100.0 > 0.) {\n",
       "                fill.style.transition = 'width 0.1s linear';\n",
       "            } else {\n",
       "                fill.style.transition = 'none';\n",
       "            }\n",
       "\n",
       "            fill.style.width = '100.0%';\n",
       "            fill.style.animation = 'none';\n",
       "            fill.style.backgroundImage = 'none'\n",
       "        \n",
       "                  \n",
       "                fill.style.animation = 'none';\n",
       "                fill.style.backgroundImage = 'none';\n",
       "            \n",
       "              })();\n",
       "        "
      ],
      "text/plain": [
       "<IPython.core.display.Javascript object>"
      ]
     },
     "metadata": {},
     "output_type": "display_data"
    },
    {
     "name": "stdout",
     "output_type": "stream",
     "text": [
      "seed = 7\n",
      "backend = 'nengo_ocl'\n",
      "dt = 0.001\n",
      "neuron_type = 'default'\n",
      "n_neurons_scale = 1\n",
      "s_crosstalk = 0\n",
      "s_evidence = None\n",
      "t_senso = 0\n",
      "vocab = <nengo_spa.vocabulary.Vocabulary object at 0x7fe8e1cd3410>\n",
      "xp = <experiments.Xp1 object at 0x7fe8e1682410>\n",
      "proc_feedback = 0.9\n",
      "proc_feedback_synapse = 0.005\n",
      "GW_feedback = 1\n",
      "GW_threshold = 0.5\n",
      "GW_scale = 2\n",
      "BG_thr = 0.1\n",
      "BG_bias = 0.5\n",
      "integrator_reset = True\n",
      "data = <data.Data object at 0x7fe8e14447d0>\n",
      "\t seed 8/20\n",
      "running run_seed8_dim48\n"
     ]
    },
    {
     "name": "stderr",
     "output_type": "stream",
     "text": [
      "/home/ubuntu/anaconda3/envs/CTN/lib/python3.7/site-packages/nengo_spa/vocabulary.py:173: UserWarning: Could not create a semantic pointer with max_similarity=0.10 (D=48, M=17, similarity=0.16)\n",
      "  len(self._key2idx), best_sim))\n",
      "/home/ubuntu/anaconda3/envs/CTN/lib/python3.7/site-packages/nengo_spa/vocabulary.py:173: UserWarning: Could not create a semantic pointer with max_similarity=0.10 (D=48, M=20, similarity=0.11)\n",
      "  len(self._key2idx), best_sim))\n",
      "/home/ubuntu/anaconda3/envs/CTN/lib/python3.7/site-packages/nengo_spa/vocabulary.py:173: UserWarning: Could not create a semantic pointer with max_similarity=0.10 (D=48, M=21, similarity=0.13)\n",
      "  len(self._key2idx), best_sim))\n"
     ]
    },
    {
     "data": {
      "text/html": [
       "\n",
       "                <div id=\"a77d7460-8971-4dc9-8a55-48c3148ecc4d\" style=\"\n",
       "                    width: 100%;\n",
       "                    border: 1px solid #cfcfcf;\n",
       "                    border-radius: 4px;\n",
       "                    text-align: center;\n",
       "                    position: relative;\">\n",
       "                  <div class=\"pb-text\" style=\"\n",
       "                      position: absolute;\n",
       "                      width: 100%;\">\n",
       "                    0%\n",
       "                  </div>\n",
       "                  <div class=\"pb-fill\" style=\"\n",
       "                      background-color: #bdd2e6;\n",
       "                      width: 0%;\">\n",
       "                    <style type=\"text/css\" scoped=\"scoped\">\n",
       "                        @keyframes pb-fill-anim {\n",
       "                            0% { background-position: 0 0; }\n",
       "                            100% { background-position: 100px 0; }\n",
       "                        }\n",
       "                    </style>\n",
       "                    &nbsp;\n",
       "                  </div>\n",
       "                </div>"
      ],
      "text/plain": [
       "HtmlProgressBar cannot be displayed. Please use the TerminalProgressBar. It can be enabled with `nengo.rc.set('progress', 'progress_bar', 'nengo.utils.progress.TerminalProgressBar')`."
      ]
     },
     "metadata": {},
     "output_type": "display_data"
    },
    {
     "data": {
      "application/javascript": [
       "\n",
       "              (function () {\n",
       "                  var root = document.getElementById('a77d7460-8971-4dc9-8a55-48c3148ecc4d');\n",
       "                  var text = root.getElementsByClassName('pb-text')[0];\n",
       "                  var fill = root.getElementsByClassName('pb-fill')[0];\n",
       "\n",
       "                  text.innerHTML = 'Simulation finished in 0:01:26.';\n",
       "                  \n",
       "            if (100.0 > 0.) {\n",
       "                fill.style.transition = 'width 0.1s linear';\n",
       "            } else {\n",
       "                fill.style.transition = 'none';\n",
       "            }\n",
       "\n",
       "            fill.style.width = '100.0%';\n",
       "            fill.style.animation = 'none';\n",
       "            fill.style.backgroundImage = 'none'\n",
       "        \n",
       "                  \n",
       "                fill.style.animation = 'none';\n",
       "                fill.style.backgroundImage = 'none';\n",
       "            \n",
       "              })();\n",
       "        "
      ],
      "text/plain": [
       "<IPython.core.display.Javascript object>"
      ]
     },
     "metadata": {},
     "output_type": "display_data"
    },
    {
     "name": "stdout",
     "output_type": "stream",
     "text": [
      "seed = 8\n",
      "backend = 'nengo_ocl'\n",
      "dt = 0.001\n",
      "neuron_type = 'default'\n",
      "n_neurons_scale = 1\n",
      "s_crosstalk = 0\n",
      "s_evidence = None\n",
      "t_senso = 0\n",
      "vocab = <nengo_spa.vocabulary.Vocabulary object at 0x7fe8ccf76f90>\n",
      "xp = <experiments.Xp1 object at 0x7fe8e17092d0>\n",
      "proc_feedback = 0.9\n",
      "proc_feedback_synapse = 0.005\n",
      "GW_feedback = 1\n",
      "GW_threshold = 0.5\n",
      "GW_scale = 2\n",
      "BG_thr = 0.1\n",
      "BG_bias = 0.5\n",
      "integrator_reset = True\n",
      "data = <data.Data object at 0x7fe8e15d5b10>\n",
      "\t seed 9/20\n",
      "running run_seed9_dim48\n"
     ]
    },
    {
     "data": {
      "text/html": [
       "\n",
       "                <div id=\"e5bc6101-c731-4ff7-bff2-64e7d5c4746c\" style=\"\n",
       "                    width: 100%;\n",
       "                    border: 1px solid #cfcfcf;\n",
       "                    border-radius: 4px;\n",
       "                    text-align: center;\n",
       "                    position: relative;\">\n",
       "                  <div class=\"pb-text\" style=\"\n",
       "                      position: absolute;\n",
       "                      width: 100%;\">\n",
       "                    0%\n",
       "                  </div>\n",
       "                  <div class=\"pb-fill\" style=\"\n",
       "                      background-color: #bdd2e6;\n",
       "                      width: 0%;\">\n",
       "                    <style type=\"text/css\" scoped=\"scoped\">\n",
       "                        @keyframes pb-fill-anim {\n",
       "                            0% { background-position: 0 0; }\n",
       "                            100% { background-position: 100px 0; }\n",
       "                        }\n",
       "                    </style>\n",
       "                    &nbsp;\n",
       "                  </div>\n",
       "                </div>"
      ],
      "text/plain": [
       "HtmlProgressBar cannot be displayed. Please use the TerminalProgressBar. It can be enabled with `nengo.rc.set('progress', 'progress_bar', 'nengo.utils.progress.TerminalProgressBar')`."
      ]
     },
     "metadata": {},
     "output_type": "display_data"
    },
    {
     "data": {
      "application/javascript": [
       "\n",
       "              (function () {\n",
       "                  var root = document.getElementById('e5bc6101-c731-4ff7-bff2-64e7d5c4746c');\n",
       "                  var text = root.getElementsByClassName('pb-text')[0];\n",
       "                  var fill = root.getElementsByClassName('pb-fill')[0];\n",
       "\n",
       "                  text.innerHTML = 'Simulation finished in 0:01:46.';\n",
       "                  \n",
       "            if (100.0 > 0.) {\n",
       "                fill.style.transition = 'width 0.1s linear';\n",
       "            } else {\n",
       "                fill.style.transition = 'none';\n",
       "            }\n",
       "\n",
       "            fill.style.width = '100.0%';\n",
       "            fill.style.animation = 'none';\n",
       "            fill.style.backgroundImage = 'none'\n",
       "        \n",
       "                  \n",
       "                fill.style.animation = 'none';\n",
       "                fill.style.backgroundImage = 'none';\n",
       "            \n",
       "              })();\n",
       "        "
      ],
      "text/plain": [
       "<IPython.core.display.Javascript object>"
      ]
     },
     "metadata": {},
     "output_type": "display_data"
    },
    {
     "name": "stdout",
     "output_type": "stream",
     "text": [
      "seed = 9\n",
      "backend = 'nengo_ocl'\n",
      "dt = 0.001\n",
      "neuron_type = 'default'\n",
      "n_neurons_scale = 1\n",
      "s_crosstalk = 0\n",
      "s_evidence = None\n",
      "t_senso = 0\n",
      "vocab = <nengo_spa.vocabulary.Vocabulary object at 0x7fe8ac84e3d0>\n",
      "xp = <experiments.Xp1 object at 0x7fe8ac84ee10>\n",
      "proc_feedback = 0.9\n",
      "proc_feedback_synapse = 0.005\n",
      "GW_feedback = 1\n",
      "GW_threshold = 0.5\n",
      "GW_scale = 2\n",
      "BG_thr = 0.1\n",
      "BG_bias = 0.5\n",
      "integrator_reset = True\n",
      "data = <data.Data object at 0x7fe8c174b710>\n",
      "\t seed 10/20\n",
      "running run_seed10_dim48\n"
     ]
    },
    {
     "name": "stderr",
     "output_type": "stream",
     "text": [
      "/home/ubuntu/anaconda3/envs/CTN/lib/python3.7/site-packages/nengo_spa/vocabulary.py:173: UserWarning: Could not create a semantic pointer with max_similarity=0.10 (D=48, M=18, similarity=0.12)\n",
      "  len(self._key2idx), best_sim))\n",
      "/home/ubuntu/anaconda3/envs/CTN/lib/python3.7/site-packages/nengo_spa/vocabulary.py:173: UserWarning: Could not create a semantic pointer with max_similarity=0.10 (D=48, M=19, similarity=0.12)\n",
      "  len(self._key2idx), best_sim))\n",
      "/home/ubuntu/anaconda3/envs/CTN/lib/python3.7/site-packages/nengo_spa/vocabulary.py:173: UserWarning: Could not create a semantic pointer with max_similarity=0.10 (D=48, M=20, similarity=0.15)\n",
      "  len(self._key2idx), best_sim))\n"
     ]
    },
    {
     "data": {
      "text/html": [
       "\n",
       "                <div id=\"815f5706-d117-41b0-83d2-0a98ce37b2c3\" style=\"\n",
       "                    width: 100%;\n",
       "                    border: 1px solid #cfcfcf;\n",
       "                    border-radius: 4px;\n",
       "                    text-align: center;\n",
       "                    position: relative;\">\n",
       "                  <div class=\"pb-text\" style=\"\n",
       "                      position: absolute;\n",
       "                      width: 100%;\">\n",
       "                    0%\n",
       "                  </div>\n",
       "                  <div class=\"pb-fill\" style=\"\n",
       "                      background-color: #bdd2e6;\n",
       "                      width: 0%;\">\n",
       "                    <style type=\"text/css\" scoped=\"scoped\">\n",
       "                        @keyframes pb-fill-anim {\n",
       "                            0% { background-position: 0 0; }\n",
       "                            100% { background-position: 100px 0; }\n",
       "                        }\n",
       "                    </style>\n",
       "                    &nbsp;\n",
       "                  </div>\n",
       "                </div>"
      ],
      "text/plain": [
       "HtmlProgressBar cannot be displayed. Please use the TerminalProgressBar. It can be enabled with `nengo.rc.set('progress', 'progress_bar', 'nengo.utils.progress.TerminalProgressBar')`."
      ]
     },
     "metadata": {},
     "output_type": "display_data"
    },
    {
     "data": {
      "application/javascript": [
       "\n",
       "              (function () {\n",
       "                  var root = document.getElementById('815f5706-d117-41b0-83d2-0a98ce37b2c3');\n",
       "                  var text = root.getElementsByClassName('pb-text')[0];\n",
       "                  var fill = root.getElementsByClassName('pb-fill')[0];\n",
       "\n",
       "                  text.innerHTML = 'Simulation finished in 0:01:48.';\n",
       "                  \n",
       "            if (100.0 > 0.) {\n",
       "                fill.style.transition = 'width 0.1s linear';\n",
       "            } else {\n",
       "                fill.style.transition = 'none';\n",
       "            }\n",
       "\n",
       "            fill.style.width = '100.0%';\n",
       "            fill.style.animation = 'none';\n",
       "            fill.style.backgroundImage = 'none'\n",
       "        \n",
       "                  \n",
       "                fill.style.animation = 'none';\n",
       "                fill.style.backgroundImage = 'none';\n",
       "            \n",
       "              })();\n",
       "        "
      ],
      "text/plain": [
       "<IPython.core.display.Javascript object>"
      ]
     },
     "metadata": {},
     "output_type": "display_data"
    },
    {
     "name": "stdout",
     "output_type": "stream",
     "text": [
      "seed = 10\n",
      "backend = 'nengo_ocl'\n",
      "dt = 0.001\n",
      "neuron_type = 'default'\n",
      "n_neurons_scale = 1\n",
      "s_crosstalk = 0\n",
      "s_evidence = None\n",
      "t_senso = 0\n",
      "vocab = <nengo_spa.vocabulary.Vocabulary object at 0x7fe8c174bf10>\n",
      "xp = <experiments.Xp1 object at 0x7fe8e1cbc610>\n",
      "proc_feedback = 0.9\n",
      "proc_feedback_synapse = 0.005\n",
      "GW_feedback = 1\n",
      "GW_threshold = 0.5\n",
      "GW_scale = 2\n",
      "BG_thr = 0.1\n",
      "BG_bias = 0.5\n",
      "integrator_reset = True\n",
      "data = <data.Data object at 0x7fe8e0711d90>\n",
      "\t seed 11/20\n",
      "running run_seed11_dim48\n"
     ]
    },
    {
     "name": "stderr",
     "output_type": "stream",
     "text": [
      "/home/ubuntu/anaconda3/envs/CTN/lib/python3.7/site-packages/nengo_spa/vocabulary.py:173: UserWarning: Could not create a semantic pointer with max_similarity=0.10 (D=48, M=19, similarity=0.17)\n",
      "  len(self._key2idx), best_sim))\n",
      "/home/ubuntu/anaconda3/envs/CTN/lib/python3.7/site-packages/nengo_spa/vocabulary.py:173: UserWarning: Could not create a semantic pointer with max_similarity=0.10 (D=48, M=20, similarity=0.10)\n",
      "  len(self._key2idx), best_sim))\n",
      "/home/ubuntu/anaconda3/envs/CTN/lib/python3.7/site-packages/nengo_spa/vocabulary.py:173: UserWarning: Could not create a semantic pointer with max_similarity=0.10 (D=48, M=21, similarity=0.12)\n",
      "  len(self._key2idx), best_sim))\n"
     ]
    },
    {
     "data": {
      "text/html": [
       "\n",
       "                <div id=\"ad5ce4fa-e844-4ab9-ae7d-e1932b4406e6\" style=\"\n",
       "                    width: 100%;\n",
       "                    border: 1px solid #cfcfcf;\n",
       "                    border-radius: 4px;\n",
       "                    text-align: center;\n",
       "                    position: relative;\">\n",
       "                  <div class=\"pb-text\" style=\"\n",
       "                      position: absolute;\n",
       "                      width: 100%;\">\n",
       "                    0%\n",
       "                  </div>\n",
       "                  <div class=\"pb-fill\" style=\"\n",
       "                      background-color: #bdd2e6;\n",
       "                      width: 0%;\">\n",
       "                    <style type=\"text/css\" scoped=\"scoped\">\n",
       "                        @keyframes pb-fill-anim {\n",
       "                            0% { background-position: 0 0; }\n",
       "                            100% { background-position: 100px 0; }\n",
       "                        }\n",
       "                    </style>\n",
       "                    &nbsp;\n",
       "                  </div>\n",
       "                </div>"
      ],
      "text/plain": [
       "HtmlProgressBar cannot be displayed. Please use the TerminalProgressBar. It can be enabled with `nengo.rc.set('progress', 'progress_bar', 'nengo.utils.progress.TerminalProgressBar')`."
      ]
     },
     "metadata": {},
     "output_type": "display_data"
    },
    {
     "data": {
      "application/javascript": [
       "\n",
       "              (function () {\n",
       "                  var root = document.getElementById('ad5ce4fa-e844-4ab9-ae7d-e1932b4406e6');\n",
       "                  var text = root.getElementsByClassName('pb-text')[0];\n",
       "                  var fill = root.getElementsByClassName('pb-fill')[0];\n",
       "\n",
       "                  text.innerHTML = 'Simulation finished in 0:01:54.';\n",
       "                  \n",
       "            if (100.0 > 0.) {\n",
       "                fill.style.transition = 'width 0.1s linear';\n",
       "            } else {\n",
       "                fill.style.transition = 'none';\n",
       "            }\n",
       "\n",
       "            fill.style.width = '100.0%';\n",
       "            fill.style.animation = 'none';\n",
       "            fill.style.backgroundImage = 'none'\n",
       "        \n",
       "                  \n",
       "                fill.style.animation = 'none';\n",
       "                fill.style.backgroundImage = 'none';\n",
       "            \n",
       "              })();\n",
       "        "
      ],
      "text/plain": [
       "<IPython.core.display.Javascript object>"
      ]
     },
     "metadata": {},
     "output_type": "display_data"
    },
    {
     "name": "stdout",
     "output_type": "stream",
     "text": [
      "seed = 11\n",
      "backend = 'nengo_ocl'\n",
      "dt = 0.001\n",
      "neuron_type = 'default'\n",
      "n_neurons_scale = 1\n",
      "s_crosstalk = 0\n",
      "s_evidence = None\n",
      "t_senso = 0\n",
      "vocab = <nengo_spa.vocabulary.Vocabulary object at 0x7fe8a7418050>\n",
      "xp = <experiments.Xp1 object at 0x7fe8d80fd810>\n",
      "proc_feedback = 0.9\n",
      "proc_feedback_synapse = 0.005\n",
      "GW_feedback = 1\n",
      "GW_threshold = 0.5\n",
      "GW_scale = 2\n",
      "BG_thr = 0.1\n",
      "BG_bias = 0.5\n",
      "integrator_reset = True\n",
      "data = <data.Data object at 0x7fe8d80fde50>\n",
      "\t seed 12/20\n",
      "running run_seed12_dim48\n"
     ]
    },
    {
     "name": "stderr",
     "output_type": "stream",
     "text": [
      "/home/ubuntu/anaconda3/envs/CTN/lib/python3.7/site-packages/nengo_spa/vocabulary.py:173: UserWarning: Could not create a semantic pointer with max_similarity=0.10 (D=48, M=15, similarity=0.10)\n",
      "  len(self._key2idx), best_sim))\n",
      "/home/ubuntu/anaconda3/envs/CTN/lib/python3.7/site-packages/nengo_spa/vocabulary.py:173: UserWarning: Could not create a semantic pointer with max_similarity=0.10 (D=48, M=16, similarity=0.10)\n",
      "  len(self._key2idx), best_sim))\n"
     ]
    },
    {
     "data": {
      "text/html": [
       "\n",
       "                <div id=\"8928a56b-e1b4-446d-8ba7-2b233b1e5283\" style=\"\n",
       "                    width: 100%;\n",
       "                    border: 1px solid #cfcfcf;\n",
       "                    border-radius: 4px;\n",
       "                    text-align: center;\n",
       "                    position: relative;\">\n",
       "                  <div class=\"pb-text\" style=\"\n",
       "                      position: absolute;\n",
       "                      width: 100%;\">\n",
       "                    0%\n",
       "                  </div>\n",
       "                  <div class=\"pb-fill\" style=\"\n",
       "                      background-color: #bdd2e6;\n",
       "                      width: 0%;\">\n",
       "                    <style type=\"text/css\" scoped=\"scoped\">\n",
       "                        @keyframes pb-fill-anim {\n",
       "                            0% { background-position: 0 0; }\n",
       "                            100% { background-position: 100px 0; }\n",
       "                        }\n",
       "                    </style>\n",
       "                    &nbsp;\n",
       "                  </div>\n",
       "                </div>"
      ],
      "text/plain": [
       "HtmlProgressBar cannot be displayed. Please use the TerminalProgressBar. It can be enabled with `nengo.rc.set('progress', 'progress_bar', 'nengo.utils.progress.TerminalProgressBar')`."
      ]
     },
     "metadata": {},
     "output_type": "display_data"
    },
    {
     "data": {
      "application/javascript": [
       "\n",
       "              (function () {\n",
       "                  var root = document.getElementById('8928a56b-e1b4-446d-8ba7-2b233b1e5283');\n",
       "                  var text = root.getElementsByClassName('pb-text')[0];\n",
       "                  var fill = root.getElementsByClassName('pb-fill')[0];\n",
       "\n",
       "                  text.innerHTML = 'Simulation finished in 0:01:39.';\n",
       "                  \n",
       "            if (100.0 > 0.) {\n",
       "                fill.style.transition = 'width 0.1s linear';\n",
       "            } else {\n",
       "                fill.style.transition = 'none';\n",
       "            }\n",
       "\n",
       "            fill.style.width = '100.0%';\n",
       "            fill.style.animation = 'none';\n",
       "            fill.style.backgroundImage = 'none'\n",
       "        \n",
       "                  \n",
       "                fill.style.animation = 'none';\n",
       "                fill.style.backgroundImage = 'none';\n",
       "            \n",
       "              })();\n",
       "        "
      ],
      "text/plain": [
       "<IPython.core.display.Javascript object>"
      ]
     },
     "metadata": {},
     "output_type": "display_data"
    },
    {
     "name": "stdout",
     "output_type": "stream",
     "text": [
      "seed = 12\n",
      "backend = 'nengo_ocl'\n",
      "dt = 0.001\n",
      "neuron_type = 'default'\n",
      "n_neurons_scale = 1\n",
      "s_crosstalk = 0\n",
      "s_evidence = None\n",
      "t_senso = 0\n",
      "vocab = <nengo_spa.vocabulary.Vocabulary object at 0x7fe8acf9dc90>\n",
      "xp = <experiments.Xp1 object at 0x7fe8e15d0ad0>\n",
      "proc_feedback = 0.9\n",
      "proc_feedback_synapse = 0.005\n",
      "GW_feedback = 1\n",
      "GW_threshold = 0.5\n",
      "GW_scale = 2\n",
      "BG_thr = 0.1\n",
      "BG_bias = 0.5\n",
      "integrator_reset = True\n",
      "data = <data.Data object at 0x7fe8aeb7a8d0>\n",
      "\t seed 13/20\n",
      "running run_seed13_dim48\n"
     ]
    },
    {
     "name": "stderr",
     "output_type": "stream",
     "text": [
      "/home/ubuntu/anaconda3/envs/CTN/lib/python3.7/site-packages/nengo_spa/vocabulary.py:173: UserWarning: Could not create a semantic pointer with max_similarity=0.10 (D=48, M=17, similarity=0.15)\n",
      "  len(self._key2idx), best_sim))\n",
      "/home/ubuntu/anaconda3/envs/CTN/lib/python3.7/site-packages/nengo_spa/vocabulary.py:173: UserWarning: Could not create a semantic pointer with max_similarity=0.10 (D=48, M=21, similarity=0.11)\n",
      "  len(self._key2idx), best_sim))\n"
     ]
    },
    {
     "data": {
      "text/html": [
       "\n",
       "                <div id=\"5f85dec6-25e9-4111-86bc-4ece57f5fe36\" style=\"\n",
       "                    width: 100%;\n",
       "                    border: 1px solid #cfcfcf;\n",
       "                    border-radius: 4px;\n",
       "                    text-align: center;\n",
       "                    position: relative;\">\n",
       "                  <div class=\"pb-text\" style=\"\n",
       "                      position: absolute;\n",
       "                      width: 100%;\">\n",
       "                    0%\n",
       "                  </div>\n",
       "                  <div class=\"pb-fill\" style=\"\n",
       "                      background-color: #bdd2e6;\n",
       "                      width: 0%;\">\n",
       "                    <style type=\"text/css\" scoped=\"scoped\">\n",
       "                        @keyframes pb-fill-anim {\n",
       "                            0% { background-position: 0 0; }\n",
       "                            100% { background-position: 100px 0; }\n",
       "                        }\n",
       "                    </style>\n",
       "                    &nbsp;\n",
       "                  </div>\n",
       "                </div>"
      ],
      "text/plain": [
       "HtmlProgressBar cannot be displayed. Please use the TerminalProgressBar. It can be enabled with `nengo.rc.set('progress', 'progress_bar', 'nengo.utils.progress.TerminalProgressBar')`."
      ]
     },
     "metadata": {},
     "output_type": "display_data"
    },
    {
     "data": {
      "application/javascript": [
       "\n",
       "              (function () {\n",
       "                  var root = document.getElementById('5f85dec6-25e9-4111-86bc-4ece57f5fe36');\n",
       "                  var text = root.getElementsByClassName('pb-text')[0];\n",
       "                  var fill = root.getElementsByClassName('pb-fill')[0];\n",
       "\n",
       "                  text.innerHTML = 'Simulation finished in 0:01:37.';\n",
       "                  \n",
       "            if (100.0 > 0.) {\n",
       "                fill.style.transition = 'width 0.1s linear';\n",
       "            } else {\n",
       "                fill.style.transition = 'none';\n",
       "            }\n",
       "\n",
       "            fill.style.width = '100.0%';\n",
       "            fill.style.animation = 'none';\n",
       "            fill.style.backgroundImage = 'none'\n",
       "        \n",
       "                  \n",
       "                fill.style.animation = 'none';\n",
       "                fill.style.backgroundImage = 'none';\n",
       "            \n",
       "              })();\n",
       "        "
      ],
      "text/plain": [
       "<IPython.core.display.Javascript object>"
      ]
     },
     "metadata": {},
     "output_type": "display_data"
    },
    {
     "name": "stdout",
     "output_type": "stream",
     "text": [
      "seed = 13\n",
      "backend = 'nengo_ocl'\n",
      "dt = 0.001\n",
      "neuron_type = 'default'\n",
      "n_neurons_scale = 1\n",
      "s_crosstalk = 0\n",
      "s_evidence = None\n",
      "t_senso = 0\n",
      "vocab = <nengo_spa.vocabulary.Vocabulary object at 0x7fe89000b950>\n",
      "xp = <experiments.Xp1 object at 0x7fe8a405ce10>\n",
      "proc_feedback = 0.9\n",
      "proc_feedback_synapse = 0.005\n",
      "GW_feedback = 1\n",
      "GW_threshold = 0.5\n",
      "GW_scale = 2\n",
      "BG_thr = 0.1\n",
      "BG_bias = 0.5\n",
      "integrator_reset = True\n",
      "data = <data.Data object at 0x7fe8e1834b50>\n",
      "\t seed 14/20\n",
      "running run_seed14_dim48\n"
     ]
    },
    {
     "name": "stderr",
     "output_type": "stream",
     "text": [
      "/home/ubuntu/anaconda3/envs/CTN/lib/python3.7/site-packages/nengo_spa/vocabulary.py:173: UserWarning: Could not create a semantic pointer with max_similarity=0.10 (D=48, M=15, similarity=0.14)\n",
      "  len(self._key2idx), best_sim))\n"
     ]
    },
    {
     "data": {
      "text/html": [
       "\n",
       "                <div id=\"c895f4e6-795f-4f27-9766-84ae9501a69f\" style=\"\n",
       "                    width: 100%;\n",
       "                    border: 1px solid #cfcfcf;\n",
       "                    border-radius: 4px;\n",
       "                    text-align: center;\n",
       "                    position: relative;\">\n",
       "                  <div class=\"pb-text\" style=\"\n",
       "                      position: absolute;\n",
       "                      width: 100%;\">\n",
       "                    0%\n",
       "                  </div>\n",
       "                  <div class=\"pb-fill\" style=\"\n",
       "                      background-color: #bdd2e6;\n",
       "                      width: 0%;\">\n",
       "                    <style type=\"text/css\" scoped=\"scoped\">\n",
       "                        @keyframes pb-fill-anim {\n",
       "                            0% { background-position: 0 0; }\n",
       "                            100% { background-position: 100px 0; }\n",
       "                        }\n",
       "                    </style>\n",
       "                    &nbsp;\n",
       "                  </div>\n",
       "                </div>"
      ],
      "text/plain": [
       "HtmlProgressBar cannot be displayed. Please use the TerminalProgressBar. It can be enabled with `nengo.rc.set('progress', 'progress_bar', 'nengo.utils.progress.TerminalProgressBar')`."
      ]
     },
     "metadata": {},
     "output_type": "display_data"
    },
    {
     "data": {
      "application/javascript": [
       "\n",
       "              (function () {\n",
       "                  var root = document.getElementById('c895f4e6-795f-4f27-9766-84ae9501a69f');\n",
       "                  var text = root.getElementsByClassName('pb-text')[0];\n",
       "                  var fill = root.getElementsByClassName('pb-fill')[0];\n",
       "\n",
       "                  text.innerHTML = 'Simulation finished in 0:01:36.';\n",
       "                  \n",
       "            if (100.0 > 0.) {\n",
       "                fill.style.transition = 'width 0.1s linear';\n",
       "            } else {\n",
       "                fill.style.transition = 'none';\n",
       "            }\n",
       "\n",
       "            fill.style.width = '100.0%';\n",
       "            fill.style.animation = 'none';\n",
       "            fill.style.backgroundImage = 'none'\n",
       "        \n",
       "                  \n",
       "                fill.style.animation = 'none';\n",
       "                fill.style.backgroundImage = 'none';\n",
       "            \n",
       "              })();\n",
       "        "
      ],
      "text/plain": [
       "<IPython.core.display.Javascript object>"
      ]
     },
     "metadata": {},
     "output_type": "display_data"
    },
    {
     "name": "stdout",
     "output_type": "stream",
     "text": [
      "seed = 14\n",
      "backend = 'nengo_ocl'\n",
      "dt = 0.001\n",
      "neuron_type = 'default'\n",
      "n_neurons_scale = 1\n",
      "s_crosstalk = 0\n",
      "s_evidence = None\n",
      "t_senso = 0\n",
      "vocab = <nengo_spa.vocabulary.Vocabulary object at 0x7fe8a4cfb910>\n",
      "xp = <experiments.Xp1 object at 0x7fe8e1989bd0>\n",
      "proc_feedback = 0.9\n",
      "proc_feedback_synapse = 0.005\n",
      "GW_feedback = 1\n",
      "GW_threshold = 0.5\n",
      "GW_scale = 2\n",
      "BG_thr = 0.1\n",
      "BG_bias = 0.5\n",
      "integrator_reset = True\n",
      "data = <data.Data object at 0x7fe8e12b0cd0>\n",
      "\t seed 15/20\n",
      "running run_seed15_dim48\n"
     ]
    },
    {
     "name": "stderr",
     "output_type": "stream",
     "text": [
      "/home/ubuntu/anaconda3/envs/CTN/lib/python3.7/site-packages/nengo_spa/vocabulary.py:173: UserWarning: Could not create a semantic pointer with max_similarity=0.10 (D=48, M=17, similarity=0.10)\n",
      "  len(self._key2idx), best_sim))\n"
     ]
    },
    {
     "data": {
      "text/html": [
       "\n",
       "                <div id=\"da6e2122-3079-4ab4-a77f-44bdee5744d1\" style=\"\n",
       "                    width: 100%;\n",
       "                    border: 1px solid #cfcfcf;\n",
       "                    border-radius: 4px;\n",
       "                    text-align: center;\n",
       "                    position: relative;\">\n",
       "                  <div class=\"pb-text\" style=\"\n",
       "                      position: absolute;\n",
       "                      width: 100%;\">\n",
       "                    0%\n",
       "                  </div>\n",
       "                  <div class=\"pb-fill\" style=\"\n",
       "                      background-color: #bdd2e6;\n",
       "                      width: 0%;\">\n",
       "                    <style type=\"text/css\" scoped=\"scoped\">\n",
       "                        @keyframes pb-fill-anim {\n",
       "                            0% { background-position: 0 0; }\n",
       "                            100% { background-position: 100px 0; }\n",
       "                        }\n",
       "                    </style>\n",
       "                    &nbsp;\n",
       "                  </div>\n",
       "                </div>"
      ],
      "text/plain": [
       "HtmlProgressBar cannot be displayed. Please use the TerminalProgressBar. It can be enabled with `nengo.rc.set('progress', 'progress_bar', 'nengo.utils.progress.TerminalProgressBar')`."
      ]
     },
     "metadata": {},
     "output_type": "display_data"
    },
    {
     "data": {
      "application/javascript": [
       "\n",
       "              (function () {\n",
       "                  var root = document.getElementById('da6e2122-3079-4ab4-a77f-44bdee5744d1');\n",
       "                  var text = root.getElementsByClassName('pb-text')[0];\n",
       "                  var fill = root.getElementsByClassName('pb-fill')[0];\n",
       "\n",
       "                  text.innerHTML = 'Simulation finished in 0:01:41.';\n",
       "                  \n",
       "            if (100.0 > 0.) {\n",
       "                fill.style.transition = 'width 0.1s linear';\n",
       "            } else {\n",
       "                fill.style.transition = 'none';\n",
       "            }\n",
       "\n",
       "            fill.style.width = '100.0%';\n",
       "            fill.style.animation = 'none';\n",
       "            fill.style.backgroundImage = 'none'\n",
       "        \n",
       "                  \n",
       "                fill.style.animation = 'none';\n",
       "                fill.style.backgroundImage = 'none';\n",
       "            \n",
       "              })();\n",
       "        "
      ],
      "text/plain": [
       "<IPython.core.display.Javascript object>"
      ]
     },
     "metadata": {},
     "output_type": "display_data"
    },
    {
     "name": "stdout",
     "output_type": "stream",
     "text": [
      "seed = 15\n",
      "backend = 'nengo_ocl'\n",
      "dt = 0.001\n",
      "neuron_type = 'default'\n",
      "n_neurons_scale = 1\n",
      "s_crosstalk = 0\n",
      "s_evidence = None\n",
      "t_senso = 0\n",
      "vocab = <nengo_spa.vocabulary.Vocabulary object at 0x7fe8a6c2a750>\n",
      "xp = <experiments.Xp1 object at 0x7fe8e198bbd0>\n",
      "proc_feedback = 0.9\n",
      "proc_feedback_synapse = 0.005\n",
      "GW_feedback = 1\n",
      "GW_threshold = 0.5\n",
      "GW_scale = 2\n",
      "BG_thr = 0.1\n",
      "BG_bias = 0.5\n",
      "integrator_reset = True\n",
      "data = <data.Data object at 0x7fe8a404ab50>\n",
      "\t seed 16/20\n",
      "running run_seed16_dim48\n"
     ]
    },
    {
     "name": "stderr",
     "output_type": "stream",
     "text": [
      "/home/ubuntu/anaconda3/envs/CTN/lib/python3.7/site-packages/nengo_spa/vocabulary.py:173: UserWarning: Could not create a semantic pointer with max_similarity=0.10 (D=48, M=17, similarity=0.11)\n",
      "  len(self._key2idx), best_sim))\n"
     ]
    },
    {
     "data": {
      "text/html": [
       "\n",
       "                <div id=\"0c9d22d9-1ba9-4d0d-9eca-e82a2d036aab\" style=\"\n",
       "                    width: 100%;\n",
       "                    border: 1px solid #cfcfcf;\n",
       "                    border-radius: 4px;\n",
       "                    text-align: center;\n",
       "                    position: relative;\">\n",
       "                  <div class=\"pb-text\" style=\"\n",
       "                      position: absolute;\n",
       "                      width: 100%;\">\n",
       "                    0%\n",
       "                  </div>\n",
       "                  <div class=\"pb-fill\" style=\"\n",
       "                      background-color: #bdd2e6;\n",
       "                      width: 0%;\">\n",
       "                    <style type=\"text/css\" scoped=\"scoped\">\n",
       "                        @keyframes pb-fill-anim {\n",
       "                            0% { background-position: 0 0; }\n",
       "                            100% { background-position: 100px 0; }\n",
       "                        }\n",
       "                    </style>\n",
       "                    &nbsp;\n",
       "                  </div>\n",
       "                </div>"
      ],
      "text/plain": [
       "HtmlProgressBar cannot be displayed. Please use the TerminalProgressBar. It can be enabled with `nengo.rc.set('progress', 'progress_bar', 'nengo.utils.progress.TerminalProgressBar')`."
      ]
     },
     "metadata": {},
     "output_type": "display_data"
    },
    {
     "data": {
      "application/javascript": [
       "\n",
       "              (function () {\n",
       "                  var root = document.getElementById('0c9d22d9-1ba9-4d0d-9eca-e82a2d036aab');\n",
       "                  var text = root.getElementsByClassName('pb-text')[0];\n",
       "                  var fill = root.getElementsByClassName('pb-fill')[0];\n",
       "\n",
       "                  text.innerHTML = 'Simulation finished in 0:01:38.';\n",
       "                  \n",
       "            if (100.0 > 0.) {\n",
       "                fill.style.transition = 'width 0.1s linear';\n",
       "            } else {\n",
       "                fill.style.transition = 'none';\n",
       "            }\n",
       "\n",
       "            fill.style.width = '100.0%';\n",
       "            fill.style.animation = 'none';\n",
       "            fill.style.backgroundImage = 'none'\n",
       "        \n",
       "                  \n",
       "                fill.style.animation = 'none';\n",
       "                fill.style.backgroundImage = 'none';\n",
       "            \n",
       "              })();\n",
       "        "
      ],
      "text/plain": [
       "<IPython.core.display.Javascript object>"
      ]
     },
     "metadata": {},
     "output_type": "display_data"
    },
    {
     "name": "stdout",
     "output_type": "stream",
     "text": [
      "seed = 16\n",
      "backend = 'nengo_ocl'\n",
      "dt = 0.001\n",
      "neuron_type = 'default'\n",
      "n_neurons_scale = 1\n",
      "s_crosstalk = 0\n",
      "s_evidence = None\n",
      "t_senso = 0\n",
      "vocab = <nengo_spa.vocabulary.Vocabulary object at 0x7fe8a5bbd310>\n",
      "xp = <experiments.Xp1 object at 0x7fe8e1310c50>\n",
      "proc_feedback = 0.9\n",
      "proc_feedback_synapse = 0.005\n",
      "GW_feedback = 1\n",
      "GW_threshold = 0.5\n",
      "GW_scale = 2\n",
      "BG_thr = 0.1\n",
      "BG_bias = 0.5\n",
      "integrator_reset = True\n",
      "data = <data.Data object at 0x7fe8add6d910>\n",
      "\t seed 17/20\n",
      "running run_seed17_dim48\n"
     ]
    },
    {
     "name": "stderr",
     "output_type": "stream",
     "text": [
      "/home/ubuntu/anaconda3/envs/CTN/lib/python3.7/site-packages/nengo_spa/vocabulary.py:173: UserWarning: Could not create a semantic pointer with max_similarity=0.10 (D=48, M=21, similarity=0.17)\n",
      "  len(self._key2idx), best_sim))\n"
     ]
    },
    {
     "data": {
      "text/html": [
       "\n",
       "                <div id=\"d37d47ea-9c5e-4a61-8d56-1d94481e3490\" style=\"\n",
       "                    width: 100%;\n",
       "                    border: 1px solid #cfcfcf;\n",
       "                    border-radius: 4px;\n",
       "                    text-align: center;\n",
       "                    position: relative;\">\n",
       "                  <div class=\"pb-text\" style=\"\n",
       "                      position: absolute;\n",
       "                      width: 100%;\">\n",
       "                    0%\n",
       "                  </div>\n",
       "                  <div class=\"pb-fill\" style=\"\n",
       "                      background-color: #bdd2e6;\n",
       "                      width: 0%;\">\n",
       "                    <style type=\"text/css\" scoped=\"scoped\">\n",
       "                        @keyframes pb-fill-anim {\n",
       "                            0% { background-position: 0 0; }\n",
       "                            100% { background-position: 100px 0; }\n",
       "                        }\n",
       "                    </style>\n",
       "                    &nbsp;\n",
       "                  </div>\n",
       "                </div>"
      ],
      "text/plain": [
       "HtmlProgressBar cannot be displayed. Please use the TerminalProgressBar. It can be enabled with `nengo.rc.set('progress', 'progress_bar', 'nengo.utils.progress.TerminalProgressBar')`."
      ]
     },
     "metadata": {},
     "output_type": "display_data"
    },
    {
     "data": {
      "application/javascript": [
       "\n",
       "              (function () {\n",
       "                  var root = document.getElementById('d37d47ea-9c5e-4a61-8d56-1d94481e3490');\n",
       "                  var text = root.getElementsByClassName('pb-text')[0];\n",
       "                  var fill = root.getElementsByClassName('pb-fill')[0];\n",
       "\n",
       "                  text.innerHTML = 'Simulation finished in 0:01:37.';\n",
       "                  \n",
       "            if (100.0 > 0.) {\n",
       "                fill.style.transition = 'width 0.1s linear';\n",
       "            } else {\n",
       "                fill.style.transition = 'none';\n",
       "            }\n",
       "\n",
       "            fill.style.width = '100.0%';\n",
       "            fill.style.animation = 'none';\n",
       "            fill.style.backgroundImage = 'none'\n",
       "        \n",
       "                  \n",
       "                fill.style.animation = 'none';\n",
       "                fill.style.backgroundImage = 'none';\n",
       "            \n",
       "              })();\n",
       "        "
      ],
      "text/plain": [
       "<IPython.core.display.Javascript object>"
      ]
     },
     "metadata": {},
     "output_type": "display_data"
    },
    {
     "name": "stdout",
     "output_type": "stream",
     "text": [
      "seed = 17\n",
      "backend = 'nengo_ocl'\n",
      "dt = 0.001\n",
      "neuron_type = 'default'\n",
      "n_neurons_scale = 1\n",
      "s_crosstalk = 0\n",
      "s_evidence = None\n",
      "t_senso = 0\n",
      "vocab = <nengo_spa.vocabulary.Vocabulary object at 0x7fe8adc6ff90>\n",
      "xp = <experiments.Xp1 object at 0x7fe8a5bbd650>\n",
      "proc_feedback = 0.9\n",
      "proc_feedback_synapse = 0.005\n",
      "GW_feedback = 1\n",
      "GW_threshold = 0.5\n",
      "GW_scale = 2\n",
      "BG_thr = 0.1\n",
      "BG_bias = 0.5\n",
      "integrator_reset = True\n",
      "data = <data.Data object at 0x7fe8d81157d0>\n",
      "\t seed 18/20\n",
      "running run_seed18_dim48\n"
     ]
    },
    {
     "name": "stderr",
     "output_type": "stream",
     "text": [
      "/home/ubuntu/anaconda3/envs/CTN/lib/python3.7/site-packages/nengo_spa/vocabulary.py:173: UserWarning: Could not create a semantic pointer with max_similarity=0.10 (D=48, M=16, similarity=0.15)\n",
      "  len(self._key2idx), best_sim))\n",
      "/home/ubuntu/anaconda3/envs/CTN/lib/python3.7/site-packages/nengo_spa/vocabulary.py:173: UserWarning: Could not create a semantic pointer with max_similarity=0.10 (D=48, M=19, similarity=0.10)\n",
      "  len(self._key2idx), best_sim))\n",
      "/home/ubuntu/anaconda3/envs/CTN/lib/python3.7/site-packages/nengo_spa/vocabulary.py:173: UserWarning: Could not create a semantic pointer with max_similarity=0.10 (D=48, M=20, similarity=0.12)\n",
      "  len(self._key2idx), best_sim))\n",
      "/home/ubuntu/anaconda3/envs/CTN/lib/python3.7/site-packages/nengo_spa/vocabulary.py:173: UserWarning: Could not create a semantic pointer with max_similarity=0.10 (D=48, M=21, similarity=0.10)\n",
      "  len(self._key2idx), best_sim))\n"
     ]
    },
    {
     "data": {
      "text/html": [
       "\n",
       "                <div id=\"4cf24807-b01e-4570-be13-54ffd5c9a1ab\" style=\"\n",
       "                    width: 100%;\n",
       "                    border: 1px solid #cfcfcf;\n",
       "                    border-radius: 4px;\n",
       "                    text-align: center;\n",
       "                    position: relative;\">\n",
       "                  <div class=\"pb-text\" style=\"\n",
       "                      position: absolute;\n",
       "                      width: 100%;\">\n",
       "                    0%\n",
       "                  </div>\n",
       "                  <div class=\"pb-fill\" style=\"\n",
       "                      background-color: #bdd2e6;\n",
       "                      width: 0%;\">\n",
       "                    <style type=\"text/css\" scoped=\"scoped\">\n",
       "                        @keyframes pb-fill-anim {\n",
       "                            0% { background-position: 0 0; }\n",
       "                            100% { background-position: 100px 0; }\n",
       "                        }\n",
       "                    </style>\n",
       "                    &nbsp;\n",
       "                  </div>\n",
       "                </div>"
      ],
      "text/plain": [
       "HtmlProgressBar cannot be displayed. Please use the TerminalProgressBar. It can be enabled with `nengo.rc.set('progress', 'progress_bar', 'nengo.utils.progress.TerminalProgressBar')`."
      ]
     },
     "metadata": {},
     "output_type": "display_data"
    },
    {
     "data": {
      "application/javascript": [
       "\n",
       "              (function () {\n",
       "                  var root = document.getElementById('4cf24807-b01e-4570-be13-54ffd5c9a1ab');\n",
       "                  var text = root.getElementsByClassName('pb-text')[0];\n",
       "                  var fill = root.getElementsByClassName('pb-fill')[0];\n",
       "\n",
       "                  text.innerHTML = 'Simulation finished in 0:01:39.';\n",
       "                  \n",
       "            if (100.0 > 0.) {\n",
       "                fill.style.transition = 'width 0.1s linear';\n",
       "            } else {\n",
       "                fill.style.transition = 'none';\n",
       "            }\n",
       "\n",
       "            fill.style.width = '100.0%';\n",
       "            fill.style.animation = 'none';\n",
       "            fill.style.backgroundImage = 'none'\n",
       "        \n",
       "                  \n",
       "                fill.style.animation = 'none';\n",
       "                fill.style.backgroundImage = 'none';\n",
       "            \n",
       "              })();\n",
       "        "
      ],
      "text/plain": [
       "<IPython.core.display.Javascript object>"
      ]
     },
     "metadata": {},
     "output_type": "display_data"
    },
    {
     "name": "stdout",
     "output_type": "stream",
     "text": [
      "seed = 18\n",
      "backend = 'nengo_ocl'\n",
      "dt = 0.001\n",
      "neuron_type = 'default'\n",
      "n_neurons_scale = 1\n",
      "s_crosstalk = 0\n",
      "s_evidence = None\n",
      "t_senso = 0\n",
      "vocab = <nengo_spa.vocabulary.Vocabulary object at 0x7fe8ad6cae10>\n",
      "xp = <experiments.Xp1 object at 0x7fe8adc250d0>\n",
      "proc_feedback = 0.9\n",
      "proc_feedback_synapse = 0.005\n",
      "GW_feedback = 1\n",
      "GW_threshold = 0.5\n",
      "GW_scale = 2\n",
      "BG_thr = 0.1\n",
      "BG_bias = 0.5\n",
      "integrator_reset = True\n",
      "data = <data.Data object at 0x7fe8ad782390>\n",
      "\t seed 19/20\n",
      "running run_seed19_dim48\n"
     ]
    },
    {
     "name": "stderr",
     "output_type": "stream",
     "text": [
      "/home/ubuntu/anaconda3/envs/CTN/lib/python3.7/site-packages/nengo_spa/vocabulary.py:173: UserWarning: Could not create a semantic pointer with max_similarity=0.10 (D=48, M=12, similarity=0.14)\n",
      "  len(self._key2idx), best_sim))\n",
      "/home/ubuntu/anaconda3/envs/CTN/lib/python3.7/site-packages/nengo_spa/vocabulary.py:173: UserWarning: Could not create a semantic pointer with max_similarity=0.10 (D=48, M=13, similarity=0.12)\n",
      "  len(self._key2idx), best_sim))\n",
      "/home/ubuntu/anaconda3/envs/CTN/lib/python3.7/site-packages/nengo_spa/vocabulary.py:173: UserWarning: Could not create a semantic pointer with max_similarity=0.10 (D=48, M=18, similarity=0.16)\n",
      "  len(self._key2idx), best_sim))\n"
     ]
    },
    {
     "data": {
      "text/html": [
       "\n",
       "                <div id=\"407ec2b8-0bf9-49d0-ab77-638d3580fb08\" style=\"\n",
       "                    width: 100%;\n",
       "                    border: 1px solid #cfcfcf;\n",
       "                    border-radius: 4px;\n",
       "                    text-align: center;\n",
       "                    position: relative;\">\n",
       "                  <div class=\"pb-text\" style=\"\n",
       "                      position: absolute;\n",
       "                      width: 100%;\">\n",
       "                    0%\n",
       "                  </div>\n",
       "                  <div class=\"pb-fill\" style=\"\n",
       "                      background-color: #bdd2e6;\n",
       "                      width: 0%;\">\n",
       "                    <style type=\"text/css\" scoped=\"scoped\">\n",
       "                        @keyframes pb-fill-anim {\n",
       "                            0% { background-position: 0 0; }\n",
       "                            100% { background-position: 100px 0; }\n",
       "                        }\n",
       "                    </style>\n",
       "                    &nbsp;\n",
       "                  </div>\n",
       "                </div>"
      ],
      "text/plain": [
       "HtmlProgressBar cannot be displayed. Please use the TerminalProgressBar. It can be enabled with `nengo.rc.set('progress', 'progress_bar', 'nengo.utils.progress.TerminalProgressBar')`."
      ]
     },
     "metadata": {},
     "output_type": "display_data"
    },
    {
     "data": {
      "application/javascript": [
       "\n",
       "              (function () {\n",
       "                  var root = document.getElementById('407ec2b8-0bf9-49d0-ab77-638d3580fb08');\n",
       "                  var text = root.getElementsByClassName('pb-text')[0];\n",
       "                  var fill = root.getElementsByClassName('pb-fill')[0];\n",
       "\n",
       "                  text.innerHTML = 'Simulation finished in 0:01:41.';\n",
       "                  \n",
       "            if (100.0 > 0.) {\n",
       "                fill.style.transition = 'width 0.1s linear';\n",
       "            } else {\n",
       "                fill.style.transition = 'none';\n",
       "            }\n",
       "\n",
       "            fill.style.width = '100.0%';\n",
       "            fill.style.animation = 'none';\n",
       "            fill.style.backgroundImage = 'none'\n",
       "        \n",
       "                  \n",
       "                fill.style.animation = 'none';\n",
       "                fill.style.backgroundImage = 'none';\n",
       "            \n",
       "              })();\n",
       "        "
      ],
      "text/plain": [
       "<IPython.core.display.Javascript object>"
      ]
     },
     "metadata": {},
     "output_type": "display_data"
    },
    {
     "name": "stdout",
     "output_type": "stream",
     "text": [
      "seed = 19\n",
      "backend = 'nengo_ocl'\n",
      "dt = 0.001\n",
      "neuron_type = 'default'\n",
      "n_neurons_scale = 1\n",
      "s_crosstalk = 0\n",
      "s_evidence = None\n",
      "t_senso = 0\n",
      "vocab = <nengo_spa.vocabulary.Vocabulary object at 0x7fe8ad9b18d0>\n",
      "xp = <experiments.Xp1 object at 0x7fe8d8115e10>\n",
      "proc_feedback = 0.9\n",
      "proc_feedback_synapse = 0.005\n",
      "GW_feedback = 1\n",
      "GW_threshold = 0.5\n",
      "GW_scale = 2\n",
      "BG_thr = 0.1\n",
      "BG_bias = 0.5\n",
      "integrator_reset = True\n",
      "data = <data.Data object at 0x7fe8a7369d50>\n",
      "\t seed 20/20\n",
      "running run_seed20_dim48\n"
     ]
    },
    {
     "data": {
      "text/html": [
       "\n",
       "                <div id=\"80e580a4-4e7a-43b4-933b-7a9e1f6a21db\" style=\"\n",
       "                    width: 100%;\n",
       "                    border: 1px solid #cfcfcf;\n",
       "                    border-radius: 4px;\n",
       "                    text-align: center;\n",
       "                    position: relative;\">\n",
       "                  <div class=\"pb-text\" style=\"\n",
       "                      position: absolute;\n",
       "                      width: 100%;\">\n",
       "                    0%\n",
       "                  </div>\n",
       "                  <div class=\"pb-fill\" style=\"\n",
       "                      background-color: #bdd2e6;\n",
       "                      width: 0%;\">\n",
       "                    <style type=\"text/css\" scoped=\"scoped\">\n",
       "                        @keyframes pb-fill-anim {\n",
       "                            0% { background-position: 0 0; }\n",
       "                            100% { background-position: 100px 0; }\n",
       "                        }\n",
       "                    </style>\n",
       "                    &nbsp;\n",
       "                  </div>\n",
       "                </div>"
      ],
      "text/plain": [
       "HtmlProgressBar cannot be displayed. Please use the TerminalProgressBar. It can be enabled with `nengo.rc.set('progress', 'progress_bar', 'nengo.utils.progress.TerminalProgressBar')`."
      ]
     },
     "metadata": {},
     "output_type": "display_data"
    },
    {
     "data": {
      "application/javascript": [
       "\n",
       "              (function () {\n",
       "                  var root = document.getElementById('80e580a4-4e7a-43b4-933b-7a9e1f6a21db');\n",
       "                  var text = root.getElementsByClassName('pb-text')[0];\n",
       "                  var fill = root.getElementsByClassName('pb-fill')[0];\n",
       "\n",
       "                  text.innerHTML = 'Simulation finished in 0:01:41.';\n",
       "                  \n",
       "            if (100.0 > 0.) {\n",
       "                fill.style.transition = 'width 0.1s linear';\n",
       "            } else {\n",
       "                fill.style.transition = 'none';\n",
       "            }\n",
       "\n",
       "            fill.style.width = '100.0%';\n",
       "            fill.style.animation = 'none';\n",
       "            fill.style.backgroundImage = 'none'\n",
       "        \n",
       "                  \n",
       "                fill.style.animation = 'none';\n",
       "                fill.style.backgroundImage = 'none';\n",
       "            \n",
       "              })();\n",
       "        "
      ],
      "text/plain": [
       "<IPython.core.display.Javascript object>"
      ]
     },
     "metadata": {},
     "output_type": "display_data"
    },
    {
     "name": "stdout",
     "output_type": "stream",
     "text": [
      "seed = 20\n",
      "backend = 'nengo_ocl'\n",
      "dt = 0.001\n",
      "neuron_type = 'default'\n",
      "n_neurons_scale = 1\n",
      "s_crosstalk = 0\n",
      "s_evidence = None\n",
      "t_senso = 0\n",
      "vocab = <nengo_spa.vocabulary.Vocabulary object at 0x7fe8e1629ed0>\n",
      "xp = <experiments.Xp1 object at 0x7fe8ad92a150>\n",
      "proc_feedback = 0.9\n",
      "proc_feedback_synapse = 0.005\n",
      "GW_feedback = 1\n",
      "GW_threshold = 0.5\n",
      "GW_scale = 2\n",
      "BG_thr = 0.1\n",
      "BG_bias = 0.5\n",
      "integrator_reset = True\n",
      "data = <data.Data object at 0x7fe8e19f0f90>\n",
      "error rate: 0.3520833333333333\n",
      "params: [4.]\n",
      "Simulating...\n",
      "\t seed 1/20\n",
      "running run_seed1_dim64\n"
     ]
    },
    {
     "name": "stderr",
     "output_type": "stream",
     "text": [
      "/home/ubuntu/anaconda3/envs/CTN/lib/python3.7/site-packages/nengo_spa/vocabulary.py:173: UserWarning: Could not create a semantic pointer with max_similarity=0.10 (D=64, M=15, similarity=0.11)\n",
      "  len(self._key2idx), best_sim))\n",
      "/home/ubuntu/anaconda3/envs/CTN/lib/python3.7/site-packages/nengo_spa/vocabulary.py:173: UserWarning: Could not create a semantic pointer with max_similarity=0.10 (D=64, M=18, similarity=0.13)\n",
      "  len(self._key2idx), best_sim))\n",
      "/home/ubuntu/anaconda3/envs/CTN/lib/python3.7/site-packages/nengo_spa/vocabulary.py:173: UserWarning: Could not create a semantic pointer with max_similarity=0.10 (D=64, M=19, similarity=0.12)\n",
      "  len(self._key2idx), best_sim))\n",
      "/home/ubuntu/anaconda3/envs/CTN/lib/python3.7/site-packages/nengo_spa/vocabulary.py:173: UserWarning: Could not create a semantic pointer with max_similarity=0.10 (D=64, M=21, similarity=0.11)\n",
      "  len(self._key2idx), best_sim))\n"
     ]
    },
    {
     "data": {
      "text/html": [
       "\n",
       "                <div id=\"258015dc-cd67-43b3-9565-af01dc77c15c\" style=\"\n",
       "                    width: 100%;\n",
       "                    border: 1px solid #cfcfcf;\n",
       "                    border-radius: 4px;\n",
       "                    text-align: center;\n",
       "                    position: relative;\">\n",
       "                  <div class=\"pb-text\" style=\"\n",
       "                      position: absolute;\n",
       "                      width: 100%;\">\n",
       "                    0%\n",
       "                  </div>\n",
       "                  <div class=\"pb-fill\" style=\"\n",
       "                      background-color: #bdd2e6;\n",
       "                      width: 0%;\">\n",
       "                    <style type=\"text/css\" scoped=\"scoped\">\n",
       "                        @keyframes pb-fill-anim {\n",
       "                            0% { background-position: 0 0; }\n",
       "                            100% { background-position: 100px 0; }\n",
       "                        }\n",
       "                    </style>\n",
       "                    &nbsp;\n",
       "                  </div>\n",
       "                </div>"
      ],
      "text/plain": [
       "HtmlProgressBar cannot be displayed. Please use the TerminalProgressBar. It can be enabled with `nengo.rc.set('progress', 'progress_bar', 'nengo.utils.progress.TerminalProgressBar')`."
      ]
     },
     "metadata": {},
     "output_type": "display_data"
    },
    {
     "data": {
      "application/javascript": [
       "\n",
       "              (function () {\n",
       "                  var root = document.getElementById('258015dc-cd67-43b3-9565-af01dc77c15c');\n",
       "                  var text = root.getElementsByClassName('pb-text')[0];\n",
       "                  var fill = root.getElementsByClassName('pb-fill')[0];\n",
       "\n",
       "                  text.innerHTML = 'Simulation finished in 0:01:45.';\n",
       "                  \n",
       "            if (100.0 > 0.) {\n",
       "                fill.style.transition = 'width 0.1s linear';\n",
       "            } else {\n",
       "                fill.style.transition = 'none';\n",
       "            }\n",
       "\n",
       "            fill.style.width = '100.0%';\n",
       "            fill.style.animation = 'none';\n",
       "            fill.style.backgroundImage = 'none'\n",
       "        \n",
       "                  \n",
       "                fill.style.animation = 'none';\n",
       "                fill.style.backgroundImage = 'none';\n",
       "            \n",
       "              })();\n",
       "        "
      ],
      "text/plain": [
       "<IPython.core.display.Javascript object>"
      ]
     },
     "metadata": {},
     "output_type": "display_data"
    },
    {
     "name": "stdout",
     "output_type": "stream",
     "text": [
      "seed = 1\n",
      "backend = 'nengo_ocl'\n",
      "dt = 0.001\n",
      "neuron_type = 'default'\n",
      "n_neurons_scale = 1\n",
      "s_crosstalk = 0\n",
      "s_evidence = None\n",
      "t_senso = 0\n",
      "vocab = <nengo_spa.vocabulary.Vocabulary object at 0x7fe8c176b610>\n",
      "xp = <experiments.Xp1 object at 0x7fe8c176bf10>\n",
      "proc_feedback = 0.9\n",
      "proc_feedback_synapse = 0.005\n",
      "GW_feedback = 1\n",
      "GW_threshold = 0.5\n",
      "GW_scale = 2\n",
      "BG_thr = 0.1\n",
      "BG_bias = 0.5\n",
      "integrator_reset = True\n",
      "data = <data.Data object at 0x7fe8ccffbb90>\n",
      "\t seed 2/20\n",
      "running run_seed2_dim64\n"
     ]
    },
    {
     "name": "stderr",
     "output_type": "stream",
     "text": [
      "/home/ubuntu/anaconda3/envs/CTN/lib/python3.7/site-packages/nengo_spa/vocabulary.py:173: UserWarning: Could not create a semantic pointer with max_similarity=0.10 (D=64, M=19, similarity=0.11)\n",
      "  len(self._key2idx), best_sim))\n",
      "/home/ubuntu/anaconda3/envs/CTN/lib/python3.7/site-packages/nengo_spa/vocabulary.py:173: UserWarning: Could not create a semantic pointer with max_similarity=0.10 (D=64, M=20, similarity=0.12)\n",
      "  len(self._key2idx), best_sim))\n",
      "/home/ubuntu/anaconda3/envs/CTN/lib/python3.7/site-packages/nengo_spa/vocabulary.py:173: UserWarning: Could not create a semantic pointer with max_similarity=0.10 (D=64, M=21, similarity=0.12)\n",
      "  len(self._key2idx), best_sim))\n"
     ]
    },
    {
     "data": {
      "text/html": [
       "\n",
       "                <div id=\"d324ee5f-fbc0-46c9-9d4f-54919a509ed7\" style=\"\n",
       "                    width: 100%;\n",
       "                    border: 1px solid #cfcfcf;\n",
       "                    border-radius: 4px;\n",
       "                    text-align: center;\n",
       "                    position: relative;\">\n",
       "                  <div class=\"pb-text\" style=\"\n",
       "                      position: absolute;\n",
       "                      width: 100%;\">\n",
       "                    0%\n",
       "                  </div>\n",
       "                  <div class=\"pb-fill\" style=\"\n",
       "                      background-color: #bdd2e6;\n",
       "                      width: 0%;\">\n",
       "                    <style type=\"text/css\" scoped=\"scoped\">\n",
       "                        @keyframes pb-fill-anim {\n",
       "                            0% { background-position: 0 0; }\n",
       "                            100% { background-position: 100px 0; }\n",
       "                        }\n",
       "                    </style>\n",
       "                    &nbsp;\n",
       "                  </div>\n",
       "                </div>"
      ],
      "text/plain": [
       "HtmlProgressBar cannot be displayed. Please use the TerminalProgressBar. It can be enabled with `nengo.rc.set('progress', 'progress_bar', 'nengo.utils.progress.TerminalProgressBar')`."
      ]
     },
     "metadata": {},
     "output_type": "display_data"
    },
    {
     "data": {
      "application/javascript": [
       "\n",
       "              (function () {\n",
       "                  var root = document.getElementById('d324ee5f-fbc0-46c9-9d4f-54919a509ed7');\n",
       "                  var text = root.getElementsByClassName('pb-text')[0];\n",
       "                  var fill = root.getElementsByClassName('pb-fill')[0];\n",
       "\n",
       "                  text.innerHTML = 'Simulation finished in 0:01:45.';\n",
       "                  \n",
       "            if (100.0 > 0.) {\n",
       "                fill.style.transition = 'width 0.1s linear';\n",
       "            } else {\n",
       "                fill.style.transition = 'none';\n",
       "            }\n",
       "\n",
       "            fill.style.width = '100.0%';\n",
       "            fill.style.animation = 'none';\n",
       "            fill.style.backgroundImage = 'none'\n",
       "        \n",
       "                  \n",
       "                fill.style.animation = 'none';\n",
       "                fill.style.backgroundImage = 'none';\n",
       "            \n",
       "              })();\n",
       "        "
      ],
      "text/plain": [
       "<IPython.core.display.Javascript object>"
      ]
     },
     "metadata": {},
     "output_type": "display_data"
    },
    {
     "name": "stdout",
     "output_type": "stream",
     "text": [
      "seed = 2\n",
      "backend = 'nengo_ocl'\n",
      "dt = 0.001\n",
      "neuron_type = 'default'\n",
      "n_neurons_scale = 1\n",
      "s_crosstalk = 0\n",
      "s_evidence = None\n",
      "t_senso = 0\n",
      "vocab = <nengo_spa.vocabulary.Vocabulary object at 0x7fe8cd009710>\n",
      "xp = <experiments.Xp1 object at 0x7fe8a7391250>\n",
      "proc_feedback = 0.9\n",
      "proc_feedback_synapse = 0.005\n",
      "GW_feedback = 1\n",
      "GW_threshold = 0.5\n",
      "GW_scale = 2\n",
      "BG_thr = 0.1\n",
      "BG_bias = 0.5\n",
      "integrator_reset = True\n",
      "data = <data.Data object at 0x7fe8a40493d0>\n",
      "\t seed 3/20\n",
      "running run_seed3_dim64\n"
     ]
    },
    {
     "name": "stderr",
     "output_type": "stream",
     "text": [
      "/home/ubuntu/anaconda3/envs/CTN/lib/python3.7/site-packages/nengo_spa/vocabulary.py:173: UserWarning: Could not create a semantic pointer with max_similarity=0.10 (D=64, M=19, similarity=0.14)\n",
      "  len(self._key2idx), best_sim))\n",
      "/home/ubuntu/anaconda3/envs/CTN/lib/python3.7/site-packages/nengo_spa/vocabulary.py:173: UserWarning: Could not create a semantic pointer with max_similarity=0.10 (D=64, M=20, similarity=0.11)\n",
      "  len(self._key2idx), best_sim))\n"
     ]
    },
    {
     "data": {
      "text/html": [
       "\n",
       "                <div id=\"44f72ebe-ed21-4c5d-bb2f-e526982bab48\" style=\"\n",
       "                    width: 100%;\n",
       "                    border: 1px solid #cfcfcf;\n",
       "                    border-radius: 4px;\n",
       "                    text-align: center;\n",
       "                    position: relative;\">\n",
       "                  <div class=\"pb-text\" style=\"\n",
       "                      position: absolute;\n",
       "                      width: 100%;\">\n",
       "                    0%\n",
       "                  </div>\n",
       "                  <div class=\"pb-fill\" style=\"\n",
       "                      background-color: #bdd2e6;\n",
       "                      width: 0%;\">\n",
       "                    <style type=\"text/css\" scoped=\"scoped\">\n",
       "                        @keyframes pb-fill-anim {\n",
       "                            0% { background-position: 0 0; }\n",
       "                            100% { background-position: 100px 0; }\n",
       "                        }\n",
       "                    </style>\n",
       "                    &nbsp;\n",
       "                  </div>\n",
       "                </div>"
      ],
      "text/plain": [
       "HtmlProgressBar cannot be displayed. Please use the TerminalProgressBar. It can be enabled with `nengo.rc.set('progress', 'progress_bar', 'nengo.utils.progress.TerminalProgressBar')`."
      ]
     },
     "metadata": {},
     "output_type": "display_data"
    },
    {
     "data": {
      "application/javascript": [
       "\n",
       "              (function () {\n",
       "                  var root = document.getElementById('44f72ebe-ed21-4c5d-bb2f-e526982bab48');\n",
       "                  var text = root.getElementsByClassName('pb-text')[0];\n",
       "                  var fill = root.getElementsByClassName('pb-fill')[0];\n",
       "\n",
       "                  text.innerHTML = 'Simulation finished in 0:01:49.';\n",
       "                  \n",
       "            if (100.0 > 0.) {\n",
       "                fill.style.transition = 'width 0.1s linear';\n",
       "            } else {\n",
       "                fill.style.transition = 'none';\n",
       "            }\n",
       "\n",
       "            fill.style.width = '100.0%';\n",
       "            fill.style.animation = 'none';\n",
       "            fill.style.backgroundImage = 'none'\n",
       "        \n",
       "                  \n",
       "                fill.style.animation = 'none';\n",
       "                fill.style.backgroundImage = 'none';\n",
       "            \n",
       "              })();\n",
       "        "
      ],
      "text/plain": [
       "<IPython.core.display.Javascript object>"
      ]
     },
     "metadata": {},
     "output_type": "display_data"
    },
    {
     "name": "stdout",
     "output_type": "stream",
     "text": [
      "seed = 3\n",
      "backend = 'nengo_ocl'\n",
      "dt = 0.001\n",
      "neuron_type = 'default'\n",
      "n_neurons_scale = 1\n",
      "s_crosstalk = 0\n",
      "s_evidence = None\n",
      "t_senso = 0\n",
      "vocab = <nengo_spa.vocabulary.Vocabulary object at 0x7fe8aeb38f10>\n",
      "xp = <experiments.Xp1 object at 0x7fe8aeb380d0>\n",
      "proc_feedback = 0.9\n",
      "proc_feedback_synapse = 0.005\n",
      "GW_feedback = 1\n",
      "GW_threshold = 0.5\n",
      "GW_scale = 2\n",
      "BG_thr = 0.1\n",
      "BG_bias = 0.5\n",
      "integrator_reset = True\n",
      "data = <data.Data object at 0x7fe8e1854590>\n",
      "\t seed 4/20\n",
      "running run_seed4_dim64\n"
     ]
    },
    {
     "name": "stderr",
     "output_type": "stream",
     "text": [
      "/home/ubuntu/anaconda3/envs/CTN/lib/python3.7/site-packages/nengo_spa/vocabulary.py:173: UserWarning: Could not create a semantic pointer with max_similarity=0.10 (D=64, M=16, similarity=0.11)\n",
      "  len(self._key2idx), best_sim))\n",
      "/home/ubuntu/anaconda3/envs/CTN/lib/python3.7/site-packages/nengo_spa/vocabulary.py:173: UserWarning: Could not create a semantic pointer with max_similarity=0.10 (D=64, M=17, similarity=0.11)\n",
      "  len(self._key2idx), best_sim))\n",
      "/home/ubuntu/anaconda3/envs/CTN/lib/python3.7/site-packages/nengo_spa/vocabulary.py:173: UserWarning: Could not create a semantic pointer with max_similarity=0.10 (D=64, M=19, similarity=0.13)\n",
      "  len(self._key2idx), best_sim))\n"
     ]
    },
    {
     "data": {
      "text/html": [
       "\n",
       "                <div id=\"d78ecd59-3840-4029-8c4a-15a5c429a022\" style=\"\n",
       "                    width: 100%;\n",
       "                    border: 1px solid #cfcfcf;\n",
       "                    border-radius: 4px;\n",
       "                    text-align: center;\n",
       "                    position: relative;\">\n",
       "                  <div class=\"pb-text\" style=\"\n",
       "                      position: absolute;\n",
       "                      width: 100%;\">\n",
       "                    0%\n",
       "                  </div>\n",
       "                  <div class=\"pb-fill\" style=\"\n",
       "                      background-color: #bdd2e6;\n",
       "                      width: 0%;\">\n",
       "                    <style type=\"text/css\" scoped=\"scoped\">\n",
       "                        @keyframes pb-fill-anim {\n",
       "                            0% { background-position: 0 0; }\n",
       "                            100% { background-position: 100px 0; }\n",
       "                        }\n",
       "                    </style>\n",
       "                    &nbsp;\n",
       "                  </div>\n",
       "                </div>"
      ],
      "text/plain": [
       "HtmlProgressBar cannot be displayed. Please use the TerminalProgressBar. It can be enabled with `nengo.rc.set('progress', 'progress_bar', 'nengo.utils.progress.TerminalProgressBar')`."
      ]
     },
     "metadata": {},
     "output_type": "display_data"
    },
    {
     "data": {
      "application/javascript": [
       "\n",
       "              (function () {\n",
       "                  var root = document.getElementById('d78ecd59-3840-4029-8c4a-15a5c429a022');\n",
       "                  var text = root.getElementsByClassName('pb-text')[0];\n",
       "                  var fill = root.getElementsByClassName('pb-fill')[0];\n",
       "\n",
       "                  text.innerHTML = 'Simulation finished in 0:01:51.';\n",
       "                  \n",
       "            if (100.0 > 0.) {\n",
       "                fill.style.transition = 'width 0.1s linear';\n",
       "            } else {\n",
       "                fill.style.transition = 'none';\n",
       "            }\n",
       "\n",
       "            fill.style.width = '100.0%';\n",
       "            fill.style.animation = 'none';\n",
       "            fill.style.backgroundImage = 'none'\n",
       "        \n",
       "                  \n",
       "                fill.style.animation = 'none';\n",
       "                fill.style.backgroundImage = 'none';\n",
       "            \n",
       "              })();\n",
       "        "
      ],
      "text/plain": [
       "<IPython.core.display.Javascript object>"
      ]
     },
     "metadata": {},
     "output_type": "display_data"
    },
    {
     "name": "stdout",
     "output_type": "stream",
     "text": [
      "seed = 4\n",
      "backend = 'nengo_ocl'\n",
      "dt = 0.001\n",
      "neuron_type = 'default'\n",
      "n_neurons_scale = 1\n",
      "s_crosstalk = 0\n",
      "s_evidence = None\n",
      "t_senso = 0\n",
      "vocab = <nengo_spa.vocabulary.Vocabulary object at 0x7fe8a6377f10>\n",
      "xp = <experiments.Xp1 object at 0x7fe8aeb38110>\n",
      "proc_feedback = 0.9\n",
      "proc_feedback_synapse = 0.005\n",
      "GW_feedback = 1\n",
      "GW_threshold = 0.5\n",
      "GW_scale = 2\n",
      "BG_thr = 0.1\n",
      "BG_bias = 0.5\n",
      "integrator_reset = True\n",
      "data = <data.Data object at 0x7fe8c1762190>\n",
      "\t seed 5/20\n",
      "running run_seed5_dim64\n"
     ]
    },
    {
     "name": "stderr",
     "output_type": "stream",
     "text": [
      "/home/ubuntu/anaconda3/envs/CTN/lib/python3.7/site-packages/nengo_spa/vocabulary.py:173: UserWarning: Could not create a semantic pointer with max_similarity=0.10 (D=64, M=19, similarity=0.10)\n",
      "  len(self._key2idx), best_sim))\n"
     ]
    },
    {
     "data": {
      "text/html": [
       "\n",
       "                <div id=\"3ceb2a52-8aa5-4475-b34d-388f472e376b\" style=\"\n",
       "                    width: 100%;\n",
       "                    border: 1px solid #cfcfcf;\n",
       "                    border-radius: 4px;\n",
       "                    text-align: center;\n",
       "                    position: relative;\">\n",
       "                  <div class=\"pb-text\" style=\"\n",
       "                      position: absolute;\n",
       "                      width: 100%;\">\n",
       "                    0%\n",
       "                  </div>\n",
       "                  <div class=\"pb-fill\" style=\"\n",
       "                      background-color: #bdd2e6;\n",
       "                      width: 0%;\">\n",
       "                    <style type=\"text/css\" scoped=\"scoped\">\n",
       "                        @keyframes pb-fill-anim {\n",
       "                            0% { background-position: 0 0; }\n",
       "                            100% { background-position: 100px 0; }\n",
       "                        }\n",
       "                    </style>\n",
       "                    &nbsp;\n",
       "                  </div>\n",
       "                </div>"
      ],
      "text/plain": [
       "HtmlProgressBar cannot be displayed. Please use the TerminalProgressBar. It can be enabled with `nengo.rc.set('progress', 'progress_bar', 'nengo.utils.progress.TerminalProgressBar')`."
      ]
     },
     "metadata": {},
     "output_type": "display_data"
    },
    {
     "data": {
      "application/javascript": [
       "\n",
       "              (function () {\n",
       "                  var root = document.getElementById('3ceb2a52-8aa5-4475-b34d-388f472e376b');\n",
       "                  var text = root.getElementsByClassName('pb-text')[0];\n",
       "                  var fill = root.getElementsByClassName('pb-fill')[0];\n",
       "\n",
       "                  text.innerHTML = 'Simulation finished in 0:01:53.';\n",
       "                  \n",
       "            if (100.0 > 0.) {\n",
       "                fill.style.transition = 'width 0.1s linear';\n",
       "            } else {\n",
       "                fill.style.transition = 'none';\n",
       "            }\n",
       "\n",
       "            fill.style.width = '100.0%';\n",
       "            fill.style.animation = 'none';\n",
       "            fill.style.backgroundImage = 'none'\n",
       "        \n",
       "                  \n",
       "                fill.style.animation = 'none';\n",
       "                fill.style.backgroundImage = 'none';\n",
       "            \n",
       "              })();\n",
       "        "
      ],
      "text/plain": [
       "<IPython.core.display.Javascript object>"
      ]
     },
     "metadata": {},
     "output_type": "display_data"
    },
    {
     "name": "stdout",
     "output_type": "stream",
     "text": [
      "seed = 5\n",
      "backend = 'nengo_ocl'\n",
      "dt = 0.001\n",
      "neuron_type = 'default'\n",
      "n_neurons_scale = 1\n",
      "s_crosstalk = 0\n",
      "s_evidence = None\n",
      "t_senso = 0\n",
      "vocab = <nengo_spa.vocabulary.Vocabulary object at 0x7fe8e133a350>\n",
      "xp = <experiments.Xp1 object at 0x7fe8e127d5d0>\n",
      "proc_feedback = 0.9\n",
      "proc_feedback_synapse = 0.005\n",
      "GW_feedback = 1\n",
      "GW_threshold = 0.5\n",
      "GW_scale = 2\n",
      "BG_thr = 0.1\n",
      "BG_bias = 0.5\n",
      "integrator_reset = True\n",
      "data = <data.Data object at 0x7fe8a60cfc50>\n",
      "\t seed 6/20\n",
      "running run_seed6_dim64\n"
     ]
    },
    {
     "name": "stderr",
     "output_type": "stream",
     "text": [
      "/home/ubuntu/anaconda3/envs/CTN/lib/python3.7/site-packages/nengo_spa/vocabulary.py:173: UserWarning: Could not create a semantic pointer with max_similarity=0.10 (D=64, M=16, similarity=0.12)\n",
      "  len(self._key2idx), best_sim))\n"
     ]
    },
    {
     "data": {
      "text/html": [
       "\n",
       "                <div id=\"34f016cc-881b-472a-9b2c-cda624c0c4a1\" style=\"\n",
       "                    width: 100%;\n",
       "                    border: 1px solid #cfcfcf;\n",
       "                    border-radius: 4px;\n",
       "                    text-align: center;\n",
       "                    position: relative;\">\n",
       "                  <div class=\"pb-text\" style=\"\n",
       "                      position: absolute;\n",
       "                      width: 100%;\">\n",
       "                    0%\n",
       "                  </div>\n",
       "                  <div class=\"pb-fill\" style=\"\n",
       "                      background-color: #bdd2e6;\n",
       "                      width: 0%;\">\n",
       "                    <style type=\"text/css\" scoped=\"scoped\">\n",
       "                        @keyframes pb-fill-anim {\n",
       "                            0% { background-position: 0 0; }\n",
       "                            100% { background-position: 100px 0; }\n",
       "                        }\n",
       "                    </style>\n",
       "                    &nbsp;\n",
       "                  </div>\n",
       "                </div>"
      ],
      "text/plain": [
       "HtmlProgressBar cannot be displayed. Please use the TerminalProgressBar. It can be enabled with `nengo.rc.set('progress', 'progress_bar', 'nengo.utils.progress.TerminalProgressBar')`."
      ]
     },
     "metadata": {},
     "output_type": "display_data"
    },
    {
     "data": {
      "application/javascript": [
       "\n",
       "              (function () {\n",
       "                  var root = document.getElementById('34f016cc-881b-472a-9b2c-cda624c0c4a1');\n",
       "                  var text = root.getElementsByClassName('pb-text')[0];\n",
       "                  var fill = root.getElementsByClassName('pb-fill')[0];\n",
       "\n",
       "                  text.innerHTML = 'Simulation finished in 0:01:51.';\n",
       "                  \n",
       "            if (100.0 > 0.) {\n",
       "                fill.style.transition = 'width 0.1s linear';\n",
       "            } else {\n",
       "                fill.style.transition = 'none';\n",
       "            }\n",
       "\n",
       "            fill.style.width = '100.0%';\n",
       "            fill.style.animation = 'none';\n",
       "            fill.style.backgroundImage = 'none'\n",
       "        \n",
       "                  \n",
       "                fill.style.animation = 'none';\n",
       "                fill.style.backgroundImage = 'none';\n",
       "            \n",
       "              })();\n",
       "        "
      ],
      "text/plain": [
       "<IPython.core.display.Javascript object>"
      ]
     },
     "metadata": {},
     "output_type": "display_data"
    },
    {
     "name": "stdout",
     "output_type": "stream",
     "text": [
      "seed = 6\n",
      "backend = 'nengo_ocl'\n",
      "dt = 0.001\n",
      "neuron_type = 'default'\n",
      "n_neurons_scale = 1\n",
      "s_crosstalk = 0\n",
      "s_evidence = None\n",
      "t_senso = 0\n",
      "vocab = <nengo_spa.vocabulary.Vocabulary object at 0x7fe8a74061d0>\n",
      "xp = <experiments.Xp1 object at 0x7fe8c1762510>\n",
      "proc_feedback = 0.9\n",
      "proc_feedback_synapse = 0.005\n",
      "GW_feedback = 1\n",
      "GW_threshold = 0.5\n",
      "GW_scale = 2\n",
      "BG_thr = 0.1\n",
      "BG_bias = 0.5\n",
      "integrator_reset = True\n",
      "data = <data.Data object at 0x7fe889573e10>\n",
      "\t seed 7/20\n",
      "running run_seed7_dim64\n"
     ]
    },
    {
     "name": "stderr",
     "output_type": "stream",
     "text": [
      "/home/ubuntu/anaconda3/envs/CTN/lib/python3.7/site-packages/nengo_spa/vocabulary.py:173: UserWarning: Could not create a semantic pointer with max_similarity=0.10 (D=64, M=18, similarity=0.11)\n",
      "  len(self._key2idx), best_sim))\n",
      "/home/ubuntu/anaconda3/envs/CTN/lib/python3.7/site-packages/nengo_spa/vocabulary.py:173: UserWarning: Could not create a semantic pointer with max_similarity=0.10 (D=64, M=21, similarity=0.13)\n",
      "  len(self._key2idx), best_sim))\n"
     ]
    },
    {
     "data": {
      "text/html": [
       "\n",
       "                <div id=\"65f83d33-0826-4463-b929-480796dd3950\" style=\"\n",
       "                    width: 100%;\n",
       "                    border: 1px solid #cfcfcf;\n",
       "                    border-radius: 4px;\n",
       "                    text-align: center;\n",
       "                    position: relative;\">\n",
       "                  <div class=\"pb-text\" style=\"\n",
       "                      position: absolute;\n",
       "                      width: 100%;\">\n",
       "                    0%\n",
       "                  </div>\n",
       "                  <div class=\"pb-fill\" style=\"\n",
       "                      background-color: #bdd2e6;\n",
       "                      width: 0%;\">\n",
       "                    <style type=\"text/css\" scoped=\"scoped\">\n",
       "                        @keyframes pb-fill-anim {\n",
       "                            0% { background-position: 0 0; }\n",
       "                            100% { background-position: 100px 0; }\n",
       "                        }\n",
       "                    </style>\n",
       "                    &nbsp;\n",
       "                  </div>\n",
       "                </div>"
      ],
      "text/plain": [
       "HtmlProgressBar cannot be displayed. Please use the TerminalProgressBar. It can be enabled with `nengo.rc.set('progress', 'progress_bar', 'nengo.utils.progress.TerminalProgressBar')`."
      ]
     },
     "metadata": {},
     "output_type": "display_data"
    },
    {
     "data": {
      "application/javascript": [
       "\n",
       "              (function () {\n",
       "                  var root = document.getElementById('65f83d33-0826-4463-b929-480796dd3950');\n",
       "                  var text = root.getElementsByClassName('pb-text')[0];\n",
       "                  var fill = root.getElementsByClassName('pb-fill')[0];\n",
       "\n",
       "                  text.innerHTML = 'Simulation finished in 0:01:46.';\n",
       "                  \n",
       "            if (100.0 > 0.) {\n",
       "                fill.style.transition = 'width 0.1s linear';\n",
       "            } else {\n",
       "                fill.style.transition = 'none';\n",
       "            }\n",
       "\n",
       "            fill.style.width = '100.0%';\n",
       "            fill.style.animation = 'none';\n",
       "            fill.style.backgroundImage = 'none'\n",
       "        \n",
       "                  \n",
       "                fill.style.animation = 'none';\n",
       "                fill.style.backgroundImage = 'none';\n",
       "            \n",
       "              })();\n",
       "        "
      ],
      "text/plain": [
       "<IPython.core.display.Javascript object>"
      ]
     },
     "metadata": {},
     "output_type": "display_data"
    },
    {
     "name": "stdout",
     "output_type": "stream",
     "text": [
      "seed = 7\n",
      "backend = 'nengo_ocl'\n",
      "dt = 0.001\n",
      "neuron_type = 'default'\n",
      "n_neurons_scale = 1\n",
      "s_crosstalk = 0\n",
      "s_evidence = None\n",
      "t_senso = 0\n",
      "vocab = <nengo_spa.vocabulary.Vocabulary object at 0x7fe8a68256d0>\n",
      "xp = <experiments.Xp1 object at 0x7fe8a7425d90>\n",
      "proc_feedback = 0.9\n",
      "proc_feedback_synapse = 0.005\n",
      "GW_feedback = 1\n",
      "GW_threshold = 0.5\n",
      "GW_scale = 2\n",
      "BG_thr = 0.1\n",
      "BG_bias = 0.5\n",
      "integrator_reset = True\n",
      "data = <data.Data object at 0x7fe8c19c6210>\n",
      "\t seed 8/20\n",
      "running run_seed8_dim64\n"
     ]
    },
    {
     "name": "stderr",
     "output_type": "stream",
     "text": [
      "/home/ubuntu/anaconda3/envs/CTN/lib/python3.7/site-packages/nengo_spa/vocabulary.py:173: UserWarning: Could not create a semantic pointer with max_similarity=0.10 (D=64, M=17, similarity=0.14)\n",
      "  len(self._key2idx), best_sim))\n"
     ]
    },
    {
     "data": {
      "text/html": [
       "\n",
       "                <div id=\"5ab4ad7a-c22d-46e6-a0d1-4449a4b8441f\" style=\"\n",
       "                    width: 100%;\n",
       "                    border: 1px solid #cfcfcf;\n",
       "                    border-radius: 4px;\n",
       "                    text-align: center;\n",
       "                    position: relative;\">\n",
       "                  <div class=\"pb-text\" style=\"\n",
       "                      position: absolute;\n",
       "                      width: 100%;\">\n",
       "                    0%\n",
       "                  </div>\n",
       "                  <div class=\"pb-fill\" style=\"\n",
       "                      background-color: #bdd2e6;\n",
       "                      width: 0%;\">\n",
       "                    <style type=\"text/css\" scoped=\"scoped\">\n",
       "                        @keyframes pb-fill-anim {\n",
       "                            0% { background-position: 0 0; }\n",
       "                            100% { background-position: 100px 0; }\n",
       "                        }\n",
       "                    </style>\n",
       "                    &nbsp;\n",
       "                  </div>\n",
       "                </div>"
      ],
      "text/plain": [
       "HtmlProgressBar cannot be displayed. Please use the TerminalProgressBar. It can be enabled with `nengo.rc.set('progress', 'progress_bar', 'nengo.utils.progress.TerminalProgressBar')`."
      ]
     },
     "metadata": {},
     "output_type": "display_data"
    },
    {
     "data": {
      "application/javascript": [
       "\n",
       "              (function () {\n",
       "                  var root = document.getElementById('5ab4ad7a-c22d-46e6-a0d1-4449a4b8441f');\n",
       "                  var text = root.getElementsByClassName('pb-text')[0];\n",
       "                  var fill = root.getElementsByClassName('pb-fill')[0];\n",
       "\n",
       "                  text.innerHTML = 'Simulation finished in 0:01:47.';\n",
       "                  \n",
       "            if (100.0 > 0.) {\n",
       "                fill.style.transition = 'width 0.1s linear';\n",
       "            } else {\n",
       "                fill.style.transition = 'none';\n",
       "            }\n",
       "\n",
       "            fill.style.width = '100.0%';\n",
       "            fill.style.animation = 'none';\n",
       "            fill.style.backgroundImage = 'none'\n",
       "        \n",
       "                  \n",
       "                fill.style.animation = 'none';\n",
       "                fill.style.backgroundImage = 'none';\n",
       "            \n",
       "              })();\n",
       "        "
      ],
      "text/plain": [
       "<IPython.core.display.Javascript object>"
      ]
     },
     "metadata": {},
     "output_type": "display_data"
    },
    {
     "name": "stdout",
     "output_type": "stream",
     "text": [
      "seed = 8\n",
      "backend = 'nengo_ocl'\n",
      "dt = 0.001\n",
      "neuron_type = 'default'\n",
      "n_neurons_scale = 1\n",
      "s_crosstalk = 0\n",
      "s_evidence = None\n",
      "t_senso = 0\n",
      "vocab = <nengo_spa.vocabulary.Vocabulary object at 0x7fe8c175db50>\n",
      "xp = <experiments.Xp1 object at 0x7fe8e17073d0>\n",
      "proc_feedback = 0.9\n",
      "proc_feedback_synapse = 0.005\n",
      "GW_feedback = 1\n",
      "GW_threshold = 0.5\n",
      "GW_scale = 2\n",
      "BG_thr = 0.1\n",
      "BG_bias = 0.5\n",
      "integrator_reset = True\n",
      "data = <data.Data object at 0x7fe8a6c9ca10>\n",
      "\t seed 9/20\n",
      "running run_seed9_dim64\n"
     ]
    },
    {
     "name": "stderr",
     "output_type": "stream",
     "text": [
      "/home/ubuntu/anaconda3/envs/CTN/lib/python3.7/site-packages/nengo_spa/vocabulary.py:173: UserWarning: Could not create a semantic pointer with max_similarity=0.10 (D=64, M=13, similarity=0.10)\n",
      "  len(self._key2idx), best_sim))\n",
      "/home/ubuntu/anaconda3/envs/CTN/lib/python3.7/site-packages/nengo_spa/vocabulary.py:173: UserWarning: Could not create a semantic pointer with max_similarity=0.10 (D=64, M=18, similarity=0.10)\n",
      "  len(self._key2idx), best_sim))\n"
     ]
    },
    {
     "data": {
      "text/html": [
       "\n",
       "                <div id=\"673c5e9f-4225-4c31-a37b-5e848f5846e6\" style=\"\n",
       "                    width: 100%;\n",
       "                    border: 1px solid #cfcfcf;\n",
       "                    border-radius: 4px;\n",
       "                    text-align: center;\n",
       "                    position: relative;\">\n",
       "                  <div class=\"pb-text\" style=\"\n",
       "                      position: absolute;\n",
       "                      width: 100%;\">\n",
       "                    0%\n",
       "                  </div>\n",
       "                  <div class=\"pb-fill\" style=\"\n",
       "                      background-color: #bdd2e6;\n",
       "                      width: 0%;\">\n",
       "                    <style type=\"text/css\" scoped=\"scoped\">\n",
       "                        @keyframes pb-fill-anim {\n",
       "                            0% { background-position: 0 0; }\n",
       "                            100% { background-position: 100px 0; }\n",
       "                        }\n",
       "                    </style>\n",
       "                    &nbsp;\n",
       "                  </div>\n",
       "                </div>"
      ],
      "text/plain": [
       "HtmlProgressBar cannot be displayed. Please use the TerminalProgressBar. It can be enabled with `nengo.rc.set('progress', 'progress_bar', 'nengo.utils.progress.TerminalProgressBar')`."
      ]
     },
     "metadata": {},
     "output_type": "display_data"
    },
    {
     "data": {
      "application/javascript": [
       "\n",
       "              (function () {\n",
       "                  var root = document.getElementById('673c5e9f-4225-4c31-a37b-5e848f5846e6');\n",
       "                  var text = root.getElementsByClassName('pb-text')[0];\n",
       "                  var fill = root.getElementsByClassName('pb-fill')[0];\n",
       "\n",
       "                  text.innerHTML = 'Simulation finished in 0:01:47.';\n",
       "                  \n",
       "            if (100.0 > 0.) {\n",
       "                fill.style.transition = 'width 0.1s linear';\n",
       "            } else {\n",
       "                fill.style.transition = 'none';\n",
       "            }\n",
       "\n",
       "            fill.style.width = '100.0%';\n",
       "            fill.style.animation = 'none';\n",
       "            fill.style.backgroundImage = 'none'\n",
       "        \n",
       "                  \n",
       "                fill.style.animation = 'none';\n",
       "                fill.style.backgroundImage = 'none';\n",
       "            \n",
       "              })();\n",
       "        "
      ],
      "text/plain": [
       "<IPython.core.display.Javascript object>"
      ]
     },
     "metadata": {},
     "output_type": "display_data"
    },
    {
     "name": "stdout",
     "output_type": "stream",
     "text": [
      "seed = 9\n",
      "backend = 'nengo_ocl'\n",
      "dt = 0.001\n",
      "neuron_type = 'default'\n",
      "n_neurons_scale = 1\n",
      "s_crosstalk = 0\n",
      "s_evidence = None\n",
      "t_senso = 0\n",
      "vocab = <nengo_spa.vocabulary.Vocabulary object at 0x7fe8a532cfd0>\n",
      "xp = <experiments.Xp1 object at 0x7fe8e1728410>\n",
      "proc_feedback = 0.9\n",
      "proc_feedback_synapse = 0.005\n",
      "GW_feedback = 1\n",
      "GW_threshold = 0.5\n",
      "GW_scale = 2\n",
      "BG_thr = 0.1\n",
      "BG_bias = 0.5\n",
      "integrator_reset = True\n",
      "data = <data.Data object at 0x7fe8a7406c90>\n",
      "\t seed 10/20\n",
      "running run_seed10_dim64\n"
     ]
    },
    {
     "name": "stderr",
     "output_type": "stream",
     "text": [
      "/home/ubuntu/anaconda3/envs/CTN/lib/python3.7/site-packages/nengo_spa/vocabulary.py:173: UserWarning: Could not create a semantic pointer with max_similarity=0.10 (D=64, M=14, similarity=0.11)\n",
      "  len(self._key2idx), best_sim))\n"
     ]
    },
    {
     "data": {
      "text/html": [
       "\n",
       "                <div id=\"fcc3a54f-4b82-4b5f-8f79-d23787cca64a\" style=\"\n",
       "                    width: 100%;\n",
       "                    border: 1px solid #cfcfcf;\n",
       "                    border-radius: 4px;\n",
       "                    text-align: center;\n",
       "                    position: relative;\">\n",
       "                  <div class=\"pb-text\" style=\"\n",
       "                      position: absolute;\n",
       "                      width: 100%;\">\n",
       "                    0%\n",
       "                  </div>\n",
       "                  <div class=\"pb-fill\" style=\"\n",
       "                      background-color: #bdd2e6;\n",
       "                      width: 0%;\">\n",
       "                    <style type=\"text/css\" scoped=\"scoped\">\n",
       "                        @keyframes pb-fill-anim {\n",
       "                            0% { background-position: 0 0; }\n",
       "                            100% { background-position: 100px 0; }\n",
       "                        }\n",
       "                    </style>\n",
       "                    &nbsp;\n",
       "                  </div>\n",
       "                </div>"
      ],
      "text/plain": [
       "HtmlProgressBar cannot be displayed. Please use the TerminalProgressBar. It can be enabled with `nengo.rc.set('progress', 'progress_bar', 'nengo.utils.progress.TerminalProgressBar')`."
      ]
     },
     "metadata": {},
     "output_type": "display_data"
    },
    {
     "data": {
      "application/javascript": [
       "\n",
       "              (function () {\n",
       "                  var root = document.getElementById('fcc3a54f-4b82-4b5f-8f79-d23787cca64a');\n",
       "                  var text = root.getElementsByClassName('pb-text')[0];\n",
       "                  var fill = root.getElementsByClassName('pb-fill')[0];\n",
       "\n",
       "                  text.innerHTML = 'Simulation finished in 0:01:47.';\n",
       "                  \n",
       "            if (100.0 > 0.) {\n",
       "                fill.style.transition = 'width 0.1s linear';\n",
       "            } else {\n",
       "                fill.style.transition = 'none';\n",
       "            }\n",
       "\n",
       "            fill.style.width = '100.0%';\n",
       "            fill.style.animation = 'none';\n",
       "            fill.style.backgroundImage = 'none'\n",
       "        \n",
       "                  \n",
       "                fill.style.animation = 'none';\n",
       "                fill.style.backgroundImage = 'none';\n",
       "            \n",
       "              })();\n",
       "        "
      ],
      "text/plain": [
       "<IPython.core.display.Javascript object>"
      ]
     },
     "metadata": {},
     "output_type": "display_data"
    },
    {
     "name": "stdout",
     "output_type": "stream",
     "text": [
      "seed = 10\n",
      "backend = 'nengo_ocl'\n",
      "dt = 0.001\n",
      "neuron_type = 'default'\n",
      "n_neurons_scale = 1\n",
      "s_crosstalk = 0\n",
      "s_evidence = None\n",
      "t_senso = 0\n",
      "vocab = <nengo_spa.vocabulary.Vocabulary object at 0x7fe8e1cf8390>\n",
      "xp = <experiments.Xp1 object at 0x7fe8e1cf8b90>\n",
      "proc_feedback = 0.9\n",
      "proc_feedback_synapse = 0.005\n",
      "GW_feedback = 1\n",
      "GW_threshold = 0.5\n",
      "GW_scale = 2\n",
      "BG_thr = 0.1\n",
      "BG_bias = 0.5\n",
      "integrator_reset = True\n",
      "data = <data.Data object at 0x7fe8ac0ff290>\n",
      "\t seed 11/20\n",
      "running run_seed11_dim64\n"
     ]
    },
    {
     "name": "stderr",
     "output_type": "stream",
     "text": [
      "/home/ubuntu/anaconda3/envs/CTN/lib/python3.7/site-packages/nengo_spa/vocabulary.py:173: UserWarning: Could not create a semantic pointer with max_similarity=0.10 (D=64, M=17, similarity=0.12)\n",
      "  len(self._key2idx), best_sim))\n",
      "/home/ubuntu/anaconda3/envs/CTN/lib/python3.7/site-packages/nengo_spa/vocabulary.py:173: UserWarning: Could not create a semantic pointer with max_similarity=0.10 (D=64, M=20, similarity=0.13)\n",
      "  len(self._key2idx), best_sim))\n",
      "/home/ubuntu/anaconda3/envs/CTN/lib/python3.7/site-packages/nengo_spa/vocabulary.py:173: UserWarning: Could not create a semantic pointer with max_similarity=0.10 (D=64, M=21, similarity=0.14)\n",
      "  len(self._key2idx), best_sim))\n"
     ]
    },
    {
     "data": {
      "text/html": [
       "\n",
       "                <div id=\"87fadb10-9a3a-4921-a150-94a27e8acd63\" style=\"\n",
       "                    width: 100%;\n",
       "                    border: 1px solid #cfcfcf;\n",
       "                    border-radius: 4px;\n",
       "                    text-align: center;\n",
       "                    position: relative;\">\n",
       "                  <div class=\"pb-text\" style=\"\n",
       "                      position: absolute;\n",
       "                      width: 100%;\">\n",
       "                    0%\n",
       "                  </div>\n",
       "                  <div class=\"pb-fill\" style=\"\n",
       "                      background-color: #bdd2e6;\n",
       "                      width: 0%;\">\n",
       "                    <style type=\"text/css\" scoped=\"scoped\">\n",
       "                        @keyframes pb-fill-anim {\n",
       "                            0% { background-position: 0 0; }\n",
       "                            100% { background-position: 100px 0; }\n",
       "                        }\n",
       "                    </style>\n",
       "                    &nbsp;\n",
       "                  </div>\n",
       "                </div>"
      ],
      "text/plain": [
       "HtmlProgressBar cannot be displayed. Please use the TerminalProgressBar. It can be enabled with `nengo.rc.set('progress', 'progress_bar', 'nengo.utils.progress.TerminalProgressBar')`."
      ]
     },
     "metadata": {},
     "output_type": "display_data"
    },
    {
     "data": {
      "application/javascript": [
       "\n",
       "              (function () {\n",
       "                  var root = document.getElementById('87fadb10-9a3a-4921-a150-94a27e8acd63');\n",
       "                  var text = root.getElementsByClassName('pb-text')[0];\n",
       "                  var fill = root.getElementsByClassName('pb-fill')[0];\n",
       "\n",
       "                  text.innerHTML = 'Simulation finished in 0:01:59.';\n",
       "                  \n",
       "            if (100.0 > 0.) {\n",
       "                fill.style.transition = 'width 0.1s linear';\n",
       "            } else {\n",
       "                fill.style.transition = 'none';\n",
       "            }\n",
       "\n",
       "            fill.style.width = '100.0%';\n",
       "            fill.style.animation = 'none';\n",
       "            fill.style.backgroundImage = 'none'\n",
       "        \n",
       "                  \n",
       "                fill.style.animation = 'none';\n",
       "                fill.style.backgroundImage = 'none';\n",
       "            \n",
       "              })();\n",
       "        "
      ],
      "text/plain": [
       "<IPython.core.display.Javascript object>"
      ]
     },
     "metadata": {},
     "output_type": "display_data"
    },
    {
     "name": "stdout",
     "output_type": "stream",
     "text": [
      "seed = 11\n",
      "backend = 'nengo_ocl'\n",
      "dt = 0.001\n",
      "neuron_type = 'default'\n",
      "n_neurons_scale = 1\n",
      "s_crosstalk = 0\n",
      "s_evidence = None\n",
      "t_senso = 0\n",
      "vocab = <nengo_spa.vocabulary.Vocabulary object at 0x7fe8a77c3810>\n",
      "xp = <experiments.Xp1 object at 0x7fe8e1cf8190>\n",
      "proc_feedback = 0.9\n",
      "proc_feedback_synapse = 0.005\n",
      "GW_feedback = 1\n",
      "GW_threshold = 0.5\n",
      "GW_scale = 2\n",
      "BG_thr = 0.1\n",
      "BG_bias = 0.5\n",
      "integrator_reset = True\n",
      "data = <data.Data object at 0x7fe8a73231d0>\n",
      "\t seed 12/20\n",
      "running run_seed12_dim64\n"
     ]
    },
    {
     "name": "stderr",
     "output_type": "stream",
     "text": [
      "/home/ubuntu/anaconda3/envs/CTN/lib/python3.7/site-packages/nengo_spa/vocabulary.py:173: UserWarning: Could not create a semantic pointer with max_similarity=0.10 (D=64, M=14, similarity=0.10)\n",
      "  len(self._key2idx), best_sim))\n"
     ]
    },
    {
     "data": {
      "text/html": [
       "\n",
       "                <div id=\"4eb88e4e-db7a-4a32-8f06-5f9131f3ca56\" style=\"\n",
       "                    width: 100%;\n",
       "                    border: 1px solid #cfcfcf;\n",
       "                    border-radius: 4px;\n",
       "                    text-align: center;\n",
       "                    position: relative;\">\n",
       "                  <div class=\"pb-text\" style=\"\n",
       "                      position: absolute;\n",
       "                      width: 100%;\">\n",
       "                    0%\n",
       "                  </div>\n",
       "                  <div class=\"pb-fill\" style=\"\n",
       "                      background-color: #bdd2e6;\n",
       "                      width: 0%;\">\n",
       "                    <style type=\"text/css\" scoped=\"scoped\">\n",
       "                        @keyframes pb-fill-anim {\n",
       "                            0% { background-position: 0 0; }\n",
       "                            100% { background-position: 100px 0; }\n",
       "                        }\n",
       "                    </style>\n",
       "                    &nbsp;\n",
       "                  </div>\n",
       "                </div>"
      ],
      "text/plain": [
       "HtmlProgressBar cannot be displayed. Please use the TerminalProgressBar. It can be enabled with `nengo.rc.set('progress', 'progress_bar', 'nengo.utils.progress.TerminalProgressBar')`."
      ]
     },
     "metadata": {},
     "output_type": "display_data"
    },
    {
     "data": {
      "application/javascript": [
       "\n",
       "              (function () {\n",
       "                  var root = document.getElementById('4eb88e4e-db7a-4a32-8f06-5f9131f3ca56');\n",
       "                  var text = root.getElementsByClassName('pb-text')[0];\n",
       "                  var fill = root.getElementsByClassName('pb-fill')[0];\n",
       "\n",
       "                  text.innerHTML = 'Simulation finished in 0:01:58.';\n",
       "                  \n",
       "            if (100.0 > 0.) {\n",
       "                fill.style.transition = 'width 0.1s linear';\n",
       "            } else {\n",
       "                fill.style.transition = 'none';\n",
       "            }\n",
       "\n",
       "            fill.style.width = '100.0%';\n",
       "            fill.style.animation = 'none';\n",
       "            fill.style.backgroundImage = 'none'\n",
       "        \n",
       "                  \n",
       "                fill.style.animation = 'none';\n",
       "                fill.style.backgroundImage = 'none';\n",
       "            \n",
       "              })();\n",
       "        "
      ],
      "text/plain": [
       "<IPython.core.display.Javascript object>"
      ]
     },
     "metadata": {},
     "output_type": "display_data"
    },
    {
     "name": "stdout",
     "output_type": "stream",
     "text": [
      "seed = 12\n",
      "backend = 'nengo_ocl'\n",
      "dt = 0.001\n",
      "neuron_type = 'default'\n",
      "n_neurons_scale = 1\n",
      "s_crosstalk = 0\n",
      "s_evidence = None\n",
      "t_senso = 0\n",
      "vocab = <nengo_spa.vocabulary.Vocabulary object at 0x7fe8a733c510>\n",
      "xp = <experiments.Xp1 object at 0x7fe8e1cf8350>\n",
      "proc_feedback = 0.9\n",
      "proc_feedback_synapse = 0.005\n",
      "GW_feedback = 1\n",
      "GW_threshold = 0.5\n",
      "GW_scale = 2\n",
      "BG_thr = 0.1\n",
      "BG_bias = 0.5\n",
      "integrator_reset = True\n",
      "data = <data.Data object at 0x7fe8e16f7b10>\n",
      "\t seed 13/20\n",
      "running run_seed13_dim64\n"
     ]
    },
    {
     "name": "stderr",
     "output_type": "stream",
     "text": [
      "/home/ubuntu/anaconda3/envs/CTN/lib/python3.7/site-packages/nengo_spa/vocabulary.py:173: UserWarning: Could not create a semantic pointer with max_similarity=0.10 (D=64, M=21, similarity=0.15)\n",
      "  len(self._key2idx), best_sim))\n"
     ]
    },
    {
     "data": {
      "text/html": [
       "\n",
       "                <div id=\"c2b3e901-d881-4465-9752-7bd6a0fc612b\" style=\"\n",
       "                    width: 100%;\n",
       "                    border: 1px solid #cfcfcf;\n",
       "                    border-radius: 4px;\n",
       "                    text-align: center;\n",
       "                    position: relative;\">\n",
       "                  <div class=\"pb-text\" style=\"\n",
       "                      position: absolute;\n",
       "                      width: 100%;\">\n",
       "                    0%\n",
       "                  </div>\n",
       "                  <div class=\"pb-fill\" style=\"\n",
       "                      background-color: #bdd2e6;\n",
       "                      width: 0%;\">\n",
       "                    <style type=\"text/css\" scoped=\"scoped\">\n",
       "                        @keyframes pb-fill-anim {\n",
       "                            0% { background-position: 0 0; }\n",
       "                            100% { background-position: 100px 0; }\n",
       "                        }\n",
       "                    </style>\n",
       "                    &nbsp;\n",
       "                  </div>\n",
       "                </div>"
      ],
      "text/plain": [
       "HtmlProgressBar cannot be displayed. Please use the TerminalProgressBar. It can be enabled with `nengo.rc.set('progress', 'progress_bar', 'nengo.utils.progress.TerminalProgressBar')`."
      ]
     },
     "metadata": {},
     "output_type": "display_data"
    },
    {
     "data": {
      "application/javascript": [
       "\n",
       "              (function () {\n",
       "                  var root = document.getElementById('c2b3e901-d881-4465-9752-7bd6a0fc612b');\n",
       "                  var text = root.getElementsByClassName('pb-text')[0];\n",
       "                  var fill = root.getElementsByClassName('pb-fill')[0];\n",
       "\n",
       "                  text.innerHTML = 'Simulation finished in 0:01:57.';\n",
       "                  \n",
       "            if (100.0 > 0.) {\n",
       "                fill.style.transition = 'width 0.1s linear';\n",
       "            } else {\n",
       "                fill.style.transition = 'none';\n",
       "            }\n",
       "\n",
       "            fill.style.width = '100.0%';\n",
       "            fill.style.animation = 'none';\n",
       "            fill.style.backgroundImage = 'none'\n",
       "        \n",
       "                  \n",
       "                fill.style.animation = 'none';\n",
       "                fill.style.backgroundImage = 'none';\n",
       "            \n",
       "              })();\n",
       "        "
      ],
      "text/plain": [
       "<IPython.core.display.Javascript object>"
      ]
     },
     "metadata": {},
     "output_type": "display_data"
    },
    {
     "name": "stdout",
     "output_type": "stream",
     "text": [
      "seed = 13\n",
      "backend = 'nengo_ocl'\n",
      "dt = 0.001\n",
      "neuron_type = 'default'\n",
      "n_neurons_scale = 1\n",
      "s_crosstalk = 0\n",
      "s_evidence = None\n",
      "t_senso = 0\n",
      "vocab = <nengo_spa.vocabulary.Vocabulary object at 0x7fe8e16de510>\n",
      "xp = <experiments.Xp1 object at 0x7fe8e1cf8b50>\n",
      "proc_feedback = 0.9\n",
      "proc_feedback_synapse = 0.005\n",
      "GW_feedback = 1\n",
      "GW_threshold = 0.5\n",
      "GW_scale = 2\n",
      "BG_thr = 0.1\n",
      "BG_bias = 0.5\n",
      "integrator_reset = True\n",
      "data = <data.Data object at 0x7fe8a733c190>\n",
      "\t seed 14/20\n",
      "running run_seed14_dim64\n"
     ]
    },
    {
     "name": "stderr",
     "output_type": "stream",
     "text": [
      "/home/ubuntu/anaconda3/envs/CTN/lib/python3.7/site-packages/nengo_spa/vocabulary.py:173: UserWarning: Could not create a semantic pointer with max_similarity=0.10 (D=64, M=16, similarity=0.13)\n",
      "  len(self._key2idx), best_sim))\n"
     ]
    },
    {
     "data": {
      "text/html": [
       "\n",
       "                <div id=\"a85d8d0a-f7dc-4a57-9f49-dfa80407d564\" style=\"\n",
       "                    width: 100%;\n",
       "                    border: 1px solid #cfcfcf;\n",
       "                    border-radius: 4px;\n",
       "                    text-align: center;\n",
       "                    position: relative;\">\n",
       "                  <div class=\"pb-text\" style=\"\n",
       "                      position: absolute;\n",
       "                      width: 100%;\">\n",
       "                    0%\n",
       "                  </div>\n",
       "                  <div class=\"pb-fill\" style=\"\n",
       "                      background-color: #bdd2e6;\n",
       "                      width: 0%;\">\n",
       "                    <style type=\"text/css\" scoped=\"scoped\">\n",
       "                        @keyframes pb-fill-anim {\n",
       "                            0% { background-position: 0 0; }\n",
       "                            100% { background-position: 100px 0; }\n",
       "                        }\n",
       "                    </style>\n",
       "                    &nbsp;\n",
       "                  </div>\n",
       "                </div>"
      ],
      "text/plain": [
       "HtmlProgressBar cannot be displayed. Please use the TerminalProgressBar. It can be enabled with `nengo.rc.set('progress', 'progress_bar', 'nengo.utils.progress.TerminalProgressBar')`."
      ]
     },
     "metadata": {},
     "output_type": "display_data"
    },
    {
     "data": {
      "application/javascript": [
       "\n",
       "              (function () {\n",
       "                  var root = document.getElementById('a85d8d0a-f7dc-4a57-9f49-dfa80407d564');\n",
       "                  var text = root.getElementsByClassName('pb-text')[0];\n",
       "                  var fill = root.getElementsByClassName('pb-fill')[0];\n",
       "\n",
       "                  text.innerHTML = 'Simulation finished in 0:01:53.';\n",
       "                  \n",
       "            if (100.0 > 0.) {\n",
       "                fill.style.transition = 'width 0.1s linear';\n",
       "            } else {\n",
       "                fill.style.transition = 'none';\n",
       "            }\n",
       "\n",
       "            fill.style.width = '100.0%';\n",
       "            fill.style.animation = 'none';\n",
       "            fill.style.backgroundImage = 'none'\n",
       "        \n",
       "                  \n",
       "                fill.style.animation = 'none';\n",
       "                fill.style.backgroundImage = 'none';\n",
       "            \n",
       "              })();\n",
       "        "
      ],
      "text/plain": [
       "<IPython.core.display.Javascript object>"
      ]
     },
     "metadata": {},
     "output_type": "display_data"
    },
    {
     "name": "stdout",
     "output_type": "stream",
     "text": [
      "seed = 14\n",
      "backend = 'nengo_ocl'\n",
      "dt = 0.001\n",
      "neuron_type = 'default'\n",
      "n_neurons_scale = 1\n",
      "s_crosstalk = 0\n",
      "s_evidence = None\n",
      "t_senso = 0\n",
      "vocab = <nengo_spa.vocabulary.Vocabulary object at 0x7fe8cd0214d0>\n",
      "xp = <experiments.Xp1 object at 0x7fe8e1739e10>\n",
      "proc_feedback = 0.9\n",
      "proc_feedback_synapse = 0.005\n",
      "GW_feedback = 1\n",
      "GW_threshold = 0.5\n",
      "GW_scale = 2\n",
      "BG_thr = 0.1\n",
      "BG_bias = 0.5\n",
      "integrator_reset = True\n",
      "data = <data.Data object at 0x7fe8e1832ad0>\n",
      "\t seed 15/20\n",
      "running run_seed15_dim64\n"
     ]
    },
    {
     "name": "stderr",
     "output_type": "stream",
     "text": [
      "/home/ubuntu/anaconda3/envs/CTN/lib/python3.7/site-packages/nengo_spa/vocabulary.py:173: UserWarning: Could not create a semantic pointer with max_similarity=0.10 (D=64, M=15, similarity=0.10)\n",
      "  len(self._key2idx), best_sim))\n",
      "/home/ubuntu/anaconda3/envs/CTN/lib/python3.7/site-packages/nengo_spa/vocabulary.py:173: UserWarning: Could not create a semantic pointer with max_similarity=0.10 (D=64, M=20, similarity=0.14)\n",
      "  len(self._key2idx), best_sim))\n"
     ]
    },
    {
     "data": {
      "text/html": [
       "\n",
       "                <div id=\"e08bc540-a538-476b-a9bc-e80dff37392a\" style=\"\n",
       "                    width: 100%;\n",
       "                    border: 1px solid #cfcfcf;\n",
       "                    border-radius: 4px;\n",
       "                    text-align: center;\n",
       "                    position: relative;\">\n",
       "                  <div class=\"pb-text\" style=\"\n",
       "                      position: absolute;\n",
       "                      width: 100%;\">\n",
       "                    0%\n",
       "                  </div>\n",
       "                  <div class=\"pb-fill\" style=\"\n",
       "                      background-color: #bdd2e6;\n",
       "                      width: 0%;\">\n",
       "                    <style type=\"text/css\" scoped=\"scoped\">\n",
       "                        @keyframes pb-fill-anim {\n",
       "                            0% { background-position: 0 0; }\n",
       "                            100% { background-position: 100px 0; }\n",
       "                        }\n",
       "                    </style>\n",
       "                    &nbsp;\n",
       "                  </div>\n",
       "                </div>"
      ],
      "text/plain": [
       "HtmlProgressBar cannot be displayed. Please use the TerminalProgressBar. It can be enabled with `nengo.rc.set('progress', 'progress_bar', 'nengo.utils.progress.TerminalProgressBar')`."
      ]
     },
     "metadata": {},
     "output_type": "display_data"
    },
    {
     "data": {
      "application/javascript": [
       "\n",
       "              (function () {\n",
       "                  var root = document.getElementById('e08bc540-a538-476b-a9bc-e80dff37392a');\n",
       "                  var text = root.getElementsByClassName('pb-text')[0];\n",
       "                  var fill = root.getElementsByClassName('pb-fill')[0];\n",
       "\n",
       "                  text.innerHTML = 'Simulation finished in 0:01:40.';\n",
       "                  \n",
       "            if (100.0 > 0.) {\n",
       "                fill.style.transition = 'width 0.1s linear';\n",
       "            } else {\n",
       "                fill.style.transition = 'none';\n",
       "            }\n",
       "\n",
       "            fill.style.width = '100.0%';\n",
       "            fill.style.animation = 'none';\n",
       "            fill.style.backgroundImage = 'none'\n",
       "        \n",
       "                  \n",
       "                fill.style.animation = 'none';\n",
       "                fill.style.backgroundImage = 'none';\n",
       "            \n",
       "              })();\n",
       "        "
      ],
      "text/plain": [
       "<IPython.core.display.Javascript object>"
      ]
     },
     "metadata": {},
     "output_type": "display_data"
    },
    {
     "name": "stdout",
     "output_type": "stream",
     "text": [
      "seed = 15\n",
      "backend = 'nengo_ocl'\n",
      "dt = 0.001\n",
      "neuron_type = 'default'\n",
      "n_neurons_scale = 1\n",
      "s_crosstalk = 0\n",
      "s_evidence = None\n",
      "t_senso = 0\n",
      "vocab = <nengo_spa.vocabulary.Vocabulary object at 0x7fe8ad54efd0>\n",
      "xp = <experiments.Xp1 object at 0x7fe8e18327d0>\n",
      "proc_feedback = 0.9\n",
      "proc_feedback_synapse = 0.005\n",
      "GW_feedback = 1\n",
      "GW_threshold = 0.5\n",
      "GW_scale = 2\n",
      "BG_thr = 0.1\n",
      "BG_bias = 0.5\n",
      "integrator_reset = True\n",
      "data = <data.Data object at 0x7fe8e153f3d0>\n",
      "\t seed 16/20\n",
      "running run_seed16_dim64\n"
     ]
    },
    {
     "name": "stderr",
     "output_type": "stream",
     "text": [
      "/home/ubuntu/anaconda3/envs/CTN/lib/python3.7/site-packages/nengo_spa/vocabulary.py:173: UserWarning: Could not create a semantic pointer with max_similarity=0.10 (D=64, M=17, similarity=0.10)\n",
      "  len(self._key2idx), best_sim))\n",
      "/home/ubuntu/anaconda3/envs/CTN/lib/python3.7/site-packages/nengo_spa/vocabulary.py:173: UserWarning: Could not create a semantic pointer with max_similarity=0.10 (D=64, M=18, similarity=0.12)\n",
      "  len(self._key2idx), best_sim))\n"
     ]
    },
    {
     "data": {
      "text/html": [
       "\n",
       "                <div id=\"93b1889c-1fb3-4a11-9d25-43a67ee204ef\" style=\"\n",
       "                    width: 100%;\n",
       "                    border: 1px solid #cfcfcf;\n",
       "                    border-radius: 4px;\n",
       "                    text-align: center;\n",
       "                    position: relative;\">\n",
       "                  <div class=\"pb-text\" style=\"\n",
       "                      position: absolute;\n",
       "                      width: 100%;\">\n",
       "                    0%\n",
       "                  </div>\n",
       "                  <div class=\"pb-fill\" style=\"\n",
       "                      background-color: #bdd2e6;\n",
       "                      width: 0%;\">\n",
       "                    <style type=\"text/css\" scoped=\"scoped\">\n",
       "                        @keyframes pb-fill-anim {\n",
       "                            0% { background-position: 0 0; }\n",
       "                            100% { background-position: 100px 0; }\n",
       "                        }\n",
       "                    </style>\n",
       "                    &nbsp;\n",
       "                  </div>\n",
       "                </div>"
      ],
      "text/plain": [
       "HtmlProgressBar cannot be displayed. Please use the TerminalProgressBar. It can be enabled with `nengo.rc.set('progress', 'progress_bar', 'nengo.utils.progress.TerminalProgressBar')`."
      ]
     },
     "metadata": {},
     "output_type": "display_data"
    },
    {
     "data": {
      "application/javascript": [
       "\n",
       "              (function () {\n",
       "                  var root = document.getElementById('93b1889c-1fb3-4a11-9d25-43a67ee204ef');\n",
       "                  var text = root.getElementsByClassName('pb-text')[0];\n",
       "                  var fill = root.getElementsByClassName('pb-fill')[0];\n",
       "\n",
       "                  text.innerHTML = 'Simulation finished in 0:01:43.';\n",
       "                  \n",
       "            if (100.0 > 0.) {\n",
       "                fill.style.transition = 'width 0.1s linear';\n",
       "            } else {\n",
       "                fill.style.transition = 'none';\n",
       "            }\n",
       "\n",
       "            fill.style.width = '100.0%';\n",
       "            fill.style.animation = 'none';\n",
       "            fill.style.backgroundImage = 'none'\n",
       "        \n",
       "                  \n",
       "                fill.style.animation = 'none';\n",
       "                fill.style.backgroundImage = 'none';\n",
       "            \n",
       "              })();\n",
       "        "
      ],
      "text/plain": [
       "<IPython.core.display.Javascript object>"
      ]
     },
     "metadata": {},
     "output_type": "display_data"
    },
    {
     "name": "stdout",
     "output_type": "stream",
     "text": [
      "seed = 16\n",
      "backend = 'nengo_ocl'\n",
      "dt = 0.001\n",
      "neuron_type = 'default'\n",
      "n_neurons_scale = 1\n",
      "s_crosstalk = 0\n",
      "s_evidence = None\n",
      "t_senso = 0\n",
      "vocab = <nengo_spa.vocabulary.Vocabulary object at 0x7fe889573190>\n",
      "xp = <experiments.Xp1 object at 0x7fe8a73a3ad0>\n",
      "proc_feedback = 0.9\n",
      "proc_feedback_synapse = 0.005\n",
      "GW_feedback = 1\n",
      "GW_threshold = 0.5\n",
      "GW_scale = 2\n",
      "BG_thr = 0.1\n",
      "BG_bias = 0.5\n",
      "integrator_reset = True\n",
      "data = <data.Data object at 0x7fe8cd021a10>\n",
      "\t seed 17/20\n",
      "running run_seed17_dim64\n"
     ]
    },
    {
     "name": "stderr",
     "output_type": "stream",
     "text": [
      "/home/ubuntu/anaconda3/envs/CTN/lib/python3.7/site-packages/nengo_spa/vocabulary.py:173: UserWarning: Could not create a semantic pointer with max_similarity=0.10 (D=64, M=21, similarity=0.10)\n",
      "  len(self._key2idx), best_sim))\n"
     ]
    },
    {
     "data": {
      "text/html": [
       "\n",
       "                <div id=\"e28ed49f-8044-4beb-a16d-01a66773b957\" style=\"\n",
       "                    width: 100%;\n",
       "                    border: 1px solid #cfcfcf;\n",
       "                    border-radius: 4px;\n",
       "                    text-align: center;\n",
       "                    position: relative;\">\n",
       "                  <div class=\"pb-text\" style=\"\n",
       "                      position: absolute;\n",
       "                      width: 100%;\">\n",
       "                    0%\n",
       "                  </div>\n",
       "                  <div class=\"pb-fill\" style=\"\n",
       "                      background-color: #bdd2e6;\n",
       "                      width: 0%;\">\n",
       "                    <style type=\"text/css\" scoped=\"scoped\">\n",
       "                        @keyframes pb-fill-anim {\n",
       "                            0% { background-position: 0 0; }\n",
       "                            100% { background-position: 100px 0; }\n",
       "                        }\n",
       "                    </style>\n",
       "                    &nbsp;\n",
       "                  </div>\n",
       "                </div>"
      ],
      "text/plain": [
       "HtmlProgressBar cannot be displayed. Please use the TerminalProgressBar. It can be enabled with `nengo.rc.set('progress', 'progress_bar', 'nengo.utils.progress.TerminalProgressBar')`."
      ]
     },
     "metadata": {},
     "output_type": "display_data"
    },
    {
     "data": {
      "application/javascript": [
       "\n",
       "              (function () {\n",
       "                  var root = document.getElementById('e28ed49f-8044-4beb-a16d-01a66773b957');\n",
       "                  var text = root.getElementsByClassName('pb-text')[0];\n",
       "                  var fill = root.getElementsByClassName('pb-fill')[0];\n",
       "\n",
       "                  text.innerHTML = 'Simulation finished in 0:01:52.';\n",
       "                  \n",
       "            if (100.0 > 0.) {\n",
       "                fill.style.transition = 'width 0.1s linear';\n",
       "            } else {\n",
       "                fill.style.transition = 'none';\n",
       "            }\n",
       "\n",
       "            fill.style.width = '100.0%';\n",
       "            fill.style.animation = 'none';\n",
       "            fill.style.backgroundImage = 'none'\n",
       "        \n",
       "                  \n",
       "                fill.style.animation = 'none';\n",
       "                fill.style.backgroundImage = 'none';\n",
       "            \n",
       "              })();\n",
       "        "
      ],
      "text/plain": [
       "<IPython.core.display.Javascript object>"
      ]
     },
     "metadata": {},
     "output_type": "display_data"
    },
    {
     "name": "stdout",
     "output_type": "stream",
     "text": [
      "seed = 17\n",
      "backend = 'nengo_ocl'\n",
      "dt = 0.001\n",
      "neuron_type = 'default'\n",
      "n_neurons_scale = 1\n",
      "s_crosstalk = 0\n",
      "s_evidence = None\n",
      "t_senso = 0\n",
      "vocab = <nengo_spa.vocabulary.Vocabulary object at 0x7fe8d8115d90>\n",
      "xp = <experiments.Xp1 object at 0x7fe8d8115cd0>\n",
      "proc_feedback = 0.9\n",
      "proc_feedback_synapse = 0.005\n",
      "GW_feedback = 1\n",
      "GW_threshold = 0.5\n",
      "GW_scale = 2\n",
      "BG_thr = 0.1\n",
      "BG_bias = 0.5\n",
      "integrator_reset = True\n",
      "data = <data.Data object at 0x7fe8c1740a10>\n",
      "\t seed 18/20\n",
      "running run_seed18_dim64\n"
     ]
    },
    {
     "data": {
      "text/html": [
       "\n",
       "                <div id=\"977af8c4-926f-46fc-af96-fdb7e58280c1\" style=\"\n",
       "                    width: 100%;\n",
       "                    border: 1px solid #cfcfcf;\n",
       "                    border-radius: 4px;\n",
       "                    text-align: center;\n",
       "                    position: relative;\">\n",
       "                  <div class=\"pb-text\" style=\"\n",
       "                      position: absolute;\n",
       "                      width: 100%;\">\n",
       "                    0%\n",
       "                  </div>\n",
       "                  <div class=\"pb-fill\" style=\"\n",
       "                      background-color: #bdd2e6;\n",
       "                      width: 0%;\">\n",
       "                    <style type=\"text/css\" scoped=\"scoped\">\n",
       "                        @keyframes pb-fill-anim {\n",
       "                            0% { background-position: 0 0; }\n",
       "                            100% { background-position: 100px 0; }\n",
       "                        }\n",
       "                    </style>\n",
       "                    &nbsp;\n",
       "                  </div>\n",
       "                </div>"
      ],
      "text/plain": [
       "HtmlProgressBar cannot be displayed. Please use the TerminalProgressBar. It can be enabled with `nengo.rc.set('progress', 'progress_bar', 'nengo.utils.progress.TerminalProgressBar')`."
      ]
     },
     "metadata": {},
     "output_type": "display_data"
    },
    {
     "data": {
      "application/javascript": [
       "\n",
       "              (function () {\n",
       "                  var root = document.getElementById('977af8c4-926f-46fc-af96-fdb7e58280c1');\n",
       "                  var text = root.getElementsByClassName('pb-text')[0];\n",
       "                  var fill = root.getElementsByClassName('pb-fill')[0];\n",
       "\n",
       "                  text.innerHTML = 'Simulation finished in 0:01:45.';\n",
       "                  \n",
       "            if (100.0 > 0.) {\n",
       "                fill.style.transition = 'width 0.1s linear';\n",
       "            } else {\n",
       "                fill.style.transition = 'none';\n",
       "            }\n",
       "\n",
       "            fill.style.width = '100.0%';\n",
       "            fill.style.animation = 'none';\n",
       "            fill.style.backgroundImage = 'none'\n",
       "        \n",
       "                  \n",
       "                fill.style.animation = 'none';\n",
       "                fill.style.backgroundImage = 'none';\n",
       "            \n",
       "              })();\n",
       "        "
      ],
      "text/plain": [
       "<IPython.core.display.Javascript object>"
      ]
     },
     "metadata": {},
     "output_type": "display_data"
    },
    {
     "name": "stdout",
     "output_type": "stream",
     "text": [
      "seed = 18\n",
      "backend = 'nengo_ocl'\n",
      "dt = 0.001\n",
      "neuron_type = 'default'\n",
      "n_neurons_scale = 1\n",
      "s_crosstalk = 0\n",
      "s_evidence = None\n",
      "t_senso = 0\n",
      "vocab = <nengo_spa.vocabulary.Vocabulary object at 0x7fe8ae1a2650>\n",
      "xp = <experiments.Xp1 object at 0x7fe8ad03bd90>\n",
      "proc_feedback = 0.9\n",
      "proc_feedback_synapse = 0.005\n",
      "GW_feedback = 1\n",
      "GW_threshold = 0.5\n",
      "GW_scale = 2\n",
      "BG_thr = 0.1\n",
      "BG_bias = 0.5\n",
      "integrator_reset = True\n",
      "data = <data.Data object at 0x7fe8e13144d0>\n",
      "\t seed 19/20\n",
      "running run_seed19_dim64\n"
     ]
    },
    {
     "name": "stderr",
     "output_type": "stream",
     "text": [
      "/home/ubuntu/anaconda3/envs/CTN/lib/python3.7/site-packages/nengo_spa/vocabulary.py:173: UserWarning: Could not create a semantic pointer with max_similarity=0.10 (D=64, M=16, similarity=0.10)\n",
      "  len(self._key2idx), best_sim))\n"
     ]
    },
    {
     "data": {
      "text/html": [
       "\n",
       "                <div id=\"89c59477-e9a2-46fc-bc62-064085823cfd\" style=\"\n",
       "                    width: 100%;\n",
       "                    border: 1px solid #cfcfcf;\n",
       "                    border-radius: 4px;\n",
       "                    text-align: center;\n",
       "                    position: relative;\">\n",
       "                  <div class=\"pb-text\" style=\"\n",
       "                      position: absolute;\n",
       "                      width: 100%;\">\n",
       "                    0%\n",
       "                  </div>\n",
       "                  <div class=\"pb-fill\" style=\"\n",
       "                      background-color: #bdd2e6;\n",
       "                      width: 0%;\">\n",
       "                    <style type=\"text/css\" scoped=\"scoped\">\n",
       "                        @keyframes pb-fill-anim {\n",
       "                            0% { background-position: 0 0; }\n",
       "                            100% { background-position: 100px 0; }\n",
       "                        }\n",
       "                    </style>\n",
       "                    &nbsp;\n",
       "                  </div>\n",
       "                </div>"
      ],
      "text/plain": [
       "HtmlProgressBar cannot be displayed. Please use the TerminalProgressBar. It can be enabled with `nengo.rc.set('progress', 'progress_bar', 'nengo.utils.progress.TerminalProgressBar')`."
      ]
     },
     "metadata": {},
     "output_type": "display_data"
    },
    {
     "data": {
      "application/javascript": [
       "\n",
       "              (function () {\n",
       "                  var root = document.getElementById('89c59477-e9a2-46fc-bc62-064085823cfd');\n",
       "                  var text = root.getElementsByClassName('pb-text')[0];\n",
       "                  var fill = root.getElementsByClassName('pb-fill')[0];\n",
       "\n",
       "                  text.innerHTML = 'Simulation finished in 0:01:47.';\n",
       "                  \n",
       "            if (100.0 > 0.) {\n",
       "                fill.style.transition = 'width 0.1s linear';\n",
       "            } else {\n",
       "                fill.style.transition = 'none';\n",
       "            }\n",
       "\n",
       "            fill.style.width = '100.0%';\n",
       "            fill.style.animation = 'none';\n",
       "            fill.style.backgroundImage = 'none'\n",
       "        \n",
       "                  \n",
       "                fill.style.animation = 'none';\n",
       "                fill.style.backgroundImage = 'none';\n",
       "            \n",
       "              })();\n",
       "        "
      ],
      "text/plain": [
       "<IPython.core.display.Javascript object>"
      ]
     },
     "metadata": {},
     "output_type": "display_data"
    },
    {
     "name": "stdout",
     "output_type": "stream",
     "text": [
      "seed = 19\n",
      "backend = 'nengo_ocl'\n",
      "dt = 0.001\n",
      "neuron_type = 'default'\n",
      "n_neurons_scale = 1\n",
      "s_crosstalk = 0\n",
      "s_evidence = None\n",
      "t_senso = 0\n",
      "vocab = <nengo_spa.vocabulary.Vocabulary object at 0x7fe8e1791490>\n",
      "xp = <experiments.Xp1 object at 0x7fe8ad00fa50>\n",
      "proc_feedback = 0.9\n",
      "proc_feedback_synapse = 0.005\n",
      "GW_feedback = 1\n",
      "GW_threshold = 0.5\n",
      "GW_scale = 2\n",
      "BG_thr = 0.1\n",
      "BG_bias = 0.5\n",
      "integrator_reset = True\n",
      "data = <data.Data object at 0x7fe8ac88ebd0>\n",
      "\t seed 20/20\n",
      "running run_seed20_dim64\n"
     ]
    },
    {
     "data": {
      "text/html": [
       "\n",
       "                <div id=\"965e35c7-e9f3-4516-84f2-2dd171a9ee43\" style=\"\n",
       "                    width: 100%;\n",
       "                    border: 1px solid #cfcfcf;\n",
       "                    border-radius: 4px;\n",
       "                    text-align: center;\n",
       "                    position: relative;\">\n",
       "                  <div class=\"pb-text\" style=\"\n",
       "                      position: absolute;\n",
       "                      width: 100%;\">\n",
       "                    0%\n",
       "                  </div>\n",
       "                  <div class=\"pb-fill\" style=\"\n",
       "                      background-color: #bdd2e6;\n",
       "                      width: 0%;\">\n",
       "                    <style type=\"text/css\" scoped=\"scoped\">\n",
       "                        @keyframes pb-fill-anim {\n",
       "                            0% { background-position: 0 0; }\n",
       "                            100% { background-position: 100px 0; }\n",
       "                        }\n",
       "                    </style>\n",
       "                    &nbsp;\n",
       "                  </div>\n",
       "                </div>"
      ],
      "text/plain": [
       "HtmlProgressBar cannot be displayed. Please use the TerminalProgressBar. It can be enabled with `nengo.rc.set('progress', 'progress_bar', 'nengo.utils.progress.TerminalProgressBar')`."
      ]
     },
     "metadata": {},
     "output_type": "display_data"
    },
    {
     "data": {
      "application/javascript": [
       "\n",
       "              (function () {\n",
       "                  var root = document.getElementById('965e35c7-e9f3-4516-84f2-2dd171a9ee43');\n",
       "                  var text = root.getElementsByClassName('pb-text')[0];\n",
       "                  var fill = root.getElementsByClassName('pb-fill')[0];\n",
       "\n",
       "                  text.innerHTML = 'Simulation finished in 0:01:40.';\n",
       "                  \n",
       "            if (100.0 > 0.) {\n",
       "                fill.style.transition = 'width 0.1s linear';\n",
       "            } else {\n",
       "                fill.style.transition = 'none';\n",
       "            }\n",
       "\n",
       "            fill.style.width = '100.0%';\n",
       "            fill.style.animation = 'none';\n",
       "            fill.style.backgroundImage = 'none'\n",
       "        \n",
       "                  \n",
       "                fill.style.animation = 'none';\n",
       "                fill.style.backgroundImage = 'none';\n",
       "            \n",
       "              })();\n",
       "        "
      ],
      "text/plain": [
       "<IPython.core.display.Javascript object>"
      ]
     },
     "metadata": {},
     "output_type": "display_data"
    },
    {
     "name": "stdout",
     "output_type": "stream",
     "text": [
      "seed = 20\n",
      "backend = 'nengo_ocl'\n",
      "dt = 0.001\n",
      "neuron_type = 'default'\n",
      "n_neurons_scale = 1\n",
      "s_crosstalk = 0\n",
      "s_evidence = None\n",
      "t_senso = 0\n",
      "vocab = <nengo_spa.vocabulary.Vocabulary object at 0x7fe8ae17d410>\n",
      "xp = <experiments.Xp1 object at 0x7fe8ae17de90>\n",
      "proc_feedback = 0.9\n",
      "proc_feedback_synapse = 0.005\n",
      "GW_feedback = 1\n",
      "GW_threshold = 0.5\n",
      "GW_scale = 2\n",
      "BG_thr = 0.1\n",
      "BG_bias = 0.5\n",
      "integrator_reset = True\n",
      "data = <data.Data object at 0x7fe8e14b9650>\n",
      "error rate: 0.24791666666666667\n",
      "params: [5.]\n",
      "Simulating...\n",
      "\t seed 1/20\n",
      "running run_seed1_dim80\n"
     ]
    },
    {
     "name": "stderr",
     "output_type": "stream",
     "text": [
      "/home/ubuntu/anaconda3/envs/CTN/lib/python3.7/site-packages/nengo_spa/vocabulary.py:173: UserWarning: Could not create a semantic pointer with max_similarity=0.10 (D=80, M=16, similarity=0.12)\n",
      "  len(self._key2idx), best_sim))\n",
      "/home/ubuntu/anaconda3/envs/CTN/lib/python3.7/site-packages/nengo_spa/vocabulary.py:173: UserWarning: Could not create a semantic pointer with max_similarity=0.10 (D=80, M=21, similarity=0.10)\n",
      "  len(self._key2idx), best_sim))\n"
     ]
    },
    {
     "data": {
      "text/html": [
       "\n",
       "                <div id=\"7bc71f6b-2b29-4b4b-84da-6c1569d212b8\" style=\"\n",
       "                    width: 100%;\n",
       "                    border: 1px solid #cfcfcf;\n",
       "                    border-radius: 4px;\n",
       "                    text-align: center;\n",
       "                    position: relative;\">\n",
       "                  <div class=\"pb-text\" style=\"\n",
       "                      position: absolute;\n",
       "                      width: 100%;\">\n",
       "                    0%\n",
       "                  </div>\n",
       "                  <div class=\"pb-fill\" style=\"\n",
       "                      background-color: #bdd2e6;\n",
       "                      width: 0%;\">\n",
       "                    <style type=\"text/css\" scoped=\"scoped\">\n",
       "                        @keyframes pb-fill-anim {\n",
       "                            0% { background-position: 0 0; }\n",
       "                            100% { background-position: 100px 0; }\n",
       "                        }\n",
       "                    </style>\n",
       "                    &nbsp;\n",
       "                  </div>\n",
       "                </div>"
      ],
      "text/plain": [
       "HtmlProgressBar cannot be displayed. Please use the TerminalProgressBar. It can be enabled with `nengo.rc.set('progress', 'progress_bar', 'nengo.utils.progress.TerminalProgressBar')`."
      ]
     },
     "metadata": {},
     "output_type": "display_data"
    },
    {
     "data": {
      "application/javascript": [
       "\n",
       "              (function () {\n",
       "                  var root = document.getElementById('7bc71f6b-2b29-4b4b-84da-6c1569d212b8');\n",
       "                  var text = root.getElementsByClassName('pb-text')[0];\n",
       "                  var fill = root.getElementsByClassName('pb-fill')[0];\n",
       "\n",
       "                  text.innerHTML = 'Simulation finished in 0:01:41.';\n",
       "                  \n",
       "            if (100.0 > 0.) {\n",
       "                fill.style.transition = 'width 0.1s linear';\n",
       "            } else {\n",
       "                fill.style.transition = 'none';\n",
       "            }\n",
       "\n",
       "            fill.style.width = '100.0%';\n",
       "            fill.style.animation = 'none';\n",
       "            fill.style.backgroundImage = 'none'\n",
       "        \n",
       "                  \n",
       "                fill.style.animation = 'none';\n",
       "                fill.style.backgroundImage = 'none';\n",
       "            \n",
       "              })();\n",
       "        "
      ],
      "text/plain": [
       "<IPython.core.display.Javascript object>"
      ]
     },
     "metadata": {},
     "output_type": "display_data"
    },
    {
     "name": "stdout",
     "output_type": "stream",
     "text": [
      "seed = 1\n",
      "backend = 'nengo_ocl'\n",
      "dt = 0.001\n",
      "neuron_type = 'default'\n",
      "n_neurons_scale = 1\n",
      "s_crosstalk = 0\n",
      "s_evidence = None\n",
      "t_senso = 0\n",
      "vocab = <nengo_spa.vocabulary.Vocabulary object at 0x7fe8e1cf8610>\n",
      "xp = <experiments.Xp1 object at 0x7fe8a7323190>\n",
      "proc_feedback = 0.9\n",
      "proc_feedback_synapse = 0.005\n",
      "GW_feedback = 1\n",
      "GW_threshold = 0.5\n",
      "GW_scale = 2\n",
      "BG_thr = 0.1\n",
      "BG_bias = 0.5\n",
      "integrator_reset = True\n",
      "data = <data.Data object at 0x7fe8acd6b290>\n",
      "\t seed 2/20\n",
      "running run_seed2_dim80\n"
     ]
    },
    {
     "name": "stderr",
     "output_type": "stream",
     "text": [
      "/home/ubuntu/anaconda3/envs/CTN/lib/python3.7/site-packages/nengo_spa/vocabulary.py:173: UserWarning: Could not create a semantic pointer with max_similarity=0.10 (D=80, M=20, similarity=0.12)\n",
      "  len(self._key2idx), best_sim))\n",
      "/home/ubuntu/anaconda3/envs/CTN/lib/python3.7/site-packages/nengo_spa/vocabulary.py:173: UserWarning: Could not create a semantic pointer with max_similarity=0.10 (D=80, M=21, similarity=0.11)\n",
      "  len(self._key2idx), best_sim))\n"
     ]
    },
    {
     "data": {
      "text/html": [
       "\n",
       "                <div id=\"6e4ac1e5-5890-4b3a-84a2-5cdc7cf7bc30\" style=\"\n",
       "                    width: 100%;\n",
       "                    border: 1px solid #cfcfcf;\n",
       "                    border-radius: 4px;\n",
       "                    text-align: center;\n",
       "                    position: relative;\">\n",
       "                  <div class=\"pb-text\" style=\"\n",
       "                      position: absolute;\n",
       "                      width: 100%;\">\n",
       "                    0%\n",
       "                  </div>\n",
       "                  <div class=\"pb-fill\" style=\"\n",
       "                      background-color: #bdd2e6;\n",
       "                      width: 0%;\">\n",
       "                    <style type=\"text/css\" scoped=\"scoped\">\n",
       "                        @keyframes pb-fill-anim {\n",
       "                            0% { background-position: 0 0; }\n",
       "                            100% { background-position: 100px 0; }\n",
       "                        }\n",
       "                    </style>\n",
       "                    &nbsp;\n",
       "                  </div>\n",
       "                </div>"
      ],
      "text/plain": [
       "HtmlProgressBar cannot be displayed. Please use the TerminalProgressBar. It can be enabled with `nengo.rc.set('progress', 'progress_bar', 'nengo.utils.progress.TerminalProgressBar')`."
      ]
     },
     "metadata": {},
     "output_type": "display_data"
    },
    {
     "data": {
      "application/javascript": [
       "\n",
       "              (function () {\n",
       "                  var root = document.getElementById('6e4ac1e5-5890-4b3a-84a2-5cdc7cf7bc30');\n",
       "                  var text = root.getElementsByClassName('pb-text')[0];\n",
       "                  var fill = root.getElementsByClassName('pb-fill')[0];\n",
       "\n",
       "                  text.innerHTML = 'Simulation finished in 0:01:45.';\n",
       "                  \n",
       "            if (100.0 > 0.) {\n",
       "                fill.style.transition = 'width 0.1s linear';\n",
       "            } else {\n",
       "                fill.style.transition = 'none';\n",
       "            }\n",
       "\n",
       "            fill.style.width = '100.0%';\n",
       "            fill.style.animation = 'none';\n",
       "            fill.style.backgroundImage = 'none'\n",
       "        \n",
       "                  \n",
       "                fill.style.animation = 'none';\n",
       "                fill.style.backgroundImage = 'none';\n",
       "            \n",
       "              })();\n",
       "        "
      ],
      "text/plain": [
       "<IPython.core.display.Javascript object>"
      ]
     },
     "metadata": {},
     "output_type": "display_data"
    },
    {
     "name": "stdout",
     "output_type": "stream",
     "text": [
      "seed = 2\n",
      "backend = 'nengo_ocl'\n",
      "dt = 0.001\n",
      "neuron_type = 'default'\n",
      "n_neurons_scale = 1\n",
      "s_crosstalk = 0\n",
      "s_evidence = None\n",
      "t_senso = 0\n",
      "vocab = <nengo_spa.vocabulary.Vocabulary object at 0x7fe8e1cc3c10>\n",
      "xp = <experiments.Xp1 object at 0x7fe8a7323590>\n",
      "proc_feedback = 0.9\n",
      "proc_feedback_synapse = 0.005\n",
      "GW_feedback = 1\n",
      "GW_threshold = 0.5\n",
      "GW_scale = 2\n",
      "BG_thr = 0.1\n",
      "BG_bias = 0.5\n",
      "integrator_reset = True\n",
      "data = <data.Data object at 0x7fe8e1cc5ad0>\n",
      "\t seed 3/20\n",
      "running run_seed3_dim80\n"
     ]
    },
    {
     "name": "stderr",
     "output_type": "stream",
     "text": [
      "/home/ubuntu/anaconda3/envs/CTN/lib/python3.7/site-packages/nengo_spa/vocabulary.py:173: UserWarning: Could not create a semantic pointer with max_similarity=0.10 (D=80, M=18, similarity=0.11)\n",
      "  len(self._key2idx), best_sim))\n",
      "/home/ubuntu/anaconda3/envs/CTN/lib/python3.7/site-packages/nengo_spa/vocabulary.py:173: UserWarning: Could not create a semantic pointer with max_similarity=0.10 (D=80, M=20, similarity=0.11)\n",
      "  len(self._key2idx), best_sim))\n"
     ]
    },
    {
     "data": {
      "text/html": [
       "\n",
       "                <div id=\"d1a7eee0-1a96-4fe1-832d-ddbb7e1f15da\" style=\"\n",
       "                    width: 100%;\n",
       "                    border: 1px solid #cfcfcf;\n",
       "                    border-radius: 4px;\n",
       "                    text-align: center;\n",
       "                    position: relative;\">\n",
       "                  <div class=\"pb-text\" style=\"\n",
       "                      position: absolute;\n",
       "                      width: 100%;\">\n",
       "                    0%\n",
       "                  </div>\n",
       "                  <div class=\"pb-fill\" style=\"\n",
       "                      background-color: #bdd2e6;\n",
       "                      width: 0%;\">\n",
       "                    <style type=\"text/css\" scoped=\"scoped\">\n",
       "                        @keyframes pb-fill-anim {\n",
       "                            0% { background-position: 0 0; }\n",
       "                            100% { background-position: 100px 0; }\n",
       "                        }\n",
       "                    </style>\n",
       "                    &nbsp;\n",
       "                  </div>\n",
       "                </div>"
      ],
      "text/plain": [
       "HtmlProgressBar cannot be displayed. Please use the TerminalProgressBar. It can be enabled with `nengo.rc.set('progress', 'progress_bar', 'nengo.utils.progress.TerminalProgressBar')`."
      ]
     },
     "metadata": {},
     "output_type": "display_data"
    },
    {
     "data": {
      "application/javascript": [
       "\n",
       "              (function () {\n",
       "                  var root = document.getElementById('d1a7eee0-1a96-4fe1-832d-ddbb7e1f15da');\n",
       "                  var text = root.getElementsByClassName('pb-text')[0];\n",
       "                  var fill = root.getElementsByClassName('pb-fill')[0];\n",
       "\n",
       "                  text.innerHTML = 'Simulation finished in 0:01:46.';\n",
       "                  \n",
       "            if (100.0 > 0.) {\n",
       "                fill.style.transition = 'width 0.1s linear';\n",
       "            } else {\n",
       "                fill.style.transition = 'none';\n",
       "            }\n",
       "\n",
       "            fill.style.width = '100.0%';\n",
       "            fill.style.animation = 'none';\n",
       "            fill.style.backgroundImage = 'none'\n",
       "        \n",
       "                  \n",
       "                fill.style.animation = 'none';\n",
       "                fill.style.backgroundImage = 'none';\n",
       "            \n",
       "              })();\n",
       "        "
      ],
      "text/plain": [
       "<IPython.core.display.Javascript object>"
      ]
     },
     "metadata": {},
     "output_type": "display_data"
    },
    {
     "name": "stdout",
     "output_type": "stream",
     "text": [
      "seed = 3\n",
      "backend = 'nengo_ocl'\n",
      "dt = 0.001\n",
      "neuron_type = 'default'\n",
      "n_neurons_scale = 1\n",
      "s_crosstalk = 0\n",
      "s_evidence = None\n",
      "t_senso = 0\n",
      "vocab = <nengo_spa.vocabulary.Vocabulary object at 0x7fe8acc43950>\n",
      "xp = <experiments.Xp1 object at 0x7fe8a4c1a850>\n",
      "proc_feedback = 0.9\n",
      "proc_feedback_synapse = 0.005\n",
      "GW_feedback = 1\n",
      "GW_threshold = 0.5\n",
      "GW_scale = 2\n",
      "BG_thr = 0.1\n",
      "BG_bias = 0.5\n",
      "integrator_reset = True\n",
      "data = <data.Data object at 0x7fe8ac2a5150>\n",
      "\t seed 4/20\n",
      "running run_seed4_dim80\n"
     ]
    },
    {
     "name": "stderr",
     "output_type": "stream",
     "text": [
      "/home/ubuntu/anaconda3/envs/CTN/lib/python3.7/site-packages/nengo_spa/vocabulary.py:173: UserWarning: Could not create a semantic pointer with max_similarity=0.10 (D=80, M=17, similarity=0.10)\n",
      "  len(self._key2idx), best_sim))\n"
     ]
    },
    {
     "data": {
      "text/html": [
       "\n",
       "                <div id=\"b87d630b-56cc-4513-81cb-d52c3f18525e\" style=\"\n",
       "                    width: 100%;\n",
       "                    border: 1px solid #cfcfcf;\n",
       "                    border-radius: 4px;\n",
       "                    text-align: center;\n",
       "                    position: relative;\">\n",
       "                  <div class=\"pb-text\" style=\"\n",
       "                      position: absolute;\n",
       "                      width: 100%;\">\n",
       "                    0%\n",
       "                  </div>\n",
       "                  <div class=\"pb-fill\" style=\"\n",
       "                      background-color: #bdd2e6;\n",
       "                      width: 0%;\">\n",
       "                    <style type=\"text/css\" scoped=\"scoped\">\n",
       "                        @keyframes pb-fill-anim {\n",
       "                            0% { background-position: 0 0; }\n",
       "                            100% { background-position: 100px 0; }\n",
       "                        }\n",
       "                    </style>\n",
       "                    &nbsp;\n",
       "                  </div>\n",
       "                </div>"
      ],
      "text/plain": [
       "HtmlProgressBar cannot be displayed. Please use the TerminalProgressBar. It can be enabled with `nengo.rc.set('progress', 'progress_bar', 'nengo.utils.progress.TerminalProgressBar')`."
      ]
     },
     "metadata": {},
     "output_type": "display_data"
    },
    {
     "data": {
      "application/javascript": [
       "\n",
       "              (function () {\n",
       "                  var root = document.getElementById('b87d630b-56cc-4513-81cb-d52c3f18525e');\n",
       "                  var text = root.getElementsByClassName('pb-text')[0];\n",
       "                  var fill = root.getElementsByClassName('pb-fill')[0];\n",
       "\n",
       "                  text.innerHTML = 'Simulation finished in 0:01:43.';\n",
       "                  \n",
       "            if (100.0 > 0.) {\n",
       "                fill.style.transition = 'width 0.1s linear';\n",
       "            } else {\n",
       "                fill.style.transition = 'none';\n",
       "            }\n",
       "\n",
       "            fill.style.width = '100.0%';\n",
       "            fill.style.animation = 'none';\n",
       "            fill.style.backgroundImage = 'none'\n",
       "        \n",
       "                  \n",
       "                fill.style.animation = 'none';\n",
       "                fill.style.backgroundImage = 'none';\n",
       "            \n",
       "              })();\n",
       "        "
      ],
      "text/plain": [
       "<IPython.core.display.Javascript object>"
      ]
     },
     "metadata": {},
     "output_type": "display_data"
    },
    {
     "name": "stdout",
     "output_type": "stream",
     "text": [
      "seed = 4\n",
      "backend = 'nengo_ocl'\n",
      "dt = 0.001\n",
      "neuron_type = 'default'\n",
      "n_neurons_scale = 1\n",
      "s_crosstalk = 0\n",
      "s_evidence = None\n",
      "t_senso = 0\n",
      "vocab = <nengo_spa.vocabulary.Vocabulary object at 0x7fe8aeb1b490>\n",
      "xp = <experiments.Xp1 object at 0x7fe8e151ff90>\n",
      "proc_feedback = 0.9\n",
      "proc_feedback_synapse = 0.005\n",
      "GW_feedback = 1\n",
      "GW_threshold = 0.5\n",
      "GW_scale = 2\n",
      "BG_thr = 0.1\n",
      "BG_bias = 0.5\n",
      "integrator_reset = True\n",
      "data = <data.Data object at 0x7fe8ccfe74d0>\n",
      "\t seed 5/20\n",
      "running run_seed5_dim80\n"
     ]
    },
    {
     "data": {
      "text/html": [
       "\n",
       "                <div id=\"5f3aea1a-508a-49f9-81dd-9c1b12dcda26\" style=\"\n",
       "                    width: 100%;\n",
       "                    border: 1px solid #cfcfcf;\n",
       "                    border-radius: 4px;\n",
       "                    text-align: center;\n",
       "                    position: relative;\">\n",
       "                  <div class=\"pb-text\" style=\"\n",
       "                      position: absolute;\n",
       "                      width: 100%;\">\n",
       "                    0%\n",
       "                  </div>\n",
       "                  <div class=\"pb-fill\" style=\"\n",
       "                      background-color: #bdd2e6;\n",
       "                      width: 0%;\">\n",
       "                    <style type=\"text/css\" scoped=\"scoped\">\n",
       "                        @keyframes pb-fill-anim {\n",
       "                            0% { background-position: 0 0; }\n",
       "                            100% { background-position: 100px 0; }\n",
       "                        }\n",
       "                    </style>\n",
       "                    &nbsp;\n",
       "                  </div>\n",
       "                </div>"
      ],
      "text/plain": [
       "HtmlProgressBar cannot be displayed. Please use the TerminalProgressBar. It can be enabled with `nengo.rc.set('progress', 'progress_bar', 'nengo.utils.progress.TerminalProgressBar')`."
      ]
     },
     "metadata": {},
     "output_type": "display_data"
    },
    {
     "data": {
      "application/javascript": [
       "\n",
       "              (function () {\n",
       "                  var root = document.getElementById('5f3aea1a-508a-49f9-81dd-9c1b12dcda26');\n",
       "                  var text = root.getElementsByClassName('pb-text')[0];\n",
       "                  var fill = root.getElementsByClassName('pb-fill')[0];\n",
       "\n",
       "                  text.innerHTML = 'Simulation finished in 0:01:40.';\n",
       "                  \n",
       "            if (100.0 > 0.) {\n",
       "                fill.style.transition = 'width 0.1s linear';\n",
       "            } else {\n",
       "                fill.style.transition = 'none';\n",
       "            }\n",
       "\n",
       "            fill.style.width = '100.0%';\n",
       "            fill.style.animation = 'none';\n",
       "            fill.style.backgroundImage = 'none'\n",
       "        \n",
       "                  \n",
       "                fill.style.animation = 'none';\n",
       "                fill.style.backgroundImage = 'none';\n",
       "            \n",
       "              })();\n",
       "        "
      ],
      "text/plain": [
       "<IPython.core.display.Javascript object>"
      ]
     },
     "metadata": {},
     "output_type": "display_data"
    },
    {
     "name": "stdout",
     "output_type": "stream",
     "text": [
      "seed = 5\n",
      "backend = 'nengo_ocl'\n",
      "dt = 0.001\n",
      "neuron_type = 'default'\n",
      "n_neurons_scale = 1\n",
      "s_crosstalk = 0\n",
      "s_evidence = None\n",
      "t_senso = 0\n",
      "vocab = <nengo_spa.vocabulary.Vocabulary object at 0x7fe8a7383450>\n",
      "xp = <experiments.Xp1 object at 0x7fe8aeb3cd50>\n",
      "proc_feedback = 0.9\n",
      "proc_feedback_synapse = 0.005\n",
      "GW_feedback = 1\n",
      "GW_threshold = 0.5\n",
      "GW_scale = 2\n",
      "BG_thr = 0.1\n",
      "BG_bias = 0.5\n",
      "integrator_reset = True\n",
      "data = <data.Data object at 0x7fe8aeb1b950>\n",
      "\t seed 6/20\n",
      "running run_seed6_dim80\n"
     ]
    },
    {
     "name": "stderr",
     "output_type": "stream",
     "text": [
      "/home/ubuntu/anaconda3/envs/CTN/lib/python3.7/site-packages/nengo_spa/vocabulary.py:173: UserWarning: Could not create a semantic pointer with max_similarity=0.10 (D=80, M=20, similarity=0.10)\n",
      "  len(self._key2idx), best_sim))\n"
     ]
    },
    {
     "data": {
      "text/html": [
       "\n",
       "                <div id=\"c1b959b0-9e0d-468d-aa0e-4861e6f5209e\" style=\"\n",
       "                    width: 100%;\n",
       "                    border: 1px solid #cfcfcf;\n",
       "                    border-radius: 4px;\n",
       "                    text-align: center;\n",
       "                    position: relative;\">\n",
       "                  <div class=\"pb-text\" style=\"\n",
       "                      position: absolute;\n",
       "                      width: 100%;\">\n",
       "                    0%\n",
       "                  </div>\n",
       "                  <div class=\"pb-fill\" style=\"\n",
       "                      background-color: #bdd2e6;\n",
       "                      width: 0%;\">\n",
       "                    <style type=\"text/css\" scoped=\"scoped\">\n",
       "                        @keyframes pb-fill-anim {\n",
       "                            0% { background-position: 0 0; }\n",
       "                            100% { background-position: 100px 0; }\n",
       "                        }\n",
       "                    </style>\n",
       "                    &nbsp;\n",
       "                  </div>\n",
       "                </div>"
      ],
      "text/plain": [
       "HtmlProgressBar cannot be displayed. Please use the TerminalProgressBar. It can be enabled with `nengo.rc.set('progress', 'progress_bar', 'nengo.utils.progress.TerminalProgressBar')`."
      ]
     },
     "metadata": {},
     "output_type": "display_data"
    },
    {
     "data": {
      "application/javascript": [
       "\n",
       "              (function () {\n",
       "                  var root = document.getElementById('c1b959b0-9e0d-468d-aa0e-4861e6f5209e');\n",
       "                  var text = root.getElementsByClassName('pb-text')[0];\n",
       "                  var fill = root.getElementsByClassName('pb-fill')[0];\n",
       "\n",
       "                  text.innerHTML = 'Simulation finished in 0:01:46.';\n",
       "                  \n",
       "            if (100.0 > 0.) {\n",
       "                fill.style.transition = 'width 0.1s linear';\n",
       "            } else {\n",
       "                fill.style.transition = 'none';\n",
       "            }\n",
       "\n",
       "            fill.style.width = '100.0%';\n",
       "            fill.style.animation = 'none';\n",
       "            fill.style.backgroundImage = 'none'\n",
       "        \n",
       "                  \n",
       "                fill.style.animation = 'none';\n",
       "                fill.style.backgroundImage = 'none';\n",
       "            \n",
       "              })();\n",
       "        "
      ],
      "text/plain": [
       "<IPython.core.display.Javascript object>"
      ]
     },
     "metadata": {},
     "output_type": "display_data"
    },
    {
     "name": "stdout",
     "output_type": "stream",
     "text": [
      "seed = 6\n",
      "backend = 'nengo_ocl'\n",
      "dt = 0.001\n",
      "neuron_type = 'default'\n",
      "n_neurons_scale = 1\n",
      "s_crosstalk = 0\n",
      "s_evidence = None\n",
      "t_senso = 0\n",
      "vocab = <nengo_spa.vocabulary.Vocabulary object at 0x7fe8e133d890>\n",
      "xp = <experiments.Xp1 object at 0x7fe8aeb3c990>\n",
      "proc_feedback = 0.9\n",
      "proc_feedback_synapse = 0.005\n",
      "GW_feedback = 1\n",
      "GW_threshold = 0.5\n",
      "GW_scale = 2\n",
      "BG_thr = 0.1\n",
      "BG_bias = 0.5\n",
      "integrator_reset = True\n",
      "data = <data.Data object at 0x7fe8ad609750>\n",
      "\t seed 7/20\n",
      "running run_seed7_dim80\n"
     ]
    },
    {
     "data": {
      "text/html": [
       "\n",
       "                <div id=\"abbb6da3-e338-46a2-b849-1d2d72df529a\" style=\"\n",
       "                    width: 100%;\n",
       "                    border: 1px solid #cfcfcf;\n",
       "                    border-radius: 4px;\n",
       "                    text-align: center;\n",
       "                    position: relative;\">\n",
       "                  <div class=\"pb-text\" style=\"\n",
       "                      position: absolute;\n",
       "                      width: 100%;\">\n",
       "                    0%\n",
       "                  </div>\n",
       "                  <div class=\"pb-fill\" style=\"\n",
       "                      background-color: #bdd2e6;\n",
       "                      width: 0%;\">\n",
       "                    <style type=\"text/css\" scoped=\"scoped\">\n",
       "                        @keyframes pb-fill-anim {\n",
       "                            0% { background-position: 0 0; }\n",
       "                            100% { background-position: 100px 0; }\n",
       "                        }\n",
       "                    </style>\n",
       "                    &nbsp;\n",
       "                  </div>\n",
       "                </div>"
      ],
      "text/plain": [
       "HtmlProgressBar cannot be displayed. Please use the TerminalProgressBar. It can be enabled with `nengo.rc.set('progress', 'progress_bar', 'nengo.utils.progress.TerminalProgressBar')`."
      ]
     },
     "metadata": {},
     "output_type": "display_data"
    },
    {
     "data": {
      "application/javascript": [
       "\n",
       "              (function () {\n",
       "                  var root = document.getElementById('abbb6da3-e338-46a2-b849-1d2d72df529a');\n",
       "                  var text = root.getElementsByClassName('pb-text')[0];\n",
       "                  var fill = root.getElementsByClassName('pb-fill')[0];\n",
       "\n",
       "                  text.innerHTML = 'Simulation finished in 0:01:39.';\n",
       "                  \n",
       "            if (100.0 > 0.) {\n",
       "                fill.style.transition = 'width 0.1s linear';\n",
       "            } else {\n",
       "                fill.style.transition = 'none';\n",
       "            }\n",
       "\n",
       "            fill.style.width = '100.0%';\n",
       "            fill.style.animation = 'none';\n",
       "            fill.style.backgroundImage = 'none'\n",
       "        \n",
       "                  \n",
       "                fill.style.animation = 'none';\n",
       "                fill.style.backgroundImage = 'none';\n",
       "            \n",
       "              })();\n",
       "        "
      ],
      "text/plain": [
       "<IPython.core.display.Javascript object>"
      ]
     },
     "metadata": {},
     "output_type": "display_data"
    },
    {
     "name": "stdout",
     "output_type": "stream",
     "text": [
      "seed = 7\n",
      "backend = 'nengo_ocl'\n",
      "dt = 0.001\n",
      "neuron_type = 'default'\n",
      "n_neurons_scale = 1\n",
      "s_crosstalk = 0\n",
      "s_evidence = None\n",
      "t_senso = 0\n",
      "vocab = <nengo_spa.vocabulary.Vocabulary object at 0x7fe8aeb3c850>\n",
      "xp = <experiments.Xp1 object at 0x7fe8aeb3c810>\n",
      "proc_feedback = 0.9\n",
      "proc_feedback_synapse = 0.005\n",
      "GW_feedback = 1\n",
      "GW_threshold = 0.5\n",
      "GW_scale = 2\n",
      "BG_thr = 0.1\n",
      "BG_bias = 0.5\n",
      "integrator_reset = True\n",
      "data = <data.Data object at 0x7fe8ac122e90>\n",
      "\t seed 8/20\n",
      "running run_seed8_dim80\n"
     ]
    },
    {
     "name": "stderr",
     "output_type": "stream",
     "text": [
      "/home/ubuntu/anaconda3/envs/CTN/lib/python3.7/site-packages/nengo_spa/vocabulary.py:173: UserWarning: Could not create a semantic pointer with max_similarity=0.10 (D=80, M=19, similarity=0.11)\n",
      "  len(self._key2idx), best_sim))\n"
     ]
    },
    {
     "data": {
      "text/html": [
       "\n",
       "                <div id=\"35ba5515-5d0b-4529-8e0e-2d8e8b16523d\" style=\"\n",
       "                    width: 100%;\n",
       "                    border: 1px solid #cfcfcf;\n",
       "                    border-radius: 4px;\n",
       "                    text-align: center;\n",
       "                    position: relative;\">\n",
       "                  <div class=\"pb-text\" style=\"\n",
       "                      position: absolute;\n",
       "                      width: 100%;\">\n",
       "                    0%\n",
       "                  </div>\n",
       "                  <div class=\"pb-fill\" style=\"\n",
       "                      background-color: #bdd2e6;\n",
       "                      width: 0%;\">\n",
       "                    <style type=\"text/css\" scoped=\"scoped\">\n",
       "                        @keyframes pb-fill-anim {\n",
       "                            0% { background-position: 0 0; }\n",
       "                            100% { background-position: 100px 0; }\n",
       "                        }\n",
       "                    </style>\n",
       "                    &nbsp;\n",
       "                  </div>\n",
       "                </div>"
      ],
      "text/plain": [
       "HtmlProgressBar cannot be displayed. Please use the TerminalProgressBar. It can be enabled with `nengo.rc.set('progress', 'progress_bar', 'nengo.utils.progress.TerminalProgressBar')`."
      ]
     },
     "metadata": {},
     "output_type": "display_data"
    },
    {
     "data": {
      "application/javascript": [
       "\n",
       "              (function () {\n",
       "                  var root = document.getElementById('35ba5515-5d0b-4529-8e0e-2d8e8b16523d');\n",
       "                  var text = root.getElementsByClassName('pb-text')[0];\n",
       "                  var fill = root.getElementsByClassName('pb-fill')[0];\n",
       "\n",
       "                  text.innerHTML = 'Simulation finished in 0:01:39.';\n",
       "                  \n",
       "            if (100.0 > 0.) {\n",
       "                fill.style.transition = 'width 0.1s linear';\n",
       "            } else {\n",
       "                fill.style.transition = 'none';\n",
       "            }\n",
       "\n",
       "            fill.style.width = '100.0%';\n",
       "            fill.style.animation = 'none';\n",
       "            fill.style.backgroundImage = 'none'\n",
       "        \n",
       "                  \n",
       "                fill.style.animation = 'none';\n",
       "                fill.style.backgroundImage = 'none';\n",
       "            \n",
       "              })();\n",
       "        "
      ],
      "text/plain": [
       "<IPython.core.display.Javascript object>"
      ]
     },
     "metadata": {},
     "output_type": "display_data"
    },
    {
     "name": "stdout",
     "output_type": "stream",
     "text": [
      "seed = 8\n",
      "backend = 'nengo_ocl'\n",
      "dt = 0.001\n",
      "neuron_type = 'default'\n",
      "n_neurons_scale = 1\n",
      "s_crosstalk = 0\n",
      "s_evidence = None\n",
      "t_senso = 0\n",
      "vocab = <nengo_spa.vocabulary.Vocabulary object at 0x7fe8ac122690>\n",
      "xp = <experiments.Xp1 object at 0x7fe8a6b0b750>\n",
      "proc_feedback = 0.9\n",
      "proc_feedback_synapse = 0.005\n",
      "GW_feedback = 1\n",
      "GW_threshold = 0.5\n",
      "GW_scale = 2\n",
      "BG_thr = 0.1\n",
      "BG_bias = 0.5\n",
      "integrator_reset = True\n",
      "data = <data.Data object at 0x7fe8a4cfb5d0>\n",
      "\t seed 9/20\n",
      "running run_seed9_dim80\n"
     ]
    },
    {
     "name": "stderr",
     "output_type": "stream",
     "text": [
      "/home/ubuntu/anaconda3/envs/CTN/lib/python3.7/site-packages/nengo_spa/vocabulary.py:173: UserWarning: Could not create a semantic pointer with max_similarity=0.10 (D=80, M=18, similarity=0.12)\n",
      "  len(self._key2idx), best_sim))\n"
     ]
    },
    {
     "data": {
      "text/html": [
       "\n",
       "                <div id=\"8cd918db-598d-45d0-820b-8ea048b67898\" style=\"\n",
       "                    width: 100%;\n",
       "                    border: 1px solid #cfcfcf;\n",
       "                    border-radius: 4px;\n",
       "                    text-align: center;\n",
       "                    position: relative;\">\n",
       "                  <div class=\"pb-text\" style=\"\n",
       "                      position: absolute;\n",
       "                      width: 100%;\">\n",
       "                    0%\n",
       "                  </div>\n",
       "                  <div class=\"pb-fill\" style=\"\n",
       "                      background-color: #bdd2e6;\n",
       "                      width: 0%;\">\n",
       "                    <style type=\"text/css\" scoped=\"scoped\">\n",
       "                        @keyframes pb-fill-anim {\n",
       "                            0% { background-position: 0 0; }\n",
       "                            100% { background-position: 100px 0; }\n",
       "                        }\n",
       "                    </style>\n",
       "                    &nbsp;\n",
       "                  </div>\n",
       "                </div>"
      ],
      "text/plain": [
       "HtmlProgressBar cannot be displayed. Please use the TerminalProgressBar. It can be enabled with `nengo.rc.set('progress', 'progress_bar', 'nengo.utils.progress.TerminalProgressBar')`."
      ]
     },
     "metadata": {},
     "output_type": "display_data"
    },
    {
     "data": {
      "application/javascript": [
       "\n",
       "              (function () {\n",
       "                  var root = document.getElementById('8cd918db-598d-45d0-820b-8ea048b67898');\n",
       "                  var text = root.getElementsByClassName('pb-text')[0];\n",
       "                  var fill = root.getElementsByClassName('pb-fill')[0];\n",
       "\n",
       "                  text.innerHTML = 'Simulation finished in 0:01:42.';\n",
       "                  \n",
       "            if (100.0 > 0.) {\n",
       "                fill.style.transition = 'width 0.1s linear';\n",
       "            } else {\n",
       "                fill.style.transition = 'none';\n",
       "            }\n",
       "\n",
       "            fill.style.width = '100.0%';\n",
       "            fill.style.animation = 'none';\n",
       "            fill.style.backgroundImage = 'none'\n",
       "        \n",
       "                  \n",
       "                fill.style.animation = 'none';\n",
       "                fill.style.backgroundImage = 'none';\n",
       "            \n",
       "              })();\n",
       "        "
      ],
      "text/plain": [
       "<IPython.core.display.Javascript object>"
      ]
     },
     "metadata": {},
     "output_type": "display_data"
    },
    {
     "name": "stdout",
     "output_type": "stream",
     "text": [
      "seed = 9\n",
      "backend = 'nengo_ocl'\n",
      "dt = 0.001\n",
      "neuron_type = 'default'\n",
      "n_neurons_scale = 1\n",
      "s_crosstalk = 0\n",
      "s_evidence = None\n",
      "t_senso = 0\n",
      "vocab = <nengo_spa.vocabulary.Vocabulary object at 0x7fe8e1ce0a90>\n",
      "xp = <experiments.Xp1 object at 0x7fe8c19fca50>\n",
      "proc_feedback = 0.9\n",
      "proc_feedback_synapse = 0.005\n",
      "GW_feedback = 1\n",
      "GW_threshold = 0.5\n",
      "GW_scale = 2\n",
      "BG_thr = 0.1\n",
      "BG_bias = 0.5\n",
      "integrator_reset = True\n",
      "data = <data.Data object at 0x7fe8aeb2efd0>\n",
      "\t seed 10/20\n",
      "running run_seed10_dim80\n"
     ]
    },
    {
     "name": "stderr",
     "output_type": "stream",
     "text": [
      "/home/ubuntu/anaconda3/envs/CTN/lib/python3.7/site-packages/nengo_spa/vocabulary.py:173: UserWarning: Could not create a semantic pointer with max_similarity=0.10 (D=80, M=19, similarity=0.10)\n",
      "  len(self._key2idx), best_sim))\n"
     ]
    },
    {
     "data": {
      "text/html": [
       "\n",
       "                <div id=\"c2ee4f0d-3fd2-4e4c-bfba-7294848d2d35\" style=\"\n",
       "                    width: 100%;\n",
       "                    border: 1px solid #cfcfcf;\n",
       "                    border-radius: 4px;\n",
       "                    text-align: center;\n",
       "                    position: relative;\">\n",
       "                  <div class=\"pb-text\" style=\"\n",
       "                      position: absolute;\n",
       "                      width: 100%;\">\n",
       "                    0%\n",
       "                  </div>\n",
       "                  <div class=\"pb-fill\" style=\"\n",
       "                      background-color: #bdd2e6;\n",
       "                      width: 0%;\">\n",
       "                    <style type=\"text/css\" scoped=\"scoped\">\n",
       "                        @keyframes pb-fill-anim {\n",
       "                            0% { background-position: 0 0; }\n",
       "                            100% { background-position: 100px 0; }\n",
       "                        }\n",
       "                    </style>\n",
       "                    &nbsp;\n",
       "                  </div>\n",
       "                </div>"
      ],
      "text/plain": [
       "HtmlProgressBar cannot be displayed. Please use the TerminalProgressBar. It can be enabled with `nengo.rc.set('progress', 'progress_bar', 'nengo.utils.progress.TerminalProgressBar')`."
      ]
     },
     "metadata": {},
     "output_type": "display_data"
    },
    {
     "data": {
      "application/javascript": [
       "\n",
       "              (function () {\n",
       "                  var root = document.getElementById('c2ee4f0d-3fd2-4e4c-bfba-7294848d2d35');\n",
       "                  var text = root.getElementsByClassName('pb-text')[0];\n",
       "                  var fill = root.getElementsByClassName('pb-fill')[0];\n",
       "\n",
       "                  text.innerHTML = 'Simulation finished in 0:01:45.';\n",
       "                  \n",
       "            if (100.0 > 0.) {\n",
       "                fill.style.transition = 'width 0.1s linear';\n",
       "            } else {\n",
       "                fill.style.transition = 'none';\n",
       "            }\n",
       "\n",
       "            fill.style.width = '100.0%';\n",
       "            fill.style.animation = 'none';\n",
       "            fill.style.backgroundImage = 'none'\n",
       "        \n",
       "                  \n",
       "                fill.style.animation = 'none';\n",
       "                fill.style.backgroundImage = 'none';\n",
       "            \n",
       "              })();\n",
       "        "
      ],
      "text/plain": [
       "<IPython.core.display.Javascript object>"
      ]
     },
     "metadata": {},
     "output_type": "display_data"
    },
    {
     "name": "stdout",
     "output_type": "stream",
     "text": [
      "seed = 10\n",
      "backend = 'nengo_ocl'\n",
      "dt = 0.001\n",
      "neuron_type = 'default'\n",
      "n_neurons_scale = 1\n",
      "s_crosstalk = 0\n",
      "s_evidence = None\n",
      "t_senso = 0\n",
      "vocab = <nengo_spa.vocabulary.Vocabulary object at 0x7fe8ac5970d0>\n",
      "xp = <experiments.Xp1 object at 0x7fe8ac122e90>\n",
      "proc_feedback = 0.9\n",
      "proc_feedback_synapse = 0.005\n",
      "GW_feedback = 1\n",
      "GW_threshold = 0.5\n",
      "GW_scale = 2\n",
      "BG_thr = 0.1\n",
      "BG_bias = 0.5\n",
      "integrator_reset = True\n",
      "data = <data.Data object at 0x7fe8a6cd6190>\n",
      "\t seed 11/20\n",
      "running run_seed11_dim80\n"
     ]
    },
    {
     "data": {
      "text/html": [
       "\n",
       "                <div id=\"0451ecfb-b147-4eb4-90fe-208b0822cc22\" style=\"\n",
       "                    width: 100%;\n",
       "                    border: 1px solid #cfcfcf;\n",
       "                    border-radius: 4px;\n",
       "                    text-align: center;\n",
       "                    position: relative;\">\n",
       "                  <div class=\"pb-text\" style=\"\n",
       "                      position: absolute;\n",
       "                      width: 100%;\">\n",
       "                    0%\n",
       "                  </div>\n",
       "                  <div class=\"pb-fill\" style=\"\n",
       "                      background-color: #bdd2e6;\n",
       "                      width: 0%;\">\n",
       "                    <style type=\"text/css\" scoped=\"scoped\">\n",
       "                        @keyframes pb-fill-anim {\n",
       "                            0% { background-position: 0 0; }\n",
       "                            100% { background-position: 100px 0; }\n",
       "                        }\n",
       "                    </style>\n",
       "                    &nbsp;\n",
       "                  </div>\n",
       "                </div>"
      ],
      "text/plain": [
       "HtmlProgressBar cannot be displayed. Please use the TerminalProgressBar. It can be enabled with `nengo.rc.set('progress', 'progress_bar', 'nengo.utils.progress.TerminalProgressBar')`."
      ]
     },
     "metadata": {},
     "output_type": "display_data"
    },
    {
     "data": {
      "application/javascript": [
       "\n",
       "              (function () {\n",
       "                  var root = document.getElementById('0451ecfb-b147-4eb4-90fe-208b0822cc22');\n",
       "                  var text = root.getElementsByClassName('pb-text')[0];\n",
       "                  var fill = root.getElementsByClassName('pb-fill')[0];\n",
       "\n",
       "                  text.innerHTML = 'Simulation finished in 0:01:50.';\n",
       "                  \n",
       "            if (100.0 > 0.) {\n",
       "                fill.style.transition = 'width 0.1s linear';\n",
       "            } else {\n",
       "                fill.style.transition = 'none';\n",
       "            }\n",
       "\n",
       "            fill.style.width = '100.0%';\n",
       "            fill.style.animation = 'none';\n",
       "            fill.style.backgroundImage = 'none'\n",
       "        \n",
       "                  \n",
       "                fill.style.animation = 'none';\n",
       "                fill.style.backgroundImage = 'none';\n",
       "            \n",
       "              })();\n",
       "        "
      ],
      "text/plain": [
       "<IPython.core.display.Javascript object>"
      ]
     },
     "metadata": {},
     "output_type": "display_data"
    },
    {
     "name": "stdout",
     "output_type": "stream",
     "text": [
      "seed = 11\n",
      "backend = 'nengo_ocl'\n",
      "dt = 0.001\n",
      "neuron_type = 'default'\n",
      "n_neurons_scale = 1\n",
      "s_crosstalk = 0\n",
      "s_evidence = None\n",
      "t_senso = 0\n",
      "vocab = <nengo_spa.vocabulary.Vocabulary object at 0x7fe8e1908ed0>\n",
      "xp = <experiments.Xp1 object at 0x7fe8ac126790>\n",
      "proc_feedback = 0.9\n",
      "proc_feedback_synapse = 0.005\n",
      "GW_feedback = 1\n",
      "GW_threshold = 0.5\n",
      "GW_scale = 2\n",
      "BG_thr = 0.1\n",
      "BG_bias = 0.5\n",
      "integrator_reset = True\n",
      "data = <data.Data object at 0x7fe8ac578f90>\n",
      "\t seed 12/20\n",
      "running run_seed12_dim80\n"
     ]
    },
    {
     "name": "stderr",
     "output_type": "stream",
     "text": [
      "/home/ubuntu/anaconda3/envs/CTN/lib/python3.7/site-packages/nengo_spa/vocabulary.py:173: UserWarning: Could not create a semantic pointer with max_similarity=0.10 (D=80, M=16, similarity=0.11)\n",
      "  len(self._key2idx), best_sim))\n"
     ]
    },
    {
     "data": {
      "text/html": [
       "\n",
       "                <div id=\"df679114-e7c0-4f87-bee9-18ad15c044a1\" style=\"\n",
       "                    width: 100%;\n",
       "                    border: 1px solid #cfcfcf;\n",
       "                    border-radius: 4px;\n",
       "                    text-align: center;\n",
       "                    position: relative;\">\n",
       "                  <div class=\"pb-text\" style=\"\n",
       "                      position: absolute;\n",
       "                      width: 100%;\">\n",
       "                    0%\n",
       "                  </div>\n",
       "                  <div class=\"pb-fill\" style=\"\n",
       "                      background-color: #bdd2e6;\n",
       "                      width: 0%;\">\n",
       "                    <style type=\"text/css\" scoped=\"scoped\">\n",
       "                        @keyframes pb-fill-anim {\n",
       "                            0% { background-position: 0 0; }\n",
       "                            100% { background-position: 100px 0; }\n",
       "                        }\n",
       "                    </style>\n",
       "                    &nbsp;\n",
       "                  </div>\n",
       "                </div>"
      ],
      "text/plain": [
       "HtmlProgressBar cannot be displayed. Please use the TerminalProgressBar. It can be enabled with `nengo.rc.set('progress', 'progress_bar', 'nengo.utils.progress.TerminalProgressBar')`."
      ]
     },
     "metadata": {},
     "output_type": "display_data"
    },
    {
     "data": {
      "application/javascript": [
       "\n",
       "              (function () {\n",
       "                  var root = document.getElementById('df679114-e7c0-4f87-bee9-18ad15c044a1');\n",
       "                  var text = root.getElementsByClassName('pb-text')[0];\n",
       "                  var fill = root.getElementsByClassName('pb-fill')[0];\n",
       "\n",
       "                  text.innerHTML = 'Simulation finished in 0:01:49.';\n",
       "                  \n",
       "            if (100.0 > 0.) {\n",
       "                fill.style.transition = 'width 0.1s linear';\n",
       "            } else {\n",
       "                fill.style.transition = 'none';\n",
       "            }\n",
       "\n",
       "            fill.style.width = '100.0%';\n",
       "            fill.style.animation = 'none';\n",
       "            fill.style.backgroundImage = 'none'\n",
       "        \n",
       "                  \n",
       "                fill.style.animation = 'none';\n",
       "                fill.style.backgroundImage = 'none';\n",
       "            \n",
       "              })();\n",
       "        "
      ],
      "text/plain": [
       "<IPython.core.display.Javascript object>"
      ]
     },
     "metadata": {},
     "output_type": "display_data"
    },
    {
     "name": "stdout",
     "output_type": "stream",
     "text": [
      "seed = 12\n",
      "backend = 'nengo_ocl'\n",
      "dt = 0.001\n",
      "neuron_type = 'default'\n",
      "n_neurons_scale = 1\n",
      "s_crosstalk = 0\n",
      "s_evidence = None\n",
      "t_senso = 0\n",
      "vocab = <nengo_spa.vocabulary.Vocabulary object at 0x7fe8ac578390>\n",
      "xp = <experiments.Xp1 object at 0x7fe8e1589c90>\n",
      "proc_feedback = 0.9\n",
      "proc_feedback_synapse = 0.005\n",
      "GW_feedback = 1\n",
      "GW_threshold = 0.5\n",
      "GW_scale = 2\n",
      "BG_thr = 0.1\n",
      "BG_bias = 0.5\n",
      "integrator_reset = True\n",
      "data = <data.Data object at 0x7fe8c1759f90>\n",
      "\t seed 13/20\n",
      "running run_seed13_dim80\n"
     ]
    },
    {
     "name": "stderr",
     "output_type": "stream",
     "text": [
      "/home/ubuntu/anaconda3/envs/CTN/lib/python3.7/site-packages/nengo_spa/vocabulary.py:173: UserWarning: Could not create a semantic pointer with max_similarity=0.10 (D=80, M=17, similarity=0.11)\n",
      "  len(self._key2idx), best_sim))\n"
     ]
    },
    {
     "data": {
      "text/html": [
       "\n",
       "                <div id=\"1cb35c41-fd93-4d7e-9b90-972d62a4b773\" style=\"\n",
       "                    width: 100%;\n",
       "                    border: 1px solid #cfcfcf;\n",
       "                    border-radius: 4px;\n",
       "                    text-align: center;\n",
       "                    position: relative;\">\n",
       "                  <div class=\"pb-text\" style=\"\n",
       "                      position: absolute;\n",
       "                      width: 100%;\">\n",
       "                    0%\n",
       "                  </div>\n",
       "                  <div class=\"pb-fill\" style=\"\n",
       "                      background-color: #bdd2e6;\n",
       "                      width: 0%;\">\n",
       "                    <style type=\"text/css\" scoped=\"scoped\">\n",
       "                        @keyframes pb-fill-anim {\n",
       "                            0% { background-position: 0 0; }\n",
       "                            100% { background-position: 100px 0; }\n",
       "                        }\n",
       "                    </style>\n",
       "                    &nbsp;\n",
       "                  </div>\n",
       "                </div>"
      ],
      "text/plain": [
       "HtmlProgressBar cannot be displayed. Please use the TerminalProgressBar. It can be enabled with `nengo.rc.set('progress', 'progress_bar', 'nengo.utils.progress.TerminalProgressBar')`."
      ]
     },
     "metadata": {},
     "output_type": "display_data"
    },
    {
     "data": {
      "application/javascript": [
       "\n",
       "              (function () {\n",
       "                  var root = document.getElementById('1cb35c41-fd93-4d7e-9b90-972d62a4b773');\n",
       "                  var text = root.getElementsByClassName('pb-text')[0];\n",
       "                  var fill = root.getElementsByClassName('pb-fill')[0];\n",
       "\n",
       "                  text.innerHTML = 'Simulation finished in 0:01:52.';\n",
       "                  \n",
       "            if (100.0 > 0.) {\n",
       "                fill.style.transition = 'width 0.1s linear';\n",
       "            } else {\n",
       "                fill.style.transition = 'none';\n",
       "            }\n",
       "\n",
       "            fill.style.width = '100.0%';\n",
       "            fill.style.animation = 'none';\n",
       "            fill.style.backgroundImage = 'none'\n",
       "        \n",
       "                  \n",
       "                fill.style.animation = 'none';\n",
       "                fill.style.backgroundImage = 'none';\n",
       "            \n",
       "              })();\n",
       "        "
      ],
      "text/plain": [
       "<IPython.core.display.Javascript object>"
      ]
     },
     "metadata": {},
     "output_type": "display_data"
    },
    {
     "name": "stdout",
     "output_type": "stream",
     "text": [
      "seed = 13\n",
      "backend = 'nengo_ocl'\n",
      "dt = 0.001\n",
      "neuron_type = 'default'\n",
      "n_neurons_scale = 1\n",
      "s_crosstalk = 0\n",
      "s_evidence = None\n",
      "t_senso = 0\n",
      "vocab = <nengo_spa.vocabulary.Vocabulary object at 0x7fe8a4987ad0>\n",
      "xp = <experiments.Xp1 object at 0x7fe8a736c8d0>\n",
      "proc_feedback = 0.9\n",
      "proc_feedback_synapse = 0.005\n",
      "GW_feedback = 1\n",
      "GW_threshold = 0.5\n",
      "GW_scale = 2\n",
      "BG_thr = 0.1\n",
      "BG_bias = 0.5\n",
      "integrator_reset = True\n",
      "data = <data.Data object at 0x7fe8aeff3e50>\n",
      "\t seed 14/20\n",
      "running run_seed14_dim80\n"
     ]
    },
    {
     "data": {
      "text/html": [
       "\n",
       "                <div id=\"fc89160e-97cf-4e5d-9cac-fc6783d69d92\" style=\"\n",
       "                    width: 100%;\n",
       "                    border: 1px solid #cfcfcf;\n",
       "                    border-radius: 4px;\n",
       "                    text-align: center;\n",
       "                    position: relative;\">\n",
       "                  <div class=\"pb-text\" style=\"\n",
       "                      position: absolute;\n",
       "                      width: 100%;\">\n",
       "                    0%\n",
       "                  </div>\n",
       "                  <div class=\"pb-fill\" style=\"\n",
       "                      background-color: #bdd2e6;\n",
       "                      width: 0%;\">\n",
       "                    <style type=\"text/css\" scoped=\"scoped\">\n",
       "                        @keyframes pb-fill-anim {\n",
       "                            0% { background-position: 0 0; }\n",
       "                            100% { background-position: 100px 0; }\n",
       "                        }\n",
       "                    </style>\n",
       "                    &nbsp;\n",
       "                  </div>\n",
       "                </div>"
      ],
      "text/plain": [
       "HtmlProgressBar cannot be displayed. Please use the TerminalProgressBar. It can be enabled with `nengo.rc.set('progress', 'progress_bar', 'nengo.utils.progress.TerminalProgressBar')`."
      ]
     },
     "metadata": {},
     "output_type": "display_data"
    },
    {
     "data": {
      "application/javascript": [
       "\n",
       "              (function () {\n",
       "                  var root = document.getElementById('fc89160e-97cf-4e5d-9cac-fc6783d69d92');\n",
       "                  var text = root.getElementsByClassName('pb-text')[0];\n",
       "                  var fill = root.getElementsByClassName('pb-fill')[0];\n",
       "\n",
       "                  text.innerHTML = 'Simulation finished in 0:01:52.';\n",
       "                  \n",
       "            if (100.0 > 0.) {\n",
       "                fill.style.transition = 'width 0.1s linear';\n",
       "            } else {\n",
       "                fill.style.transition = 'none';\n",
       "            }\n",
       "\n",
       "            fill.style.width = '100.0%';\n",
       "            fill.style.animation = 'none';\n",
       "            fill.style.backgroundImage = 'none'\n",
       "        \n",
       "                  \n",
       "                fill.style.animation = 'none';\n",
       "                fill.style.backgroundImage = 'none';\n",
       "            \n",
       "              })();\n",
       "        "
      ],
      "text/plain": [
       "<IPython.core.display.Javascript object>"
      ]
     },
     "metadata": {},
     "output_type": "display_data"
    },
    {
     "name": "stdout",
     "output_type": "stream",
     "text": [
      "seed = 14\n",
      "backend = 'nengo_ocl'\n",
      "dt = 0.001\n",
      "neuron_type = 'default'\n",
      "n_neurons_scale = 1\n",
      "s_crosstalk = 0\n",
      "s_evidence = None\n",
      "t_senso = 0\n",
      "vocab = <nengo_spa.vocabulary.Vocabulary object at 0x7fe8aedc3110>\n",
      "xp = <experiments.Xp1 object at 0x7fe8c1759350>\n",
      "proc_feedback = 0.9\n",
      "proc_feedback_synapse = 0.005\n",
      "GW_feedback = 1\n",
      "GW_threshold = 0.5\n",
      "GW_scale = 2\n",
      "BG_thr = 0.1\n",
      "BG_bias = 0.5\n",
      "integrator_reset = True\n",
      "data = <data.Data object at 0x7fe8e1784910>\n",
      "\t seed 15/20\n",
      "running run_seed15_dim80\n"
     ]
    },
    {
     "data": {
      "text/html": [
       "\n",
       "                <div id=\"c95c4c12-4dea-4cf3-bb6d-6575173234eb\" style=\"\n",
       "                    width: 100%;\n",
       "                    border: 1px solid #cfcfcf;\n",
       "                    border-radius: 4px;\n",
       "                    text-align: center;\n",
       "                    position: relative;\">\n",
       "                  <div class=\"pb-text\" style=\"\n",
       "                      position: absolute;\n",
       "                      width: 100%;\">\n",
       "                    0%\n",
       "                  </div>\n",
       "                  <div class=\"pb-fill\" style=\"\n",
       "                      background-color: #bdd2e6;\n",
       "                      width: 0%;\">\n",
       "                    <style type=\"text/css\" scoped=\"scoped\">\n",
       "                        @keyframes pb-fill-anim {\n",
       "                            0% { background-position: 0 0; }\n",
       "                            100% { background-position: 100px 0; }\n",
       "                        }\n",
       "                    </style>\n",
       "                    &nbsp;\n",
       "                  </div>\n",
       "                </div>"
      ],
      "text/plain": [
       "HtmlProgressBar cannot be displayed. Please use the TerminalProgressBar. It can be enabled with `nengo.rc.set('progress', 'progress_bar', 'nengo.utils.progress.TerminalProgressBar')`."
      ]
     },
     "metadata": {},
     "output_type": "display_data"
    },
    {
     "data": {
      "application/javascript": [
       "\n",
       "              (function () {\n",
       "                  var root = document.getElementById('c95c4c12-4dea-4cf3-bb6d-6575173234eb');\n",
       "                  var text = root.getElementsByClassName('pb-text')[0];\n",
       "                  var fill = root.getElementsByClassName('pb-fill')[0];\n",
       "\n",
       "                  text.innerHTML = 'Simulation finished in 0:01:46.';\n",
       "                  \n",
       "            if (100.0 > 0.) {\n",
       "                fill.style.transition = 'width 0.1s linear';\n",
       "            } else {\n",
       "                fill.style.transition = 'none';\n",
       "            }\n",
       "\n",
       "            fill.style.width = '100.0%';\n",
       "            fill.style.animation = 'none';\n",
       "            fill.style.backgroundImage = 'none'\n",
       "        \n",
       "                  \n",
       "                fill.style.animation = 'none';\n",
       "                fill.style.backgroundImage = 'none';\n",
       "            \n",
       "              })();\n",
       "        "
      ],
      "text/plain": [
       "<IPython.core.display.Javascript object>"
      ]
     },
     "metadata": {},
     "output_type": "display_data"
    },
    {
     "name": "stdout",
     "output_type": "stream",
     "text": [
      "seed = 15\n",
      "backend = 'nengo_ocl'\n",
      "dt = 0.001\n",
      "neuron_type = 'default'\n",
      "n_neurons_scale = 1\n",
      "s_crosstalk = 0\n",
      "s_evidence = None\n",
      "t_senso = 0\n",
      "vocab = <nengo_spa.vocabulary.Vocabulary object at 0x7fe8a7343590>\n",
      "xp = <experiments.Xp1 object at 0x7fe8aef90c10>\n",
      "proc_feedback = 0.9\n",
      "proc_feedback_synapse = 0.005\n",
      "GW_feedback = 1\n",
      "GW_threshold = 0.5\n",
      "GW_scale = 2\n",
      "BG_thr = 0.1\n",
      "BG_bias = 0.5\n",
      "integrator_reset = True\n",
      "data = <data.Data object at 0x7fe8acf16f90>\n",
      "\t seed 16/20\n",
      "running run_seed16_dim80\n"
     ]
    },
    {
     "data": {
      "text/html": [
       "\n",
       "                <div id=\"8a2856f0-85d1-4c56-80ca-a496eee5ccb9\" style=\"\n",
       "                    width: 100%;\n",
       "                    border: 1px solid #cfcfcf;\n",
       "                    border-radius: 4px;\n",
       "                    text-align: center;\n",
       "                    position: relative;\">\n",
       "                  <div class=\"pb-text\" style=\"\n",
       "                      position: absolute;\n",
       "                      width: 100%;\">\n",
       "                    0%\n",
       "                  </div>\n",
       "                  <div class=\"pb-fill\" style=\"\n",
       "                      background-color: #bdd2e6;\n",
       "                      width: 0%;\">\n",
       "                    <style type=\"text/css\" scoped=\"scoped\">\n",
       "                        @keyframes pb-fill-anim {\n",
       "                            0% { background-position: 0 0; }\n",
       "                            100% { background-position: 100px 0; }\n",
       "                        }\n",
       "                    </style>\n",
       "                    &nbsp;\n",
       "                  </div>\n",
       "                </div>"
      ],
      "text/plain": [
       "HtmlProgressBar cannot be displayed. Please use the TerminalProgressBar. It can be enabled with `nengo.rc.set('progress', 'progress_bar', 'nengo.utils.progress.TerminalProgressBar')`."
      ]
     },
     "metadata": {},
     "output_type": "display_data"
    },
    {
     "data": {
      "application/javascript": [
       "\n",
       "              (function () {\n",
       "                  var root = document.getElementById('8a2856f0-85d1-4c56-80ca-a496eee5ccb9');\n",
       "                  var text = root.getElementsByClassName('pb-text')[0];\n",
       "                  var fill = root.getElementsByClassName('pb-fill')[0];\n",
       "\n",
       "                  text.innerHTML = 'Simulation finished in 0:01:48.';\n",
       "                  \n",
       "            if (100.0 > 0.) {\n",
       "                fill.style.transition = 'width 0.1s linear';\n",
       "            } else {\n",
       "                fill.style.transition = 'none';\n",
       "            }\n",
       "\n",
       "            fill.style.width = '100.0%';\n",
       "            fill.style.animation = 'none';\n",
       "            fill.style.backgroundImage = 'none'\n",
       "        \n",
       "                  \n",
       "                fill.style.animation = 'none';\n",
       "                fill.style.backgroundImage = 'none';\n",
       "            \n",
       "              })();\n",
       "        "
      ],
      "text/plain": [
       "<IPython.core.display.Javascript object>"
      ]
     },
     "metadata": {},
     "output_type": "display_data"
    },
    {
     "name": "stdout",
     "output_type": "stream",
     "text": [
      "seed = 16\n",
      "backend = 'nengo_ocl'\n",
      "dt = 0.001\n",
      "neuron_type = 'default'\n",
      "n_neurons_scale = 1\n",
      "s_crosstalk = 0\n",
      "s_evidence = None\n",
      "t_senso = 0\n",
      "vocab = <nengo_spa.vocabulary.Vocabulary object at 0x7fe8e072b390>\n",
      "xp = <experiments.Xp1 object at 0x7fe8e072bfd0>\n",
      "proc_feedback = 0.9\n",
      "proc_feedback_synapse = 0.005\n",
      "GW_feedback = 1\n",
      "GW_threshold = 0.5\n",
      "GW_scale = 2\n",
      "BG_thr = 0.1\n",
      "BG_bias = 0.5\n",
      "integrator_reset = True\n",
      "data = <data.Data object at 0x7fe8e148b990>\n",
      "\t seed 17/20\n",
      "running run_seed17_dim80\n"
     ]
    },
    {
     "data": {
      "text/html": [
       "\n",
       "                <div id=\"5cc54626-645c-4821-a9cc-9238fc8e1f7e\" style=\"\n",
       "                    width: 100%;\n",
       "                    border: 1px solid #cfcfcf;\n",
       "                    border-radius: 4px;\n",
       "                    text-align: center;\n",
       "                    position: relative;\">\n",
       "                  <div class=\"pb-text\" style=\"\n",
       "                      position: absolute;\n",
       "                      width: 100%;\">\n",
       "                    0%\n",
       "                  </div>\n",
       "                  <div class=\"pb-fill\" style=\"\n",
       "                      background-color: #bdd2e6;\n",
       "                      width: 0%;\">\n",
       "                    <style type=\"text/css\" scoped=\"scoped\">\n",
       "                        @keyframes pb-fill-anim {\n",
       "                            0% { background-position: 0 0; }\n",
       "                            100% { background-position: 100px 0; }\n",
       "                        }\n",
       "                    </style>\n",
       "                    &nbsp;\n",
       "                  </div>\n",
       "                </div>"
      ],
      "text/plain": [
       "HtmlProgressBar cannot be displayed. Please use the TerminalProgressBar. It can be enabled with `nengo.rc.set('progress', 'progress_bar', 'nengo.utils.progress.TerminalProgressBar')`."
      ]
     },
     "metadata": {},
     "output_type": "display_data"
    },
    {
     "data": {
      "application/javascript": [
       "\n",
       "              (function () {\n",
       "                  var root = document.getElementById('5cc54626-645c-4821-a9cc-9238fc8e1f7e');\n",
       "                  var text = root.getElementsByClassName('pb-text')[0];\n",
       "                  var fill = root.getElementsByClassName('pb-fill')[0];\n",
       "\n",
       "                  text.innerHTML = 'Simulation finished in 0:01:41.';\n",
       "                  \n",
       "            if (100.0 > 0.) {\n",
       "                fill.style.transition = 'width 0.1s linear';\n",
       "            } else {\n",
       "                fill.style.transition = 'none';\n",
       "            }\n",
       "\n",
       "            fill.style.width = '100.0%';\n",
       "            fill.style.animation = 'none';\n",
       "            fill.style.backgroundImage = 'none'\n",
       "        \n",
       "                  \n",
       "                fill.style.animation = 'none';\n",
       "                fill.style.backgroundImage = 'none';\n",
       "            \n",
       "              })();\n",
       "        "
      ],
      "text/plain": [
       "<IPython.core.display.Javascript object>"
      ]
     },
     "metadata": {},
     "output_type": "display_data"
    },
    {
     "name": "stdout",
     "output_type": "stream",
     "text": [
      "seed = 17\n",
      "backend = 'nengo_ocl'\n",
      "dt = 0.001\n",
      "neuron_type = 'default'\n",
      "n_neurons_scale = 1\n",
      "s_crosstalk = 0\n",
      "s_evidence = None\n",
      "t_senso = 0\n",
      "vocab = <nengo_spa.vocabulary.Vocabulary object at 0x7fe8e148bbd0>\n",
      "xp = <experiments.Xp1 object at 0x7fe8e072bd50>\n",
      "proc_feedback = 0.9\n",
      "proc_feedback_synapse = 0.005\n",
      "GW_feedback = 1\n",
      "GW_threshold = 0.5\n",
      "GW_scale = 2\n",
      "BG_thr = 0.1\n",
      "BG_bias = 0.5\n",
      "integrator_reset = True\n",
      "data = <data.Data object at 0x7fe8c1772b10>\n",
      "\t seed 18/20\n",
      "running run_seed18_dim80\n"
     ]
    },
    {
     "data": {
      "text/html": [
       "\n",
       "                <div id=\"4928fefb-045a-4423-b8d1-33d2c4e46037\" style=\"\n",
       "                    width: 100%;\n",
       "                    border: 1px solid #cfcfcf;\n",
       "                    border-radius: 4px;\n",
       "                    text-align: center;\n",
       "                    position: relative;\">\n",
       "                  <div class=\"pb-text\" style=\"\n",
       "                      position: absolute;\n",
       "                      width: 100%;\">\n",
       "                    0%\n",
       "                  </div>\n",
       "                  <div class=\"pb-fill\" style=\"\n",
       "                      background-color: #bdd2e6;\n",
       "                      width: 0%;\">\n",
       "                    <style type=\"text/css\" scoped=\"scoped\">\n",
       "                        @keyframes pb-fill-anim {\n",
       "                            0% { background-position: 0 0; }\n",
       "                            100% { background-position: 100px 0; }\n",
       "                        }\n",
       "                    </style>\n",
       "                    &nbsp;\n",
       "                  </div>\n",
       "                </div>"
      ],
      "text/plain": [
       "HtmlProgressBar cannot be displayed. Please use the TerminalProgressBar. It can be enabled with `nengo.rc.set('progress', 'progress_bar', 'nengo.utils.progress.TerminalProgressBar')`."
      ]
     },
     "metadata": {},
     "output_type": "display_data"
    },
    {
     "data": {
      "application/javascript": [
       "\n",
       "              (function () {\n",
       "                  var root = document.getElementById('4928fefb-045a-4423-b8d1-33d2c4e46037');\n",
       "                  var text = root.getElementsByClassName('pb-text')[0];\n",
       "                  var fill = root.getElementsByClassName('pb-fill')[0];\n",
       "\n",
       "                  text.innerHTML = 'Simulation finished in 0:01:38.';\n",
       "                  \n",
       "            if (100.0 > 0.) {\n",
       "                fill.style.transition = 'width 0.1s linear';\n",
       "            } else {\n",
       "                fill.style.transition = 'none';\n",
       "            }\n",
       "\n",
       "            fill.style.width = '100.0%';\n",
       "            fill.style.animation = 'none';\n",
       "            fill.style.backgroundImage = 'none'\n",
       "        \n",
       "                  \n",
       "                fill.style.animation = 'none';\n",
       "                fill.style.backgroundImage = 'none';\n",
       "            \n",
       "              })();\n",
       "        "
      ],
      "text/plain": [
       "<IPython.core.display.Javascript object>"
      ]
     },
     "metadata": {},
     "output_type": "display_data"
    },
    {
     "name": "stdout",
     "output_type": "stream",
     "text": [
      "seed = 18\n",
      "backend = 'nengo_ocl'\n",
      "dt = 0.001\n",
      "neuron_type = 'default'\n",
      "n_neurons_scale = 1\n",
      "s_crosstalk = 0\n",
      "s_evidence = None\n",
      "t_senso = 0\n",
      "vocab = <nengo_spa.vocabulary.Vocabulary object at 0x7fe8e17c9790>\n",
      "xp = <experiments.Xp1 object at 0x7fe8e17f9ed0>\n",
      "proc_feedback = 0.9\n",
      "proc_feedback_synapse = 0.005\n",
      "GW_feedback = 1\n",
      "GW_threshold = 0.5\n",
      "GW_scale = 2\n",
      "BG_thr = 0.1\n",
      "BG_bias = 0.5\n",
      "integrator_reset = True\n",
      "data = <data.Data object at 0x7fe8a4074590>\n",
      "\t seed 19/20\n",
      "running run_seed19_dim80\n"
     ]
    },
    {
     "name": "stderr",
     "output_type": "stream",
     "text": [
      "/home/ubuntu/anaconda3/envs/CTN/lib/python3.7/site-packages/nengo_spa/vocabulary.py:173: UserWarning: Could not create a semantic pointer with max_similarity=0.10 (D=80, M=18, similarity=0.10)\n",
      "  len(self._key2idx), best_sim))\n"
     ]
    },
    {
     "data": {
      "text/html": [
       "\n",
       "                <div id=\"ceb45c24-3dd9-4afd-81c6-c838850aa938\" style=\"\n",
       "                    width: 100%;\n",
       "                    border: 1px solid #cfcfcf;\n",
       "                    border-radius: 4px;\n",
       "                    text-align: center;\n",
       "                    position: relative;\">\n",
       "                  <div class=\"pb-text\" style=\"\n",
       "                      position: absolute;\n",
       "                      width: 100%;\">\n",
       "                    0%\n",
       "                  </div>\n",
       "                  <div class=\"pb-fill\" style=\"\n",
       "                      background-color: #bdd2e6;\n",
       "                      width: 0%;\">\n",
       "                    <style type=\"text/css\" scoped=\"scoped\">\n",
       "                        @keyframes pb-fill-anim {\n",
       "                            0% { background-position: 0 0; }\n",
       "                            100% { background-position: 100px 0; }\n",
       "                        }\n",
       "                    </style>\n",
       "                    &nbsp;\n",
       "                  </div>\n",
       "                </div>"
      ],
      "text/plain": [
       "HtmlProgressBar cannot be displayed. Please use the TerminalProgressBar. It can be enabled with `nengo.rc.set('progress', 'progress_bar', 'nengo.utils.progress.TerminalProgressBar')`."
      ]
     },
     "metadata": {},
     "output_type": "display_data"
    },
    {
     "data": {
      "application/javascript": [
       "\n",
       "              (function () {\n",
       "                  var root = document.getElementById('ceb45c24-3dd9-4afd-81c6-c838850aa938');\n",
       "                  var text = root.getElementsByClassName('pb-text')[0];\n",
       "                  var fill = root.getElementsByClassName('pb-fill')[0];\n",
       "\n",
       "                  text.innerHTML = 'Simulation finished in 0:01:15.';\n",
       "                  \n",
       "            if (100.0 > 0.) {\n",
       "                fill.style.transition = 'width 0.1s linear';\n",
       "            } else {\n",
       "                fill.style.transition = 'none';\n",
       "            }\n",
       "\n",
       "            fill.style.width = '100.0%';\n",
       "            fill.style.animation = 'none';\n",
       "            fill.style.backgroundImage = 'none'\n",
       "        \n",
       "                  \n",
       "                fill.style.animation = 'none';\n",
       "                fill.style.backgroundImage = 'none';\n",
       "            \n",
       "              })();\n",
       "        "
      ],
      "text/plain": [
       "<IPython.core.display.Javascript object>"
      ]
     },
     "metadata": {},
     "output_type": "display_data"
    },
    {
     "name": "stdout",
     "output_type": "stream",
     "text": [
      "seed = 19\n",
      "backend = 'nengo_ocl'\n",
      "dt = 0.001\n",
      "neuron_type = 'default'\n",
      "n_neurons_scale = 1\n",
      "s_crosstalk = 0\n",
      "s_evidence = None\n",
      "t_senso = 0\n",
      "vocab = <nengo_spa.vocabulary.Vocabulary object at 0x7fe8e1cc4b10>\n",
      "xp = <experiments.Xp1 object at 0x7fe8c1719390>\n",
      "proc_feedback = 0.9\n",
      "proc_feedback_synapse = 0.005\n",
      "GW_feedback = 1\n",
      "GW_threshold = 0.5\n",
      "GW_scale = 2\n",
      "BG_thr = 0.1\n",
      "BG_bias = 0.5\n",
      "integrator_reset = True\n",
      "data = <data.Data object at 0x7fe8d8118b10>\n",
      "\t seed 20/20\n",
      "running run_seed20_dim80\n"
     ]
    },
    {
     "name": "stderr",
     "output_type": "stream",
     "text": [
      "/home/ubuntu/anaconda3/envs/CTN/lib/python3.7/site-packages/nengo_spa/vocabulary.py:173: UserWarning: Could not create a semantic pointer with max_similarity=0.10 (D=80, M=16, similarity=0.10)\n",
      "  len(self._key2idx), best_sim))\n"
     ]
    },
    {
     "data": {
      "text/html": [
       "\n",
       "                <div id=\"bac6882b-5674-40c9-83f9-73b5e15af262\" style=\"\n",
       "                    width: 100%;\n",
       "                    border: 1px solid #cfcfcf;\n",
       "                    border-radius: 4px;\n",
       "                    text-align: center;\n",
       "                    position: relative;\">\n",
       "                  <div class=\"pb-text\" style=\"\n",
       "                      position: absolute;\n",
       "                      width: 100%;\">\n",
       "                    0%\n",
       "                  </div>\n",
       "                  <div class=\"pb-fill\" style=\"\n",
       "                      background-color: #bdd2e6;\n",
       "                      width: 0%;\">\n",
       "                    <style type=\"text/css\" scoped=\"scoped\">\n",
       "                        @keyframes pb-fill-anim {\n",
       "                            0% { background-position: 0 0; }\n",
       "                            100% { background-position: 100px 0; }\n",
       "                        }\n",
       "                    </style>\n",
       "                    &nbsp;\n",
       "                  </div>\n",
       "                </div>"
      ],
      "text/plain": [
       "HtmlProgressBar cannot be displayed. Please use the TerminalProgressBar. It can be enabled with `nengo.rc.set('progress', 'progress_bar', 'nengo.utils.progress.TerminalProgressBar')`."
      ]
     },
     "metadata": {},
     "output_type": "display_data"
    },
    {
     "data": {
      "application/javascript": [
       "\n",
       "              (function () {\n",
       "                  var root = document.getElementById('bac6882b-5674-40c9-83f9-73b5e15af262');\n",
       "                  var text = root.getElementsByClassName('pb-text')[0];\n",
       "                  var fill = root.getElementsByClassName('pb-fill')[0];\n",
       "\n",
       "                  text.innerHTML = 'Simulation finished in 0:01:11.';\n",
       "                  \n",
       "            if (100.0 > 0.) {\n",
       "                fill.style.transition = 'width 0.1s linear';\n",
       "            } else {\n",
       "                fill.style.transition = 'none';\n",
       "            }\n",
       "\n",
       "            fill.style.width = '100.0%';\n",
       "            fill.style.animation = 'none';\n",
       "            fill.style.backgroundImage = 'none'\n",
       "        \n",
       "                  \n",
       "                fill.style.animation = 'none';\n",
       "                fill.style.backgroundImage = 'none';\n",
       "            \n",
       "              })();\n",
       "        "
      ],
      "text/plain": [
       "<IPython.core.display.Javascript object>"
      ]
     },
     "metadata": {},
     "output_type": "display_data"
    },
    {
     "name": "stdout",
     "output_type": "stream",
     "text": [
      "seed = 20\n",
      "backend = 'nengo_ocl'\n",
      "dt = 0.001\n",
      "neuron_type = 'default'\n",
      "n_neurons_scale = 1\n",
      "s_crosstalk = 0\n",
      "s_evidence = None\n",
      "t_senso = 0\n",
      "vocab = <nengo_spa.vocabulary.Vocabulary object at 0x7fe8a730d050>\n",
      "xp = <experiments.Xp1 object at 0x7fe8e19e7310>\n",
      "proc_feedback = 0.9\n",
      "proc_feedback_synapse = 0.005\n",
      "GW_feedback = 1\n",
      "GW_threshold = 0.5\n",
      "GW_scale = 2\n",
      "BG_thr = 0.1\n",
      "BG_bias = 0.5\n",
      "integrator_reset = True\n",
      "data = <data.Data object at 0x7fe8ad548410>\n",
      "error rate: 0.2520833333333333\n",
      "params: [6.]\n",
      "Simulating...\n",
      "\t seed 1/20\n",
      "running run_seed1_dim96\n"
     ]
    },
    {
     "data": {
      "text/html": [
       "\n",
       "                <div id=\"38a08e04-9d5f-4257-81f4-bba2d4e8387e\" style=\"\n",
       "                    width: 100%;\n",
       "                    border: 1px solid #cfcfcf;\n",
       "                    border-radius: 4px;\n",
       "                    text-align: center;\n",
       "                    position: relative;\">\n",
       "                  <div class=\"pb-text\" style=\"\n",
       "                      position: absolute;\n",
       "                      width: 100%;\">\n",
       "                    0%\n",
       "                  </div>\n",
       "                  <div class=\"pb-fill\" style=\"\n",
       "                      background-color: #bdd2e6;\n",
       "                      width: 0%;\">\n",
       "                    <style type=\"text/css\" scoped=\"scoped\">\n",
       "                        @keyframes pb-fill-anim {\n",
       "                            0% { background-position: 0 0; }\n",
       "                            100% { background-position: 100px 0; }\n",
       "                        }\n",
       "                    </style>\n",
       "                    &nbsp;\n",
       "                  </div>\n",
       "                </div>"
      ],
      "text/plain": [
       "HtmlProgressBar cannot be displayed. Please use the TerminalProgressBar. It can be enabled with `nengo.rc.set('progress', 'progress_bar', 'nengo.utils.progress.TerminalProgressBar')`."
      ]
     },
     "metadata": {},
     "output_type": "display_data"
    },
    {
     "data": {
      "application/javascript": [
       "\n",
       "              (function () {\n",
       "                  var root = document.getElementById('38a08e04-9d5f-4257-81f4-bba2d4e8387e');\n",
       "                  var text = root.getElementsByClassName('pb-text')[0];\n",
       "                  var fill = root.getElementsByClassName('pb-fill')[0];\n",
       "\n",
       "                  text.innerHTML = 'Simulation finished in 0:01:13.';\n",
       "                  \n",
       "            if (100.0 > 0.) {\n",
       "                fill.style.transition = 'width 0.1s linear';\n",
       "            } else {\n",
       "                fill.style.transition = 'none';\n",
       "            }\n",
       "\n",
       "            fill.style.width = '100.0%';\n",
       "            fill.style.animation = 'none';\n",
       "            fill.style.backgroundImage = 'none'\n",
       "        \n",
       "                  \n",
       "                fill.style.animation = 'none';\n",
       "                fill.style.backgroundImage = 'none';\n",
       "            \n",
       "              })();\n",
       "        "
      ],
      "text/plain": [
       "<IPython.core.display.Javascript object>"
      ]
     },
     "metadata": {},
     "output_type": "display_data"
    },
    {
     "name": "stdout",
     "output_type": "stream",
     "text": [
      "seed = 1\n",
      "backend = 'nengo_ocl'\n",
      "dt = 0.001\n",
      "neuron_type = 'default'\n",
      "n_neurons_scale = 1\n",
      "s_crosstalk = 0\n",
      "s_evidence = None\n",
      "t_senso = 0\n",
      "vocab = <nengo_spa.vocabulary.Vocabulary object at 0x7fe8e17fc590>\n",
      "xp = <experiments.Xp1 object at 0x7fe8ad6096d0>\n",
      "proc_feedback = 0.9\n",
      "proc_feedback_synapse = 0.005\n",
      "GW_feedback = 1\n",
      "GW_threshold = 0.5\n",
      "GW_scale = 2\n",
      "BG_thr = 0.1\n",
      "BG_bias = 0.5\n",
      "integrator_reset = True\n",
      "data = <data.Data object at 0x7fe8e186dd50>\n",
      "\t seed 2/20\n",
      "running run_seed2_dim96\n"
     ]
    },
    {
     "data": {
      "text/html": [
       "\n",
       "                <div id=\"0a73d3b6-5876-4276-9550-a3ba9950f60b\" style=\"\n",
       "                    width: 100%;\n",
       "                    border: 1px solid #cfcfcf;\n",
       "                    border-radius: 4px;\n",
       "                    text-align: center;\n",
       "                    position: relative;\">\n",
       "                  <div class=\"pb-text\" style=\"\n",
       "                      position: absolute;\n",
       "                      width: 100%;\">\n",
       "                    0%\n",
       "                  </div>\n",
       "                  <div class=\"pb-fill\" style=\"\n",
       "                      background-color: #bdd2e6;\n",
       "                      width: 0%;\">\n",
       "                    <style type=\"text/css\" scoped=\"scoped\">\n",
       "                        @keyframes pb-fill-anim {\n",
       "                            0% { background-position: 0 0; }\n",
       "                            100% { background-position: 100px 0; }\n",
       "                        }\n",
       "                    </style>\n",
       "                    &nbsp;\n",
       "                  </div>\n",
       "                </div>"
      ],
      "text/plain": [
       "HtmlProgressBar cannot be displayed. Please use the TerminalProgressBar. It can be enabled with `nengo.rc.set('progress', 'progress_bar', 'nengo.utils.progress.TerminalProgressBar')`."
      ]
     },
     "metadata": {},
     "output_type": "display_data"
    },
    {
     "data": {
      "application/javascript": [
       "\n",
       "              (function () {\n",
       "                  var root = document.getElementById('0a73d3b6-5876-4276-9550-a3ba9950f60b');\n",
       "                  var text = root.getElementsByClassName('pb-text')[0];\n",
       "                  var fill = root.getElementsByClassName('pb-fill')[0];\n",
       "\n",
       "                  text.innerHTML = 'Simulation finished in 0:01:10.';\n",
       "                  \n",
       "            if (100.0 > 0.) {\n",
       "                fill.style.transition = 'width 0.1s linear';\n",
       "            } else {\n",
       "                fill.style.transition = 'none';\n",
       "            }\n",
       "\n",
       "            fill.style.width = '100.0%';\n",
       "            fill.style.animation = 'none';\n",
       "            fill.style.backgroundImage = 'none'\n",
       "        \n",
       "                  \n",
       "                fill.style.animation = 'none';\n",
       "                fill.style.backgroundImage = 'none';\n",
       "            \n",
       "              })();\n",
       "        "
      ],
      "text/plain": [
       "<IPython.core.display.Javascript object>"
      ]
     },
     "metadata": {},
     "output_type": "display_data"
    },
    {
     "name": "stdout",
     "output_type": "stream",
     "text": [
      "seed = 2\n",
      "backend = 'nengo_ocl'\n",
      "dt = 0.001\n",
      "neuron_type = 'default'\n",
      "n_neurons_scale = 1\n",
      "s_crosstalk = 0\n",
      "s_evidence = None\n",
      "t_senso = 0\n",
      "vocab = <nengo_spa.vocabulary.Vocabulary object at 0x7fe8acc4e250>\n",
      "xp = <experiments.Xp1 object at 0x7fe8e0723c90>\n",
      "proc_feedback = 0.9\n",
      "proc_feedback_synapse = 0.005\n",
      "GW_feedback = 1\n",
      "GW_threshold = 0.5\n",
      "GW_scale = 2\n",
      "BG_thr = 0.1\n",
      "BG_bias = 0.5\n",
      "integrator_reset = True\n",
      "data = <data.Data object at 0x7fe8adf418d0>\n",
      "\t seed 3/20\n",
      "running run_seed3_dim96\n"
     ]
    },
    {
     "data": {
      "text/html": [
       "\n",
       "                <div id=\"a411432e-121e-4b39-a651-d8775b22b718\" style=\"\n",
       "                    width: 100%;\n",
       "                    border: 1px solid #cfcfcf;\n",
       "                    border-radius: 4px;\n",
       "                    text-align: center;\n",
       "                    position: relative;\">\n",
       "                  <div class=\"pb-text\" style=\"\n",
       "                      position: absolute;\n",
       "                      width: 100%;\">\n",
       "                    0%\n",
       "                  </div>\n",
       "                  <div class=\"pb-fill\" style=\"\n",
       "                      background-color: #bdd2e6;\n",
       "                      width: 0%;\">\n",
       "                    <style type=\"text/css\" scoped=\"scoped\">\n",
       "                        @keyframes pb-fill-anim {\n",
       "                            0% { background-position: 0 0; }\n",
       "                            100% { background-position: 100px 0; }\n",
       "                        }\n",
       "                    </style>\n",
       "                    &nbsp;\n",
       "                  </div>\n",
       "                </div>"
      ],
      "text/plain": [
       "HtmlProgressBar cannot be displayed. Please use the TerminalProgressBar. It can be enabled with `nengo.rc.set('progress', 'progress_bar', 'nengo.utils.progress.TerminalProgressBar')`."
      ]
     },
     "metadata": {},
     "output_type": "display_data"
    },
    {
     "data": {
      "application/javascript": [
       "\n",
       "              (function () {\n",
       "                  var root = document.getElementById('a411432e-121e-4b39-a651-d8775b22b718');\n",
       "                  var text = root.getElementsByClassName('pb-text')[0];\n",
       "                  var fill = root.getElementsByClassName('pb-fill')[0];\n",
       "\n",
       "                  text.innerHTML = 'Simulation finished in 0:01:12.';\n",
       "                  \n",
       "            if (100.0 > 0.) {\n",
       "                fill.style.transition = 'width 0.1s linear';\n",
       "            } else {\n",
       "                fill.style.transition = 'none';\n",
       "            }\n",
       "\n",
       "            fill.style.width = '100.0%';\n",
       "            fill.style.animation = 'none';\n",
       "            fill.style.backgroundImage = 'none'\n",
       "        \n",
       "                  \n",
       "                fill.style.animation = 'none';\n",
       "                fill.style.backgroundImage = 'none';\n",
       "            \n",
       "              })();\n",
       "        "
      ],
      "text/plain": [
       "<IPython.core.display.Javascript object>"
      ]
     },
     "metadata": {},
     "output_type": "display_data"
    },
    {
     "name": "stdout",
     "output_type": "stream",
     "text": [
      "seed = 3\n",
      "backend = 'nengo_ocl'\n",
      "dt = 0.001\n",
      "neuron_type = 'default'\n",
      "n_neurons_scale = 1\n",
      "s_crosstalk = 0\n",
      "s_evidence = None\n",
      "t_senso = 0\n",
      "vocab = <nengo_spa.vocabulary.Vocabulary object at 0x7fe8cd016710>\n",
      "xp = <experiments.Xp1 object at 0x7fe8c1700390>\n",
      "proc_feedback = 0.9\n",
      "proc_feedback_synapse = 0.005\n",
      "GW_feedback = 1\n",
      "GW_threshold = 0.5\n",
      "GW_scale = 2\n",
      "BG_thr = 0.1\n",
      "BG_bias = 0.5\n",
      "integrator_reset = True\n",
      "data = <data.Data object at 0x7fe8cd016750>\n",
      "\t seed 4/20\n",
      "running run_seed4_dim96\n"
     ]
    },
    {
     "name": "stderr",
     "output_type": "stream",
     "text": [
      "/home/ubuntu/anaconda3/envs/CTN/lib/python3.7/site-packages/nengo_spa/vocabulary.py:173: UserWarning: Could not create a semantic pointer with max_similarity=0.10 (D=96, M=19, similarity=0.11)\n",
      "  len(self._key2idx), best_sim))\n"
     ]
    },
    {
     "data": {
      "text/html": [
       "\n",
       "                <div id=\"dd36c7f9-b76a-41d2-ac68-3faed143a09b\" style=\"\n",
       "                    width: 100%;\n",
       "                    border: 1px solid #cfcfcf;\n",
       "                    border-radius: 4px;\n",
       "                    text-align: center;\n",
       "                    position: relative;\">\n",
       "                  <div class=\"pb-text\" style=\"\n",
       "                      position: absolute;\n",
       "                      width: 100%;\">\n",
       "                    0%\n",
       "                  </div>\n",
       "                  <div class=\"pb-fill\" style=\"\n",
       "                      background-color: #bdd2e6;\n",
       "                      width: 0%;\">\n",
       "                    <style type=\"text/css\" scoped=\"scoped\">\n",
       "                        @keyframes pb-fill-anim {\n",
       "                            0% { background-position: 0 0; }\n",
       "                            100% { background-position: 100px 0; }\n",
       "                        }\n",
       "                    </style>\n",
       "                    &nbsp;\n",
       "                  </div>\n",
       "                </div>"
      ],
      "text/plain": [
       "HtmlProgressBar cannot be displayed. Please use the TerminalProgressBar. It can be enabled with `nengo.rc.set('progress', 'progress_bar', 'nengo.utils.progress.TerminalProgressBar')`."
      ]
     },
     "metadata": {},
     "output_type": "display_data"
    },
    {
     "data": {
      "application/javascript": [
       "\n",
       "              (function () {\n",
       "                  var root = document.getElementById('dd36c7f9-b76a-41d2-ac68-3faed143a09b');\n",
       "                  var text = root.getElementsByClassName('pb-text')[0];\n",
       "                  var fill = root.getElementsByClassName('pb-fill')[0];\n",
       "\n",
       "                  text.innerHTML = 'Simulation finished in 0:01:17.';\n",
       "                  \n",
       "            if (100.0 > 0.) {\n",
       "                fill.style.transition = 'width 0.1s linear';\n",
       "            } else {\n",
       "                fill.style.transition = 'none';\n",
       "            }\n",
       "\n",
       "            fill.style.width = '100.0%';\n",
       "            fill.style.animation = 'none';\n",
       "            fill.style.backgroundImage = 'none'\n",
       "        \n",
       "                  \n",
       "                fill.style.animation = 'none';\n",
       "                fill.style.backgroundImage = 'none';\n",
       "            \n",
       "              })();\n",
       "        "
      ],
      "text/plain": [
       "<IPython.core.display.Javascript object>"
      ]
     },
     "metadata": {},
     "output_type": "display_data"
    },
    {
     "name": "stdout",
     "output_type": "stream",
     "text": [
      "seed = 4\n",
      "backend = 'nengo_ocl'\n",
      "dt = 0.001\n",
      "neuron_type = 'default'\n",
      "n_neurons_scale = 1\n",
      "s_crosstalk = 0\n",
      "s_evidence = None\n",
      "t_senso = 0\n",
      "vocab = <nengo_spa.vocabulary.Vocabulary object at 0x7fe8c1755c90>\n",
      "xp = <experiments.Xp1 object at 0x7fe8c1755d50>\n",
      "proc_feedback = 0.9\n",
      "proc_feedback_synapse = 0.005\n",
      "GW_feedback = 1\n",
      "GW_threshold = 0.5\n",
      "GW_scale = 2\n",
      "BG_thr = 0.1\n",
      "BG_bias = 0.5\n",
      "integrator_reset = True\n",
      "data = <data.Data object at 0x7fe8a742b650>\n",
      "\t seed 5/20\n",
      "running run_seed5_dim96\n"
     ]
    },
    {
     "name": "stderr",
     "output_type": "stream",
     "text": [
      "/home/ubuntu/anaconda3/envs/CTN/lib/python3.7/site-packages/nengo_spa/vocabulary.py:173: UserWarning: Could not create a semantic pointer with max_similarity=0.10 (D=96, M=21, similarity=0.11)\n",
      "  len(self._key2idx), best_sim))\n"
     ]
    },
    {
     "data": {
      "text/html": [
       "\n",
       "                <div id=\"c02dd72a-1196-4910-87ac-932ed7f42dbd\" style=\"\n",
       "                    width: 100%;\n",
       "                    border: 1px solid #cfcfcf;\n",
       "                    border-radius: 4px;\n",
       "                    text-align: center;\n",
       "                    position: relative;\">\n",
       "                  <div class=\"pb-text\" style=\"\n",
       "                      position: absolute;\n",
       "                      width: 100%;\">\n",
       "                    0%\n",
       "                  </div>\n",
       "                  <div class=\"pb-fill\" style=\"\n",
       "                      background-color: #bdd2e6;\n",
       "                      width: 0%;\">\n",
       "                    <style type=\"text/css\" scoped=\"scoped\">\n",
       "                        @keyframes pb-fill-anim {\n",
       "                            0% { background-position: 0 0; }\n",
       "                            100% { background-position: 100px 0; }\n",
       "                        }\n",
       "                    </style>\n",
       "                    &nbsp;\n",
       "                  </div>\n",
       "                </div>"
      ],
      "text/plain": [
       "HtmlProgressBar cannot be displayed. Please use the TerminalProgressBar. It can be enabled with `nengo.rc.set('progress', 'progress_bar', 'nengo.utils.progress.TerminalProgressBar')`."
      ]
     },
     "metadata": {},
     "output_type": "display_data"
    },
    {
     "data": {
      "application/javascript": [
       "\n",
       "              (function () {\n",
       "                  var root = document.getElementById('c02dd72a-1196-4910-87ac-932ed7f42dbd');\n",
       "                  var text = root.getElementsByClassName('pb-text')[0];\n",
       "                  var fill = root.getElementsByClassName('pb-fill')[0];\n",
       "\n",
       "                  text.innerHTML = 'Simulation finished in 0:01:13.';\n",
       "                  \n",
       "            if (100.0 > 0.) {\n",
       "                fill.style.transition = 'width 0.1s linear';\n",
       "            } else {\n",
       "                fill.style.transition = 'none';\n",
       "            }\n",
       "\n",
       "            fill.style.width = '100.0%';\n",
       "            fill.style.animation = 'none';\n",
       "            fill.style.backgroundImage = 'none'\n",
       "        \n",
       "                  \n",
       "                fill.style.animation = 'none';\n",
       "                fill.style.backgroundImage = 'none';\n",
       "            \n",
       "              })();\n",
       "        "
      ],
      "text/plain": [
       "<IPython.core.display.Javascript object>"
      ]
     },
     "metadata": {},
     "output_type": "display_data"
    },
    {
     "name": "stdout",
     "output_type": "stream",
     "text": [
      "seed = 5\n",
      "backend = 'nengo_ocl'\n",
      "dt = 0.001\n",
      "neuron_type = 'default'\n",
      "n_neurons_scale = 1\n",
      "s_crosstalk = 0\n",
      "s_evidence = None\n",
      "t_senso = 0\n",
      "vocab = <nengo_spa.vocabulary.Vocabulary object at 0x7fe8e169c5d0>\n",
      "xp = <experiments.Xp1 object at 0x7fe8e169cb50>\n",
      "proc_feedback = 0.9\n",
      "proc_feedback_synapse = 0.005\n",
      "GW_feedback = 1\n",
      "GW_threshold = 0.5\n",
      "GW_scale = 2\n",
      "BG_thr = 0.1\n",
      "BG_bias = 0.5\n",
      "integrator_reset = True\n",
      "data = <data.Data object at 0x7fe8c1759610>\n",
      "\t seed 6/20\n",
      "running run_seed6_dim96\n"
     ]
    },
    {
     "data": {
      "text/html": [
       "\n",
       "                <div id=\"a1db29c8-e937-4af4-a627-d7bdabc2f467\" style=\"\n",
       "                    width: 100%;\n",
       "                    border: 1px solid #cfcfcf;\n",
       "                    border-radius: 4px;\n",
       "                    text-align: center;\n",
       "                    position: relative;\">\n",
       "                  <div class=\"pb-text\" style=\"\n",
       "                      position: absolute;\n",
       "                      width: 100%;\">\n",
       "                    0%\n",
       "                  </div>\n",
       "                  <div class=\"pb-fill\" style=\"\n",
       "                      background-color: #bdd2e6;\n",
       "                      width: 0%;\">\n",
       "                    <style type=\"text/css\" scoped=\"scoped\">\n",
       "                        @keyframes pb-fill-anim {\n",
       "                            0% { background-position: 0 0; }\n",
       "                            100% { background-position: 100px 0; }\n",
       "                        }\n",
       "                    </style>\n",
       "                    &nbsp;\n",
       "                  </div>\n",
       "                </div>"
      ],
      "text/plain": [
       "HtmlProgressBar cannot be displayed. Please use the TerminalProgressBar. It can be enabled with `nengo.rc.set('progress', 'progress_bar', 'nengo.utils.progress.TerminalProgressBar')`."
      ]
     },
     "metadata": {},
     "output_type": "display_data"
    },
    {
     "data": {
      "application/javascript": [
       "\n",
       "              (function () {\n",
       "                  var root = document.getElementById('a1db29c8-e937-4af4-a627-d7bdabc2f467');\n",
       "                  var text = root.getElementsByClassName('pb-text')[0];\n",
       "                  var fill = root.getElementsByClassName('pb-fill')[0];\n",
       "\n",
       "                  text.innerHTML = 'Simulation finished in 0:01:13.';\n",
       "                  \n",
       "            if (100.0 > 0.) {\n",
       "                fill.style.transition = 'width 0.1s linear';\n",
       "            } else {\n",
       "                fill.style.transition = 'none';\n",
       "            }\n",
       "\n",
       "            fill.style.width = '100.0%';\n",
       "            fill.style.animation = 'none';\n",
       "            fill.style.backgroundImage = 'none'\n",
       "        \n",
       "                  \n",
       "                fill.style.animation = 'none';\n",
       "                fill.style.backgroundImage = 'none';\n",
       "            \n",
       "              })();\n",
       "        "
      ],
      "text/plain": [
       "<IPython.core.display.Javascript object>"
      ]
     },
     "metadata": {},
     "output_type": "display_data"
    },
    {
     "name": "stdout",
     "output_type": "stream",
     "text": [
      "seed = 6\n",
      "backend = 'nengo_ocl'\n",
      "dt = 0.001\n",
      "neuron_type = 'default'\n",
      "n_neurons_scale = 1\n",
      "s_crosstalk = 0\n",
      "s_evidence = None\n",
      "t_senso = 0\n",
      "vocab = <nengo_spa.vocabulary.Vocabulary object at 0x7fe8c1755690>\n",
      "xp = <experiments.Xp1 object at 0x7fe88873c150>\n",
      "proc_feedback = 0.9\n",
      "proc_feedback_synapse = 0.005\n",
      "GW_feedback = 1\n",
      "GW_threshold = 0.5\n",
      "GW_scale = 2\n",
      "BG_thr = 0.1\n",
      "BG_bias = 0.5\n",
      "integrator_reset = True\n",
      "data = <data.Data object at 0x7fe8a6eb5710>\n",
      "\t seed 7/20\n",
      "running run_seed7_dim96\n"
     ]
    },
    {
     "data": {
      "text/html": [
       "\n",
       "                <div id=\"3b47f541-7611-4444-9ad8-6d47ab271b98\" style=\"\n",
       "                    width: 100%;\n",
       "                    border: 1px solid #cfcfcf;\n",
       "                    border-radius: 4px;\n",
       "                    text-align: center;\n",
       "                    position: relative;\">\n",
       "                  <div class=\"pb-text\" style=\"\n",
       "                      position: absolute;\n",
       "                      width: 100%;\">\n",
       "                    0%\n",
       "                  </div>\n",
       "                  <div class=\"pb-fill\" style=\"\n",
       "                      background-color: #bdd2e6;\n",
       "                      width: 0%;\">\n",
       "                    <style type=\"text/css\" scoped=\"scoped\">\n",
       "                        @keyframes pb-fill-anim {\n",
       "                            0% { background-position: 0 0; }\n",
       "                            100% { background-position: 100px 0; }\n",
       "                        }\n",
       "                    </style>\n",
       "                    &nbsp;\n",
       "                  </div>\n",
       "                </div>"
      ],
      "text/plain": [
       "HtmlProgressBar cannot be displayed. Please use the TerminalProgressBar. It can be enabled with `nengo.rc.set('progress', 'progress_bar', 'nengo.utils.progress.TerminalProgressBar')`."
      ]
     },
     "metadata": {},
     "output_type": "display_data"
    },
    {
     "data": {
      "application/javascript": [
       "\n",
       "              (function () {\n",
       "                  var root = document.getElementById('3b47f541-7611-4444-9ad8-6d47ab271b98');\n",
       "                  var text = root.getElementsByClassName('pb-text')[0];\n",
       "                  var fill = root.getElementsByClassName('pb-fill')[0];\n",
       "\n",
       "                  text.innerHTML = 'Simulation finished in 0:01:14.';\n",
       "                  \n",
       "            if (100.0 > 0.) {\n",
       "                fill.style.transition = 'width 0.1s linear';\n",
       "            } else {\n",
       "                fill.style.transition = 'none';\n",
       "            }\n",
       "\n",
       "            fill.style.width = '100.0%';\n",
       "            fill.style.animation = 'none';\n",
       "            fill.style.backgroundImage = 'none'\n",
       "        \n",
       "                  \n",
       "                fill.style.animation = 'none';\n",
       "                fill.style.backgroundImage = 'none';\n",
       "            \n",
       "              })();\n",
       "        "
      ],
      "text/plain": [
       "<IPython.core.display.Javascript object>"
      ]
     },
     "metadata": {},
     "output_type": "display_data"
    },
    {
     "name": "stdout",
     "output_type": "stream",
     "text": [
      "seed = 7\n",
      "backend = 'nengo_ocl'\n",
      "dt = 0.001\n",
      "neuron_type = 'default'\n",
      "n_neurons_scale = 1\n",
      "s_crosstalk = 0\n",
      "s_evidence = None\n",
      "t_senso = 0\n",
      "vocab = <nengo_spa.vocabulary.Vocabulary object at 0x7fe8e1cfe2d0>\n",
      "xp = <experiments.Xp1 object at 0x7fe8a4c0ce50>\n",
      "proc_feedback = 0.9\n",
      "proc_feedback_synapse = 0.005\n",
      "GW_feedback = 1\n",
      "GW_threshold = 0.5\n",
      "GW_scale = 2\n",
      "BG_thr = 0.1\n",
      "BG_bias = 0.5\n",
      "integrator_reset = True\n",
      "data = <data.Data object at 0x7fe8c1a21dd0>\n",
      "\t seed 8/20\n",
      "running run_seed8_dim96\n"
     ]
    },
    {
     "name": "stderr",
     "output_type": "stream",
     "text": [
      "/home/ubuntu/anaconda3/envs/CTN/lib/python3.7/site-packages/nengo_spa/vocabulary.py:173: UserWarning: Could not create a semantic pointer with max_similarity=0.10 (D=96, M=20, similarity=0.10)\n",
      "  len(self._key2idx), best_sim))\n"
     ]
    },
    {
     "data": {
      "text/html": [
       "\n",
       "                <div id=\"e59b5c0e-f58e-4aae-bfcf-94425b7a06cb\" style=\"\n",
       "                    width: 100%;\n",
       "                    border: 1px solid #cfcfcf;\n",
       "                    border-radius: 4px;\n",
       "                    text-align: center;\n",
       "                    position: relative;\">\n",
       "                  <div class=\"pb-text\" style=\"\n",
       "                      position: absolute;\n",
       "                      width: 100%;\">\n",
       "                    0%\n",
       "                  </div>\n",
       "                  <div class=\"pb-fill\" style=\"\n",
       "                      background-color: #bdd2e6;\n",
       "                      width: 0%;\">\n",
       "                    <style type=\"text/css\" scoped=\"scoped\">\n",
       "                        @keyframes pb-fill-anim {\n",
       "                            0% { background-position: 0 0; }\n",
       "                            100% { background-position: 100px 0; }\n",
       "                        }\n",
       "                    </style>\n",
       "                    &nbsp;\n",
       "                  </div>\n",
       "                </div>"
      ],
      "text/plain": [
       "HtmlProgressBar cannot be displayed. Please use the TerminalProgressBar. It can be enabled with `nengo.rc.set('progress', 'progress_bar', 'nengo.utils.progress.TerminalProgressBar')`."
      ]
     },
     "metadata": {},
     "output_type": "display_data"
    },
    {
     "data": {
      "application/javascript": [
       "\n",
       "              (function () {\n",
       "                  var root = document.getElementById('e59b5c0e-f58e-4aae-bfcf-94425b7a06cb');\n",
       "                  var text = root.getElementsByClassName('pb-text')[0];\n",
       "                  var fill = root.getElementsByClassName('pb-fill')[0];\n",
       "\n",
       "                  text.innerHTML = 'Simulation finished in 0:01:29.';\n",
       "                  \n",
       "            if (100.0 > 0.) {\n",
       "                fill.style.transition = 'width 0.1s linear';\n",
       "            } else {\n",
       "                fill.style.transition = 'none';\n",
       "            }\n",
       "\n",
       "            fill.style.width = '100.0%';\n",
       "            fill.style.animation = 'none';\n",
       "            fill.style.backgroundImage = 'none'\n",
       "        \n",
       "                  \n",
       "                fill.style.animation = 'none';\n",
       "                fill.style.backgroundImage = 'none';\n",
       "            \n",
       "              })();\n",
       "        "
      ],
      "text/plain": [
       "<IPython.core.display.Javascript object>"
      ]
     },
     "metadata": {},
     "output_type": "display_data"
    },
    {
     "name": "stdout",
     "output_type": "stream",
     "text": [
      "seed = 8\n",
      "backend = 'nengo_ocl'\n",
      "dt = 0.001\n",
      "neuron_type = 'default'\n",
      "n_neurons_scale = 1\n",
      "s_crosstalk = 0\n",
      "s_evidence = None\n",
      "t_senso = 0\n",
      "vocab = <nengo_spa.vocabulary.Vocabulary object at 0x7fe8e16cb810>\n",
      "xp = <experiments.Xp1 object at 0x7fe8e1cdbe10>\n",
      "proc_feedback = 0.9\n",
      "proc_feedback_synapse = 0.005\n",
      "GW_feedback = 1\n",
      "GW_threshold = 0.5\n",
      "GW_scale = 2\n",
      "BG_thr = 0.1\n",
      "BG_bias = 0.5\n",
      "integrator_reset = True\n",
      "data = <data.Data object at 0x7fe8acceb390>\n",
      "\t seed 9/20\n",
      "running run_seed9_dim96\n"
     ]
    },
    {
     "data": {
      "text/html": [
       "\n",
       "                <div id=\"c9a194fd-f8a2-4671-ae28-73f66b943d5b\" style=\"\n",
       "                    width: 100%;\n",
       "                    border: 1px solid #cfcfcf;\n",
       "                    border-radius: 4px;\n",
       "                    text-align: center;\n",
       "                    position: relative;\">\n",
       "                  <div class=\"pb-text\" style=\"\n",
       "                      position: absolute;\n",
       "                      width: 100%;\">\n",
       "                    0%\n",
       "                  </div>\n",
       "                  <div class=\"pb-fill\" style=\"\n",
       "                      background-color: #bdd2e6;\n",
       "                      width: 0%;\">\n",
       "                    <style type=\"text/css\" scoped=\"scoped\">\n",
       "                        @keyframes pb-fill-anim {\n",
       "                            0% { background-position: 0 0; }\n",
       "                            100% { background-position: 100px 0; }\n",
       "                        }\n",
       "                    </style>\n",
       "                    &nbsp;\n",
       "                  </div>\n",
       "                </div>"
      ],
      "text/plain": [
       "HtmlProgressBar cannot be displayed. Please use the TerminalProgressBar. It can be enabled with `nengo.rc.set('progress', 'progress_bar', 'nengo.utils.progress.TerminalProgressBar')`."
      ]
     },
     "metadata": {},
     "output_type": "display_data"
    },
    {
     "data": {
      "application/javascript": [
       "\n",
       "              (function () {\n",
       "                  var root = document.getElementById('c9a194fd-f8a2-4671-ae28-73f66b943d5b');\n",
       "                  var text = root.getElementsByClassName('pb-text')[0];\n",
       "                  var fill = root.getElementsByClassName('pb-fill')[0];\n",
       "\n",
       "                  text.innerHTML = 'Simulation finished in 0:01:23.';\n",
       "                  \n",
       "            if (100.0 > 0.) {\n",
       "                fill.style.transition = 'width 0.1s linear';\n",
       "            } else {\n",
       "                fill.style.transition = 'none';\n",
       "            }\n",
       "\n",
       "            fill.style.width = '100.0%';\n",
       "            fill.style.animation = 'none';\n",
       "            fill.style.backgroundImage = 'none'\n",
       "        \n",
       "                  \n",
       "                fill.style.animation = 'none';\n",
       "                fill.style.backgroundImage = 'none';\n",
       "            \n",
       "              })();\n",
       "        "
      ],
      "text/plain": [
       "<IPython.core.display.Javascript object>"
      ]
     },
     "metadata": {},
     "output_type": "display_data"
    },
    {
     "name": "stdout",
     "output_type": "stream",
     "text": [
      "seed = 9\n",
      "backend = 'nengo_ocl'\n",
      "dt = 0.001\n",
      "neuron_type = 'default'\n",
      "n_neurons_scale = 1\n",
      "s_crosstalk = 0\n",
      "s_evidence = None\n",
      "t_senso = 0\n",
      "vocab = <nengo_spa.vocabulary.Vocabulary object at 0x7fe8e1463110>\n",
      "xp = <experiments.Xp1 object at 0x7fe8e16cbe90>\n",
      "proc_feedback = 0.9\n",
      "proc_feedback_synapse = 0.005\n",
      "GW_feedback = 1\n",
      "GW_threshold = 0.5\n",
      "GW_scale = 2\n",
      "BG_thr = 0.1\n",
      "BG_bias = 0.5\n",
      "integrator_reset = True\n",
      "data = <data.Data object at 0x7fe8e1832410>\n",
      "\t seed 10/20\n",
      "running run_seed10_dim96\n"
     ]
    },
    {
     "name": "stderr",
     "output_type": "stream",
     "text": [
      "/home/ubuntu/anaconda3/envs/CTN/lib/python3.7/site-packages/nengo_spa/vocabulary.py:173: UserWarning: Could not create a semantic pointer with max_similarity=0.10 (D=96, M=19, similarity=0.10)\n",
      "  len(self._key2idx), best_sim))\n"
     ]
    },
    {
     "data": {
      "text/html": [
       "\n",
       "                <div id=\"f1f9ddfe-97e8-4f53-b0a4-b6311a4fc5da\" style=\"\n",
       "                    width: 100%;\n",
       "                    border: 1px solid #cfcfcf;\n",
       "                    border-radius: 4px;\n",
       "                    text-align: center;\n",
       "                    position: relative;\">\n",
       "                  <div class=\"pb-text\" style=\"\n",
       "                      position: absolute;\n",
       "                      width: 100%;\">\n",
       "                    0%\n",
       "                  </div>\n",
       "                  <div class=\"pb-fill\" style=\"\n",
       "                      background-color: #bdd2e6;\n",
       "                      width: 0%;\">\n",
       "                    <style type=\"text/css\" scoped=\"scoped\">\n",
       "                        @keyframes pb-fill-anim {\n",
       "                            0% { background-position: 0 0; }\n",
       "                            100% { background-position: 100px 0; }\n",
       "                        }\n",
       "                    </style>\n",
       "                    &nbsp;\n",
       "                  </div>\n",
       "                </div>"
      ],
      "text/plain": [
       "HtmlProgressBar cannot be displayed. Please use the TerminalProgressBar. It can be enabled with `nengo.rc.set('progress', 'progress_bar', 'nengo.utils.progress.TerminalProgressBar')`."
      ]
     },
     "metadata": {},
     "output_type": "display_data"
    },
    {
     "data": {
      "application/javascript": [
       "\n",
       "              (function () {\n",
       "                  var root = document.getElementById('f1f9ddfe-97e8-4f53-b0a4-b6311a4fc5da');\n",
       "                  var text = root.getElementsByClassName('pb-text')[0];\n",
       "                  var fill = root.getElementsByClassName('pb-fill')[0];\n",
       "\n",
       "                  text.innerHTML = 'Simulation finished in 0:01:14.';\n",
       "                  \n",
       "            if (100.0 > 0.) {\n",
       "                fill.style.transition = 'width 0.1s linear';\n",
       "            } else {\n",
       "                fill.style.transition = 'none';\n",
       "            }\n",
       "\n",
       "            fill.style.width = '100.0%';\n",
       "            fill.style.animation = 'none';\n",
       "            fill.style.backgroundImage = 'none'\n",
       "        \n",
       "                  \n",
       "                fill.style.animation = 'none';\n",
       "                fill.style.backgroundImage = 'none';\n",
       "            \n",
       "              })();\n",
       "        "
      ],
      "text/plain": [
       "<IPython.core.display.Javascript object>"
      ]
     },
     "metadata": {},
     "output_type": "display_data"
    },
    {
     "name": "stdout",
     "output_type": "stream",
     "text": [
      "seed = 10\n",
      "backend = 'nengo_ocl'\n",
      "dt = 0.001\n",
      "neuron_type = 'default'\n",
      "n_neurons_scale = 1\n",
      "s_crosstalk = 0\n",
      "s_evidence = None\n",
      "t_senso = 0\n",
      "vocab = <nengo_spa.vocabulary.Vocabulary object at 0x7fe8a771a710>\n",
      "xp = <experiments.Xp1 object at 0x7fe8e184ffd0>\n",
      "proc_feedback = 0.9\n",
      "proc_feedback_synapse = 0.005\n",
      "GW_feedback = 1\n",
      "GW_threshold = 0.5\n",
      "GW_scale = 2\n",
      "BG_thr = 0.1\n",
      "BG_bias = 0.5\n",
      "integrator_reset = True\n",
      "data = <data.Data object at 0x7fe8d82c0350>\n",
      "\t seed 11/20\n",
      "running run_seed11_dim96\n"
     ]
    },
    {
     "data": {
      "text/html": [
       "\n",
       "                <div id=\"2e67103a-ef5f-4827-80ca-38866e978495\" style=\"\n",
       "                    width: 100%;\n",
       "                    border: 1px solid #cfcfcf;\n",
       "                    border-radius: 4px;\n",
       "                    text-align: center;\n",
       "                    position: relative;\">\n",
       "                  <div class=\"pb-text\" style=\"\n",
       "                      position: absolute;\n",
       "                      width: 100%;\">\n",
       "                    0%\n",
       "                  </div>\n",
       "                  <div class=\"pb-fill\" style=\"\n",
       "                      background-color: #bdd2e6;\n",
       "                      width: 0%;\">\n",
       "                    <style type=\"text/css\" scoped=\"scoped\">\n",
       "                        @keyframes pb-fill-anim {\n",
       "                            0% { background-position: 0 0; }\n",
       "                            100% { background-position: 100px 0; }\n",
       "                        }\n",
       "                    </style>\n",
       "                    &nbsp;\n",
       "                  </div>\n",
       "                </div>"
      ],
      "text/plain": [
       "HtmlProgressBar cannot be displayed. Please use the TerminalProgressBar. It can be enabled with `nengo.rc.set('progress', 'progress_bar', 'nengo.utils.progress.TerminalProgressBar')`."
      ]
     },
     "metadata": {},
     "output_type": "display_data"
    },
    {
     "data": {
      "application/javascript": [
       "\n",
       "              (function () {\n",
       "                  var root = document.getElementById('2e67103a-ef5f-4827-80ca-38866e978495');\n",
       "                  var text = root.getElementsByClassName('pb-text')[0];\n",
       "                  var fill = root.getElementsByClassName('pb-fill')[0];\n",
       "\n",
       "                  text.innerHTML = 'Simulation finished in 0:01:10.';\n",
       "                  \n",
       "            if (100.0 > 0.) {\n",
       "                fill.style.transition = 'width 0.1s linear';\n",
       "            } else {\n",
       "                fill.style.transition = 'none';\n",
       "            }\n",
       "\n",
       "            fill.style.width = '100.0%';\n",
       "            fill.style.animation = 'none';\n",
       "            fill.style.backgroundImage = 'none'\n",
       "        \n",
       "                  \n",
       "                fill.style.animation = 'none';\n",
       "                fill.style.backgroundImage = 'none';\n",
       "            \n",
       "              })();\n",
       "        "
      ],
      "text/plain": [
       "<IPython.core.display.Javascript object>"
      ]
     },
     "metadata": {},
     "output_type": "display_data"
    },
    {
     "name": "stdout",
     "output_type": "stream",
     "text": [
      "seed = 11\n",
      "backend = 'nengo_ocl'\n",
      "dt = 0.001\n",
      "neuron_type = 'default'\n",
      "n_neurons_scale = 1\n",
      "s_crosstalk = 0\n",
      "s_evidence = None\n",
      "t_senso = 0\n",
      "vocab = <nengo_spa.vocabulary.Vocabulary object at 0x7fe8a5d4f7d0>\n",
      "xp = <experiments.Xp1 object at 0x7fe8e133a890>\n",
      "proc_feedback = 0.9\n",
      "proc_feedback_synapse = 0.005\n",
      "GW_feedback = 1\n",
      "GW_threshold = 0.5\n",
      "GW_scale = 2\n",
      "BG_thr = 0.1\n",
      "BG_bias = 0.5\n",
      "integrator_reset = True\n",
      "data = <data.Data object at 0x7fe8a5e6dd90>\n",
      "\t seed 12/20\n",
      "running run_seed12_dim96\n"
     ]
    },
    {
     "data": {
      "text/html": [
       "\n",
       "                <div id=\"ca722da2-47de-42e7-aec9-f3432e16a9b3\" style=\"\n",
       "                    width: 100%;\n",
       "                    border: 1px solid #cfcfcf;\n",
       "                    border-radius: 4px;\n",
       "                    text-align: center;\n",
       "                    position: relative;\">\n",
       "                  <div class=\"pb-text\" style=\"\n",
       "                      position: absolute;\n",
       "                      width: 100%;\">\n",
       "                    0%\n",
       "                  </div>\n",
       "                  <div class=\"pb-fill\" style=\"\n",
       "                      background-color: #bdd2e6;\n",
       "                      width: 0%;\">\n",
       "                    <style type=\"text/css\" scoped=\"scoped\">\n",
       "                        @keyframes pb-fill-anim {\n",
       "                            0% { background-position: 0 0; }\n",
       "                            100% { background-position: 100px 0; }\n",
       "                        }\n",
       "                    </style>\n",
       "                    &nbsp;\n",
       "                  </div>\n",
       "                </div>"
      ],
      "text/plain": [
       "HtmlProgressBar cannot be displayed. Please use the TerminalProgressBar. It can be enabled with `nengo.rc.set('progress', 'progress_bar', 'nengo.utils.progress.TerminalProgressBar')`."
      ]
     },
     "metadata": {},
     "output_type": "display_data"
    },
    {
     "data": {
      "application/javascript": [
       "\n",
       "              (function () {\n",
       "                  var root = document.getElementById('ca722da2-47de-42e7-aec9-f3432e16a9b3');\n",
       "                  var text = root.getElementsByClassName('pb-text')[0];\n",
       "                  var fill = root.getElementsByClassName('pb-fill')[0];\n",
       "\n",
       "                  text.innerHTML = 'Simulation finished in 0:01:48.';\n",
       "                  \n",
       "            if (100.0 > 0.) {\n",
       "                fill.style.transition = 'width 0.1s linear';\n",
       "            } else {\n",
       "                fill.style.transition = 'none';\n",
       "            }\n",
       "\n",
       "            fill.style.width = '100.0%';\n",
       "            fill.style.animation = 'none';\n",
       "            fill.style.backgroundImage = 'none'\n",
       "        \n",
       "                  \n",
       "                fill.style.animation = 'none';\n",
       "                fill.style.backgroundImage = 'none';\n",
       "            \n",
       "              })();\n",
       "        "
      ],
      "text/plain": [
       "<IPython.core.display.Javascript object>"
      ]
     },
     "metadata": {},
     "output_type": "display_data"
    },
    {
     "name": "stdout",
     "output_type": "stream",
     "text": [
      "seed = 12\n",
      "backend = 'nengo_ocl'\n",
      "dt = 0.001\n",
      "neuron_type = 'default'\n",
      "n_neurons_scale = 1\n",
      "s_crosstalk = 0\n",
      "s_evidence = None\n",
      "t_senso = 0\n",
      "vocab = <nengo_spa.vocabulary.Vocabulary object at 0x7fe8a4043290>\n",
      "xp = <experiments.Xp1 object at 0x7fe8e0ad0a90>\n",
      "proc_feedback = 0.9\n",
      "proc_feedback_synapse = 0.005\n",
      "GW_feedback = 1\n",
      "GW_threshold = 0.5\n",
      "GW_scale = 2\n",
      "BG_thr = 0.1\n",
      "BG_bias = 0.5\n",
      "integrator_reset = True\n",
      "data = <data.Data object at 0x7fe8adb99410>\n",
      "\t seed 13/20\n",
      "running run_seed13_dim96\n"
     ]
    },
    {
     "name": "stderr",
     "output_type": "stream",
     "text": [
      "/home/ubuntu/anaconda3/envs/CTN/lib/python3.7/site-packages/nengo_spa/vocabulary.py:173: UserWarning: Could not create a semantic pointer with max_similarity=0.10 (D=96, M=21, similarity=0.10)\n",
      "  len(self._key2idx), best_sim))\n"
     ]
    },
    {
     "data": {
      "text/html": [
       "\n",
       "                <div id=\"f0ff0a2e-1a52-4c00-b784-783b33e47932\" style=\"\n",
       "                    width: 100%;\n",
       "                    border: 1px solid #cfcfcf;\n",
       "                    border-radius: 4px;\n",
       "                    text-align: center;\n",
       "                    position: relative;\">\n",
       "                  <div class=\"pb-text\" style=\"\n",
       "                      position: absolute;\n",
       "                      width: 100%;\">\n",
       "                    0%\n",
       "                  </div>\n",
       "                  <div class=\"pb-fill\" style=\"\n",
       "                      background-color: #bdd2e6;\n",
       "                      width: 0%;\">\n",
       "                    <style type=\"text/css\" scoped=\"scoped\">\n",
       "                        @keyframes pb-fill-anim {\n",
       "                            0% { background-position: 0 0; }\n",
       "                            100% { background-position: 100px 0; }\n",
       "                        }\n",
       "                    </style>\n",
       "                    &nbsp;\n",
       "                  </div>\n",
       "                </div>"
      ],
      "text/plain": [
       "HtmlProgressBar cannot be displayed. Please use the TerminalProgressBar. It can be enabled with `nengo.rc.set('progress', 'progress_bar', 'nengo.utils.progress.TerminalProgressBar')`."
      ]
     },
     "metadata": {},
     "output_type": "display_data"
    },
    {
     "data": {
      "application/javascript": [
       "\n",
       "              (function () {\n",
       "                  var root = document.getElementById('f0ff0a2e-1a52-4c00-b784-783b33e47932');\n",
       "                  var text = root.getElementsByClassName('pb-text')[0];\n",
       "                  var fill = root.getElementsByClassName('pb-fill')[0];\n",
       "\n",
       "                  text.innerHTML = 'Simulation finished in 0:01:44.';\n",
       "                  \n",
       "            if (100.0 > 0.) {\n",
       "                fill.style.transition = 'width 0.1s linear';\n",
       "            } else {\n",
       "                fill.style.transition = 'none';\n",
       "            }\n",
       "\n",
       "            fill.style.width = '100.0%';\n",
       "            fill.style.animation = 'none';\n",
       "            fill.style.backgroundImage = 'none'\n",
       "        \n",
       "                  \n",
       "                fill.style.animation = 'none';\n",
       "                fill.style.backgroundImage = 'none';\n",
       "            \n",
       "              })();\n",
       "        "
      ],
      "text/plain": [
       "<IPython.core.display.Javascript object>"
      ]
     },
     "metadata": {},
     "output_type": "display_data"
    },
    {
     "name": "stdout",
     "output_type": "stream",
     "text": [
      "seed = 13\n",
      "backend = 'nengo_ocl'\n",
      "dt = 0.001\n",
      "neuron_type = 'default'\n",
      "n_neurons_scale = 1\n",
      "s_crosstalk = 0\n",
      "s_evidence = None\n",
      "t_senso = 0\n",
      "vocab = <nengo_spa.vocabulary.Vocabulary object at 0x7fe8ae9043d0>\n",
      "xp = <experiments.Xp1 object at 0x7fe8d811bfd0>\n",
      "proc_feedback = 0.9\n",
      "proc_feedback_synapse = 0.005\n",
      "GW_feedback = 1\n",
      "GW_threshold = 0.5\n",
      "GW_scale = 2\n",
      "BG_thr = 0.1\n",
      "BG_bias = 0.5\n",
      "integrator_reset = True\n",
      "data = <data.Data object at 0x7fe8cd0135d0>\n",
      "\t seed 14/20\n",
      "running run_seed14_dim96\n"
     ]
    },
    {
     "data": {
      "text/html": [
       "\n",
       "                <div id=\"0255a0da-ce99-4f9a-a5c3-85261ee99afc\" style=\"\n",
       "                    width: 100%;\n",
       "                    border: 1px solid #cfcfcf;\n",
       "                    border-radius: 4px;\n",
       "                    text-align: center;\n",
       "                    position: relative;\">\n",
       "                  <div class=\"pb-text\" style=\"\n",
       "                      position: absolute;\n",
       "                      width: 100%;\">\n",
       "                    0%\n",
       "                  </div>\n",
       "                  <div class=\"pb-fill\" style=\"\n",
       "                      background-color: #bdd2e6;\n",
       "                      width: 0%;\">\n",
       "                    <style type=\"text/css\" scoped=\"scoped\">\n",
       "                        @keyframes pb-fill-anim {\n",
       "                            0% { background-position: 0 0; }\n",
       "                            100% { background-position: 100px 0; }\n",
       "                        }\n",
       "                    </style>\n",
       "                    &nbsp;\n",
       "                  </div>\n",
       "                </div>"
      ],
      "text/plain": [
       "HtmlProgressBar cannot be displayed. Please use the TerminalProgressBar. It can be enabled with `nengo.rc.set('progress', 'progress_bar', 'nengo.utils.progress.TerminalProgressBar')`."
      ]
     },
     "metadata": {},
     "output_type": "display_data"
    },
    {
     "data": {
      "application/javascript": [
       "\n",
       "              (function () {\n",
       "                  var root = document.getElementById('0255a0da-ce99-4f9a-a5c3-85261ee99afc');\n",
       "                  var text = root.getElementsByClassName('pb-text')[0];\n",
       "                  var fill = root.getElementsByClassName('pb-fill')[0];\n",
       "\n",
       "                  text.innerHTML = 'Simulation finished in 0:01:33.';\n",
       "                  \n",
       "            if (100.0 > 0.) {\n",
       "                fill.style.transition = 'width 0.1s linear';\n",
       "            } else {\n",
       "                fill.style.transition = 'none';\n",
       "            }\n",
       "\n",
       "            fill.style.width = '100.0%';\n",
       "            fill.style.animation = 'none';\n",
       "            fill.style.backgroundImage = 'none'\n",
       "        \n",
       "                  \n",
       "                fill.style.animation = 'none';\n",
       "                fill.style.backgroundImage = 'none';\n",
       "            \n",
       "              })();\n",
       "        "
      ],
      "text/plain": [
       "<IPython.core.display.Javascript object>"
      ]
     },
     "metadata": {},
     "output_type": "display_data"
    },
    {
     "name": "stdout",
     "output_type": "stream",
     "text": [
      "seed = 14\n",
      "backend = 'nengo_ocl'\n",
      "dt = 0.001\n",
      "neuron_type = 'default'\n",
      "n_neurons_scale = 1\n",
      "s_crosstalk = 0\n",
      "s_evidence = None\n",
      "t_senso = 0\n",
      "vocab = <nengo_spa.vocabulary.Vocabulary object at 0x7fe8ccf77050>\n",
      "xp = <experiments.Xp1 object at 0x7fe8ccf77b10>\n",
      "proc_feedback = 0.9\n",
      "proc_feedback_synapse = 0.005\n",
      "GW_feedback = 1\n",
      "GW_threshold = 0.5\n",
      "GW_scale = 2\n",
      "BG_thr = 0.1\n",
      "BG_bias = 0.5\n",
      "integrator_reset = True\n",
      "data = <data.Data object at 0x7fe8e16ffcd0>\n",
      "\t seed 15/20\n",
      "running run_seed15_dim96\n"
     ]
    },
    {
     "data": {
      "text/html": [
       "\n",
       "                <div id=\"58694689-7312-449f-8be4-2fa928775791\" style=\"\n",
       "                    width: 100%;\n",
       "                    border: 1px solid #cfcfcf;\n",
       "                    border-radius: 4px;\n",
       "                    text-align: center;\n",
       "                    position: relative;\">\n",
       "                  <div class=\"pb-text\" style=\"\n",
       "                      position: absolute;\n",
       "                      width: 100%;\">\n",
       "                    0%\n",
       "                  </div>\n",
       "                  <div class=\"pb-fill\" style=\"\n",
       "                      background-color: #bdd2e6;\n",
       "                      width: 0%;\">\n",
       "                    <style type=\"text/css\" scoped=\"scoped\">\n",
       "                        @keyframes pb-fill-anim {\n",
       "                            0% { background-position: 0 0; }\n",
       "                            100% { background-position: 100px 0; }\n",
       "                        }\n",
       "                    </style>\n",
       "                    &nbsp;\n",
       "                  </div>\n",
       "                </div>"
      ],
      "text/plain": [
       "HtmlProgressBar cannot be displayed. Please use the TerminalProgressBar. It can be enabled with `nengo.rc.set('progress', 'progress_bar', 'nengo.utils.progress.TerminalProgressBar')`."
      ]
     },
     "metadata": {},
     "output_type": "display_data"
    },
    {
     "data": {
      "application/javascript": [
       "\n",
       "              (function () {\n",
       "                  var root = document.getElementById('58694689-7312-449f-8be4-2fa928775791');\n",
       "                  var text = root.getElementsByClassName('pb-text')[0];\n",
       "                  var fill = root.getElementsByClassName('pb-fill')[0];\n",
       "\n",
       "                  text.innerHTML = 'Simulation finished in 0:01:55.';\n",
       "                  \n",
       "            if (100.0 > 0.) {\n",
       "                fill.style.transition = 'width 0.1s linear';\n",
       "            } else {\n",
       "                fill.style.transition = 'none';\n",
       "            }\n",
       "\n",
       "            fill.style.width = '100.0%';\n",
       "            fill.style.animation = 'none';\n",
       "            fill.style.backgroundImage = 'none'\n",
       "        \n",
       "                  \n",
       "                fill.style.animation = 'none';\n",
       "                fill.style.backgroundImage = 'none';\n",
       "            \n",
       "              })();\n",
       "        "
      ],
      "text/plain": [
       "<IPython.core.display.Javascript object>"
      ]
     },
     "metadata": {},
     "output_type": "display_data"
    },
    {
     "name": "stdout",
     "output_type": "stream",
     "text": [
      "seed = 15\n",
      "backend = 'nengo_ocl'\n",
      "dt = 0.001\n",
      "neuron_type = 'default'\n",
      "n_neurons_scale = 1\n",
      "s_crosstalk = 0\n",
      "s_evidence = None\n",
      "t_senso = 0\n",
      "vocab = <nengo_spa.vocabulary.Vocabulary object at 0x7fe8a7300550>\n",
      "xp = <experiments.Xp1 object at 0x7fe8a5d4c950>\n",
      "proc_feedback = 0.9\n",
      "proc_feedback_synapse = 0.005\n",
      "GW_feedback = 1\n",
      "GW_threshold = 0.5\n",
      "GW_scale = 2\n",
      "BG_thr = 0.1\n",
      "BG_bias = 0.5\n",
      "integrator_reset = True\n",
      "data = <data.Data object at 0x7fe8e1ca3cd0>\n",
      "\t seed 16/20\n",
      "running run_seed16_dim96\n"
     ]
    },
    {
     "data": {
      "text/html": [
       "\n",
       "                <div id=\"0f6baea3-3e9e-482f-ac0a-ec9c3349d44f\" style=\"\n",
       "                    width: 100%;\n",
       "                    border: 1px solid #cfcfcf;\n",
       "                    border-radius: 4px;\n",
       "                    text-align: center;\n",
       "                    position: relative;\">\n",
       "                  <div class=\"pb-text\" style=\"\n",
       "                      position: absolute;\n",
       "                      width: 100%;\">\n",
       "                    0%\n",
       "                  </div>\n",
       "                  <div class=\"pb-fill\" style=\"\n",
       "                      background-color: #bdd2e6;\n",
       "                      width: 0%;\">\n",
       "                    <style type=\"text/css\" scoped=\"scoped\">\n",
       "                        @keyframes pb-fill-anim {\n",
       "                            0% { background-position: 0 0; }\n",
       "                            100% { background-position: 100px 0; }\n",
       "                        }\n",
       "                    </style>\n",
       "                    &nbsp;\n",
       "                  </div>\n",
       "                </div>"
      ],
      "text/plain": [
       "HtmlProgressBar cannot be displayed. Please use the TerminalProgressBar. It can be enabled with `nengo.rc.set('progress', 'progress_bar', 'nengo.utils.progress.TerminalProgressBar')`."
      ]
     },
     "metadata": {},
     "output_type": "display_data"
    },
    {
     "data": {
      "application/javascript": [
       "\n",
       "              (function () {\n",
       "                  var root = document.getElementById('0f6baea3-3e9e-482f-ac0a-ec9c3349d44f');\n",
       "                  var text = root.getElementsByClassName('pb-text')[0];\n",
       "                  var fill = root.getElementsByClassName('pb-fill')[0];\n",
       "\n",
       "                  text.innerHTML = 'Simulation finished in 0:01:53.';\n",
       "                  \n",
       "            if (100.0 > 0.) {\n",
       "                fill.style.transition = 'width 0.1s linear';\n",
       "            } else {\n",
       "                fill.style.transition = 'none';\n",
       "            }\n",
       "\n",
       "            fill.style.width = '100.0%';\n",
       "            fill.style.animation = 'none';\n",
       "            fill.style.backgroundImage = 'none'\n",
       "        \n",
       "                  \n",
       "                fill.style.animation = 'none';\n",
       "                fill.style.backgroundImage = 'none';\n",
       "            \n",
       "              })();\n",
       "        "
      ],
      "text/plain": [
       "<IPython.core.display.Javascript object>"
      ]
     },
     "metadata": {},
     "output_type": "display_data"
    },
    {
     "name": "stdout",
     "output_type": "stream",
     "text": [
      "seed = 16\n",
      "backend = 'nengo_ocl'\n",
      "dt = 0.001\n",
      "neuron_type = 'default'\n",
      "n_neurons_scale = 1\n",
      "s_crosstalk = 0\n",
      "s_evidence = None\n",
      "t_senso = 0\n",
      "vocab = <nengo_spa.vocabulary.Vocabulary object at 0x7fe8e1833b50>\n",
      "xp = <experiments.Xp1 object at 0x7fe8a5d4c290>\n",
      "proc_feedback = 0.9\n",
      "proc_feedback_synapse = 0.005\n",
      "GW_feedback = 1\n",
      "GW_threshold = 0.5\n",
      "GW_scale = 2\n",
      "BG_thr = 0.1\n",
      "BG_bias = 0.5\n",
      "integrator_reset = True\n",
      "data = <data.Data object at 0x7fe8e167f290>\n",
      "\t seed 17/20\n",
      "running run_seed17_dim96\n"
     ]
    },
    {
     "data": {
      "text/html": [
       "\n",
       "                <div id=\"4b9778ff-cf4f-4098-9828-dbe5b8245a64\" style=\"\n",
       "                    width: 100%;\n",
       "                    border: 1px solid #cfcfcf;\n",
       "                    border-radius: 4px;\n",
       "                    text-align: center;\n",
       "                    position: relative;\">\n",
       "                  <div class=\"pb-text\" style=\"\n",
       "                      position: absolute;\n",
       "                      width: 100%;\">\n",
       "                    0%\n",
       "                  </div>\n",
       "                  <div class=\"pb-fill\" style=\"\n",
       "                      background-color: #bdd2e6;\n",
       "                      width: 0%;\">\n",
       "                    <style type=\"text/css\" scoped=\"scoped\">\n",
       "                        @keyframes pb-fill-anim {\n",
       "                            0% { background-position: 0 0; }\n",
       "                            100% { background-position: 100px 0; }\n",
       "                        }\n",
       "                    </style>\n",
       "                    &nbsp;\n",
       "                  </div>\n",
       "                </div>"
      ],
      "text/plain": [
       "HtmlProgressBar cannot be displayed. Please use the TerminalProgressBar. It can be enabled with `nengo.rc.set('progress', 'progress_bar', 'nengo.utils.progress.TerminalProgressBar')`."
      ]
     },
     "metadata": {},
     "output_type": "display_data"
    },
    {
     "data": {
      "application/javascript": [
       "\n",
       "              (function () {\n",
       "                  var root = document.getElementById('4b9778ff-cf4f-4098-9828-dbe5b8245a64');\n",
       "                  var text = root.getElementsByClassName('pb-text')[0];\n",
       "                  var fill = root.getElementsByClassName('pb-fill')[0];\n",
       "\n",
       "                  text.innerHTML = 'Simulation finished in 0:01:55.';\n",
       "                  \n",
       "            if (100.0 > 0.) {\n",
       "                fill.style.transition = 'width 0.1s linear';\n",
       "            } else {\n",
       "                fill.style.transition = 'none';\n",
       "            }\n",
       "\n",
       "            fill.style.width = '100.0%';\n",
       "            fill.style.animation = 'none';\n",
       "            fill.style.backgroundImage = 'none'\n",
       "        \n",
       "                  \n",
       "                fill.style.animation = 'none';\n",
       "                fill.style.backgroundImage = 'none';\n",
       "            \n",
       "              })();\n",
       "        "
      ],
      "text/plain": [
       "<IPython.core.display.Javascript object>"
      ]
     },
     "metadata": {},
     "output_type": "display_data"
    },
    {
     "name": "stdout",
     "output_type": "stream",
     "text": [
      "seed = 17\n",
      "backend = 'nengo_ocl'\n",
      "dt = 0.001\n",
      "neuron_type = 'default'\n",
      "n_neurons_scale = 1\n",
      "s_crosstalk = 0\n",
      "s_evidence = None\n",
      "t_senso = 0\n",
      "vocab = <nengo_spa.vocabulary.Vocabulary object at 0x7fe8e14fb7d0>\n",
      "xp = <experiments.Xp1 object at 0x7fe8c19c1850>\n",
      "proc_feedback = 0.9\n",
      "proc_feedback_synapse = 0.005\n",
      "GW_feedback = 1\n",
      "GW_threshold = 0.5\n",
      "GW_scale = 2\n",
      "BG_thr = 0.1\n",
      "BG_bias = 0.5\n",
      "integrator_reset = True\n",
      "data = <data.Data object at 0x7fe8ad7bf2d0>\n",
      "\t seed 18/20\n",
      "running run_seed18_dim96\n"
     ]
    },
    {
     "name": "stderr",
     "output_type": "stream",
     "text": [
      "/home/ubuntu/anaconda3/envs/CTN/lib/python3.7/site-packages/nengo_spa/vocabulary.py:173: UserWarning: Could not create a semantic pointer with max_similarity=0.10 (D=96, M=18, similarity=0.11)\n",
      "  len(self._key2idx), best_sim))\n"
     ]
    },
    {
     "data": {
      "text/html": [
       "\n",
       "                <div id=\"1f744a37-3ae0-42f4-82e2-7e61f778f706\" style=\"\n",
       "                    width: 100%;\n",
       "                    border: 1px solid #cfcfcf;\n",
       "                    border-radius: 4px;\n",
       "                    text-align: center;\n",
       "                    position: relative;\">\n",
       "                  <div class=\"pb-text\" style=\"\n",
       "                      position: absolute;\n",
       "                      width: 100%;\">\n",
       "                    0%\n",
       "                  </div>\n",
       "                  <div class=\"pb-fill\" style=\"\n",
       "                      background-color: #bdd2e6;\n",
       "                      width: 0%;\">\n",
       "                    <style type=\"text/css\" scoped=\"scoped\">\n",
       "                        @keyframes pb-fill-anim {\n",
       "                            0% { background-position: 0 0; }\n",
       "                            100% { background-position: 100px 0; }\n",
       "                        }\n",
       "                    </style>\n",
       "                    &nbsp;\n",
       "                  </div>\n",
       "                </div>"
      ],
      "text/plain": [
       "HtmlProgressBar cannot be displayed. Please use the TerminalProgressBar. It can be enabled with `nengo.rc.set('progress', 'progress_bar', 'nengo.utils.progress.TerminalProgressBar')`."
      ]
     },
     "metadata": {},
     "output_type": "display_data"
    },
    {
     "data": {
      "application/javascript": [
       "\n",
       "              (function () {\n",
       "                  var root = document.getElementById('1f744a37-3ae0-42f4-82e2-7e61f778f706');\n",
       "                  var text = root.getElementsByClassName('pb-text')[0];\n",
       "                  var fill = root.getElementsByClassName('pb-fill')[0];\n",
       "\n",
       "                  text.innerHTML = 'Simulation finished in 0:01:45.';\n",
       "                  \n",
       "            if (100.0 > 0.) {\n",
       "                fill.style.transition = 'width 0.1s linear';\n",
       "            } else {\n",
       "                fill.style.transition = 'none';\n",
       "            }\n",
       "\n",
       "            fill.style.width = '100.0%';\n",
       "            fill.style.animation = 'none';\n",
       "            fill.style.backgroundImage = 'none'\n",
       "        \n",
       "                  \n",
       "                fill.style.animation = 'none';\n",
       "                fill.style.backgroundImage = 'none';\n",
       "            \n",
       "              })();\n",
       "        "
      ],
      "text/plain": [
       "<IPython.core.display.Javascript object>"
      ]
     },
     "metadata": {},
     "output_type": "display_data"
    },
    {
     "name": "stdout",
     "output_type": "stream",
     "text": [
      "seed = 18\n",
      "backend = 'nengo_ocl'\n",
      "dt = 0.001\n",
      "neuron_type = 'default'\n",
      "n_neurons_scale = 1\n",
      "s_crosstalk = 0\n",
      "s_evidence = None\n",
      "t_senso = 0\n",
      "vocab = <nengo_spa.vocabulary.Vocabulary object at 0x7fe8e1cfb610>\n",
      "xp = <experiments.Xp1 object at 0x7fe8c1729410>\n",
      "proc_feedback = 0.9\n",
      "proc_feedback_synapse = 0.005\n",
      "GW_feedback = 1\n",
      "GW_threshold = 0.5\n",
      "GW_scale = 2\n",
      "BG_thr = 0.1\n",
      "BG_bias = 0.5\n",
      "integrator_reset = True\n",
      "data = <data.Data object at 0x7fe8e17e8f90>\n",
      "\t seed 19/20\n",
      "running run_seed19_dim96\n"
     ]
    },
    {
     "data": {
      "text/html": [
       "\n",
       "                <div id=\"2ba30130-b7fb-4f06-87eb-5e05158a2c00\" style=\"\n",
       "                    width: 100%;\n",
       "                    border: 1px solid #cfcfcf;\n",
       "                    border-radius: 4px;\n",
       "                    text-align: center;\n",
       "                    position: relative;\">\n",
       "                  <div class=\"pb-text\" style=\"\n",
       "                      position: absolute;\n",
       "                      width: 100%;\">\n",
       "                    0%\n",
       "                  </div>\n",
       "                  <div class=\"pb-fill\" style=\"\n",
       "                      background-color: #bdd2e6;\n",
       "                      width: 0%;\">\n",
       "                    <style type=\"text/css\" scoped=\"scoped\">\n",
       "                        @keyframes pb-fill-anim {\n",
       "                            0% { background-position: 0 0; }\n",
       "                            100% { background-position: 100px 0; }\n",
       "                        }\n",
       "                    </style>\n",
       "                    &nbsp;\n",
       "                  </div>\n",
       "                </div>"
      ],
      "text/plain": [
       "HtmlProgressBar cannot be displayed. Please use the TerminalProgressBar. It can be enabled with `nengo.rc.set('progress', 'progress_bar', 'nengo.utils.progress.TerminalProgressBar')`."
      ]
     },
     "metadata": {},
     "output_type": "display_data"
    },
    {
     "data": {
      "application/javascript": [
       "\n",
       "              (function () {\n",
       "                  var root = document.getElementById('2ba30130-b7fb-4f06-87eb-5e05158a2c00');\n",
       "                  var text = root.getElementsByClassName('pb-text')[0];\n",
       "                  var fill = root.getElementsByClassName('pb-fill')[0];\n",
       "\n",
       "                  text.innerHTML = 'Simulation finished in 0:01:49.';\n",
       "                  \n",
       "            if (100.0 > 0.) {\n",
       "                fill.style.transition = 'width 0.1s linear';\n",
       "            } else {\n",
       "                fill.style.transition = 'none';\n",
       "            }\n",
       "\n",
       "            fill.style.width = '100.0%';\n",
       "            fill.style.animation = 'none';\n",
       "            fill.style.backgroundImage = 'none'\n",
       "        \n",
       "                  \n",
       "                fill.style.animation = 'none';\n",
       "                fill.style.backgroundImage = 'none';\n",
       "            \n",
       "              })();\n",
       "        "
      ],
      "text/plain": [
       "<IPython.core.display.Javascript object>"
      ]
     },
     "metadata": {},
     "output_type": "display_data"
    },
    {
     "name": "stdout",
     "output_type": "stream",
     "text": [
      "seed = 19\n",
      "backend = 'nengo_ocl'\n",
      "dt = 0.001\n",
      "neuron_type = 'default'\n",
      "n_neurons_scale = 1\n",
      "s_crosstalk = 0\n",
      "s_evidence = None\n",
      "t_senso = 0\n",
      "vocab = <nengo_spa.vocabulary.Vocabulary object at 0x7fe8e1860c50>\n",
      "xp = <experiments.Xp1 object at 0x7fe8e16e7050>\n",
      "proc_feedback = 0.9\n",
      "proc_feedback_synapse = 0.005\n",
      "GW_feedback = 1\n",
      "GW_threshold = 0.5\n",
      "GW_scale = 2\n",
      "BG_thr = 0.1\n",
      "BG_bias = 0.5\n",
      "integrator_reset = True\n",
      "data = <data.Data object at 0x7fe8aeb0f9d0>\n",
      "\t seed 20/20\n",
      "running run_seed20_dim96\n"
     ]
    },
    {
     "data": {
      "text/html": [
       "\n",
       "                <div id=\"7f4c6ef5-74c6-4a73-a6f3-f4994dd22984\" style=\"\n",
       "                    width: 100%;\n",
       "                    border: 1px solid #cfcfcf;\n",
       "                    border-radius: 4px;\n",
       "                    text-align: center;\n",
       "                    position: relative;\">\n",
       "                  <div class=\"pb-text\" style=\"\n",
       "                      position: absolute;\n",
       "                      width: 100%;\">\n",
       "                    0%\n",
       "                  </div>\n",
       "                  <div class=\"pb-fill\" style=\"\n",
       "                      background-color: #bdd2e6;\n",
       "                      width: 0%;\">\n",
       "                    <style type=\"text/css\" scoped=\"scoped\">\n",
       "                        @keyframes pb-fill-anim {\n",
       "                            0% { background-position: 0 0; }\n",
       "                            100% { background-position: 100px 0; }\n",
       "                        }\n",
       "                    </style>\n",
       "                    &nbsp;\n",
       "                  </div>\n",
       "                </div>"
      ],
      "text/plain": [
       "HtmlProgressBar cannot be displayed. Please use the TerminalProgressBar. It can be enabled with `nengo.rc.set('progress', 'progress_bar', 'nengo.utils.progress.TerminalProgressBar')`."
      ]
     },
     "metadata": {},
     "output_type": "display_data"
    },
    {
     "data": {
      "application/javascript": [
       "\n",
       "              (function () {\n",
       "                  var root = document.getElementById('7f4c6ef5-74c6-4a73-a6f3-f4994dd22984');\n",
       "                  var text = root.getElementsByClassName('pb-text')[0];\n",
       "                  var fill = root.getElementsByClassName('pb-fill')[0];\n",
       "\n",
       "                  text.innerHTML = 'Simulation finished in 0:01:49.';\n",
       "                  \n",
       "            if (100.0 > 0.) {\n",
       "                fill.style.transition = 'width 0.1s linear';\n",
       "            } else {\n",
       "                fill.style.transition = 'none';\n",
       "            }\n",
       "\n",
       "            fill.style.width = '100.0%';\n",
       "            fill.style.animation = 'none';\n",
       "            fill.style.backgroundImage = 'none'\n",
       "        \n",
       "                  \n",
       "                fill.style.animation = 'none';\n",
       "                fill.style.backgroundImage = 'none';\n",
       "            \n",
       "              })();\n",
       "        "
      ],
      "text/plain": [
       "<IPython.core.display.Javascript object>"
      ]
     },
     "metadata": {},
     "output_type": "display_data"
    },
    {
     "name": "stdout",
     "output_type": "stream",
     "text": [
      "seed = 20\n",
      "backend = 'nengo_ocl'\n",
      "dt = 0.001\n",
      "neuron_type = 'default'\n",
      "n_neurons_scale = 1\n",
      "s_crosstalk = 0\n",
      "s_evidence = None\n",
      "t_senso = 0\n",
      "vocab = <nengo_spa.vocabulary.Vocabulary object at 0x7fe8aeb0f790>\n",
      "xp = <experiments.Xp1 object at 0x7fe8e16de710>\n",
      "proc_feedback = 0.9\n",
      "proc_feedback_synapse = 0.005\n",
      "GW_feedback = 1\n",
      "GW_threshold = 0.5\n",
      "GW_scale = 2\n",
      "BG_thr = 0.1\n",
      "BG_bias = 0.5\n",
      "integrator_reset = True\n",
      "data = <data.Data object at 0x7fe8a68432d0>\n",
      "error rate: 0.09791666666666665\n",
      "params: [7.]\n",
      "Simulating...\n",
      "\t seed 1/20\n",
      "running run_seed1_dim112\n"
     ]
    },
    {
     "data": {
      "text/html": [
       "\n",
       "                <div id=\"a9f9576e-da31-40f0-9c8f-73d3424e2d70\" style=\"\n",
       "                    width: 100%;\n",
       "                    border: 1px solid #cfcfcf;\n",
       "                    border-radius: 4px;\n",
       "                    text-align: center;\n",
       "                    position: relative;\">\n",
       "                  <div class=\"pb-text\" style=\"\n",
       "                      position: absolute;\n",
       "                      width: 100%;\">\n",
       "                    0%\n",
       "                  </div>\n",
       "                  <div class=\"pb-fill\" style=\"\n",
       "                      background-color: #bdd2e6;\n",
       "                      width: 0%;\">\n",
       "                    <style type=\"text/css\" scoped=\"scoped\">\n",
       "                        @keyframes pb-fill-anim {\n",
       "                            0% { background-position: 0 0; }\n",
       "                            100% { background-position: 100px 0; }\n",
       "                        }\n",
       "                    </style>\n",
       "                    &nbsp;\n",
       "                  </div>\n",
       "                </div>"
      ],
      "text/plain": [
       "HtmlProgressBar cannot be displayed. Please use the TerminalProgressBar. It can be enabled with `nengo.rc.set('progress', 'progress_bar', 'nengo.utils.progress.TerminalProgressBar')`."
      ]
     },
     "metadata": {},
     "output_type": "display_data"
    },
    {
     "data": {
      "application/javascript": [
       "\n",
       "              (function () {\n",
       "                  var root = document.getElementById('a9f9576e-da31-40f0-9c8f-73d3424e2d70');\n",
       "                  var text = root.getElementsByClassName('pb-text')[0];\n",
       "                  var fill = root.getElementsByClassName('pb-fill')[0];\n",
       "\n",
       "                  text.innerHTML = 'Simulation finished in 0:01:46.';\n",
       "                  \n",
       "            if (100.0 > 0.) {\n",
       "                fill.style.transition = 'width 0.1s linear';\n",
       "            } else {\n",
       "                fill.style.transition = 'none';\n",
       "            }\n",
       "\n",
       "            fill.style.width = '100.0%';\n",
       "            fill.style.animation = 'none';\n",
       "            fill.style.backgroundImage = 'none'\n",
       "        \n",
       "                  \n",
       "                fill.style.animation = 'none';\n",
       "                fill.style.backgroundImage = 'none';\n",
       "            \n",
       "              })();\n",
       "        "
      ],
      "text/plain": [
       "<IPython.core.display.Javascript object>"
      ]
     },
     "metadata": {},
     "output_type": "display_data"
    },
    {
     "name": "stdout",
     "output_type": "stream",
     "text": [
      "seed = 1\n",
      "backend = 'nengo_ocl'\n",
      "dt = 0.001\n",
      "neuron_type = 'default'\n",
      "n_neurons_scale = 1\n",
      "s_crosstalk = 0\n",
      "s_evidence = None\n",
      "t_senso = 0\n",
      "vocab = <nengo_spa.vocabulary.Vocabulary object at 0x7fe8ae166490>\n",
      "xp = <experiments.Xp1 object at 0x7fe8e1e474d0>\n",
      "proc_feedback = 0.9\n",
      "proc_feedback_synapse = 0.005\n",
      "GW_feedback = 1\n",
      "GW_threshold = 0.5\n",
      "GW_scale = 2\n",
      "BG_thr = 0.1\n",
      "BG_bias = 0.5\n",
      "integrator_reset = True\n",
      "data = <data.Data object at 0x7fe8ae166510>\n",
      "\t seed 2/20\n",
      "running run_seed2_dim112\n"
     ]
    },
    {
     "data": {
      "text/html": [
       "\n",
       "                <div id=\"563e5c59-65af-4583-9800-34cff8b6c0f7\" style=\"\n",
       "                    width: 100%;\n",
       "                    border: 1px solid #cfcfcf;\n",
       "                    border-radius: 4px;\n",
       "                    text-align: center;\n",
       "                    position: relative;\">\n",
       "                  <div class=\"pb-text\" style=\"\n",
       "                      position: absolute;\n",
       "                      width: 100%;\">\n",
       "                    0%\n",
       "                  </div>\n",
       "                  <div class=\"pb-fill\" style=\"\n",
       "                      background-color: #bdd2e6;\n",
       "                      width: 0%;\">\n",
       "                    <style type=\"text/css\" scoped=\"scoped\">\n",
       "                        @keyframes pb-fill-anim {\n",
       "                            0% { background-position: 0 0; }\n",
       "                            100% { background-position: 100px 0; }\n",
       "                        }\n",
       "                    </style>\n",
       "                    &nbsp;\n",
       "                  </div>\n",
       "                </div>"
      ],
      "text/plain": [
       "HtmlProgressBar cannot be displayed. Please use the TerminalProgressBar. It can be enabled with `nengo.rc.set('progress', 'progress_bar', 'nengo.utils.progress.TerminalProgressBar')`."
      ]
     },
     "metadata": {},
     "output_type": "display_data"
    },
    {
     "data": {
      "application/javascript": [
       "\n",
       "              (function () {\n",
       "                  var root = document.getElementById('563e5c59-65af-4583-9800-34cff8b6c0f7');\n",
       "                  var text = root.getElementsByClassName('pb-text')[0];\n",
       "                  var fill = root.getElementsByClassName('pb-fill')[0];\n",
       "\n",
       "                  text.innerHTML = 'Simulation finished in 0:01:52.';\n",
       "                  \n",
       "            if (100.0 > 0.) {\n",
       "                fill.style.transition = 'width 0.1s linear';\n",
       "            } else {\n",
       "                fill.style.transition = 'none';\n",
       "            }\n",
       "\n",
       "            fill.style.width = '100.0%';\n",
       "            fill.style.animation = 'none';\n",
       "            fill.style.backgroundImage = 'none'\n",
       "        \n",
       "                  \n",
       "                fill.style.animation = 'none';\n",
       "                fill.style.backgroundImage = 'none';\n",
       "            \n",
       "              })();\n",
       "        "
      ],
      "text/plain": [
       "<IPython.core.display.Javascript object>"
      ]
     },
     "metadata": {},
     "output_type": "display_data"
    },
    {
     "name": "stdout",
     "output_type": "stream",
     "text": [
      "seed = 2\n",
      "backend = 'nengo_ocl'\n",
      "dt = 0.001\n",
      "neuron_type = 'default'\n",
      "n_neurons_scale = 1\n",
      "s_crosstalk = 0\n",
      "s_evidence = None\n",
      "t_senso = 0\n",
      "vocab = <nengo_spa.vocabulary.Vocabulary object at 0x7fe8a6866bd0>\n",
      "xp = <experiments.Xp1 object at 0x7fe8ad5c1650>\n",
      "proc_feedback = 0.9\n",
      "proc_feedback_synapse = 0.005\n",
      "GW_feedback = 1\n",
      "GW_threshold = 0.5\n",
      "GW_scale = 2\n",
      "BG_thr = 0.1\n",
      "BG_bias = 0.5\n",
      "integrator_reset = True\n",
      "data = <data.Data object at 0x7fe8ad5dae10>\n",
      "\t seed 3/20\n",
      "running run_seed3_dim112\n"
     ]
    },
    {
     "data": {
      "text/html": [
       "\n",
       "                <div id=\"02358bf1-4761-4e15-b355-e306b276f487\" style=\"\n",
       "                    width: 100%;\n",
       "                    border: 1px solid #cfcfcf;\n",
       "                    border-radius: 4px;\n",
       "                    text-align: center;\n",
       "                    position: relative;\">\n",
       "                  <div class=\"pb-text\" style=\"\n",
       "                      position: absolute;\n",
       "                      width: 100%;\">\n",
       "                    0%\n",
       "                  </div>\n",
       "                  <div class=\"pb-fill\" style=\"\n",
       "                      background-color: #bdd2e6;\n",
       "                      width: 0%;\">\n",
       "                    <style type=\"text/css\" scoped=\"scoped\">\n",
       "                        @keyframes pb-fill-anim {\n",
       "                            0% { background-position: 0 0; }\n",
       "                            100% { background-position: 100px 0; }\n",
       "                        }\n",
       "                    </style>\n",
       "                    &nbsp;\n",
       "                  </div>\n",
       "                </div>"
      ],
      "text/plain": [
       "HtmlProgressBar cannot be displayed. Please use the TerminalProgressBar. It can be enabled with `nengo.rc.set('progress', 'progress_bar', 'nengo.utils.progress.TerminalProgressBar')`."
      ]
     },
     "metadata": {},
     "output_type": "display_data"
    },
    {
     "data": {
      "application/javascript": [
       "\n",
       "              (function () {\n",
       "                  var root = document.getElementById('02358bf1-4761-4e15-b355-e306b276f487');\n",
       "                  var text = root.getElementsByClassName('pb-text')[0];\n",
       "                  var fill = root.getElementsByClassName('pb-fill')[0];\n",
       "\n",
       "                  text.innerHTML = 'Simulation finished in 0:01:53.';\n",
       "                  \n",
       "            if (100.0 > 0.) {\n",
       "                fill.style.transition = 'width 0.1s linear';\n",
       "            } else {\n",
       "                fill.style.transition = 'none';\n",
       "            }\n",
       "\n",
       "            fill.style.width = '100.0%';\n",
       "            fill.style.animation = 'none';\n",
       "            fill.style.backgroundImage = 'none'\n",
       "        \n",
       "                  \n",
       "                fill.style.animation = 'none';\n",
       "                fill.style.backgroundImage = 'none';\n",
       "            \n",
       "              })();\n",
       "        "
      ],
      "text/plain": [
       "<IPython.core.display.Javascript object>"
      ]
     },
     "metadata": {},
     "output_type": "display_data"
    },
    {
     "name": "stdout",
     "output_type": "stream",
     "text": [
      "seed = 3\n",
      "backend = 'nengo_ocl'\n",
      "dt = 0.001\n",
      "neuron_type = 'default'\n",
      "n_neurons_scale = 1\n",
      "s_crosstalk = 0\n",
      "s_evidence = None\n",
      "t_senso = 0\n",
      "vocab = <nengo_spa.vocabulary.Vocabulary object at 0x7fe8e17e4110>\n",
      "xp = <experiments.Xp1 object at 0x7fe8a4c270d0>\n",
      "proc_feedback = 0.9\n",
      "proc_feedback_synapse = 0.005\n",
      "GW_feedback = 1\n",
      "GW_threshold = 0.5\n",
      "GW_scale = 2\n",
      "BG_thr = 0.1\n",
      "BG_bias = 0.5\n",
      "integrator_reset = True\n",
      "data = <data.Data object at 0x7fe8ac221290>\n",
      "\t seed 4/20\n",
      "running run_seed4_dim112\n"
     ]
    },
    {
     "data": {
      "text/html": [
       "\n",
       "                <div id=\"6de38535-e742-4d35-a4cf-ce06636cd3d7\" style=\"\n",
       "                    width: 100%;\n",
       "                    border: 1px solid #cfcfcf;\n",
       "                    border-radius: 4px;\n",
       "                    text-align: center;\n",
       "                    position: relative;\">\n",
       "                  <div class=\"pb-text\" style=\"\n",
       "                      position: absolute;\n",
       "                      width: 100%;\">\n",
       "                    0%\n",
       "                  </div>\n",
       "                  <div class=\"pb-fill\" style=\"\n",
       "                      background-color: #bdd2e6;\n",
       "                      width: 0%;\">\n",
       "                    <style type=\"text/css\" scoped=\"scoped\">\n",
       "                        @keyframes pb-fill-anim {\n",
       "                            0% { background-position: 0 0; }\n",
       "                            100% { background-position: 100px 0; }\n",
       "                        }\n",
       "                    </style>\n",
       "                    &nbsp;\n",
       "                  </div>\n",
       "                </div>"
      ],
      "text/plain": [
       "HtmlProgressBar cannot be displayed. Please use the TerminalProgressBar. It can be enabled with `nengo.rc.set('progress', 'progress_bar', 'nengo.utils.progress.TerminalProgressBar')`."
      ]
     },
     "metadata": {},
     "output_type": "display_data"
    },
    {
     "data": {
      "application/javascript": [
       "\n",
       "              (function () {\n",
       "                  var root = document.getElementById('6de38535-e742-4d35-a4cf-ce06636cd3d7');\n",
       "                  var text = root.getElementsByClassName('pb-text')[0];\n",
       "                  var fill = root.getElementsByClassName('pb-fill')[0];\n",
       "\n",
       "                  text.innerHTML = 'Simulation finished in 0:01:54.';\n",
       "                  \n",
       "            if (100.0 > 0.) {\n",
       "                fill.style.transition = 'width 0.1s linear';\n",
       "            } else {\n",
       "                fill.style.transition = 'none';\n",
       "            }\n",
       "\n",
       "            fill.style.width = '100.0%';\n",
       "            fill.style.animation = 'none';\n",
       "            fill.style.backgroundImage = 'none'\n",
       "        \n",
       "                  \n",
       "                fill.style.animation = 'none';\n",
       "                fill.style.backgroundImage = 'none';\n",
       "            \n",
       "              })();\n",
       "        "
      ],
      "text/plain": [
       "<IPython.core.display.Javascript object>"
      ]
     },
     "metadata": {},
     "output_type": "display_data"
    },
    {
     "name": "stdout",
     "output_type": "stream",
     "text": [
      "seed = 4\n",
      "backend = 'nengo_ocl'\n",
      "dt = 0.001\n",
      "neuron_type = 'default'\n",
      "n_neurons_scale = 1\n",
      "s_crosstalk = 0\n",
      "s_evidence = None\n",
      "t_senso = 0\n",
      "vocab = <nengo_spa.vocabulary.Vocabulary object at 0x7fe8e1d8bc90>\n",
      "xp = <experiments.Xp1 object at 0x7fe8e17f3dd0>\n",
      "proc_feedback = 0.9\n",
      "proc_feedback_synapse = 0.005\n",
      "GW_feedback = 1\n",
      "GW_threshold = 0.5\n",
      "GW_scale = 2\n",
      "BG_thr = 0.1\n",
      "BG_bias = 0.5\n",
      "integrator_reset = True\n",
      "data = <data.Data object at 0x7fe8ac336d90>\n",
      "\t seed 5/20\n",
      "running run_seed5_dim112\n"
     ]
    },
    {
     "data": {
      "text/html": [
       "\n",
       "                <div id=\"7497a681-83fa-441e-ad9b-e57962bd3db3\" style=\"\n",
       "                    width: 100%;\n",
       "                    border: 1px solid #cfcfcf;\n",
       "                    border-radius: 4px;\n",
       "                    text-align: center;\n",
       "                    position: relative;\">\n",
       "                  <div class=\"pb-text\" style=\"\n",
       "                      position: absolute;\n",
       "                      width: 100%;\">\n",
       "                    0%\n",
       "                  </div>\n",
       "                  <div class=\"pb-fill\" style=\"\n",
       "                      background-color: #bdd2e6;\n",
       "                      width: 0%;\">\n",
       "                    <style type=\"text/css\" scoped=\"scoped\">\n",
       "                        @keyframes pb-fill-anim {\n",
       "                            0% { background-position: 0 0; }\n",
       "                            100% { background-position: 100px 0; }\n",
       "                        }\n",
       "                    </style>\n",
       "                    &nbsp;\n",
       "                  </div>\n",
       "                </div>"
      ],
      "text/plain": [
       "HtmlProgressBar cannot be displayed. Please use the TerminalProgressBar. It can be enabled with `nengo.rc.set('progress', 'progress_bar', 'nengo.utils.progress.TerminalProgressBar')`."
      ]
     },
     "metadata": {},
     "output_type": "display_data"
    },
    {
     "data": {
      "application/javascript": [
       "\n",
       "              (function () {\n",
       "                  var root = document.getElementById('7497a681-83fa-441e-ad9b-e57962bd3db3');\n",
       "                  var text = root.getElementsByClassName('pb-text')[0];\n",
       "                  var fill = root.getElementsByClassName('pb-fill')[0];\n",
       "\n",
       "                  text.innerHTML = 'Simulation finished in 0:01:54.';\n",
       "                  \n",
       "            if (100.0 > 0.) {\n",
       "                fill.style.transition = 'width 0.1s linear';\n",
       "            } else {\n",
       "                fill.style.transition = 'none';\n",
       "            }\n",
       "\n",
       "            fill.style.width = '100.0%';\n",
       "            fill.style.animation = 'none';\n",
       "            fill.style.backgroundImage = 'none'\n",
       "        \n",
       "                  \n",
       "                fill.style.animation = 'none';\n",
       "                fill.style.backgroundImage = 'none';\n",
       "            \n",
       "              })();\n",
       "        "
      ],
      "text/plain": [
       "<IPython.core.display.Javascript object>"
      ]
     },
     "metadata": {},
     "output_type": "display_data"
    },
    {
     "name": "stdout",
     "output_type": "stream",
     "text": [
      "seed = 5\n",
      "backend = 'nengo_ocl'\n",
      "dt = 0.001\n",
      "neuron_type = 'default'\n",
      "n_neurons_scale = 1\n",
      "s_crosstalk = 0\n",
      "s_evidence = None\n",
      "t_senso = 0\n",
      "vocab = <nengo_spa.vocabulary.Vocabulary object at 0x7fe8c19fbcd0>\n",
      "xp = <experiments.Xp1 object at 0x7fe8cd5e3f10>\n",
      "proc_feedback = 0.9\n",
      "proc_feedback_synapse = 0.005\n",
      "GW_feedback = 1\n",
      "GW_threshold = 0.5\n",
      "GW_scale = 2\n",
      "BG_thr = 0.1\n",
      "BG_bias = 0.5\n",
      "integrator_reset = True\n",
      "data = <data.Data object at 0x7fe8adece150>\n",
      "\t seed 6/20\n",
      "running run_seed6_dim112\n"
     ]
    },
    {
     "data": {
      "text/html": [
       "\n",
       "                <div id=\"90c3255b-60d3-4a05-be65-46de123d2c7e\" style=\"\n",
       "                    width: 100%;\n",
       "                    border: 1px solid #cfcfcf;\n",
       "                    border-radius: 4px;\n",
       "                    text-align: center;\n",
       "                    position: relative;\">\n",
       "                  <div class=\"pb-text\" style=\"\n",
       "                      position: absolute;\n",
       "                      width: 100%;\">\n",
       "                    0%\n",
       "                  </div>\n",
       "                  <div class=\"pb-fill\" style=\"\n",
       "                      background-color: #bdd2e6;\n",
       "                      width: 0%;\">\n",
       "                    <style type=\"text/css\" scoped=\"scoped\">\n",
       "                        @keyframes pb-fill-anim {\n",
       "                            0% { background-position: 0 0; }\n",
       "                            100% { background-position: 100px 0; }\n",
       "                        }\n",
       "                    </style>\n",
       "                    &nbsp;\n",
       "                  </div>\n",
       "                </div>"
      ],
      "text/plain": [
       "HtmlProgressBar cannot be displayed. Please use the TerminalProgressBar. It can be enabled with `nengo.rc.set('progress', 'progress_bar', 'nengo.utils.progress.TerminalProgressBar')`."
      ]
     },
     "metadata": {},
     "output_type": "display_data"
    },
    {
     "data": {
      "application/javascript": [
       "\n",
       "              (function () {\n",
       "                  var root = document.getElementById('90c3255b-60d3-4a05-be65-46de123d2c7e');\n",
       "                  var text = root.getElementsByClassName('pb-text')[0];\n",
       "                  var fill = root.getElementsByClassName('pb-fill')[0];\n",
       "\n",
       "                  text.innerHTML = 'Simulation finished in 0:01:53.';\n",
       "                  \n",
       "            if (100.0 > 0.) {\n",
       "                fill.style.transition = 'width 0.1s linear';\n",
       "            } else {\n",
       "                fill.style.transition = 'none';\n",
       "            }\n",
       "\n",
       "            fill.style.width = '100.0%';\n",
       "            fill.style.animation = 'none';\n",
       "            fill.style.backgroundImage = 'none'\n",
       "        \n",
       "                  \n",
       "                fill.style.animation = 'none';\n",
       "                fill.style.backgroundImage = 'none';\n",
       "            \n",
       "              })();\n",
       "        "
      ],
      "text/plain": [
       "<IPython.core.display.Javascript object>"
      ]
     },
     "metadata": {},
     "output_type": "display_data"
    },
    {
     "name": "stdout",
     "output_type": "stream",
     "text": [
      "seed = 6\n",
      "backend = 'nengo_ocl'\n",
      "dt = 0.001\n",
      "neuron_type = 'default'\n",
      "n_neurons_scale = 1\n",
      "s_crosstalk = 0\n",
      "s_evidence = None\n",
      "t_senso = 0\n",
      "vocab = <nengo_spa.vocabulary.Vocabulary object at 0x7fe8a4c3dd10>\n",
      "xp = <experiments.Xp1 object at 0x7fe8890f9890>\n",
      "proc_feedback = 0.9\n",
      "proc_feedback_synapse = 0.005\n",
      "GW_feedback = 1\n",
      "GW_threshold = 0.5\n",
      "GW_scale = 2\n",
      "BG_thr = 0.1\n",
      "BG_bias = 0.5\n",
      "integrator_reset = True\n",
      "data = <data.Data object at 0x7fe8ac8ae790>\n",
      "\t seed 7/20\n"
     ]
    },
    {
     "name": "stderr",
     "output_type": "stream",
     "text": [
      "/home/ubuntu/anaconda3/envs/CTN/lib/python3.7/site-packages/nengo_spa/vocabulary.py:173: UserWarning: Could not create a semantic pointer with max_similarity=0.10 (D=112, M=20, similarity=0.10)\n",
      "  len(self._key2idx), best_sim))\n",
      "/home/ubuntu/anaconda3/envs/CTN/lib/python3.7/site-packages/nengo_spa/vocabulary.py:173: UserWarning: Could not create a semantic pointer with max_similarity=0.10 (D=112, M=21, similarity=0.10)\n",
      "  len(self._key2idx), best_sim))\n"
     ]
    },
    {
     "name": "stdout",
     "output_type": "stream",
     "text": [
      "running run_seed7_dim112\n"
     ]
    },
    {
     "data": {
      "text/html": [
       "\n",
       "                <div id=\"5a8485db-85d8-4871-8934-705f7c7f6592\" style=\"\n",
       "                    width: 100%;\n",
       "                    border: 1px solid #cfcfcf;\n",
       "                    border-radius: 4px;\n",
       "                    text-align: center;\n",
       "                    position: relative;\">\n",
       "                  <div class=\"pb-text\" style=\"\n",
       "                      position: absolute;\n",
       "                      width: 100%;\">\n",
       "                    0%\n",
       "                  </div>\n",
       "                  <div class=\"pb-fill\" style=\"\n",
       "                      background-color: #bdd2e6;\n",
       "                      width: 0%;\">\n",
       "                    <style type=\"text/css\" scoped=\"scoped\">\n",
       "                        @keyframes pb-fill-anim {\n",
       "                            0% { background-position: 0 0; }\n",
       "                            100% { background-position: 100px 0; }\n",
       "                        }\n",
       "                    </style>\n",
       "                    &nbsp;\n",
       "                  </div>\n",
       "                </div>"
      ],
      "text/plain": [
       "HtmlProgressBar cannot be displayed. Please use the TerminalProgressBar. It can be enabled with `nengo.rc.set('progress', 'progress_bar', 'nengo.utils.progress.TerminalProgressBar')`."
      ]
     },
     "metadata": {},
     "output_type": "display_data"
    },
    {
     "data": {
      "application/javascript": [
       "\n",
       "              (function () {\n",
       "                  var root = document.getElementById('5a8485db-85d8-4871-8934-705f7c7f6592');\n",
       "                  var text = root.getElementsByClassName('pb-text')[0];\n",
       "                  var fill = root.getElementsByClassName('pb-fill')[0];\n",
       "\n",
       "                  text.innerHTML = 'Simulation finished in 0:01:52.';\n",
       "                  \n",
       "            if (100.0 > 0.) {\n",
       "                fill.style.transition = 'width 0.1s linear';\n",
       "            } else {\n",
       "                fill.style.transition = 'none';\n",
       "            }\n",
       "\n",
       "            fill.style.width = '100.0%';\n",
       "            fill.style.animation = 'none';\n",
       "            fill.style.backgroundImage = 'none'\n",
       "        \n",
       "                  \n",
       "                fill.style.animation = 'none';\n",
       "                fill.style.backgroundImage = 'none';\n",
       "            \n",
       "              })();\n",
       "        "
      ],
      "text/plain": [
       "<IPython.core.display.Javascript object>"
      ]
     },
     "metadata": {},
     "output_type": "display_data"
    },
    {
     "name": "stdout",
     "output_type": "stream",
     "text": [
      "seed = 7\n",
      "backend = 'nengo_ocl'\n",
      "dt = 0.001\n",
      "neuron_type = 'default'\n",
      "n_neurons_scale = 1\n",
      "s_crosstalk = 0\n",
      "s_evidence = None\n",
      "t_senso = 0\n",
      "vocab = <nengo_spa.vocabulary.Vocabulary object at 0x7fe8cce3d290>\n",
      "xp = <experiments.Xp1 object at 0x7fe8adece150>\n",
      "proc_feedback = 0.9\n",
      "proc_feedback_synapse = 0.005\n",
      "GW_feedback = 1\n",
      "GW_threshold = 0.5\n",
      "GW_scale = 2\n",
      "BG_thr = 0.1\n",
      "BG_bias = 0.5\n",
      "integrator_reset = True\n",
      "data = <data.Data object at 0x7fe8c1718750>\n",
      "\t seed 8/20\n",
      "running run_seed8_dim112\n"
     ]
    },
    {
     "data": {
      "text/html": [
       "\n",
       "                <div id=\"46c410bf-8dc1-49bd-9da5-d6b9ac9b8681\" style=\"\n",
       "                    width: 100%;\n",
       "                    border: 1px solid #cfcfcf;\n",
       "                    border-radius: 4px;\n",
       "                    text-align: center;\n",
       "                    position: relative;\">\n",
       "                  <div class=\"pb-text\" style=\"\n",
       "                      position: absolute;\n",
       "                      width: 100%;\">\n",
       "                    0%\n",
       "                  </div>\n",
       "                  <div class=\"pb-fill\" style=\"\n",
       "                      background-color: #bdd2e6;\n",
       "                      width: 0%;\">\n",
       "                    <style type=\"text/css\" scoped=\"scoped\">\n",
       "                        @keyframes pb-fill-anim {\n",
       "                            0% { background-position: 0 0; }\n",
       "                            100% { background-position: 100px 0; }\n",
       "                        }\n",
       "                    </style>\n",
       "                    &nbsp;\n",
       "                  </div>\n",
       "                </div>"
      ],
      "text/plain": [
       "HtmlProgressBar cannot be displayed. Please use the TerminalProgressBar. It can be enabled with `nengo.rc.set('progress', 'progress_bar', 'nengo.utils.progress.TerminalProgressBar')`."
      ]
     },
     "metadata": {},
     "output_type": "display_data"
    },
    {
     "data": {
      "application/javascript": [
       "\n",
       "              (function () {\n",
       "                  var root = document.getElementById('46c410bf-8dc1-49bd-9da5-d6b9ac9b8681');\n",
       "                  var text = root.getElementsByClassName('pb-text')[0];\n",
       "                  var fill = root.getElementsByClassName('pb-fill')[0];\n",
       "\n",
       "                  text.innerHTML = 'Simulation finished in 0:01:55.';\n",
       "                  \n",
       "            if (100.0 > 0.) {\n",
       "                fill.style.transition = 'width 0.1s linear';\n",
       "            } else {\n",
       "                fill.style.transition = 'none';\n",
       "            }\n",
       "\n",
       "            fill.style.width = '100.0%';\n",
       "            fill.style.animation = 'none';\n",
       "            fill.style.backgroundImage = 'none'\n",
       "        \n",
       "                  \n",
       "                fill.style.animation = 'none';\n",
       "                fill.style.backgroundImage = 'none';\n",
       "            \n",
       "              })();\n",
       "        "
      ],
      "text/plain": [
       "<IPython.core.display.Javascript object>"
      ]
     },
     "metadata": {},
     "output_type": "display_data"
    },
    {
     "name": "stdout",
     "output_type": "stream",
     "text": [
      "seed = 8\n",
      "backend = 'nengo_ocl'\n",
      "dt = 0.001\n",
      "neuron_type = 'default'\n",
      "n_neurons_scale = 1\n",
      "s_crosstalk = 0\n",
      "s_evidence = None\n",
      "t_senso = 0\n",
      "vocab = <nengo_spa.vocabulary.Vocabulary object at 0x7fe8e1360990>\n",
      "xp = <experiments.Xp1 object at 0x7fe8e1360a10>\n",
      "proc_feedback = 0.9\n",
      "proc_feedback_synapse = 0.005\n",
      "GW_feedback = 1\n",
      "GW_threshold = 0.5\n",
      "GW_scale = 2\n",
      "BG_thr = 0.1\n",
      "BG_bias = 0.5\n",
      "integrator_reset = True\n",
      "data = <data.Data object at 0x7fe8a732dc90>\n",
      "\t seed 9/20\n",
      "running run_seed9_dim112\n"
     ]
    },
    {
     "data": {
      "text/html": [
       "\n",
       "                <div id=\"bf923e15-9283-4a1f-a221-bdc72d4df542\" style=\"\n",
       "                    width: 100%;\n",
       "                    border: 1px solid #cfcfcf;\n",
       "                    border-radius: 4px;\n",
       "                    text-align: center;\n",
       "                    position: relative;\">\n",
       "                  <div class=\"pb-text\" style=\"\n",
       "                      position: absolute;\n",
       "                      width: 100%;\">\n",
       "                    0%\n",
       "                  </div>\n",
       "                  <div class=\"pb-fill\" style=\"\n",
       "                      background-color: #bdd2e6;\n",
       "                      width: 0%;\">\n",
       "                    <style type=\"text/css\" scoped=\"scoped\">\n",
       "                        @keyframes pb-fill-anim {\n",
       "                            0% { background-position: 0 0; }\n",
       "                            100% { background-position: 100px 0; }\n",
       "                        }\n",
       "                    </style>\n",
       "                    &nbsp;\n",
       "                  </div>\n",
       "                </div>"
      ],
      "text/plain": [
       "HtmlProgressBar cannot be displayed. Please use the TerminalProgressBar. It can be enabled with `nengo.rc.set('progress', 'progress_bar', 'nengo.utils.progress.TerminalProgressBar')`."
      ]
     },
     "metadata": {},
     "output_type": "display_data"
    },
    {
     "data": {
      "application/javascript": [
       "\n",
       "              (function () {\n",
       "                  var root = document.getElementById('bf923e15-9283-4a1f-a221-bdc72d4df542');\n",
       "                  var text = root.getElementsByClassName('pb-text')[0];\n",
       "                  var fill = root.getElementsByClassName('pb-fill')[0];\n",
       "\n",
       "                  text.innerHTML = 'Simulation finished in 0:01:56.';\n",
       "                  \n",
       "            if (100.0 > 0.) {\n",
       "                fill.style.transition = 'width 0.1s linear';\n",
       "            } else {\n",
       "                fill.style.transition = 'none';\n",
       "            }\n",
       "\n",
       "            fill.style.width = '100.0%';\n",
       "            fill.style.animation = 'none';\n",
       "            fill.style.backgroundImage = 'none'\n",
       "        \n",
       "                  \n",
       "                fill.style.animation = 'none';\n",
       "                fill.style.backgroundImage = 'none';\n",
       "            \n",
       "              })();\n",
       "        "
      ],
      "text/plain": [
       "<IPython.core.display.Javascript object>"
      ]
     },
     "metadata": {},
     "output_type": "display_data"
    },
    {
     "name": "stdout",
     "output_type": "stream",
     "text": [
      "seed = 9\n",
      "backend = 'nengo_ocl'\n",
      "dt = 0.001\n",
      "neuron_type = 'default'\n",
      "n_neurons_scale = 1\n",
      "s_crosstalk = 0\n",
      "s_evidence = None\n",
      "t_senso = 0\n",
      "vocab = <nengo_spa.vocabulary.Vocabulary object at 0x7fe8ac21b9d0>\n",
      "xp = <experiments.Xp1 object at 0x7fe8c1775e10>\n",
      "proc_feedback = 0.9\n",
      "proc_feedback_synapse = 0.005\n",
      "GW_feedback = 1\n",
      "GW_threshold = 0.5\n",
      "GW_scale = 2\n",
      "BG_thr = 0.1\n",
      "BG_bias = 0.5\n",
      "integrator_reset = True\n",
      "data = <data.Data object at 0x7fe8ac225590>\n",
      "\t seed 10/20\n",
      "running run_seed10_dim112\n"
     ]
    },
    {
     "data": {
      "text/html": [
       "\n",
       "                <div id=\"1c48d61f-9b5e-4609-b415-3c99fe993f7c\" style=\"\n",
       "                    width: 100%;\n",
       "                    border: 1px solid #cfcfcf;\n",
       "                    border-radius: 4px;\n",
       "                    text-align: center;\n",
       "                    position: relative;\">\n",
       "                  <div class=\"pb-text\" style=\"\n",
       "                      position: absolute;\n",
       "                      width: 100%;\">\n",
       "                    0%\n",
       "                  </div>\n",
       "                  <div class=\"pb-fill\" style=\"\n",
       "                      background-color: #bdd2e6;\n",
       "                      width: 0%;\">\n",
       "                    <style type=\"text/css\" scoped=\"scoped\">\n",
       "                        @keyframes pb-fill-anim {\n",
       "                            0% { background-position: 0 0; }\n",
       "                            100% { background-position: 100px 0; }\n",
       "                        }\n",
       "                    </style>\n",
       "                    &nbsp;\n",
       "                  </div>\n",
       "                </div>"
      ],
      "text/plain": [
       "HtmlProgressBar cannot be displayed. Please use the TerminalProgressBar. It can be enabled with `nengo.rc.set('progress', 'progress_bar', 'nengo.utils.progress.TerminalProgressBar')`."
      ]
     },
     "metadata": {},
     "output_type": "display_data"
    },
    {
     "data": {
      "application/javascript": [
       "\n",
       "              (function () {\n",
       "                  var root = document.getElementById('1c48d61f-9b5e-4609-b415-3c99fe993f7c');\n",
       "                  var text = root.getElementsByClassName('pb-text')[0];\n",
       "                  var fill = root.getElementsByClassName('pb-fill')[0];\n",
       "\n",
       "                  text.innerHTML = 'Simulation finished in 0:01:49.';\n",
       "                  \n",
       "            if (100.0 > 0.) {\n",
       "                fill.style.transition = 'width 0.1s linear';\n",
       "            } else {\n",
       "                fill.style.transition = 'none';\n",
       "            }\n",
       "\n",
       "            fill.style.width = '100.0%';\n",
       "            fill.style.animation = 'none';\n",
       "            fill.style.backgroundImage = 'none'\n",
       "        \n",
       "                  \n",
       "                fill.style.animation = 'none';\n",
       "                fill.style.backgroundImage = 'none';\n",
       "            \n",
       "              })();\n",
       "        "
      ],
      "text/plain": [
       "<IPython.core.display.Javascript object>"
      ]
     },
     "metadata": {},
     "output_type": "display_data"
    },
    {
     "name": "stdout",
     "output_type": "stream",
     "text": [
      "seed = 10\n",
      "backend = 'nengo_ocl'\n",
      "dt = 0.001\n",
      "neuron_type = 'default'\n",
      "n_neurons_scale = 1\n",
      "s_crosstalk = 0\n",
      "s_evidence = None\n",
      "t_senso = 0\n",
      "vocab = <nengo_spa.vocabulary.Vocabulary object at 0x7fe8e171fb90>\n",
      "xp = <experiments.Xp1 object at 0x7fe8e1711950>\n",
      "proc_feedback = 0.9\n",
      "proc_feedback_synapse = 0.005\n",
      "GW_feedback = 1\n",
      "GW_threshold = 0.5\n",
      "GW_scale = 2\n",
      "BG_thr = 0.1\n",
      "BG_bias = 0.5\n",
      "integrator_reset = True\n",
      "data = <data.Data object at 0x7fe8ccf8aad0>\n",
      "\t seed 11/20\n",
      "running run_seed11_dim112\n"
     ]
    },
    {
     "data": {
      "text/html": [
       "\n",
       "                <div id=\"7369f434-d9a1-446d-a186-b918fefbca6e\" style=\"\n",
       "                    width: 100%;\n",
       "                    border: 1px solid #cfcfcf;\n",
       "                    border-radius: 4px;\n",
       "                    text-align: center;\n",
       "                    position: relative;\">\n",
       "                  <div class=\"pb-text\" style=\"\n",
       "                      position: absolute;\n",
       "                      width: 100%;\">\n",
       "                    0%\n",
       "                  </div>\n",
       "                  <div class=\"pb-fill\" style=\"\n",
       "                      background-color: #bdd2e6;\n",
       "                      width: 0%;\">\n",
       "                    <style type=\"text/css\" scoped=\"scoped\">\n",
       "                        @keyframes pb-fill-anim {\n",
       "                            0% { background-position: 0 0; }\n",
       "                            100% { background-position: 100px 0; }\n",
       "                        }\n",
       "                    </style>\n",
       "                    &nbsp;\n",
       "                  </div>\n",
       "                </div>"
      ],
      "text/plain": [
       "HtmlProgressBar cannot be displayed. Please use the TerminalProgressBar. It can be enabled with `nengo.rc.set('progress', 'progress_bar', 'nengo.utils.progress.TerminalProgressBar')`."
      ]
     },
     "metadata": {},
     "output_type": "display_data"
    },
    {
     "data": {
      "application/javascript": [
       "\n",
       "              (function () {\n",
       "                  var root = document.getElementById('7369f434-d9a1-446d-a186-b918fefbca6e');\n",
       "                  var text = root.getElementsByClassName('pb-text')[0];\n",
       "                  var fill = root.getElementsByClassName('pb-fill')[0];\n",
       "\n",
       "                  text.innerHTML = 'Simulation finished in 0:01:45.';\n",
       "                  \n",
       "            if (100.0 > 0.) {\n",
       "                fill.style.transition = 'width 0.1s linear';\n",
       "            } else {\n",
       "                fill.style.transition = 'none';\n",
       "            }\n",
       "\n",
       "            fill.style.width = '100.0%';\n",
       "            fill.style.animation = 'none';\n",
       "            fill.style.backgroundImage = 'none'\n",
       "        \n",
       "                  \n",
       "                fill.style.animation = 'none';\n",
       "                fill.style.backgroundImage = 'none';\n",
       "            \n",
       "              })();\n",
       "        "
      ],
      "text/plain": [
       "<IPython.core.display.Javascript object>"
      ]
     },
     "metadata": {},
     "output_type": "display_data"
    },
    {
     "name": "stdout",
     "output_type": "stream",
     "text": [
      "seed = 11\n",
      "backend = 'nengo_ocl'\n",
      "dt = 0.001\n",
      "neuron_type = 'default'\n",
      "n_neurons_scale = 1\n",
      "s_crosstalk = 0\n",
      "s_evidence = None\n",
      "t_senso = 0\n",
      "vocab = <nengo_spa.vocabulary.Vocabulary object at 0x7fe8a4c46610>\n",
      "xp = <experiments.Xp1 object at 0x7fe8a671a790>\n",
      "proc_feedback = 0.9\n",
      "proc_feedback_synapse = 0.005\n",
      "GW_feedback = 1\n",
      "GW_threshold = 0.5\n",
      "GW_scale = 2\n",
      "BG_thr = 0.1\n",
      "BG_bias = 0.5\n",
      "integrator_reset = True\n",
      "data = <data.Data object at 0x7fe8af182b90>\n",
      "\t seed 12/20\n",
      "running run_seed12_dim112\n"
     ]
    },
    {
     "data": {
      "text/html": [
       "\n",
       "                <div id=\"524afe58-340e-4e03-9d6d-7affbdf24593\" style=\"\n",
       "                    width: 100%;\n",
       "                    border: 1px solid #cfcfcf;\n",
       "                    border-radius: 4px;\n",
       "                    text-align: center;\n",
       "                    position: relative;\">\n",
       "                  <div class=\"pb-text\" style=\"\n",
       "                      position: absolute;\n",
       "                      width: 100%;\">\n",
       "                    0%\n",
       "                  </div>\n",
       "                  <div class=\"pb-fill\" style=\"\n",
       "                      background-color: #bdd2e6;\n",
       "                      width: 0%;\">\n",
       "                    <style type=\"text/css\" scoped=\"scoped\">\n",
       "                        @keyframes pb-fill-anim {\n",
       "                            0% { background-position: 0 0; }\n",
       "                            100% { background-position: 100px 0; }\n",
       "                        }\n",
       "                    </style>\n",
       "                    &nbsp;\n",
       "                  </div>\n",
       "                </div>"
      ],
      "text/plain": [
       "HtmlProgressBar cannot be displayed. Please use the TerminalProgressBar. It can be enabled with `nengo.rc.set('progress', 'progress_bar', 'nengo.utils.progress.TerminalProgressBar')`."
      ]
     },
     "metadata": {},
     "output_type": "display_data"
    },
    {
     "data": {
      "application/javascript": [
       "\n",
       "              (function () {\n",
       "                  var root = document.getElementById('524afe58-340e-4e03-9d6d-7affbdf24593');\n",
       "                  var text = root.getElementsByClassName('pb-text')[0];\n",
       "                  var fill = root.getElementsByClassName('pb-fill')[0];\n",
       "\n",
       "                  text.innerHTML = 'Simulation finished in 0:01:45.';\n",
       "                  \n",
       "            if (100.0 > 0.) {\n",
       "                fill.style.transition = 'width 0.1s linear';\n",
       "            } else {\n",
       "                fill.style.transition = 'none';\n",
       "            }\n",
       "\n",
       "            fill.style.width = '100.0%';\n",
       "            fill.style.animation = 'none';\n",
       "            fill.style.backgroundImage = 'none'\n",
       "        \n",
       "                  \n",
       "                fill.style.animation = 'none';\n",
       "                fill.style.backgroundImage = 'none';\n",
       "            \n",
       "              })();\n",
       "        "
      ],
      "text/plain": [
       "<IPython.core.display.Javascript object>"
      ]
     },
     "metadata": {},
     "output_type": "display_data"
    },
    {
     "name": "stdout",
     "output_type": "stream",
     "text": [
      "seed = 12\n",
      "backend = 'nengo_ocl'\n",
      "dt = 0.001\n",
      "neuron_type = 'default'\n",
      "n_neurons_scale = 1\n",
      "s_crosstalk = 0\n",
      "s_evidence = None\n",
      "t_senso = 0\n",
      "vocab = <nengo_spa.vocabulary.Vocabulary object at 0x7fe8a740d090>\n",
      "xp = <experiments.Xp1 object at 0x7fe8acada610>\n",
      "proc_feedback = 0.9\n",
      "proc_feedback_synapse = 0.005\n",
      "GW_feedback = 1\n",
      "GW_threshold = 0.5\n",
      "GW_scale = 2\n",
      "BG_thr = 0.1\n",
      "BG_bias = 0.5\n",
      "integrator_reset = True\n",
      "data = <data.Data object at 0x7fe8e1344a10>\n",
      "\t seed 13/20\n",
      "running run_seed13_dim112\n"
     ]
    },
    {
     "data": {
      "text/html": [
       "\n",
       "                <div id=\"7ade1a6c-8d7c-458a-8fcb-00a921e5dc1a\" style=\"\n",
       "                    width: 100%;\n",
       "                    border: 1px solid #cfcfcf;\n",
       "                    border-radius: 4px;\n",
       "                    text-align: center;\n",
       "                    position: relative;\">\n",
       "                  <div class=\"pb-text\" style=\"\n",
       "                      position: absolute;\n",
       "                      width: 100%;\">\n",
       "                    0%\n",
       "                  </div>\n",
       "                  <div class=\"pb-fill\" style=\"\n",
       "                      background-color: #bdd2e6;\n",
       "                      width: 0%;\">\n",
       "                    <style type=\"text/css\" scoped=\"scoped\">\n",
       "                        @keyframes pb-fill-anim {\n",
       "                            0% { background-position: 0 0; }\n",
       "                            100% { background-position: 100px 0; }\n",
       "                        }\n",
       "                    </style>\n",
       "                    &nbsp;\n",
       "                  </div>\n",
       "                </div>"
      ],
      "text/plain": [
       "HtmlProgressBar cannot be displayed. Please use the TerminalProgressBar. It can be enabled with `nengo.rc.set('progress', 'progress_bar', 'nengo.utils.progress.TerminalProgressBar')`."
      ]
     },
     "metadata": {},
     "output_type": "display_data"
    },
    {
     "data": {
      "application/javascript": [
       "\n",
       "              (function () {\n",
       "                  var root = document.getElementById('7ade1a6c-8d7c-458a-8fcb-00a921e5dc1a');\n",
       "                  var text = root.getElementsByClassName('pb-text')[0];\n",
       "                  var fill = root.getElementsByClassName('pb-fill')[0];\n",
       "\n",
       "                  text.innerHTML = 'Simulation finished in 0:01:43.';\n",
       "                  \n",
       "            if (100.0 > 0.) {\n",
       "                fill.style.transition = 'width 0.1s linear';\n",
       "            } else {\n",
       "                fill.style.transition = 'none';\n",
       "            }\n",
       "\n",
       "            fill.style.width = '100.0%';\n",
       "            fill.style.animation = 'none';\n",
       "            fill.style.backgroundImage = 'none'\n",
       "        \n",
       "                  \n",
       "                fill.style.animation = 'none';\n",
       "                fill.style.backgroundImage = 'none';\n",
       "            \n",
       "              })();\n",
       "        "
      ],
      "text/plain": [
       "<IPython.core.display.Javascript object>"
      ]
     },
     "metadata": {},
     "output_type": "display_data"
    },
    {
     "name": "stdout",
     "output_type": "stream",
     "text": [
      "seed = 13\n",
      "backend = 'nengo_ocl'\n",
      "dt = 0.001\n",
      "neuron_type = 'default'\n",
      "n_neurons_scale = 1\n",
      "s_crosstalk = 0\n",
      "s_evidence = None\n",
      "t_senso = 0\n",
      "vocab = <nengo_spa.vocabulary.Vocabulary object at 0x7fe8e1379f90>\n",
      "xp = <experiments.Xp1 object at 0x7fe8a404ed50>\n",
      "proc_feedback = 0.9\n",
      "proc_feedback_synapse = 0.005\n",
      "GW_feedback = 1\n",
      "GW_threshold = 0.5\n",
      "GW_scale = 2\n",
      "BG_thr = 0.1\n",
      "BG_bias = 0.5\n",
      "integrator_reset = True\n",
      "data = <data.Data object at 0x7fe8adeced10>\n",
      "\t seed 14/20\n",
      "running run_seed14_dim112\n"
     ]
    },
    {
     "data": {
      "text/html": [
       "\n",
       "                <div id=\"fe004fcf-56a8-4ebe-b8c7-16c371d1b801\" style=\"\n",
       "                    width: 100%;\n",
       "                    border: 1px solid #cfcfcf;\n",
       "                    border-radius: 4px;\n",
       "                    text-align: center;\n",
       "                    position: relative;\">\n",
       "                  <div class=\"pb-text\" style=\"\n",
       "                      position: absolute;\n",
       "                      width: 100%;\">\n",
       "                    0%\n",
       "                  </div>\n",
       "                  <div class=\"pb-fill\" style=\"\n",
       "                      background-color: #bdd2e6;\n",
       "                      width: 0%;\">\n",
       "                    <style type=\"text/css\" scoped=\"scoped\">\n",
       "                        @keyframes pb-fill-anim {\n",
       "                            0% { background-position: 0 0; }\n",
       "                            100% { background-position: 100px 0; }\n",
       "                        }\n",
       "                    </style>\n",
       "                    &nbsp;\n",
       "                  </div>\n",
       "                </div>"
      ],
      "text/plain": [
       "HtmlProgressBar cannot be displayed. Please use the TerminalProgressBar. It can be enabled with `nengo.rc.set('progress', 'progress_bar', 'nengo.utils.progress.TerminalProgressBar')`."
      ]
     },
     "metadata": {},
     "output_type": "display_data"
    },
    {
     "data": {
      "application/javascript": [
       "\n",
       "              (function () {\n",
       "                  var root = document.getElementById('fe004fcf-56a8-4ebe-b8c7-16c371d1b801');\n",
       "                  var text = root.getElementsByClassName('pb-text')[0];\n",
       "                  var fill = root.getElementsByClassName('pb-fill')[0];\n",
       "\n",
       "                  text.innerHTML = 'Simulation finished in 0:01:43.';\n",
       "                  \n",
       "            if (100.0 > 0.) {\n",
       "                fill.style.transition = 'width 0.1s linear';\n",
       "            } else {\n",
       "                fill.style.transition = 'none';\n",
       "            }\n",
       "\n",
       "            fill.style.width = '100.0%';\n",
       "            fill.style.animation = 'none';\n",
       "            fill.style.backgroundImage = 'none'\n",
       "        \n",
       "                  \n",
       "                fill.style.animation = 'none';\n",
       "                fill.style.backgroundImage = 'none';\n",
       "            \n",
       "              })();\n",
       "        "
      ],
      "text/plain": [
       "<IPython.core.display.Javascript object>"
      ]
     },
     "metadata": {},
     "output_type": "display_data"
    },
    {
     "name": "stdout",
     "output_type": "stream",
     "text": [
      "seed = 14\n",
      "backend = 'nengo_ocl'\n",
      "dt = 0.001\n",
      "neuron_type = 'default'\n",
      "n_neurons_scale = 1\n",
      "s_crosstalk = 0\n",
      "s_evidence = None\n",
      "t_senso = 0\n",
      "vocab = <nengo_spa.vocabulary.Vocabulary object at 0x7fe8c19dfc50>\n",
      "xp = <experiments.Xp1 object at 0x7fe8a4c7ea50>\n",
      "proc_feedback = 0.9\n",
      "proc_feedback_synapse = 0.005\n",
      "GW_feedback = 1\n",
      "GW_threshold = 0.5\n",
      "GW_scale = 2\n",
      "BG_thr = 0.1\n",
      "BG_bias = 0.5\n",
      "integrator_reset = True\n",
      "data = <data.Data object at 0x7fe8af334050>\n",
      "\t seed 15/20\n",
      "running run_seed15_dim112\n"
     ]
    },
    {
     "data": {
      "text/html": [
       "\n",
       "                <div id=\"732b6278-ec66-4005-8832-912e9811371c\" style=\"\n",
       "                    width: 100%;\n",
       "                    border: 1px solid #cfcfcf;\n",
       "                    border-radius: 4px;\n",
       "                    text-align: center;\n",
       "                    position: relative;\">\n",
       "                  <div class=\"pb-text\" style=\"\n",
       "                      position: absolute;\n",
       "                      width: 100%;\">\n",
       "                    0%\n",
       "                  </div>\n",
       "                  <div class=\"pb-fill\" style=\"\n",
       "                      background-color: #bdd2e6;\n",
       "                      width: 0%;\">\n",
       "                    <style type=\"text/css\" scoped=\"scoped\">\n",
       "                        @keyframes pb-fill-anim {\n",
       "                            0% { background-position: 0 0; }\n",
       "                            100% { background-position: 100px 0; }\n",
       "                        }\n",
       "                    </style>\n",
       "                    &nbsp;\n",
       "                  </div>\n",
       "                </div>"
      ],
      "text/plain": [
       "HtmlProgressBar cannot be displayed. Please use the TerminalProgressBar. It can be enabled with `nengo.rc.set('progress', 'progress_bar', 'nengo.utils.progress.TerminalProgressBar')`."
      ]
     },
     "metadata": {},
     "output_type": "display_data"
    },
    {
     "data": {
      "application/javascript": [
       "\n",
       "              (function () {\n",
       "                  var root = document.getElementById('732b6278-ec66-4005-8832-912e9811371c');\n",
       "                  var text = root.getElementsByClassName('pb-text')[0];\n",
       "                  var fill = root.getElementsByClassName('pb-fill')[0];\n",
       "\n",
       "                  text.innerHTML = 'Simulation finished in 0:01:46.';\n",
       "                  \n",
       "            if (100.0 > 0.) {\n",
       "                fill.style.transition = 'width 0.1s linear';\n",
       "            } else {\n",
       "                fill.style.transition = 'none';\n",
       "            }\n",
       "\n",
       "            fill.style.width = '100.0%';\n",
       "            fill.style.animation = 'none';\n",
       "            fill.style.backgroundImage = 'none'\n",
       "        \n",
       "                  \n",
       "                fill.style.animation = 'none';\n",
       "                fill.style.backgroundImage = 'none';\n",
       "            \n",
       "              })();\n",
       "        "
      ],
      "text/plain": [
       "<IPython.core.display.Javascript object>"
      ]
     },
     "metadata": {},
     "output_type": "display_data"
    },
    {
     "name": "stdout",
     "output_type": "stream",
     "text": [
      "seed = 15\n",
      "backend = 'nengo_ocl'\n",
      "dt = 0.001\n",
      "neuron_type = 'default'\n",
      "n_neurons_scale = 1\n",
      "s_crosstalk = 0\n",
      "s_evidence = None\n",
      "t_senso = 0\n",
      "vocab = <nengo_spa.vocabulary.Vocabulary object at 0x7fe8c176dd10>\n",
      "xp = <experiments.Xp1 object at 0x7fe8a7321f10>\n",
      "proc_feedback = 0.9\n",
      "proc_feedback_synapse = 0.005\n",
      "GW_feedback = 1\n",
      "GW_threshold = 0.5\n",
      "GW_scale = 2\n",
      "BG_thr = 0.1\n",
      "BG_bias = 0.5\n",
      "integrator_reset = True\n",
      "data = <data.Data object at 0x7fe8cce2c950>\n",
      "\t seed 16/20\n",
      "running run_seed16_dim112\n"
     ]
    },
    {
     "data": {
      "text/html": [
       "\n",
       "                <div id=\"17a5f7cf-d8e8-4997-9154-18539e3025f1\" style=\"\n",
       "                    width: 100%;\n",
       "                    border: 1px solid #cfcfcf;\n",
       "                    border-radius: 4px;\n",
       "                    text-align: center;\n",
       "                    position: relative;\">\n",
       "                  <div class=\"pb-text\" style=\"\n",
       "                      position: absolute;\n",
       "                      width: 100%;\">\n",
       "                    0%\n",
       "                  </div>\n",
       "                  <div class=\"pb-fill\" style=\"\n",
       "                      background-color: #bdd2e6;\n",
       "                      width: 0%;\">\n",
       "                    <style type=\"text/css\" scoped=\"scoped\">\n",
       "                        @keyframes pb-fill-anim {\n",
       "                            0% { background-position: 0 0; }\n",
       "                            100% { background-position: 100px 0; }\n",
       "                        }\n",
       "                    </style>\n",
       "                    &nbsp;\n",
       "                  </div>\n",
       "                </div>"
      ],
      "text/plain": [
       "HtmlProgressBar cannot be displayed. Please use the TerminalProgressBar. It can be enabled with `nengo.rc.set('progress', 'progress_bar', 'nengo.utils.progress.TerminalProgressBar')`."
      ]
     },
     "metadata": {},
     "output_type": "display_data"
    },
    {
     "data": {
      "application/javascript": [
       "\n",
       "              (function () {\n",
       "                  var root = document.getElementById('17a5f7cf-d8e8-4997-9154-18539e3025f1');\n",
       "                  var text = root.getElementsByClassName('pb-text')[0];\n",
       "                  var fill = root.getElementsByClassName('pb-fill')[0];\n",
       "\n",
       "                  text.innerHTML = 'Simulation finished in 0:01:45.';\n",
       "                  \n",
       "            if (100.0 > 0.) {\n",
       "                fill.style.transition = 'width 0.1s linear';\n",
       "            } else {\n",
       "                fill.style.transition = 'none';\n",
       "            }\n",
       "\n",
       "            fill.style.width = '100.0%';\n",
       "            fill.style.animation = 'none';\n",
       "            fill.style.backgroundImage = 'none'\n",
       "        \n",
       "                  \n",
       "                fill.style.animation = 'none';\n",
       "                fill.style.backgroundImage = 'none';\n",
       "            \n",
       "              })();\n",
       "        "
      ],
      "text/plain": [
       "<IPython.core.display.Javascript object>"
      ]
     },
     "metadata": {},
     "output_type": "display_data"
    },
    {
     "name": "stdout",
     "output_type": "stream",
     "text": [
      "seed = 16\n",
      "backend = 'nengo_ocl'\n",
      "dt = 0.001\n",
      "neuron_type = 'default'\n",
      "n_neurons_scale = 1\n",
      "s_crosstalk = 0\n",
      "s_evidence = None\n",
      "t_senso = 0\n",
      "vocab = <nengo_spa.vocabulary.Vocabulary object at 0x7fe8e15cfb50>\n",
      "xp = <experiments.Xp1 object at 0x7fe8adb89f10>\n",
      "proc_feedback = 0.9\n",
      "proc_feedback_synapse = 0.005\n",
      "GW_feedback = 1\n",
      "GW_threshold = 0.5\n",
      "GW_scale = 2\n",
      "BG_thr = 0.1\n",
      "BG_bias = 0.5\n",
      "integrator_reset = True\n",
      "data = <data.Data object at 0x7fe8a70fd150>\n",
      "\t seed 17/20\n",
      "running run_seed17_dim112\n"
     ]
    },
    {
     "data": {
      "text/html": [
       "\n",
       "                <div id=\"060fbf51-060a-4c6b-8deb-08c5b3b850ec\" style=\"\n",
       "                    width: 100%;\n",
       "                    border: 1px solid #cfcfcf;\n",
       "                    border-radius: 4px;\n",
       "                    text-align: center;\n",
       "                    position: relative;\">\n",
       "                  <div class=\"pb-text\" style=\"\n",
       "                      position: absolute;\n",
       "                      width: 100%;\">\n",
       "                    0%\n",
       "                  </div>\n",
       "                  <div class=\"pb-fill\" style=\"\n",
       "                      background-color: #bdd2e6;\n",
       "                      width: 0%;\">\n",
       "                    <style type=\"text/css\" scoped=\"scoped\">\n",
       "                        @keyframes pb-fill-anim {\n",
       "                            0% { background-position: 0 0; }\n",
       "                            100% { background-position: 100px 0; }\n",
       "                        }\n",
       "                    </style>\n",
       "                    &nbsp;\n",
       "                  </div>\n",
       "                </div>"
      ],
      "text/plain": [
       "HtmlProgressBar cannot be displayed. Please use the TerminalProgressBar. It can be enabled with `nengo.rc.set('progress', 'progress_bar', 'nengo.utils.progress.TerminalProgressBar')`."
      ]
     },
     "metadata": {},
     "output_type": "display_data"
    },
    {
     "data": {
      "application/javascript": [
       "\n",
       "              (function () {\n",
       "                  var root = document.getElementById('060fbf51-060a-4c6b-8deb-08c5b3b850ec');\n",
       "                  var text = root.getElementsByClassName('pb-text')[0];\n",
       "                  var fill = root.getElementsByClassName('pb-fill')[0];\n",
       "\n",
       "                  text.innerHTML = 'Simulation finished in 0:01:44.';\n",
       "                  \n",
       "            if (100.0 > 0.) {\n",
       "                fill.style.transition = 'width 0.1s linear';\n",
       "            } else {\n",
       "                fill.style.transition = 'none';\n",
       "            }\n",
       "\n",
       "            fill.style.width = '100.0%';\n",
       "            fill.style.animation = 'none';\n",
       "            fill.style.backgroundImage = 'none'\n",
       "        \n",
       "                  \n",
       "                fill.style.animation = 'none';\n",
       "                fill.style.backgroundImage = 'none';\n",
       "            \n",
       "              })();\n",
       "        "
      ],
      "text/plain": [
       "<IPython.core.display.Javascript object>"
      ]
     },
     "metadata": {},
     "output_type": "display_data"
    },
    {
     "name": "stdout",
     "output_type": "stream",
     "text": [
      "seed = 17\n",
      "backend = 'nengo_ocl'\n",
      "dt = 0.001\n",
      "neuron_type = 'default'\n",
      "n_neurons_scale = 1\n",
      "s_crosstalk = 0\n",
      "s_evidence = None\n",
      "t_senso = 0\n",
      "vocab = <nengo_spa.vocabulary.Vocabulary object at 0x7fe8e1443a50>\n",
      "xp = <experiments.Xp1 object at 0x7fe8e14435d0>\n",
      "proc_feedback = 0.9\n",
      "proc_feedback_synapse = 0.005\n",
      "GW_feedback = 1\n",
      "GW_threshold = 0.5\n",
      "GW_scale = 2\n",
      "BG_thr = 0.1\n",
      "BG_bias = 0.5\n",
      "integrator_reset = True\n",
      "data = <data.Data object at 0x7fe8a4c2d250>\n",
      "\t seed 18/20\n",
      "running run_seed18_dim112\n"
     ]
    },
    {
     "data": {
      "text/html": [
       "\n",
       "                <div id=\"9fb950c7-be11-42bc-8cd8-b054bb94d7c3\" style=\"\n",
       "                    width: 100%;\n",
       "                    border: 1px solid #cfcfcf;\n",
       "                    border-radius: 4px;\n",
       "                    text-align: center;\n",
       "                    position: relative;\">\n",
       "                  <div class=\"pb-text\" style=\"\n",
       "                      position: absolute;\n",
       "                      width: 100%;\">\n",
       "                    0%\n",
       "                  </div>\n",
       "                  <div class=\"pb-fill\" style=\"\n",
       "                      background-color: #bdd2e6;\n",
       "                      width: 0%;\">\n",
       "                    <style type=\"text/css\" scoped=\"scoped\">\n",
       "                        @keyframes pb-fill-anim {\n",
       "                            0% { background-position: 0 0; }\n",
       "                            100% { background-position: 100px 0; }\n",
       "                        }\n",
       "                    </style>\n",
       "                    &nbsp;\n",
       "                  </div>\n",
       "                </div>"
      ],
      "text/plain": [
       "HtmlProgressBar cannot be displayed. Please use the TerminalProgressBar. It can be enabled with `nengo.rc.set('progress', 'progress_bar', 'nengo.utils.progress.TerminalProgressBar')`."
      ]
     },
     "metadata": {},
     "output_type": "display_data"
    },
    {
     "data": {
      "application/javascript": [
       "\n",
       "              (function () {\n",
       "                  var root = document.getElementById('9fb950c7-be11-42bc-8cd8-b054bb94d7c3');\n",
       "                  var text = root.getElementsByClassName('pb-text')[0];\n",
       "                  var fill = root.getElementsByClassName('pb-fill')[0];\n",
       "\n",
       "                  text.innerHTML = 'Simulation finished in 0:01:57.';\n",
       "                  \n",
       "            if (100.0 > 0.) {\n",
       "                fill.style.transition = 'width 0.1s linear';\n",
       "            } else {\n",
       "                fill.style.transition = 'none';\n",
       "            }\n",
       "\n",
       "            fill.style.width = '100.0%';\n",
       "            fill.style.animation = 'none';\n",
       "            fill.style.backgroundImage = 'none'\n",
       "        \n",
       "                  \n",
       "                fill.style.animation = 'none';\n",
       "                fill.style.backgroundImage = 'none';\n",
       "            \n",
       "              })();\n",
       "        "
      ],
      "text/plain": [
       "<IPython.core.display.Javascript object>"
      ]
     },
     "metadata": {},
     "output_type": "display_data"
    },
    {
     "name": "stdout",
     "output_type": "stream",
     "text": [
      "seed = 18\n",
      "backend = 'nengo_ocl'\n",
      "dt = 0.001\n",
      "neuron_type = 'default'\n",
      "n_neurons_scale = 1\n",
      "s_crosstalk = 0\n",
      "s_evidence = None\n",
      "t_senso = 0\n",
      "vocab = <nengo_spa.vocabulary.Vocabulary object at 0x7fe8cd014990>\n",
      "xp = <experiments.Xp1 object at 0x7fe8e14431d0>\n",
      "proc_feedback = 0.9\n",
      "proc_feedback_synapse = 0.005\n",
      "GW_feedback = 1\n",
      "GW_threshold = 0.5\n",
      "GW_scale = 2\n",
      "BG_thr = 0.1\n",
      "BG_bias = 0.5\n",
      "integrator_reset = True\n",
      "data = <data.Data object at 0x7fe8e1d00610>\n",
      "\t seed 19/20\n",
      "running run_seed19_dim112\n"
     ]
    },
    {
     "data": {
      "text/html": [
       "\n",
       "                <div id=\"9fdbae12-3dda-4b7f-b1da-02812b375145\" style=\"\n",
       "                    width: 100%;\n",
       "                    border: 1px solid #cfcfcf;\n",
       "                    border-radius: 4px;\n",
       "                    text-align: center;\n",
       "                    position: relative;\">\n",
       "                  <div class=\"pb-text\" style=\"\n",
       "                      position: absolute;\n",
       "                      width: 100%;\">\n",
       "                    0%\n",
       "                  </div>\n",
       "                  <div class=\"pb-fill\" style=\"\n",
       "                      background-color: #bdd2e6;\n",
       "                      width: 0%;\">\n",
       "                    <style type=\"text/css\" scoped=\"scoped\">\n",
       "                        @keyframes pb-fill-anim {\n",
       "                            0% { background-position: 0 0; }\n",
       "                            100% { background-position: 100px 0; }\n",
       "                        }\n",
       "                    </style>\n",
       "                    &nbsp;\n",
       "                  </div>\n",
       "                </div>"
      ],
      "text/plain": [
       "HtmlProgressBar cannot be displayed. Please use the TerminalProgressBar. It can be enabled with `nengo.rc.set('progress', 'progress_bar', 'nengo.utils.progress.TerminalProgressBar')`."
      ]
     },
     "metadata": {},
     "output_type": "display_data"
    },
    {
     "data": {
      "application/javascript": [
       "\n",
       "              (function () {\n",
       "                  var root = document.getElementById('9fdbae12-3dda-4b7f-b1da-02812b375145');\n",
       "                  var text = root.getElementsByClassName('pb-text')[0];\n",
       "                  var fill = root.getElementsByClassName('pb-fill')[0];\n",
       "\n",
       "                  text.innerHTML = 'Simulation finished in 0:01:46.';\n",
       "                  \n",
       "            if (100.0 > 0.) {\n",
       "                fill.style.transition = 'width 0.1s linear';\n",
       "            } else {\n",
       "                fill.style.transition = 'none';\n",
       "            }\n",
       "\n",
       "            fill.style.width = '100.0%';\n",
       "            fill.style.animation = 'none';\n",
       "            fill.style.backgroundImage = 'none'\n",
       "        \n",
       "                  \n",
       "                fill.style.animation = 'none';\n",
       "                fill.style.backgroundImage = 'none';\n",
       "            \n",
       "              })();\n",
       "        "
      ],
      "text/plain": [
       "<IPython.core.display.Javascript object>"
      ]
     },
     "metadata": {},
     "output_type": "display_data"
    },
    {
     "name": "stdout",
     "output_type": "stream",
     "text": [
      "seed = 19\n",
      "backend = 'nengo_ocl'\n",
      "dt = 0.001\n",
      "neuron_type = 'default'\n",
      "n_neurons_scale = 1\n",
      "s_crosstalk = 0\n",
      "s_evidence = None\n",
      "t_senso = 0\n",
      "vocab = <nengo_spa.vocabulary.Vocabulary object at 0x7fe8ccf98f90>\n",
      "xp = <experiments.Xp1 object at 0x7fe8e1535d90>\n",
      "proc_feedback = 0.9\n",
      "proc_feedback_synapse = 0.005\n",
      "GW_feedback = 1\n",
      "GW_threshold = 0.5\n",
      "GW_scale = 2\n",
      "BG_thr = 0.1\n",
      "BG_bias = 0.5\n",
      "integrator_reset = True\n",
      "data = <data.Data object at 0x7fe8e1d00150>\n",
      "\t seed 20/20\n",
      "running run_seed20_dim112\n"
     ]
    },
    {
     "data": {
      "text/html": [
       "\n",
       "                <div id=\"1dc98655-644d-4457-9567-0fc6af6a4d75\" style=\"\n",
       "                    width: 100%;\n",
       "                    border: 1px solid #cfcfcf;\n",
       "                    border-radius: 4px;\n",
       "                    text-align: center;\n",
       "                    position: relative;\">\n",
       "                  <div class=\"pb-text\" style=\"\n",
       "                      position: absolute;\n",
       "                      width: 100%;\">\n",
       "                    0%\n",
       "                  </div>\n",
       "                  <div class=\"pb-fill\" style=\"\n",
       "                      background-color: #bdd2e6;\n",
       "                      width: 0%;\">\n",
       "                    <style type=\"text/css\" scoped=\"scoped\">\n",
       "                        @keyframes pb-fill-anim {\n",
       "                            0% { background-position: 0 0; }\n",
       "                            100% { background-position: 100px 0; }\n",
       "                        }\n",
       "                    </style>\n",
       "                    &nbsp;\n",
       "                  </div>\n",
       "                </div>"
      ],
      "text/plain": [
       "HtmlProgressBar cannot be displayed. Please use the TerminalProgressBar. It can be enabled with `nengo.rc.set('progress', 'progress_bar', 'nengo.utils.progress.TerminalProgressBar')`."
      ]
     },
     "metadata": {},
     "output_type": "display_data"
    },
    {
     "data": {
      "application/javascript": [
       "\n",
       "              (function () {\n",
       "                  var root = document.getElementById('1dc98655-644d-4457-9567-0fc6af6a4d75');\n",
       "                  var text = root.getElementsByClassName('pb-text')[0];\n",
       "                  var fill = root.getElementsByClassName('pb-fill')[0];\n",
       "\n",
       "                  text.innerHTML = 'Simulation finished in 0:01:46.';\n",
       "                  \n",
       "            if (100.0 > 0.) {\n",
       "                fill.style.transition = 'width 0.1s linear';\n",
       "            } else {\n",
       "                fill.style.transition = 'none';\n",
       "            }\n",
       "\n",
       "            fill.style.width = '100.0%';\n",
       "            fill.style.animation = 'none';\n",
       "            fill.style.backgroundImage = 'none'\n",
       "        \n",
       "                  \n",
       "                fill.style.animation = 'none';\n",
       "                fill.style.backgroundImage = 'none';\n",
       "            \n",
       "              })();\n",
       "        "
      ],
      "text/plain": [
       "<IPython.core.display.Javascript object>"
      ]
     },
     "metadata": {},
     "output_type": "display_data"
    },
    {
     "name": "stdout",
     "output_type": "stream",
     "text": [
      "seed = 20\n",
      "backend = 'nengo_ocl'\n",
      "dt = 0.001\n",
      "neuron_type = 'default'\n",
      "n_neurons_scale = 1\n",
      "s_crosstalk = 0\n",
      "s_evidence = None\n",
      "t_senso = 0\n",
      "vocab = <nengo_spa.vocabulary.Vocabulary object at 0x7fe8ac38d810>\n",
      "xp = <experiments.Xp1 object at 0x7fe8e1d00d90>\n",
      "proc_feedback = 0.9\n",
      "proc_feedback_synapse = 0.005\n",
      "GW_feedback = 1\n",
      "GW_threshold = 0.5\n",
      "GW_scale = 2\n",
      "BG_thr = 0.1\n",
      "BG_bias = 0.5\n",
      "integrator_reset = True\n",
      "data = <data.Data object at 0x7fe8e1cd3fd0>\n",
      "error rate: 0.12083333333333335\n",
      "params: [8.]\n",
      "Simulating...\n",
      "\t seed 1/20\n",
      "running run_seed1_dim128\n"
     ]
    },
    {
     "data": {
      "text/html": [
       "\n",
       "                <div id=\"4d2498df-e552-403d-b91c-e0672fb6754c\" style=\"\n",
       "                    width: 100%;\n",
       "                    border: 1px solid #cfcfcf;\n",
       "                    border-radius: 4px;\n",
       "                    text-align: center;\n",
       "                    position: relative;\">\n",
       "                  <div class=\"pb-text\" style=\"\n",
       "                      position: absolute;\n",
       "                      width: 100%;\">\n",
       "                    0%\n",
       "                  </div>\n",
       "                  <div class=\"pb-fill\" style=\"\n",
       "                      background-color: #bdd2e6;\n",
       "                      width: 0%;\">\n",
       "                    <style type=\"text/css\" scoped=\"scoped\">\n",
       "                        @keyframes pb-fill-anim {\n",
       "                            0% { background-position: 0 0; }\n",
       "                            100% { background-position: 100px 0; }\n",
       "                        }\n",
       "                    </style>\n",
       "                    &nbsp;\n",
       "                  </div>\n",
       "                </div>"
      ],
      "text/plain": [
       "HtmlProgressBar cannot be displayed. Please use the TerminalProgressBar. It can be enabled with `nengo.rc.set('progress', 'progress_bar', 'nengo.utils.progress.TerminalProgressBar')`."
      ]
     },
     "metadata": {},
     "output_type": "display_data"
    },
    {
     "data": {
      "application/javascript": [
       "\n",
       "              (function () {\n",
       "                  var root = document.getElementById('4d2498df-e552-403d-b91c-e0672fb6754c');\n",
       "                  var text = root.getElementsByClassName('pb-text')[0];\n",
       "                  var fill = root.getElementsByClassName('pb-fill')[0];\n",
       "\n",
       "                  text.innerHTML = 'Simulation finished in 0:01:48.';\n",
       "                  \n",
       "            if (100.0 > 0.) {\n",
       "                fill.style.transition = 'width 0.1s linear';\n",
       "            } else {\n",
       "                fill.style.transition = 'none';\n",
       "            }\n",
       "\n",
       "            fill.style.width = '100.0%';\n",
       "            fill.style.animation = 'none';\n",
       "            fill.style.backgroundImage = 'none'\n",
       "        \n",
       "                  \n",
       "                fill.style.animation = 'none';\n",
       "                fill.style.backgroundImage = 'none';\n",
       "            \n",
       "              })();\n",
       "        "
      ],
      "text/plain": [
       "<IPython.core.display.Javascript object>"
      ]
     },
     "metadata": {},
     "output_type": "display_data"
    },
    {
     "name": "stdout",
     "output_type": "stream",
     "text": [
      "seed = 1\n",
      "backend = 'nengo_ocl'\n",
      "dt = 0.001\n",
      "neuron_type = 'default'\n",
      "n_neurons_scale = 1\n",
      "s_crosstalk = 0\n",
      "s_evidence = None\n",
      "t_senso = 0\n",
      "vocab = <nengo_spa.vocabulary.Vocabulary object at 0x7fe8a6f11fd0>\n",
      "xp = <experiments.Xp1 object at 0x7fe8e1cd3dd0>\n",
      "proc_feedback = 0.9\n",
      "proc_feedback_synapse = 0.005\n",
      "GW_feedback = 1\n",
      "GW_threshold = 0.5\n",
      "GW_scale = 2\n",
      "BG_thr = 0.1\n",
      "BG_bias = 0.5\n",
      "integrator_reset = True\n",
      "data = <data.Data object at 0x7fe8c19c40d0>\n",
      "\t seed 2/20\n",
      "running run_seed2_dim128\n"
     ]
    },
    {
     "data": {
      "text/html": [
       "\n",
       "                <div id=\"4c22b800-4734-44d6-ac6c-5e83456282a3\" style=\"\n",
       "                    width: 100%;\n",
       "                    border: 1px solid #cfcfcf;\n",
       "                    border-radius: 4px;\n",
       "                    text-align: center;\n",
       "                    position: relative;\">\n",
       "                  <div class=\"pb-text\" style=\"\n",
       "                      position: absolute;\n",
       "                      width: 100%;\">\n",
       "                    0%\n",
       "                  </div>\n",
       "                  <div class=\"pb-fill\" style=\"\n",
       "                      background-color: #bdd2e6;\n",
       "                      width: 0%;\">\n",
       "                    <style type=\"text/css\" scoped=\"scoped\">\n",
       "                        @keyframes pb-fill-anim {\n",
       "                            0% { background-position: 0 0; }\n",
       "                            100% { background-position: 100px 0; }\n",
       "                        }\n",
       "                    </style>\n",
       "                    &nbsp;\n",
       "                  </div>\n",
       "                </div>"
      ],
      "text/plain": [
       "HtmlProgressBar cannot be displayed. Please use the TerminalProgressBar. It can be enabled with `nengo.rc.set('progress', 'progress_bar', 'nengo.utils.progress.TerminalProgressBar')`."
      ]
     },
     "metadata": {},
     "output_type": "display_data"
    },
    {
     "data": {
      "application/javascript": [
       "\n",
       "              (function () {\n",
       "                  var root = document.getElementById('4c22b800-4734-44d6-ac6c-5e83456282a3');\n",
       "                  var text = root.getElementsByClassName('pb-text')[0];\n",
       "                  var fill = root.getElementsByClassName('pb-fill')[0];\n",
       "\n",
       "                  text.innerHTML = 'Simulation finished in 0:01:47.';\n",
       "                  \n",
       "            if (100.0 > 0.) {\n",
       "                fill.style.transition = 'width 0.1s linear';\n",
       "            } else {\n",
       "                fill.style.transition = 'none';\n",
       "            }\n",
       "\n",
       "            fill.style.width = '100.0%';\n",
       "            fill.style.animation = 'none';\n",
       "            fill.style.backgroundImage = 'none'\n",
       "        \n",
       "                  \n",
       "                fill.style.animation = 'none';\n",
       "                fill.style.backgroundImage = 'none';\n",
       "            \n",
       "              })();\n",
       "        "
      ],
      "text/plain": [
       "<IPython.core.display.Javascript object>"
      ]
     },
     "metadata": {},
     "output_type": "display_data"
    },
    {
     "name": "stdout",
     "output_type": "stream",
     "text": [
      "seed = 2\n",
      "backend = 'nengo_ocl'\n",
      "dt = 0.001\n",
      "neuron_type = 'default'\n",
      "n_neurons_scale = 1\n",
      "s_crosstalk = 0\n",
      "s_evidence = None\n",
      "t_senso = 0\n",
      "vocab = <nengo_spa.vocabulary.Vocabulary object at 0x7fe8e1ce0710>\n",
      "xp = <experiments.Xp1 object at 0x7fe8e1cd30d0>\n",
      "proc_feedback = 0.9\n",
      "proc_feedback_synapse = 0.005\n",
      "GW_feedback = 1\n",
      "GW_threshold = 0.5\n",
      "GW_scale = 2\n",
      "BG_thr = 0.1\n",
      "BG_bias = 0.5\n",
      "integrator_reset = True\n",
      "data = <data.Data object at 0x7fe88b93f550>\n",
      "\t seed 3/20\n",
      "running run_seed3_dim128\n"
     ]
    },
    {
     "data": {
      "text/html": [
       "\n",
       "                <div id=\"2d0497d3-79c6-4d9d-aacc-7cbcd97c7347\" style=\"\n",
       "                    width: 100%;\n",
       "                    border: 1px solid #cfcfcf;\n",
       "                    border-radius: 4px;\n",
       "                    text-align: center;\n",
       "                    position: relative;\">\n",
       "                  <div class=\"pb-text\" style=\"\n",
       "                      position: absolute;\n",
       "                      width: 100%;\">\n",
       "                    0%\n",
       "                  </div>\n",
       "                  <div class=\"pb-fill\" style=\"\n",
       "                      background-color: #bdd2e6;\n",
       "                      width: 0%;\">\n",
       "                    <style type=\"text/css\" scoped=\"scoped\">\n",
       "                        @keyframes pb-fill-anim {\n",
       "                            0% { background-position: 0 0; }\n",
       "                            100% { background-position: 100px 0; }\n",
       "                        }\n",
       "                    </style>\n",
       "                    &nbsp;\n",
       "                  </div>\n",
       "                </div>"
      ],
      "text/plain": [
       "HtmlProgressBar cannot be displayed. Please use the TerminalProgressBar. It can be enabled with `nengo.rc.set('progress', 'progress_bar', 'nengo.utils.progress.TerminalProgressBar')`."
      ]
     },
     "metadata": {},
     "output_type": "display_data"
    },
    {
     "data": {
      "application/javascript": [
       "\n",
       "              (function () {\n",
       "                  var root = document.getElementById('2d0497d3-79c6-4d9d-aacc-7cbcd97c7347');\n",
       "                  var text = root.getElementsByClassName('pb-text')[0];\n",
       "                  var fill = root.getElementsByClassName('pb-fill')[0];\n",
       "\n",
       "                  text.innerHTML = 'Simulation finished in 0:01:48.';\n",
       "                  \n",
       "            if (100.0 > 0.) {\n",
       "                fill.style.transition = 'width 0.1s linear';\n",
       "            } else {\n",
       "                fill.style.transition = 'none';\n",
       "            }\n",
       "\n",
       "            fill.style.width = '100.0%';\n",
       "            fill.style.animation = 'none';\n",
       "            fill.style.backgroundImage = 'none'\n",
       "        \n",
       "                  \n",
       "                fill.style.animation = 'none';\n",
       "                fill.style.backgroundImage = 'none';\n",
       "            \n",
       "              })();\n",
       "        "
      ],
      "text/plain": [
       "<IPython.core.display.Javascript object>"
      ]
     },
     "metadata": {},
     "output_type": "display_data"
    },
    {
     "name": "stdout",
     "output_type": "stream",
     "text": [
      "seed = 3\n",
      "backend = 'nengo_ocl'\n",
      "dt = 0.001\n",
      "neuron_type = 'default'\n",
      "n_neurons_scale = 1\n",
      "s_crosstalk = 0\n",
      "s_evidence = None\n",
      "t_senso = 0\n",
      "vocab = <nengo_spa.vocabulary.Vocabulary object at 0x7fe8a7401610>\n",
      "xp = <experiments.Xp1 object at 0x7fe8e1c8a110>\n",
      "proc_feedback = 0.9\n",
      "proc_feedback_synapse = 0.005\n",
      "GW_feedback = 1\n",
      "GW_threshold = 0.5\n",
      "GW_scale = 2\n",
      "BG_thr = 0.1\n",
      "BG_bias = 0.5\n",
      "integrator_reset = True\n",
      "data = <data.Data object at 0x7fe8ccf66b90>\n",
      "\t seed 4/20\n",
      "running run_seed4_dim128\n"
     ]
    },
    {
     "data": {
      "text/html": [
       "\n",
       "                <div id=\"138c30a5-efad-4879-9e79-24a9197e2258\" style=\"\n",
       "                    width: 100%;\n",
       "                    border: 1px solid #cfcfcf;\n",
       "                    border-radius: 4px;\n",
       "                    text-align: center;\n",
       "                    position: relative;\">\n",
       "                  <div class=\"pb-text\" style=\"\n",
       "                      position: absolute;\n",
       "                      width: 100%;\">\n",
       "                    0%\n",
       "                  </div>\n",
       "                  <div class=\"pb-fill\" style=\"\n",
       "                      background-color: #bdd2e6;\n",
       "                      width: 0%;\">\n",
       "                    <style type=\"text/css\" scoped=\"scoped\">\n",
       "                        @keyframes pb-fill-anim {\n",
       "                            0% { background-position: 0 0; }\n",
       "                            100% { background-position: 100px 0; }\n",
       "                        }\n",
       "                    </style>\n",
       "                    &nbsp;\n",
       "                  </div>\n",
       "                </div>"
      ],
      "text/plain": [
       "HtmlProgressBar cannot be displayed. Please use the TerminalProgressBar. It can be enabled with `nengo.rc.set('progress', 'progress_bar', 'nengo.utils.progress.TerminalProgressBar')`."
      ]
     },
     "metadata": {},
     "output_type": "display_data"
    },
    {
     "data": {
      "application/javascript": [
       "\n",
       "              (function () {\n",
       "                  var root = document.getElementById('138c30a5-efad-4879-9e79-24a9197e2258');\n",
       "                  var text = root.getElementsByClassName('pb-text')[0];\n",
       "                  var fill = root.getElementsByClassName('pb-fill')[0];\n",
       "\n",
       "                  text.innerHTML = 'Simulation finished in 0:01:42.';\n",
       "                  \n",
       "            if (100.0 > 0.) {\n",
       "                fill.style.transition = 'width 0.1s linear';\n",
       "            } else {\n",
       "                fill.style.transition = 'none';\n",
       "            }\n",
       "\n",
       "            fill.style.width = '100.0%';\n",
       "            fill.style.animation = 'none';\n",
       "            fill.style.backgroundImage = 'none'\n",
       "        \n",
       "                  \n",
       "                fill.style.animation = 'none';\n",
       "                fill.style.backgroundImage = 'none';\n",
       "            \n",
       "              })();\n",
       "        "
      ],
      "text/plain": [
       "<IPython.core.display.Javascript object>"
      ]
     },
     "metadata": {},
     "output_type": "display_data"
    },
    {
     "name": "stdout",
     "output_type": "stream",
     "text": [
      "seed = 4\n",
      "backend = 'nengo_ocl'\n",
      "dt = 0.001\n",
      "neuron_type = 'default'\n",
      "n_neurons_scale = 1\n",
      "s_crosstalk = 0\n",
      "s_evidence = None\n",
      "t_senso = 0\n",
      "vocab = <nengo_spa.vocabulary.Vocabulary object at 0x7fe8e1ca5f90>\n",
      "xp = <experiments.Xp1 object at 0x7fe8e1c63fd0>\n",
      "proc_feedback = 0.9\n",
      "proc_feedback_synapse = 0.005\n",
      "GW_feedback = 1\n",
      "GW_threshold = 0.5\n",
      "GW_scale = 2\n",
      "BG_thr = 0.1\n",
      "BG_bias = 0.5\n",
      "integrator_reset = True\n",
      "data = <data.Data object at 0x7fe8ac1e1110>\n",
      "\t seed 5/20\n",
      "running run_seed5_dim128\n"
     ]
    },
    {
     "data": {
      "text/html": [
       "\n",
       "                <div id=\"49d79e1a-b5fd-40ef-9a6b-82e51af2ff0c\" style=\"\n",
       "                    width: 100%;\n",
       "                    border: 1px solid #cfcfcf;\n",
       "                    border-radius: 4px;\n",
       "                    text-align: center;\n",
       "                    position: relative;\">\n",
       "                  <div class=\"pb-text\" style=\"\n",
       "                      position: absolute;\n",
       "                      width: 100%;\">\n",
       "                    0%\n",
       "                  </div>\n",
       "                  <div class=\"pb-fill\" style=\"\n",
       "                      background-color: #bdd2e6;\n",
       "                      width: 0%;\">\n",
       "                    <style type=\"text/css\" scoped=\"scoped\">\n",
       "                        @keyframes pb-fill-anim {\n",
       "                            0% { background-position: 0 0; }\n",
       "                            100% { background-position: 100px 0; }\n",
       "                        }\n",
       "                    </style>\n",
       "                    &nbsp;\n",
       "                  </div>\n",
       "                </div>"
      ],
      "text/plain": [
       "HtmlProgressBar cannot be displayed. Please use the TerminalProgressBar. It can be enabled with `nengo.rc.set('progress', 'progress_bar', 'nengo.utils.progress.TerminalProgressBar')`."
      ]
     },
     "metadata": {},
     "output_type": "display_data"
    },
    {
     "data": {
      "application/javascript": [
       "\n",
       "              (function () {\n",
       "                  var root = document.getElementById('49d79e1a-b5fd-40ef-9a6b-82e51af2ff0c');\n",
       "                  var text = root.getElementsByClassName('pb-text')[0];\n",
       "                  var fill = root.getElementsByClassName('pb-fill')[0];\n",
       "\n",
       "                  text.innerHTML = 'Simulation finished in 0:01:40.';\n",
       "                  \n",
       "            if (100.0 > 0.) {\n",
       "                fill.style.transition = 'width 0.1s linear';\n",
       "            } else {\n",
       "                fill.style.transition = 'none';\n",
       "            }\n",
       "\n",
       "            fill.style.width = '100.0%';\n",
       "            fill.style.animation = 'none';\n",
       "            fill.style.backgroundImage = 'none'\n",
       "        \n",
       "                  \n",
       "                fill.style.animation = 'none';\n",
       "                fill.style.backgroundImage = 'none';\n",
       "            \n",
       "              })();\n",
       "        "
      ],
      "text/plain": [
       "<IPython.core.display.Javascript object>"
      ]
     },
     "metadata": {},
     "output_type": "display_data"
    },
    {
     "name": "stdout",
     "output_type": "stream",
     "text": [
      "seed = 5\n",
      "backend = 'nengo_ocl'\n",
      "dt = 0.001\n",
      "neuron_type = 'default'\n",
      "n_neurons_scale = 1\n",
      "s_crosstalk = 0\n",
      "s_evidence = None\n",
      "t_senso = 0\n",
      "vocab = <nengo_spa.vocabulary.Vocabulary object at 0x7fe888f1c390>\n",
      "xp = <experiments.Xp1 object at 0x7fe8e17c2c90>\n",
      "proc_feedback = 0.9\n",
      "proc_feedback_synapse = 0.005\n",
      "GW_feedback = 1\n",
      "GW_threshold = 0.5\n",
      "GW_scale = 2\n",
      "BG_thr = 0.1\n",
      "BG_bias = 0.5\n",
      "integrator_reset = True\n",
      "data = <data.Data object at 0x7fe8aca40410>\n",
      "\t seed 6/20\n",
      "running run_seed6_dim128\n"
     ]
    },
    {
     "data": {
      "text/html": [
       "\n",
       "                <div id=\"c6bcc9be-a318-42a3-9167-a7e08b2e10fe\" style=\"\n",
       "                    width: 100%;\n",
       "                    border: 1px solid #cfcfcf;\n",
       "                    border-radius: 4px;\n",
       "                    text-align: center;\n",
       "                    position: relative;\">\n",
       "                  <div class=\"pb-text\" style=\"\n",
       "                      position: absolute;\n",
       "                      width: 100%;\">\n",
       "                    0%\n",
       "                  </div>\n",
       "                  <div class=\"pb-fill\" style=\"\n",
       "                      background-color: #bdd2e6;\n",
       "                      width: 0%;\">\n",
       "                    <style type=\"text/css\" scoped=\"scoped\">\n",
       "                        @keyframes pb-fill-anim {\n",
       "                            0% { background-position: 0 0; }\n",
       "                            100% { background-position: 100px 0; }\n",
       "                        }\n",
       "                    </style>\n",
       "                    &nbsp;\n",
       "                  </div>\n",
       "                </div>"
      ],
      "text/plain": [
       "HtmlProgressBar cannot be displayed. Please use the TerminalProgressBar. It can be enabled with `nengo.rc.set('progress', 'progress_bar', 'nengo.utils.progress.TerminalProgressBar')`."
      ]
     },
     "metadata": {},
     "output_type": "display_data"
    },
    {
     "data": {
      "application/javascript": [
       "\n",
       "              (function () {\n",
       "                  var root = document.getElementById('c6bcc9be-a318-42a3-9167-a7e08b2e10fe');\n",
       "                  var text = root.getElementsByClassName('pb-text')[0];\n",
       "                  var fill = root.getElementsByClassName('pb-fill')[0];\n",
       "\n",
       "                  text.innerHTML = 'Simulation finished in 0:01:38.';\n",
       "                  \n",
       "            if (100.0 > 0.) {\n",
       "                fill.style.transition = 'width 0.1s linear';\n",
       "            } else {\n",
       "                fill.style.transition = 'none';\n",
       "            }\n",
       "\n",
       "            fill.style.width = '100.0%';\n",
       "            fill.style.animation = 'none';\n",
       "            fill.style.backgroundImage = 'none'\n",
       "        \n",
       "                  \n",
       "                fill.style.animation = 'none';\n",
       "                fill.style.backgroundImage = 'none';\n",
       "            \n",
       "              })();\n",
       "        "
      ],
      "text/plain": [
       "<IPython.core.display.Javascript object>"
      ]
     },
     "metadata": {},
     "output_type": "display_data"
    },
    {
     "name": "stdout",
     "output_type": "stream",
     "text": [
      "seed = 6\n",
      "backend = 'nengo_ocl'\n",
      "dt = 0.001\n",
      "neuron_type = 'default'\n",
      "n_neurons_scale = 1\n",
      "s_crosstalk = 0\n",
      "s_evidence = None\n",
      "t_senso = 0\n",
      "vocab = <nengo_spa.vocabulary.Vocabulary object at 0x7fe8aeb1b510>\n",
      "xp = <experiments.Xp1 object at 0x7fe8aca40810>\n",
      "proc_feedback = 0.9\n",
      "proc_feedback_synapse = 0.005\n",
      "GW_feedback = 1\n",
      "GW_threshold = 0.5\n",
      "GW_scale = 2\n",
      "BG_thr = 0.1\n",
      "BG_bias = 0.5\n",
      "integrator_reset = True\n",
      "data = <data.Data object at 0x7fe8a732ac90>\n",
      "\t seed 7/20\n",
      "running run_seed7_dim128\n"
     ]
    },
    {
     "data": {
      "text/html": [
       "\n",
       "                <div id=\"c47b0fff-4b62-4235-aade-1529d1949a3b\" style=\"\n",
       "                    width: 100%;\n",
       "                    border: 1px solid #cfcfcf;\n",
       "                    border-radius: 4px;\n",
       "                    text-align: center;\n",
       "                    position: relative;\">\n",
       "                  <div class=\"pb-text\" style=\"\n",
       "                      position: absolute;\n",
       "                      width: 100%;\">\n",
       "                    0%\n",
       "                  </div>\n",
       "                  <div class=\"pb-fill\" style=\"\n",
       "                      background-color: #bdd2e6;\n",
       "                      width: 0%;\">\n",
       "                    <style type=\"text/css\" scoped=\"scoped\">\n",
       "                        @keyframes pb-fill-anim {\n",
       "                            0% { background-position: 0 0; }\n",
       "                            100% { background-position: 100px 0; }\n",
       "                        }\n",
       "                    </style>\n",
       "                    &nbsp;\n",
       "                  </div>\n",
       "                </div>"
      ],
      "text/plain": [
       "HtmlProgressBar cannot be displayed. Please use the TerminalProgressBar. It can be enabled with `nengo.rc.set('progress', 'progress_bar', 'nengo.utils.progress.TerminalProgressBar')`."
      ]
     },
     "metadata": {},
     "output_type": "display_data"
    },
    {
     "data": {
      "application/javascript": [
       "\n",
       "              (function () {\n",
       "                  var root = document.getElementById('c47b0fff-4b62-4235-aade-1529d1949a3b');\n",
       "                  var text = root.getElementsByClassName('pb-text')[0];\n",
       "                  var fill = root.getElementsByClassName('pb-fill')[0];\n",
       "\n",
       "                  text.innerHTML = 'Simulation finished in 0:01:40.';\n",
       "                  \n",
       "            if (100.0 > 0.) {\n",
       "                fill.style.transition = 'width 0.1s linear';\n",
       "            } else {\n",
       "                fill.style.transition = 'none';\n",
       "            }\n",
       "\n",
       "            fill.style.width = '100.0%';\n",
       "            fill.style.animation = 'none';\n",
       "            fill.style.backgroundImage = 'none'\n",
       "        \n",
       "                  \n",
       "                fill.style.animation = 'none';\n",
       "                fill.style.backgroundImage = 'none';\n",
       "            \n",
       "              })();\n",
       "        "
      ],
      "text/plain": [
       "<IPython.core.display.Javascript object>"
      ]
     },
     "metadata": {},
     "output_type": "display_data"
    },
    {
     "name": "stdout",
     "output_type": "stream",
     "text": [
      "seed = 7\n",
      "backend = 'nengo_ocl'\n",
      "dt = 0.001\n",
      "neuron_type = 'default'\n",
      "n_neurons_scale = 1\n",
      "s_crosstalk = 0\n",
      "s_evidence = None\n",
      "t_senso = 0\n",
      "vocab = <nengo_spa.vocabulary.Vocabulary object at 0x7fe8a7320f90>\n",
      "xp = <experiments.Xp1 object at 0x7fe8a732a910>\n",
      "proc_feedback = 0.9\n",
      "proc_feedback_synapse = 0.005\n",
      "GW_feedback = 1\n",
      "GW_threshold = 0.5\n",
      "GW_scale = 2\n",
      "BG_thr = 0.1\n",
      "BG_bias = 0.5\n",
      "integrator_reset = True\n",
      "data = <data.Data object at 0x7fe888f3bf50>\n",
      "\t seed 8/20\n",
      "running run_seed8_dim128\n"
     ]
    },
    {
     "data": {
      "text/html": [
       "\n",
       "                <div id=\"2e3bf81f-3eee-4344-9d94-c6edbb1eadd0\" style=\"\n",
       "                    width: 100%;\n",
       "                    border: 1px solid #cfcfcf;\n",
       "                    border-radius: 4px;\n",
       "                    text-align: center;\n",
       "                    position: relative;\">\n",
       "                  <div class=\"pb-text\" style=\"\n",
       "                      position: absolute;\n",
       "                      width: 100%;\">\n",
       "                    0%\n",
       "                  </div>\n",
       "                  <div class=\"pb-fill\" style=\"\n",
       "                      background-color: #bdd2e6;\n",
       "                      width: 0%;\">\n",
       "                    <style type=\"text/css\" scoped=\"scoped\">\n",
       "                        @keyframes pb-fill-anim {\n",
       "                            0% { background-position: 0 0; }\n",
       "                            100% { background-position: 100px 0; }\n",
       "                        }\n",
       "                    </style>\n",
       "                    &nbsp;\n",
       "                  </div>\n",
       "                </div>"
      ],
      "text/plain": [
       "HtmlProgressBar cannot be displayed. Please use the TerminalProgressBar. It can be enabled with `nengo.rc.set('progress', 'progress_bar', 'nengo.utils.progress.TerminalProgressBar')`."
      ]
     },
     "metadata": {},
     "output_type": "display_data"
    },
    {
     "data": {
      "application/javascript": [
       "\n",
       "              (function () {\n",
       "                  var root = document.getElementById('2e3bf81f-3eee-4344-9d94-c6edbb1eadd0');\n",
       "                  var text = root.getElementsByClassName('pb-text')[0];\n",
       "                  var fill = root.getElementsByClassName('pb-fill')[0];\n",
       "\n",
       "                  text.innerHTML = 'Simulation finished in 0:01:42.';\n",
       "                  \n",
       "            if (100.0 > 0.) {\n",
       "                fill.style.transition = 'width 0.1s linear';\n",
       "            } else {\n",
       "                fill.style.transition = 'none';\n",
       "            }\n",
       "\n",
       "            fill.style.width = '100.0%';\n",
       "            fill.style.animation = 'none';\n",
       "            fill.style.backgroundImage = 'none'\n",
       "        \n",
       "                  \n",
       "                fill.style.animation = 'none';\n",
       "                fill.style.backgroundImage = 'none';\n",
       "            \n",
       "              })();\n",
       "        "
      ],
      "text/plain": [
       "<IPython.core.display.Javascript object>"
      ]
     },
     "metadata": {},
     "output_type": "display_data"
    },
    {
     "name": "stdout",
     "output_type": "stream",
     "text": [
      "seed = 8\n",
      "backend = 'nengo_ocl'\n",
      "dt = 0.001\n",
      "neuron_type = 'default'\n",
      "n_neurons_scale = 1\n",
      "s_crosstalk = 0\n",
      "s_evidence = None\n",
      "t_senso = 0\n",
      "vocab = <nengo_spa.vocabulary.Vocabulary object at 0x7fe8ccf85850>\n",
      "xp = <experiments.Xp1 object at 0x7fe8a505e310>\n",
      "proc_feedback = 0.9\n",
      "proc_feedback_synapse = 0.005\n",
      "GW_feedback = 1\n",
      "GW_threshold = 0.5\n",
      "GW_scale = 2\n",
      "BG_thr = 0.1\n",
      "BG_bias = 0.5\n",
      "integrator_reset = True\n",
      "data = <data.Data object at 0x7fe888f3ba10>\n",
      "\t seed 9/20\n",
      "running run_seed9_dim128\n"
     ]
    },
    {
     "data": {
      "text/html": [
       "\n",
       "                <div id=\"19552086-c746-4e95-8989-3bf2657220f5\" style=\"\n",
       "                    width: 100%;\n",
       "                    border: 1px solid #cfcfcf;\n",
       "                    border-radius: 4px;\n",
       "                    text-align: center;\n",
       "                    position: relative;\">\n",
       "                  <div class=\"pb-text\" style=\"\n",
       "                      position: absolute;\n",
       "                      width: 100%;\">\n",
       "                    0%\n",
       "                  </div>\n",
       "                  <div class=\"pb-fill\" style=\"\n",
       "                      background-color: #bdd2e6;\n",
       "                      width: 0%;\">\n",
       "                    <style type=\"text/css\" scoped=\"scoped\">\n",
       "                        @keyframes pb-fill-anim {\n",
       "                            0% { background-position: 0 0; }\n",
       "                            100% { background-position: 100px 0; }\n",
       "                        }\n",
       "                    </style>\n",
       "                    &nbsp;\n",
       "                  </div>\n",
       "                </div>"
      ],
      "text/plain": [
       "HtmlProgressBar cannot be displayed. Please use the TerminalProgressBar. It can be enabled with `nengo.rc.set('progress', 'progress_bar', 'nengo.utils.progress.TerminalProgressBar')`."
      ]
     },
     "metadata": {},
     "output_type": "display_data"
    },
    {
     "data": {
      "application/javascript": [
       "\n",
       "              (function () {\n",
       "                  var root = document.getElementById('19552086-c746-4e95-8989-3bf2657220f5');\n",
       "                  var text = root.getElementsByClassName('pb-text')[0];\n",
       "                  var fill = root.getElementsByClassName('pb-fill')[0];\n",
       "\n",
       "                  text.innerHTML = 'Simulation finished in 0:01:42.';\n",
       "                  \n",
       "            if (100.0 > 0.) {\n",
       "                fill.style.transition = 'width 0.1s linear';\n",
       "            } else {\n",
       "                fill.style.transition = 'none';\n",
       "            }\n",
       "\n",
       "            fill.style.width = '100.0%';\n",
       "            fill.style.animation = 'none';\n",
       "            fill.style.backgroundImage = 'none'\n",
       "        \n",
       "                  \n",
       "                fill.style.animation = 'none';\n",
       "                fill.style.backgroundImage = 'none';\n",
       "            \n",
       "              })();\n",
       "        "
      ],
      "text/plain": [
       "<IPython.core.display.Javascript object>"
      ]
     },
     "metadata": {},
     "output_type": "display_data"
    },
    {
     "name": "stdout",
     "output_type": "stream",
     "text": [
      "seed = 9\n",
      "backend = 'nengo_ocl'\n",
      "dt = 0.001\n",
      "neuron_type = 'default'\n",
      "n_neurons_scale = 1\n",
      "s_crosstalk = 0\n",
      "s_evidence = None\n",
      "t_senso = 0\n",
      "vocab = <nengo_spa.vocabulary.Vocabulary object at 0x7fe8e1cee110>\n",
      "xp = <experiments.Xp1 object at 0x7fe888f3bf50>\n",
      "proc_feedback = 0.9\n",
      "proc_feedback_synapse = 0.005\n",
      "GW_feedback = 1\n",
      "GW_threshold = 0.5\n",
      "GW_scale = 2\n",
      "BG_thr = 0.1\n",
      "BG_bias = 0.5\n",
      "integrator_reset = True\n",
      "data = <data.Data object at 0x7fe8a7106290>\n",
      "\t seed 10/20\n",
      "running run_seed10_dim128\n"
     ]
    },
    {
     "data": {
      "text/html": [
       "\n",
       "                <div id=\"57b46adf-e559-4173-bdc8-94c3338cdda0\" style=\"\n",
       "                    width: 100%;\n",
       "                    border: 1px solid #cfcfcf;\n",
       "                    border-radius: 4px;\n",
       "                    text-align: center;\n",
       "                    position: relative;\">\n",
       "                  <div class=\"pb-text\" style=\"\n",
       "                      position: absolute;\n",
       "                      width: 100%;\">\n",
       "                    0%\n",
       "                  </div>\n",
       "                  <div class=\"pb-fill\" style=\"\n",
       "                      background-color: #bdd2e6;\n",
       "                      width: 0%;\">\n",
       "                    <style type=\"text/css\" scoped=\"scoped\">\n",
       "                        @keyframes pb-fill-anim {\n",
       "                            0% { background-position: 0 0; }\n",
       "                            100% { background-position: 100px 0; }\n",
       "                        }\n",
       "                    </style>\n",
       "                    &nbsp;\n",
       "                  </div>\n",
       "                </div>"
      ],
      "text/plain": [
       "HtmlProgressBar cannot be displayed. Please use the TerminalProgressBar. It can be enabled with `nengo.rc.set('progress', 'progress_bar', 'nengo.utils.progress.TerminalProgressBar')`."
      ]
     },
     "metadata": {},
     "output_type": "display_data"
    },
    {
     "data": {
      "application/javascript": [
       "\n",
       "              (function () {\n",
       "                  var root = document.getElementById('57b46adf-e559-4173-bdc8-94c3338cdda0');\n",
       "                  var text = root.getElementsByClassName('pb-text')[0];\n",
       "                  var fill = root.getElementsByClassName('pb-fill')[0];\n",
       "\n",
       "                  text.innerHTML = 'Simulation finished in 0:01:44.';\n",
       "                  \n",
       "            if (100.0 > 0.) {\n",
       "                fill.style.transition = 'width 0.1s linear';\n",
       "            } else {\n",
       "                fill.style.transition = 'none';\n",
       "            }\n",
       "\n",
       "            fill.style.width = '100.0%';\n",
       "            fill.style.animation = 'none';\n",
       "            fill.style.backgroundImage = 'none'\n",
       "        \n",
       "                  \n",
       "                fill.style.animation = 'none';\n",
       "                fill.style.backgroundImage = 'none';\n",
       "            \n",
       "              })();\n",
       "        "
      ],
      "text/plain": [
       "<IPython.core.display.Javascript object>"
      ]
     },
     "metadata": {},
     "output_type": "display_data"
    },
    {
     "name": "stdout",
     "output_type": "stream",
     "text": [
      "seed = 10\n",
      "backend = 'nengo_ocl'\n",
      "dt = 0.001\n",
      "neuron_type = 'default'\n",
      "n_neurons_scale = 1\n",
      "s_crosstalk = 0\n",
      "s_evidence = None\n",
      "t_senso = 0\n",
      "vocab = <nengo_spa.vocabulary.Vocabulary object at 0x7fe8a7431610>\n",
      "xp = <experiments.Xp1 object at 0x7fe8e16e7790>\n",
      "proc_feedback = 0.9\n",
      "proc_feedback_synapse = 0.005\n",
      "GW_feedback = 1\n",
      "GW_threshold = 0.5\n",
      "GW_scale = 2\n",
      "BG_thr = 0.1\n",
      "BG_bias = 0.5\n",
      "integrator_reset = True\n",
      "data = <data.Data object at 0x7fe888f3b510>\n",
      "\t seed 11/20\n",
      "running run_seed11_dim128\n"
     ]
    },
    {
     "data": {
      "text/html": [
       "\n",
       "                <div id=\"e24d14bd-52fa-4e1f-a6bd-105ec8e40602\" style=\"\n",
       "                    width: 100%;\n",
       "                    border: 1px solid #cfcfcf;\n",
       "                    border-radius: 4px;\n",
       "                    text-align: center;\n",
       "                    position: relative;\">\n",
       "                  <div class=\"pb-text\" style=\"\n",
       "                      position: absolute;\n",
       "                      width: 100%;\">\n",
       "                    0%\n",
       "                  </div>\n",
       "                  <div class=\"pb-fill\" style=\"\n",
       "                      background-color: #bdd2e6;\n",
       "                      width: 0%;\">\n",
       "                    <style type=\"text/css\" scoped=\"scoped\">\n",
       "                        @keyframes pb-fill-anim {\n",
       "                            0% { background-position: 0 0; }\n",
       "                            100% { background-position: 100px 0; }\n",
       "                        }\n",
       "                    </style>\n",
       "                    &nbsp;\n",
       "                  </div>\n",
       "                </div>"
      ],
      "text/plain": [
       "HtmlProgressBar cannot be displayed. Please use the TerminalProgressBar. It can be enabled with `nengo.rc.set('progress', 'progress_bar', 'nengo.utils.progress.TerminalProgressBar')`."
      ]
     },
     "metadata": {},
     "output_type": "display_data"
    },
    {
     "data": {
      "application/javascript": [
       "\n",
       "              (function () {\n",
       "                  var root = document.getElementById('e24d14bd-52fa-4e1f-a6bd-105ec8e40602');\n",
       "                  var text = root.getElementsByClassName('pb-text')[0];\n",
       "                  var fill = root.getElementsByClassName('pb-fill')[0];\n",
       "\n",
       "                  text.innerHTML = 'Simulation finished in 0:01:45.';\n",
       "                  \n",
       "            if (100.0 > 0.) {\n",
       "                fill.style.transition = 'width 0.1s linear';\n",
       "            } else {\n",
       "                fill.style.transition = 'none';\n",
       "            }\n",
       "\n",
       "            fill.style.width = '100.0%';\n",
       "            fill.style.animation = 'none';\n",
       "            fill.style.backgroundImage = 'none'\n",
       "        \n",
       "                  \n",
       "                fill.style.animation = 'none';\n",
       "                fill.style.backgroundImage = 'none';\n",
       "            \n",
       "              })();\n",
       "        "
      ],
      "text/plain": [
       "<IPython.core.display.Javascript object>"
      ]
     },
     "metadata": {},
     "output_type": "display_data"
    },
    {
     "name": "stdout",
     "output_type": "stream",
     "text": [
      "seed = 11\n",
      "backend = 'nengo_ocl'\n",
      "dt = 0.001\n",
      "neuron_type = 'default'\n",
      "n_neurons_scale = 1\n",
      "s_crosstalk = 0\n",
      "s_evidence = None\n",
      "t_senso = 0\n",
      "vocab = <nengo_spa.vocabulary.Vocabulary object at 0x7fe8a451bf90>\n",
      "xp = <experiments.Xp1 object at 0x7fe8ad7f0950>\n",
      "proc_feedback = 0.9\n",
      "proc_feedback_synapse = 0.005\n",
      "GW_feedback = 1\n",
      "GW_threshold = 0.5\n",
      "GW_scale = 2\n",
      "BG_thr = 0.1\n",
      "BG_bias = 0.5\n",
      "integrator_reset = True\n",
      "data = <data.Data object at 0x7fe8afb8c4d0>\n",
      "\t seed 12/20\n",
      "running run_seed12_dim128\n"
     ]
    },
    {
     "data": {
      "text/html": [
       "\n",
       "                <div id=\"6cfac6c9-2a3e-4682-977b-992b3004d6fd\" style=\"\n",
       "                    width: 100%;\n",
       "                    border: 1px solid #cfcfcf;\n",
       "                    border-radius: 4px;\n",
       "                    text-align: center;\n",
       "                    position: relative;\">\n",
       "                  <div class=\"pb-text\" style=\"\n",
       "                      position: absolute;\n",
       "                      width: 100%;\">\n",
       "                    0%\n",
       "                  </div>\n",
       "                  <div class=\"pb-fill\" style=\"\n",
       "                      background-color: #bdd2e6;\n",
       "                      width: 0%;\">\n",
       "                    <style type=\"text/css\" scoped=\"scoped\">\n",
       "                        @keyframes pb-fill-anim {\n",
       "                            0% { background-position: 0 0; }\n",
       "                            100% { background-position: 100px 0; }\n",
       "                        }\n",
       "                    </style>\n",
       "                    &nbsp;\n",
       "                  </div>\n",
       "                </div>"
      ],
      "text/plain": [
       "HtmlProgressBar cannot be displayed. Please use the TerminalProgressBar. It can be enabled with `nengo.rc.set('progress', 'progress_bar', 'nengo.utils.progress.TerminalProgressBar')`."
      ]
     },
     "metadata": {},
     "output_type": "display_data"
    },
    {
     "data": {
      "application/javascript": [
       "\n",
       "              (function () {\n",
       "                  var root = document.getElementById('6cfac6c9-2a3e-4682-977b-992b3004d6fd');\n",
       "                  var text = root.getElementsByClassName('pb-text')[0];\n",
       "                  var fill = root.getElementsByClassName('pb-fill')[0];\n",
       "\n",
       "                  text.innerHTML = 'Simulation finished in 0:02:20.';\n",
       "                  \n",
       "            if (100.0 > 0.) {\n",
       "                fill.style.transition = 'width 0.1s linear';\n",
       "            } else {\n",
       "                fill.style.transition = 'none';\n",
       "            }\n",
       "\n",
       "            fill.style.width = '100.0%';\n",
       "            fill.style.animation = 'none';\n",
       "            fill.style.backgroundImage = 'none'\n",
       "        \n",
       "                  \n",
       "                fill.style.animation = 'none';\n",
       "                fill.style.backgroundImage = 'none';\n",
       "            \n",
       "              })();\n",
       "        "
      ],
      "text/plain": [
       "<IPython.core.display.Javascript object>"
      ]
     },
     "metadata": {},
     "output_type": "display_data"
    },
    {
     "name": "stdout",
     "output_type": "stream",
     "text": [
      "seed = 12\n",
      "backend = 'nengo_ocl'\n",
      "dt = 0.001\n",
      "neuron_type = 'default'\n",
      "n_neurons_scale = 1\n",
      "s_crosstalk = 0\n",
      "s_evidence = None\n",
      "t_senso = 0\n",
      "vocab = <nengo_spa.vocabulary.Vocabulary object at 0x7fe8e19e7d50>\n",
      "xp = <experiments.Xp1 object at 0x7fe888f29850>\n",
      "proc_feedback = 0.9\n",
      "proc_feedback_synapse = 0.005\n",
      "GW_feedback = 1\n",
      "GW_threshold = 0.5\n",
      "GW_scale = 2\n",
      "BG_thr = 0.1\n",
      "BG_bias = 0.5\n",
      "integrator_reset = True\n",
      "data = <data.Data object at 0x7fe8e1860a50>\n",
      "\t seed 13/20\n",
      "running run_seed13_dim128\n"
     ]
    },
    {
     "data": {
      "text/html": [
       "\n",
       "                <div id=\"78c14aed-12e6-40d3-90f5-ee2ad9f9f66a\" style=\"\n",
       "                    width: 100%;\n",
       "                    border: 1px solid #cfcfcf;\n",
       "                    border-radius: 4px;\n",
       "                    text-align: center;\n",
       "                    position: relative;\">\n",
       "                  <div class=\"pb-text\" style=\"\n",
       "                      position: absolute;\n",
       "                      width: 100%;\">\n",
       "                    0%\n",
       "                  </div>\n",
       "                  <div class=\"pb-fill\" style=\"\n",
       "                      background-color: #bdd2e6;\n",
       "                      width: 0%;\">\n",
       "                    <style type=\"text/css\" scoped=\"scoped\">\n",
       "                        @keyframes pb-fill-anim {\n",
       "                            0% { background-position: 0 0; }\n",
       "                            100% { background-position: 100px 0; }\n",
       "                        }\n",
       "                    </style>\n",
       "                    &nbsp;\n",
       "                  </div>\n",
       "                </div>"
      ],
      "text/plain": [
       "HtmlProgressBar cannot be displayed. Please use the TerminalProgressBar. It can be enabled with `nengo.rc.set('progress', 'progress_bar', 'nengo.utils.progress.TerminalProgressBar')`."
      ]
     },
     "metadata": {},
     "output_type": "display_data"
    },
    {
     "data": {
      "application/javascript": [
       "\n",
       "              (function () {\n",
       "                  var root = document.getElementById('78c14aed-12e6-40d3-90f5-ee2ad9f9f66a');\n",
       "                  var text = root.getElementsByClassName('pb-text')[0];\n",
       "                  var fill = root.getElementsByClassName('pb-fill')[0];\n",
       "\n",
       "                  text.innerHTML = 'Simulation finished in 0:01:33.';\n",
       "                  \n",
       "            if (100.0 > 0.) {\n",
       "                fill.style.transition = 'width 0.1s linear';\n",
       "            } else {\n",
       "                fill.style.transition = 'none';\n",
       "            }\n",
       "\n",
       "            fill.style.width = '100.0%';\n",
       "            fill.style.animation = 'none';\n",
       "            fill.style.backgroundImage = 'none'\n",
       "        \n",
       "                  \n",
       "                fill.style.animation = 'none';\n",
       "                fill.style.backgroundImage = 'none';\n",
       "            \n",
       "              })();\n",
       "        "
      ],
      "text/plain": [
       "<IPython.core.display.Javascript object>"
      ]
     },
     "metadata": {},
     "output_type": "display_data"
    },
    {
     "name": "stdout",
     "output_type": "stream",
     "text": [
      "seed = 13\n",
      "backend = 'nengo_ocl'\n",
      "dt = 0.001\n",
      "neuron_type = 'default'\n",
      "n_neurons_scale = 1\n",
      "s_crosstalk = 0\n",
      "s_evidence = None\n",
      "t_senso = 0\n",
      "vocab = <nengo_spa.vocabulary.Vocabulary object at 0x7fe8e186ef90>\n",
      "xp = <experiments.Xp1 object at 0x7fe8a6719610>\n",
      "proc_feedback = 0.9\n",
      "proc_feedback_synapse = 0.005\n",
      "GW_feedback = 1\n",
      "GW_threshold = 0.5\n",
      "GW_scale = 2\n",
      "BG_thr = 0.1\n",
      "BG_bias = 0.5\n",
      "integrator_reset = True\n",
      "data = <data.Data object at 0x7fe8e186e5d0>\n",
      "\t seed 14/20\n",
      "running run_seed14_dim128\n"
     ]
    },
    {
     "data": {
      "text/html": [
       "\n",
       "                <div id=\"93024155-e502-4f11-816f-e95124adecec\" style=\"\n",
       "                    width: 100%;\n",
       "                    border: 1px solid #cfcfcf;\n",
       "                    border-radius: 4px;\n",
       "                    text-align: center;\n",
       "                    position: relative;\">\n",
       "                  <div class=\"pb-text\" style=\"\n",
       "                      position: absolute;\n",
       "                      width: 100%;\">\n",
       "                    0%\n",
       "                  </div>\n",
       "                  <div class=\"pb-fill\" style=\"\n",
       "                      background-color: #bdd2e6;\n",
       "                      width: 0%;\">\n",
       "                    <style type=\"text/css\" scoped=\"scoped\">\n",
       "                        @keyframes pb-fill-anim {\n",
       "                            0% { background-position: 0 0; }\n",
       "                            100% { background-position: 100px 0; }\n",
       "                        }\n",
       "                    </style>\n",
       "                    &nbsp;\n",
       "                  </div>\n",
       "                </div>"
      ],
      "text/plain": [
       "HtmlProgressBar cannot be displayed. Please use the TerminalProgressBar. It can be enabled with `nengo.rc.set('progress', 'progress_bar', 'nengo.utils.progress.TerminalProgressBar')`."
      ]
     },
     "metadata": {},
     "output_type": "display_data"
    },
    {
     "data": {
      "application/javascript": [
       "\n",
       "              (function () {\n",
       "                  var root = document.getElementById('93024155-e502-4f11-816f-e95124adecec');\n",
       "                  var text = root.getElementsByClassName('pb-text')[0];\n",
       "                  var fill = root.getElementsByClassName('pb-fill')[0];\n",
       "\n",
       "                  text.innerHTML = 'Simulation finished in 0:01:16.';\n",
       "                  \n",
       "            if (100.0 > 0.) {\n",
       "                fill.style.transition = 'width 0.1s linear';\n",
       "            } else {\n",
       "                fill.style.transition = 'none';\n",
       "            }\n",
       "\n",
       "            fill.style.width = '100.0%';\n",
       "            fill.style.animation = 'none';\n",
       "            fill.style.backgroundImage = 'none'\n",
       "        \n",
       "                  \n",
       "                fill.style.animation = 'none';\n",
       "                fill.style.backgroundImage = 'none';\n",
       "            \n",
       "              })();\n",
       "        "
      ],
      "text/plain": [
       "<IPython.core.display.Javascript object>"
      ]
     },
     "metadata": {},
     "output_type": "display_data"
    },
    {
     "name": "stdout",
     "output_type": "stream",
     "text": [
      "seed = 14\n",
      "backend = 'nengo_ocl'\n",
      "dt = 0.001\n",
      "neuron_type = 'default'\n",
      "n_neurons_scale = 1\n",
      "s_crosstalk = 0\n",
      "s_evidence = None\n",
      "t_senso = 0\n",
      "vocab = <nengo_spa.vocabulary.Vocabulary object at 0x7fe8e1daa590>\n",
      "xp = <experiments.Xp1 object at 0x7fe8e1daafd0>\n",
      "proc_feedback = 0.9\n",
      "proc_feedback_synapse = 0.005\n",
      "GW_feedback = 1\n",
      "GW_threshold = 0.5\n",
      "GW_scale = 2\n",
      "BG_thr = 0.1\n",
      "BG_bias = 0.5\n",
      "integrator_reset = True\n",
      "data = <data.Data object at 0x7fe8af570710>\n",
      "\t seed 15/20\n",
      "running run_seed15_dim128\n"
     ]
    },
    {
     "data": {
      "text/html": [
       "\n",
       "                <div id=\"874033a8-8a26-4a1e-adc9-069aaae8a969\" style=\"\n",
       "                    width: 100%;\n",
       "                    border: 1px solid #cfcfcf;\n",
       "                    border-radius: 4px;\n",
       "                    text-align: center;\n",
       "                    position: relative;\">\n",
       "                  <div class=\"pb-text\" style=\"\n",
       "                      position: absolute;\n",
       "                      width: 100%;\">\n",
       "                    0%\n",
       "                  </div>\n",
       "                  <div class=\"pb-fill\" style=\"\n",
       "                      background-color: #bdd2e6;\n",
       "                      width: 0%;\">\n",
       "                    <style type=\"text/css\" scoped=\"scoped\">\n",
       "                        @keyframes pb-fill-anim {\n",
       "                            0% { background-position: 0 0; }\n",
       "                            100% { background-position: 100px 0; }\n",
       "                        }\n",
       "                    </style>\n",
       "                    &nbsp;\n",
       "                  </div>\n",
       "                </div>"
      ],
      "text/plain": [
       "HtmlProgressBar cannot be displayed. Please use the TerminalProgressBar. It can be enabled with `nengo.rc.set('progress', 'progress_bar', 'nengo.utils.progress.TerminalProgressBar')`."
      ]
     },
     "metadata": {},
     "output_type": "display_data"
    },
    {
     "data": {
      "application/javascript": [
       "\n",
       "              (function () {\n",
       "                  var root = document.getElementById('874033a8-8a26-4a1e-adc9-069aaae8a969');\n",
       "                  var text = root.getElementsByClassName('pb-text')[0];\n",
       "                  var fill = root.getElementsByClassName('pb-fill')[0];\n",
       "\n",
       "                  text.innerHTML = 'Simulation finished in 0:01:34.';\n",
       "                  \n",
       "            if (100.0 > 0.) {\n",
       "                fill.style.transition = 'width 0.1s linear';\n",
       "            } else {\n",
       "                fill.style.transition = 'none';\n",
       "            }\n",
       "\n",
       "            fill.style.width = '100.0%';\n",
       "            fill.style.animation = 'none';\n",
       "            fill.style.backgroundImage = 'none'\n",
       "        \n",
       "                  \n",
       "                fill.style.animation = 'none';\n",
       "                fill.style.backgroundImage = 'none';\n",
       "            \n",
       "              })();\n",
       "        "
      ],
      "text/plain": [
       "<IPython.core.display.Javascript object>"
      ]
     },
     "metadata": {},
     "output_type": "display_data"
    },
    {
     "name": "stdout",
     "output_type": "stream",
     "text": [
      "seed = 15\n",
      "backend = 'nengo_ocl'\n",
      "dt = 0.001\n",
      "neuron_type = 'default'\n",
      "n_neurons_scale = 1\n",
      "s_crosstalk = 0\n",
      "s_evidence = None\n",
      "t_senso = 0\n",
      "vocab = <nengo_spa.vocabulary.Vocabulary object at 0x7fe8ac219490>\n",
      "xp = <experiments.Xp1 object at 0x7fe8acecc810>\n",
      "proc_feedback = 0.9\n",
      "proc_feedback_synapse = 0.005\n",
      "GW_feedback = 1\n",
      "GW_threshold = 0.5\n",
      "GW_scale = 2\n",
      "BG_thr = 0.1\n",
      "BG_bias = 0.5\n",
      "integrator_reset = True\n",
      "data = <data.Data object at 0x7fe8e1daaf10>\n",
      "\t seed 16/20\n",
      "running run_seed16_dim128\n"
     ]
    },
    {
     "data": {
      "text/html": [
       "\n",
       "                <div id=\"71ab7513-16dc-494d-b6c8-d073e3e3e012\" style=\"\n",
       "                    width: 100%;\n",
       "                    border: 1px solid #cfcfcf;\n",
       "                    border-radius: 4px;\n",
       "                    text-align: center;\n",
       "                    position: relative;\">\n",
       "                  <div class=\"pb-text\" style=\"\n",
       "                      position: absolute;\n",
       "                      width: 100%;\">\n",
       "                    0%\n",
       "                  </div>\n",
       "                  <div class=\"pb-fill\" style=\"\n",
       "                      background-color: #bdd2e6;\n",
       "                      width: 0%;\">\n",
       "                    <style type=\"text/css\" scoped=\"scoped\">\n",
       "                        @keyframes pb-fill-anim {\n",
       "                            0% { background-position: 0 0; }\n",
       "                            100% { background-position: 100px 0; }\n",
       "                        }\n",
       "                    </style>\n",
       "                    &nbsp;\n",
       "                  </div>\n",
       "                </div>"
      ],
      "text/plain": [
       "HtmlProgressBar cannot be displayed. Please use the TerminalProgressBar. It can be enabled with `nengo.rc.set('progress', 'progress_bar', 'nengo.utils.progress.TerminalProgressBar')`."
      ]
     },
     "metadata": {},
     "output_type": "display_data"
    },
    {
     "data": {
      "application/javascript": [
       "\n",
       "              (function () {\n",
       "                  var root = document.getElementById('71ab7513-16dc-494d-b6c8-d073e3e3e012');\n",
       "                  var text = root.getElementsByClassName('pb-text')[0];\n",
       "                  var fill = root.getElementsByClassName('pb-fill')[0];\n",
       "\n",
       "                  text.innerHTML = 'Simulation finished in 0:01:34.';\n",
       "                  \n",
       "            if (100.0 > 0.) {\n",
       "                fill.style.transition = 'width 0.1s linear';\n",
       "            } else {\n",
       "                fill.style.transition = 'none';\n",
       "            }\n",
       "\n",
       "            fill.style.width = '100.0%';\n",
       "            fill.style.animation = 'none';\n",
       "            fill.style.backgroundImage = 'none'\n",
       "        \n",
       "                  \n",
       "                fill.style.animation = 'none';\n",
       "                fill.style.backgroundImage = 'none';\n",
       "            \n",
       "              })();\n",
       "        "
      ],
      "text/plain": [
       "<IPython.core.display.Javascript object>"
      ]
     },
     "metadata": {},
     "output_type": "display_data"
    },
    {
     "name": "stdout",
     "output_type": "stream",
     "text": [
      "seed = 16\n",
      "backend = 'nengo_ocl'\n",
      "dt = 0.001\n",
      "neuron_type = 'default'\n",
      "n_neurons_scale = 1\n",
      "s_crosstalk = 0\n",
      "s_evidence = None\n",
      "t_senso = 0\n",
      "vocab = <nengo_spa.vocabulary.Vocabulary object at 0x7fe8e17bb4d0>\n",
      "xp = <experiments.Xp1 object at 0x7fe8a4cede10>\n",
      "proc_feedback = 0.9\n",
      "proc_feedback_synapse = 0.005\n",
      "GW_feedback = 1\n",
      "GW_threshold = 0.5\n",
      "GW_scale = 2\n",
      "BG_thr = 0.1\n",
      "BG_bias = 0.5\n",
      "integrator_reset = True\n",
      "data = <data.Data object at 0x7fe8ad4a0790>\n",
      "\t seed 17/20\n",
      "running run_seed17_dim128\n"
     ]
    },
    {
     "data": {
      "text/html": [
       "\n",
       "                <div id=\"fbd8e617-94c4-4845-b25f-20f5aacd9496\" style=\"\n",
       "                    width: 100%;\n",
       "                    border: 1px solid #cfcfcf;\n",
       "                    border-radius: 4px;\n",
       "                    text-align: center;\n",
       "                    position: relative;\">\n",
       "                  <div class=\"pb-text\" style=\"\n",
       "                      position: absolute;\n",
       "                      width: 100%;\">\n",
       "                    0%\n",
       "                  </div>\n",
       "                  <div class=\"pb-fill\" style=\"\n",
       "                      background-color: #bdd2e6;\n",
       "                      width: 0%;\">\n",
       "                    <style type=\"text/css\" scoped=\"scoped\">\n",
       "                        @keyframes pb-fill-anim {\n",
       "                            0% { background-position: 0 0; }\n",
       "                            100% { background-position: 100px 0; }\n",
       "                        }\n",
       "                    </style>\n",
       "                    &nbsp;\n",
       "                  </div>\n",
       "                </div>"
      ],
      "text/plain": [
       "HtmlProgressBar cannot be displayed. Please use the TerminalProgressBar. It can be enabled with `nengo.rc.set('progress', 'progress_bar', 'nengo.utils.progress.TerminalProgressBar')`."
      ]
     },
     "metadata": {},
     "output_type": "display_data"
    },
    {
     "data": {
      "application/javascript": [
       "\n",
       "              (function () {\n",
       "                  var root = document.getElementById('fbd8e617-94c4-4845-b25f-20f5aacd9496');\n",
       "                  var text = root.getElementsByClassName('pb-text')[0];\n",
       "                  var fill = root.getElementsByClassName('pb-fill')[0];\n",
       "\n",
       "                  text.innerHTML = 'Simulation finished in 0:01:17.';\n",
       "                  \n",
       "            if (100.0 > 0.) {\n",
       "                fill.style.transition = 'width 0.1s linear';\n",
       "            } else {\n",
       "                fill.style.transition = 'none';\n",
       "            }\n",
       "\n",
       "            fill.style.width = '100.0%';\n",
       "            fill.style.animation = 'none';\n",
       "            fill.style.backgroundImage = 'none'\n",
       "        \n",
       "                  \n",
       "                fill.style.animation = 'none';\n",
       "                fill.style.backgroundImage = 'none';\n",
       "            \n",
       "              })();\n",
       "        "
      ],
      "text/plain": [
       "<IPython.core.display.Javascript object>"
      ]
     },
     "metadata": {},
     "output_type": "display_data"
    },
    {
     "name": "stdout",
     "output_type": "stream",
     "text": [
      "seed = 17\n",
      "backend = 'nengo_ocl'\n",
      "dt = 0.001\n",
      "neuron_type = 'default'\n",
      "n_neurons_scale = 1\n",
      "s_crosstalk = 0\n",
      "s_evidence = None\n",
      "t_senso = 0\n",
      "vocab = <nengo_spa.vocabulary.Vocabulary object at 0x7fe8af64dd10>\n",
      "xp = <experiments.Xp1 object at 0x7fe8a404df90>\n",
      "proc_feedback = 0.9\n",
      "proc_feedback_synapse = 0.005\n",
      "GW_feedback = 1\n",
      "GW_threshold = 0.5\n",
      "GW_scale = 2\n",
      "BG_thr = 0.1\n",
      "BG_bias = 0.5\n",
      "integrator_reset = True\n",
      "data = <data.Data object at 0x7fe8ae326a50>\n",
      "\t seed 18/20\n",
      "running run_seed18_dim128\n"
     ]
    },
    {
     "name": "stderr",
     "output_type": "stream",
     "text": [
      "/home/ubuntu/anaconda3/envs/CTN/lib/python3.7/site-packages/nengo_spa/vocabulary.py:173: UserWarning: Could not create a semantic pointer with max_similarity=0.10 (D=128, M=20, similarity=0.11)\n",
      "  len(self._key2idx), best_sim))\n"
     ]
    },
    {
     "data": {
      "text/html": [
       "\n",
       "                <div id=\"31c7dcdd-b01b-4451-a4e6-b17ab2c00ecb\" style=\"\n",
       "                    width: 100%;\n",
       "                    border: 1px solid #cfcfcf;\n",
       "                    border-radius: 4px;\n",
       "                    text-align: center;\n",
       "                    position: relative;\">\n",
       "                  <div class=\"pb-text\" style=\"\n",
       "                      position: absolute;\n",
       "                      width: 100%;\">\n",
       "                    0%\n",
       "                  </div>\n",
       "                  <div class=\"pb-fill\" style=\"\n",
       "                      background-color: #bdd2e6;\n",
       "                      width: 0%;\">\n",
       "                    <style type=\"text/css\" scoped=\"scoped\">\n",
       "                        @keyframes pb-fill-anim {\n",
       "                            0% { background-position: 0 0; }\n",
       "                            100% { background-position: 100px 0; }\n",
       "                        }\n",
       "                    </style>\n",
       "                    &nbsp;\n",
       "                  </div>\n",
       "                </div>"
      ],
      "text/plain": [
       "HtmlProgressBar cannot be displayed. Please use the TerminalProgressBar. It can be enabled with `nengo.rc.set('progress', 'progress_bar', 'nengo.utils.progress.TerminalProgressBar')`."
      ]
     },
     "metadata": {},
     "output_type": "display_data"
    },
    {
     "data": {
      "application/javascript": [
       "\n",
       "              (function () {\n",
       "                  var root = document.getElementById('31c7dcdd-b01b-4451-a4e6-b17ab2c00ecb');\n",
       "                  var text = root.getElementsByClassName('pb-text')[0];\n",
       "                  var fill = root.getElementsByClassName('pb-fill')[0];\n",
       "\n",
       "                  text.innerHTML = 'Simulation finished in 0:01:17.';\n",
       "                  \n",
       "            if (100.0 > 0.) {\n",
       "                fill.style.transition = 'width 0.1s linear';\n",
       "            } else {\n",
       "                fill.style.transition = 'none';\n",
       "            }\n",
       "\n",
       "            fill.style.width = '100.0%';\n",
       "            fill.style.animation = 'none';\n",
       "            fill.style.backgroundImage = 'none'\n",
       "        \n",
       "                  \n",
       "                fill.style.animation = 'none';\n",
       "                fill.style.backgroundImage = 'none';\n",
       "            \n",
       "              })();\n",
       "        "
      ],
      "text/plain": [
       "<IPython.core.display.Javascript object>"
      ]
     },
     "metadata": {},
     "output_type": "display_data"
    },
    {
     "name": "stdout",
     "output_type": "stream",
     "text": [
      "seed = 18\n",
      "backend = 'nengo_ocl'\n",
      "dt = 0.001\n",
      "neuron_type = 'default'\n",
      "n_neurons_scale = 1\n",
      "s_crosstalk = 0\n",
      "s_evidence = None\n",
      "t_senso = 0\n",
      "vocab = <nengo_spa.vocabulary.Vocabulary object at 0x7fe8a73174d0>\n",
      "xp = <experiments.Xp1 object at 0x7fe8a730f950>\n",
      "proc_feedback = 0.9\n",
      "proc_feedback_synapse = 0.005\n",
      "GW_feedback = 1\n",
      "GW_threshold = 0.5\n",
      "GW_scale = 2\n",
      "BG_thr = 0.1\n",
      "BG_bias = 0.5\n",
      "integrator_reset = True\n",
      "data = <data.Data object at 0x7fe8a54a9150>\n",
      "\t seed 19/20\n",
      "running run_seed19_dim128\n"
     ]
    },
    {
     "data": {
      "text/html": [
       "\n",
       "                <div id=\"eb3f1698-583b-4561-8039-f600d0479deb\" style=\"\n",
       "                    width: 100%;\n",
       "                    border: 1px solid #cfcfcf;\n",
       "                    border-radius: 4px;\n",
       "                    text-align: center;\n",
       "                    position: relative;\">\n",
       "                  <div class=\"pb-text\" style=\"\n",
       "                      position: absolute;\n",
       "                      width: 100%;\">\n",
       "                    0%\n",
       "                  </div>\n",
       "                  <div class=\"pb-fill\" style=\"\n",
       "                      background-color: #bdd2e6;\n",
       "                      width: 0%;\">\n",
       "                    <style type=\"text/css\" scoped=\"scoped\">\n",
       "                        @keyframes pb-fill-anim {\n",
       "                            0% { background-position: 0 0; }\n",
       "                            100% { background-position: 100px 0; }\n",
       "                        }\n",
       "                    </style>\n",
       "                    &nbsp;\n",
       "                  </div>\n",
       "                </div>"
      ],
      "text/plain": [
       "HtmlProgressBar cannot be displayed. Please use the TerminalProgressBar. It can be enabled with `nengo.rc.set('progress', 'progress_bar', 'nengo.utils.progress.TerminalProgressBar')`."
      ]
     },
     "metadata": {},
     "output_type": "display_data"
    },
    {
     "data": {
      "application/javascript": [
       "\n",
       "              (function () {\n",
       "                  var root = document.getElementById('eb3f1698-583b-4561-8039-f600d0479deb');\n",
       "                  var text = root.getElementsByClassName('pb-text')[0];\n",
       "                  var fill = root.getElementsByClassName('pb-fill')[0];\n",
       "\n",
       "                  text.innerHTML = 'Simulation finished in 0:01:24.';\n",
       "                  \n",
       "            if (100.0 > 0.) {\n",
       "                fill.style.transition = 'width 0.1s linear';\n",
       "            } else {\n",
       "                fill.style.transition = 'none';\n",
       "            }\n",
       "\n",
       "            fill.style.width = '100.0%';\n",
       "            fill.style.animation = 'none';\n",
       "            fill.style.backgroundImage = 'none'\n",
       "        \n",
       "                  \n",
       "                fill.style.animation = 'none';\n",
       "                fill.style.backgroundImage = 'none';\n",
       "            \n",
       "              })();\n",
       "        "
      ],
      "text/plain": [
       "<IPython.core.display.Javascript object>"
      ]
     },
     "metadata": {},
     "output_type": "display_data"
    },
    {
     "name": "stdout",
     "output_type": "stream",
     "text": [
      "seed = 19\n",
      "backend = 'nengo_ocl'\n",
      "dt = 0.001\n",
      "neuron_type = 'default'\n",
      "n_neurons_scale = 1\n",
      "s_crosstalk = 0\n",
      "s_evidence = None\n",
      "t_senso = 0\n",
      "vocab = <nengo_spa.vocabulary.Vocabulary object at 0x7fe8ac7c9510>\n",
      "xp = <experiments.Xp1 object at 0x7fe8f4863e10>\n",
      "proc_feedback = 0.9\n",
      "proc_feedback_synapse = 0.005\n",
      "GW_feedback = 1\n",
      "GW_threshold = 0.5\n",
      "GW_scale = 2\n",
      "BG_thr = 0.1\n",
      "BG_bias = 0.5\n",
      "integrator_reset = True\n",
      "data = <data.Data object at 0x7fe8a73a8990>\n",
      "\t seed 20/20\n",
      "running run_seed20_dim128\n"
     ]
    },
    {
     "data": {
      "text/html": [
       "\n",
       "                <div id=\"470e290d-e8c6-40b4-ab7a-5026727a6865\" style=\"\n",
       "                    width: 100%;\n",
       "                    border: 1px solid #cfcfcf;\n",
       "                    border-radius: 4px;\n",
       "                    text-align: center;\n",
       "                    position: relative;\">\n",
       "                  <div class=\"pb-text\" style=\"\n",
       "                      position: absolute;\n",
       "                      width: 100%;\">\n",
       "                    0%\n",
       "                  </div>\n",
       "                  <div class=\"pb-fill\" style=\"\n",
       "                      background-color: #bdd2e6;\n",
       "                      width: 0%;\">\n",
       "                    <style type=\"text/css\" scoped=\"scoped\">\n",
       "                        @keyframes pb-fill-anim {\n",
       "                            0% { background-position: 0 0; }\n",
       "                            100% { background-position: 100px 0; }\n",
       "                        }\n",
       "                    </style>\n",
       "                    &nbsp;\n",
       "                  </div>\n",
       "                </div>"
      ],
      "text/plain": [
       "HtmlProgressBar cannot be displayed. Please use the TerminalProgressBar. It can be enabled with `nengo.rc.set('progress', 'progress_bar', 'nengo.utils.progress.TerminalProgressBar')`."
      ]
     },
     "metadata": {},
     "output_type": "display_data"
    },
    {
     "data": {
      "application/javascript": [
       "\n",
       "              (function () {\n",
       "                  var root = document.getElementById('470e290d-e8c6-40b4-ab7a-5026727a6865');\n",
       "                  var text = root.getElementsByClassName('pb-text')[0];\n",
       "                  var fill = root.getElementsByClassName('pb-fill')[0];\n",
       "\n",
       "                  text.innerHTML = 'Simulation finished in 0:01:18.';\n",
       "                  \n",
       "            if (100.0 > 0.) {\n",
       "                fill.style.transition = 'width 0.1s linear';\n",
       "            } else {\n",
       "                fill.style.transition = 'none';\n",
       "            }\n",
       "\n",
       "            fill.style.width = '100.0%';\n",
       "            fill.style.animation = 'none';\n",
       "            fill.style.backgroundImage = 'none'\n",
       "        \n",
       "                  \n",
       "                fill.style.animation = 'none';\n",
       "                fill.style.backgroundImage = 'none';\n",
       "            \n",
       "              })();\n",
       "        "
      ],
      "text/plain": [
       "<IPython.core.display.Javascript object>"
      ]
     },
     "metadata": {},
     "output_type": "display_data"
    },
    {
     "name": "stdout",
     "output_type": "stream",
     "text": [
      "seed = 20\n",
      "backend = 'nengo_ocl'\n",
      "dt = 0.001\n",
      "neuron_type = 'default'\n",
      "n_neurons_scale = 1\n",
      "s_crosstalk = 0\n",
      "s_evidence = None\n",
      "t_senso = 0\n",
      "vocab = <nengo_spa.vocabulary.Vocabulary object at 0x7fe8a6250610>\n",
      "xp = <experiments.Xp1 object at 0x7fe8e29488d0>\n",
      "proc_feedback = 0.9\n",
      "proc_feedback_synapse = 0.005\n",
      "GW_feedback = 1\n",
      "GW_threshold = 0.5\n",
      "GW_scale = 2\n",
      "BG_thr = 0.1\n",
      "BG_bias = 0.5\n",
      "integrator_reset = True\n",
      "data = <data.Data object at 0x7fe8ac7c95d0>\n",
      "error rate: 0.13124999999999998\n",
      "params: [9.]\n",
      "Simulating...\n",
      "\t seed 1/20\n",
      "running run_seed1_dim144\n"
     ]
    },
    {
     "data": {
      "text/html": [
       "\n",
       "                <div id=\"659906fc-6264-4367-8687-2986c3f9bed8\" style=\"\n",
       "                    width: 100%;\n",
       "                    border: 1px solid #cfcfcf;\n",
       "                    border-radius: 4px;\n",
       "                    text-align: center;\n",
       "                    position: relative;\">\n",
       "                  <div class=\"pb-text\" style=\"\n",
       "                      position: absolute;\n",
       "                      width: 100%;\">\n",
       "                    0%\n",
       "                  </div>\n",
       "                  <div class=\"pb-fill\" style=\"\n",
       "                      background-color: #bdd2e6;\n",
       "                      width: 0%;\">\n",
       "                    <style type=\"text/css\" scoped=\"scoped\">\n",
       "                        @keyframes pb-fill-anim {\n",
       "                            0% { background-position: 0 0; }\n",
       "                            100% { background-position: 100px 0; }\n",
       "                        }\n",
       "                    </style>\n",
       "                    &nbsp;\n",
       "                  </div>\n",
       "                </div>"
      ],
      "text/plain": [
       "HtmlProgressBar cannot be displayed. Please use the TerminalProgressBar. It can be enabled with `nengo.rc.set('progress', 'progress_bar', 'nengo.utils.progress.TerminalProgressBar')`."
      ]
     },
     "metadata": {},
     "output_type": "display_data"
    },
    {
     "data": {
      "application/javascript": [
       "\n",
       "              (function () {\n",
       "                  var root = document.getElementById('659906fc-6264-4367-8687-2986c3f9bed8');\n",
       "                  var text = root.getElementsByClassName('pb-text')[0];\n",
       "                  var fill = root.getElementsByClassName('pb-fill')[0];\n",
       "\n",
       "                  text.innerHTML = 'Simulation finished in 0:01:37.';\n",
       "                  \n",
       "            if (100.0 > 0.) {\n",
       "                fill.style.transition = 'width 0.1s linear';\n",
       "            } else {\n",
       "                fill.style.transition = 'none';\n",
       "            }\n",
       "\n",
       "            fill.style.width = '100.0%';\n",
       "            fill.style.animation = 'none';\n",
       "            fill.style.backgroundImage = 'none'\n",
       "        \n",
       "                  \n",
       "                fill.style.animation = 'none';\n",
       "                fill.style.backgroundImage = 'none';\n",
       "            \n",
       "              })();\n",
       "        "
      ],
      "text/plain": [
       "<IPython.core.display.Javascript object>"
      ]
     },
     "metadata": {},
     "output_type": "display_data"
    },
    {
     "name": "stdout",
     "output_type": "stream",
     "text": [
      "seed = 1\n",
      "backend = 'nengo_ocl'\n",
      "dt = 0.001\n",
      "neuron_type = 'default'\n",
      "n_neurons_scale = 1\n",
      "s_crosstalk = 0\n",
      "s_evidence = None\n",
      "t_senso = 0\n",
      "vocab = <nengo_spa.vocabulary.Vocabulary object at 0x7fe8aca47d10>\n",
      "xp = <experiments.Xp1 object at 0x7fe8e1708750>\n",
      "proc_feedback = 0.9\n",
      "proc_feedback_synapse = 0.005\n",
      "GW_feedback = 1\n",
      "GW_threshold = 0.5\n",
      "GW_scale = 2\n",
      "BG_thr = 0.1\n",
      "BG_bias = 0.5\n",
      "integrator_reset = True\n",
      "data = <data.Data object at 0x7fe8c176dad0>\n",
      "\t seed 2/20\n",
      "running run_seed2_dim144\n"
     ]
    },
    {
     "data": {
      "text/html": [
       "\n",
       "                <div id=\"5a8c8929-6ffd-4db8-b29c-cbb0bb8f4836\" style=\"\n",
       "                    width: 100%;\n",
       "                    border: 1px solid #cfcfcf;\n",
       "                    border-radius: 4px;\n",
       "                    text-align: center;\n",
       "                    position: relative;\">\n",
       "                  <div class=\"pb-text\" style=\"\n",
       "                      position: absolute;\n",
       "                      width: 100%;\">\n",
       "                    0%\n",
       "                  </div>\n",
       "                  <div class=\"pb-fill\" style=\"\n",
       "                      background-color: #bdd2e6;\n",
       "                      width: 0%;\">\n",
       "                    <style type=\"text/css\" scoped=\"scoped\">\n",
       "                        @keyframes pb-fill-anim {\n",
       "                            0% { background-position: 0 0; }\n",
       "                            100% { background-position: 100px 0; }\n",
       "                        }\n",
       "                    </style>\n",
       "                    &nbsp;\n",
       "                  </div>\n",
       "                </div>"
      ],
      "text/plain": [
       "HtmlProgressBar cannot be displayed. Please use the TerminalProgressBar. It can be enabled with `nengo.rc.set('progress', 'progress_bar', 'nengo.utils.progress.TerminalProgressBar')`."
      ]
     },
     "metadata": {},
     "output_type": "display_data"
    },
    {
     "data": {
      "application/javascript": [
       "\n",
       "              (function () {\n",
       "                  var root = document.getElementById('5a8c8929-6ffd-4db8-b29c-cbb0bb8f4836');\n",
       "                  var text = root.getElementsByClassName('pb-text')[0];\n",
       "                  var fill = root.getElementsByClassName('pb-fill')[0];\n",
       "\n",
       "                  text.innerHTML = 'Simulation finished in 0:01:21.';\n",
       "                  \n",
       "            if (100.0 > 0.) {\n",
       "                fill.style.transition = 'width 0.1s linear';\n",
       "            } else {\n",
       "                fill.style.transition = 'none';\n",
       "            }\n",
       "\n",
       "            fill.style.width = '100.0%';\n",
       "            fill.style.animation = 'none';\n",
       "            fill.style.backgroundImage = 'none'\n",
       "        \n",
       "                  \n",
       "                fill.style.animation = 'none';\n",
       "                fill.style.backgroundImage = 'none';\n",
       "            \n",
       "              })();\n",
       "        "
      ],
      "text/plain": [
       "<IPython.core.display.Javascript object>"
      ]
     },
     "metadata": {},
     "output_type": "display_data"
    },
    {
     "name": "stdout",
     "output_type": "stream",
     "text": [
      "seed = 2\n",
      "backend = 'nengo_ocl'\n",
      "dt = 0.001\n",
      "neuron_type = 'default'\n",
      "n_neurons_scale = 1\n",
      "s_crosstalk = 0\n",
      "s_evidence = None\n",
      "t_senso = 0\n",
      "vocab = <nengo_spa.vocabulary.Vocabulary object at 0x7fe888df8050>\n",
      "xp = <experiments.Xp1 object at 0x7fe8e14ec610>\n",
      "proc_feedback = 0.9\n",
      "proc_feedback_synapse = 0.005\n",
      "GW_feedback = 1\n",
      "GW_threshold = 0.5\n",
      "GW_scale = 2\n",
      "BG_thr = 0.1\n",
      "BG_bias = 0.5\n",
      "integrator_reset = True\n",
      "data = <data.Data object at 0x7fe8c1778b10>\n",
      "\t seed 3/20\n",
      "running run_seed3_dim144\n"
     ]
    },
    {
     "data": {
      "text/html": [
       "\n",
       "                <div id=\"ad1f51ce-93ad-4d63-802a-34c6edf09176\" style=\"\n",
       "                    width: 100%;\n",
       "                    border: 1px solid #cfcfcf;\n",
       "                    border-radius: 4px;\n",
       "                    text-align: center;\n",
       "                    position: relative;\">\n",
       "                  <div class=\"pb-text\" style=\"\n",
       "                      position: absolute;\n",
       "                      width: 100%;\">\n",
       "                    0%\n",
       "                  </div>\n",
       "                  <div class=\"pb-fill\" style=\"\n",
       "                      background-color: #bdd2e6;\n",
       "                      width: 0%;\">\n",
       "                    <style type=\"text/css\" scoped=\"scoped\">\n",
       "                        @keyframes pb-fill-anim {\n",
       "                            0% { background-position: 0 0; }\n",
       "                            100% { background-position: 100px 0; }\n",
       "                        }\n",
       "                    </style>\n",
       "                    &nbsp;\n",
       "                  </div>\n",
       "                </div>"
      ],
      "text/plain": [
       "HtmlProgressBar cannot be displayed. Please use the TerminalProgressBar. It can be enabled with `nengo.rc.set('progress', 'progress_bar', 'nengo.utils.progress.TerminalProgressBar')`."
      ]
     },
     "metadata": {},
     "output_type": "display_data"
    },
    {
     "data": {
      "application/javascript": [
       "\n",
       "              (function () {\n",
       "                  var root = document.getElementById('ad1f51ce-93ad-4d63-802a-34c6edf09176');\n",
       "                  var text = root.getElementsByClassName('pb-text')[0];\n",
       "                  var fill = root.getElementsByClassName('pb-fill')[0];\n",
       "\n",
       "                  text.innerHTML = 'Simulation finished in 0:01:32.';\n",
       "                  \n",
       "            if (100.0 > 0.) {\n",
       "                fill.style.transition = 'width 0.1s linear';\n",
       "            } else {\n",
       "                fill.style.transition = 'none';\n",
       "            }\n",
       "\n",
       "            fill.style.width = '100.0%';\n",
       "            fill.style.animation = 'none';\n",
       "            fill.style.backgroundImage = 'none'\n",
       "        \n",
       "                  \n",
       "                fill.style.animation = 'none';\n",
       "                fill.style.backgroundImage = 'none';\n",
       "            \n",
       "              })();\n",
       "        "
      ],
      "text/plain": [
       "<IPython.core.display.Javascript object>"
      ]
     },
     "metadata": {},
     "output_type": "display_data"
    },
    {
     "name": "stdout",
     "output_type": "stream",
     "text": [
      "seed = 3\n",
      "backend = 'nengo_ocl'\n",
      "dt = 0.001\n",
      "neuron_type = 'default'\n",
      "n_neurons_scale = 1\n",
      "s_crosstalk = 0\n",
      "s_evidence = None\n",
      "t_senso = 0\n",
      "vocab = <nengo_spa.vocabulary.Vocabulary object at 0x7fe8cd060c10>\n",
      "xp = <experiments.Xp1 object at 0x7fe8cd065f50>\n",
      "proc_feedback = 0.9\n",
      "proc_feedback_synapse = 0.005\n",
      "GW_feedback = 1\n",
      "GW_threshold = 0.5\n",
      "GW_scale = 2\n",
      "BG_thr = 0.1\n",
      "BG_bias = 0.5\n",
      "integrator_reset = True\n",
      "data = <data.Data object at 0x7fe8aeb35690>\n",
      "\t seed 4/20\n",
      "running run_seed4_dim144\n"
     ]
    },
    {
     "data": {
      "text/html": [
       "\n",
       "                <div id=\"a79d4dc4-1000-432b-9e32-5bf7d2701bca\" style=\"\n",
       "                    width: 100%;\n",
       "                    border: 1px solid #cfcfcf;\n",
       "                    border-radius: 4px;\n",
       "                    text-align: center;\n",
       "                    position: relative;\">\n",
       "                  <div class=\"pb-text\" style=\"\n",
       "                      position: absolute;\n",
       "                      width: 100%;\">\n",
       "                    0%\n",
       "                  </div>\n",
       "                  <div class=\"pb-fill\" style=\"\n",
       "                      background-color: #bdd2e6;\n",
       "                      width: 0%;\">\n",
       "                    <style type=\"text/css\" scoped=\"scoped\">\n",
       "                        @keyframes pb-fill-anim {\n",
       "                            0% { background-position: 0 0; }\n",
       "                            100% { background-position: 100px 0; }\n",
       "                        }\n",
       "                    </style>\n",
       "                    &nbsp;\n",
       "                  </div>\n",
       "                </div>"
      ],
      "text/plain": [
       "HtmlProgressBar cannot be displayed. Please use the TerminalProgressBar. It can be enabled with `nengo.rc.set('progress', 'progress_bar', 'nengo.utils.progress.TerminalProgressBar')`."
      ]
     },
     "metadata": {},
     "output_type": "display_data"
    },
    {
     "data": {
      "application/javascript": [
       "\n",
       "              (function () {\n",
       "                  var root = document.getElementById('a79d4dc4-1000-432b-9e32-5bf7d2701bca');\n",
       "                  var text = root.getElementsByClassName('pb-text')[0];\n",
       "                  var fill = root.getElementsByClassName('pb-fill')[0];\n",
       "\n",
       "                  text.innerHTML = 'Simulation finished in 0:01:15.';\n",
       "                  \n",
       "            if (100.0 > 0.) {\n",
       "                fill.style.transition = 'width 0.1s linear';\n",
       "            } else {\n",
       "                fill.style.transition = 'none';\n",
       "            }\n",
       "\n",
       "            fill.style.width = '100.0%';\n",
       "            fill.style.animation = 'none';\n",
       "            fill.style.backgroundImage = 'none'\n",
       "        \n",
       "                  \n",
       "                fill.style.animation = 'none';\n",
       "                fill.style.backgroundImage = 'none';\n",
       "            \n",
       "              })();\n",
       "        "
      ],
      "text/plain": [
       "<IPython.core.display.Javascript object>"
      ]
     },
     "metadata": {},
     "output_type": "display_data"
    },
    {
     "name": "stdout",
     "output_type": "stream",
     "text": [
      "seed = 4\n",
      "backend = 'nengo_ocl'\n",
      "dt = 0.001\n",
      "neuron_type = 'default'\n",
      "n_neurons_scale = 1\n",
      "s_crosstalk = 0\n",
      "s_evidence = None\n",
      "t_senso = 0\n",
      "vocab = <nengo_spa.vocabulary.Vocabulary object at 0x7fe8a732bc50>\n",
      "xp = <experiments.Xp1 object at 0x7fe8aeb2e450>\n",
      "proc_feedback = 0.9\n",
      "proc_feedback_synapse = 0.005\n",
      "GW_feedback = 1\n",
      "GW_threshold = 0.5\n",
      "GW_scale = 2\n",
      "BG_thr = 0.1\n",
      "BG_bias = 0.5\n",
      "integrator_reset = True\n",
      "data = <data.Data object at 0x7fe8e131e6d0>\n",
      "\t seed 5/20\n",
      "running run_seed5_dim144\n"
     ]
    },
    {
     "data": {
      "text/html": [
       "\n",
       "                <div id=\"e09d2fbe-7641-4cd5-abe1-9c2f7636d308\" style=\"\n",
       "                    width: 100%;\n",
       "                    border: 1px solid #cfcfcf;\n",
       "                    border-radius: 4px;\n",
       "                    text-align: center;\n",
       "                    position: relative;\">\n",
       "                  <div class=\"pb-text\" style=\"\n",
       "                      position: absolute;\n",
       "                      width: 100%;\">\n",
       "                    0%\n",
       "                  </div>\n",
       "                  <div class=\"pb-fill\" style=\"\n",
       "                      background-color: #bdd2e6;\n",
       "                      width: 0%;\">\n",
       "                    <style type=\"text/css\" scoped=\"scoped\">\n",
       "                        @keyframes pb-fill-anim {\n",
       "                            0% { background-position: 0 0; }\n",
       "                            100% { background-position: 100px 0; }\n",
       "                        }\n",
       "                    </style>\n",
       "                    &nbsp;\n",
       "                  </div>\n",
       "                </div>"
      ],
      "text/plain": [
       "HtmlProgressBar cannot be displayed. Please use the TerminalProgressBar. It can be enabled with `nengo.rc.set('progress', 'progress_bar', 'nengo.utils.progress.TerminalProgressBar')`."
      ]
     },
     "metadata": {},
     "output_type": "display_data"
    },
    {
     "data": {
      "application/javascript": [
       "\n",
       "              (function () {\n",
       "                  var root = document.getElementById('e09d2fbe-7641-4cd5-abe1-9c2f7636d308');\n",
       "                  var text = root.getElementsByClassName('pb-text')[0];\n",
       "                  var fill = root.getElementsByClassName('pb-fill')[0];\n",
       "\n",
       "                  text.innerHTML = 'Simulation finished in 0:01:32.';\n",
       "                  \n",
       "            if (100.0 > 0.) {\n",
       "                fill.style.transition = 'width 0.1s linear';\n",
       "            } else {\n",
       "                fill.style.transition = 'none';\n",
       "            }\n",
       "\n",
       "            fill.style.width = '100.0%';\n",
       "            fill.style.animation = 'none';\n",
       "            fill.style.backgroundImage = 'none'\n",
       "        \n",
       "                  \n",
       "                fill.style.animation = 'none';\n",
       "                fill.style.backgroundImage = 'none';\n",
       "            \n",
       "              })();\n",
       "        "
      ],
      "text/plain": [
       "<IPython.core.display.Javascript object>"
      ]
     },
     "metadata": {},
     "output_type": "display_data"
    },
    {
     "name": "stdout",
     "output_type": "stream",
     "text": [
      "seed = 5\n",
      "backend = 'nengo_ocl'\n",
      "dt = 0.001\n",
      "neuron_type = 'default'\n",
      "n_neurons_scale = 1\n",
      "s_crosstalk = 0\n",
      "s_evidence = None\n",
      "t_senso = 0\n",
      "vocab = <nengo_spa.vocabulary.Vocabulary object at 0x7fe8a736e690>\n",
      "xp = <experiments.Xp1 object at 0x7fe8a736e490>\n",
      "proc_feedback = 0.9\n",
      "proc_feedback_synapse = 0.005\n",
      "GW_feedback = 1\n",
      "GW_threshold = 0.5\n",
      "GW_scale = 2\n",
      "BG_thr = 0.1\n",
      "BG_bias = 0.5\n",
      "integrator_reset = True\n",
      "data = <data.Data object at 0x7fe8ad8241d0>\n",
      "\t seed 6/20\n",
      "running run_seed6_dim144\n"
     ]
    },
    {
     "data": {
      "text/html": [
       "\n",
       "                <div id=\"895cc75a-d83b-45c8-b44c-27a529d4ff2e\" style=\"\n",
       "                    width: 100%;\n",
       "                    border: 1px solid #cfcfcf;\n",
       "                    border-radius: 4px;\n",
       "                    text-align: center;\n",
       "                    position: relative;\">\n",
       "                  <div class=\"pb-text\" style=\"\n",
       "                      position: absolute;\n",
       "                      width: 100%;\">\n",
       "                    0%\n",
       "                  </div>\n",
       "                  <div class=\"pb-fill\" style=\"\n",
       "                      background-color: #bdd2e6;\n",
       "                      width: 0%;\">\n",
       "                    <style type=\"text/css\" scoped=\"scoped\">\n",
       "                        @keyframes pb-fill-anim {\n",
       "                            0% { background-position: 0 0; }\n",
       "                            100% { background-position: 100px 0; }\n",
       "                        }\n",
       "                    </style>\n",
       "                    &nbsp;\n",
       "                  </div>\n",
       "                </div>"
      ],
      "text/plain": [
       "HtmlProgressBar cannot be displayed. Please use the TerminalProgressBar. It can be enabled with `nengo.rc.set('progress', 'progress_bar', 'nengo.utils.progress.TerminalProgressBar')`."
      ]
     },
     "metadata": {},
     "output_type": "display_data"
    },
    {
     "data": {
      "application/javascript": [
       "\n",
       "              (function () {\n",
       "                  var root = document.getElementById('895cc75a-d83b-45c8-b44c-27a529d4ff2e');\n",
       "                  var text = root.getElementsByClassName('pb-text')[0];\n",
       "                  var fill = root.getElementsByClassName('pb-fill')[0];\n",
       "\n",
       "                  text.innerHTML = 'Simulation finished in 0:01:17.';\n",
       "                  \n",
       "            if (100.0 > 0.) {\n",
       "                fill.style.transition = 'width 0.1s linear';\n",
       "            } else {\n",
       "                fill.style.transition = 'none';\n",
       "            }\n",
       "\n",
       "            fill.style.width = '100.0%';\n",
       "            fill.style.animation = 'none';\n",
       "            fill.style.backgroundImage = 'none'\n",
       "        \n",
       "                  \n",
       "                fill.style.animation = 'none';\n",
       "                fill.style.backgroundImage = 'none';\n",
       "            \n",
       "              })();\n",
       "        "
      ],
      "text/plain": [
       "<IPython.core.display.Javascript object>"
      ]
     },
     "metadata": {},
     "output_type": "display_data"
    },
    {
     "name": "stdout",
     "output_type": "stream",
     "text": [
      "seed = 6\n",
      "backend = 'nengo_ocl'\n",
      "dt = 0.001\n",
      "neuron_type = 'default'\n",
      "n_neurons_scale = 1\n",
      "s_crosstalk = 0\n",
      "s_evidence = None\n",
      "t_senso = 0\n",
      "vocab = <nengo_spa.vocabulary.Vocabulary object at 0x7fe8e17cb8d0>\n",
      "xp = <experiments.Xp1 object at 0x7fe8e17e5d90>\n",
      "proc_feedback = 0.9\n",
      "proc_feedback_synapse = 0.005\n",
      "GW_feedback = 1\n",
      "GW_threshold = 0.5\n",
      "GW_scale = 2\n",
      "BG_thr = 0.1\n",
      "BG_bias = 0.5\n",
      "integrator_reset = True\n",
      "data = <data.Data object at 0x7fe8acedd2d0>\n",
      "\t seed 7/20\n",
      "running run_seed7_dim144\n"
     ]
    },
    {
     "data": {
      "text/html": [
       "\n",
       "                <div id=\"c3a80495-709e-4794-9def-89ff9a4c01ab\" style=\"\n",
       "                    width: 100%;\n",
       "                    border: 1px solid #cfcfcf;\n",
       "                    border-radius: 4px;\n",
       "                    text-align: center;\n",
       "                    position: relative;\">\n",
       "                  <div class=\"pb-text\" style=\"\n",
       "                      position: absolute;\n",
       "                      width: 100%;\">\n",
       "                    0%\n",
       "                  </div>\n",
       "                  <div class=\"pb-fill\" style=\"\n",
       "                      background-color: #bdd2e6;\n",
       "                      width: 0%;\">\n",
       "                    <style type=\"text/css\" scoped=\"scoped\">\n",
       "                        @keyframes pb-fill-anim {\n",
       "                            0% { background-position: 0 0; }\n",
       "                            100% { background-position: 100px 0; }\n",
       "                        }\n",
       "                    </style>\n",
       "                    &nbsp;\n",
       "                  </div>\n",
       "                </div>"
      ],
      "text/plain": [
       "HtmlProgressBar cannot be displayed. Please use the TerminalProgressBar. It can be enabled with `nengo.rc.set('progress', 'progress_bar', 'nengo.utils.progress.TerminalProgressBar')`."
      ]
     },
     "metadata": {},
     "output_type": "display_data"
    },
    {
     "data": {
      "application/javascript": [
       "\n",
       "              (function () {\n",
       "                  var root = document.getElementById('c3a80495-709e-4794-9def-89ff9a4c01ab');\n",
       "                  var text = root.getElementsByClassName('pb-text')[0];\n",
       "                  var fill = root.getElementsByClassName('pb-fill')[0];\n",
       "\n",
       "                  text.innerHTML = 'Simulation finished in 0:01:39.';\n",
       "                  \n",
       "            if (100.0 > 0.) {\n",
       "                fill.style.transition = 'width 0.1s linear';\n",
       "            } else {\n",
       "                fill.style.transition = 'none';\n",
       "            }\n",
       "\n",
       "            fill.style.width = '100.0%';\n",
       "            fill.style.animation = 'none';\n",
       "            fill.style.backgroundImage = 'none'\n",
       "        \n",
       "                  \n",
       "                fill.style.animation = 'none';\n",
       "                fill.style.backgroundImage = 'none';\n",
       "            \n",
       "              })();\n",
       "        "
      ],
      "text/plain": [
       "<IPython.core.display.Javascript object>"
      ]
     },
     "metadata": {},
     "output_type": "display_data"
    },
    {
     "name": "stdout",
     "output_type": "stream",
     "text": [
      "seed = 7\n",
      "backend = 'nengo_ocl'\n",
      "dt = 0.001\n",
      "neuron_type = 'default'\n",
      "n_neurons_scale = 1\n",
      "s_crosstalk = 0\n",
      "s_evidence = None\n",
      "t_senso = 0\n",
      "vocab = <nengo_spa.vocabulary.Vocabulary object at 0x7fe8acedd610>\n",
      "xp = <experiments.Xp1 object at 0x7fe8aceddbd0>\n",
      "proc_feedback = 0.9\n",
      "proc_feedback_synapse = 0.005\n",
      "GW_feedback = 1\n",
      "GW_threshold = 0.5\n",
      "GW_scale = 2\n",
      "BG_thr = 0.1\n",
      "BG_bias = 0.5\n",
      "integrator_reset = True\n",
      "data = <data.Data object at 0x7fe8e16e4150>\n",
      "\t seed 8/20\n",
      "running run_seed8_dim144\n"
     ]
    },
    {
     "data": {
      "text/html": [
       "\n",
       "                <div id=\"63204a1e-6461-4bdd-a4fe-5678a0b070eb\" style=\"\n",
       "                    width: 100%;\n",
       "                    border: 1px solid #cfcfcf;\n",
       "                    border-radius: 4px;\n",
       "                    text-align: center;\n",
       "                    position: relative;\">\n",
       "                  <div class=\"pb-text\" style=\"\n",
       "                      position: absolute;\n",
       "                      width: 100%;\">\n",
       "                    0%\n",
       "                  </div>\n",
       "                  <div class=\"pb-fill\" style=\"\n",
       "                      background-color: #bdd2e6;\n",
       "                      width: 0%;\">\n",
       "                    <style type=\"text/css\" scoped=\"scoped\">\n",
       "                        @keyframes pb-fill-anim {\n",
       "                            0% { background-position: 0 0; }\n",
       "                            100% { background-position: 100px 0; }\n",
       "                        }\n",
       "                    </style>\n",
       "                    &nbsp;\n",
       "                  </div>\n",
       "                </div>"
      ],
      "text/plain": [
       "HtmlProgressBar cannot be displayed. Please use the TerminalProgressBar. It can be enabled with `nengo.rc.set('progress', 'progress_bar', 'nengo.utils.progress.TerminalProgressBar')`."
      ]
     },
     "metadata": {},
     "output_type": "display_data"
    },
    {
     "data": {
      "application/javascript": [
       "\n",
       "              (function () {\n",
       "                  var root = document.getElementById('63204a1e-6461-4bdd-a4fe-5678a0b070eb');\n",
       "                  var text = root.getElementsByClassName('pb-text')[0];\n",
       "                  var fill = root.getElementsByClassName('pb-fill')[0];\n",
       "\n",
       "                  text.innerHTML = 'Simulation finished in 0:01:16.';\n",
       "                  \n",
       "            if (100.0 > 0.) {\n",
       "                fill.style.transition = 'width 0.1s linear';\n",
       "            } else {\n",
       "                fill.style.transition = 'none';\n",
       "            }\n",
       "\n",
       "            fill.style.width = '100.0%';\n",
       "            fill.style.animation = 'none';\n",
       "            fill.style.backgroundImage = 'none'\n",
       "        \n",
       "                  \n",
       "                fill.style.animation = 'none';\n",
       "                fill.style.backgroundImage = 'none';\n",
       "            \n",
       "              })();\n",
       "        "
      ],
      "text/plain": [
       "<IPython.core.display.Javascript object>"
      ]
     },
     "metadata": {},
     "output_type": "display_data"
    },
    {
     "name": "stdout",
     "output_type": "stream",
     "text": [
      "seed = 8\n",
      "backend = 'nengo_ocl'\n",
      "dt = 0.001\n",
      "neuron_type = 'default'\n",
      "n_neurons_scale = 1\n",
      "s_crosstalk = 0\n",
      "s_evidence = None\n",
      "t_senso = 0\n",
      "vocab = <nengo_spa.vocabulary.Vocabulary object at 0x7fe891804290>\n",
      "xp = <experiments.Xp1 object at 0x7fe8ac22a390>\n",
      "proc_feedback = 0.9\n",
      "proc_feedback_synapse = 0.005\n",
      "GW_feedback = 1\n",
      "GW_threshold = 0.5\n",
      "GW_scale = 2\n",
      "BG_thr = 0.1\n",
      "BG_bias = 0.5\n",
      "integrator_reset = True\n",
      "data = <data.Data object at 0x7fe8a5072e10>\n",
      "\t seed 9/20\n",
      "running run_seed9_dim144\n"
     ]
    },
    {
     "data": {
      "text/html": [
       "\n",
       "                <div id=\"c0c09589-3a16-404b-ad71-8c4d11b727d8\" style=\"\n",
       "                    width: 100%;\n",
       "                    border: 1px solid #cfcfcf;\n",
       "                    border-radius: 4px;\n",
       "                    text-align: center;\n",
       "                    position: relative;\">\n",
       "                  <div class=\"pb-text\" style=\"\n",
       "                      position: absolute;\n",
       "                      width: 100%;\">\n",
       "                    0%\n",
       "                  </div>\n",
       "                  <div class=\"pb-fill\" style=\"\n",
       "                      background-color: #bdd2e6;\n",
       "                      width: 0%;\">\n",
       "                    <style type=\"text/css\" scoped=\"scoped\">\n",
       "                        @keyframes pb-fill-anim {\n",
       "                            0% { background-position: 0 0; }\n",
       "                            100% { background-position: 100px 0; }\n",
       "                        }\n",
       "                    </style>\n",
       "                    &nbsp;\n",
       "                  </div>\n",
       "                </div>"
      ],
      "text/plain": [
       "HtmlProgressBar cannot be displayed. Please use the TerminalProgressBar. It can be enabled with `nengo.rc.set('progress', 'progress_bar', 'nengo.utils.progress.TerminalProgressBar')`."
      ]
     },
     "metadata": {},
     "output_type": "display_data"
    },
    {
     "data": {
      "application/javascript": [
       "\n",
       "              (function () {\n",
       "                  var root = document.getElementById('c0c09589-3a16-404b-ad71-8c4d11b727d8');\n",
       "                  var text = root.getElementsByClassName('pb-text')[0];\n",
       "                  var fill = root.getElementsByClassName('pb-fill')[0];\n",
       "\n",
       "                  text.innerHTML = 'Simulation finished in 0:01:32.';\n",
       "                  \n",
       "            if (100.0 > 0.) {\n",
       "                fill.style.transition = 'width 0.1s linear';\n",
       "            } else {\n",
       "                fill.style.transition = 'none';\n",
       "            }\n",
       "\n",
       "            fill.style.width = '100.0%';\n",
       "            fill.style.animation = 'none';\n",
       "            fill.style.backgroundImage = 'none'\n",
       "        \n",
       "                  \n",
       "                fill.style.animation = 'none';\n",
       "                fill.style.backgroundImage = 'none';\n",
       "            \n",
       "              })();\n",
       "        "
      ],
      "text/plain": [
       "<IPython.core.display.Javascript object>"
      ]
     },
     "metadata": {},
     "output_type": "display_data"
    },
    {
     "name": "stdout",
     "output_type": "stream",
     "text": [
      "seed = 9\n",
      "backend = 'nengo_ocl'\n",
      "dt = 0.001\n",
      "neuron_type = 'default'\n",
      "n_neurons_scale = 1\n",
      "s_crosstalk = 0\n",
      "s_evidence = None\n",
      "t_senso = 0\n",
      "vocab = <nengo_spa.vocabulary.Vocabulary object at 0x7fe8c175d7d0>\n",
      "xp = <experiments.Xp1 object at 0x7fe8e184bad0>\n",
      "proc_feedback = 0.9\n",
      "proc_feedback_synapse = 0.005\n",
      "GW_feedback = 1\n",
      "GW_threshold = 0.5\n",
      "GW_scale = 2\n",
      "BG_thr = 0.1\n",
      "BG_bias = 0.5\n",
      "integrator_reset = True\n",
      "data = <data.Data object at 0x7fe8ad96dcd0>\n",
      "\t seed 10/20\n",
      "running run_seed10_dim144\n"
     ]
    },
    {
     "data": {
      "text/html": [
       "\n",
       "                <div id=\"dae9b4ae-b706-41e8-81b5-b2dfe0602fec\" style=\"\n",
       "                    width: 100%;\n",
       "                    border: 1px solid #cfcfcf;\n",
       "                    border-radius: 4px;\n",
       "                    text-align: center;\n",
       "                    position: relative;\">\n",
       "                  <div class=\"pb-text\" style=\"\n",
       "                      position: absolute;\n",
       "                      width: 100%;\">\n",
       "                    0%\n",
       "                  </div>\n",
       "                  <div class=\"pb-fill\" style=\"\n",
       "                      background-color: #bdd2e6;\n",
       "                      width: 0%;\">\n",
       "                    <style type=\"text/css\" scoped=\"scoped\">\n",
       "                        @keyframes pb-fill-anim {\n",
       "                            0% { background-position: 0 0; }\n",
       "                            100% { background-position: 100px 0; }\n",
       "                        }\n",
       "                    </style>\n",
       "                    &nbsp;\n",
       "                  </div>\n",
       "                </div>"
      ],
      "text/plain": [
       "HtmlProgressBar cannot be displayed. Please use the TerminalProgressBar. It can be enabled with `nengo.rc.set('progress', 'progress_bar', 'nengo.utils.progress.TerminalProgressBar')`."
      ]
     },
     "metadata": {},
     "output_type": "display_data"
    },
    {
     "data": {
      "application/javascript": [
       "\n",
       "              (function () {\n",
       "                  var root = document.getElementById('dae9b4ae-b706-41e8-81b5-b2dfe0602fec');\n",
       "                  var text = root.getElementsByClassName('pb-text')[0];\n",
       "                  var fill = root.getElementsByClassName('pb-fill')[0];\n",
       "\n",
       "                  text.innerHTML = 'Simulation finished in 0:01:42.';\n",
       "                  \n",
       "            if (100.0 > 0.) {\n",
       "                fill.style.transition = 'width 0.1s linear';\n",
       "            } else {\n",
       "                fill.style.transition = 'none';\n",
       "            }\n",
       "\n",
       "            fill.style.width = '100.0%';\n",
       "            fill.style.animation = 'none';\n",
       "            fill.style.backgroundImage = 'none'\n",
       "        \n",
       "                  \n",
       "                fill.style.animation = 'none';\n",
       "                fill.style.backgroundImage = 'none';\n",
       "            \n",
       "              })();\n",
       "        "
      ],
      "text/plain": [
       "<IPython.core.display.Javascript object>"
      ]
     },
     "metadata": {},
     "output_type": "display_data"
    },
    {
     "name": "stdout",
     "output_type": "stream",
     "text": [
      "seed = 10\n",
      "backend = 'nengo_ocl'\n",
      "dt = 0.001\n",
      "neuron_type = 'default'\n",
      "n_neurons_scale = 1\n",
      "s_crosstalk = 0\n",
      "s_evidence = None\n",
      "t_senso = 0\n",
      "vocab = <nengo_spa.vocabulary.Vocabulary object at 0x7fe8e17020d0>\n",
      "xp = <experiments.Xp1 object at 0x7fe8e131dc90>\n",
      "proc_feedback = 0.9\n",
      "proc_feedback_synapse = 0.005\n",
      "GW_feedback = 1\n",
      "GW_threshold = 0.5\n",
      "GW_scale = 2\n",
      "BG_thr = 0.1\n",
      "BG_bias = 0.5\n",
      "integrator_reset = True\n",
      "data = <data.Data object at 0x7fe8cd002d50>\n",
      "\t seed 11/20\n",
      "running run_seed11_dim144\n",
      "Traceback (most recent call last):\n",
      "  File \"/home/ubuntu/anaconda3/envs/CTN/lib/python3.7/site-packages/nengo/builder/network.py\", line 101, in build_network\n",
      "    model.build(subnetwork)\n",
      "  File \"/home/ubuntu/anaconda3/envs/CTN/lib/python3.7/site-packages/nengo/builder/builder.py\", line 123, in build\n",
      "    built = self.builder.build(self, obj, *args, **kwargs)\n",
      "  File \"/home/ubuntu/anaconda3/envs/CTN/lib/python3.7/site-packages/nengo/builder/builder.py\", line 218, in build\n",
      "    return cls.builders[obj_cls](model, obj, *args, **kwargs)\n",
      "  File \"/home/ubuntu/anaconda3/envs/CTN/lib/python3.7/site-packages/nengo/builder/network.py\", line 101, in build_network\n",
      "    model.build(subnetwork)\n",
      "  File \"/home/ubuntu/anaconda3/envs/CTN/lib/python3.7/site-packages/nengo/builder/builder.py\", line 123, in build\n",
      "    built = self.builder.build(self, obj, *args, **kwargs)\n",
      "  File \"/home/ubuntu/anaconda3/envs/CTN/lib/python3.7/site-packages/nengo/builder/builder.py\", line 218, in build\n",
      "    return cls.builders[obj_cls](model, obj, *args, **kwargs)\n",
      "  File \"/home/ubuntu/anaconda3/envs/CTN/lib/python3.7/site-packages/nengo/builder/network.py\", line 101, in build_network\n",
      "    model.build(subnetwork)\n",
      "  File \"/home/ubuntu/anaconda3/envs/CTN/lib/python3.7/site-packages/nengo/builder/builder.py\", line 123, in build\n",
      "    built = self.builder.build(self, obj, *args, **kwargs)\n",
      "  File \"/home/ubuntu/anaconda3/envs/CTN/lib/python3.7/site-packages/nengo/builder/builder.py\", line 218, in build\n",
      "    return cls.builders[obj_cls](model, obj, *args, **kwargs)\n",
      "  File \"/home/ubuntu/anaconda3/envs/CTN/lib/python3.7/site-packages/nengo/builder/network.py\", line 101, in build_network\n",
      "    model.build(subnetwork)\n",
      "  File \"/home/ubuntu/anaconda3/envs/CTN/lib/python3.7/site-packages/nengo/builder/builder.py\", line 123, in build\n",
      "    built = self.builder.build(self, obj, *args, **kwargs)\n",
      "  File \"/home/ubuntu/anaconda3/envs/CTN/lib/python3.7/site-packages/nengo/builder/builder.py\", line 218, in build\n",
      "    return cls.builders[obj_cls](model, obj, *args, **kwargs)\n",
      "  File \"/home/ubuntu/anaconda3/envs/CTN/lib/python3.7/site-packages/nengo/builder/network.py\", line 113, in build_network\n",
      "    model.build(conn)\n",
      "  File \"/home/ubuntu/anaconda3/envs/CTN/lib/python3.7/site-packages/nengo/builder/builder.py\", line 123, in build\n",
      "    built = self.builder.build(self, obj, *args, **kwargs)\n",
      "  File \"/home/ubuntu/anaconda3/envs/CTN/lib/python3.7/site-packages/nengo/builder/builder.py\", line 218, in build\n",
      "    return cls.builders[obj_cls](model, obj, *args, **kwargs)\n",
      "  File \"/home/ubuntu/anaconda3/envs/CTN/lib/python3.7/site-packages/nengo/builder/connection.py\", line 258, in build_connection\n",
      "    conn.solver, conn, rng, transform)\n",
      "  File \"/home/ubuntu/anaconda3/envs/CTN/lib/python3.7/site-packages/nengo/builder/builder.py\", line 123, in build\n",
      "    built = self.builder.build(self, obj, *args, **kwargs)\n",
      "  File \"/home/ubuntu/anaconda3/envs/CTN/lib/python3.7/site-packages/nengo/builder/builder.py\", line 218, in build\n",
      "    return cls.builders[obj_cls](model, obj, *args, **kwargs)\n",
      "  File \"/home/ubuntu/anaconda3/envs/CTN/lib/python3.7/site-packages/nengo/builder/connection.py\", line 164, in build_solver\n",
      "    return build_decoders(model, conn, rng, transform)\n",
      "  File \"/home/ubuntu/anaconda3/envs/CTN/lib/python3.7/site-packages/nengo/builder/connection.py\", line 120, in build_decoders\n",
      "    conn, gain, bias, x, targets, rng=rng, E=E)\n",
      "  File \"/home/ubuntu/anaconda3/envs/CTN/lib/python3.7/site-packages/nengo/cache.py\", line 658, in cached_solver\n",
      "    E)\n",
      "  File \"/home/ubuntu/anaconda3/envs/CTN/lib/python3.7/site-packages/nengo/cache.py\", line 703, in _get_cache_key\n",
      "    h.update(np.ascontiguousarray(x).data)\n",
      "KeyboardInterrupt\n",
      "\n",
      "During handling of the above exception, another exception occurred:\n",
      "\n",
      "Traceback (most recent call last):\n",
      "  File \"/home/ubuntu/anaconda3/envs/CTN/lib/python3.7/site-packages/IPython/core/interactiveshell.py\", line 3331, in run_code\n",
      "    exec(code_obj, self.user_global_ns, self.user_ns)\n",
      "  File \"<ipython-input-3-f154b8259ddc>\", line 58, in <module>\n",
      "    finish=None\n",
      "  File \"/home/ubuntu/anaconda3/envs/CTN/lib/python3.7/site-packages/scipy/optimize/optimize.py\", line 2885, in brute\n",
      "    Jout = np.array(list(mapper(wrapped_func, grid)))\n",
      "  File \"/home/ubuntu/anaconda3/envs/CTN/lib/python3.7/site-packages/scipy/optimize/optimize.py\", line 2956, in __call__\n",
      "    return self.f(np.asarray(x).flatten(), *self.args)\n",
      "  File \"<ipython-input-3-f154b8259ddc>\", line 36, in evaluation_function\n",
      "    plt=False\n",
      "  File \"/home/ubuntu/anaconda3/envs/CTN/lib/python3.7/site-packages/pytry-0.9.2-py3.7.egg/pytry/trial.py\", line 91, in run\n",
      "    result = self.execute_trial(p)\n",
      "  File \"/home/ubuntu/anaconda3/envs/CTN/lib/python3.7/site-packages/pytry-0.9.2-py3.7.egg/pytry/nengo.py\", line 112, in execute_trial\n",
      "    self.sim = Simulator(model, dt=p.dt, **extra_args)\n",
      "  File \"/home/ubuntu/anaconda3/envs/CTN/lib/python3.7/site-packages/nengo_ocl/simulator.py\", line 238, in __init__\n",
      "    self.model.build(network)\n",
      "  File \"/home/ubuntu/anaconda3/envs/CTN/lib/python3.7/site-packages/nengo/builder/builder.py\", line 123, in build\n",
      "    built = self.builder.build(self, obj, *args, **kwargs)\n",
      "  File \"/home/ubuntu/anaconda3/envs/CTN/lib/python3.7/site-packages/nengo/builder/builder.py\", line 218, in build\n",
      "    return cls.builders[obj_cls](model, obj, *args, **kwargs)\n",
      "  File \"/home/ubuntu/anaconda3/envs/CTN/lib/python3.7/site-packages/nengo/builder/network.py\", line 124, in build_network\n",
      "    model.build_callback = None\n",
      "  File \"/home/ubuntu/anaconda3/envs/CTN/lib/python3.7/site-packages/nengo/cache.py\", line 515, in __exit__\n",
      "    rval = self._index.__exit__(exc_type, exc_value, traceback)\n",
      "  File \"/home/ubuntu/anaconda3/envs/CTN/lib/python3.7/site-packages/nengo/cache.py\", line 369, in __exit__\n",
      "    self.sync()\n",
      "  File \"/home/ubuntu/anaconda3/envs/CTN/lib/python3.7/site-packages/nengo/cache.py\", line 431, in sync\n",
      "    self._load_index_file()\n",
      "  File \"/home/ubuntu/anaconda3/envs/CTN/lib/python3.7/site-packages/nengo/cache.py\", line 290, in _load_index_file\n",
      "    self._index = pickle.load(f)\n",
      "KeyboardInterrupt\n",
      "\n",
      "During handling of the above exception, another exception occurred:\n",
      "\n",
      "Traceback (most recent call last):\n",
      "  File \"/home/ubuntu/anaconda3/envs/CTN/lib/python3.7/site-packages/IPython/core/interactiveshell.py\", line 2044, in showtraceback\n",
      "    stb = value._render_traceback_()\n",
      "AttributeError: 'KeyboardInterrupt' object has no attribute '_render_traceback_'\n",
      "\n",
      "During handling of the above exception, another exception occurred:\n",
      "\n",
      "Traceback (most recent call last):\n",
      "  File \"/home/ubuntu/anaconda3/envs/CTN/lib/python3.7/site-packages/IPython/core/ultratb.py\", line 1148, in get_records\n",
      "    return _fixed_getinnerframes(etb, number_of_lines_of_context, tb_offset)\n",
      "  File \"/home/ubuntu/anaconda3/envs/CTN/lib/python3.7/site-packages/IPython/core/ultratb.py\", line 316, in wrapped\n",
      "    return f(*args, **kwargs)\n",
      "  File \"/home/ubuntu/anaconda3/envs/CTN/lib/python3.7/site-packages/IPython/core/ultratb.py\", line 350, in _fixed_getinnerframes\n",
      "    records = fix_frame_records_filenames(inspect.getinnerframes(etb, context))\n",
      "  File \"/home/ubuntu/anaconda3/envs/CTN/lib/python3.7/inspect.py\", line 1502, in getinnerframes\n",
      "    frameinfo = (tb.tb_frame,) + getframeinfo(tb, context)\n",
      "  File \"/home/ubuntu/anaconda3/envs/CTN/lib/python3.7/inspect.py\", line 1460, in getframeinfo\n",
      "    filename = getsourcefile(frame) or getfile(frame)\n",
      "  File \"/home/ubuntu/anaconda3/envs/CTN/lib/python3.7/inspect.py\", line 696, in getsourcefile\n",
      "    if getattr(getmodule(object, filename), '__loader__', None) is not None:\n",
      "  File \"/home/ubuntu/anaconda3/envs/CTN/lib/python3.7/inspect.py\", line 739, in getmodule\n",
      "    f = getabsfile(module)\n",
      "  File \"/home/ubuntu/anaconda3/envs/CTN/lib/python3.7/inspect.py\", line 708, in getabsfile\n",
      "    _filename = getsourcefile(object) or getfile(object)\n",
      "  File \"/home/ubuntu/anaconda3/envs/CTN/lib/python3.7/inspect.py\", line 693, in getsourcefile\n",
      "    if os.path.exists(filename):\n",
      "  File \"/home/ubuntu/anaconda3/envs/CTN/lib/python3.7/genericpath.py\", line 19, in exists\n",
      "    os.stat(path)\n",
      "KeyboardInterrupt\n"
     ]
    },
    {
     "ename": "TypeError",
     "evalue": "can only concatenate str (not \"list\") to str",
     "output_type": "error",
     "traceback": [
      "\u001b[0;31m---------------------------------------------------------------------------\u001b[0m",
      "\u001b[0;31mKeyboardInterrupt\u001b[0m                         Traceback (most recent call last)",
      "\u001b[0;32m~/anaconda3/envs/CTN/lib/python3.7/site-packages/nengo/builder/network.py\u001b[0m in \u001b[0;36mbuild_network\u001b[0;34m(model, network, progress)\u001b[0m\n\u001b[1;32m    100\u001b[0m         \u001b[0;32mfor\u001b[0m \u001b[0msubnetwork\u001b[0m \u001b[0;32min\u001b[0m \u001b[0mnetwork\u001b[0m\u001b[0;34m.\u001b[0m\u001b[0mnetworks\u001b[0m\u001b[0;34m:\u001b[0m\u001b[0;34m\u001b[0m\u001b[0;34m\u001b[0m\u001b[0m\n\u001b[0;32m--> 101\u001b[0;31m             \u001b[0mmodel\u001b[0m\u001b[0;34m.\u001b[0m\u001b[0mbuild\u001b[0m\u001b[0;34m(\u001b[0m\u001b[0msubnetwork\u001b[0m\u001b[0;34m)\u001b[0m\u001b[0;34m\u001b[0m\u001b[0;34m\u001b[0m\u001b[0m\n\u001b[0m\u001b[1;32m    102\u001b[0m \u001b[0;34m\u001b[0m\u001b[0m\n",
      "\u001b[0;32m~/anaconda3/envs/CTN/lib/python3.7/site-packages/nengo/builder/builder.py\u001b[0m in \u001b[0;36mbuild\u001b[0;34m(self, obj, *args, **kwargs)\u001b[0m\n\u001b[1;32m    122\u001b[0m         \"\"\"\n\u001b[0;32m--> 123\u001b[0;31m         \u001b[0mbuilt\u001b[0m \u001b[0;34m=\u001b[0m \u001b[0mself\u001b[0m\u001b[0;34m.\u001b[0m\u001b[0mbuilder\u001b[0m\u001b[0;34m.\u001b[0m\u001b[0mbuild\u001b[0m\u001b[0;34m(\u001b[0m\u001b[0mself\u001b[0m\u001b[0;34m,\u001b[0m \u001b[0mobj\u001b[0m\u001b[0;34m,\u001b[0m \u001b[0;34m*\u001b[0m\u001b[0margs\u001b[0m\u001b[0;34m,\u001b[0m \u001b[0;34m**\u001b[0m\u001b[0mkwargs\u001b[0m\u001b[0;34m)\u001b[0m\u001b[0;34m\u001b[0m\u001b[0;34m\u001b[0m\u001b[0m\n\u001b[0m\u001b[1;32m    124\u001b[0m         \u001b[0;32mif\u001b[0m \u001b[0mself\u001b[0m\u001b[0;34m.\u001b[0m\u001b[0mbuild_callback\u001b[0m \u001b[0;32mis\u001b[0m \u001b[0;32mnot\u001b[0m \u001b[0;32mNone\u001b[0m\u001b[0;34m:\u001b[0m\u001b[0;34m\u001b[0m\u001b[0;34m\u001b[0m\u001b[0m\n",
      "\u001b[0;32m~/anaconda3/envs/CTN/lib/python3.7/site-packages/nengo/builder/builder.py\u001b[0m in \u001b[0;36mbuild\u001b[0;34m(cls, model, obj, *args, **kwargs)\u001b[0m\n\u001b[1;32m    217\u001b[0m \u001b[0;34m\u001b[0m\u001b[0m\n\u001b[0;32m--> 218\u001b[0;31m         \u001b[0;32mreturn\u001b[0m \u001b[0mcls\u001b[0m\u001b[0;34m.\u001b[0m\u001b[0mbuilders\u001b[0m\u001b[0;34m[\u001b[0m\u001b[0mobj_cls\u001b[0m\u001b[0;34m]\u001b[0m\u001b[0;34m(\u001b[0m\u001b[0mmodel\u001b[0m\u001b[0;34m,\u001b[0m \u001b[0mobj\u001b[0m\u001b[0;34m,\u001b[0m \u001b[0;34m*\u001b[0m\u001b[0margs\u001b[0m\u001b[0;34m,\u001b[0m \u001b[0;34m**\u001b[0m\u001b[0mkwargs\u001b[0m\u001b[0;34m)\u001b[0m\u001b[0;34m\u001b[0m\u001b[0;34m\u001b[0m\u001b[0m\n\u001b[0m\u001b[1;32m    219\u001b[0m \u001b[0;34m\u001b[0m\u001b[0m\n",
      "\u001b[0;32m~/anaconda3/envs/CTN/lib/python3.7/site-packages/nengo/builder/network.py\u001b[0m in \u001b[0;36mbuild_network\u001b[0;34m(model, network, progress)\u001b[0m\n\u001b[1;32m    100\u001b[0m         \u001b[0;32mfor\u001b[0m \u001b[0msubnetwork\u001b[0m \u001b[0;32min\u001b[0m \u001b[0mnetwork\u001b[0m\u001b[0;34m.\u001b[0m\u001b[0mnetworks\u001b[0m\u001b[0;34m:\u001b[0m\u001b[0;34m\u001b[0m\u001b[0;34m\u001b[0m\u001b[0m\n\u001b[0;32m--> 101\u001b[0;31m             \u001b[0mmodel\u001b[0m\u001b[0;34m.\u001b[0m\u001b[0mbuild\u001b[0m\u001b[0;34m(\u001b[0m\u001b[0msubnetwork\u001b[0m\u001b[0;34m)\u001b[0m\u001b[0;34m\u001b[0m\u001b[0;34m\u001b[0m\u001b[0m\n\u001b[0m\u001b[1;32m    102\u001b[0m \u001b[0;34m\u001b[0m\u001b[0m\n",
      "\u001b[0;32m~/anaconda3/envs/CTN/lib/python3.7/site-packages/nengo/builder/builder.py\u001b[0m in \u001b[0;36mbuild\u001b[0;34m(self, obj, *args, **kwargs)\u001b[0m\n\u001b[1;32m    122\u001b[0m         \"\"\"\n\u001b[0;32m--> 123\u001b[0;31m         \u001b[0mbuilt\u001b[0m \u001b[0;34m=\u001b[0m \u001b[0mself\u001b[0m\u001b[0;34m.\u001b[0m\u001b[0mbuilder\u001b[0m\u001b[0;34m.\u001b[0m\u001b[0mbuild\u001b[0m\u001b[0;34m(\u001b[0m\u001b[0mself\u001b[0m\u001b[0;34m,\u001b[0m \u001b[0mobj\u001b[0m\u001b[0;34m,\u001b[0m \u001b[0;34m*\u001b[0m\u001b[0margs\u001b[0m\u001b[0;34m,\u001b[0m \u001b[0;34m**\u001b[0m\u001b[0mkwargs\u001b[0m\u001b[0;34m)\u001b[0m\u001b[0;34m\u001b[0m\u001b[0;34m\u001b[0m\u001b[0m\n\u001b[0m\u001b[1;32m    124\u001b[0m         \u001b[0;32mif\u001b[0m \u001b[0mself\u001b[0m\u001b[0;34m.\u001b[0m\u001b[0mbuild_callback\u001b[0m \u001b[0;32mis\u001b[0m \u001b[0;32mnot\u001b[0m \u001b[0;32mNone\u001b[0m\u001b[0;34m:\u001b[0m\u001b[0;34m\u001b[0m\u001b[0;34m\u001b[0m\u001b[0m\n",
      "\u001b[0;32m~/anaconda3/envs/CTN/lib/python3.7/site-packages/nengo/builder/builder.py\u001b[0m in \u001b[0;36mbuild\u001b[0;34m(cls, model, obj, *args, **kwargs)\u001b[0m\n\u001b[1;32m    217\u001b[0m \u001b[0;34m\u001b[0m\u001b[0m\n\u001b[0;32m--> 218\u001b[0;31m         \u001b[0;32mreturn\u001b[0m \u001b[0mcls\u001b[0m\u001b[0;34m.\u001b[0m\u001b[0mbuilders\u001b[0m\u001b[0;34m[\u001b[0m\u001b[0mobj_cls\u001b[0m\u001b[0;34m]\u001b[0m\u001b[0;34m(\u001b[0m\u001b[0mmodel\u001b[0m\u001b[0;34m,\u001b[0m \u001b[0mobj\u001b[0m\u001b[0;34m,\u001b[0m \u001b[0;34m*\u001b[0m\u001b[0margs\u001b[0m\u001b[0;34m,\u001b[0m \u001b[0;34m**\u001b[0m\u001b[0mkwargs\u001b[0m\u001b[0;34m)\u001b[0m\u001b[0;34m\u001b[0m\u001b[0;34m\u001b[0m\u001b[0m\n\u001b[0m\u001b[1;32m    219\u001b[0m \u001b[0;34m\u001b[0m\u001b[0m\n",
      "\u001b[0;32m~/anaconda3/envs/CTN/lib/python3.7/site-packages/nengo/builder/network.py\u001b[0m in \u001b[0;36mbuild_network\u001b[0;34m(model, network, progress)\u001b[0m\n\u001b[1;32m    100\u001b[0m         \u001b[0;32mfor\u001b[0m \u001b[0msubnetwork\u001b[0m \u001b[0;32min\u001b[0m \u001b[0mnetwork\u001b[0m\u001b[0;34m.\u001b[0m\u001b[0mnetworks\u001b[0m\u001b[0;34m:\u001b[0m\u001b[0;34m\u001b[0m\u001b[0;34m\u001b[0m\u001b[0m\n\u001b[0;32m--> 101\u001b[0;31m             \u001b[0mmodel\u001b[0m\u001b[0;34m.\u001b[0m\u001b[0mbuild\u001b[0m\u001b[0;34m(\u001b[0m\u001b[0msubnetwork\u001b[0m\u001b[0;34m)\u001b[0m\u001b[0;34m\u001b[0m\u001b[0;34m\u001b[0m\u001b[0m\n\u001b[0m\u001b[1;32m    102\u001b[0m \u001b[0;34m\u001b[0m\u001b[0m\n",
      "\u001b[0;32m~/anaconda3/envs/CTN/lib/python3.7/site-packages/nengo/builder/builder.py\u001b[0m in \u001b[0;36mbuild\u001b[0;34m(self, obj, *args, **kwargs)\u001b[0m\n\u001b[1;32m    122\u001b[0m         \"\"\"\n\u001b[0;32m--> 123\u001b[0;31m         \u001b[0mbuilt\u001b[0m \u001b[0;34m=\u001b[0m \u001b[0mself\u001b[0m\u001b[0;34m.\u001b[0m\u001b[0mbuilder\u001b[0m\u001b[0;34m.\u001b[0m\u001b[0mbuild\u001b[0m\u001b[0;34m(\u001b[0m\u001b[0mself\u001b[0m\u001b[0;34m,\u001b[0m \u001b[0mobj\u001b[0m\u001b[0;34m,\u001b[0m \u001b[0;34m*\u001b[0m\u001b[0margs\u001b[0m\u001b[0;34m,\u001b[0m \u001b[0;34m**\u001b[0m\u001b[0mkwargs\u001b[0m\u001b[0;34m)\u001b[0m\u001b[0;34m\u001b[0m\u001b[0;34m\u001b[0m\u001b[0m\n\u001b[0m\u001b[1;32m    124\u001b[0m         \u001b[0;32mif\u001b[0m \u001b[0mself\u001b[0m\u001b[0;34m.\u001b[0m\u001b[0mbuild_callback\u001b[0m \u001b[0;32mis\u001b[0m \u001b[0;32mnot\u001b[0m \u001b[0;32mNone\u001b[0m\u001b[0;34m:\u001b[0m\u001b[0;34m\u001b[0m\u001b[0;34m\u001b[0m\u001b[0m\n",
      "\u001b[0;32m~/anaconda3/envs/CTN/lib/python3.7/site-packages/nengo/builder/builder.py\u001b[0m in \u001b[0;36mbuild\u001b[0;34m(cls, model, obj, *args, **kwargs)\u001b[0m\n\u001b[1;32m    217\u001b[0m \u001b[0;34m\u001b[0m\u001b[0m\n\u001b[0;32m--> 218\u001b[0;31m         \u001b[0;32mreturn\u001b[0m \u001b[0mcls\u001b[0m\u001b[0;34m.\u001b[0m\u001b[0mbuilders\u001b[0m\u001b[0;34m[\u001b[0m\u001b[0mobj_cls\u001b[0m\u001b[0;34m]\u001b[0m\u001b[0;34m(\u001b[0m\u001b[0mmodel\u001b[0m\u001b[0;34m,\u001b[0m \u001b[0mobj\u001b[0m\u001b[0;34m,\u001b[0m \u001b[0;34m*\u001b[0m\u001b[0margs\u001b[0m\u001b[0;34m,\u001b[0m \u001b[0;34m**\u001b[0m\u001b[0mkwargs\u001b[0m\u001b[0;34m)\u001b[0m\u001b[0;34m\u001b[0m\u001b[0;34m\u001b[0m\u001b[0m\n\u001b[0m\u001b[1;32m    219\u001b[0m \u001b[0;34m\u001b[0m\u001b[0m\n",
      "\u001b[0;32m~/anaconda3/envs/CTN/lib/python3.7/site-packages/nengo/builder/network.py\u001b[0m in \u001b[0;36mbuild_network\u001b[0;34m(model, network, progress)\u001b[0m\n\u001b[1;32m    100\u001b[0m         \u001b[0;32mfor\u001b[0m \u001b[0msubnetwork\u001b[0m \u001b[0;32min\u001b[0m \u001b[0mnetwork\u001b[0m\u001b[0;34m.\u001b[0m\u001b[0mnetworks\u001b[0m\u001b[0;34m:\u001b[0m\u001b[0;34m\u001b[0m\u001b[0;34m\u001b[0m\u001b[0m\n\u001b[0;32m--> 101\u001b[0;31m             \u001b[0mmodel\u001b[0m\u001b[0;34m.\u001b[0m\u001b[0mbuild\u001b[0m\u001b[0;34m(\u001b[0m\u001b[0msubnetwork\u001b[0m\u001b[0;34m)\u001b[0m\u001b[0;34m\u001b[0m\u001b[0;34m\u001b[0m\u001b[0m\n\u001b[0m\u001b[1;32m    102\u001b[0m \u001b[0;34m\u001b[0m\u001b[0m\n",
      "\u001b[0;32m~/anaconda3/envs/CTN/lib/python3.7/site-packages/nengo/builder/builder.py\u001b[0m in \u001b[0;36mbuild\u001b[0;34m(self, obj, *args, **kwargs)\u001b[0m\n\u001b[1;32m    122\u001b[0m         \"\"\"\n\u001b[0;32m--> 123\u001b[0;31m         \u001b[0mbuilt\u001b[0m \u001b[0;34m=\u001b[0m \u001b[0mself\u001b[0m\u001b[0;34m.\u001b[0m\u001b[0mbuilder\u001b[0m\u001b[0;34m.\u001b[0m\u001b[0mbuild\u001b[0m\u001b[0;34m(\u001b[0m\u001b[0mself\u001b[0m\u001b[0;34m,\u001b[0m \u001b[0mobj\u001b[0m\u001b[0;34m,\u001b[0m \u001b[0;34m*\u001b[0m\u001b[0margs\u001b[0m\u001b[0;34m,\u001b[0m \u001b[0;34m**\u001b[0m\u001b[0mkwargs\u001b[0m\u001b[0;34m)\u001b[0m\u001b[0;34m\u001b[0m\u001b[0;34m\u001b[0m\u001b[0m\n\u001b[0m\u001b[1;32m    124\u001b[0m         \u001b[0;32mif\u001b[0m \u001b[0mself\u001b[0m\u001b[0;34m.\u001b[0m\u001b[0mbuild_callback\u001b[0m \u001b[0;32mis\u001b[0m \u001b[0;32mnot\u001b[0m \u001b[0;32mNone\u001b[0m\u001b[0;34m:\u001b[0m\u001b[0;34m\u001b[0m\u001b[0;34m\u001b[0m\u001b[0m\n",
      "\u001b[0;32m~/anaconda3/envs/CTN/lib/python3.7/site-packages/nengo/builder/builder.py\u001b[0m in \u001b[0;36mbuild\u001b[0;34m(cls, model, obj, *args, **kwargs)\u001b[0m\n\u001b[1;32m    217\u001b[0m \u001b[0;34m\u001b[0m\u001b[0m\n\u001b[0;32m--> 218\u001b[0;31m         \u001b[0;32mreturn\u001b[0m \u001b[0mcls\u001b[0m\u001b[0;34m.\u001b[0m\u001b[0mbuilders\u001b[0m\u001b[0;34m[\u001b[0m\u001b[0mobj_cls\u001b[0m\u001b[0;34m]\u001b[0m\u001b[0;34m(\u001b[0m\u001b[0mmodel\u001b[0m\u001b[0;34m,\u001b[0m \u001b[0mobj\u001b[0m\u001b[0;34m,\u001b[0m \u001b[0;34m*\u001b[0m\u001b[0margs\u001b[0m\u001b[0;34m,\u001b[0m \u001b[0;34m**\u001b[0m\u001b[0mkwargs\u001b[0m\u001b[0;34m)\u001b[0m\u001b[0;34m\u001b[0m\u001b[0;34m\u001b[0m\u001b[0m\n\u001b[0m\u001b[1;32m    219\u001b[0m \u001b[0;34m\u001b[0m\u001b[0m\n",
      "\u001b[0;32m~/anaconda3/envs/CTN/lib/python3.7/site-packages/nengo/builder/network.py\u001b[0m in \u001b[0;36mbuild_network\u001b[0;34m(model, network, progress)\u001b[0m\n\u001b[1;32m    112\u001b[0m             \u001b[0;31m# is in a subnetwork?\u001b[0m\u001b[0;34m\u001b[0m\u001b[0;34m\u001b[0m\u001b[0;34m\u001b[0m\u001b[0m\n\u001b[0;32m--> 113\u001b[0;31m             \u001b[0mmodel\u001b[0m\u001b[0;34m.\u001b[0m\u001b[0mbuild\u001b[0m\u001b[0;34m(\u001b[0m\u001b[0mconn\u001b[0m\u001b[0;34m)\u001b[0m\u001b[0;34m\u001b[0m\u001b[0;34m\u001b[0m\u001b[0m\n\u001b[0m\u001b[1;32m    114\u001b[0m \u001b[0;34m\u001b[0m\u001b[0m\n",
      "\u001b[0;32m~/anaconda3/envs/CTN/lib/python3.7/site-packages/nengo/builder/builder.py\u001b[0m in \u001b[0;36mbuild\u001b[0;34m(self, obj, *args, **kwargs)\u001b[0m\n\u001b[1;32m    122\u001b[0m         \"\"\"\n\u001b[0;32m--> 123\u001b[0;31m         \u001b[0mbuilt\u001b[0m \u001b[0;34m=\u001b[0m \u001b[0mself\u001b[0m\u001b[0;34m.\u001b[0m\u001b[0mbuilder\u001b[0m\u001b[0;34m.\u001b[0m\u001b[0mbuild\u001b[0m\u001b[0;34m(\u001b[0m\u001b[0mself\u001b[0m\u001b[0;34m,\u001b[0m \u001b[0mobj\u001b[0m\u001b[0;34m,\u001b[0m \u001b[0;34m*\u001b[0m\u001b[0margs\u001b[0m\u001b[0;34m,\u001b[0m \u001b[0;34m**\u001b[0m\u001b[0mkwargs\u001b[0m\u001b[0;34m)\u001b[0m\u001b[0;34m\u001b[0m\u001b[0;34m\u001b[0m\u001b[0m\n\u001b[0m\u001b[1;32m    124\u001b[0m         \u001b[0;32mif\u001b[0m \u001b[0mself\u001b[0m\u001b[0;34m.\u001b[0m\u001b[0mbuild_callback\u001b[0m \u001b[0;32mis\u001b[0m \u001b[0;32mnot\u001b[0m \u001b[0;32mNone\u001b[0m\u001b[0;34m:\u001b[0m\u001b[0;34m\u001b[0m\u001b[0;34m\u001b[0m\u001b[0m\n",
      "\u001b[0;32m~/anaconda3/envs/CTN/lib/python3.7/site-packages/nengo/builder/builder.py\u001b[0m in \u001b[0;36mbuild\u001b[0;34m(cls, model, obj, *args, **kwargs)\u001b[0m\n\u001b[1;32m    217\u001b[0m \u001b[0;34m\u001b[0m\u001b[0m\n\u001b[0;32m--> 218\u001b[0;31m         \u001b[0;32mreturn\u001b[0m \u001b[0mcls\u001b[0m\u001b[0;34m.\u001b[0m\u001b[0mbuilders\u001b[0m\u001b[0;34m[\u001b[0m\u001b[0mobj_cls\u001b[0m\u001b[0;34m]\u001b[0m\u001b[0;34m(\u001b[0m\u001b[0mmodel\u001b[0m\u001b[0;34m,\u001b[0m \u001b[0mobj\u001b[0m\u001b[0;34m,\u001b[0m \u001b[0;34m*\u001b[0m\u001b[0margs\u001b[0m\u001b[0;34m,\u001b[0m \u001b[0;34m**\u001b[0m\u001b[0mkwargs\u001b[0m\u001b[0;34m)\u001b[0m\u001b[0;34m\u001b[0m\u001b[0;34m\u001b[0m\u001b[0m\n\u001b[0m\u001b[1;32m    219\u001b[0m \u001b[0;34m\u001b[0m\u001b[0m\n",
      "\u001b[0;32m~/anaconda3/envs/CTN/lib/python3.7/site-packages/nengo/builder/connection.py\u001b[0m in \u001b[0;36mbuild_connection\u001b[0;34m(model, conn)\u001b[0m\n\u001b[1;32m    257\u001b[0m         eval_points, weights, solver_info = model.build(\n\u001b[0;32m--> 258\u001b[0;31m             conn.solver, conn, rng, transform)\n\u001b[0m\u001b[1;32m    259\u001b[0m         \u001b[0;32mif\u001b[0m \u001b[0mconn\u001b[0m\u001b[0;34m.\u001b[0m\u001b[0msolver\u001b[0m\u001b[0;34m.\u001b[0m\u001b[0mweights\u001b[0m\u001b[0;34m:\u001b[0m\u001b[0;34m\u001b[0m\u001b[0;34m\u001b[0m\u001b[0m\n",
      "\u001b[0;32m~/anaconda3/envs/CTN/lib/python3.7/site-packages/nengo/builder/builder.py\u001b[0m in \u001b[0;36mbuild\u001b[0;34m(self, obj, *args, **kwargs)\u001b[0m\n\u001b[1;32m    122\u001b[0m         \"\"\"\n\u001b[0;32m--> 123\u001b[0;31m         \u001b[0mbuilt\u001b[0m \u001b[0;34m=\u001b[0m \u001b[0mself\u001b[0m\u001b[0;34m.\u001b[0m\u001b[0mbuilder\u001b[0m\u001b[0;34m.\u001b[0m\u001b[0mbuild\u001b[0m\u001b[0;34m(\u001b[0m\u001b[0mself\u001b[0m\u001b[0;34m,\u001b[0m \u001b[0mobj\u001b[0m\u001b[0;34m,\u001b[0m \u001b[0;34m*\u001b[0m\u001b[0margs\u001b[0m\u001b[0;34m,\u001b[0m \u001b[0;34m**\u001b[0m\u001b[0mkwargs\u001b[0m\u001b[0;34m)\u001b[0m\u001b[0;34m\u001b[0m\u001b[0;34m\u001b[0m\u001b[0m\n\u001b[0m\u001b[1;32m    124\u001b[0m         \u001b[0;32mif\u001b[0m \u001b[0mself\u001b[0m\u001b[0;34m.\u001b[0m\u001b[0mbuild_callback\u001b[0m \u001b[0;32mis\u001b[0m \u001b[0;32mnot\u001b[0m \u001b[0;32mNone\u001b[0m\u001b[0;34m:\u001b[0m\u001b[0;34m\u001b[0m\u001b[0;34m\u001b[0m\u001b[0m\n",
      "\u001b[0;32m~/anaconda3/envs/CTN/lib/python3.7/site-packages/nengo/builder/builder.py\u001b[0m in \u001b[0;36mbuild\u001b[0;34m(cls, model, obj, *args, **kwargs)\u001b[0m\n\u001b[1;32m    217\u001b[0m \u001b[0;34m\u001b[0m\u001b[0m\n\u001b[0;32m--> 218\u001b[0;31m         \u001b[0;32mreturn\u001b[0m \u001b[0mcls\u001b[0m\u001b[0;34m.\u001b[0m\u001b[0mbuilders\u001b[0m\u001b[0;34m[\u001b[0m\u001b[0mobj_cls\u001b[0m\u001b[0;34m]\u001b[0m\u001b[0;34m(\u001b[0m\u001b[0mmodel\u001b[0m\u001b[0;34m,\u001b[0m \u001b[0mobj\u001b[0m\u001b[0;34m,\u001b[0m \u001b[0;34m*\u001b[0m\u001b[0margs\u001b[0m\u001b[0;34m,\u001b[0m \u001b[0;34m**\u001b[0m\u001b[0mkwargs\u001b[0m\u001b[0;34m)\u001b[0m\u001b[0;34m\u001b[0m\u001b[0;34m\u001b[0m\u001b[0m\n\u001b[0m\u001b[1;32m    219\u001b[0m \u001b[0;34m\u001b[0m\u001b[0m\n",
      "\u001b[0;32m~/anaconda3/envs/CTN/lib/python3.7/site-packages/nengo/builder/connection.py\u001b[0m in \u001b[0;36mbuild_solver\u001b[0;34m(model, solver, conn, rng, transform)\u001b[0m\n\u001b[1;32m    163\u001b[0m \u001b[0;32mdef\u001b[0m \u001b[0mbuild_solver\u001b[0m\u001b[0;34m(\u001b[0m\u001b[0mmodel\u001b[0m\u001b[0;34m,\u001b[0m \u001b[0msolver\u001b[0m\u001b[0;34m,\u001b[0m \u001b[0mconn\u001b[0m\u001b[0;34m,\u001b[0m \u001b[0mrng\u001b[0m\u001b[0;34m,\u001b[0m \u001b[0mtransform\u001b[0m\u001b[0;34m)\u001b[0m\u001b[0;34m:\u001b[0m\u001b[0;34m\u001b[0m\u001b[0;34m\u001b[0m\u001b[0m\n\u001b[0;32m--> 164\u001b[0;31m     \u001b[0;32mreturn\u001b[0m \u001b[0mbuild_decoders\u001b[0m\u001b[0;34m(\u001b[0m\u001b[0mmodel\u001b[0m\u001b[0;34m,\u001b[0m \u001b[0mconn\u001b[0m\u001b[0;34m,\u001b[0m \u001b[0mrng\u001b[0m\u001b[0;34m,\u001b[0m \u001b[0mtransform\u001b[0m\u001b[0;34m)\u001b[0m\u001b[0;34m\u001b[0m\u001b[0;34m\u001b[0m\u001b[0m\n\u001b[0m\u001b[1;32m    165\u001b[0m \u001b[0;34m\u001b[0m\u001b[0m\n",
      "\u001b[0;32m~/anaconda3/envs/CTN/lib/python3.7/site-packages/nengo/builder/connection.py\u001b[0m in \u001b[0;36mbuild_decoders\u001b[0;34m(model, conn, rng, transform)\u001b[0m\n\u001b[1;32m    119\u001b[0m     decoders, solver_info = wrapped_solver(\n\u001b[0;32m--> 120\u001b[0;31m         conn, gain, bias, x, targets, rng=rng, E=E)\n\u001b[0m\u001b[1;32m    121\u001b[0m \u001b[0;34m\u001b[0m\u001b[0m\n",
      "\u001b[0;32m~/anaconda3/envs/CTN/lib/python3.7/site-packages/nengo/cache.py\u001b[0m in \u001b[0;36mcached_solver\u001b[0;34m(conn, gain, bias, x, targets, rng, E, **uncached_kwargs)\u001b[0m\n\u001b[1;32m    657\u001b[0m                                           \u001b[0mrng\u001b[0m\u001b[0;34m,\u001b[0m\u001b[0;34m\u001b[0m\u001b[0;34m\u001b[0m\u001b[0m\n\u001b[0;32m--> 658\u001b[0;31m                                           E)\n\u001b[0m\u001b[1;32m    659\u001b[0m             \u001b[0;32mexcept\u001b[0m \u001b[0mFingerprintError\u001b[0m \u001b[0;32mas\u001b[0m \u001b[0me\u001b[0m\u001b[0;34m:\u001b[0m\u001b[0;34m\u001b[0m\u001b[0;34m\u001b[0m\u001b[0m\n",
      "\u001b[0;32m~/anaconda3/envs/CTN/lib/python3.7/site-packages/nengo/cache.py\u001b[0m in \u001b[0;36m_get_cache_key\u001b[0;34m(self, solver, neuron_type, gain, bias, x, targets, rng, E)\u001b[0m\n\u001b[1;32m    702\u001b[0m         \u001b[0mh\u001b[0m\u001b[0;34m.\u001b[0m\u001b[0mupdate\u001b[0m\u001b[0;34m(\u001b[0m\u001b[0mnp\u001b[0m\u001b[0;34m.\u001b[0m\u001b[0mascontiguousarray\u001b[0m\u001b[0;34m(\u001b[0m\u001b[0mbias\u001b[0m\u001b[0;34m)\u001b[0m\u001b[0;34m.\u001b[0m\u001b[0mdata\u001b[0m\u001b[0;34m)\u001b[0m\u001b[0;34m\u001b[0m\u001b[0;34m\u001b[0m\u001b[0m\n\u001b[0;32m--> 703\u001b[0;31m         \u001b[0mh\u001b[0m\u001b[0;34m.\u001b[0m\u001b[0mupdate\u001b[0m\u001b[0;34m(\u001b[0m\u001b[0mnp\u001b[0m\u001b[0;34m.\u001b[0m\u001b[0mascontiguousarray\u001b[0m\u001b[0;34m(\u001b[0m\u001b[0mx\u001b[0m\u001b[0;34m)\u001b[0m\u001b[0;34m.\u001b[0m\u001b[0mdata\u001b[0m\u001b[0;34m)\u001b[0m\u001b[0;34m\u001b[0m\u001b[0;34m\u001b[0m\u001b[0m\n\u001b[0m\u001b[1;32m    704\u001b[0m         \u001b[0mh\u001b[0m\u001b[0;34m.\u001b[0m\u001b[0mupdate\u001b[0m\u001b[0;34m(\u001b[0m\u001b[0mnp\u001b[0m\u001b[0;34m.\u001b[0m\u001b[0mascontiguousarray\u001b[0m\u001b[0;34m(\u001b[0m\u001b[0mtargets\u001b[0m\u001b[0;34m)\u001b[0m\u001b[0;34m.\u001b[0m\u001b[0mdata\u001b[0m\u001b[0;34m)\u001b[0m\u001b[0;34m\u001b[0m\u001b[0;34m\u001b[0m\u001b[0m\n",
      "\u001b[0;31mKeyboardInterrupt\u001b[0m: ",
      "\nDuring handling of the above exception, another exception occurred:\n",
      "\u001b[0;31mKeyboardInterrupt\u001b[0m                         Traceback (most recent call last)",
      "\u001b[0;32m~/anaconda3/envs/CTN/lib/python3.7/site-packages/IPython/core/interactiveshell.py\u001b[0m in \u001b[0;36mrun_code\u001b[0;34m(self, code_obj, result, async_)\u001b[0m\n\u001b[1;32m   3330\u001b[0m                 \u001b[0;32melse\u001b[0m\u001b[0;34m:\u001b[0m\u001b[0;34m\u001b[0m\u001b[0;34m\u001b[0m\u001b[0m\n\u001b[0;32m-> 3331\u001b[0;31m                     \u001b[0mexec\u001b[0m\u001b[0;34m(\u001b[0m\u001b[0mcode_obj\u001b[0m\u001b[0;34m,\u001b[0m \u001b[0mself\u001b[0m\u001b[0;34m.\u001b[0m\u001b[0muser_global_ns\u001b[0m\u001b[0;34m,\u001b[0m \u001b[0mself\u001b[0m\u001b[0;34m.\u001b[0m\u001b[0muser_ns\u001b[0m\u001b[0;34m)\u001b[0m\u001b[0;34m\u001b[0m\u001b[0;34m\u001b[0m\u001b[0m\n\u001b[0m\u001b[1;32m   3332\u001b[0m             \u001b[0;32mfinally\u001b[0m\u001b[0;34m:\u001b[0m\u001b[0;34m\u001b[0m\u001b[0;34m\u001b[0m\u001b[0m\n",
      "\u001b[0;32m<ipython-input-3-f154b8259ddc>\u001b[0m in \u001b[0;36m<module>\u001b[0;34m\u001b[0m\n\u001b[1;32m     57\u001b[0m     \u001b[0mfull_output\u001b[0m\u001b[0;34m=\u001b[0m\u001b[0;32mTrue\u001b[0m\u001b[0;34m,\u001b[0m\u001b[0;34m\u001b[0m\u001b[0;34m\u001b[0m\u001b[0m\n\u001b[0;32m---> 58\u001b[0;31m     \u001b[0mfinish\u001b[0m\u001b[0;34m=\u001b[0m\u001b[0;32mNone\u001b[0m\u001b[0;34m\u001b[0m\u001b[0;34m\u001b[0m\u001b[0m\n\u001b[0m\u001b[1;32m     59\u001b[0m )\n",
      "\u001b[0;32m~/anaconda3/envs/CTN/lib/python3.7/site-packages/scipy/optimize/optimize.py\u001b[0m in \u001b[0;36mbrute\u001b[0;34m(func, ranges, args, Ns, full_output, finish, disp, workers)\u001b[0m\n\u001b[1;32m   2884\u001b[0m     \u001b[0;32mwith\u001b[0m \u001b[0mMapWrapper\u001b[0m\u001b[0;34m(\u001b[0m\u001b[0mpool\u001b[0m\u001b[0;34m=\u001b[0m\u001b[0mworkers\u001b[0m\u001b[0;34m)\u001b[0m \u001b[0;32mas\u001b[0m \u001b[0mmapper\u001b[0m\u001b[0;34m:\u001b[0m\u001b[0;34m\u001b[0m\u001b[0;34m\u001b[0m\u001b[0m\n\u001b[0;32m-> 2885\u001b[0;31m         \u001b[0mJout\u001b[0m \u001b[0;34m=\u001b[0m \u001b[0mnp\u001b[0m\u001b[0;34m.\u001b[0m\u001b[0marray\u001b[0m\u001b[0;34m(\u001b[0m\u001b[0mlist\u001b[0m\u001b[0;34m(\u001b[0m\u001b[0mmapper\u001b[0m\u001b[0;34m(\u001b[0m\u001b[0mwrapped_func\u001b[0m\u001b[0;34m,\u001b[0m \u001b[0mgrid\u001b[0m\u001b[0;34m)\u001b[0m\u001b[0;34m)\u001b[0m\u001b[0;34m)\u001b[0m\u001b[0;34m\u001b[0m\u001b[0;34m\u001b[0m\u001b[0m\n\u001b[0m\u001b[1;32m   2886\u001b[0m         \u001b[0;32mif\u001b[0m \u001b[0;34m(\u001b[0m\u001b[0mN\u001b[0m \u001b[0;34m==\u001b[0m \u001b[0;36m1\u001b[0m\u001b[0;34m)\u001b[0m\u001b[0;34m:\u001b[0m\u001b[0;34m\u001b[0m\u001b[0;34m\u001b[0m\u001b[0m\n",
      "\u001b[0;32m~/anaconda3/envs/CTN/lib/python3.7/site-packages/scipy/optimize/optimize.py\u001b[0m in \u001b[0;36m__call__\u001b[0;34m(self, x)\u001b[0m\n\u001b[1;32m   2955\u001b[0m         \u001b[0;31m# flatten needed for one dimensional case.\u001b[0m\u001b[0;34m\u001b[0m\u001b[0;34m\u001b[0m\u001b[0;34m\u001b[0m\u001b[0m\n\u001b[0;32m-> 2956\u001b[0;31m         \u001b[0;32mreturn\u001b[0m \u001b[0mself\u001b[0m\u001b[0;34m.\u001b[0m\u001b[0mf\u001b[0m\u001b[0;34m(\u001b[0m\u001b[0mnp\u001b[0m\u001b[0;34m.\u001b[0m\u001b[0masarray\u001b[0m\u001b[0;34m(\u001b[0m\u001b[0mx\u001b[0m\u001b[0;34m)\u001b[0m\u001b[0;34m.\u001b[0m\u001b[0mflatten\u001b[0m\u001b[0;34m(\u001b[0m\u001b[0;34m)\u001b[0m\u001b[0;34m,\u001b[0m \u001b[0;34m*\u001b[0m\u001b[0mself\u001b[0m\u001b[0;34m.\u001b[0m\u001b[0margs\u001b[0m\u001b[0;34m)\u001b[0m\u001b[0;34m\u001b[0m\u001b[0;34m\u001b[0m\u001b[0m\n\u001b[0m\u001b[1;32m   2957\u001b[0m \u001b[0;34m\u001b[0m\u001b[0m\n",
      "\u001b[0;32m<ipython-input-3-f154b8259ddc>\u001b[0m in \u001b[0;36mevaluation_function\u001b[0;34m(params)\u001b[0m\n\u001b[1;32m     35\u001b[0m             \u001b[0mdata_filename\u001b[0m\u001b[0;34m=\u001b[0m\u001b[0mdata_filename\u001b[0m\u001b[0;34m,\u001b[0m\u001b[0;34m\u001b[0m\u001b[0;34m\u001b[0m\u001b[0m\n\u001b[0;32m---> 36\u001b[0;31m             \u001b[0mplt\u001b[0m\u001b[0;34m=\u001b[0m\u001b[0;32mFalse\u001b[0m\u001b[0;34m\u001b[0m\u001b[0;34m\u001b[0m\u001b[0m\n\u001b[0m\u001b[1;32m     37\u001b[0m         )\n",
      "\u001b[0;32m~/anaconda3/envs/CTN/lib/python3.7/site-packages/pytry-0.9.2-py3.7.egg/pytry/trial.py\u001b[0m in \u001b[0;36mrun\u001b[0;34m(self, **kwargs)\u001b[0m\n\u001b[1;32m     90\u001b[0m \u001b[0;34m\u001b[0m\u001b[0m\n\u001b[0;32m---> 91\u001b[0;31m         \u001b[0mresult\u001b[0m \u001b[0;34m=\u001b[0m \u001b[0mself\u001b[0m\u001b[0;34m.\u001b[0m\u001b[0mexecute_trial\u001b[0m\u001b[0;34m(\u001b[0m\u001b[0mp\u001b[0m\u001b[0;34m)\u001b[0m\u001b[0;34m\u001b[0m\u001b[0;34m\u001b[0m\u001b[0m\n\u001b[0m\u001b[1;32m     92\u001b[0m \u001b[0;34m\u001b[0m\u001b[0m\n",
      "\u001b[0;32m~/anaconda3/envs/CTN/lib/python3.7/site-packages/pytry-0.9.2-py3.7.egg/pytry/nengo.py\u001b[0m in \u001b[0;36mexecute_trial\u001b[0;34m(self, p)\u001b[0m\n\u001b[1;32m    111\u001b[0m             \u001b[0;32melse\u001b[0m\u001b[0;34m:\u001b[0m\u001b[0;34m\u001b[0m\u001b[0;34m\u001b[0m\u001b[0m\n\u001b[0;32m--> 112\u001b[0;31m                 \u001b[0mself\u001b[0m\u001b[0;34m.\u001b[0m\u001b[0msim\u001b[0m \u001b[0;34m=\u001b[0m \u001b[0mSimulator\u001b[0m\u001b[0;34m(\u001b[0m\u001b[0mmodel\u001b[0m\u001b[0;34m,\u001b[0m \u001b[0mdt\u001b[0m\u001b[0;34m=\u001b[0m\u001b[0mp\u001b[0m\u001b[0;34m.\u001b[0m\u001b[0mdt\u001b[0m\u001b[0;34m,\u001b[0m \u001b[0;34m**\u001b[0m\u001b[0mextra_args\u001b[0m\u001b[0;34m)\u001b[0m\u001b[0;34m\u001b[0m\u001b[0;34m\u001b[0m\u001b[0m\n\u001b[0m\u001b[1;32m    113\u001b[0m \u001b[0;34m\u001b[0m\u001b[0m\n",
      "\u001b[0;32m~/anaconda3/envs/CTN/lib/python3.7/site-packages/nengo_ocl/simulator.py\u001b[0m in \u001b[0;36m__init__\u001b[0;34m(self, network, dt, seed, model, context, n_prealloc_probes, profiling, if_python_code, planner, progress_bar)\u001b[0m\n\u001b[1;32m    237\u001b[0m                 \u001b[0;31m# Build the network into the model\u001b[0m\u001b[0;34m\u001b[0m\u001b[0;34m\u001b[0m\u001b[0;34m\u001b[0m\u001b[0m\n\u001b[0;32m--> 238\u001b[0;31m                 \u001b[0mself\u001b[0m\u001b[0;34m.\u001b[0m\u001b[0mmodel\u001b[0m\u001b[0;34m.\u001b[0m\u001b[0mbuild\u001b[0m\u001b[0;34m(\u001b[0m\u001b[0mnetwork\u001b[0m\u001b[0;34m)\u001b[0m\u001b[0;34m\u001b[0m\u001b[0;34m\u001b[0m\u001b[0m\n\u001b[0m\u001b[1;32m    239\u001b[0m \u001b[0;34m\u001b[0m\u001b[0m\n",
      "\u001b[0;32m~/anaconda3/envs/CTN/lib/python3.7/site-packages/nengo/builder/builder.py\u001b[0m in \u001b[0;36mbuild\u001b[0;34m(self, obj, *args, **kwargs)\u001b[0m\n\u001b[1;32m    122\u001b[0m         \"\"\"\n\u001b[0;32m--> 123\u001b[0;31m         \u001b[0mbuilt\u001b[0m \u001b[0;34m=\u001b[0m \u001b[0mself\u001b[0m\u001b[0;34m.\u001b[0m\u001b[0mbuilder\u001b[0m\u001b[0;34m.\u001b[0m\u001b[0mbuild\u001b[0m\u001b[0;34m(\u001b[0m\u001b[0mself\u001b[0m\u001b[0;34m,\u001b[0m \u001b[0mobj\u001b[0m\u001b[0;34m,\u001b[0m \u001b[0;34m*\u001b[0m\u001b[0margs\u001b[0m\u001b[0;34m,\u001b[0m \u001b[0;34m**\u001b[0m\u001b[0mkwargs\u001b[0m\u001b[0;34m)\u001b[0m\u001b[0;34m\u001b[0m\u001b[0;34m\u001b[0m\u001b[0m\n\u001b[0m\u001b[1;32m    124\u001b[0m         \u001b[0;32mif\u001b[0m \u001b[0mself\u001b[0m\u001b[0;34m.\u001b[0m\u001b[0mbuild_callback\u001b[0m \u001b[0;32mis\u001b[0m \u001b[0;32mnot\u001b[0m \u001b[0;32mNone\u001b[0m\u001b[0;34m:\u001b[0m\u001b[0;34m\u001b[0m\u001b[0;34m\u001b[0m\u001b[0m\n",
      "\u001b[0;32m~/anaconda3/envs/CTN/lib/python3.7/site-packages/nengo/builder/builder.py\u001b[0m in \u001b[0;36mbuild\u001b[0;34m(cls, model, obj, *args, **kwargs)\u001b[0m\n\u001b[1;32m    217\u001b[0m \u001b[0;34m\u001b[0m\u001b[0m\n\u001b[0;32m--> 218\u001b[0;31m         \u001b[0;32mreturn\u001b[0m \u001b[0mcls\u001b[0m\u001b[0;34m.\u001b[0m\u001b[0mbuilders\u001b[0m\u001b[0;34m[\u001b[0m\u001b[0mobj_cls\u001b[0m\u001b[0;34m]\u001b[0m\u001b[0;34m(\u001b[0m\u001b[0mmodel\u001b[0m\u001b[0;34m,\u001b[0m \u001b[0mobj\u001b[0m\u001b[0;34m,\u001b[0m \u001b[0;34m*\u001b[0m\u001b[0margs\u001b[0m\u001b[0;34m,\u001b[0m \u001b[0;34m**\u001b[0m\u001b[0mkwargs\u001b[0m\u001b[0;34m)\u001b[0m\u001b[0;34m\u001b[0m\u001b[0;34m\u001b[0m\u001b[0m\n\u001b[0m\u001b[1;32m    219\u001b[0m \u001b[0;34m\u001b[0m\u001b[0m\n",
      "\u001b[0;32m~/anaconda3/envs/CTN/lib/python3.7/site-packages/nengo/builder/network.py\u001b[0m in \u001b[0;36mbuild_network\u001b[0;34m(model, network, progress)\u001b[0m\n\u001b[1;32m    123\u001b[0m             \u001b[0mprogress\u001b[0m\u001b[0;34m.\u001b[0m\u001b[0mstep\u001b[0m\u001b[0;34m(\u001b[0m\u001b[0;34m)\u001b[0m\u001b[0;34m\u001b[0m\u001b[0;34m\u001b[0m\u001b[0m\n\u001b[0;32m--> 124\u001b[0;31m             \u001b[0mmodel\u001b[0m\u001b[0;34m.\u001b[0m\u001b[0mbuild_callback\u001b[0m \u001b[0;34m=\u001b[0m \u001b[0;32mNone\u001b[0m\u001b[0;34m\u001b[0m\u001b[0;34m\u001b[0m\u001b[0m\n\u001b[0m\u001b[1;32m    125\u001b[0m \u001b[0;34m\u001b[0m\u001b[0m\n",
      "\u001b[0;32m~/anaconda3/envs/CTN/lib/python3.7/site-packages/nengo/cache.py\u001b[0m in \u001b[0;36m__exit__\u001b[0;34m(self, exc_type, exc_value, traceback)\u001b[0m\n\u001b[1;32m    514\u001b[0m         \u001b[0;32mif\u001b[0m \u001b[0mself\u001b[0m\u001b[0;34m.\u001b[0m\u001b[0m_index\u001b[0m \u001b[0;32mis\u001b[0m \u001b[0;32mnot\u001b[0m \u001b[0;32mNone\u001b[0m\u001b[0;34m:\u001b[0m\u001b[0;34m\u001b[0m\u001b[0;34m\u001b[0m\u001b[0m\n\u001b[0;32m--> 515\u001b[0;31m             \u001b[0mrval\u001b[0m \u001b[0;34m=\u001b[0m \u001b[0mself\u001b[0m\u001b[0;34m.\u001b[0m\u001b[0m_index\u001b[0m\u001b[0;34m.\u001b[0m\u001b[0m__exit__\u001b[0m\u001b[0;34m(\u001b[0m\u001b[0mexc_type\u001b[0m\u001b[0;34m,\u001b[0m \u001b[0mexc_value\u001b[0m\u001b[0;34m,\u001b[0m \u001b[0mtraceback\u001b[0m\u001b[0;34m)\u001b[0m\u001b[0;34m\u001b[0m\u001b[0;34m\u001b[0m\u001b[0m\n\u001b[0m\u001b[1;32m    516\u001b[0m             \u001b[0;32mreturn\u001b[0m \u001b[0mrval\u001b[0m\u001b[0;34m\u001b[0m\u001b[0;34m\u001b[0m\u001b[0m\n",
      "\u001b[0;32m~/anaconda3/envs/CTN/lib/python3.7/site-packages/nengo/cache.py\u001b[0m in \u001b[0;36m__exit__\u001b[0;34m(self, exc_type, exc_value, traceback)\u001b[0m\n\u001b[1;32m    368\u001b[0m     \u001b[0;32mdef\u001b[0m \u001b[0m__exit__\u001b[0m\u001b[0;34m(\u001b[0m\u001b[0mself\u001b[0m\u001b[0;34m,\u001b[0m \u001b[0mexc_type\u001b[0m\u001b[0;34m,\u001b[0m \u001b[0mexc_value\u001b[0m\u001b[0;34m,\u001b[0m \u001b[0mtraceback\u001b[0m\u001b[0;34m)\u001b[0m\u001b[0;34m:\u001b[0m\u001b[0;34m\u001b[0m\u001b[0;34m\u001b[0m\u001b[0m\n\u001b[0;32m--> 369\u001b[0;31m         \u001b[0mself\u001b[0m\u001b[0;34m.\u001b[0m\u001b[0msync\u001b[0m\u001b[0;34m(\u001b[0m\u001b[0;34m)\u001b[0m\u001b[0;34m\u001b[0m\u001b[0;34m\u001b[0m\u001b[0m\n\u001b[0m\u001b[1;32m    370\u001b[0m \u001b[0;34m\u001b[0m\u001b[0m\n",
      "\u001b[0;32m~/anaconda3/envs/CTN/lib/python3.7/site-packages/nengo/cache.py\u001b[0m in \u001b[0;36msync\u001b[0;34m(self)\u001b[0m\n\u001b[1;32m    430\u001b[0m                 \u001b[0;32mtry\u001b[0m\u001b[0;34m:\u001b[0m\u001b[0;34m\u001b[0m\u001b[0;34m\u001b[0m\u001b[0m\n\u001b[0;32m--> 431\u001b[0;31m                     \u001b[0mself\u001b[0m\u001b[0;34m.\u001b[0m\u001b[0m_load_index_file\u001b[0m\u001b[0;34m(\u001b[0m\u001b[0;34m)\u001b[0m\u001b[0;34m\u001b[0m\u001b[0;34m\u001b[0m\u001b[0m\n\u001b[0m\u001b[1;32m    432\u001b[0m                 \u001b[0;32mexcept\u001b[0m \u001b[0mIOError\u001b[0m \u001b[0;32mas\u001b[0m \u001b[0merr\u001b[0m\u001b[0;34m:\u001b[0m\u001b[0;34m\u001b[0m\u001b[0;34m\u001b[0m\u001b[0m\n",
      "\u001b[0;32m~/anaconda3/envs/CTN/lib/python3.7/site-packages/nengo/cache.py\u001b[0m in \u001b[0;36m_load_index_file\u001b[0;34m(self)\u001b[0m\n\u001b[1;32m    289\u001b[0m                         \"Unsupported cache index file format.\")\n\u001b[0;32m--> 290\u001b[0;31m                 \u001b[0mself\u001b[0m\u001b[0;34m.\u001b[0m\u001b[0m_index\u001b[0m \u001b[0;34m=\u001b[0m \u001b[0mpickle\u001b[0m\u001b[0;34m.\u001b[0m\u001b[0mload\u001b[0m\u001b[0;34m(\u001b[0m\u001b[0mf\u001b[0m\u001b[0;34m)\u001b[0m\u001b[0;34m\u001b[0m\u001b[0;34m\u001b[0m\u001b[0m\n\u001b[0m\u001b[1;32m    291\u001b[0m             \u001b[0;32melse\u001b[0m\u001b[0;34m:\u001b[0m\u001b[0;34m\u001b[0m\u001b[0;34m\u001b[0m\u001b[0m\n",
      "\u001b[0;31mKeyboardInterrupt\u001b[0m: ",
      "\nDuring handling of the above exception, another exception occurred:\n",
      "\u001b[0;31mAttributeError\u001b[0m                            Traceback (most recent call last)",
      "\u001b[0;32m~/anaconda3/envs/CTN/lib/python3.7/site-packages/IPython/core/interactiveshell.py\u001b[0m in \u001b[0;36mshowtraceback\u001b[0;34m(self, exc_tuple, filename, tb_offset, exception_only, running_compiled_code)\u001b[0m\n\u001b[1;32m   2043\u001b[0m                         \u001b[0;31m# in the engines. This should return a list of strings.\u001b[0m\u001b[0;34m\u001b[0m\u001b[0;34m\u001b[0m\u001b[0;34m\u001b[0m\u001b[0m\n\u001b[0;32m-> 2044\u001b[0;31m                         \u001b[0mstb\u001b[0m \u001b[0;34m=\u001b[0m \u001b[0mvalue\u001b[0m\u001b[0;34m.\u001b[0m\u001b[0m_render_traceback_\u001b[0m\u001b[0;34m(\u001b[0m\u001b[0;34m)\u001b[0m\u001b[0;34m\u001b[0m\u001b[0;34m\u001b[0m\u001b[0m\n\u001b[0m\u001b[1;32m   2045\u001b[0m                     \u001b[0;32mexcept\u001b[0m \u001b[0mException\u001b[0m\u001b[0;34m:\u001b[0m\u001b[0;34m\u001b[0m\u001b[0;34m\u001b[0m\u001b[0m\n",
      "\u001b[0;31mAttributeError\u001b[0m: 'KeyboardInterrupt' object has no attribute '_render_traceback_'",
      "\nDuring handling of the above exception, another exception occurred:\n",
      "\u001b[0;31mTypeError\u001b[0m                                 Traceback (most recent call last)",
      "\u001b[0;32m~/anaconda3/envs/CTN/lib/python3.7/site-packages/IPython/core/interactiveshell.py\u001b[0m in \u001b[0;36mrun_code\u001b[0;34m(self, code_obj, result, async_)\u001b[0m\n\u001b[1;32m   3346\u001b[0m             \u001b[0;32mif\u001b[0m \u001b[0mresult\u001b[0m \u001b[0;32mis\u001b[0m \u001b[0;32mnot\u001b[0m \u001b[0;32mNone\u001b[0m\u001b[0;34m:\u001b[0m\u001b[0;34m\u001b[0m\u001b[0;34m\u001b[0m\u001b[0m\n\u001b[1;32m   3347\u001b[0m                 \u001b[0mresult\u001b[0m\u001b[0;34m.\u001b[0m\u001b[0merror_in_exec\u001b[0m \u001b[0;34m=\u001b[0m \u001b[0msys\u001b[0m\u001b[0;34m.\u001b[0m\u001b[0mexc_info\u001b[0m\u001b[0;34m(\u001b[0m\u001b[0;34m)\u001b[0m\u001b[0;34m[\u001b[0m\u001b[0;36m1\u001b[0m\u001b[0;34m]\u001b[0m\u001b[0;34m\u001b[0m\u001b[0;34m\u001b[0m\u001b[0m\n\u001b[0;32m-> 3348\u001b[0;31m             \u001b[0mself\u001b[0m\u001b[0;34m.\u001b[0m\u001b[0mshowtraceback\u001b[0m\u001b[0;34m(\u001b[0m\u001b[0mrunning_compiled_code\u001b[0m\u001b[0;34m=\u001b[0m\u001b[0;32mTrue\u001b[0m\u001b[0;34m)\u001b[0m\u001b[0;34m\u001b[0m\u001b[0;34m\u001b[0m\u001b[0m\n\u001b[0m\u001b[1;32m   3349\u001b[0m         \u001b[0;32melse\u001b[0m\u001b[0;34m:\u001b[0m\u001b[0;34m\u001b[0m\u001b[0;34m\u001b[0m\u001b[0m\n\u001b[1;32m   3350\u001b[0m             \u001b[0moutflag\u001b[0m \u001b[0;34m=\u001b[0m \u001b[0;32mFalse\u001b[0m\u001b[0;34m\u001b[0m\u001b[0;34m\u001b[0m\u001b[0m\n",
      "\u001b[0;32m~/anaconda3/envs/CTN/lib/python3.7/site-packages/IPython/core/interactiveshell.py\u001b[0m in \u001b[0;36mshowtraceback\u001b[0;34m(self, exc_tuple, filename, tb_offset, exception_only, running_compiled_code)\u001b[0m\n\u001b[1;32m   2045\u001b[0m                     \u001b[0;32mexcept\u001b[0m \u001b[0mException\u001b[0m\u001b[0;34m:\u001b[0m\u001b[0;34m\u001b[0m\u001b[0;34m\u001b[0m\u001b[0m\n\u001b[1;32m   2046\u001b[0m                         stb = self.InteractiveTB.structured_traceback(etype,\n\u001b[0;32m-> 2047\u001b[0;31m                                             value, tb, tb_offset=tb_offset)\n\u001b[0m\u001b[1;32m   2048\u001b[0m \u001b[0;34m\u001b[0m\u001b[0m\n\u001b[1;32m   2049\u001b[0m                     \u001b[0mself\u001b[0m\u001b[0;34m.\u001b[0m\u001b[0m_showtraceback\u001b[0m\u001b[0;34m(\u001b[0m\u001b[0metype\u001b[0m\u001b[0;34m,\u001b[0m \u001b[0mvalue\u001b[0m\u001b[0;34m,\u001b[0m \u001b[0mstb\u001b[0m\u001b[0;34m)\u001b[0m\u001b[0;34m\u001b[0m\u001b[0;34m\u001b[0m\u001b[0m\n",
      "\u001b[0;32m~/anaconda3/envs/CTN/lib/python3.7/site-packages/IPython/core/ultratb.py\u001b[0m in \u001b[0;36mstructured_traceback\u001b[0;34m(self, etype, value, tb, tb_offset, number_of_lines_of_context)\u001b[0m\n\u001b[1;32m   1413\u001b[0m             \u001b[0mself\u001b[0m\u001b[0;34m.\u001b[0m\u001b[0mtb\u001b[0m \u001b[0;34m=\u001b[0m \u001b[0mtb\u001b[0m\u001b[0;34m\u001b[0m\u001b[0;34m\u001b[0m\u001b[0m\n\u001b[1;32m   1414\u001b[0m         return FormattedTB.structured_traceback(\n\u001b[0;32m-> 1415\u001b[0;31m             self, etype, value, tb, tb_offset, number_of_lines_of_context)\n\u001b[0m\u001b[1;32m   1416\u001b[0m \u001b[0;34m\u001b[0m\u001b[0m\n\u001b[1;32m   1417\u001b[0m \u001b[0;34m\u001b[0m\u001b[0m\n",
      "\u001b[0;32m~/anaconda3/envs/CTN/lib/python3.7/site-packages/IPython/core/ultratb.py\u001b[0m in \u001b[0;36mstructured_traceback\u001b[0;34m(self, etype, value, tb, tb_offset, number_of_lines_of_context)\u001b[0m\n\u001b[1;32m   1313\u001b[0m             \u001b[0;31m# Verbose modes need a full traceback\u001b[0m\u001b[0;34m\u001b[0m\u001b[0;34m\u001b[0m\u001b[0;34m\u001b[0m\u001b[0m\n\u001b[1;32m   1314\u001b[0m             return VerboseTB.structured_traceback(\n\u001b[0;32m-> 1315\u001b[0;31m                 \u001b[0mself\u001b[0m\u001b[0;34m,\u001b[0m \u001b[0metype\u001b[0m\u001b[0;34m,\u001b[0m \u001b[0mvalue\u001b[0m\u001b[0;34m,\u001b[0m \u001b[0mtb\u001b[0m\u001b[0;34m,\u001b[0m \u001b[0mtb_offset\u001b[0m\u001b[0;34m,\u001b[0m \u001b[0mnumber_of_lines_of_context\u001b[0m\u001b[0;34m\u001b[0m\u001b[0;34m\u001b[0m\u001b[0m\n\u001b[0m\u001b[1;32m   1316\u001b[0m             )\n\u001b[1;32m   1317\u001b[0m         \u001b[0;32melif\u001b[0m \u001b[0mmode\u001b[0m \u001b[0;34m==\u001b[0m \u001b[0;34m'Minimal'\u001b[0m\u001b[0;34m:\u001b[0m\u001b[0;34m\u001b[0m\u001b[0;34m\u001b[0m\u001b[0m\n",
      "\u001b[0;32m~/anaconda3/envs/CTN/lib/python3.7/site-packages/IPython/core/ultratb.py\u001b[0m in \u001b[0;36mstructured_traceback\u001b[0;34m(self, etype, evalue, etb, tb_offset, number_of_lines_of_context)\u001b[0m\n\u001b[1;32m   1181\u001b[0m         \u001b[0mexception\u001b[0m \u001b[0;34m=\u001b[0m \u001b[0mself\u001b[0m\u001b[0;34m.\u001b[0m\u001b[0mget_parts_of_chained_exception\u001b[0m\u001b[0;34m(\u001b[0m\u001b[0mevalue\u001b[0m\u001b[0;34m)\u001b[0m\u001b[0;34m\u001b[0m\u001b[0;34m\u001b[0m\u001b[0m\n\u001b[1;32m   1182\u001b[0m         \u001b[0;32mif\u001b[0m \u001b[0mexception\u001b[0m\u001b[0;34m:\u001b[0m\u001b[0;34m\u001b[0m\u001b[0;34m\u001b[0m\u001b[0m\n\u001b[0;32m-> 1183\u001b[0;31m             \u001b[0mformatted_exceptions\u001b[0m \u001b[0;34m+=\u001b[0m \u001b[0mself\u001b[0m\u001b[0;34m.\u001b[0m\u001b[0mprepare_chained_exception_message\u001b[0m\u001b[0;34m(\u001b[0m\u001b[0mevalue\u001b[0m\u001b[0;34m.\u001b[0m\u001b[0m__cause__\u001b[0m\u001b[0;34m)\u001b[0m\u001b[0;34m\u001b[0m\u001b[0;34m\u001b[0m\u001b[0m\n\u001b[0m\u001b[1;32m   1184\u001b[0m             \u001b[0metype\u001b[0m\u001b[0;34m,\u001b[0m \u001b[0mevalue\u001b[0m\u001b[0;34m,\u001b[0m \u001b[0metb\u001b[0m \u001b[0;34m=\u001b[0m \u001b[0mexception\u001b[0m\u001b[0;34m\u001b[0m\u001b[0;34m\u001b[0m\u001b[0m\n\u001b[1;32m   1185\u001b[0m         \u001b[0;32melse\u001b[0m\u001b[0;34m:\u001b[0m\u001b[0;34m\u001b[0m\u001b[0;34m\u001b[0m\u001b[0m\n",
      "\u001b[0;31mTypeError\u001b[0m: can only concatenate str (not \"list\") to str"
     ]
    }
   ],
   "source": [
    "data_dir = \"evaluate_performance/dim\"\n",
    "\n",
    "def evaluation_function(params):\n",
    "    \n",
    "    print(\"params:\", params)\n",
    "    data = []\n",
    "    \n",
    "#     if params[0]==1:\n",
    "#     return 0\n",
    "    \n",
    "    D = int(params[0] * 16)    \n",
    "    \n",
    "    print('Simulating...')\n",
    "    for i,seed in enumerate(range(STARTING_SEED, STARTING_SEED+N_SEEDS)):\n",
    "        print('\\t seed '+str(i+1)+'/'+str(N_SEEDS))\n",
    "        data_filename = 'run_seed'+str(seed)+'_dim'+str(D)            \n",
    "        \n",
    "        xp = create_xp(N_BLOCKS_PER_OPERATION, N_TRIALS_PER_DIGIT, N_DIFFERENT_DIGITS, N_DIFFERENT_OPERATIONS, STIM_DURATION, FIX_DURATION, seed)\n",
    "        results = ExperimentRun().run(\n",
    "            n_neurons_scale=N_NEURONS_SCALE,\n",
    "            s_crosstalk=0,\n",
    "            s_evidence=None,\n",
    "            t_senso=0,\n",
    "            vocab=create_vocab(D, seed),\n",
    "            xp=xp,\n",
    "            proc_feedback=PROC_FDBCK,\n",
    "            proc_feedback_synapse=PROC_FDBCK_SYN,\n",
    "            GW_feedback=GW_FDBCK,\n",
    "            GW_scale=GW_SCALE,\n",
    "            BG_thr=BG_THR,\n",
    "            BG_bias=BG_BIAS,\n",
    "            seed=seed,\n",
    "            backend=\"nengo_ocl\",\n",
    "            data_dir=data_dir,\n",
    "            data_filename=data_filename,\n",
    "            plt=False\n",
    "        )\n",
    "\n",
    "        seed_data = results['data'].df\n",
    "\n",
    "        seed_data.to_pickle(data_dir+'/'+data_filename+'.csv')\n",
    "        data.append(seed_data)\n",
    "        \n",
    "        \n",
    "    data = Data(pd.concat(data))\n",
    "    error_rate = data.error_rate\n",
    "    print('error rate:', error_rate)\n",
    "    return error_rate\n",
    "\n",
    "    \n",
    "x0, fval, grid, jout = brute(\n",
    "    evaluation_function, \n",
    "    (\n",
    "        (1, 10), # number of dimensions (*16)\n",
    "    ),\n",
    "    Ns=10, \n",
    "    full_output=True,\n",
    "    finish=None\n",
    ")\n",
    "\n",
    "print(x0, fval, grid, jout)\n",
    "np.save(data_dir+\"/x0_2\", x0)\n",
    "np.save(data_dir+\"/fval_2\", fval)\n",
    "np.save(data_dir+\"/grid_2\", grid)\n",
    "np.save(data_dir+\"/jout_2\", jout)"
   ]
  },
  {
   "cell_type": "code",
   "execution_count": null,
   "metadata": {},
   "outputs": [],
   "source": [
    "all_data = []\n",
    "def offline_evaluation_function(params):\n",
    "    \n",
    "    print(\"params:\", params)\n",
    "    data = []\n",
    "    \n",
    "#     return 0\n",
    "    \n",
    "    D = int(params[0] * 16)    \n",
    "    \n",
    "    print('Simulating...')\n",
    "    for i,seed in enumerate(range(STARTING_SEED, STARTING_SEED+N_SEEDS)):\n",
    "        print('\\t seed '+str(i+1)+'/'+str(N_SEEDS))\n",
    "        data_filename = 'run_seed'+str(seed)+'_dim'+str(D)\n",
    "        print(data_dir+'/'+data_filename+'.csv')\n",
    "        seed_data = pd.read_pickle(data_dir+'/'+data_filename+'.csv')\n",
    "        data.append(seed_data)\n",
    "        \n",
    "        \n",
    "    data = Data(pd.concat(data))\n",
    "    data.df['dim'] = D\n",
    "    error_rate = data.error_rate\n",
    "    all_data.append(data.df)\n",
    "    print('error rate:', error_rate)\n",
    "    return error_rate\n",
    "    \n",
    "x0, fval, grid, jout = brute(\n",
    "    offline_evaluation_function, \n",
    "    (\n",
    "        (1, 10), # number of dimensions (*16)\n",
    "    ),\n",
    "    Ns=10, \n",
    "    full_output=True,\n",
    "    finish=None\n",
    ")\n",
    "\n",
    "all_data = Data(pd.concat(all_data))"
   ]
  },
  {
   "cell_type": "code",
   "execution_count": null,
   "metadata": {},
   "outputs": [],
   "source": [
    "print(x0, fval, grid, jout)\n",
    "np.save(data_dir+\"/x0_2\", x0)\n",
    "np.save(data_dir+\"/fval_2\", fval)\n",
    "np.save(data_dir+\"/grid_2\", grid)\n",
    "np.save(data_dir+\"/jout_2\", jout)"
   ]
  },
  {
   "cell_type": "code",
   "execution_count": null,
   "metadata": {
    "scrolled": true
   },
   "outputs": [],
   "source": [
    "mpl.rcParams['lines.linewidth'] = 2\n",
    "mpl.rcParams['lines.color'] = \"black\"\n",
    "mpl.rcParams['font.size'] = 15\n",
    "mpl.rcParams['errorbar.capsize'] = 3\n",
    "\n",
    "\n",
    "accuracies = np.array([all_data.df.loc[all_data.df['dim'] == dim]['acc'].to_list() for dim in grid*16])\n",
    "accuracies = 100-100*accuracies\n",
    "means = accuracies.mean(axis=1)\n",
    "sems = sem(accuracies, axis=1)\n",
    "\n",
    "accuracies_simple = np.array([all_data.df.loc[(all_data.df['dim'] == dim) & (all_data.df['rule'] == 0)]['acc'].to_list() for dim in grid*16])\n",
    "accuracies_simple = 100-100*accuracies_simple\n",
    "means_simple = accuracies_simple.mean(axis=1)\n",
    "sems_simple = sem(accuracies_simple, axis=1)\n",
    "\n",
    "accuracies_chained = np.array([all_data.df.loc[(all_data.df['dim'] == dim) & (all_data.df['rule'] != 0)]['acc'].to_list() for dim in grid*16])\n",
    "accuracies_chained = 100-100*accuracies_chained\n",
    "means_chained = accuracies_chained.mean(axis=1)\n",
    "sems_chained = sem(accuracies_chained, axis=1)\n",
    "\n",
    "\n",
    "plt.errorbar(grid*16, means_chained, sems_chained, color=\"black\", label='Chained', linestyle='dotted')\n",
    "plt.errorbar(grid*16, means, sems, color=\"black\", label='All')\n",
    "plt.errorbar(grid*16, means_simple, sems_simple, color=\"black\", label='Simple', linestyle='-.')\n",
    "plt.xlabel('Number of dimensions')\n",
    "plt.ylabel('Error rate (%)')\n",
    "plt.xticks(grid*16)\n",
    "plt.ylim(bottom=0)\n",
    "plt.yticks(range(0,90,10))\n",
    "plt.gca().spines['right'].set_color('none')\n",
    "plt.gca().spines['top'].set_color('none')\n",
    "plt.legend()\n",
    "\n",
    "plt.show()"
   ]
  },
  {
   "cell_type": "code",
   "execution_count": null,
   "metadata": {
    "scrolled": true
   },
   "outputs": [],
   "source": [
    "mpl.rcParams['lines.linewidth'] = 2\n",
    "mpl.rcParams['lines.color'] = \"black\"\n",
    "mpl.rcParams['font.size'] = 15\n",
    "mpl.rcParams['errorbar.capsize'] = 3\n",
    "\n",
    "\n",
    "accuracies = np.array([all_data.df.loc[all_data.df['dim'] == dim]['acc'].to_list() for dim in grid*16])\n",
    "accuracies = 100-100*accuracies\n",
    "means = accuracies.mean(axis=1)\n",
    "sems = sem(accuracies, axis=1)\n",
    "\n",
    "accuracies_simple = np.array([all_data.df.loc[(all_data.df['dim'] == dim) & (all_data.df['rule'] == 0)]['acc'].to_list() for dim in grid*16])\n",
    "accuracies_simple = 100-100*accuracies_simple\n",
    "means_simple = accuracies_simple.mean(axis=1)\n",
    "sems_simple = sem(accuracies_simple, axis=1)\n",
    "\n",
    "accuracies_chained = np.array([all_data.df.loc[(all_data.df['dim'] == dim) & (all_data.df['rule'] != 0)]['acc'].to_list() for dim in grid*16])\n",
    "accuracies_chained = 100-100*accuracies_chained\n",
    "means_chained = accuracies_chained.mean(axis=1)\n",
    "sems_chained = sem(accuracies_chained, axis=1)\n",
    "\n",
    "\n",
    "plt.errorbar(grid*16, means_chained, sems_chained, color=\"black\", label='Chained', linestyle='dotted')\n",
    "plt.errorbar(grid*16, means, sems, color=\"black\", label='All')\n",
    "plt.errorbar(grid*16, means_simple, sems_simple, color=\"black\", label='Simple', linestyle='-.')\n",
    "plt.xlabel('Number of dimensions')\n",
    "plt.ylabel('Error rate (%)')\n",
    "plt.xticks(grid*16)\n",
    "plt.ylim(bottom=0)\n",
    "plt.yticks(range(0,90,10))\n",
    "plt.gca().spines['right'].set_color('none')\n",
    "plt.gca().spines['top'].set_color('none')\n",
    "plt.legend()\n",
    "\n",
    "plt.show()"
   ]
  },
  {
   "cell_type": "code",
   "execution_count": null,
   "metadata": {},
   "outputs": [],
   "source": []
  }
 ],
 "metadata": {
  "kernelspec": {
   "display_name": "Python 3",
   "language": "python",
   "name": "python3"
  },
  "language_info": {
   "codemirror_mode": {
    "name": "ipython",
    "version": 3
   },
   "file_extension": ".py",
   "mimetype": "text/x-python",
   "name": "python",
   "nbconvert_exporter": "python",
   "pygments_lexer": "ipython3",
   "version": "3.7.5"
  }
 },
 "nbformat": 4,
 "nbformat_minor": 2
}
