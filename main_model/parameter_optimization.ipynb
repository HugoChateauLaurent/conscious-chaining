{
 "cells": [
  {
   "cell_type": "code",
   "execution_count": 1,
   "metadata": {},
   "outputs": [],
   "source": [
    "import nengo\n",
    "import nengo_spa as spa\n",
    "import pytry\n",
    "import numpy as np\n",
    "from random import shuffle\n",
    "import random\n",
    "import sys, os\n",
    "import math\n",
    "from IPython import display\n",
    "from scipy.optimize import brute, minimize\n",
    "import pandas as pd\n",
    "\n",
    "\n",
    "# Import our classes\n",
    "sys.path.append('..')\n",
    "import experiments as xps\n",
    "from model import ExperimentRun\n",
    "from data import Data\n",
    "\n",
    "def create_vocab(D, seed):\n",
    "    vocab = spa.Vocabulary(dimensions=D, pointer_gen=np.random.RandomState(seed))\n",
    "    digits = ['D'+str(i+1) for i in range(10)]\n",
    "    r = np.random.RandomState(seed)\n",
    "    r.shuffle(digits) # avoid any bias in similarity\n",
    "    vocab.populate(';'.join(digits))\n",
    "    keys = ['FIXATE', 'MASK', \\\n",
    "               'MORE','LESS', \\\n",
    "               'GET','SET', \\\n",
    "    'SIMPLE', 'CHAINED_ADD', 'CHAINED_SUB']\n",
    "    vocab.populate(\";\".join(keys))\n",
    "    \n",
    "    vocab.populate('SOURCE ; CONTENT ;'+\n",
    "                      'V ; COM ; ADD ; SUB ; M')\n",
    "    vocab.populate(\";\".join([p+\"_SOURCE=(SOURCE*\"+p+\").normalized()\" for p in ['V', 'COM', 'ADD', 'SUB']])) # this is done to avoid similarity with other SPs\n",
    "    return vocab\n",
    "\n",
    "def create_xp(n_blocks_per_operation, n_trials_per_digit, n_different_digits, n_different_operations, stim_duration):\n",
    "    trials = xps.createTrials(n_blocks_per_operation, n_trials_per_digit, n_different_digits, n_different_operations, shuffle=True)\n",
    "    return xps.Xp1(0, trials, stim_duration=stim_duration)"
   ]
  },
  {
   "cell_type": "markdown",
   "metadata": {},
   "source": [
    "# Optimization and model parameters"
   ]
  },
  {
   "cell_type": "code",
   "execution_count": 2,
   "metadata": {},
   "outputs": [],
   "source": [
    "D = int(192)  # the dimensionality of the vectors\n",
    "PROC_FDBCK = .5\n",
    "GW_FDBCK = .95 # but synapse is shorter than for perfect storage\n",
    "GW_SCALE = 20 # scale the input of GW for saturation and catching very short visual stimuli\n",
    "BG_THR = .1\n",
    "BG_BIAS = .5\n",
    "STIM_DURATION = .1\n",
    "N_NEURONS_SCALE = 1\n",
    "N_SEEDS = 5\n",
    "STARTING_SEED = 1\n",
    "\n",
    "N_BLOCKS_PER_OPERATION = 1 # default: 10\n",
    "N_TRIALS_PER_DIGIT = 2 # default: 5\n",
    "N_DIFFERENT_DIGITS = 4 # default: 4\n",
    "N_DIFFERENT_OPERATIONS = 3 # default: 3\n"
   ]
  },
  {
   "cell_type": "code",
   "execution_count": 3,
   "metadata": {},
   "outputs": [],
   "source": [
    "def evaluation_function(params):\n",
    "    \n",
    "    print(\"params:\", params)\n",
    "    data = []\n",
    "\n",
    "    \n",
    "    print('Simulating...')\n",
    "    for i,seed in enumerate(range(STARTING_SEED, STARTING_SEED+N_SEEDS)):\n",
    "        print('\\t seed '+str(i+1)+'/'+str(N_SEEDS))\n",
    "        data_filename = 'run_seed'+str(seed)+'_scross'+str(params[0])+'_sevid'+str(params[1])#+'_tsenso'+str(params[2])\n",
    "        \n",
    "        xp = create_xp(N_BLOCKS_PER_OPERATION, N_TRIALS_PER_DIGIT, N_DIFFERENT_DIGITS, N_DIFFERENT_OPERATIONS, STIM_DURATION)\n",
    "        results = ExperimentRun().run(\n",
    "            n_neurons_scale=N_NEURONS_SCALE,\n",
    "            s_crosstalk=params[0],\n",
    "            s_evidence=params[1],\n",
    "            t_senso=.175,#params[2],\n",
    "            vocab=create_vocab(D, seed),\n",
    "            xp=xp,\n",
    "            proc_feedback=PROC_FDBCK,\n",
    "            GW_feedback=GW_FDBCK,\n",
    "            GW_scale=GW_SCALE,\n",
    "            BG_thr=BG_THR,\n",
    "            BG_bias=BG_BIAS,\n",
    "            seed=seed,\n",
    "            backend=\"nengo_ocl\",\n",
    "            data_filename=data_filename\n",
    "        )\n",
    "        \n",
    "        results['data'].df.to_pickle('./data/'+data_filename+'.csv')\n",
    "        data.append(results['data'].df)\n",
    "        \n",
    "        \n",
    "        \n",
    "    data = Data(pd.concat(data))\n",
    "    fitness_error = data.fitness_error\n",
    "    print('error:', fitness_error)\n",
    "    return fitness_error\n",
    "    \n"
   ]
  },
  {
   "cell_type": "code",
   "execution_count": null,
   "metadata": {},
   "outputs": [
    {
     "name": "stdout",
     "output_type": "stream",
     "text": [
      "params: [0. 0.]\n",
      "Simulating...\n",
      "\t seed 1/5\n",
      "running run_seed1_scross0.0_sevid0.0\n",
      "No context argument was provided to nengo_ocl.Simulator\n",
      "Calling pyopencl.create_some_context() for you now:\n"
     ]
    },
    {
     "data": {
      "text/html": [
       "\n",
       "                <div id=\"fdedc9d0-1300-4891-8a70-d5f3e45a1660\" style=\"\n",
       "                    width: 100%;\n",
       "                    border: 1px solid #cfcfcf;\n",
       "                    border-radius: 4px;\n",
       "                    text-align: center;\n",
       "                    position: relative;\">\n",
       "                  <div class=\"pb-text\" style=\"\n",
       "                      position: absolute;\n",
       "                      width: 100%;\">\n",
       "                    0%\n",
       "                  </div>\n",
       "                  <div class=\"pb-fill\" style=\"\n",
       "                      background-color: #bdd2e6;\n",
       "                      width: 0%;\">\n",
       "                    <style type=\"text/css\" scoped=\"scoped\">\n",
       "                        @keyframes pb-fill-anim {\n",
       "                            0% { background-position: 0 0; }\n",
       "                            100% { background-position: 100px 0; }\n",
       "                        }\n",
       "                    </style>\n",
       "                    &nbsp;\n",
       "                  </div>\n",
       "                </div>"
      ],
      "text/plain": [
       "HtmlProgressBar cannot be displayed. Please use the TerminalProgressBar. It can be enabled with `nengo.rc.set('progress', 'progress_bar', 'nengo.utils.progress.TerminalProgressBar')`."
      ]
     },
     "metadata": {},
     "output_type": "display_data"
    },
    {
     "data": {
      "application/javascript": [
       "\n",
       "              (function () {\n",
       "                  var root = document.getElementById('fdedc9d0-1300-4891-8a70-d5f3e45a1660');\n",
       "                  var text = root.getElementsByClassName('pb-text')[0];\n",
       "                  var fill = root.getElementsByClassName('pb-fill')[0];\n",
       "\n",
       "                  text.innerHTML = 'Simulation finished in 0:02:08.';\n",
       "                  \n",
       "            if (100.0 > 0.) {\n",
       "                fill.style.transition = 'width 0.1s linear';\n",
       "            } else {\n",
       "                fill.style.transition = 'none';\n",
       "            }\n",
       "\n",
       "            fill.style.width = '100.0%';\n",
       "            fill.style.animation = 'none';\n",
       "            fill.style.backgroundImage = 'none'\n",
       "        \n",
       "                  \n",
       "                fill.style.animation = 'none';\n",
       "                fill.style.backgroundImage = 'none';\n",
       "            \n",
       "              })();\n",
       "        "
      ],
      "text/plain": [
       "<IPython.core.display.Javascript object>"
      ]
     },
     "metadata": {},
     "output_type": "display_data"
    },
    {
     "name": "stdout",
     "output_type": "stream",
     "text": [
      "seed = 1\n",
      "backend = 'nengo_ocl'\n",
      "dt = 0.001\n",
      "neuron_type = 'default'\n",
      "n_neurons_scale = 1\n",
      "s_crosstalk = 0.0\n",
      "s_evidence = 0.0\n",
      "t_senso = 0.175\n",
      "vocab = <nengo_spa.vocabulary.Vocabulary object at 0x7f31ebefe290>\n",
      "xp = <experiments.Xp1 object at 0x7f31ebf1fc90>\n",
      "proc_feedback = 0.5\n",
      "GW_feedback = 0.95\n",
      "GW_scale = 20\n",
      "BG_thr = 0.1\n",
      "BG_bias = 0.5\n",
      "data = <data.Data object at 0x7f31e1ee5910>\n",
      "\t seed 2/5\n",
      "running run_seed2_scross0.0_sevid0.0\n"
     ]
    },
    {
     "data": {
      "text/html": [
       "\n",
       "                <div id=\"4539957c-bb1d-441e-aed4-82348dd3fee2\" style=\"\n",
       "                    width: 100%;\n",
       "                    border: 1px solid #cfcfcf;\n",
       "                    border-radius: 4px;\n",
       "                    text-align: center;\n",
       "                    position: relative;\">\n",
       "                  <div class=\"pb-text\" style=\"\n",
       "                      position: absolute;\n",
       "                      width: 100%;\">\n",
       "                    0%\n",
       "                  </div>\n",
       "                  <div class=\"pb-fill\" style=\"\n",
       "                      background-color: #bdd2e6;\n",
       "                      width: 0%;\">\n",
       "                    <style type=\"text/css\" scoped=\"scoped\">\n",
       "                        @keyframes pb-fill-anim {\n",
       "                            0% { background-position: 0 0; }\n",
       "                            100% { background-position: 100px 0; }\n",
       "                        }\n",
       "                    </style>\n",
       "                    &nbsp;\n",
       "                  </div>\n",
       "                </div>"
      ],
      "text/plain": [
       "HtmlProgressBar cannot be displayed. Please use the TerminalProgressBar. It can be enabled with `nengo.rc.set('progress', 'progress_bar', 'nengo.utils.progress.TerminalProgressBar')`."
      ]
     },
     "metadata": {},
     "output_type": "display_data"
    },
    {
     "data": {
      "application/javascript": [
       "\n",
       "              (function () {\n",
       "                  var root = document.getElementById('4539957c-bb1d-441e-aed4-82348dd3fee2');\n",
       "                  var text = root.getElementsByClassName('pb-text')[0];\n",
       "                  var fill = root.getElementsByClassName('pb-fill')[0];\n",
       "\n",
       "                  text.innerHTML = 'Simulation finished in 0:01:57.';\n",
       "                  \n",
       "            if (100.0 > 0.) {\n",
       "                fill.style.transition = 'width 0.1s linear';\n",
       "            } else {\n",
       "                fill.style.transition = 'none';\n",
       "            }\n",
       "\n",
       "            fill.style.width = '100.0%';\n",
       "            fill.style.animation = 'none';\n",
       "            fill.style.backgroundImage = 'none'\n",
       "        \n",
       "                  \n",
       "                fill.style.animation = 'none';\n",
       "                fill.style.backgroundImage = 'none';\n",
       "            \n",
       "              })();\n",
       "        "
      ],
      "text/plain": [
       "<IPython.core.display.Javascript object>"
      ]
     },
     "metadata": {},
     "output_type": "display_data"
    },
    {
     "name": "stdout",
     "output_type": "stream",
     "text": [
      "seed = 2\n",
      "backend = 'nengo_ocl'\n",
      "dt = 0.001\n",
      "neuron_type = 'default'\n",
      "n_neurons_scale = 1\n",
      "s_crosstalk = 0.0\n",
      "s_evidence = 0.0\n",
      "t_senso = 0.175\n",
      "vocab = <nengo_spa.vocabulary.Vocabulary object at 0x7f321833a850>\n",
      "xp = <experiments.Xp1 object at 0x7f31ebb7b8d0>\n",
      "proc_feedback = 0.5\n",
      "GW_feedback = 0.95\n",
      "GW_scale = 20\n",
      "BG_thr = 0.1\n",
      "BG_bias = 0.5\n",
      "data = <data.Data object at 0x7f31eb964a10>\n",
      "\t seed 3/5\n",
      "running run_seed3_scross0.0_sevid0.0\n"
     ]
    },
    {
     "data": {
      "text/html": [
       "\n",
       "                <div id=\"7bcac9f1-a703-41f9-af22-15e9bbbb28df\" style=\"\n",
       "                    width: 100%;\n",
       "                    border: 1px solid #cfcfcf;\n",
       "                    border-radius: 4px;\n",
       "                    text-align: center;\n",
       "                    position: relative;\">\n",
       "                  <div class=\"pb-text\" style=\"\n",
       "                      position: absolute;\n",
       "                      width: 100%;\">\n",
       "                    0%\n",
       "                  </div>\n",
       "                  <div class=\"pb-fill\" style=\"\n",
       "                      background-color: #bdd2e6;\n",
       "                      width: 0%;\">\n",
       "                    <style type=\"text/css\" scoped=\"scoped\">\n",
       "                        @keyframes pb-fill-anim {\n",
       "                            0% { background-position: 0 0; }\n",
       "                            100% { background-position: 100px 0; }\n",
       "                        }\n",
       "                    </style>\n",
       "                    &nbsp;\n",
       "                  </div>\n",
       "                </div>"
      ],
      "text/plain": [
       "HtmlProgressBar cannot be displayed. Please use the TerminalProgressBar. It can be enabled with `nengo.rc.set('progress', 'progress_bar', 'nengo.utils.progress.TerminalProgressBar')`."
      ]
     },
     "metadata": {},
     "output_type": "display_data"
    },
    {
     "data": {
      "application/javascript": [
       "\n",
       "              (function () {\n",
       "                  var root = document.getElementById('7bcac9f1-a703-41f9-af22-15e9bbbb28df');\n",
       "                  var text = root.getElementsByClassName('pb-text')[0];\n",
       "                  var fill = root.getElementsByClassName('pb-fill')[0];\n",
       "\n",
       "                  text.innerHTML = 'Simulation finished in 0:02:06.';\n",
       "                  \n",
       "            if (100.0 > 0.) {\n",
       "                fill.style.transition = 'width 0.1s linear';\n",
       "            } else {\n",
       "                fill.style.transition = 'none';\n",
       "            }\n",
       "\n",
       "            fill.style.width = '100.0%';\n",
       "            fill.style.animation = 'none';\n",
       "            fill.style.backgroundImage = 'none'\n",
       "        \n",
       "                  \n",
       "                fill.style.animation = 'none';\n",
       "                fill.style.backgroundImage = 'none';\n",
       "            \n",
       "              })();\n",
       "        "
      ],
      "text/plain": [
       "<IPython.core.display.Javascript object>"
      ]
     },
     "metadata": {},
     "output_type": "display_data"
    },
    {
     "name": "stdout",
     "output_type": "stream",
     "text": [
      "seed = 3\n",
      "backend = 'nengo_ocl'\n",
      "dt = 0.001\n",
      "neuron_type = 'default'\n",
      "n_neurons_scale = 1\n",
      "s_crosstalk = 0.0\n",
      "s_evidence = 0.0\n",
      "t_senso = 0.175\n",
      "vocab = <nengo_spa.vocabulary.Vocabulary object at 0x7f31e1de4410>\n",
      "xp = <experiments.Xp1 object at 0x7f31e1dd8fd0>\n",
      "proc_feedback = 0.5\n",
      "GW_feedback = 0.95\n",
      "GW_scale = 20\n",
      "BG_thr = 0.1\n",
      "BG_bias = 0.5\n",
      "data = <data.Data object at 0x7f31eb58e2d0>\n",
      "\t seed 4/5\n",
      "running run_seed4_scross0.0_sevid0.0\n"
     ]
    },
    {
     "data": {
      "text/html": [
       "\n",
       "                <div id=\"86a19545-35ac-470f-a0f7-fba688341826\" style=\"\n",
       "                    width: 100%;\n",
       "                    border: 1px solid #cfcfcf;\n",
       "                    border-radius: 4px;\n",
       "                    text-align: center;\n",
       "                    position: relative;\">\n",
       "                  <div class=\"pb-text\" style=\"\n",
       "                      position: absolute;\n",
       "                      width: 100%;\">\n",
       "                    0%\n",
       "                  </div>\n",
       "                  <div class=\"pb-fill\" style=\"\n",
       "                      background-color: #bdd2e6;\n",
       "                      width: 0%;\">\n",
       "                    <style type=\"text/css\" scoped=\"scoped\">\n",
       "                        @keyframes pb-fill-anim {\n",
       "                            0% { background-position: 0 0; }\n",
       "                            100% { background-position: 100px 0; }\n",
       "                        }\n",
       "                    </style>\n",
       "                    &nbsp;\n",
       "                  </div>\n",
       "                </div>"
      ],
      "text/plain": [
       "HtmlProgressBar cannot be displayed. Please use the TerminalProgressBar. It can be enabled with `nengo.rc.set('progress', 'progress_bar', 'nengo.utils.progress.TerminalProgressBar')`."
      ]
     },
     "metadata": {},
     "output_type": "display_data"
    },
    {
     "data": {
      "application/javascript": [
       "\n",
       "              (function () {\n",
       "                  var root = document.getElementById('86a19545-35ac-470f-a0f7-fba688341826');\n",
       "                  var text = root.getElementsByClassName('pb-text')[0];\n",
       "                  var fill = root.getElementsByClassName('pb-fill')[0];\n",
       "\n",
       "                  text.innerHTML = 'Simulation finished in 0:02:00.';\n",
       "                  \n",
       "            if (100.0 > 0.) {\n",
       "                fill.style.transition = 'width 0.1s linear';\n",
       "            } else {\n",
       "                fill.style.transition = 'none';\n",
       "            }\n",
       "\n",
       "            fill.style.width = '100.0%';\n",
       "            fill.style.animation = 'none';\n",
       "            fill.style.backgroundImage = 'none'\n",
       "        \n",
       "                  \n",
       "                fill.style.animation = 'none';\n",
       "                fill.style.backgroundImage = 'none';\n",
       "            \n",
       "              })();\n",
       "        "
      ],
      "text/plain": [
       "<IPython.core.display.Javascript object>"
      ]
     },
     "metadata": {},
     "output_type": "display_data"
    },
    {
     "name": "stdout",
     "output_type": "stream",
     "text": [
      "seed = 4\n",
      "backend = 'nengo_ocl'\n",
      "dt = 0.001\n",
      "neuron_type = 'default'\n",
      "n_neurons_scale = 1\n",
      "s_crosstalk = 0.0\n",
      "s_evidence = 0.0\n",
      "t_senso = 0.175\n",
      "vocab = <nengo_spa.vocabulary.Vocabulary object at 0x7f31afa65f90>\n",
      "xp = <experiments.Xp1 object at 0x7f31eb529d90>\n",
      "proc_feedback = 0.5\n",
      "GW_feedback = 0.95\n",
      "GW_scale = 20\n",
      "BG_thr = 0.1\n",
      "BG_bias = 0.5\n",
      "data = <data.Data object at 0x7f31b028db10>\n",
      "\t seed 5/5\n",
      "running run_seed5_scross0.0_sevid0.0\n"
     ]
    },
    {
     "data": {
      "text/html": [
       "\n",
       "                <div id=\"ba91b57e-957f-4587-9d4e-7f9fd46f4dd0\" style=\"\n",
       "                    width: 100%;\n",
       "                    border: 1px solid #cfcfcf;\n",
       "                    border-radius: 4px;\n",
       "                    text-align: center;\n",
       "                    position: relative;\">\n",
       "                  <div class=\"pb-text\" style=\"\n",
       "                      position: absolute;\n",
       "                      width: 100%;\">\n",
       "                    0%\n",
       "                  </div>\n",
       "                  <div class=\"pb-fill\" style=\"\n",
       "                      background-color: #bdd2e6;\n",
       "                      width: 0%;\">\n",
       "                    <style type=\"text/css\" scoped=\"scoped\">\n",
       "                        @keyframes pb-fill-anim {\n",
       "                            0% { background-position: 0 0; }\n",
       "                            100% { background-position: 100px 0; }\n",
       "                        }\n",
       "                    </style>\n",
       "                    &nbsp;\n",
       "                  </div>\n",
       "                </div>"
      ],
      "text/plain": [
       "HtmlProgressBar cannot be displayed. Please use the TerminalProgressBar. It can be enabled with `nengo.rc.set('progress', 'progress_bar', 'nengo.utils.progress.TerminalProgressBar')`."
      ]
     },
     "metadata": {},
     "output_type": "display_data"
    },
    {
     "data": {
      "application/javascript": [
       "\n",
       "              (function () {\n",
       "                  var root = document.getElementById('ba91b57e-957f-4587-9d4e-7f9fd46f4dd0');\n",
       "                  var text = root.getElementsByClassName('pb-text')[0];\n",
       "                  var fill = root.getElementsByClassName('pb-fill')[0];\n",
       "\n",
       "                  text.innerHTML = 'Simulation finished in 0:01:59.';\n",
       "                  \n",
       "            if (100.0 > 0.) {\n",
       "                fill.style.transition = 'width 0.1s linear';\n",
       "            } else {\n",
       "                fill.style.transition = 'none';\n",
       "            }\n",
       "\n",
       "            fill.style.width = '100.0%';\n",
       "            fill.style.animation = 'none';\n",
       "            fill.style.backgroundImage = 'none'\n",
       "        \n",
       "                  \n",
       "                fill.style.animation = 'none';\n",
       "                fill.style.backgroundImage = 'none';\n",
       "            \n",
       "              })();\n",
       "        "
      ],
      "text/plain": [
       "<IPython.core.display.Javascript object>"
      ]
     },
     "metadata": {},
     "output_type": "display_data"
    },
    {
     "name": "stdout",
     "output_type": "stream",
     "text": [
      "seed = 5\n",
      "backend = 'nengo_ocl'\n",
      "dt = 0.001\n",
      "neuron_type = 'default'\n",
      "n_neurons_scale = 1\n",
      "s_crosstalk = 0.0\n",
      "s_evidence = 0.0\n",
      "t_senso = 0.175\n",
      "vocab = <nengo_spa.vocabulary.Vocabulary object at 0x7f31b028d4d0>\n",
      "xp = <experiments.Xp1 object at 0x7f31eb529c10>\n",
      "proc_feedback = 0.5\n",
      "GW_feedback = 0.95\n",
      "GW_scale = 20\n",
      "BG_thr = 0.1\n",
      "BG_bias = 0.5\n",
      "data = <data.Data object at 0x7f31b02ba2d0>\n"
     ]
    },
    {
     "name": "stderr",
     "output_type": "stream",
     "text": [
      "../data.py:38: RuntimeWarning: invalid value encountered in true_divide\n",
      "  return np.sum(np.where(p != 0, p * np.log(p / q), 0))\n",
      "../data.py:38: RuntimeWarning: divide by zero encountered in log\n",
      "  return np.sum(np.where(p != 0, p * np.log(p / q), 0))\n",
      "../data.py:38: RuntimeWarning: invalid value encountered in multiply\n",
      "  return np.sum(np.where(p != 0, p * np.log(p / q), 0))\n"
     ]
    },
    {
     "name": "stdout",
     "output_type": "stream",
     "text": [
      "error: 95.83167960294685\n",
      "params: [0.   3.75]\n",
      "Simulating...\n",
      "\t seed 1/5\n",
      "running run_seed1_scross0.0_sevid3.75\n"
     ]
    },
    {
     "data": {
      "text/html": [
       "\n",
       "                <div id=\"fd55199e-e04e-485d-87eb-3f2dbbaa08ab\" style=\"\n",
       "                    width: 100%;\n",
       "                    border: 1px solid #cfcfcf;\n",
       "                    border-radius: 4px;\n",
       "                    text-align: center;\n",
       "                    position: relative;\">\n",
       "                  <div class=\"pb-text\" style=\"\n",
       "                      position: absolute;\n",
       "                      width: 100%;\">\n",
       "                    0%\n",
       "                  </div>\n",
       "                  <div class=\"pb-fill\" style=\"\n",
       "                      background-color: #bdd2e6;\n",
       "                      width: 0%;\">\n",
       "                    <style type=\"text/css\" scoped=\"scoped\">\n",
       "                        @keyframes pb-fill-anim {\n",
       "                            0% { background-position: 0 0; }\n",
       "                            100% { background-position: 100px 0; }\n",
       "                        }\n",
       "                    </style>\n",
       "                    &nbsp;\n",
       "                  </div>\n",
       "                </div>"
      ],
      "text/plain": [
       "HtmlProgressBar cannot be displayed. Please use the TerminalProgressBar. It can be enabled with `nengo.rc.set('progress', 'progress_bar', 'nengo.utils.progress.TerminalProgressBar')`."
      ]
     },
     "metadata": {},
     "output_type": "display_data"
    },
    {
     "data": {
      "application/javascript": [
       "\n",
       "              (function () {\n",
       "                  var root = document.getElementById('fd55199e-e04e-485d-87eb-3f2dbbaa08ab');\n",
       "                  var text = root.getElementsByClassName('pb-text')[0];\n",
       "                  var fill = root.getElementsByClassName('pb-fill')[0];\n",
       "\n",
       "                  text.innerHTML = 'Simulation finished in 0:02:52.';\n",
       "                  \n",
       "            if (100.0 > 0.) {\n",
       "                fill.style.transition = 'width 0.1s linear';\n",
       "            } else {\n",
       "                fill.style.transition = 'none';\n",
       "            }\n",
       "\n",
       "            fill.style.width = '100.0%';\n",
       "            fill.style.animation = 'none';\n",
       "            fill.style.backgroundImage = 'none'\n",
       "        \n",
       "                  \n",
       "                fill.style.animation = 'none';\n",
       "                fill.style.backgroundImage = 'none';\n",
       "            \n",
       "              })();\n",
       "        "
      ],
      "text/plain": [
       "<IPython.core.display.Javascript object>"
      ]
     },
     "metadata": {},
     "output_type": "display_data"
    },
    {
     "name": "stdout",
     "output_type": "stream",
     "text": [
      "seed = 1\n",
      "backend = 'nengo_ocl'\n",
      "dt = 0.001\n",
      "neuron_type = 'default'\n",
      "n_neurons_scale = 1\n",
      "s_crosstalk = 0.0\n",
      "s_evidence = 3.75\n",
      "t_senso = 0.175\n",
      "vocab = <nengo_spa.vocabulary.Vocabulary object at 0x7f3198572290>\n",
      "xp = <experiments.Xp1 object at 0x7f3198572dd0>\n",
      "proc_feedback = 0.5\n",
      "GW_feedback = 0.95\n",
      "GW_scale = 20\n",
      "BG_thr = 0.1\n",
      "BG_bias = 0.5\n",
      "data = <data.Data object at 0x7f31b07c0a90>\n",
      "\t seed 2/5\n",
      "running run_seed2_scross0.0_sevid3.75\n"
     ]
    },
    {
     "data": {
      "text/html": [
       "\n",
       "                <div id=\"db7c1a62-0caf-47c6-9c44-110fd3bcf212\" style=\"\n",
       "                    width: 100%;\n",
       "                    border: 1px solid #cfcfcf;\n",
       "                    border-radius: 4px;\n",
       "                    text-align: center;\n",
       "                    position: relative;\">\n",
       "                  <div class=\"pb-text\" style=\"\n",
       "                      position: absolute;\n",
       "                      width: 100%;\">\n",
       "                    0%\n",
       "                  </div>\n",
       "                  <div class=\"pb-fill\" style=\"\n",
       "                      background-color: #bdd2e6;\n",
       "                      width: 0%;\">\n",
       "                    <style type=\"text/css\" scoped=\"scoped\">\n",
       "                        @keyframes pb-fill-anim {\n",
       "                            0% { background-position: 0 0; }\n",
       "                            100% { background-position: 100px 0; }\n",
       "                        }\n",
       "                    </style>\n",
       "                    &nbsp;\n",
       "                  </div>\n",
       "                </div>"
      ],
      "text/plain": [
       "HtmlProgressBar cannot be displayed. Please use the TerminalProgressBar. It can be enabled with `nengo.rc.set('progress', 'progress_bar', 'nengo.utils.progress.TerminalProgressBar')`."
      ]
     },
     "metadata": {},
     "output_type": "display_data"
    },
    {
     "data": {
      "application/javascript": [
       "\n",
       "              (function () {\n",
       "                  var root = document.getElementById('db7c1a62-0caf-47c6-9c44-110fd3bcf212');\n",
       "                  var text = root.getElementsByClassName('pb-text')[0];\n",
       "                  var fill = root.getElementsByClassName('pb-fill')[0];\n",
       "\n",
       "                  text.innerHTML = 'Simulation finished in 0:02:52.';\n",
       "                  \n",
       "            if (100.0 > 0.) {\n",
       "                fill.style.transition = 'width 0.1s linear';\n",
       "            } else {\n",
       "                fill.style.transition = 'none';\n",
       "            }\n",
       "\n",
       "            fill.style.width = '100.0%';\n",
       "            fill.style.animation = 'none';\n",
       "            fill.style.backgroundImage = 'none'\n",
       "        \n",
       "                  \n",
       "                fill.style.animation = 'none';\n",
       "                fill.style.backgroundImage = 'none';\n",
       "            \n",
       "              })();\n",
       "        "
      ],
      "text/plain": [
       "<IPython.core.display.Javascript object>"
      ]
     },
     "metadata": {},
     "output_type": "display_data"
    },
    {
     "name": "stdout",
     "output_type": "stream",
     "text": [
      "seed = 2\n",
      "backend = 'nengo_ocl'\n",
      "dt = 0.001\n",
      "neuron_type = 'default'\n",
      "n_neurons_scale = 1\n",
      "s_crosstalk = 0.0\n",
      "s_evidence = 3.75\n",
      "t_senso = 0.175\n",
      "vocab = <nengo_spa.vocabulary.Vocabulary object at 0x7f31b0d3ac90>\n",
      "xp = <experiments.Xp1 object at 0x7f31afab4050>\n",
      "proc_feedback = 0.5\n",
      "GW_feedback = 0.95\n",
      "GW_scale = 20\n",
      "BG_thr = 0.1\n",
      "BG_bias = 0.5\n",
      "data = <data.Data object at 0x7f319864ce50>\n",
      "\t seed 3/5\n",
      "running run_seed3_scross0.0_sevid3.75\n"
     ]
    },
    {
     "data": {
      "text/html": [
       "\n",
       "                <div id=\"c1d91f80-78f1-4f28-b0ed-8b09c80f5358\" style=\"\n",
       "                    width: 100%;\n",
       "                    border: 1px solid #cfcfcf;\n",
       "                    border-radius: 4px;\n",
       "                    text-align: center;\n",
       "                    position: relative;\">\n",
       "                  <div class=\"pb-text\" style=\"\n",
       "                      position: absolute;\n",
       "                      width: 100%;\">\n",
       "                    0%\n",
       "                  </div>\n",
       "                  <div class=\"pb-fill\" style=\"\n",
       "                      background-color: #bdd2e6;\n",
       "                      width: 0%;\">\n",
       "                    <style type=\"text/css\" scoped=\"scoped\">\n",
       "                        @keyframes pb-fill-anim {\n",
       "                            0% { background-position: 0 0; }\n",
       "                            100% { background-position: 100px 0; }\n",
       "                        }\n",
       "                    </style>\n",
       "                    &nbsp;\n",
       "                  </div>\n",
       "                </div>"
      ],
      "text/plain": [
       "HtmlProgressBar cannot be displayed. Please use the TerminalProgressBar. It can be enabled with `nengo.rc.set('progress', 'progress_bar', 'nengo.utils.progress.TerminalProgressBar')`."
      ]
     },
     "metadata": {},
     "output_type": "display_data"
    },
    {
     "data": {
      "application/javascript": [
       "\n",
       "              (function () {\n",
       "                  var root = document.getElementById('c1d91f80-78f1-4f28-b0ed-8b09c80f5358');\n",
       "                  var text = root.getElementsByClassName('pb-text')[0];\n",
       "                  var fill = root.getElementsByClassName('pb-fill')[0];\n",
       "\n",
       "                  text.innerHTML = 'Simulation finished in 0:02:56.';\n",
       "                  \n",
       "            if (100.0 > 0.) {\n",
       "                fill.style.transition = 'width 0.1s linear';\n",
       "            } else {\n",
       "                fill.style.transition = 'none';\n",
       "            }\n",
       "\n",
       "            fill.style.width = '100.0%';\n",
       "            fill.style.animation = 'none';\n",
       "            fill.style.backgroundImage = 'none'\n",
       "        \n",
       "                  \n",
       "                fill.style.animation = 'none';\n",
       "                fill.style.backgroundImage = 'none';\n",
       "            \n",
       "              })();\n",
       "        "
      ],
      "text/plain": [
       "<IPython.core.display.Javascript object>"
      ]
     },
     "metadata": {},
     "output_type": "display_data"
    },
    {
     "name": "stdout",
     "output_type": "stream",
     "text": [
      "seed = 3\n",
      "backend = 'nengo_ocl'\n",
      "dt = 0.001\n",
      "neuron_type = 'default'\n",
      "n_neurons_scale = 1\n",
      "s_crosstalk = 0.0\n",
      "s_evidence = 3.75\n",
      "t_senso = 0.175\n",
      "vocab = <nengo_spa.vocabulary.Vocabulary object at 0x7f319861f890>\n",
      "xp = <experiments.Xp1 object at 0x7f31b0d3a990>\n",
      "proc_feedback = 0.5\n",
      "GW_feedback = 0.95\n",
      "GW_scale = 20\n",
      "BG_thr = 0.1\n",
      "BG_bias = 0.5\n",
      "data = <data.Data object at 0x7f31ea4d5dd0>\n",
      "\t seed 4/5\n",
      "running run_seed4_scross0.0_sevid3.75\n"
     ]
    },
    {
     "data": {
      "text/html": [
       "\n",
       "                <div id=\"94e3673c-f3df-4a27-9fbd-8e7dd9059f61\" style=\"\n",
       "                    width: 100%;\n",
       "                    border: 1px solid #cfcfcf;\n",
       "                    border-radius: 4px;\n",
       "                    text-align: center;\n",
       "                    position: relative;\">\n",
       "                  <div class=\"pb-text\" style=\"\n",
       "                      position: absolute;\n",
       "                      width: 100%;\">\n",
       "                    0%\n",
       "                  </div>\n",
       "                  <div class=\"pb-fill\" style=\"\n",
       "                      background-color: #bdd2e6;\n",
       "                      width: 0%;\">\n",
       "                    <style type=\"text/css\" scoped=\"scoped\">\n",
       "                        @keyframes pb-fill-anim {\n",
       "                            0% { background-position: 0 0; }\n",
       "                            100% { background-position: 100px 0; }\n",
       "                        }\n",
       "                    </style>\n",
       "                    &nbsp;\n",
       "                  </div>\n",
       "                </div>"
      ],
      "text/plain": [
       "HtmlProgressBar cannot be displayed. Please use the TerminalProgressBar. It can be enabled with `nengo.rc.set('progress', 'progress_bar', 'nengo.utils.progress.TerminalProgressBar')`."
      ]
     },
     "metadata": {},
     "output_type": "display_data"
    },
    {
     "data": {
      "application/javascript": [
       "\n",
       "              (function () {\n",
       "                  var root = document.getElementById('94e3673c-f3df-4a27-9fbd-8e7dd9059f61');\n",
       "                  var text = root.getElementsByClassName('pb-text')[0];\n",
       "                  var fill = root.getElementsByClassName('pb-fill')[0];\n",
       "\n",
       "                  text.innerHTML = 'Simulation finished in 0:02:53.';\n",
       "                  \n",
       "            if (100.0 > 0.) {\n",
       "                fill.style.transition = 'width 0.1s linear';\n",
       "            } else {\n",
       "                fill.style.transition = 'none';\n",
       "            }\n",
       "\n",
       "            fill.style.width = '100.0%';\n",
       "            fill.style.animation = 'none';\n",
       "            fill.style.backgroundImage = 'none'\n",
       "        \n",
       "                  \n",
       "                fill.style.animation = 'none';\n",
       "                fill.style.backgroundImage = 'none';\n",
       "            \n",
       "              })();\n",
       "        "
      ],
      "text/plain": [
       "<IPython.core.display.Javascript object>"
      ]
     },
     "metadata": {},
     "output_type": "display_data"
    },
    {
     "name": "stdout",
     "output_type": "stream",
     "text": [
      "seed = 4\n",
      "backend = 'nengo_ocl'\n",
      "dt = 0.001\n",
      "neuron_type = 'default'\n",
      "n_neurons_scale = 1\n",
      "s_crosstalk = 0.0\n",
      "s_evidence = 3.75\n",
      "t_senso = 0.175\n",
      "vocab = <nengo_spa.vocabulary.Vocabulary object at 0x7f31eb28be90>\n",
      "xp = <experiments.Xp1 object at 0x7f319864c410>\n",
      "proc_feedback = 0.5\n",
      "GW_feedback = 0.95\n",
      "GW_scale = 20\n",
      "BG_thr = 0.1\n",
      "BG_bias = 0.5\n",
      "data = <data.Data object at 0x7f31eb921610>\n",
      "\t seed 5/5\n",
      "running run_seed5_scross0.0_sevid3.75\n"
     ]
    },
    {
     "data": {
      "text/html": [
       "\n",
       "                <div id=\"5befb949-01e8-4fb2-bd1b-405d12cfafbe\" style=\"\n",
       "                    width: 100%;\n",
       "                    border: 1px solid #cfcfcf;\n",
       "                    border-radius: 4px;\n",
       "                    text-align: center;\n",
       "                    position: relative;\">\n",
       "                  <div class=\"pb-text\" style=\"\n",
       "                      position: absolute;\n",
       "                      width: 100%;\">\n",
       "                    0%\n",
       "                  </div>\n",
       "                  <div class=\"pb-fill\" style=\"\n",
       "                      background-color: #bdd2e6;\n",
       "                      width: 0%;\">\n",
       "                    <style type=\"text/css\" scoped=\"scoped\">\n",
       "                        @keyframes pb-fill-anim {\n",
       "                            0% { background-position: 0 0; }\n",
       "                            100% { background-position: 100px 0; }\n",
       "                        }\n",
       "                    </style>\n",
       "                    &nbsp;\n",
       "                  </div>\n",
       "                </div>"
      ],
      "text/plain": [
       "HtmlProgressBar cannot be displayed. Please use the TerminalProgressBar. It can be enabled with `nengo.rc.set('progress', 'progress_bar', 'nengo.utils.progress.TerminalProgressBar')`."
      ]
     },
     "metadata": {},
     "output_type": "display_data"
    },
    {
     "data": {
      "application/javascript": [
       "\n",
       "              (function () {\n",
       "                  var root = document.getElementById('5befb949-01e8-4fb2-bd1b-405d12cfafbe');\n",
       "                  var text = root.getElementsByClassName('pb-text')[0];\n",
       "                  var fill = root.getElementsByClassName('pb-fill')[0];\n",
       "\n",
       "                  text.innerHTML = 'Simulation finished in 0:03:03.';\n",
       "                  \n",
       "            if (100.0 > 0.) {\n",
       "                fill.style.transition = 'width 0.1s linear';\n",
       "            } else {\n",
       "                fill.style.transition = 'none';\n",
       "            }\n",
       "\n",
       "            fill.style.width = '100.0%';\n",
       "            fill.style.animation = 'none';\n",
       "            fill.style.backgroundImage = 'none'\n",
       "        \n",
       "                  \n",
       "                fill.style.animation = 'none';\n",
       "                fill.style.backgroundImage = 'none';\n",
       "            \n",
       "              })();\n",
       "        "
      ],
      "text/plain": [
       "<IPython.core.display.Javascript object>"
      ]
     },
     "metadata": {},
     "output_type": "display_data"
    },
    {
     "name": "stdout",
     "output_type": "stream",
     "text": [
      "seed = 5\n",
      "backend = 'nengo_ocl'\n",
      "dt = 0.001\n",
      "neuron_type = 'default'\n",
      "n_neurons_scale = 1\n",
      "s_crosstalk = 0.0\n",
      "s_evidence = 3.75\n",
      "t_senso = 0.175\n",
      "vocab = <nengo_spa.vocabulary.Vocabulary object at 0x7f31eb984e50>\n",
      "xp = <experiments.Xp1 object at 0x7f31b07a5bd0>\n",
      "proc_feedback = 0.5\n",
      "GW_feedback = 0.95\n",
      "GW_scale = 20\n",
      "BG_thr = 0.1\n",
      "BG_bias = 0.5\n",
      "data = <data.Data object at 0x7f31b4de06d0>\n",
      "error: 97.66088390976782\n",
      "params: [0.  7.5]\n",
      "Simulating...\n",
      "\t seed 1/5\n",
      "running run_seed1_scross0.0_sevid7.5\n"
     ]
    },
    {
     "data": {
      "text/html": [
       "\n",
       "                <div id=\"d7138fc8-66c6-4ce0-84d4-a1954955312a\" style=\"\n",
       "                    width: 100%;\n",
       "                    border: 1px solid #cfcfcf;\n",
       "                    border-radius: 4px;\n",
       "                    text-align: center;\n",
       "                    position: relative;\">\n",
       "                  <div class=\"pb-text\" style=\"\n",
       "                      position: absolute;\n",
       "                      width: 100%;\">\n",
       "                    0%\n",
       "                  </div>\n",
       "                  <div class=\"pb-fill\" style=\"\n",
       "                      background-color: #bdd2e6;\n",
       "                      width: 0%;\">\n",
       "                    <style type=\"text/css\" scoped=\"scoped\">\n",
       "                        @keyframes pb-fill-anim {\n",
       "                            0% { background-position: 0 0; }\n",
       "                            100% { background-position: 100px 0; }\n",
       "                        }\n",
       "                    </style>\n",
       "                    &nbsp;\n",
       "                  </div>\n",
       "                </div>"
      ],
      "text/plain": [
       "HtmlProgressBar cannot be displayed. Please use the TerminalProgressBar. It can be enabled with `nengo.rc.set('progress', 'progress_bar', 'nengo.utils.progress.TerminalProgressBar')`."
      ]
     },
     "metadata": {},
     "output_type": "display_data"
    },
    {
     "data": {
      "application/javascript": [
       "\n",
       "              (function () {\n",
       "                  var root = document.getElementById('d7138fc8-66c6-4ce0-84d4-a1954955312a');\n",
       "                  var text = root.getElementsByClassName('pb-text')[0];\n",
       "                  var fill = root.getElementsByClassName('pb-fill')[0];\n",
       "\n",
       "                  text.innerHTML = 'Simulation finished in 0:03:07.';\n",
       "                  \n",
       "            if (100.0 > 0.) {\n",
       "                fill.style.transition = 'width 0.1s linear';\n",
       "            } else {\n",
       "                fill.style.transition = 'none';\n",
       "            }\n",
       "\n",
       "            fill.style.width = '100.0%';\n",
       "            fill.style.animation = 'none';\n",
       "            fill.style.backgroundImage = 'none'\n",
       "        \n",
       "                  \n",
       "                fill.style.animation = 'none';\n",
       "                fill.style.backgroundImage = 'none';\n",
       "            \n",
       "              })();\n",
       "        "
      ],
      "text/plain": [
       "<IPython.core.display.Javascript object>"
      ]
     },
     "metadata": {},
     "output_type": "display_data"
    },
    {
     "name": "stdout",
     "output_type": "stream",
     "text": [
      "seed = 1\n",
      "backend = 'nengo_ocl'\n",
      "dt = 0.001\n",
      "neuron_type = 'default'\n",
      "n_neurons_scale = 1\n",
      "s_crosstalk = 0.0\n",
      "s_evidence = 7.5\n",
      "t_senso = 0.175\n",
      "vocab = <nengo_spa.vocabulary.Vocabulary object at 0x7f31b07a58d0>\n",
      "xp = <experiments.Xp1 object at 0x7f3198649e90>\n",
      "proc_feedback = 0.5\n",
      "GW_feedback = 0.95\n",
      "GW_scale = 20\n",
      "BG_thr = 0.1\n",
      "BG_bias = 0.5\n",
      "data = <data.Data object at 0x7f31af84c9d0>\n",
      "\t seed 2/5\n",
      "running run_seed2_scross0.0_sevid7.5\n"
     ]
    },
    {
     "data": {
      "text/html": [
       "\n",
       "                <div id=\"da415227-f9c9-4274-9cee-20f044458279\" style=\"\n",
       "                    width: 100%;\n",
       "                    border: 1px solid #cfcfcf;\n",
       "                    border-radius: 4px;\n",
       "                    text-align: center;\n",
       "                    position: relative;\">\n",
       "                  <div class=\"pb-text\" style=\"\n",
       "                      position: absolute;\n",
       "                      width: 100%;\">\n",
       "                    0%\n",
       "                  </div>\n",
       "                  <div class=\"pb-fill\" style=\"\n",
       "                      background-color: #bdd2e6;\n",
       "                      width: 0%;\">\n",
       "                    <style type=\"text/css\" scoped=\"scoped\">\n",
       "                        @keyframes pb-fill-anim {\n",
       "                            0% { background-position: 0 0; }\n",
       "                            100% { background-position: 100px 0; }\n",
       "                        }\n",
       "                    </style>\n",
       "                    &nbsp;\n",
       "                  </div>\n",
       "                </div>"
      ],
      "text/plain": [
       "HtmlProgressBar cannot be displayed. Please use the TerminalProgressBar. It can be enabled with `nengo.rc.set('progress', 'progress_bar', 'nengo.utils.progress.TerminalProgressBar')`."
      ]
     },
     "metadata": {},
     "output_type": "display_data"
    },
    {
     "data": {
      "application/javascript": [
       "\n",
       "              (function () {\n",
       "                  var root = document.getElementById('da415227-f9c9-4274-9cee-20f044458279');\n",
       "                  var text = root.getElementsByClassName('pb-text')[0];\n",
       "                  var fill = root.getElementsByClassName('pb-fill')[0];\n",
       "\n",
       "                  text.innerHTML = 'Simulation finished in 0:03:11.';\n",
       "                  \n",
       "            if (100.0 > 0.) {\n",
       "                fill.style.transition = 'width 0.1s linear';\n",
       "            } else {\n",
       "                fill.style.transition = 'none';\n",
       "            }\n",
       "\n",
       "            fill.style.width = '100.0%';\n",
       "            fill.style.animation = 'none';\n",
       "            fill.style.backgroundImage = 'none'\n",
       "        \n",
       "                  \n",
       "                fill.style.animation = 'none';\n",
       "                fill.style.backgroundImage = 'none';\n",
       "            \n",
       "              })();\n",
       "        "
      ],
      "text/plain": [
       "<IPython.core.display.Javascript object>"
      ]
     },
     "metadata": {},
     "output_type": "display_data"
    },
    {
     "name": "stdout",
     "output_type": "stream",
     "text": [
      "seed = 2\n",
      "backend = 'nengo_ocl'\n",
      "dt = 0.001\n",
      "neuron_type = 'default'\n",
      "n_neurons_scale = 1\n",
      "s_crosstalk = 0.0\n",
      "s_evidence = 7.5\n",
      "t_senso = 0.175\n",
      "vocab = <nengo_spa.vocabulary.Vocabulary object at 0x7f31b2dedbd0>\n",
      "xp = <experiments.Xp1 object at 0x7f319864c490>\n",
      "proc_feedback = 0.5\n",
      "GW_feedback = 0.95\n",
      "GW_scale = 20\n",
      "BG_thr = 0.1\n",
      "BG_bias = 0.5\n",
      "data = <data.Data object at 0x7f31eb404c50>\n",
      "\t seed 3/5\n",
      "running run_seed3_scross0.0_sevid7.5\n"
     ]
    },
    {
     "data": {
      "text/html": [
       "\n",
       "                <div id=\"cbfbb239-3e38-45f1-b1c6-54c36be08f5a\" style=\"\n",
       "                    width: 100%;\n",
       "                    border: 1px solid #cfcfcf;\n",
       "                    border-radius: 4px;\n",
       "                    text-align: center;\n",
       "                    position: relative;\">\n",
       "                  <div class=\"pb-text\" style=\"\n",
       "                      position: absolute;\n",
       "                      width: 100%;\">\n",
       "                    0%\n",
       "                  </div>\n",
       "                  <div class=\"pb-fill\" style=\"\n",
       "                      background-color: #bdd2e6;\n",
       "                      width: 0%;\">\n",
       "                    <style type=\"text/css\" scoped=\"scoped\">\n",
       "                        @keyframes pb-fill-anim {\n",
       "                            0% { background-position: 0 0; }\n",
       "                            100% { background-position: 100px 0; }\n",
       "                        }\n",
       "                    </style>\n",
       "                    &nbsp;\n",
       "                  </div>\n",
       "                </div>"
      ],
      "text/plain": [
       "HtmlProgressBar cannot be displayed. Please use the TerminalProgressBar. It can be enabled with `nengo.rc.set('progress', 'progress_bar', 'nengo.utils.progress.TerminalProgressBar')`."
      ]
     },
     "metadata": {},
     "output_type": "display_data"
    },
    {
     "data": {
      "application/javascript": [
       "\n",
       "              (function () {\n",
       "                  var root = document.getElementById('cbfbb239-3e38-45f1-b1c6-54c36be08f5a');\n",
       "                  var text = root.getElementsByClassName('pb-text')[0];\n",
       "                  var fill = root.getElementsByClassName('pb-fill')[0];\n",
       "\n",
       "                  text.innerHTML = 'Simulation finished in 0:03:07.';\n",
       "                  \n",
       "            if (100.0 > 0.) {\n",
       "                fill.style.transition = 'width 0.1s linear';\n",
       "            } else {\n",
       "                fill.style.transition = 'none';\n",
       "            }\n",
       "\n",
       "            fill.style.width = '100.0%';\n",
       "            fill.style.animation = 'none';\n",
       "            fill.style.backgroundImage = 'none'\n",
       "        \n",
       "                  \n",
       "                fill.style.animation = 'none';\n",
       "                fill.style.backgroundImage = 'none';\n",
       "            \n",
       "              })();\n",
       "        "
      ],
      "text/plain": [
       "<IPython.core.display.Javascript object>"
      ]
     },
     "metadata": {},
     "output_type": "display_data"
    },
    {
     "name": "stdout",
     "output_type": "stream",
     "text": [
      "seed = 3\n",
      "backend = 'nengo_ocl'\n",
      "dt = 0.001\n",
      "neuron_type = 'default'\n",
      "n_neurons_scale = 1\n",
      "s_crosstalk = 0.0\n",
      "s_evidence = 7.5\n",
      "t_senso = 0.175\n",
      "vocab = <nengo_spa.vocabulary.Vocabulary object at 0x7f31ebb33650>\n",
      "xp = <experiments.Xp1 object at 0x7f31b2ded210>\n",
      "proc_feedback = 0.5\n",
      "GW_feedback = 0.95\n",
      "GW_scale = 20\n",
      "BG_thr = 0.1\n",
      "BG_bias = 0.5\n",
      "data = <data.Data object at 0x7f31af9d0450>\n",
      "\t seed 4/5\n",
      "running run_seed4_scross0.0_sevid7.5\n"
     ]
    },
    {
     "data": {
      "text/html": [
       "\n",
       "                <div id=\"81dc8230-c43a-43e9-9746-895d3bed2351\" style=\"\n",
       "                    width: 100%;\n",
       "                    border: 1px solid #cfcfcf;\n",
       "                    border-radius: 4px;\n",
       "                    text-align: center;\n",
       "                    position: relative;\">\n",
       "                  <div class=\"pb-text\" style=\"\n",
       "                      position: absolute;\n",
       "                      width: 100%;\">\n",
       "                    0%\n",
       "                  </div>\n",
       "                  <div class=\"pb-fill\" style=\"\n",
       "                      background-color: #bdd2e6;\n",
       "                      width: 0%;\">\n",
       "                    <style type=\"text/css\" scoped=\"scoped\">\n",
       "                        @keyframes pb-fill-anim {\n",
       "                            0% { background-position: 0 0; }\n",
       "                            100% { background-position: 100px 0; }\n",
       "                        }\n",
       "                    </style>\n",
       "                    &nbsp;\n",
       "                  </div>\n",
       "                </div>"
      ],
      "text/plain": [
       "HtmlProgressBar cannot be displayed. Please use the TerminalProgressBar. It can be enabled with `nengo.rc.set('progress', 'progress_bar', 'nengo.utils.progress.TerminalProgressBar')`."
      ]
     },
     "metadata": {},
     "output_type": "display_data"
    },
    {
     "data": {
      "application/javascript": [
       "\n",
       "              (function () {\n",
       "                  var root = document.getElementById('81dc8230-c43a-43e9-9746-895d3bed2351');\n",
       "                  var text = root.getElementsByClassName('pb-text')[0];\n",
       "                  var fill = root.getElementsByClassName('pb-fill')[0];\n",
       "\n",
       "                  text.innerHTML = 'Simulation finished in 0:02:54.';\n",
       "                  \n",
       "            if (100.0 > 0.) {\n",
       "                fill.style.transition = 'width 0.1s linear';\n",
       "            } else {\n",
       "                fill.style.transition = 'none';\n",
       "            }\n",
       "\n",
       "            fill.style.width = '100.0%';\n",
       "            fill.style.animation = 'none';\n",
       "            fill.style.backgroundImage = 'none'\n",
       "        \n",
       "                  \n",
       "                fill.style.animation = 'none';\n",
       "                fill.style.backgroundImage = 'none';\n",
       "            \n",
       "              })();\n",
       "        "
      ],
      "text/plain": [
       "<IPython.core.display.Javascript object>"
      ]
     },
     "metadata": {},
     "output_type": "display_data"
    },
    {
     "name": "stdout",
     "output_type": "stream",
     "text": [
      "seed = 4\n",
      "backend = 'nengo_ocl'\n",
      "dt = 0.001\n",
      "neuron_type = 'default'\n",
      "n_neurons_scale = 1\n",
      "s_crosstalk = 0.0\n",
      "s_evidence = 7.5\n",
      "t_senso = 0.175\n",
      "vocab = <nengo_spa.vocabulary.Vocabulary object at 0x7f31eb048790>\n",
      "xp = <experiments.Xp1 object at 0x7f31eb048090>\n",
      "proc_feedback = 0.5\n",
      "GW_feedback = 0.95\n",
      "GW_scale = 20\n",
      "BG_thr = 0.1\n",
      "BG_bias = 0.5\n",
      "data = <data.Data object at 0x7f31afd780d0>\n",
      "\t seed 5/5\n",
      "running run_seed5_scross0.0_sevid7.5\n"
     ]
    },
    {
     "data": {
      "text/html": [
       "\n",
       "                <div id=\"9e3e4421-0739-4b11-af6e-842e969cceea\" style=\"\n",
       "                    width: 100%;\n",
       "                    border: 1px solid #cfcfcf;\n",
       "                    border-radius: 4px;\n",
       "                    text-align: center;\n",
       "                    position: relative;\">\n",
       "                  <div class=\"pb-text\" style=\"\n",
       "                      position: absolute;\n",
       "                      width: 100%;\">\n",
       "                    0%\n",
       "                  </div>\n",
       "                  <div class=\"pb-fill\" style=\"\n",
       "                      background-color: #bdd2e6;\n",
       "                      width: 0%;\">\n",
       "                    <style type=\"text/css\" scoped=\"scoped\">\n",
       "                        @keyframes pb-fill-anim {\n",
       "                            0% { background-position: 0 0; }\n",
       "                            100% { background-position: 100px 0; }\n",
       "                        }\n",
       "                    </style>\n",
       "                    &nbsp;\n",
       "                  </div>\n",
       "                </div>"
      ],
      "text/plain": [
       "HtmlProgressBar cannot be displayed. Please use the TerminalProgressBar. It can be enabled with `nengo.rc.set('progress', 'progress_bar', 'nengo.utils.progress.TerminalProgressBar')`."
      ]
     },
     "metadata": {},
     "output_type": "display_data"
    },
    {
     "data": {
      "application/javascript": [
       "\n",
       "              (function () {\n",
       "                  var root = document.getElementById('9e3e4421-0739-4b11-af6e-842e969cceea');\n",
       "                  var text = root.getElementsByClassName('pb-text')[0];\n",
       "                  var fill = root.getElementsByClassName('pb-fill')[0];\n",
       "\n",
       "                  text.innerHTML = 'Simulation finished in 0:02:56.';\n",
       "                  \n",
       "            if (100.0 > 0.) {\n",
       "                fill.style.transition = 'width 0.1s linear';\n",
       "            } else {\n",
       "                fill.style.transition = 'none';\n",
       "            }\n",
       "\n",
       "            fill.style.width = '100.0%';\n",
       "            fill.style.animation = 'none';\n",
       "            fill.style.backgroundImage = 'none'\n",
       "        \n",
       "                  \n",
       "                fill.style.animation = 'none';\n",
       "                fill.style.backgroundImage = 'none';\n",
       "            \n",
       "              })();\n",
       "        "
      ],
      "text/plain": [
       "<IPython.core.display.Javascript object>"
      ]
     },
     "metadata": {},
     "output_type": "display_data"
    },
    {
     "name": "stdout",
     "output_type": "stream",
     "text": [
      "seed = 5\n",
      "backend = 'nengo_ocl'\n",
      "dt = 0.001\n",
      "neuron_type = 'default'\n",
      "n_neurons_scale = 1\n",
      "s_crosstalk = 0.0\n",
      "s_evidence = 7.5\n",
      "t_senso = 0.175\n",
      "vocab = <nengo_spa.vocabulary.Vocabulary object at 0x7f31ebb68dd0>\n",
      "xp = <experiments.Xp1 object at 0x7f31eb0484d0>\n",
      "proc_feedback = 0.5\n",
      "GW_feedback = 0.95\n",
      "GW_scale = 20\n",
      "BG_thr = 0.1\n",
      "BG_bias = 0.5\n",
      "data = <data.Data object at 0x7f31eb04a450>\n",
      "error: 97.66088390976782\n",
      "params: [ 0.   11.25]\n",
      "Simulating...\n",
      "\t seed 1/5\n",
      "running run_seed1_scross0.0_sevid11.25\n"
     ]
    },
    {
     "data": {
      "text/html": [
       "\n",
       "                <div id=\"29d6a00d-cc00-4455-9158-7866037e13c2\" style=\"\n",
       "                    width: 100%;\n",
       "                    border: 1px solid #cfcfcf;\n",
       "                    border-radius: 4px;\n",
       "                    text-align: center;\n",
       "                    position: relative;\">\n",
       "                  <div class=\"pb-text\" style=\"\n",
       "                      position: absolute;\n",
       "                      width: 100%;\">\n",
       "                    0%\n",
       "                  </div>\n",
       "                  <div class=\"pb-fill\" style=\"\n",
       "                      background-color: #bdd2e6;\n",
       "                      width: 0%;\">\n",
       "                    <style type=\"text/css\" scoped=\"scoped\">\n",
       "                        @keyframes pb-fill-anim {\n",
       "                            0% { background-position: 0 0; }\n",
       "                            100% { background-position: 100px 0; }\n",
       "                        }\n",
       "                    </style>\n",
       "                    &nbsp;\n",
       "                  </div>\n",
       "                </div>"
      ],
      "text/plain": [
       "HtmlProgressBar cannot be displayed. Please use the TerminalProgressBar. It can be enabled with `nengo.rc.set('progress', 'progress_bar', 'nengo.utils.progress.TerminalProgressBar')`."
      ]
     },
     "metadata": {},
     "output_type": "display_data"
    },
    {
     "data": {
      "application/javascript": [
       "\n",
       "              (function () {\n",
       "                  var root = document.getElementById('29d6a00d-cc00-4455-9158-7866037e13c2');\n",
       "                  var text = root.getElementsByClassName('pb-text')[0];\n",
       "                  var fill = root.getElementsByClassName('pb-fill')[0];\n",
       "\n",
       "                  text.innerHTML = 'Simulation finished in 0:03:07.';\n",
       "                  \n",
       "            if (100.0 > 0.) {\n",
       "                fill.style.transition = 'width 0.1s linear';\n",
       "            } else {\n",
       "                fill.style.transition = 'none';\n",
       "            }\n",
       "\n",
       "            fill.style.width = '100.0%';\n",
       "            fill.style.animation = 'none';\n",
       "            fill.style.backgroundImage = 'none'\n",
       "        \n",
       "                  \n",
       "                fill.style.animation = 'none';\n",
       "                fill.style.backgroundImage = 'none';\n",
       "            \n",
       "              })();\n",
       "        "
      ],
      "text/plain": [
       "<IPython.core.display.Javascript object>"
      ]
     },
     "metadata": {},
     "output_type": "display_data"
    },
    {
     "name": "stdout",
     "output_type": "stream",
     "text": [
      "seed = 1\n",
      "backend = 'nengo_ocl'\n",
      "dt = 0.001\n",
      "neuron_type = 'default'\n",
      "n_neurons_scale = 1\n",
      "s_crosstalk = 0.0\n",
      "s_evidence = 11.25\n",
      "t_senso = 0.175\n",
      "vocab = <nengo_spa.vocabulary.Vocabulary object at 0x7f31b0335410>\n",
      "xp = <experiments.Xp1 object at 0x7f31b0335350>\n",
      "proc_feedback = 0.5\n",
      "GW_feedback = 0.95\n",
      "GW_scale = 20\n",
      "BG_thr = 0.1\n",
      "BG_bias = 0.5\n",
      "data = <data.Data object at 0x7f31eb058b50>\n",
      "\t seed 2/5\n",
      "running run_seed2_scross0.0_sevid11.25\n"
     ]
    },
    {
     "data": {
      "text/html": [
       "\n",
       "                <div id=\"1e00899c-d5ce-4056-a9df-9051e2326d8a\" style=\"\n",
       "                    width: 100%;\n",
       "                    border: 1px solid #cfcfcf;\n",
       "                    border-radius: 4px;\n",
       "                    text-align: center;\n",
       "                    position: relative;\">\n",
       "                  <div class=\"pb-text\" style=\"\n",
       "                      position: absolute;\n",
       "                      width: 100%;\">\n",
       "                    0%\n",
       "                  </div>\n",
       "                  <div class=\"pb-fill\" style=\"\n",
       "                      background-color: #bdd2e6;\n",
       "                      width: 0%;\">\n",
       "                    <style type=\"text/css\" scoped=\"scoped\">\n",
       "                        @keyframes pb-fill-anim {\n",
       "                            0% { background-position: 0 0; }\n",
       "                            100% { background-position: 100px 0; }\n",
       "                        }\n",
       "                    </style>\n",
       "                    &nbsp;\n",
       "                  </div>\n",
       "                </div>"
      ],
      "text/plain": [
       "HtmlProgressBar cannot be displayed. Please use the TerminalProgressBar. It can be enabled with `nengo.rc.set('progress', 'progress_bar', 'nengo.utils.progress.TerminalProgressBar')`."
      ]
     },
     "metadata": {},
     "output_type": "display_data"
    },
    {
     "data": {
      "application/javascript": [
       "\n",
       "              (function () {\n",
       "                  var root = document.getElementById('1e00899c-d5ce-4056-a9df-9051e2326d8a');\n",
       "                  var text = root.getElementsByClassName('pb-text')[0];\n",
       "                  var fill = root.getElementsByClassName('pb-fill')[0];\n",
       "\n",
       "                  text.innerHTML = 'Simulation finished in 0:03:12.';\n",
       "                  \n",
       "            if (100.0 > 0.) {\n",
       "                fill.style.transition = 'width 0.1s linear';\n",
       "            } else {\n",
       "                fill.style.transition = 'none';\n",
       "            }\n",
       "\n",
       "            fill.style.width = '100.0%';\n",
       "            fill.style.animation = 'none';\n",
       "            fill.style.backgroundImage = 'none'\n",
       "        \n",
       "                  \n",
       "                fill.style.animation = 'none';\n",
       "                fill.style.backgroundImage = 'none';\n",
       "            \n",
       "              })();\n",
       "        "
      ],
      "text/plain": [
       "<IPython.core.display.Javascript object>"
      ]
     },
     "metadata": {},
     "output_type": "display_data"
    },
    {
     "name": "stdout",
     "output_type": "stream",
     "text": [
      "seed = 2\n",
      "backend = 'nengo_ocl'\n",
      "dt = 0.001\n",
      "neuron_type = 'default'\n",
      "n_neurons_scale = 1\n",
      "s_crosstalk = 0.0\n",
      "s_evidence = 11.25\n",
      "t_senso = 0.175\n",
      "vocab = <nengo_spa.vocabulary.Vocabulary object at 0x7f31b1cc2f90>\n",
      "xp = <experiments.Xp1 object at 0x7f31b0ca78d0>\n",
      "proc_feedback = 0.5\n",
      "GW_feedback = 0.95\n",
      "GW_scale = 20\n",
      "BG_thr = 0.1\n",
      "BG_bias = 0.5\n",
      "data = <data.Data object at 0x7f31b2c447d0>\n",
      "\t seed 3/5\n",
      "running run_seed3_scross0.0_sevid11.25\n"
     ]
    },
    {
     "data": {
      "text/html": [
       "\n",
       "                <div id=\"55693003-f073-4b30-8f59-2e4cd22b85d2\" style=\"\n",
       "                    width: 100%;\n",
       "                    border: 1px solid #cfcfcf;\n",
       "                    border-radius: 4px;\n",
       "                    text-align: center;\n",
       "                    position: relative;\">\n",
       "                  <div class=\"pb-text\" style=\"\n",
       "                      position: absolute;\n",
       "                      width: 100%;\">\n",
       "                    0%\n",
       "                  </div>\n",
       "                  <div class=\"pb-fill\" style=\"\n",
       "                      background-color: #bdd2e6;\n",
       "                      width: 0%;\">\n",
       "                    <style type=\"text/css\" scoped=\"scoped\">\n",
       "                        @keyframes pb-fill-anim {\n",
       "                            0% { background-position: 0 0; }\n",
       "                            100% { background-position: 100px 0; }\n",
       "                        }\n",
       "                    </style>\n",
       "                    &nbsp;\n",
       "                  </div>\n",
       "                </div>"
      ],
      "text/plain": [
       "HtmlProgressBar cannot be displayed. Please use the TerminalProgressBar. It can be enabled with `nengo.rc.set('progress', 'progress_bar', 'nengo.utils.progress.TerminalProgressBar')`."
      ]
     },
     "metadata": {},
     "output_type": "display_data"
    },
    {
     "data": {
      "application/javascript": [
       "\n",
       "              (function () {\n",
       "                  var root = document.getElementById('55693003-f073-4b30-8f59-2e4cd22b85d2');\n",
       "                  var text = root.getElementsByClassName('pb-text')[0];\n",
       "                  var fill = root.getElementsByClassName('pb-fill')[0];\n",
       "\n",
       "                  text.innerHTML = 'Simulation finished in 0:03:13.';\n",
       "                  \n",
       "            if (100.0 > 0.) {\n",
       "                fill.style.transition = 'width 0.1s linear';\n",
       "            } else {\n",
       "                fill.style.transition = 'none';\n",
       "            }\n",
       "\n",
       "            fill.style.width = '100.0%';\n",
       "            fill.style.animation = 'none';\n",
       "            fill.style.backgroundImage = 'none'\n",
       "        \n",
       "                  \n",
       "                fill.style.animation = 'none';\n",
       "                fill.style.backgroundImage = 'none';\n",
       "            \n",
       "              })();\n",
       "        "
      ],
      "text/plain": [
       "<IPython.core.display.Javascript object>"
      ]
     },
     "metadata": {},
     "output_type": "display_data"
    },
    {
     "name": "stdout",
     "output_type": "stream",
     "text": [
      "seed = 3\n",
      "backend = 'nengo_ocl'\n",
      "dt = 0.001\n",
      "neuron_type = 'default'\n",
      "n_neurons_scale = 1\n",
      "s_crosstalk = 0.0\n",
      "s_evidence = 11.25\n",
      "t_senso = 0.175\n",
      "vocab = <nengo_spa.vocabulary.Vocabulary object at 0x7f321027aad0>\n",
      "xp = <experiments.Xp1 object at 0x7f31b56059d0>\n",
      "proc_feedback = 0.5\n",
      "GW_feedback = 0.95\n",
      "GW_scale = 20\n",
      "BG_thr = 0.1\n",
      "BG_bias = 0.5\n",
      "data = <data.Data object at 0x7f31b0cb14d0>\n",
      "\t seed 4/5\n",
      "running run_seed4_scross0.0_sevid11.25\n"
     ]
    },
    {
     "data": {
      "text/html": [
       "\n",
       "                <div id=\"3fd50044-c734-40f1-9002-0ee78119f056\" style=\"\n",
       "                    width: 100%;\n",
       "                    border: 1px solid #cfcfcf;\n",
       "                    border-radius: 4px;\n",
       "                    text-align: center;\n",
       "                    position: relative;\">\n",
       "                  <div class=\"pb-text\" style=\"\n",
       "                      position: absolute;\n",
       "                      width: 100%;\">\n",
       "                    0%\n",
       "                  </div>\n",
       "                  <div class=\"pb-fill\" style=\"\n",
       "                      background-color: #bdd2e6;\n",
       "                      width: 0%;\">\n",
       "                    <style type=\"text/css\" scoped=\"scoped\">\n",
       "                        @keyframes pb-fill-anim {\n",
       "                            0% { background-position: 0 0; }\n",
       "                            100% { background-position: 100px 0; }\n",
       "                        }\n",
       "                    </style>\n",
       "                    &nbsp;\n",
       "                  </div>\n",
       "                </div>"
      ],
      "text/plain": [
       "HtmlProgressBar cannot be displayed. Please use the TerminalProgressBar. It can be enabled with `nengo.rc.set('progress', 'progress_bar', 'nengo.utils.progress.TerminalProgressBar')`."
      ]
     },
     "metadata": {},
     "output_type": "display_data"
    },
    {
     "data": {
      "application/javascript": [
       "\n",
       "              (function () {\n",
       "                  var root = document.getElementById('3fd50044-c734-40f1-9002-0ee78119f056');\n",
       "                  var text = root.getElementsByClassName('pb-text')[0];\n",
       "                  var fill = root.getElementsByClassName('pb-fill')[0];\n",
       "\n",
       "                  text.innerHTML = 'Simulation finished in 0:03:13.';\n",
       "                  \n",
       "            if (100.0 > 0.) {\n",
       "                fill.style.transition = 'width 0.1s linear';\n",
       "            } else {\n",
       "                fill.style.transition = 'none';\n",
       "            }\n",
       "\n",
       "            fill.style.width = '100.0%';\n",
       "            fill.style.animation = 'none';\n",
       "            fill.style.backgroundImage = 'none'\n",
       "        \n",
       "                  \n",
       "                fill.style.animation = 'none';\n",
       "                fill.style.backgroundImage = 'none';\n",
       "            \n",
       "              })();\n",
       "        "
      ],
      "text/plain": [
       "<IPython.core.display.Javascript object>"
      ]
     },
     "metadata": {},
     "output_type": "display_data"
    },
    {
     "name": "stdout",
     "output_type": "stream",
     "text": [
      "seed = 4\n",
      "backend = 'nengo_ocl'\n",
      "dt = 0.001\n",
      "neuron_type = 'default'\n",
      "n_neurons_scale = 1\n",
      "s_crosstalk = 0.0\n",
      "s_evidence = 11.25\n",
      "t_senso = 0.175\n",
      "vocab = <nengo_spa.vocabulary.Vocabulary object at 0x7f31eb912e90>\n",
      "xp = <experiments.Xp1 object at 0x7f31b1cb2f50>\n",
      "proc_feedback = 0.5\n",
      "GW_feedback = 0.95\n",
      "GW_scale = 20\n",
      "BG_thr = 0.1\n",
      "BG_bias = 0.5\n",
      "data = <data.Data object at 0x7f31b0307210>\n",
      "\t seed 5/5\n",
      "running run_seed5_scross0.0_sevid11.25\n"
     ]
    },
    {
     "data": {
      "text/html": [
       "\n",
       "                <div id=\"9599404e-1358-4691-ba26-90074393012c\" style=\"\n",
       "                    width: 100%;\n",
       "                    border: 1px solid #cfcfcf;\n",
       "                    border-radius: 4px;\n",
       "                    text-align: center;\n",
       "                    position: relative;\">\n",
       "                  <div class=\"pb-text\" style=\"\n",
       "                      position: absolute;\n",
       "                      width: 100%;\">\n",
       "                    0%\n",
       "                  </div>\n",
       "                  <div class=\"pb-fill\" style=\"\n",
       "                      background-color: #bdd2e6;\n",
       "                      width: 0%;\">\n",
       "                    <style type=\"text/css\" scoped=\"scoped\">\n",
       "                        @keyframes pb-fill-anim {\n",
       "                            0% { background-position: 0 0; }\n",
       "                            100% { background-position: 100px 0; }\n",
       "                        }\n",
       "                    </style>\n",
       "                    &nbsp;\n",
       "                  </div>\n",
       "                </div>"
      ],
      "text/plain": [
       "HtmlProgressBar cannot be displayed. Please use the TerminalProgressBar. It can be enabled with `nengo.rc.set('progress', 'progress_bar', 'nengo.utils.progress.TerminalProgressBar')`."
      ]
     },
     "metadata": {},
     "output_type": "display_data"
    },
    {
     "data": {
      "application/javascript": [
       "\n",
       "              (function () {\n",
       "                  var root = document.getElementById('9599404e-1358-4691-ba26-90074393012c');\n",
       "                  var text = root.getElementsByClassName('pb-text')[0];\n",
       "                  var fill = root.getElementsByClassName('pb-fill')[0];\n",
       "\n",
       "                  text.innerHTML = 'Simulation finished in 0:03:13.';\n",
       "                  \n",
       "            if (100.0 > 0.) {\n",
       "                fill.style.transition = 'width 0.1s linear';\n",
       "            } else {\n",
       "                fill.style.transition = 'none';\n",
       "            }\n",
       "\n",
       "            fill.style.width = '100.0%';\n",
       "            fill.style.animation = 'none';\n",
       "            fill.style.backgroundImage = 'none'\n",
       "        \n",
       "                  \n",
       "                fill.style.animation = 'none';\n",
       "                fill.style.backgroundImage = 'none';\n",
       "            \n",
       "              })();\n",
       "        "
      ],
      "text/plain": [
       "<IPython.core.display.Javascript object>"
      ]
     },
     "metadata": {},
     "output_type": "display_data"
    },
    {
     "name": "stdout",
     "output_type": "stream",
     "text": [
      "seed = 5\n",
      "backend = 'nengo_ocl'\n",
      "dt = 0.001\n",
      "neuron_type = 'default'\n",
      "n_neurons_scale = 1\n",
      "s_crosstalk = 0.0\n",
      "s_evidence = 11.25\n",
      "t_senso = 0.175\n",
      "vocab = <nengo_spa.vocabulary.Vocabulary object at 0x7f3198645a90>\n",
      "xp = <experiments.Xp1 object at 0x7f31eb532f90>\n",
      "proc_feedback = 0.5\n",
      "GW_feedback = 0.95\n",
      "GW_scale = 20\n",
      "BG_thr = 0.1\n",
      "BG_bias = 0.5\n",
      "data = <data.Data object at 0x7f31b4d2c390>\n",
      "error: 96.01299425001983\n",
      "params: [ 0. 15.]\n",
      "Simulating...\n",
      "\t seed 1/5\n",
      "running run_seed1_scross0.0_sevid15.0\n"
     ]
    },
    {
     "data": {
      "text/html": [
       "\n",
       "                <div id=\"b6f4a4b3-3b68-4fab-8e88-1f40f4d90248\" style=\"\n",
       "                    width: 100%;\n",
       "                    border: 1px solid #cfcfcf;\n",
       "                    border-radius: 4px;\n",
       "                    text-align: center;\n",
       "                    position: relative;\">\n",
       "                  <div class=\"pb-text\" style=\"\n",
       "                      position: absolute;\n",
       "                      width: 100%;\">\n",
       "                    0%\n",
       "                  </div>\n",
       "                  <div class=\"pb-fill\" style=\"\n",
       "                      background-color: #bdd2e6;\n",
       "                      width: 0%;\">\n",
       "                    <style type=\"text/css\" scoped=\"scoped\">\n",
       "                        @keyframes pb-fill-anim {\n",
       "                            0% { background-position: 0 0; }\n",
       "                            100% { background-position: 100px 0; }\n",
       "                        }\n",
       "                    </style>\n",
       "                    &nbsp;\n",
       "                  </div>\n",
       "                </div>"
      ],
      "text/plain": [
       "HtmlProgressBar cannot be displayed. Please use the TerminalProgressBar. It can be enabled with `nengo.rc.set('progress', 'progress_bar', 'nengo.utils.progress.TerminalProgressBar')`."
      ]
     },
     "metadata": {},
     "output_type": "display_data"
    },
    {
     "data": {
      "application/javascript": [
       "\n",
       "              (function () {\n",
       "                  var root = document.getElementById('b6f4a4b3-3b68-4fab-8e88-1f40f4d90248');\n",
       "                  var text = root.getElementsByClassName('pb-text')[0];\n",
       "                  var fill = root.getElementsByClassName('pb-fill')[0];\n",
       "\n",
       "                  text.innerHTML = 'Simulation finished in 0:03:12.';\n",
       "                  \n",
       "            if (100.0 > 0.) {\n",
       "                fill.style.transition = 'width 0.1s linear';\n",
       "            } else {\n",
       "                fill.style.transition = 'none';\n",
       "            }\n",
       "\n",
       "            fill.style.width = '100.0%';\n",
       "            fill.style.animation = 'none';\n",
       "            fill.style.backgroundImage = 'none'\n",
       "        \n",
       "                  \n",
       "                fill.style.animation = 'none';\n",
       "                fill.style.backgroundImage = 'none';\n",
       "            \n",
       "              })();\n",
       "        "
      ],
      "text/plain": [
       "<IPython.core.display.Javascript object>"
      ]
     },
     "metadata": {},
     "output_type": "display_data"
    },
    {
     "name": "stdout",
     "output_type": "stream",
     "text": [
      "seed = 1\n",
      "backend = 'nengo_ocl'\n",
      "dt = 0.001\n",
      "neuron_type = 'default'\n",
      "n_neurons_scale = 1\n",
      "s_crosstalk = 0.0\n",
      "s_evidence = 15.0\n",
      "t_senso = 0.175\n",
      "vocab = <nengo_spa.vocabulary.Vocabulary object at 0x7f31eb6daf50>\n",
      "xp = <experiments.Xp1 object at 0x7f31b1f2f990>\n",
      "proc_feedback = 0.5\n",
      "GW_feedback = 0.95\n",
      "GW_scale = 20\n",
      "BG_thr = 0.1\n",
      "BG_bias = 0.5\n",
      "data = <data.Data object at 0x7f31b1ca4850>\n",
      "\t seed 2/5\n",
      "running run_seed2_scross0.0_sevid15.0\n"
     ]
    },
    {
     "data": {
      "text/html": [
       "\n",
       "                <div id=\"22b9aad2-d7af-46dc-807c-678dfeddc741\" style=\"\n",
       "                    width: 100%;\n",
       "                    border: 1px solid #cfcfcf;\n",
       "                    border-radius: 4px;\n",
       "                    text-align: center;\n",
       "                    position: relative;\">\n",
       "                  <div class=\"pb-text\" style=\"\n",
       "                      position: absolute;\n",
       "                      width: 100%;\">\n",
       "                    0%\n",
       "                  </div>\n",
       "                  <div class=\"pb-fill\" style=\"\n",
       "                      background-color: #bdd2e6;\n",
       "                      width: 0%;\">\n",
       "                    <style type=\"text/css\" scoped=\"scoped\">\n",
       "                        @keyframes pb-fill-anim {\n",
       "                            0% { background-position: 0 0; }\n",
       "                            100% { background-position: 100px 0; }\n",
       "                        }\n",
       "                    </style>\n",
       "                    &nbsp;\n",
       "                  </div>\n",
       "                </div>"
      ],
      "text/plain": [
       "HtmlProgressBar cannot be displayed. Please use the TerminalProgressBar. It can be enabled with `nengo.rc.set('progress', 'progress_bar', 'nengo.utils.progress.TerminalProgressBar')`."
      ]
     },
     "metadata": {},
     "output_type": "display_data"
    },
    {
     "data": {
      "application/javascript": [
       "\n",
       "              (function () {\n",
       "                  var root = document.getElementById('22b9aad2-d7af-46dc-807c-678dfeddc741');\n",
       "                  var text = root.getElementsByClassName('pb-text')[0];\n",
       "                  var fill = root.getElementsByClassName('pb-fill')[0];\n",
       "\n",
       "                  text.innerHTML = 'Simulation finished in 0:03:13.';\n",
       "                  \n",
       "            if (100.0 > 0.) {\n",
       "                fill.style.transition = 'width 0.1s linear';\n",
       "            } else {\n",
       "                fill.style.transition = 'none';\n",
       "            }\n",
       "\n",
       "            fill.style.width = '100.0%';\n",
       "            fill.style.animation = 'none';\n",
       "            fill.style.backgroundImage = 'none'\n",
       "        \n",
       "                  \n",
       "                fill.style.animation = 'none';\n",
       "                fill.style.backgroundImage = 'none';\n",
       "            \n",
       "              })();\n",
       "        "
      ],
      "text/plain": [
       "<IPython.core.display.Javascript object>"
      ]
     },
     "metadata": {},
     "output_type": "display_data"
    },
    {
     "name": "stdout",
     "output_type": "stream",
     "text": [
      "seed = 2\n",
      "backend = 'nengo_ocl'\n",
      "dt = 0.001\n",
      "neuron_type = 'default'\n",
      "n_neurons_scale = 1\n",
      "s_crosstalk = 0.0\n",
      "s_evidence = 15.0\n",
      "t_senso = 0.175\n",
      "vocab = <nengo_spa.vocabulary.Vocabulary object at 0x7f31b2e64690>\n",
      "xp = <experiments.Xp1 object at 0x7f31b0a008d0>\n",
      "proc_feedback = 0.5\n",
      "GW_feedback = 0.95\n",
      "GW_scale = 20\n",
      "BG_thr = 0.1\n",
      "BG_bias = 0.5\n",
      "data = <data.Data object at 0x7f31e1ef8f50>\n",
      "\t seed 3/5\n",
      "running run_seed3_scross0.0_sevid15.0\n"
     ]
    },
    {
     "data": {
      "text/html": [
       "\n",
       "                <div id=\"644bd60a-0a52-48cf-990f-afb84289719a\" style=\"\n",
       "                    width: 100%;\n",
       "                    border: 1px solid #cfcfcf;\n",
       "                    border-radius: 4px;\n",
       "                    text-align: center;\n",
       "                    position: relative;\">\n",
       "                  <div class=\"pb-text\" style=\"\n",
       "                      position: absolute;\n",
       "                      width: 100%;\">\n",
       "                    0%\n",
       "                  </div>\n",
       "                  <div class=\"pb-fill\" style=\"\n",
       "                      background-color: #bdd2e6;\n",
       "                      width: 0%;\">\n",
       "                    <style type=\"text/css\" scoped=\"scoped\">\n",
       "                        @keyframes pb-fill-anim {\n",
       "                            0% { background-position: 0 0; }\n",
       "                            100% { background-position: 100px 0; }\n",
       "                        }\n",
       "                    </style>\n",
       "                    &nbsp;\n",
       "                  </div>\n",
       "                </div>"
      ],
      "text/plain": [
       "HtmlProgressBar cannot be displayed. Please use the TerminalProgressBar. It can be enabled with `nengo.rc.set('progress', 'progress_bar', 'nengo.utils.progress.TerminalProgressBar')`."
      ]
     },
     "metadata": {},
     "output_type": "display_data"
    },
    {
     "data": {
      "application/javascript": [
       "\n",
       "              (function () {\n",
       "                  var root = document.getElementById('644bd60a-0a52-48cf-990f-afb84289719a');\n",
       "                  var text = root.getElementsByClassName('pb-text')[0];\n",
       "                  var fill = root.getElementsByClassName('pb-fill')[0];\n",
       "\n",
       "                  text.innerHTML = 'Simulation finished in 0:03:09.';\n",
       "                  \n",
       "            if (100.0 > 0.) {\n",
       "                fill.style.transition = 'width 0.1s linear';\n",
       "            } else {\n",
       "                fill.style.transition = 'none';\n",
       "            }\n",
       "\n",
       "            fill.style.width = '100.0%';\n",
       "            fill.style.animation = 'none';\n",
       "            fill.style.backgroundImage = 'none'\n",
       "        \n",
       "                  \n",
       "                fill.style.animation = 'none';\n",
       "                fill.style.backgroundImage = 'none';\n",
       "            \n",
       "              })();\n",
       "        "
      ],
      "text/plain": [
       "<IPython.core.display.Javascript object>"
      ]
     },
     "metadata": {},
     "output_type": "display_data"
    },
    {
     "name": "stdout",
     "output_type": "stream",
     "text": [
      "seed = 3\n",
      "backend = 'nengo_ocl'\n",
      "dt = 0.001\n",
      "neuron_type = 'default'\n",
      "n_neurons_scale = 1\n",
      "s_crosstalk = 0.0\n",
      "s_evidence = 15.0\n",
      "t_senso = 0.175\n",
      "vocab = <nengo_spa.vocabulary.Vocabulary object at 0x7f319861e590>\n",
      "xp = <experiments.Xp1 object at 0x7f31b1f5e490>\n",
      "proc_feedback = 0.5\n",
      "GW_feedback = 0.95\n",
      "GW_scale = 20\n",
      "BG_thr = 0.1\n",
      "BG_bias = 0.5\n",
      "data = <data.Data object at 0x7f31b0447290>\n",
      "\t seed 4/5\n",
      "running run_seed4_scross0.0_sevid15.0\n"
     ]
    },
    {
     "data": {
      "text/html": [
       "\n",
       "                <div id=\"326e7d05-cc59-4c03-945c-6c63ca4604ae\" style=\"\n",
       "                    width: 100%;\n",
       "                    border: 1px solid #cfcfcf;\n",
       "                    border-radius: 4px;\n",
       "                    text-align: center;\n",
       "                    position: relative;\">\n",
       "                  <div class=\"pb-text\" style=\"\n",
       "                      position: absolute;\n",
       "                      width: 100%;\">\n",
       "                    0%\n",
       "                  </div>\n",
       "                  <div class=\"pb-fill\" style=\"\n",
       "                      background-color: #bdd2e6;\n",
       "                      width: 0%;\">\n",
       "                    <style type=\"text/css\" scoped=\"scoped\">\n",
       "                        @keyframes pb-fill-anim {\n",
       "                            0% { background-position: 0 0; }\n",
       "                            100% { background-position: 100px 0; }\n",
       "                        }\n",
       "                    </style>\n",
       "                    &nbsp;\n",
       "                  </div>\n",
       "                </div>"
      ],
      "text/plain": [
       "HtmlProgressBar cannot be displayed. Please use the TerminalProgressBar. It can be enabled with `nengo.rc.set('progress', 'progress_bar', 'nengo.utils.progress.TerminalProgressBar')`."
      ]
     },
     "metadata": {},
     "output_type": "display_data"
    },
    {
     "data": {
      "application/javascript": [
       "\n",
       "              (function () {\n",
       "                  var root = document.getElementById('326e7d05-cc59-4c03-945c-6c63ca4604ae');\n",
       "                  var text = root.getElementsByClassName('pb-text')[0];\n",
       "                  var fill = root.getElementsByClassName('pb-fill')[0];\n",
       "\n",
       "                  text.innerHTML = 'Simulation finished in 0:02:53.';\n",
       "                  \n",
       "            if (100.0 > 0.) {\n",
       "                fill.style.transition = 'width 0.1s linear';\n",
       "            } else {\n",
       "                fill.style.transition = 'none';\n",
       "            }\n",
       "\n",
       "            fill.style.width = '100.0%';\n",
       "            fill.style.animation = 'none';\n",
       "            fill.style.backgroundImage = 'none'\n",
       "        \n",
       "                  \n",
       "                fill.style.animation = 'none';\n",
       "                fill.style.backgroundImage = 'none';\n",
       "            \n",
       "              })();\n",
       "        "
      ],
      "text/plain": [
       "<IPython.core.display.Javascript object>"
      ]
     },
     "metadata": {},
     "output_type": "display_data"
    },
    {
     "name": "stdout",
     "output_type": "stream",
     "text": [
      "seed = 4\n",
      "backend = 'nengo_ocl'\n",
      "dt = 0.001\n",
      "neuron_type = 'default'\n",
      "n_neurons_scale = 1\n",
      "s_crosstalk = 0.0\n",
      "s_evidence = 15.0\n",
      "t_senso = 0.175\n",
      "vocab = <nengo_spa.vocabulary.Vocabulary object at 0x7f31b4cb6090>\n",
      "xp = <experiments.Xp1 object at 0x7f31eb5dedd0>\n",
      "proc_feedback = 0.5\n",
      "GW_feedback = 0.95\n",
      "GW_scale = 20\n",
      "BG_thr = 0.1\n",
      "BG_bias = 0.5\n",
      "data = <data.Data object at 0x7f31eb625d50>\n",
      "\t seed 5/5\n",
      "running run_seed5_scross0.0_sevid15.0\n"
     ]
    },
    {
     "data": {
      "text/html": [
       "\n",
       "                <div id=\"0ab8fcbf-812a-4f14-ae92-821c4f13b305\" style=\"\n",
       "                    width: 100%;\n",
       "                    border: 1px solid #cfcfcf;\n",
       "                    border-radius: 4px;\n",
       "                    text-align: center;\n",
       "                    position: relative;\">\n",
       "                  <div class=\"pb-text\" style=\"\n",
       "                      position: absolute;\n",
       "                      width: 100%;\">\n",
       "                    0%\n",
       "                  </div>\n",
       "                  <div class=\"pb-fill\" style=\"\n",
       "                      background-color: #bdd2e6;\n",
       "                      width: 0%;\">\n",
       "                    <style type=\"text/css\" scoped=\"scoped\">\n",
       "                        @keyframes pb-fill-anim {\n",
       "                            0% { background-position: 0 0; }\n",
       "                            100% { background-position: 100px 0; }\n",
       "                        }\n",
       "                    </style>\n",
       "                    &nbsp;\n",
       "                  </div>\n",
       "                </div>"
      ],
      "text/plain": [
       "HtmlProgressBar cannot be displayed. Please use the TerminalProgressBar. It can be enabled with `nengo.rc.set('progress', 'progress_bar', 'nengo.utils.progress.TerminalProgressBar')`."
      ]
     },
     "metadata": {},
     "output_type": "display_data"
    },
    {
     "data": {
      "application/javascript": [
       "\n",
       "              (function () {\n",
       "                  var root = document.getElementById('0ab8fcbf-812a-4f14-ae92-821c4f13b305');\n",
       "                  var text = root.getElementsByClassName('pb-text')[0];\n",
       "                  var fill = root.getElementsByClassName('pb-fill')[0];\n",
       "\n",
       "                  text.innerHTML = 'Simulation finished in 0:02:54.';\n",
       "                  \n",
       "            if (100.0 > 0.) {\n",
       "                fill.style.transition = 'width 0.1s linear';\n",
       "            } else {\n",
       "                fill.style.transition = 'none';\n",
       "            }\n",
       "\n",
       "            fill.style.width = '100.0%';\n",
       "            fill.style.animation = 'none';\n",
       "            fill.style.backgroundImage = 'none'\n",
       "        \n",
       "                  \n",
       "                fill.style.animation = 'none';\n",
       "                fill.style.backgroundImage = 'none';\n",
       "            \n",
       "              })();\n",
       "        "
      ],
      "text/plain": [
       "<IPython.core.display.Javascript object>"
      ]
     },
     "metadata": {},
     "output_type": "display_data"
    },
    {
     "name": "stdout",
     "output_type": "stream",
     "text": [
      "seed = 5\n",
      "backend = 'nengo_ocl'\n",
      "dt = 0.001\n",
      "neuron_type = 'default'\n",
      "n_neurons_scale = 1\n",
      "s_crosstalk = 0.0\n",
      "s_evidence = 15.0\n",
      "t_senso = 0.175\n",
      "vocab = <nengo_spa.vocabulary.Vocabulary object at 0x7f3198659c90>\n",
      "xp = <experiments.Xp1 object at 0x7f31eb5dead0>\n",
      "proc_feedback = 0.5\n",
      "GW_feedback = 0.95\n",
      "GW_scale = 20\n",
      "BG_thr = 0.1\n",
      "BG_bias = 0.5\n",
      "data = <data.Data object at 0x7f31b0d2ec50>\n",
      "error: 96.01299425001983\n",
      "params: [0.375 0.   ]\n",
      "Simulating...\n",
      "\t seed 1/5\n",
      "running run_seed1_scross0.375_sevid0.0\n"
     ]
    },
    {
     "data": {
      "text/html": [
       "\n",
       "                <div id=\"45501dc6-5f92-4b21-8235-e9ec7afceb58\" style=\"\n",
       "                    width: 100%;\n",
       "                    border: 1px solid #cfcfcf;\n",
       "                    border-radius: 4px;\n",
       "                    text-align: center;\n",
       "                    position: relative;\">\n",
       "                  <div class=\"pb-text\" style=\"\n",
       "                      position: absolute;\n",
       "                      width: 100%;\">\n",
       "                    0%\n",
       "                  </div>\n",
       "                  <div class=\"pb-fill\" style=\"\n",
       "                      background-color: #bdd2e6;\n",
       "                      width: 0%;\">\n",
       "                    <style type=\"text/css\" scoped=\"scoped\">\n",
       "                        @keyframes pb-fill-anim {\n",
       "                            0% { background-position: 0 0; }\n",
       "                            100% { background-position: 100px 0; }\n",
       "                        }\n",
       "                    </style>\n",
       "                    &nbsp;\n",
       "                  </div>\n",
       "                </div>"
      ],
      "text/plain": [
       "HtmlProgressBar cannot be displayed. Please use the TerminalProgressBar. It can be enabled with `nengo.rc.set('progress', 'progress_bar', 'nengo.utils.progress.TerminalProgressBar')`."
      ]
     },
     "metadata": {},
     "output_type": "display_data"
    },
    {
     "data": {
      "application/javascript": [
       "\n",
       "              (function () {\n",
       "                  var root = document.getElementById('45501dc6-5f92-4b21-8235-e9ec7afceb58');\n",
       "                  var text = root.getElementsByClassName('pb-text')[0];\n",
       "                  var fill = root.getElementsByClassName('pb-fill')[0];\n",
       "\n",
       "                  text.innerHTML = 'Simulation finished in 0:02:00.';\n",
       "                  \n",
       "            if (100.0 > 0.) {\n",
       "                fill.style.transition = 'width 0.1s linear';\n",
       "            } else {\n",
       "                fill.style.transition = 'none';\n",
       "            }\n",
       "\n",
       "            fill.style.width = '100.0%';\n",
       "            fill.style.animation = 'none';\n",
       "            fill.style.backgroundImage = 'none'\n",
       "        \n",
       "                  \n",
       "                fill.style.animation = 'none';\n",
       "                fill.style.backgroundImage = 'none';\n",
       "            \n",
       "              })();\n",
       "        "
      ],
      "text/plain": [
       "<IPython.core.display.Javascript object>"
      ]
     },
     "metadata": {},
     "output_type": "display_data"
    },
    {
     "name": "stdout",
     "output_type": "stream",
     "text": [
      "seed = 1\n",
      "backend = 'nengo_ocl'\n",
      "dt = 0.001\n",
      "neuron_type = 'default'\n",
      "n_neurons_scale = 1\n",
      "s_crosstalk = 0.375\n",
      "s_evidence = 0.0\n",
      "t_senso = 0.175\n",
      "vocab = <nengo_spa.vocabulary.Vocabulary object at 0x7f31b3556150>\n",
      "xp = <experiments.Xp1 object at 0x7f31b3556710>\n",
      "proc_feedback = 0.5\n",
      "GW_feedback = 0.95\n",
      "GW_scale = 20\n",
      "BG_thr = 0.1\n",
      "BG_bias = 0.5\n",
      "data = <data.Data object at 0x7f31eb27efd0>\n",
      "\t seed 2/5\n",
      "running run_seed2_scross0.375_sevid0.0\n"
     ]
    },
    {
     "data": {
      "text/html": [
       "\n",
       "                <div id=\"9f8c51c6-3209-4c3e-8e67-056669404281\" style=\"\n",
       "                    width: 100%;\n",
       "                    border: 1px solid #cfcfcf;\n",
       "                    border-radius: 4px;\n",
       "                    text-align: center;\n",
       "                    position: relative;\">\n",
       "                  <div class=\"pb-text\" style=\"\n",
       "                      position: absolute;\n",
       "                      width: 100%;\">\n",
       "                    0%\n",
       "                  </div>\n",
       "                  <div class=\"pb-fill\" style=\"\n",
       "                      background-color: #bdd2e6;\n",
       "                      width: 0%;\">\n",
       "                    <style type=\"text/css\" scoped=\"scoped\">\n",
       "                        @keyframes pb-fill-anim {\n",
       "                            0% { background-position: 0 0; }\n",
       "                            100% { background-position: 100px 0; }\n",
       "                        }\n",
       "                    </style>\n",
       "                    &nbsp;\n",
       "                  </div>\n",
       "                </div>"
      ],
      "text/plain": [
       "HtmlProgressBar cannot be displayed. Please use the TerminalProgressBar. It can be enabled with `nengo.rc.set('progress', 'progress_bar', 'nengo.utils.progress.TerminalProgressBar')`."
      ]
     },
     "metadata": {},
     "output_type": "display_data"
    },
    {
     "data": {
      "application/javascript": [
       "\n",
       "              (function () {\n",
       "                  var root = document.getElementById('9f8c51c6-3209-4c3e-8e67-056669404281');\n",
       "                  var text = root.getElementsByClassName('pb-text')[0];\n",
       "                  var fill = root.getElementsByClassName('pb-fill')[0];\n",
       "\n",
       "                  text.innerHTML = 'Simulation finished in 0:02:01.';\n",
       "                  \n",
       "            if (100.0 > 0.) {\n",
       "                fill.style.transition = 'width 0.1s linear';\n",
       "            } else {\n",
       "                fill.style.transition = 'none';\n",
       "            }\n",
       "\n",
       "            fill.style.width = '100.0%';\n",
       "            fill.style.animation = 'none';\n",
       "            fill.style.backgroundImage = 'none'\n",
       "        \n",
       "                  \n",
       "                fill.style.animation = 'none';\n",
       "                fill.style.backgroundImage = 'none';\n",
       "            \n",
       "              })();\n",
       "        "
      ],
      "text/plain": [
       "<IPython.core.display.Javascript object>"
      ]
     },
     "metadata": {},
     "output_type": "display_data"
    },
    {
     "name": "stdout",
     "output_type": "stream",
     "text": [
      "seed = 2\n",
      "backend = 'nengo_ocl'\n",
      "dt = 0.001\n",
      "neuron_type = 'default'\n",
      "n_neurons_scale = 1\n",
      "s_crosstalk = 0.375\n",
      "s_evidence = 0.0\n",
      "t_senso = 0.175\n",
      "vocab = <nengo_spa.vocabulary.Vocabulary object at 0x7f31eb907a10>\n",
      "xp = <experiments.Xp1 object at 0x7f31eb993850>\n",
      "proc_feedback = 0.5\n",
      "GW_feedback = 0.95\n",
      "GW_scale = 20\n",
      "BG_thr = 0.1\n",
      "BG_bias = 0.5\n",
      "data = <data.Data object at 0x7f31eb260390>\n",
      "\t seed 3/5\n",
      "running run_seed3_scross0.375_sevid0.0\n"
     ]
    },
    {
     "data": {
      "text/html": [
       "\n",
       "                <div id=\"56c5535b-e409-40e5-8a68-dba0b50e3f86\" style=\"\n",
       "                    width: 100%;\n",
       "                    border: 1px solid #cfcfcf;\n",
       "                    border-radius: 4px;\n",
       "                    text-align: center;\n",
       "                    position: relative;\">\n",
       "                  <div class=\"pb-text\" style=\"\n",
       "                      position: absolute;\n",
       "                      width: 100%;\">\n",
       "                    0%\n",
       "                  </div>\n",
       "                  <div class=\"pb-fill\" style=\"\n",
       "                      background-color: #bdd2e6;\n",
       "                      width: 0%;\">\n",
       "                    <style type=\"text/css\" scoped=\"scoped\">\n",
       "                        @keyframes pb-fill-anim {\n",
       "                            0% { background-position: 0 0; }\n",
       "                            100% { background-position: 100px 0; }\n",
       "                        }\n",
       "                    </style>\n",
       "                    &nbsp;\n",
       "                  </div>\n",
       "                </div>"
      ],
      "text/plain": [
       "HtmlProgressBar cannot be displayed. Please use the TerminalProgressBar. It can be enabled with `nengo.rc.set('progress', 'progress_bar', 'nengo.utils.progress.TerminalProgressBar')`."
      ]
     },
     "metadata": {},
     "output_type": "display_data"
    },
    {
     "data": {
      "application/javascript": [
       "\n",
       "              (function () {\n",
       "                  var root = document.getElementById('56c5535b-e409-40e5-8a68-dba0b50e3f86');\n",
       "                  var text = root.getElementsByClassName('pb-text')[0];\n",
       "                  var fill = root.getElementsByClassName('pb-fill')[0];\n",
       "\n",
       "                  text.innerHTML = 'Simulation finished in 0:02:00.';\n",
       "                  \n",
       "            if (100.0 > 0.) {\n",
       "                fill.style.transition = 'width 0.1s linear';\n",
       "            } else {\n",
       "                fill.style.transition = 'none';\n",
       "            }\n",
       "\n",
       "            fill.style.width = '100.0%';\n",
       "            fill.style.animation = 'none';\n",
       "            fill.style.backgroundImage = 'none'\n",
       "        \n",
       "                  \n",
       "                fill.style.animation = 'none';\n",
       "                fill.style.backgroundImage = 'none';\n",
       "            \n",
       "              })();\n",
       "        "
      ],
      "text/plain": [
       "<IPython.core.display.Javascript object>"
      ]
     },
     "metadata": {},
     "output_type": "display_data"
    },
    {
     "name": "stdout",
     "output_type": "stream",
     "text": [
      "seed = 3\n",
      "backend = 'nengo_ocl'\n",
      "dt = 0.001\n",
      "neuron_type = 'default'\n",
      "n_neurons_scale = 1\n",
      "s_crosstalk = 0.375\n",
      "s_evidence = 0.0\n",
      "t_senso = 0.175\n",
      "vocab = <nengo_spa.vocabulary.Vocabulary object at 0x7f31b1608f10>\n",
      "xp = <experiments.Xp1 object at 0x7f31eb260c50>\n",
      "proc_feedback = 0.5\n",
      "GW_feedback = 0.95\n",
      "GW_scale = 20\n",
      "BG_thr = 0.1\n",
      "BG_bias = 0.5\n",
      "data = <data.Data object at 0x7f31984b9610>\n",
      "\t seed 4/5\n",
      "running run_seed4_scross0.375_sevid0.0\n"
     ]
    },
    {
     "data": {
      "text/html": [
       "\n",
       "                <div id=\"15e3aa6d-6a28-4798-bb95-419c9308d292\" style=\"\n",
       "                    width: 100%;\n",
       "                    border: 1px solid #cfcfcf;\n",
       "                    border-radius: 4px;\n",
       "                    text-align: center;\n",
       "                    position: relative;\">\n",
       "                  <div class=\"pb-text\" style=\"\n",
       "                      position: absolute;\n",
       "                      width: 100%;\">\n",
       "                    0%\n",
       "                  </div>\n",
       "                  <div class=\"pb-fill\" style=\"\n",
       "                      background-color: #bdd2e6;\n",
       "                      width: 0%;\">\n",
       "                    <style type=\"text/css\" scoped=\"scoped\">\n",
       "                        @keyframes pb-fill-anim {\n",
       "                            0% { background-position: 0 0; }\n",
       "                            100% { background-position: 100px 0; }\n",
       "                        }\n",
       "                    </style>\n",
       "                    &nbsp;\n",
       "                  </div>\n",
       "                </div>"
      ],
      "text/plain": [
       "HtmlProgressBar cannot be displayed. Please use the TerminalProgressBar. It can be enabled with `nengo.rc.set('progress', 'progress_bar', 'nengo.utils.progress.TerminalProgressBar')`."
      ]
     },
     "metadata": {},
     "output_type": "display_data"
    },
    {
     "data": {
      "application/javascript": [
       "\n",
       "              (function () {\n",
       "                  var root = document.getElementById('15e3aa6d-6a28-4798-bb95-419c9308d292');\n",
       "                  var text = root.getElementsByClassName('pb-text')[0];\n",
       "                  var fill = root.getElementsByClassName('pb-fill')[0];\n",
       "\n",
       "                  text.innerHTML = 'Simulation finished in 0:02:00.';\n",
       "                  \n",
       "            if (100.0 > 0.) {\n",
       "                fill.style.transition = 'width 0.1s linear';\n",
       "            } else {\n",
       "                fill.style.transition = 'none';\n",
       "            }\n",
       "\n",
       "            fill.style.width = '100.0%';\n",
       "            fill.style.animation = 'none';\n",
       "            fill.style.backgroundImage = 'none'\n",
       "        \n",
       "                  \n",
       "                fill.style.animation = 'none';\n",
       "                fill.style.backgroundImage = 'none';\n",
       "            \n",
       "              })();\n",
       "        "
      ],
      "text/plain": [
       "<IPython.core.display.Javascript object>"
      ]
     },
     "metadata": {},
     "output_type": "display_data"
    },
    {
     "name": "stdout",
     "output_type": "stream",
     "text": [
      "seed = 4\n",
      "backend = 'nengo_ocl'\n",
      "dt = 0.001\n",
      "neuron_type = 'default'\n",
      "n_neurons_scale = 1\n",
      "s_crosstalk = 0.375\n",
      "s_evidence = 0.0\n",
      "t_senso = 0.175\n",
      "vocab = <nengo_spa.vocabulary.Vocabulary object at 0x7f31eb9b68d0>\n",
      "xp = <experiments.Xp1 object at 0x7f31eb25e490>\n",
      "proc_feedback = 0.5\n",
      "GW_feedback = 0.95\n",
      "GW_scale = 20\n",
      "BG_thr = 0.1\n",
      "BG_bias = 0.5\n",
      "data = <data.Data object at 0x7f31b0ae6110>\n",
      "\t seed 5/5\n",
      "running run_seed5_scross0.375_sevid0.0\n"
     ]
    },
    {
     "data": {
      "text/html": [
       "\n",
       "                <div id=\"d0bd7153-e21a-4881-8fbd-c93233e7b32f\" style=\"\n",
       "                    width: 100%;\n",
       "                    border: 1px solid #cfcfcf;\n",
       "                    border-radius: 4px;\n",
       "                    text-align: center;\n",
       "                    position: relative;\">\n",
       "                  <div class=\"pb-text\" style=\"\n",
       "                      position: absolute;\n",
       "                      width: 100%;\">\n",
       "                    0%\n",
       "                  </div>\n",
       "                  <div class=\"pb-fill\" style=\"\n",
       "                      background-color: #bdd2e6;\n",
       "                      width: 0%;\">\n",
       "                    <style type=\"text/css\" scoped=\"scoped\">\n",
       "                        @keyframes pb-fill-anim {\n",
       "                            0% { background-position: 0 0; }\n",
       "                            100% { background-position: 100px 0; }\n",
       "                        }\n",
       "                    </style>\n",
       "                    &nbsp;\n",
       "                  </div>\n",
       "                </div>"
      ],
      "text/plain": [
       "HtmlProgressBar cannot be displayed. Please use the TerminalProgressBar. It can be enabled with `nengo.rc.set('progress', 'progress_bar', 'nengo.utils.progress.TerminalProgressBar')`."
      ]
     },
     "metadata": {},
     "output_type": "display_data"
    },
    {
     "data": {
      "application/javascript": [
       "\n",
       "              (function () {\n",
       "                  var root = document.getElementById('d0bd7153-e21a-4881-8fbd-c93233e7b32f');\n",
       "                  var text = root.getElementsByClassName('pb-text')[0];\n",
       "                  var fill = root.getElementsByClassName('pb-fill')[0];\n",
       "\n",
       "                  text.innerHTML = 'Simulation finished in 0:02:02.';\n",
       "                  \n",
       "            if (100.0 > 0.) {\n",
       "                fill.style.transition = 'width 0.1s linear';\n",
       "            } else {\n",
       "                fill.style.transition = 'none';\n",
       "            }\n",
       "\n",
       "            fill.style.width = '100.0%';\n",
       "            fill.style.animation = 'none';\n",
       "            fill.style.backgroundImage = 'none'\n",
       "        \n",
       "                  \n",
       "                fill.style.animation = 'none';\n",
       "                fill.style.backgroundImage = 'none';\n",
       "            \n",
       "              })();\n",
       "        "
      ],
      "text/plain": [
       "<IPython.core.display.Javascript object>"
      ]
     },
     "metadata": {},
     "output_type": "display_data"
    },
    {
     "name": "stdout",
     "output_type": "stream",
     "text": [
      "seed = 5\n",
      "backend = 'nengo_ocl'\n",
      "dt = 0.001\n",
      "neuron_type = 'default'\n",
      "n_neurons_scale = 1\n",
      "s_crosstalk = 0.375\n",
      "s_evidence = 0.0\n",
      "t_senso = 0.175\n",
      "vocab = <nengo_spa.vocabulary.Vocabulary object at 0x7f31b4267810>\n",
      "xp = <experiments.Xp1 object at 0x7f31ebb410d0>\n",
      "proc_feedback = 0.5\n",
      "GW_feedback = 0.95\n",
      "GW_scale = 20\n",
      "BG_thr = 0.1\n",
      "BG_bias = 0.5\n",
      "data = <data.Data object at 0x7f31b0ae67d0>\n",
      "error: 96.73308840906603\n",
      "params: [0.375 3.75 ]\n",
      "Simulating...\n",
      "\t seed 1/5\n",
      "running run_seed1_scross0.375_sevid3.75\n"
     ]
    },
    {
     "data": {
      "text/html": [
       "\n",
       "                <div id=\"3bd9fde4-0800-466c-a823-9b465de42fd5\" style=\"\n",
       "                    width: 100%;\n",
       "                    border: 1px solid #cfcfcf;\n",
       "                    border-radius: 4px;\n",
       "                    text-align: center;\n",
       "                    position: relative;\">\n",
       "                  <div class=\"pb-text\" style=\"\n",
       "                      position: absolute;\n",
       "                      width: 100%;\">\n",
       "                    0%\n",
       "                  </div>\n",
       "                  <div class=\"pb-fill\" style=\"\n",
       "                      background-color: #bdd2e6;\n",
       "                      width: 0%;\">\n",
       "                    <style type=\"text/css\" scoped=\"scoped\">\n",
       "                        @keyframes pb-fill-anim {\n",
       "                            0% { background-position: 0 0; }\n",
       "                            100% { background-position: 100px 0; }\n",
       "                        }\n",
       "                    </style>\n",
       "                    &nbsp;\n",
       "                  </div>\n",
       "                </div>"
      ],
      "text/plain": [
       "HtmlProgressBar cannot be displayed. Please use the TerminalProgressBar. It can be enabled with `nengo.rc.set('progress', 'progress_bar', 'nengo.utils.progress.TerminalProgressBar')`."
      ]
     },
     "metadata": {},
     "output_type": "display_data"
    },
    {
     "data": {
      "application/javascript": [
       "\n",
       "              (function () {\n",
       "                  var root = document.getElementById('3bd9fde4-0800-466c-a823-9b465de42fd5');\n",
       "                  var text = root.getElementsByClassName('pb-text')[0];\n",
       "                  var fill = root.getElementsByClassName('pb-fill')[0];\n",
       "\n",
       "                  text.innerHTML = 'Simulation finished in 0:03:00.';\n",
       "                  \n",
       "            if (100.0 > 0.) {\n",
       "                fill.style.transition = 'width 0.1s linear';\n",
       "            } else {\n",
       "                fill.style.transition = 'none';\n",
       "            }\n",
       "\n",
       "            fill.style.width = '100.0%';\n",
       "            fill.style.animation = 'none';\n",
       "            fill.style.backgroundImage = 'none'\n",
       "        \n",
       "                  \n",
       "                fill.style.animation = 'none';\n",
       "                fill.style.backgroundImage = 'none';\n",
       "            \n",
       "              })();\n",
       "        "
      ],
      "text/plain": [
       "<IPython.core.display.Javascript object>"
      ]
     },
     "metadata": {},
     "output_type": "display_data"
    },
    {
     "name": "stdout",
     "output_type": "stream",
     "text": [
      "seed = 1\n",
      "backend = 'nengo_ocl'\n",
      "dt = 0.001\n",
      "neuron_type = 'default'\n",
      "n_neurons_scale = 1\n",
      "s_crosstalk = 0.375\n",
      "s_evidence = 3.75\n",
      "t_senso = 0.175\n",
      "vocab = <nengo_spa.vocabulary.Vocabulary object at 0x7f31eb340750>\n",
      "xp = <experiments.Xp1 object at 0x7f31eb905c90>\n",
      "proc_feedback = 0.5\n",
      "GW_feedback = 0.95\n",
      "GW_scale = 20\n",
      "BG_thr = 0.1\n",
      "BG_bias = 0.5\n",
      "data = <data.Data object at 0x7f31b4d49050>\n",
      "\t seed 2/5\n",
      "running run_seed2_scross0.375_sevid3.75\n"
     ]
    },
    {
     "data": {
      "text/html": [
       "\n",
       "                <div id=\"b9a4afa8-6340-4fac-8db7-68e7eb591577\" style=\"\n",
       "                    width: 100%;\n",
       "                    border: 1px solid #cfcfcf;\n",
       "                    border-radius: 4px;\n",
       "                    text-align: center;\n",
       "                    position: relative;\">\n",
       "                  <div class=\"pb-text\" style=\"\n",
       "                      position: absolute;\n",
       "                      width: 100%;\">\n",
       "                    0%\n",
       "                  </div>\n",
       "                  <div class=\"pb-fill\" style=\"\n",
       "                      background-color: #bdd2e6;\n",
       "                      width: 0%;\">\n",
       "                    <style type=\"text/css\" scoped=\"scoped\">\n",
       "                        @keyframes pb-fill-anim {\n",
       "                            0% { background-position: 0 0; }\n",
       "                            100% { background-position: 100px 0; }\n",
       "                        }\n",
       "                    </style>\n",
       "                    &nbsp;\n",
       "                  </div>\n",
       "                </div>"
      ],
      "text/plain": [
       "HtmlProgressBar cannot be displayed. Please use the TerminalProgressBar. It can be enabled with `nengo.rc.set('progress', 'progress_bar', 'nengo.utils.progress.TerminalProgressBar')`."
      ]
     },
     "metadata": {},
     "output_type": "display_data"
    },
    {
     "data": {
      "application/javascript": [
       "\n",
       "              (function () {\n",
       "                  var root = document.getElementById('b9a4afa8-6340-4fac-8db7-68e7eb591577');\n",
       "                  var text = root.getElementsByClassName('pb-text')[0];\n",
       "                  var fill = root.getElementsByClassName('pb-fill')[0];\n",
       "\n",
       "                  text.innerHTML = 'Simulation finished in 0:02:56.';\n",
       "                  \n",
       "            if (100.0 > 0.) {\n",
       "                fill.style.transition = 'width 0.1s linear';\n",
       "            } else {\n",
       "                fill.style.transition = 'none';\n",
       "            }\n",
       "\n",
       "            fill.style.width = '100.0%';\n",
       "            fill.style.animation = 'none';\n",
       "            fill.style.backgroundImage = 'none'\n",
       "        \n",
       "                  \n",
       "                fill.style.animation = 'none';\n",
       "                fill.style.backgroundImage = 'none';\n",
       "            \n",
       "              })();\n",
       "        "
      ],
      "text/plain": [
       "<IPython.core.display.Javascript object>"
      ]
     },
     "metadata": {},
     "output_type": "display_data"
    },
    {
     "name": "stdout",
     "output_type": "stream",
     "text": [
      "seed = 2\n",
      "backend = 'nengo_ocl'\n",
      "dt = 0.001\n",
      "neuron_type = 'default'\n",
      "n_neurons_scale = 1\n",
      "s_crosstalk = 0.375\n",
      "s_evidence = 3.75\n",
      "t_senso = 0.175\n",
      "vocab = <nengo_spa.vocabulary.Vocabulary object at 0x7f31b0ae6850>\n",
      "xp = <experiments.Xp1 object at 0x7f31b563b490>\n",
      "proc_feedback = 0.5\n",
      "GW_feedback = 0.95\n",
      "GW_scale = 20\n",
      "BG_thr = 0.1\n",
      "BG_bias = 0.5\n",
      "data = <data.Data object at 0x7f31b4a26d90>\n",
      "\t seed 3/5\n",
      "running run_seed3_scross0.375_sevid3.75\n"
     ]
    },
    {
     "data": {
      "text/html": [
       "\n",
       "                <div id=\"05c5be15-9a0d-4584-8924-86c1731ca4ae\" style=\"\n",
       "                    width: 100%;\n",
       "                    border: 1px solid #cfcfcf;\n",
       "                    border-radius: 4px;\n",
       "                    text-align: center;\n",
       "                    position: relative;\">\n",
       "                  <div class=\"pb-text\" style=\"\n",
       "                      position: absolute;\n",
       "                      width: 100%;\">\n",
       "                    0%\n",
       "                  </div>\n",
       "                  <div class=\"pb-fill\" style=\"\n",
       "                      background-color: #bdd2e6;\n",
       "                      width: 0%;\">\n",
       "                    <style type=\"text/css\" scoped=\"scoped\">\n",
       "                        @keyframes pb-fill-anim {\n",
       "                            0% { background-position: 0 0; }\n",
       "                            100% { background-position: 100px 0; }\n",
       "                        }\n",
       "                    </style>\n",
       "                    &nbsp;\n",
       "                  </div>\n",
       "                </div>"
      ],
      "text/plain": [
       "HtmlProgressBar cannot be displayed. Please use the TerminalProgressBar. It can be enabled with `nengo.rc.set('progress', 'progress_bar', 'nengo.utils.progress.TerminalProgressBar')`."
      ]
     },
     "metadata": {},
     "output_type": "display_data"
    },
    {
     "data": {
      "application/javascript": [
       "\n",
       "              (function () {\n",
       "                  var root = document.getElementById('05c5be15-9a0d-4584-8924-86c1731ca4ae');\n",
       "                  var text = root.getElementsByClassName('pb-text')[0];\n",
       "                  var fill = root.getElementsByClassName('pb-fill')[0];\n",
       "\n",
       "                  text.innerHTML = 'Simulation finished in 0:02:59.';\n",
       "                  \n",
       "            if (100.0 > 0.) {\n",
       "                fill.style.transition = 'width 0.1s linear';\n",
       "            } else {\n",
       "                fill.style.transition = 'none';\n",
       "            }\n",
       "\n",
       "            fill.style.width = '100.0%';\n",
       "            fill.style.animation = 'none';\n",
       "            fill.style.backgroundImage = 'none'\n",
       "        \n",
       "                  \n",
       "                fill.style.animation = 'none';\n",
       "                fill.style.backgroundImage = 'none';\n",
       "            \n",
       "              })();\n",
       "        "
      ],
      "text/plain": [
       "<IPython.core.display.Javascript object>"
      ]
     },
     "metadata": {},
     "output_type": "display_data"
    },
    {
     "name": "stdout",
     "output_type": "stream",
     "text": [
      "seed = 3\n",
      "backend = 'nengo_ocl'\n",
      "dt = 0.001\n",
      "neuron_type = 'default'\n",
      "n_neurons_scale = 1\n",
      "s_crosstalk = 0.375\n",
      "s_evidence = 3.75\n",
      "t_senso = 0.175\n",
      "vocab = <nengo_spa.vocabulary.Vocabulary object at 0x7f31b49ffa90>\n",
      "xp = <experiments.Xp1 object at 0x7f31e1df2550>\n",
      "proc_feedback = 0.5\n",
      "GW_feedback = 0.95\n",
      "GW_scale = 20\n",
      "BG_thr = 0.1\n",
      "BG_bias = 0.5\n",
      "data = <data.Data object at 0x7f319837bbd0>\n",
      "\t seed 4/5\n",
      "running run_seed4_scross0.375_sevid3.75\n"
     ]
    },
    {
     "data": {
      "text/html": [
       "\n",
       "                <div id=\"6e18715b-c310-4686-ab3f-b70d07badf4f\" style=\"\n",
       "                    width: 100%;\n",
       "                    border: 1px solid #cfcfcf;\n",
       "                    border-radius: 4px;\n",
       "                    text-align: center;\n",
       "                    position: relative;\">\n",
       "                  <div class=\"pb-text\" style=\"\n",
       "                      position: absolute;\n",
       "                      width: 100%;\">\n",
       "                    0%\n",
       "                  </div>\n",
       "                  <div class=\"pb-fill\" style=\"\n",
       "                      background-color: #bdd2e6;\n",
       "                      width: 0%;\">\n",
       "                    <style type=\"text/css\" scoped=\"scoped\">\n",
       "                        @keyframes pb-fill-anim {\n",
       "                            0% { background-position: 0 0; }\n",
       "                            100% { background-position: 100px 0; }\n",
       "                        }\n",
       "                    </style>\n",
       "                    &nbsp;\n",
       "                  </div>\n",
       "                </div>"
      ],
      "text/plain": [
       "HtmlProgressBar cannot be displayed. Please use the TerminalProgressBar. It can be enabled with `nengo.rc.set('progress', 'progress_bar', 'nengo.utils.progress.TerminalProgressBar')`."
      ]
     },
     "metadata": {},
     "output_type": "display_data"
    },
    {
     "data": {
      "application/javascript": [
       "\n",
       "              (function () {\n",
       "                  var root = document.getElementById('6e18715b-c310-4686-ab3f-b70d07badf4f');\n",
       "                  var text = root.getElementsByClassName('pb-text')[0];\n",
       "                  var fill = root.getElementsByClassName('pb-fill')[0];\n",
       "\n",
       "                  text.innerHTML = 'Simulation finished in 0:03:04.';\n",
       "                  \n",
       "            if (100.0 > 0.) {\n",
       "                fill.style.transition = 'width 0.1s linear';\n",
       "            } else {\n",
       "                fill.style.transition = 'none';\n",
       "            }\n",
       "\n",
       "            fill.style.width = '100.0%';\n",
       "            fill.style.animation = 'none';\n",
       "            fill.style.backgroundImage = 'none'\n",
       "        \n",
       "                  \n",
       "                fill.style.animation = 'none';\n",
       "                fill.style.backgroundImage = 'none';\n",
       "            \n",
       "              })();\n",
       "        "
      ],
      "text/plain": [
       "<IPython.core.display.Javascript object>"
      ]
     },
     "metadata": {},
     "output_type": "display_data"
    },
    {
     "name": "stdout",
     "output_type": "stream",
     "text": [
      "seed = 4\n",
      "backend = 'nengo_ocl'\n",
      "dt = 0.001\n",
      "neuron_type = 'default'\n",
      "n_neurons_scale = 1\n",
      "s_crosstalk = 0.375\n",
      "s_evidence = 3.75\n",
      "t_senso = 0.175\n",
      "vocab = <nengo_spa.vocabulary.Vocabulary object at 0x7f31b14fae90>\n",
      "xp = <experiments.Xp1 object at 0x7f31e1df2c10>\n",
      "proc_feedback = 0.5\n",
      "GW_feedback = 0.95\n",
      "GW_scale = 20\n",
      "BG_thr = 0.1\n",
      "BG_bias = 0.5\n",
      "data = <data.Data object at 0x7f31b1f73150>\n",
      "\t seed 5/5\n",
      "running run_seed5_scross0.375_sevid3.75\n"
     ]
    },
    {
     "data": {
      "text/html": [
       "\n",
       "                <div id=\"f725bf05-b4df-4922-a8ed-2be4bd49b489\" style=\"\n",
       "                    width: 100%;\n",
       "                    border: 1px solid #cfcfcf;\n",
       "                    border-radius: 4px;\n",
       "                    text-align: center;\n",
       "                    position: relative;\">\n",
       "                  <div class=\"pb-text\" style=\"\n",
       "                      position: absolute;\n",
       "                      width: 100%;\">\n",
       "                    0%\n",
       "                  </div>\n",
       "                  <div class=\"pb-fill\" style=\"\n",
       "                      background-color: #bdd2e6;\n",
       "                      width: 0%;\">\n",
       "                    <style type=\"text/css\" scoped=\"scoped\">\n",
       "                        @keyframes pb-fill-anim {\n",
       "                            0% { background-position: 0 0; }\n",
       "                            100% { background-position: 100px 0; }\n",
       "                        }\n",
       "                    </style>\n",
       "                    &nbsp;\n",
       "                  </div>\n",
       "                </div>"
      ],
      "text/plain": [
       "HtmlProgressBar cannot be displayed. Please use the TerminalProgressBar. It can be enabled with `nengo.rc.set('progress', 'progress_bar', 'nengo.utils.progress.TerminalProgressBar')`."
      ]
     },
     "metadata": {},
     "output_type": "display_data"
    },
    {
     "data": {
      "application/javascript": [
       "\n",
       "              (function () {\n",
       "                  var root = document.getElementById('f725bf05-b4df-4922-a8ed-2be4bd49b489');\n",
       "                  var text = root.getElementsByClassName('pb-text')[0];\n",
       "                  var fill = root.getElementsByClassName('pb-fill')[0];\n",
       "\n",
       "                  text.innerHTML = 'Simulation finished in 0:02:59.';\n",
       "                  \n",
       "            if (100.0 > 0.) {\n",
       "                fill.style.transition = 'width 0.1s linear';\n",
       "            } else {\n",
       "                fill.style.transition = 'none';\n",
       "            }\n",
       "\n",
       "            fill.style.width = '100.0%';\n",
       "            fill.style.animation = 'none';\n",
       "            fill.style.backgroundImage = 'none'\n",
       "        \n",
       "                  \n",
       "                fill.style.animation = 'none';\n",
       "                fill.style.backgroundImage = 'none';\n",
       "            \n",
       "              })();\n",
       "        "
      ],
      "text/plain": [
       "<IPython.core.display.Javascript object>"
      ]
     },
     "metadata": {},
     "output_type": "display_data"
    },
    {
     "name": "stdout",
     "output_type": "stream",
     "text": [
      "seed = 5\n",
      "backend = 'nengo_ocl'\n",
      "dt = 0.001\n",
      "neuron_type = 'default'\n",
      "n_neurons_scale = 1\n",
      "s_crosstalk = 0.375\n",
      "s_evidence = 3.75\n",
      "t_senso = 0.175\n",
      "vocab = <nengo_spa.vocabulary.Vocabulary object at 0x7f319837bbd0>\n",
      "xp = <experiments.Xp1 object at 0x7f31b4a17a50>\n",
      "proc_feedback = 0.5\n",
      "GW_feedback = 0.95\n",
      "GW_scale = 20\n",
      "BG_thr = 0.1\n",
      "BG_bias = 0.5\n",
      "data = <data.Data object at 0x7f3198665dd0>\n",
      "error: 97.66088390976782\n",
      "params: [0.375 7.5  ]\n",
      "Simulating...\n",
      "\t seed 1/5\n",
      "running run_seed1_scross0.375_sevid7.5\n"
     ]
    },
    {
     "data": {
      "text/html": [
       "\n",
       "                <div id=\"2ee7adeb-8f76-453b-8c31-7d24f4e983d5\" style=\"\n",
       "                    width: 100%;\n",
       "                    border: 1px solid #cfcfcf;\n",
       "                    border-radius: 4px;\n",
       "                    text-align: center;\n",
       "                    position: relative;\">\n",
       "                  <div class=\"pb-text\" style=\"\n",
       "                      position: absolute;\n",
       "                      width: 100%;\">\n",
       "                    0%\n",
       "                  </div>\n",
       "                  <div class=\"pb-fill\" style=\"\n",
       "                      background-color: #bdd2e6;\n",
       "                      width: 0%;\">\n",
       "                    <style type=\"text/css\" scoped=\"scoped\">\n",
       "                        @keyframes pb-fill-anim {\n",
       "                            0% { background-position: 0 0; }\n",
       "                            100% { background-position: 100px 0; }\n",
       "                        }\n",
       "                    </style>\n",
       "                    &nbsp;\n",
       "                  </div>\n",
       "                </div>"
      ],
      "text/plain": [
       "HtmlProgressBar cannot be displayed. Please use the TerminalProgressBar. It can be enabled with `nengo.rc.set('progress', 'progress_bar', 'nengo.utils.progress.TerminalProgressBar')`."
      ]
     },
     "metadata": {},
     "output_type": "display_data"
    },
    {
     "data": {
      "application/javascript": [
       "\n",
       "              (function () {\n",
       "                  var root = document.getElementById('2ee7adeb-8f76-453b-8c31-7d24f4e983d5');\n",
       "                  var text = root.getElementsByClassName('pb-text')[0];\n",
       "                  var fill = root.getElementsByClassName('pb-fill')[0];\n",
       "\n",
       "                  text.innerHTML = 'Simulation finished in 0:03:01.';\n",
       "                  \n",
       "            if (100.0 > 0.) {\n",
       "                fill.style.transition = 'width 0.1s linear';\n",
       "            } else {\n",
       "                fill.style.transition = 'none';\n",
       "            }\n",
       "\n",
       "            fill.style.width = '100.0%';\n",
       "            fill.style.animation = 'none';\n",
       "            fill.style.backgroundImage = 'none'\n",
       "        \n",
       "                  \n",
       "                fill.style.animation = 'none';\n",
       "                fill.style.backgroundImage = 'none';\n",
       "            \n",
       "              })();\n",
       "        "
      ],
      "text/plain": [
       "<IPython.core.display.Javascript object>"
      ]
     },
     "metadata": {},
     "output_type": "display_data"
    },
    {
     "name": "stdout",
     "output_type": "stream",
     "text": [
      "seed = 1\n",
      "backend = 'nengo_ocl'\n",
      "dt = 0.001\n",
      "neuron_type = 'default'\n",
      "n_neurons_scale = 1\n",
      "s_crosstalk = 0.375\n",
      "s_evidence = 7.5\n",
      "t_senso = 0.175\n",
      "vocab = <nengo_spa.vocabulary.Vocabulary object at 0x7f31b5fb60d0>\n",
      "xp = <experiments.Xp1 object at 0x7f31b5fb6710>\n",
      "proc_feedback = 0.5\n",
      "GW_feedback = 0.95\n",
      "GW_scale = 20\n",
      "BG_thr = 0.1\n",
      "BG_bias = 0.5\n",
      "data = <data.Data object at 0x7f31b5ffd850>\n",
      "\t seed 2/5\n",
      "running run_seed2_scross0.375_sevid7.5\n"
     ]
    },
    {
     "data": {
      "text/html": [
       "\n",
       "                <div id=\"5079f769-30fb-46f8-95f5-9d7b4773dd54\" style=\"\n",
       "                    width: 100%;\n",
       "                    border: 1px solid #cfcfcf;\n",
       "                    border-radius: 4px;\n",
       "                    text-align: center;\n",
       "                    position: relative;\">\n",
       "                  <div class=\"pb-text\" style=\"\n",
       "                      position: absolute;\n",
       "                      width: 100%;\">\n",
       "                    0%\n",
       "                  </div>\n",
       "                  <div class=\"pb-fill\" style=\"\n",
       "                      background-color: #bdd2e6;\n",
       "                      width: 0%;\">\n",
       "                    <style type=\"text/css\" scoped=\"scoped\">\n",
       "                        @keyframes pb-fill-anim {\n",
       "                            0% { background-position: 0 0; }\n",
       "                            100% { background-position: 100px 0; }\n",
       "                        }\n",
       "                    </style>\n",
       "                    &nbsp;\n",
       "                  </div>\n",
       "                </div>"
      ],
      "text/plain": [
       "HtmlProgressBar cannot be displayed. Please use the TerminalProgressBar. It can be enabled with `nengo.rc.set('progress', 'progress_bar', 'nengo.utils.progress.TerminalProgressBar')`."
      ]
     },
     "metadata": {},
     "output_type": "display_data"
    },
    {
     "data": {
      "application/javascript": [
       "\n",
       "              (function () {\n",
       "                  var root = document.getElementById('5079f769-30fb-46f8-95f5-9d7b4773dd54');\n",
       "                  var text = root.getElementsByClassName('pb-text')[0];\n",
       "                  var fill = root.getElementsByClassName('pb-fill')[0];\n",
       "\n",
       "                  text.innerHTML = 'Simulation finished in 0:03:00.';\n",
       "                  \n",
       "            if (100.0 > 0.) {\n",
       "                fill.style.transition = 'width 0.1s linear';\n",
       "            } else {\n",
       "                fill.style.transition = 'none';\n",
       "            }\n",
       "\n",
       "            fill.style.width = '100.0%';\n",
       "            fill.style.animation = 'none';\n",
       "            fill.style.backgroundImage = 'none'\n",
       "        \n",
       "                  \n",
       "                fill.style.animation = 'none';\n",
       "                fill.style.backgroundImage = 'none';\n",
       "            \n",
       "              })();\n",
       "        "
      ],
      "text/plain": [
       "<IPython.core.display.Javascript object>"
      ]
     },
     "metadata": {},
     "output_type": "display_data"
    },
    {
     "name": "stdout",
     "output_type": "stream",
     "text": [
      "seed = 2\n",
      "backend = 'nengo_ocl'\n",
      "dt = 0.001\n",
      "neuron_type = 'default'\n",
      "n_neurons_scale = 1\n",
      "s_crosstalk = 0.375\n",
      "s_evidence = 7.5\n",
      "t_senso = 0.175\n",
      "vocab = <nengo_spa.vocabulary.Vocabulary object at 0x7f31ebb3b990>\n",
      "xp = <experiments.Xp1 object at 0x7f31b5b15250>\n",
      "proc_feedback = 0.5\n",
      "GW_feedback = 0.95\n",
      "GW_scale = 20\n",
      "BG_thr = 0.1\n",
      "BG_bias = 0.5\n",
      "data = <data.Data object at 0x7f31eb67cb10>\n",
      "\t seed 3/5\n",
      "running run_seed3_scross0.375_sevid7.5\n"
     ]
    },
    {
     "data": {
      "text/html": [
       "\n",
       "                <div id=\"a089a3d9-d4e2-479c-bf55-e4d75383c32e\" style=\"\n",
       "                    width: 100%;\n",
       "                    border: 1px solid #cfcfcf;\n",
       "                    border-radius: 4px;\n",
       "                    text-align: center;\n",
       "                    position: relative;\">\n",
       "                  <div class=\"pb-text\" style=\"\n",
       "                      position: absolute;\n",
       "                      width: 100%;\">\n",
       "                    0%\n",
       "                  </div>\n",
       "                  <div class=\"pb-fill\" style=\"\n",
       "                      background-color: #bdd2e6;\n",
       "                      width: 0%;\">\n",
       "                    <style type=\"text/css\" scoped=\"scoped\">\n",
       "                        @keyframes pb-fill-anim {\n",
       "                            0% { background-position: 0 0; }\n",
       "                            100% { background-position: 100px 0; }\n",
       "                        }\n",
       "                    </style>\n",
       "                    &nbsp;\n",
       "                  </div>\n",
       "                </div>"
      ],
      "text/plain": [
       "HtmlProgressBar cannot be displayed. Please use the TerminalProgressBar. It can be enabled with `nengo.rc.set('progress', 'progress_bar', 'nengo.utils.progress.TerminalProgressBar')`."
      ]
     },
     "metadata": {},
     "output_type": "display_data"
    },
    {
     "data": {
      "application/javascript": [
       "\n",
       "              (function () {\n",
       "                  var root = document.getElementById('a089a3d9-d4e2-479c-bf55-e4d75383c32e');\n",
       "                  var text = root.getElementsByClassName('pb-text')[0];\n",
       "                  var fill = root.getElementsByClassName('pb-fill')[0];\n",
       "\n",
       "                  text.innerHTML = 'Simulation finished in 0:03:00.';\n",
       "                  \n",
       "            if (100.0 > 0.) {\n",
       "                fill.style.transition = 'width 0.1s linear';\n",
       "            } else {\n",
       "                fill.style.transition = 'none';\n",
       "            }\n",
       "\n",
       "            fill.style.width = '100.0%';\n",
       "            fill.style.animation = 'none';\n",
       "            fill.style.backgroundImage = 'none'\n",
       "        \n",
       "                  \n",
       "                fill.style.animation = 'none';\n",
       "                fill.style.backgroundImage = 'none';\n",
       "            \n",
       "              })();\n",
       "        "
      ],
      "text/plain": [
       "<IPython.core.display.Javascript object>"
      ]
     },
     "metadata": {},
     "output_type": "display_data"
    },
    {
     "name": "stdout",
     "output_type": "stream",
     "text": [
      "seed = 3\n",
      "backend = 'nengo_ocl'\n",
      "dt = 0.001\n",
      "neuron_type = 'default'\n",
      "n_neurons_scale = 1\n",
      "s_crosstalk = 0.375\n",
      "s_evidence = 7.5\n",
      "t_senso = 0.175\n",
      "vocab = <nengo_spa.vocabulary.Vocabulary object at 0x7f31b1cf7810>\n",
      "xp = <experiments.Xp1 object at 0x7f31b5fb6d90>\n",
      "proc_feedback = 0.5\n",
      "GW_feedback = 0.95\n",
      "GW_scale = 20\n",
      "BG_thr = 0.1\n",
      "BG_bias = 0.5\n",
      "data = <data.Data object at 0x7f31b1cf9650>\n",
      "\t seed 4/5\n",
      "running run_seed4_scross0.375_sevid7.5\n"
     ]
    },
    {
     "data": {
      "text/html": [
       "\n",
       "                <div id=\"b583e829-833c-4834-8bfc-c8b6355f743a\" style=\"\n",
       "                    width: 100%;\n",
       "                    border: 1px solid #cfcfcf;\n",
       "                    border-radius: 4px;\n",
       "                    text-align: center;\n",
       "                    position: relative;\">\n",
       "                  <div class=\"pb-text\" style=\"\n",
       "                      position: absolute;\n",
       "                      width: 100%;\">\n",
       "                    0%\n",
       "                  </div>\n",
       "                  <div class=\"pb-fill\" style=\"\n",
       "                      background-color: #bdd2e6;\n",
       "                      width: 0%;\">\n",
       "                    <style type=\"text/css\" scoped=\"scoped\">\n",
       "                        @keyframes pb-fill-anim {\n",
       "                            0% { background-position: 0 0; }\n",
       "                            100% { background-position: 100px 0; }\n",
       "                        }\n",
       "                    </style>\n",
       "                    &nbsp;\n",
       "                  </div>\n",
       "                </div>"
      ],
      "text/plain": [
       "HtmlProgressBar cannot be displayed. Please use the TerminalProgressBar. It can be enabled with `nengo.rc.set('progress', 'progress_bar', 'nengo.utils.progress.TerminalProgressBar')`."
      ]
     },
     "metadata": {},
     "output_type": "display_data"
    },
    {
     "data": {
      "application/javascript": [
       "\n",
       "              (function () {\n",
       "                  var root = document.getElementById('b583e829-833c-4834-8bfc-c8b6355f743a');\n",
       "                  var text = root.getElementsByClassName('pb-text')[0];\n",
       "                  var fill = root.getElementsByClassName('pb-fill')[0];\n",
       "\n",
       "                  text.innerHTML = 'Simulation finished in 0:03:02.';\n",
       "                  \n",
       "            if (100.0 > 0.) {\n",
       "                fill.style.transition = 'width 0.1s linear';\n",
       "            } else {\n",
       "                fill.style.transition = 'none';\n",
       "            }\n",
       "\n",
       "            fill.style.width = '100.0%';\n",
       "            fill.style.animation = 'none';\n",
       "            fill.style.backgroundImage = 'none'\n",
       "        \n",
       "                  \n",
       "                fill.style.animation = 'none';\n",
       "                fill.style.backgroundImage = 'none';\n",
       "            \n",
       "              })();\n",
       "        "
      ],
      "text/plain": [
       "<IPython.core.display.Javascript object>"
      ]
     },
     "metadata": {},
     "output_type": "display_data"
    },
    {
     "name": "stdout",
     "output_type": "stream",
     "text": [
      "seed = 4\n",
      "backend = 'nengo_ocl'\n",
      "dt = 0.001\n",
      "neuron_type = 'default'\n",
      "n_neurons_scale = 1\n",
      "s_crosstalk = 0.375\n",
      "s_evidence = 7.5\n",
      "t_senso = 0.175\n",
      "vocab = <nengo_spa.vocabulary.Vocabulary object at 0x7f31b3ba0e10>\n",
      "xp = <experiments.Xp1 object at 0x7f31b5ffd850>\n",
      "proc_feedback = 0.5\n",
      "GW_feedback = 0.95\n",
      "GW_scale = 20\n",
      "BG_thr = 0.1\n",
      "BG_bias = 0.5\n",
      "data = <data.Data object at 0x7f31b12bb2d0>\n",
      "\t seed 5/5\n",
      "running run_seed5_scross0.375_sevid7.5\n"
     ]
    },
    {
     "data": {
      "text/html": [
       "\n",
       "                <div id=\"bc49de61-1cf9-457e-9cf6-fa71658b6178\" style=\"\n",
       "                    width: 100%;\n",
       "                    border: 1px solid #cfcfcf;\n",
       "                    border-radius: 4px;\n",
       "                    text-align: center;\n",
       "                    position: relative;\">\n",
       "                  <div class=\"pb-text\" style=\"\n",
       "                      position: absolute;\n",
       "                      width: 100%;\">\n",
       "                    0%\n",
       "                  </div>\n",
       "                  <div class=\"pb-fill\" style=\"\n",
       "                      background-color: #bdd2e6;\n",
       "                      width: 0%;\">\n",
       "                    <style type=\"text/css\" scoped=\"scoped\">\n",
       "                        @keyframes pb-fill-anim {\n",
       "                            0% { background-position: 0 0; }\n",
       "                            100% { background-position: 100px 0; }\n",
       "                        }\n",
       "                    </style>\n",
       "                    &nbsp;\n",
       "                  </div>\n",
       "                </div>"
      ],
      "text/plain": [
       "HtmlProgressBar cannot be displayed. Please use the TerminalProgressBar. It can be enabled with `nengo.rc.set('progress', 'progress_bar', 'nengo.utils.progress.TerminalProgressBar')`."
      ]
     },
     "metadata": {},
     "output_type": "display_data"
    },
    {
     "data": {
      "application/javascript": [
       "\n",
       "              (function () {\n",
       "                  var root = document.getElementById('bc49de61-1cf9-457e-9cf6-fa71658b6178');\n",
       "                  var text = root.getElementsByClassName('pb-text')[0];\n",
       "                  var fill = root.getElementsByClassName('pb-fill')[0];\n",
       "\n",
       "                  text.innerHTML = 'Simulation finished in 0:03:01.';\n",
       "                  \n",
       "            if (100.0 > 0.) {\n",
       "                fill.style.transition = 'width 0.1s linear';\n",
       "            } else {\n",
       "                fill.style.transition = 'none';\n",
       "            }\n",
       "\n",
       "            fill.style.width = '100.0%';\n",
       "            fill.style.animation = 'none';\n",
       "            fill.style.backgroundImage = 'none'\n",
       "        \n",
       "                  \n",
       "                fill.style.animation = 'none';\n",
       "                fill.style.backgroundImage = 'none';\n",
       "            \n",
       "              })();\n",
       "        "
      ],
      "text/plain": [
       "<IPython.core.display.Javascript object>"
      ]
     },
     "metadata": {},
     "output_type": "display_data"
    },
    {
     "name": "stdout",
     "output_type": "stream",
     "text": [
      "seed = 5\n",
      "backend = 'nengo_ocl'\n",
      "dt = 0.001\n",
      "neuron_type = 'default'\n",
      "n_neurons_scale = 1\n",
      "s_crosstalk = 0.375\n",
      "s_evidence = 7.5\n",
      "t_senso = 0.175\n",
      "vocab = <nengo_spa.vocabulary.Vocabulary object at 0x7f31eb5b3a90>\n",
      "xp = <experiments.Xp1 object at 0x7f31b3ba0550>\n",
      "proc_feedback = 0.5\n",
      "GW_feedback = 0.95\n",
      "GW_scale = 20\n",
      "BG_thr = 0.1\n",
      "BG_bias = 0.5\n",
      "data = <data.Data object at 0x7f31eb2711d0>\n",
      "error: 96.40201023874835\n",
      "params: [ 0.375 11.25 ]\n",
      "Simulating...\n",
      "\t seed 1/5\n",
      "running run_seed1_scross0.375_sevid11.25\n"
     ]
    },
    {
     "data": {
      "text/html": [
       "\n",
       "                <div id=\"27ba9769-f1cf-46b6-907b-5408c9549376\" style=\"\n",
       "                    width: 100%;\n",
       "                    border: 1px solid #cfcfcf;\n",
       "                    border-radius: 4px;\n",
       "                    text-align: center;\n",
       "                    position: relative;\">\n",
       "                  <div class=\"pb-text\" style=\"\n",
       "                      position: absolute;\n",
       "                      width: 100%;\">\n",
       "                    0%\n",
       "                  </div>\n",
       "                  <div class=\"pb-fill\" style=\"\n",
       "                      background-color: #bdd2e6;\n",
       "                      width: 0%;\">\n",
       "                    <style type=\"text/css\" scoped=\"scoped\">\n",
       "                        @keyframes pb-fill-anim {\n",
       "                            0% { background-position: 0 0; }\n",
       "                            100% { background-position: 100px 0; }\n",
       "                        }\n",
       "                    </style>\n",
       "                    &nbsp;\n",
       "                  </div>\n",
       "                </div>"
      ],
      "text/plain": [
       "HtmlProgressBar cannot be displayed. Please use the TerminalProgressBar. It can be enabled with `nengo.rc.set('progress', 'progress_bar', 'nengo.utils.progress.TerminalProgressBar')`."
      ]
     },
     "metadata": {},
     "output_type": "display_data"
    },
    {
     "data": {
      "application/javascript": [
       "\n",
       "              (function () {\n",
       "                  var root = document.getElementById('27ba9769-f1cf-46b6-907b-5408c9549376');\n",
       "                  var text = root.getElementsByClassName('pb-text')[0];\n",
       "                  var fill = root.getElementsByClassName('pb-fill')[0];\n",
       "\n",
       "                  text.innerHTML = 'Simulation finished in 0:02:57.';\n",
       "                  \n",
       "            if (100.0 > 0.) {\n",
       "                fill.style.transition = 'width 0.1s linear';\n",
       "            } else {\n",
       "                fill.style.transition = 'none';\n",
       "            }\n",
       "\n",
       "            fill.style.width = '100.0%';\n",
       "            fill.style.animation = 'none';\n",
       "            fill.style.backgroundImage = 'none'\n",
       "        \n",
       "                  \n",
       "                fill.style.animation = 'none';\n",
       "                fill.style.backgroundImage = 'none';\n",
       "            \n",
       "              })();\n",
       "        "
      ],
      "text/plain": [
       "<IPython.core.display.Javascript object>"
      ]
     },
     "metadata": {},
     "output_type": "display_data"
    },
    {
     "name": "stdout",
     "output_type": "stream",
     "text": [
      "seed = 1\n",
      "backend = 'nengo_ocl'\n",
      "dt = 0.001\n",
      "neuron_type = 'default'\n",
      "n_neurons_scale = 1\n",
      "s_crosstalk = 0.375\n",
      "s_evidence = 11.25\n",
      "t_senso = 0.175\n",
      "vocab = <nengo_spa.vocabulary.Vocabulary object at 0x7f31e1de7e10>\n",
      "xp = <experiments.Xp1 object at 0x7f31b2db54d0>\n",
      "proc_feedback = 0.5\n",
      "GW_feedback = 0.95\n",
      "GW_scale = 20\n",
      "BG_thr = 0.1\n",
      "BG_bias = 0.5\n",
      "data = <data.Data object at 0x7f31eb679d10>\n",
      "\t seed 2/5\n",
      "running run_seed2_scross0.375_sevid11.25\n"
     ]
    },
    {
     "data": {
      "text/html": [
       "\n",
       "                <div id=\"08da7ba6-50c3-45a1-9619-5d985382a7d4\" style=\"\n",
       "                    width: 100%;\n",
       "                    border: 1px solid #cfcfcf;\n",
       "                    border-radius: 4px;\n",
       "                    text-align: center;\n",
       "                    position: relative;\">\n",
       "                  <div class=\"pb-text\" style=\"\n",
       "                      position: absolute;\n",
       "                      width: 100%;\">\n",
       "                    0%\n",
       "                  </div>\n",
       "                  <div class=\"pb-fill\" style=\"\n",
       "                      background-color: #bdd2e6;\n",
       "                      width: 0%;\">\n",
       "                    <style type=\"text/css\" scoped=\"scoped\">\n",
       "                        @keyframes pb-fill-anim {\n",
       "                            0% { background-position: 0 0; }\n",
       "                            100% { background-position: 100px 0; }\n",
       "                        }\n",
       "                    </style>\n",
       "                    &nbsp;\n",
       "                  </div>\n",
       "                </div>"
      ],
      "text/plain": [
       "HtmlProgressBar cannot be displayed. Please use the TerminalProgressBar. It can be enabled with `nengo.rc.set('progress', 'progress_bar', 'nengo.utils.progress.TerminalProgressBar')`."
      ]
     },
     "metadata": {},
     "output_type": "display_data"
    },
    {
     "data": {
      "application/javascript": [
       "\n",
       "              (function () {\n",
       "                  var root = document.getElementById('08da7ba6-50c3-45a1-9619-5d985382a7d4');\n",
       "                  var text = root.getElementsByClassName('pb-text')[0];\n",
       "                  var fill = root.getElementsByClassName('pb-fill')[0];\n",
       "\n",
       "                  text.innerHTML = 'Simulation finished in 0:03:04.';\n",
       "                  \n",
       "            if (100.0 > 0.) {\n",
       "                fill.style.transition = 'width 0.1s linear';\n",
       "            } else {\n",
       "                fill.style.transition = 'none';\n",
       "            }\n",
       "\n",
       "            fill.style.width = '100.0%';\n",
       "            fill.style.animation = 'none';\n",
       "            fill.style.backgroundImage = 'none'\n",
       "        \n",
       "                  \n",
       "                fill.style.animation = 'none';\n",
       "                fill.style.backgroundImage = 'none';\n",
       "            \n",
       "              })();\n",
       "        "
      ],
      "text/plain": [
       "<IPython.core.display.Javascript object>"
      ]
     },
     "metadata": {},
     "output_type": "display_data"
    },
    {
     "name": "stdout",
     "output_type": "stream",
     "text": [
      "seed = 2\n",
      "backend = 'nengo_ocl'\n",
      "dt = 0.001\n",
      "neuron_type = 'default'\n",
      "n_neurons_scale = 1\n",
      "s_crosstalk = 0.375\n",
      "s_evidence = 11.25\n",
      "t_senso = 0.175\n",
      "vocab = <nengo_spa.vocabulary.Vocabulary object at 0x7f31b3c92750>\n",
      "xp = <experiments.Xp1 object at 0x7f31b1f45090>\n",
      "proc_feedback = 0.5\n",
      "GW_feedback = 0.95\n",
      "GW_scale = 20\n",
      "BG_thr = 0.1\n",
      "BG_bias = 0.5\n",
      "data = <data.Data object at 0x7f31b2dfcfd0>\n",
      "\t seed 3/5\n",
      "running run_seed3_scross0.375_sevid11.25\n"
     ]
    },
    {
     "data": {
      "text/html": [
       "\n",
       "                <div id=\"5f9638d3-6768-4000-88aa-0c6d39a55ea5\" style=\"\n",
       "                    width: 100%;\n",
       "                    border: 1px solid #cfcfcf;\n",
       "                    border-radius: 4px;\n",
       "                    text-align: center;\n",
       "                    position: relative;\">\n",
       "                  <div class=\"pb-text\" style=\"\n",
       "                      position: absolute;\n",
       "                      width: 100%;\">\n",
       "                    0%\n",
       "                  </div>\n",
       "                  <div class=\"pb-fill\" style=\"\n",
       "                      background-color: #bdd2e6;\n",
       "                      width: 0%;\">\n",
       "                    <style type=\"text/css\" scoped=\"scoped\">\n",
       "                        @keyframes pb-fill-anim {\n",
       "                            0% { background-position: 0 0; }\n",
       "                            100% { background-position: 100px 0; }\n",
       "                        }\n",
       "                    </style>\n",
       "                    &nbsp;\n",
       "                  </div>\n",
       "                </div>"
      ],
      "text/plain": [
       "HtmlProgressBar cannot be displayed. Please use the TerminalProgressBar. It can be enabled with `nengo.rc.set('progress', 'progress_bar', 'nengo.utils.progress.TerminalProgressBar')`."
      ]
     },
     "metadata": {},
     "output_type": "display_data"
    },
    {
     "data": {
      "application/javascript": [
       "\n",
       "              (function () {\n",
       "                  var root = document.getElementById('5f9638d3-6768-4000-88aa-0c6d39a55ea5');\n",
       "                  var text = root.getElementsByClassName('pb-text')[0];\n",
       "                  var fill = root.getElementsByClassName('pb-fill')[0];\n",
       "\n",
       "                  text.innerHTML = 'Simulation finished in 0:02:58.';\n",
       "                  \n",
       "            if (100.0 > 0.) {\n",
       "                fill.style.transition = 'width 0.1s linear';\n",
       "            } else {\n",
       "                fill.style.transition = 'none';\n",
       "            }\n",
       "\n",
       "            fill.style.width = '100.0%';\n",
       "            fill.style.animation = 'none';\n",
       "            fill.style.backgroundImage = 'none'\n",
       "        \n",
       "                  \n",
       "                fill.style.animation = 'none';\n",
       "                fill.style.backgroundImage = 'none';\n",
       "            \n",
       "              })();\n",
       "        "
      ],
      "text/plain": [
       "<IPython.core.display.Javascript object>"
      ]
     },
     "metadata": {},
     "output_type": "display_data"
    },
    {
     "name": "stdout",
     "output_type": "stream",
     "text": [
      "seed = 3\n",
      "backend = 'nengo_ocl'\n",
      "dt = 0.001\n",
      "neuron_type = 'default'\n",
      "n_neurons_scale = 1\n",
      "s_crosstalk = 0.375\n",
      "s_evidence = 11.25\n",
      "t_senso = 0.175\n",
      "vocab = <nengo_spa.vocabulary.Vocabulary object at 0x7f31b45dddd0>\n",
      "xp = <experiments.Xp1 object at 0x7f31b4d03990>\n",
      "proc_feedback = 0.5\n",
      "GW_feedback = 0.95\n",
      "GW_scale = 20\n",
      "BG_thr = 0.1\n",
      "BG_bias = 0.5\n",
      "data = <data.Data object at 0x7f31eb603190>\n",
      "\t seed 4/5\n",
      "running run_seed4_scross0.375_sevid11.25\n"
     ]
    },
    {
     "data": {
      "text/html": [
       "\n",
       "                <div id=\"79dd1ab3-de44-4c94-bcf2-c06fc5eb539e\" style=\"\n",
       "                    width: 100%;\n",
       "                    border: 1px solid #cfcfcf;\n",
       "                    border-radius: 4px;\n",
       "                    text-align: center;\n",
       "                    position: relative;\">\n",
       "                  <div class=\"pb-text\" style=\"\n",
       "                      position: absolute;\n",
       "                      width: 100%;\">\n",
       "                    0%\n",
       "                  </div>\n",
       "                  <div class=\"pb-fill\" style=\"\n",
       "                      background-color: #bdd2e6;\n",
       "                      width: 0%;\">\n",
       "                    <style type=\"text/css\" scoped=\"scoped\">\n",
       "                        @keyframes pb-fill-anim {\n",
       "                            0% { background-position: 0 0; }\n",
       "                            100% { background-position: 100px 0; }\n",
       "                        }\n",
       "                    </style>\n",
       "                    &nbsp;\n",
       "                  </div>\n",
       "                </div>"
      ],
      "text/plain": [
       "HtmlProgressBar cannot be displayed. Please use the TerminalProgressBar. It can be enabled with `nengo.rc.set('progress', 'progress_bar', 'nengo.utils.progress.TerminalProgressBar')`."
      ]
     },
     "metadata": {},
     "output_type": "display_data"
    },
    {
     "data": {
      "application/javascript": [
       "\n",
       "              (function () {\n",
       "                  var root = document.getElementById('79dd1ab3-de44-4c94-bcf2-c06fc5eb539e');\n",
       "                  var text = root.getElementsByClassName('pb-text')[0];\n",
       "                  var fill = root.getElementsByClassName('pb-fill')[0];\n",
       "\n",
       "                  text.innerHTML = 'Simulation finished in 0:02:58.';\n",
       "                  \n",
       "            if (100.0 > 0.) {\n",
       "                fill.style.transition = 'width 0.1s linear';\n",
       "            } else {\n",
       "                fill.style.transition = 'none';\n",
       "            }\n",
       "\n",
       "            fill.style.width = '100.0%';\n",
       "            fill.style.animation = 'none';\n",
       "            fill.style.backgroundImage = 'none'\n",
       "        \n",
       "                  \n",
       "                fill.style.animation = 'none';\n",
       "                fill.style.backgroundImage = 'none';\n",
       "            \n",
       "              })();\n",
       "        "
      ],
      "text/plain": [
       "<IPython.core.display.Javascript object>"
      ]
     },
     "metadata": {},
     "output_type": "display_data"
    },
    {
     "name": "stdout",
     "output_type": "stream",
     "text": [
      "seed = 4\n",
      "backend = 'nengo_ocl'\n",
      "dt = 0.001\n",
      "neuron_type = 'default'\n",
      "n_neurons_scale = 1\n",
      "s_crosstalk = 0.375\n",
      "s_evidence = 11.25\n",
      "t_senso = 0.175\n",
      "vocab = <nengo_spa.vocabulary.Vocabulary object at 0x7f31b2dfcfd0>\n",
      "xp = <experiments.Xp1 object at 0x7f31eb9d6d10>\n",
      "proc_feedback = 0.5\n",
      "GW_feedback = 0.95\n",
      "GW_scale = 20\n",
      "BG_thr = 0.1\n",
      "BG_bias = 0.5\n",
      "data = <data.Data object at 0x7f31b641db10>\n",
      "\t seed 5/5\n",
      "running run_seed5_scross0.375_sevid11.25\n"
     ]
    },
    {
     "data": {
      "text/html": [
       "\n",
       "                <div id=\"efd6c0bf-fa2c-4755-980b-d5bd2ce49ed6\" style=\"\n",
       "                    width: 100%;\n",
       "                    border: 1px solid #cfcfcf;\n",
       "                    border-radius: 4px;\n",
       "                    text-align: center;\n",
       "                    position: relative;\">\n",
       "                  <div class=\"pb-text\" style=\"\n",
       "                      position: absolute;\n",
       "                      width: 100%;\">\n",
       "                    0%\n",
       "                  </div>\n",
       "                  <div class=\"pb-fill\" style=\"\n",
       "                      background-color: #bdd2e6;\n",
       "                      width: 0%;\">\n",
       "                    <style type=\"text/css\" scoped=\"scoped\">\n",
       "                        @keyframes pb-fill-anim {\n",
       "                            0% { background-position: 0 0; }\n",
       "                            100% { background-position: 100px 0; }\n",
       "                        }\n",
       "                    </style>\n",
       "                    &nbsp;\n",
       "                  </div>\n",
       "                </div>"
      ],
      "text/plain": [
       "HtmlProgressBar cannot be displayed. Please use the TerminalProgressBar. It can be enabled with `nengo.rc.set('progress', 'progress_bar', 'nengo.utils.progress.TerminalProgressBar')`."
      ]
     },
     "metadata": {},
     "output_type": "display_data"
    },
    {
     "data": {
      "application/javascript": [
       "\n",
       "              (function () {\n",
       "                  var root = document.getElementById('efd6c0bf-fa2c-4755-980b-d5bd2ce49ed6');\n",
       "                  var text = root.getElementsByClassName('pb-text')[0];\n",
       "                  var fill = root.getElementsByClassName('pb-fill')[0];\n",
       "\n",
       "                  text.innerHTML = 'Simulation finished in 0:02:52.';\n",
       "                  \n",
       "            if (100.0 > 0.) {\n",
       "                fill.style.transition = 'width 0.1s linear';\n",
       "            } else {\n",
       "                fill.style.transition = 'none';\n",
       "            }\n",
       "\n",
       "            fill.style.width = '100.0%';\n",
       "            fill.style.animation = 'none';\n",
       "            fill.style.backgroundImage = 'none'\n",
       "        \n",
       "                  \n",
       "                fill.style.animation = 'none';\n",
       "                fill.style.backgroundImage = 'none';\n",
       "            \n",
       "              })();\n",
       "        "
      ],
      "text/plain": [
       "<IPython.core.display.Javascript object>"
      ]
     },
     "metadata": {},
     "output_type": "display_data"
    },
    {
     "name": "stdout",
     "output_type": "stream",
     "text": [
      "seed = 5\n",
      "backend = 'nengo_ocl'\n",
      "dt = 0.001\n",
      "neuron_type = 'default'\n",
      "n_neurons_scale = 1\n",
      "s_crosstalk = 0.375\n",
      "s_evidence = 11.25\n",
      "t_senso = 0.175\n",
      "vocab = <nengo_spa.vocabulary.Vocabulary object at 0x7f31eb921c50>\n",
      "xp = <experiments.Xp1 object at 0x7f31eb9d6b90>\n",
      "proc_feedback = 0.5\n",
      "GW_feedback = 0.95\n",
      "GW_scale = 20\n",
      "BG_thr = 0.1\n",
      "BG_bias = 0.5\n",
      "data = <data.Data object at 0x7f31b2d9bc50>\n",
      "error: 96.01299425001983\n",
      "params: [ 0.375 15.   ]\n",
      "Simulating...\n",
      "\t seed 1/5\n",
      "running run_seed1_scross0.375_sevid15.0\n"
     ]
    },
    {
     "data": {
      "text/html": [
       "\n",
       "                <div id=\"0fcc1fe8-866c-45fb-a679-de99c8405112\" style=\"\n",
       "                    width: 100%;\n",
       "                    border: 1px solid #cfcfcf;\n",
       "                    border-radius: 4px;\n",
       "                    text-align: center;\n",
       "                    position: relative;\">\n",
       "                  <div class=\"pb-text\" style=\"\n",
       "                      position: absolute;\n",
       "                      width: 100%;\">\n",
       "                    0%\n",
       "                  </div>\n",
       "                  <div class=\"pb-fill\" style=\"\n",
       "                      background-color: #bdd2e6;\n",
       "                      width: 0%;\">\n",
       "                    <style type=\"text/css\" scoped=\"scoped\">\n",
       "                        @keyframes pb-fill-anim {\n",
       "                            0% { background-position: 0 0; }\n",
       "                            100% { background-position: 100px 0; }\n",
       "                        }\n",
       "                    </style>\n",
       "                    &nbsp;\n",
       "                  </div>\n",
       "                </div>"
      ],
      "text/plain": [
       "HtmlProgressBar cannot be displayed. Please use the TerminalProgressBar. It can be enabled with `nengo.rc.set('progress', 'progress_bar', 'nengo.utils.progress.TerminalProgressBar')`."
      ]
     },
     "metadata": {},
     "output_type": "display_data"
    },
    {
     "data": {
      "application/javascript": [
       "\n",
       "              (function () {\n",
       "                  var root = document.getElementById('0fcc1fe8-866c-45fb-a679-de99c8405112');\n",
       "                  var text = root.getElementsByClassName('pb-text')[0];\n",
       "                  var fill = root.getElementsByClassName('pb-fill')[0];\n",
       "\n",
       "                  text.innerHTML = 'Simulation finished in 0:02:53.';\n",
       "                  \n",
       "            if (100.0 > 0.) {\n",
       "                fill.style.transition = 'width 0.1s linear';\n",
       "            } else {\n",
       "                fill.style.transition = 'none';\n",
       "            }\n",
       "\n",
       "            fill.style.width = '100.0%';\n",
       "            fill.style.animation = 'none';\n",
       "            fill.style.backgroundImage = 'none'\n",
       "        \n",
       "                  \n",
       "                fill.style.animation = 'none';\n",
       "                fill.style.backgroundImage = 'none';\n",
       "            \n",
       "              })();\n",
       "        "
      ],
      "text/plain": [
       "<IPython.core.display.Javascript object>"
      ]
     },
     "metadata": {},
     "output_type": "display_data"
    },
    {
     "name": "stdout",
     "output_type": "stream",
     "text": [
      "seed = 1\n",
      "backend = 'nengo_ocl'\n",
      "dt = 0.001\n",
      "neuron_type = 'default'\n",
      "n_neurons_scale = 1\n",
      "s_crosstalk = 0.375\n",
      "s_evidence = 15.0\n",
      "t_senso = 0.175\n",
      "vocab = <nengo_spa.vocabulary.Vocabulary object at 0x7f31b2da0d10>\n",
      "xp = <experiments.Xp1 object at 0x7f31b2da0b10>\n",
      "proc_feedback = 0.5\n",
      "GW_feedback = 0.95\n",
      "GW_scale = 20\n",
      "BG_thr = 0.1\n",
      "BG_bias = 0.5\n",
      "data = <data.Data object at 0x7f31b2ded9d0>\n",
      "\t seed 2/5\n",
      "running run_seed2_scross0.375_sevid15.0\n"
     ]
    },
    {
     "data": {
      "text/html": [
       "\n",
       "                <div id=\"75524870-4bbf-4fa2-aaed-415c7527a0b5\" style=\"\n",
       "                    width: 100%;\n",
       "                    border: 1px solid #cfcfcf;\n",
       "                    border-radius: 4px;\n",
       "                    text-align: center;\n",
       "                    position: relative;\">\n",
       "                  <div class=\"pb-text\" style=\"\n",
       "                      position: absolute;\n",
       "                      width: 100%;\">\n",
       "                    0%\n",
       "                  </div>\n",
       "                  <div class=\"pb-fill\" style=\"\n",
       "                      background-color: #bdd2e6;\n",
       "                      width: 0%;\">\n",
       "                    <style type=\"text/css\" scoped=\"scoped\">\n",
       "                        @keyframes pb-fill-anim {\n",
       "                            0% { background-position: 0 0; }\n",
       "                            100% { background-position: 100px 0; }\n",
       "                        }\n",
       "                    </style>\n",
       "                    &nbsp;\n",
       "                  </div>\n",
       "                </div>"
      ],
      "text/plain": [
       "HtmlProgressBar cannot be displayed. Please use the TerminalProgressBar. It can be enabled with `nengo.rc.set('progress', 'progress_bar', 'nengo.utils.progress.TerminalProgressBar')`."
      ]
     },
     "metadata": {},
     "output_type": "display_data"
    },
    {
     "data": {
      "application/javascript": [
       "\n",
       "              (function () {\n",
       "                  var root = document.getElementById('75524870-4bbf-4fa2-aaed-415c7527a0b5');\n",
       "                  var text = root.getElementsByClassName('pb-text')[0];\n",
       "                  var fill = root.getElementsByClassName('pb-fill')[0];\n",
       "\n",
       "                  text.innerHTML = 'Simulation finished in 0:02:55.';\n",
       "                  \n",
       "            if (100.0 > 0.) {\n",
       "                fill.style.transition = 'width 0.1s linear';\n",
       "            } else {\n",
       "                fill.style.transition = 'none';\n",
       "            }\n",
       "\n",
       "            fill.style.width = '100.0%';\n",
       "            fill.style.animation = 'none';\n",
       "            fill.style.backgroundImage = 'none'\n",
       "        \n",
       "                  \n",
       "                fill.style.animation = 'none';\n",
       "                fill.style.backgroundImage = 'none';\n",
       "            \n",
       "              })();\n",
       "        "
      ],
      "text/plain": [
       "<IPython.core.display.Javascript object>"
      ]
     },
     "metadata": {},
     "output_type": "display_data"
    },
    {
     "name": "stdout",
     "output_type": "stream",
     "text": [
      "seed = 2\n",
      "backend = 'nengo_ocl'\n",
      "dt = 0.001\n",
      "neuron_type = 'default'\n",
      "n_neurons_scale = 1\n",
      "s_crosstalk = 0.375\n",
      "s_evidence = 15.0\n",
      "t_senso = 0.175\n",
      "vocab = <nengo_spa.vocabulary.Vocabulary object at 0x7f31b2ded7d0>\n",
      "xp = <experiments.Xp1 object at 0x7f31b2ded710>\n",
      "proc_feedback = 0.5\n",
      "GW_feedback = 0.95\n",
      "GW_scale = 20\n",
      "BG_thr = 0.1\n",
      "BG_bias = 0.5\n",
      "data = <data.Data object at 0x7f31b5912d50>\n",
      "\t seed 3/5\n",
      "running run_seed3_scross0.375_sevid15.0\n"
     ]
    },
    {
     "data": {
      "text/html": [
       "\n",
       "                <div id=\"39bd6be0-8087-425b-9c33-c801e64df0e5\" style=\"\n",
       "                    width: 100%;\n",
       "                    border: 1px solid #cfcfcf;\n",
       "                    border-radius: 4px;\n",
       "                    text-align: center;\n",
       "                    position: relative;\">\n",
       "                  <div class=\"pb-text\" style=\"\n",
       "                      position: absolute;\n",
       "                      width: 100%;\">\n",
       "                    0%\n",
       "                  </div>\n",
       "                  <div class=\"pb-fill\" style=\"\n",
       "                      background-color: #bdd2e6;\n",
       "                      width: 0%;\">\n",
       "                    <style type=\"text/css\" scoped=\"scoped\">\n",
       "                        @keyframes pb-fill-anim {\n",
       "                            0% { background-position: 0 0; }\n",
       "                            100% { background-position: 100px 0; }\n",
       "                        }\n",
       "                    </style>\n",
       "                    &nbsp;\n",
       "                  </div>\n",
       "                </div>"
      ],
      "text/plain": [
       "HtmlProgressBar cannot be displayed. Please use the TerminalProgressBar. It can be enabled with `nengo.rc.set('progress', 'progress_bar', 'nengo.utils.progress.TerminalProgressBar')`."
      ]
     },
     "metadata": {},
     "output_type": "display_data"
    },
    {
     "data": {
      "application/javascript": [
       "\n",
       "              (function () {\n",
       "                  var root = document.getElementById('39bd6be0-8087-425b-9c33-c801e64df0e5');\n",
       "                  var text = root.getElementsByClassName('pb-text')[0];\n",
       "                  var fill = root.getElementsByClassName('pb-fill')[0];\n",
       "\n",
       "                  text.innerHTML = 'Simulation finished in 0:03:06.';\n",
       "                  \n",
       "            if (100.0 > 0.) {\n",
       "                fill.style.transition = 'width 0.1s linear';\n",
       "            } else {\n",
       "                fill.style.transition = 'none';\n",
       "            }\n",
       "\n",
       "            fill.style.width = '100.0%';\n",
       "            fill.style.animation = 'none';\n",
       "            fill.style.backgroundImage = 'none'\n",
       "        \n",
       "                  \n",
       "                fill.style.animation = 'none';\n",
       "                fill.style.backgroundImage = 'none';\n",
       "            \n",
       "              })();\n",
       "        "
      ],
      "text/plain": [
       "<IPython.core.display.Javascript object>"
      ]
     },
     "metadata": {},
     "output_type": "display_data"
    },
    {
     "name": "stdout",
     "output_type": "stream",
     "text": [
      "seed = 3\n",
      "backend = 'nengo_ocl'\n",
      "dt = 0.001\n",
      "neuron_type = 'default'\n",
      "n_neurons_scale = 1\n",
      "s_crosstalk = 0.375\n",
      "s_evidence = 15.0\n",
      "t_senso = 0.175\n",
      "vocab = <nengo_spa.vocabulary.Vocabulary object at 0x7f31eb5c4f90>\n",
      "xp = <experiments.Xp1 object at 0x7f31eb5c4510>\n",
      "proc_feedback = 0.5\n",
      "GW_feedback = 0.95\n",
      "GW_scale = 20\n",
      "BG_thr = 0.1\n",
      "BG_bias = 0.5\n",
      "data = <data.Data object at 0x7f31b4de3290>\n",
      "\t seed 4/5\n",
      "running run_seed4_scross0.375_sevid15.0\n"
     ]
    },
    {
     "data": {
      "text/html": [
       "\n",
       "                <div id=\"eb96e1f7-21ea-4aba-9979-2a3827f85f62\" style=\"\n",
       "                    width: 100%;\n",
       "                    border: 1px solid #cfcfcf;\n",
       "                    border-radius: 4px;\n",
       "                    text-align: center;\n",
       "                    position: relative;\">\n",
       "                  <div class=\"pb-text\" style=\"\n",
       "                      position: absolute;\n",
       "                      width: 100%;\">\n",
       "                    0%\n",
       "                  </div>\n",
       "                  <div class=\"pb-fill\" style=\"\n",
       "                      background-color: #bdd2e6;\n",
       "                      width: 0%;\">\n",
       "                    <style type=\"text/css\" scoped=\"scoped\">\n",
       "                        @keyframes pb-fill-anim {\n",
       "                            0% { background-position: 0 0; }\n",
       "                            100% { background-position: 100px 0; }\n",
       "                        }\n",
       "                    </style>\n",
       "                    &nbsp;\n",
       "                  </div>\n",
       "                </div>"
      ],
      "text/plain": [
       "HtmlProgressBar cannot be displayed. Please use the TerminalProgressBar. It can be enabled with `nengo.rc.set('progress', 'progress_bar', 'nengo.utils.progress.TerminalProgressBar')`."
      ]
     },
     "metadata": {},
     "output_type": "display_data"
    },
    {
     "data": {
      "application/javascript": [
       "\n",
       "              (function () {\n",
       "                  var root = document.getElementById('eb96e1f7-21ea-4aba-9979-2a3827f85f62');\n",
       "                  var text = root.getElementsByClassName('pb-text')[0];\n",
       "                  var fill = root.getElementsByClassName('pb-fill')[0];\n",
       "\n",
       "                  text.innerHTML = 'Simulation finished in 0:03:01.';\n",
       "                  \n",
       "            if (100.0 > 0.) {\n",
       "                fill.style.transition = 'width 0.1s linear';\n",
       "            } else {\n",
       "                fill.style.transition = 'none';\n",
       "            }\n",
       "\n",
       "            fill.style.width = '100.0%';\n",
       "            fill.style.animation = 'none';\n",
       "            fill.style.backgroundImage = 'none'\n",
       "        \n",
       "                  \n",
       "                fill.style.animation = 'none';\n",
       "                fill.style.backgroundImage = 'none';\n",
       "            \n",
       "              })();\n",
       "        "
      ],
      "text/plain": [
       "<IPython.core.display.Javascript object>"
      ]
     },
     "metadata": {},
     "output_type": "display_data"
    },
    {
     "name": "stdout",
     "output_type": "stream",
     "text": [
      "seed = 4\n",
      "backend = 'nengo_ocl'\n",
      "dt = 0.001\n",
      "neuron_type = 'default'\n",
      "n_neurons_scale = 1\n",
      "s_crosstalk = 0.375\n",
      "s_evidence = 15.0\n",
      "t_senso = 0.175\n",
      "vocab = <nengo_spa.vocabulary.Vocabulary object at 0x7f31b5912d50>\n",
      "xp = <experiments.Xp1 object at 0x7f31eb5c4490>\n",
      "proc_feedback = 0.5\n",
      "GW_feedback = 0.95\n",
      "GW_scale = 20\n",
      "BG_thr = 0.1\n",
      "BG_bias = 0.5\n",
      "data = <data.Data object at 0x7f31eb29d6d0>\n",
      "\t seed 5/5\n",
      "running run_seed5_scross0.375_sevid15.0\n"
     ]
    },
    {
     "data": {
      "text/html": [
       "\n",
       "                <div id=\"ca6ebdd7-feb4-4138-ac71-843c8fbceb19\" style=\"\n",
       "                    width: 100%;\n",
       "                    border: 1px solid #cfcfcf;\n",
       "                    border-radius: 4px;\n",
       "                    text-align: center;\n",
       "                    position: relative;\">\n",
       "                  <div class=\"pb-text\" style=\"\n",
       "                      position: absolute;\n",
       "                      width: 100%;\">\n",
       "                    0%\n",
       "                  </div>\n",
       "                  <div class=\"pb-fill\" style=\"\n",
       "                      background-color: #bdd2e6;\n",
       "                      width: 0%;\">\n",
       "                    <style type=\"text/css\" scoped=\"scoped\">\n",
       "                        @keyframes pb-fill-anim {\n",
       "                            0% { background-position: 0 0; }\n",
       "                            100% { background-position: 100px 0; }\n",
       "                        }\n",
       "                    </style>\n",
       "                    &nbsp;\n",
       "                  </div>\n",
       "                </div>"
      ],
      "text/plain": [
       "HtmlProgressBar cannot be displayed. Please use the TerminalProgressBar. It can be enabled with `nengo.rc.set('progress', 'progress_bar', 'nengo.utils.progress.TerminalProgressBar')`."
      ]
     },
     "metadata": {},
     "output_type": "display_data"
    },
    {
     "data": {
      "application/javascript": [
       "\n",
       "              (function () {\n",
       "                  var root = document.getElementById('ca6ebdd7-feb4-4138-ac71-843c8fbceb19');\n",
       "                  var text = root.getElementsByClassName('pb-text')[0];\n",
       "                  var fill = root.getElementsByClassName('pb-fill')[0];\n",
       "\n",
       "                  text.innerHTML = 'Simulation finished in 0:03:00.';\n",
       "                  \n",
       "            if (100.0 > 0.) {\n",
       "                fill.style.transition = 'width 0.1s linear';\n",
       "            } else {\n",
       "                fill.style.transition = 'none';\n",
       "            }\n",
       "\n",
       "            fill.style.width = '100.0%';\n",
       "            fill.style.animation = 'none';\n",
       "            fill.style.backgroundImage = 'none'\n",
       "        \n",
       "                  \n",
       "                fill.style.animation = 'none';\n",
       "                fill.style.backgroundImage = 'none';\n",
       "            \n",
       "              })();\n",
       "        "
      ],
      "text/plain": [
       "<IPython.core.display.Javascript object>"
      ]
     },
     "metadata": {},
     "output_type": "display_data"
    },
    {
     "name": "stdout",
     "output_type": "stream",
     "text": [
      "seed = 5\n",
      "backend = 'nengo_ocl'\n",
      "dt = 0.001\n",
      "neuron_type = 'default'\n",
      "n_neurons_scale = 1\n",
      "s_crosstalk = 0.375\n",
      "s_evidence = 15.0\n",
      "t_senso = 0.175\n",
      "vocab = <nengo_spa.vocabulary.Vocabulary object at 0x7f31eb9db550>\n",
      "xp = <experiments.Xp1 object at 0x7f31eb9db310>\n",
      "proc_feedback = 0.5\n",
      "GW_feedback = 0.95\n",
      "GW_scale = 20\n",
      "BG_thr = 0.1\n",
      "BG_bias = 0.5\n",
      "data = <data.Data object at 0x7f31b0ad2fd0>\n",
      "error: 95.4426636142183\n",
      "params: [0.75 0.  ]\n",
      "Simulating...\n",
      "\t seed 1/5\n",
      "running run_seed1_scross0.75_sevid0.0\n"
     ]
    },
    {
     "data": {
      "text/html": [
       "\n",
       "                <div id=\"acb90004-bd57-4a7c-bf3b-dd5e5ae91891\" style=\"\n",
       "                    width: 100%;\n",
       "                    border: 1px solid #cfcfcf;\n",
       "                    border-radius: 4px;\n",
       "                    text-align: center;\n",
       "                    position: relative;\">\n",
       "                  <div class=\"pb-text\" style=\"\n",
       "                      position: absolute;\n",
       "                      width: 100%;\">\n",
       "                    0%\n",
       "                  </div>\n",
       "                  <div class=\"pb-fill\" style=\"\n",
       "                      background-color: #bdd2e6;\n",
       "                      width: 0%;\">\n",
       "                    <style type=\"text/css\" scoped=\"scoped\">\n",
       "                        @keyframes pb-fill-anim {\n",
       "                            0% { background-position: 0 0; }\n",
       "                            100% { background-position: 100px 0; }\n",
       "                        }\n",
       "                    </style>\n",
       "                    &nbsp;\n",
       "                  </div>\n",
       "                </div>"
      ],
      "text/plain": [
       "HtmlProgressBar cannot be displayed. Please use the TerminalProgressBar. It can be enabled with `nengo.rc.set('progress', 'progress_bar', 'nengo.utils.progress.TerminalProgressBar')`."
      ]
     },
     "metadata": {},
     "output_type": "display_data"
    },
    {
     "data": {
      "application/javascript": [
       "\n",
       "              (function () {\n",
       "                  var root = document.getElementById('acb90004-bd57-4a7c-bf3b-dd5e5ae91891');\n",
       "                  var text = root.getElementsByClassName('pb-text')[0];\n",
       "                  var fill = root.getElementsByClassName('pb-fill')[0];\n",
       "\n",
       "                  text.innerHTML = 'Simulation finished in 0:02:08.';\n",
       "                  \n",
       "            if (100.0 > 0.) {\n",
       "                fill.style.transition = 'width 0.1s linear';\n",
       "            } else {\n",
       "                fill.style.transition = 'none';\n",
       "            }\n",
       "\n",
       "            fill.style.width = '100.0%';\n",
       "            fill.style.animation = 'none';\n",
       "            fill.style.backgroundImage = 'none'\n",
       "        \n",
       "                  \n",
       "                fill.style.animation = 'none';\n",
       "                fill.style.backgroundImage = 'none';\n",
       "            \n",
       "              })();\n",
       "        "
      ],
      "text/plain": [
       "<IPython.core.display.Javascript object>"
      ]
     },
     "metadata": {},
     "output_type": "display_data"
    },
    {
     "name": "stdout",
     "output_type": "stream",
     "text": [
      "seed = 1\n",
      "backend = 'nengo_ocl'\n",
      "dt = 0.001\n",
      "neuron_type = 'default'\n",
      "n_neurons_scale = 1\n",
      "s_crosstalk = 0.75\n",
      "s_evidence = 0.0\n",
      "t_senso = 0.175\n",
      "vocab = <nengo_spa.vocabulary.Vocabulary object at 0x7f31b4198450>\n",
      "xp = <experiments.Xp1 object at 0x7f31b4198150>\n",
      "proc_feedback = 0.5\n",
      "GW_feedback = 0.95\n",
      "GW_scale = 20\n",
      "BG_thr = 0.1\n",
      "BG_bias = 0.5\n",
      "data = <data.Data object at 0x7f31b1f67a90>\n",
      "\t seed 2/5\n",
      "running run_seed2_scross0.75_sevid0.0\n"
     ]
    },
    {
     "data": {
      "text/html": [
       "\n",
       "                <div id=\"0c5cf09a-7f07-4b12-9f2e-9736816c7504\" style=\"\n",
       "                    width: 100%;\n",
       "                    border: 1px solid #cfcfcf;\n",
       "                    border-radius: 4px;\n",
       "                    text-align: center;\n",
       "                    position: relative;\">\n",
       "                  <div class=\"pb-text\" style=\"\n",
       "                      position: absolute;\n",
       "                      width: 100%;\">\n",
       "                    0%\n",
       "                  </div>\n",
       "                  <div class=\"pb-fill\" style=\"\n",
       "                      background-color: #bdd2e6;\n",
       "                      width: 0%;\">\n",
       "                    <style type=\"text/css\" scoped=\"scoped\">\n",
       "                        @keyframes pb-fill-anim {\n",
       "                            0% { background-position: 0 0; }\n",
       "                            100% { background-position: 100px 0; }\n",
       "                        }\n",
       "                    </style>\n",
       "                    &nbsp;\n",
       "                  </div>\n",
       "                </div>"
      ],
      "text/plain": [
       "HtmlProgressBar cannot be displayed. Please use the TerminalProgressBar. It can be enabled with `nengo.rc.set('progress', 'progress_bar', 'nengo.utils.progress.TerminalProgressBar')`."
      ]
     },
     "metadata": {},
     "output_type": "display_data"
    },
    {
     "data": {
      "application/javascript": [
       "\n",
       "              (function () {\n",
       "                  var root = document.getElementById('0c5cf09a-7f07-4b12-9f2e-9736816c7504');\n",
       "                  var text = root.getElementsByClassName('pb-text')[0];\n",
       "                  var fill = root.getElementsByClassName('pb-fill')[0];\n",
       "\n",
       "                  text.innerHTML = 'Simulation finished in 0:02:08.';\n",
       "                  \n",
       "            if (100.0 > 0.) {\n",
       "                fill.style.transition = 'width 0.1s linear';\n",
       "            } else {\n",
       "                fill.style.transition = 'none';\n",
       "            }\n",
       "\n",
       "            fill.style.width = '100.0%';\n",
       "            fill.style.animation = 'none';\n",
       "            fill.style.backgroundImage = 'none'\n",
       "        \n",
       "                  \n",
       "                fill.style.animation = 'none';\n",
       "                fill.style.backgroundImage = 'none';\n",
       "            \n",
       "              })();\n",
       "        "
      ],
      "text/plain": [
       "<IPython.core.display.Javascript object>"
      ]
     },
     "metadata": {},
     "output_type": "display_data"
    },
    {
     "name": "stdout",
     "output_type": "stream",
     "text": [
      "seed = 2\n",
      "backend = 'nengo_ocl'\n",
      "dt = 0.001\n",
      "neuron_type = 'default'\n",
      "n_neurons_scale = 1\n",
      "s_crosstalk = 0.75\n",
      "s_evidence = 0.0\n",
      "t_senso = 0.175\n",
      "vocab = <nengo_spa.vocabulary.Vocabulary object at 0x7f31b682a490>\n",
      "xp = <experiments.Xp1 object at 0x7f31b41b8590>\n",
      "proc_feedback = 0.5\n",
      "GW_feedback = 0.95\n",
      "GW_scale = 20\n",
      "BG_thr = 0.1\n",
      "BG_bias = 0.5\n",
      "data = <data.Data object at 0x7f31b4d3b290>\n",
      "\t seed 3/5\n",
      "running run_seed3_scross0.75_sevid0.0\n"
     ]
    },
    {
     "data": {
      "text/html": [
       "\n",
       "                <div id=\"252d844e-317e-4c41-a192-1349acb7987b\" style=\"\n",
       "                    width: 100%;\n",
       "                    border: 1px solid #cfcfcf;\n",
       "                    border-radius: 4px;\n",
       "                    text-align: center;\n",
       "                    position: relative;\">\n",
       "                  <div class=\"pb-text\" style=\"\n",
       "                      position: absolute;\n",
       "                      width: 100%;\">\n",
       "                    0%\n",
       "                  </div>\n",
       "                  <div class=\"pb-fill\" style=\"\n",
       "                      background-color: #bdd2e6;\n",
       "                      width: 0%;\">\n",
       "                    <style type=\"text/css\" scoped=\"scoped\">\n",
       "                        @keyframes pb-fill-anim {\n",
       "                            0% { background-position: 0 0; }\n",
       "                            100% { background-position: 100px 0; }\n",
       "                        }\n",
       "                    </style>\n",
       "                    &nbsp;\n",
       "                  </div>\n",
       "                </div>"
      ],
      "text/plain": [
       "HtmlProgressBar cannot be displayed. Please use the TerminalProgressBar. It can be enabled with `nengo.rc.set('progress', 'progress_bar', 'nengo.utils.progress.TerminalProgressBar')`."
      ]
     },
     "metadata": {},
     "output_type": "display_data"
    },
    {
     "data": {
      "application/javascript": [
       "\n",
       "              (function () {\n",
       "                  var root = document.getElementById('252d844e-317e-4c41-a192-1349acb7987b');\n",
       "                  var text = root.getElementsByClassName('pb-text')[0];\n",
       "                  var fill = root.getElementsByClassName('pb-fill')[0];\n",
       "\n",
       "                  text.innerHTML = 'Simulation finished in 0:02:07.';\n",
       "                  \n",
       "            if (100.0 > 0.) {\n",
       "                fill.style.transition = 'width 0.1s linear';\n",
       "            } else {\n",
       "                fill.style.transition = 'none';\n",
       "            }\n",
       "\n",
       "            fill.style.width = '100.0%';\n",
       "            fill.style.animation = 'none';\n",
       "            fill.style.backgroundImage = 'none'\n",
       "        \n",
       "                  \n",
       "                fill.style.animation = 'none';\n",
       "                fill.style.backgroundImage = 'none';\n",
       "            \n",
       "              })();\n",
       "        "
      ],
      "text/plain": [
       "<IPython.core.display.Javascript object>"
      ]
     },
     "metadata": {},
     "output_type": "display_data"
    },
    {
     "name": "stdout",
     "output_type": "stream",
     "text": [
      "seed = 3\n",
      "backend = 'nengo_ocl'\n",
      "dt = 0.001\n",
      "neuron_type = 'default'\n",
      "n_neurons_scale = 1\n",
      "s_crosstalk = 0.75\n",
      "s_evidence = 0.0\n",
      "t_senso = 0.175\n",
      "vocab = <nengo_spa.vocabulary.Vocabulary object at 0x7f31b05ce610>\n",
      "xp = <experiments.Xp1 object at 0x7f31b6812490>\n",
      "proc_feedback = 0.5\n",
      "GW_feedback = 0.95\n",
      "GW_scale = 20\n",
      "BG_thr = 0.1\n",
      "BG_bias = 0.5\n",
      "data = <data.Data object at 0x7f31b56245d0>\n",
      "\t seed 4/5\n",
      "running run_seed4_scross0.75_sevid0.0\n"
     ]
    },
    {
     "data": {
      "text/html": [
       "\n",
       "                <div id=\"40075aa3-cd4f-406c-b555-82ed306e95e2\" style=\"\n",
       "                    width: 100%;\n",
       "                    border: 1px solid #cfcfcf;\n",
       "                    border-radius: 4px;\n",
       "                    text-align: center;\n",
       "                    position: relative;\">\n",
       "                  <div class=\"pb-text\" style=\"\n",
       "                      position: absolute;\n",
       "                      width: 100%;\">\n",
       "                    0%\n",
       "                  </div>\n",
       "                  <div class=\"pb-fill\" style=\"\n",
       "                      background-color: #bdd2e6;\n",
       "                      width: 0%;\">\n",
       "                    <style type=\"text/css\" scoped=\"scoped\">\n",
       "                        @keyframes pb-fill-anim {\n",
       "                            0% { background-position: 0 0; }\n",
       "                            100% { background-position: 100px 0; }\n",
       "                        }\n",
       "                    </style>\n",
       "                    &nbsp;\n",
       "                  </div>\n",
       "                </div>"
      ],
      "text/plain": [
       "HtmlProgressBar cannot be displayed. Please use the TerminalProgressBar. It can be enabled with `nengo.rc.set('progress', 'progress_bar', 'nengo.utils.progress.TerminalProgressBar')`."
      ]
     },
     "metadata": {},
     "output_type": "display_data"
    },
    {
     "data": {
      "application/javascript": [
       "\n",
       "              (function () {\n",
       "                  var root = document.getElementById('40075aa3-cd4f-406c-b555-82ed306e95e2');\n",
       "                  var text = root.getElementsByClassName('pb-text')[0];\n",
       "                  var fill = root.getElementsByClassName('pb-fill')[0];\n",
       "\n",
       "                  text.innerHTML = 'Simulation finished in 0:02:08.';\n",
       "                  \n",
       "            if (100.0 > 0.) {\n",
       "                fill.style.transition = 'width 0.1s linear';\n",
       "            } else {\n",
       "                fill.style.transition = 'none';\n",
       "            }\n",
       "\n",
       "            fill.style.width = '100.0%';\n",
       "            fill.style.animation = 'none';\n",
       "            fill.style.backgroundImage = 'none'\n",
       "        \n",
       "                  \n",
       "                fill.style.animation = 'none';\n",
       "                fill.style.backgroundImage = 'none';\n",
       "            \n",
       "              })();\n",
       "        "
      ],
      "text/plain": [
       "<IPython.core.display.Javascript object>"
      ]
     },
     "metadata": {},
     "output_type": "display_data"
    },
    {
     "name": "stdout",
     "output_type": "stream",
     "text": [
      "seed = 4\n",
      "backend = 'nengo_ocl'\n",
      "dt = 0.001\n",
      "neuron_type = 'default'\n",
      "n_neurons_scale = 1\n",
      "s_crosstalk = 0.75\n",
      "s_evidence = 0.0\n",
      "t_senso = 0.175\n",
      "vocab = <nengo_spa.vocabulary.Vocabulary object at 0x7f31e1de9b50>\n",
      "xp = <experiments.Xp1 object at 0x7f31e1de9150>\n",
      "proc_feedback = 0.5\n",
      "GW_feedback = 0.95\n",
      "GW_scale = 20\n",
      "BG_thr = 0.1\n",
      "BG_bias = 0.5\n",
      "data = <data.Data object at 0x7f31b1e54d90>\n",
      "\t seed 5/5\n",
      "running run_seed5_scross0.75_sevid0.0\n"
     ]
    },
    {
     "data": {
      "text/html": [
       "\n",
       "                <div id=\"a96192e7-6414-40a9-a646-4c293ac057bd\" style=\"\n",
       "                    width: 100%;\n",
       "                    border: 1px solid #cfcfcf;\n",
       "                    border-radius: 4px;\n",
       "                    text-align: center;\n",
       "                    position: relative;\">\n",
       "                  <div class=\"pb-text\" style=\"\n",
       "                      position: absolute;\n",
       "                      width: 100%;\">\n",
       "                    0%\n",
       "                  </div>\n",
       "                  <div class=\"pb-fill\" style=\"\n",
       "                      background-color: #bdd2e6;\n",
       "                      width: 0%;\">\n",
       "                    <style type=\"text/css\" scoped=\"scoped\">\n",
       "                        @keyframes pb-fill-anim {\n",
       "                            0% { background-position: 0 0; }\n",
       "                            100% { background-position: 100px 0; }\n",
       "                        }\n",
       "                    </style>\n",
       "                    &nbsp;\n",
       "                  </div>\n",
       "                </div>"
      ],
      "text/plain": [
       "HtmlProgressBar cannot be displayed. Please use the TerminalProgressBar. It can be enabled with `nengo.rc.set('progress', 'progress_bar', 'nengo.utils.progress.TerminalProgressBar')`."
      ]
     },
     "metadata": {},
     "output_type": "display_data"
    },
    {
     "data": {
      "application/javascript": [
       "\n",
       "              (function () {\n",
       "                  var root = document.getElementById('a96192e7-6414-40a9-a646-4c293ac057bd');\n",
       "                  var text = root.getElementsByClassName('pb-text')[0];\n",
       "                  var fill = root.getElementsByClassName('pb-fill')[0];\n",
       "\n",
       "                  text.innerHTML = 'Simulation finished in 0:02:01.';\n",
       "                  \n",
       "            if (100.0 > 0.) {\n",
       "                fill.style.transition = 'width 0.1s linear';\n",
       "            } else {\n",
       "                fill.style.transition = 'none';\n",
       "            }\n",
       "\n",
       "            fill.style.width = '100.0%';\n",
       "            fill.style.animation = 'none';\n",
       "            fill.style.backgroundImage = 'none'\n",
       "        \n",
       "                  \n",
       "                fill.style.animation = 'none';\n",
       "                fill.style.backgroundImage = 'none';\n",
       "            \n",
       "              })();\n",
       "        "
      ],
      "text/plain": [
       "<IPython.core.display.Javascript object>"
      ]
     },
     "metadata": {},
     "output_type": "display_data"
    },
    {
     "name": "stdout",
     "output_type": "stream",
     "text": [
      "seed = 5\n",
      "backend = 'nengo_ocl'\n",
      "dt = 0.001\n",
      "neuron_type = 'default'\n",
      "n_neurons_scale = 1\n",
      "s_crosstalk = 0.75\n",
      "s_evidence = 0.0\n",
      "t_senso = 0.175\n",
      "vocab = <nengo_spa.vocabulary.Vocabulary object at 0x7f31b4c9c750>\n",
      "xp = <experiments.Xp1 object at 0x7f31eb918a10>\n",
      "proc_feedback = 0.5\n",
      "GW_feedback = 0.95\n",
      "GW_scale = 20\n",
      "BG_thr = 0.1\n",
      "BG_bias = 0.5\n",
      "data = <data.Data object at 0x7f31e1edff10>\n",
      "error: 95.32380999898407\n",
      "params: [0.75 3.75]\n",
      "Simulating...\n",
      "\t seed 1/5\n",
      "running run_seed1_scross0.75_sevid3.75\n"
     ]
    },
    {
     "data": {
      "text/html": [
       "\n",
       "                <div id=\"227cc0af-6309-421e-996a-0a4c8b10f908\" style=\"\n",
       "                    width: 100%;\n",
       "                    border: 1px solid #cfcfcf;\n",
       "                    border-radius: 4px;\n",
       "                    text-align: center;\n",
       "                    position: relative;\">\n",
       "                  <div class=\"pb-text\" style=\"\n",
       "                      position: absolute;\n",
       "                      width: 100%;\">\n",
       "                    0%\n",
       "                  </div>\n",
       "                  <div class=\"pb-fill\" style=\"\n",
       "                      background-color: #bdd2e6;\n",
       "                      width: 0%;\">\n",
       "                    <style type=\"text/css\" scoped=\"scoped\">\n",
       "                        @keyframes pb-fill-anim {\n",
       "                            0% { background-position: 0 0; }\n",
       "                            100% { background-position: 100px 0; }\n",
       "                        }\n",
       "                    </style>\n",
       "                    &nbsp;\n",
       "                  </div>\n",
       "                </div>"
      ],
      "text/plain": [
       "HtmlProgressBar cannot be displayed. Please use the TerminalProgressBar. It can be enabled with `nengo.rc.set('progress', 'progress_bar', 'nengo.utils.progress.TerminalProgressBar')`."
      ]
     },
     "metadata": {},
     "output_type": "display_data"
    },
    {
     "data": {
      "application/javascript": [
       "\n",
       "              (function () {\n",
       "                  var root = document.getElementById('227cc0af-6309-421e-996a-0a4c8b10f908');\n",
       "                  var text = root.getElementsByClassName('pb-text')[0];\n",
       "                  var fill = root.getElementsByClassName('pb-fill')[0];\n",
       "\n",
       "                  text.innerHTML = 'Simulation finished in 0:02:57.';\n",
       "                  \n",
       "            if (100.0 > 0.) {\n",
       "                fill.style.transition = 'width 0.1s linear';\n",
       "            } else {\n",
       "                fill.style.transition = 'none';\n",
       "            }\n",
       "\n",
       "            fill.style.width = '100.0%';\n",
       "            fill.style.animation = 'none';\n",
       "            fill.style.backgroundImage = 'none'\n",
       "        \n",
       "                  \n",
       "                fill.style.animation = 'none';\n",
       "                fill.style.backgroundImage = 'none';\n",
       "            \n",
       "              })();\n",
       "        "
      ],
      "text/plain": [
       "<IPython.core.display.Javascript object>"
      ]
     },
     "metadata": {},
     "output_type": "display_data"
    },
    {
     "name": "stdout",
     "output_type": "stream",
     "text": [
      "seed = 1\n",
      "backend = 'nengo_ocl'\n",
      "dt = 0.001\n",
      "neuron_type = 'default'\n",
      "n_neurons_scale = 1\n",
      "s_crosstalk = 0.75\n",
      "s_evidence = 3.75\n",
      "t_senso = 0.175\n",
      "vocab = <nengo_spa.vocabulary.Vocabulary object at 0x7f3198679450>\n",
      "xp = <experiments.Xp1 object at 0x7f3198679c10>\n",
      "proc_feedback = 0.5\n",
      "GW_feedback = 0.95\n",
      "GW_scale = 20\n",
      "BG_thr = 0.1\n",
      "BG_bias = 0.5\n",
      "data = <data.Data object at 0x7f31b0c8e3d0>\n",
      "\t seed 2/5\n",
      "running run_seed2_scross0.75_sevid3.75\n"
     ]
    },
    {
     "data": {
      "text/html": [
       "\n",
       "                <div id=\"1aa74438-d18a-43b3-a387-3b9604c42241\" style=\"\n",
       "                    width: 100%;\n",
       "                    border: 1px solid #cfcfcf;\n",
       "                    border-radius: 4px;\n",
       "                    text-align: center;\n",
       "                    position: relative;\">\n",
       "                  <div class=\"pb-text\" style=\"\n",
       "                      position: absolute;\n",
       "                      width: 100%;\">\n",
       "                    0%\n",
       "                  </div>\n",
       "                  <div class=\"pb-fill\" style=\"\n",
       "                      background-color: #bdd2e6;\n",
       "                      width: 0%;\">\n",
       "                    <style type=\"text/css\" scoped=\"scoped\">\n",
       "                        @keyframes pb-fill-anim {\n",
       "                            0% { background-position: 0 0; }\n",
       "                            100% { background-position: 100px 0; }\n",
       "                        }\n",
       "                    </style>\n",
       "                    &nbsp;\n",
       "                  </div>\n",
       "                </div>"
      ],
      "text/plain": [
       "HtmlProgressBar cannot be displayed. Please use the TerminalProgressBar. It can be enabled with `nengo.rc.set('progress', 'progress_bar', 'nengo.utils.progress.TerminalProgressBar')`."
      ]
     },
     "metadata": {},
     "output_type": "display_data"
    },
    {
     "data": {
      "application/javascript": [
       "\n",
       "              (function () {\n",
       "                  var root = document.getElementById('1aa74438-d18a-43b3-a387-3b9604c42241');\n",
       "                  var text = root.getElementsByClassName('pb-text')[0];\n",
       "                  var fill = root.getElementsByClassName('pb-fill')[0];\n",
       "\n",
       "                  text.innerHTML = 'Simulation finished in 0:02:59.';\n",
       "                  \n",
       "            if (100.0 > 0.) {\n",
       "                fill.style.transition = 'width 0.1s linear';\n",
       "            } else {\n",
       "                fill.style.transition = 'none';\n",
       "            }\n",
       "\n",
       "            fill.style.width = '100.0%';\n",
       "            fill.style.animation = 'none';\n",
       "            fill.style.backgroundImage = 'none'\n",
       "        \n",
       "                  \n",
       "                fill.style.animation = 'none';\n",
       "                fill.style.backgroundImage = 'none';\n",
       "            \n",
       "              })();\n",
       "        "
      ],
      "text/plain": [
       "<IPython.core.display.Javascript object>"
      ]
     },
     "metadata": {},
     "output_type": "display_data"
    },
    {
     "name": "stdout",
     "output_type": "stream",
     "text": [
      "seed = 2\n",
      "backend = 'nengo_ocl'\n",
      "dt = 0.001\n",
      "neuron_type = 'default'\n",
      "n_neurons_scale = 1\n",
      "s_crosstalk = 0.75\n",
      "s_evidence = 3.75\n",
      "t_senso = 0.175\n",
      "vocab = <nengo_spa.vocabulary.Vocabulary object at 0x7f31b4199a50>\n",
      "xp = <experiments.Xp1 object at 0x7f31e1f98450>\n",
      "proc_feedback = 0.5\n",
      "GW_feedback = 0.95\n",
      "GW_scale = 20\n",
      "BG_thr = 0.1\n",
      "BG_bias = 0.5\n",
      "data = <data.Data object at 0x7f31b2dfd090>\n",
      "\t seed 3/5\n",
      "running run_seed3_scross0.75_sevid3.75\n"
     ]
    },
    {
     "data": {
      "text/html": [
       "\n",
       "                <div id=\"3b9a4515-7720-4853-bfb5-28e9e05d1e02\" style=\"\n",
       "                    width: 100%;\n",
       "                    border: 1px solid #cfcfcf;\n",
       "                    border-radius: 4px;\n",
       "                    text-align: center;\n",
       "                    position: relative;\">\n",
       "                  <div class=\"pb-text\" style=\"\n",
       "                      position: absolute;\n",
       "                      width: 100%;\">\n",
       "                    0%\n",
       "                  </div>\n",
       "                  <div class=\"pb-fill\" style=\"\n",
       "                      background-color: #bdd2e6;\n",
       "                      width: 0%;\">\n",
       "                    <style type=\"text/css\" scoped=\"scoped\">\n",
       "                        @keyframes pb-fill-anim {\n",
       "                            0% { background-position: 0 0; }\n",
       "                            100% { background-position: 100px 0; }\n",
       "                        }\n",
       "                    </style>\n",
       "                    &nbsp;\n",
       "                  </div>\n",
       "                </div>"
      ],
      "text/plain": [
       "HtmlProgressBar cannot be displayed. Please use the TerminalProgressBar. It can be enabled with `nengo.rc.set('progress', 'progress_bar', 'nengo.utils.progress.TerminalProgressBar')`."
      ]
     },
     "metadata": {},
     "output_type": "display_data"
    },
    {
     "data": {
      "application/javascript": [
       "\n",
       "              (function () {\n",
       "                  var root = document.getElementById('3b9a4515-7720-4853-bfb5-28e9e05d1e02');\n",
       "                  var text = root.getElementsByClassName('pb-text')[0];\n",
       "                  var fill = root.getElementsByClassName('pb-fill')[0];\n",
       "\n",
       "                  text.innerHTML = 'Simulation finished in 0:03:01.';\n",
       "                  \n",
       "            if (100.0 > 0.) {\n",
       "                fill.style.transition = 'width 0.1s linear';\n",
       "            } else {\n",
       "                fill.style.transition = 'none';\n",
       "            }\n",
       "\n",
       "            fill.style.width = '100.0%';\n",
       "            fill.style.animation = 'none';\n",
       "            fill.style.backgroundImage = 'none'\n",
       "        \n",
       "                  \n",
       "                fill.style.animation = 'none';\n",
       "                fill.style.backgroundImage = 'none';\n",
       "            \n",
       "              })();\n",
       "        "
      ],
      "text/plain": [
       "<IPython.core.display.Javascript object>"
      ]
     },
     "metadata": {},
     "output_type": "display_data"
    },
    {
     "name": "stdout",
     "output_type": "stream",
     "text": [
      "seed = 3\n",
      "backend = 'nengo_ocl'\n",
      "dt = 0.001\n",
      "neuron_type = 'default'\n",
      "n_neurons_scale = 1\n",
      "s_crosstalk = 0.75\n",
      "s_evidence = 3.75\n",
      "t_senso = 0.175\n",
      "vocab = <nengo_spa.vocabulary.Vocabulary object at 0x7f31e1f98c50>\n",
      "xp = <experiments.Xp1 object at 0x7f31b0c8ed90>\n",
      "proc_feedback = 0.5\n",
      "GW_feedback = 0.95\n",
      "GW_scale = 20\n",
      "BG_thr = 0.1\n",
      "BG_bias = 0.5\n",
      "data = <data.Data object at 0x7f31b0ca9390>\n",
      "\t seed 4/5\n",
      "running run_seed4_scross0.75_sevid3.75\n"
     ]
    },
    {
     "data": {
      "text/html": [
       "\n",
       "                <div id=\"eed0a8bb-8127-4c17-aeff-eb3c0a3e5456\" style=\"\n",
       "                    width: 100%;\n",
       "                    border: 1px solid #cfcfcf;\n",
       "                    border-radius: 4px;\n",
       "                    text-align: center;\n",
       "                    position: relative;\">\n",
       "                  <div class=\"pb-text\" style=\"\n",
       "                      position: absolute;\n",
       "                      width: 100%;\">\n",
       "                    0%\n",
       "                  </div>\n",
       "                  <div class=\"pb-fill\" style=\"\n",
       "                      background-color: #bdd2e6;\n",
       "                      width: 0%;\">\n",
       "                    <style type=\"text/css\" scoped=\"scoped\">\n",
       "                        @keyframes pb-fill-anim {\n",
       "                            0% { background-position: 0 0; }\n",
       "                            100% { background-position: 100px 0; }\n",
       "                        }\n",
       "                    </style>\n",
       "                    &nbsp;\n",
       "                  </div>\n",
       "                </div>"
      ],
      "text/plain": [
       "HtmlProgressBar cannot be displayed. Please use the TerminalProgressBar. It can be enabled with `nengo.rc.set('progress', 'progress_bar', 'nengo.utils.progress.TerminalProgressBar')`."
      ]
     },
     "metadata": {},
     "output_type": "display_data"
    },
    {
     "data": {
      "application/javascript": [
       "\n",
       "              (function () {\n",
       "                  var root = document.getElementById('eed0a8bb-8127-4c17-aeff-eb3c0a3e5456');\n",
       "                  var text = root.getElementsByClassName('pb-text')[0];\n",
       "                  var fill = root.getElementsByClassName('pb-fill')[0];\n",
       "\n",
       "                  text.innerHTML = 'Simulation finished in 0:03:07.';\n",
       "                  \n",
       "            if (100.0 > 0.) {\n",
       "                fill.style.transition = 'width 0.1s linear';\n",
       "            } else {\n",
       "                fill.style.transition = 'none';\n",
       "            }\n",
       "\n",
       "            fill.style.width = '100.0%';\n",
       "            fill.style.animation = 'none';\n",
       "            fill.style.backgroundImage = 'none'\n",
       "        \n",
       "                  \n",
       "                fill.style.animation = 'none';\n",
       "                fill.style.backgroundImage = 'none';\n",
       "            \n",
       "              })();\n",
       "        "
      ],
      "text/plain": [
       "<IPython.core.display.Javascript object>"
      ]
     },
     "metadata": {},
     "output_type": "display_data"
    },
    {
     "name": "stdout",
     "output_type": "stream",
     "text": [
      "seed = 4\n",
      "backend = 'nengo_ocl'\n",
      "dt = 0.001\n",
      "neuron_type = 'default'\n",
      "n_neurons_scale = 1\n",
      "s_crosstalk = 0.75\n",
      "s_evidence = 3.75\n",
      "t_senso = 0.175\n",
      "vocab = <nengo_spa.vocabulary.Vocabulary object at 0x7f31b4195910>\n",
      "xp = <experiments.Xp1 object at 0x7f31b5dcf710>\n",
      "proc_feedback = 0.5\n",
      "GW_feedback = 0.95\n",
      "GW_scale = 20\n",
      "BG_thr = 0.1\n",
      "BG_bias = 0.5\n",
      "data = <data.Data object at 0x7f31b1f45350>\n",
      "\t seed 5/5\n",
      "running run_seed5_scross0.75_sevid3.75\n"
     ]
    },
    {
     "data": {
      "text/html": [
       "\n",
       "                <div id=\"3d55b65e-2854-4907-8b1f-36b807532d48\" style=\"\n",
       "                    width: 100%;\n",
       "                    border: 1px solid #cfcfcf;\n",
       "                    border-radius: 4px;\n",
       "                    text-align: center;\n",
       "                    position: relative;\">\n",
       "                  <div class=\"pb-text\" style=\"\n",
       "                      position: absolute;\n",
       "                      width: 100%;\">\n",
       "                    0%\n",
       "                  </div>\n",
       "                  <div class=\"pb-fill\" style=\"\n",
       "                      background-color: #bdd2e6;\n",
       "                      width: 0%;\">\n",
       "                    <style type=\"text/css\" scoped=\"scoped\">\n",
       "                        @keyframes pb-fill-anim {\n",
       "                            0% { background-position: 0 0; }\n",
       "                            100% { background-position: 100px 0; }\n",
       "                        }\n",
       "                    </style>\n",
       "                    &nbsp;\n",
       "                  </div>\n",
       "                </div>"
      ],
      "text/plain": [
       "HtmlProgressBar cannot be displayed. Please use the TerminalProgressBar. It can be enabled with `nengo.rc.set('progress', 'progress_bar', 'nengo.utils.progress.TerminalProgressBar')`."
      ]
     },
     "metadata": {},
     "output_type": "display_data"
    },
    {
     "data": {
      "application/javascript": [
       "\n",
       "              (function () {\n",
       "                  var root = document.getElementById('3d55b65e-2854-4907-8b1f-36b807532d48');\n",
       "                  var text = root.getElementsByClassName('pb-text')[0];\n",
       "                  var fill = root.getElementsByClassName('pb-fill')[0];\n",
       "\n",
       "                  text.innerHTML = 'Simulation finished in 0:03:01.';\n",
       "                  \n",
       "            if (100.0 > 0.) {\n",
       "                fill.style.transition = 'width 0.1s linear';\n",
       "            } else {\n",
       "                fill.style.transition = 'none';\n",
       "            }\n",
       "\n",
       "            fill.style.width = '100.0%';\n",
       "            fill.style.animation = 'none';\n",
       "            fill.style.backgroundImage = 'none'\n",
       "        \n",
       "                  \n",
       "                fill.style.animation = 'none';\n",
       "                fill.style.backgroundImage = 'none';\n",
       "            \n",
       "              })();\n",
       "        "
      ],
      "text/plain": [
       "<IPython.core.display.Javascript object>"
      ]
     },
     "metadata": {},
     "output_type": "display_data"
    },
    {
     "name": "stdout",
     "output_type": "stream",
     "text": [
      "seed = 5\n",
      "backend = 'nengo_ocl'\n",
      "dt = 0.001\n",
      "neuron_type = 'default'\n",
      "n_neurons_scale = 1\n",
      "s_crosstalk = 0.75\n",
      "s_evidence = 3.75\n",
      "t_senso = 0.175\n",
      "vocab = <nengo_spa.vocabulary.Vocabulary object at 0x7f31b2db0ad0>\n",
      "xp = <experiments.Xp1 object at 0x7f31b4de6a10>\n",
      "proc_feedback = 0.5\n",
      "GW_feedback = 0.95\n",
      "GW_scale = 20\n",
      "BG_thr = 0.1\n",
      "BG_bias = 0.5\n",
      "data = <data.Data object at 0x7f31b1f45f90>\n",
      "error: 96.97169965873209\n",
      "params: [0.75 7.5 ]\n",
      "Simulating...\n",
      "\t seed 1/5\n",
      "running run_seed1_scross0.75_sevid7.5\n"
     ]
    },
    {
     "data": {
      "text/html": [
       "\n",
       "                <div id=\"7cfa3b96-eda6-42c1-b161-b11ce88f74ef\" style=\"\n",
       "                    width: 100%;\n",
       "                    border: 1px solid #cfcfcf;\n",
       "                    border-radius: 4px;\n",
       "                    text-align: center;\n",
       "                    position: relative;\">\n",
       "                  <div class=\"pb-text\" style=\"\n",
       "                      position: absolute;\n",
       "                      width: 100%;\">\n",
       "                    0%\n",
       "                  </div>\n",
       "                  <div class=\"pb-fill\" style=\"\n",
       "                      background-color: #bdd2e6;\n",
       "                      width: 0%;\">\n",
       "                    <style type=\"text/css\" scoped=\"scoped\">\n",
       "                        @keyframes pb-fill-anim {\n",
       "                            0% { background-position: 0 0; }\n",
       "                            100% { background-position: 100px 0; }\n",
       "                        }\n",
       "                    </style>\n",
       "                    &nbsp;\n",
       "                  </div>\n",
       "                </div>"
      ],
      "text/plain": [
       "HtmlProgressBar cannot be displayed. Please use the TerminalProgressBar. It can be enabled with `nengo.rc.set('progress', 'progress_bar', 'nengo.utils.progress.TerminalProgressBar')`."
      ]
     },
     "metadata": {},
     "output_type": "display_data"
    },
    {
     "data": {
      "application/javascript": [
       "\n",
       "              (function () {\n",
       "                  var root = document.getElementById('7cfa3b96-eda6-42c1-b161-b11ce88f74ef');\n",
       "                  var text = root.getElementsByClassName('pb-text')[0];\n",
       "                  var fill = root.getElementsByClassName('pb-fill')[0];\n",
       "\n",
       "                  text.innerHTML = 'Simulation finished in 0:02:59.';\n",
       "                  \n",
       "            if (100.0 > 0.) {\n",
       "                fill.style.transition = 'width 0.1s linear';\n",
       "            } else {\n",
       "                fill.style.transition = 'none';\n",
       "            }\n",
       "\n",
       "            fill.style.width = '100.0%';\n",
       "            fill.style.animation = 'none';\n",
       "            fill.style.backgroundImage = 'none'\n",
       "        \n",
       "                  \n",
       "                fill.style.animation = 'none';\n",
       "                fill.style.backgroundImage = 'none';\n",
       "            \n",
       "              })();\n",
       "        "
      ],
      "text/plain": [
       "<IPython.core.display.Javascript object>"
      ]
     },
     "metadata": {},
     "output_type": "display_data"
    },
    {
     "name": "stdout",
     "output_type": "stream",
     "text": [
      "seed = 1\n",
      "backend = 'nengo_ocl'\n",
      "dt = 0.001\n",
      "neuron_type = 'default'\n",
      "n_neurons_scale = 1\n",
      "s_crosstalk = 0.75\n",
      "s_evidence = 7.5\n",
      "t_senso = 0.175\n",
      "vocab = <nengo_spa.vocabulary.Vocabulary object at 0x7f31b0d378d0>\n",
      "xp = <experiments.Xp1 object at 0x7f31b4d2fc90>\n",
      "proc_feedback = 0.5\n",
      "GW_feedback = 0.95\n",
      "GW_scale = 20\n",
      "BG_thr = 0.1\n",
      "BG_bias = 0.5\n",
      "data = <data.Data object at 0x7f31b70fa690>\n",
      "\t seed 2/5\n",
      "running run_seed2_scross0.75_sevid7.5\n"
     ]
    },
    {
     "data": {
      "text/html": [
       "\n",
       "                <div id=\"0d5d97f4-67b3-4580-8687-52f16f0aced9\" style=\"\n",
       "                    width: 100%;\n",
       "                    border: 1px solid #cfcfcf;\n",
       "                    border-radius: 4px;\n",
       "                    text-align: center;\n",
       "                    position: relative;\">\n",
       "                  <div class=\"pb-text\" style=\"\n",
       "                      position: absolute;\n",
       "                      width: 100%;\">\n",
       "                    0%\n",
       "                  </div>\n",
       "                  <div class=\"pb-fill\" style=\"\n",
       "                      background-color: #bdd2e6;\n",
       "                      width: 0%;\">\n",
       "                    <style type=\"text/css\" scoped=\"scoped\">\n",
       "                        @keyframes pb-fill-anim {\n",
       "                            0% { background-position: 0 0; }\n",
       "                            100% { background-position: 100px 0; }\n",
       "                        }\n",
       "                    </style>\n",
       "                    &nbsp;\n",
       "                  </div>\n",
       "                </div>"
      ],
      "text/plain": [
       "HtmlProgressBar cannot be displayed. Please use the TerminalProgressBar. It can be enabled with `nengo.rc.set('progress', 'progress_bar', 'nengo.utils.progress.TerminalProgressBar')`."
      ]
     },
     "metadata": {},
     "output_type": "display_data"
    },
    {
     "data": {
      "application/javascript": [
       "\n",
       "              (function () {\n",
       "                  var root = document.getElementById('0d5d97f4-67b3-4580-8687-52f16f0aced9');\n",
       "                  var text = root.getElementsByClassName('pb-text')[0];\n",
       "                  var fill = root.getElementsByClassName('pb-fill')[0];\n",
       "\n",
       "                  text.innerHTML = 'Simulation finished in 0:02:54.';\n",
       "                  \n",
       "            if (100.0 > 0.) {\n",
       "                fill.style.transition = 'width 0.1s linear';\n",
       "            } else {\n",
       "                fill.style.transition = 'none';\n",
       "            }\n",
       "\n",
       "            fill.style.width = '100.0%';\n",
       "            fill.style.animation = 'none';\n",
       "            fill.style.backgroundImage = 'none'\n",
       "        \n",
       "                  \n",
       "                fill.style.animation = 'none';\n",
       "                fill.style.backgroundImage = 'none';\n",
       "            \n",
       "              })();\n",
       "        "
      ],
      "text/plain": [
       "<IPython.core.display.Javascript object>"
      ]
     },
     "metadata": {},
     "output_type": "display_data"
    },
    {
     "name": "stdout",
     "output_type": "stream",
     "text": [
      "seed = 2\n",
      "backend = 'nengo_ocl'\n",
      "dt = 0.001\n",
      "neuron_type = 'default'\n",
      "n_neurons_scale = 1\n",
      "s_crosstalk = 0.75\n",
      "s_evidence = 7.5\n",
      "t_senso = 0.175\n",
      "vocab = <nengo_spa.vocabulary.Vocabulary object at 0x7f31b6bd7d90>\n",
      "xp = <experiments.Xp1 object at 0x7f31b1234650>\n",
      "proc_feedback = 0.5\n",
      "GW_feedback = 0.95\n",
      "GW_scale = 20\n",
      "BG_thr = 0.1\n",
      "BG_bias = 0.5\n",
      "data = <data.Data object at 0x7f31eb907210>\n",
      "\t seed 3/5\n",
      "running run_seed3_scross0.75_sevid7.5\n"
     ]
    },
    {
     "data": {
      "text/html": [
       "\n",
       "                <div id=\"e3179502-a007-4b7e-84a6-588b19459214\" style=\"\n",
       "                    width: 100%;\n",
       "                    border: 1px solid #cfcfcf;\n",
       "                    border-radius: 4px;\n",
       "                    text-align: center;\n",
       "                    position: relative;\">\n",
       "                  <div class=\"pb-text\" style=\"\n",
       "                      position: absolute;\n",
       "                      width: 100%;\">\n",
       "                    0%\n",
       "                  </div>\n",
       "                  <div class=\"pb-fill\" style=\"\n",
       "                      background-color: #bdd2e6;\n",
       "                      width: 0%;\">\n",
       "                    <style type=\"text/css\" scoped=\"scoped\">\n",
       "                        @keyframes pb-fill-anim {\n",
       "                            0% { background-position: 0 0; }\n",
       "                            100% { background-position: 100px 0; }\n",
       "                        }\n",
       "                    </style>\n",
       "                    &nbsp;\n",
       "                  </div>\n",
       "                </div>"
      ],
      "text/plain": [
       "HtmlProgressBar cannot be displayed. Please use the TerminalProgressBar. It can be enabled with `nengo.rc.set('progress', 'progress_bar', 'nengo.utils.progress.TerminalProgressBar')`."
      ]
     },
     "metadata": {},
     "output_type": "display_data"
    },
    {
     "data": {
      "application/javascript": [
       "\n",
       "              (function () {\n",
       "                  var root = document.getElementById('e3179502-a007-4b7e-84a6-588b19459214');\n",
       "                  var text = root.getElementsByClassName('pb-text')[0];\n",
       "                  var fill = root.getElementsByClassName('pb-fill')[0];\n",
       "\n",
       "                  text.innerHTML = 'Simulation finished in 0:02:56.';\n",
       "                  \n",
       "            if (100.0 > 0.) {\n",
       "                fill.style.transition = 'width 0.1s linear';\n",
       "            } else {\n",
       "                fill.style.transition = 'none';\n",
       "            }\n",
       "\n",
       "            fill.style.width = '100.0%';\n",
       "            fill.style.animation = 'none';\n",
       "            fill.style.backgroundImage = 'none'\n",
       "        \n",
       "                  \n",
       "                fill.style.animation = 'none';\n",
       "                fill.style.backgroundImage = 'none';\n",
       "            \n",
       "              })();\n",
       "        "
      ],
      "text/plain": [
       "<IPython.core.display.Javascript object>"
      ]
     },
     "metadata": {},
     "output_type": "display_data"
    },
    {
     "name": "stdout",
     "output_type": "stream",
     "text": [
      "seed = 3\n",
      "backend = 'nengo_ocl'\n",
      "dt = 0.001\n",
      "neuron_type = 'default'\n",
      "n_neurons_scale = 1\n",
      "s_crosstalk = 0.75\n",
      "s_evidence = 7.5\n",
      "t_senso = 0.175\n",
      "vocab = <nengo_spa.vocabulary.Vocabulary object at 0x7f31eb8f23d0>\n",
      "xp = <experiments.Xp1 object at 0x7f31b2db0290>\n",
      "proc_feedback = 0.5\n",
      "GW_feedback = 0.95\n",
      "GW_scale = 20\n",
      "BG_thr = 0.1\n",
      "BG_bias = 0.5\n",
      "data = <data.Data object at 0x7f31b4d62d50>\n",
      "\t seed 4/5\n",
      "running run_seed4_scross0.75_sevid7.5\n"
     ]
    },
    {
     "data": {
      "text/html": [
       "\n",
       "                <div id=\"8686a547-ed1c-40df-9aed-8510f2e1fc24\" style=\"\n",
       "                    width: 100%;\n",
       "                    border: 1px solid #cfcfcf;\n",
       "                    border-radius: 4px;\n",
       "                    text-align: center;\n",
       "                    position: relative;\">\n",
       "                  <div class=\"pb-text\" style=\"\n",
       "                      position: absolute;\n",
       "                      width: 100%;\">\n",
       "                    0%\n",
       "                  </div>\n",
       "                  <div class=\"pb-fill\" style=\"\n",
       "                      background-color: #bdd2e6;\n",
       "                      width: 0%;\">\n",
       "                    <style type=\"text/css\" scoped=\"scoped\">\n",
       "                        @keyframes pb-fill-anim {\n",
       "                            0% { background-position: 0 0; }\n",
       "                            100% { background-position: 100px 0; }\n",
       "                        }\n",
       "                    </style>\n",
       "                    &nbsp;\n",
       "                  </div>\n",
       "                </div>"
      ],
      "text/plain": [
       "HtmlProgressBar cannot be displayed. Please use the TerminalProgressBar. It can be enabled with `nengo.rc.set('progress', 'progress_bar', 'nengo.utils.progress.TerminalProgressBar')`."
      ]
     },
     "metadata": {},
     "output_type": "display_data"
    },
    {
     "data": {
      "application/javascript": [
       "\n",
       "              (function () {\n",
       "                  var root = document.getElementById('8686a547-ed1c-40df-9aed-8510f2e1fc24');\n",
       "                  var text = root.getElementsByClassName('pb-text')[0];\n",
       "                  var fill = root.getElementsByClassName('pb-fill')[0];\n",
       "\n",
       "                  text.innerHTML = 'Simulation finished in 0:03:01.';\n",
       "                  \n",
       "            if (100.0 > 0.) {\n",
       "                fill.style.transition = 'width 0.1s linear';\n",
       "            } else {\n",
       "                fill.style.transition = 'none';\n",
       "            }\n",
       "\n",
       "            fill.style.width = '100.0%';\n",
       "            fill.style.animation = 'none';\n",
       "            fill.style.backgroundImage = 'none'\n",
       "        \n",
       "                  \n",
       "                fill.style.animation = 'none';\n",
       "                fill.style.backgroundImage = 'none';\n",
       "            \n",
       "              })();\n",
       "        "
      ],
      "text/plain": [
       "<IPython.core.display.Javascript object>"
      ]
     },
     "metadata": {},
     "output_type": "display_data"
    },
    {
     "name": "stdout",
     "output_type": "stream",
     "text": [
      "seed = 4\n",
      "backend = 'nengo_ocl'\n",
      "dt = 0.001\n",
      "neuron_type = 'default'\n",
      "n_neurons_scale = 1\n",
      "s_crosstalk = 0.75\n",
      "s_evidence = 7.5\n",
      "t_senso = 0.175\n",
      "vocab = <nengo_spa.vocabulary.Vocabulary object at 0x7f3198343650>\n",
      "xp = <experiments.Xp1 object at 0x7f3198343a90>\n",
      "proc_feedback = 0.5\n",
      "GW_feedback = 0.95\n",
      "GW_scale = 20\n",
      "BG_thr = 0.1\n",
      "BG_bias = 0.5\n",
      "data = <data.Data object at 0x7f31eb68fad0>\n",
      "\t seed 5/5\n",
      "running run_seed5_scross0.75_sevid7.5\n"
     ]
    },
    {
     "data": {
      "text/html": [
       "\n",
       "                <div id=\"43b5e593-21c7-4d17-bac9-4e5dbbbd6228\" style=\"\n",
       "                    width: 100%;\n",
       "                    border: 1px solid #cfcfcf;\n",
       "                    border-radius: 4px;\n",
       "                    text-align: center;\n",
       "                    position: relative;\">\n",
       "                  <div class=\"pb-text\" style=\"\n",
       "                      position: absolute;\n",
       "                      width: 100%;\">\n",
       "                    0%\n",
       "                  </div>\n",
       "                  <div class=\"pb-fill\" style=\"\n",
       "                      background-color: #bdd2e6;\n",
       "                      width: 0%;\">\n",
       "                    <style type=\"text/css\" scoped=\"scoped\">\n",
       "                        @keyframes pb-fill-anim {\n",
       "                            0% { background-position: 0 0; }\n",
       "                            100% { background-position: 100px 0; }\n",
       "                        }\n",
       "                    </style>\n",
       "                    &nbsp;\n",
       "                  </div>\n",
       "                </div>"
      ],
      "text/plain": [
       "HtmlProgressBar cannot be displayed. Please use the TerminalProgressBar. It can be enabled with `nengo.rc.set('progress', 'progress_bar', 'nengo.utils.progress.TerminalProgressBar')`."
      ]
     },
     "metadata": {},
     "output_type": "display_data"
    },
    {
     "data": {
      "application/javascript": [
       "\n",
       "              (function () {\n",
       "                  var root = document.getElementById('43b5e593-21c7-4d17-bac9-4e5dbbbd6228');\n",
       "                  var text = root.getElementsByClassName('pb-text')[0];\n",
       "                  var fill = root.getElementsByClassName('pb-fill')[0];\n",
       "\n",
       "                  text.innerHTML = 'Simulation finished in 0:03:04.';\n",
       "                  \n",
       "            if (100.0 > 0.) {\n",
       "                fill.style.transition = 'width 0.1s linear';\n",
       "            } else {\n",
       "                fill.style.transition = 'none';\n",
       "            }\n",
       "\n",
       "            fill.style.width = '100.0%';\n",
       "            fill.style.animation = 'none';\n",
       "            fill.style.backgroundImage = 'none'\n",
       "        \n",
       "                  \n",
       "                fill.style.animation = 'none';\n",
       "                fill.style.backgroundImage = 'none';\n",
       "            \n",
       "              })();\n",
       "        "
      ],
      "text/plain": [
       "<IPython.core.display.Javascript object>"
      ]
     },
     "metadata": {},
     "output_type": "display_data"
    },
    {
     "name": "stdout",
     "output_type": "stream",
     "text": [
      "seed = 5\n",
      "backend = 'nengo_ocl'\n",
      "dt = 0.001\n",
      "neuron_type = 'default'\n",
      "n_neurons_scale = 1\n",
      "s_crosstalk = 0.75\n",
      "s_evidence = 7.5\n",
      "t_senso = 0.175\n",
      "vocab = <nengo_spa.vocabulary.Vocabulary object at 0x7f3198e5c910>\n",
      "xp = <experiments.Xp1 object at 0x7f31b2d95790>\n",
      "proc_feedback = 0.5\n",
      "GW_feedback = 0.95\n",
      "GW_scale = 20\n",
      "BG_thr = 0.1\n",
      "BG_bias = 0.5\n",
      "data = <data.Data object at 0x7f31b081f3d0>\n",
      "error: 96.73308840906603\n",
      "params: [ 0.75 11.25]\n",
      "Simulating...\n",
      "\t seed 1/5\n",
      "running run_seed1_scross0.75_sevid11.25\n"
     ]
    },
    {
     "data": {
      "text/html": [
       "\n",
       "                <div id=\"d5075c83-3fd2-400f-97d8-54d200c65daa\" style=\"\n",
       "                    width: 100%;\n",
       "                    border: 1px solid #cfcfcf;\n",
       "                    border-radius: 4px;\n",
       "                    text-align: center;\n",
       "                    position: relative;\">\n",
       "                  <div class=\"pb-text\" style=\"\n",
       "                      position: absolute;\n",
       "                      width: 100%;\">\n",
       "                    0%\n",
       "                  </div>\n",
       "                  <div class=\"pb-fill\" style=\"\n",
       "                      background-color: #bdd2e6;\n",
       "                      width: 0%;\">\n",
       "                    <style type=\"text/css\" scoped=\"scoped\">\n",
       "                        @keyframes pb-fill-anim {\n",
       "                            0% { background-position: 0 0; }\n",
       "                            100% { background-position: 100px 0; }\n",
       "                        }\n",
       "                    </style>\n",
       "                    &nbsp;\n",
       "                  </div>\n",
       "                </div>"
      ],
      "text/plain": [
       "HtmlProgressBar cannot be displayed. Please use the TerminalProgressBar. It can be enabled with `nengo.rc.set('progress', 'progress_bar', 'nengo.utils.progress.TerminalProgressBar')`."
      ]
     },
     "metadata": {},
     "output_type": "display_data"
    },
    {
     "data": {
      "application/javascript": [
       "\n",
       "              (function () {\n",
       "                  var root = document.getElementById('d5075c83-3fd2-400f-97d8-54d200c65daa');\n",
       "                  var text = root.getElementsByClassName('pb-text')[0];\n",
       "                  var fill = root.getElementsByClassName('pb-fill')[0];\n",
       "\n",
       "                  text.innerHTML = 'Simulation finished in 0:03:02.';\n",
       "                  \n",
       "            if (100.0 > 0.) {\n",
       "                fill.style.transition = 'width 0.1s linear';\n",
       "            } else {\n",
       "                fill.style.transition = 'none';\n",
       "            }\n",
       "\n",
       "            fill.style.width = '100.0%';\n",
       "            fill.style.animation = 'none';\n",
       "            fill.style.backgroundImage = 'none'\n",
       "        \n",
       "                  \n",
       "                fill.style.animation = 'none';\n",
       "                fill.style.backgroundImage = 'none';\n",
       "            \n",
       "              })();\n",
       "        "
      ],
      "text/plain": [
       "<IPython.core.display.Javascript object>"
      ]
     },
     "metadata": {},
     "output_type": "display_data"
    },
    {
     "name": "stdout",
     "output_type": "stream",
     "text": [
      "seed = 1\n",
      "backend = 'nengo_ocl'\n",
      "dt = 0.001\n",
      "neuron_type = 'default'\n",
      "n_neurons_scale = 1\n",
      "s_crosstalk = 0.75\n",
      "s_evidence = 11.25\n",
      "t_senso = 0.175\n",
      "vocab = <nengo_spa.vocabulary.Vocabulary object at 0x7f31b1f698d0>\n",
      "xp = <experiments.Xp1 object at 0x7f31b1f69710>\n",
      "proc_feedback = 0.5\n",
      "GW_feedback = 0.95\n",
      "GW_scale = 20\n",
      "BG_thr = 0.1\n",
      "BG_bias = 0.5\n",
      "data = <data.Data object at 0x7f31b5fccd90>\n",
      "\t seed 2/5\n",
      "running run_seed2_scross0.75_sevid11.25\n"
     ]
    },
    {
     "data": {
      "text/html": [
       "\n",
       "                <div id=\"178c46a0-6b59-47d0-8445-066ba010ef10\" style=\"\n",
       "                    width: 100%;\n",
       "                    border: 1px solid #cfcfcf;\n",
       "                    border-radius: 4px;\n",
       "                    text-align: center;\n",
       "                    position: relative;\">\n",
       "                  <div class=\"pb-text\" style=\"\n",
       "                      position: absolute;\n",
       "                      width: 100%;\">\n",
       "                    0%\n",
       "                  </div>\n",
       "                  <div class=\"pb-fill\" style=\"\n",
       "                      background-color: #bdd2e6;\n",
       "                      width: 0%;\">\n",
       "                    <style type=\"text/css\" scoped=\"scoped\">\n",
       "                        @keyframes pb-fill-anim {\n",
       "                            0% { background-position: 0 0; }\n",
       "                            100% { background-position: 100px 0; }\n",
       "                        }\n",
       "                    </style>\n",
       "                    &nbsp;\n",
       "                  </div>\n",
       "                </div>"
      ],
      "text/plain": [
       "HtmlProgressBar cannot be displayed. Please use the TerminalProgressBar. It can be enabled with `nengo.rc.set('progress', 'progress_bar', 'nengo.utils.progress.TerminalProgressBar')`."
      ]
     },
     "metadata": {},
     "output_type": "display_data"
    },
    {
     "data": {
      "application/javascript": [
       "\n",
       "              (function () {\n",
       "                  var root = document.getElementById('178c46a0-6b59-47d0-8445-066ba010ef10');\n",
       "                  var text = root.getElementsByClassName('pb-text')[0];\n",
       "                  var fill = root.getElementsByClassName('pb-fill')[0];\n",
       "\n",
       "                  text.innerHTML = 'Simulation finished in 0:03:18.';\n",
       "                  \n",
       "            if (100.0 > 0.) {\n",
       "                fill.style.transition = 'width 0.1s linear';\n",
       "            } else {\n",
       "                fill.style.transition = 'none';\n",
       "            }\n",
       "\n",
       "            fill.style.width = '100.0%';\n",
       "            fill.style.animation = 'none';\n",
       "            fill.style.backgroundImage = 'none'\n",
       "        \n",
       "                  \n",
       "                fill.style.animation = 'none';\n",
       "                fill.style.backgroundImage = 'none';\n",
       "            \n",
       "              })();\n",
       "        "
      ],
      "text/plain": [
       "<IPython.core.display.Javascript object>"
      ]
     },
     "metadata": {},
     "output_type": "display_data"
    },
    {
     "name": "stdout",
     "output_type": "stream",
     "text": [
      "seed = 2\n",
      "backend = 'nengo_ocl'\n",
      "dt = 0.001\n",
      "neuron_type = 'default'\n",
      "n_neurons_scale = 1\n",
      "s_crosstalk = 0.75\n",
      "s_evidence = 11.25\n",
      "t_senso = 0.175\n",
      "vocab = <nengo_spa.vocabulary.Vocabulary object at 0x7f31b1ca5290>\n",
      "xp = <experiments.Xp1 object at 0x7f31b1ca5190>\n",
      "proc_feedback = 0.5\n",
      "GW_feedback = 0.95\n",
      "GW_scale = 20\n",
      "BG_thr = 0.1\n",
      "BG_bias = 0.5\n",
      "data = <data.Data object at 0x7f31b2dee110>\n",
      "\t seed 3/5\n",
      "running run_seed3_scross0.75_sevid11.25\n"
     ]
    },
    {
     "data": {
      "text/html": [
       "\n",
       "                <div id=\"e097c919-7304-47dc-aff2-50caf25a9860\" style=\"\n",
       "                    width: 100%;\n",
       "                    border: 1px solid #cfcfcf;\n",
       "                    border-radius: 4px;\n",
       "                    text-align: center;\n",
       "                    position: relative;\">\n",
       "                  <div class=\"pb-text\" style=\"\n",
       "                      position: absolute;\n",
       "                      width: 100%;\">\n",
       "                    0%\n",
       "                  </div>\n",
       "                  <div class=\"pb-fill\" style=\"\n",
       "                      background-color: #bdd2e6;\n",
       "                      width: 0%;\">\n",
       "                    <style type=\"text/css\" scoped=\"scoped\">\n",
       "                        @keyframes pb-fill-anim {\n",
       "                            0% { background-position: 0 0; }\n",
       "                            100% { background-position: 100px 0; }\n",
       "                        }\n",
       "                    </style>\n",
       "                    &nbsp;\n",
       "                  </div>\n",
       "                </div>"
      ],
      "text/plain": [
       "HtmlProgressBar cannot be displayed. Please use the TerminalProgressBar. It can be enabled with `nengo.rc.set('progress', 'progress_bar', 'nengo.utils.progress.TerminalProgressBar')`."
      ]
     },
     "metadata": {},
     "output_type": "display_data"
    },
    {
     "data": {
      "application/javascript": [
       "\n",
       "              (function () {\n",
       "                  var root = document.getElementById('e097c919-7304-47dc-aff2-50caf25a9860');\n",
       "                  var text = root.getElementsByClassName('pb-text')[0];\n",
       "                  var fill = root.getElementsByClassName('pb-fill')[0];\n",
       "\n",
       "                  text.innerHTML = 'Simulation finished in 0:03:15.';\n",
       "                  \n",
       "            if (100.0 > 0.) {\n",
       "                fill.style.transition = 'width 0.1s linear';\n",
       "            } else {\n",
       "                fill.style.transition = 'none';\n",
       "            }\n",
       "\n",
       "            fill.style.width = '100.0%';\n",
       "            fill.style.animation = 'none';\n",
       "            fill.style.backgroundImage = 'none'\n",
       "        \n",
       "                  \n",
       "                fill.style.animation = 'none';\n",
       "                fill.style.backgroundImage = 'none';\n",
       "            \n",
       "              })();\n",
       "        "
      ],
      "text/plain": [
       "<IPython.core.display.Javascript object>"
      ]
     },
     "metadata": {},
     "output_type": "display_data"
    },
    {
     "name": "stdout",
     "output_type": "stream",
     "text": [
      "seed = 3\n",
      "backend = 'nengo_ocl'\n",
      "dt = 0.001\n",
      "neuron_type = 'default'\n",
      "n_neurons_scale = 1\n",
      "s_crosstalk = 0.75\n",
      "s_evidence = 11.25\n",
      "t_senso = 0.175\n",
      "vocab = <nengo_spa.vocabulary.Vocabulary object at 0x7f31b4d7b4d0>\n",
      "xp = <experiments.Xp1 object at 0x7f31b5fcc590>\n",
      "proc_feedback = 0.5\n",
      "GW_feedback = 0.95\n",
      "GW_scale = 20\n",
      "BG_thr = 0.1\n",
      "BG_bias = 0.5\n",
      "data = <data.Data object at 0x7f31b3b99410>\n",
      "\t seed 4/5\n",
      "running run_seed4_scross0.75_sevid11.25\n"
     ]
    },
    {
     "data": {
      "text/html": [
       "\n",
       "                <div id=\"17598d00-61bb-4d61-9848-9249a67bde6e\" style=\"\n",
       "                    width: 100%;\n",
       "                    border: 1px solid #cfcfcf;\n",
       "                    border-radius: 4px;\n",
       "                    text-align: center;\n",
       "                    position: relative;\">\n",
       "                  <div class=\"pb-text\" style=\"\n",
       "                      position: absolute;\n",
       "                      width: 100%;\">\n",
       "                    0%\n",
       "                  </div>\n",
       "                  <div class=\"pb-fill\" style=\"\n",
       "                      background-color: #bdd2e6;\n",
       "                      width: 0%;\">\n",
       "                    <style type=\"text/css\" scoped=\"scoped\">\n",
       "                        @keyframes pb-fill-anim {\n",
       "                            0% { background-position: 0 0; }\n",
       "                            100% { background-position: 100px 0; }\n",
       "                        }\n",
       "                    </style>\n",
       "                    &nbsp;\n",
       "                  </div>\n",
       "                </div>"
      ],
      "text/plain": [
       "HtmlProgressBar cannot be displayed. Please use the TerminalProgressBar. It can be enabled with `nengo.rc.set('progress', 'progress_bar', 'nengo.utils.progress.TerminalProgressBar')`."
      ]
     },
     "metadata": {},
     "output_type": "display_data"
    },
    {
     "data": {
      "application/javascript": [
       "\n",
       "              (function () {\n",
       "                  var root = document.getElementById('17598d00-61bb-4d61-9848-9249a67bde6e');\n",
       "                  var text = root.getElementsByClassName('pb-text')[0];\n",
       "                  var fill = root.getElementsByClassName('pb-fill')[0];\n",
       "\n",
       "                  text.innerHTML = 'Simulation finished in 0:02:54.';\n",
       "                  \n",
       "            if (100.0 > 0.) {\n",
       "                fill.style.transition = 'width 0.1s linear';\n",
       "            } else {\n",
       "                fill.style.transition = 'none';\n",
       "            }\n",
       "\n",
       "            fill.style.width = '100.0%';\n",
       "            fill.style.animation = 'none';\n",
       "            fill.style.backgroundImage = 'none'\n",
       "        \n",
       "                  \n",
       "                fill.style.animation = 'none';\n",
       "                fill.style.backgroundImage = 'none';\n",
       "            \n",
       "              })();\n",
       "        "
      ],
      "text/plain": [
       "<IPython.core.display.Javascript object>"
      ]
     },
     "metadata": {},
     "output_type": "display_data"
    },
    {
     "name": "stdout",
     "output_type": "stream",
     "text": [
      "seed = 4\n",
      "backend = 'nengo_ocl'\n",
      "dt = 0.001\n",
      "neuron_type = 'default'\n",
      "n_neurons_scale = 1\n",
      "s_crosstalk = 0.75\n",
      "s_evidence = 11.25\n",
      "t_senso = 0.175\n",
      "vocab = <nengo_spa.vocabulary.Vocabulary object at 0x7f31eb3ecc10>\n",
      "xp = <experiments.Xp1 object at 0x7f31b5dc1610>\n",
      "proc_feedback = 0.5\n",
      "GW_feedback = 0.95\n",
      "GW_scale = 20\n",
      "BG_thr = 0.1\n",
      "BG_bias = 0.5\n",
      "data = <data.Data object at 0x7f31b4d1d190>\n",
      "\t seed 5/5\n",
      "running run_seed5_scross0.75_sevid11.25\n"
     ]
    },
    {
     "data": {
      "text/html": [
       "\n",
       "                <div id=\"d583aea2-d8a6-4625-9ae3-a22b00cd0364\" style=\"\n",
       "                    width: 100%;\n",
       "                    border: 1px solid #cfcfcf;\n",
       "                    border-radius: 4px;\n",
       "                    text-align: center;\n",
       "                    position: relative;\">\n",
       "                  <div class=\"pb-text\" style=\"\n",
       "                      position: absolute;\n",
       "                      width: 100%;\">\n",
       "                    0%\n",
       "                  </div>\n",
       "                  <div class=\"pb-fill\" style=\"\n",
       "                      background-color: #bdd2e6;\n",
       "                      width: 0%;\">\n",
       "                    <style type=\"text/css\" scoped=\"scoped\">\n",
       "                        @keyframes pb-fill-anim {\n",
       "                            0% { background-position: 0 0; }\n",
       "                            100% { background-position: 100px 0; }\n",
       "                        }\n",
       "                    </style>\n",
       "                    &nbsp;\n",
       "                  </div>\n",
       "                </div>"
      ],
      "text/plain": [
       "HtmlProgressBar cannot be displayed. Please use the TerminalProgressBar. It can be enabled with `nengo.rc.set('progress', 'progress_bar', 'nengo.utils.progress.TerminalProgressBar')`."
      ]
     },
     "metadata": {},
     "output_type": "display_data"
    },
    {
     "data": {
      "application/javascript": [
       "\n",
       "              (function () {\n",
       "                  var root = document.getElementById('d583aea2-d8a6-4625-9ae3-a22b00cd0364');\n",
       "                  var text = root.getElementsByClassName('pb-text')[0];\n",
       "                  var fill = root.getElementsByClassName('pb-fill')[0];\n",
       "\n",
       "                  text.innerHTML = 'Simulation finished in 0:02:49.';\n",
       "                  \n",
       "            if (100.0 > 0.) {\n",
       "                fill.style.transition = 'width 0.1s linear';\n",
       "            } else {\n",
       "                fill.style.transition = 'none';\n",
       "            }\n",
       "\n",
       "            fill.style.width = '100.0%';\n",
       "            fill.style.animation = 'none';\n",
       "            fill.style.backgroundImage = 'none'\n",
       "        \n",
       "                  \n",
       "                fill.style.animation = 'none';\n",
       "                fill.style.backgroundImage = 'none';\n",
       "            \n",
       "              })();\n",
       "        "
      ],
      "text/plain": [
       "<IPython.core.display.Javascript object>"
      ]
     },
     "metadata": {},
     "output_type": "display_data"
    },
    {
     "name": "stdout",
     "output_type": "stream",
     "text": [
      "seed = 5\n",
      "backend = 'nengo_ocl'\n",
      "dt = 0.001\n",
      "neuron_type = 'default'\n",
      "n_neurons_scale = 1\n",
      "s_crosstalk = 0.75\n",
      "s_evidence = 11.25\n",
      "t_senso = 0.175\n",
      "vocab = <nengo_spa.vocabulary.Vocabulary object at 0x7f31b1c8cc50>\n",
      "xp = <experiments.Xp1 object at 0x7f31e1dd3150>\n",
      "proc_feedback = 0.5\n",
      "GW_feedback = 0.95\n",
      "GW_scale = 20\n",
      "BG_thr = 0.1\n",
      "BG_bias = 0.5\n",
      "data = <data.Data object at 0x7f31b6a81e90>\n",
      "error: 97.12210439779457\n",
      "params: [ 0.75 15.  ]\n",
      "Simulating...\n",
      "\t seed 1/5\n",
      "running run_seed1_scross0.75_sevid15.0\n"
     ]
    },
    {
     "data": {
      "text/html": [
       "\n",
       "                <div id=\"02d3c1b6-8041-410e-a6b6-9f9e1619a35d\" style=\"\n",
       "                    width: 100%;\n",
       "                    border: 1px solid #cfcfcf;\n",
       "                    border-radius: 4px;\n",
       "                    text-align: center;\n",
       "                    position: relative;\">\n",
       "                  <div class=\"pb-text\" style=\"\n",
       "                      position: absolute;\n",
       "                      width: 100%;\">\n",
       "                    0%\n",
       "                  </div>\n",
       "                  <div class=\"pb-fill\" style=\"\n",
       "                      background-color: #bdd2e6;\n",
       "                      width: 0%;\">\n",
       "                    <style type=\"text/css\" scoped=\"scoped\">\n",
       "                        @keyframes pb-fill-anim {\n",
       "                            0% { background-position: 0 0; }\n",
       "                            100% { background-position: 100px 0; }\n",
       "                        }\n",
       "                    </style>\n",
       "                    &nbsp;\n",
       "                  </div>\n",
       "                </div>"
      ],
      "text/plain": [
       "HtmlProgressBar cannot be displayed. Please use the TerminalProgressBar. It can be enabled with `nengo.rc.set('progress', 'progress_bar', 'nengo.utils.progress.TerminalProgressBar')`."
      ]
     },
     "metadata": {},
     "output_type": "display_data"
    },
    {
     "data": {
      "application/javascript": [
       "\n",
       "              (function () {\n",
       "                  var root = document.getElementById('02d3c1b6-8041-410e-a6b6-9f9e1619a35d');\n",
       "                  var text = root.getElementsByClassName('pb-text')[0];\n",
       "                  var fill = root.getElementsByClassName('pb-fill')[0];\n",
       "\n",
       "                  text.innerHTML = 'Simulation finished in 0:02:50.';\n",
       "                  \n",
       "            if (100.0 > 0.) {\n",
       "                fill.style.transition = 'width 0.1s linear';\n",
       "            } else {\n",
       "                fill.style.transition = 'none';\n",
       "            }\n",
       "\n",
       "            fill.style.width = '100.0%';\n",
       "            fill.style.animation = 'none';\n",
       "            fill.style.backgroundImage = 'none'\n",
       "        \n",
       "                  \n",
       "                fill.style.animation = 'none';\n",
       "                fill.style.backgroundImage = 'none';\n",
       "            \n",
       "              })();\n",
       "        "
      ],
      "text/plain": [
       "<IPython.core.display.Javascript object>"
      ]
     },
     "metadata": {},
     "output_type": "display_data"
    },
    {
     "name": "stdout",
     "output_type": "stream",
     "text": [
      "seed = 1\n",
      "backend = 'nengo_ocl'\n",
      "dt = 0.001\n",
      "neuron_type = 'default'\n",
      "n_neurons_scale = 1\n",
      "s_crosstalk = 0.75\n",
      "s_evidence = 15.0\n",
      "t_senso = 0.175\n",
      "vocab = <nengo_spa.vocabulary.Vocabulary object at 0x7f31b6a9b8d0>\n",
      "xp = <experiments.Xp1 object at 0x7f31b6a9bc90>\n",
      "proc_feedback = 0.5\n",
      "GW_feedback = 0.95\n",
      "GW_scale = 20\n",
      "BG_thr = 0.1\n",
      "BG_bias = 0.5\n",
      "data = <data.Data object at 0x7f31b5deaad0>\n",
      "\t seed 2/5\n",
      "running run_seed2_scross0.75_sevid15.0\n"
     ]
    },
    {
     "data": {
      "text/html": [
       "\n",
       "                <div id=\"939b39ff-e68e-4a6f-a764-f3e813c09eb5\" style=\"\n",
       "                    width: 100%;\n",
       "                    border: 1px solid #cfcfcf;\n",
       "                    border-radius: 4px;\n",
       "                    text-align: center;\n",
       "                    position: relative;\">\n",
       "                  <div class=\"pb-text\" style=\"\n",
       "                      position: absolute;\n",
       "                      width: 100%;\">\n",
       "                    0%\n",
       "                  </div>\n",
       "                  <div class=\"pb-fill\" style=\"\n",
       "                      background-color: #bdd2e6;\n",
       "                      width: 0%;\">\n",
       "                    <style type=\"text/css\" scoped=\"scoped\">\n",
       "                        @keyframes pb-fill-anim {\n",
       "                            0% { background-position: 0 0; }\n",
       "                            100% { background-position: 100px 0; }\n",
       "                        }\n",
       "                    </style>\n",
       "                    &nbsp;\n",
       "                  </div>\n",
       "                </div>"
      ],
      "text/plain": [
       "HtmlProgressBar cannot be displayed. Please use the TerminalProgressBar. It can be enabled with `nengo.rc.set('progress', 'progress_bar', 'nengo.utils.progress.TerminalProgressBar')`."
      ]
     },
     "metadata": {},
     "output_type": "display_data"
    },
    {
     "data": {
      "application/javascript": [
       "\n",
       "              (function () {\n",
       "                  var root = document.getElementById('939b39ff-e68e-4a6f-a764-f3e813c09eb5');\n",
       "                  var text = root.getElementsByClassName('pb-text')[0];\n",
       "                  var fill = root.getElementsByClassName('pb-fill')[0];\n",
       "\n",
       "                  text.innerHTML = 'Simulation finished in 0:02:45.';\n",
       "                  \n",
       "            if (100.0 > 0.) {\n",
       "                fill.style.transition = 'width 0.1s linear';\n",
       "            } else {\n",
       "                fill.style.transition = 'none';\n",
       "            }\n",
       "\n",
       "            fill.style.width = '100.0%';\n",
       "            fill.style.animation = 'none';\n",
       "            fill.style.backgroundImage = 'none'\n",
       "        \n",
       "                  \n",
       "                fill.style.animation = 'none';\n",
       "                fill.style.backgroundImage = 'none';\n",
       "            \n",
       "              })();\n",
       "        "
      ],
      "text/plain": [
       "<IPython.core.display.Javascript object>"
      ]
     },
     "metadata": {},
     "output_type": "display_data"
    },
    {
     "name": "stdout",
     "output_type": "stream",
     "text": [
      "seed = 2\n",
      "backend = 'nengo_ocl'\n",
      "dt = 0.001\n",
      "neuron_type = 'default'\n",
      "n_neurons_scale = 1\n",
      "s_crosstalk = 0.75\n",
      "s_evidence = 15.0\n",
      "t_senso = 0.175\n",
      "vocab = <nengo_spa.vocabulary.Vocabulary object at 0x7f31b494f510>\n",
      "xp = <experiments.Xp1 object at 0x7f31b2df99d0>\n",
      "proc_feedback = 0.5\n",
      "GW_feedback = 0.95\n",
      "GW_scale = 20\n",
      "BG_thr = 0.1\n",
      "BG_bias = 0.5\n",
      "data = <data.Data object at 0x7f31ebb39390>\n",
      "\t seed 3/5\n",
      "running run_seed3_scross0.75_sevid15.0\n"
     ]
    },
    {
     "data": {
      "text/html": [
       "\n",
       "                <div id=\"7774d9e3-dfc0-4f29-9f05-84f1ce06e2c1\" style=\"\n",
       "                    width: 100%;\n",
       "                    border: 1px solid #cfcfcf;\n",
       "                    border-radius: 4px;\n",
       "                    text-align: center;\n",
       "                    position: relative;\">\n",
       "                  <div class=\"pb-text\" style=\"\n",
       "                      position: absolute;\n",
       "                      width: 100%;\">\n",
       "                    0%\n",
       "                  </div>\n",
       "                  <div class=\"pb-fill\" style=\"\n",
       "                      background-color: #bdd2e6;\n",
       "                      width: 0%;\">\n",
       "                    <style type=\"text/css\" scoped=\"scoped\">\n",
       "                        @keyframes pb-fill-anim {\n",
       "                            0% { background-position: 0 0; }\n",
       "                            100% { background-position: 100px 0; }\n",
       "                        }\n",
       "                    </style>\n",
       "                    &nbsp;\n",
       "                  </div>\n",
       "                </div>"
      ],
      "text/plain": [
       "HtmlProgressBar cannot be displayed. Please use the TerminalProgressBar. It can be enabled with `nengo.rc.set('progress', 'progress_bar', 'nengo.utils.progress.TerminalProgressBar')`."
      ]
     },
     "metadata": {},
     "output_type": "display_data"
    },
    {
     "data": {
      "application/javascript": [
       "\n",
       "              (function () {\n",
       "                  var root = document.getElementById('7774d9e3-dfc0-4f29-9f05-84f1ce06e2c1');\n",
       "                  var text = root.getElementsByClassName('pb-text')[0];\n",
       "                  var fill = root.getElementsByClassName('pb-fill')[0];\n",
       "\n",
       "                  text.innerHTML = 'Simulation finished in 0:02:47.';\n",
       "                  \n",
       "            if (100.0 > 0.) {\n",
       "                fill.style.transition = 'width 0.1s linear';\n",
       "            } else {\n",
       "                fill.style.transition = 'none';\n",
       "            }\n",
       "\n",
       "            fill.style.width = '100.0%';\n",
       "            fill.style.animation = 'none';\n",
       "            fill.style.backgroundImage = 'none'\n",
       "        \n",
       "                  \n",
       "                fill.style.animation = 'none';\n",
       "                fill.style.backgroundImage = 'none';\n",
       "            \n",
       "              })();\n",
       "        "
      ],
      "text/plain": [
       "<IPython.core.display.Javascript object>"
      ]
     },
     "metadata": {},
     "output_type": "display_data"
    },
    {
     "name": "stdout",
     "output_type": "stream",
     "text": [
      "seed = 3\n",
      "backend = 'nengo_ocl'\n",
      "dt = 0.001\n",
      "neuron_type = 'default'\n",
      "n_neurons_scale = 1\n",
      "s_crosstalk = 0.75\n",
      "s_evidence = 15.0\n",
      "t_senso = 0.175\n",
      "vocab = <nengo_spa.vocabulary.Vocabulary object at 0x7f31eb672410>\n",
      "xp = <experiments.Xp1 object at 0x7f31ebb39190>\n",
      "proc_feedback = 0.5\n",
      "GW_feedback = 0.95\n",
      "GW_scale = 20\n",
      "BG_thr = 0.1\n",
      "BG_bias = 0.5\n",
      "data = <data.Data object at 0x7f31b673afd0>\n",
      "\t seed 4/5\n",
      "running run_seed4_scross0.75_sevid15.0\n"
     ]
    },
    {
     "data": {
      "text/html": [
       "\n",
       "                <div id=\"8f1fd7b0-76fa-4c4d-84ac-2b719d87358c\" style=\"\n",
       "                    width: 100%;\n",
       "                    border: 1px solid #cfcfcf;\n",
       "                    border-radius: 4px;\n",
       "                    text-align: center;\n",
       "                    position: relative;\">\n",
       "                  <div class=\"pb-text\" style=\"\n",
       "                      position: absolute;\n",
       "                      width: 100%;\">\n",
       "                    0%\n",
       "                  </div>\n",
       "                  <div class=\"pb-fill\" style=\"\n",
       "                      background-color: #bdd2e6;\n",
       "                      width: 0%;\">\n",
       "                    <style type=\"text/css\" scoped=\"scoped\">\n",
       "                        @keyframes pb-fill-anim {\n",
       "                            0% { background-position: 0 0; }\n",
       "                            100% { background-position: 100px 0; }\n",
       "                        }\n",
       "                    </style>\n",
       "                    &nbsp;\n",
       "                  </div>\n",
       "                </div>"
      ],
      "text/plain": [
       "HtmlProgressBar cannot be displayed. Please use the TerminalProgressBar. It can be enabled with `nengo.rc.set('progress', 'progress_bar', 'nengo.utils.progress.TerminalProgressBar')`."
      ]
     },
     "metadata": {},
     "output_type": "display_data"
    },
    {
     "data": {
      "application/javascript": [
       "\n",
       "              (function () {\n",
       "                  var root = document.getElementById('8f1fd7b0-76fa-4c4d-84ac-2b719d87358c');\n",
       "                  var text = root.getElementsByClassName('pb-text')[0];\n",
       "                  var fill = root.getElementsByClassName('pb-fill')[0];\n",
       "\n",
       "                  text.innerHTML = 'Simulation finished in 0:02:47.';\n",
       "                  \n",
       "            if (100.0 > 0.) {\n",
       "                fill.style.transition = 'width 0.1s linear';\n",
       "            } else {\n",
       "                fill.style.transition = 'none';\n",
       "            }\n",
       "\n",
       "            fill.style.width = '100.0%';\n",
       "            fill.style.animation = 'none';\n",
       "            fill.style.backgroundImage = 'none'\n",
       "        \n",
       "                  \n",
       "                fill.style.animation = 'none';\n",
       "                fill.style.backgroundImage = 'none';\n",
       "            \n",
       "              })();\n",
       "        "
      ],
      "text/plain": [
       "<IPython.core.display.Javascript object>"
      ]
     },
     "metadata": {},
     "output_type": "display_data"
    },
    {
     "name": "stdout",
     "output_type": "stream",
     "text": [
      "seed = 4\n",
      "backend = 'nengo_ocl'\n",
      "dt = 0.001\n",
      "neuron_type = 'default'\n",
      "n_neurons_scale = 1\n",
      "s_crosstalk = 0.75\n",
      "s_evidence = 15.0\n",
      "t_senso = 0.175\n",
      "vocab = <nengo_spa.vocabulary.Vocabulary object at 0x7f3198365b50>\n",
      "xp = <experiments.Xp1 object at 0x7f3198669810>\n",
      "proc_feedback = 0.5\n",
      "GW_feedback = 0.95\n",
      "GW_scale = 20\n",
      "BG_thr = 0.1\n",
      "BG_bias = 0.5\n",
      "data = <data.Data object at 0x7f31b2d8c650>\n",
      "\t seed 5/5\n",
      "running run_seed5_scross0.75_sevid15.0\n"
     ]
    },
    {
     "data": {
      "text/html": [
       "\n",
       "                <div id=\"42a8ad63-14e0-439c-96d6-883202776c1f\" style=\"\n",
       "                    width: 100%;\n",
       "                    border: 1px solid #cfcfcf;\n",
       "                    border-radius: 4px;\n",
       "                    text-align: center;\n",
       "                    position: relative;\">\n",
       "                  <div class=\"pb-text\" style=\"\n",
       "                      position: absolute;\n",
       "                      width: 100%;\">\n",
       "                    0%\n",
       "                  </div>\n",
       "                  <div class=\"pb-fill\" style=\"\n",
       "                      background-color: #bdd2e6;\n",
       "                      width: 0%;\">\n",
       "                    <style type=\"text/css\" scoped=\"scoped\">\n",
       "                        @keyframes pb-fill-anim {\n",
       "                            0% { background-position: 0 0; }\n",
       "                            100% { background-position: 100px 0; }\n",
       "                        }\n",
       "                    </style>\n",
       "                    &nbsp;\n",
       "                  </div>\n",
       "                </div>"
      ],
      "text/plain": [
       "HtmlProgressBar cannot be displayed. Please use the TerminalProgressBar. It can be enabled with `nengo.rc.set('progress', 'progress_bar', 'nengo.utils.progress.TerminalProgressBar')`."
      ]
     },
     "metadata": {},
     "output_type": "display_data"
    },
    {
     "data": {
      "application/javascript": [
       "\n",
       "              (function () {\n",
       "                  var root = document.getElementById('42a8ad63-14e0-439c-96d6-883202776c1f');\n",
       "                  var text = root.getElementsByClassName('pb-text')[0];\n",
       "                  var fill = root.getElementsByClassName('pb-fill')[0];\n",
       "\n",
       "                  text.innerHTML = 'Simulation finished in 0:02:44.';\n",
       "                  \n",
       "            if (100.0 > 0.) {\n",
       "                fill.style.transition = 'width 0.1s linear';\n",
       "            } else {\n",
       "                fill.style.transition = 'none';\n",
       "            }\n",
       "\n",
       "            fill.style.width = '100.0%';\n",
       "            fill.style.animation = 'none';\n",
       "            fill.style.backgroundImage = 'none'\n",
       "        \n",
       "                  \n",
       "                fill.style.animation = 'none';\n",
       "                fill.style.backgroundImage = 'none';\n",
       "            \n",
       "              })();\n",
       "        "
      ],
      "text/plain": [
       "<IPython.core.display.Javascript object>"
      ]
     },
     "metadata": {},
     "output_type": "display_data"
    },
    {
     "name": "stdout",
     "output_type": "stream",
     "text": [
      "seed = 5\n",
      "backend = 'nengo_ocl'\n",
      "dt = 0.001\n",
      "neuron_type = 'default'\n",
      "n_neurons_scale = 1\n",
      "s_crosstalk = 0.75\n",
      "s_evidence = 15.0\n",
      "t_senso = 0.175\n",
      "vocab = <nengo_spa.vocabulary.Vocabulary object at 0x7f3198365810>\n",
      "xp = <experiments.Xp1 object at 0x7f31b2d8ce90>\n",
      "proc_feedback = 0.5\n",
      "GW_feedback = 0.95\n",
      "GW_scale = 20\n",
      "BG_thr = 0.1\n",
      "BG_bias = 0.5\n",
      "data = <data.Data object at 0x7f31b659f7d0>\n",
      "error: 97.12210439779457\n",
      "params: [1.125 0.   ]\n",
      "Simulating...\n",
      "\t seed 1/5\n",
      "running run_seed1_scross1.125_sevid0.0\n"
     ]
    },
    {
     "data": {
      "text/html": [
       "\n",
       "                <div id=\"095fb717-9952-4d41-9310-8ac8a0972a06\" style=\"\n",
       "                    width: 100%;\n",
       "                    border: 1px solid #cfcfcf;\n",
       "                    border-radius: 4px;\n",
       "                    text-align: center;\n",
       "                    position: relative;\">\n",
       "                  <div class=\"pb-text\" style=\"\n",
       "                      position: absolute;\n",
       "                      width: 100%;\">\n",
       "                    0%\n",
       "                  </div>\n",
       "                  <div class=\"pb-fill\" style=\"\n",
       "                      background-color: #bdd2e6;\n",
       "                      width: 0%;\">\n",
       "                    <style type=\"text/css\" scoped=\"scoped\">\n",
       "                        @keyframes pb-fill-anim {\n",
       "                            0% { background-position: 0 0; }\n",
       "                            100% { background-position: 100px 0; }\n",
       "                        }\n",
       "                    </style>\n",
       "                    &nbsp;\n",
       "                  </div>\n",
       "                </div>"
      ],
      "text/plain": [
       "HtmlProgressBar cannot be displayed. Please use the TerminalProgressBar. It can be enabled with `nengo.rc.set('progress', 'progress_bar', 'nengo.utils.progress.TerminalProgressBar')`."
      ]
     },
     "metadata": {},
     "output_type": "display_data"
    },
    {
     "data": {
      "application/javascript": [
       "\n",
       "              (function () {\n",
       "                  var root = document.getElementById('095fb717-9952-4d41-9310-8ac8a0972a06');\n",
       "                  var text = root.getElementsByClassName('pb-text')[0];\n",
       "                  var fill = root.getElementsByClassName('pb-fill')[0];\n",
       "\n",
       "                  text.innerHTML = 'Simulation finished in 0:01:56.';\n",
       "                  \n",
       "            if (100.0 > 0.) {\n",
       "                fill.style.transition = 'width 0.1s linear';\n",
       "            } else {\n",
       "                fill.style.transition = 'none';\n",
       "            }\n",
       "\n",
       "            fill.style.width = '100.0%';\n",
       "            fill.style.animation = 'none';\n",
       "            fill.style.backgroundImage = 'none'\n",
       "        \n",
       "                  \n",
       "                fill.style.animation = 'none';\n",
       "                fill.style.backgroundImage = 'none';\n",
       "            \n",
       "              })();\n",
       "        "
      ],
      "text/plain": [
       "<IPython.core.display.Javascript object>"
      ]
     },
     "metadata": {},
     "output_type": "display_data"
    },
    {
     "name": "stdout",
     "output_type": "stream",
     "text": [
      "seed = 1\n",
      "backend = 'nengo_ocl'\n",
      "dt = 0.001\n",
      "neuron_type = 'default'\n",
      "n_neurons_scale = 1\n",
      "s_crosstalk = 1.125\n",
      "s_evidence = 0.0\n",
      "t_senso = 0.175\n",
      "vocab = <nengo_spa.vocabulary.Vocabulary object at 0x7f31e1f5bc50>\n",
      "xp = <experiments.Xp1 object at 0x7f31e1f5b8d0>\n",
      "proc_feedback = 0.5\n",
      "GW_feedback = 0.95\n",
      "GW_scale = 20\n",
      "BG_thr = 0.1\n",
      "BG_bias = 0.5\n",
      "data = <data.Data object at 0x7f31e1ee5990>\n",
      "\t seed 2/5\n",
      "running run_seed2_scross1.125_sevid0.0\n"
     ]
    },
    {
     "data": {
      "text/html": [
       "\n",
       "                <div id=\"5f6f74f8-ddf7-482b-af1e-fb341cac57c7\" style=\"\n",
       "                    width: 100%;\n",
       "                    border: 1px solid #cfcfcf;\n",
       "                    border-radius: 4px;\n",
       "                    text-align: center;\n",
       "                    position: relative;\">\n",
       "                  <div class=\"pb-text\" style=\"\n",
       "                      position: absolute;\n",
       "                      width: 100%;\">\n",
       "                    0%\n",
       "                  </div>\n",
       "                  <div class=\"pb-fill\" style=\"\n",
       "                      background-color: #bdd2e6;\n",
       "                      width: 0%;\">\n",
       "                    <style type=\"text/css\" scoped=\"scoped\">\n",
       "                        @keyframes pb-fill-anim {\n",
       "                            0% { background-position: 0 0; }\n",
       "                            100% { background-position: 100px 0; }\n",
       "                        }\n",
       "                    </style>\n",
       "                    &nbsp;\n",
       "                  </div>\n",
       "                </div>"
      ],
      "text/plain": [
       "HtmlProgressBar cannot be displayed. Please use the TerminalProgressBar. It can be enabled with `nengo.rc.set('progress', 'progress_bar', 'nengo.utils.progress.TerminalProgressBar')`."
      ]
     },
     "metadata": {},
     "output_type": "display_data"
    },
    {
     "data": {
      "application/javascript": [
       "\n",
       "              (function () {\n",
       "                  var root = document.getElementById('5f6f74f8-ddf7-482b-af1e-fb341cac57c7');\n",
       "                  var text = root.getElementsByClassName('pb-text')[0];\n",
       "                  var fill = root.getElementsByClassName('pb-fill')[0];\n",
       "\n",
       "                  text.innerHTML = 'Simulation finished in 0:01:55.';\n",
       "                  \n",
       "            if (100.0 > 0.) {\n",
       "                fill.style.transition = 'width 0.1s linear';\n",
       "            } else {\n",
       "                fill.style.transition = 'none';\n",
       "            }\n",
       "\n",
       "            fill.style.width = '100.0%';\n",
       "            fill.style.animation = 'none';\n",
       "            fill.style.backgroundImage = 'none'\n",
       "        \n",
       "                  \n",
       "                fill.style.animation = 'none';\n",
       "                fill.style.backgroundImage = 'none';\n",
       "            \n",
       "              })();\n",
       "        "
      ],
      "text/plain": [
       "<IPython.core.display.Javascript object>"
      ]
     },
     "metadata": {},
     "output_type": "display_data"
    },
    {
     "name": "stdout",
     "output_type": "stream",
     "text": [
      "seed = 2\n",
      "backend = 'nengo_ocl'\n",
      "dt = 0.001\n",
      "neuron_type = 'default'\n",
      "n_neurons_scale = 1\n",
      "s_crosstalk = 1.125\n",
      "s_evidence = 0.0\n",
      "t_senso = 0.175\n",
      "vocab = <nengo_spa.vocabulary.Vocabulary object at 0x7f31b4d2d210>\n",
      "xp = <experiments.Xp1 object at 0x7f31b2da4c90>\n",
      "proc_feedback = 0.5\n",
      "GW_feedback = 0.95\n",
      "GW_scale = 20\n",
      "BG_thr = 0.1\n",
      "BG_bias = 0.5\n",
      "data = <data.Data object at 0x7f31b3bb2bd0>\n",
      "\t seed 3/5\n",
      "running run_seed3_scross1.125_sevid0.0\n"
     ]
    },
    {
     "data": {
      "text/html": [
       "\n",
       "                <div id=\"0f2b1b6a-f458-463c-8268-d08096ad8411\" style=\"\n",
       "                    width: 100%;\n",
       "                    border: 1px solid #cfcfcf;\n",
       "                    border-radius: 4px;\n",
       "                    text-align: center;\n",
       "                    position: relative;\">\n",
       "                  <div class=\"pb-text\" style=\"\n",
       "                      position: absolute;\n",
       "                      width: 100%;\">\n",
       "                    0%\n",
       "                  </div>\n",
       "                  <div class=\"pb-fill\" style=\"\n",
       "                      background-color: #bdd2e6;\n",
       "                      width: 0%;\">\n",
       "                    <style type=\"text/css\" scoped=\"scoped\">\n",
       "                        @keyframes pb-fill-anim {\n",
       "                            0% { background-position: 0 0; }\n",
       "                            100% { background-position: 100px 0; }\n",
       "                        }\n",
       "                    </style>\n",
       "                    &nbsp;\n",
       "                  </div>\n",
       "                </div>"
      ],
      "text/plain": [
       "HtmlProgressBar cannot be displayed. Please use the TerminalProgressBar. It can be enabled with `nengo.rc.set('progress', 'progress_bar', 'nengo.utils.progress.TerminalProgressBar')`."
      ]
     },
     "metadata": {},
     "output_type": "display_data"
    },
    {
     "data": {
      "application/javascript": [
       "\n",
       "              (function () {\n",
       "                  var root = document.getElementById('0f2b1b6a-f458-463c-8268-d08096ad8411');\n",
       "                  var text = root.getElementsByClassName('pb-text')[0];\n",
       "                  var fill = root.getElementsByClassName('pb-fill')[0];\n",
       "\n",
       "                  text.innerHTML = 'Simulation finished in 0:01:55.';\n",
       "                  \n",
       "            if (100.0 > 0.) {\n",
       "                fill.style.transition = 'width 0.1s linear';\n",
       "            } else {\n",
       "                fill.style.transition = 'none';\n",
       "            }\n",
       "\n",
       "            fill.style.width = '100.0%';\n",
       "            fill.style.animation = 'none';\n",
       "            fill.style.backgroundImage = 'none'\n",
       "        \n",
       "                  \n",
       "                fill.style.animation = 'none';\n",
       "                fill.style.backgroundImage = 'none';\n",
       "            \n",
       "              })();\n",
       "        "
      ],
      "text/plain": [
       "<IPython.core.display.Javascript object>"
      ]
     },
     "metadata": {},
     "output_type": "display_data"
    },
    {
     "name": "stdout",
     "output_type": "stream",
     "text": [
      "seed = 3\n",
      "backend = 'nengo_ocl'\n",
      "dt = 0.001\n",
      "neuron_type = 'default'\n",
      "n_neurons_scale = 1\n",
      "s_crosstalk = 1.125\n",
      "s_evidence = 0.0\n",
      "t_senso = 0.175\n",
      "vocab = <nengo_spa.vocabulary.Vocabulary object at 0x7f31eb532a50>\n",
      "xp = <experiments.Xp1 object at 0x7f31eb5327d0>\n",
      "proc_feedback = 0.5\n",
      "GW_feedback = 0.95\n",
      "GW_scale = 20\n",
      "BG_thr = 0.1\n",
      "BG_bias = 0.5\n",
      "data = <data.Data object at 0x7f31b5722d50>\n",
      "\t seed 4/5\n",
      "running run_seed4_scross1.125_sevid0.0\n"
     ]
    },
    {
     "data": {
      "text/html": [
       "\n",
       "                <div id=\"538ea6c4-dd46-4b88-be83-8bcdef2e168d\" style=\"\n",
       "                    width: 100%;\n",
       "                    border: 1px solid #cfcfcf;\n",
       "                    border-radius: 4px;\n",
       "                    text-align: center;\n",
       "                    position: relative;\">\n",
       "                  <div class=\"pb-text\" style=\"\n",
       "                      position: absolute;\n",
       "                      width: 100%;\">\n",
       "                    0%\n",
       "                  </div>\n",
       "                  <div class=\"pb-fill\" style=\"\n",
       "                      background-color: #bdd2e6;\n",
       "                      width: 0%;\">\n",
       "                    <style type=\"text/css\" scoped=\"scoped\">\n",
       "                        @keyframes pb-fill-anim {\n",
       "                            0% { background-position: 0 0; }\n",
       "                            100% { background-position: 100px 0; }\n",
       "                        }\n",
       "                    </style>\n",
       "                    &nbsp;\n",
       "                  </div>\n",
       "                </div>"
      ],
      "text/plain": [
       "HtmlProgressBar cannot be displayed. Please use the TerminalProgressBar. It can be enabled with `nengo.rc.set('progress', 'progress_bar', 'nengo.utils.progress.TerminalProgressBar')`."
      ]
     },
     "metadata": {},
     "output_type": "display_data"
    },
    {
     "data": {
      "application/javascript": [
       "\n",
       "              (function () {\n",
       "                  var root = document.getElementById('538ea6c4-dd46-4b88-be83-8bcdef2e168d');\n",
       "                  var text = root.getElementsByClassName('pb-text')[0];\n",
       "                  var fill = root.getElementsByClassName('pb-fill')[0];\n",
       "\n",
       "                  text.innerHTML = 'Simulation finished in 0:01:53.';\n",
       "                  \n",
       "            if (100.0 > 0.) {\n",
       "                fill.style.transition = 'width 0.1s linear';\n",
       "            } else {\n",
       "                fill.style.transition = 'none';\n",
       "            }\n",
       "\n",
       "            fill.style.width = '100.0%';\n",
       "            fill.style.animation = 'none';\n",
       "            fill.style.backgroundImage = 'none'\n",
       "        \n",
       "                  \n",
       "                fill.style.animation = 'none';\n",
       "                fill.style.backgroundImage = 'none';\n",
       "            \n",
       "              })();\n",
       "        "
      ],
      "text/plain": [
       "<IPython.core.display.Javascript object>"
      ]
     },
     "metadata": {},
     "output_type": "display_data"
    },
    {
     "name": "stdout",
     "output_type": "stream",
     "text": [
      "seed = 4\n",
      "backend = 'nengo_ocl'\n",
      "dt = 0.001\n",
      "neuron_type = 'default'\n",
      "n_neurons_scale = 1\n",
      "s_crosstalk = 1.125\n",
      "s_evidence = 0.0\n",
      "t_senso = 0.175\n",
      "vocab = <nengo_spa.vocabulary.Vocabulary object at 0x7f31b6ff5a90>\n",
      "xp = <experiments.Xp1 object at 0x7f31eb532110>\n",
      "proc_feedback = 0.5\n",
      "GW_feedback = 0.95\n",
      "GW_scale = 20\n",
      "BG_thr = 0.1\n",
      "BG_bias = 0.5\n",
      "data = <data.Data object at 0x7f31b1016b50>\n",
      "\t seed 5/5\n",
      "running run_seed5_scross1.125_sevid0.0\n"
     ]
    },
    {
     "data": {
      "text/html": [
       "\n",
       "                <div id=\"32714bfc-5ed8-4bc7-8b1f-63cae5280711\" style=\"\n",
       "                    width: 100%;\n",
       "                    border: 1px solid #cfcfcf;\n",
       "                    border-radius: 4px;\n",
       "                    text-align: center;\n",
       "                    position: relative;\">\n",
       "                  <div class=\"pb-text\" style=\"\n",
       "                      position: absolute;\n",
       "                      width: 100%;\">\n",
       "                    0%\n",
       "                  </div>\n",
       "                  <div class=\"pb-fill\" style=\"\n",
       "                      background-color: #bdd2e6;\n",
       "                      width: 0%;\">\n",
       "                    <style type=\"text/css\" scoped=\"scoped\">\n",
       "                        @keyframes pb-fill-anim {\n",
       "                            0% { background-position: 0 0; }\n",
       "                            100% { background-position: 100px 0; }\n",
       "                        }\n",
       "                    </style>\n",
       "                    &nbsp;\n",
       "                  </div>\n",
       "                </div>"
      ],
      "text/plain": [
       "HtmlProgressBar cannot be displayed. Please use the TerminalProgressBar. It can be enabled with `nengo.rc.set('progress', 'progress_bar', 'nengo.utils.progress.TerminalProgressBar')`."
      ]
     },
     "metadata": {},
     "output_type": "display_data"
    },
    {
     "data": {
      "application/javascript": [
       "\n",
       "              (function () {\n",
       "                  var root = document.getElementById('32714bfc-5ed8-4bc7-8b1f-63cae5280711');\n",
       "                  var text = root.getElementsByClassName('pb-text')[0];\n",
       "                  var fill = root.getElementsByClassName('pb-fill')[0];\n",
       "\n",
       "                  text.innerHTML = 'Simulation finished in 0:01:53.';\n",
       "                  \n",
       "            if (100.0 > 0.) {\n",
       "                fill.style.transition = 'width 0.1s linear';\n",
       "            } else {\n",
       "                fill.style.transition = 'none';\n",
       "            }\n",
       "\n",
       "            fill.style.width = '100.0%';\n",
       "            fill.style.animation = 'none';\n",
       "            fill.style.backgroundImage = 'none'\n",
       "        \n",
       "                  \n",
       "                fill.style.animation = 'none';\n",
       "                fill.style.backgroundImage = 'none';\n",
       "            \n",
       "              })();\n",
       "        "
      ],
      "text/plain": [
       "<IPython.core.display.Javascript object>"
      ]
     },
     "metadata": {},
     "output_type": "display_data"
    },
    {
     "name": "stdout",
     "output_type": "stream",
     "text": [
      "seed = 5\n",
      "backend = 'nengo_ocl'\n",
      "dt = 0.001\n",
      "neuron_type = 'default'\n",
      "n_neurons_scale = 1\n",
      "s_crosstalk = 1.125\n",
      "s_evidence = 0.0\n",
      "t_senso = 0.175\n",
      "vocab = <nengo_spa.vocabulary.Vocabulary object at 0x7f31eba41610>\n",
      "xp = <experiments.Xp1 object at 0x7f31b1c9a990>\n",
      "proc_feedback = 0.5\n",
      "GW_feedback = 0.95\n",
      "GW_scale = 20\n",
      "BG_thr = 0.1\n",
      "BG_bias = 0.5\n",
      "data = <data.Data object at 0x7f31b33f9a50>\n",
      "error: 96.40201023874835\n",
      "params: [1.125 3.75 ]\n",
      "Simulating...\n",
      "\t seed 1/5\n",
      "running run_seed1_scross1.125_sevid3.75\n"
     ]
    },
    {
     "data": {
      "text/html": [
       "\n",
       "                <div id=\"c7005e5d-c5f0-4e35-9fc3-e25d95f7c583\" style=\"\n",
       "                    width: 100%;\n",
       "                    border: 1px solid #cfcfcf;\n",
       "                    border-radius: 4px;\n",
       "                    text-align: center;\n",
       "                    position: relative;\">\n",
       "                  <div class=\"pb-text\" style=\"\n",
       "                      position: absolute;\n",
       "                      width: 100%;\">\n",
       "                    0%\n",
       "                  </div>\n",
       "                  <div class=\"pb-fill\" style=\"\n",
       "                      background-color: #bdd2e6;\n",
       "                      width: 0%;\">\n",
       "                    <style type=\"text/css\" scoped=\"scoped\">\n",
       "                        @keyframes pb-fill-anim {\n",
       "                            0% { background-position: 0 0; }\n",
       "                            100% { background-position: 100px 0; }\n",
       "                        }\n",
       "                    </style>\n",
       "                    &nbsp;\n",
       "                  </div>\n",
       "                </div>"
      ],
      "text/plain": [
       "HtmlProgressBar cannot be displayed. Please use the TerminalProgressBar. It can be enabled with `nengo.rc.set('progress', 'progress_bar', 'nengo.utils.progress.TerminalProgressBar')`."
      ]
     },
     "metadata": {},
     "output_type": "display_data"
    },
    {
     "data": {
      "application/javascript": [
       "\n",
       "              (function () {\n",
       "                  var root = document.getElementById('c7005e5d-c5f0-4e35-9fc3-e25d95f7c583');\n",
       "                  var text = root.getElementsByClassName('pb-text')[0];\n",
       "                  var fill = root.getElementsByClassName('pb-fill')[0];\n",
       "\n",
       "                  text.innerHTML = 'Simulation finished in 0:02:44.';\n",
       "                  \n",
       "            if (100.0 > 0.) {\n",
       "                fill.style.transition = 'width 0.1s linear';\n",
       "            } else {\n",
       "                fill.style.transition = 'none';\n",
       "            }\n",
       "\n",
       "            fill.style.width = '100.0%';\n",
       "            fill.style.animation = 'none';\n",
       "            fill.style.backgroundImage = 'none'\n",
       "        \n",
       "                  \n",
       "                fill.style.animation = 'none';\n",
       "                fill.style.backgroundImage = 'none';\n",
       "            \n",
       "              })();\n",
       "        "
      ],
      "text/plain": [
       "<IPython.core.display.Javascript object>"
      ]
     },
     "metadata": {},
     "output_type": "display_data"
    },
    {
     "name": "stdout",
     "output_type": "stream",
     "text": [
      "seed = 1\n",
      "backend = 'nengo_ocl'\n",
      "dt = 0.001\n",
      "neuron_type = 'default'\n",
      "n_neurons_scale = 1\n",
      "s_crosstalk = 1.125\n",
      "s_evidence = 3.75\n",
      "t_senso = 0.175\n",
      "vocab = <nengo_spa.vocabulary.Vocabulary object at 0x7f31985b2d90>\n",
      "xp = <experiments.Xp1 object at 0x7f31985b2b90>\n",
      "proc_feedback = 0.5\n",
      "GW_feedback = 0.95\n",
      "GW_scale = 20\n",
      "BG_thr = 0.1\n",
      "BG_bias = 0.5\n",
      "data = <data.Data object at 0x7f31b3b8a4d0>\n",
      "\t seed 2/5\n",
      "running run_seed2_scross1.125_sevid3.75\n"
     ]
    },
    {
     "data": {
      "text/html": [
       "\n",
       "                <div id=\"159589c9-d405-41a7-883c-f5351be95f4f\" style=\"\n",
       "                    width: 100%;\n",
       "                    border: 1px solid #cfcfcf;\n",
       "                    border-radius: 4px;\n",
       "                    text-align: center;\n",
       "                    position: relative;\">\n",
       "                  <div class=\"pb-text\" style=\"\n",
       "                      position: absolute;\n",
       "                      width: 100%;\">\n",
       "                    0%\n",
       "                  </div>\n",
       "                  <div class=\"pb-fill\" style=\"\n",
       "                      background-color: #bdd2e6;\n",
       "                      width: 0%;\">\n",
       "                    <style type=\"text/css\" scoped=\"scoped\">\n",
       "                        @keyframes pb-fill-anim {\n",
       "                            0% { background-position: 0 0; }\n",
       "                            100% { background-position: 100px 0; }\n",
       "                        }\n",
       "                    </style>\n",
       "                    &nbsp;\n",
       "                  </div>\n",
       "                </div>"
      ],
      "text/plain": [
       "HtmlProgressBar cannot be displayed. Please use the TerminalProgressBar. It can be enabled with `nengo.rc.set('progress', 'progress_bar', 'nengo.utils.progress.TerminalProgressBar')`."
      ]
     },
     "metadata": {},
     "output_type": "display_data"
    },
    {
     "data": {
      "application/javascript": [
       "\n",
       "              (function () {\n",
       "                  var root = document.getElementById('159589c9-d405-41a7-883c-f5351be95f4f');\n",
       "                  var text = root.getElementsByClassName('pb-text')[0];\n",
       "                  var fill = root.getElementsByClassName('pb-fill')[0];\n",
       "\n",
       "                  text.innerHTML = 'Simulation finished in 0:02:46.';\n",
       "                  \n",
       "            if (100.0 > 0.) {\n",
       "                fill.style.transition = 'width 0.1s linear';\n",
       "            } else {\n",
       "                fill.style.transition = 'none';\n",
       "            }\n",
       "\n",
       "            fill.style.width = '100.0%';\n",
       "            fill.style.animation = 'none';\n",
       "            fill.style.backgroundImage = 'none'\n",
       "        \n",
       "                  \n",
       "                fill.style.animation = 'none';\n",
       "                fill.style.backgroundImage = 'none';\n",
       "            \n",
       "              })();\n",
       "        "
      ],
      "text/plain": [
       "<IPython.core.display.Javascript object>"
      ]
     },
     "metadata": {},
     "output_type": "display_data"
    },
    {
     "name": "stdout",
     "output_type": "stream",
     "text": [
      "seed = 2\n",
      "backend = 'nengo_ocl'\n",
      "dt = 0.001\n",
      "neuron_type = 'default'\n",
      "n_neurons_scale = 1\n",
      "s_crosstalk = 1.125\n",
      "s_evidence = 3.75\n",
      "t_senso = 0.175\n",
      "vocab = <nengo_spa.vocabulary.Vocabulary object at 0x7f31b6fe0050>\n",
      "xp = <experiments.Xp1 object at 0x7f31b3b8e510>\n",
      "proc_feedback = 0.5\n",
      "GW_feedback = 0.95\n",
      "GW_scale = 20\n",
      "BG_thr = 0.1\n",
      "BG_bias = 0.5\n",
      "data = <data.Data object at 0x7f31ebecd210>\n",
      "\t seed 3/5\n",
      "running run_seed3_scross1.125_sevid3.75\n"
     ]
    },
    {
     "data": {
      "text/html": [
       "\n",
       "                <div id=\"77903d19-8b00-4ecc-96b3-efc959609ce3\" style=\"\n",
       "                    width: 100%;\n",
       "                    border: 1px solid #cfcfcf;\n",
       "                    border-radius: 4px;\n",
       "                    text-align: center;\n",
       "                    position: relative;\">\n",
       "                  <div class=\"pb-text\" style=\"\n",
       "                      position: absolute;\n",
       "                      width: 100%;\">\n",
       "                    0%\n",
       "                  </div>\n",
       "                  <div class=\"pb-fill\" style=\"\n",
       "                      background-color: #bdd2e6;\n",
       "                      width: 0%;\">\n",
       "                    <style type=\"text/css\" scoped=\"scoped\">\n",
       "                        @keyframes pb-fill-anim {\n",
       "                            0% { background-position: 0 0; }\n",
       "                            100% { background-position: 100px 0; }\n",
       "                        }\n",
       "                    </style>\n",
       "                    &nbsp;\n",
       "                  </div>\n",
       "                </div>"
      ],
      "text/plain": [
       "HtmlProgressBar cannot be displayed. Please use the TerminalProgressBar. It can be enabled with `nengo.rc.set('progress', 'progress_bar', 'nengo.utils.progress.TerminalProgressBar')`."
      ]
     },
     "metadata": {},
     "output_type": "display_data"
    },
    {
     "data": {
      "application/javascript": [
       "\n",
       "              (function () {\n",
       "                  var root = document.getElementById('77903d19-8b00-4ecc-96b3-efc959609ce3');\n",
       "                  var text = root.getElementsByClassName('pb-text')[0];\n",
       "                  var fill = root.getElementsByClassName('pb-fill')[0];\n",
       "\n",
       "                  text.innerHTML = 'Simulation finished in 0:02:43.';\n",
       "                  \n",
       "            if (100.0 > 0.) {\n",
       "                fill.style.transition = 'width 0.1s linear';\n",
       "            } else {\n",
       "                fill.style.transition = 'none';\n",
       "            }\n",
       "\n",
       "            fill.style.width = '100.0%';\n",
       "            fill.style.animation = 'none';\n",
       "            fill.style.backgroundImage = 'none'\n",
       "        \n",
       "                  \n",
       "                fill.style.animation = 'none';\n",
       "                fill.style.backgroundImage = 'none';\n",
       "            \n",
       "              })();\n",
       "        "
      ],
      "text/plain": [
       "<IPython.core.display.Javascript object>"
      ]
     },
     "metadata": {},
     "output_type": "display_data"
    },
    {
     "name": "stdout",
     "output_type": "stream",
     "text": [
      "seed = 3\n",
      "backend = 'nengo_ocl'\n",
      "dt = 0.001\n",
      "neuron_type = 'default'\n",
      "n_neurons_scale = 1\n",
      "s_crosstalk = 1.125\n",
      "s_evidence = 3.75\n",
      "t_senso = 0.175\n",
      "vocab = <nengo_spa.vocabulary.Vocabulary object at 0x7f31eb9cce90>\n",
      "xp = <experiments.Xp1 object at 0x7f31eb9cc890>\n",
      "proc_feedback = 0.5\n",
      "GW_feedback = 0.95\n",
      "GW_scale = 20\n",
      "BG_thr = 0.1\n",
      "BG_bias = 0.5\n",
      "data = <data.Data object at 0x7f31b151ae90>\n",
      "\t seed 4/5\n",
      "running run_seed4_scross1.125_sevid3.75\n"
     ]
    },
    {
     "data": {
      "text/html": [
       "\n",
       "                <div id=\"9d0961d6-7d1d-4982-b82d-50c76f11018e\" style=\"\n",
       "                    width: 100%;\n",
       "                    border: 1px solid #cfcfcf;\n",
       "                    border-radius: 4px;\n",
       "                    text-align: center;\n",
       "                    position: relative;\">\n",
       "                  <div class=\"pb-text\" style=\"\n",
       "                      position: absolute;\n",
       "                      width: 100%;\">\n",
       "                    0%\n",
       "                  </div>\n",
       "                  <div class=\"pb-fill\" style=\"\n",
       "                      background-color: #bdd2e6;\n",
       "                      width: 0%;\">\n",
       "                    <style type=\"text/css\" scoped=\"scoped\">\n",
       "                        @keyframes pb-fill-anim {\n",
       "                            0% { background-position: 0 0; }\n",
       "                            100% { background-position: 100px 0; }\n",
       "                        }\n",
       "                    </style>\n",
       "                    &nbsp;\n",
       "                  </div>\n",
       "                </div>"
      ],
      "text/plain": [
       "HtmlProgressBar cannot be displayed. Please use the TerminalProgressBar. It can be enabled with `nengo.rc.set('progress', 'progress_bar', 'nengo.utils.progress.TerminalProgressBar')`."
      ]
     },
     "metadata": {},
     "output_type": "display_data"
    },
    {
     "data": {
      "application/javascript": [
       "\n",
       "              (function () {\n",
       "                  var root = document.getElementById('9d0961d6-7d1d-4982-b82d-50c76f11018e');\n",
       "                  var text = root.getElementsByClassName('pb-text')[0];\n",
       "                  var fill = root.getElementsByClassName('pb-fill')[0];\n",
       "\n",
       "                  text.innerHTML = 'Simulation finished in 0:02:42.';\n",
       "                  \n",
       "            if (100.0 > 0.) {\n",
       "                fill.style.transition = 'width 0.1s linear';\n",
       "            } else {\n",
       "                fill.style.transition = 'none';\n",
       "            }\n",
       "\n",
       "            fill.style.width = '100.0%';\n",
       "            fill.style.animation = 'none';\n",
       "            fill.style.backgroundImage = 'none'\n",
       "        \n",
       "                  \n",
       "                fill.style.animation = 'none';\n",
       "                fill.style.backgroundImage = 'none';\n",
       "            \n",
       "              })();\n",
       "        "
      ],
      "text/plain": [
       "<IPython.core.display.Javascript object>"
      ]
     },
     "metadata": {},
     "output_type": "display_data"
    },
    {
     "name": "stdout",
     "output_type": "stream",
     "text": [
      "seed = 4\n",
      "backend = 'nengo_ocl'\n",
      "dt = 0.001\n",
      "neuron_type = 'default'\n",
      "n_neurons_scale = 1\n",
      "s_crosstalk = 1.125\n",
      "s_evidence = 3.75\n",
      "t_senso = 0.175\n",
      "vocab = <nengo_spa.vocabulary.Vocabulary object at 0x7f31b4d20990>\n",
      "xp = <experiments.Xp1 object at 0x7f3199057d50>\n",
      "proc_feedback = 0.5\n",
      "GW_feedback = 0.95\n",
      "GW_scale = 20\n",
      "BG_thr = 0.1\n",
      "BG_bias = 0.5\n",
      "data = <data.Data object at 0x7f3198377050>\n",
      "\t seed 5/5\n",
      "running run_seed5_scross1.125_sevid3.75\n"
     ]
    },
    {
     "data": {
      "text/html": [
       "\n",
       "                <div id=\"ba9901dc-1b90-4fdd-8321-28fb559a81a9\" style=\"\n",
       "                    width: 100%;\n",
       "                    border: 1px solid #cfcfcf;\n",
       "                    border-radius: 4px;\n",
       "                    text-align: center;\n",
       "                    position: relative;\">\n",
       "                  <div class=\"pb-text\" style=\"\n",
       "                      position: absolute;\n",
       "                      width: 100%;\">\n",
       "                    0%\n",
       "                  </div>\n",
       "                  <div class=\"pb-fill\" style=\"\n",
       "                      background-color: #bdd2e6;\n",
       "                      width: 0%;\">\n",
       "                    <style type=\"text/css\" scoped=\"scoped\">\n",
       "                        @keyframes pb-fill-anim {\n",
       "                            0% { background-position: 0 0; }\n",
       "                            100% { background-position: 100px 0; }\n",
       "                        }\n",
       "                    </style>\n",
       "                    &nbsp;\n",
       "                  </div>\n",
       "                </div>"
      ],
      "text/plain": [
       "HtmlProgressBar cannot be displayed. Please use the TerminalProgressBar. It can be enabled with `nengo.rc.set('progress', 'progress_bar', 'nengo.utils.progress.TerminalProgressBar')`."
      ]
     },
     "metadata": {},
     "output_type": "display_data"
    },
    {
     "data": {
      "application/javascript": [
       "\n",
       "              (function () {\n",
       "                  var root = document.getElementById('ba9901dc-1b90-4fdd-8321-28fb559a81a9');\n",
       "                  var text = root.getElementsByClassName('pb-text')[0];\n",
       "                  var fill = root.getElementsByClassName('pb-fill')[0];\n",
       "\n",
       "                  text.innerHTML = 'Simulation finished in 0:02:44.';\n",
       "                  \n",
       "            if (100.0 > 0.) {\n",
       "                fill.style.transition = 'width 0.1s linear';\n",
       "            } else {\n",
       "                fill.style.transition = 'none';\n",
       "            }\n",
       "\n",
       "            fill.style.width = '100.0%';\n",
       "            fill.style.animation = 'none';\n",
       "            fill.style.backgroundImage = 'none'\n",
       "        \n",
       "                  \n",
       "                fill.style.animation = 'none';\n",
       "                fill.style.backgroundImage = 'none';\n",
       "            \n",
       "              })();\n",
       "        "
      ],
      "text/plain": [
       "<IPython.core.display.Javascript object>"
      ]
     },
     "metadata": {},
     "output_type": "display_data"
    },
    {
     "name": "stdout",
     "output_type": "stream",
     "text": [
      "seed = 5\n",
      "backend = 'nengo_ocl'\n",
      "dt = 0.001\n",
      "neuron_type = 'default'\n",
      "n_neurons_scale = 1\n",
      "s_crosstalk = 1.125\n",
      "s_evidence = 3.75\n",
      "t_senso = 0.175\n",
      "vocab = <nengo_spa.vocabulary.Vocabulary object at 0x7f31b5ad1550>\n",
      "xp = <experiments.Xp1 object at 0x7f31b5ad1cd0>\n",
      "proc_feedback = 0.5\n",
      "GW_feedback = 0.95\n",
      "GW_scale = 20\n",
      "BG_thr = 0.1\n",
      "BG_bias = 0.5\n",
      "data = <data.Data object at 0x7f31b5664650>\n",
      "error: 96.34250643311768\n",
      "params: [1.125 7.5  ]\n",
      "Simulating...\n",
      "\t seed 1/5\n",
      "running run_seed1_scross1.125_sevid7.5\n"
     ]
    },
    {
     "data": {
      "text/html": [
       "\n",
       "                <div id=\"f14aa820-70bc-4d55-ad1d-7c3dfe655a70\" style=\"\n",
       "                    width: 100%;\n",
       "                    border: 1px solid #cfcfcf;\n",
       "                    border-radius: 4px;\n",
       "                    text-align: center;\n",
       "                    position: relative;\">\n",
       "                  <div class=\"pb-text\" style=\"\n",
       "                      position: absolute;\n",
       "                      width: 100%;\">\n",
       "                    0%\n",
       "                  </div>\n",
       "                  <div class=\"pb-fill\" style=\"\n",
       "                      background-color: #bdd2e6;\n",
       "                      width: 0%;\">\n",
       "                    <style type=\"text/css\" scoped=\"scoped\">\n",
       "                        @keyframes pb-fill-anim {\n",
       "                            0% { background-position: 0 0; }\n",
       "                            100% { background-position: 100px 0; }\n",
       "                        }\n",
       "                    </style>\n",
       "                    &nbsp;\n",
       "                  </div>\n",
       "                </div>"
      ],
      "text/plain": [
       "HtmlProgressBar cannot be displayed. Please use the TerminalProgressBar. It can be enabled with `nengo.rc.set('progress', 'progress_bar', 'nengo.utils.progress.TerminalProgressBar')`."
      ]
     },
     "metadata": {},
     "output_type": "display_data"
    },
    {
     "data": {
      "application/javascript": [
       "\n",
       "              (function () {\n",
       "                  var root = document.getElementById('f14aa820-70bc-4d55-ad1d-7c3dfe655a70');\n",
       "                  var text = root.getElementsByClassName('pb-text')[0];\n",
       "                  var fill = root.getElementsByClassName('pb-fill')[0];\n",
       "\n",
       "                  text.innerHTML = 'Simulation finished in 0:02:45.';\n",
       "                  \n",
       "            if (100.0 > 0.) {\n",
       "                fill.style.transition = 'width 0.1s linear';\n",
       "            } else {\n",
       "                fill.style.transition = 'none';\n",
       "            }\n",
       "\n",
       "            fill.style.width = '100.0%';\n",
       "            fill.style.animation = 'none';\n",
       "            fill.style.backgroundImage = 'none'\n",
       "        \n",
       "                  \n",
       "                fill.style.animation = 'none';\n",
       "                fill.style.backgroundImage = 'none';\n",
       "            \n",
       "              })();\n",
       "        "
      ],
      "text/plain": [
       "<IPython.core.display.Javascript object>"
      ]
     },
     "metadata": {},
     "output_type": "display_data"
    },
    {
     "name": "stdout",
     "output_type": "stream",
     "text": [
      "seed = 1\n",
      "backend = 'nengo_ocl'\n",
      "dt = 0.001\n",
      "neuron_type = 'default'\n",
      "n_neurons_scale = 1\n",
      "s_crosstalk = 1.125\n",
      "s_evidence = 7.5\n",
      "t_senso = 0.175\n",
      "vocab = <nengo_spa.vocabulary.Vocabulary object at 0x7f31b3c95710>\n",
      "xp = <experiments.Xp1 object at 0x7f31ebbb6a50>\n",
      "proc_feedback = 0.5\n",
      "GW_feedback = 0.95\n",
      "GW_scale = 20\n",
      "BG_thr = 0.1\n",
      "BG_bias = 0.5\n",
      "data = <data.Data object at 0x7f31b0d3b790>\n",
      "\t seed 2/5\n",
      "running run_seed2_scross1.125_sevid7.5\n"
     ]
    },
    {
     "data": {
      "text/html": [
       "\n",
       "                <div id=\"5692154f-898e-43d9-97d6-bffe45aa964e\" style=\"\n",
       "                    width: 100%;\n",
       "                    border: 1px solid #cfcfcf;\n",
       "                    border-radius: 4px;\n",
       "                    text-align: center;\n",
       "                    position: relative;\">\n",
       "                  <div class=\"pb-text\" style=\"\n",
       "                      position: absolute;\n",
       "                      width: 100%;\">\n",
       "                    0%\n",
       "                  </div>\n",
       "                  <div class=\"pb-fill\" style=\"\n",
       "                      background-color: #bdd2e6;\n",
       "                      width: 0%;\">\n",
       "                    <style type=\"text/css\" scoped=\"scoped\">\n",
       "                        @keyframes pb-fill-anim {\n",
       "                            0% { background-position: 0 0; }\n",
       "                            100% { background-position: 100px 0; }\n",
       "                        }\n",
       "                    </style>\n",
       "                    &nbsp;\n",
       "                  </div>\n",
       "                </div>"
      ],
      "text/plain": [
       "HtmlProgressBar cannot be displayed. Please use the TerminalProgressBar. It can be enabled with `nengo.rc.set('progress', 'progress_bar', 'nengo.utils.progress.TerminalProgressBar')`."
      ]
     },
     "metadata": {},
     "output_type": "display_data"
    },
    {
     "data": {
      "application/javascript": [
       "\n",
       "              (function () {\n",
       "                  var root = document.getElementById('5692154f-898e-43d9-97d6-bffe45aa964e');\n",
       "                  var text = root.getElementsByClassName('pb-text')[0];\n",
       "                  var fill = root.getElementsByClassName('pb-fill')[0];\n",
       "\n",
       "                  text.innerHTML = 'Simulation finished in 0:02:45.';\n",
       "                  \n",
       "            if (100.0 > 0.) {\n",
       "                fill.style.transition = 'width 0.1s linear';\n",
       "            } else {\n",
       "                fill.style.transition = 'none';\n",
       "            }\n",
       "\n",
       "            fill.style.width = '100.0%';\n",
       "            fill.style.animation = 'none';\n",
       "            fill.style.backgroundImage = 'none'\n",
       "        \n",
       "                  \n",
       "                fill.style.animation = 'none';\n",
       "                fill.style.backgroundImage = 'none';\n",
       "            \n",
       "              })();\n",
       "        "
      ],
      "text/plain": [
       "<IPython.core.display.Javascript object>"
      ]
     },
     "metadata": {},
     "output_type": "display_data"
    },
    {
     "name": "stdout",
     "output_type": "stream",
     "text": [
      "seed = 2\n",
      "backend = 'nengo_ocl'\n",
      "dt = 0.001\n",
      "neuron_type = 'default'\n",
      "n_neurons_scale = 1\n",
      "s_crosstalk = 1.125\n",
      "s_evidence = 7.5\n",
      "t_senso = 0.175\n",
      "vocab = <nengo_spa.vocabulary.Vocabulary object at 0x7f31985a6f90>\n",
      "xp = <experiments.Xp1 object at 0x7f31b3c95350>\n",
      "proc_feedback = 0.5\n",
      "GW_feedback = 0.95\n",
      "GW_scale = 20\n",
      "BG_thr = 0.1\n",
      "BG_bias = 0.5\n",
      "data = <data.Data object at 0x7f31eb294c90>\n",
      "\t seed 3/5\n",
      "running run_seed3_scross1.125_sevid7.5\n"
     ]
    },
    {
     "data": {
      "text/html": [
       "\n",
       "                <div id=\"37290d33-c069-478a-9c78-f6b48e7a3da2\" style=\"\n",
       "                    width: 100%;\n",
       "                    border: 1px solid #cfcfcf;\n",
       "                    border-radius: 4px;\n",
       "                    text-align: center;\n",
       "                    position: relative;\">\n",
       "                  <div class=\"pb-text\" style=\"\n",
       "                      position: absolute;\n",
       "                      width: 100%;\">\n",
       "                    0%\n",
       "                  </div>\n",
       "                  <div class=\"pb-fill\" style=\"\n",
       "                      background-color: #bdd2e6;\n",
       "                      width: 0%;\">\n",
       "                    <style type=\"text/css\" scoped=\"scoped\">\n",
       "                        @keyframes pb-fill-anim {\n",
       "                            0% { background-position: 0 0; }\n",
       "                            100% { background-position: 100px 0; }\n",
       "                        }\n",
       "                    </style>\n",
       "                    &nbsp;\n",
       "                  </div>\n",
       "                </div>"
      ],
      "text/plain": [
       "HtmlProgressBar cannot be displayed. Please use the TerminalProgressBar. It can be enabled with `nengo.rc.set('progress', 'progress_bar', 'nengo.utils.progress.TerminalProgressBar')`."
      ]
     },
     "metadata": {},
     "output_type": "display_data"
    },
    {
     "data": {
      "application/javascript": [
       "\n",
       "              (function () {\n",
       "                  var root = document.getElementById('37290d33-c069-478a-9c78-f6b48e7a3da2');\n",
       "                  var text = root.getElementsByClassName('pb-text')[0];\n",
       "                  var fill = root.getElementsByClassName('pb-fill')[0];\n",
       "\n",
       "                  text.innerHTML = 'Simulation finished in 0:02:47.';\n",
       "                  \n",
       "            if (100.0 > 0.) {\n",
       "                fill.style.transition = 'width 0.1s linear';\n",
       "            } else {\n",
       "                fill.style.transition = 'none';\n",
       "            }\n",
       "\n",
       "            fill.style.width = '100.0%';\n",
       "            fill.style.animation = 'none';\n",
       "            fill.style.backgroundImage = 'none'\n",
       "        \n",
       "                  \n",
       "                fill.style.animation = 'none';\n",
       "                fill.style.backgroundImage = 'none';\n",
       "            \n",
       "              })();\n",
       "        "
      ],
      "text/plain": [
       "<IPython.core.display.Javascript object>"
      ]
     },
     "metadata": {},
     "output_type": "display_data"
    },
    {
     "name": "stdout",
     "output_type": "stream",
     "text": [
      "seed = 3\n",
      "backend = 'nengo_ocl'\n",
      "dt = 0.001\n",
      "neuron_type = 'default'\n",
      "n_neurons_scale = 1\n",
      "s_crosstalk = 1.125\n",
      "s_evidence = 7.5\n",
      "t_senso = 0.175\n",
      "vocab = <nengo_spa.vocabulary.Vocabulary object at 0x7f31ebbb7f50>\n",
      "xp = <experiments.Xp1 object at 0x7f31ebbb7950>\n",
      "proc_feedback = 0.5\n",
      "GW_feedback = 0.95\n",
      "GW_scale = 20\n",
      "BG_thr = 0.1\n",
      "BG_bias = 0.5\n",
      "data = <data.Data object at 0x7f31eb610310>\n",
      "\t seed 4/5\n",
      "running run_seed4_scross1.125_sevid7.5\n"
     ]
    },
    {
     "data": {
      "text/html": [
       "\n",
       "                <div id=\"e9365ea0-97af-454e-8649-4c8fd8d0f516\" style=\"\n",
       "                    width: 100%;\n",
       "                    border: 1px solid #cfcfcf;\n",
       "                    border-radius: 4px;\n",
       "                    text-align: center;\n",
       "                    position: relative;\">\n",
       "                  <div class=\"pb-text\" style=\"\n",
       "                      position: absolute;\n",
       "                      width: 100%;\">\n",
       "                    0%\n",
       "                  </div>\n",
       "                  <div class=\"pb-fill\" style=\"\n",
       "                      background-color: #bdd2e6;\n",
       "                      width: 0%;\">\n",
       "                    <style type=\"text/css\" scoped=\"scoped\">\n",
       "                        @keyframes pb-fill-anim {\n",
       "                            0% { background-position: 0 0; }\n",
       "                            100% { background-position: 100px 0; }\n",
       "                        }\n",
       "                    </style>\n",
       "                    &nbsp;\n",
       "                  </div>\n",
       "                </div>"
      ],
      "text/plain": [
       "HtmlProgressBar cannot be displayed. Please use the TerminalProgressBar. It can be enabled with `nengo.rc.set('progress', 'progress_bar', 'nengo.utils.progress.TerminalProgressBar')`."
      ]
     },
     "metadata": {},
     "output_type": "display_data"
    },
    {
     "data": {
      "application/javascript": [
       "\n",
       "              (function () {\n",
       "                  var root = document.getElementById('e9365ea0-97af-454e-8649-4c8fd8d0f516');\n",
       "                  var text = root.getElementsByClassName('pb-text')[0];\n",
       "                  var fill = root.getElementsByClassName('pb-fill')[0];\n",
       "\n",
       "                  text.innerHTML = 'Simulation finished in 0:02:42.';\n",
       "                  \n",
       "            if (100.0 > 0.) {\n",
       "                fill.style.transition = 'width 0.1s linear';\n",
       "            } else {\n",
       "                fill.style.transition = 'none';\n",
       "            }\n",
       "\n",
       "            fill.style.width = '100.0%';\n",
       "            fill.style.animation = 'none';\n",
       "            fill.style.backgroundImage = 'none'\n",
       "        \n",
       "                  \n",
       "                fill.style.animation = 'none';\n",
       "                fill.style.backgroundImage = 'none';\n",
       "            \n",
       "              })();\n",
       "        "
      ],
      "text/plain": [
       "<IPython.core.display.Javascript object>"
      ]
     },
     "metadata": {},
     "output_type": "display_data"
    },
    {
     "name": "stdout",
     "output_type": "stream",
     "text": [
      "seed = 4\n",
      "backend = 'nengo_ocl'\n",
      "dt = 0.001\n",
      "neuron_type = 'default'\n",
      "n_neurons_scale = 1\n",
      "s_crosstalk = 1.125\n",
      "s_evidence = 7.5\n",
      "t_senso = 0.175\n",
      "vocab = <nengo_spa.vocabulary.Vocabulary object at 0x7f31eba2ee10>\n",
      "xp = <experiments.Xp1 object at 0x7f31b5af5510>\n",
      "proc_feedback = 0.5\n",
      "GW_feedback = 0.95\n",
      "GW_scale = 20\n",
      "BG_thr = 0.1\n",
      "BG_bias = 0.5\n",
      "data = <data.Data object at 0x7f31eb610790>\n",
      "\t seed 5/5\n",
      "running run_seed5_scross1.125_sevid7.5\n"
     ]
    },
    {
     "data": {
      "text/html": [
       "\n",
       "                <div id=\"1f1d7782-790b-4199-9777-d705606313bc\" style=\"\n",
       "                    width: 100%;\n",
       "                    border: 1px solid #cfcfcf;\n",
       "                    border-radius: 4px;\n",
       "                    text-align: center;\n",
       "                    position: relative;\">\n",
       "                  <div class=\"pb-text\" style=\"\n",
       "                      position: absolute;\n",
       "                      width: 100%;\">\n",
       "                    0%\n",
       "                  </div>\n",
       "                  <div class=\"pb-fill\" style=\"\n",
       "                      background-color: #bdd2e6;\n",
       "                      width: 0%;\">\n",
       "                    <style type=\"text/css\" scoped=\"scoped\">\n",
       "                        @keyframes pb-fill-anim {\n",
       "                            0% { background-position: 0 0; }\n",
       "                            100% { background-position: 100px 0; }\n",
       "                        }\n",
       "                    </style>\n",
       "                    &nbsp;\n",
       "                  </div>\n",
       "                </div>"
      ],
      "text/plain": [
       "HtmlProgressBar cannot be displayed. Please use the TerminalProgressBar. It can be enabled with `nengo.rc.set('progress', 'progress_bar', 'nengo.utils.progress.TerminalProgressBar')`."
      ]
     },
     "metadata": {},
     "output_type": "display_data"
    },
    {
     "data": {
      "application/javascript": [
       "\n",
       "              (function () {\n",
       "                  var root = document.getElementById('1f1d7782-790b-4199-9777-d705606313bc');\n",
       "                  var text = root.getElementsByClassName('pb-text')[0];\n",
       "                  var fill = root.getElementsByClassName('pb-fill')[0];\n",
       "\n",
       "                  text.innerHTML = 'Simulation finished in 0:02:45.';\n",
       "                  \n",
       "            if (100.0 > 0.) {\n",
       "                fill.style.transition = 'width 0.1s linear';\n",
       "            } else {\n",
       "                fill.style.transition = 'none';\n",
       "            }\n",
       "\n",
       "            fill.style.width = '100.0%';\n",
       "            fill.style.animation = 'none';\n",
       "            fill.style.backgroundImage = 'none'\n",
       "        \n",
       "                  \n",
       "                fill.style.animation = 'none';\n",
       "                fill.style.backgroundImage = 'none';\n",
       "            \n",
       "              })();\n",
       "        "
      ],
      "text/plain": [
       "<IPython.core.display.Javascript object>"
      ]
     },
     "metadata": {},
     "output_type": "display_data"
    },
    {
     "name": "stdout",
     "output_type": "stream",
     "text": [
      "seed = 5\n",
      "backend = 'nengo_ocl'\n",
      "dt = 0.001\n",
      "neuron_type = 'default'\n",
      "n_neurons_scale = 1\n",
      "s_crosstalk = 1.125\n",
      "s_evidence = 7.5\n",
      "t_senso = 0.175\n",
      "vocab = <nengo_spa.vocabulary.Vocabulary object at 0x7f31b0d0c350>\n",
      "xp = <experiments.Xp1 object at 0x7f31eba2ebd0>\n",
      "proc_feedback = 0.5\n",
      "GW_feedback = 0.95\n",
      "GW_scale = 20\n",
      "BG_thr = 0.1\n",
      "BG_bias = 0.5\n",
      "data = <data.Data object at 0x7f31b10ed710>\n",
      "error: 97.12210439779457\n",
      "params: [ 1.125 11.25 ]\n",
      "Simulating...\n",
      "\t seed 1/5\n",
      "running run_seed1_scross1.125_sevid11.25\n"
     ]
    },
    {
     "data": {
      "text/html": [
       "\n",
       "                <div id=\"3ba1a61e-6bfc-4eae-ba2d-a665758dbf17\" style=\"\n",
       "                    width: 100%;\n",
       "                    border: 1px solid #cfcfcf;\n",
       "                    border-radius: 4px;\n",
       "                    text-align: center;\n",
       "                    position: relative;\">\n",
       "                  <div class=\"pb-text\" style=\"\n",
       "                      position: absolute;\n",
       "                      width: 100%;\">\n",
       "                    0%\n",
       "                  </div>\n",
       "                  <div class=\"pb-fill\" style=\"\n",
       "                      background-color: #bdd2e6;\n",
       "                      width: 0%;\">\n",
       "                    <style type=\"text/css\" scoped=\"scoped\">\n",
       "                        @keyframes pb-fill-anim {\n",
       "                            0% { background-position: 0 0; }\n",
       "                            100% { background-position: 100px 0; }\n",
       "                        }\n",
       "                    </style>\n",
       "                    &nbsp;\n",
       "                  </div>\n",
       "                </div>"
      ],
      "text/plain": [
       "HtmlProgressBar cannot be displayed. Please use the TerminalProgressBar. It can be enabled with `nengo.rc.set('progress', 'progress_bar', 'nengo.utils.progress.TerminalProgressBar')`."
      ]
     },
     "metadata": {},
     "output_type": "display_data"
    },
    {
     "data": {
      "application/javascript": [
       "\n",
       "              (function () {\n",
       "                  var root = document.getElementById('3ba1a61e-6bfc-4eae-ba2d-a665758dbf17');\n",
       "                  var text = root.getElementsByClassName('pb-text')[0];\n",
       "                  var fill = root.getElementsByClassName('pb-fill')[0];\n",
       "\n",
       "                  text.innerHTML = 'Simulation finished in 0:02:41.';\n",
       "                  \n",
       "            if (100.0 > 0.) {\n",
       "                fill.style.transition = 'width 0.1s linear';\n",
       "            } else {\n",
       "                fill.style.transition = 'none';\n",
       "            }\n",
       "\n",
       "            fill.style.width = '100.0%';\n",
       "            fill.style.animation = 'none';\n",
       "            fill.style.backgroundImage = 'none'\n",
       "        \n",
       "                  \n",
       "                fill.style.animation = 'none';\n",
       "                fill.style.backgroundImage = 'none';\n",
       "            \n",
       "              })();\n",
       "        "
      ],
      "text/plain": [
       "<IPython.core.display.Javascript object>"
      ]
     },
     "metadata": {},
     "output_type": "display_data"
    },
    {
     "name": "stdout",
     "output_type": "stream",
     "text": [
      "seed = 1\n",
      "backend = 'nengo_ocl'\n",
      "dt = 0.001\n",
      "neuron_type = 'default'\n",
      "n_neurons_scale = 1\n",
      "s_crosstalk = 1.125\n",
      "s_evidence = 11.25\n",
      "t_senso = 0.175\n",
      "vocab = <nengo_spa.vocabulary.Vocabulary object at 0x7f31b1cb8190>\n",
      "xp = <experiments.Xp1 object at 0x7f31b1cb8050>\n",
      "proc_feedback = 0.5\n",
      "GW_feedback = 0.95\n",
      "GW_scale = 20\n",
      "BG_thr = 0.1\n",
      "BG_bias = 0.5\n",
      "data = <data.Data object at 0x7f3199037fd0>\n",
      "\t seed 2/5\n",
      "running run_seed2_scross1.125_sevid11.25\n"
     ]
    },
    {
     "data": {
      "text/html": [
       "\n",
       "                <div id=\"80857532-f75a-4949-aaad-c3d6e5ba7696\" style=\"\n",
       "                    width: 100%;\n",
       "                    border: 1px solid #cfcfcf;\n",
       "                    border-radius: 4px;\n",
       "                    text-align: center;\n",
       "                    position: relative;\">\n",
       "                  <div class=\"pb-text\" style=\"\n",
       "                      position: absolute;\n",
       "                      width: 100%;\">\n",
       "                    0%\n",
       "                  </div>\n",
       "                  <div class=\"pb-fill\" style=\"\n",
       "                      background-color: #bdd2e6;\n",
       "                      width: 0%;\">\n",
       "                    <style type=\"text/css\" scoped=\"scoped\">\n",
       "                        @keyframes pb-fill-anim {\n",
       "                            0% { background-position: 0 0; }\n",
       "                            100% { background-position: 100px 0; }\n",
       "                        }\n",
       "                    </style>\n",
       "                    &nbsp;\n",
       "                  </div>\n",
       "                </div>"
      ],
      "text/plain": [
       "HtmlProgressBar cannot be displayed. Please use the TerminalProgressBar. It can be enabled with `nengo.rc.set('progress', 'progress_bar', 'nengo.utils.progress.TerminalProgressBar')`."
      ]
     },
     "metadata": {},
     "output_type": "display_data"
    },
    {
     "data": {
      "application/javascript": [
       "\n",
       "              (function () {\n",
       "                  var root = document.getElementById('80857532-f75a-4949-aaad-c3d6e5ba7696');\n",
       "                  var text = root.getElementsByClassName('pb-text')[0];\n",
       "                  var fill = root.getElementsByClassName('pb-fill')[0];\n",
       "\n",
       "                  text.innerHTML = 'Simulation finished in 0:02:40.';\n",
       "                  \n",
       "            if (100.0 > 0.) {\n",
       "                fill.style.transition = 'width 0.1s linear';\n",
       "            } else {\n",
       "                fill.style.transition = 'none';\n",
       "            }\n",
       "\n",
       "            fill.style.width = '100.0%';\n",
       "            fill.style.animation = 'none';\n",
       "            fill.style.backgroundImage = 'none'\n",
       "        \n",
       "                  \n",
       "                fill.style.animation = 'none';\n",
       "                fill.style.backgroundImage = 'none';\n",
       "            \n",
       "              })();\n",
       "        "
      ],
      "text/plain": [
       "<IPython.core.display.Javascript object>"
      ]
     },
     "metadata": {},
     "output_type": "display_data"
    },
    {
     "name": "stdout",
     "output_type": "stream",
     "text": [
      "seed = 2\n",
      "backend = 'nengo_ocl'\n",
      "dt = 0.001\n",
      "neuron_type = 'default'\n",
      "n_neurons_scale = 1\n",
      "s_crosstalk = 1.125\n",
      "s_evidence = 11.25\n",
      "t_senso = 0.175\n",
      "vocab = <nengo_spa.vocabulary.Vocabulary object at 0x7f3199037390>\n",
      "xp = <experiments.Xp1 object at 0x7f31990379d0>\n",
      "proc_feedback = 0.5\n",
      "GW_feedback = 0.95\n",
      "GW_scale = 20\n",
      "BG_thr = 0.1\n",
      "BG_bias = 0.5\n",
      "data = <data.Data object at 0x7f31eb30ab50>\n",
      "\t seed 3/5\n",
      "running run_seed3_scross1.125_sevid11.25\n"
     ]
    },
    {
     "data": {
      "text/html": [
       "\n",
       "                <div id=\"65ee47bd-23fb-49c9-9444-7f54b44c8aae\" style=\"\n",
       "                    width: 100%;\n",
       "                    border: 1px solid #cfcfcf;\n",
       "                    border-radius: 4px;\n",
       "                    text-align: center;\n",
       "                    position: relative;\">\n",
       "                  <div class=\"pb-text\" style=\"\n",
       "                      position: absolute;\n",
       "                      width: 100%;\">\n",
       "                    0%\n",
       "                  </div>\n",
       "                  <div class=\"pb-fill\" style=\"\n",
       "                      background-color: #bdd2e6;\n",
       "                      width: 0%;\">\n",
       "                    <style type=\"text/css\" scoped=\"scoped\">\n",
       "                        @keyframes pb-fill-anim {\n",
       "                            0% { background-position: 0 0; }\n",
       "                            100% { background-position: 100px 0; }\n",
       "                        }\n",
       "                    </style>\n",
       "                    &nbsp;\n",
       "                  </div>\n",
       "                </div>"
      ],
      "text/plain": [
       "HtmlProgressBar cannot be displayed. Please use the TerminalProgressBar. It can be enabled with `nengo.rc.set('progress', 'progress_bar', 'nengo.utils.progress.TerminalProgressBar')`."
      ]
     },
     "metadata": {},
     "output_type": "display_data"
    },
    {
     "data": {
      "application/javascript": [
       "\n",
       "              (function () {\n",
       "                  var root = document.getElementById('65ee47bd-23fb-49c9-9444-7f54b44c8aae');\n",
       "                  var text = root.getElementsByClassName('pb-text')[0];\n",
       "                  var fill = root.getElementsByClassName('pb-fill')[0];\n",
       "\n",
       "                  text.innerHTML = 'Simulation finished in 0:02:40.';\n",
       "                  \n",
       "            if (100.0 > 0.) {\n",
       "                fill.style.transition = 'width 0.1s linear';\n",
       "            } else {\n",
       "                fill.style.transition = 'none';\n",
       "            }\n",
       "\n",
       "            fill.style.width = '100.0%';\n",
       "            fill.style.animation = 'none';\n",
       "            fill.style.backgroundImage = 'none'\n",
       "        \n",
       "                  \n",
       "                fill.style.animation = 'none';\n",
       "                fill.style.backgroundImage = 'none';\n",
       "            \n",
       "              })();\n",
       "        "
      ],
      "text/plain": [
       "<IPython.core.display.Javascript object>"
      ]
     },
     "metadata": {},
     "output_type": "display_data"
    },
    {
     "name": "stdout",
     "output_type": "stream",
     "text": [
      "seed = 3\n",
      "backend = 'nengo_ocl'\n",
      "dt = 0.001\n",
      "neuron_type = 'default'\n",
      "n_neurons_scale = 1\n",
      "s_crosstalk = 1.125\n",
      "s_evidence = 11.25\n",
      "t_senso = 0.175\n",
      "vocab = <nengo_spa.vocabulary.Vocabulary object at 0x7f31b3b7e350>\n",
      "xp = <experiments.Xp1 object at 0x7f31b3b7e310>\n",
      "proc_feedback = 0.5\n",
      "GW_feedback = 0.95\n",
      "GW_scale = 20\n",
      "BG_thr = 0.1\n",
      "BG_bias = 0.5\n",
      "data = <data.Data object at 0x7f31b133b3d0>\n",
      "\t seed 4/5\n",
      "running run_seed4_scross1.125_sevid11.25\n"
     ]
    },
    {
     "data": {
      "text/html": [
       "\n",
       "                <div id=\"e5bab900-2a6e-4975-bf79-6b9170cb6595\" style=\"\n",
       "                    width: 100%;\n",
       "                    border: 1px solid #cfcfcf;\n",
       "                    border-radius: 4px;\n",
       "                    text-align: center;\n",
       "                    position: relative;\">\n",
       "                  <div class=\"pb-text\" style=\"\n",
       "                      position: absolute;\n",
       "                      width: 100%;\">\n",
       "                    0%\n",
       "                  </div>\n",
       "                  <div class=\"pb-fill\" style=\"\n",
       "                      background-color: #bdd2e6;\n",
       "                      width: 0%;\">\n",
       "                    <style type=\"text/css\" scoped=\"scoped\">\n",
       "                        @keyframes pb-fill-anim {\n",
       "                            0% { background-position: 0 0; }\n",
       "                            100% { background-position: 100px 0; }\n",
       "                        }\n",
       "                    </style>\n",
       "                    &nbsp;\n",
       "                  </div>\n",
       "                </div>"
      ],
      "text/plain": [
       "HtmlProgressBar cannot be displayed. Please use the TerminalProgressBar. It can be enabled with `nengo.rc.set('progress', 'progress_bar', 'nengo.utils.progress.TerminalProgressBar')`."
      ]
     },
     "metadata": {},
     "output_type": "display_data"
    },
    {
     "data": {
      "application/javascript": [
       "\n",
       "              (function () {\n",
       "                  var root = document.getElementById('e5bab900-2a6e-4975-bf79-6b9170cb6595');\n",
       "                  var text = root.getElementsByClassName('pb-text')[0];\n",
       "                  var fill = root.getElementsByClassName('pb-fill')[0];\n",
       "\n",
       "                  text.innerHTML = 'Simulation finished in 0:02:39.';\n",
       "                  \n",
       "            if (100.0 > 0.) {\n",
       "                fill.style.transition = 'width 0.1s linear';\n",
       "            } else {\n",
       "                fill.style.transition = 'none';\n",
       "            }\n",
       "\n",
       "            fill.style.width = '100.0%';\n",
       "            fill.style.animation = 'none';\n",
       "            fill.style.backgroundImage = 'none'\n",
       "        \n",
       "                  \n",
       "                fill.style.animation = 'none';\n",
       "                fill.style.backgroundImage = 'none';\n",
       "            \n",
       "              })();\n",
       "        "
      ],
      "text/plain": [
       "<IPython.core.display.Javascript object>"
      ]
     },
     "metadata": {},
     "output_type": "display_data"
    },
    {
     "name": "stdout",
     "output_type": "stream",
     "text": [
      "seed = 4\n",
      "backend = 'nengo_ocl'\n",
      "dt = 0.001\n",
      "neuron_type = 'default'\n",
      "n_neurons_scale = 1\n",
      "s_crosstalk = 1.125\n",
      "s_evidence = 11.25\n",
      "t_senso = 0.175\n",
      "vocab = <nengo_spa.vocabulary.Vocabulary object at 0x7f31b0ca6d10>\n",
      "xp = <experiments.Xp1 object at 0x7f31b0ca24d0>\n",
      "proc_feedback = 0.5\n",
      "GW_feedback = 0.95\n",
      "GW_scale = 20\n",
      "BG_thr = 0.1\n",
      "BG_bias = 0.5\n",
      "data = <data.Data object at 0x7f31eb978090>\n",
      "\t seed 5/5\n",
      "running run_seed5_scross1.125_sevid11.25\n"
     ]
    },
    {
     "data": {
      "text/html": [
       "\n",
       "                <div id=\"a65300fd-d3e4-48ef-bc9a-170ec2b3c3b2\" style=\"\n",
       "                    width: 100%;\n",
       "                    border: 1px solid #cfcfcf;\n",
       "                    border-radius: 4px;\n",
       "                    text-align: center;\n",
       "                    position: relative;\">\n",
       "                  <div class=\"pb-text\" style=\"\n",
       "                      position: absolute;\n",
       "                      width: 100%;\">\n",
       "                    0%\n",
       "                  </div>\n",
       "                  <div class=\"pb-fill\" style=\"\n",
       "                      background-color: #bdd2e6;\n",
       "                      width: 0%;\">\n",
       "                    <style type=\"text/css\" scoped=\"scoped\">\n",
       "                        @keyframes pb-fill-anim {\n",
       "                            0% { background-position: 0 0; }\n",
       "                            100% { background-position: 100px 0; }\n",
       "                        }\n",
       "                    </style>\n",
       "                    &nbsp;\n",
       "                  </div>\n",
       "                </div>"
      ],
      "text/plain": [
       "HtmlProgressBar cannot be displayed. Please use the TerminalProgressBar. It can be enabled with `nengo.rc.set('progress', 'progress_bar', 'nengo.utils.progress.TerminalProgressBar')`."
      ]
     },
     "metadata": {},
     "output_type": "display_data"
    },
    {
     "data": {
      "application/javascript": [
       "\n",
       "              (function () {\n",
       "                  var root = document.getElementById('a65300fd-d3e4-48ef-bc9a-170ec2b3c3b2');\n",
       "                  var text = root.getElementsByClassName('pb-text')[0];\n",
       "                  var fill = root.getElementsByClassName('pb-fill')[0];\n",
       "\n",
       "                  text.innerHTML = 'Simulation finished in 0:02:39.';\n",
       "                  \n",
       "            if (100.0 > 0.) {\n",
       "                fill.style.transition = 'width 0.1s linear';\n",
       "            } else {\n",
       "                fill.style.transition = 'none';\n",
       "            }\n",
       "\n",
       "            fill.style.width = '100.0%';\n",
       "            fill.style.animation = 'none';\n",
       "            fill.style.backgroundImage = 'none'\n",
       "        \n",
       "                  \n",
       "                fill.style.animation = 'none';\n",
       "                fill.style.backgroundImage = 'none';\n",
       "            \n",
       "              })();\n",
       "        "
      ],
      "text/plain": [
       "<IPython.core.display.Javascript object>"
      ]
     },
     "metadata": {},
     "output_type": "display_data"
    },
    {
     "name": "stdout",
     "output_type": "stream",
     "text": [
      "seed = 5\n",
      "backend = 'nengo_ocl'\n",
      "dt = 0.001\n",
      "neuron_type = 'default'\n",
      "n_neurons_scale = 1\n",
      "s_crosstalk = 1.125\n",
      "s_evidence = 11.25\n",
      "t_senso = 0.175\n",
      "vocab = <nengo_spa.vocabulary.Vocabulary object at 0x7f31ebbc1c90>\n",
      "xp = <experiments.Xp1 object at 0x7f31b6fda690>\n",
      "proc_feedback = 0.5\n",
      "GW_feedback = 0.95\n",
      "GW_scale = 20\n",
      "BG_thr = 0.1\n",
      "BG_bias = 0.5\n",
      "data = <data.Data object at 0x7f31eb5d5710>\n",
      "error: 96.73308840906603\n",
      "params: [ 1.125 15.   ]\n",
      "Simulating...\n",
      "\t seed 1/5\n",
      "running run_seed1_scross1.125_sevid15.0\n"
     ]
    },
    {
     "data": {
      "text/html": [
       "\n",
       "                <div id=\"26d3653f-8b49-45b8-9a68-f43328f8d90f\" style=\"\n",
       "                    width: 100%;\n",
       "                    border: 1px solid #cfcfcf;\n",
       "                    border-radius: 4px;\n",
       "                    text-align: center;\n",
       "                    position: relative;\">\n",
       "                  <div class=\"pb-text\" style=\"\n",
       "                      position: absolute;\n",
       "                      width: 100%;\">\n",
       "                    0%\n",
       "                  </div>\n",
       "                  <div class=\"pb-fill\" style=\"\n",
       "                      background-color: #bdd2e6;\n",
       "                      width: 0%;\">\n",
       "                    <style type=\"text/css\" scoped=\"scoped\">\n",
       "                        @keyframes pb-fill-anim {\n",
       "                            0% { background-position: 0 0; }\n",
       "                            100% { background-position: 100px 0; }\n",
       "                        }\n",
       "                    </style>\n",
       "                    &nbsp;\n",
       "                  </div>\n",
       "                </div>"
      ],
      "text/plain": [
       "HtmlProgressBar cannot be displayed. Please use the TerminalProgressBar. It can be enabled with `nengo.rc.set('progress', 'progress_bar', 'nengo.utils.progress.TerminalProgressBar')`."
      ]
     },
     "metadata": {},
     "output_type": "display_data"
    },
    {
     "data": {
      "application/javascript": [
       "\n",
       "              (function () {\n",
       "                  var root = document.getElementById('26d3653f-8b49-45b8-9a68-f43328f8d90f');\n",
       "                  var text = root.getElementsByClassName('pb-text')[0];\n",
       "                  var fill = root.getElementsByClassName('pb-fill')[0];\n",
       "\n",
       "                  text.innerHTML = 'Simulation finished in 0:02:39.';\n",
       "                  \n",
       "            if (100.0 > 0.) {\n",
       "                fill.style.transition = 'width 0.1s linear';\n",
       "            } else {\n",
       "                fill.style.transition = 'none';\n",
       "            }\n",
       "\n",
       "            fill.style.width = '100.0%';\n",
       "            fill.style.animation = 'none';\n",
       "            fill.style.backgroundImage = 'none'\n",
       "        \n",
       "                  \n",
       "                fill.style.animation = 'none';\n",
       "                fill.style.backgroundImage = 'none';\n",
       "            \n",
       "              })();\n",
       "        "
      ],
      "text/plain": [
       "<IPython.core.display.Javascript object>"
      ]
     },
     "metadata": {},
     "output_type": "display_data"
    },
    {
     "name": "stdout",
     "output_type": "stream",
     "text": [
      "seed = 1\n",
      "backend = 'nengo_ocl'\n",
      "dt = 0.001\n",
      "neuron_type = 'default'\n",
      "n_neurons_scale = 1\n",
      "s_crosstalk = 1.125\n",
      "s_evidence = 15.0\n",
      "t_senso = 0.175\n",
      "vocab = <nengo_spa.vocabulary.Vocabulary object at 0x7f31b0d19f10>\n",
      "xp = <experiments.Xp1 object at 0x7f319858d610>\n",
      "proc_feedback = 0.5\n",
      "GW_feedback = 0.95\n",
      "GW_scale = 20\n",
      "BG_thr = 0.1\n",
      "BG_bias = 0.5\n",
      "data = <data.Data object at 0x7f31b5fdd610>\n",
      "\t seed 2/5\n",
      "running run_seed2_scross1.125_sevid15.0\n"
     ]
    },
    {
     "data": {
      "text/html": [
       "\n",
       "                <div id=\"97507aae-c258-41be-b33f-bbc9a128874c\" style=\"\n",
       "                    width: 100%;\n",
       "                    border: 1px solid #cfcfcf;\n",
       "                    border-radius: 4px;\n",
       "                    text-align: center;\n",
       "                    position: relative;\">\n",
       "                  <div class=\"pb-text\" style=\"\n",
       "                      position: absolute;\n",
       "                      width: 100%;\">\n",
       "                    0%\n",
       "                  </div>\n",
       "                  <div class=\"pb-fill\" style=\"\n",
       "                      background-color: #bdd2e6;\n",
       "                      width: 0%;\">\n",
       "                    <style type=\"text/css\" scoped=\"scoped\">\n",
       "                        @keyframes pb-fill-anim {\n",
       "                            0% { background-position: 0 0; }\n",
       "                            100% { background-position: 100px 0; }\n",
       "                        }\n",
       "                    </style>\n",
       "                    &nbsp;\n",
       "                  </div>\n",
       "                </div>"
      ],
      "text/plain": [
       "HtmlProgressBar cannot be displayed. Please use the TerminalProgressBar. It can be enabled with `nengo.rc.set('progress', 'progress_bar', 'nengo.utils.progress.TerminalProgressBar')`."
      ]
     },
     "metadata": {},
     "output_type": "display_data"
    },
    {
     "data": {
      "application/javascript": [
       "\n",
       "              (function () {\n",
       "                  var root = document.getElementById('97507aae-c258-41be-b33f-bbc9a128874c');\n",
       "                  var text = root.getElementsByClassName('pb-text')[0];\n",
       "                  var fill = root.getElementsByClassName('pb-fill')[0];\n",
       "\n",
       "                  text.innerHTML = 'Simulation finished in 0:02:38.';\n",
       "                  \n",
       "            if (100.0 > 0.) {\n",
       "                fill.style.transition = 'width 0.1s linear';\n",
       "            } else {\n",
       "                fill.style.transition = 'none';\n",
       "            }\n",
       "\n",
       "            fill.style.width = '100.0%';\n",
       "            fill.style.animation = 'none';\n",
       "            fill.style.backgroundImage = 'none'\n",
       "        \n",
       "                  \n",
       "                fill.style.animation = 'none';\n",
       "                fill.style.backgroundImage = 'none';\n",
       "            \n",
       "              })();\n",
       "        "
      ],
      "text/plain": [
       "<IPython.core.display.Javascript object>"
      ]
     },
     "metadata": {},
     "output_type": "display_data"
    },
    {
     "name": "stdout",
     "output_type": "stream",
     "text": [
      "seed = 2\n",
      "backend = 'nengo_ocl'\n",
      "dt = 0.001\n",
      "neuron_type = 'default'\n",
      "n_neurons_scale = 1\n",
      "s_crosstalk = 1.125\n",
      "s_evidence = 15.0\n",
      "t_senso = 0.175\n",
      "vocab = <nengo_spa.vocabulary.Vocabulary object at 0x7f31b4d23e50>\n",
      "xp = <experiments.Xp1 object at 0x7f3198589210>\n",
      "proc_feedback = 0.5\n",
      "GW_feedback = 0.95\n",
      "GW_scale = 20\n",
      "BG_thr = 0.1\n",
      "BG_bias = 0.5\n",
      "data = <data.Data object at 0x7f31eb0ad710>\n",
      "\t seed 3/5\n",
      "running run_seed3_scross1.125_sevid15.0\n"
     ]
    },
    {
     "data": {
      "text/html": [
       "\n",
       "                <div id=\"86848730-6d1e-4b81-bec9-394a1258c987\" style=\"\n",
       "                    width: 100%;\n",
       "                    border: 1px solid #cfcfcf;\n",
       "                    border-radius: 4px;\n",
       "                    text-align: center;\n",
       "                    position: relative;\">\n",
       "                  <div class=\"pb-text\" style=\"\n",
       "                      position: absolute;\n",
       "                      width: 100%;\">\n",
       "                    0%\n",
       "                  </div>\n",
       "                  <div class=\"pb-fill\" style=\"\n",
       "                      background-color: #bdd2e6;\n",
       "                      width: 0%;\">\n",
       "                    <style type=\"text/css\" scoped=\"scoped\">\n",
       "                        @keyframes pb-fill-anim {\n",
       "                            0% { background-position: 0 0; }\n",
       "                            100% { background-position: 100px 0; }\n",
       "                        }\n",
       "                    </style>\n",
       "                    &nbsp;\n",
       "                  </div>\n",
       "                </div>"
      ],
      "text/plain": [
       "HtmlProgressBar cannot be displayed. Please use the TerminalProgressBar. It can be enabled with `nengo.rc.set('progress', 'progress_bar', 'nengo.utils.progress.TerminalProgressBar')`."
      ]
     },
     "metadata": {},
     "output_type": "display_data"
    },
    {
     "data": {
      "application/javascript": [
       "\n",
       "              (function () {\n",
       "                  var root = document.getElementById('86848730-6d1e-4b81-bec9-394a1258c987');\n",
       "                  var text = root.getElementsByClassName('pb-text')[0];\n",
       "                  var fill = root.getElementsByClassName('pb-fill')[0];\n",
       "\n",
       "                  text.innerHTML = 'Simulation finished in 0:02:40.';\n",
       "                  \n",
       "            if (100.0 > 0.) {\n",
       "                fill.style.transition = 'width 0.1s linear';\n",
       "            } else {\n",
       "                fill.style.transition = 'none';\n",
       "            }\n",
       "\n",
       "            fill.style.width = '100.0%';\n",
       "            fill.style.animation = 'none';\n",
       "            fill.style.backgroundImage = 'none'\n",
       "        \n",
       "                  \n",
       "                fill.style.animation = 'none';\n",
       "                fill.style.backgroundImage = 'none';\n",
       "            \n",
       "              })();\n",
       "        "
      ],
      "text/plain": [
       "<IPython.core.display.Javascript object>"
      ]
     },
     "metadata": {},
     "output_type": "display_data"
    },
    {
     "name": "stdout",
     "output_type": "stream",
     "text": [
      "seed = 3\n",
      "backend = 'nengo_ocl'\n",
      "dt = 0.001\n",
      "neuron_type = 'default'\n",
      "n_neurons_scale = 1\n",
      "s_crosstalk = 1.125\n",
      "s_evidence = 15.0\n",
      "t_senso = 0.175\n",
      "vocab = <nengo_spa.vocabulary.Vocabulary object at 0x7f31eb265290>\n",
      "xp = <experiments.Xp1 object at 0x7f31b5fdddd0>\n",
      "proc_feedback = 0.5\n",
      "GW_feedback = 0.95\n",
      "GW_scale = 20\n",
      "BG_thr = 0.1\n",
      "BG_bias = 0.5\n",
      "data = <data.Data object at 0x7f31eb27b150>\n",
      "\t seed 4/5\n",
      "running run_seed4_scross1.125_sevid15.0\n"
     ]
    },
    {
     "data": {
      "text/html": [
       "\n",
       "                <div id=\"9d1852cb-bcd3-459e-9d8d-8ab5fa8f7f86\" style=\"\n",
       "                    width: 100%;\n",
       "                    border: 1px solid #cfcfcf;\n",
       "                    border-radius: 4px;\n",
       "                    text-align: center;\n",
       "                    position: relative;\">\n",
       "                  <div class=\"pb-text\" style=\"\n",
       "                      position: absolute;\n",
       "                      width: 100%;\">\n",
       "                    0%\n",
       "                  </div>\n",
       "                  <div class=\"pb-fill\" style=\"\n",
       "                      background-color: #bdd2e6;\n",
       "                      width: 0%;\">\n",
       "                    <style type=\"text/css\" scoped=\"scoped\">\n",
       "                        @keyframes pb-fill-anim {\n",
       "                            0% { background-position: 0 0; }\n",
       "                            100% { background-position: 100px 0; }\n",
       "                        }\n",
       "                    </style>\n",
       "                    &nbsp;\n",
       "                  </div>\n",
       "                </div>"
      ],
      "text/plain": [
       "HtmlProgressBar cannot be displayed. Please use the TerminalProgressBar. It can be enabled with `nengo.rc.set('progress', 'progress_bar', 'nengo.utils.progress.TerminalProgressBar')`."
      ]
     },
     "metadata": {},
     "output_type": "display_data"
    },
    {
     "data": {
      "application/javascript": [
       "\n",
       "              (function () {\n",
       "                  var root = document.getElementById('9d1852cb-bcd3-459e-9d8d-8ab5fa8f7f86');\n",
       "                  var text = root.getElementsByClassName('pb-text')[0];\n",
       "                  var fill = root.getElementsByClassName('pb-fill')[0];\n",
       "\n",
       "                  text.innerHTML = 'Simulation finished in 0:02:41.';\n",
       "                  \n",
       "            if (100.0 > 0.) {\n",
       "                fill.style.transition = 'width 0.1s linear';\n",
       "            } else {\n",
       "                fill.style.transition = 'none';\n",
       "            }\n",
       "\n",
       "            fill.style.width = '100.0%';\n",
       "            fill.style.animation = 'none';\n",
       "            fill.style.backgroundImage = 'none'\n",
       "        \n",
       "                  \n",
       "                fill.style.animation = 'none';\n",
       "                fill.style.backgroundImage = 'none';\n",
       "            \n",
       "              })();\n",
       "        "
      ],
      "text/plain": [
       "<IPython.core.display.Javascript object>"
      ]
     },
     "metadata": {},
     "output_type": "display_data"
    },
    {
     "name": "stdout",
     "output_type": "stream",
     "text": [
      "seed = 4\n",
      "backend = 'nengo_ocl'\n",
      "dt = 0.001\n",
      "neuron_type = 'default'\n",
      "n_neurons_scale = 1\n",
      "s_crosstalk = 1.125\n",
      "s_evidence = 15.0\n",
      "t_senso = 0.175\n",
      "vocab = <nengo_spa.vocabulary.Vocabulary object at 0x7f31b0c8a3d0>\n",
      "xp = <experiments.Xp1 object at 0x7f31b0c8a190>\n",
      "proc_feedback = 0.5\n",
      "GW_feedback = 0.95\n",
      "GW_scale = 20\n",
      "BG_thr = 0.1\n",
      "BG_bias = 0.5\n",
      "data = <data.Data object at 0x7f31e1f98e10>\n",
      "\t seed 5/5\n",
      "running run_seed5_scross1.125_sevid15.0\n"
     ]
    },
    {
     "data": {
      "text/html": [
       "\n",
       "                <div id=\"2174f469-369b-42f1-88fc-c97965c0ef66\" style=\"\n",
       "                    width: 100%;\n",
       "                    border: 1px solid #cfcfcf;\n",
       "                    border-radius: 4px;\n",
       "                    text-align: center;\n",
       "                    position: relative;\">\n",
       "                  <div class=\"pb-text\" style=\"\n",
       "                      position: absolute;\n",
       "                      width: 100%;\">\n",
       "                    0%\n",
       "                  </div>\n",
       "                  <div class=\"pb-fill\" style=\"\n",
       "                      background-color: #bdd2e6;\n",
       "                      width: 0%;\">\n",
       "                    <style type=\"text/css\" scoped=\"scoped\">\n",
       "                        @keyframes pb-fill-anim {\n",
       "                            0% { background-position: 0 0; }\n",
       "                            100% { background-position: 100px 0; }\n",
       "                        }\n",
       "                    </style>\n",
       "                    &nbsp;\n",
       "                  </div>\n",
       "                </div>"
      ],
      "text/plain": [
       "HtmlProgressBar cannot be displayed. Please use the TerminalProgressBar. It can be enabled with `nengo.rc.set('progress', 'progress_bar', 'nengo.utils.progress.TerminalProgressBar')`."
      ]
     },
     "metadata": {},
     "output_type": "display_data"
    },
    {
     "data": {
      "application/javascript": [
       "\n",
       "              (function () {\n",
       "                  var root = document.getElementById('2174f469-369b-42f1-88fc-c97965c0ef66');\n",
       "                  var text = root.getElementsByClassName('pb-text')[0];\n",
       "                  var fill = root.getElementsByClassName('pb-fill')[0];\n",
       "\n",
       "                  text.innerHTML = 'Simulation finished in 0:02:45.';\n",
       "                  \n",
       "            if (100.0 > 0.) {\n",
       "                fill.style.transition = 'width 0.1s linear';\n",
       "            } else {\n",
       "                fill.style.transition = 'none';\n",
       "            }\n",
       "\n",
       "            fill.style.width = '100.0%';\n",
       "            fill.style.animation = 'none';\n",
       "            fill.style.backgroundImage = 'none'\n",
       "        \n",
       "                  \n",
       "                fill.style.animation = 'none';\n",
       "                fill.style.backgroundImage = 'none';\n",
       "            \n",
       "              })();\n",
       "        "
      ],
      "text/plain": [
       "<IPython.core.display.Javascript object>"
      ]
     },
     "metadata": {},
     "output_type": "display_data"
    },
    {
     "name": "stdout",
     "output_type": "stream",
     "text": [
      "seed = 5\n",
      "backend = 'nengo_ocl'\n",
      "dt = 0.001\n",
      "neuron_type = 'default'\n",
      "n_neurons_scale = 1\n",
      "s_crosstalk = 1.125\n",
      "s_evidence = 15.0\n",
      "t_senso = 0.175\n",
      "vocab = <nengo_spa.vocabulary.Vocabulary object at 0x7f31b6ca7910>\n",
      "xp = <experiments.Xp1 object at 0x7f31b0c8a0d0>\n",
      "proc_feedback = 0.5\n",
      "GW_feedback = 0.95\n",
      "GW_scale = 20\n",
      "BG_thr = 0.1\n",
      "BG_bias = 0.5\n",
      "data = <data.Data object at 0x7f31b426d590>\n",
      "error: 95.80372692114443\n",
      "params: [1.5 0. ]\n",
      "Simulating...\n",
      "\t seed 1/5\n",
      "running run_seed1_scross1.5_sevid0.0\n"
     ]
    },
    {
     "data": {
      "text/html": [
       "\n",
       "                <div id=\"e8997481-0fd8-4c57-9b83-9c178d7961fb\" style=\"\n",
       "                    width: 100%;\n",
       "                    border: 1px solid #cfcfcf;\n",
       "                    border-radius: 4px;\n",
       "                    text-align: center;\n",
       "                    position: relative;\">\n",
       "                  <div class=\"pb-text\" style=\"\n",
       "                      position: absolute;\n",
       "                      width: 100%;\">\n",
       "                    0%\n",
       "                  </div>\n",
       "                  <div class=\"pb-fill\" style=\"\n",
       "                      background-color: #bdd2e6;\n",
       "                      width: 0%;\">\n",
       "                    <style type=\"text/css\" scoped=\"scoped\">\n",
       "                        @keyframes pb-fill-anim {\n",
       "                            0% { background-position: 0 0; }\n",
       "                            100% { background-position: 100px 0; }\n",
       "                        }\n",
       "                    </style>\n",
       "                    &nbsp;\n",
       "                  </div>\n",
       "                </div>"
      ],
      "text/plain": [
       "HtmlProgressBar cannot be displayed. Please use the TerminalProgressBar. It can be enabled with `nengo.rc.set('progress', 'progress_bar', 'nengo.utils.progress.TerminalProgressBar')`."
      ]
     },
     "metadata": {},
     "output_type": "display_data"
    },
    {
     "data": {
      "application/javascript": [
       "\n",
       "              (function () {\n",
       "                  var root = document.getElementById('e8997481-0fd8-4c57-9b83-9c178d7961fb');\n",
       "                  var text = root.getElementsByClassName('pb-text')[0];\n",
       "                  var fill = root.getElementsByClassName('pb-fill')[0];\n",
       "\n",
       "                  text.innerHTML = 'Simulation finished in 0:01:54.';\n",
       "                  \n",
       "            if (100.0 > 0.) {\n",
       "                fill.style.transition = 'width 0.1s linear';\n",
       "            } else {\n",
       "                fill.style.transition = 'none';\n",
       "            }\n",
       "\n",
       "            fill.style.width = '100.0%';\n",
       "            fill.style.animation = 'none';\n",
       "            fill.style.backgroundImage = 'none'\n",
       "        \n",
       "                  \n",
       "                fill.style.animation = 'none';\n",
       "                fill.style.backgroundImage = 'none';\n",
       "            \n",
       "              })();\n",
       "        "
      ],
      "text/plain": [
       "<IPython.core.display.Javascript object>"
      ]
     },
     "metadata": {},
     "output_type": "display_data"
    },
    {
     "name": "stdout",
     "output_type": "stream",
     "text": [
      "seed = 1\n",
      "backend = 'nengo_ocl'\n",
      "dt = 0.001\n",
      "neuron_type = 'default'\n",
      "n_neurons_scale = 1\n",
      "s_crosstalk = 1.5\n",
      "s_evidence = 0.0\n",
      "t_senso = 0.175\n",
      "vocab = <nengo_spa.vocabulary.Vocabulary object at 0x7f31b7c8de90>\n",
      "xp = <experiments.Xp1 object at 0x7f31b1f79850>\n",
      "proc_feedback = 0.5\n",
      "GW_feedback = 0.95\n",
      "GW_scale = 20\n",
      "BG_thr = 0.1\n",
      "BG_bias = 0.5\n",
      "data = <data.Data object at 0x7f31e1fb3b10>\n",
      "\t seed 2/5\n",
      "running run_seed2_scross1.5_sevid0.0\n"
     ]
    },
    {
     "data": {
      "text/html": [
       "\n",
       "                <div id=\"b7b40e39-b1fc-4f42-9e1b-ce3e7ee6a5bb\" style=\"\n",
       "                    width: 100%;\n",
       "                    border: 1px solid #cfcfcf;\n",
       "                    border-radius: 4px;\n",
       "                    text-align: center;\n",
       "                    position: relative;\">\n",
       "                  <div class=\"pb-text\" style=\"\n",
       "                      position: absolute;\n",
       "                      width: 100%;\">\n",
       "                    0%\n",
       "                  </div>\n",
       "                  <div class=\"pb-fill\" style=\"\n",
       "                      background-color: #bdd2e6;\n",
       "                      width: 0%;\">\n",
       "                    <style type=\"text/css\" scoped=\"scoped\">\n",
       "                        @keyframes pb-fill-anim {\n",
       "                            0% { background-position: 0 0; }\n",
       "                            100% { background-position: 100px 0; }\n",
       "                        }\n",
       "                    </style>\n",
       "                    &nbsp;\n",
       "                  </div>\n",
       "                </div>"
      ],
      "text/plain": [
       "HtmlProgressBar cannot be displayed. Please use the TerminalProgressBar. It can be enabled with `nengo.rc.set('progress', 'progress_bar', 'nengo.utils.progress.TerminalProgressBar')`."
      ]
     },
     "metadata": {},
     "output_type": "display_data"
    },
    {
     "data": {
      "application/javascript": [
       "\n",
       "              (function () {\n",
       "                  var root = document.getElementById('b7b40e39-b1fc-4f42-9e1b-ce3e7ee6a5bb');\n",
       "                  var text = root.getElementsByClassName('pb-text')[0];\n",
       "                  var fill = root.getElementsByClassName('pb-fill')[0];\n",
       "\n",
       "                  text.innerHTML = 'Simulation finished in 0:01:56.';\n",
       "                  \n",
       "            if (100.0 > 0.) {\n",
       "                fill.style.transition = 'width 0.1s linear';\n",
       "            } else {\n",
       "                fill.style.transition = 'none';\n",
       "            }\n",
       "\n",
       "            fill.style.width = '100.0%';\n",
       "            fill.style.animation = 'none';\n",
       "            fill.style.backgroundImage = 'none'\n",
       "        \n",
       "                  \n",
       "                fill.style.animation = 'none';\n",
       "                fill.style.backgroundImage = 'none';\n",
       "            \n",
       "              })();\n",
       "        "
      ],
      "text/plain": [
       "<IPython.core.display.Javascript object>"
      ]
     },
     "metadata": {},
     "output_type": "display_data"
    },
    {
     "name": "stdout",
     "output_type": "stream",
     "text": [
      "seed = 2\n",
      "backend = 'nengo_ocl'\n",
      "dt = 0.001\n",
      "neuron_type = 'default'\n",
      "n_neurons_scale = 1\n",
      "s_crosstalk = 1.5\n",
      "s_evidence = 0.0\n",
      "t_senso = 0.175\n",
      "vocab = <nengo_spa.vocabulary.Vocabulary object at 0x7f31eb2a4050>\n",
      "xp = <experiments.Xp1 object at 0x7f31b6ca27d0>\n",
      "proc_feedback = 0.5\n",
      "GW_feedback = 0.95\n",
      "GW_scale = 20\n",
      "BG_thr = 0.1\n",
      "BG_bias = 0.5\n",
      "data = <data.Data object at 0x7f31b2db9690>\n",
      "\t seed 3/5\n",
      "running run_seed3_scross1.5_sevid0.0\n"
     ]
    },
    {
     "data": {
      "text/html": [
       "\n",
       "                <div id=\"4f5c9257-3c74-4e3a-b97f-a90c07c1402f\" style=\"\n",
       "                    width: 100%;\n",
       "                    border: 1px solid #cfcfcf;\n",
       "                    border-radius: 4px;\n",
       "                    text-align: center;\n",
       "                    position: relative;\">\n",
       "                  <div class=\"pb-text\" style=\"\n",
       "                      position: absolute;\n",
       "                      width: 100%;\">\n",
       "                    0%\n",
       "                  </div>\n",
       "                  <div class=\"pb-fill\" style=\"\n",
       "                      background-color: #bdd2e6;\n",
       "                      width: 0%;\">\n",
       "                    <style type=\"text/css\" scoped=\"scoped\">\n",
       "                        @keyframes pb-fill-anim {\n",
       "                            0% { background-position: 0 0; }\n",
       "                            100% { background-position: 100px 0; }\n",
       "                        }\n",
       "                    </style>\n",
       "                    &nbsp;\n",
       "                  </div>\n",
       "                </div>"
      ],
      "text/plain": [
       "HtmlProgressBar cannot be displayed. Please use the TerminalProgressBar. It can be enabled with `nengo.rc.set('progress', 'progress_bar', 'nengo.utils.progress.TerminalProgressBar')`."
      ]
     },
     "metadata": {},
     "output_type": "display_data"
    },
    {
     "data": {
      "application/javascript": [
       "\n",
       "              (function () {\n",
       "                  var root = document.getElementById('4f5c9257-3c74-4e3a-b97f-a90c07c1402f');\n",
       "                  var text = root.getElementsByClassName('pb-text')[0];\n",
       "                  var fill = root.getElementsByClassName('pb-fill')[0];\n",
       "\n",
       "                  text.innerHTML = 'Simulation finished in 0:01:55.';\n",
       "                  \n",
       "            if (100.0 > 0.) {\n",
       "                fill.style.transition = 'width 0.1s linear';\n",
       "            } else {\n",
       "                fill.style.transition = 'none';\n",
       "            }\n",
       "\n",
       "            fill.style.width = '100.0%';\n",
       "            fill.style.animation = 'none';\n",
       "            fill.style.backgroundImage = 'none'\n",
       "        \n",
       "                  \n",
       "                fill.style.animation = 'none';\n",
       "                fill.style.backgroundImage = 'none';\n",
       "            \n",
       "              })();\n",
       "        "
      ],
      "text/plain": [
       "<IPython.core.display.Javascript object>"
      ]
     },
     "metadata": {},
     "output_type": "display_data"
    },
    {
     "name": "stdout",
     "output_type": "stream",
     "text": [
      "seed = 3\n",
      "backend = 'nengo_ocl'\n",
      "dt = 0.001\n",
      "neuron_type = 'default'\n",
      "n_neurons_scale = 1\n",
      "s_crosstalk = 1.5\n",
      "s_evidence = 0.0\n",
      "t_senso = 0.175\n",
      "vocab = <nengo_spa.vocabulary.Vocabulary object at 0x7f31b6b3d290>\n",
      "xp = <experiments.Xp1 object at 0x7f31e1fb3790>\n",
      "proc_feedback = 0.5\n",
      "GW_feedback = 0.95\n",
      "GW_scale = 20\n",
      "BG_thr = 0.1\n",
      "BG_bias = 0.5\n",
      "data = <data.Data object at 0x7f31b41ad190>\n",
      "\t seed 4/5\n",
      "running run_seed4_scross1.5_sevid0.0\n"
     ]
    },
    {
     "data": {
      "text/html": [
       "\n",
       "                <div id=\"09c2cc9b-c3ca-4ba2-a044-af0597f68cba\" style=\"\n",
       "                    width: 100%;\n",
       "                    border: 1px solid #cfcfcf;\n",
       "                    border-radius: 4px;\n",
       "                    text-align: center;\n",
       "                    position: relative;\">\n",
       "                  <div class=\"pb-text\" style=\"\n",
       "                      position: absolute;\n",
       "                      width: 100%;\">\n",
       "                    0%\n",
       "                  </div>\n",
       "                  <div class=\"pb-fill\" style=\"\n",
       "                      background-color: #bdd2e6;\n",
       "                      width: 0%;\">\n",
       "                    <style type=\"text/css\" scoped=\"scoped\">\n",
       "                        @keyframes pb-fill-anim {\n",
       "                            0% { background-position: 0 0; }\n",
       "                            100% { background-position: 100px 0; }\n",
       "                        }\n",
       "                    </style>\n",
       "                    &nbsp;\n",
       "                  </div>\n",
       "                </div>"
      ],
      "text/plain": [
       "HtmlProgressBar cannot be displayed. Please use the TerminalProgressBar. It can be enabled with `nengo.rc.set('progress', 'progress_bar', 'nengo.utils.progress.TerminalProgressBar')`."
      ]
     },
     "metadata": {},
     "output_type": "display_data"
    },
    {
     "data": {
      "application/javascript": [
       "\n",
       "              (function () {\n",
       "                  var root = document.getElementById('09c2cc9b-c3ca-4ba2-a044-af0597f68cba');\n",
       "                  var text = root.getElementsByClassName('pb-text')[0];\n",
       "                  var fill = root.getElementsByClassName('pb-fill')[0];\n",
       "\n",
       "                  text.innerHTML = 'Simulation finished in 0:01:55.';\n",
       "                  \n",
       "            if (100.0 > 0.) {\n",
       "                fill.style.transition = 'width 0.1s linear';\n",
       "            } else {\n",
       "                fill.style.transition = 'none';\n",
       "            }\n",
       "\n",
       "            fill.style.width = '100.0%';\n",
       "            fill.style.animation = 'none';\n",
       "            fill.style.backgroundImage = 'none'\n",
       "        \n",
       "                  \n",
       "                fill.style.animation = 'none';\n",
       "                fill.style.backgroundImage = 'none';\n",
       "            \n",
       "              })();\n",
       "        "
      ],
      "text/plain": [
       "<IPython.core.display.Javascript object>"
      ]
     },
     "metadata": {},
     "output_type": "display_data"
    },
    {
     "name": "stdout",
     "output_type": "stream",
     "text": [
      "seed = 4\n",
      "backend = 'nengo_ocl'\n",
      "dt = 0.001\n",
      "neuron_type = 'default'\n",
      "n_neurons_scale = 1\n",
      "s_crosstalk = 1.5\n",
      "s_evidence = 0.0\n",
      "t_senso = 0.175\n",
      "vocab = <nengo_spa.vocabulary.Vocabulary object at 0x7f31b6b3d050>\n",
      "xp = <experiments.Xp1 object at 0x7f31eb921e90>\n",
      "proc_feedback = 0.5\n",
      "GW_feedback = 0.95\n",
      "GW_scale = 20\n",
      "BG_thr = 0.1\n",
      "BG_bias = 0.5\n",
      "data = <data.Data object at 0x7f31b3c8abd0>\n",
      "\t seed 5/5\n",
      "running run_seed5_scross1.5_sevid0.0\n"
     ]
    },
    {
     "data": {
      "text/html": [
       "\n",
       "                <div id=\"71e82e22-3912-48ec-b540-a0a2b50da728\" style=\"\n",
       "                    width: 100%;\n",
       "                    border: 1px solid #cfcfcf;\n",
       "                    border-radius: 4px;\n",
       "                    text-align: center;\n",
       "                    position: relative;\">\n",
       "                  <div class=\"pb-text\" style=\"\n",
       "                      position: absolute;\n",
       "                      width: 100%;\">\n",
       "                    0%\n",
       "                  </div>\n",
       "                  <div class=\"pb-fill\" style=\"\n",
       "                      background-color: #bdd2e6;\n",
       "                      width: 0%;\">\n",
       "                    <style type=\"text/css\" scoped=\"scoped\">\n",
       "                        @keyframes pb-fill-anim {\n",
       "                            0% { background-position: 0 0; }\n",
       "                            100% { background-position: 100px 0; }\n",
       "                        }\n",
       "                    </style>\n",
       "                    &nbsp;\n",
       "                  </div>\n",
       "                </div>"
      ],
      "text/plain": [
       "HtmlProgressBar cannot be displayed. Please use the TerminalProgressBar. It can be enabled with `nengo.rc.set('progress', 'progress_bar', 'nengo.utils.progress.TerminalProgressBar')`."
      ]
     },
     "metadata": {},
     "output_type": "display_data"
    },
    {
     "data": {
      "application/javascript": [
       "\n",
       "              (function () {\n",
       "                  var root = document.getElementById('71e82e22-3912-48ec-b540-a0a2b50da728');\n",
       "                  var text = root.getElementsByClassName('pb-text')[0];\n",
       "                  var fill = root.getElementsByClassName('pb-fill')[0];\n",
       "\n",
       "                  text.innerHTML = 'Simulation finished in 0:01:57.';\n",
       "                  \n",
       "            if (100.0 > 0.) {\n",
       "                fill.style.transition = 'width 0.1s linear';\n",
       "            } else {\n",
       "                fill.style.transition = 'none';\n",
       "            }\n",
       "\n",
       "            fill.style.width = '100.0%';\n",
       "            fill.style.animation = 'none';\n",
       "            fill.style.backgroundImage = 'none'\n",
       "        \n",
       "                  \n",
       "                fill.style.animation = 'none';\n",
       "                fill.style.backgroundImage = 'none';\n",
       "            \n",
       "              })();\n",
       "        "
      ],
      "text/plain": [
       "<IPython.core.display.Javascript object>"
      ]
     },
     "metadata": {},
     "output_type": "display_data"
    },
    {
     "name": "stdout",
     "output_type": "stream",
     "text": [
      "seed = 5\n",
      "backend = 'nengo_ocl'\n",
      "dt = 0.001\n",
      "neuron_type = 'default'\n",
      "n_neurons_scale = 1\n",
      "s_crosstalk = 1.5\n",
      "s_evidence = 0.0\n",
      "t_senso = 0.175\n",
      "vocab = <nengo_spa.vocabulary.Vocabulary object at 0x7f31b3bbd250>\n",
      "xp = <experiments.Xp1 object at 0x7f31b41ad950>\n",
      "proc_feedback = 0.5\n",
      "GW_feedback = 0.95\n",
      "GW_scale = 20\n",
      "BG_thr = 0.1\n",
      "BG_bias = 0.5\n",
      "data = <data.Data object at 0x7f31b3c84690>\n",
      "error: 96.73308840906603\n",
      "params: [1.5  3.75]\n",
      "Simulating...\n",
      "\t seed 1/5\n",
      "running run_seed1_scross1.5_sevid3.75\n"
     ]
    },
    {
     "data": {
      "text/html": [
       "\n",
       "                <div id=\"c11c3fcd-48cd-43ab-b57b-5a2bbe2faefa\" style=\"\n",
       "                    width: 100%;\n",
       "                    border: 1px solid #cfcfcf;\n",
       "                    border-radius: 4px;\n",
       "                    text-align: center;\n",
       "                    position: relative;\">\n",
       "                  <div class=\"pb-text\" style=\"\n",
       "                      position: absolute;\n",
       "                      width: 100%;\">\n",
       "                    0%\n",
       "                  </div>\n",
       "                  <div class=\"pb-fill\" style=\"\n",
       "                      background-color: #bdd2e6;\n",
       "                      width: 0%;\">\n",
       "                    <style type=\"text/css\" scoped=\"scoped\">\n",
       "                        @keyframes pb-fill-anim {\n",
       "                            0% { background-position: 0 0; }\n",
       "                            100% { background-position: 100px 0; }\n",
       "                        }\n",
       "                    </style>\n",
       "                    &nbsp;\n",
       "                  </div>\n",
       "                </div>"
      ],
      "text/plain": [
       "HtmlProgressBar cannot be displayed. Please use the TerminalProgressBar. It can be enabled with `nengo.rc.set('progress', 'progress_bar', 'nengo.utils.progress.TerminalProgressBar')`."
      ]
     },
     "metadata": {},
     "output_type": "display_data"
    },
    {
     "data": {
      "application/javascript": [
       "\n",
       "              (function () {\n",
       "                  var root = document.getElementById('c11c3fcd-48cd-43ab-b57b-5a2bbe2faefa');\n",
       "                  var text = root.getElementsByClassName('pb-text')[0];\n",
       "                  var fill = root.getElementsByClassName('pb-fill')[0];\n",
       "\n",
       "                  text.innerHTML = 'Simulation finished in 0:02:46.';\n",
       "                  \n",
       "            if (100.0 > 0.) {\n",
       "                fill.style.transition = 'width 0.1s linear';\n",
       "            } else {\n",
       "                fill.style.transition = 'none';\n",
       "            }\n",
       "\n",
       "            fill.style.width = '100.0%';\n",
       "            fill.style.animation = 'none';\n",
       "            fill.style.backgroundImage = 'none'\n",
       "        \n",
       "                  \n",
       "                fill.style.animation = 'none';\n",
       "                fill.style.backgroundImage = 'none';\n",
       "            \n",
       "              })();\n",
       "        "
      ],
      "text/plain": [
       "<IPython.core.display.Javascript object>"
      ]
     },
     "metadata": {},
     "output_type": "display_data"
    },
    {
     "name": "stdout",
     "output_type": "stream",
     "text": [
      "seed = 1\n",
      "backend = 'nengo_ocl'\n",
      "dt = 0.001\n",
      "neuron_type = 'default'\n",
      "n_neurons_scale = 1\n",
      "s_crosstalk = 1.5\n",
      "s_evidence = 3.75\n",
      "t_senso = 0.175\n",
      "vocab = <nengo_spa.vocabulary.Vocabulary object at 0x7f31eb6191d0>\n",
      "xp = <experiments.Xp1 object at 0x7f31bc1f8350>\n",
      "proc_feedback = 0.5\n",
      "GW_feedback = 0.95\n",
      "GW_scale = 20\n",
      "BG_thr = 0.1\n",
      "BG_bias = 0.5\n",
      "data = <data.Data object at 0x7f31b6b32c50>\n",
      "\t seed 2/5\n",
      "running run_seed2_scross1.5_sevid3.75\n"
     ]
    },
    {
     "data": {
      "text/html": [
       "\n",
       "                <div id=\"34d2787e-7468-4746-8ef5-1ab05b1034ba\" style=\"\n",
       "                    width: 100%;\n",
       "                    border: 1px solid #cfcfcf;\n",
       "                    border-radius: 4px;\n",
       "                    text-align: center;\n",
       "                    position: relative;\">\n",
       "                  <div class=\"pb-text\" style=\"\n",
       "                      position: absolute;\n",
       "                      width: 100%;\">\n",
       "                    0%\n",
       "                  </div>\n",
       "                  <div class=\"pb-fill\" style=\"\n",
       "                      background-color: #bdd2e6;\n",
       "                      width: 0%;\">\n",
       "                    <style type=\"text/css\" scoped=\"scoped\">\n",
       "                        @keyframes pb-fill-anim {\n",
       "                            0% { background-position: 0 0; }\n",
       "                            100% { background-position: 100px 0; }\n",
       "                        }\n",
       "                    </style>\n",
       "                    &nbsp;\n",
       "                  </div>\n",
       "                </div>"
      ],
      "text/plain": [
       "HtmlProgressBar cannot be displayed. Please use the TerminalProgressBar. It can be enabled with `nengo.rc.set('progress', 'progress_bar', 'nengo.utils.progress.TerminalProgressBar')`."
      ]
     },
     "metadata": {},
     "output_type": "display_data"
    },
    {
     "data": {
      "application/javascript": [
       "\n",
       "              (function () {\n",
       "                  var root = document.getElementById('34d2787e-7468-4746-8ef5-1ab05b1034ba');\n",
       "                  var text = root.getElementsByClassName('pb-text')[0];\n",
       "                  var fill = root.getElementsByClassName('pb-fill')[0];\n",
       "\n",
       "                  text.innerHTML = 'Simulation finished in 0:02:48.';\n",
       "                  \n",
       "            if (100.0 > 0.) {\n",
       "                fill.style.transition = 'width 0.1s linear';\n",
       "            } else {\n",
       "                fill.style.transition = 'none';\n",
       "            }\n",
       "\n",
       "            fill.style.width = '100.0%';\n",
       "            fill.style.animation = 'none';\n",
       "            fill.style.backgroundImage = 'none'\n",
       "        \n",
       "                  \n",
       "                fill.style.animation = 'none';\n",
       "                fill.style.backgroundImage = 'none';\n",
       "            \n",
       "              })();\n",
       "        "
      ],
      "text/plain": [
       "<IPython.core.display.Javascript object>"
      ]
     },
     "metadata": {},
     "output_type": "display_data"
    },
    {
     "name": "stdout",
     "output_type": "stream",
     "text": [
      "seed = 2\n",
      "backend = 'nengo_ocl'\n",
      "dt = 0.001\n",
      "neuron_type = 'default'\n",
      "n_neurons_scale = 1\n",
      "s_crosstalk = 1.5\n",
      "s_evidence = 3.75\n",
      "t_senso = 0.175\n",
      "vocab = <nengo_spa.vocabulary.Vocabulary object at 0x7f31e1de8bd0>\n",
      "xp = <experiments.Xp1 object at 0x7f31b6b32cd0>\n",
      "proc_feedback = 0.5\n",
      "GW_feedback = 0.95\n",
      "GW_scale = 20\n",
      "BG_thr = 0.1\n",
      "BG_bias = 0.5\n",
      "data = <data.Data object at 0x7f31bc7e1250>\n",
      "\t seed 3/5\n",
      "running run_seed3_scross1.5_sevid3.75\n"
     ]
    },
    {
     "data": {
      "text/html": [
       "\n",
       "                <div id=\"ee6a1291-9db6-4e12-a6b2-6019693f9a2a\" style=\"\n",
       "                    width: 100%;\n",
       "                    border: 1px solid #cfcfcf;\n",
       "                    border-radius: 4px;\n",
       "                    text-align: center;\n",
       "                    position: relative;\">\n",
       "                  <div class=\"pb-text\" style=\"\n",
       "                      position: absolute;\n",
       "                      width: 100%;\">\n",
       "                    0%\n",
       "                  </div>\n",
       "                  <div class=\"pb-fill\" style=\"\n",
       "                      background-color: #bdd2e6;\n",
       "                      width: 0%;\">\n",
       "                    <style type=\"text/css\" scoped=\"scoped\">\n",
       "                        @keyframes pb-fill-anim {\n",
       "                            0% { background-position: 0 0; }\n",
       "                            100% { background-position: 100px 0; }\n",
       "                        }\n",
       "                    </style>\n",
       "                    &nbsp;\n",
       "                  </div>\n",
       "                </div>"
      ],
      "text/plain": [
       "HtmlProgressBar cannot be displayed. Please use the TerminalProgressBar. It can be enabled with `nengo.rc.set('progress', 'progress_bar', 'nengo.utils.progress.TerminalProgressBar')`."
      ]
     },
     "metadata": {},
     "output_type": "display_data"
    },
    {
     "data": {
      "application/javascript": [
       "\n",
       "              (function () {\n",
       "                  var root = document.getElementById('ee6a1291-9db6-4e12-a6b2-6019693f9a2a');\n",
       "                  var text = root.getElementsByClassName('pb-text')[0];\n",
       "                  var fill = root.getElementsByClassName('pb-fill')[0];\n",
       "\n",
       "                  text.innerHTML = 'Simulation finished in 0:02:57.';\n",
       "                  \n",
       "            if (100.0 > 0.) {\n",
       "                fill.style.transition = 'width 0.1s linear';\n",
       "            } else {\n",
       "                fill.style.transition = 'none';\n",
       "            }\n",
       "\n",
       "            fill.style.width = '100.0%';\n",
       "            fill.style.animation = 'none';\n",
       "            fill.style.backgroundImage = 'none'\n",
       "        \n",
       "                  \n",
       "                fill.style.animation = 'none';\n",
       "                fill.style.backgroundImage = 'none';\n",
       "            \n",
       "              })();\n",
       "        "
      ],
      "text/plain": [
       "<IPython.core.display.Javascript object>"
      ]
     },
     "metadata": {},
     "output_type": "display_data"
    },
    {
     "name": "stdout",
     "output_type": "stream",
     "text": [
      "seed = 3\n",
      "backend = 'nengo_ocl'\n",
      "dt = 0.001\n",
      "neuron_type = 'default'\n",
      "n_neurons_scale = 1\n",
      "s_crosstalk = 1.5\n",
      "s_evidence = 3.75\n",
      "t_senso = 0.175\n",
      "vocab = <nengo_spa.vocabulary.Vocabulary object at 0x7f31bc7e13d0>\n",
      "xp = <experiments.Xp1 object at 0x7f31e1de83d0>\n",
      "proc_feedback = 0.5\n",
      "GW_feedback = 0.95\n",
      "GW_scale = 20\n",
      "BG_thr = 0.1\n",
      "BG_bias = 0.5\n",
      "data = <data.Data object at 0x7f31983503d0>\n",
      "\t seed 4/5\n",
      "running run_seed4_scross1.5_sevid3.75\n"
     ]
    },
    {
     "data": {
      "text/html": [
       "\n",
       "                <div id=\"e71ae4d1-c37d-4594-b28f-5e2c3605bf2c\" style=\"\n",
       "                    width: 100%;\n",
       "                    border: 1px solid #cfcfcf;\n",
       "                    border-radius: 4px;\n",
       "                    text-align: center;\n",
       "                    position: relative;\">\n",
       "                  <div class=\"pb-text\" style=\"\n",
       "                      position: absolute;\n",
       "                      width: 100%;\">\n",
       "                    0%\n",
       "                  </div>\n",
       "                  <div class=\"pb-fill\" style=\"\n",
       "                      background-color: #bdd2e6;\n",
       "                      width: 0%;\">\n",
       "                    <style type=\"text/css\" scoped=\"scoped\">\n",
       "                        @keyframes pb-fill-anim {\n",
       "                            0% { background-position: 0 0; }\n",
       "                            100% { background-position: 100px 0; }\n",
       "                        }\n",
       "                    </style>\n",
       "                    &nbsp;\n",
       "                  </div>\n",
       "                </div>"
      ],
      "text/plain": [
       "HtmlProgressBar cannot be displayed. Please use the TerminalProgressBar. It can be enabled with `nengo.rc.set('progress', 'progress_bar', 'nengo.utils.progress.TerminalProgressBar')`."
      ]
     },
     "metadata": {},
     "output_type": "display_data"
    },
    {
     "data": {
      "application/javascript": [
       "\n",
       "              (function () {\n",
       "                  var root = document.getElementById('e71ae4d1-c37d-4594-b28f-5e2c3605bf2c');\n",
       "                  var text = root.getElementsByClassName('pb-text')[0];\n",
       "                  var fill = root.getElementsByClassName('pb-fill')[0];\n",
       "\n",
       "                  text.innerHTML = 'Simulating&hellip; 20%, ETA: 0:02:14';\n",
       "                  \n",
       "            if (19.682539682539684 > 0.) {\n",
       "                fill.style.transition = 'width 0.1s linear';\n",
       "            } else {\n",
       "                fill.style.transition = 'none';\n",
       "            }\n",
       "\n",
       "            fill.style.width = '19.682539682539684%';\n",
       "            fill.style.animation = 'none';\n",
       "            fill.style.backgroundImage = 'none'\n",
       "        \n",
       "                  \n",
       "              })();\n",
       "        "
      ],
      "text/plain": [
       "<IPython.core.display.Javascript object>"
      ]
     },
     "metadata": {},
     "output_type": "display_data"
    }
   ],
   "source": [
    "x0, fval, grid, jout = brute(\n",
    "    evaluation_function, \n",
    "    (\n",
    "        (0, 1.5), # bound for s_crosstalk\n",
    "        (0, 15), # bound for s_evidence\n",
    "        #(0,.5), # bound for t_senso (in seconds)\n",
    "    ),\n",
    "    Ns=5, \n",
    "    full_output=True\n",
    ")"
   ]
  },
  {
   "cell_type": "code",
   "execution_count": null,
   "metadata": {},
   "outputs": [],
   "source": [
    "print(x0, fval, grid, jout)\n",
    "np.save(\"./data/x0\", x0)\n",
    "np.save(\"./data/fval\", fval)\n",
    "np.save(\"./data/grid\", grid)\n",
    "np.save(\"./data/jout\", jout)"
   ]
  },
  {
   "cell_type": "code",
   "execution_count": null,
   "metadata": {},
   "outputs": [],
   "source": []
  }
 ],
 "metadata": {
  "kernelspec": {
   "display_name": "Python 3",
   "language": "python",
   "name": "python3"
  },
  "language_info": {
   "codemirror_mode": {
    "name": "ipython",
    "version": 3
   },
   "file_extension": ".py",
   "mimetype": "text/x-python",
   "name": "python",
   "nbconvert_exporter": "python",
   "pygments_lexer": "ipython3",
   "version": "3.7.5"
  }
 },
 "nbformat": 4,
 "nbformat_minor": 2
}
