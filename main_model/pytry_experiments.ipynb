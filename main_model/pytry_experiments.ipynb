{
 "cells": [
  {
   "cell_type": "code",
   "execution_count": 4,
   "metadata": {},
   "outputs": [],
   "source": [
    "import nengo\n",
    "import nengo_spa as spa\n",
    "import pytry\n",
    "import numpy as np\n",
    "from random import shuffle\n",
    "import random\n",
    "import sys, os\n",
    "import math\n",
    "from IPython import display\n",
    "import itertools\n",
    "from scipy.stats import sem\n",
    "\n",
    "\n",
    "# Import our classes\n",
    "sys.path.append('..')\n",
    "import experiments as xps\n",
    "from model import ExperimentRun\n",
    "from data import Data, SackurData\n",
    "\n",
    "# Select Nengo simulator according to whether we want to use ocl or not\n",
    "use_ocl = True\n",
    "if use_ocl:\n",
    "    import nengo_ocl\n",
    "    simulator_cls = nengo_ocl.Simulator\n",
    "else:\n",
    "    simulator_cls = nengo.Simulator\n",
    "    \n",
    "\n",
    "\n",
    "import matplotlib.pyplot as plt\n",
    "from matplotlib.colors import ListedColormap\n",
    "from cycler import cycler\n",
    "%matplotlib inline\n",
    "\n",
    "# color-blind accessibility\n",
    "colorblind_cycler = cycler('color', ['#006BA4', '#FF800E', '#ABABAB', '#595959', '#5F9ED1', '#C85200', '#898989', '#A2C8EC', '#FFBC79', '#CFCFCF'])\n",
    "plt.rc('axes', prop_cycle=(colorblind_cycler))\n",
    "\n",
    "\n",
    "def create_vocab(D, seed):\n",
    "    vocab = spa.Vocabulary(dimensions=D, pointer_gen=np.random.RandomState(seed))\n",
    "    digits = ['D'+str(i+1) for i in range(10)]\n",
    "    r = np.random.RandomState(seed)\n",
    "    r.shuffle(digits) # avoid any bias in similarity\n",
    "    vocab.populate(';'.join(digits))\n",
    "    keys = ['FIXATE', 'MASK', \\\n",
    "               'MORE','LESS', \\\n",
    "               'GET','SET', \\\n",
    "    'SIMPLE', 'CHAINED_ADD', 'CHAINED_SUB']\n",
    "    vocab.populate(\";\".join(keys))\n",
    "    \n",
    "    vocab.populate('SOURCE ; CONTENT ;'+\n",
    "                      'V ; COM ; ADD ; SUB ; M')\n",
    "    vocab.populate(\";\".join([p+\"_SOURCE=(SOURCE*\"+p+\").normalized()\" for p in ['V', 'COM', 'ADD', 'SUB']])) # this is done to avoid similarity with other SPs\n",
    "    return vocab\n",
    "\n",
    "def create_xp(n_blocks_per_operation, n_trials_per_digit, n_different_digits, n_different_operations, stim_duration):\n",
    "    trials = xps.createTrials(n_blocks_per_operation, n_trials_per_digit, n_different_digits, n_different_operations, shuffle=True)\n",
    "    return xps.Xp1(0, trials, stim_duration=stim_duration)"
   ]
  },
  {
   "cell_type": "code",
   "execution_count": null,
   "metadata": {},
   "outputs": [],
   "source": []
  },
  {
   "cell_type": "markdown",
   "metadata": {},
   "source": [
    "# Model variables"
   ]
  },
  {
   "cell_type": "code",
   "execution_count": 2,
   "metadata": {},
   "outputs": [
    {
     "name": "stdout",
     "output_type": "stream",
     "text": [
      "running test\n",
      "Seed: 96343\n",
      "Number of neurons: 255230\n",
      "No context argument was provided to nengo_ocl.Simulator\n",
      "Calling pyopencl.create_some_context() for you now:\n"
     ]
    },
    {
     "ename": "Error",
     "evalue": "no devices found",
     "output_type": "error",
     "traceback": [
      "\u001b[0;31m---------------------------------------------------------------------------\u001b[0m",
      "\u001b[0;31mError\u001b[0m                                     Traceback (most recent call last)",
      "\u001b[0;32m<ipython-input-2-546569ed01ae>\u001b[0m in \u001b[0;36m<module>\u001b[0;34m\u001b[0m\n\u001b[1;32m     45\u001b[0m         \u001b[0mseed\u001b[0m\u001b[0;34m=\u001b[0m\u001b[0mseed\u001b[0m\u001b[0;34m,\u001b[0m\u001b[0;34m\u001b[0m\u001b[0;34m\u001b[0m\u001b[0m\n\u001b[1;32m     46\u001b[0m         \u001b[0mbackend\u001b[0m\u001b[0;34m=\u001b[0m\u001b[0;34m\"nengo_ocl\"\u001b[0m\u001b[0;34m,\u001b[0m\u001b[0;34m\u001b[0m\u001b[0;34m\u001b[0m\u001b[0m\n\u001b[0;32m---> 47\u001b[0;31m         \u001b[0mdata_filename\u001b[0m\u001b[0;34m=\u001b[0m\u001b[0;34m'test'\u001b[0m\u001b[0;34m\u001b[0m\u001b[0;34m\u001b[0m\u001b[0m\n\u001b[0m\u001b[1;32m     48\u001b[0m     )\n\u001b[1;32m     49\u001b[0m \u001b[0;34m\u001b[0m\u001b[0m\n",
      "\u001b[0;32m~/anaconda3/envs/CTN/lib/python3.7/site-packages/pytry-0.9.2-py3.7.egg/pytry/trial.py\u001b[0m in \u001b[0;36mrun\u001b[0;34m(self, **kwargs)\u001b[0m\n\u001b[1;32m     89\u001b[0m         \u001b[0mrandom\u001b[0m\u001b[0;34m.\u001b[0m\u001b[0mseed\u001b[0m\u001b[0;34m(\u001b[0m\u001b[0mp\u001b[0m\u001b[0;34m.\u001b[0m\u001b[0mseed\u001b[0m\u001b[0;34m)\u001b[0m\u001b[0;34m\u001b[0m\u001b[0;34m\u001b[0m\u001b[0m\n\u001b[1;32m     90\u001b[0m \u001b[0;34m\u001b[0m\u001b[0m\n\u001b[0;32m---> 91\u001b[0;31m         \u001b[0mresult\u001b[0m \u001b[0;34m=\u001b[0m \u001b[0mself\u001b[0m\u001b[0;34m.\u001b[0m\u001b[0mexecute_trial\u001b[0m\u001b[0;34m(\u001b[0m\u001b[0mp\u001b[0m\u001b[0;34m)\u001b[0m\u001b[0;34m\u001b[0m\u001b[0;34m\u001b[0m\u001b[0m\n\u001b[0m\u001b[1;32m     92\u001b[0m \u001b[0;34m\u001b[0m\u001b[0m\n\u001b[1;32m     93\u001b[0m         \u001b[0;32mif\u001b[0m \u001b[0mresult\u001b[0m \u001b[0;32mis\u001b[0m \u001b[0;32mNone\u001b[0m\u001b[0;34m:\u001b[0m\u001b[0;34m\u001b[0m\u001b[0;34m\u001b[0m\u001b[0m\n",
      "\u001b[0;32m~/anaconda3/envs/CTN/lib/python3.7/site-packages/pytry-0.9.2-py3.7.egg/pytry/nengo.py\u001b[0m in \u001b[0;36mexecute_trial\u001b[0;34m(self, p)\u001b[0m\n\u001b[1;32m    110\u001b[0m                                      **extra_args)\n\u001b[1;32m    111\u001b[0m             \u001b[0;32melse\u001b[0m\u001b[0;34m:\u001b[0m\u001b[0;34m\u001b[0m\u001b[0;34m\u001b[0m\u001b[0m\n\u001b[0;32m--> 112\u001b[0;31m                 \u001b[0mself\u001b[0m\u001b[0;34m.\u001b[0m\u001b[0msim\u001b[0m \u001b[0;34m=\u001b[0m \u001b[0mSimulator\u001b[0m\u001b[0;34m(\u001b[0m\u001b[0mmodel\u001b[0m\u001b[0;34m,\u001b[0m \u001b[0mdt\u001b[0m\u001b[0;34m=\u001b[0m\u001b[0mp\u001b[0m\u001b[0;34m.\u001b[0m\u001b[0mdt\u001b[0m\u001b[0;34m,\u001b[0m \u001b[0;34m**\u001b[0m\u001b[0mextra_args\u001b[0m\u001b[0;34m)\u001b[0m\u001b[0;34m\u001b[0m\u001b[0;34m\u001b[0m\u001b[0m\n\u001b[0m\u001b[1;32m    113\u001b[0m \u001b[0;34m\u001b[0m\u001b[0m\n\u001b[1;32m    114\u001b[0m             \u001b[0;32mwith\u001b[0m \u001b[0mself\u001b[0m\u001b[0;34m.\u001b[0m\u001b[0msim\u001b[0m\u001b[0;34m:\u001b[0m\u001b[0;34m\u001b[0m\u001b[0;34m\u001b[0m\u001b[0m\n",
      "\u001b[0;32m~/anaconda3/envs/CTN/lib/python3.7/site-packages/nengo_ocl/simulator.py\u001b[0m in \u001b[0;36m__init__\u001b[0;34m(self, network, dt, seed, model, context, n_prealloc_probes, profiling, if_python_code, planner, progress_bar)\u001b[0m\n\u001b[1;32m    210\u001b[0m             \u001b[0mprint\u001b[0m\u001b[0;34m(\u001b[0m\u001b[0;34m'No context argument was provided to nengo_ocl.Simulator'\u001b[0m\u001b[0;34m)\u001b[0m\u001b[0;34m\u001b[0m\u001b[0;34m\u001b[0m\u001b[0m\n\u001b[1;32m    211\u001b[0m             \u001b[0mprint\u001b[0m\u001b[0;34m(\u001b[0m\u001b[0;34m\"Calling pyopencl.create_some_context() for you now:\"\u001b[0m\u001b[0;34m)\u001b[0m\u001b[0;34m\u001b[0m\u001b[0;34m\u001b[0m\u001b[0m\n\u001b[0;32m--> 212\u001b[0;31m             \u001b[0mSimulator\u001b[0m\u001b[0;34m.\u001b[0m\u001b[0msome_context\u001b[0m \u001b[0;34m=\u001b[0m \u001b[0mcl\u001b[0m\u001b[0;34m.\u001b[0m\u001b[0mcreate_some_context\u001b[0m\u001b[0;34m(\u001b[0m\u001b[0;34m)\u001b[0m\u001b[0;34m\u001b[0m\u001b[0;34m\u001b[0m\u001b[0m\n\u001b[0m\u001b[1;32m    213\u001b[0m         \u001b[0;32mif\u001b[0m \u001b[0mprofiling\u001b[0m \u001b[0;32mis\u001b[0m \u001b[0;32mNone\u001b[0m\u001b[0;34m:\u001b[0m\u001b[0;34m\u001b[0m\u001b[0;34m\u001b[0m\u001b[0m\n\u001b[1;32m    214\u001b[0m             \u001b[0mprofiling\u001b[0m \u001b[0;34m=\u001b[0m \u001b[0mint\u001b[0m\u001b[0;34m(\u001b[0m\u001b[0mos\u001b[0m\u001b[0;34m.\u001b[0m\u001b[0mgetenv\u001b[0m\u001b[0;34m(\u001b[0m\u001b[0;34m\"NENGO_OCL_PROFILING\"\u001b[0m\u001b[0;34m,\u001b[0m \u001b[0;36m0\u001b[0m\u001b[0;34m)\u001b[0m\u001b[0;34m)\u001b[0m\u001b[0;34m\u001b[0m\u001b[0;34m\u001b[0m\u001b[0m\n",
      "\u001b[0;32m~/anaconda3/envs/CTN/lib/python3.7/site-packages/pyopencl/__init__.py\u001b[0m in \u001b[0;36mcreate_some_context\u001b[0;34m(interactive, answers)\u001b[0m\n\u001b[1;32m   1436\u001b[0m \u001b[0;34m\u001b[0m\u001b[0m\n\u001b[1;32m   1437\u001b[0m     \u001b[0;32mif\u001b[0m \u001b[0;32mnot\u001b[0m \u001b[0mdevices\u001b[0m\u001b[0;34m:\u001b[0m\u001b[0;34m\u001b[0m\u001b[0;34m\u001b[0m\u001b[0m\n\u001b[0;32m-> 1438\u001b[0;31m         \u001b[0;32mraise\u001b[0m \u001b[0mError\u001b[0m\u001b[0;34m(\u001b[0m\u001b[0;34m\"no devices found\"\u001b[0m\u001b[0;34m)\u001b[0m\u001b[0;34m\u001b[0m\u001b[0;34m\u001b[0m\u001b[0m\n\u001b[0m\u001b[1;32m   1439\u001b[0m     \u001b[0;32melif\u001b[0m \u001b[0mlen\u001b[0m\u001b[0;34m(\u001b[0m\u001b[0mdevices\u001b[0m\u001b[0;34m)\u001b[0m \u001b[0;34m==\u001b[0m \u001b[0;36m1\u001b[0m\u001b[0;34m:\u001b[0m\u001b[0;34m\u001b[0m\u001b[0;34m\u001b[0m\u001b[0m\n\u001b[1;32m   1440\u001b[0m         \u001b[0;32mpass\u001b[0m\u001b[0;34m\u001b[0m\u001b[0;34m\u001b[0m\u001b[0m\n",
      "\u001b[0;31mError\u001b[0m: no devices found"
     ]
    }
   ],
   "source": [
    "\n",
    "\n",
    "D = int(128*2)  # the dimensionality of the vectors\n",
    "PROC_FDBCK = .5\n",
    "GW_FDBCK = .95 # but synapse is shorter than for perfect storage\n",
    "GW_SCALE = 20 # scale the input of GW for saturation and catching very short visual stimuli\n",
    "BG_THR = .1\n",
    "BG_BIAS = .5\n",
    "STIM_DURATION = .1\n",
    "N_NEURONS_SCALE = 1.5\n",
    "RANDOM_SEED = True\n",
    "\n",
    "n_blocks_per_operation = 1 # default: 10\n",
    "n_trials_per_digit = 1 # default: 5\n",
    "n_different_digits = 4 # default: 4\n",
    "n_different_operations = 1 # default: 3\n",
    "\n",
    "s_evidences = [4.5]\n",
    "s_crosstalks = [0]\n",
    "digits = [\"D\"+str(d) for d in [2,4,6,8][:n_different_digits]]\n",
    "operations = ['SIMPLE','CHAINED_ADD','CHAINED_SUB'][:n_different_operations]\n",
    "n_seeds = 20\n",
    "# starting_seed = np.random.randint(99999)\n",
    "# seeds = range(starting_seed,n_seeds+starting_seed)\n",
    "seeds = np.random.randint(99999, size=(n_seeds)) if RANDOM_SEED else range(n_seeds)\n",
    "n_per_condition = n_blocks_per_operation * n_trials_per_digit\n",
    "param_ranges = [seeds, s_evidences, s_crosstalks, digits, operations]\n",
    "iterable_param_ranges = [seeds, s_evidences, s_crosstalks]\n",
    "dependent_variables = ['RTs','feedbacks']\n",
    "results = {var: np.zeros((n_per_condition,)+tuple(len(pr) for pr in param_ranges)) for var in dependent_variables}\n",
    "counts = np.zeros(tuple(len(pr) for pr in param_ranges), dtype=int)\n",
    "\n",
    "for conditions_idx in list(itertools.product(*tuple(range(len(pr)) for pr in iterable_param_ranges))):\n",
    "    seed, s_evidence, s_crosstalk = [pr[conditions_idx[i]] for i,pr in enumerate(iterable_param_ranges)] # get parameter values\n",
    "    xp = create_xp(n_blocks_per_operation, n_trials_per_digit, n_different_digits, n_different_operations, STIM_DURATION)\n",
    "    result = ExperimentRun().run(\n",
    "        n_neurons_scale=N_NEURONS_SCALE,\n",
    "        s_crosstalk=s_crosstalk,\n",
    "        s_evidence=s_evidence,\n",
    "        vocab=create_vocab(D, seed),\n",
    "        xp=xp,\n",
    "        proc_feedback=PROC_FDBCK,\n",
    "        GW_feedback=GW_FDBCK,\n",
    "        GW_scale=GW_SCALE,\n",
    "        BG_thr=BG_THR,\n",
    "        BG_bias=BG_BIAS,\n",
    "        seed=seed,\n",
    "        backend=\"nengo_ocl\",\n",
    "        data_filename='test'\n",
    "    )\n",
    "    \n",
    "    for i,trial in enumerate(xp.trials):\n",
    "        trial_conditions_idx = conditions_idx+(trial.stimulus_idx, trial.operation_idx)\n",
    "        trial_condition_count = counts[trial_conditions_idx]\n",
    "        \n",
    "        for var in dependent_variables:\n",
    "            results[var][(trial_condition_count,)+trial_conditions_idx] = result[var][i]\n",
    "\n",
    "        counts[trial_conditions_idx] += 1 # increment count of this condition\n",
    "    \n"
   ]
  },
  {
   "cell_type": "code",
   "execution_count": null,
   "metadata": {},
   "outputs": [],
   "source": [
    "results_copy = np.copy(results)"
   ]
  },
  {
   "cell_type": "code",
   "execution_count": null,
   "metadata": {},
   "outputs": [],
   "source": [
    "# np.save('big_results.npy', results)\n",
    "# np.save('bigger_net_results.npy', results)\n",
    "# results1 = np.load('new_results.npy', allow_pickle=True)[()]\n",
    "# results2 = np.load('big_results.npy', allow_pickle=True)[()]\n",
    "\n",
    "# results = {k:np.concatenate((results1[k],results2[k]), axis=1) for k in dependent_variables}\n",
    "# results = np.load('new_results.npy', allow_pickle=True)[()]"
   ]
  },
  {
   "cell_type": "code",
   "execution_count": null,
   "metadata": {},
   "outputs": [],
   "source": [
    "# [n_per_condition, seeds, s_evidences, s_crosstalks, digits, operations]\n",
    "print(results['feedbacks'].shape)\n",
    "focus_results = {k:v[:,:,0,0,:,0] for k,v in results.items()}\n",
    "print(focus_results['feedbacks'].shape)\n",
    "focus_results = {k:np.reshape(v, (-1,)+v.shape[2:]) for k,v in focus_results.items()}\n",
    "print(focus_results['feedbacks'].shape)\n"
   ]
  },
  {
   "cell_type": "markdown",
   "metadata": {},
   "source": [
    "## Simple blocks plot"
   ]
  },
  {
   "cell_type": "code",
   "execution_count": null,
   "metadata": {},
   "outputs": [],
   "source": [
    "RTs_simple = np.copy(focus_results['RTs'][:,:]) * 1000\n",
    "print('Removing', np.count_nonzero(RTs_simple==xp.trial_length * 1000), 'outliers (no answer)')\n",
    "for digit_RTs in RTs_simple:\n",
    "    digit_RTs = digit_RTs[digit_RTs != xp.trial_length * 1000] # remove outliers (no answer)\n",
    "    digit_RTs = digit_RTs[digit_RTs != xp.trial_length] # remove outliers (no answer)\n",
    "print(RTs_simple.shape)\n",
    "RTs_simple_median = np.median(RTs_simple, axis=0)\n",
    "RTs_simple_sem = sem(RTs_simple, axis=0)\n",
    "print(RTs_simple_median.shape)\n",
    "plt.errorbar([2,4,6,8][:n_different_digits], RTs_simple_median, yerr=RTs_simple_sem, color='black', capsize=3, capthick=2, marker='.', markersize=12, markerfacecolor='white')\n",
    "plt.ylabel('Median Reaction times (ms)')\n",
    "plt.xlabel('Stimuli')\n",
    "plt.xticks([2,4,6,8][:n_different_digits])\n",
    "plt.show()\n",
    "\n",
    "print(RTs_simple_median)\n",
    "\n",
    "\n",
    "\n",
    "\n",
    "for unresponsive_as_error in [False,True]:\n",
    "\n",
    "    if unresponsive_as_error:\n",
    "        performance_simple = np.copy(focus_results['feedbacks'][:,:])\n",
    "        err_simple = np.sum(performance_simple != 2, axis=0) / performance_simple.shape[0] * 100\n",
    "        plt.title('Errors and absence of response')\n",
    "        \n",
    "    else:\n",
    "        performance_simple = np.copy(focus_results['feedbacks'][:,:])\n",
    "        n_responsive = np.sum(performance_simple!=0) # count the number of responses\n",
    "        err_simple = np.sum(performance_simple == 1, axis=0) / n_responsive * 100\n",
    "        plt.title('Errors')\n",
    "\n",
    "    print(err_simple.shape)\n",
    "    plt.bar([2,4,6,8][:n_different_digits], err_simple, color='black')\n",
    "    plt.ylabel('Error rates (%)')\n",
    "    plt.xlabel('Stimuli')\n",
    "    plt.xticks([2,4,6,8][:n_different_digits])\n",
    "    plt.ylim(bottom=0)\n",
    "    plt.show()\n",
    "        "
   ]
  },
  {
   "cell_type": "code",
   "execution_count": 1,
   "metadata": {},
   "outputs": [
    {
     "ename": "NameError",
     "evalue": "name 'np' is not defined",
     "output_type": "error",
     "traceback": [
      "\u001b[0;31m---------------------------------------------------------------------------\u001b[0m",
      "\u001b[0;31mNameError\u001b[0m                                 Traceback (most recent call last)",
      "\u001b[0;32m<ipython-input-1-3cf0969ef9d0>\u001b[0m in \u001b[0;36m<module>\u001b[0;34m\u001b[0m\n\u001b[1;32m      1\u001b[0m \u001b[0;31m# approximate means from figure 1 (estimated by)\u001b[0m\u001b[0;34m\u001b[0m\u001b[0;34m\u001b[0m\u001b[0;34m\u001b[0m\u001b[0m\n\u001b[0;32m----> 2\u001b[0;31m \u001b[0moriginal_a\u001b[0m \u001b[0;34m=\u001b[0m \u001b[0mnp\u001b[0m\u001b[0;34m.\u001b[0m\u001b[0marray\u001b[0m\u001b[0;34m(\u001b[0m\u001b[0;34m[\u001b[0m\u001b[0;36m95\u001b[0m\u001b[0;34m,\u001b[0m\u001b[0;36m80\u001b[0m\u001b[0;34m,\u001b[0m\u001b[0;36m72\u001b[0m\u001b[0;34m,\u001b[0m\u001b[0;36m59\u001b[0m\u001b[0;34m,\u001b[0m\u001b[0;36m77\u001b[0m\u001b[0;34m,\u001b[0m\u001b[0;36m42\u001b[0m\u001b[0;34m,\u001b[0m\u001b[0;36m31\u001b[0m\u001b[0;34m,\u001b[0m\u001b[0;36m28\u001b[0m\u001b[0;34m,\u001b[0m\u001b[0;36m22\u001b[0m\u001b[0;34m,\u001b[0m\u001b[0;36m18\u001b[0m\u001b[0;34m,\u001b[0m\u001b[0;36m21\u001b[0m\u001b[0;34m,\u001b[0m\u001b[0;36m19\u001b[0m\u001b[0;34m,\u001b[0m\u001b[0;36m30\u001b[0m\u001b[0;34m,\u001b[0m\u001b[0;36m10\u001b[0m\u001b[0;34m,\u001b[0m\u001b[0;36m8\u001b[0m\u001b[0;34m,\u001b[0m\u001b[0;36m10\u001b[0m\u001b[0;34m,\u001b[0m\u001b[0;36m37\u001b[0m\u001b[0;34m,\u001b[0m\u001b[0;36m10\u001b[0m\u001b[0;34m,\u001b[0m\u001b[0;36m10\u001b[0m\u001b[0;34m,\u001b[0m\u001b[0;36m12\u001b[0m\u001b[0;34m,\u001b[0m\u001b[0;36m18\u001b[0m\u001b[0;34m,\u001b[0m\u001b[0;36m17\u001b[0m\u001b[0;34m,\u001b[0m\u001b[0;36m18\u001b[0m\u001b[0;34m,\u001b[0m\u001b[0;36m9\u001b[0m\u001b[0;34m,\u001b[0m\u001b[0;36m19\u001b[0m\u001b[0;34m,\u001b[0m\u001b[0;36m10\u001b[0m\u001b[0;34m,\u001b[0m\u001b[0;36m9\u001b[0m\u001b[0;34m,\u001b[0m\u001b[0;36m9\u001b[0m\u001b[0;34m,\u001b[0m\u001b[0;36m80\u001b[0m\u001b[0;34m,\u001b[0m\u001b[0;36m23\u001b[0m\u001b[0;34m,\u001b[0m\u001b[0;36m24\u001b[0m\u001b[0;34m,\u001b[0m\u001b[0;36m17\u001b[0m\u001b[0;34m,\u001b[0m\u001b[0;36m30\u001b[0m\u001b[0;34m,\u001b[0m\u001b[0;36m18\u001b[0m\u001b[0;34m,\u001b[0m\u001b[0;36m17\u001b[0m\u001b[0;34m,\u001b[0m\u001b[0;36m10\u001b[0m\u001b[0;34m]\u001b[0m\u001b[0;34m)\u001b[0m\u001b[0;34m\u001b[0m\u001b[0;34m\u001b[0m\u001b[0m\n\u001b[0m\u001b[1;32m      3\u001b[0m \u001b[0moriginal_b\u001b[0m \u001b[0;34m=\u001b[0m \u001b[0mnp\u001b[0m\u001b[0;34m.\u001b[0m\u001b[0marray\u001b[0m\u001b[0;34m(\u001b[0m\u001b[0;34m[\u001b[0m\u001b[0;36m95\u001b[0m\u001b[0;34m,\u001b[0m\u001b[0;36m65\u001b[0m\u001b[0;34m,\u001b[0m\u001b[0;36m37\u001b[0m\u001b[0;34m,\u001b[0m\u001b[0;36m26\u001b[0m\u001b[0;34m,\u001b[0m\u001b[0;36m70\u001b[0m\u001b[0;34m,\u001b[0m\u001b[0;36m34\u001b[0m\u001b[0;34m,\u001b[0m\u001b[0;36m22\u001b[0m\u001b[0;34m,\u001b[0m\u001b[0;36m18\u001b[0m\u001b[0;34m,\u001b[0m\u001b[0;36m55\u001b[0m\u001b[0;34m,\u001b[0m\u001b[0;36m20\u001b[0m\u001b[0;34m,\u001b[0m\u001b[0;36m10\u001b[0m\u001b[0;34m,\u001b[0m\u001b[0;36m15\u001b[0m\u001b[0;34m,\u001b[0m\u001b[0;36m75\u001b[0m\u001b[0;34m,\u001b[0m\u001b[0;36m20\u001b[0m\u001b[0;34m,\u001b[0m\u001b[0;36m12\u001b[0m\u001b[0;34m,\u001b[0m\u001b[0;36m10\u001b[0m\u001b[0;34m,\u001b[0m\u001b[0;36m48\u001b[0m\u001b[0;34m,\u001b[0m\u001b[0;36m12\u001b[0m\u001b[0;34m,\u001b[0m\u001b[0;36m10\u001b[0m\u001b[0;34m,\u001b[0m\u001b[0;36m9\u001b[0m\u001b[0;34m,\u001b[0m\u001b[0;36m60\u001b[0m\u001b[0;34m,\u001b[0m\u001b[0;36m10\u001b[0m\u001b[0;34m,\u001b[0m\u001b[0;36m8\u001b[0m\u001b[0;34m,\u001b[0m\u001b[0;36m9\u001b[0m\u001b[0;34m,\u001b[0m\u001b[0;36m63\u001b[0m\u001b[0;34m,\u001b[0m\u001b[0;36m15\u001b[0m\u001b[0;34m,\u001b[0m\u001b[0;36m15\u001b[0m\u001b[0;34m,\u001b[0m\u001b[0;36m9\u001b[0m\u001b[0;34m,\u001b[0m\u001b[0;36m55\u001b[0m\u001b[0;34m,\u001b[0m\u001b[0;36m10\u001b[0m\u001b[0;34m,\u001b[0m\u001b[0;36m8\u001b[0m\u001b[0;34m,\u001b[0m\u001b[0;36m9\u001b[0m\u001b[0;34m,\u001b[0m\u001b[0;36m77\u001b[0m\u001b[0;34m,\u001b[0m\u001b[0;36m18\u001b[0m\u001b[0;34m,\u001b[0m\u001b[0;36m9\u001b[0m\u001b[0;34m,\u001b[0m\u001b[0;36m8\u001b[0m\u001b[0;34m]\u001b[0m\u001b[0;34m)\u001b[0m\u001b[0;34m\u001b[0m\u001b[0;34m\u001b[0m\u001b[0m\n\u001b[1;32m      4\u001b[0m \u001b[0;34m\u001b[0m\u001b[0m\n\u001b[1;32m      5\u001b[0m \u001b[0;32mdef\u001b[0m \u001b[0mevaluation_function\u001b[0m\u001b[0;34m(\u001b[0m\u001b[0mparams\u001b[0m\u001b[0;34m,\u001b[0m \u001b[0ma\u001b[0m\u001b[0;34m=\u001b[0m\u001b[0;32mTrue\u001b[0m\u001b[0;34m,\u001b[0m \u001b[0mb\u001b[0m\u001b[0;34m=\u001b[0m\u001b[0;32mTrue\u001b[0m\u001b[0;34m,\u001b[0m \u001b[0mn_seeds\u001b[0m\u001b[0;34m=\u001b[0m\u001b[0;36m2\u001b[0m\u001b[0;34m,\u001b[0m \u001b[0mn_days\u001b[0m\u001b[0;34m=\u001b[0m\u001b[0;36m9\u001b[0m\u001b[0;34m,\u001b[0m \u001b[0mn_trials_per_day\u001b[0m\u001b[0;34m=\u001b[0m\u001b[0;36m4\u001b[0m\u001b[0;34m,\u001b[0m \u001b[0mfull_output\u001b[0m\u001b[0;34m=\u001b[0m\u001b[0;32mFalse\u001b[0m\u001b[0;34m)\u001b[0m\u001b[0;34m:\u001b[0m\u001b[0;34m\u001b[0m\u001b[0;34m\u001b[0m\u001b[0m\n",
      "\u001b[0;31mNameError\u001b[0m: name 'np' is not defined"
     ]
    }
   ],
   "source": [
    "digits = [\"D\"+str(d) for d in [2,4,6,8][:n_different_digits]]\n",
    "operations = ['SIMPLE','CHAINED_ADD','CHAINED_SUB'][:n_different_operations]\n",
    "\n",
    "def evaluation_function(params, n_seeds=2, starting_seed=0):\n",
    "    \n",
    "    print(\"params:\", params)\n",
    "    errors = []\n",
    "\n",
    "    \n",
    "    print('Simulating...')\n",
    "    for i,seed in enumerate(range(starting_seed, starting_seed+n_seeds)):\n",
    "        print('\\t seed '+str(i)+'/'+str(n_seeds))\n",
    "        xp = create_xp(n_blocks_per_operation, n_trials_per_digit, n_different_digits, n_different_operations, STIM_DURATION)\n",
    "        data = ExperimentRun().run(\n",
    "            n_neurons_scale=N_NEURONS_SCALE,\n",
    "            s_crosstalk=params[0],\n",
    "            s_evidence=params[1],\n",
    "            t_senso=params[2],\n",
    "            vocab=create_vocab(D, seed),\n",
    "            xp=xp,\n",
    "            proc_feedback=PROC_FDBCK,\n",
    "            GW_feedback=GW_FDBCK,\n",
    "            GW_scale=GW_SCALE,\n",
    "            BG_thr=BG_THR,\n",
    "            BG_bias=BG_BIAS,\n",
    "            seed=seed,\n",
    "            backend=\"nengo_ocl\",\n",
    "            data_filename='data/run_seed'+str(seed)+'_scross'+str(params[0])+'_sevid'+str(params[1])+'_tsenso'+str(params[2])\n",
    "        )\n",
    "        errors.append(data.fitness_error)\n",
    "        \n",
    "    return np.mean(errors)\n",
    "    \n"
   ]
  },
  {
   "cell_type": "code",
   "execution_count": 2,
   "metadata": {},
   "outputs": [
    {
     "ename": "NameError",
     "evalue": "name 'brute' is not defined",
     "output_type": "error",
     "traceback": [
      "\u001b[0;31m---------------------------------------------------------------------------\u001b[0m",
      "\u001b[0;31mNameError\u001b[0m                                 Traceback (most recent call last)",
      "\u001b[0;32m<ipython-input-2-4b51ac443f19>\u001b[0m in \u001b[0;36m<module>\u001b[0;34m\u001b[0m\n\u001b[1;32m      3\u001b[0m \u001b[0;31m# optimize eta and gamma\u001b[0m\u001b[0;34m\u001b[0m\u001b[0;34m\u001b[0m\u001b[0;34m\u001b[0m\u001b[0m\n\u001b[1;32m      4\u001b[0m \u001b[0mrange_bound\u001b[0m \u001b[0;34m=\u001b[0m \u001b[0;36m10e-5\u001b[0m\u001b[0;34m\u001b[0m\u001b[0;34m\u001b[0m\u001b[0m\n\u001b[0;32m----> 5\u001b[0;31m x0, fval, grid, jout = brute(evaluation_function, \n\u001b[0m\u001b[1;32m      6\u001b[0m                              \u001b[0;34m(\u001b[0m\u001b[0;34m(\u001b[0m\u001b[0;36m.01\u001b[0m\u001b[0;34m,\u001b[0m\u001b[0;36m.025\u001b[0m\u001b[0;34m)\u001b[0m\u001b[0;34m,\u001b[0m \u001b[0;34m(\u001b[0m\u001b[0;36m.8\u001b[0m\u001b[0;34m,\u001b[0m \u001b[0;36m1\u001b[0m\u001b[0;34m-\u001b[0m\u001b[0mrange_bound\u001b[0m\u001b[0;34m)\u001b[0m\u001b[0;34m)\u001b[0m\u001b[0;34m,\u001b[0m\u001b[0;34m\u001b[0m\u001b[0;34m\u001b[0m\u001b[0m\n\u001b[1;32m      7\u001b[0m                              \u001b[0margs\u001b[0m\u001b[0;34m=\u001b[0m\u001b[0;34m(\u001b[0m\u001b[0;32mTrue\u001b[0m\u001b[0;34m,\u001b[0m \u001b[0;32mFalse\u001b[0m\u001b[0;34m,\u001b[0m \u001b[0mn_seeds\u001b[0m\u001b[0;34m)\u001b[0m\u001b[0;34m,\u001b[0m\u001b[0;34m\u001b[0m\u001b[0;34m\u001b[0m\u001b[0m\n",
      "\u001b[0;31mNameError\u001b[0m: name 'brute' is not defined"
     ]
    }
   ],
   "source": [
    "n_seeds = 2\n",
    "\n",
    "x0, fval, grid, jout = brute(\n",
    "    evaluation_function, \n",
    "    (\n",
    "        (0, 1.5), # bound for s_crosstalk\n",
    "        (0, 15), # bound for s_evidence\n",
    "        (0,.5), # bound for t_senso (in seconds)\n",
    "    )\n",
    "    Ns=10, \n",
    "    full_output=True\n",
    ")"
   ]
  },
  {
   "cell_type": "code",
   "execution_count": 5,
   "metadata": {},
   "outputs": [
    {
     "name": "stdout",
     "output_type": "stream",
     "text": [
      "[0. 0.]\n"
     ]
    }
   ],
   "source": [
    "print(np.zeros(2))"
   ]
  },
  {
   "cell_type": "code",
   "execution_count": null,
   "metadata": {},
   "outputs": [],
   "source": []
  }
 ],
 "metadata": {
  "kernelspec": {
   "display_name": "Python 3",
   "language": "python",
   "name": "python3"
  },
  "language_info": {
   "codemirror_mode": {
    "name": "ipython",
    "version": 3
   },
   "file_extension": ".py",
   "mimetype": "text/x-python",
   "name": "python",
   "nbconvert_exporter": "python",
   "pygments_lexer": "ipython3",
   "version": "3.7.5"
  }
 },
 "nbformat": 4,
 "nbformat_minor": 2
}
