{
 "cells": [
  {
   "cell_type": "code",
   "execution_count": 1,
   "metadata": {},
   "outputs": [],
   "source": [
    "import nengo\n",
    "import nengo_spa as spa\n",
    "import pytry\n",
    "import numpy as np\n",
    "from random import shuffle\n",
    "import random\n",
    "import sys, os\n",
    "import math\n",
    "from IPython import display\n",
    "from scipy.optimize import brute, minimize\n",
    "import pandas as pd\n",
    "\n",
    "\n",
    "# Import our classes\n",
    "sys.path.append('..')\n",
    "import experiments as xps\n",
    "from model import ExperimentRun\n",
    "from data import Data\n",
    "\n",
    "def create_vocab(D, seed):\n",
    "    vocab = spa.Vocabulary(dimensions=D, pointer_gen=np.random.RandomState(seed))\n",
    "    digits = ['D'+str(i+1) for i in range(10)]\n",
    "    r = np.random.RandomState(seed)\n",
    "    r.shuffle(digits) # avoid any bias in similarity\n",
    "    vocab.populate(';'.join(digits))\n",
    "    keys = ['FIXATE', 'MASK', \\\n",
    "               'MORE','LESS', \\\n",
    "               'GET','SET', \\\n",
    "    'SIMPLE', 'CHAINED_ADD', 'CHAINED_SUB']\n",
    "    vocab.populate(\";\".join(keys))\n",
    "    \n",
    "    vocab.populate('SOURCE ; CONTENT ;'+\n",
    "                      'V ; COM ; ADD ; SUB ; M')\n",
    "    vocab.populate(\";\".join([p+\"_SOURCE=(SOURCE*\"+p+\").normalized()\" for p in ['V', 'COM', 'ADD', 'SUB']])) # this is done to avoid similarity with other SPs\n",
    "    return vocab\n",
    "\n",
    "def create_xp(n_blocks_per_operation, n_trials_per_digit, n_different_digits, n_different_operations, stim_duration):\n",
    "    trials = xps.createTrials(n_blocks_per_operation, n_trials_per_digit, n_different_digits, n_different_operations, shuffle=True)\n",
    "    return xps.Xp1(0, trials, stim_duration=stim_duration)"
   ]
  },
  {
   "cell_type": "markdown",
   "metadata": {},
   "source": [
    "# Optimization and model parameters"
   ]
  },
  {
   "cell_type": "code",
   "execution_count": 2,
   "metadata": {},
   "outputs": [],
   "source": [
    "D = int(192)  # the dimensionality of the vectors\n",
    "PROC_FDBCK = .5\n",
    "GW_FDBCK = .95 # but synapse is shorter than for perfect storage\n",
    "GW_SCALE = 20 # scale the input of GW for saturation and catching very short visual stimuli\n",
    "BG_THR = .1\n",
    "BG_BIAS = .5\n",
    "STIM_DURATION = .1\n",
    "N_NEURONS_SCALE = 1\n",
    "N_SEEDS = 5\n",
    "STARTING_SEED = 1\n",
    "\n",
    "N_BLOCKS_PER_OPERATION = 1 # default: 10\n",
    "N_TRIALS_PER_DIGIT = 2 # default: 5\n",
    "N_DIFFERENT_DIGITS = 4 # default: 4\n",
    "N_DIFFERENT_OPERATIONS = 3 # default: 3\n"
   ]
  },
  {
   "cell_type": "code",
   "execution_count": 3,
   "metadata": {},
   "outputs": [],
   "source": [
    "def evaluation_function(params):\n",
    "    \n",
    "    print(\"params:\", params)\n",
    "    data = []\n",
    "\n",
    "    \n",
    "    print('Simulating...')\n",
    "    for i,seed in enumerate(range(STARTING_SEED, STARTING_SEED+N_SEEDS)):\n",
    "        print('\\t seed '+str(i+1)+'/'+str(N_SEEDS))\n",
    "        data_filename = 'run_seed'+str(seed)+'_scross'+str(params[0])+'_sevid'+str(params[1])#+'_tsenso'+str(params[2])\n",
    "        \n",
    "        xp = create_xp(N_BLOCKS_PER_OPERATION, N_TRIALS_PER_DIGIT, N_DIFFERENT_DIGITS, N_DIFFERENT_OPERATIONS, STIM_DURATION)\n",
    "        results = ExperimentRun().run(\n",
    "            n_neurons_scale=N_NEURONS_SCALE,\n",
    "            s_crosstalk=params[0],\n",
    "            s_evidence=params[1],\n",
    "            t_senso=.175,#params[2],\n",
    "            vocab=create_vocab(D, seed),\n",
    "            xp=xp,\n",
    "            proc_feedback=PROC_FDBCK,\n",
    "            GW_feedback=GW_FDBCK,\n",
    "            GW_scale=GW_SCALE,\n",
    "            BG_thr=BG_THR,\n",
    "            BG_bias=BG_BIAS,\n",
    "            seed=seed,\n",
    "            backend=\"nengo_ocl\",\n",
    "            data_filename=data_filename\n",
    "        )\n",
    "        \n",
    "        results['data'].df.to_pickle('./data/'+data_filename+'.csv')\n",
    "        data.append(results['data'].df)\n",
    "        \n",
    "        \n",
    "        \n",
    "    data = Data(pd.concat(data))\n",
    "    fitness_error = data.fitness_error\n",
    "    print('error:', fitness_error)\n",
    "    return fitness_error\n",
    "    \n"
   ]
  },
  {
   "cell_type": "code",
   "execution_count": null,
   "metadata": {},
   "outputs": [
    {
     "name": "stdout",
     "output_type": "stream",
     "text": [
      "params: [0. 0.]\n",
      "Simulating...\n",
      "\t seed 1/5\n",
      "running run_seed1_scross0.0_sevid0.0\n",
      "No context argument was provided to nengo_ocl.Simulator\n",
      "Calling pyopencl.create_some_context() for you now:\n"
     ]
    },
    {
     "data": {
      "text/html": [
       "\n",
       "                <div id=\"fdedc9d0-1300-4891-8a70-d5f3e45a1660\" style=\"\n",
       "                    width: 100%;\n",
       "                    border: 1px solid #cfcfcf;\n",
       "                    border-radius: 4px;\n",
       "                    text-align: center;\n",
       "                    position: relative;\">\n",
       "                  <div class=\"pb-text\" style=\"\n",
       "                      position: absolute;\n",
       "                      width: 100%;\">\n",
       "                    0%\n",
       "                  </div>\n",
       "                  <div class=\"pb-fill\" style=\"\n",
       "                      background-color: #bdd2e6;\n",
       "                      width: 0%;\">\n",
       "                    <style type=\"text/css\" scoped=\"scoped\">\n",
       "                        @keyframes pb-fill-anim {\n",
       "                            0% { background-position: 0 0; }\n",
       "                            100% { background-position: 100px 0; }\n",
       "                        }\n",
       "                    </style>\n",
       "                    &nbsp;\n",
       "                  </div>\n",
       "                </div>"
      ],
      "text/plain": [
       "HtmlProgressBar cannot be displayed. Please use the TerminalProgressBar. It can be enabled with `nengo.rc.set('progress', 'progress_bar', 'nengo.utils.progress.TerminalProgressBar')`."
      ]
     },
     "metadata": {},
     "output_type": "display_data"
    },
    {
     "data": {
      "application/javascript": [
       "\n",
       "              (function () {\n",
       "                  var root = document.getElementById('fdedc9d0-1300-4891-8a70-d5f3e45a1660');\n",
       "                  var text = root.getElementsByClassName('pb-text')[0];\n",
       "                  var fill = root.getElementsByClassName('pb-fill')[0];\n",
       "\n",
       "                  text.innerHTML = 'Simulation finished in 0:02:08.';\n",
       "                  \n",
       "            if (100.0 > 0.) {\n",
       "                fill.style.transition = 'width 0.1s linear';\n",
       "            } else {\n",
       "                fill.style.transition = 'none';\n",
       "            }\n",
       "\n",
       "            fill.style.width = '100.0%';\n",
       "            fill.style.animation = 'none';\n",
       "            fill.style.backgroundImage = 'none'\n",
       "        \n",
       "                  \n",
       "                fill.style.animation = 'none';\n",
       "                fill.style.backgroundImage = 'none';\n",
       "            \n",
       "              })();\n",
       "        "
      ],
      "text/plain": [
       "<IPython.core.display.Javascript object>"
      ]
     },
     "metadata": {},
     "output_type": "display_data"
    },
    {
     "name": "stdout",
     "output_type": "stream",
     "text": [
      "seed = 1\n",
      "backend = 'nengo_ocl'\n",
      "dt = 0.001\n",
      "neuron_type = 'default'\n",
      "n_neurons_scale = 1\n",
      "s_crosstalk = 0.0\n",
      "s_evidence = 0.0\n",
      "t_senso = 0.175\n",
      "vocab = <nengo_spa.vocabulary.Vocabulary object at 0x7f31ebefe290>\n",
      "xp = <experiments.Xp1 object at 0x7f31ebf1fc90>\n",
      "proc_feedback = 0.5\n",
      "GW_feedback = 0.95\n",
      "GW_scale = 20\n",
      "BG_thr = 0.1\n",
      "BG_bias = 0.5\n",
      "data = <data.Data object at 0x7f31e1ee5910>\n",
      "\t seed 2/5\n",
      "running run_seed2_scross0.0_sevid0.0\n"
     ]
    },
    {
     "data": {
      "text/html": [
       "\n",
       "                <div id=\"4539957c-bb1d-441e-aed4-82348dd3fee2\" style=\"\n",
       "                    width: 100%;\n",
       "                    border: 1px solid #cfcfcf;\n",
       "                    border-radius: 4px;\n",
       "                    text-align: center;\n",
       "                    position: relative;\">\n",
       "                  <div class=\"pb-text\" style=\"\n",
       "                      position: absolute;\n",
       "                      width: 100%;\">\n",
       "                    0%\n",
       "                  </div>\n",
       "                  <div class=\"pb-fill\" style=\"\n",
       "                      background-color: #bdd2e6;\n",
       "                      width: 0%;\">\n",
       "                    <style type=\"text/css\" scoped=\"scoped\">\n",
       "                        @keyframes pb-fill-anim {\n",
       "                            0% { background-position: 0 0; }\n",
       "                            100% { background-position: 100px 0; }\n",
       "                        }\n",
       "                    </style>\n",
       "                    &nbsp;\n",
       "                  </div>\n",
       "                </div>"
      ],
      "text/plain": [
       "HtmlProgressBar cannot be displayed. Please use the TerminalProgressBar. It can be enabled with `nengo.rc.set('progress', 'progress_bar', 'nengo.utils.progress.TerminalProgressBar')`."
      ]
     },
     "metadata": {},
     "output_type": "display_data"
    },
    {
     "data": {
      "application/javascript": [
       "\n",
       "              (function () {\n",
       "                  var root = document.getElementById('4539957c-bb1d-441e-aed4-82348dd3fee2');\n",
       "                  var text = root.getElementsByClassName('pb-text')[0];\n",
       "                  var fill = root.getElementsByClassName('pb-fill')[0];\n",
       "\n",
       "                  text.innerHTML = 'Simulation finished in 0:01:57.';\n",
       "                  \n",
       "            if (100.0 > 0.) {\n",
       "                fill.style.transition = 'width 0.1s linear';\n",
       "            } else {\n",
       "                fill.style.transition = 'none';\n",
       "            }\n",
       "\n",
       "            fill.style.width = '100.0%';\n",
       "            fill.style.animation = 'none';\n",
       "            fill.style.backgroundImage = 'none'\n",
       "        \n",
       "                  \n",
       "                fill.style.animation = 'none';\n",
       "                fill.style.backgroundImage = 'none';\n",
       "            \n",
       "              })();\n",
       "        "
      ],
      "text/plain": [
       "<IPython.core.display.Javascript object>"
      ]
     },
     "metadata": {},
     "output_type": "display_data"
    },
    {
     "name": "stdout",
     "output_type": "stream",
     "text": [
      "seed = 2\n",
      "backend = 'nengo_ocl'\n",
      "dt = 0.001\n",
      "neuron_type = 'default'\n",
      "n_neurons_scale = 1\n",
      "s_crosstalk = 0.0\n",
      "s_evidence = 0.0\n",
      "t_senso = 0.175\n",
      "vocab = <nengo_spa.vocabulary.Vocabulary object at 0x7f321833a850>\n",
      "xp = <experiments.Xp1 object at 0x7f31ebb7b8d0>\n",
      "proc_feedback = 0.5\n",
      "GW_feedback = 0.95\n",
      "GW_scale = 20\n",
      "BG_thr = 0.1\n",
      "BG_bias = 0.5\n",
      "data = <data.Data object at 0x7f31eb964a10>\n",
      "\t seed 3/5\n",
      "running run_seed3_scross0.0_sevid0.0\n"
     ]
    },
    {
     "data": {
      "text/html": [
       "\n",
       "                <div id=\"7bcac9f1-a703-41f9-af22-15e9bbbb28df\" style=\"\n",
       "                    width: 100%;\n",
       "                    border: 1px solid #cfcfcf;\n",
       "                    border-radius: 4px;\n",
       "                    text-align: center;\n",
       "                    position: relative;\">\n",
       "                  <div class=\"pb-text\" style=\"\n",
       "                      position: absolute;\n",
       "                      width: 100%;\">\n",
       "                    0%\n",
       "                  </div>\n",
       "                  <div class=\"pb-fill\" style=\"\n",
       "                      background-color: #bdd2e6;\n",
       "                      width: 0%;\">\n",
       "                    <style type=\"text/css\" scoped=\"scoped\">\n",
       "                        @keyframes pb-fill-anim {\n",
       "                            0% { background-position: 0 0; }\n",
       "                            100% { background-position: 100px 0; }\n",
       "                        }\n",
       "                    </style>\n",
       "                    &nbsp;\n",
       "                  </div>\n",
       "                </div>"
      ],
      "text/plain": [
       "HtmlProgressBar cannot be displayed. Please use the TerminalProgressBar. It can be enabled with `nengo.rc.set('progress', 'progress_bar', 'nengo.utils.progress.TerminalProgressBar')`."
      ]
     },
     "metadata": {},
     "output_type": "display_data"
    },
    {
     "data": {
      "application/javascript": [
       "\n",
       "              (function () {\n",
       "                  var root = document.getElementById('7bcac9f1-a703-41f9-af22-15e9bbbb28df');\n",
       "                  var text = root.getElementsByClassName('pb-text')[0];\n",
       "                  var fill = root.getElementsByClassName('pb-fill')[0];\n",
       "\n",
       "                  text.innerHTML = 'Simulation finished in 0:02:06.';\n",
       "                  \n",
       "            if (100.0 > 0.) {\n",
       "                fill.style.transition = 'width 0.1s linear';\n",
       "            } else {\n",
       "                fill.style.transition = 'none';\n",
       "            }\n",
       "\n",
       "            fill.style.width = '100.0%';\n",
       "            fill.style.animation = 'none';\n",
       "            fill.style.backgroundImage = 'none'\n",
       "        \n",
       "                  \n",
       "                fill.style.animation = 'none';\n",
       "                fill.style.backgroundImage = 'none';\n",
       "            \n",
       "              })();\n",
       "        "
      ],
      "text/plain": [
       "<IPython.core.display.Javascript object>"
      ]
     },
     "metadata": {},
     "output_type": "display_data"
    },
    {
     "name": "stdout",
     "output_type": "stream",
     "text": [
      "seed = 3\n",
      "backend = 'nengo_ocl'\n",
      "dt = 0.001\n",
      "neuron_type = 'default'\n",
      "n_neurons_scale = 1\n",
      "s_crosstalk = 0.0\n",
      "s_evidence = 0.0\n",
      "t_senso = 0.175\n",
      "vocab = <nengo_spa.vocabulary.Vocabulary object at 0x7f31e1de4410>\n",
      "xp = <experiments.Xp1 object at 0x7f31e1dd8fd0>\n",
      "proc_feedback = 0.5\n",
      "GW_feedback = 0.95\n",
      "GW_scale = 20\n",
      "BG_thr = 0.1\n",
      "BG_bias = 0.5\n",
      "data = <data.Data object at 0x7f31eb58e2d0>\n",
      "\t seed 4/5\n",
      "running run_seed4_scross0.0_sevid0.0\n"
     ]
    },
    {
     "data": {
      "text/html": [
       "\n",
       "                <div id=\"86a19545-35ac-470f-a0f7-fba688341826\" style=\"\n",
       "                    width: 100%;\n",
       "                    border: 1px solid #cfcfcf;\n",
       "                    border-radius: 4px;\n",
       "                    text-align: center;\n",
       "                    position: relative;\">\n",
       "                  <div class=\"pb-text\" style=\"\n",
       "                      position: absolute;\n",
       "                      width: 100%;\">\n",
       "                    0%\n",
       "                  </div>\n",
       "                  <div class=\"pb-fill\" style=\"\n",
       "                      background-color: #bdd2e6;\n",
       "                      width: 0%;\">\n",
       "                    <style type=\"text/css\" scoped=\"scoped\">\n",
       "                        @keyframes pb-fill-anim {\n",
       "                            0% { background-position: 0 0; }\n",
       "                            100% { background-position: 100px 0; }\n",
       "                        }\n",
       "                    </style>\n",
       "                    &nbsp;\n",
       "                  </div>\n",
       "                </div>"
      ],
      "text/plain": [
       "HtmlProgressBar cannot be displayed. Please use the TerminalProgressBar. It can be enabled with `nengo.rc.set('progress', 'progress_bar', 'nengo.utils.progress.TerminalProgressBar')`."
      ]
     },
     "metadata": {},
     "output_type": "display_data"
    },
    {
     "data": {
      "application/javascript": [
       "\n",
       "              (function () {\n",
       "                  var root = document.getElementById('86a19545-35ac-470f-a0f7-fba688341826');\n",
       "                  var text = root.getElementsByClassName('pb-text')[0];\n",
       "                  var fill = root.getElementsByClassName('pb-fill')[0];\n",
       "\n",
       "                  text.innerHTML = 'Simulation finished in 0:02:00.';\n",
       "                  \n",
       "            if (100.0 > 0.) {\n",
       "                fill.style.transition = 'width 0.1s linear';\n",
       "            } else {\n",
       "                fill.style.transition = 'none';\n",
       "            }\n",
       "\n",
       "            fill.style.width = '100.0%';\n",
       "            fill.style.animation = 'none';\n",
       "            fill.style.backgroundImage = 'none'\n",
       "        \n",
       "                  \n",
       "                fill.style.animation = 'none';\n",
       "                fill.style.backgroundImage = 'none';\n",
       "            \n",
       "              })();\n",
       "        "
      ],
      "text/plain": [
       "<IPython.core.display.Javascript object>"
      ]
     },
     "metadata": {},
     "output_type": "display_data"
    },
    {
     "name": "stdout",
     "output_type": "stream",
     "text": [
      "seed = 4\n",
      "backend = 'nengo_ocl'\n",
      "dt = 0.001\n",
      "neuron_type = 'default'\n",
      "n_neurons_scale = 1\n",
      "s_crosstalk = 0.0\n",
      "s_evidence = 0.0\n",
      "t_senso = 0.175\n",
      "vocab = <nengo_spa.vocabulary.Vocabulary object at 0x7f31afa65f90>\n",
      "xp = <experiments.Xp1 object at 0x7f31eb529d90>\n",
      "proc_feedback = 0.5\n",
      "GW_feedback = 0.95\n",
      "GW_scale = 20\n",
      "BG_thr = 0.1\n",
      "BG_bias = 0.5\n",
      "data = <data.Data object at 0x7f31b028db10>\n",
      "\t seed 5/5\n",
      "running run_seed5_scross0.0_sevid0.0\n"
     ]
    },
    {
     "data": {
      "text/html": [
       "\n",
       "                <div id=\"ba91b57e-957f-4587-9d4e-7f9fd46f4dd0\" style=\"\n",
       "                    width: 100%;\n",
       "                    border: 1px solid #cfcfcf;\n",
       "                    border-radius: 4px;\n",
       "                    text-align: center;\n",
       "                    position: relative;\">\n",
       "                  <div class=\"pb-text\" style=\"\n",
       "                      position: absolute;\n",
       "                      width: 100%;\">\n",
       "                    0%\n",
       "                  </div>\n",
       "                  <div class=\"pb-fill\" style=\"\n",
       "                      background-color: #bdd2e6;\n",
       "                      width: 0%;\">\n",
       "                    <style type=\"text/css\" scoped=\"scoped\">\n",
       "                        @keyframes pb-fill-anim {\n",
       "                            0% { background-position: 0 0; }\n",
       "                            100% { background-position: 100px 0; }\n",
       "                        }\n",
       "                    </style>\n",
       "                    &nbsp;\n",
       "                  </div>\n",
       "                </div>"
      ],
      "text/plain": [
       "HtmlProgressBar cannot be displayed. Please use the TerminalProgressBar. It can be enabled with `nengo.rc.set('progress', 'progress_bar', 'nengo.utils.progress.TerminalProgressBar')`."
      ]
     },
     "metadata": {},
     "output_type": "display_data"
    },
    {
     "data": {
      "application/javascript": [
       "\n",
       "              (function () {\n",
       "                  var root = document.getElementById('ba91b57e-957f-4587-9d4e-7f9fd46f4dd0');\n",
       "                  var text = root.getElementsByClassName('pb-text')[0];\n",
       "                  var fill = root.getElementsByClassName('pb-fill')[0];\n",
       "\n",
       "                  text.innerHTML = 'Simulation finished in 0:01:59.';\n",
       "                  \n",
       "            if (100.0 > 0.) {\n",
       "                fill.style.transition = 'width 0.1s linear';\n",
       "            } else {\n",
       "                fill.style.transition = 'none';\n",
       "            }\n",
       "\n",
       "            fill.style.width = '100.0%';\n",
       "            fill.style.animation = 'none';\n",
       "            fill.style.backgroundImage = 'none'\n",
       "        \n",
       "                  \n",
       "                fill.style.animation = 'none';\n",
       "                fill.style.backgroundImage = 'none';\n",
       "            \n",
       "              })();\n",
       "        "
      ],
      "text/plain": [
       "<IPython.core.display.Javascript object>"
      ]
     },
     "metadata": {},
     "output_type": "display_data"
    },
    {
     "name": "stdout",
     "output_type": "stream",
     "text": [
      "seed = 5\n",
      "backend = 'nengo_ocl'\n",
      "dt = 0.001\n",
      "neuron_type = 'default'\n",
      "n_neurons_scale = 1\n",
      "s_crosstalk = 0.0\n",
      "s_evidence = 0.0\n",
      "t_senso = 0.175\n",
      "vocab = <nengo_spa.vocabulary.Vocabulary object at 0x7f31b028d4d0>\n",
      "xp = <experiments.Xp1 object at 0x7f31eb529c10>\n",
      "proc_feedback = 0.5\n",
      "GW_feedback = 0.95\n",
      "GW_scale = 20\n",
      "BG_thr = 0.1\n",
      "BG_bias = 0.5\n",
      "data = <data.Data object at 0x7f31b02ba2d0>\n"
     ]
    },
    {
     "name": "stderr",
     "output_type": "stream",
     "text": [
      "../data.py:38: RuntimeWarning: invalid value encountered in true_divide\n",
      "  return np.sum(np.where(p != 0, p * np.log(p / q), 0))\n",
      "../data.py:38: RuntimeWarning: divide by zero encountered in log\n",
      "  return np.sum(np.where(p != 0, p * np.log(p / q), 0))\n",
      "../data.py:38: RuntimeWarning: invalid value encountered in multiply\n",
      "  return np.sum(np.where(p != 0, p * np.log(p / q), 0))\n"
     ]
    },
    {
     "name": "stdout",
     "output_type": "stream",
     "text": [
      "error: 95.83167960294685\n",
      "params: [0.   3.75]\n",
      "Simulating...\n",
      "\t seed 1/5\n",
      "running run_seed1_scross0.0_sevid3.75\n"
     ]
    },
    {
     "data": {
      "text/html": [
       "\n",
       "                <div id=\"fd55199e-e04e-485d-87eb-3f2dbbaa08ab\" style=\"\n",
       "                    width: 100%;\n",
       "                    border: 1px solid #cfcfcf;\n",
       "                    border-radius: 4px;\n",
       "                    text-align: center;\n",
       "                    position: relative;\">\n",
       "                  <div class=\"pb-text\" style=\"\n",
       "                      position: absolute;\n",
       "                      width: 100%;\">\n",
       "                    0%\n",
       "                  </div>\n",
       "                  <div class=\"pb-fill\" style=\"\n",
       "                      background-color: #bdd2e6;\n",
       "                      width: 0%;\">\n",
       "                    <style type=\"text/css\" scoped=\"scoped\">\n",
       "                        @keyframes pb-fill-anim {\n",
       "                            0% { background-position: 0 0; }\n",
       "                            100% { background-position: 100px 0; }\n",
       "                        }\n",
       "                    </style>\n",
       "                    &nbsp;\n",
       "                  </div>\n",
       "                </div>"
      ],
      "text/plain": [
       "HtmlProgressBar cannot be displayed. Please use the TerminalProgressBar. It can be enabled with `nengo.rc.set('progress', 'progress_bar', 'nengo.utils.progress.TerminalProgressBar')`."
      ]
     },
     "metadata": {},
     "output_type": "display_data"
    },
    {
     "data": {
      "application/javascript": [
       "\n",
       "              (function () {\n",
       "                  var root = document.getElementById('fd55199e-e04e-485d-87eb-3f2dbbaa08ab');\n",
       "                  var text = root.getElementsByClassName('pb-text')[0];\n",
       "                  var fill = root.getElementsByClassName('pb-fill')[0];\n",
       "\n",
       "                  text.innerHTML = 'Simulation finished in 0:02:52.';\n",
       "                  \n",
       "            if (100.0 > 0.) {\n",
       "                fill.style.transition = 'width 0.1s linear';\n",
       "            } else {\n",
       "                fill.style.transition = 'none';\n",
       "            }\n",
       "\n",
       "            fill.style.width = '100.0%';\n",
       "            fill.style.animation = 'none';\n",
       "            fill.style.backgroundImage = 'none'\n",
       "        \n",
       "                  \n",
       "                fill.style.animation = 'none';\n",
       "                fill.style.backgroundImage = 'none';\n",
       "            \n",
       "              })();\n",
       "        "
      ],
      "text/plain": [
       "<IPython.core.display.Javascript object>"
      ]
     },
     "metadata": {},
     "output_type": "display_data"
    },
    {
     "name": "stdout",
     "output_type": "stream",
     "text": [
      "seed = 1\n",
      "backend = 'nengo_ocl'\n",
      "dt = 0.001\n",
      "neuron_type = 'default'\n",
      "n_neurons_scale = 1\n",
      "s_crosstalk = 0.0\n",
      "s_evidence = 3.75\n",
      "t_senso = 0.175\n",
      "vocab = <nengo_spa.vocabulary.Vocabulary object at 0x7f3198572290>\n",
      "xp = <experiments.Xp1 object at 0x7f3198572dd0>\n",
      "proc_feedback = 0.5\n",
      "GW_feedback = 0.95\n",
      "GW_scale = 20\n",
      "BG_thr = 0.1\n",
      "BG_bias = 0.5\n",
      "data = <data.Data object at 0x7f31b07c0a90>\n",
      "\t seed 2/5\n",
      "running run_seed2_scross0.0_sevid3.75\n"
     ]
    },
    {
     "data": {
      "text/html": [
       "\n",
       "                <div id=\"db7c1a62-0caf-47c6-9c44-110fd3bcf212\" style=\"\n",
       "                    width: 100%;\n",
       "                    border: 1px solid #cfcfcf;\n",
       "                    border-radius: 4px;\n",
       "                    text-align: center;\n",
       "                    position: relative;\">\n",
       "                  <div class=\"pb-text\" style=\"\n",
       "                      position: absolute;\n",
       "                      width: 100%;\">\n",
       "                    0%\n",
       "                  </div>\n",
       "                  <div class=\"pb-fill\" style=\"\n",
       "                      background-color: #bdd2e6;\n",
       "                      width: 0%;\">\n",
       "                    <style type=\"text/css\" scoped=\"scoped\">\n",
       "                        @keyframes pb-fill-anim {\n",
       "                            0% { background-position: 0 0; }\n",
       "                            100% { background-position: 100px 0; }\n",
       "                        }\n",
       "                    </style>\n",
       "                    &nbsp;\n",
       "                  </div>\n",
       "                </div>"
      ],
      "text/plain": [
       "HtmlProgressBar cannot be displayed. Please use the TerminalProgressBar. It can be enabled with `nengo.rc.set('progress', 'progress_bar', 'nengo.utils.progress.TerminalProgressBar')`."
      ]
     },
     "metadata": {},
     "output_type": "display_data"
    },
    {
     "data": {
      "application/javascript": [
       "\n",
       "              (function () {\n",
       "                  var root = document.getElementById('db7c1a62-0caf-47c6-9c44-110fd3bcf212');\n",
       "                  var text = root.getElementsByClassName('pb-text')[0];\n",
       "                  var fill = root.getElementsByClassName('pb-fill')[0];\n",
       "\n",
       "                  text.innerHTML = 'Simulation finished in 0:02:52.';\n",
       "                  \n",
       "            if (100.0 > 0.) {\n",
       "                fill.style.transition = 'width 0.1s linear';\n",
       "            } else {\n",
       "                fill.style.transition = 'none';\n",
       "            }\n",
       "\n",
       "            fill.style.width = '100.0%';\n",
       "            fill.style.animation = 'none';\n",
       "            fill.style.backgroundImage = 'none'\n",
       "        \n",
       "                  \n",
       "                fill.style.animation = 'none';\n",
       "                fill.style.backgroundImage = 'none';\n",
       "            \n",
       "              })();\n",
       "        "
      ],
      "text/plain": [
       "<IPython.core.display.Javascript object>"
      ]
     },
     "metadata": {},
     "output_type": "display_data"
    },
    {
     "name": "stdout",
     "output_type": "stream",
     "text": [
      "seed = 2\n",
      "backend = 'nengo_ocl'\n",
      "dt = 0.001\n",
      "neuron_type = 'default'\n",
      "n_neurons_scale = 1\n",
      "s_crosstalk = 0.0\n",
      "s_evidence = 3.75\n",
      "t_senso = 0.175\n",
      "vocab = <nengo_spa.vocabulary.Vocabulary object at 0x7f31b0d3ac90>\n",
      "xp = <experiments.Xp1 object at 0x7f31afab4050>\n",
      "proc_feedback = 0.5\n",
      "GW_feedback = 0.95\n",
      "GW_scale = 20\n",
      "BG_thr = 0.1\n",
      "BG_bias = 0.5\n",
      "data = <data.Data object at 0x7f319864ce50>\n",
      "\t seed 3/5\n",
      "running run_seed3_scross0.0_sevid3.75\n"
     ]
    },
    {
     "data": {
      "text/html": [
       "\n",
       "                <div id=\"c1d91f80-78f1-4f28-b0ed-8b09c80f5358\" style=\"\n",
       "                    width: 100%;\n",
       "                    border: 1px solid #cfcfcf;\n",
       "                    border-radius: 4px;\n",
       "                    text-align: center;\n",
       "                    position: relative;\">\n",
       "                  <div class=\"pb-text\" style=\"\n",
       "                      position: absolute;\n",
       "                      width: 100%;\">\n",
       "                    0%\n",
       "                  </div>\n",
       "                  <div class=\"pb-fill\" style=\"\n",
       "                      background-color: #bdd2e6;\n",
       "                      width: 0%;\">\n",
       "                    <style type=\"text/css\" scoped=\"scoped\">\n",
       "                        @keyframes pb-fill-anim {\n",
       "                            0% { background-position: 0 0; }\n",
       "                            100% { background-position: 100px 0; }\n",
       "                        }\n",
       "                    </style>\n",
       "                    &nbsp;\n",
       "                  </div>\n",
       "                </div>"
      ],
      "text/plain": [
       "HtmlProgressBar cannot be displayed. Please use the TerminalProgressBar. It can be enabled with `nengo.rc.set('progress', 'progress_bar', 'nengo.utils.progress.TerminalProgressBar')`."
      ]
     },
     "metadata": {},
     "output_type": "display_data"
    },
    {
     "data": {
      "application/javascript": [
       "\n",
       "              (function () {\n",
       "                  var root = document.getElementById('c1d91f80-78f1-4f28-b0ed-8b09c80f5358');\n",
       "                  var text = root.getElementsByClassName('pb-text')[0];\n",
       "                  var fill = root.getElementsByClassName('pb-fill')[0];\n",
       "\n",
       "                  text.innerHTML = 'Simulation finished in 0:02:56.';\n",
       "                  \n",
       "            if (100.0 > 0.) {\n",
       "                fill.style.transition = 'width 0.1s linear';\n",
       "            } else {\n",
       "                fill.style.transition = 'none';\n",
       "            }\n",
       "\n",
       "            fill.style.width = '100.0%';\n",
       "            fill.style.animation = 'none';\n",
       "            fill.style.backgroundImage = 'none'\n",
       "        \n",
       "                  \n",
       "                fill.style.animation = 'none';\n",
       "                fill.style.backgroundImage = 'none';\n",
       "            \n",
       "              })();\n",
       "        "
      ],
      "text/plain": [
       "<IPython.core.display.Javascript object>"
      ]
     },
     "metadata": {},
     "output_type": "display_data"
    },
    {
     "name": "stdout",
     "output_type": "stream",
     "text": [
      "seed = 3\n",
      "backend = 'nengo_ocl'\n",
      "dt = 0.001\n",
      "neuron_type = 'default'\n",
      "n_neurons_scale = 1\n",
      "s_crosstalk = 0.0\n",
      "s_evidence = 3.75\n",
      "t_senso = 0.175\n",
      "vocab = <nengo_spa.vocabulary.Vocabulary object at 0x7f319861f890>\n",
      "xp = <experiments.Xp1 object at 0x7f31b0d3a990>\n",
      "proc_feedback = 0.5\n",
      "GW_feedback = 0.95\n",
      "GW_scale = 20\n",
      "BG_thr = 0.1\n",
      "BG_bias = 0.5\n",
      "data = <data.Data object at 0x7f31ea4d5dd0>\n",
      "\t seed 4/5\n",
      "running run_seed4_scross0.0_sevid3.75\n"
     ]
    },
    {
     "data": {
      "text/html": [
       "\n",
       "                <div id=\"94e3673c-f3df-4a27-9fbd-8e7dd9059f61\" style=\"\n",
       "                    width: 100%;\n",
       "                    border: 1px solid #cfcfcf;\n",
       "                    border-radius: 4px;\n",
       "                    text-align: center;\n",
       "                    position: relative;\">\n",
       "                  <div class=\"pb-text\" style=\"\n",
       "                      position: absolute;\n",
       "                      width: 100%;\">\n",
       "                    0%\n",
       "                  </div>\n",
       "                  <div class=\"pb-fill\" style=\"\n",
       "                      background-color: #bdd2e6;\n",
       "                      width: 0%;\">\n",
       "                    <style type=\"text/css\" scoped=\"scoped\">\n",
       "                        @keyframes pb-fill-anim {\n",
       "                            0% { background-position: 0 0; }\n",
       "                            100% { background-position: 100px 0; }\n",
       "                        }\n",
       "                    </style>\n",
       "                    &nbsp;\n",
       "                  </div>\n",
       "                </div>"
      ],
      "text/plain": [
       "HtmlProgressBar cannot be displayed. Please use the TerminalProgressBar. It can be enabled with `nengo.rc.set('progress', 'progress_bar', 'nengo.utils.progress.TerminalProgressBar')`."
      ]
     },
     "metadata": {},
     "output_type": "display_data"
    },
    {
     "data": {
      "application/javascript": [
       "\n",
       "              (function () {\n",
       "                  var root = document.getElementById('94e3673c-f3df-4a27-9fbd-8e7dd9059f61');\n",
       "                  var text = root.getElementsByClassName('pb-text')[0];\n",
       "                  var fill = root.getElementsByClassName('pb-fill')[0];\n",
       "\n",
       "                  text.innerHTML = 'Simulation finished in 0:02:53.';\n",
       "                  \n",
       "            if (100.0 > 0.) {\n",
       "                fill.style.transition = 'width 0.1s linear';\n",
       "            } else {\n",
       "                fill.style.transition = 'none';\n",
       "            }\n",
       "\n",
       "            fill.style.width = '100.0%';\n",
       "            fill.style.animation = 'none';\n",
       "            fill.style.backgroundImage = 'none'\n",
       "        \n",
       "                  \n",
       "                fill.style.animation = 'none';\n",
       "                fill.style.backgroundImage = 'none';\n",
       "            \n",
       "              })();\n",
       "        "
      ],
      "text/plain": [
       "<IPython.core.display.Javascript object>"
      ]
     },
     "metadata": {},
     "output_type": "display_data"
    },
    {
     "name": "stdout",
     "output_type": "stream",
     "text": [
      "seed = 4\n",
      "backend = 'nengo_ocl'\n",
      "dt = 0.001\n",
      "neuron_type = 'default'\n",
      "n_neurons_scale = 1\n",
      "s_crosstalk = 0.0\n",
      "s_evidence = 3.75\n",
      "t_senso = 0.175\n",
      "vocab = <nengo_spa.vocabulary.Vocabulary object at 0x7f31eb28be90>\n",
      "xp = <experiments.Xp1 object at 0x7f319864c410>\n",
      "proc_feedback = 0.5\n",
      "GW_feedback = 0.95\n",
      "GW_scale = 20\n",
      "BG_thr = 0.1\n",
      "BG_bias = 0.5\n",
      "data = <data.Data object at 0x7f31eb921610>\n",
      "\t seed 5/5\n",
      "running run_seed5_scross0.0_sevid3.75\n"
     ]
    }
   ],
   "source": [
    "x0, fval, grid, jout = brute(\n",
    "    evaluation_function, \n",
    "    (\n",
    "        (0, 1.5), # bound for s_crosstalk\n",
    "        (0, 15), # bound for s_evidence\n",
    "        #(0,.5), # bound for t_senso (in seconds)\n",
    "    ),\n",
    "    Ns=5, \n",
    "    full_output=True\n",
    ")"
   ]
  },
  {
   "cell_type": "code",
   "execution_count": null,
   "metadata": {},
   "outputs": [],
   "source": [
    "print(x0, fval, grid, jout)\n",
    "np.save(\"./data/x0\", x0)\n",
    "np.save(\"./data/fval\", fval)\n",
    "np.save(\"./data/grid\", grid)\n",
    "np.save(\"./data/jout\", jout)"
   ]
  },
  {
   "cell_type": "code",
   "execution_count": null,
   "metadata": {},
   "outputs": [],
   "source": []
  }
 ],
 "metadata": {
  "kernelspec": {
   "display_name": "Python 3",
   "language": "python",
   "name": "python3"
  },
  "language_info": {
   "codemirror_mode": {
    "name": "ipython",
    "version": 3
   },
   "file_extension": ".py",
   "mimetype": "text/x-python",
   "name": "python",
   "nbconvert_exporter": "python",
   "pygments_lexer": "ipython3",
   "version": "3.7.5"
  }
 },
 "nbformat": 4,
 "nbformat_minor": 2
}
