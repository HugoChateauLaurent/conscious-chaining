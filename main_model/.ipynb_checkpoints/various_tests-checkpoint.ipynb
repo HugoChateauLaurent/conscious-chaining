{
 "cells": [
  {
   "cell_type": "code",
   "execution_count": 1,
   "metadata": {},
   "outputs": [],
   "source": [
    "import sys\n",
    "import pandas as pd\n",
    "sys.path.append('..')\n",
    "from data import Data, SackurData\n"
   ]
  },
  {
   "cell_type": "code",
   "execution_count": 2,
   "metadata": {
    "scrolled": false
   },
   "outputs": [
    {
     "name": "stderr",
     "output_type": "stream",
     "text": [
      "../data.py:38: RuntimeWarning: invalid value encountered in true_divide\n",
      "  return np.sum(np.where(p != 0, p * np.log(p / q), 0))\n"
     ]
    },
    {
     "data": {
      "text/plain": [
       "0.0"
      ]
     },
     "execution_count": 2,
     "metadata": {},
     "output_type": "execute_result"
    }
   ],
   "source": [
    "sd = Data(SackurData().main)\n",
    "sd.fitness_error"
   ]
  },
  {
   "cell_type": "code",
   "execution_count": 3,
   "metadata": {},
   "outputs": [],
   "source": [
    "import numpy as np"
   ]
  },
  {
   "cell_type": "code",
   "execution_count": 4,
   "metadata": {},
   "outputs": [
    {
     "name": "stdout",
     "output_type": "stream",
     "text": [
      "{1: [1, 2, 3], 'strd': 'yo', (1, 4, 'str'): 3.5, 5: 3}\n"
     ]
    }
   ],
   "source": [
    "np.save('test', {1:[1,2,3], \"strd\":'yo', (1,4,\"str\"):3.5, 5:3})\n",
    "print(np.load('test.npy', allow_pickle=True))"
   ]
  },
  {
   "cell_type": "code",
   "execution_count": 5,
   "metadata": {},
   "outputs": [],
   "source": [
    "data = Data(pd.read_pickle('./data/run_seed1_scross0.0_sevid0.0.csv'))\n"
   ]
  },
  {
   "cell_type": "code",
   "execution_count": 7,
   "metadata": {},
   "outputs": [
    {
     "name": "stdout",
     "output_type": "stream",
     "text": [
      "    suj  ses  rule  stim  acc   rt   cg  target  action\n",
      "0   1.0  2.0   0.0   8.0  0.0  2.1  1.0     8.0     0.0\n",
      "1   1.0  2.0  -2.0   8.0  0.0  2.1  1.0     6.0     0.0\n",
      "2   1.0  2.0  -2.0   6.0  0.0  2.1 -1.0     4.0     0.0\n",
      "3   1.0  2.0   2.0   8.0  0.0  2.1 -1.0     2.0     0.0\n",
      "4   1.0  2.0   2.0   6.0  0.0  2.1  1.0     8.0     0.0\n",
      "5   1.0  2.0   0.0   8.0  0.0  2.1  1.0     8.0     0.0\n",
      "6   1.0  2.0   2.0   8.0  0.0  2.1 -1.0     2.0     0.0\n",
      "7   1.0  2.0   0.0   4.0  0.0  2.1  1.0     4.0     0.0\n",
      "8   1.0  2.0  -2.0   4.0  0.0  2.1  1.0     2.0     0.0\n",
      "9   1.0  2.0   0.0   4.0  0.0  2.1  1.0     4.0     0.0\n",
      "10  1.0  2.0   0.0   2.0  0.0  2.1  1.0     2.0     0.0\n",
      "11  1.0  2.0   2.0   2.0  0.0  2.1  1.0     4.0     0.0\n",
      "12  1.0  2.0   2.0   6.0  0.0  2.1  1.0     8.0     0.0\n",
      "13  1.0  2.0  -2.0   2.0  0.0  2.1 -1.0     8.0     0.0\n",
      "14  1.0  2.0  -2.0   2.0  0.0  2.1 -1.0     8.0     0.0\n",
      "15  1.0  2.0   0.0   6.0  0.0  2.1  1.0     6.0     0.0\n",
      "16  1.0  2.0   0.0   2.0  0.0  2.1  1.0     2.0     0.0\n",
      "17  1.0  2.0  -2.0   8.0  0.0  2.1  1.0     6.0     0.0\n",
      "18  1.0  2.0   0.0   6.0  0.0  2.1  1.0     6.0     0.0\n",
      "19  1.0  2.0  -2.0   4.0  0.0  2.1  1.0     2.0     0.0\n",
      "20  1.0  2.0   2.0   2.0  0.0  2.1  1.0     4.0     0.0\n",
      "21  1.0  2.0   2.0   4.0  0.0  2.1 -1.0     6.0     0.0\n",
      "22  1.0  2.0   2.0   4.0  0.0  2.1 -1.0     6.0     0.0\n",
      "23  1.0  2.0  -2.0   6.0  0.0  2.1 -1.0     4.0     0.0\n"
     ]
    }
   ],
   "source": [
    "print(data.df)"
   ]
  },
  {
   "cell_type": "code",
   "execution_count": null,
   "metadata": {},
   "outputs": [],
   "source": []
  }
 ],
 "metadata": {
  "kernelspec": {
   "display_name": "CTN",
   "language": "python",
   "name": "ctn"
  },
  "language_info": {
   "codemirror_mode": {
    "name": "ipython",
    "version": 3
   },
   "file_extension": ".py",
   "mimetype": "text/x-python",
   "name": "python",
   "nbconvert_exporter": "python",
   "pygments_lexer": "ipython3",
   "version": "3.7.5"
  }
 },
 "nbformat": 4,
 "nbformat_minor": 2
}
