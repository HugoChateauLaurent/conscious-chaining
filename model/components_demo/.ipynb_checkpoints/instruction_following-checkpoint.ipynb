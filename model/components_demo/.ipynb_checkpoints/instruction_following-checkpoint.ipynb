{
 "cells": [
  {
   "cell_type": "code",
   "execution_count": 2,
   "metadata": {},
   "outputs": [],
   "source": [
    "import nengo\n",
    "import nengo_spa as spa\n",
    "import numpy as np\n",
    "import sys\n",
    "\n",
    "# Import our classes\n",
    "sys.path.append('..')\n",
    "from modules import *\n",
    "from vocabs import *\n",
    "\n",
    "# Select Nengo simulator\n",
    "backend = 'nengo_ocl'\n",
    "if backend=='nengo_ocl':\n",
    "    import nengo_ocl\n",
    "    simulator_cls = nengo_ocl.Simulator\n",
    "elif backend=='nengo_dl':\n",
    "    import nengo_dl\n",
    "    simulator_cls = nengo_dl.Simulator\n",
    "else:\n",
    "    simulator_cls = nengo.Simulator\n",
    "    \n",
    "\n",
    "\n",
    "import matplotlib.pyplot as plt\n",
    "import matplotlib.patches as mpatches\n",
    "from matplotlib.colors import ListedColormap\n",
    "from cycler import cycler\n",
    "%matplotlib inline\n",
    "\n",
    "# color-blind accessibility\n",
    "default_cycler = cycler('color', ['#006BA4', '#FF800E', '#ABABAB', '#595959', '#5F9ED1', '#C85200', '#898989', '#A2C8EC', '#FFBC79', '#CFCFCF'])\n",
    "plt.rc('axes', prop_cycle=(default_cycler))\n"
   ]
  },
  {
   "cell_type": "code",
   "execution_count": 3,
   "metadata": {},
   "outputs": [
    {
     "ename": "SyntaxError",
     "evalue": "invalid syntax (<ipython-input-3-e9e042f55a47>, line 13)",
     "output_type": "error",
     "traceback": [
      "\u001b[0;36m  File \u001b[0;32m\"<ipython-input-3-e9e042f55a47>\"\u001b[0;36m, line \u001b[0;32m13\u001b[0m\n\u001b[0;31m    output_vocab=vocab\u001b[0m\n\u001b[0m               ^\u001b[0m\n\u001b[0;31mSyntaxError\u001b[0m\u001b[0;31m:\u001b[0m invalid syntax\n"
     ]
    }
   ],
   "source": [
    "D = 64\n",
    "vocab = create_vocab(D, key_range(1,11,1) + ['D0=D1*~D1'] + ['GET_V ; GET_COM ; GET_ADD ; SET_COM ; SET_ADD ; SET_M'])\n",
    "                \n",
    "with spa.Network() as model:\n",
    "    \n",
    "    input_INSTRUCTIONS = spa.Transcode(\n",
    "        lambda t: '\\\n",
    "                D1 * (GET_V) +\\\n",
    "                D2 * (GET_ADD + SET_ADD) +\\\n",
    "                D3 * (GET_COM + SET_COM) + \\\n",
    "                D4 * (SET_M) \\\n",
    "            ',\n",
    "        output_vocab=vocab\n",
    "    )\n",
    "    POS = WM(100, vocab)\n",
    "    clean_POS = spa.WTAAssocMem(\n",
    "        threshold=.2,\n",
    "        input_vocab=POS.vocab,\n",
    "        mapping=['D1','D2','D3','D4'],\n",
    "        n_neurons=50,\n",
    "        function=lambda x: x>0\n",
    "    )\n",
    "    nengo.Connection(POS.output, clean_POS.input)\n",
    "    INCREMENT = WM(100, vocab)\n",
    "\n",
    "    PRIM = spa.Bind(neurons_per_dimension=200, vocab=vocab, unbind_right=True)\n",
    "    GET_PRIM = spa.WTAAssocMem(\n",
    "        threshold=.5,\n",
    "        input_vocab=PRIM.vocab,\n",
    "        mapping=['GET_V', 'GET_COM', 'GET_ADD'],\n",
    "        n_neurons=50,\n",
    "        function=lambda x: x>0\n",
    "    )\n",
    "    SET_PRIM = spa.WTAAssocMem(\n",
    "        threshold=.5,\n",
    "        input_vocab=PRIM.vocab,\n",
    "        mapping=['SET_COM', 'SET_ADD', 'SET_M'],\n",
    "        n_neurons=50,\n",
    "        function=lambda x: x>0\n",
    "    )\n",
    "    PRIM >> GET_PRIM\n",
    "    PRIM >> SET_PRIM\n",
    "\n",
    "    input_INSTRUCTIONS >> PRIM.input_left\n",
    "    spa.translate(clean_POS, vocab) >> PRIM.input_right\n",
    "    \n",
    "with simulator_cls(model) as sim:\n",
    "    sim.run(10)"
   ]
  },
  {
   "cell_type": "code",
   "execution_count": null,
   "metadata": {},
   "outputs": [],
   "source": []
  }
 ],
 "metadata": {
  "kernelspec": {
   "display_name": "CTN",
   "language": "python",
   "name": "ctn"
  },
  "language_info": {
   "codemirror_mode": {
    "name": "ipython",
    "version": 3
   },
   "file_extension": ".py",
   "mimetype": "text/x-python",
   "name": "python",
   "nbconvert_exporter": "python",
   "pygments_lexer": "ipython3",
   "version": "3.7.5"
  }
 },
 "nbformat": 4,
 "nbformat_minor": 2
}
