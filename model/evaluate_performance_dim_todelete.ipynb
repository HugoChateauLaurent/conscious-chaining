{
 "cells": [
  {
   "cell_type": "code",
   "execution_count": 1,
   "metadata": {},
   "outputs": [],
   "source": [
    "import nengo\n",
    "import nengo_spa as spa\n",
    "import pytry\n",
    "import numpy as np\n",
    "from random import shuffle\n",
    "import random\n",
    "import sys, os\n",
    "import math\n",
    "from IPython import display\n",
    "from scipy.optimize import brute, minimize\n",
    "from scipy.stats import sem\n",
    "import pandas as pd\n",
    "import matplotlib.pyplot as plt\n",
    "import matplotlib as mpl\n",
    "import matplotlib.style as style\n",
    "\n",
    "import os\n",
    "\n",
    "\n",
    "\n",
    "# Import our classes\n",
    "sys.path.append('..')\n",
    "import experiments as xps\n",
    "from experiments import create_xp\n",
    "from model import ExperimentRun, create_vocab\n",
    "from data import Data\n",
    "\n"
   ]
  },
  {
   "cell_type": "markdown",
   "metadata": {},
   "source": [
    "# Optimization and model parameters"
   ]
  },
  {
   "cell_type": "code",
   "execution_count": 2,
   "metadata": {},
   "outputs": [],
   "source": [
    "D = int(96)  # the dimensionality of the vectors\n",
    "PROC_FDBCK = .9\n",
    "PROC_FDBCK_SYN = .005\n",
    "GW_FDBCK = 1\n",
    "GW_SCALE = 20 # scale the input of GW for saturation and catching very short visual stimuli\n",
    "BG_THR = .1\n",
    "BG_BIAS = .5\n",
    "STIM_DURATION = .1\n",
    "FIX_DURATION = .5\n",
    "N_NEURONS_SCALE = 1\n",
    "N_NEURONS_SCALE_COMBINED = .25\n",
    "S_EVIDENCE = 20\n",
    "INTEGRATOR_RESET = False\n",
    "N_SAMPLES = 10000\n",
    "\n",
    "STARTING_SEED = 1\n",
    "N_SEEDS = 5\n",
    "\n",
    "N_BLOCKS_PER_OPERATION = 1 # default: 10\n",
    "N_TRIALS_PER_DIGIT = 2 # default: 5\n",
    "N_DIFFERENT_DIGITS = 4 # default: 4\n",
    "N_DIFFERENT_OPERATIONS = 3 # default: 3\n"
   ]
  },
  {
   "cell_type": "code",
   "execution_count": 3,
   "metadata": {
    "scrolled": true
   },
   "outputs": [
    {
     "name": "stdout",
     "output_type": "stream",
     "text": [
      "params: [6.]\n",
      "Simulating...\n",
      "\t seed 1/5\n",
      "running run_seed1_dim96\n",
      "No context argument was provided to nengo_ocl.Simulator\n",
      "Calling pyopencl.create_some_context() for you now:\n"
     ]
    },
    {
     "data": {
      "text/html": [
       "\n",
       "                <div id=\"214109a1-cb7c-445a-80c0-cf257611d756\" style=\"\n",
       "                    width: 100%;\n",
       "                    border: 1px solid #cfcfcf;\n",
       "                    border-radius: 4px;\n",
       "                    text-align: center;\n",
       "                    position: relative;\">\n",
       "                  <div class=\"pb-text\" style=\"\n",
       "                      position: absolute;\n",
       "                      width: 100%;\">\n",
       "                    0%\n",
       "                  </div>\n",
       "                  <div class=\"pb-fill\" style=\"\n",
       "                      background-color: #bdd2e6;\n",
       "                      width: 0%;\">\n",
       "                    <style type=\"text/css\" scoped=\"scoped\">\n",
       "                        @keyframes pb-fill-anim {\n",
       "                            0% { background-position: 0 0; }\n",
       "                            100% { background-position: 100px 0; }\n",
       "                        }\n",
       "                    </style>\n",
       "                    &nbsp;\n",
       "                  </div>\n",
       "                </div>"
      ],
      "text/plain": [
       "HtmlProgressBar cannot be displayed. Please use the TerminalProgressBar. It can be enabled with `nengo.rc.set('progress', 'progress_bar', 'nengo.utils.progress.TerminalProgressBar')`."
      ]
     },
     "metadata": {},
     "output_type": "display_data"
    },
    {
     "data": {
      "application/javascript": [
       "\n",
       "              (function () {\n",
       "                  var root = document.getElementById('214109a1-cb7c-445a-80c0-cf257611d756');\n",
       "                  var text = root.getElementsByClassName('pb-text')[0];\n",
       "                  var fill = root.getElementsByClassName('pb-fill')[0];\n",
       "\n",
       "                  text.innerHTML = 'Simulation finished in 0:02:47.';\n",
       "                  \n",
       "            if (100.0 > 0.) {\n",
       "                fill.style.transition = 'width 0.1s linear';\n",
       "            } else {\n",
       "                fill.style.transition = 'none';\n",
       "            }\n",
       "\n",
       "            fill.style.width = '100.0%';\n",
       "            fill.style.animation = 'none';\n",
       "            fill.style.backgroundImage = 'none'\n",
       "        \n",
       "                  \n",
       "                fill.style.animation = 'none';\n",
       "                fill.style.backgroundImage = 'none';\n",
       "            \n",
       "              })();\n",
       "        "
      ],
      "text/plain": [
       "<IPython.core.display.Javascript object>"
      ]
     },
     "metadata": {},
     "output_type": "display_data"
    },
    {
     "name": "stdout",
     "output_type": "stream",
     "text": [
      "seed = 1\n",
      "backend = 'nengo_ocl'\n",
      "dt = 0.001\n",
      "neuron_type = 'default'\n",
      "n_neurons_scale = 1\n",
      "n_neurons_scale_combined = 0.25\n",
      "s_crosstalk = 0\n",
      "s_evidence = 20\n",
      "n_samples = 10000\n",
      "t_senso = 0\n",
      "vocab = <nengo_spa.vocabulary.Vocabulary object at 0x7f3fcf096890>\n",
      "xp = <experiments.Xp1 object at 0x7f3ff8b54490>\n",
      "proc_feedback = 0.9\n",
      "proc_feedback_synapse = 0.005\n",
      "GW_feedback = 1\n",
      "GW_threshold = 0.5\n",
      "GW_scale = 20\n",
      "BG_thr = 0.1\n",
      "BG_bias = 0.5\n",
      "integrator_reset = False\n",
      "data = <data.Data object at 0x7f3fceab8950>\n",
      "\t seed 2/5\n",
      "running run_seed2_dim96\n"
     ]
    },
    {
     "data": {
      "text/html": [
       "\n",
       "                <div id=\"0a9c72a3-42c7-490a-99c0-f0fb2703736a\" style=\"\n",
       "                    width: 100%;\n",
       "                    border: 1px solid #cfcfcf;\n",
       "                    border-radius: 4px;\n",
       "                    text-align: center;\n",
       "                    position: relative;\">\n",
       "                  <div class=\"pb-text\" style=\"\n",
       "                      position: absolute;\n",
       "                      width: 100%;\">\n",
       "                    0%\n",
       "                  </div>\n",
       "                  <div class=\"pb-fill\" style=\"\n",
       "                      background-color: #bdd2e6;\n",
       "                      width: 0%;\">\n",
       "                    <style type=\"text/css\" scoped=\"scoped\">\n",
       "                        @keyframes pb-fill-anim {\n",
       "                            0% { background-position: 0 0; }\n",
       "                            100% { background-position: 100px 0; }\n",
       "                        }\n",
       "                    </style>\n",
       "                    &nbsp;\n",
       "                  </div>\n",
       "                </div>"
      ],
      "text/plain": [
       "HtmlProgressBar cannot be displayed. Please use the TerminalProgressBar. It can be enabled with `nengo.rc.set('progress', 'progress_bar', 'nengo.utils.progress.TerminalProgressBar')`."
      ]
     },
     "metadata": {},
     "output_type": "display_data"
    },
    {
     "data": {
      "application/javascript": [
       "\n",
       "              (function () {\n",
       "                  var root = document.getElementById('0a9c72a3-42c7-490a-99c0-f0fb2703736a');\n",
       "                  var text = root.getElementsByClassName('pb-text')[0];\n",
       "                  var fill = root.getElementsByClassName('pb-fill')[0];\n",
       "\n",
       "                  text.innerHTML = 'Simulation finished in 0:02:54.';\n",
       "                  \n",
       "            if (100.0 > 0.) {\n",
       "                fill.style.transition = 'width 0.1s linear';\n",
       "            } else {\n",
       "                fill.style.transition = 'none';\n",
       "            }\n",
       "\n",
       "            fill.style.width = '100.0%';\n",
       "            fill.style.animation = 'none';\n",
       "            fill.style.backgroundImage = 'none'\n",
       "        \n",
       "                  \n",
       "                fill.style.animation = 'none';\n",
       "                fill.style.backgroundImage = 'none';\n",
       "            \n",
       "              })();\n",
       "        "
      ],
      "text/plain": [
       "<IPython.core.display.Javascript object>"
      ]
     },
     "metadata": {},
     "output_type": "display_data"
    },
    {
     "name": "stdout",
     "output_type": "stream",
     "text": [
      "seed = 2\n",
      "backend = 'nengo_ocl'\n",
      "dt = 0.001\n",
      "neuron_type = 'default'\n",
      "n_neurons_scale = 1\n",
      "n_neurons_scale_combined = 0.25\n",
      "s_crosstalk = 0\n",
      "s_evidence = 20\n",
      "n_samples = 10000\n",
      "t_senso = 0\n",
      "vocab = <nengo_spa.vocabulary.Vocabulary object at 0x7f3fb813c890>\n",
      "xp = <experiments.Xp1 object at 0x7f3fce7f8e10>\n",
      "proc_feedback = 0.9\n",
      "proc_feedback_synapse = 0.005\n",
      "GW_feedback = 1\n",
      "GW_threshold = 0.5\n",
      "GW_scale = 20\n",
      "BG_thr = 0.1\n",
      "BG_bias = 0.5\n",
      "integrator_reset = False\n",
      "data = <data.Data object at 0x7f3fb818bd90>\n",
      "\t seed 3/5\n",
      "running run_seed3_dim96\n"
     ]
    },
    {
     "name": "stderr",
     "output_type": "stream",
     "text": [
      "/home/ubuntu/anaconda3/envs/CTN/lib/python3.7/site-packages/nengo_spa/vocabulary.py:173: UserWarning: Could not create a semantic pointer with max_similarity=0.10 (D=96, M=20, similarity=0.11)\n",
      "  len(self._key2idx), best_sim))\n"
     ]
    },
    {
     "data": {
      "text/html": [
       "\n",
       "                <div id=\"8c125f8b-3194-4544-9e06-1c289a28ccb6\" style=\"\n",
       "                    width: 100%;\n",
       "                    border: 1px solid #cfcfcf;\n",
       "                    border-radius: 4px;\n",
       "                    text-align: center;\n",
       "                    position: relative;\">\n",
       "                  <div class=\"pb-text\" style=\"\n",
       "                      position: absolute;\n",
       "                      width: 100%;\">\n",
       "                    0%\n",
       "                  </div>\n",
       "                  <div class=\"pb-fill\" style=\"\n",
       "                      background-color: #bdd2e6;\n",
       "                      width: 0%;\">\n",
       "                    <style type=\"text/css\" scoped=\"scoped\">\n",
       "                        @keyframes pb-fill-anim {\n",
       "                            0% { background-position: 0 0; }\n",
       "                            100% { background-position: 100px 0; }\n",
       "                        }\n",
       "                    </style>\n",
       "                    &nbsp;\n",
       "                  </div>\n",
       "                </div>"
      ],
      "text/plain": [
       "HtmlProgressBar cannot be displayed. Please use the TerminalProgressBar. It can be enabled with `nengo.rc.set('progress', 'progress_bar', 'nengo.utils.progress.TerminalProgressBar')`."
      ]
     },
     "metadata": {},
     "output_type": "display_data"
    },
    {
     "data": {
      "application/javascript": [
       "\n",
       "              (function () {\n",
       "                  var root = document.getElementById('8c125f8b-3194-4544-9e06-1c289a28ccb6');\n",
       "                  var text = root.getElementsByClassName('pb-text')[0];\n",
       "                  var fill = root.getElementsByClassName('pb-fill')[0];\n",
       "\n",
       "                  text.innerHTML = 'Simulation finished in 0:02:59.';\n",
       "                  \n",
       "            if (100.0 > 0.) {\n",
       "                fill.style.transition = 'width 0.1s linear';\n",
       "            } else {\n",
       "                fill.style.transition = 'none';\n",
       "            }\n",
       "\n",
       "            fill.style.width = '100.0%';\n",
       "            fill.style.animation = 'none';\n",
       "            fill.style.backgroundImage = 'none'\n",
       "        \n",
       "                  \n",
       "                fill.style.animation = 'none';\n",
       "                fill.style.backgroundImage = 'none';\n",
       "            \n",
       "              })();\n",
       "        "
      ],
      "text/plain": [
       "<IPython.core.display.Javascript object>"
      ]
     },
     "metadata": {},
     "output_type": "display_data"
    },
    {
     "name": "stdout",
     "output_type": "stream",
     "text": [
      "seed = 3\n",
      "backend = 'nengo_ocl'\n",
      "dt = 0.001\n",
      "neuron_type = 'default'\n",
      "n_neurons_scale = 1\n",
      "n_neurons_scale_combined = 0.25\n",
      "s_crosstalk = 0\n",
      "s_evidence = 20\n",
      "n_samples = 10000\n",
      "t_senso = 0\n",
      "vocab = <nengo_spa.vocabulary.Vocabulary object at 0x7f3fce44d590>\n",
      "xp = <experiments.Xp1 object at 0x7f3fb8146dd0>\n",
      "proc_feedback = 0.9\n",
      "proc_feedback_synapse = 0.005\n",
      "GW_feedback = 1\n",
      "GW_threshold = 0.5\n",
      "GW_scale = 20\n",
      "BG_thr = 0.1\n",
      "BG_bias = 0.5\n",
      "integrator_reset = False\n",
      "data = <data.Data object at 0x7f3fce128850>\n",
      "\t seed 4/5\n",
      "running run_seed4_dim96\n"
     ]
    },
    {
     "name": "stderr",
     "output_type": "stream",
     "text": [
      "/home/ubuntu/anaconda3/envs/CTN/lib/python3.7/site-packages/nengo_spa/vocabulary.py:173: UserWarning: Could not create a semantic pointer with max_similarity=0.10 (D=96, M=19, similarity=0.11)\n",
      "  len(self._key2idx), best_sim))\n"
     ]
    },
    {
     "data": {
      "text/html": [
       "\n",
       "                <div id=\"9866d644-1e71-4e53-be62-72e6a752b3b0\" style=\"\n",
       "                    width: 100%;\n",
       "                    border: 1px solid #cfcfcf;\n",
       "                    border-radius: 4px;\n",
       "                    text-align: center;\n",
       "                    position: relative;\">\n",
       "                  <div class=\"pb-text\" style=\"\n",
       "                      position: absolute;\n",
       "                      width: 100%;\">\n",
       "                    0%\n",
       "                  </div>\n",
       "                  <div class=\"pb-fill\" style=\"\n",
       "                      background-color: #bdd2e6;\n",
       "                      width: 0%;\">\n",
       "                    <style type=\"text/css\" scoped=\"scoped\">\n",
       "                        @keyframes pb-fill-anim {\n",
       "                            0% { background-position: 0 0; }\n",
       "                            100% { background-position: 100px 0; }\n",
       "                        }\n",
       "                    </style>\n",
       "                    &nbsp;\n",
       "                  </div>\n",
       "                </div>"
      ],
      "text/plain": [
       "HtmlProgressBar cannot be displayed. Please use the TerminalProgressBar. It can be enabled with `nengo.rc.set('progress', 'progress_bar', 'nengo.utils.progress.TerminalProgressBar')`."
      ]
     },
     "metadata": {},
     "output_type": "display_data"
    },
    {
     "data": {
      "application/javascript": [
       "\n",
       "              (function () {\n",
       "                  var root = document.getElementById('9866d644-1e71-4e53-be62-72e6a752b3b0');\n",
       "                  var text = root.getElementsByClassName('pb-text')[0];\n",
       "                  var fill = root.getElementsByClassName('pb-fill')[0];\n",
       "\n",
       "                  text.innerHTML = 'Simulation finished in 0:03:05.';\n",
       "                  \n",
       "            if (100.0 > 0.) {\n",
       "                fill.style.transition = 'width 0.1s linear';\n",
       "            } else {\n",
       "                fill.style.transition = 'none';\n",
       "            }\n",
       "\n",
       "            fill.style.width = '100.0%';\n",
       "            fill.style.animation = 'none';\n",
       "            fill.style.backgroundImage = 'none'\n",
       "        \n",
       "                  \n",
       "                fill.style.animation = 'none';\n",
       "                fill.style.backgroundImage = 'none';\n",
       "            \n",
       "              })();\n",
       "        "
      ],
      "text/plain": [
       "<IPython.core.display.Javascript object>"
      ]
     },
     "metadata": {},
     "output_type": "display_data"
    },
    {
     "name": "stdout",
     "output_type": "stream",
     "text": [
      "seed = 4\n",
      "backend = 'nengo_ocl'\n",
      "dt = 0.001\n",
      "neuron_type = 'default'\n",
      "n_neurons_scale = 1\n",
      "n_neurons_scale_combined = 0.25\n",
      "s_crosstalk = 0\n",
      "s_evidence = 20\n",
      "n_samples = 10000\n",
      "t_senso = 0\n",
      "vocab = <nengo_spa.vocabulary.Vocabulary object at 0x7f3fce128610>\n",
      "xp = <experiments.Xp1 object at 0x7f3f82661950>\n",
      "proc_feedback = 0.9\n",
      "proc_feedback_synapse = 0.005\n",
      "GW_feedback = 1\n",
      "GW_threshold = 0.5\n",
      "GW_scale = 20\n",
      "BG_thr = 0.1\n",
      "BG_bias = 0.5\n",
      "integrator_reset = False\n",
      "data = <data.Data object at 0x7f3f83b63810>\n",
      "\t seed 5/5\n",
      "running run_seed5_dim96\n"
     ]
    },
    {
     "name": "stderr",
     "output_type": "stream",
     "text": [
      "/home/ubuntu/anaconda3/envs/CTN/lib/python3.7/site-packages/nengo/cache.py:447: UserWarning: Decoder cache index could not acquire lock. Cache index was not synced.\n",
      "  \"Decoder cache index could not acquire lock. \"\n"
     ]
    },
    {
     "data": {
      "text/html": [
       "\n",
       "                <div id=\"6233f6c4-6b4b-4099-9493-7d0730e2e476\" style=\"\n",
       "                    width: 100%;\n",
       "                    border: 1px solid #cfcfcf;\n",
       "                    border-radius: 4px;\n",
       "                    text-align: center;\n",
       "                    position: relative;\">\n",
       "                  <div class=\"pb-text\" style=\"\n",
       "                      position: absolute;\n",
       "                      width: 100%;\">\n",
       "                    0%\n",
       "                  </div>\n",
       "                  <div class=\"pb-fill\" style=\"\n",
       "                      background-color: #bdd2e6;\n",
       "                      width: 0%;\">\n",
       "                    <style type=\"text/css\" scoped=\"scoped\">\n",
       "                        @keyframes pb-fill-anim {\n",
       "                            0% { background-position: 0 0; }\n",
       "                            100% { background-position: 100px 0; }\n",
       "                        }\n",
       "                    </style>\n",
       "                    &nbsp;\n",
       "                  </div>\n",
       "                </div>"
      ],
      "text/plain": [
       "HtmlProgressBar cannot be displayed. Please use the TerminalProgressBar. It can be enabled with `nengo.rc.set('progress', 'progress_bar', 'nengo.utils.progress.TerminalProgressBar')`."
      ]
     },
     "metadata": {},
     "output_type": "display_data"
    },
    {
     "data": {
      "application/javascript": [
       "\n",
       "              (function () {\n",
       "                  var root = document.getElementById('6233f6c4-6b4b-4099-9493-7d0730e2e476');\n",
       "                  var text = root.getElementsByClassName('pb-text')[0];\n",
       "                  var fill = root.getElementsByClassName('pb-fill')[0];\n",
       "\n",
       "                  text.innerHTML = 'Simulation finished in 0:01:58.';\n",
       "                  \n",
       "            if (100.0 > 0.) {\n",
       "                fill.style.transition = 'width 0.1s linear';\n",
       "            } else {\n",
       "                fill.style.transition = 'none';\n",
       "            }\n",
       "\n",
       "            fill.style.width = '100.0%';\n",
       "            fill.style.animation = 'none';\n",
       "            fill.style.backgroundImage = 'none'\n",
       "        \n",
       "                  \n",
       "                fill.style.animation = 'none';\n",
       "                fill.style.backgroundImage = 'none';\n",
       "            \n",
       "              })();\n",
       "        "
      ],
      "text/plain": [
       "<IPython.core.display.Javascript object>"
      ]
     },
     "metadata": {},
     "output_type": "display_data"
    },
    {
     "name": "stdout",
     "output_type": "stream",
     "text": [
      "seed = 5\n",
      "backend = 'nengo_ocl'\n",
      "dt = 0.001\n",
      "neuron_type = 'default'\n",
      "n_neurons_scale = 1\n",
      "n_neurons_scale_combined = 0.25\n",
      "s_crosstalk = 0\n",
      "s_evidence = 20\n",
      "n_samples = 10000\n",
      "t_senso = 0\n",
      "vocab = <nengo_spa.vocabulary.Vocabulary object at 0x7f3fccf76850>\n",
      "xp = <experiments.Xp1 object at 0x7f3fccf76c50>\n",
      "proc_feedback = 0.9\n",
      "proc_feedback_synapse = 0.005\n",
      "GW_feedback = 1\n",
      "GW_threshold = 0.5\n",
      "GW_scale = 20\n",
      "BG_thr = 0.1\n",
      "BG_bias = 0.5\n",
      "integrator_reset = False\n",
      "data = <data.Data object at 0x7f3f7f048ad0>\n",
      "error rate: 0.01666666666666672\n"
     ]
    },
    {
     "ename": "IndexError",
     "evalue": "tuple index out of range",
     "output_type": "error",
     "traceback": [
      "\u001b[0;31m---------------------------------------------------------------------------\u001b[0m",
      "\u001b[0;31mIndexError\u001b[0m                                Traceback (most recent call last)",
      "\u001b[0;32m<ipython-input-3-4689472a566a>\u001b[0m in \u001b[0;36m<module>\u001b[0;34m\u001b[0m\n\u001b[1;32m     63\u001b[0m     \u001b[0mNs\u001b[0m\u001b[0;34m=\u001b[0m\u001b[0;36m1\u001b[0m\u001b[0;34m,\u001b[0m\u001b[0;34m\u001b[0m\u001b[0;34m\u001b[0m\u001b[0m\n\u001b[1;32m     64\u001b[0m     \u001b[0mfull_output\u001b[0m\u001b[0;34m=\u001b[0m\u001b[0;32mTrue\u001b[0m\u001b[0;34m,\u001b[0m\u001b[0;34m\u001b[0m\u001b[0;34m\u001b[0m\u001b[0m\n\u001b[0;32m---> 65\u001b[0;31m     \u001b[0mfinish\u001b[0m\u001b[0;34m=\u001b[0m\u001b[0;32mNone\u001b[0m\u001b[0;34m\u001b[0m\u001b[0;34m\u001b[0m\u001b[0m\n\u001b[0m\u001b[1;32m     66\u001b[0m )\n\u001b[1;32m     67\u001b[0m \u001b[0;34m\u001b[0m\u001b[0m\n",
      "\u001b[0;32m~/anaconda3/envs/CTN/lib/python3.7/site-packages/scipy/optimize/optimize.py\u001b[0m in \u001b[0;36mbrute\u001b[0;34m(func, ranges, args, Ns, full_output, finish, disp, workers)\u001b[0m\n\u001b[1;32m   2897\u001b[0m     \u001b[0mxmin\u001b[0m \u001b[0;34m=\u001b[0m \u001b[0mzeros\u001b[0m\u001b[0;34m(\u001b[0m\u001b[0mN\u001b[0m\u001b[0;34m,\u001b[0m \u001b[0mfloat\u001b[0m\u001b[0;34m)\u001b[0m\u001b[0;34m\u001b[0m\u001b[0;34m\u001b[0m\u001b[0m\n\u001b[1;32m   2898\u001b[0m     \u001b[0;32mfor\u001b[0m \u001b[0mk\u001b[0m \u001b[0;32min\u001b[0m \u001b[0mrange\u001b[0m\u001b[0;34m(\u001b[0m\u001b[0mN\u001b[0m \u001b[0;34m-\u001b[0m \u001b[0;36m1\u001b[0m\u001b[0;34m,\u001b[0m \u001b[0;34m-\u001b[0m\u001b[0;36m1\u001b[0m\u001b[0;34m,\u001b[0m \u001b[0;34m-\u001b[0m\u001b[0;36m1\u001b[0m\u001b[0;34m)\u001b[0m\u001b[0;34m:\u001b[0m\u001b[0;34m\u001b[0m\u001b[0;34m\u001b[0m\u001b[0m\n\u001b[0;32m-> 2899\u001b[0;31m         \u001b[0mthisN\u001b[0m \u001b[0;34m=\u001b[0m \u001b[0mNshape\u001b[0m\u001b[0;34m[\u001b[0m\u001b[0mk\u001b[0m\u001b[0;34m]\u001b[0m\u001b[0;34m\u001b[0m\u001b[0;34m\u001b[0m\u001b[0m\n\u001b[0m\u001b[1;32m   2900\u001b[0m         \u001b[0mNindx\u001b[0m\u001b[0;34m[\u001b[0m\u001b[0mk\u001b[0m\u001b[0;34m]\u001b[0m \u001b[0;34m=\u001b[0m \u001b[0mindx\u001b[0m \u001b[0;34m%\u001b[0m \u001b[0mNshape\u001b[0m\u001b[0;34m[\u001b[0m\u001b[0mk\u001b[0m\u001b[0;34m]\u001b[0m\u001b[0;34m\u001b[0m\u001b[0;34m\u001b[0m\u001b[0m\n\u001b[1;32m   2901\u001b[0m         \u001b[0mindx\u001b[0m \u001b[0;34m=\u001b[0m \u001b[0mindx\u001b[0m \u001b[0;34m//\u001b[0m \u001b[0mthisN\u001b[0m\u001b[0;34m\u001b[0m\u001b[0;34m\u001b[0m\u001b[0m\n",
      "\u001b[0;31mIndexError\u001b[0m: tuple index out of range"
     ]
    }
   ],
   "source": [
    "data_dir = \"evaluate_performance/dim_to_delete\"\n",
    "\n",
    "def evaluation_function(params):\n",
    "    \n",
    "    print(\"params:\", params)\n",
    "    data = []\n",
    "    \n",
    "#     if params[0]==1:\n",
    "#     return 0\n",
    "    \n",
    "    D = int(params[0] * 16)    \n",
    "    \n",
    "    print('Simulating...')\n",
    "    for i,seed in enumerate(range(STARTING_SEED, STARTING_SEED+N_SEEDS)):\n",
    "        print('\\t seed '+str(i+1)+'/'+str(N_SEEDS))\n",
    "        data_filename = 'run_seed'+str(seed)+'_dim'+str(D)   \n",
    "        \n",
    "        try:\n",
    "            seed_data = pd.read_pickle(data_dir+'/'+data_filename+'.csv')\n",
    "        \n",
    "        except FileNotFoundError:\n",
    "            xp = create_xp(N_BLOCKS_PER_OPERATION, N_TRIALS_PER_DIGIT, N_DIFFERENT_DIGITS, N_DIFFERENT_OPERATIONS, STIM_DURATION, FIX_DURATION, seed)\n",
    "            results = ExperimentRun().run(\n",
    "                n_neurons_scale=N_NEURONS_SCALE,\n",
    "                n_neurons_scale_combined=N_NEURONS_SCALE_COMBINED,\n",
    "                s_crosstalk=0,\n",
    "                s_evidence=S_EVIDENCE,\n",
    "                n_samples=N_SAMPLES,\n",
    "                integrator_reset=INTEGRATOR_RESET,\n",
    "                t_senso=0,\n",
    "                vocab=create_vocab(D, seed),\n",
    "                xp=xp,\n",
    "                proc_feedback=PROC_FDBCK,\n",
    "                proc_feedback_synapse=PROC_FDBCK_SYN,\n",
    "                GW_feedback=GW_FDBCK,\n",
    "                GW_scale=GW_SCALE,\n",
    "                BG_thr=BG_THR,\n",
    "                BG_bias=BG_BIAS,\n",
    "                seed=seed,\n",
    "                backend=\"nengo_ocl\",\n",
    "                data_dir=data_dir,\n",
    "                data_filename=data_filename,\n",
    "                plt=False\n",
    "            )\n",
    "\n",
    "            seed_data = results['data'].df\n",
    "            seed_data.to_pickle(data_dir+'/'+data_filename+'.csv')\n",
    "        \n",
    "        data.append(seed_data)\n",
    "        \n",
    "        \n",
    "    data = Data(pd.concat(data))\n",
    "    error_rate = data.error_rate\n",
    "    print('error rate:', error_rate)\n",
    "    return error_rate\n",
    "\n",
    "    \n",
    "x0, fval, grid, jout = brute(\n",
    "    evaluation_function, \n",
    "    (\n",
    "        (6, 10), # number of dimensions (*16)\n",
    "    ),\n",
    "    Ns=1, \n",
    "    full_output=True,\n",
    "    finish=None\n",
    ")\n",
    "\n",
    "print(x0, fval, grid, jout)\n",
    "np.save(data_dir+\"/x0_2\", x0)\n",
    "np.save(data_dir+\"/fval_2\", fval)\n",
    "np.save(data_dir+\"/grid_2\", grid)\n",
    "np.save(data_dir+\"/jout_2\", jout)"
   ]
  },
  {
   "cell_type": "code",
   "execution_count": null,
   "metadata": {},
   "outputs": [],
   "source": []
  },
  {
   "cell_type": "code",
   "execution_count": null,
   "metadata": {},
   "outputs": [],
   "source": [
    "print(x0, fval, grid, jout)\n",
    "np.save(data_dir+\"/x0_2\", x0)\n",
    "np.save(data_dir+\"/fval_2\", fval)\n",
    "np.save(data_dir+\"/grid_2\", grid)\n",
    "np.save(data_dir+\"/jout_2\", jout)"
   ]
  },
  {
   "cell_type": "code",
   "execution_count": null,
   "metadata": {
    "scrolled": true
   },
   "outputs": [],
   "source": [
    "start = 0\n",
    "mpl.rcParams['lines.linewidth'] = 2\n",
    "mpl.rcParams['lines.color'] = \"black\"\n",
    "mpl.rcParams['font.size'] = 15\n",
    "mpl.rcParams['errorbar.capsize'] = 3\n",
    "\n",
    "\n",
    "accuracies = np.array([all_data.df.loc[all_data.df['dim'] == dim]['acc'].to_list() for dim in grid*16])\n",
    "accuracies = 100-100*accuracies\n",
    "means = accuracies.mean(axis=1)\n",
    "sems = sem(accuracies, axis=1)\n",
    "\n",
    "accuracies_simple = np.array([all_data.df.loc[(all_data.df['dim'] == dim) & (all_data.df['rule'] == 0)]['acc'].to_list() for dim in grid*16])\n",
    "accuracies_simple = 100-100*accuracies_simple\n",
    "means_simple = accuracies_simple.mean(axis=1)\n",
    "sems_simple = sem(accuracies_simple, axis=1)\n",
    "\n",
    "accuracies_chained = np.array([all_data.df.loc[(all_data.df['dim'] == dim) & (all_data.df['rule'] != 0)]['acc'].to_list() for dim in grid*16])\n",
    "accuracies_chained = 100-100*accuracies_chained\n",
    "means_chained = accuracies_chained.mean(axis=1)\n",
    "sems_chained = sem(accuracies_chained, axis=1)\n",
    "\n",
    "\n",
    "plt.errorbar(grid*16, means_chained, sems_chained, color=\"black\", label='Chained', linestyle='dotted')\n",
    "plt.errorbar(grid*16, means, sems, color=\"black\", label='All')\n",
    "plt.errorbar(grid*16, means_simple, sems_simple, color=\"black\", label='Simple', linestyle='-.')\n",
    "plt.xlabel('Number of dimensions')\n",
    "plt.ylabel('Error rate (%)')\n",
    "plt.xticks(grid*16)\n",
    "plt.ylim(bottom=0)\n",
    "plt.yticks(range(0,90,10))\n",
    "plt.gca().spines['right'].set_color('none')\n",
    "plt.gca().spines['top'].set_color('none')\n",
    "plt.legend()\n",
    "\n",
    "plt.show()"
   ]
  },
  {
   "cell_type": "code",
   "execution_count": null,
   "metadata": {
    "scrolled": true
   },
   "outputs": [],
   "source": [
    "mpl.rcParams['lines.linewidth'] = 2\n",
    "mpl.rcParams['lines.color'] = \"black\"\n",
    "mpl.rcParams['font.size'] = 15\n",
    "mpl.rcParams['errorbar.capsize'] = 3\n",
    "\n",
    "\n",
    "accuracies = np.array([all_data.df.loc[all_data.df['dim'] == dim]['acc'].to_list() for dim in grid*16])\n",
    "accuracies = 100-100*accuracies\n",
    "means = accuracies.mean(axis=1)\n",
    "sems = sem(accuracies, axis=1)\n",
    "\n",
    "accuracies_simple = np.array([all_data.df.loc[(all_data.df['dim'] == dim) & (all_data.df['rule'] == 0)]['acc'].to_list() for dim in grid*16])\n",
    "accuracies_simple = 100-100*accuracies_simple\n",
    "means_simple = accuracies_simple.mean(axis=1)\n",
    "sems_simple = sem(accuracies_simple, axis=1)\n",
    "\n",
    "accuracies_chained = np.array([all_data.df.loc[(all_data.df['dim'] == dim) & (all_data.df['rule'] != 0)]['acc'].to_list() for dim in grid*16])\n",
    "accuracies_chained = 100-100*accuracies_chained\n",
    "means_chained = accuracies_chained.mean(axis=1)\n",
    "sems_chained = sem(accuracies_chained, axis=1)\n",
    "\n",
    "\n",
    "plt.errorbar(grid*16, means_chained, sems_chained, color=\"black\", label='Chained', linestyle='dotted')\n",
    "plt.errorbar(grid*16, means, sems, color=\"black\", label='All')\n",
    "plt.errorbar(grid*16, means_simple, sems_simple, color=\"black\", label='Simple', linestyle='-.')\n",
    "plt.xlabel('Number of dimensions')\n",
    "plt.ylabel('Error rate (%)')\n",
    "plt.xticks(grid*16)\n",
    "plt.ylim(bottom=0)\n",
    "plt.yticks(range(0,90,10))\n",
    "plt.gca().spines['right'].set_color('none')\n",
    "plt.gca().spines['top'].set_color('none')\n",
    "plt.legend()\n",
    "\n",
    "plt.show()"
   ]
  },
  {
   "cell_type": "code",
   "execution_count": null,
   "metadata": {},
   "outputs": [],
   "source": []
  }
 ],
 "metadata": {
  "kernelspec": {
   "display_name": "Python 3",
   "language": "python",
   "name": "python3"
  },
  "language_info": {
   "codemirror_mode": {
    "name": "ipython",
    "version": 3
   },
   "file_extension": ".py",
   "mimetype": "text/x-python",
   "name": "python",
   "nbconvert_exporter": "python",
   "pygments_lexer": "ipython3",
   "version": "3.7.5"
  }
 },
 "nbformat": 4,
 "nbformat_minor": 2
}
