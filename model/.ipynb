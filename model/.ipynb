{
 "cells": [
  {
   "cell_type": "code",
   "execution_count": 1,
   "metadata": {},
   "outputs": [],
   "source": [
    "import nengo\n",
    "import nengo_spa as spa\n",
    "import pytry\n",
    "import numpy as np\n",
    "from random import shuffle\n",
    "import random\n",
    "import sys, os\n",
    "import math\n",
    "from IPython import display\n",
    "from scipy.optimize import brute, minimize\n",
    "from scipy.stats import sem\n",
    "import pandas as pd\n",
    "import matplotlib.pyplot as plt\n",
    "import matplotlib as mpl\n",
    "import matplotlib.style as style\n",
    "\n",
    "import os\n",
    "\n",
    "\n",
    "\n",
    "# Import our classes\n",
    "sys.path.append('..')\n",
    "import experiments as xps\n",
    "from experiments import create_xp\n",
    "from model import ExperimentRun, create_vocab\n",
    "from data import Data"
   ]
  },
  {
   "cell_type": "markdown",
   "metadata": {},
   "source": [
    "# Optimization and model parameters"
   ]
  },
  {
   "cell_type": "code",
   "execution_count": 2,
   "metadata": {},
   "outputs": [],
   "source": [
    "D = int(96)  # the dimensionality of the vectors\n",
    "PROC_FDBCK = .9\n",
    "PROC_FDBCK_SYN = .005\n",
    "GW_FDBCK = 1\n",
    "GW_SCALE = 20 # scale the input of GW for saturation and catching very short visual stimuli\n",
    "BG_THR = .1\n",
    "BG_BIAS = .5\n",
    "STIM_DURATION = .1\n",
    "FIX_DURATION = .5\n",
    "N_NEURONS_SCALE = 1\n",
    "N_NEURONS_SCALE_COMBINED = .25\n",
    "N_SAMPLES = 10000\n",
    "N_SEEDS = 20\n",
    "STARTING_SEED = 100\n",
    "S_EVIDENCE = 10\n",
    "\n",
    "N_BLOCKS_PER_OPERATION = 1 # default: 10\n",
    "N_TRIALS_PER_DIGIT = 2 # default: 5\n",
    "N_DIFFERENT_DIGITS = 4 # default: 4\n",
    "N_DIFFERENT_OPERATIONS = 3 # default: 3\n",
    "\n",
    "data_dir = \"evaluate_fit/one_crosstalk_test\"\n"
   ]
  },
  {
   "cell_type": "code",
   "execution_count": 3,
   "metadata": {},
   "outputs": [
    {
     "name": "stdout",
     "output_type": "stream",
     "text": [
      "params: [0.01]\n",
      "Simulating...\n",
      "\t seed 1/20\n",
      "running run_seed100_crosstalk0.01\n"
     ]
    },
    {
     "name": "stderr",
     "output_type": "stream",
     "text": [
      "/home/ubuntu/anaconda3/envs/CTN/lib/python3.7/site-packages/nengo_spa/vocabulary.py:173: UserWarning: Could not create a semantic pointer with max_similarity=0.10 (D=96, M=19, similarity=0.11)\n",
      "  len(self._key2idx), best_sim))\n",
      "/home/ubuntu/anaconda3/envs/CTN/lib/python3.7/site-packages/nengo_spa/vocabulary.py:173: UserWarning: Could not create a semantic pointer with max_similarity=0.10 (D=96, M=20, similarity=0.12)\n",
      "  len(self._key2idx), best_sim))\n"
     ]
    },
    {
     "name": "stdout",
     "output_type": "stream",
     "text": [
      "No context argument was provided to nengo_ocl.Simulator\n",
      "Calling pyopencl.create_some_context() for you now:\n"
     ]
    },
    {
     "data": {
      "text/html": [
       "\n",
       "                <div id=\"d8c09643-7bca-466c-84be-99ca9d736068\" style=\"\n",
       "                    width: 100%;\n",
       "                    border: 1px solid #cfcfcf;\n",
       "                    border-radius: 4px;\n",
       "                    text-align: center;\n",
       "                    position: relative;\">\n",
       "                  <div class=\"pb-text\" style=\"\n",
       "                      position: absolute;\n",
       "                      width: 100%;\">\n",
       "                    0%\n",
       "                  </div>\n",
       "                  <div class=\"pb-fill\" style=\"\n",
       "                      background-color: #bdd2e6;\n",
       "                      width: 0%;\">\n",
       "                    <style type=\"text/css\" scoped=\"scoped\">\n",
       "                        @keyframes pb-fill-anim {\n",
       "                            0% { background-position: 0 0; }\n",
       "                            100% { background-position: 100px 0; }\n",
       "                        }\n",
       "                    </style>\n",
       "                    &nbsp;\n",
       "                  </div>\n",
       "                </div>"
      ],
      "text/plain": [
       "HtmlProgressBar cannot be displayed. Please use the TerminalProgressBar. It can be enabled with `nengo.rc.set('progress', 'progress_bar', 'nengo.utils.progress.TerminalProgressBar')`."
      ]
     },
     "metadata": {},
     "output_type": "display_data"
    },
    {
     "data": {
      "application/javascript": [
       "\n",
       "              (function () {\n",
       "                  var root = document.getElementById('d8c09643-7bca-466c-84be-99ca9d736068');\n",
       "                  var text = root.getElementsByClassName('pb-text')[0];\n",
       "                  var fill = root.getElementsByClassName('pb-fill')[0];\n",
       "\n",
       "                  text.innerHTML = 'Simulation finished in 0:01:55.';\n",
       "                  \n",
       "            if (100.0 > 0.) {\n",
       "                fill.style.transition = 'width 0.1s linear';\n",
       "            } else {\n",
       "                fill.style.transition = 'none';\n",
       "            }\n",
       "\n",
       "            fill.style.width = '100.0%';\n",
       "            fill.style.animation = 'none';\n",
       "            fill.style.backgroundImage = 'none'\n",
       "        \n",
       "                  \n",
       "                fill.style.animation = 'none';\n",
       "                fill.style.backgroundImage = 'none';\n",
       "            \n",
       "              })();\n",
       "        "
      ],
      "text/plain": [
       "<IPython.core.display.Javascript object>"
      ]
     },
     "metadata": {},
     "output_type": "display_data"
    },
    {
     "name": "stdout",
     "output_type": "stream",
     "text": [
      "seed = 100\n",
      "backend = 'nengo_ocl'\n",
      "dt = 0.001\n",
      "neuron_type = 'default'\n",
      "n_neurons_scale = 1\n",
      "n_neurons_scale_combined = 0.25\n",
      "s_crosstalk = 0.01\n",
      "s_evidence = 10\n",
      "n_samples = 10000\n",
      "t_senso = 0\n",
      "vocab = <nengo_spa.vocabulary.Vocabulary object at 0x7f921f39c990>\n",
      "xp = <experiments.Xp1 object at 0x7f921eaff6d0>\n",
      "proc_feedback = 0.9\n",
      "proc_feedback_synapse = 0.005\n",
      "GW_feedback = 1\n",
      "GW_threshold = 0.5\n",
      "GW_scale = 20\n",
      "BG_thr = 0.1\n",
      "BG_bias = 0.5\n",
      "integrator_reset = True\n",
      "data = <data.Data object at 0x7f921af61350>\n",
      "\t seed 2/20\n",
      "running run_seed101_crosstalk0.01\n"
     ]
    },
    {
     "data": {
      "text/html": [
       "\n",
       "                <div id=\"a8555d06-7c48-463e-8095-9159d5af8682\" style=\"\n",
       "                    width: 100%;\n",
       "                    border: 1px solid #cfcfcf;\n",
       "                    border-radius: 4px;\n",
       "                    text-align: center;\n",
       "                    position: relative;\">\n",
       "                  <div class=\"pb-text\" style=\"\n",
       "                      position: absolute;\n",
       "                      width: 100%;\">\n",
       "                    0%\n",
       "                  </div>\n",
       "                  <div class=\"pb-fill\" style=\"\n",
       "                      background-color: #bdd2e6;\n",
       "                      width: 0%;\">\n",
       "                    <style type=\"text/css\" scoped=\"scoped\">\n",
       "                        @keyframes pb-fill-anim {\n",
       "                            0% { background-position: 0 0; }\n",
       "                            100% { background-position: 100px 0; }\n",
       "                        }\n",
       "                    </style>\n",
       "                    &nbsp;\n",
       "                  </div>\n",
       "                </div>"
      ],
      "text/plain": [
       "HtmlProgressBar cannot be displayed. Please use the TerminalProgressBar. It can be enabled with `nengo.rc.set('progress', 'progress_bar', 'nengo.utils.progress.TerminalProgressBar')`."
      ]
     },
     "metadata": {},
     "output_type": "display_data"
    },
    {
     "data": {
      "application/javascript": [
       "\n",
       "              (function () {\n",
       "                  var root = document.getElementById('a8555d06-7c48-463e-8095-9159d5af8682');\n",
       "                  var text = root.getElementsByClassName('pb-text')[0];\n",
       "                  var fill = root.getElementsByClassName('pb-fill')[0];\n",
       "\n",
       "                  text.innerHTML = 'Simulation finished in 0:01:56.';\n",
       "                  \n",
       "            if (100.0 > 0.) {\n",
       "                fill.style.transition = 'width 0.1s linear';\n",
       "            } else {\n",
       "                fill.style.transition = 'none';\n",
       "            }\n",
       "\n",
       "            fill.style.width = '100.0%';\n",
       "            fill.style.animation = 'none';\n",
       "            fill.style.backgroundImage = 'none'\n",
       "        \n",
       "                  \n",
       "                fill.style.animation = 'none';\n",
       "                fill.style.backgroundImage = 'none';\n",
       "            \n",
       "              })();\n",
       "        "
      ],
      "text/plain": [
       "<IPython.core.display.Javascript object>"
      ]
     },
     "metadata": {},
     "output_type": "display_data"
    },
    {
     "name": "stdout",
     "output_type": "stream",
     "text": [
      "seed = 101\n",
      "backend = 'nengo_ocl'\n",
      "dt = 0.001\n",
      "neuron_type = 'default'\n",
      "n_neurons_scale = 1\n",
      "n_neurons_scale_combined = 0.25\n",
      "s_crosstalk = 0.01\n",
      "s_evidence = 10\n",
      "n_samples = 10000\n",
      "t_senso = 0\n",
      "vocab = <nengo_spa.vocabulary.Vocabulary object at 0x7f9211f7bc50>\n",
      "xp = <experiments.Xp1 object at 0x7f9211f71150>\n",
      "proc_feedback = 0.9\n",
      "proc_feedback_synapse = 0.005\n",
      "GW_feedback = 1\n",
      "GW_threshold = 0.5\n",
      "GW_scale = 20\n",
      "BG_thr = 0.1\n",
      "BG_bias = 0.5\n",
      "integrator_reset = True\n",
      "data = <data.Data object at 0x7f921ea02b50>\n",
      "\t seed 3/20\n",
      "running run_seed102_crosstalk0.01\n"
     ]
    },
    {
     "data": {
      "text/html": [
       "\n",
       "                <div id=\"3a825ec0-d930-47b5-834a-8a4ce40cb014\" style=\"\n",
       "                    width: 100%;\n",
       "                    border: 1px solid #cfcfcf;\n",
       "                    border-radius: 4px;\n",
       "                    text-align: center;\n",
       "                    position: relative;\">\n",
       "                  <div class=\"pb-text\" style=\"\n",
       "                      position: absolute;\n",
       "                      width: 100%;\">\n",
       "                    0%\n",
       "                  </div>\n",
       "                  <div class=\"pb-fill\" style=\"\n",
       "                      background-color: #bdd2e6;\n",
       "                      width: 0%;\">\n",
       "                    <style type=\"text/css\" scoped=\"scoped\">\n",
       "                        @keyframes pb-fill-anim {\n",
       "                            0% { background-position: 0 0; }\n",
       "                            100% { background-position: 100px 0; }\n",
       "                        }\n",
       "                    </style>\n",
       "                    &nbsp;\n",
       "                  </div>\n",
       "                </div>"
      ],
      "text/plain": [
       "HtmlProgressBar cannot be displayed. Please use the TerminalProgressBar. It can be enabled with `nengo.rc.set('progress', 'progress_bar', 'nengo.utils.progress.TerminalProgressBar')`."
      ]
     },
     "metadata": {},
     "output_type": "display_data"
    },
    {
     "data": {
      "application/javascript": [
       "\n",
       "              (function () {\n",
       "                  var root = document.getElementById('3a825ec0-d930-47b5-834a-8a4ce40cb014');\n",
       "                  var text = root.getElementsByClassName('pb-text')[0];\n",
       "                  var fill = root.getElementsByClassName('pb-fill')[0];\n",
       "\n",
       "                  text.innerHTML = 'Simulation finished in 0:01:56.';\n",
       "                  \n",
       "            if (100.0 > 0.) {\n",
       "                fill.style.transition = 'width 0.1s linear';\n",
       "            } else {\n",
       "                fill.style.transition = 'none';\n",
       "            }\n",
       "\n",
       "            fill.style.width = '100.0%';\n",
       "            fill.style.animation = 'none';\n",
       "            fill.style.backgroundImage = 'none'\n",
       "        \n",
       "                  \n",
       "                fill.style.animation = 'none';\n",
       "                fill.style.backgroundImage = 'none';\n",
       "            \n",
       "              })();\n",
       "        "
      ],
      "text/plain": [
       "<IPython.core.display.Javascript object>"
      ]
     },
     "metadata": {},
     "output_type": "display_data"
    },
    {
     "name": "stdout",
     "output_type": "stream",
     "text": [
      "seed = 102\n",
      "backend = 'nengo_ocl'\n",
      "dt = 0.001\n",
      "neuron_type = 'default'\n",
      "n_neurons_scale = 1\n",
      "n_neurons_scale_combined = 0.25\n",
      "s_crosstalk = 0.01\n",
      "s_evidence = 10\n",
      "n_samples = 10000\n",
      "t_senso = 0\n",
      "vocab = <nengo_spa.vocabulary.Vocabulary object at 0x7f921d590490>\n",
      "xp = <experiments.Xp1 object at 0x7f921a7d5190>\n",
      "proc_feedback = 0.9\n",
      "proc_feedback_synapse = 0.005\n",
      "GW_feedback = 1\n",
      "GW_threshold = 0.5\n",
      "GW_scale = 20\n",
      "BG_thr = 0.1\n",
      "BG_bias = 0.5\n",
      "integrator_reset = True\n",
      "data = <data.Data object at 0x7f921dfb2890>\n",
      "\t seed 4/20\n",
      "running run_seed103_crosstalk0.01\n"
     ]
    },
    {
     "name": "stderr",
     "output_type": "stream",
     "text": [
      "/home/ubuntu/anaconda3/envs/CTN/lib/python3.7/site-packages/nengo_spa/vocabulary.py:173: UserWarning: Could not create a semantic pointer with max_similarity=0.10 (D=96, M=20, similarity=0.10)\n",
      "  len(self._key2idx), best_sim))\n"
     ]
    },
    {
     "data": {
      "text/html": [
       "\n",
       "                <div id=\"0ffbf8fc-6c85-47e8-9146-58ad6087a0ad\" style=\"\n",
       "                    width: 100%;\n",
       "                    border: 1px solid #cfcfcf;\n",
       "                    border-radius: 4px;\n",
       "                    text-align: center;\n",
       "                    position: relative;\">\n",
       "                  <div class=\"pb-text\" style=\"\n",
       "                      position: absolute;\n",
       "                      width: 100%;\">\n",
       "                    0%\n",
       "                  </div>\n",
       "                  <div class=\"pb-fill\" style=\"\n",
       "                      background-color: #bdd2e6;\n",
       "                      width: 0%;\">\n",
       "                    <style type=\"text/css\" scoped=\"scoped\">\n",
       "                        @keyframes pb-fill-anim {\n",
       "                            0% { background-position: 0 0; }\n",
       "                            100% { background-position: 100px 0; }\n",
       "                        }\n",
       "                    </style>\n",
       "                    &nbsp;\n",
       "                  </div>\n",
       "                </div>"
      ],
      "text/plain": [
       "HtmlProgressBar cannot be displayed. Please use the TerminalProgressBar. It can be enabled with `nengo.rc.set('progress', 'progress_bar', 'nengo.utils.progress.TerminalProgressBar')`."
      ]
     },
     "metadata": {},
     "output_type": "display_data"
    },
    {
     "data": {
      "application/javascript": [
       "\n",
       "              (function () {\n",
       "                  var root = document.getElementById('0ffbf8fc-6c85-47e8-9146-58ad6087a0ad');\n",
       "                  var text = root.getElementsByClassName('pb-text')[0];\n",
       "                  var fill = root.getElementsByClassName('pb-fill')[0];\n",
       "\n",
       "                  text.innerHTML = 'Simulation finished in 0:01:56.';\n",
       "                  \n",
       "            if (100.0 > 0.) {\n",
       "                fill.style.transition = 'width 0.1s linear';\n",
       "            } else {\n",
       "                fill.style.transition = 'none';\n",
       "            }\n",
       "\n",
       "            fill.style.width = '100.0%';\n",
       "            fill.style.animation = 'none';\n",
       "            fill.style.backgroundImage = 'none'\n",
       "        \n",
       "                  \n",
       "                fill.style.animation = 'none';\n",
       "                fill.style.backgroundImage = 'none';\n",
       "            \n",
       "              })();\n",
       "        "
      ],
      "text/plain": [
       "<IPython.core.display.Javascript object>"
      ]
     },
     "metadata": {},
     "output_type": "display_data"
    },
    {
     "name": "stdout",
     "output_type": "stream",
     "text": [
      "seed = 103\n",
      "backend = 'nengo_ocl'\n",
      "dt = 0.001\n",
      "neuron_type = 'default'\n",
      "n_neurons_scale = 1\n",
      "n_neurons_scale_combined = 0.25\n",
      "s_crosstalk = 0.01\n",
      "s_evidence = 10\n",
      "n_samples = 10000\n",
      "t_senso = 0\n",
      "vocab = <nengo_spa.vocabulary.Vocabulary object at 0x7f921db3b690>\n",
      "xp = <experiments.Xp1 object at 0x7f921ed764d0>\n",
      "proc_feedback = 0.9\n",
      "proc_feedback_synapse = 0.005\n",
      "GW_feedback = 1\n",
      "GW_threshold = 0.5\n",
      "GW_scale = 20\n",
      "BG_thr = 0.1\n",
      "BG_bias = 0.5\n",
      "integrator_reset = True\n",
      "data = <data.Data object at 0x7f921e31e7d0>\n",
      "\t seed 5/20\n",
      "running run_seed104_crosstalk0.01\n"
     ]
    },
    {
     "data": {
      "text/html": [
       "\n",
       "                <div id=\"3067ec57-f139-4c21-9c13-c11058f84408\" style=\"\n",
       "                    width: 100%;\n",
       "                    border: 1px solid #cfcfcf;\n",
       "                    border-radius: 4px;\n",
       "                    text-align: center;\n",
       "                    position: relative;\">\n",
       "                  <div class=\"pb-text\" style=\"\n",
       "                      position: absolute;\n",
       "                      width: 100%;\">\n",
       "                    0%\n",
       "                  </div>\n",
       "                  <div class=\"pb-fill\" style=\"\n",
       "                      background-color: #bdd2e6;\n",
       "                      width: 0%;\">\n",
       "                    <style type=\"text/css\" scoped=\"scoped\">\n",
       "                        @keyframes pb-fill-anim {\n",
       "                            0% { background-position: 0 0; }\n",
       "                            100% { background-position: 100px 0; }\n",
       "                        }\n",
       "                    </style>\n",
       "                    &nbsp;\n",
       "                  </div>\n",
       "                </div>"
      ],
      "text/plain": [
       "HtmlProgressBar cannot be displayed. Please use the TerminalProgressBar. It can be enabled with `nengo.rc.set('progress', 'progress_bar', 'nengo.utils.progress.TerminalProgressBar')`."
      ]
     },
     "metadata": {},
     "output_type": "display_data"
    },
    {
     "data": {
      "application/javascript": [
       "\n",
       "              (function () {\n",
       "                  var root = document.getElementById('3067ec57-f139-4c21-9c13-c11058f84408');\n",
       "                  var text = root.getElementsByClassName('pb-text')[0];\n",
       "                  var fill = root.getElementsByClassName('pb-fill')[0];\n",
       "\n",
       "                  text.innerHTML = 'Simulation finished in 0:01:57.';\n",
       "                  \n",
       "            if (100.0 > 0.) {\n",
       "                fill.style.transition = 'width 0.1s linear';\n",
       "            } else {\n",
       "                fill.style.transition = 'none';\n",
       "            }\n",
       "\n",
       "            fill.style.width = '100.0%';\n",
       "            fill.style.animation = 'none';\n",
       "            fill.style.backgroundImage = 'none'\n",
       "        \n",
       "                  \n",
       "                fill.style.animation = 'none';\n",
       "                fill.style.backgroundImage = 'none';\n",
       "            \n",
       "              })();\n",
       "        "
      ],
      "text/plain": [
       "<IPython.core.display.Javascript object>"
      ]
     },
     "metadata": {},
     "output_type": "display_data"
    },
    {
     "name": "stdout",
     "output_type": "stream",
     "text": [
      "seed = 104\n",
      "backend = 'nengo_ocl'\n",
      "dt = 0.001\n",
      "neuron_type = 'default'\n",
      "n_neurons_scale = 1\n",
      "n_neurons_scale_combined = 0.25\n",
      "s_crosstalk = 0.01\n",
      "s_evidence = 10\n",
      "n_samples = 10000\n",
      "t_senso = 0\n",
      "vocab = <nengo_spa.vocabulary.Vocabulary object at 0x7f9200e9b210>\n",
      "xp = <experiments.Xp1 object at 0x7f921cd41e10>\n",
      "proc_feedback = 0.9\n",
      "proc_feedback_synapse = 0.005\n",
      "GW_feedback = 1\n",
      "GW_threshold = 0.5\n",
      "GW_scale = 20\n",
      "BG_thr = 0.1\n",
      "BG_bias = 0.5\n",
      "integrator_reset = True\n",
      "data = <data.Data object at 0x7f921cb27fd0>\n",
      "\t seed 6/20\n",
      "running run_seed105_crosstalk0.01\n"
     ]
    },
    {
     "data": {
      "text/html": [
       "\n",
       "                <div id=\"99370de8-436c-4d2a-b38e-2f59df5c4f24\" style=\"\n",
       "                    width: 100%;\n",
       "                    border: 1px solid #cfcfcf;\n",
       "                    border-radius: 4px;\n",
       "                    text-align: center;\n",
       "                    position: relative;\">\n",
       "                  <div class=\"pb-text\" style=\"\n",
       "                      position: absolute;\n",
       "                      width: 100%;\">\n",
       "                    0%\n",
       "                  </div>\n",
       "                  <div class=\"pb-fill\" style=\"\n",
       "                      background-color: #bdd2e6;\n",
       "                      width: 0%;\">\n",
       "                    <style type=\"text/css\" scoped=\"scoped\">\n",
       "                        @keyframes pb-fill-anim {\n",
       "                            0% { background-position: 0 0; }\n",
       "                            100% { background-position: 100px 0; }\n",
       "                        }\n",
       "                    </style>\n",
       "                    &nbsp;\n",
       "                  </div>\n",
       "                </div>"
      ],
      "text/plain": [
       "HtmlProgressBar cannot be displayed. Please use the TerminalProgressBar. It can be enabled with `nengo.rc.set('progress', 'progress_bar', 'nengo.utils.progress.TerminalProgressBar')`."
      ]
     },
     "metadata": {},
     "output_type": "display_data"
    },
    {
     "data": {
      "application/javascript": [
       "\n",
       "              (function () {\n",
       "                  var root = document.getElementById('99370de8-436c-4d2a-b38e-2f59df5c4f24');\n",
       "                  var text = root.getElementsByClassName('pb-text')[0];\n",
       "                  var fill = root.getElementsByClassName('pb-fill')[0];\n",
       "\n",
       "                  text.innerHTML = 'Simulation finished in 0:01:59.';\n",
       "                  \n",
       "            if (100.0 > 0.) {\n",
       "                fill.style.transition = 'width 0.1s linear';\n",
       "            } else {\n",
       "                fill.style.transition = 'none';\n",
       "            }\n",
       "\n",
       "            fill.style.width = '100.0%';\n",
       "            fill.style.animation = 'none';\n",
       "            fill.style.backgroundImage = 'none'\n",
       "        \n",
       "                  \n",
       "                fill.style.animation = 'none';\n",
       "                fill.style.backgroundImage = 'none';\n",
       "            \n",
       "              })();\n",
       "        "
      ],
      "text/plain": [
       "<IPython.core.display.Javascript object>"
      ]
     },
     "metadata": {},
     "output_type": "display_data"
    },
    {
     "name": "stdout",
     "output_type": "stream",
     "text": [
      "seed = 105\n",
      "backend = 'nengo_ocl'\n",
      "dt = 0.001\n",
      "neuron_type = 'default'\n",
      "n_neurons_scale = 1\n",
      "n_neurons_scale_combined = 0.25\n",
      "s_crosstalk = 0.01\n",
      "s_evidence = 10\n",
      "n_samples = 10000\n",
      "t_senso = 0\n",
      "vocab = <nengo_spa.vocabulary.Vocabulary object at 0x7f921c8302d0>\n",
      "xp = <experiments.Xp1 object at 0x7f921c830110>\n",
      "proc_feedback = 0.9\n",
      "proc_feedback_synapse = 0.005\n",
      "GW_feedback = 1\n",
      "GW_threshold = 0.5\n",
      "GW_scale = 20\n",
      "BG_thr = 0.1\n",
      "BG_bias = 0.5\n",
      "integrator_reset = True\n",
      "data = <data.Data object at 0x7f921d962850>\n",
      "\t seed 7/20\n",
      "running run_seed106_crosstalk0.01\n"
     ]
    },
    {
     "data": {
      "text/html": [
       "\n",
       "                <div id=\"fa5863ff-f7c6-41b6-9987-54bcf60015ca\" style=\"\n",
       "                    width: 100%;\n",
       "                    border: 1px solid #cfcfcf;\n",
       "                    border-radius: 4px;\n",
       "                    text-align: center;\n",
       "                    position: relative;\">\n",
       "                  <div class=\"pb-text\" style=\"\n",
       "                      position: absolute;\n",
       "                      width: 100%;\">\n",
       "                    0%\n",
       "                  </div>\n",
       "                  <div class=\"pb-fill\" style=\"\n",
       "                      background-color: #bdd2e6;\n",
       "                      width: 0%;\">\n",
       "                    <style type=\"text/css\" scoped=\"scoped\">\n",
       "                        @keyframes pb-fill-anim {\n",
       "                            0% { background-position: 0 0; }\n",
       "                            100% { background-position: 100px 0; }\n",
       "                        }\n",
       "                    </style>\n",
       "                    &nbsp;\n",
       "                  </div>\n",
       "                </div>"
      ],
      "text/plain": [
       "HtmlProgressBar cannot be displayed. Please use the TerminalProgressBar. It can be enabled with `nengo.rc.set('progress', 'progress_bar', 'nengo.utils.progress.TerminalProgressBar')`."
      ]
     },
     "metadata": {},
     "output_type": "display_data"
    },
    {
     "data": {
      "application/javascript": [
       "\n",
       "              (function () {\n",
       "                  var root = document.getElementById('fa5863ff-f7c6-41b6-9987-54bcf60015ca');\n",
       "                  var text = root.getElementsByClassName('pb-text')[0];\n",
       "                  var fill = root.getElementsByClassName('pb-fill')[0];\n",
       "\n",
       "                  text.innerHTML = 'Simulation finished in 0:02:02.';\n",
       "                  \n",
       "            if (100.0 > 0.) {\n",
       "                fill.style.transition = 'width 0.1s linear';\n",
       "            } else {\n",
       "                fill.style.transition = 'none';\n",
       "            }\n",
       "\n",
       "            fill.style.width = '100.0%';\n",
       "            fill.style.animation = 'none';\n",
       "            fill.style.backgroundImage = 'none'\n",
       "        \n",
       "                  \n",
       "                fill.style.animation = 'none';\n",
       "                fill.style.backgroundImage = 'none';\n",
       "            \n",
       "              })();\n",
       "        "
      ],
      "text/plain": [
       "<IPython.core.display.Javascript object>"
      ]
     },
     "metadata": {},
     "output_type": "display_data"
    },
    {
     "name": "stdout",
     "output_type": "stream",
     "text": [
      "seed = 106\n",
      "backend = 'nengo_ocl'\n",
      "dt = 0.001\n",
      "neuron_type = 'default'\n",
      "n_neurons_scale = 1\n",
      "n_neurons_scale_combined = 0.25\n",
      "s_crosstalk = 0.01\n",
      "s_evidence = 10\n",
      "n_samples = 10000\n",
      "t_senso = 0\n",
      "vocab = <nengo_spa.vocabulary.Vocabulary object at 0x7f91c86f3a50>\n",
      "xp = <experiments.Xp1 object at 0x7f921db345d0>\n",
      "proc_feedback = 0.9\n",
      "proc_feedback_synapse = 0.005\n",
      "GW_feedback = 1\n",
      "GW_threshold = 0.5\n",
      "GW_scale = 20\n",
      "BG_thr = 0.1\n",
      "BG_bias = 0.5\n",
      "integrator_reset = True\n",
      "data = <data.Data object at 0x7f921cd42d50>\n",
      "\t seed 8/20\n",
      "running run_seed107_crosstalk0.01\n"
     ]
    },
    {
     "data": {
      "text/html": [
       "\n",
       "                <div id=\"c7ecf093-8b5c-45f5-a87d-78acb2868cfe\" style=\"\n",
       "                    width: 100%;\n",
       "                    border: 1px solid #cfcfcf;\n",
       "                    border-radius: 4px;\n",
       "                    text-align: center;\n",
       "                    position: relative;\">\n",
       "                  <div class=\"pb-text\" style=\"\n",
       "                      position: absolute;\n",
       "                      width: 100%;\">\n",
       "                    0%\n",
       "                  </div>\n",
       "                  <div class=\"pb-fill\" style=\"\n",
       "                      background-color: #bdd2e6;\n",
       "                      width: 0%;\">\n",
       "                    <style type=\"text/css\" scoped=\"scoped\">\n",
       "                        @keyframes pb-fill-anim {\n",
       "                            0% { background-position: 0 0; }\n",
       "                            100% { background-position: 100px 0; }\n",
       "                        }\n",
       "                    </style>\n",
       "                    &nbsp;\n",
       "                  </div>\n",
       "                </div>"
      ],
      "text/plain": [
       "HtmlProgressBar cannot be displayed. Please use the TerminalProgressBar. It can be enabled with `nengo.rc.set('progress', 'progress_bar', 'nengo.utils.progress.TerminalProgressBar')`."
      ]
     },
     "metadata": {},
     "output_type": "display_data"
    },
    {
     "data": {
      "application/javascript": [
       "\n",
       "              (function () {\n",
       "                  var root = document.getElementById('c7ecf093-8b5c-45f5-a87d-78acb2868cfe');\n",
       "                  var text = root.getElementsByClassName('pb-text')[0];\n",
       "                  var fill = root.getElementsByClassName('pb-fill')[0];\n",
       "\n",
       "                  text.innerHTML = 'Simulation finished in 0:02:06.';\n",
       "                  \n",
       "            if (100.0 > 0.) {\n",
       "                fill.style.transition = 'width 0.1s linear';\n",
       "            } else {\n",
       "                fill.style.transition = 'none';\n",
       "            }\n",
       "\n",
       "            fill.style.width = '100.0%';\n",
       "            fill.style.animation = 'none';\n",
       "            fill.style.backgroundImage = 'none'\n",
       "        \n",
       "                  \n",
       "                fill.style.animation = 'none';\n",
       "                fill.style.backgroundImage = 'none';\n",
       "            \n",
       "              })();\n",
       "        "
      ],
      "text/plain": [
       "<IPython.core.display.Javascript object>"
      ]
     },
     "metadata": {},
     "output_type": "display_data"
    },
    {
     "name": "stdout",
     "output_type": "stream",
     "text": [
      "seed = 107\n",
      "backend = 'nengo_ocl'\n",
      "dt = 0.001\n",
      "neuron_type = 'default'\n",
      "n_neurons_scale = 1\n",
      "n_neurons_scale_combined = 0.25\n",
      "s_crosstalk = 0.01\n",
      "s_evidence = 10\n",
      "n_samples = 10000\n",
      "t_senso = 0\n",
      "vocab = <nengo_spa.vocabulary.Vocabulary object at 0x7f9200a8b9d0>\n",
      "xp = <experiments.Xp1 object at 0x7f921d967890>\n",
      "proc_feedback = 0.9\n",
      "proc_feedback_synapse = 0.005\n",
      "GW_feedback = 1\n",
      "GW_threshold = 0.5\n",
      "GW_scale = 20\n",
      "BG_thr = 0.1\n",
      "BG_bias = 0.5\n",
      "integrator_reset = True\n",
      "data = <data.Data object at 0x7f921c3f37d0>\n",
      "\t seed 9/20\n",
      "running run_seed108_crosstalk0.01\n"
     ]
    },
    {
     "data": {
      "text/html": [
       "\n",
       "                <div id=\"3fa47b81-ab85-48db-8405-b9e1baa9661b\" style=\"\n",
       "                    width: 100%;\n",
       "                    border: 1px solid #cfcfcf;\n",
       "                    border-radius: 4px;\n",
       "                    text-align: center;\n",
       "                    position: relative;\">\n",
       "                  <div class=\"pb-text\" style=\"\n",
       "                      position: absolute;\n",
       "                      width: 100%;\">\n",
       "                    0%\n",
       "                  </div>\n",
       "                  <div class=\"pb-fill\" style=\"\n",
       "                      background-color: #bdd2e6;\n",
       "                      width: 0%;\">\n",
       "                    <style type=\"text/css\" scoped=\"scoped\">\n",
       "                        @keyframes pb-fill-anim {\n",
       "                            0% { background-position: 0 0; }\n",
       "                            100% { background-position: 100px 0; }\n",
       "                        }\n",
       "                    </style>\n",
       "                    &nbsp;\n",
       "                  </div>\n",
       "                </div>"
      ],
      "text/plain": [
       "HtmlProgressBar cannot be displayed. Please use the TerminalProgressBar. It can be enabled with `nengo.rc.set('progress', 'progress_bar', 'nengo.utils.progress.TerminalProgressBar')`."
      ]
     },
     "metadata": {},
     "output_type": "display_data"
    },
    {
     "data": {
      "application/javascript": [
       "\n",
       "              (function () {\n",
       "                  var root = document.getElementById('3fa47b81-ab85-48db-8405-b9e1baa9661b');\n",
       "                  var text = root.getElementsByClassName('pb-text')[0];\n",
       "                  var fill = root.getElementsByClassName('pb-fill')[0];\n",
       "\n",
       "                  text.innerHTML = 'Simulation finished in 0:02:11.';\n",
       "                  \n",
       "            if (100.0 > 0.) {\n",
       "                fill.style.transition = 'width 0.1s linear';\n",
       "            } else {\n",
       "                fill.style.transition = 'none';\n",
       "            }\n",
       "\n",
       "            fill.style.width = '100.0%';\n",
       "            fill.style.animation = 'none';\n",
       "            fill.style.backgroundImage = 'none'\n",
       "        \n",
       "                  \n",
       "                fill.style.animation = 'none';\n",
       "                fill.style.backgroundImage = 'none';\n",
       "            \n",
       "              })();\n",
       "        "
      ],
      "text/plain": [
       "<IPython.core.display.Javascript object>"
      ]
     },
     "metadata": {},
     "output_type": "display_data"
    },
    {
     "name": "stdout",
     "output_type": "stream",
     "text": [
      "seed = 108\n",
      "backend = 'nengo_ocl'\n",
      "dt = 0.001\n",
      "neuron_type = 'default'\n",
      "n_neurons_scale = 1\n",
      "n_neurons_scale_combined = 0.25\n",
      "s_crosstalk = 0.01\n",
      "s_evidence = 10\n",
      "n_samples = 10000\n",
      "t_senso = 0\n",
      "vocab = <nengo_spa.vocabulary.Vocabulary object at 0x7f91c955fbd0>\n",
      "xp = <experiments.Xp1 object at 0x7f921cef1a10>\n",
      "proc_feedback = 0.9\n",
      "proc_feedback_synapse = 0.005\n",
      "GW_feedback = 1\n",
      "GW_threshold = 0.5\n",
      "GW_scale = 20\n",
      "BG_thr = 0.1\n",
      "BG_bias = 0.5\n",
      "integrator_reset = True\n",
      "data = <data.Data object at 0x7f9200f1ab50>\n",
      "\t seed 10/20\n",
      "running run_seed109_crosstalk0.01\n"
     ]
    },
    {
     "name": "stderr",
     "output_type": "stream",
     "text": [
      "/home/ubuntu/anaconda3/envs/CTN/lib/python3.7/site-packages/nengo_spa/vocabulary.py:173: UserWarning: Could not create a semantic pointer with max_similarity=0.10 (D=96, M=18, similarity=0.10)\n",
      "  len(self._key2idx), best_sim))\n"
     ]
    },
    {
     "data": {
      "text/html": [
       "\n",
       "                <div id=\"cba2f3ab-ee14-43bd-9c25-b4e340c39638\" style=\"\n",
       "                    width: 100%;\n",
       "                    border: 1px solid #cfcfcf;\n",
       "                    border-radius: 4px;\n",
       "                    text-align: center;\n",
       "                    position: relative;\">\n",
       "                  <div class=\"pb-text\" style=\"\n",
       "                      position: absolute;\n",
       "                      width: 100%;\">\n",
       "                    0%\n",
       "                  </div>\n",
       "                  <div class=\"pb-fill\" style=\"\n",
       "                      background-color: #bdd2e6;\n",
       "                      width: 0%;\">\n",
       "                    <style type=\"text/css\" scoped=\"scoped\">\n",
       "                        @keyframes pb-fill-anim {\n",
       "                            0% { background-position: 0 0; }\n",
       "                            100% { background-position: 100px 0; }\n",
       "                        }\n",
       "                    </style>\n",
       "                    &nbsp;\n",
       "                  </div>\n",
       "                </div>"
      ],
      "text/plain": [
       "HtmlProgressBar cannot be displayed. Please use the TerminalProgressBar. It can be enabled with `nengo.rc.set('progress', 'progress_bar', 'nengo.utils.progress.TerminalProgressBar')`."
      ]
     },
     "metadata": {},
     "output_type": "display_data"
    },
    {
     "data": {
      "application/javascript": [
       "\n",
       "              (function () {\n",
       "                  var root = document.getElementById('cba2f3ab-ee14-43bd-9c25-b4e340c39638');\n",
       "                  var text = root.getElementsByClassName('pb-text')[0];\n",
       "                  var fill = root.getElementsByClassName('pb-fill')[0];\n",
       "\n",
       "                  text.innerHTML = 'Simulation finished in 0:02:18.';\n",
       "                  \n",
       "            if (100.0 > 0.) {\n",
       "                fill.style.transition = 'width 0.1s linear';\n",
       "            } else {\n",
       "                fill.style.transition = 'none';\n",
       "            }\n",
       "\n",
       "            fill.style.width = '100.0%';\n",
       "            fill.style.animation = 'none';\n",
       "            fill.style.backgroundImage = 'none'\n",
       "        \n",
       "                  \n",
       "                fill.style.animation = 'none';\n",
       "                fill.style.backgroundImage = 'none';\n",
       "            \n",
       "              })();\n",
       "        "
      ],
      "text/plain": [
       "<IPython.core.display.Javascript object>"
      ]
     },
     "metadata": {},
     "output_type": "display_data"
    },
    {
     "name": "stdout",
     "output_type": "stream",
     "text": [
      "seed = 109\n",
      "backend = 'nengo_ocl'\n",
      "dt = 0.001\n",
      "neuron_type = 'default'\n",
      "n_neurons_scale = 1\n",
      "n_neurons_scale_combined = 0.25\n",
      "s_crosstalk = 0.01\n",
      "s_evidence = 10\n",
      "n_samples = 10000\n",
      "t_senso = 0\n",
      "vocab = <nengo_spa.vocabulary.Vocabulary object at 0x7f921e2f8090>\n",
      "xp = <experiments.Xp1 object at 0x7f91c93bf890>\n",
      "proc_feedback = 0.9\n",
      "proc_feedback_synapse = 0.005\n",
      "GW_feedback = 1\n",
      "GW_threshold = 0.5\n",
      "GW_scale = 20\n",
      "BG_thr = 0.1\n",
      "BG_bias = 0.5\n",
      "integrator_reset = True\n",
      "data = <data.Data object at 0x7f91c853fd90>\n",
      "\t seed 11/20\n",
      "running run_seed110_crosstalk0.01\n"
     ]
    },
    {
     "data": {
      "text/html": [
       "\n",
       "                <div id=\"61f5afcc-9680-4dd7-a80a-2f5ce2ea1c0c\" style=\"\n",
       "                    width: 100%;\n",
       "                    border: 1px solid #cfcfcf;\n",
       "                    border-radius: 4px;\n",
       "                    text-align: center;\n",
       "                    position: relative;\">\n",
       "                  <div class=\"pb-text\" style=\"\n",
       "                      position: absolute;\n",
       "                      width: 100%;\">\n",
       "                    0%\n",
       "                  </div>\n",
       "                  <div class=\"pb-fill\" style=\"\n",
       "                      background-color: #bdd2e6;\n",
       "                      width: 0%;\">\n",
       "                    <style type=\"text/css\" scoped=\"scoped\">\n",
       "                        @keyframes pb-fill-anim {\n",
       "                            0% { background-position: 0 0; }\n",
       "                            100% { background-position: 100px 0; }\n",
       "                        }\n",
       "                    </style>\n",
       "                    &nbsp;\n",
       "                  </div>\n",
       "                </div>"
      ],
      "text/plain": [
       "HtmlProgressBar cannot be displayed. Please use the TerminalProgressBar. It can be enabled with `nengo.rc.set('progress', 'progress_bar', 'nengo.utils.progress.TerminalProgressBar')`."
      ]
     },
     "metadata": {},
     "output_type": "display_data"
    },
    {
     "data": {
      "application/javascript": [
       "\n",
       "              (function () {\n",
       "                  var root = document.getElementById('61f5afcc-9680-4dd7-a80a-2f5ce2ea1c0c');\n",
       "                  var text = root.getElementsByClassName('pb-text')[0];\n",
       "                  var fill = root.getElementsByClassName('pb-fill')[0];\n",
       "\n",
       "                  text.innerHTML = 'Simulation finished in 0:02:18.';\n",
       "                  \n",
       "            if (100.0 > 0.) {\n",
       "                fill.style.transition = 'width 0.1s linear';\n",
       "            } else {\n",
       "                fill.style.transition = 'none';\n",
       "            }\n",
       "\n",
       "            fill.style.width = '100.0%';\n",
       "            fill.style.animation = 'none';\n",
       "            fill.style.backgroundImage = 'none'\n",
       "        \n",
       "                  \n",
       "                fill.style.animation = 'none';\n",
       "                fill.style.backgroundImage = 'none';\n",
       "            \n",
       "              })();\n",
       "        "
      ],
      "text/plain": [
       "<IPython.core.display.Javascript object>"
      ]
     },
     "metadata": {},
     "output_type": "display_data"
    },
    {
     "name": "stdout",
     "output_type": "stream",
     "text": [
      "seed = 110\n",
      "backend = 'nengo_ocl'\n",
      "dt = 0.001\n",
      "neuron_type = 'default'\n",
      "n_neurons_scale = 1\n",
      "n_neurons_scale_combined = 0.25\n",
      "s_crosstalk = 0.01\n",
      "s_evidence = 10\n",
      "n_samples = 10000\n",
      "t_senso = 0\n",
      "vocab = <nengo_spa.vocabulary.Vocabulary object at 0x7f91c8242f10>\n",
      "xp = <experiments.Xp1 object at 0x7f91cbbf9710>\n",
      "proc_feedback = 0.9\n",
      "proc_feedback_synapse = 0.005\n",
      "GW_feedback = 1\n",
      "GW_threshold = 0.5\n",
      "GW_scale = 20\n",
      "BG_thr = 0.1\n",
      "BG_bias = 0.5\n",
      "integrator_reset = True\n",
      "data = <data.Data object at 0x7f921dc29f50>\n",
      "\t seed 12/20\n",
      "running run_seed111_crosstalk0.01\n"
     ]
    },
    {
     "name": "stderr",
     "output_type": "stream",
     "text": [
      "/home/ubuntu/anaconda3/envs/CTN/lib/python3.7/site-packages/nengo_spa/vocabulary.py:173: UserWarning: Could not create a semantic pointer with max_similarity=0.10 (D=96, M=20, similarity=0.12)\n",
      "  len(self._key2idx), best_sim))\n"
     ]
    },
    {
     "data": {
      "text/html": [
       "\n",
       "                <div id=\"52dc4527-cf61-4cda-bd68-4e44542c7d0c\" style=\"\n",
       "                    width: 100%;\n",
       "                    border: 1px solid #cfcfcf;\n",
       "                    border-radius: 4px;\n",
       "                    text-align: center;\n",
       "                    position: relative;\">\n",
       "                  <div class=\"pb-text\" style=\"\n",
       "                      position: absolute;\n",
       "                      width: 100%;\">\n",
       "                    0%\n",
       "                  </div>\n",
       "                  <div class=\"pb-fill\" style=\"\n",
       "                      background-color: #bdd2e6;\n",
       "                      width: 0%;\">\n",
       "                    <style type=\"text/css\" scoped=\"scoped\">\n",
       "                        @keyframes pb-fill-anim {\n",
       "                            0% { background-position: 0 0; }\n",
       "                            100% { background-position: 100px 0; }\n",
       "                        }\n",
       "                    </style>\n",
       "                    &nbsp;\n",
       "                  </div>\n",
       "                </div>"
      ],
      "text/plain": [
       "HtmlProgressBar cannot be displayed. Please use the TerminalProgressBar. It can be enabled with `nengo.rc.set('progress', 'progress_bar', 'nengo.utils.progress.TerminalProgressBar')`."
      ]
     },
     "metadata": {},
     "output_type": "display_data"
    },
    {
     "data": {
      "application/javascript": [
       "\n",
       "              (function () {\n",
       "                  var root = document.getElementById('52dc4527-cf61-4cda-bd68-4e44542c7d0c');\n",
       "                  var text = root.getElementsByClassName('pb-text')[0];\n",
       "                  var fill = root.getElementsByClassName('pb-fill')[0];\n",
       "\n",
       "                  text.innerHTML = 'Simulation finished in 0:02:16.';\n",
       "                  \n",
       "            if (100.0 > 0.) {\n",
       "                fill.style.transition = 'width 0.1s linear';\n",
       "            } else {\n",
       "                fill.style.transition = 'none';\n",
       "            }\n",
       "\n",
       "            fill.style.width = '100.0%';\n",
       "            fill.style.animation = 'none';\n",
       "            fill.style.backgroundImage = 'none'\n",
       "        \n",
       "                  \n",
       "                fill.style.animation = 'none';\n",
       "                fill.style.backgroundImage = 'none';\n",
       "            \n",
       "              })();\n",
       "        "
      ],
      "text/plain": [
       "<IPython.core.display.Javascript object>"
      ]
     },
     "metadata": {},
     "output_type": "display_data"
    },
    {
     "name": "stdout",
     "output_type": "stream",
     "text": [
      "seed = 111\n",
      "backend = 'nengo_ocl'\n",
      "dt = 0.001\n",
      "neuron_type = 'default'\n",
      "n_neurons_scale = 1\n",
      "n_neurons_scale_combined = 0.25\n",
      "s_crosstalk = 0.01\n",
      "s_evidence = 10\n",
      "n_samples = 10000\n",
      "t_senso = 0\n",
      "vocab = <nengo_spa.vocabulary.Vocabulary object at 0x7f91c80feb90>\n",
      "xp = <experiments.Xp1 object at 0x7f91c977f810>\n",
      "proc_feedback = 0.9\n",
      "proc_feedback_synapse = 0.005\n",
      "GW_feedback = 1\n",
      "GW_threshold = 0.5\n",
      "GW_scale = 20\n",
      "BG_thr = 0.1\n",
      "BG_bias = 0.5\n",
      "integrator_reset = True\n",
      "data = <data.Data object at 0x7f9200842050>\n",
      "\t seed 13/20\n",
      "running run_seed112_crosstalk0.01\n"
     ]
    },
    {
     "data": {
      "text/html": [
       "\n",
       "                <div id=\"424b1942-35d1-4854-b311-10372c507be2\" style=\"\n",
       "                    width: 100%;\n",
       "                    border: 1px solid #cfcfcf;\n",
       "                    border-radius: 4px;\n",
       "                    text-align: center;\n",
       "                    position: relative;\">\n",
       "                  <div class=\"pb-text\" style=\"\n",
       "                      position: absolute;\n",
       "                      width: 100%;\">\n",
       "                    0%\n",
       "                  </div>\n",
       "                  <div class=\"pb-fill\" style=\"\n",
       "                      background-color: #bdd2e6;\n",
       "                      width: 0%;\">\n",
       "                    <style type=\"text/css\" scoped=\"scoped\">\n",
       "                        @keyframes pb-fill-anim {\n",
       "                            0% { background-position: 0 0; }\n",
       "                            100% { background-position: 100px 0; }\n",
       "                        }\n",
       "                    </style>\n",
       "                    &nbsp;\n",
       "                  </div>\n",
       "                </div>"
      ],
      "text/plain": [
       "HtmlProgressBar cannot be displayed. Please use the TerminalProgressBar. It can be enabled with `nengo.rc.set('progress', 'progress_bar', 'nengo.utils.progress.TerminalProgressBar')`."
      ]
     },
     "metadata": {},
     "output_type": "display_data"
    },
    {
     "data": {
      "application/javascript": [
       "\n",
       "              (function () {\n",
       "                  var root = document.getElementById('424b1942-35d1-4854-b311-10372c507be2');\n",
       "                  var text = root.getElementsByClassName('pb-text')[0];\n",
       "                  var fill = root.getElementsByClassName('pb-fill')[0];\n",
       "\n",
       "                  text.innerHTML = 'Simulation finished in 0:02:41.';\n",
       "                  \n",
       "            if (100.0 > 0.) {\n",
       "                fill.style.transition = 'width 0.1s linear';\n",
       "            } else {\n",
       "                fill.style.transition = 'none';\n",
       "            }\n",
       "\n",
       "            fill.style.width = '100.0%';\n",
       "            fill.style.animation = 'none';\n",
       "            fill.style.backgroundImage = 'none'\n",
       "        \n",
       "                  \n",
       "                fill.style.animation = 'none';\n",
       "                fill.style.backgroundImage = 'none';\n",
       "            \n",
       "              })();\n",
       "        "
      ],
      "text/plain": [
       "<IPython.core.display.Javascript object>"
      ]
     },
     "metadata": {},
     "output_type": "display_data"
    },
    {
     "name": "stdout",
     "output_type": "stream",
     "text": [
      "seed = 112\n",
      "backend = 'nengo_ocl'\n",
      "dt = 0.001\n",
      "neuron_type = 'default'\n",
      "n_neurons_scale = 1\n",
      "n_neurons_scale_combined = 0.25\n",
      "s_crosstalk = 0.01\n",
      "s_evidence = 10\n",
      "n_samples = 10000\n",
      "t_senso = 0\n",
      "vocab = <nengo_spa.vocabulary.Vocabulary object at 0x7f921d8af0d0>\n",
      "xp = <experiments.Xp1 object at 0x7f921e46f410>\n",
      "proc_feedback = 0.9\n",
      "proc_feedback_synapse = 0.005\n",
      "GW_feedback = 1\n",
      "GW_threshold = 0.5\n",
      "GW_scale = 20\n",
      "BG_thr = 0.1\n",
      "BG_bias = 0.5\n",
      "integrator_reset = True\n",
      "data = <data.Data object at 0x7f91cbb94a10>\n",
      "\t seed 14/20\n",
      "running run_seed113_crosstalk0.01\n"
     ]
    },
    {
     "name": "stderr",
     "output_type": "stream",
     "text": [
      "/home/ubuntu/anaconda3/envs/CTN/lib/python3.7/site-packages/nengo_spa/vocabulary.py:173: UserWarning: Could not create a semantic pointer with max_similarity=0.10 (D=96, M=19, similarity=0.11)\n",
      "  len(self._key2idx), best_sim))\n"
     ]
    },
    {
     "data": {
      "text/html": [
       "\n",
       "                <div id=\"3fd95d12-a3d7-4159-97a7-c47f95346867\" style=\"\n",
       "                    width: 100%;\n",
       "                    border: 1px solid #cfcfcf;\n",
       "                    border-radius: 4px;\n",
       "                    text-align: center;\n",
       "                    position: relative;\">\n",
       "                  <div class=\"pb-text\" style=\"\n",
       "                      position: absolute;\n",
       "                      width: 100%;\">\n",
       "                    0%\n",
       "                  </div>\n",
       "                  <div class=\"pb-fill\" style=\"\n",
       "                      background-color: #bdd2e6;\n",
       "                      width: 0%;\">\n",
       "                    <style type=\"text/css\" scoped=\"scoped\">\n",
       "                        @keyframes pb-fill-anim {\n",
       "                            0% { background-position: 0 0; }\n",
       "                            100% { background-position: 100px 0; }\n",
       "                        }\n",
       "                    </style>\n",
       "                    &nbsp;\n",
       "                  </div>\n",
       "                </div>"
      ],
      "text/plain": [
       "HtmlProgressBar cannot be displayed. Please use the TerminalProgressBar. It can be enabled with `nengo.rc.set('progress', 'progress_bar', 'nengo.utils.progress.TerminalProgressBar')`."
      ]
     },
     "metadata": {},
     "output_type": "display_data"
    },
    {
     "data": {
      "application/javascript": [
       "\n",
       "              (function () {\n",
       "                  var root = document.getElementById('3fd95d12-a3d7-4159-97a7-c47f95346867');\n",
       "                  var text = root.getElementsByClassName('pb-text')[0];\n",
       "                  var fill = root.getElementsByClassName('pb-fill')[0];\n",
       "\n",
       "                  text.innerHTML = 'Simulation finished in 0:02:33.';\n",
       "                  \n",
       "            if (100.0 > 0.) {\n",
       "                fill.style.transition = 'width 0.1s linear';\n",
       "            } else {\n",
       "                fill.style.transition = 'none';\n",
       "            }\n",
       "\n",
       "            fill.style.width = '100.0%';\n",
       "            fill.style.animation = 'none';\n",
       "            fill.style.backgroundImage = 'none'\n",
       "        \n",
       "                  \n",
       "                fill.style.animation = 'none';\n",
       "                fill.style.backgroundImage = 'none';\n",
       "            \n",
       "              })();\n",
       "        "
      ],
      "text/plain": [
       "<IPython.core.display.Javascript object>"
      ]
     },
     "metadata": {},
     "output_type": "display_data"
    },
    {
     "name": "stdout",
     "output_type": "stream",
     "text": [
      "seed = 113\n",
      "backend = 'nengo_ocl'\n",
      "dt = 0.001\n",
      "neuron_type = 'default'\n",
      "n_neurons_scale = 1\n",
      "n_neurons_scale_combined = 0.25\n",
      "s_crosstalk = 0.01\n",
      "s_evidence = 10\n",
      "n_samples = 10000\n",
      "t_senso = 0\n",
      "vocab = <nengo_spa.vocabulary.Vocabulary object at 0x7f91c8f60450>\n",
      "xp = <experiments.Xp1 object at 0x7f91c8f44e10>\n",
      "proc_feedback = 0.9\n",
      "proc_feedback_synapse = 0.005\n",
      "GW_feedback = 1\n",
      "GW_threshold = 0.5\n",
      "GW_scale = 20\n",
      "BG_thr = 0.1\n",
      "BG_bias = 0.5\n",
      "integrator_reset = True\n",
      "data = <data.Data object at 0x7f91c93b8cd0>\n",
      "\t seed 15/20\n",
      "running run_seed114_crosstalk0.01\n"
     ]
    },
    {
     "data": {
      "text/html": [
       "\n",
       "                <div id=\"11b16377-81d1-41a3-b763-35706aa9091c\" style=\"\n",
       "                    width: 100%;\n",
       "                    border: 1px solid #cfcfcf;\n",
       "                    border-radius: 4px;\n",
       "                    text-align: center;\n",
       "                    position: relative;\">\n",
       "                  <div class=\"pb-text\" style=\"\n",
       "                      position: absolute;\n",
       "                      width: 100%;\">\n",
       "                    0%\n",
       "                  </div>\n",
       "                  <div class=\"pb-fill\" style=\"\n",
       "                      background-color: #bdd2e6;\n",
       "                      width: 0%;\">\n",
       "                    <style type=\"text/css\" scoped=\"scoped\">\n",
       "                        @keyframes pb-fill-anim {\n",
       "                            0% { background-position: 0 0; }\n",
       "                            100% { background-position: 100px 0; }\n",
       "                        }\n",
       "                    </style>\n",
       "                    &nbsp;\n",
       "                  </div>\n",
       "                </div>"
      ],
      "text/plain": [
       "HtmlProgressBar cannot be displayed. Please use the TerminalProgressBar. It can be enabled with `nengo.rc.set('progress', 'progress_bar', 'nengo.utils.progress.TerminalProgressBar')`."
      ]
     },
     "metadata": {},
     "output_type": "display_data"
    },
    {
     "data": {
      "application/javascript": [
       "\n",
       "              (function () {\n",
       "                  var root = document.getElementById('11b16377-81d1-41a3-b763-35706aa9091c');\n",
       "                  var text = root.getElementsByClassName('pb-text')[0];\n",
       "                  var fill = root.getElementsByClassName('pb-fill')[0];\n",
       "\n",
       "                  text.innerHTML = 'Simulation finished in 0:02:50.';\n",
       "                  \n",
       "            if (100.0 > 0.) {\n",
       "                fill.style.transition = 'width 0.1s linear';\n",
       "            } else {\n",
       "                fill.style.transition = 'none';\n",
       "            }\n",
       "\n",
       "            fill.style.width = '100.0%';\n",
       "            fill.style.animation = 'none';\n",
       "            fill.style.backgroundImage = 'none'\n",
       "        \n",
       "                  \n",
       "                fill.style.animation = 'none';\n",
       "                fill.style.backgroundImage = 'none';\n",
       "            \n",
       "              })();\n",
       "        "
      ],
      "text/plain": [
       "<IPython.core.display.Javascript object>"
      ]
     },
     "metadata": {},
     "output_type": "display_data"
    },
    {
     "name": "stdout",
     "output_type": "stream",
     "text": [
      "seed = 114\n",
      "backend = 'nengo_ocl'\n",
      "dt = 0.001\n",
      "neuron_type = 'default'\n",
      "n_neurons_scale = 1\n",
      "n_neurons_scale_combined = 0.25\n",
      "s_crosstalk = 0.01\n",
      "s_evidence = 10\n",
      "n_samples = 10000\n",
      "t_senso = 0\n",
      "vocab = <nengo_spa.vocabulary.Vocabulary object at 0x7f91cacd7090>\n",
      "xp = <experiments.Xp1 object at 0x7f921ca68250>\n",
      "proc_feedback = 0.9\n",
      "proc_feedback_synapse = 0.005\n",
      "GW_feedback = 1\n",
      "GW_threshold = 0.5\n",
      "GW_scale = 20\n",
      "BG_thr = 0.1\n",
      "BG_bias = 0.5\n",
      "integrator_reset = True\n",
      "data = <data.Data object at 0x7f91cad5be10>\n",
      "\t seed 16/20\n",
      "running run_seed115_crosstalk0.01\n"
     ]
    },
    {
     "name": "stderr",
     "output_type": "stream",
     "text": [
      "/home/ubuntu/anaconda3/envs/CTN/lib/python3.7/site-packages/nengo_spa/vocabulary.py:173: UserWarning: Could not create a semantic pointer with max_similarity=0.10 (D=96, M=19, similarity=0.10)\n",
      "  len(self._key2idx), best_sim))\n"
     ]
    },
    {
     "data": {
      "text/html": [
       "\n",
       "                <div id=\"f9300590-19a2-4fff-8cec-52aa3cb507ab\" style=\"\n",
       "                    width: 100%;\n",
       "                    border: 1px solid #cfcfcf;\n",
       "                    border-radius: 4px;\n",
       "                    text-align: center;\n",
       "                    position: relative;\">\n",
       "                  <div class=\"pb-text\" style=\"\n",
       "                      position: absolute;\n",
       "                      width: 100%;\">\n",
       "                    0%\n",
       "                  </div>\n",
       "                  <div class=\"pb-fill\" style=\"\n",
       "                      background-color: #bdd2e6;\n",
       "                      width: 0%;\">\n",
       "                    <style type=\"text/css\" scoped=\"scoped\">\n",
       "                        @keyframes pb-fill-anim {\n",
       "                            0% { background-position: 0 0; }\n",
       "                            100% { background-position: 100px 0; }\n",
       "                        }\n",
       "                    </style>\n",
       "                    &nbsp;\n",
       "                  </div>\n",
       "                </div>"
      ],
      "text/plain": [
       "HtmlProgressBar cannot be displayed. Please use the TerminalProgressBar. It can be enabled with `nengo.rc.set('progress', 'progress_bar', 'nengo.utils.progress.TerminalProgressBar')`."
      ]
     },
     "metadata": {},
     "output_type": "display_data"
    },
    {
     "data": {
      "application/javascript": [
       "\n",
       "              (function () {\n",
       "                  var root = document.getElementById('f9300590-19a2-4fff-8cec-52aa3cb507ab');\n",
       "                  var text = root.getElementsByClassName('pb-text')[0];\n",
       "                  var fill = root.getElementsByClassName('pb-fill')[0];\n",
       "\n",
       "                  text.innerHTML = 'Simulation finished in 0:02:49.';\n",
       "                  \n",
       "            if (100.0 > 0.) {\n",
       "                fill.style.transition = 'width 0.1s linear';\n",
       "            } else {\n",
       "                fill.style.transition = 'none';\n",
       "            }\n",
       "\n",
       "            fill.style.width = '100.0%';\n",
       "            fill.style.animation = 'none';\n",
       "            fill.style.backgroundImage = 'none'\n",
       "        \n",
       "                  \n",
       "                fill.style.animation = 'none';\n",
       "                fill.style.backgroundImage = 'none';\n",
       "            \n",
       "              })();\n",
       "        "
      ],
      "text/plain": [
       "<IPython.core.display.Javascript object>"
      ]
     },
     "metadata": {},
     "output_type": "display_data"
    },
    {
     "name": "stdout",
     "output_type": "stream",
     "text": [
      "seed = 115\n",
      "backend = 'nengo_ocl'\n",
      "dt = 0.001\n",
      "neuron_type = 'default'\n",
      "n_neurons_scale = 1\n",
      "n_neurons_scale_combined = 0.25\n",
      "s_crosstalk = 0.01\n",
      "s_evidence = 10\n",
      "n_samples = 10000\n",
      "t_senso = 0\n",
      "vocab = <nengo_spa.vocabulary.Vocabulary object at 0x7f91cabd2a10>\n",
      "xp = <experiments.Xp1 object at 0x7f91c93b2ed0>\n",
      "proc_feedback = 0.9\n",
      "proc_feedback_synapse = 0.005\n",
      "GW_feedback = 1\n",
      "GW_threshold = 0.5\n",
      "GW_scale = 20\n",
      "BG_thr = 0.1\n",
      "BG_bias = 0.5\n",
      "integrator_reset = True\n",
      "data = <data.Data object at 0x7f921e083610>\n",
      "\t seed 17/20\n",
      "running run_seed116_crosstalk0.01\n"
     ]
    },
    {
     "data": {
      "text/html": [
       "\n",
       "                <div id=\"ecd82cef-cafa-499f-889f-d83cac3d9a76\" style=\"\n",
       "                    width: 100%;\n",
       "                    border: 1px solid #cfcfcf;\n",
       "                    border-radius: 4px;\n",
       "                    text-align: center;\n",
       "                    position: relative;\">\n",
       "                  <div class=\"pb-text\" style=\"\n",
       "                      position: absolute;\n",
       "                      width: 100%;\">\n",
       "                    0%\n",
       "                  </div>\n",
       "                  <div class=\"pb-fill\" style=\"\n",
       "                      background-color: #bdd2e6;\n",
       "                      width: 0%;\">\n",
       "                    <style type=\"text/css\" scoped=\"scoped\">\n",
       "                        @keyframes pb-fill-anim {\n",
       "                            0% { background-position: 0 0; }\n",
       "                            100% { background-position: 100px 0; }\n",
       "                        }\n",
       "                    </style>\n",
       "                    &nbsp;\n",
       "                  </div>\n",
       "                </div>"
      ],
      "text/plain": [
       "HtmlProgressBar cannot be displayed. Please use the TerminalProgressBar. It can be enabled with `nengo.rc.set('progress', 'progress_bar', 'nengo.utils.progress.TerminalProgressBar')`."
      ]
     },
     "metadata": {},
     "output_type": "display_data"
    },
    {
     "data": {
      "application/javascript": [
       "\n",
       "              (function () {\n",
       "                  var root = document.getElementById('ecd82cef-cafa-499f-889f-d83cac3d9a76');\n",
       "                  var text = root.getElementsByClassName('pb-text')[0];\n",
       "                  var fill = root.getElementsByClassName('pb-fill')[0];\n",
       "\n",
       "                  text.innerHTML = 'Simulation finished in 0:02:08.';\n",
       "                  \n",
       "            if (100.0 > 0.) {\n",
       "                fill.style.transition = 'width 0.1s linear';\n",
       "            } else {\n",
       "                fill.style.transition = 'none';\n",
       "            }\n",
       "\n",
       "            fill.style.width = '100.0%';\n",
       "            fill.style.animation = 'none';\n",
       "            fill.style.backgroundImage = 'none'\n",
       "        \n",
       "                  \n",
       "                fill.style.animation = 'none';\n",
       "                fill.style.backgroundImage = 'none';\n",
       "            \n",
       "              })();\n",
       "        "
      ],
      "text/plain": [
       "<IPython.core.display.Javascript object>"
      ]
     },
     "metadata": {},
     "output_type": "display_data"
    },
    {
     "name": "stdout",
     "output_type": "stream",
     "text": [
      "seed = 116\n",
      "backend = 'nengo_ocl'\n",
      "dt = 0.001\n",
      "neuron_type = 'default'\n",
      "n_neurons_scale = 1\n",
      "n_neurons_scale_combined = 0.25\n",
      "s_crosstalk = 0.01\n",
      "s_evidence = 10\n",
      "n_samples = 10000\n",
      "t_senso = 0\n",
      "vocab = <nengo_spa.vocabulary.Vocabulary object at 0x7f91cacd9910>\n",
      "xp = <experiments.Xp1 object at 0x7f91cacd9610>\n",
      "proc_feedback = 0.9\n",
      "proc_feedback_synapse = 0.005\n",
      "GW_feedback = 1\n",
      "GW_threshold = 0.5\n",
      "GW_scale = 20\n",
      "BG_thr = 0.1\n",
      "BG_bias = 0.5\n",
      "integrator_reset = True\n",
      "data = <data.Data object at 0x7f921e3fad90>\n",
      "\t seed 18/20\n",
      "running run_seed117_crosstalk0.01\n"
     ]
    },
    {
     "data": {
      "text/html": [
       "\n",
       "                <div id=\"c435f48d-dfa1-4e87-99cf-a1167b401602\" style=\"\n",
       "                    width: 100%;\n",
       "                    border: 1px solid #cfcfcf;\n",
       "                    border-radius: 4px;\n",
       "                    text-align: center;\n",
       "                    position: relative;\">\n",
       "                  <div class=\"pb-text\" style=\"\n",
       "                      position: absolute;\n",
       "                      width: 100%;\">\n",
       "                    0%\n",
       "                  </div>\n",
       "                  <div class=\"pb-fill\" style=\"\n",
       "                      background-color: #bdd2e6;\n",
       "                      width: 0%;\">\n",
       "                    <style type=\"text/css\" scoped=\"scoped\">\n",
       "                        @keyframes pb-fill-anim {\n",
       "                            0% { background-position: 0 0; }\n",
       "                            100% { background-position: 100px 0; }\n",
       "                        }\n",
       "                    </style>\n",
       "                    &nbsp;\n",
       "                  </div>\n",
       "                </div>"
      ],
      "text/plain": [
       "HtmlProgressBar cannot be displayed. Please use the TerminalProgressBar. It can be enabled with `nengo.rc.set('progress', 'progress_bar', 'nengo.utils.progress.TerminalProgressBar')`."
      ]
     },
     "metadata": {},
     "output_type": "display_data"
    },
    {
     "data": {
      "application/javascript": [
       "\n",
       "              (function () {\n",
       "                  var root = document.getElementById('c435f48d-dfa1-4e87-99cf-a1167b401602');\n",
       "                  var text = root.getElementsByClassName('pb-text')[0];\n",
       "                  var fill = root.getElementsByClassName('pb-fill')[0];\n",
       "\n",
       "                  text.innerHTML = 'Simulation finished in 0:01:56.';\n",
       "                  \n",
       "            if (100.0 > 0.) {\n",
       "                fill.style.transition = 'width 0.1s linear';\n",
       "            } else {\n",
       "                fill.style.transition = 'none';\n",
       "            }\n",
       "\n",
       "            fill.style.width = '100.0%';\n",
       "            fill.style.animation = 'none';\n",
       "            fill.style.backgroundImage = 'none'\n",
       "        \n",
       "                  \n",
       "                fill.style.animation = 'none';\n",
       "                fill.style.backgroundImage = 'none';\n",
       "            \n",
       "              })();\n",
       "        "
      ],
      "text/plain": [
       "<IPython.core.display.Javascript object>"
      ]
     },
     "metadata": {},
     "output_type": "display_data"
    },
    {
     "name": "stdout",
     "output_type": "stream",
     "text": [
      "seed = 117\n",
      "backend = 'nengo_ocl'\n",
      "dt = 0.001\n",
      "neuron_type = 'default'\n",
      "n_neurons_scale = 1\n",
      "n_neurons_scale_combined = 0.25\n",
      "s_crosstalk = 0.01\n",
      "s_evidence = 10\n",
      "n_samples = 10000\n",
      "t_senso = 0\n",
      "vocab = <nengo_spa.vocabulary.Vocabulary object at 0x7f9200dc0110>\n",
      "xp = <experiments.Xp1 object at 0x7f9200dcb210>\n",
      "proc_feedback = 0.9\n",
      "proc_feedback_synapse = 0.005\n",
      "GW_feedback = 1\n",
      "GW_threshold = 0.5\n",
      "GW_scale = 20\n",
      "BG_thr = 0.1\n",
      "BG_bias = 0.5\n",
      "integrator_reset = True\n",
      "data = <data.Data object at 0x7f9200e34410>\n",
      "\t seed 19/20\n",
      "running run_seed118_crosstalk0.01\n"
     ]
    },
    {
     "data": {
      "text/html": [
       "\n",
       "                <div id=\"0e5f93e6-93ea-4d82-ae66-0cb39845b720\" style=\"\n",
       "                    width: 100%;\n",
       "                    border: 1px solid #cfcfcf;\n",
       "                    border-radius: 4px;\n",
       "                    text-align: center;\n",
       "                    position: relative;\">\n",
       "                  <div class=\"pb-text\" style=\"\n",
       "                      position: absolute;\n",
       "                      width: 100%;\">\n",
       "                    0%\n",
       "                  </div>\n",
       "                  <div class=\"pb-fill\" style=\"\n",
       "                      background-color: #bdd2e6;\n",
       "                      width: 0%;\">\n",
       "                    <style type=\"text/css\" scoped=\"scoped\">\n",
       "                        @keyframes pb-fill-anim {\n",
       "                            0% { background-position: 0 0; }\n",
       "                            100% { background-position: 100px 0; }\n",
       "                        }\n",
       "                    </style>\n",
       "                    &nbsp;\n",
       "                  </div>\n",
       "                </div>"
      ],
      "text/plain": [
       "HtmlProgressBar cannot be displayed. Please use the TerminalProgressBar. It can be enabled with `nengo.rc.set('progress', 'progress_bar', 'nengo.utils.progress.TerminalProgressBar')`."
      ]
     },
     "metadata": {},
     "output_type": "display_data"
    },
    {
     "data": {
      "application/javascript": [
       "\n",
       "              (function () {\n",
       "                  var root = document.getElementById('0e5f93e6-93ea-4d82-ae66-0cb39845b720');\n",
       "                  var text = root.getElementsByClassName('pb-text')[0];\n",
       "                  var fill = root.getElementsByClassName('pb-fill')[0];\n",
       "\n",
       "                  text.innerHTML = 'Simulation finished in 0:01:58.';\n",
       "                  \n",
       "            if (100.0 > 0.) {\n",
       "                fill.style.transition = 'width 0.1s linear';\n",
       "            } else {\n",
       "                fill.style.transition = 'none';\n",
       "            }\n",
       "\n",
       "            fill.style.width = '100.0%';\n",
       "            fill.style.animation = 'none';\n",
       "            fill.style.backgroundImage = 'none'\n",
       "        \n",
       "                  \n",
       "                fill.style.animation = 'none';\n",
       "                fill.style.backgroundImage = 'none';\n",
       "            \n",
       "              })();\n",
       "        "
      ],
      "text/plain": [
       "<IPython.core.display.Javascript object>"
      ]
     },
     "metadata": {},
     "output_type": "display_data"
    },
    {
     "name": "stdout",
     "output_type": "stream",
     "text": [
      "seed = 118\n",
      "backend = 'nengo_ocl'\n",
      "dt = 0.001\n",
      "neuron_type = 'default'\n",
      "n_neurons_scale = 1\n",
      "n_neurons_scale_combined = 0.25\n",
      "s_crosstalk = 0.01\n",
      "s_evidence = 10\n",
      "n_samples = 10000\n",
      "t_senso = 0\n",
      "vocab = <nengo_spa.vocabulary.Vocabulary object at 0x7f921c156750>\n",
      "xp = <experiments.Xp1 object at 0x7f9200dcb2d0>\n",
      "proc_feedback = 0.9\n",
      "proc_feedback_synapse = 0.005\n",
      "GW_feedback = 1\n",
      "GW_threshold = 0.5\n",
      "GW_scale = 20\n",
      "BG_thr = 0.1\n",
      "BG_bias = 0.5\n",
      "integrator_reset = True\n",
      "data = <data.Data object at 0x7f921baf8e10>\n",
      "\t seed 20/20\n",
      "running run_seed119_crosstalk0.01\n"
     ]
    },
    {
     "data": {
      "text/html": [
       "\n",
       "                <div id=\"1c28bfb5-c7dd-4d29-93d1-a9937398cdf8\" style=\"\n",
       "                    width: 100%;\n",
       "                    border: 1px solid #cfcfcf;\n",
       "                    border-radius: 4px;\n",
       "                    text-align: center;\n",
       "                    position: relative;\">\n",
       "                  <div class=\"pb-text\" style=\"\n",
       "                      position: absolute;\n",
       "                      width: 100%;\">\n",
       "                    0%\n",
       "                  </div>\n",
       "                  <div class=\"pb-fill\" style=\"\n",
       "                      background-color: #bdd2e6;\n",
       "                      width: 0%;\">\n",
       "                    <style type=\"text/css\" scoped=\"scoped\">\n",
       "                        @keyframes pb-fill-anim {\n",
       "                            0% { background-position: 0 0; }\n",
       "                            100% { background-position: 100px 0; }\n",
       "                        }\n",
       "                    </style>\n",
       "                    &nbsp;\n",
       "                  </div>\n",
       "                </div>"
      ],
      "text/plain": [
       "HtmlProgressBar cannot be displayed. Please use the TerminalProgressBar. It can be enabled with `nengo.rc.set('progress', 'progress_bar', 'nengo.utils.progress.TerminalProgressBar')`."
      ]
     },
     "metadata": {},
     "output_type": "display_data"
    },
    {
     "data": {
      "application/javascript": [
       "\n",
       "              (function () {\n",
       "                  var root = document.getElementById('1c28bfb5-c7dd-4d29-93d1-a9937398cdf8');\n",
       "                  var text = root.getElementsByClassName('pb-text')[0];\n",
       "                  var fill = root.getElementsByClassName('pb-fill')[0];\n",
       "\n",
       "                  text.innerHTML = 'Simulation finished in 0:01:59.';\n",
       "                  \n",
       "            if (100.0 > 0.) {\n",
       "                fill.style.transition = 'width 0.1s linear';\n",
       "            } else {\n",
       "                fill.style.transition = 'none';\n",
       "            }\n",
       "\n",
       "            fill.style.width = '100.0%';\n",
       "            fill.style.animation = 'none';\n",
       "            fill.style.backgroundImage = 'none'\n",
       "        \n",
       "                  \n",
       "                fill.style.animation = 'none';\n",
       "                fill.style.backgroundImage = 'none';\n",
       "            \n",
       "              })();\n",
       "        "
      ],
      "text/plain": [
       "<IPython.core.display.Javascript object>"
      ]
     },
     "metadata": {},
     "output_type": "display_data"
    },
    {
     "name": "stdout",
     "output_type": "stream",
     "text": [
      "seed = 119\n",
      "backend = 'nengo_ocl'\n",
      "dt = 0.001\n",
      "neuron_type = 'default'\n",
      "n_neurons_scale = 1\n",
      "n_neurons_scale_combined = 0.25\n",
      "s_crosstalk = 0.01\n",
      "s_evidence = 10\n",
      "n_samples = 10000\n",
      "t_senso = 0\n",
      "vocab = <nengo_spa.vocabulary.Vocabulary object at 0x7f921dcba250>\n",
      "xp = <experiments.Xp1 object at 0x7f91c9bede10>\n",
      "proc_feedback = 0.9\n",
      "proc_feedback_synapse = 0.005\n",
      "GW_feedback = 1\n",
      "GW_threshold = 0.5\n",
      "GW_scale = 20\n",
      "BG_thr = 0.1\n",
      "BG_bias = 0.5\n",
      "integrator_reset = True\n",
      "data = <data.Data object at 0x7f921cec1310>\n",
      "4\n",
      "40\n"
     ]
    },
    {
     "data": {
      "image/png": "[encoded data removed]",
      "text/plain": [
       "<Figure size 1152x288 with 2 Axes>"
      ]
     },
     "metadata": {
      "needs_background": "light"
     },
     "output_type": "display_data"
    },
    {
     "name": "stdout",
     "output_type": "stream",
     "text": [
      "rmse: (144.57549861861105, [], [8613.767331298344, 8613.767331298344, 23966.25491594761, 21847.909543488822, 2098.5912590636044, 2788.9366315249868, 11839.69961120822, 10985.216541231448, 8429.146563803435, 8613.767331299663, 19827.564171029895, 20110.18493852562, 5156.731213917029, 4734.8689114337, 182167.10367441256, 182167.10367441562, 10776.59577373646, 11408.45807621918, 21553.28877599306, 21847.909543488822, 19268.322636038985, 17905.218798569847, 16592.114961095474, 15828.25265861416, 11839.699611208023, 10985.216541232188, 14837.769588634623, 14595.148821139966, 9566.871168769929, 9179.629633782792, 3697.902771479089, 4598.248143940141, 10162.733471253367, 10569.975006244405, 18717.081101050335, 8246.52579631048, 7780.413250884345, 5807.453630931787, 28970.303987225998, 23472.277858960704, 3272.600899340437, 2043.6412793879551, 13737.398999102832, 13043.159094114282, 6433.106837584537, 7260.1733458986255, 19657.904937345014, 19657.904937345014, 219217.46788271223, 220154.8811843727, 2725.5343910269225, 3047.774296014865, 16436.94531739242, 18552.251730695752, 24713.931065610865, 20795.5581439952, 18552.251730695752, 18552.251730696727, 14691.052205753564, 18011.425127372528, 23472.277858960584, 21965.211350646416, 6116.280234257023, 9064.306362524248, 4789.560519293629, 7780.413250885598, 432.3633696491694, 13360.143023818526, 13360.143023819472, 11360.593495516687, 8758.355287971193, 7154.805759667583, 5414.91189174395, 29441.7845332527, 29441.78453325422, 27750.92368419554, 29441.78453325422, 16792.553401177105, 18113.414250233327, 17052.725570988172, 18929.93075966927, 32611.33406155312, 32251.161891744563, 15771.864721930933, 14783.17604268837, 8205.838778535868, 11148.421325706615, 226182.12415589398, 226182.12415590073, 17845.242080422315, 15027.348212497394, 16024.036891742995, 18383.586420047868, 1899.7467974034782, 1987.918967215621, 14541.003872876747, 13360.1430238203, 46477.36000495069, 45192.84349551895, 38646.08877853483, 33337.67840117728, 13360.143023818526, 14783.176042687499, 11360.593495518202, 12009.110004952232, 16110.821034351671, 16881.391488897214, 7383.691488894728, 7043.977852530974, 10186.54376162196, 10389.400579803478, 17936.81876162207, 18476.532397988307, 16622.534670713223, 15358.250579805243, 10186.543761621777, 10186.54376162142, 18749.38921616756, 19579.959670715038, 19579.959670712557, 19860.81648889822, 10389.400579803756, 9395.116488894255, 6229.693761621767, 7556.548307078306, 10594.257397985528, 183979.58012526028, 16881.391488894453, 16110.821034350764, 7383.691488894649, 7043.977852530974, 12084.255125258254, 11433.684670713492, 9589.973307075958, 9395.116488894255, 22478.527852530653, 22478.527852530653, 23082.241488894753, 23693.955125258337, 10594.257397985644, 11648.541488894421, 13439.396034349162, 13208.539216169513, 38.62895935277515, 27.198519400493968, 6759.342395737655, 8689.077235215604, 3001.3721222540203, 2096.24608182594, 1037.820398116083, 1311.5421579265599, 1010.2722411599071, 4517.8857964514755, 4253.024916546601, 1917.1069617309088, 2096.2460818256172, 5808.7597560234135, 270623.8750949057, 52.05939930522853, 0.046319638163818615, 5507.898876118538, 4653.316236403929, 6595.911955785315, 7261.633715595573, 1460.403037831388, 1954.9856775461271, 1311.5421579259835, 1384.9725978785793, 3506.442276831525, 2622.998757213087, 22.894119875965785, 14.32455982842007, 281.7288404466937, 316.29840049435944, 1209.9809213030767, 174.64203902000278, 4.073057851240062, 484.8003305785367, 100.36396694229194, 9.109421487637519, 842.0548760331724, 1682.4912396696207, 11884.963966942207, 13229.182148762078, 11239.85487603309, 8103.273057851585, 1297.309421487594, 1765.5276033063903, 5331.654876032898, 5478.6912396704965, 4098.327603306059, 5478.6912396704965, 100.36396694215071, 9.109421487637519, 290540.600330579, 289463.5639669485, 676.945785123972, 529.836694214959, 225.54578512393914, 1025.163966942053, 25275.218512395688, 28893.818512394148, 2026.6366942147363, 1765.5276033057933, 12325.03669421486, 13928.29123966915, 13928.29123966915, 12104.000330578834, 36.21851239667896, 81.32760330589146, 1522.418512396693, 1445.3821487602343, 7867.335620912031, 8226.127630313833, 2469.8914375981117, 1823.1194046954856, 823.5753388906427, 609.9913200895301, 15799.987794824454, 16052.38379952466, 10342.483682016267, 8967.711649114877, 6036.979569207983, 5882.5835645077095, 5140.603541006595, 5431.395550408208, 11598.859710218554, 10140.087677317095, 2777.0794516992282, 3214.6634705006936, 2180.703423497087, 1575.9313905945712, 283767.1617078684, 283767.1617078646, 9741.29566791545, 8779.315644413622, 278.8232824864912, 609.9913200895301, 3214.663470501093, 2088.3074187978405, 6674.563588009467, 6512.1675833099125, 16821.571813628503, 18143.551837129125, 15054.799780723379, 11172.067700819447, 4719.415526904828, 3214.6634705004935, 3445.4554799008547, 3563.8514846017697, 4576.330646277003, 3800.547662307668, 13144.297354046501, 12022.811534072105, 1065.9299064500015, 1734.6043824060182, 4051.1419902972425, 5277.8164662534855, 3800.5476623066656, 4051.1419902965627, 6029.302286227637, 6830.788106202508, 4442.033482282005, 3678.25049831157, 284780.80906798114, 284780.80906798877, 2667.576022355928, 3209.0618423319575, 10332.43422211086, 9731.54273012559, 10743.028550100058, 11373.920042086818, 6504.193778212277, 6504.193778214, 4179.439154291561, 4850.924974267723, 7682.273926178261, 9340.94840213358, 7165.382434193044, 6343.896614219291, 559.2554304940809, 468.6611025041868, 6185.599450224572, 4991.222138263473, 1270.8213984348602, 1270.82139843499, 6830.360461777856, 8583.280358419637, 3924.5206684960253, 4850.564596145042, 6666.06847211379, 5722.316534130132, 14076.872089684759, 14797.748058676607, 10331.908265395115, 9929.324286068586, 6830.360461778448, 6830.360461779039, 6028.900513458145, 6343.48449278729, 15288.332038005145, 16549.791986326447, 7681.820410098103, 6343.484492786158, 3323.0607201757857, 3208.76873051252, 293380.3837175898, 292298.09172793786, 9340.448317075077, 10129.616275731138, 2771.600771855614, 2270.140823535606, 4050.8126581602583, 2986.184751184057, 2771.6007718553324, 2771.600771855991, 18672.12790363795, 18129.543924311045, 10536.200255059439, 11803.952193045528, 2565.01679252719, 2565.016792527547, 7507.52842043412, 8216.696379091016, 730.0108765090273, 962.1605841116722, 13000.267016859994, 9804.705613353122, 8.888069491472473, 625.9360227077342, 2402.8342683218834, 3483.2085373281825, 1601.4974262166284, 1445.4225724151381, 4626.545379433562, 4763.582806334814, 2705.9465490236503, 3027.058829726056, 268343.38748469704, 268343.3874846998, 49.26233849731319, 9.112630895015771, 3723.2833911287985, 4491.507952533281, 6892.106782941667, 6727.069356042342, 5627.80736773687, 5478.7699408371545, 4227.4330987312205, 3138.096256625991, 5331.732513935864, 6086.919648438634, 2117.721987619998, 2602.909122123529, 5926.118478846939, 4093.605028554084, 901.1231572107903, 625.9360227080898, 4626.545379433562, 5186.695087036123, 224.43894668448874, 2305.796841421228, 2402.32613632413, 2305.2990760533626, 23413.140404467045, 25604.3298263606, 4490.813221195022, 4097.7320403836475, 400.54138847663467, 324.48726793541914, 7058.273245795346, 7571.354426606408, 303615.91039216344, 304718.93745244504, 625.6766898295791, 841.7849309122656, 12547.03093337179, 12324.00387310249, 7398.327366336409, 15379.355656620854, 6891.246185524685, 8283.46266768904, 9218.597969042437, 8466.489727961165, 9411.62502931336, 8838.543848502855, 1850.1637747004702, 676.7037501008009, 728.2695557584155, 1295.02601332242, 1522.0555336180778, 676.7037501008009, 3845.677919842017, 10002.706210124848, 390.8079156656193, 431.3456402166399, 149.60073003693438, 149.60073003683704, 518.4210893183107, 1208.8737839297066, 4195.0055204560895, 2891.0905503969007, 1662.1001312345572, 2094.788753988879, 4.977975545889713, 52.28935279133076, 2891.0905503962344, 2378.4019276417466, 6686.146837821395, 5893.458215067801, 390.80791566570696, 218.11929291117082, 636.610310875415, 1038.8462390186883, 259864.29294561184, 259864.29294561542, 7.666598300400261, 60.355221054949524, 22.742047402182816, 115.96839470766717, 4386.563604288426, 2728.0917479997665, 248.65701746207893, 76.89294560575192, 5150.769592312507, 5441.845041414013, 3110.1659994978095, 2680.0151012948254, 85.21390368965152, 175.06300548605742, 3.12887374949961, 45.817496504124485])\n",
      "error rate: 0.09999999999999998\n",
      "params: [0.03666667]\n",
      "Simulating...\n",
      "\t seed 1/20\n",
      "running run_seed100_crosstalk0.03666666666666667\n"
     ]
    },
    {
     "data": {
      "text/html": [
       "\n",
       "                <div id=\"a80e676c-1b2c-4a03-be27-9befef0cde21\" style=\"\n",
       "                    width: 100%;\n",
       "                    border: 1px solid #cfcfcf;\n",
       "                    border-radius: 4px;\n",
       "                    text-align: center;\n",
       "                    position: relative;\">\n",
       "                  <div class=\"pb-text\" style=\"\n",
       "                      position: absolute;\n",
       "                      width: 100%;\">\n",
       "                    0%\n",
       "                  </div>\n",
       "                  <div class=\"pb-fill\" style=\"\n",
       "                      background-color: #bdd2e6;\n",
       "                      width: 0%;\">\n",
       "                    <style type=\"text/css\" scoped=\"scoped\">\n",
       "                        @keyframes pb-fill-anim {\n",
       "                            0% { background-position: 0 0; }\n",
       "                            100% { background-position: 100px 0; }\n",
       "                        }\n",
       "                    </style>\n",
       "                    &nbsp;\n",
       "                  </div>\n",
       "                </div>"
      ],
      "text/plain": [
       "HtmlProgressBar cannot be displayed. Please use the TerminalProgressBar. It can be enabled with `nengo.rc.set('progress', 'progress_bar', 'nengo.utils.progress.TerminalProgressBar')`."
      ]
     },
     "metadata": {},
     "output_type": "display_data"
    },
    {
     "data": {
      "application/javascript": [
       "\n",
       "              (function () {\n",
       "                  var root = document.getElementById('a80e676c-1b2c-4a03-be27-9befef0cde21');\n",
       "                  var text = root.getElementsByClassName('pb-text')[0];\n",
       "                  var fill = root.getElementsByClassName('pb-fill')[0];\n",
       "\n",
       "                  text.innerHTML = 'Simulation finished in 0:02:06.';\n",
       "                  \n",
       "            if (100.0 > 0.) {\n",
       "                fill.style.transition = 'width 0.1s linear';\n",
       "            } else {\n",
       "                fill.style.transition = 'none';\n",
       "            }\n",
       "\n",
       "            fill.style.width = '100.0%';\n",
       "            fill.style.animation = 'none';\n",
       "            fill.style.backgroundImage = 'none'\n",
       "        \n",
       "                  \n",
       "                fill.style.animation = 'none';\n",
       "                fill.style.backgroundImage = 'none';\n",
       "            \n",
       "              })();\n",
       "        "
      ],
      "text/plain": [
       "<IPython.core.display.Javascript object>"
      ]
     },
     "metadata": {},
     "output_type": "display_data"
    },
    {
     "name": "stdout",
     "output_type": "stream",
     "text": [
      "seed = 100\n",
      "backend = 'nengo_ocl'\n",
      "dt = 0.001\n",
      "neuron_type = 'default'\n",
      "n_neurons_scale = 1\n",
      "n_neurons_scale_combined = 0.25\n",
      "s_crosstalk = 0.03666666666666667\n",
      "s_evidence = 10\n",
      "n_samples = 10000\n",
      "t_senso = 0\n",
      "vocab = <nengo_spa.vocabulary.Vocabulary object at 0x7f921ba74b10>\n",
      "xp = <experiments.Xp1 object at 0x7f921e3fae90>\n",
      "proc_feedback = 0.9\n",
      "proc_feedback_synapse = 0.005\n",
      "GW_feedback = 1\n",
      "GW_threshold = 0.5\n",
      "GW_scale = 20\n",
      "BG_thr = 0.1\n",
      "BG_bias = 0.5\n",
      "integrator_reset = True\n",
      "data = <data.Data object at 0x7f921d5ae990>\n",
      "\t seed 2/20\n",
      "running run_seed101_crosstalk0.03666666666666667\n"
     ]
    },
    {
     "data": {
      "text/html": [
       "\n",
       "                <div id=\"e5a96ce0-51d1-4e8a-86c6-f3ee15043e44\" style=\"\n",
       "                    width: 100%;\n",
       "                    border: 1px solid #cfcfcf;\n",
       "                    border-radius: 4px;\n",
       "                    text-align: center;\n",
       "                    position: relative;\">\n",
       "                  <div class=\"pb-text\" style=\"\n",
       "                      position: absolute;\n",
       "                      width: 100%;\">\n",
       "                    0%\n",
       "                  </div>\n",
       "                  <div class=\"pb-fill\" style=\"\n",
       "                      background-color: #bdd2e6;\n",
       "                      width: 0%;\">\n",
       "                    <style type=\"text/css\" scoped=\"scoped\">\n",
       "                        @keyframes pb-fill-anim {\n",
       "                            0% { background-position: 0 0; }\n",
       "                            100% { background-position: 100px 0; }\n",
       "                        }\n",
       "                    </style>\n",
       "                    &nbsp;\n",
       "                  </div>\n",
       "                </div>"
      ],
      "text/plain": [
       "HtmlProgressBar cannot be displayed. Please use the TerminalProgressBar. It can be enabled with `nengo.rc.set('progress', 'progress_bar', 'nengo.utils.progress.TerminalProgressBar')`."
      ]
     },
     "metadata": {},
     "output_type": "display_data"
    },
    {
     "data": {
      "application/javascript": [
       "\n",
       "              (function () {\n",
       "                  var root = document.getElementById('e5a96ce0-51d1-4e8a-86c6-f3ee15043e44');\n",
       "                  var text = root.getElementsByClassName('pb-text')[0];\n",
       "                  var fill = root.getElementsByClassName('pb-fill')[0];\n",
       "\n",
       "                  text.innerHTML = 'Simulation finished in 0:02:11.';\n",
       "                  \n",
       "            if (100.0 > 0.) {\n",
       "                fill.style.transition = 'width 0.1s linear';\n",
       "            } else {\n",
       "                fill.style.transition = 'none';\n",
       "            }\n",
       "\n",
       "            fill.style.width = '100.0%';\n",
       "            fill.style.animation = 'none';\n",
       "            fill.style.backgroundImage = 'none'\n",
       "        \n",
       "                  \n",
       "                fill.style.animation = 'none';\n",
       "                fill.style.backgroundImage = 'none';\n",
       "            \n",
       "              })();\n",
       "        "
      ],
      "text/plain": [
       "<IPython.core.display.Javascript object>"
      ]
     },
     "metadata": {},
     "output_type": "display_data"
    },
    {
     "name": "stdout",
     "output_type": "stream",
     "text": [
      "seed = 101\n",
      "backend = 'nengo_ocl'\n",
      "dt = 0.001\n",
      "neuron_type = 'default'\n",
      "n_neurons_scale = 1\n",
      "n_neurons_scale_combined = 0.25\n",
      "s_crosstalk = 0.03666666666666667\n",
      "s_evidence = 10\n",
      "n_samples = 10000\n",
      "t_senso = 0\n",
      "vocab = <nengo_spa.vocabulary.Vocabulary object at 0x7f91c8488a50>\n",
      "xp = <experiments.Xp1 object at 0x7f921d0e8dd0>\n",
      "proc_feedback = 0.9\n",
      "proc_feedback_synapse = 0.005\n",
      "GW_feedback = 1\n",
      "GW_threshold = 0.5\n",
      "GW_scale = 20\n",
      "BG_thr = 0.1\n",
      "BG_bias = 0.5\n",
      "integrator_reset = True\n",
      "data = <data.Data object at 0x7f91da97d210>\n",
      "\t seed 3/20\n",
      "running run_seed102_crosstalk0.03666666666666667\n"
     ]
    },
    {
     "data": {
      "text/html": [
       "\n",
       "                <div id=\"f0a8dbd8-3b93-4f61-98c2-69d3179ab297\" style=\"\n",
       "                    width: 100%;\n",
       "                    border: 1px solid #cfcfcf;\n",
       "                    border-radius: 4px;\n",
       "                    text-align: center;\n",
       "                    position: relative;\">\n",
       "                  <div class=\"pb-text\" style=\"\n",
       "                      position: absolute;\n",
       "                      width: 100%;\">\n",
       "                    0%\n",
       "                  </div>\n",
       "                  <div class=\"pb-fill\" style=\"\n",
       "                      background-color: #bdd2e6;\n",
       "                      width: 0%;\">\n",
       "                    <style type=\"text/css\" scoped=\"scoped\">\n",
       "                        @keyframes pb-fill-anim {\n",
       "                            0% { background-position: 0 0; }\n",
       "                            100% { background-position: 100px 0; }\n",
       "                        }\n",
       "                    </style>\n",
       "                    &nbsp;\n",
       "                  </div>\n",
       "                </div>"
      ],
      "text/plain": [
       "HtmlProgressBar cannot be displayed. Please use the TerminalProgressBar. It can be enabled with `nengo.rc.set('progress', 'progress_bar', 'nengo.utils.progress.TerminalProgressBar')`."
      ]
     },
     "metadata": {},
     "output_type": "display_data"
    },
    {
     "data": {
      "application/javascript": [
       "\n",
       "              (function () {\n",
       "                  var root = document.getElementById('f0a8dbd8-3b93-4f61-98c2-69d3179ab297');\n",
       "                  var text = root.getElementsByClassName('pb-text')[0];\n",
       "                  var fill = root.getElementsByClassName('pb-fill')[0];\n",
       "\n",
       "                  text.innerHTML = 'Simulation finished in 0:02:08.';\n",
       "                  \n",
       "            if (100.0 > 0.) {\n",
       "                fill.style.transition = 'width 0.1s linear';\n",
       "            } else {\n",
       "                fill.style.transition = 'none';\n",
       "            }\n",
       "\n",
       "            fill.style.width = '100.0%';\n",
       "            fill.style.animation = 'none';\n",
       "            fill.style.backgroundImage = 'none'\n",
       "        \n",
       "                  \n",
       "                fill.style.animation = 'none';\n",
       "                fill.style.backgroundImage = 'none';\n",
       "            \n",
       "              })();\n",
       "        "
      ],
      "text/plain": [
       "<IPython.core.display.Javascript object>"
      ]
     },
     "metadata": {},
     "output_type": "display_data"
    },
    {
     "name": "stdout",
     "output_type": "stream",
     "text": [
      "seed = 102\n",
      "backend = 'nengo_ocl'\n",
      "dt = 0.001\n",
      "neuron_type = 'default'\n",
      "n_neurons_scale = 1\n",
      "n_neurons_scale_combined = 0.25\n",
      "s_crosstalk = 0.03666666666666667\n",
      "s_evidence = 10\n",
      "n_samples = 10000\n",
      "t_senso = 0\n",
      "vocab = <nengo_spa.vocabulary.Vocabulary object at 0x7f91cacdd0d0>\n",
      "xp = <experiments.Xp1 object at 0x7f91c78ca990>\n",
      "proc_feedback = 0.9\n",
      "proc_feedback_synapse = 0.005\n",
      "GW_feedback = 1\n",
      "GW_threshold = 0.5\n",
      "GW_scale = 20\n",
      "BG_thr = 0.1\n",
      "BG_bias = 0.5\n",
      "integrator_reset = True\n",
      "data = <data.Data object at 0x7f921b01d590>\n",
      "\t seed 4/20\n",
      "running run_seed103_crosstalk0.03666666666666667\n"
     ]
    },
    {
     "data": {
      "text/html": [
       "\n",
       "                <div id=\"c3d7519b-85d4-4518-ad83-a04bc63b43a4\" style=\"\n",
       "                    width: 100%;\n",
       "                    border: 1px solid #cfcfcf;\n",
       "                    border-radius: 4px;\n",
       "                    text-align: center;\n",
       "                    position: relative;\">\n",
       "                  <div class=\"pb-text\" style=\"\n",
       "                      position: absolute;\n",
       "                      width: 100%;\">\n",
       "                    0%\n",
       "                  </div>\n",
       "                  <div class=\"pb-fill\" style=\"\n",
       "                      background-color: #bdd2e6;\n",
       "                      width: 0%;\">\n",
       "                    <style type=\"text/css\" scoped=\"scoped\">\n",
       "                        @keyframes pb-fill-anim {\n",
       "                            0% { background-position: 0 0; }\n",
       "                            100% { background-position: 100px 0; }\n",
       "                        }\n",
       "                    </style>\n",
       "                    &nbsp;\n",
       "                  </div>\n",
       "                </div>"
      ],
      "text/plain": [
       "HtmlProgressBar cannot be displayed. Please use the TerminalProgressBar. It can be enabled with `nengo.rc.set('progress', 'progress_bar', 'nengo.utils.progress.TerminalProgressBar')`."
      ]
     },
     "metadata": {},
     "output_type": "display_data"
    },
    {
     "data": {
      "application/javascript": [
       "\n",
       "              (function () {\n",
       "                  var root = document.getElementById('c3d7519b-85d4-4518-ad83-a04bc63b43a4');\n",
       "                  var text = root.getElementsByClassName('pb-text')[0];\n",
       "                  var fill = root.getElementsByClassName('pb-fill')[0];\n",
       "\n",
       "                  text.innerHTML = 'Simulation finished in 0:02:04.';\n",
       "                  \n",
       "            if (100.0 > 0.) {\n",
       "                fill.style.transition = 'width 0.1s linear';\n",
       "            } else {\n",
       "                fill.style.transition = 'none';\n",
       "            }\n",
       "\n",
       "            fill.style.width = '100.0%';\n",
       "            fill.style.animation = 'none';\n",
       "            fill.style.backgroundImage = 'none'\n",
       "        \n",
       "                  \n",
       "                fill.style.animation = 'none';\n",
       "                fill.style.backgroundImage = 'none';\n",
       "            \n",
       "              })();\n",
       "        "
      ],
      "text/plain": [
       "<IPython.core.display.Javascript object>"
      ]
     },
     "metadata": {},
     "output_type": "display_data"
    },
    {
     "name": "stdout",
     "output_type": "stream",
     "text": [
      "seed = 103\n",
      "backend = 'nengo_ocl'\n",
      "dt = 0.001\n",
      "neuron_type = 'default'\n",
      "n_neurons_scale = 1\n",
      "n_neurons_scale_combined = 0.25\n",
      "s_crosstalk = 0.03666666666666667\n",
      "s_evidence = 10\n",
      "n_samples = 10000\n",
      "t_senso = 0\n",
      "vocab = <nengo_spa.vocabulary.Vocabulary object at 0x7f91c9881190>\n",
      "xp = <experiments.Xp1 object at 0x7f91c81ea0d0>\n",
      "proc_feedback = 0.9\n",
      "proc_feedback_synapse = 0.005\n",
      "GW_feedback = 1\n",
      "GW_threshold = 0.5\n",
      "GW_scale = 20\n",
      "BG_thr = 0.1\n",
      "BG_bias = 0.5\n",
      "integrator_reset = True\n",
      "data = <data.Data object at 0x7f921e48db10>\n",
      "\t seed 5/20\n",
      "running run_seed104_crosstalk0.03666666666666667\n"
     ]
    },
    {
     "data": {
      "text/html": [
       "\n",
       "                <div id=\"29276636-cf29-4fcb-8482-412fc81bec10\" style=\"\n",
       "                    width: 100%;\n",
       "                    border: 1px solid #cfcfcf;\n",
       "                    border-radius: 4px;\n",
       "                    text-align: center;\n",
       "                    position: relative;\">\n",
       "                  <div class=\"pb-text\" style=\"\n",
       "                      position: absolute;\n",
       "                      width: 100%;\">\n",
       "                    0%\n",
       "                  </div>\n",
       "                  <div class=\"pb-fill\" style=\"\n",
       "                      background-color: #bdd2e6;\n",
       "                      width: 0%;\">\n",
       "                    <style type=\"text/css\" scoped=\"scoped\">\n",
       "                        @keyframes pb-fill-anim {\n",
       "                            0% { background-position: 0 0; }\n",
       "                            100% { background-position: 100px 0; }\n",
       "                        }\n",
       "                    </style>\n",
       "                    &nbsp;\n",
       "                  </div>\n",
       "                </div>"
      ],
      "text/plain": [
       "HtmlProgressBar cannot be displayed. Please use the TerminalProgressBar. It can be enabled with `nengo.rc.set('progress', 'progress_bar', 'nengo.utils.progress.TerminalProgressBar')`."
      ]
     },
     "metadata": {},
     "output_type": "display_data"
    },
    {
     "data": {
      "application/javascript": [
       "\n",
       "              (function () {\n",
       "                  var root = document.getElementById('29276636-cf29-4fcb-8482-412fc81bec10');\n",
       "                  var text = root.getElementsByClassName('pb-text')[0];\n",
       "                  var fill = root.getElementsByClassName('pb-fill')[0];\n",
       "\n",
       "                  text.innerHTML = 'Simulation finished in 0:01:59.';\n",
       "                  \n",
       "            if (100.0 > 0.) {\n",
       "                fill.style.transition = 'width 0.1s linear';\n",
       "            } else {\n",
       "                fill.style.transition = 'none';\n",
       "            }\n",
       "\n",
       "            fill.style.width = '100.0%';\n",
       "            fill.style.animation = 'none';\n",
       "            fill.style.backgroundImage = 'none'\n",
       "        \n",
       "                  \n",
       "                fill.style.animation = 'none';\n",
       "                fill.style.backgroundImage = 'none';\n",
       "            \n",
       "              })();\n",
       "        "
      ],
      "text/plain": [
       "<IPython.core.display.Javascript object>"
      ]
     },
     "metadata": {},
     "output_type": "display_data"
    },
    {
     "name": "stdout",
     "output_type": "stream",
     "text": [
      "seed = 104\n",
      "backend = 'nengo_ocl'\n",
      "dt = 0.001\n",
      "neuron_type = 'default'\n",
      "n_neurons_scale = 1\n",
      "n_neurons_scale_combined = 0.25\n",
      "s_crosstalk = 0.03666666666666667\n",
      "s_evidence = 10\n",
      "n_samples = 10000\n",
      "t_senso = 0\n",
      "vocab = <nengo_spa.vocabulary.Vocabulary object at 0x7f91cae7ce50>\n",
      "xp = <experiments.Xp1 object at 0x7f9221f62d50>\n",
      "proc_feedback = 0.9\n",
      "proc_feedback_synapse = 0.005\n",
      "GW_feedback = 1\n",
      "GW_threshold = 0.5\n",
      "GW_scale = 20\n",
      "BG_thr = 0.1\n",
      "BG_bias = 0.5\n",
      "integrator_reset = True\n",
      "data = <data.Data object at 0x7f9221eb4c50>\n",
      "\t seed 6/20\n",
      "running run_seed105_crosstalk0.03666666666666667\n"
     ]
    },
    {
     "data": {
      "text/html": [
       "\n",
       "                <div id=\"ba5853f6-528d-4a05-b0c5-8c228fb704f3\" style=\"\n",
       "                    width: 100%;\n",
       "                    border: 1px solid #cfcfcf;\n",
       "                    border-radius: 4px;\n",
       "                    text-align: center;\n",
       "                    position: relative;\">\n",
       "                  <div class=\"pb-text\" style=\"\n",
       "                      position: absolute;\n",
       "                      width: 100%;\">\n",
       "                    0%\n",
       "                  </div>\n",
       "                  <div class=\"pb-fill\" style=\"\n",
       "                      background-color: #bdd2e6;\n",
       "                      width: 0%;\">\n",
       "                    <style type=\"text/css\" scoped=\"scoped\">\n",
       "                        @keyframes pb-fill-anim {\n",
       "                            0% { background-position: 0 0; }\n",
       "                            100% { background-position: 100px 0; }\n",
       "                        }\n",
       "                    </style>\n",
       "                    &nbsp;\n",
       "                  </div>\n",
       "                </div>"
      ],
      "text/plain": [
       "HtmlProgressBar cannot be displayed. Please use the TerminalProgressBar. It can be enabled with `nengo.rc.set('progress', 'progress_bar', 'nengo.utils.progress.TerminalProgressBar')`."
      ]
     },
     "metadata": {},
     "output_type": "display_data"
    },
    {
     "data": {
      "application/javascript": [
       "\n",
       "              (function () {\n",
       "                  var root = document.getElementById('ba5853f6-528d-4a05-b0c5-8c228fb704f3');\n",
       "                  var text = root.getElementsByClassName('pb-text')[0];\n",
       "                  var fill = root.getElementsByClassName('pb-fill')[0];\n",
       "\n",
       "                  text.innerHTML = 'Simulation finished in 0:01:59.';\n",
       "                  \n",
       "            if (100.0 > 0.) {\n",
       "                fill.style.transition = 'width 0.1s linear';\n",
       "            } else {\n",
       "                fill.style.transition = 'none';\n",
       "            }\n",
       "\n",
       "            fill.style.width = '100.0%';\n",
       "            fill.style.animation = 'none';\n",
       "            fill.style.backgroundImage = 'none'\n",
       "        \n",
       "                  \n",
       "                fill.style.animation = 'none';\n",
       "                fill.style.backgroundImage = 'none';\n",
       "            \n",
       "              })();\n",
       "        "
      ],
      "text/plain": [
       "<IPython.core.display.Javascript object>"
      ]
     },
     "metadata": {},
     "output_type": "display_data"
    },
    {
     "name": "stdout",
     "output_type": "stream",
     "text": [
      "seed = 105\n",
      "backend = 'nengo_ocl'\n",
      "dt = 0.001\n",
      "neuron_type = 'default'\n",
      "n_neurons_scale = 1\n",
      "n_neurons_scale_combined = 0.25\n",
      "s_crosstalk = 0.03666666666666667\n",
      "s_evidence = 10\n",
      "n_samples = 10000\n",
      "t_senso = 0\n",
      "vocab = <nengo_spa.vocabulary.Vocabulary object at 0x7f92003a7590>\n",
      "xp = <experiments.Xp1 object at 0x7f92003a71d0>\n",
      "proc_feedback = 0.9\n",
      "proc_feedback_synapse = 0.005\n",
      "GW_feedback = 1\n",
      "GW_threshold = 0.5\n",
      "GW_scale = 20\n",
      "BG_thr = 0.1\n",
      "BG_bias = 0.5\n",
      "integrator_reset = True\n",
      "data = <data.Data object at 0x7f921b738f10>\n",
      "\t seed 7/20\n",
      "running run_seed106_crosstalk0.03666666666666667\n"
     ]
    },
    {
     "data": {
      "text/html": [
       "\n",
       "                <div id=\"aad80d50-d1dd-4073-bac8-c912c16ec54e\" style=\"\n",
       "                    width: 100%;\n",
       "                    border: 1px solid #cfcfcf;\n",
       "                    border-radius: 4px;\n",
       "                    text-align: center;\n",
       "                    position: relative;\">\n",
       "                  <div class=\"pb-text\" style=\"\n",
       "                      position: absolute;\n",
       "                      width: 100%;\">\n",
       "                    0%\n",
       "                  </div>\n",
       "                  <div class=\"pb-fill\" style=\"\n",
       "                      background-color: #bdd2e6;\n",
       "                      width: 0%;\">\n",
       "                    <style type=\"text/css\" scoped=\"scoped\">\n",
       "                        @keyframes pb-fill-anim {\n",
       "                            0% { background-position: 0 0; }\n",
       "                            100% { background-position: 100px 0; }\n",
       "                        }\n",
       "                    </style>\n",
       "                    &nbsp;\n",
       "                  </div>\n",
       "                </div>"
      ],
      "text/plain": [
       "HtmlProgressBar cannot be displayed. Please use the TerminalProgressBar. It can be enabled with `nengo.rc.set('progress', 'progress_bar', 'nengo.utils.progress.TerminalProgressBar')`."
      ]
     },
     "metadata": {},
     "output_type": "display_data"
    },
    {
     "data": {
      "application/javascript": [
       "\n",
       "              (function () {\n",
       "                  var root = document.getElementById('aad80d50-d1dd-4073-bac8-c912c16ec54e');\n",
       "                  var text = root.getElementsByClassName('pb-text')[0];\n",
       "                  var fill = root.getElementsByClassName('pb-fill')[0];\n",
       "\n",
       "                  text.innerHTML = 'Simulation finished in 0:02:07.';\n",
       "                  \n",
       "            if (100.0 > 0.) {\n",
       "                fill.style.transition = 'width 0.1s linear';\n",
       "            } else {\n",
       "                fill.style.transition = 'none';\n",
       "            }\n",
       "\n",
       "            fill.style.width = '100.0%';\n",
       "            fill.style.animation = 'none';\n",
       "            fill.style.backgroundImage = 'none'\n",
       "        \n",
       "                  \n",
       "                fill.style.animation = 'none';\n",
       "                fill.style.backgroundImage = 'none';\n",
       "            \n",
       "              })();\n",
       "        "
      ],
      "text/plain": [
       "<IPython.core.display.Javascript object>"
      ]
     },
     "metadata": {},
     "output_type": "display_data"
    },
    {
     "name": "stdout",
     "output_type": "stream",
     "text": [
      "seed = 106\n",
      "backend = 'nengo_ocl'\n",
      "dt = 0.001\n",
      "neuron_type = 'default'\n",
      "n_neurons_scale = 1\n",
      "n_neurons_scale_combined = 0.25\n",
      "s_crosstalk = 0.03666666666666667\n",
      "s_evidence = 10\n",
      "n_samples = 10000\n",
      "t_senso = 0\n",
      "vocab = <nengo_spa.vocabulary.Vocabulary object at 0x7f921dcaad90>\n",
      "xp = <experiments.Xp1 object at 0x7f921dcaaf90>\n",
      "proc_feedback = 0.9\n",
      "proc_feedback_synapse = 0.005\n",
      "GW_feedback = 1\n",
      "GW_threshold = 0.5\n",
      "GW_scale = 20\n",
      "BG_thr = 0.1\n",
      "BG_bias = 0.5\n",
      "integrator_reset = True\n",
      "data = <data.Data object at 0x7f91e1c46c50>\n",
      "\t seed 8/20\n",
      "running run_seed107_crosstalk0.03666666666666667\n"
     ]
    },
    {
     "data": {
      "text/html": [
       "\n",
       "                <div id=\"62753ce5-e8a0-420d-b5fd-fdd27d9417fd\" style=\"\n",
       "                    width: 100%;\n",
       "                    border: 1px solid #cfcfcf;\n",
       "                    border-radius: 4px;\n",
       "                    text-align: center;\n",
       "                    position: relative;\">\n",
       "                  <div class=\"pb-text\" style=\"\n",
       "                      position: absolute;\n",
       "                      width: 100%;\">\n",
       "                    0%\n",
       "                  </div>\n",
       "                  <div class=\"pb-fill\" style=\"\n",
       "                      background-color: #bdd2e6;\n",
       "                      width: 0%;\">\n",
       "                    <style type=\"text/css\" scoped=\"scoped\">\n",
       "                        @keyframes pb-fill-anim {\n",
       "                            0% { background-position: 0 0; }\n",
       "                            100% { background-position: 100px 0; }\n",
       "                        }\n",
       "                    </style>\n",
       "                    &nbsp;\n",
       "                  </div>\n",
       "                </div>"
      ],
      "text/plain": [
       "HtmlProgressBar cannot be displayed. Please use the TerminalProgressBar. It can be enabled with `nengo.rc.set('progress', 'progress_bar', 'nengo.utils.progress.TerminalProgressBar')`."
      ]
     },
     "metadata": {},
     "output_type": "display_data"
    },
    {
     "data": {
      "application/javascript": [
       "\n",
       "              (function () {\n",
       "                  var root = document.getElementById('62753ce5-e8a0-420d-b5fd-fdd27d9417fd');\n",
       "                  var text = root.getElementsByClassName('pb-text')[0];\n",
       "                  var fill = root.getElementsByClassName('pb-fill')[0];\n",
       "\n",
       "                  text.innerHTML = 'Simulation finished in 0:02:11.';\n",
       "                  \n",
       "            if (100.0 > 0.) {\n",
       "                fill.style.transition = 'width 0.1s linear';\n",
       "            } else {\n",
       "                fill.style.transition = 'none';\n",
       "            }\n",
       "\n",
       "            fill.style.width = '100.0%';\n",
       "            fill.style.animation = 'none';\n",
       "            fill.style.backgroundImage = 'none'\n",
       "        \n",
       "                  \n",
       "                fill.style.animation = 'none';\n",
       "                fill.style.backgroundImage = 'none';\n",
       "            \n",
       "              })();\n",
       "        "
      ],
      "text/plain": [
       "<IPython.core.display.Javascript object>"
      ]
     },
     "metadata": {},
     "output_type": "display_data"
    },
    {
     "name": "stdout",
     "output_type": "stream",
     "text": [
      "seed = 107\n",
      "backend = 'nengo_ocl'\n",
      "dt = 0.001\n",
      "neuron_type = 'default'\n",
      "n_neurons_scale = 1\n",
      "n_neurons_scale_combined = 0.25\n",
      "s_crosstalk = 0.03666666666666667\n",
      "s_evidence = 10\n",
      "n_samples = 10000\n",
      "t_senso = 0\n",
      "vocab = <nengo_spa.vocabulary.Vocabulary object at 0x7f921c95d310>\n",
      "xp = <experiments.Xp1 object at 0x7f921dcaae90>\n",
      "proc_feedback = 0.9\n",
      "proc_feedback_synapse = 0.005\n",
      "GW_feedback = 1\n",
      "GW_threshold = 0.5\n",
      "GW_scale = 20\n",
      "BG_thr = 0.1\n",
      "BG_bias = 0.5\n",
      "integrator_reset = True\n",
      "data = <data.Data object at 0x7f921cde7a10>\n",
      "\t seed 9/20\n",
      "running run_seed108_crosstalk0.03666666666666667\n"
     ]
    },
    {
     "data": {
      "text/html": [
       "\n",
       "                <div id=\"7f77daa4-5e34-4cb4-b68e-5a7369dbef15\" style=\"\n",
       "                    width: 100%;\n",
       "                    border: 1px solid #cfcfcf;\n",
       "                    border-radius: 4px;\n",
       "                    text-align: center;\n",
       "                    position: relative;\">\n",
       "                  <div class=\"pb-text\" style=\"\n",
       "                      position: absolute;\n",
       "                      width: 100%;\">\n",
       "                    0%\n",
       "                  </div>\n",
       "                  <div class=\"pb-fill\" style=\"\n",
       "                      background-color: #bdd2e6;\n",
       "                      width: 0%;\">\n",
       "                    <style type=\"text/css\" scoped=\"scoped\">\n",
       "                        @keyframes pb-fill-anim {\n",
       "                            0% { background-position: 0 0; }\n",
       "                            100% { background-position: 100px 0; }\n",
       "                        }\n",
       "                    </style>\n",
       "                    &nbsp;\n",
       "                  </div>\n",
       "                </div>"
      ],
      "text/plain": [
       "HtmlProgressBar cannot be displayed. Please use the TerminalProgressBar. It can be enabled with `nengo.rc.set('progress', 'progress_bar', 'nengo.utils.progress.TerminalProgressBar')`."
      ]
     },
     "metadata": {},
     "output_type": "display_data"
    },
    {
     "data": {
      "application/javascript": [
       "\n",
       "              (function () {\n",
       "                  var root = document.getElementById('7f77daa4-5e34-4cb4-b68e-5a7369dbef15');\n",
       "                  var text = root.getElementsByClassName('pb-text')[0];\n",
       "                  var fill = root.getElementsByClassName('pb-fill')[0];\n",
       "\n",
       "                  text.innerHTML = 'Simulation finished in 0:01:58.';\n",
       "                  \n",
       "            if (100.0 > 0.) {\n",
       "                fill.style.transition = 'width 0.1s linear';\n",
       "            } else {\n",
       "                fill.style.transition = 'none';\n",
       "            }\n",
       "\n",
       "            fill.style.width = '100.0%';\n",
       "            fill.style.animation = 'none';\n",
       "            fill.style.backgroundImage = 'none'\n",
       "        \n",
       "                  \n",
       "                fill.style.animation = 'none';\n",
       "                fill.style.backgroundImage = 'none';\n",
       "            \n",
       "              })();\n",
       "        "
      ],
      "text/plain": [
       "<IPython.core.display.Javascript object>"
      ]
     },
     "metadata": {},
     "output_type": "display_data"
    },
    {
     "name": "stdout",
     "output_type": "stream",
     "text": [
      "seed = 108\n",
      "backend = 'nengo_ocl'\n",
      "dt = 0.001\n",
      "neuron_type = 'default'\n",
      "n_neurons_scale = 1\n",
      "n_neurons_scale_combined = 0.25\n",
      "s_crosstalk = 0.03666666666666667\n",
      "s_evidence = 10\n",
      "n_samples = 10000\n",
      "t_senso = 0\n",
      "vocab = <nengo_spa.vocabulary.Vocabulary object at 0x7f921cde7390>\n",
      "xp = <experiments.Xp1 object at 0x7f921cd45e10>\n",
      "proc_feedback = 0.9\n",
      "proc_feedback_synapse = 0.005\n",
      "GW_feedback = 1\n",
      "GW_threshold = 0.5\n",
      "GW_scale = 20\n",
      "BG_thr = 0.1\n",
      "BG_bias = 0.5\n",
      "integrator_reset = True\n",
      "data = <data.Data object at 0x7f91cae54450>\n",
      "\t seed 10/20\n",
      "running run_seed109_crosstalk0.03666666666666667\n"
     ]
    },
    {
     "data": {
      "text/html": [
       "\n",
       "                <div id=\"bbd85ad4-97a1-4e8a-bb80-e19b281b0c14\" style=\"\n",
       "                    width: 100%;\n",
       "                    border: 1px solid #cfcfcf;\n",
       "                    border-radius: 4px;\n",
       "                    text-align: center;\n",
       "                    position: relative;\">\n",
       "                  <div class=\"pb-text\" style=\"\n",
       "                      position: absolute;\n",
       "                      width: 100%;\">\n",
       "                    0%\n",
       "                  </div>\n",
       "                  <div class=\"pb-fill\" style=\"\n",
       "                      background-color: #bdd2e6;\n",
       "                      width: 0%;\">\n",
       "                    <style type=\"text/css\" scoped=\"scoped\">\n",
       "                        @keyframes pb-fill-anim {\n",
       "                            0% { background-position: 0 0; }\n",
       "                            100% { background-position: 100px 0; }\n",
       "                        }\n",
       "                    </style>\n",
       "                    &nbsp;\n",
       "                  </div>\n",
       "                </div>"
      ],
      "text/plain": [
       "HtmlProgressBar cannot be displayed. Please use the TerminalProgressBar. It can be enabled with `nengo.rc.set('progress', 'progress_bar', 'nengo.utils.progress.TerminalProgressBar')`."
      ]
     },
     "metadata": {},
     "output_type": "display_data"
    },
    {
     "data": {
      "application/javascript": [
       "\n",
       "              (function () {\n",
       "                  var root = document.getElementById('bbd85ad4-97a1-4e8a-bb80-e19b281b0c14');\n",
       "                  var text = root.getElementsByClassName('pb-text')[0];\n",
       "                  var fill = root.getElementsByClassName('pb-fill')[0];\n",
       "\n",
       "                  text.innerHTML = 'Simulation finished in 0:02:02.';\n",
       "                  \n",
       "            if (100.0 > 0.) {\n",
       "                fill.style.transition = 'width 0.1s linear';\n",
       "            } else {\n",
       "                fill.style.transition = 'none';\n",
       "            }\n",
       "\n",
       "            fill.style.width = '100.0%';\n",
       "            fill.style.animation = 'none';\n",
       "            fill.style.backgroundImage = 'none'\n",
       "        \n",
       "                  \n",
       "                fill.style.animation = 'none';\n",
       "                fill.style.backgroundImage = 'none';\n",
       "            \n",
       "              })();\n",
       "        "
      ],
      "text/plain": [
       "<IPython.core.display.Javascript object>"
      ]
     },
     "metadata": {},
     "output_type": "display_data"
    },
    {
     "name": "stdout",
     "output_type": "stream",
     "text": [
      "seed = 109\n",
      "backend = 'nengo_ocl'\n",
      "dt = 0.001\n",
      "neuron_type = 'default'\n",
      "n_neurons_scale = 1\n",
      "n_neurons_scale_combined = 0.25\n",
      "s_crosstalk = 0.03666666666666667\n",
      "s_evidence = 10\n",
      "n_samples = 10000\n",
      "t_senso = 0\n",
      "vocab = <nengo_spa.vocabulary.Vocabulary object at 0x7f921c90a590>\n",
      "xp = <experiments.Xp1 object at 0x7f91c797afd0>\n",
      "proc_feedback = 0.9\n",
      "proc_feedback_synapse = 0.005\n",
      "GW_feedback = 1\n",
      "GW_threshold = 0.5\n",
      "GW_scale = 20\n",
      "BG_thr = 0.1\n",
      "BG_bias = 0.5\n",
      "integrator_reset = True\n",
      "data = <data.Data object at 0x7f9200abbd50>\n",
      "\t seed 11/20\n",
      "running run_seed110_crosstalk0.03666666666666667\n"
     ]
    },
    {
     "data": {
      "text/html": [
       "\n",
       "                <div id=\"189379b1-7972-4f53-ab7d-933ebec7f4d9\" style=\"\n",
       "                    width: 100%;\n",
       "                    border: 1px solid #cfcfcf;\n",
       "                    border-radius: 4px;\n",
       "                    text-align: center;\n",
       "                    position: relative;\">\n",
       "                  <div class=\"pb-text\" style=\"\n",
       "                      position: absolute;\n",
       "                      width: 100%;\">\n",
       "                    0%\n",
       "                  </div>\n",
       "                  <div class=\"pb-fill\" style=\"\n",
       "                      background-color: #bdd2e6;\n",
       "                      width: 0%;\">\n",
       "                    <style type=\"text/css\" scoped=\"scoped\">\n",
       "                        @keyframes pb-fill-anim {\n",
       "                            0% { background-position: 0 0; }\n",
       "                            100% { background-position: 100px 0; }\n",
       "                        }\n",
       "                    </style>\n",
       "                    &nbsp;\n",
       "                  </div>\n",
       "                </div>"
      ],
      "text/plain": [
       "HtmlProgressBar cannot be displayed. Please use the TerminalProgressBar. It can be enabled with `nengo.rc.set('progress', 'progress_bar', 'nengo.utils.progress.TerminalProgressBar')`."
      ]
     },
     "metadata": {},
     "output_type": "display_data"
    },
    {
     "data": {
      "application/javascript": [
       "\n",
       "              (function () {\n",
       "                  var root = document.getElementById('189379b1-7972-4f53-ab7d-933ebec7f4d9');\n",
       "                  var text = root.getElementsByClassName('pb-text')[0];\n",
       "                  var fill = root.getElementsByClassName('pb-fill')[0];\n",
       "\n",
       "                  text.innerHTML = 'Simulation finished in 0:01:57.';\n",
       "                  \n",
       "            if (100.0 > 0.) {\n",
       "                fill.style.transition = 'width 0.1s linear';\n",
       "            } else {\n",
       "                fill.style.transition = 'none';\n",
       "            }\n",
       "\n",
       "            fill.style.width = '100.0%';\n",
       "            fill.style.animation = 'none';\n",
       "            fill.style.backgroundImage = 'none'\n",
       "        \n",
       "                  \n",
       "                fill.style.animation = 'none';\n",
       "                fill.style.backgroundImage = 'none';\n",
       "            \n",
       "              })();\n",
       "        "
      ],
      "text/plain": [
       "<IPython.core.display.Javascript object>"
      ]
     },
     "metadata": {},
     "output_type": "display_data"
    },
    {
     "name": "stdout",
     "output_type": "stream",
     "text": [
      "seed = 110\n",
      "backend = 'nengo_ocl'\n",
      "dt = 0.001\n",
      "neuron_type = 'default'\n",
      "n_neurons_scale = 1\n",
      "n_neurons_scale_combined = 0.25\n",
      "s_crosstalk = 0.03666666666666667\n",
      "s_evidence = 10\n",
      "n_samples = 10000\n",
      "t_senso = 0\n",
      "vocab = <nengo_spa.vocabulary.Vocabulary object at 0x7f91cb87ba50>\n",
      "xp = <experiments.Xp1 object at 0x7f91cb87b690>\n",
      "proc_feedback = 0.9\n",
      "proc_feedback_synapse = 0.005\n",
      "GW_feedback = 1\n",
      "GW_threshold = 0.5\n",
      "GW_scale = 20\n",
      "BG_thr = 0.1\n",
      "BG_bias = 0.5\n",
      "integrator_reset = True\n",
      "data = <data.Data object at 0x7f921e625a90>\n",
      "\t seed 12/20\n",
      "running run_seed111_crosstalk0.03666666666666667\n"
     ]
    },
    {
     "data": {
      "text/html": [
       "\n",
       "                <div id=\"cd78fbdb-9285-4abc-abb2-efb0503fb69e\" style=\"\n",
       "                    width: 100%;\n",
       "                    border: 1px solid #cfcfcf;\n",
       "                    border-radius: 4px;\n",
       "                    text-align: center;\n",
       "                    position: relative;\">\n",
       "                  <div class=\"pb-text\" style=\"\n",
       "                      position: absolute;\n",
       "                      width: 100%;\">\n",
       "                    0%\n",
       "                  </div>\n",
       "                  <div class=\"pb-fill\" style=\"\n",
       "                      background-color: #bdd2e6;\n",
       "                      width: 0%;\">\n",
       "                    <style type=\"text/css\" scoped=\"scoped\">\n",
       "                        @keyframes pb-fill-anim {\n",
       "                            0% { background-position: 0 0; }\n",
       "                            100% { background-position: 100px 0; }\n",
       "                        }\n",
       "                    </style>\n",
       "                    &nbsp;\n",
       "                  </div>\n",
       "                </div>"
      ],
      "text/plain": [
       "HtmlProgressBar cannot be displayed. Please use the TerminalProgressBar. It can be enabled with `nengo.rc.set('progress', 'progress_bar', 'nengo.utils.progress.TerminalProgressBar')`."
      ]
     },
     "metadata": {},
     "output_type": "display_data"
    },
    {
     "data": {
      "application/javascript": [
       "\n",
       "              (function () {\n",
       "                  var root = document.getElementById('cd78fbdb-9285-4abc-abb2-efb0503fb69e');\n",
       "                  var text = root.getElementsByClassName('pb-text')[0];\n",
       "                  var fill = root.getElementsByClassName('pb-fill')[0];\n",
       "\n",
       "                  text.innerHTML = 'Simulation finished in 0:02:02.';\n",
       "                  \n",
       "            if (100.0 > 0.) {\n",
       "                fill.style.transition = 'width 0.1s linear';\n",
       "            } else {\n",
       "                fill.style.transition = 'none';\n",
       "            }\n",
       "\n",
       "            fill.style.width = '100.0%';\n",
       "            fill.style.animation = 'none';\n",
       "            fill.style.backgroundImage = 'none'\n",
       "        \n",
       "                  \n",
       "                fill.style.animation = 'none';\n",
       "                fill.style.backgroundImage = 'none';\n",
       "            \n",
       "              })();\n",
       "        "
      ],
      "text/plain": [
       "<IPython.core.display.Javascript object>"
      ]
     },
     "metadata": {},
     "output_type": "display_data"
    },
    {
     "name": "stdout",
     "output_type": "stream",
     "text": [
      "seed = 111\n",
      "backend = 'nengo_ocl'\n",
      "dt = 0.001\n",
      "neuron_type = 'default'\n",
      "n_neurons_scale = 1\n",
      "n_neurons_scale_combined = 0.25\n",
      "s_crosstalk = 0.03666666666666667\n",
      "s_evidence = 10\n",
      "n_samples = 10000\n",
      "t_senso = 0\n",
      "vocab = <nengo_spa.vocabulary.Vocabulary object at 0x7f9222049b90>\n",
      "xp = <experiments.Xp1 object at 0x7f921f7186d0>\n",
      "proc_feedback = 0.9\n",
      "proc_feedback_synapse = 0.005\n",
      "GW_feedback = 1\n",
      "GW_threshold = 0.5\n",
      "GW_scale = 20\n",
      "BG_thr = 0.1\n",
      "BG_bias = 0.5\n",
      "integrator_reset = True\n",
      "data = <data.Data object at 0x7f921c8ea1d0>\n",
      "\t seed 13/20\n",
      "running run_seed112_crosstalk0.03666666666666667\n"
     ]
    },
    {
     "data": {
      "text/html": [
       "\n",
       "                <div id=\"1ae6d81a-10d1-40ab-9cdd-f20678b9a063\" style=\"\n",
       "                    width: 100%;\n",
       "                    border: 1px solid #cfcfcf;\n",
       "                    border-radius: 4px;\n",
       "                    text-align: center;\n",
       "                    position: relative;\">\n",
       "                  <div class=\"pb-text\" style=\"\n",
       "                      position: absolute;\n",
       "                      width: 100%;\">\n",
       "                    0%\n",
       "                  </div>\n",
       "                  <div class=\"pb-fill\" style=\"\n",
       "                      background-color: #bdd2e6;\n",
       "                      width: 0%;\">\n",
       "                    <style type=\"text/css\" scoped=\"scoped\">\n",
       "                        @keyframes pb-fill-anim {\n",
       "                            0% { background-position: 0 0; }\n",
       "                            100% { background-position: 100px 0; }\n",
       "                        }\n",
       "                    </style>\n",
       "                    &nbsp;\n",
       "                  </div>\n",
       "                </div>"
      ],
      "text/plain": [
       "HtmlProgressBar cannot be displayed. Please use the TerminalProgressBar. It can be enabled with `nengo.rc.set('progress', 'progress_bar', 'nengo.utils.progress.TerminalProgressBar')`."
      ]
     },
     "metadata": {},
     "output_type": "display_data"
    },
    {
     "data": {
      "application/javascript": [
       "\n",
       "              (function () {\n",
       "                  var root = document.getElementById('1ae6d81a-10d1-40ab-9cdd-f20678b9a063');\n",
       "                  var text = root.getElementsByClassName('pb-text')[0];\n",
       "                  var fill = root.getElementsByClassName('pb-fill')[0];\n",
       "\n",
       "                  text.innerHTML = 'Simulation finished in 0:02:03.';\n",
       "                  \n",
       "            if (100.0 > 0.) {\n",
       "                fill.style.transition = 'width 0.1s linear';\n",
       "            } else {\n",
       "                fill.style.transition = 'none';\n",
       "            }\n",
       "\n",
       "            fill.style.width = '100.0%';\n",
       "            fill.style.animation = 'none';\n",
       "            fill.style.backgroundImage = 'none'\n",
       "        \n",
       "                  \n",
       "                fill.style.animation = 'none';\n",
       "                fill.style.backgroundImage = 'none';\n",
       "            \n",
       "              })();\n",
       "        "
      ],
      "text/plain": [
       "<IPython.core.display.Javascript object>"
      ]
     },
     "metadata": {},
     "output_type": "display_data"
    },
    {
     "name": "stdout",
     "output_type": "stream",
     "text": [
      "seed = 112\n",
      "backend = 'nengo_ocl'\n",
      "dt = 0.001\n",
      "neuron_type = 'default'\n",
      "n_neurons_scale = 1\n",
      "n_neurons_scale_combined = 0.25\n",
      "s_crosstalk = 0.03666666666666667\n",
      "s_evidence = 10\n",
      "n_samples = 10000\n",
      "t_senso = 0\n",
      "vocab = <nengo_spa.vocabulary.Vocabulary object at 0x7f921cd11450>\n",
      "xp = <experiments.Xp1 object at 0x7f922205c810>\n",
      "proc_feedback = 0.9\n",
      "proc_feedback_synapse = 0.005\n",
      "GW_feedback = 1\n",
      "GW_threshold = 0.5\n",
      "GW_scale = 20\n",
      "BG_thr = 0.1\n",
      "BG_bias = 0.5\n",
      "integrator_reset = True\n",
      "data = <data.Data object at 0x7f9200f47f10>\n",
      "\t seed 14/20\n",
      "running run_seed113_crosstalk0.03666666666666667\n"
     ]
    },
    {
     "data": {
      "text/html": [
       "\n",
       "                <div id=\"124da9be-11f7-4669-9428-8630d07f7d24\" style=\"\n",
       "                    width: 100%;\n",
       "                    border: 1px solid #cfcfcf;\n",
       "                    border-radius: 4px;\n",
       "                    text-align: center;\n",
       "                    position: relative;\">\n",
       "                  <div class=\"pb-text\" style=\"\n",
       "                      position: absolute;\n",
       "                      width: 100%;\">\n",
       "                    0%\n",
       "                  </div>\n",
       "                  <div class=\"pb-fill\" style=\"\n",
       "                      background-color: #bdd2e6;\n",
       "                      width: 0%;\">\n",
       "                    <style type=\"text/css\" scoped=\"scoped\">\n",
       "                        @keyframes pb-fill-anim {\n",
       "                            0% { background-position: 0 0; }\n",
       "                            100% { background-position: 100px 0; }\n",
       "                        }\n",
       "                    </style>\n",
       "                    &nbsp;\n",
       "                  </div>\n",
       "                </div>"
      ],
      "text/plain": [
       "HtmlProgressBar cannot be displayed. Please use the TerminalProgressBar. It can be enabled with `nengo.rc.set('progress', 'progress_bar', 'nengo.utils.progress.TerminalProgressBar')`."
      ]
     },
     "metadata": {},
     "output_type": "display_data"
    },
    {
     "data": {
      "application/javascript": [
       "\n",
       "              (function () {\n",
       "                  var root = document.getElementById('124da9be-11f7-4669-9428-8630d07f7d24');\n",
       "                  var text = root.getElementsByClassName('pb-text')[0];\n",
       "                  var fill = root.getElementsByClassName('pb-fill')[0];\n",
       "\n",
       "                  text.innerHTML = 'Simulation finished in 0:02:04.';\n",
       "                  \n",
       "            if (100.0 > 0.) {\n",
       "                fill.style.transition = 'width 0.1s linear';\n",
       "            } else {\n",
       "                fill.style.transition = 'none';\n",
       "            }\n",
       "\n",
       "            fill.style.width = '100.0%';\n",
       "            fill.style.animation = 'none';\n",
       "            fill.style.backgroundImage = 'none'\n",
       "        \n",
       "                  \n",
       "                fill.style.animation = 'none';\n",
       "                fill.style.backgroundImage = 'none';\n",
       "            \n",
       "              })();\n",
       "        "
      ],
      "text/plain": [
       "<IPython.core.display.Javascript object>"
      ]
     },
     "metadata": {},
     "output_type": "display_data"
    },
    {
     "name": "stdout",
     "output_type": "stream",
     "text": [
      "seed = 113\n",
      "backend = 'nengo_ocl'\n",
      "dt = 0.001\n",
      "neuron_type = 'default'\n",
      "n_neurons_scale = 1\n",
      "n_neurons_scale_combined = 0.25\n",
      "s_crosstalk = 0.03666666666666667\n",
      "s_evidence = 10\n",
      "n_samples = 10000\n",
      "t_senso = 0\n",
      "vocab = <nengo_spa.vocabulary.Vocabulary object at 0x7f921baff150>\n",
      "xp = <experiments.Xp1 object at 0x7f91c7dc4910>\n",
      "proc_feedback = 0.9\n",
      "proc_feedback_synapse = 0.005\n",
      "GW_feedback = 1\n",
      "GW_threshold = 0.5\n",
      "GW_scale = 20\n",
      "BG_thr = 0.1\n",
      "BG_bias = 0.5\n",
      "integrator_reset = True\n",
      "data = <data.Data object at 0x7f91c7ce5790>\n",
      "\t seed 15/20\n",
      "running run_seed114_crosstalk0.03666666666666667\n"
     ]
    },
    {
     "data": {
      "text/html": [
       "\n",
       "                <div id=\"7a75d026-b07f-469c-9149-dec56ca72cbb\" style=\"\n",
       "                    width: 100%;\n",
       "                    border: 1px solid #cfcfcf;\n",
       "                    border-radius: 4px;\n",
       "                    text-align: center;\n",
       "                    position: relative;\">\n",
       "                  <div class=\"pb-text\" style=\"\n",
       "                      position: absolute;\n",
       "                      width: 100%;\">\n",
       "                    0%\n",
       "                  </div>\n",
       "                  <div class=\"pb-fill\" style=\"\n",
       "                      background-color: #bdd2e6;\n",
       "                      width: 0%;\">\n",
       "                    <style type=\"text/css\" scoped=\"scoped\">\n",
       "                        @keyframes pb-fill-anim {\n",
       "                            0% { background-position: 0 0; }\n",
       "                            100% { background-position: 100px 0; }\n",
       "                        }\n",
       "                    </style>\n",
       "                    &nbsp;\n",
       "                  </div>\n",
       "                </div>"
      ],
      "text/plain": [
       "HtmlProgressBar cannot be displayed. Please use the TerminalProgressBar. It can be enabled with `nengo.rc.set('progress', 'progress_bar', 'nengo.utils.progress.TerminalProgressBar')`."
      ]
     },
     "metadata": {},
     "output_type": "display_data"
    },
    {
     "data": {
      "application/javascript": [
       "\n",
       "              (function () {\n",
       "                  var root = document.getElementById('7a75d026-b07f-469c-9149-dec56ca72cbb');\n",
       "                  var text = root.getElementsByClassName('pb-text')[0];\n",
       "                  var fill = root.getElementsByClassName('pb-fill')[0];\n",
       "\n",
       "                  text.innerHTML = 'Simulation finished in 0:01:59.';\n",
       "                  \n",
       "            if (100.0 > 0.) {\n",
       "                fill.style.transition = 'width 0.1s linear';\n",
       "            } else {\n",
       "                fill.style.transition = 'none';\n",
       "            }\n",
       "\n",
       "            fill.style.width = '100.0%';\n",
       "            fill.style.animation = 'none';\n",
       "            fill.style.backgroundImage = 'none'\n",
       "        \n",
       "                  \n",
       "                fill.style.animation = 'none';\n",
       "                fill.style.backgroundImage = 'none';\n",
       "            \n",
       "              })();\n",
       "        "
      ],
      "text/plain": [
       "<IPython.core.display.Javascript object>"
      ]
     },
     "metadata": {},
     "output_type": "display_data"
    },
    {
     "name": "stdout",
     "output_type": "stream",
     "text": [
      "seed = 114\n",
      "backend = 'nengo_ocl'\n",
      "dt = 0.001\n",
      "neuron_type = 'default'\n",
      "n_neurons_scale = 1\n",
      "n_neurons_scale_combined = 0.25\n",
      "s_crosstalk = 0.03666666666666667\n",
      "s_evidence = 10\n",
      "n_samples = 10000\n",
      "t_senso = 0\n",
      "vocab = <nengo_spa.vocabulary.Vocabulary object at 0x7f921baff210>\n",
      "xp = <experiments.Xp1 object at 0x7f91cb870d50>\n",
      "proc_feedback = 0.9\n",
      "proc_feedback_synapse = 0.005\n",
      "GW_feedback = 1\n",
      "GW_threshold = 0.5\n",
      "GW_scale = 20\n",
      "BG_thr = 0.1\n",
      "BG_bias = 0.5\n",
      "integrator_reset = True\n",
      "data = <data.Data object at 0x7f921e4056d0>\n",
      "\t seed 16/20\n",
      "running run_seed115_crosstalk0.03666666666666667\n"
     ]
    },
    {
     "data": {
      "text/html": [
       "\n",
       "                <div id=\"f82c1a8d-b063-4961-bf71-e19d9328f3ea\" style=\"\n",
       "                    width: 100%;\n",
       "                    border: 1px solid #cfcfcf;\n",
       "                    border-radius: 4px;\n",
       "                    text-align: center;\n",
       "                    position: relative;\">\n",
       "                  <div class=\"pb-text\" style=\"\n",
       "                      position: absolute;\n",
       "                      width: 100%;\">\n",
       "                    0%\n",
       "                  </div>\n",
       "                  <div class=\"pb-fill\" style=\"\n",
       "                      background-color: #bdd2e6;\n",
       "                      width: 0%;\">\n",
       "                    <style type=\"text/css\" scoped=\"scoped\">\n",
       "                        @keyframes pb-fill-anim {\n",
       "                            0% { background-position: 0 0; }\n",
       "                            100% { background-position: 100px 0; }\n",
       "                        }\n",
       "                    </style>\n",
       "                    &nbsp;\n",
       "                  </div>\n",
       "                </div>"
      ],
      "text/plain": [
       "HtmlProgressBar cannot be displayed. Please use the TerminalProgressBar. It can be enabled with `nengo.rc.set('progress', 'progress_bar', 'nengo.utils.progress.TerminalProgressBar')`."
      ]
     },
     "metadata": {},
     "output_type": "display_data"
    },
    {
     "data": {
      "application/javascript": [
       "\n",
       "              (function () {\n",
       "                  var root = document.getElementById('f82c1a8d-b063-4961-bf71-e19d9328f3ea');\n",
       "                  var text = root.getElementsByClassName('pb-text')[0];\n",
       "                  var fill = root.getElementsByClassName('pb-fill')[0];\n",
       "\n",
       "                  text.innerHTML = 'Simulation finished in 0:02:00.';\n",
       "                  \n",
       "            if (100.0 > 0.) {\n",
       "                fill.style.transition = 'width 0.1s linear';\n",
       "            } else {\n",
       "                fill.style.transition = 'none';\n",
       "            }\n",
       "\n",
       "            fill.style.width = '100.0%';\n",
       "            fill.style.animation = 'none';\n",
       "            fill.style.backgroundImage = 'none'\n",
       "        \n",
       "                  \n",
       "                fill.style.animation = 'none';\n",
       "                fill.style.backgroundImage = 'none';\n",
       "            \n",
       "              })();\n",
       "        "
      ],
      "text/plain": [
       "<IPython.core.display.Javascript object>"
      ]
     },
     "metadata": {},
     "output_type": "display_data"
    },
    {
     "name": "stdout",
     "output_type": "stream",
     "text": [
      "seed = 115\n",
      "backend = 'nengo_ocl'\n",
      "dt = 0.001\n",
      "neuron_type = 'default'\n",
      "n_neurons_scale = 1\n",
      "n_neurons_scale_combined = 0.25\n",
      "s_crosstalk = 0.03666666666666667\n",
      "s_evidence = 10\n",
      "n_samples = 10000\n",
      "t_senso = 0\n",
      "vocab = <nengo_spa.vocabulary.Vocabulary object at 0x7f921e438850>\n",
      "xp = <experiments.Xp1 object at 0x7f91ca5aeb50>\n",
      "proc_feedback = 0.9\n",
      "proc_feedback_synapse = 0.005\n",
      "GW_feedback = 1\n",
      "GW_threshold = 0.5\n",
      "GW_scale = 20\n",
      "BG_thr = 0.1\n",
      "BG_bias = 0.5\n",
      "integrator_reset = True\n",
      "data = <data.Data object at 0x7f9200854a50>\n",
      "\t seed 17/20\n",
      "running run_seed116_crosstalk0.03666666666666667\n"
     ]
    },
    {
     "data": {
      "text/html": [
       "\n",
       "                <div id=\"002f6fbb-6d9f-47fd-9bf2-3c274d38f283\" style=\"\n",
       "                    width: 100%;\n",
       "                    border: 1px solid #cfcfcf;\n",
       "                    border-radius: 4px;\n",
       "                    text-align: center;\n",
       "                    position: relative;\">\n",
       "                  <div class=\"pb-text\" style=\"\n",
       "                      position: absolute;\n",
       "                      width: 100%;\">\n",
       "                    0%\n",
       "                  </div>\n",
       "                  <div class=\"pb-fill\" style=\"\n",
       "                      background-color: #bdd2e6;\n",
       "                      width: 0%;\">\n",
       "                    <style type=\"text/css\" scoped=\"scoped\">\n",
       "                        @keyframes pb-fill-anim {\n",
       "                            0% { background-position: 0 0; }\n",
       "                            100% { background-position: 100px 0; }\n",
       "                        }\n",
       "                    </style>\n",
       "                    &nbsp;\n",
       "                  </div>\n",
       "                </div>"
      ],
      "text/plain": [
       "HtmlProgressBar cannot be displayed. Please use the TerminalProgressBar. It can be enabled with `nengo.rc.set('progress', 'progress_bar', 'nengo.utils.progress.TerminalProgressBar')`."
      ]
     },
     "metadata": {},
     "output_type": "display_data"
    },
    {
     "data": {
      "application/javascript": [
       "\n",
       "              (function () {\n",
       "                  var root = document.getElementById('002f6fbb-6d9f-47fd-9bf2-3c274d38f283');\n",
       "                  var text = root.getElementsByClassName('pb-text')[0];\n",
       "                  var fill = root.getElementsByClassName('pb-fill')[0];\n",
       "\n",
       "                  text.innerHTML = 'Simulation finished in 0:02:00.';\n",
       "                  \n",
       "            if (100.0 > 0.) {\n",
       "                fill.style.transition = 'width 0.1s linear';\n",
       "            } else {\n",
       "                fill.style.transition = 'none';\n",
       "            }\n",
       "\n",
       "            fill.style.width = '100.0%';\n",
       "            fill.style.animation = 'none';\n",
       "            fill.style.backgroundImage = 'none'\n",
       "        \n",
       "                  \n",
       "                fill.style.animation = 'none';\n",
       "                fill.style.backgroundImage = 'none';\n",
       "            \n",
       "              })();\n",
       "        "
      ],
      "text/plain": [
       "<IPython.core.display.Javascript object>"
      ]
     },
     "metadata": {},
     "output_type": "display_data"
    },
    {
     "name": "stdout",
     "output_type": "stream",
     "text": [
      "seed = 116\n",
      "backend = 'nengo_ocl'\n",
      "dt = 0.001\n",
      "neuron_type = 'default'\n",
      "n_neurons_scale = 1\n",
      "n_neurons_scale_combined = 0.25\n",
      "s_crosstalk = 0.03666666666666667\n",
      "s_evidence = 10\n",
      "n_samples = 10000\n",
      "t_senso = 0\n",
      "vocab = <nengo_spa.vocabulary.Vocabulary object at 0x7f921c15ab90>\n",
      "xp = <experiments.Xp1 object at 0x7f91c84b9d90>\n",
      "proc_feedback = 0.9\n",
      "proc_feedback_synapse = 0.005\n",
      "GW_feedback = 1\n",
      "GW_threshold = 0.5\n",
      "GW_scale = 20\n",
      "BG_thr = 0.1\n",
      "BG_bias = 0.5\n",
      "integrator_reset = True\n",
      "data = <data.Data object at 0x7f921e08a090>\n",
      "\t seed 18/20\n",
      "running run_seed117_crosstalk0.03666666666666667\n"
     ]
    },
    {
     "data": {
      "text/html": [
       "\n",
       "                <div id=\"36337eab-8a73-4649-9c01-0c753dc7d533\" style=\"\n",
       "                    width: 100%;\n",
       "                    border: 1px solid #cfcfcf;\n",
       "                    border-radius: 4px;\n",
       "                    text-align: center;\n",
       "                    position: relative;\">\n",
       "                  <div class=\"pb-text\" style=\"\n",
       "                      position: absolute;\n",
       "                      width: 100%;\">\n",
       "                    0%\n",
       "                  </div>\n",
       "                  <div class=\"pb-fill\" style=\"\n",
       "                      background-color: #bdd2e6;\n",
       "                      width: 0%;\">\n",
       "                    <style type=\"text/css\" scoped=\"scoped\">\n",
       "                        @keyframes pb-fill-anim {\n",
       "                            0% { background-position: 0 0; }\n",
       "                            100% { background-position: 100px 0; }\n",
       "                        }\n",
       "                    </style>\n",
       "                    &nbsp;\n",
       "                  </div>\n",
       "                </div>"
      ],
      "text/plain": [
       "HtmlProgressBar cannot be displayed. Please use the TerminalProgressBar. It can be enabled with `nengo.rc.set('progress', 'progress_bar', 'nengo.utils.progress.TerminalProgressBar')`."
      ]
     },
     "metadata": {},
     "output_type": "display_data"
    },
    {
     "data": {
      "application/javascript": [
       "\n",
       "              (function () {\n",
       "                  var root = document.getElementById('36337eab-8a73-4649-9c01-0c753dc7d533');\n",
       "                  var text = root.getElementsByClassName('pb-text')[0];\n",
       "                  var fill = root.getElementsByClassName('pb-fill')[0];\n",
       "\n",
       "                  text.innerHTML = 'Simulation finished in 0:02:00.';\n",
       "                  \n",
       "            if (100.0 > 0.) {\n",
       "                fill.style.transition = 'width 0.1s linear';\n",
       "            } else {\n",
       "                fill.style.transition = 'none';\n",
       "            }\n",
       "\n",
       "            fill.style.width = '100.0%';\n",
       "            fill.style.animation = 'none';\n",
       "            fill.style.backgroundImage = 'none'\n",
       "        \n",
       "                  \n",
       "                fill.style.animation = 'none';\n",
       "                fill.style.backgroundImage = 'none';\n",
       "            \n",
       "              })();\n",
       "        "
      ],
      "text/plain": [
       "<IPython.core.display.Javascript object>"
      ]
     },
     "metadata": {},
     "output_type": "display_data"
    },
    {
     "name": "stdout",
     "output_type": "stream",
     "text": [
      "seed = 117\n",
      "backend = 'nengo_ocl'\n",
      "dt = 0.001\n",
      "neuron_type = 'default'\n",
      "n_neurons_scale = 1\n",
      "n_neurons_scale_combined = 0.25\n",
      "s_crosstalk = 0.03666666666666667\n",
      "s_evidence = 10\n",
      "n_samples = 10000\n",
      "t_senso = 0\n",
      "vocab = <nengo_spa.vocabulary.Vocabulary object at 0x7f921c15aa50>\n",
      "xp = <experiments.Xp1 object at 0x7f91c8db2190>\n",
      "proc_feedback = 0.9\n",
      "proc_feedback_synapse = 0.005\n",
      "GW_feedback = 1\n",
      "GW_threshold = 0.5\n",
      "GW_scale = 20\n",
      "BG_thr = 0.1\n",
      "BG_bias = 0.5\n",
      "integrator_reset = True\n",
      "data = <data.Data object at 0x7f921d03c310>\n",
      "\t seed 19/20\n",
      "running run_seed118_crosstalk0.03666666666666667\n"
     ]
    },
    {
     "data": {
      "text/html": [
       "\n",
       "                <div id=\"3d479262-bf46-4c56-9669-bdf4285e3ea5\" style=\"\n",
       "                    width: 100%;\n",
       "                    border: 1px solid #cfcfcf;\n",
       "                    border-radius: 4px;\n",
       "                    text-align: center;\n",
       "                    position: relative;\">\n",
       "                  <div class=\"pb-text\" style=\"\n",
       "                      position: absolute;\n",
       "                      width: 100%;\">\n",
       "                    0%\n",
       "                  </div>\n",
       "                  <div class=\"pb-fill\" style=\"\n",
       "                      background-color: #bdd2e6;\n",
       "                      width: 0%;\">\n",
       "                    <style type=\"text/css\" scoped=\"scoped\">\n",
       "                        @keyframes pb-fill-anim {\n",
       "                            0% { background-position: 0 0; }\n",
       "                            100% { background-position: 100px 0; }\n",
       "                        }\n",
       "                    </style>\n",
       "                    &nbsp;\n",
       "                  </div>\n",
       "                </div>"
      ],
      "text/plain": [
       "HtmlProgressBar cannot be displayed. Please use the TerminalProgressBar. It can be enabled with `nengo.rc.set('progress', 'progress_bar', 'nengo.utils.progress.TerminalProgressBar')`."
      ]
     },
     "metadata": {},
     "output_type": "display_data"
    },
    {
     "data": {
      "application/javascript": [
       "\n",
       "              (function () {\n",
       "                  var root = document.getElementById('3d479262-bf46-4c56-9669-bdf4285e3ea5');\n",
       "                  var text = root.getElementsByClassName('pb-text')[0];\n",
       "                  var fill = root.getElementsByClassName('pb-fill')[0];\n",
       "\n",
       "                  text.innerHTML = 'Simulation finished in 0:01:59.';\n",
       "                  \n",
       "            if (100.0 > 0.) {\n",
       "                fill.style.transition = 'width 0.1s linear';\n",
       "            } else {\n",
       "                fill.style.transition = 'none';\n",
       "            }\n",
       "\n",
       "            fill.style.width = '100.0%';\n",
       "            fill.style.animation = 'none';\n",
       "            fill.style.backgroundImage = 'none'\n",
       "        \n",
       "                  \n",
       "                fill.style.animation = 'none';\n",
       "                fill.style.backgroundImage = 'none';\n",
       "            \n",
       "              })();\n",
       "        "
      ],
      "text/plain": [
       "<IPython.core.display.Javascript object>"
      ]
     },
     "metadata": {},
     "output_type": "display_data"
    },
    {
     "name": "stdout",
     "output_type": "stream",
     "text": [
      "seed = 118\n",
      "backend = 'nengo_ocl'\n",
      "dt = 0.001\n",
      "neuron_type = 'default'\n",
      "n_neurons_scale = 1\n",
      "n_neurons_scale_combined = 0.25\n",
      "s_crosstalk = 0.03666666666666667\n",
      "s_evidence = 10\n",
      "n_samples = 10000\n",
      "t_senso = 0\n",
      "vocab = <nengo_spa.vocabulary.Vocabulary object at 0x7f921b745fd0>\n",
      "xp = <experiments.Xp1 object at 0x7f921b745b90>\n",
      "proc_feedback = 0.9\n",
      "proc_feedback_synapse = 0.005\n",
      "GW_feedback = 1\n",
      "GW_threshold = 0.5\n",
      "GW_scale = 20\n",
      "BG_thr = 0.1\n",
      "BG_bias = 0.5\n",
      "integrator_reset = True\n",
      "data = <data.Data object at 0x7f921e35dc50>\n",
      "\t seed 20/20\n",
      "running run_seed119_crosstalk0.03666666666666667\n"
     ]
    },
    {
     "data": {
      "text/html": [
       "\n",
       "                <div id=\"7e1b3198-4e1c-429b-be72-3b6bcdc4d39c\" style=\"\n",
       "                    width: 100%;\n",
       "                    border: 1px solid #cfcfcf;\n",
       "                    border-radius: 4px;\n",
       "                    text-align: center;\n",
       "                    position: relative;\">\n",
       "                  <div class=\"pb-text\" style=\"\n",
       "                      position: absolute;\n",
       "                      width: 100%;\">\n",
       "                    0%\n",
       "                  </div>\n",
       "                  <div class=\"pb-fill\" style=\"\n",
       "                      background-color: #bdd2e6;\n",
       "                      width: 0%;\">\n",
       "                    <style type=\"text/css\" scoped=\"scoped\">\n",
       "                        @keyframes pb-fill-anim {\n",
       "                            0% { background-position: 0 0; }\n",
       "                            100% { background-position: 100px 0; }\n",
       "                        }\n",
       "                    </style>\n",
       "                    &nbsp;\n",
       "                  </div>\n",
       "                </div>"
      ],
      "text/plain": [
       "HtmlProgressBar cannot be displayed. Please use the TerminalProgressBar. It can be enabled with `nengo.rc.set('progress', 'progress_bar', 'nengo.utils.progress.TerminalProgressBar')`."
      ]
     },
     "metadata": {},
     "output_type": "display_data"
    },
    {
     "data": {
      "application/javascript": [
       "\n",
       "              (function () {\n",
       "                  var root = document.getElementById('7e1b3198-4e1c-429b-be72-3b6bcdc4d39c');\n",
       "                  var text = root.getElementsByClassName('pb-text')[0];\n",
       "                  var fill = root.getElementsByClassName('pb-fill')[0];\n",
       "\n",
       "                  text.innerHTML = 'Simulation finished in 0:02:00.';\n",
       "                  \n",
       "            if (100.0 > 0.) {\n",
       "                fill.style.transition = 'width 0.1s linear';\n",
       "            } else {\n",
       "                fill.style.transition = 'none';\n",
       "            }\n",
       "\n",
       "            fill.style.width = '100.0%';\n",
       "            fill.style.animation = 'none';\n",
       "            fill.style.backgroundImage = 'none'\n",
       "        \n",
       "                  \n",
       "                fill.style.animation = 'none';\n",
       "                fill.style.backgroundImage = 'none';\n",
       "            \n",
       "              })();\n",
       "        "
      ],
      "text/plain": [
       "<IPython.core.display.Javascript object>"
      ]
     },
     "metadata": {},
     "output_type": "display_data"
    },
    {
     "name": "stdout",
     "output_type": "stream",
     "text": [
      "seed = 119\n",
      "backend = 'nengo_ocl'\n",
      "dt = 0.001\n",
      "neuron_type = 'default'\n",
      "n_neurons_scale = 1\n",
      "n_neurons_scale_combined = 0.25\n",
      "s_crosstalk = 0.03666666666666667\n",
      "s_evidence = 10\n",
      "n_samples = 10000\n",
      "t_senso = 0\n",
      "vocab = <nengo_spa.vocabulary.Vocabulary object at 0x7f921c6a5610>\n",
      "xp = <experiments.Xp1 object at 0x7f91c8dba990>\n",
      "proc_feedback = 0.9\n",
      "proc_feedback_synapse = 0.005\n",
      "GW_feedback = 1\n",
      "GW_threshold = 0.5\n",
      "GW_scale = 20\n",
      "BG_thr = 0.1\n",
      "BG_bias = 0.5\n",
      "integrator_reset = True\n",
      "data = <data.Data object at 0x7f921d822b90>\n",
      "4\n",
      "40\n"
     ]
    },
    {
     "data": {
      "image/png": "[encoded data removed]",
      "text/plain": [
       "<Figure size 1152x288 with 2 Axes>"
      ]
     },
     "metadata": {
      "needs_background": "light"
     },
     "output_type": "display_data"
    },
    {
     "name": "stdout",
     "output_type": "stream",
     "text": [
      "rmse: (145.14619398822424, [], [8800.388098792591, 8613.767331298344, 27825.704125879965, 22743.77184597194, 5447.972748905583, 4598.2481439406265, 10365.3542387477, 11408.458076219931, 9763.49193626417, 9763.491936265922, 20394.80570601731, 21847.909543491984, 5899.835051388795, 6054.455818882931, 182167.10367441256, 182167.10367441562, 11408.458076219555, 11408.45807621918, 21260.66800849836, 20970.047241005705, 17905.21879856723, 18991.701868546745, 17638.598031072313, 17373.977263580447, 12278.941146196494, 11195.837308726064, 14354.52805364575, 13644.665751163075, 8989.00886628685, 8613.767331299663, 2895.5573990185926, 3945.1443064680025, 11195.837308724933, 11195.837308727569, 12726.18268118575, 20110.184938523606, 8318.653155872487, 6433.106837582258, 37328.809925468086, 25346.757668937036, 3272.600899340437, 2830.9476926896186, 13272.572395777273, 14210.225602427568, 6433.106837584537, 6923.346742572748, 20508.144842333168, 21084.971445659292, 13043.159094114684, 13972.812300765834, 219217.46788271223, 220154.8811843727, 3159.187597677806, 3388.0142010029926, 18280.838429031268, 17215.18522238243, 25666.170970599018, 24400.51776394777, 18552.251730695752, 20222.731540673143, 17744.01182570616, 15928.118714069979, 22863.451255635235, 21084.971445658266, 2323.8811843759636, 5070.387122618903, 7780.413250885598, 10242.786172501312, 27.10921287965244, 13360.143023818526, 14783.176042687499, 7847.494438912785, 10730.076986084172, 6494.11708042208, 4842.223212498437, 31182.64538230927, 32251.16189174583, 30480.301042686388, 28421.26802382019, 17314.897740799686, 17579.06991061098, 18929.93075966683, 17579.069910612878, 33703.8505709871, 31536.817552122287, 16278.209061554186, 15273.520382311648, 9719.216137026991, 8758.355287970533, 226182.12415589398, 226182.12415590073, 17579.06991061098, 16278.209061553735, 17579.06991061051, 17314.89774080121, 2170.263306837454, 3432.3293445738905, 16792.553401177913, 14300.831703065112, 47343.70434457284, 43091.9826464627, 34072.02274079886, 34072.02274080083, 13826.487363441167, 14300.831703065112, 11148.421325706615, 11148.421325707359, 17669.96194344276, 16881.391488897214, 5173.696034349224, 5030.839216167106, 9985.686943440072, 10389.400579803478, 17936.81876162207, 17405.105125261536, 16881.39148889537, 15358.250579805243, 9589.973307076303, 9395.116488894255, 19860.81648889521, 19860.81648889822, 20715.38694343969, 19579.959670715038, 11220.827852531029, 10186.543761621777, 7731.405125258176, 7383.691488895645, 10594.257397985528, 183979.58012526028, 15607.10739798517, 15607.107397987385, 8450.832397985601, 6877.121034348958, 12752.825579803708, 11220.827852531404, 10594.257397984813, 9786.830125257658, 21882.814216167357, 21004.243761620834, 23082.241488894753, 24941.382397985737, 11009.971034349235, 11865.39830707573, 11648.541488894618, 12305.111943441081, 10.337639495468409, 4.9071995430987805, 5215.037996213614, 10447.951194787684, 4460.206842824813, 1745.9678416355846, 1867.5552375927991, 1170.6812780214857, 4253.024916546601, 3747.303156736684, 2324.707437355169, 3625.8727167847487, 5507.898876118538, 270623.8750949057, 84.92027921008325, 84.92027921005078, 6275.051075880726, 4384.455356499084, 5657.329316070676, 5657.329316070942, 2521.568317260872, 1867.555237593875, 1037.8203981161964, 2135.8465574506035, 1782.124797640265, 2422.1378773083, 17.768079447917895, 0.046319638163818615, 190.0201603040308, 281.72884044675095, 450.08555863925454, 52.05939930530563, 49.25487603305762, 3.9276033057829363, 441.76396694241566, 121.40033057869742, 1522.418512396693, 1297.3094214878479, 11452.89123966971, 12773.109421490375, 9219.491239669156, 9219.491239669833, 1157.2366942149445, 1297.3094214881057, 5186.618512396364, 5331.654876033936, 4358.4003305786455, 3723.218512397372, 4.073057851243274, 81.32760330589146, 290540.600330579, 289463.5639669485, 785.0185123966869, 576.8730578513808, 529.8366942148753, 441.7639669421194, 30618.636694214405, 26563.073057849502, 2305.7457851238287, 1601.4548760331566, 12325.03669421486, 14165.327603305375, 9804.600330578261, 12104.000330578834, 3.927603305793751, 48.74578512385922, 1226.2730578512385, 1025.163966942053, 7005.355597410431, 7005.35559741102, 1997.9114140963607, 881.971343590962, 609.9913200892661, 660.3873247901367, 16821.57181362573, 16052.38379952466, 11815.25571491903, 9158.107653816154, 6193.375573908318, 6036.979569207983, 5579.791555107699, 4583.01952220593, 10753.275691417144, 9939.691672617198, 3563.8514846017697, 2672.6834469990276, 2883.4754563996185, 3563.8514846015596, 283767.1617078684, 283767.1617078646, 10140.087677316295, 9544.899663215287, 349.61529188718765, 660.3873247901367, 2180.703423497336, 2469.8914375991285, 6193.37557390839, 5284.999545707139, 17875.155832429387, 19237.135855931923, 12476.443729019722, 12927.235738422994, 3445.455479901322, 4057.4355034029054, 2672.6834469986575, 3445.455479901689, 4991.222138261971, 4309.736318287713, 14556.080338017027, 13841.188846033436, 1734.6043824057247, 1734.6043824060182, 5424.113630247698, 4442.03348228296, 3924.8448263017335, 4051.1419902965627, 5722.707958237401, 6185.599450222614, 4442.033482282005, 3678.25049831157, 284780.80906798114, 284780.80906798877, 3439.656170321362, 2667.576022357032, 10536.731386105464, 9340.948402135646, 9148.651238138962, 10951.32571409613, 6504.193778212277, 6666.490942209861, 4712.6278102719925, 5277.816466252965, 9929.839894119143, 9340.94840213358, 7858.571090173548, 7858.571090175121, 214.5809545384754, 1065.9299064500015, 5572.410794243481, 6185.599450224572, 6997.085270197778, 7335.679598188625, 6830.360461777856, 7164.944441107042, 3439.3527098397494, 4990.856585808791, 6028.900513457527, 6503.77648245044, 14797.748058677034, 15536.624027668873, 10331.908265395115, 9534.740306739915, 6343.484492786158, 6343.484492786728, 2175.8488338713973, 1132.0529682380488, 14555.45606901309, 16293.49999666204, 5572.024544465062, 6343.484492786158, 2771.60077185538, 2175.8488338713973, 293380.3837175898, 292298.09172793786, 9534.740306739215, 10331.908265394744, 2464.7248028633376, 2667.3087821921304, 3323.0607201757334, 3208.7687305121144, 3096.4767408475936, 3924.5206684971367, 18946.419893301874, 18946.419893303344, 10742.492244723404, 12242.536172374263, 2464.7248028629824, 2771.600771855614, 7164.944441105839, 6830.360461778448, 730.0108765090273, 676.9734496085632, 10407.81789405306, 13928.41672446423, 289.6366075031812, 842.0857303101321, 3483.2085373278132, 3483.2085373281825, 1090.2354379125247, 1682.5348531168777, 4098.395671831022, 4626.5453794345285, 3366.1711104271876, 2918.021402825711, 268343.38748469704, 268343.3874846998, 36.224911596730074, 36.22491159681013, 3483.2085373277596, 3846.3208180308557, 7059.144209842165, 7924.331344346161, 4358.47052563182, 5186.695087036123, 4763.582806333558, 3846.32081802953, 5931.882221538131, 5186.695087035361, 2305.796841421228, 2402.8342683221063, 4353.530174753176, 4758.417894051371, 484.82374200598775, 785.0483034098803, 4491.507952532808, 4227.433098732233, 5778.844794637634, 4358.470525631587, 1765.1367144299345, 2305.2990760533626, 17692.599199054835, 24029.19452500681, 3719.3495065581674, 3970.7049801125495, 3601.6237993010477, 196.37902685300628, 144.3249063117944, 6891.246185524685, 7227.300306065409, 303615.91039216344, 304718.93745244504, 1024.8661117238787, 1089.8931719947977, 12102.97681283044, 16132.436837433639, 7571.354426607011, 9027.570908773034, 8838.54384850119, 7923.408547148035, 8102.435607418851, 10406.760330666913, 8283.462667689682, 8283.462667690976, 1522.05553361806, 1601.0825938897726, 441.56844874719536, 900.8119911831627, 7923.408547148349, 484.595509017852, 431.3456402164179, 248.65701746216317, 231.98755638423685, 409.2989336294098, 115.96839470755332, 664.0342629714605, 4066.467795905191, 3337.2414486011094, 4066.4677959052997, 3692.8546222523723, 0.5911491986173699, 0.05342464770855981, 3222.703724048891, 1915.7133048872633, 5740.920490516107, 5893.458215067801, 613.4965384202005, 163.04384380935872, 2423.704921653741, 1539.0821671621793, 259864.29294561184, 259864.29294561542, 14.204322851306115, 7.66659830042985, 95.4306701566686, 138.5061192586019, 4125.639053390252, 5659.724083329042, 163.04384380939356, 281.1947420129884, 5590.382765965223, 5441.845041414013, 2094.788753988718, 2680.0151012948254, 149.60073003696775, 149.60073003692324, 7.666598300400261, 7.666598300469198])\n",
      "error rate: 0.09999999999999998\n",
      "params: [0.06333333]\n",
      "Simulating...\n",
      "\t seed 1/20\n",
      "running run_seed100_crosstalk0.06333333333333332\n"
     ]
    },
    {
     "data": {
      "text/html": [
       "\n",
       "                <div id=\"9b77de08-4e82-475f-ba97-8282c77ed01e\" style=\"\n",
       "                    width: 100%;\n",
       "                    border: 1px solid #cfcfcf;\n",
       "                    border-radius: 4px;\n",
       "                    text-align: center;\n",
       "                    position: relative;\">\n",
       "                  <div class=\"pb-text\" style=\"\n",
       "                      position: absolute;\n",
       "                      width: 100%;\">\n",
       "                    0%\n",
       "                  </div>\n",
       "                  <div class=\"pb-fill\" style=\"\n",
       "                      background-color: #bdd2e6;\n",
       "                      width: 0%;\">\n",
       "                    <style type=\"text/css\" scoped=\"scoped\">\n",
       "                        @keyframes pb-fill-anim {\n",
       "                            0% { background-position: 0 0; }\n",
       "                            100% { background-position: 100px 0; }\n",
       "                        }\n",
       "                    </style>\n",
       "                    &nbsp;\n",
       "                  </div>\n",
       "                </div>"
      ],
      "text/plain": [
       "HtmlProgressBar cannot be displayed. Please use the TerminalProgressBar. It can be enabled with `nengo.rc.set('progress', 'progress_bar', 'nengo.utils.progress.TerminalProgressBar')`."
      ]
     },
     "metadata": {},
     "output_type": "display_data"
    },
    {
     "data": {
      "application/javascript": [
       "\n",
       "              (function () {\n",
       "                  var root = document.getElementById('9b77de08-4e82-475f-ba97-8282c77ed01e');\n",
       "                  var text = root.getElementsByClassName('pb-text')[0];\n",
       "                  var fill = root.getElementsByClassName('pb-fill')[0];\n",
       "\n",
       "                  text.innerHTML = 'Simulation finished in 0:01:56.';\n",
       "                  \n",
       "            if (100.0 > 0.) {\n",
       "                fill.style.transition = 'width 0.1s linear';\n",
       "            } else {\n",
       "                fill.style.transition = 'none';\n",
       "            }\n",
       "\n",
       "            fill.style.width = '100.0%';\n",
       "            fill.style.animation = 'none';\n",
       "            fill.style.backgroundImage = 'none'\n",
       "        \n",
       "                  \n",
       "                fill.style.animation = 'none';\n",
       "                fill.style.backgroundImage = 'none';\n",
       "            \n",
       "              })();\n",
       "        "
      ],
      "text/plain": [
       "<IPython.core.display.Javascript object>"
      ]
     },
     "metadata": {},
     "output_type": "display_data"
    },
    {
     "name": "stdout",
     "output_type": "stream",
     "text": [
      "seed = 100\n",
      "backend = 'nengo_ocl'\n",
      "dt = 0.001\n",
      "neuron_type = 'default'\n",
      "n_neurons_scale = 1\n",
      "n_neurons_scale_combined = 0.25\n",
      "s_crosstalk = 0.06333333333333332\n",
      "s_evidence = 10\n",
      "n_samples = 10000\n",
      "t_senso = 0\n",
      "vocab = <nengo_spa.vocabulary.Vocabulary object at 0x7f91c98a9110>\n",
      "xp = <experiments.Xp1 object at 0x7f9200fe7c50>\n",
      "proc_feedback = 0.9\n",
      "proc_feedback_synapse = 0.005\n",
      "GW_feedback = 1\n",
      "GW_threshold = 0.5\n",
      "GW_scale = 20\n",
      "BG_thr = 0.1\n",
      "BG_bias = 0.5\n",
      "integrator_reset = True\n",
      "data = <data.Data object at 0x7f9211eecc50>\n",
      "\t seed 2/20\n",
      "running run_seed101_crosstalk0.06333333333333332\n"
     ]
    },
    {
     "data": {
      "text/html": [
       "\n",
       "                <div id=\"4f1c562c-29e3-48e3-b106-3f5d4fd96d1c\" style=\"\n",
       "                    width: 100%;\n",
       "                    border: 1px solid #cfcfcf;\n",
       "                    border-radius: 4px;\n",
       "                    text-align: center;\n",
       "                    position: relative;\">\n",
       "                  <div class=\"pb-text\" style=\"\n",
       "                      position: absolute;\n",
       "                      width: 100%;\">\n",
       "                    0%\n",
       "                  </div>\n",
       "                  <div class=\"pb-fill\" style=\"\n",
       "                      background-color: #bdd2e6;\n",
       "                      width: 0%;\">\n",
       "                    <style type=\"text/css\" scoped=\"scoped\">\n",
       "                        @keyframes pb-fill-anim {\n",
       "                            0% { background-position: 0 0; }\n",
       "                            100% { background-position: 100px 0; }\n",
       "                        }\n",
       "                    </style>\n",
       "                    &nbsp;\n",
       "                  </div>\n",
       "                </div>"
      ],
      "text/plain": [
       "HtmlProgressBar cannot be displayed. Please use the TerminalProgressBar. It can be enabled with `nengo.rc.set('progress', 'progress_bar', 'nengo.utils.progress.TerminalProgressBar')`."
      ]
     },
     "metadata": {},
     "output_type": "display_data"
    },
    {
     "data": {
      "application/javascript": [
       "\n",
       "              (function () {\n",
       "                  var root = document.getElementById('4f1c562c-29e3-48e3-b106-3f5d4fd96d1c');\n",
       "                  var text = root.getElementsByClassName('pb-text')[0];\n",
       "                  var fill = root.getElementsByClassName('pb-fill')[0];\n",
       "\n",
       "                  text.innerHTML = 'Simulation finished in 0:01:58.';\n",
       "                  \n",
       "            if (100.0 > 0.) {\n",
       "                fill.style.transition = 'width 0.1s linear';\n",
       "            } else {\n",
       "                fill.style.transition = 'none';\n",
       "            }\n",
       "\n",
       "            fill.style.width = '100.0%';\n",
       "            fill.style.animation = 'none';\n",
       "            fill.style.backgroundImage = 'none'\n",
       "        \n",
       "                  \n",
       "                fill.style.animation = 'none';\n",
       "                fill.style.backgroundImage = 'none';\n",
       "            \n",
       "              })();\n",
       "        "
      ],
      "text/plain": [
       "<IPython.core.display.Javascript object>"
      ]
     },
     "metadata": {},
     "output_type": "display_data"
    },
    {
     "name": "stdout",
     "output_type": "stream",
     "text": [
      "seed = 101\n",
      "backend = 'nengo_ocl'\n",
      "dt = 0.001\n",
      "neuron_type = 'default'\n",
      "n_neurons_scale = 1\n",
      "n_neurons_scale_combined = 0.25\n",
      "s_crosstalk = 0.06333333333333332\n",
      "s_evidence = 10\n",
      "n_samples = 10000\n",
      "t_senso = 0\n",
      "vocab = <nengo_spa.vocabulary.Vocabulary object at 0x7f91c79006d0>\n",
      "xp = <experiments.Xp1 object at 0x7f921d247a50>\n",
      "proc_feedback = 0.9\n",
      "proc_feedback_synapse = 0.005\n",
      "GW_feedback = 1\n",
      "GW_threshold = 0.5\n",
      "GW_scale = 20\n",
      "BG_thr = 0.1\n",
      "BG_bias = 0.5\n",
      "integrator_reset = True\n",
      "data = <data.Data object at 0x7f921c69d390>\n",
      "\t seed 3/20\n",
      "running run_seed102_crosstalk0.06333333333333332\n"
     ]
    },
    {
     "data": {
      "text/html": [
       "\n",
       "                <div id=\"f277b562-8137-438f-83f6-eba53b1c3518\" style=\"\n",
       "                    width: 100%;\n",
       "                    border: 1px solid #cfcfcf;\n",
       "                    border-radius: 4px;\n",
       "                    text-align: center;\n",
       "                    position: relative;\">\n",
       "                  <div class=\"pb-text\" style=\"\n",
       "                      position: absolute;\n",
       "                      width: 100%;\">\n",
       "                    0%\n",
       "                  </div>\n",
       "                  <div class=\"pb-fill\" style=\"\n",
       "                      background-color: #bdd2e6;\n",
       "                      width: 0%;\">\n",
       "                    <style type=\"text/css\" scoped=\"scoped\">\n",
       "                        @keyframes pb-fill-anim {\n",
       "                            0% { background-position: 0 0; }\n",
       "                            100% { background-position: 100px 0; }\n",
       "                        }\n",
       "                    </style>\n",
       "                    &nbsp;\n",
       "                  </div>\n",
       "                </div>"
      ],
      "text/plain": [
       "HtmlProgressBar cannot be displayed. Please use the TerminalProgressBar. It can be enabled with `nengo.rc.set('progress', 'progress_bar', 'nengo.utils.progress.TerminalProgressBar')`."
      ]
     },
     "metadata": {},
     "output_type": "display_data"
    },
    {
     "data": {
      "application/javascript": [
       "\n",
       "              (function () {\n",
       "                  var root = document.getElementById('f277b562-8137-438f-83f6-eba53b1c3518');\n",
       "                  var text = root.getElementsByClassName('pb-text')[0];\n",
       "                  var fill = root.getElementsByClassName('pb-fill')[0];\n",
       "\n",
       "                  text.innerHTML = 'Simulation finished in 0:02:03.';\n",
       "                  \n",
       "            if (100.0 > 0.) {\n",
       "                fill.style.transition = 'width 0.1s linear';\n",
       "            } else {\n",
       "                fill.style.transition = 'none';\n",
       "            }\n",
       "\n",
       "            fill.style.width = '100.0%';\n",
       "            fill.style.animation = 'none';\n",
       "            fill.style.backgroundImage = 'none'\n",
       "        \n",
       "                  \n",
       "                fill.style.animation = 'none';\n",
       "                fill.style.backgroundImage = 'none';\n",
       "            \n",
       "              })();\n",
       "        "
      ],
      "text/plain": [
       "<IPython.core.display.Javascript object>"
      ]
     },
     "metadata": {},
     "output_type": "display_data"
    },
    {
     "name": "stdout",
     "output_type": "stream",
     "text": [
      "seed = 102\n",
      "backend = 'nengo_ocl'\n",
      "dt = 0.001\n",
      "neuron_type = 'default'\n",
      "n_neurons_scale = 1\n",
      "n_neurons_scale_combined = 0.25\n",
      "s_crosstalk = 0.06333333333333332\n",
      "s_evidence = 10\n",
      "n_samples = 10000\n",
      "t_senso = 0\n",
      "vocab = <nengo_spa.vocabulary.Vocabulary object at 0x7f91cacd4fd0>\n",
      "xp = <experiments.Xp1 object at 0x7f921d384ed0>\n",
      "proc_feedback = 0.9\n",
      "proc_feedback_synapse = 0.005\n",
      "GW_feedback = 1\n",
      "GW_threshold = 0.5\n",
      "GW_scale = 20\n",
      "BG_thr = 0.1\n",
      "BG_bias = 0.5\n",
      "integrator_reset = True\n",
      "data = <data.Data object at 0x7f91c9867610>\n",
      "\t seed 4/20\n",
      "running run_seed103_crosstalk0.06333333333333332\n"
     ]
    },
    {
     "data": {
      "text/html": [
       "\n",
       "                <div id=\"7d191a2d-7943-4e3d-aa61-7a6f4497f9c0\" style=\"\n",
       "                    width: 100%;\n",
       "                    border: 1px solid #cfcfcf;\n",
       "                    border-radius: 4px;\n",
       "                    text-align: center;\n",
       "                    position: relative;\">\n",
       "                  <div class=\"pb-text\" style=\"\n",
       "                      position: absolute;\n",
       "                      width: 100%;\">\n",
       "                    0%\n",
       "                  </div>\n",
       "                  <div class=\"pb-fill\" style=\"\n",
       "                      background-color: #bdd2e6;\n",
       "                      width: 0%;\">\n",
       "                    <style type=\"text/css\" scoped=\"scoped\">\n",
       "                        @keyframes pb-fill-anim {\n",
       "                            0% { background-position: 0 0; }\n",
       "                            100% { background-position: 100px 0; }\n",
       "                        }\n",
       "                    </style>\n",
       "                    &nbsp;\n",
       "                  </div>\n",
       "                </div>"
      ],
      "text/plain": [
       "HtmlProgressBar cannot be displayed. Please use the TerminalProgressBar. It can be enabled with `nengo.rc.set('progress', 'progress_bar', 'nengo.utils.progress.TerminalProgressBar')`."
      ]
     },
     "metadata": {},
     "output_type": "display_data"
    },
    {
     "data": {
      "application/javascript": [
       "\n",
       "              (function () {\n",
       "                  var root = document.getElementById('7d191a2d-7943-4e3d-aa61-7a6f4497f9c0');\n",
       "                  var text = root.getElementsByClassName('pb-text')[0];\n",
       "                  var fill = root.getElementsByClassName('pb-fill')[0];\n",
       "\n",
       "                  text.innerHTML = 'Simulation finished in 0:01:57.';\n",
       "                  \n",
       "            if (100.0 > 0.) {\n",
       "                fill.style.transition = 'width 0.1s linear';\n",
       "            } else {\n",
       "                fill.style.transition = 'none';\n",
       "            }\n",
       "\n",
       "            fill.style.width = '100.0%';\n",
       "            fill.style.animation = 'none';\n",
       "            fill.style.backgroundImage = 'none'\n",
       "        \n",
       "                  \n",
       "                fill.style.animation = 'none';\n",
       "                fill.style.backgroundImage = 'none';\n",
       "            \n",
       "              })();\n",
       "        "
      ],
      "text/plain": [
       "<IPython.core.display.Javascript object>"
      ]
     },
     "metadata": {},
     "output_type": "display_data"
    },
    {
     "name": "stdout",
     "output_type": "stream",
     "text": [
      "seed = 103\n",
      "backend = 'nengo_ocl'\n",
      "dt = 0.001\n",
      "neuron_type = 'default'\n",
      "n_neurons_scale = 1\n",
      "n_neurons_scale_combined = 0.25\n",
      "s_crosstalk = 0.06333333333333332\n",
      "s_evidence = 10\n",
      "n_samples = 10000\n",
      "t_senso = 0\n",
      "vocab = <nengo_spa.vocabulary.Vocabulary object at 0x7f91e1c90590>\n",
      "xp = <experiments.Xp1 object at 0x7f91cbcec5d0>\n",
      "proc_feedback = 0.9\n",
      "proc_feedback_synapse = 0.005\n",
      "GW_feedback = 1\n",
      "GW_threshold = 0.5\n",
      "GW_scale = 20\n",
      "BG_thr = 0.1\n",
      "BG_bias = 0.5\n",
      "integrator_reset = True\n",
      "data = <data.Data object at 0x7f921d9702d0>\n",
      "\t seed 5/20\n",
      "running run_seed104_crosstalk0.06333333333333332\n"
     ]
    },
    {
     "data": {
      "text/html": [
       "\n",
       "                <div id=\"40304e9a-312c-494d-b746-e59a0f94f9c2\" style=\"\n",
       "                    width: 100%;\n",
       "                    border: 1px solid #cfcfcf;\n",
       "                    border-radius: 4px;\n",
       "                    text-align: center;\n",
       "                    position: relative;\">\n",
       "                  <div class=\"pb-text\" style=\"\n",
       "                      position: absolute;\n",
       "                      width: 100%;\">\n",
       "                    0%\n",
       "                  </div>\n",
       "                  <div class=\"pb-fill\" style=\"\n",
       "                      background-color: #bdd2e6;\n",
       "                      width: 0%;\">\n",
       "                    <style type=\"text/css\" scoped=\"scoped\">\n",
       "                        @keyframes pb-fill-anim {\n",
       "                            0% { background-position: 0 0; }\n",
       "                            100% { background-position: 100px 0; }\n",
       "                        }\n",
       "                    </style>\n",
       "                    &nbsp;\n",
       "                  </div>\n",
       "                </div>"
      ],
      "text/plain": [
       "HtmlProgressBar cannot be displayed. Please use the TerminalProgressBar. It can be enabled with `nengo.rc.set('progress', 'progress_bar', 'nengo.utils.progress.TerminalProgressBar')`."
      ]
     },
     "metadata": {},
     "output_type": "display_data"
    },
    {
     "data": {
      "application/javascript": [
       "\n",
       "              (function () {\n",
       "                  var root = document.getElementById('40304e9a-312c-494d-b746-e59a0f94f9c2');\n",
       "                  var text = root.getElementsByClassName('pb-text')[0];\n",
       "                  var fill = root.getElementsByClassName('pb-fill')[0];\n",
       "\n",
       "                  text.innerHTML = 'Simulation finished in 0:02:01.';\n",
       "                  \n",
       "            if (100.0 > 0.) {\n",
       "                fill.style.transition = 'width 0.1s linear';\n",
       "            } else {\n",
       "                fill.style.transition = 'none';\n",
       "            }\n",
       "\n",
       "            fill.style.width = '100.0%';\n",
       "            fill.style.animation = 'none';\n",
       "            fill.style.backgroundImage = 'none'\n",
       "        \n",
       "                  \n",
       "                fill.style.animation = 'none';\n",
       "                fill.style.backgroundImage = 'none';\n",
       "            \n",
       "              })();\n",
       "        "
      ],
      "text/plain": [
       "<IPython.core.display.Javascript object>"
      ]
     },
     "metadata": {},
     "output_type": "display_data"
    },
    {
     "name": "stdout",
     "output_type": "stream",
     "text": [
      "seed = 104\n",
      "backend = 'nengo_ocl'\n",
      "dt = 0.001\n",
      "neuron_type = 'default'\n",
      "n_neurons_scale = 1\n",
      "n_neurons_scale_combined = 0.25\n",
      "s_crosstalk = 0.06333333333333332\n",
      "s_evidence = 10\n",
      "n_samples = 10000\n",
      "t_senso = 0\n",
      "vocab = <nengo_spa.vocabulary.Vocabulary object at 0x7f91c8fd1d10>\n",
      "xp = <experiments.Xp1 object at 0x7f91c83c39d0>\n",
      "proc_feedback = 0.9\n",
      "proc_feedback_synapse = 0.005\n",
      "GW_feedback = 1\n",
      "GW_threshold = 0.5\n",
      "GW_scale = 20\n",
      "BG_thr = 0.1\n",
      "BG_bias = 0.5\n",
      "integrator_reset = True\n",
      "data = <data.Data object at 0x7f921dabbcd0>\n",
      "\t seed 6/20\n",
      "running run_seed105_crosstalk0.06333333333333332\n"
     ]
    },
    {
     "data": {
      "text/html": [
       "\n",
       "                <div id=\"eab9d806-1c1d-4d40-bc1f-501fc3af03bb\" style=\"\n",
       "                    width: 100%;\n",
       "                    border: 1px solid #cfcfcf;\n",
       "                    border-radius: 4px;\n",
       "                    text-align: center;\n",
       "                    position: relative;\">\n",
       "                  <div class=\"pb-text\" style=\"\n",
       "                      position: absolute;\n",
       "                      width: 100%;\">\n",
       "                    0%\n",
       "                  </div>\n",
       "                  <div class=\"pb-fill\" style=\"\n",
       "                      background-color: #bdd2e6;\n",
       "                      width: 0%;\">\n",
       "                    <style type=\"text/css\" scoped=\"scoped\">\n",
       "                        @keyframes pb-fill-anim {\n",
       "                            0% { background-position: 0 0; }\n",
       "                            100% { background-position: 100px 0; }\n",
       "                        }\n",
       "                    </style>\n",
       "                    &nbsp;\n",
       "                  </div>\n",
       "                </div>"
      ],
      "text/plain": [
       "HtmlProgressBar cannot be displayed. Please use the TerminalProgressBar. It can be enabled with `nengo.rc.set('progress', 'progress_bar', 'nengo.utils.progress.TerminalProgressBar')`."
      ]
     },
     "metadata": {},
     "output_type": "display_data"
    },
    {
     "data": {
      "application/javascript": [
       "\n",
       "              (function () {\n",
       "                  var root = document.getElementById('eab9d806-1c1d-4d40-bc1f-501fc3af03bb');\n",
       "                  var text = root.getElementsByClassName('pb-text')[0];\n",
       "                  var fill = root.getElementsByClassName('pb-fill')[0];\n",
       "\n",
       "                  text.innerHTML = 'Simulation finished in 0:01:58.';\n",
       "                  \n",
       "            if (100.0 > 0.) {\n",
       "                fill.style.transition = 'width 0.1s linear';\n",
       "            } else {\n",
       "                fill.style.transition = 'none';\n",
       "            }\n",
       "\n",
       "            fill.style.width = '100.0%';\n",
       "            fill.style.animation = 'none';\n",
       "            fill.style.backgroundImage = 'none'\n",
       "        \n",
       "                  \n",
       "                fill.style.animation = 'none';\n",
       "                fill.style.backgroundImage = 'none';\n",
       "            \n",
       "              })();\n",
       "        "
      ],
      "text/plain": [
       "<IPython.core.display.Javascript object>"
      ]
     },
     "metadata": {},
     "output_type": "display_data"
    },
    {
     "name": "stdout",
     "output_type": "stream",
     "text": [
      "seed = 105\n",
      "backend = 'nengo_ocl'\n",
      "dt = 0.001\n",
      "neuron_type = 'default'\n",
      "n_neurons_scale = 1\n",
      "n_neurons_scale_combined = 0.25\n",
      "s_crosstalk = 0.06333333333333332\n",
      "s_evidence = 10\n",
      "n_samples = 10000\n",
      "t_senso = 0\n",
      "vocab = <nengo_spa.vocabulary.Vocabulary object at 0x7f91c8f60750>\n",
      "xp = <experiments.Xp1 object at 0x7f91c83eaf10>\n",
      "proc_feedback = 0.9\n",
      "proc_feedback_synapse = 0.005\n",
      "GW_feedback = 1\n",
      "GW_threshold = 0.5\n",
      "GW_scale = 20\n",
      "BG_thr = 0.1\n",
      "BG_bias = 0.5\n",
      "integrator_reset = True\n",
      "data = <data.Data object at 0x7f91c956a8d0>\n",
      "\t seed 7/20\n",
      "running run_seed106_crosstalk0.06333333333333332\n"
     ]
    },
    {
     "data": {
      "text/html": [
       "\n",
       "                <div id=\"291ea1ad-350d-4b88-a5ce-df7df2af2e0e\" style=\"\n",
       "                    width: 100%;\n",
       "                    border: 1px solid #cfcfcf;\n",
       "                    border-radius: 4px;\n",
       "                    text-align: center;\n",
       "                    position: relative;\">\n",
       "                  <div class=\"pb-text\" style=\"\n",
       "                      position: absolute;\n",
       "                      width: 100%;\">\n",
       "                    0%\n",
       "                  </div>\n",
       "                  <div class=\"pb-fill\" style=\"\n",
       "                      background-color: #bdd2e6;\n",
       "                      width: 0%;\">\n",
       "                    <style type=\"text/css\" scoped=\"scoped\">\n",
       "                        @keyframes pb-fill-anim {\n",
       "                            0% { background-position: 0 0; }\n",
       "                            100% { background-position: 100px 0; }\n",
       "                        }\n",
       "                    </style>\n",
       "                    &nbsp;\n",
       "                  </div>\n",
       "                </div>"
      ],
      "text/plain": [
       "HtmlProgressBar cannot be displayed. Please use the TerminalProgressBar. It can be enabled with `nengo.rc.set('progress', 'progress_bar', 'nengo.utils.progress.TerminalProgressBar')`."
      ]
     },
     "metadata": {},
     "output_type": "display_data"
    },
    {
     "data": {
      "application/javascript": [
       "\n",
       "              (function () {\n",
       "                  var root = document.getElementById('291ea1ad-350d-4b88-a5ce-df7df2af2e0e');\n",
       "                  var text = root.getElementsByClassName('pb-text')[0];\n",
       "                  var fill = root.getElementsByClassName('pb-fill')[0];\n",
       "\n",
       "                  text.innerHTML = 'Simulation finished in 0:02:01.';\n",
       "                  \n",
       "            if (100.0 > 0.) {\n",
       "                fill.style.transition = 'width 0.1s linear';\n",
       "            } else {\n",
       "                fill.style.transition = 'none';\n",
       "            }\n",
       "\n",
       "            fill.style.width = '100.0%';\n",
       "            fill.style.animation = 'none';\n",
       "            fill.style.backgroundImage = 'none'\n",
       "        \n",
       "                  \n",
       "                fill.style.animation = 'none';\n",
       "                fill.style.backgroundImage = 'none';\n",
       "            \n",
       "              })();\n",
       "        "
      ],
      "text/plain": [
       "<IPython.core.display.Javascript object>"
      ]
     },
     "metadata": {},
     "output_type": "display_data"
    },
    {
     "name": "stdout",
     "output_type": "stream",
     "text": [
      "seed = 106\n",
      "backend = 'nengo_ocl'\n",
      "dt = 0.001\n",
      "neuron_type = 'default'\n",
      "n_neurons_scale = 1\n",
      "n_neurons_scale_combined = 0.25\n",
      "s_crosstalk = 0.06333333333333332\n",
      "s_evidence = 10\n",
      "n_samples = 10000\n",
      "t_senso = 0\n",
      "vocab = <nengo_spa.vocabulary.Vocabulary object at 0x7f91c95561d0>\n",
      "xp = <experiments.Xp1 object at 0x7f921d03b090>\n",
      "proc_feedback = 0.9\n",
      "proc_feedback_synapse = 0.005\n",
      "GW_feedback = 1\n",
      "GW_threshold = 0.5\n",
      "GW_scale = 20\n",
      "BG_thr = 0.1\n",
      "BG_bias = 0.5\n",
      "integrator_reset = True\n",
      "data = <data.Data object at 0x7f91ac1ab610>\n",
      "\t seed 8/20\n",
      "running run_seed107_crosstalk0.06333333333333332\n"
     ]
    },
    {
     "data": {
      "text/html": [
       "\n",
       "                <div id=\"edb407e3-be3d-423b-a32a-4d72d08c23f0\" style=\"\n",
       "                    width: 100%;\n",
       "                    border: 1px solid #cfcfcf;\n",
       "                    border-radius: 4px;\n",
       "                    text-align: center;\n",
       "                    position: relative;\">\n",
       "                  <div class=\"pb-text\" style=\"\n",
       "                      position: absolute;\n",
       "                      width: 100%;\">\n",
       "                    0%\n",
       "                  </div>\n",
       "                  <div class=\"pb-fill\" style=\"\n",
       "                      background-color: #bdd2e6;\n",
       "                      width: 0%;\">\n",
       "                    <style type=\"text/css\" scoped=\"scoped\">\n",
       "                        @keyframes pb-fill-anim {\n",
       "                            0% { background-position: 0 0; }\n",
       "                            100% { background-position: 100px 0; }\n",
       "                        }\n",
       "                    </style>\n",
       "                    &nbsp;\n",
       "                  </div>\n",
       "                </div>"
      ],
      "text/plain": [
       "HtmlProgressBar cannot be displayed. Please use the TerminalProgressBar. It can be enabled with `nengo.rc.set('progress', 'progress_bar', 'nengo.utils.progress.TerminalProgressBar')`."
      ]
     },
     "metadata": {},
     "output_type": "display_data"
    },
    {
     "data": {
      "application/javascript": [
       "\n",
       "              (function () {\n",
       "                  var root = document.getElementById('edb407e3-be3d-423b-a32a-4d72d08c23f0');\n",
       "                  var text = root.getElementsByClassName('pb-text')[0];\n",
       "                  var fill = root.getElementsByClassName('pb-fill')[0];\n",
       "\n",
       "                  text.innerHTML = 'Simulation finished in 0:01:58.';\n",
       "                  \n",
       "            if (100.0 > 0.) {\n",
       "                fill.style.transition = 'width 0.1s linear';\n",
       "            } else {\n",
       "                fill.style.transition = 'none';\n",
       "            }\n",
       "\n",
       "            fill.style.width = '100.0%';\n",
       "            fill.style.animation = 'none';\n",
       "            fill.style.backgroundImage = 'none'\n",
       "        \n",
       "                  \n",
       "                fill.style.animation = 'none';\n",
       "                fill.style.backgroundImage = 'none';\n",
       "            \n",
       "              })();\n",
       "        "
      ],
      "text/plain": [
       "<IPython.core.display.Javascript object>"
      ]
     },
     "metadata": {},
     "output_type": "display_data"
    },
    {
     "name": "stdout",
     "output_type": "stream",
     "text": [
      "seed = 107\n",
      "backend = 'nengo_ocl'\n",
      "dt = 0.001\n",
      "neuron_type = 'default'\n",
      "n_neurons_scale = 1\n",
      "n_neurons_scale_combined = 0.25\n",
      "s_crosstalk = 0.06333333333333332\n",
      "s_evidence = 10\n",
      "n_samples = 10000\n",
      "t_senso = 0\n",
      "vocab = <nengo_spa.vocabulary.Vocabulary object at 0x7f91c89d2450>\n",
      "xp = <experiments.Xp1 object at 0x7f921cf86a90>\n",
      "proc_feedback = 0.9\n",
      "proc_feedback_synapse = 0.005\n",
      "GW_feedback = 1\n",
      "GW_threshold = 0.5\n",
      "GW_scale = 20\n",
      "BG_thr = 0.1\n",
      "BG_bias = 0.5\n",
      "integrator_reset = True\n",
      "data = <data.Data object at 0x7f91c845fe50>\n",
      "\t seed 9/20\n",
      "running run_seed108_crosstalk0.06333333333333332\n"
     ]
    },
    {
     "data": {
      "text/html": [
       "\n",
       "                <div id=\"4c47cce8-57c4-4c24-927d-9f76c1a86f50\" style=\"\n",
       "                    width: 100%;\n",
       "                    border: 1px solid #cfcfcf;\n",
       "                    border-radius: 4px;\n",
       "                    text-align: center;\n",
       "                    position: relative;\">\n",
       "                  <div class=\"pb-text\" style=\"\n",
       "                      position: absolute;\n",
       "                      width: 100%;\">\n",
       "                    0%\n",
       "                  </div>\n",
       "                  <div class=\"pb-fill\" style=\"\n",
       "                      background-color: #bdd2e6;\n",
       "                      width: 0%;\">\n",
       "                    <style type=\"text/css\" scoped=\"scoped\">\n",
       "                        @keyframes pb-fill-anim {\n",
       "                            0% { background-position: 0 0; }\n",
       "                            100% { background-position: 100px 0; }\n",
       "                        }\n",
       "                    </style>\n",
       "                    &nbsp;\n",
       "                  </div>\n",
       "                </div>"
      ],
      "text/plain": [
       "HtmlProgressBar cannot be displayed. Please use the TerminalProgressBar. It can be enabled with `nengo.rc.set('progress', 'progress_bar', 'nengo.utils.progress.TerminalProgressBar')`."
      ]
     },
     "metadata": {},
     "output_type": "display_data"
    },
    {
     "data": {
      "application/javascript": [
       "\n",
       "              (function () {\n",
       "                  var root = document.getElementById('4c47cce8-57c4-4c24-927d-9f76c1a86f50');\n",
       "                  var text = root.getElementsByClassName('pb-text')[0];\n",
       "                  var fill = root.getElementsByClassName('pb-fill')[0];\n",
       "\n",
       "                  text.innerHTML = 'Simulation finished in 0:02:03.';\n",
       "                  \n",
       "            if (100.0 > 0.) {\n",
       "                fill.style.transition = 'width 0.1s linear';\n",
       "            } else {\n",
       "                fill.style.transition = 'none';\n",
       "            }\n",
       "\n",
       "            fill.style.width = '100.0%';\n",
       "            fill.style.animation = 'none';\n",
       "            fill.style.backgroundImage = 'none'\n",
       "        \n",
       "                  \n",
       "                fill.style.animation = 'none';\n",
       "                fill.style.backgroundImage = 'none';\n",
       "            \n",
       "              })();\n",
       "        "
      ],
      "text/plain": [
       "<IPython.core.display.Javascript object>"
      ]
     },
     "metadata": {},
     "output_type": "display_data"
    },
    {
     "name": "stdout",
     "output_type": "stream",
     "text": [
      "seed = 108\n",
      "backend = 'nengo_ocl'\n",
      "dt = 0.001\n",
      "neuron_type = 'default'\n",
      "n_neurons_scale = 1\n",
      "n_neurons_scale_combined = 0.25\n",
      "s_crosstalk = 0.06333333333333332\n",
      "s_evidence = 10\n",
      "n_samples = 10000\n",
      "t_senso = 0\n",
      "vocab = <nengo_spa.vocabulary.Vocabulary object at 0x7f921d76ae50>\n",
      "xp = <experiments.Xp1 object at 0x7f91c7aecb10>\n",
      "proc_feedback = 0.9\n",
      "proc_feedback_synapse = 0.005\n",
      "GW_feedback = 1\n",
      "GW_threshold = 0.5\n",
      "GW_scale = 20\n",
      "BG_thr = 0.1\n",
      "BG_bias = 0.5\n",
      "integrator_reset = True\n",
      "data = <data.Data object at 0x7f921c48d310>\n",
      "\t seed 10/20\n",
      "running run_seed109_crosstalk0.06333333333333332\n"
     ]
    },
    {
     "data": {
      "text/html": [
       "\n",
       "                <div id=\"f9d0e8f5-2942-49ec-a07c-c13f4342bcec\" style=\"\n",
       "                    width: 100%;\n",
       "                    border: 1px solid #cfcfcf;\n",
       "                    border-radius: 4px;\n",
       "                    text-align: center;\n",
       "                    position: relative;\">\n",
       "                  <div class=\"pb-text\" style=\"\n",
       "                      position: absolute;\n",
       "                      width: 100%;\">\n",
       "                    0%\n",
       "                  </div>\n",
       "                  <div class=\"pb-fill\" style=\"\n",
       "                      background-color: #bdd2e6;\n",
       "                      width: 0%;\">\n",
       "                    <style type=\"text/css\" scoped=\"scoped\">\n",
       "                        @keyframes pb-fill-anim {\n",
       "                            0% { background-position: 0 0; }\n",
       "                            100% { background-position: 100px 0; }\n",
       "                        }\n",
       "                    </style>\n",
       "                    &nbsp;\n",
       "                  </div>\n",
       "                </div>"
      ],
      "text/plain": [
       "HtmlProgressBar cannot be displayed. Please use the TerminalProgressBar. It can be enabled with `nengo.rc.set('progress', 'progress_bar', 'nengo.utils.progress.TerminalProgressBar')`."
      ]
     },
     "metadata": {},
     "output_type": "display_data"
    },
    {
     "data": {
      "application/javascript": [
       "\n",
       "              (function () {\n",
       "                  var root = document.getElementById('f9d0e8f5-2942-49ec-a07c-c13f4342bcec');\n",
       "                  var text = root.getElementsByClassName('pb-text')[0];\n",
       "                  var fill = root.getElementsByClassName('pb-fill')[0];\n",
       "\n",
       "                  text.innerHTML = 'Simulation finished in 0:01:57.';\n",
       "                  \n",
       "            if (100.0 > 0.) {\n",
       "                fill.style.transition = 'width 0.1s linear';\n",
       "            } else {\n",
       "                fill.style.transition = 'none';\n",
       "            }\n",
       "\n",
       "            fill.style.width = '100.0%';\n",
       "            fill.style.animation = 'none';\n",
       "            fill.style.backgroundImage = 'none'\n",
       "        \n",
       "                  \n",
       "                fill.style.animation = 'none';\n",
       "                fill.style.backgroundImage = 'none';\n",
       "            \n",
       "              })();\n",
       "        "
      ],
      "text/plain": [
       "<IPython.core.display.Javascript object>"
      ]
     },
     "metadata": {},
     "output_type": "display_data"
    },
    {
     "name": "stdout",
     "output_type": "stream",
     "text": [
      "seed = 109\n",
      "backend = 'nengo_ocl'\n",
      "dt = 0.001\n",
      "neuron_type = 'default'\n",
      "n_neurons_scale = 1\n",
      "n_neurons_scale_combined = 0.25\n",
      "s_crosstalk = 0.06333333333333332\n",
      "s_evidence = 10\n",
      "n_samples = 10000\n",
      "t_senso = 0\n",
      "vocab = <nengo_spa.vocabulary.Vocabulary object at 0x7f91c9c6d610>\n",
      "xp = <experiments.Xp1 object at 0x7f921d2620d0>\n",
      "proc_feedback = 0.9\n",
      "proc_feedback_synapse = 0.005\n",
      "GW_feedback = 1\n",
      "GW_threshold = 0.5\n",
      "GW_scale = 20\n",
      "BG_thr = 0.1\n",
      "BG_bias = 0.5\n",
      "integrator_reset = True\n",
      "data = <data.Data object at 0x7f9200392e90>\n",
      "\t seed 11/20\n",
      "running run_seed110_crosstalk0.06333333333333332\n"
     ]
    },
    {
     "data": {
      "text/html": [
       "\n",
       "                <div id=\"7adfb9f5-ebe7-413c-bf48-77002dafc358\" style=\"\n",
       "                    width: 100%;\n",
       "                    border: 1px solid #cfcfcf;\n",
       "                    border-radius: 4px;\n",
       "                    text-align: center;\n",
       "                    position: relative;\">\n",
       "                  <div class=\"pb-text\" style=\"\n",
       "                      position: absolute;\n",
       "                      width: 100%;\">\n",
       "                    0%\n",
       "                  </div>\n",
       "                  <div class=\"pb-fill\" style=\"\n",
       "                      background-color: #bdd2e6;\n",
       "                      width: 0%;\">\n",
       "                    <style type=\"text/css\" scoped=\"scoped\">\n",
       "                        @keyframes pb-fill-anim {\n",
       "                            0% { background-position: 0 0; }\n",
       "                            100% { background-position: 100px 0; }\n",
       "                        }\n",
       "                    </style>\n",
       "                    &nbsp;\n",
       "                  </div>\n",
       "                </div>"
      ],
      "text/plain": [
       "HtmlProgressBar cannot be displayed. Please use the TerminalProgressBar. It can be enabled with `nengo.rc.set('progress', 'progress_bar', 'nengo.utils.progress.TerminalProgressBar')`."
      ]
     },
     "metadata": {},
     "output_type": "display_data"
    },
    {
     "data": {
      "application/javascript": [
       "\n",
       "              (function () {\n",
       "                  var root = document.getElementById('7adfb9f5-ebe7-413c-bf48-77002dafc358');\n",
       "                  var text = root.getElementsByClassName('pb-text')[0];\n",
       "                  var fill = root.getElementsByClassName('pb-fill')[0];\n",
       "\n",
       "                  text.innerHTML = 'Simulation finished in 0:02:06.';\n",
       "                  \n",
       "            if (100.0 > 0.) {\n",
       "                fill.style.transition = 'width 0.1s linear';\n",
       "            } else {\n",
       "                fill.style.transition = 'none';\n",
       "            }\n",
       "\n",
       "            fill.style.width = '100.0%';\n",
       "            fill.style.animation = 'none';\n",
       "            fill.style.backgroundImage = 'none'\n",
       "        \n",
       "                  \n",
       "                fill.style.animation = 'none';\n",
       "                fill.style.backgroundImage = 'none';\n",
       "            \n",
       "              })();\n",
       "        "
      ],
      "text/plain": [
       "<IPython.core.display.Javascript object>"
      ]
     },
     "metadata": {},
     "output_type": "display_data"
    },
    {
     "name": "stdout",
     "output_type": "stream",
     "text": [
      "seed = 110\n",
      "backend = 'nengo_ocl'\n",
      "dt = 0.001\n",
      "neuron_type = 'default'\n",
      "n_neurons_scale = 1\n",
      "n_neurons_scale_combined = 0.25\n",
      "s_crosstalk = 0.06333333333333332\n",
      "s_evidence = 10\n",
      "n_samples = 10000\n",
      "t_senso = 0\n",
      "vocab = <nengo_spa.vocabulary.Vocabulary object at 0x7f921e4661d0>\n",
      "xp = <experiments.Xp1 object at 0x7f91c845fe50>\n",
      "proc_feedback = 0.9\n",
      "proc_feedback_synapse = 0.005\n",
      "GW_feedback = 1\n",
      "GW_threshold = 0.5\n",
      "GW_scale = 20\n",
      "BG_thr = 0.1\n",
      "BG_bias = 0.5\n",
      "integrator_reset = True\n",
      "data = <data.Data object at 0x7f921d415c10>\n",
      "\t seed 12/20\n",
      "running run_seed111_crosstalk0.06333333333333332\n"
     ]
    },
    {
     "data": {
      "text/html": [
       "\n",
       "                <div id=\"8e7c822d-833b-422f-89de-584f4bd1eda4\" style=\"\n",
       "                    width: 100%;\n",
       "                    border: 1px solid #cfcfcf;\n",
       "                    border-radius: 4px;\n",
       "                    text-align: center;\n",
       "                    position: relative;\">\n",
       "                  <div class=\"pb-text\" style=\"\n",
       "                      position: absolute;\n",
       "                      width: 100%;\">\n",
       "                    0%\n",
       "                  </div>\n",
       "                  <div class=\"pb-fill\" style=\"\n",
       "                      background-color: #bdd2e6;\n",
       "                      width: 0%;\">\n",
       "                    <style type=\"text/css\" scoped=\"scoped\">\n",
       "                        @keyframes pb-fill-anim {\n",
       "                            0% { background-position: 0 0; }\n",
       "                            100% { background-position: 100px 0; }\n",
       "                        }\n",
       "                    </style>\n",
       "                    &nbsp;\n",
       "                  </div>\n",
       "                </div>"
      ],
      "text/plain": [
       "HtmlProgressBar cannot be displayed. Please use the TerminalProgressBar. It can be enabled with `nengo.rc.set('progress', 'progress_bar', 'nengo.utils.progress.TerminalProgressBar')`."
      ]
     },
     "metadata": {},
     "output_type": "display_data"
    },
    {
     "data": {
      "application/javascript": [
       "\n",
       "              (function () {\n",
       "                  var root = document.getElementById('8e7c822d-833b-422f-89de-584f4bd1eda4');\n",
       "                  var text = root.getElementsByClassName('pb-text')[0];\n",
       "                  var fill = root.getElementsByClassName('pb-fill')[0];\n",
       "\n",
       "                  text.innerHTML = 'Simulation finished in 0:01:58.';\n",
       "                  \n",
       "            if (100.0 > 0.) {\n",
       "                fill.style.transition = 'width 0.1s linear';\n",
       "            } else {\n",
       "                fill.style.transition = 'none';\n",
       "            }\n",
       "\n",
       "            fill.style.width = '100.0%';\n",
       "            fill.style.animation = 'none';\n",
       "            fill.style.backgroundImage = 'none'\n",
       "        \n",
       "                  \n",
       "                fill.style.animation = 'none';\n",
       "                fill.style.backgroundImage = 'none';\n",
       "            \n",
       "              })();\n",
       "        "
      ],
      "text/plain": [
       "<IPython.core.display.Javascript object>"
      ]
     },
     "metadata": {},
     "output_type": "display_data"
    },
    {
     "name": "stdout",
     "output_type": "stream",
     "text": [
      "seed = 111\n",
      "backend = 'nengo_ocl'\n",
      "dt = 0.001\n",
      "neuron_type = 'default'\n",
      "n_neurons_scale = 1\n",
      "n_neurons_scale_combined = 0.25\n",
      "s_crosstalk = 0.06333333333333332\n",
      "s_evidence = 10\n",
      "n_samples = 10000\n",
      "t_senso = 0\n",
      "vocab = <nengo_spa.vocabulary.Vocabulary object at 0x7f9221f8ccd0>\n",
      "xp = <experiments.Xp1 object at 0x7f921de58bd0>\n",
      "proc_feedback = 0.9\n",
      "proc_feedback_synapse = 0.005\n",
      "GW_feedback = 1\n",
      "GW_threshold = 0.5\n",
      "GW_scale = 20\n",
      "BG_thr = 0.1\n",
      "BG_bias = 0.5\n",
      "integrator_reset = True\n",
      "data = <data.Data object at 0x7f92015cb650>\n",
      "\t seed 13/20\n",
      "running run_seed112_crosstalk0.06333333333333332\n"
     ]
    },
    {
     "data": {
      "text/html": [
       "\n",
       "                <div id=\"5f712519-b8b1-4218-acd0-19709207cee9\" style=\"\n",
       "                    width: 100%;\n",
       "                    border: 1px solid #cfcfcf;\n",
       "                    border-radius: 4px;\n",
       "                    text-align: center;\n",
       "                    position: relative;\">\n",
       "                  <div class=\"pb-text\" style=\"\n",
       "                      position: absolute;\n",
       "                      width: 100%;\">\n",
       "                    0%\n",
       "                  </div>\n",
       "                  <div class=\"pb-fill\" style=\"\n",
       "                      background-color: #bdd2e6;\n",
       "                      width: 0%;\">\n",
       "                    <style type=\"text/css\" scoped=\"scoped\">\n",
       "                        @keyframes pb-fill-anim {\n",
       "                            0% { background-position: 0 0; }\n",
       "                            100% { background-position: 100px 0; }\n",
       "                        }\n",
       "                    </style>\n",
       "                    &nbsp;\n",
       "                  </div>\n",
       "                </div>"
      ],
      "text/plain": [
       "HtmlProgressBar cannot be displayed. Please use the TerminalProgressBar. It can be enabled with `nengo.rc.set('progress', 'progress_bar', 'nengo.utils.progress.TerminalProgressBar')`."
      ]
     },
     "metadata": {},
     "output_type": "display_data"
    },
    {
     "data": {
      "application/javascript": [
       "\n",
       "              (function () {\n",
       "                  var root = document.getElementById('5f712519-b8b1-4218-acd0-19709207cee9');\n",
       "                  var text = root.getElementsByClassName('pb-text')[0];\n",
       "                  var fill = root.getElementsByClassName('pb-fill')[0];\n",
       "\n",
       "                  text.innerHTML = 'Simulation finished in 0:01:54.';\n",
       "                  \n",
       "            if (100.0 > 0.) {\n",
       "                fill.style.transition = 'width 0.1s linear';\n",
       "            } else {\n",
       "                fill.style.transition = 'none';\n",
       "            }\n",
       "\n",
       "            fill.style.width = '100.0%';\n",
       "            fill.style.animation = 'none';\n",
       "            fill.style.backgroundImage = 'none'\n",
       "        \n",
       "                  \n",
       "                fill.style.animation = 'none';\n",
       "                fill.style.backgroundImage = 'none';\n",
       "            \n",
       "              })();\n",
       "        "
      ],
      "text/plain": [
       "<IPython.core.display.Javascript object>"
      ]
     },
     "metadata": {},
     "output_type": "display_data"
    },
    {
     "name": "stdout",
     "output_type": "stream",
     "text": [
      "seed = 112\n",
      "backend = 'nengo_ocl'\n",
      "dt = 0.001\n",
      "neuron_type = 'default'\n",
      "n_neurons_scale = 1\n",
      "n_neurons_scale_combined = 0.25\n",
      "s_crosstalk = 0.06333333333333332\n",
      "s_evidence = 10\n",
      "n_samples = 10000\n",
      "t_senso = 0\n",
      "vocab = <nengo_spa.vocabulary.Vocabulary object at 0x7f91da982450>\n",
      "xp = <experiments.Xp1 object at 0x7f921c1edd90>\n",
      "proc_feedback = 0.9\n",
      "proc_feedback_synapse = 0.005\n",
      "GW_feedback = 1\n",
      "GW_threshold = 0.5\n",
      "GW_scale = 20\n",
      "BG_thr = 0.1\n",
      "BG_bias = 0.5\n",
      "integrator_reset = True\n",
      "data = <data.Data object at 0x7f921d06ea10>\n",
      "\t seed 14/20\n",
      "running run_seed113_crosstalk0.06333333333333332\n"
     ]
    },
    {
     "data": {
      "text/html": [
       "\n",
       "                <div id=\"5f97cedc-a9c7-446b-974b-d62652877d22\" style=\"\n",
       "                    width: 100%;\n",
       "                    border: 1px solid #cfcfcf;\n",
       "                    border-radius: 4px;\n",
       "                    text-align: center;\n",
       "                    position: relative;\">\n",
       "                  <div class=\"pb-text\" style=\"\n",
       "                      position: absolute;\n",
       "                      width: 100%;\">\n",
       "                    0%\n",
       "                  </div>\n",
       "                  <div class=\"pb-fill\" style=\"\n",
       "                      background-color: #bdd2e6;\n",
       "                      width: 0%;\">\n",
       "                    <style type=\"text/css\" scoped=\"scoped\">\n",
       "                        @keyframes pb-fill-anim {\n",
       "                            0% { background-position: 0 0; }\n",
       "                            100% { background-position: 100px 0; }\n",
       "                        }\n",
       "                    </style>\n",
       "                    &nbsp;\n",
       "                  </div>\n",
       "                </div>"
      ],
      "text/plain": [
       "HtmlProgressBar cannot be displayed. Please use the TerminalProgressBar. It can be enabled with `nengo.rc.set('progress', 'progress_bar', 'nengo.utils.progress.TerminalProgressBar')`."
      ]
     },
     "metadata": {},
     "output_type": "display_data"
    },
    {
     "data": {
      "application/javascript": [
       "\n",
       "              (function () {\n",
       "                  var root = document.getElementById('5f97cedc-a9c7-446b-974b-d62652877d22');\n",
       "                  var text = root.getElementsByClassName('pb-text')[0];\n",
       "                  var fill = root.getElementsByClassName('pb-fill')[0];\n",
       "\n",
       "                  text.innerHTML = 'Simulation finished in 0:01:57.';\n",
       "                  \n",
       "            if (100.0 > 0.) {\n",
       "                fill.style.transition = 'width 0.1s linear';\n",
       "            } else {\n",
       "                fill.style.transition = 'none';\n",
       "            }\n",
       "\n",
       "            fill.style.width = '100.0%';\n",
       "            fill.style.animation = 'none';\n",
       "            fill.style.backgroundImage = 'none'\n",
       "        \n",
       "                  \n",
       "                fill.style.animation = 'none';\n",
       "                fill.style.backgroundImage = 'none';\n",
       "            \n",
       "              })();\n",
       "        "
      ],
      "text/plain": [
       "<IPython.core.display.Javascript object>"
      ]
     },
     "metadata": {},
     "output_type": "display_data"
    },
    {
     "name": "stdout",
     "output_type": "stream",
     "text": [
      "seed = 113\n",
      "backend = 'nengo_ocl'\n",
      "dt = 0.001\n",
      "neuron_type = 'default'\n",
      "n_neurons_scale = 1\n",
      "n_neurons_scale_combined = 0.25\n",
      "s_crosstalk = 0.06333333333333332\n",
      "s_evidence = 10\n",
      "n_samples = 10000\n",
      "t_senso = 0\n",
      "vocab = <nengo_spa.vocabulary.Vocabulary object at 0x7f91caf0ff10>\n",
      "xp = <experiments.Xp1 object at 0x7f9221f83f50>\n",
      "proc_feedback = 0.9\n",
      "proc_feedback_synapse = 0.005\n",
      "GW_feedback = 1\n",
      "GW_threshold = 0.5\n",
      "GW_scale = 20\n",
      "BG_thr = 0.1\n",
      "BG_bias = 0.5\n",
      "integrator_reset = True\n",
      "data = <data.Data object at 0x7f92011b7b10>\n",
      "\t seed 15/20\n",
      "running run_seed114_crosstalk0.06333333333333332\n"
     ]
    },
    {
     "data": {
      "text/html": [
       "\n",
       "                <div id=\"5a9a95c4-a622-4bd8-8c96-65a8b2dc52f8\" style=\"\n",
       "                    width: 100%;\n",
       "                    border: 1px solid #cfcfcf;\n",
       "                    border-radius: 4px;\n",
       "                    text-align: center;\n",
       "                    position: relative;\">\n",
       "                  <div class=\"pb-text\" style=\"\n",
       "                      position: absolute;\n",
       "                      width: 100%;\">\n",
       "                    0%\n",
       "                  </div>\n",
       "                  <div class=\"pb-fill\" style=\"\n",
       "                      background-color: #bdd2e6;\n",
       "                      width: 0%;\">\n",
       "                    <style type=\"text/css\" scoped=\"scoped\">\n",
       "                        @keyframes pb-fill-anim {\n",
       "                            0% { background-position: 0 0; }\n",
       "                            100% { background-position: 100px 0; }\n",
       "                        }\n",
       "                    </style>\n",
       "                    &nbsp;\n",
       "                  </div>\n",
       "                </div>"
      ],
      "text/plain": [
       "HtmlProgressBar cannot be displayed. Please use the TerminalProgressBar. It can be enabled with `nengo.rc.set('progress', 'progress_bar', 'nengo.utils.progress.TerminalProgressBar')`."
      ]
     },
     "metadata": {},
     "output_type": "display_data"
    },
    {
     "data": {
      "application/javascript": [
       "\n",
       "              (function () {\n",
       "                  var root = document.getElementById('5a9a95c4-a622-4bd8-8c96-65a8b2dc52f8');\n",
       "                  var text = root.getElementsByClassName('pb-text')[0];\n",
       "                  var fill = root.getElementsByClassName('pb-fill')[0];\n",
       "\n",
       "                  text.innerHTML = 'Simulation finished in 0:01:58.';\n",
       "                  \n",
       "            if (100.0 > 0.) {\n",
       "                fill.style.transition = 'width 0.1s linear';\n",
       "            } else {\n",
       "                fill.style.transition = 'none';\n",
       "            }\n",
       "\n",
       "            fill.style.width = '100.0%';\n",
       "            fill.style.animation = 'none';\n",
       "            fill.style.backgroundImage = 'none'\n",
       "        \n",
       "                  \n",
       "                fill.style.animation = 'none';\n",
       "                fill.style.backgroundImage = 'none';\n",
       "            \n",
       "              })();\n",
       "        "
      ],
      "text/plain": [
       "<IPython.core.display.Javascript object>"
      ]
     },
     "metadata": {},
     "output_type": "display_data"
    },
    {
     "name": "stdout",
     "output_type": "stream",
     "text": [
      "seed = 114\n",
      "backend = 'nengo_ocl'\n",
      "dt = 0.001\n",
      "neuron_type = 'default'\n",
      "n_neurons_scale = 1\n",
      "n_neurons_scale_combined = 0.25\n",
      "s_crosstalk = 0.06333333333333332\n",
      "s_evidence = 10\n",
      "n_samples = 10000\n",
      "t_senso = 0\n",
      "vocab = <nengo_spa.vocabulary.Vocabulary object at 0x7f921cc83a90>\n",
      "xp = <experiments.Xp1 object at 0x7f921db38f50>\n",
      "proc_feedback = 0.9\n",
      "proc_feedback_synapse = 0.005\n",
      "GW_feedback = 1\n",
      "GW_threshold = 0.5\n",
      "GW_scale = 20\n",
      "BG_thr = 0.1\n",
      "BG_bias = 0.5\n",
      "integrator_reset = True\n",
      "data = <data.Data object at 0x7f91cb86cc10>\n",
      "\t seed 16/20\n",
      "running run_seed115_crosstalk0.06333333333333332\n"
     ]
    },
    {
     "data": {
      "text/html": [
       "\n",
       "                <div id=\"c8b9d16c-c9d6-4d37-9088-12caea25595b\" style=\"\n",
       "                    width: 100%;\n",
       "                    border: 1px solid #cfcfcf;\n",
       "                    border-radius: 4px;\n",
       "                    text-align: center;\n",
       "                    position: relative;\">\n",
       "                  <div class=\"pb-text\" style=\"\n",
       "                      position: absolute;\n",
       "                      width: 100%;\">\n",
       "                    0%\n",
       "                  </div>\n",
       "                  <div class=\"pb-fill\" style=\"\n",
       "                      background-color: #bdd2e6;\n",
       "                      width: 0%;\">\n",
       "                    <style type=\"text/css\" scoped=\"scoped\">\n",
       "                        @keyframes pb-fill-anim {\n",
       "                            0% { background-position: 0 0; }\n",
       "                            100% { background-position: 100px 0; }\n",
       "                        }\n",
       "                    </style>\n",
       "                    &nbsp;\n",
       "                  </div>\n",
       "                </div>"
      ],
      "text/plain": [
       "HtmlProgressBar cannot be displayed. Please use the TerminalProgressBar. It can be enabled with `nengo.rc.set('progress', 'progress_bar', 'nengo.utils.progress.TerminalProgressBar')`."
      ]
     },
     "metadata": {},
     "output_type": "display_data"
    },
    {
     "data": {
      "application/javascript": [
       "\n",
       "              (function () {\n",
       "                  var root = document.getElementById('c8b9d16c-c9d6-4d37-9088-12caea25595b');\n",
       "                  var text = root.getElementsByClassName('pb-text')[0];\n",
       "                  var fill = root.getElementsByClassName('pb-fill')[0];\n",
       "\n",
       "                  text.innerHTML = 'Simulation finished in 0:02:00.';\n",
       "                  \n",
       "            if (100.0 > 0.) {\n",
       "                fill.style.transition = 'width 0.1s linear';\n",
       "            } else {\n",
       "                fill.style.transition = 'none';\n",
       "            }\n",
       "\n",
       "            fill.style.width = '100.0%';\n",
       "            fill.style.animation = 'none';\n",
       "            fill.style.backgroundImage = 'none'\n",
       "        \n",
       "                  \n",
       "                fill.style.animation = 'none';\n",
       "                fill.style.backgroundImage = 'none';\n",
       "            \n",
       "              })();\n",
       "        "
      ],
      "text/plain": [
       "<IPython.core.display.Javascript object>"
      ]
     },
     "metadata": {},
     "output_type": "display_data"
    },
    {
     "name": "stdout",
     "output_type": "stream",
     "text": [
      "seed = 115\n",
      "backend = 'nengo_ocl'\n",
      "dt = 0.001\n",
      "neuron_type = 'default'\n",
      "n_neurons_scale = 1\n",
      "n_neurons_scale_combined = 0.25\n",
      "s_crosstalk = 0.06333333333333332\n",
      "s_evidence = 10\n",
      "n_samples = 10000\n",
      "t_senso = 0\n",
      "vocab = <nengo_spa.vocabulary.Vocabulary object at 0x7f921cc83050>\n",
      "xp = <experiments.Xp1 object at 0x7f91c9895f90>\n",
      "proc_feedback = 0.9\n",
      "proc_feedback_synapse = 0.005\n",
      "GW_feedback = 1\n",
      "GW_threshold = 0.5\n",
      "GW_scale = 20\n",
      "BG_thr = 0.1\n",
      "BG_bias = 0.5\n",
      "integrator_reset = True\n",
      "data = <data.Data object at 0x7f91c9895dd0>\n",
      "\t seed 17/20\n",
      "running run_seed116_crosstalk0.06333333333333332\n"
     ]
    },
    {
     "data": {
      "text/html": [
       "\n",
       "                <div id=\"3e06b603-114e-4a60-8722-7216f9f0840f\" style=\"\n",
       "                    width: 100%;\n",
       "                    border: 1px solid #cfcfcf;\n",
       "                    border-radius: 4px;\n",
       "                    text-align: center;\n",
       "                    position: relative;\">\n",
       "                  <div class=\"pb-text\" style=\"\n",
       "                      position: absolute;\n",
       "                      width: 100%;\">\n",
       "                    0%\n",
       "                  </div>\n",
       "                  <div class=\"pb-fill\" style=\"\n",
       "                      background-color: #bdd2e6;\n",
       "                      width: 0%;\">\n",
       "                    <style type=\"text/css\" scoped=\"scoped\">\n",
       "                        @keyframes pb-fill-anim {\n",
       "                            0% { background-position: 0 0; }\n",
       "                            100% { background-position: 100px 0; }\n",
       "                        }\n",
       "                    </style>\n",
       "                    &nbsp;\n",
       "                  </div>\n",
       "                </div>"
      ],
      "text/plain": [
       "HtmlProgressBar cannot be displayed. Please use the TerminalProgressBar. It can be enabled with `nengo.rc.set('progress', 'progress_bar', 'nengo.utils.progress.TerminalProgressBar')`."
      ]
     },
     "metadata": {},
     "output_type": "display_data"
    },
    {
     "data": {
      "application/javascript": [
       "\n",
       "              (function () {\n",
       "                  var root = document.getElementById('3e06b603-114e-4a60-8722-7216f9f0840f');\n",
       "                  var text = root.getElementsByClassName('pb-text')[0];\n",
       "                  var fill = root.getElementsByClassName('pb-fill')[0];\n",
       "\n",
       "                  text.innerHTML = 'Simulation finished in 0:02:00.';\n",
       "                  \n",
       "            if (100.0 > 0.) {\n",
       "                fill.style.transition = 'width 0.1s linear';\n",
       "            } else {\n",
       "                fill.style.transition = 'none';\n",
       "            }\n",
       "\n",
       "            fill.style.width = '100.0%';\n",
       "            fill.style.animation = 'none';\n",
       "            fill.style.backgroundImage = 'none'\n",
       "        \n",
       "                  \n",
       "                fill.style.animation = 'none';\n",
       "                fill.style.backgroundImage = 'none';\n",
       "            \n",
       "              })();\n",
       "        "
      ],
      "text/plain": [
       "<IPython.core.display.Javascript object>"
      ]
     },
     "metadata": {},
     "output_type": "display_data"
    },
    {
     "name": "stdout",
     "output_type": "stream",
     "text": [
      "seed = 116\n",
      "backend = 'nengo_ocl'\n",
      "dt = 0.001\n",
      "neuron_type = 'default'\n",
      "n_neurons_scale = 1\n",
      "n_neurons_scale_combined = 0.25\n",
      "s_crosstalk = 0.06333333333333332\n",
      "s_evidence = 10\n",
      "n_samples = 10000\n",
      "t_senso = 0\n",
      "vocab = <nengo_spa.vocabulary.Vocabulary object at 0x7f91d814be50>\n",
      "xp = <experiments.Xp1 object at 0x7f921b253250>\n",
      "proc_feedback = 0.9\n",
      "proc_feedback_synapse = 0.005\n",
      "GW_feedback = 1\n",
      "GW_threshold = 0.5\n",
      "GW_scale = 20\n",
      "BG_thr = 0.1\n",
      "BG_bias = 0.5\n",
      "integrator_reset = True\n",
      "data = <data.Data object at 0x7f921dd0b390>\n",
      "\t seed 18/20\n",
      "running run_seed117_crosstalk0.06333333333333332\n"
     ]
    },
    {
     "data": {
      "text/html": [
       "\n",
       "                <div id=\"69c93b81-4f95-4be5-8af8-283dda3cb1ef\" style=\"\n",
       "                    width: 100%;\n",
       "                    border: 1px solid #cfcfcf;\n",
       "                    border-radius: 4px;\n",
       "                    text-align: center;\n",
       "                    position: relative;\">\n",
       "                  <div class=\"pb-text\" style=\"\n",
       "                      position: absolute;\n",
       "                      width: 100%;\">\n",
       "                    0%\n",
       "                  </div>\n",
       "                  <div class=\"pb-fill\" style=\"\n",
       "                      background-color: #bdd2e6;\n",
       "                      width: 0%;\">\n",
       "                    <style type=\"text/css\" scoped=\"scoped\">\n",
       "                        @keyframes pb-fill-anim {\n",
       "                            0% { background-position: 0 0; }\n",
       "                            100% { background-position: 100px 0; }\n",
       "                        }\n",
       "                    </style>\n",
       "                    &nbsp;\n",
       "                  </div>\n",
       "                </div>"
      ],
      "text/plain": [
       "HtmlProgressBar cannot be displayed. Please use the TerminalProgressBar. It can be enabled with `nengo.rc.set('progress', 'progress_bar', 'nengo.utils.progress.TerminalProgressBar')`."
      ]
     },
     "metadata": {},
     "output_type": "display_data"
    },
    {
     "data": {
      "application/javascript": [
       "\n",
       "              (function () {\n",
       "                  var root = document.getElementById('69c93b81-4f95-4be5-8af8-283dda3cb1ef');\n",
       "                  var text = root.getElementsByClassName('pb-text')[0];\n",
       "                  var fill = root.getElementsByClassName('pb-fill')[0];\n",
       "\n",
       "                  text.innerHTML = 'Simulation finished in 0:02:00.';\n",
       "                  \n",
       "            if (100.0 > 0.) {\n",
       "                fill.style.transition = 'width 0.1s linear';\n",
       "            } else {\n",
       "                fill.style.transition = 'none';\n",
       "            }\n",
       "\n",
       "            fill.style.width = '100.0%';\n",
       "            fill.style.animation = 'none';\n",
       "            fill.style.backgroundImage = 'none'\n",
       "        \n",
       "                  \n",
       "                fill.style.animation = 'none';\n",
       "                fill.style.backgroundImage = 'none';\n",
       "            \n",
       "              })();\n",
       "        "
      ],
      "text/plain": [
       "<IPython.core.display.Javascript object>"
      ]
     },
     "metadata": {},
     "output_type": "display_data"
    },
    {
     "name": "stdout",
     "output_type": "stream",
     "text": [
      "seed = 117\n",
      "backend = 'nengo_ocl'\n",
      "dt = 0.001\n",
      "neuron_type = 'default'\n",
      "n_neurons_scale = 1\n",
      "n_neurons_scale_combined = 0.25\n",
      "s_crosstalk = 0.06333333333333332\n",
      "s_evidence = 10\n",
      "n_samples = 10000\n",
      "t_senso = 0\n",
      "vocab = <nengo_spa.vocabulary.Vocabulary object at 0x7f91c7e97150>\n",
      "xp = <experiments.Xp1 object at 0x7f91c7e97090>\n",
      "proc_feedback = 0.9\n",
      "proc_feedback_synapse = 0.005\n",
      "GW_feedback = 1\n",
      "GW_threshold = 0.5\n",
      "GW_scale = 20\n",
      "BG_thr = 0.1\n",
      "BG_bias = 0.5\n",
      "integrator_reset = True\n",
      "data = <data.Data object at 0x7f921e4074d0>\n",
      "\t seed 19/20\n",
      "running run_seed118_crosstalk0.06333333333333332\n"
     ]
    },
    {
     "data": {
      "text/html": [
       "\n",
       "                <div id=\"c9e52f11-05d0-462f-8d56-f939ae74af2b\" style=\"\n",
       "                    width: 100%;\n",
       "                    border: 1px solid #cfcfcf;\n",
       "                    border-radius: 4px;\n",
       "                    text-align: center;\n",
       "                    position: relative;\">\n",
       "                  <div class=\"pb-text\" style=\"\n",
       "                      position: absolute;\n",
       "                      width: 100%;\">\n",
       "                    0%\n",
       "                  </div>\n",
       "                  <div class=\"pb-fill\" style=\"\n",
       "                      background-color: #bdd2e6;\n",
       "                      width: 0%;\">\n",
       "                    <style type=\"text/css\" scoped=\"scoped\">\n",
       "                        @keyframes pb-fill-anim {\n",
       "                            0% { background-position: 0 0; }\n",
       "                            100% { background-position: 100px 0; }\n",
       "                        }\n",
       "                    </style>\n",
       "                    &nbsp;\n",
       "                  </div>\n",
       "                </div>"
      ],
      "text/plain": [
       "HtmlProgressBar cannot be displayed. Please use the TerminalProgressBar. It can be enabled with `nengo.rc.set('progress', 'progress_bar', 'nengo.utils.progress.TerminalProgressBar')`."
      ]
     },
     "metadata": {},
     "output_type": "display_data"
    },
    {
     "data": {
      "application/javascript": [
       "\n",
       "              (function () {\n",
       "                  var root = document.getElementById('c9e52f11-05d0-462f-8d56-f939ae74af2b');\n",
       "                  var text = root.getElementsByClassName('pb-text')[0];\n",
       "                  var fill = root.getElementsByClassName('pb-fill')[0];\n",
       "\n",
       "                  text.innerHTML = 'Simulation finished in 0:01:57.';\n",
       "                  \n",
       "            if (100.0 > 0.) {\n",
       "                fill.style.transition = 'width 0.1s linear';\n",
       "            } else {\n",
       "                fill.style.transition = 'none';\n",
       "            }\n",
       "\n",
       "            fill.style.width = '100.0%';\n",
       "            fill.style.animation = 'none';\n",
       "            fill.style.backgroundImage = 'none'\n",
       "        \n",
       "                  \n",
       "                fill.style.animation = 'none';\n",
       "                fill.style.backgroundImage = 'none';\n",
       "            \n",
       "              })();\n",
       "        "
      ],
      "text/plain": [
       "<IPython.core.display.Javascript object>"
      ]
     },
     "metadata": {},
     "output_type": "display_data"
    },
    {
     "name": "stdout",
     "output_type": "stream",
     "text": [
      "seed = 118\n",
      "backend = 'nengo_ocl'\n",
      "dt = 0.001\n",
      "neuron_type = 'default'\n",
      "n_neurons_scale = 1\n",
      "n_neurons_scale_combined = 0.25\n",
      "s_crosstalk = 0.06333333333333332\n",
      "s_evidence = 10\n",
      "n_samples = 10000\n",
      "t_senso = 0\n",
      "vocab = <nengo_spa.vocabulary.Vocabulary object at 0x7f91c8481950>\n",
      "xp = <experiments.Xp1 object at 0x7f91caa9b050>\n",
      "proc_feedback = 0.9\n",
      "proc_feedback_synapse = 0.005\n",
      "GW_feedback = 1\n",
      "GW_threshold = 0.5\n",
      "GW_scale = 20\n",
      "BG_thr = 0.1\n",
      "BG_bias = 0.5\n",
      "integrator_reset = True\n",
      "data = <data.Data object at 0x7f92003b66d0>\n",
      "\t seed 20/20\n",
      "running run_seed119_crosstalk0.06333333333333332\n"
     ]
    },
    {
     "data": {
      "text/html": [
       "\n",
       "                <div id=\"c8aa9fb5-96db-4cc2-9651-2a041d48dcc1\" style=\"\n",
       "                    width: 100%;\n",
       "                    border: 1px solid #cfcfcf;\n",
       "                    border-radius: 4px;\n",
       "                    text-align: center;\n",
       "                    position: relative;\">\n",
       "                  <div class=\"pb-text\" style=\"\n",
       "                      position: absolute;\n",
       "                      width: 100%;\">\n",
       "                    0%\n",
       "                  </div>\n",
       "                  <div class=\"pb-fill\" style=\"\n",
       "                      background-color: #bdd2e6;\n",
       "                      width: 0%;\">\n",
       "                    <style type=\"text/css\" scoped=\"scoped\">\n",
       "                        @keyframes pb-fill-anim {\n",
       "                            0% { background-position: 0 0; }\n",
       "                            100% { background-position: 100px 0; }\n",
       "                        }\n",
       "                    </style>\n",
       "                    &nbsp;\n",
       "                  </div>\n",
       "                </div>"
      ],
      "text/plain": [
       "HtmlProgressBar cannot be displayed. Please use the TerminalProgressBar. It can be enabled with `nengo.rc.set('progress', 'progress_bar', 'nengo.utils.progress.TerminalProgressBar')`."
      ]
     },
     "metadata": {},
     "output_type": "display_data"
    },
    {
     "data": {
      "application/javascript": [
       "\n",
       "              (function () {\n",
       "                  var root = document.getElementById('c8aa9fb5-96db-4cc2-9651-2a041d48dcc1');\n",
       "                  var text = root.getElementsByClassName('pb-text')[0];\n",
       "                  var fill = root.getElementsByClassName('pb-fill')[0];\n",
       "\n",
       "                  text.innerHTML = 'Simulation finished in 0:02:00.';\n",
       "                  \n",
       "            if (100.0 > 0.) {\n",
       "                fill.style.transition = 'width 0.1s linear';\n",
       "            } else {\n",
       "                fill.style.transition = 'none';\n",
       "            }\n",
       "\n",
       "            fill.style.width = '100.0%';\n",
       "            fill.style.animation = 'none';\n",
       "            fill.style.backgroundImage = 'none'\n",
       "        \n",
       "                  \n",
       "                fill.style.animation = 'none';\n",
       "                fill.style.backgroundImage = 'none';\n",
       "            \n",
       "              })();\n",
       "        "
      ],
      "text/plain": [
       "<IPython.core.display.Javascript object>"
      ]
     },
     "metadata": {},
     "output_type": "display_data"
    },
    {
     "name": "stdout",
     "output_type": "stream",
     "text": [
      "seed = 119\n",
      "backend = 'nengo_ocl'\n",
      "dt = 0.001\n",
      "neuron_type = 'default'\n",
      "n_neurons_scale = 1\n",
      "n_neurons_scale_combined = 0.25\n",
      "s_crosstalk = 0.06333333333333332\n",
      "s_evidence = 10\n",
      "n_samples = 10000\n",
      "t_senso = 0\n",
      "vocab = <nengo_spa.vocabulary.Vocabulary object at 0x7f91c80e14d0>\n",
      "xp = <experiments.Xp1 object at 0x7f91c80e1350>\n",
      "proc_feedback = 0.9\n",
      "proc_feedback_synapse = 0.005\n",
      "GW_feedback = 1\n",
      "GW_threshold = 0.5\n",
      "GW_scale = 20\n",
      "BG_thr = 0.1\n",
      "BG_bias = 0.5\n",
      "integrator_reset = True\n",
      "data = <data.Data object at 0x7f921e16bad0>\n",
      "4\n",
      "40\n"
     ]
    },
    {
     "data": {
      "image/png": "[encoded data removed]",
      "text/plain": [
       "<Figure size 1152x288 with 2 Axes>"
      ]
     },
     "metadata": {
      "needs_background": "light"
     },
     "output_type": "display_data"
    },
    {
     "name": "stdout",
     "output_type": "stream",
     "text": [
      "rmse: (153.005892321324, [], [9962.11270375876, 8429.14656380377, 23966.25491594761, 25220.737985926564, 2481.074329040979, 3114.7989340081117, 11839.69961120822, 12058.32037870304, 9763.49193626417, 9763.491936265922, 21553.288775996196, 23046.39261346884, 7536.042726332333, 8246.52579630951, 182167.10367441256, 182167.10367441562, 11408.458076219555, 11408.45807621918, 20970.047241004686, 21847.909543488822, 23351.013380960056, 21847.909543491984, 16592.114961095474, 17111.356496086686, 12726.182681184942, 12058.320378703813, 14837.769588634623, 15828.252658612371, 9372.250401275674, 9763.491936265922, 4598.248143939586, 5156.73121391729, 10365.354238747608, 12501.561913693897, 14354.528053646172, 20394.80570601731, 7780.413250884345, 6757.933440908064, 27293.237478912208, 26636.41087558717, 4928.973820955645, 3624.8408043285876, 13737.398999102832, 12366.919189126145, 6273.69353592105, 7780.413250886852, 23166.86455729763, 21376.38474732132, 219217.46788271223, 220154.8811843727, 4652.1472176302605, 4516.733915967384, 15676.705412404275, 17478.598524044533, 29311.71728888851, 24400.51776394777, 20222.731540672125, 17215.18522238243, 16436.94531739242, 17744.011825708523, 23779.6911606234, 20508.144842333168, 8502.066457535091, 3388.01420100382, 10041.372870838348, 1037.2683577729024, 237942.3514931648, 108763.65315587335, 13826.487363441167, 13129.970854008689, 10523.904816271122, 8758.355287971193, 6656.289250233603, 8025.6666087249605, 27418.751514384694, 30132.128872877733, 26760.40717476155, 27750.923684199082, 18113.41425023368, 18113.414250233327, 20905.135948346448, 20330.791608726664, 35942.883589855075, 32611.33406155632, 16534.381231364903, 16278.209061556448, 7671.322269101874, 9719.216137026991, 226182.12415589398, 226182.12415590073, 19764.447269101558, 16278.209061553735, 17845.242080422162, 17579.069910613813, 2360.607646460076, 2170.2633068378673, 15771.86472193316, 15521.69255212241, 46047.18783513884, 45619.01566533079, 32251.161891742642, 35564.7114200453, 13826.487363441167, 13592.315193631091, 13360.143023819472, 12451.45434457545, 16881.391488897214, 15857.964216170421, 6549.407397985502, 5917.980125258029, 10801.11421616744, 10801.114216166885, 18205.675579803737, 16622.534670715977, 17142.24830707752, 19024.246034350697, 9985.686943440072, 9589.973307075958, 20428.53012525854, 20428.530125260575, 20428.53012525804, 20428.530125260575, 11433.684670712824, 11009.971034348579, 8822.546034349121, 9202.259670714928, 11433.684670712799, 183979.58012526028, 16365.677852530645, 17142.24830707752, 7908.261943440125, 7383.691488894425, 12979.682397985525, 12305.111943441081, 10801.114216166885, 10801.114216166507, 21004.24376162187, 21587.957397985174, 25577.09603434932, 25258.239216167392, 11433.684670713006, 10389.400579803478, 12752.825579803683, 12305.111943441081, 4.907199543035819, 14.3245598283125, 18283.15571321681, 18283.155713218748, 4460.206842824813, 33.46367992353534, 1954.9856775453432, 13505.977354120927, 9065.938115119607, 6759.342395738038, 7261.633715595573, 14693.129553883115, 270623.8750949057, 0.6158796857272625, 5962.190195975851, 7092.203275642933, 5360.468436165967, 3625.8727167843176, 3996.164036642538, 4123.594476595602, 1240.11171797352, 1617.2639177359194, 2229.2769974026614, 3870.7335966903775, 2939.2900770698193, 3273.5813969269966, 262.9333588771801, 67.48983925762714, 281.72884044681206, 14.324559828366715, 6924.7728356914695, 6595.911955786755, 225.54578512396645, 625.9094214875911, 959.873057850818, 9.109421487637519, 2399.2185123967847, 2114.327603305536, 12325.036694214696, 14165.327603308759, 6726.982148760207, 5186.618512396872, 1370.3457851240498, 1522.4185123972475, 5043.582148760328, 5043.582148761346, 196.50942148764108, 100.36396694222132, 290540.600330579, 289463.5639669485, 576.8730578512334, 842.0548760331724, 576.8730578512116, 785.018512396636, 24019.363966941874, 26890.03669421354, 1601.45487603287, 1765.5276033057933, 12325.03669421486, 12773.109421487561, 313579.6366942151, 168.52760330582097, 8.891239669389043, 1522.418512396693, 10961.671696118081, 10342.4836820177, 6036.979569207983, 3563.851484601349, 561.5953153888588, 767.1793341906204, 15799.987794824454, 15549.591790124246, 14568.007771322957, 16052.383799527366, 6193.375573908318, 5730.187559807313, 12033.651719620431, 12700.839733723147, 14810.403776023488, 13386.027747822662, 3329.059475200982, 3102.267465800599, 2777.0794516992282, 2672.68344699884, 283767.1617078684, 283767.1617078646, 17344.36382302719, 16563.175808925997, 609.991320089311, 767.1793341906204, 2883.475456399997, 3563.8514846026183, 7690.939616211626, 7344.147606811563, 16563.175808927812, 18686.343846530515, 10546.8796867165, 12254.047724321852, 4185.83150810341, 9544.899663214941, 8226.127630311894, 7173.751602110999, 4991.222138261971, 4309.736318287713, 11588.217206080644, 8217.165418165736, 1734.6043824057247, 1417.41572642558, 4850.924974267723, 4850.924974268222, 374.4773787061676, 803.8029027505889, 5722.707958237401, 4309.736318286549, 879.0384144644463, 939.3355784594778, 284780.80906798114, 284780.80906798877, 3323.3590063261518, 1417.41572642558, 2986.4675143419236, 3323.3590063271804, 8958.354074144336, 11588.217206081403, 22305.84605934765, 6666.490942209861, 4991.222138261971, 5572.4107942429555, 9929.839894119143, 8770.056910148369, 7507.976762183293, 6997.085270199262, 135.6894625532691, 607.5525944894288, 5875.005122234017, 6343.896614219291, 6997.085270197778, 5572.410794242421, 6666.068472113577, 6185.192503122435, 128.9134333540507, 5423.732554801122, 5874.60852379387, 12915.412141364179, 15786.916017332365, 9929.324286067169, 11587.660203381161, 1493.5129165584274, 1132.0529682380488, 16808.083975989695, 16039.208006998557, 6666.068472114737, 2175.8488338708567, 1132.052968238286, 293380.3837175898, 292298.09172793786, 6028.900513457456, 1571.8049062221921, 3439.3527098401696, 3096.4767408482894, 3208.7687305116638, 3677.936689168643, 468.5490922687788, 657.7170509255444, 19222.7118829663, 20347.879841623504, 6028.900513457324, 6996.652451443337, 2366.4328131991338, 2877.89276151983, 625.9360227078679, 901.1231572110019, 11239.96760165531, 11885.07988235874, 4902.620233234095, 3483.2085373277596, 4358.47052563188, 4098.395671831473, 3251.1336835265697, 2705.9465490235143, 4763.582806333833, 4626.5453794345285, 10204.780467152403, 9028.555905749774, 268343.38748469704, 268343.3874846998, 25.187484696146512, 49.26233849747517, 4491.507952532328, 4358.470525632991, 8103.368771245702, 6086.919648440293, 5043.657660134599, 4902.620233234597, 3971.358244930051, 2810.983975924223, 5931.882221538131, 6243.957075339405, 2305.796841421228, 2026.684560719943, 4897.380467151434, 3133.9044437594603, 8467.443625046659, 10003.743040253261, 4098.395671831022, 3846.320818030418, 6086.919648438634, 10003.743040251487, 195.62133927610674, 483.4048571113705, 6726.219125254025, 4357.786160924021, 2210.2720157829017, 2917.4614376777613, 80.75664062912826, 289.46020766480433, 7398.327366336516, 6891.246185524392, 303615.91039216344, 304718.93745244504, 441.56844874726704, 289.46020766492427, 7571.354426606715, 10818.814451208644, 7398.327366336409, 14887.301536079902, 3.9460625233534947, 143.67545981737175, 9606.652089583598, 8283.462667690323, 9411.62502931336, 8838.543848502855, 1445.0284733474662, 1765.1367144306414, 1442.9718927817773, 1023.1342544045675, 1225.9472925356977, 1850.1637747010618, 9411.625029313018, 248.65701746199466, 473.88336476759326, 332.374382731538, 149.60073003683704, 431.3456402165643, 138.50611925876916, 4195.0055204560895, 2281.864203091413, 9171.674981534106, 10561.439053389973, 27.364801893126547, 10.440250994988633, 14344.5803707555, 14106.042646204736, 10561.439053390428, 10767.976777942591, 8058.448634228584, 9364.212706084554, 1104.3085144682195, 1038.8462390186883, 259864.29294561184, 259864.29294561542, 33.27977195309086, 8981.137256983648, 76.89294560575192, 76.89294560587652, 3050.4785743482944, 3627.78995159272, 390.807915665671, 281.1947420129884, 5295.307316863324, 6047.995939617526, 3572.316897701116, 4458.080969558493, 263.44983183337183, 27.364801893238354, 1829.1755803361843, 45.817496504124485])\n",
      "error rate: 0.12291666666666667\n",
      "params: [0.09]\n",
      "Simulating...\n",
      "\t seed 1/20\n",
      "running run_seed100_crosstalk0.08999999999999998\n"
     ]
    },
    {
     "data": {
      "text/html": [
       "\n",
       "                <div id=\"af081c4c-fcbc-4859-a466-8ce82ddc260d\" style=\"\n",
       "                    width: 100%;\n",
       "                    border: 1px solid #cfcfcf;\n",
       "                    border-radius: 4px;\n",
       "                    text-align: center;\n",
       "                    position: relative;\">\n",
       "                  <div class=\"pb-text\" style=\"\n",
       "                      position: absolute;\n",
       "                      width: 100%;\">\n",
       "                    0%\n",
       "                  </div>\n",
       "                  <div class=\"pb-fill\" style=\"\n",
       "                      background-color: #bdd2e6;\n",
       "                      width: 0%;\">\n",
       "                    <style type=\"text/css\" scoped=\"scoped\">\n",
       "                        @keyframes pb-fill-anim {\n",
       "                            0% { background-position: 0 0; }\n",
       "                            100% { background-position: 100px 0; }\n",
       "                        }\n",
       "                    </style>\n",
       "                    &nbsp;\n",
       "                  </div>\n",
       "                </div>"
      ],
      "text/plain": [
       "HtmlProgressBar cannot be displayed. Please use the TerminalProgressBar. It can be enabled with `nengo.rc.set('progress', 'progress_bar', 'nengo.utils.progress.TerminalProgressBar')`."
      ]
     },
     "metadata": {},
     "output_type": "display_data"
    },
    {
     "data": {
      "application/javascript": [
       "\n",
       "              (function () {\n",
       "                  var root = document.getElementById('af081c4c-fcbc-4859-a466-8ce82ddc260d');\n",
       "                  var text = root.getElementsByClassName('pb-text')[0];\n",
       "                  var fill = root.getElementsByClassName('pb-fill')[0];\n",
       "\n",
       "                  text.innerHTML = 'Simulation finished in 0:01:59.';\n",
       "                  \n",
       "            if (100.0 > 0.) {\n",
       "                fill.style.transition = 'width 0.1s linear';\n",
       "            } else {\n",
       "                fill.style.transition = 'none';\n",
       "            }\n",
       "\n",
       "            fill.style.width = '100.0%';\n",
       "            fill.style.animation = 'none';\n",
       "            fill.style.backgroundImage = 'none'\n",
       "        \n",
       "                  \n",
       "                fill.style.animation = 'none';\n",
       "                fill.style.backgroundImage = 'none';\n",
       "            \n",
       "              })();\n",
       "        "
      ],
      "text/plain": [
       "<IPython.core.display.Javascript object>"
      ]
     },
     "metadata": {},
     "output_type": "display_data"
    },
    {
     "name": "stdout",
     "output_type": "stream",
     "text": [
      "seed = 100\n",
      "backend = 'nengo_ocl'\n",
      "dt = 0.001\n",
      "neuron_type = 'default'\n",
      "n_neurons_scale = 1\n",
      "n_neurons_scale_combined = 0.25\n",
      "s_crosstalk = 0.08999999999999998\n",
      "s_evidence = 10\n",
      "n_samples = 10000\n",
      "t_senso = 0\n",
      "vocab = <nengo_spa.vocabulary.Vocabulary object at 0x7f92015ed190>\n",
      "xp = <experiments.Xp1 object at 0x7f921b730fd0>\n",
      "proc_feedback = 0.9\n",
      "proc_feedback_synapse = 0.005\n",
      "GW_feedback = 1\n",
      "GW_threshold = 0.5\n",
      "GW_scale = 20\n",
      "BG_thr = 0.1\n",
      "BG_bias = 0.5\n",
      "integrator_reset = True\n",
      "data = <data.Data object at 0x7f921bae8d50>\n",
      "\t seed 2/20\n",
      "running run_seed101_crosstalk0.08999999999999998\n"
     ]
    },
    {
     "data": {
      "text/html": [
       "\n",
       "                <div id=\"fa1a942a-c3d0-4937-867c-790bf849951b\" style=\"\n",
       "                    width: 100%;\n",
       "                    border: 1px solid #cfcfcf;\n",
       "                    border-radius: 4px;\n",
       "                    text-align: center;\n",
       "                    position: relative;\">\n",
       "                  <div class=\"pb-text\" style=\"\n",
       "                      position: absolute;\n",
       "                      width: 100%;\">\n",
       "                    0%\n",
       "                  </div>\n",
       "                  <div class=\"pb-fill\" style=\"\n",
       "                      background-color: #bdd2e6;\n",
       "                      width: 0%;\">\n",
       "                    <style type=\"text/css\" scoped=\"scoped\">\n",
       "                        @keyframes pb-fill-anim {\n",
       "                            0% { background-position: 0 0; }\n",
       "                            100% { background-position: 100px 0; }\n",
       "                        }\n",
       "                    </style>\n",
       "                    &nbsp;\n",
       "                  </div>\n",
       "                </div>"
      ],
      "text/plain": [
       "HtmlProgressBar cannot be displayed. Please use the TerminalProgressBar. It can be enabled with `nengo.rc.set('progress', 'progress_bar', 'nengo.utils.progress.TerminalProgressBar')`."
      ]
     },
     "metadata": {},
     "output_type": "display_data"
    },
    {
     "data": {
      "application/javascript": [
       "\n",
       "              (function () {\n",
       "                  var root = document.getElementById('fa1a942a-c3d0-4937-867c-790bf849951b');\n",
       "                  var text = root.getElementsByClassName('pb-text')[0];\n",
       "                  var fill = root.getElementsByClassName('pb-fill')[0];\n",
       "\n",
       "                  text.innerHTML = 'Simulation finished in 0:01:57.';\n",
       "                  \n",
       "            if (100.0 > 0.) {\n",
       "                fill.style.transition = 'width 0.1s linear';\n",
       "            } else {\n",
       "                fill.style.transition = 'none';\n",
       "            }\n",
       "\n",
       "            fill.style.width = '100.0%';\n",
       "            fill.style.animation = 'none';\n",
       "            fill.style.backgroundImage = 'none'\n",
       "        \n",
       "                  \n",
       "                fill.style.animation = 'none';\n",
       "                fill.style.backgroundImage = 'none';\n",
       "            \n",
       "              })();\n",
       "        "
      ],
      "text/plain": [
       "<IPython.core.display.Javascript object>"
      ]
     },
     "metadata": {},
     "output_type": "display_data"
    },
    {
     "name": "stdout",
     "output_type": "stream",
     "text": [
      "seed = 101\n",
      "backend = 'nengo_ocl'\n",
      "dt = 0.001\n",
      "neuron_type = 'default'\n",
      "n_neurons_scale = 1\n",
      "n_neurons_scale_combined = 0.25\n",
      "s_crosstalk = 0.08999999999999998\n",
      "s_evidence = 10\n",
      "n_samples = 10000\n",
      "t_senso = 0\n",
      "vocab = <nengo_spa.vocabulary.Vocabulary object at 0x7f91d8866350>\n",
      "xp = <experiments.Xp1 object at 0x7f91c985c050>\n",
      "proc_feedback = 0.9\n",
      "proc_feedback_synapse = 0.005\n",
      "GW_feedback = 1\n",
      "GW_threshold = 0.5\n",
      "GW_scale = 20\n",
      "BG_thr = 0.1\n",
      "BG_bias = 0.5\n",
      "integrator_reset = True\n",
      "data = <data.Data object at 0x7f921e3f0ad0>\n",
      "\t seed 3/20\n",
      "running run_seed102_crosstalk0.08999999999999998\n"
     ]
    },
    {
     "data": {
      "text/html": [
       "\n",
       "                <div id=\"51b09bbb-f0c8-4c9a-adea-c6828fe06842\" style=\"\n",
       "                    width: 100%;\n",
       "                    border: 1px solid #cfcfcf;\n",
       "                    border-radius: 4px;\n",
       "                    text-align: center;\n",
       "                    position: relative;\">\n",
       "                  <div class=\"pb-text\" style=\"\n",
       "                      position: absolute;\n",
       "                      width: 100%;\">\n",
       "                    0%\n",
       "                  </div>\n",
       "                  <div class=\"pb-fill\" style=\"\n",
       "                      background-color: #bdd2e6;\n",
       "                      width: 0%;\">\n",
       "                    <style type=\"text/css\" scoped=\"scoped\">\n",
       "                        @keyframes pb-fill-anim {\n",
       "                            0% { background-position: 0 0; }\n",
       "                            100% { background-position: 100px 0; }\n",
       "                        }\n",
       "                    </style>\n",
       "                    &nbsp;\n",
       "                  </div>\n",
       "                </div>"
      ],
      "text/plain": [
       "HtmlProgressBar cannot be displayed. Please use the TerminalProgressBar. It can be enabled with `nengo.rc.set('progress', 'progress_bar', 'nengo.utils.progress.TerminalProgressBar')`."
      ]
     },
     "metadata": {},
     "output_type": "display_data"
    },
    {
     "data": {
      "application/javascript": [
       "\n",
       "              (function () {\n",
       "                  var root = document.getElementById('51b09bbb-f0c8-4c9a-adea-c6828fe06842');\n",
       "                  var text = root.getElementsByClassName('pb-text')[0];\n",
       "                  var fill = root.getElementsByClassName('pb-fill')[0];\n",
       "\n",
       "                  text.innerHTML = 'Simulation finished in 0:01:56.';\n",
       "                  \n",
       "            if (100.0 > 0.) {\n",
       "                fill.style.transition = 'width 0.1s linear';\n",
       "            } else {\n",
       "                fill.style.transition = 'none';\n",
       "            }\n",
       "\n",
       "            fill.style.width = '100.0%';\n",
       "            fill.style.animation = 'none';\n",
       "            fill.style.backgroundImage = 'none'\n",
       "        \n",
       "                  \n",
       "                fill.style.animation = 'none';\n",
       "                fill.style.backgroundImage = 'none';\n",
       "            \n",
       "              })();\n",
       "        "
      ],
      "text/plain": [
       "<IPython.core.display.Javascript object>"
      ]
     },
     "metadata": {},
     "output_type": "display_data"
    },
    {
     "name": "stdout",
     "output_type": "stream",
     "text": [
      "seed = 102\n",
      "backend = 'nengo_ocl'\n",
      "dt = 0.001\n",
      "neuron_type = 'default'\n",
      "n_neurons_scale = 1\n",
      "n_neurons_scale_combined = 0.25\n",
      "s_crosstalk = 0.08999999999999998\n",
      "s_evidence = 10\n",
      "n_samples = 10000\n",
      "t_senso = 0\n",
      "vocab = <nengo_spa.vocabulary.Vocabulary object at 0x7f921e3cfb50>\n",
      "xp = <experiments.Xp1 object at 0x7f921e3cf310>\n",
      "proc_feedback = 0.9\n",
      "proc_feedback_synapse = 0.005\n",
      "GW_feedback = 1\n",
      "GW_threshold = 0.5\n",
      "GW_scale = 20\n",
      "BG_thr = 0.1\n",
      "BG_bias = 0.5\n",
      "integrator_reset = True\n",
      "data = <data.Data object at 0x7f921e3e2d90>\n",
      "\t seed 4/20\n",
      "running run_seed103_crosstalk0.08999999999999998\n"
     ]
    },
    {
     "data": {
      "text/html": [
       "\n",
       "                <div id=\"20e70ba9-8740-488c-a0f5-a142391d2224\" style=\"\n",
       "                    width: 100%;\n",
       "                    border: 1px solid #cfcfcf;\n",
       "                    border-radius: 4px;\n",
       "                    text-align: center;\n",
       "                    position: relative;\">\n",
       "                  <div class=\"pb-text\" style=\"\n",
       "                      position: absolute;\n",
       "                      width: 100%;\">\n",
       "                    0%\n",
       "                  </div>\n",
       "                  <div class=\"pb-fill\" style=\"\n",
       "                      background-color: #bdd2e6;\n",
       "                      width: 0%;\">\n",
       "                    <style type=\"text/css\" scoped=\"scoped\">\n",
       "                        @keyframes pb-fill-anim {\n",
       "                            0% { background-position: 0 0; }\n",
       "                            100% { background-position: 100px 0; }\n",
       "                        }\n",
       "                    </style>\n",
       "                    &nbsp;\n",
       "                  </div>\n",
       "                </div>"
      ],
      "text/plain": [
       "HtmlProgressBar cannot be displayed. Please use the TerminalProgressBar. It can be enabled with `nengo.rc.set('progress', 'progress_bar', 'nengo.utils.progress.TerminalProgressBar')`."
      ]
     },
     "metadata": {},
     "output_type": "display_data"
    },
    {
     "data": {
      "application/javascript": [
       "\n",
       "              (function () {\n",
       "                  var root = document.getElementById('20e70ba9-8740-488c-a0f5-a142391d2224');\n",
       "                  var text = root.getElementsByClassName('pb-text')[0];\n",
       "                  var fill = root.getElementsByClassName('pb-fill')[0];\n",
       "\n",
       "                  text.innerHTML = 'Simulation finished in 0:02:08.';\n",
       "                  \n",
       "            if (100.0 > 0.) {\n",
       "                fill.style.transition = 'width 0.1s linear';\n",
       "            } else {\n",
       "                fill.style.transition = 'none';\n",
       "            }\n",
       "\n",
       "            fill.style.width = '100.0%';\n",
       "            fill.style.animation = 'none';\n",
       "            fill.style.backgroundImage = 'none'\n",
       "        \n",
       "                  \n",
       "                fill.style.animation = 'none';\n",
       "                fill.style.backgroundImage = 'none';\n",
       "            \n",
       "              })();\n",
       "        "
      ],
      "text/plain": [
       "<IPython.core.display.Javascript object>"
      ]
     },
     "metadata": {},
     "output_type": "display_data"
    },
    {
     "name": "stdout",
     "output_type": "stream",
     "text": [
      "seed = 103\n",
      "backend = 'nengo_ocl'\n",
      "dt = 0.001\n",
      "neuron_type = 'default'\n",
      "n_neurons_scale = 1\n",
      "n_neurons_scale_combined = 0.25\n",
      "s_crosstalk = 0.08999999999999998\n",
      "s_evidence = 10\n",
      "n_samples = 10000\n",
      "t_senso = 0\n",
      "vocab = <nengo_spa.vocabulary.Vocabulary object at 0x7f91c8d78810>\n",
      "xp = <experiments.Xp1 object at 0x7f91c80e34d0>\n",
      "proc_feedback = 0.9\n",
      "proc_feedback_synapse = 0.005\n",
      "GW_feedback = 1\n",
      "GW_threshold = 0.5\n",
      "GW_scale = 20\n",
      "BG_thr = 0.1\n",
      "BG_bias = 0.5\n",
      "integrator_reset = True\n",
      "data = <data.Data object at 0x7f921c44f6d0>\n",
      "\t seed 5/20\n",
      "running run_seed104_crosstalk0.08999999999999998\n"
     ]
    },
    {
     "data": {
      "text/html": [
       "\n",
       "                <div id=\"2192b500-6a78-425e-a66a-9aac04b9f011\" style=\"\n",
       "                    width: 100%;\n",
       "                    border: 1px solid #cfcfcf;\n",
       "                    border-radius: 4px;\n",
       "                    text-align: center;\n",
       "                    position: relative;\">\n",
       "                  <div class=\"pb-text\" style=\"\n",
       "                      position: absolute;\n",
       "                      width: 100%;\">\n",
       "                    0%\n",
       "                  </div>\n",
       "                  <div class=\"pb-fill\" style=\"\n",
       "                      background-color: #bdd2e6;\n",
       "                      width: 0%;\">\n",
       "                    <style type=\"text/css\" scoped=\"scoped\">\n",
       "                        @keyframes pb-fill-anim {\n",
       "                            0% { background-position: 0 0; }\n",
       "                            100% { background-position: 100px 0; }\n",
       "                        }\n",
       "                    </style>\n",
       "                    &nbsp;\n",
       "                  </div>\n",
       "                </div>"
      ],
      "text/plain": [
       "HtmlProgressBar cannot be displayed. Please use the TerminalProgressBar. It can be enabled with `nengo.rc.set('progress', 'progress_bar', 'nengo.utils.progress.TerminalProgressBar')`."
      ]
     },
     "metadata": {},
     "output_type": "display_data"
    },
    {
     "data": {
      "application/javascript": [
       "\n",
       "              (function () {\n",
       "                  var root = document.getElementById('2192b500-6a78-425e-a66a-9aac04b9f011');\n",
       "                  var text = root.getElementsByClassName('pb-text')[0];\n",
       "                  var fill = root.getElementsByClassName('pb-fill')[0];\n",
       "\n",
       "                  text.innerHTML = 'Simulation finished in 0:02:17.';\n",
       "                  \n",
       "            if (100.0 > 0.) {\n",
       "                fill.style.transition = 'width 0.1s linear';\n",
       "            } else {\n",
       "                fill.style.transition = 'none';\n",
       "            }\n",
       "\n",
       "            fill.style.width = '100.0%';\n",
       "            fill.style.animation = 'none';\n",
       "            fill.style.backgroundImage = 'none'\n",
       "        \n",
       "                  \n",
       "                fill.style.animation = 'none';\n",
       "                fill.style.backgroundImage = 'none';\n",
       "            \n",
       "              })();\n",
       "        "
      ],
      "text/plain": [
       "<IPython.core.display.Javascript object>"
      ]
     },
     "metadata": {},
     "output_type": "display_data"
    },
    {
     "name": "stdout",
     "output_type": "stream",
     "text": [
      "seed = 104\n",
      "backend = 'nengo_ocl'\n",
      "dt = 0.001\n",
      "neuron_type = 'default'\n",
      "n_neurons_scale = 1\n",
      "n_neurons_scale_combined = 0.25\n",
      "s_crosstalk = 0.08999999999999998\n",
      "s_evidence = 10\n",
      "n_samples = 10000\n",
      "t_senso = 0\n",
      "vocab = <nengo_spa.vocabulary.Vocabulary object at 0x7f91cbb88dd0>\n",
      "xp = <experiments.Xp1 object at 0x7f91c80e3610>\n",
      "proc_feedback = 0.9\n",
      "proc_feedback_synapse = 0.005\n",
      "GW_feedback = 1\n",
      "GW_threshold = 0.5\n",
      "GW_scale = 20\n",
      "BG_thr = 0.1\n",
      "BG_bias = 0.5\n",
      "integrator_reset = True\n",
      "data = <data.Data object at 0x7f920112a4d0>\n",
      "\t seed 6/20\n",
      "running run_seed105_crosstalk0.08999999999999998\n"
     ]
    },
    {
     "data": {
      "text/html": [
       "\n",
       "                <div id=\"e695f249-7e97-4911-b197-eb0034379eef\" style=\"\n",
       "                    width: 100%;\n",
       "                    border: 1px solid #cfcfcf;\n",
       "                    border-radius: 4px;\n",
       "                    text-align: center;\n",
       "                    position: relative;\">\n",
       "                  <div class=\"pb-text\" style=\"\n",
       "                      position: absolute;\n",
       "                      width: 100%;\">\n",
       "                    0%\n",
       "                  </div>\n",
       "                  <div class=\"pb-fill\" style=\"\n",
       "                      background-color: #bdd2e6;\n",
       "                      width: 0%;\">\n",
       "                    <style type=\"text/css\" scoped=\"scoped\">\n",
       "                        @keyframes pb-fill-anim {\n",
       "                            0% { background-position: 0 0; }\n",
       "                            100% { background-position: 100px 0; }\n",
       "                        }\n",
       "                    </style>\n",
       "                    &nbsp;\n",
       "                  </div>\n",
       "                </div>"
      ],
      "text/plain": [
       "HtmlProgressBar cannot be displayed. Please use the TerminalProgressBar. It can be enabled with `nengo.rc.set('progress', 'progress_bar', 'nengo.utils.progress.TerminalProgressBar')`."
      ]
     },
     "metadata": {},
     "output_type": "display_data"
    },
    {
     "data": {
      "application/javascript": [
       "\n",
       "              (function () {\n",
       "                  var root = document.getElementById('e695f249-7e97-4911-b197-eb0034379eef');\n",
       "                  var text = root.getElementsByClassName('pb-text')[0];\n",
       "                  var fill = root.getElementsByClassName('pb-fill')[0];\n",
       "\n",
       "                  text.innerHTML = 'Simulation finished in 0:02:06.';\n",
       "                  \n",
       "            if (100.0 > 0.) {\n",
       "                fill.style.transition = 'width 0.1s linear';\n",
       "            } else {\n",
       "                fill.style.transition = 'none';\n",
       "            }\n",
       "\n",
       "            fill.style.width = '100.0%';\n",
       "            fill.style.animation = 'none';\n",
       "            fill.style.backgroundImage = 'none'\n",
       "        \n",
       "                  \n",
       "                fill.style.animation = 'none';\n",
       "                fill.style.backgroundImage = 'none';\n",
       "            \n",
       "              })();\n",
       "        "
      ],
      "text/plain": [
       "<IPython.core.display.Javascript object>"
      ]
     },
     "metadata": {},
     "output_type": "display_data"
    },
    {
     "name": "stdout",
     "output_type": "stream",
     "text": [
      "seed = 105\n",
      "backend = 'nengo_ocl'\n",
      "dt = 0.001\n",
      "neuron_type = 'default'\n",
      "n_neurons_scale = 1\n",
      "n_neurons_scale_combined = 0.25\n",
      "s_crosstalk = 0.08999999999999998\n",
      "s_evidence = 10\n",
      "n_samples = 10000\n",
      "t_senso = 0\n",
      "vocab = <nengo_spa.vocabulary.Vocabulary object at 0x7f91d88630d0>\n",
      "xp = <experiments.Xp1 object at 0x7f91cbb883d0>\n",
      "proc_feedback = 0.9\n",
      "proc_feedback_synapse = 0.005\n",
      "GW_feedback = 1\n",
      "GW_threshold = 0.5\n",
      "GW_scale = 20\n",
      "BG_thr = 0.1\n",
      "BG_bias = 0.5\n",
      "integrator_reset = True\n",
      "data = <data.Data object at 0x7f91c7d28990>\n",
      "\t seed 7/20\n",
      "running run_seed106_crosstalk0.08999999999999998\n"
     ]
    },
    {
     "data": {
      "text/html": [
       "\n",
       "                <div id=\"05f624f0-7732-4a90-b8aa-76b6868ca476\" style=\"\n",
       "                    width: 100%;\n",
       "                    border: 1px solid #cfcfcf;\n",
       "                    border-radius: 4px;\n",
       "                    text-align: center;\n",
       "                    position: relative;\">\n",
       "                  <div class=\"pb-text\" style=\"\n",
       "                      position: absolute;\n",
       "                      width: 100%;\">\n",
       "                    0%\n",
       "                  </div>\n",
       "                  <div class=\"pb-fill\" style=\"\n",
       "                      background-color: #bdd2e6;\n",
       "                      width: 0%;\">\n",
       "                    <style type=\"text/css\" scoped=\"scoped\">\n",
       "                        @keyframes pb-fill-anim {\n",
       "                            0% { background-position: 0 0; }\n",
       "                            100% { background-position: 100px 0; }\n",
       "                        }\n",
       "                    </style>\n",
       "                    &nbsp;\n",
       "                  </div>\n",
       "                </div>"
      ],
      "text/plain": [
       "HtmlProgressBar cannot be displayed. Please use the TerminalProgressBar. It can be enabled with `nengo.rc.set('progress', 'progress_bar', 'nengo.utils.progress.TerminalProgressBar')`."
      ]
     },
     "metadata": {},
     "output_type": "display_data"
    },
    {
     "data": {
      "application/javascript": [
       "\n",
       "              (function () {\n",
       "                  var root = document.getElementById('05f624f0-7732-4a90-b8aa-76b6868ca476');\n",
       "                  var text = root.getElementsByClassName('pb-text')[0];\n",
       "                  var fill = root.getElementsByClassName('pb-fill')[0];\n",
       "\n",
       "                  text.innerHTML = 'Simulation finished in 0:00:42.';\n",
       "                  \n",
       "            if (35.5 > 0.) {\n",
       "                fill.style.transition = 'width 0.1s linear';\n",
       "            } else {\n",
       "                fill.style.transition = 'none';\n",
       "            }\n",
       "\n",
       "            fill.style.width = '35.5%';\n",
       "            fill.style.animation = 'none';\n",
       "            fill.style.backgroundImage = 'none'\n",
       "        \n",
       "                  \n",
       "                fill.style.animation = 'none';\n",
       "                fill.style.backgroundImage = 'none';\n",
       "            \n",
       "              })();\n",
       "        "
      ],
      "text/plain": [
       "<IPython.core.display.Javascript object>"
      ]
     },
     "metadata": {},
     "output_type": "display_data"
    },
    {
     "name": "stderr",
     "output_type": "stream",
     "text": [
      "\n",
      "KeyboardInterrupt\n",
      "\n"
     ]
    }
   ],
   "source": [
    "\n",
    "def evaluation_function(params):\n",
    "    \n",
    "    print(\"params:\", params)\n",
    "    data = []\n",
    "    \n",
    "#     return 0\n",
    "        \n",
    "    print('Simulating...')\n",
    "    for i,seed in enumerate(range(STARTING_SEED, STARTING_SEED+N_SEEDS)):\n",
    "        print('\\t seed '+str(i+1)+'/'+str(N_SEEDS))\n",
    "#         data_filename = 'run_seed'+str(seed)+'_sevid'+str(params[0])+'_crosstalk'+str(params[1])         \n",
    "#         data_filename = 'run_seed'+str(seed)+'_sevid'+str(params[0])+'_crosstalk'+str(params[1])         \n",
    "        data_filename = 'run_seed'+str(seed)+'_crosstalk'+str(params[0])         \n",
    "        \n",
    "        xp = create_xp(N_BLOCKS_PER_OPERATION, N_TRIALS_PER_DIGIT, N_DIFFERENT_DIGITS, N_DIFFERENT_OPERATIONS, STIM_DURATION, FIX_DURATION, seed)\n",
    "        results = ExperimentRun().run(\n",
    "            n_neurons_scale=N_NEURONS_SCALE,\n",
    "            n_neurons_scale_combined=N_NEURONS_SCALE_COMBINED,\n",
    "            s_crosstalk=params[0],\n",
    "            s_evidence=S_EVIDENCE,\n",
    "            n_samples=N_SAMPLES,\n",
    "            t_senso=0,\n",
    "            vocab=create_vocab(D, seed),\n",
    "            xp=xp,\n",
    "            integrator_reset=True,\n",
    "            proc_feedback=PROC_FDBCK,\n",
    "            proc_feedback_synapse=PROC_FDBCK_SYN,\n",
    "            GW_feedback=GW_FDBCK,\n",
    "            GW_scale=GW_SCALE,\n",
    "            BG_thr=BG_THR,\n",
    "            BG_bias=BG_BIAS,\n",
    "            seed=seed,\n",
    "            backend=\"nengo_ocl\",\n",
    "            data_dir=data_dir,\n",
    "            data_filename=data_filename,\n",
    "            plt=False\n",
    "        )\n",
    "        seed_data = results['data'].df\n",
    "\n",
    "        seed_data.to_pickle(data_dir+'/'+data_filename+'.csv')\n",
    "        data.append(seed_data)\n",
    "        \n",
    "        \n",
    "    data = Data(pd.concat(data))\n",
    "    data.plot_fig2_simple()\n",
    "    rmse_fitness_error = data.rmse_fitness_error(compare_errorrates=False, compare_RTs=True, tasks=range(N_DIFFERENT_OPERATIONS))\n",
    "    print('rmse:', rmse_fitness_error)\n",
    "    print('error rate:', data.error_rate)\n",
    "    return rmse_fitness_error[0]\n",
    "\n",
    "    \n",
    "x0, fval, grid, jout = brute(\n",
    "    evaluation_function, \n",
    "    (\n",
    "#         (10,11), # evidence strength\n",
    "        (0.01,.25), # crosstalk\n",
    "    ),\n",
    "    Ns=10, \n",
    "    full_output=True,\n",
    "    finish=None\n",
    ")\n",
    "\n",
    "print(x0, fval, grid, jout)\n",
    "np.save(data_dir+\"/x0_2\", x0)\n",
    "np.save(data_dir+\"/fval_2\", fval)\n",
    "np.save(data_dir+\"/grid_2\", grid)\n",
    "np.save(data_dir+\"/jout_2\", jout)"
   ]
  },
  {
   "cell_type": "code",
   "execution_count": null,
   "metadata": {},
   "outputs": [],
   "source": []
  },
  {
   "cell_type": "code",
   "execution_count": null,
   "metadata": {},
   "outputs": [],
   "source": []
  },
  {
   "cell_type": "code",
   "execution_count": null,
   "metadata": {},
   "outputs": [],
   "source": []
  },
  {
   "cell_type": "code",
   "execution_count": null,
   "metadata": {},
   "outputs": [],
   "source": []
  }
 ],
 "metadata": {
  "kernelspec": {
   "display_name": "Python 3",
   "language": "python",
   "name": "python3"
  },
  "language_info": {
   "codemirror_mode": {
    "name": "ipython",
    "version": 3
   },
   "file_extension": ".py",
   "mimetype": "text/x-python",
   "name": "python",
   "nbconvert_exporter": "python",
   "pygments_lexer": "ipython3",
   "version": "3.7.5"
  }
 },
 "nbformat": 4,
 "nbformat_minor": 2
}
