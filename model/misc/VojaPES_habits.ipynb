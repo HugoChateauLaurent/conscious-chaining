{
 "cells": [
  {
   "cell_type": "markdown",
   "metadata": {},
   "source": [
    "B_predict tries to anticipate the response of B_late, which associates some value to the key in A, but with some fixed delay. To do that, we learn the conenction A->B_predict with an error function that minimizes the difference between B_late and B_predict. The problem is that the predictor unlearns all the time because the error function is nonzero when A is active before B_late (i.e. is delayed) and when B_late is active when A is not anymore. STDP-like learning should be more suitable because then learning only occurs when both populations are spiking.\n",
    "\n",
    "Associations :\n",
    "- SP0 in A -> SP1 in B\n",
    "- SP1 in A -> SP2 in B\n",
    "- SP2 in A -> SP3 in B\n",
    "- SP3 in A -> SP0 in B\n"
   ]
  },
  {
   "cell_type": "code",
   "execution_count": 1,
   "metadata": {},
   "outputs": [
    {
     "name": "stdout",
     "output_type": "stream",
     "text": [
      "Intercepts: [0.1140887789990953, 0.06673072467399836]\n"
     ]
    }
   ],
   "source": [
    "import nengo\n",
    "import nengo_spa as spa\n",
    "import numpy as np\n",
    "from collections import deque\n",
    "import matplotlib.pyplot as plt\n",
    "\n",
    "class Cycler():\n",
    "    def __init__(\n",
    "        self, \n",
    "        SPs, \n",
    "        relative_start,\n",
    "        relative_stop,\n",
    "        SP_duration,\n",
    "        t_stop\n",
    "    ):\n",
    "        assert relative_start <= relative_stop\n",
    "        self.SPs = SPs\n",
    "        self.start = relative_start * SP_duration\n",
    "        self.stop = relative_stop * SP_duration\n",
    "        self.SP_duration = SP_duration\n",
    "        self.t_stop = t_stop\n",
    "        \n",
    "\n",
    "    def make_step(self):\n",
    "        def f(t):\n",
    "            t_in_window = t % self.SP_duration\n",
    "            idx = int((t % (self.SP_duration*len(self.SPs))) // self.SP_duration)\n",
    "            if t_in_window>self.start and t_in_window<self.stop and t<self.t_stop:\n",
    "                return self.SPs[idx]\n",
    "            else:\n",
    "                return \"0\"\n",
    "        return f\n",
    "    \n",
    "n_SPs = 4\n",
    "D = 32\n",
    "subdimensions = 16\n",
    "n_neurons = 30*subdimensions\n",
    "\n",
    "vocab = spa.Vocabulary(D)\n",
    "SPs = ['SP'+str(i) for i in range(n_SPs)]\n",
    "vocab.populate(';'.join(SPs))\n",
    "\n",
    "SP_vs = np.array([vocab.parse(SP).v for SP in SPs])\n",
    "intercepts = [(np.dot(SP_vs[:,i*subdimensions:(i+1)*subdimensions], SP_vs[:,i*subdimensions:(i+1)*subdimensions].T) - np.eye(n_SPs)).flatten().max() for i in range(int(D/subdimensions))]\n",
    "print(f\"Intercepts: {intercepts}\")\n",
    "\n"
   ]
  },
  {
   "cell_type": "code",
   "execution_count": 10,
   "metadata": {},
   "outputs": [],
   "source": [
    "with spa.Network() as model:\n",
    "    \n",
    "    SP_duration = 1\n",
    "    n_training_cycles = 2\n",
    "    T_learning = SP_duration * n_training_cycles * n_SPs\n",
    "\n",
    "    A_f = Cycler(SPs, .25, .75, SP_duration, n_SPs*999).make_step()\n",
    "    A = spa.State(vocab, represent_cc_identity=False)\n",
    "    A_inp = spa.Transcode(A_f, output_vocab=vocab)\n",
    "    A_inp >> A\n",
    "\n",
    "\n",
    "    B_f = Cycler(np.roll(SPs,-1), .5, 1, SP_duration, n_SPs*n_training_cycles).make_step()\n",
    "    B_predict = spa.State(vocab, represent_cc_identity=False)\n",
    "    B_late = spa.Transcode(B_f, output_vocab=vocab)\n",
    "    B_combined = spa.Transcode(input_vocab=vocab, output_vocab=vocab)\n",
    "    B_predict >> B_combined\n",
    "    B_late >> B_combined\n",
    "    \n",
    "    # Create the memory\n",
    "    learning = nengo.Node(output=lambda t: -int(t >= n_training_cycles * n_SPs))\n",
    "    memories = [\n",
    "        nengo.Ensemble(n_neurons, subdimensions, intercepts=[intercepts[i]] * n_neurons)\n",
    "        for i in range(int(D/subdimensions))\n",
    "    ]\n",
    "    \n",
    "    # Learn the encoders/keys\n",
    "    voja = nengo.Voja(learning_rate=5e-2, post_synapse=None)\n",
    "    connections_in = [\n",
    "        nengo.Connection(ens, memories[i], synapse=None, learning_rule_type=voja)\n",
    "        for i,ens in enumerate(A.all_ensembles)\n",
    "    ]\n",
    "    for conn_in in connections_in:\n",
    "        nengo.Connection(learning, conn_in.learning_rule, synapse=None)\n",
    "\n",
    "    # Learn the decoders/values, initialized to a null function\n",
    "    connections_out = [\n",
    "        nengo.Connection(\n",
    "            memories[i],\n",
    "            B_predict.input[i*subdimensions:(i+1)*subdimensions],\n",
    "            learning_rule_type=nengo.PES(1e-3),\n",
    "            function=lambda x: np.zeros(subdimensions),\n",
    "        )\n",
    "        for i in range(int(D/subdimensions))\n",
    "    ]\n",
    "\n",
    "    # Create the error population\n",
    "    errors = [nengo.Node(lambda t,x: x if t<T_learning else 0, size_in=subdimensions) for i in range(int(D/subdimensions))]\n",
    "    error_SP = spa.Transcode(input_vocab=vocab, output_vocab=vocab)\n",
    "    for i in range(int(D/subdimensions)):\n",
    "        nengo.Connection(errors[i], error_SP.input[i*subdimensions:(i+1)*subdimensions], synapse=None)\n",
    "    \n",
    "    # Calculate the error and use it to drive the PES rule\n",
    "    for i in range(int(D/subdimensions)):\n",
    "        nengo.Connection(B_late.output[i*subdimensions:(i+1)*subdimensions], errors[i], transform=-1, synapse=None)\n",
    "        nengo.Connection(B_predict.output[i*subdimensions:(i+1)*subdimensions], errors[i], synapse=None)\n",
    "        nengo.Connection(errors[i], connections_out[i].learning_rule)\n",
    "        \n",
    "    # Setup probes\n",
    "    p_A = nengo.Probe(A.output, synapse=.005)\n",
    "    p_B_predict = nengo.Probe(B_predict.output, synapse=.005)\n",
    "    p_B_late = nengo.Probe(B_late.output, synapse=.005)\n",
    "    p_error = nengo.Probe(error_SP.output, synapse=0.005)\n",
    "        "
   ]
  },
  {
   "cell_type": "code",
   "execution_count": 11,
   "metadata": {},
   "outputs": [
    {
     "data": {
      "application/vdom.v1+json": {
       "attributes": {},
       "tagName": "div"
      },
      "text/html": [
       "\n",
       "                <script>\n",
       "                    if (Jupyter.version.split(\".\")[0] < 5) {\n",
       "                        var pb = document.getElementById(\"436f509f-3c7c-4227-a083-8e31650a7a4e\");\n",
       "                        var text = document.createTextNode(\n",
       "                            \"HMTL progress bar requires Jupyter Notebook >= \" +\n",
       "                            \"5.0 or Jupyter Lab. Alternatively, you can use \" +\n",
       "                            \"TerminalProgressBar().\");\n",
       "                        pb.parentNode.insertBefore(text, pb);\n",
       "                    }\n",
       "                </script>\n",
       "                <div id=\"436f509f-3c7c-4227-a083-8e31650a7a4e\" style=\"\n",
       "                    width: 100%;\n",
       "                    border: 1px solid #cfcfcf;\n",
       "                    border-radius: 4px;\n",
       "                    text-align: center;\n",
       "                    position: relative;\">\n",
       "                  <div class=\"pb-text\" style=\"\n",
       "                      position: absolute;\n",
       "                      width: 100%;\">\n",
       "                    0%\n",
       "                  </div>\n",
       "                  <div class=\"pb-fill\" style=\"\n",
       "                      background-color: #bdd2e6;\n",
       "                      width: 0%;\">\n",
       "                    <style type=\"text/css\" scoped=\"scoped\">\n",
       "                        @keyframes pb-fill-anim {\n",
       "                            0% { background-position: 0 0; }\n",
       "                            100% { background-position: 100px 0; }\n",
       "                        }\n",
       "                    </style>\n",
       "                    &nbsp;\n",
       "                  </div>\n",
       "                </div>"
      ],
      "text/plain": [
       "HtmlProgressBar cannot be displayed. Please use the TerminalProgressBar. It can be enabled with `nengo.rc.set('progress', 'progress_bar', 'nengo.utils.progress.TerminalProgressBar')`."
      ]
     },
     "metadata": {},
     "output_type": "display_data"
    },
    {
     "data": {
      "application/vdom.v1+json": {
       "attributes": {
        "id": "42be2661-e989-4bab-b8b8-02cd8413b217",
        "style": {
         "border": "1px solid #cfcfcf",
         "borderRadius": "4px",
         "boxSizing": "border-box",
         "position": "relative",
         "textAlign": "center",
         "width": "100%"
        }
       },
       "children": [
        {
         "attributes": {
          "class": "pb-text",
          "style": {
           "position": "absolute",
           "width": "100%"
          }
         },
         "children": [
          "Build finished in 0:00:03."
         ],
         "tagName": "div"
        },
        {
         "attributes": {
          "class": "pb-fill",
          "style": {
           "animation": "none",
           "backgroundColor": "#bdd2e6",
           "backgroundImage": "none",
           "backgroundSize": "100px 100%",
           "width": "100%"
          }
         },
         "children": [
          {
           "attributes": {
            "scoped": "scoped",
            "type": "text/css"
           },
           "children": [
            "\n                        @keyframes pb-fill-anim {\n                            0% { background-position: 0 0; }\n                            100% { background-position: 100px 0; }\n                        }}"
           ],
           "tagName": "style"
          },
          " "
         ],
         "tagName": "div"
        }
       ],
       "tagName": "div"
      },
      "text/html": [
       "<script>\n",
       "              (function () {\n",
       "                  var root = document.getElementById('436f509f-3c7c-4227-a083-8e31650a7a4e');\n",
       "                  var text = root.getElementsByClassName('pb-text')[0];\n",
       "                  var fill = root.getElementsByClassName('pb-fill')[0];\n",
       "\n",
       "                  text.innerHTML = 'Build finished in 0:00:03.';\n",
       "                  \n",
       "            fill.style.width = '100%';\n",
       "            fill.style.animation = 'pb-fill-anim 2s linear infinite';\n",
       "            fill.style.backgroundSize = '100px 100%';\n",
       "            fill.style.backgroundImage = 'repeating-linear-gradient(' +\n",
       "                '90deg, #bdd2e6, #edf2f8 40%, #bdd2e6 80%, #bdd2e6)';\n",
       "        \n",
       "                  \n",
       "                fill.style.animation = 'none';\n",
       "                fill.style.backgroundImage = 'none';\n",
       "            \n",
       "              })();\n",
       "        </script>"
      ]
     },
     "metadata": {},
     "output_type": "display_data"
    },
    {
     "data": {
      "application/vdom.v1+json": {
       "attributes": {},
       "tagName": "div"
      },
      "text/html": [
       "\n",
       "                <script>\n",
       "                    if (Jupyter.version.split(\".\")[0] < 5) {\n",
       "                        var pb = document.getElementById(\"424245de-bc79-4ec3-9b09-9638f5a427ba\");\n",
       "                        var text = document.createTextNode(\n",
       "                            \"HMTL progress bar requires Jupyter Notebook >= \" +\n",
       "                            \"5.0 or Jupyter Lab. Alternatively, you can use \" +\n",
       "                            \"TerminalProgressBar().\");\n",
       "                        pb.parentNode.insertBefore(text, pb);\n",
       "                    }\n",
       "                </script>\n",
       "                <div id=\"424245de-bc79-4ec3-9b09-9638f5a427ba\" style=\"\n",
       "                    width: 100%;\n",
       "                    border: 1px solid #cfcfcf;\n",
       "                    border-radius: 4px;\n",
       "                    text-align: center;\n",
       "                    position: relative;\">\n",
       "                  <div class=\"pb-text\" style=\"\n",
       "                      position: absolute;\n",
       "                      width: 100%;\">\n",
       "                    0%\n",
       "                  </div>\n",
       "                  <div class=\"pb-fill\" style=\"\n",
       "                      background-color: #bdd2e6;\n",
       "                      width: 0%;\">\n",
       "                    <style type=\"text/css\" scoped=\"scoped\">\n",
       "                        @keyframes pb-fill-anim {\n",
       "                            0% { background-position: 0 0; }\n",
       "                            100% { background-position: 100px 0; }\n",
       "                        }\n",
       "                    </style>\n",
       "                    &nbsp;\n",
       "                  </div>\n",
       "                </div>"
      ],
      "text/plain": [
       "HtmlProgressBar cannot be displayed. Please use the TerminalProgressBar. It can be enabled with `nengo.rc.set('progress', 'progress_bar', 'nengo.utils.progress.TerminalProgressBar')`."
      ]
     },
     "metadata": {},
     "output_type": "display_data"
    },
    {
     "data": {
      "application/vdom.v1+json": {
       "attributes": {
        "id": "103f70b5-ee61-4175-841b-e03d54ff6c19",
        "style": {
         "border": "1px solid #cfcfcf",
         "borderRadius": "4px",
         "boxSizing": "border-box",
         "position": "relative",
         "textAlign": "center",
         "width": "100%"
        }
       },
       "children": [
        {
         "attributes": {
          "class": "pb-text",
          "style": {
           "position": "absolute",
           "width": "100%"
          }
         },
         "children": [
          "Simulation finished in 0:00:15."
         ],
         "tagName": "div"
        },
        {
         "attributes": {
          "class": "pb-fill",
          "style": {
           "animation": "none",
           "backgroundColor": "#bdd2e6",
           "backgroundImage": "none",
           "transition": "width 0.1s linear",
           "width": "100%"
          }
         },
         "children": [
          {
           "attributes": {
            "scoped": "scoped",
            "type": "text/css"
           },
           "children": [
            "\n                        @keyframes pb-fill-anim {\n                            0% { background-position: 0 0; }\n                            100% { background-position: 100px 0; }\n                        }}"
           ],
           "tagName": "style"
          },
          " "
         ],
         "tagName": "div"
        }
       ],
       "tagName": "div"
      },
      "text/html": [
       "<script>\n",
       "              (function () {\n",
       "                  var root = document.getElementById('424245de-bc79-4ec3-9b09-9638f5a427ba');\n",
       "                  var text = root.getElementsByClassName('pb-text')[0];\n",
       "                  var fill = root.getElementsByClassName('pb-fill')[0];\n",
       "\n",
       "                  text.innerHTML = 'Simulation finished in 0:00:15.';\n",
       "                  \n",
       "            if (100.0 > 0.) {\n",
       "                fill.style.transition = 'width 0.1s linear';\n",
       "            } else {\n",
       "                fill.style.transition = 'none';\n",
       "            }\n",
       "\n",
       "            fill.style.width = '100.0%';\n",
       "            fill.style.animation = 'none';\n",
       "            fill.style.backgroundImage = 'none'\n",
       "        \n",
       "                  \n",
       "                fill.style.animation = 'none';\n",
       "                fill.style.backgroundImage = 'none';\n",
       "            \n",
       "              })();\n",
       "        </script>"
      ]
     },
     "metadata": {},
     "output_type": "display_data"
    }
   ],
   "source": [
    "T = T_learning\n",
    "with nengo.Simulator(model) as sim:\n",
    "    sim.run(T)"
   ]
  },
  {
   "cell_type": "code",
   "execution_count": 12,
   "metadata": {},
   "outputs": [],
   "source": [
    "def plot_similarities(\n",
    "    t_range, data, vocab, title='', autoscale=False\n",
    "):\n",
    "\n",
    "    ymin, ymax = -1.2, 1.2\n",
    "    plt.ylim(ymin, ymax)\n",
    "    if autoscale:\n",
    "        plt.autoscale(autoscale, axis=\"y\")\n",
    "    plt.plot(t_range, spa.similarity(data, vocab))\n",
    "    plt.title(title)\n",
    "#     plt.xlabel(\"Time\")\n",
    "    plt.xlim(left=T-1, right=t_range[-1])\n",
    "#     plt.legend(\n",
    "#         list(vocab.keys()), loc=\"upper center\", bbox_to_anchor=(0.5, -0.13), ncol=3\n",
    "#     )"
   ]
  },
  {
   "cell_type": "code",
   "execution_count": 13,
   "metadata": {},
   "outputs": [
    {
     "data": {
      "image/png": "[encoded data removed]",
      "text/plain": [
       "<Figure size 288x648 with 4 Axes>"
      ]
     },
     "metadata": {
      "needs_background": "light"
     },
     "output_type": "display_data"
    }
   ],
   "source": [
    "plt.figure(figsize=(4, 9))\n",
    "plt.subplot(4, 1, 1)\n",
    "plot_similarities(sim.trange(), sim.data[p_A], vocab, 'A')\n",
    "plt.subplot(4, 1, 2)\n",
    "plot_similarities(sim.trange(), sim.data[p_B_late], vocab, 'Late B')\n",
    "plt.subplot(4, 1, 3)\n",
    "plot_similarities(sim.trange(), sim.data[p_B_predict], vocab, 'B predict')\n",
    "plt.subplot(4, 1, 4)\n",
    "plot_similarities(sim.trange(), sim.data[p_error], vocab, 'error')\n",
    "\n",
    "plt.tight_layout()\n"
   ]
  },
  {
   "cell_type": "code",
   "execution_count": null,
   "metadata": {},
   "outputs": [],
   "source": []
  }
 ],
 "metadata": {
  "kernelspec": {
   "display_name": "Python 3",
   "language": "python",
   "name": "python3"
  },
  "language_info": {
   "codemirror_mode": {
    "name": "ipython",
    "version": 3
   },
   "file_extension": ".py",
   "mimetype": "text/x-python",
   "name": "python",
   "nbconvert_exporter": "python",
   "pygments_lexer": "ipython3",
   "version": "3.8.5"
  }
 },
 "nbformat": 4,
 "nbformat_minor": 4
}
