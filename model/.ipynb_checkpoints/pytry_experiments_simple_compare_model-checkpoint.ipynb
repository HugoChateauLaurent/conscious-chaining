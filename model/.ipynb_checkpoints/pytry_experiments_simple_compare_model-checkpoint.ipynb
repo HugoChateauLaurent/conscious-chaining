{
 "cells": [
  {
   "cell_type": "code",
   "execution_count": 12,
   "metadata": {},
   "outputs": [],
   "source": [
    "import nengo\n",
    "import nengo_spa as spa\n",
    "import pytry\n",
    "import numpy as np\n",
    "from random import shuffle\n",
    "import random\n",
    "import sys, os\n",
    "import math\n",
    "from IPython import display\n",
    "import itertools\n",
    "\n",
    "\n",
    "# Import our classes\n",
    "sys.path.append('..')\n",
    "import experiments as xps\n",
    "from simple_compare_model import ExperimentRun\n",
    "\n",
    "# Select Nengo simulator according to whether we want to use ocl or not\n",
    "use_ocl = True\n",
    "if use_ocl:\n",
    "    import nengo_ocl\n",
    "    simulator_cls = nengo_ocl.Simulator\n",
    "else:\n",
    "    simulator_cls = nengo.Simulator\n",
    "    \n",
    "\n",
    "\n",
    "import matplotlib.pyplot as plt\n",
    "from matplotlib.colors import ListedColormap\n",
    "from cycler import cycler\n",
    "%matplotlib inline\n",
    "\n",
    "# color-blind accessibility\n",
    "colorblind_cycler = cycler('color', ['#006BA4', '#FF800E', '#ABABAB', '#595959', '#5F9ED1', '#C85200', '#898989', '#A2C8EC', '#FFBC79', '#CFCFCF'])\n",
    "plt.rc('axes', prop_cycle=(colorblind_cycler))\n",
    "\n",
    "\n",
    "def create_vocab(D, seed):\n",
    "    vocab = spa.Vocabulary(dimensions=D, pointer_gen=np.random.RandomState(seed))\n",
    "    keys = ['FIXATE', 'MASK', \\\n",
    "               'MORE','LESS', \\\n",
    "               'GET','SET', \\\n",
    "    'SIMPLE', 'CHAINED_ADD', 'CHAINED_SUB']\n",
    "    vocab.populate(\";\".join(keys))\n",
    "    vocab.populate(';'.join(['D'+str(i+1) for i in range(10)]))\n",
    "    vocab.populate('SOURCE ; CONTENT ;'+\n",
    "                      'V ; COM ; ADD ; SUB ; M')\n",
    "    vocab.populate(\";\".join([p+\"_SOURCE=(SOURCE*\"+p+\").normalized()\" for p in ['V', 'COM', 'ADD', 'SUB']])) # this is done to avoid similarity with other SPs\n",
    "    return vocab\n",
    "\n",
    "def create_xp(n_blocks_per_operation, n_trials_per_digit, n_different_digits, n_different_operations, stim_duration):\n",
    "    trials = xps.createTrials(n_blocks_per_operation, n_trials_per_digit, n_different_digits, n_different_operations, \n",
    "                              shuffle=True)\n",
    "    return xps.Xp1(0, trials, stim_duration=stim_duration,\n",
    "                             t_start=.5,\n",
    "                             t_answer=.5)"
   ]
  },
  {
   "cell_type": "markdown",
   "metadata": {},
   "source": [
    "# Model variables"
   ]
  },
  {
   "cell_type": "code",
   "execution_count": 13,
   "metadata": {},
   "outputs": [
    {
     "name": "stdout",
     "output_type": "stream",
     "text": [
      "running test\n",
      "Seed: 70245\n",
      "Number of neurons: 20250\n"
     ]
    },
    {
     "data": {
      "text/html": [
       "\n",
       "                <div id=\"ef213d4d-eab3-4d2c-b4ac-5d540c7f5d9e\" style=\"\n",
       "                    width: 100%;\n",
       "                    border: 1px solid #cfcfcf;\n",
       "                    border-radius: 4px;\n",
       "                    text-align: center;\n",
       "                    position: relative;\">\n",
       "                  <div class=\"pb-text\" style=\"\n",
       "                      position: absolute;\n",
       "                      width: 100%;\">\n",
       "                    0%\n",
       "                  </div>\n",
       "                  <div class=\"pb-fill\" style=\"\n",
       "                      background-color: #bdd2e6;\n",
       "                      width: 0%;\">\n",
       "                    <style type=\"text/css\" scoped=\"scoped\">\n",
       "                        @keyframes pb-fill-anim {\n",
       "                            0% { background-position: 0 0; }\n",
       "                            100% { background-position: 100px 0; }\n",
       "                        }\n",
       "                    </style>\n",
       "                    &nbsp;\n",
       "                  </div>\n",
       "                </div>"
      ],
      "text/plain": [
       "HtmlProgressBar cannot be displayed. Please use the TerminalProgressBar. It can be enabled with `nengo.rc.set('progress', 'progress_bar', 'nengo.utils.progress.TerminalProgressBar')`."
      ]
     },
     "metadata": {},
     "output_type": "display_data"
    },
    {
     "data": {
      "application/javascript": [
       "\n",
       "              (function () {\n",
       "                  var root = document.getElementById('ef213d4d-eab3-4d2c-b4ac-5d540c7f5d9e');\n",
       "                  var text = root.getElementsByClassName('pb-text')[0];\n",
       "                  var fill = root.getElementsByClassName('pb-fill')[0];\n",
       "\n",
       "                  text.innerHTML = 'Simulation finished in 0:00:39.';\n",
       "                  \n",
       "            if (100.0 > 0.) {\n",
       "                fill.style.transition = 'width 0.1s linear';\n",
       "            } else {\n",
       "                fill.style.transition = 'none';\n",
       "            }\n",
       "\n",
       "            fill.style.width = '100.0%';\n",
       "            fill.style.animation = 'none';\n",
       "            fill.style.backgroundImage = 'none'\n",
       "        \n",
       "                  \n",
       "                fill.style.animation = 'none';\n",
       "                fill.style.backgroundImage = 'none';\n",
       "            \n",
       "              })();\n",
       "        "
      ],
      "text/plain": [
       "<IPython.core.display.Javascript object>"
      ]
     },
     "metadata": {},
     "output_type": "display_data"
    },
    {
     "name": "stdout",
     "output_type": "stream",
     "text": [
      "seed = 70245\n",
      "backend = 'nengo_ocl'\n",
      "dt = 0.001\n",
      "neuron_type = 'default'\n",
      "n_neurons_scale = 1\n",
      "s_crosstalk = 1\n",
      "s_evidence = 4.5\n",
      "vocab = <nengo_spa.vocabulary.Vocabulary object at 0x7fa88deb5610>\n",
      "xp = <experiments.Xp1 object at 0x7fa879367350>\n",
      "proc_feedback = 0.5\n",
      "GW_feedback = 0.95\n",
      "GW_scale = 20\n",
      "BG_thr = 0.1\n",
      "BG_bias = 0.5\n",
      "RTs = [0.19200000000000006, 0.20800000000000018, 0.18999999999999995, 0.2649999999999997, 0.19200000000000017, 0.2029999999999994, 0.20800000000000018, 0.1869999999999994, 0.2680000000000007, 0.1880000000000006, 0.20899999999999963, 0.26200000000000045]\n",
      "feedbacks = [2, 2, 2, 2, 2, 2, 2, 2, 2, 2, 2, 2]\n",
      "model_actions = [2, 1, 1, 2, 2, 2, 1, 1, 2, 1, 1, 2]\n",
      "running test\n",
      "Seed: 18725\n",
      "Number of neurons: 20250\n"
     ]
    },
    {
     "data": {
      "text/html": [
       "\n",
       "                <div id=\"b499c3ee-dcfc-4a74-adb9-fd6c0fb397a5\" style=\"\n",
       "                    width: 100%;\n",
       "                    border: 1px solid #cfcfcf;\n",
       "                    border-radius: 4px;\n",
       "                    text-align: center;\n",
       "                    position: relative;\">\n",
       "                  <div class=\"pb-text\" style=\"\n",
       "                      position: absolute;\n",
       "                      width: 100%;\">\n",
       "                    0%\n",
       "                  </div>\n",
       "                  <div class=\"pb-fill\" style=\"\n",
       "                      background-color: #bdd2e6;\n",
       "                      width: 0%;\">\n",
       "                    <style type=\"text/css\" scoped=\"scoped\">\n",
       "                        @keyframes pb-fill-anim {\n",
       "                            0% { background-position: 0 0; }\n",
       "                            100% { background-position: 100px 0; }\n",
       "                        }\n",
       "                    </style>\n",
       "                    &nbsp;\n",
       "                  </div>\n",
       "                </div>"
      ],
      "text/plain": [
       "HtmlProgressBar cannot be displayed. Please use the TerminalProgressBar. It can be enabled with `nengo.rc.set('progress', 'progress_bar', 'nengo.utils.progress.TerminalProgressBar')`."
      ]
     },
     "metadata": {},
     "output_type": "display_data"
    },
    {
     "data": {
      "application/javascript": [
       "\n",
       "              (function () {\n",
       "                  var root = document.getElementById('b499c3ee-dcfc-4a74-adb9-fd6c0fb397a5');\n",
       "                  var text = root.getElementsByClassName('pb-text')[0];\n",
       "                  var fill = root.getElementsByClassName('pb-fill')[0];\n",
       "\n",
       "                  text.innerHTML = 'Simulation finished in 0:00:40.';\n",
       "                  \n",
       "            if (100.0 > 0.) {\n",
       "                fill.style.transition = 'width 0.1s linear';\n",
       "            } else {\n",
       "                fill.style.transition = 'none';\n",
       "            }\n",
       "\n",
       "            fill.style.width = '100.0%';\n",
       "            fill.style.animation = 'none';\n",
       "            fill.style.backgroundImage = 'none'\n",
       "        \n",
       "                  \n",
       "                fill.style.animation = 'none';\n",
       "                fill.style.backgroundImage = 'none';\n",
       "            \n",
       "              })();\n",
       "        "
      ],
      "text/plain": [
       "<IPython.core.display.Javascript object>"
      ]
     },
     "metadata": {},
     "output_type": "display_data"
    },
    {
     "name": "stdout",
     "output_type": "stream",
     "text": [
      "seed = 18725\n",
      "backend = 'nengo_ocl'\n",
      "dt = 0.001\n",
      "neuron_type = 'default'\n",
      "n_neurons_scale = 1\n",
      "s_crosstalk = 1\n",
      "s_evidence = 4.5\n",
      "vocab = <nengo_spa.vocabulary.Vocabulary object at 0x7fa82f5be990>\n",
      "xp = <experiments.Xp1 object at 0x7fa8b5316cd0>\n",
      "proc_feedback = 0.5\n",
      "GW_feedback = 0.95\n",
      "GW_scale = 20\n",
      "BG_thr = 0.1\n",
      "BG_bias = 0.5\n",
      "RTs = [0.20699999999999996, 0.14100000000000001, 0.13900000000000023, 0.2030000000000003, 0.1930000000000005, 0.14199999999999946, 0.19200000000000017, 0.19500000000000028, 0.13900000000000112, 0.14499999999999957, 0.20700000000000074, 0.14499999999999957]\n",
      "feedbacks = [2, 2, 2, 2, 2, 2, 2, 2, 2, 2, 2, 2]\n",
      "model_actions = [2, 1, 1, 2, 2, 1, 2, 2, 1, 1, 2, 1]\n",
      "running test\n",
      "Seed: 46799\n",
      "Number of neurons: 20250\n"
     ]
    },
    {
     "data": {
      "text/html": [
       "\n",
       "                <div id=\"676f4ab0-1933-41e0-8139-d07e7ea74d35\" style=\"\n",
       "                    width: 100%;\n",
       "                    border: 1px solid #cfcfcf;\n",
       "                    border-radius: 4px;\n",
       "                    text-align: center;\n",
       "                    position: relative;\">\n",
       "                  <div class=\"pb-text\" style=\"\n",
       "                      position: absolute;\n",
       "                      width: 100%;\">\n",
       "                    0%\n",
       "                  </div>\n",
       "                  <div class=\"pb-fill\" style=\"\n",
       "                      background-color: #bdd2e6;\n",
       "                      width: 0%;\">\n",
       "                    <style type=\"text/css\" scoped=\"scoped\">\n",
       "                        @keyframes pb-fill-anim {\n",
       "                            0% { background-position: 0 0; }\n",
       "                            100% { background-position: 100px 0; }\n",
       "                        }\n",
       "                    </style>\n",
       "                    &nbsp;\n",
       "                  </div>\n",
       "                </div>"
      ],
      "text/plain": [
       "HtmlProgressBar cannot be displayed. Please use the TerminalProgressBar. It can be enabled with `nengo.rc.set('progress', 'progress_bar', 'nengo.utils.progress.TerminalProgressBar')`."
      ]
     },
     "metadata": {},
     "output_type": "display_data"
    },
    {
     "data": {
      "application/javascript": [
       "\n",
       "              (function () {\n",
       "                  var root = document.getElementById('676f4ab0-1933-41e0-8139-d07e7ea74d35');\n",
       "                  var text = root.getElementsByClassName('pb-text')[0];\n",
       "                  var fill = root.getElementsByClassName('pb-fill')[0];\n",
       "\n",
       "                  text.innerHTML = 'Simulation finished in 0:00:40.';\n",
       "                  \n",
       "            if (100.0 > 0.) {\n",
       "                fill.style.transition = 'width 0.1s linear';\n",
       "            } else {\n",
       "                fill.style.transition = 'none';\n",
       "            }\n",
       "\n",
       "            fill.style.width = '100.0%';\n",
       "            fill.style.animation = 'none';\n",
       "            fill.style.backgroundImage = 'none'\n",
       "        \n",
       "                  \n",
       "                fill.style.animation = 'none';\n",
       "                fill.style.backgroundImage = 'none';\n",
       "            \n",
       "              })();\n",
       "        "
      ],
      "text/plain": [
       "<IPython.core.display.Javascript object>"
      ]
     },
     "metadata": {},
     "output_type": "display_data"
    },
    {
     "name": "stdout",
     "output_type": "stream",
     "text": [
      "seed = 46799\n",
      "backend = 'nengo_ocl'\n",
      "dt = 0.001\n",
      "neuron_type = 'default'\n",
      "n_neurons_scale = 1\n",
      "s_crosstalk = 1\n",
      "s_evidence = 4.5\n",
      "vocab = <nengo_spa.vocabulary.Vocabulary object at 0x7fa88445a490>\n",
      "xp = <experiments.Xp1 object at 0x7fa88d6e6d10>\n",
      "proc_feedback = 0.5\n",
      "GW_feedback = 0.95\n",
      "GW_scale = 20\n",
      "BG_thr = 0.1\n",
      "BG_bias = 0.5\n",
      "RTs = [0.239, 0.21300000000000008, 0.2400000000000002, 0.29600000000000026, 0.21300000000000008, 0.2699999999999996, 0.21600000000000108, 0.31700000000000017, 0.31099999999999994, 0.24399999999999977, 0.2710000000000008, 0.2710000000000008]\n",
      "feedbacks = [2, 2, 2, 2, 2, 2, 2, 2, 2, 2, 2, 2]\n",
      "model_actions = [2, 2, 2, 1, 2, 1, 2, 1, 1, 2, 1, 1]\n",
      "running test\n",
      "Seed: 34366\n",
      "Number of neurons: 20250\n"
     ]
    },
    {
     "data": {
      "text/html": [
       "\n",
       "                <div id=\"d5e9f6c2-6bd2-4367-b967-7f3d8da6dcb0\" style=\"\n",
       "                    width: 100%;\n",
       "                    border: 1px solid #cfcfcf;\n",
       "                    border-radius: 4px;\n",
       "                    text-align: center;\n",
       "                    position: relative;\">\n",
       "                  <div class=\"pb-text\" style=\"\n",
       "                      position: absolute;\n",
       "                      width: 100%;\">\n",
       "                    0%\n",
       "                  </div>\n",
       "                  <div class=\"pb-fill\" style=\"\n",
       "                      background-color: #bdd2e6;\n",
       "                      width: 0%;\">\n",
       "                    <style type=\"text/css\" scoped=\"scoped\">\n",
       "                        @keyframes pb-fill-anim {\n",
       "                            0% { background-position: 0 0; }\n",
       "                            100% { background-position: 100px 0; }\n",
       "                        }\n",
       "                    </style>\n",
       "                    &nbsp;\n",
       "                  </div>\n",
       "                </div>"
      ],
      "text/plain": [
       "HtmlProgressBar cannot be displayed. Please use the TerminalProgressBar. It can be enabled with `nengo.rc.set('progress', 'progress_bar', 'nengo.utils.progress.TerminalProgressBar')`."
      ]
     },
     "metadata": {},
     "output_type": "display_data"
    },
    {
     "data": {
      "application/javascript": [
       "\n",
       "              (function () {\n",
       "                  var root = document.getElementById('d5e9f6c2-6bd2-4367-b967-7f3d8da6dcb0');\n",
       "                  var text = root.getElementsByClassName('pb-text')[0];\n",
       "                  var fill = root.getElementsByClassName('pb-fill')[0];\n",
       "\n",
       "                  text.innerHTML = 'Simulation finished in 0:00:41.';\n",
       "                  \n",
       "            if (100.0 > 0.) {\n",
       "                fill.style.transition = 'width 0.1s linear';\n",
       "            } else {\n",
       "                fill.style.transition = 'none';\n",
       "            }\n",
       "\n",
       "            fill.style.width = '100.0%';\n",
       "            fill.style.animation = 'none';\n",
       "            fill.style.backgroundImage = 'none'\n",
       "        \n",
       "                  \n",
       "                fill.style.animation = 'none';\n",
       "                fill.style.backgroundImage = 'none';\n",
       "            \n",
       "              })();\n",
       "        "
      ],
      "text/plain": [
       "<IPython.core.display.Javascript object>"
      ]
     },
     "metadata": {},
     "output_type": "display_data"
    },
    {
     "name": "stdout",
     "output_type": "stream",
     "text": [
      "seed = 34366\n",
      "backend = 'nengo_ocl'\n",
      "dt = 0.001\n",
      "neuron_type = 'default'\n",
      "n_neurons_scale = 1\n",
      "s_crosstalk = 1\n",
      "s_evidence = 4.5\n",
      "vocab = <nengo_spa.vocabulary.Vocabulary object at 0x7fa88ca4a490>\n",
      "xp = <experiments.Xp1 object at 0x7fa88445ae10>\n",
      "proc_feedback = 0.5\n",
      "GW_feedback = 0.95\n",
      "GW_scale = 20\n",
      "BG_thr = 0.1\n",
      "BG_bias = 0.5\n",
      "RTs = [0.16300000000000003, 0.18100000000000005, 0.18100000000000005, 0.1719999999999997, 0.16900000000000048, 0.1720000000000006, 0.16699999999999982, 0.15000000000000036, 0.1850000000000005, 0.15300000000000047, 0.1509999999999998, 0.16400000000000148]\n",
      "feedbacks = [2, 2, 2, 2, 2, 2, 2, 2, 2, 2, 2, 2]\n",
      "model_actions = [1, 2, 2, 1, 1, 1, 1, 2, 2, 2, 2, 1]\n",
      "running test\n",
      "Seed: 10781\n",
      "Number of neurons: 20250\n"
     ]
    },
    {
     "data": {
      "text/html": [
       "\n",
       "                <div id=\"ab877923-abc1-4d32-bddc-f9099963527c\" style=\"\n",
       "                    width: 100%;\n",
       "                    border: 1px solid #cfcfcf;\n",
       "                    border-radius: 4px;\n",
       "                    text-align: center;\n",
       "                    position: relative;\">\n",
       "                  <div class=\"pb-text\" style=\"\n",
       "                      position: absolute;\n",
       "                      width: 100%;\">\n",
       "                    0%\n",
       "                  </div>\n",
       "                  <div class=\"pb-fill\" style=\"\n",
       "                      background-color: #bdd2e6;\n",
       "                      width: 0%;\">\n",
       "                    <style type=\"text/css\" scoped=\"scoped\">\n",
       "                        @keyframes pb-fill-anim {\n",
       "                            0% { background-position: 0 0; }\n",
       "                            100% { background-position: 100px 0; }\n",
       "                        }\n",
       "                    </style>\n",
       "                    &nbsp;\n",
       "                  </div>\n",
       "                </div>"
      ],
      "text/plain": [
       "HtmlProgressBar cannot be displayed. Please use the TerminalProgressBar. It can be enabled with `nengo.rc.set('progress', 'progress_bar', 'nengo.utils.progress.TerminalProgressBar')`."
      ]
     },
     "metadata": {},
     "output_type": "display_data"
    },
    {
     "data": {
      "application/javascript": [
       "\n",
       "              (function () {\n",
       "                  var root = document.getElementById('ab877923-abc1-4d32-bddc-f9099963527c');\n",
       "                  var text = root.getElementsByClassName('pb-text')[0];\n",
       "                  var fill = root.getElementsByClassName('pb-fill')[0];\n",
       "\n",
       "                  text.innerHTML = 'Simulation finished in 0:00:38.';\n",
       "                  \n",
       "            if (100.0 > 0.) {\n",
       "                fill.style.transition = 'width 0.1s linear';\n",
       "            } else {\n",
       "                fill.style.transition = 'none';\n",
       "            }\n",
       "\n",
       "            fill.style.width = '100.0%';\n",
       "            fill.style.animation = 'none';\n",
       "            fill.style.backgroundImage = 'none'\n",
       "        \n",
       "                  \n",
       "                fill.style.animation = 'none';\n",
       "                fill.style.backgroundImage = 'none';\n",
       "            \n",
       "              })();\n",
       "        "
      ],
      "text/plain": [
       "<IPython.core.display.Javascript object>"
      ]
     },
     "metadata": {},
     "output_type": "display_data"
    },
    {
     "name": "stdout",
     "output_type": "stream",
     "text": [
      "seed = 10781\n",
      "backend = 'nengo_ocl'\n",
      "dt = 0.001\n",
      "neuron_type = 'default'\n",
      "n_neurons_scale = 1\n",
      "s_crosstalk = 1\n",
      "s_evidence = 4.5\n",
      "vocab = <nengo_spa.vocabulary.Vocabulary object at 0x7fa884683fd0>\n",
      "xp = <experiments.Xp1 object at 0x7fa854f0b610>\n",
      "proc_feedback = 0.5\n",
      "GW_feedback = 0.95\n",
      "GW_scale = 20\n",
      "BG_thr = 0.1\n",
      "BG_bias = 0.5\n",
      "RTs = [0.22099999999999997, 0.242, 0.2200000000000002, 0.15300000000000047, 0.2240000000000002, 0.2400000000000002, 0.15399999999999991, 0.15399999999999991, 0.1479999999999997, 0.1509999999999998, 0.1490000000000009, 0.24200000000000088]\n",
      "feedbacks = [2, 2, 2, 2, 2, 2, 2, 2, 2, 2, 2, 2]\n",
      "model_actions = [2, 2, 2, 1, 2, 2, 1, 1, 1, 1, 1, 2]\n",
      "running test\n",
      "Seed: 32646\n",
      "Number of neurons: 20250\n"
     ]
    },
    {
     "data": {
      "text/html": [
       "\n",
       "                <div id=\"44656104-11c3-4476-a1f8-da708d8c2a37\" style=\"\n",
       "                    width: 100%;\n",
       "                    border: 1px solid #cfcfcf;\n",
       "                    border-radius: 4px;\n",
       "                    text-align: center;\n",
       "                    position: relative;\">\n",
       "                  <div class=\"pb-text\" style=\"\n",
       "                      position: absolute;\n",
       "                      width: 100%;\">\n",
       "                    0%\n",
       "                  </div>\n",
       "                  <div class=\"pb-fill\" style=\"\n",
       "                      background-color: #bdd2e6;\n",
       "                      width: 0%;\">\n",
       "                    <style type=\"text/css\" scoped=\"scoped\">\n",
       "                        @keyframes pb-fill-anim {\n",
       "                            0% { background-position: 0 0; }\n",
       "                            100% { background-position: 100px 0; }\n",
       "                        }\n",
       "                    </style>\n",
       "                    &nbsp;\n",
       "                  </div>\n",
       "                </div>"
      ],
      "text/plain": [
       "HtmlProgressBar cannot be displayed. Please use the TerminalProgressBar. It can be enabled with `nengo.rc.set('progress', 'progress_bar', 'nengo.utils.progress.TerminalProgressBar')`."
      ]
     },
     "metadata": {},
     "output_type": "display_data"
    },
    {
     "data": {
      "application/javascript": [
       "\n",
       "              (function () {\n",
       "                  var root = document.getElementById('44656104-11c3-4476-a1f8-da708d8c2a37');\n",
       "                  var text = root.getElementsByClassName('pb-text')[0];\n",
       "                  var fill = root.getElementsByClassName('pb-fill')[0];\n",
       "\n",
       "                  text.innerHTML = 'Simulation finished in 0:00:39.';\n",
       "                  \n",
       "            if (100.0 > 0.) {\n",
       "                fill.style.transition = 'width 0.1s linear';\n",
       "            } else {\n",
       "                fill.style.transition = 'none';\n",
       "            }\n",
       "\n",
       "            fill.style.width = '100.0%';\n",
       "            fill.style.animation = 'none';\n",
       "            fill.style.backgroundImage = 'none'\n",
       "        \n",
       "                  \n",
       "                fill.style.animation = 'none';\n",
       "                fill.style.backgroundImage = 'none';\n",
       "            \n",
       "              })();\n",
       "        "
      ],
      "text/plain": [
       "<IPython.core.display.Javascript object>"
      ]
     },
     "metadata": {},
     "output_type": "display_data"
    },
    {
     "name": "stdout",
     "output_type": "stream",
     "text": [
      "seed = 32646\n",
      "backend = 'nengo_ocl'\n",
      "dt = 0.001\n",
      "neuron_type = 'default'\n",
      "n_neurons_scale = 1\n",
      "s_crosstalk = 1\n",
      "s_evidence = 4.5\n",
      "vocab = <nengo_spa.vocabulary.Vocabulary object at 0x7fa852ad4790>\n",
      "xp = <experiments.Xp1 object at 0x7fa8542d6050>\n",
      "proc_feedback = 0.5\n",
      "GW_feedback = 0.95\n",
      "GW_scale = 20\n",
      "BG_thr = 0.1\n",
      "BG_bias = 0.5\n",
      "RTs = [0.19200000000000006, 0.2610000000000001, 0.26000000000000023, 0.18299999999999983, 0.1930000000000005, 0.1880000000000006, 0.26200000000000045, 0.1880000000000006, 0.2110000000000003, 0.2110000000000003, 0.20599999999999952, 0.21699999999999875]\n",
      "feedbacks = [2, 2, 2, 2, 2, 2, 2, 2, 2, 2, 2, 2]\n",
      "model_actions = [2, 2, 2, 1, 2, 1, 2, 1, 1, 1, 2, 1]\n",
      "running test\n",
      "Seed: 80072\n",
      "Number of neurons: 20250\n"
     ]
    },
    {
     "data": {
      "text/html": [
       "\n",
       "                <div id=\"eda12b21-15e1-4bd3-810a-36178eb502e1\" style=\"\n",
       "                    width: 100%;\n",
       "                    border: 1px solid #cfcfcf;\n",
       "                    border-radius: 4px;\n",
       "                    text-align: center;\n",
       "                    position: relative;\">\n",
       "                  <div class=\"pb-text\" style=\"\n",
       "                      position: absolute;\n",
       "                      width: 100%;\">\n",
       "                    0%\n",
       "                  </div>\n",
       "                  <div class=\"pb-fill\" style=\"\n",
       "                      background-color: #bdd2e6;\n",
       "                      width: 0%;\">\n",
       "                    <style type=\"text/css\" scoped=\"scoped\">\n",
       "                        @keyframes pb-fill-anim {\n",
       "                            0% { background-position: 0 0; }\n",
       "                            100% { background-position: 100px 0; }\n",
       "                        }\n",
       "                    </style>\n",
       "                    &nbsp;\n",
       "                  </div>\n",
       "                </div>"
      ],
      "text/plain": [
       "HtmlProgressBar cannot be displayed. Please use the TerminalProgressBar. It can be enabled with `nengo.rc.set('progress', 'progress_bar', 'nengo.utils.progress.TerminalProgressBar')`."
      ]
     },
     "metadata": {},
     "output_type": "display_data"
    },
    {
     "data": {
      "application/javascript": [
       "\n",
       "              (function () {\n",
       "                  var root = document.getElementById('eda12b21-15e1-4bd3-810a-36178eb502e1');\n",
       "                  var text = root.getElementsByClassName('pb-text')[0];\n",
       "                  var fill = root.getElementsByClassName('pb-fill')[0];\n",
       "\n",
       "                  text.innerHTML = 'Simulation finished in 0:00:39.';\n",
       "                  \n",
       "            if (100.0 > 0.) {\n",
       "                fill.style.transition = 'width 0.1s linear';\n",
       "            } else {\n",
       "                fill.style.transition = 'none';\n",
       "            }\n",
       "\n",
       "            fill.style.width = '100.0%';\n",
       "            fill.style.animation = 'none';\n",
       "            fill.style.backgroundImage = 'none'\n",
       "        \n",
       "                  \n",
       "                fill.style.animation = 'none';\n",
       "                fill.style.backgroundImage = 'none';\n",
       "            \n",
       "              })();\n",
       "        "
      ],
      "text/plain": [
       "<IPython.core.display.Javascript object>"
      ]
     },
     "metadata": {},
     "output_type": "display_data"
    },
    {
     "name": "stdout",
     "output_type": "stream",
     "text": [
      "seed = 80072\n",
      "backend = 'nengo_ocl'\n",
      "dt = 0.001\n",
      "neuron_type = 'default'\n",
      "n_neurons_scale = 1\n",
      "s_crosstalk = 1\n",
      "s_evidence = 4.5\n",
      "vocab = <nengo_spa.vocabulary.Vocabulary object at 0x7fa82cdb4a90>\n",
      "xp = <experiments.Xp1 object at 0x7fa884631050>\n",
      "proc_feedback = 0.5\n",
      "GW_feedback = 0.95\n",
      "GW_scale = 20\n",
      "BG_thr = 0.1\n",
      "BG_bias = 0.5\n",
      "RTs = [0.18200000000000005, 0.27300000000000013, 0.3320000000000003, 0.24399999999999977, 0.28200000000000003, 0.32200000000000095, 0.24399999999999977, 0.17900000000000027, 0.18200000000000038, 0.24399999999999977, 0.3000000000000007, 0.28000000000000114]\n",
      "feedbacks = [2, 2, 2, 2, 2, 2, 2, 2, 2, 2, 2, 2]\n",
      "model_actions = [1, 2, 2, 1, 2, 2, 1, 1, 1, 1, 2, 2]\n",
      "running test\n",
      "Seed: 73864\n",
      "Number of neurons: 20250\n"
     ]
    },
    {
     "data": {
      "text/html": [
       "\n",
       "                <div id=\"8b14b59b-e19a-4156-b102-f6e2792eb376\" style=\"\n",
       "                    width: 100%;\n",
       "                    border: 1px solid #cfcfcf;\n",
       "                    border-radius: 4px;\n",
       "                    text-align: center;\n",
       "                    position: relative;\">\n",
       "                  <div class=\"pb-text\" style=\"\n",
       "                      position: absolute;\n",
       "                      width: 100%;\">\n",
       "                    0%\n",
       "                  </div>\n",
       "                  <div class=\"pb-fill\" style=\"\n",
       "                      background-color: #bdd2e6;\n",
       "                      width: 0%;\">\n",
       "                    <style type=\"text/css\" scoped=\"scoped\">\n",
       "                        @keyframes pb-fill-anim {\n",
       "                            0% { background-position: 0 0; }\n",
       "                            100% { background-position: 100px 0; }\n",
       "                        }\n",
       "                    </style>\n",
       "                    &nbsp;\n",
       "                  </div>\n",
       "                </div>"
      ],
      "text/plain": [
       "HtmlProgressBar cannot be displayed. Please use the TerminalProgressBar. It can be enabled with `nengo.rc.set('progress', 'progress_bar', 'nengo.utils.progress.TerminalProgressBar')`."
      ]
     },
     "metadata": {},
     "output_type": "display_data"
    },
    {
     "data": {
      "application/javascript": [
       "\n",
       "              (function () {\n",
       "                  var root = document.getElementById('8b14b59b-e19a-4156-b102-f6e2792eb376');\n",
       "                  var text = root.getElementsByClassName('pb-text')[0];\n",
       "                  var fill = root.getElementsByClassName('pb-fill')[0];\n",
       "\n",
       "                  text.innerHTML = 'Simulation finished in 0:00:44.';\n",
       "                  \n",
       "            if (100.0 > 0.) {\n",
       "                fill.style.transition = 'width 0.1s linear';\n",
       "            } else {\n",
       "                fill.style.transition = 'none';\n",
       "            }\n",
       "\n",
       "            fill.style.width = '100.0%';\n",
       "            fill.style.animation = 'none';\n",
       "            fill.style.backgroundImage = 'none'\n",
       "        \n",
       "                  \n",
       "                fill.style.animation = 'none';\n",
       "                fill.style.backgroundImage = 'none';\n",
       "            \n",
       "              })();\n",
       "        "
      ],
      "text/plain": [
       "<IPython.core.display.Javascript object>"
      ]
     },
     "metadata": {},
     "output_type": "display_data"
    },
    {
     "name": "stdout",
     "output_type": "stream",
     "text": [
      "seed = 73864\n",
      "backend = 'nengo_ocl'\n",
      "dt = 0.001\n",
      "neuron_type = 'default'\n",
      "n_neurons_scale = 1\n",
      "s_crosstalk = 1\n",
      "s_evidence = 4.5\n",
      "vocab = <nengo_spa.vocabulary.Vocabulary object at 0x7fa8502df410>\n",
      "xp = <experiments.Xp1 object at 0x7fa884631310>\n",
      "proc_feedback = 0.5\n",
      "GW_feedback = 0.95\n",
      "GW_scale = 20\n",
      "BG_thr = 0.1\n",
      "BG_bias = 0.5\n",
      "RTs = [0.18300000000000005, 0.18000000000000016, 0.17399999999999993, 0.17999999999999972, 0.20399999999999974, 0.16300000000000026, 0.20500000000000007, 0.1739999999999995, 0.16600000000000037, 0.1750000000000007, 0.21000000000000085, 0.16400000000000148]\n",
      "feedbacks = [2, 2, 2, 2, 2, 2, 2, 2, 2, 2, 2, 2]\n",
      "model_actions = [1, 1, 2, 1, 2, 1, 2, 2, 1, 2, 2, 1]\n",
      "running test\n",
      "Seed: 84935\n",
      "Number of neurons: 20250\n"
     ]
    },
    {
     "data": {
      "text/html": [
       "\n",
       "                <div id=\"c691c379-6a70-4ae2-b7a9-bbce3086245c\" style=\"\n",
       "                    width: 100%;\n",
       "                    border: 1px solid #cfcfcf;\n",
       "                    border-radius: 4px;\n",
       "                    text-align: center;\n",
       "                    position: relative;\">\n",
       "                  <div class=\"pb-text\" style=\"\n",
       "                      position: absolute;\n",
       "                      width: 100%;\">\n",
       "                    0%\n",
       "                  </div>\n",
       "                  <div class=\"pb-fill\" style=\"\n",
       "                      background-color: #bdd2e6;\n",
       "                      width: 0%;\">\n",
       "                    <style type=\"text/css\" scoped=\"scoped\">\n",
       "                        @keyframes pb-fill-anim {\n",
       "                            0% { background-position: 0 0; }\n",
       "                            100% { background-position: 100px 0; }\n",
       "                        }\n",
       "                    </style>\n",
       "                    &nbsp;\n",
       "                  </div>\n",
       "                </div>"
      ],
      "text/plain": [
       "HtmlProgressBar cannot be displayed. Please use the TerminalProgressBar. It can be enabled with `nengo.rc.set('progress', 'progress_bar', 'nengo.utils.progress.TerminalProgressBar')`."
      ]
     },
     "metadata": {},
     "output_type": "display_data"
    },
    {
     "data": {
      "application/javascript": [
       "\n",
       "              (function () {\n",
       "                  var root = document.getElementById('c691c379-6a70-4ae2-b7a9-bbce3086245c');\n",
       "                  var text = root.getElementsByClassName('pb-text')[0];\n",
       "                  var fill = root.getElementsByClassName('pb-fill')[0];\n",
       "\n",
       "                  text.innerHTML = 'Simulation finished in 0:00:45.';\n",
       "                  \n",
       "            if (100.0 > 0.) {\n",
       "                fill.style.transition = 'width 0.1s linear';\n",
       "            } else {\n",
       "                fill.style.transition = 'none';\n",
       "            }\n",
       "\n",
       "            fill.style.width = '100.0%';\n",
       "            fill.style.animation = 'none';\n",
       "            fill.style.backgroundImage = 'none'\n",
       "        \n",
       "                  \n",
       "                fill.style.animation = 'none';\n",
       "                fill.style.backgroundImage = 'none';\n",
       "            \n",
       "              })();\n",
       "        "
      ],
      "text/plain": [
       "<IPython.core.display.Javascript object>"
      ]
     },
     "metadata": {},
     "output_type": "display_data"
    },
    {
     "name": "stdout",
     "output_type": "stream",
     "text": [
      "seed = 84935\n",
      "backend = 'nengo_ocl'\n",
      "dt = 0.001\n",
      "neuron_type = 'default'\n",
      "n_neurons_scale = 1\n",
      "s_crosstalk = 1\n",
      "s_evidence = 4.5\n",
      "vocab = <nengo_spa.vocabulary.Vocabulary object at 0x7fa8502df2d0>\n",
      "xp = <experiments.Xp1 object at 0x7fa8b914c150>\n",
      "proc_feedback = 0.5\n",
      "GW_feedback = 0.95\n",
      "GW_scale = 20\n",
      "BG_thr = 0.1\n",
      "BG_bias = 0.5\n",
      "RTs = [0.15000000000000002, 0.14700000000000024, 0.15500000000000025, 0.16800000000000015, 0.1850000000000005, 0.18599999999999994, 0.17999999999999972, 0.16500000000000092, 0.16500000000000092, 0.16000000000000014, 0.16300000000000026, 0.16100000000000136]\n",
      "feedbacks = [2, 2, 2, 2, 2, 2, 2, 2, 2, 2, 2, 2]\n",
      "model_actions = [1, 1, 1, 2, 1, 1, 1, 2, 2, 2, 2, 2]\n",
      "running test\n",
      "Seed: 56092\n",
      "Number of neurons: 20250\n"
     ]
    },
    {
     "data": {
      "text/html": [
       "\n",
       "                <div id=\"3ceff4e6-ed06-4474-b2d9-3ee1ce11b115\" style=\"\n",
       "                    width: 100%;\n",
       "                    border: 1px solid #cfcfcf;\n",
       "                    border-radius: 4px;\n",
       "                    text-align: center;\n",
       "                    position: relative;\">\n",
       "                  <div class=\"pb-text\" style=\"\n",
       "                      position: absolute;\n",
       "                      width: 100%;\">\n",
       "                    0%\n",
       "                  </div>\n",
       "                  <div class=\"pb-fill\" style=\"\n",
       "                      background-color: #bdd2e6;\n",
       "                      width: 0%;\">\n",
       "                    <style type=\"text/css\" scoped=\"scoped\">\n",
       "                        @keyframes pb-fill-anim {\n",
       "                            0% { background-position: 0 0; }\n",
       "                            100% { background-position: 100px 0; }\n",
       "                        }\n",
       "                    </style>\n",
       "                    &nbsp;\n",
       "                  </div>\n",
       "                </div>"
      ],
      "text/plain": [
       "HtmlProgressBar cannot be displayed. Please use the TerminalProgressBar. It can be enabled with `nengo.rc.set('progress', 'progress_bar', 'nengo.utils.progress.TerminalProgressBar')`."
      ]
     },
     "metadata": {},
     "output_type": "display_data"
    },
    {
     "data": {
      "application/javascript": [
       "\n",
       "              (function () {\n",
       "                  var root = document.getElementById('3ceff4e6-ed06-4474-b2d9-3ee1ce11b115');\n",
       "                  var text = root.getElementsByClassName('pb-text')[0];\n",
       "                  var fill = root.getElementsByClassName('pb-fill')[0];\n",
       "\n",
       "                  text.innerHTML = 'Simulation finished in 0:00:38.';\n",
       "                  \n",
       "            if (100.0 > 0.) {\n",
       "                fill.style.transition = 'width 0.1s linear';\n",
       "            } else {\n",
       "                fill.style.transition = 'none';\n",
       "            }\n",
       "\n",
       "            fill.style.width = '100.0%';\n",
       "            fill.style.animation = 'none';\n",
       "            fill.style.backgroundImage = 'none'\n",
       "        \n",
       "                  \n",
       "                fill.style.animation = 'none';\n",
       "                fill.style.backgroundImage = 'none';\n",
       "            \n",
       "              })();\n",
       "        "
      ],
      "text/plain": [
       "<IPython.core.display.Javascript object>"
      ]
     },
     "metadata": {},
     "output_type": "display_data"
    },
    {
     "name": "stdout",
     "output_type": "stream",
     "text": [
      "seed = 56092\n",
      "backend = 'nengo_ocl'\n",
      "dt = 0.001\n",
      "neuron_type = 'default'\n",
      "n_neurons_scale = 1\n",
      "s_crosstalk = 1\n",
      "s_evidence = 4.5\n",
      "vocab = <nengo_spa.vocabulary.Vocabulary object at 0x7fa88e24d810>\n",
      "xp = <experiments.Xp1 object at 0x7fa8b4ab7e50>\n",
      "proc_feedback = 0.5\n",
      "GW_feedback = 0.95\n",
      "GW_scale = 20\n",
      "BG_thr = 0.1\n",
      "BG_bias = 0.5\n",
      "RTs = [0.15900000000000003, 0.16400000000000015, 0.19100000000000028, 0.16900000000000048, 0.18799999999999972, 0.1590000000000007, 0.1590000000000007, 0.1869999999999994, 0.16900000000000048, 0.16600000000000037, 0.1620000000000008, 0.16300000000000026]\n",
      "feedbacks = [2, 2, 2, 2, 2, 2, 2, 2, 2, 2, 2, 2]\n",
      "model_actions = [2, 1, 2, 1, 2, 1, 2, 2, 1, 1, 1, 2]\n",
      "running test\n",
      "Seed: 95705\n",
      "Number of neurons: 20250\n"
     ]
    },
    {
     "data": {
      "text/html": [
       "\n",
       "                <div id=\"3dc419e2-bebf-4b1f-aea9-df5b6f55f57a\" style=\"\n",
       "                    width: 100%;\n",
       "                    border: 1px solid #cfcfcf;\n",
       "                    border-radius: 4px;\n",
       "                    text-align: center;\n",
       "                    position: relative;\">\n",
       "                  <div class=\"pb-text\" style=\"\n",
       "                      position: absolute;\n",
       "                      width: 100%;\">\n",
       "                    0%\n",
       "                  </div>\n",
       "                  <div class=\"pb-fill\" style=\"\n",
       "                      background-color: #bdd2e6;\n",
       "                      width: 0%;\">\n",
       "                    <style type=\"text/css\" scoped=\"scoped\">\n",
       "                        @keyframes pb-fill-anim {\n",
       "                            0% { background-position: 0 0; }\n",
       "                            100% { background-position: 100px 0; }\n",
       "                        }\n",
       "                    </style>\n",
       "                    &nbsp;\n",
       "                  </div>\n",
       "                </div>"
      ],
      "text/plain": [
       "HtmlProgressBar cannot be displayed. Please use the TerminalProgressBar. It can be enabled with `nengo.rc.set('progress', 'progress_bar', 'nengo.utils.progress.TerminalProgressBar')`."
      ]
     },
     "metadata": {},
     "output_type": "display_data"
    },
    {
     "data": {
      "application/javascript": [
       "\n",
       "              (function () {\n",
       "                  var root = document.getElementById('3dc419e2-bebf-4b1f-aea9-df5b6f55f57a');\n",
       "                  var text = root.getElementsByClassName('pb-text')[0];\n",
       "                  var fill = root.getElementsByClassName('pb-fill')[0];\n",
       "\n",
       "                  text.innerHTML = 'Simulation finished in 0:00:37.';\n",
       "                  \n",
       "            if (100.0 > 0.) {\n",
       "                fill.style.transition = 'width 0.1s linear';\n",
       "            } else {\n",
       "                fill.style.transition = 'none';\n",
       "            }\n",
       "\n",
       "            fill.style.width = '100.0%';\n",
       "            fill.style.animation = 'none';\n",
       "            fill.style.backgroundImage = 'none'\n",
       "        \n",
       "                  \n",
       "                fill.style.animation = 'none';\n",
       "                fill.style.backgroundImage = 'none';\n",
       "            \n",
       "              })();\n",
       "        "
      ],
      "text/plain": [
       "<IPython.core.display.Javascript object>"
      ]
     },
     "metadata": {},
     "output_type": "display_data"
    },
    {
     "name": "stdout",
     "output_type": "stream",
     "text": [
      "seed = 95705\n",
      "backend = 'nengo_ocl'\n",
      "dt = 0.001\n",
      "neuron_type = 'default'\n",
      "n_neurons_scale = 1\n",
      "s_crosstalk = 1\n",
      "s_evidence = 4.5\n",
      "vocab = <nengo_spa.vocabulary.Vocabulary object at 0x7fa852ac2410>\n",
      "xp = <experiments.Xp1 object at 0x7fa8b4a9ea90>\n",
      "proc_feedback = 0.5\n",
      "GW_feedback = 0.95\n",
      "GW_scale = 20\n",
      "BG_thr = 0.1\n",
      "BG_bias = 0.5\n",
      "RTs = [0.19500000000000006, 0.24299999999999988, 0.19399999999999995, 0.2010000000000005, 0.24800000000000022, 0.1980000000000004, 0.2010000000000005, 0.245000000000001, 0.1980000000000004, 0.19500000000000028, 0.19700000000000095, 0.19699999999999918]\n",
      "feedbacks = [2, 2, 2, 2, 2, 2, 2, 2, 2, 2, 2, 2]\n",
      "model_actions = [1, 1, 2, 2, 1, 2, 2, 1, 1, 1, 2, 2]\n",
      "running test\n",
      "Seed: 4558\n",
      "Number of neurons: 20250\n"
     ]
    },
    {
     "data": {
      "text/html": [
       "\n",
       "                <div id=\"013d3185-5c90-4e7b-b426-f78eed98c448\" style=\"\n",
       "                    width: 100%;\n",
       "                    border: 1px solid #cfcfcf;\n",
       "                    border-radius: 4px;\n",
       "                    text-align: center;\n",
       "                    position: relative;\">\n",
       "                  <div class=\"pb-text\" style=\"\n",
       "                      position: absolute;\n",
       "                      width: 100%;\">\n",
       "                    0%\n",
       "                  </div>\n",
       "                  <div class=\"pb-fill\" style=\"\n",
       "                      background-color: #bdd2e6;\n",
       "                      width: 0%;\">\n",
       "                    <style type=\"text/css\" scoped=\"scoped\">\n",
       "                        @keyframes pb-fill-anim {\n",
       "                            0% { background-position: 0 0; }\n",
       "                            100% { background-position: 100px 0; }\n",
       "                        }\n",
       "                    </style>\n",
       "                    &nbsp;\n",
       "                  </div>\n",
       "                </div>"
      ],
      "text/plain": [
       "HtmlProgressBar cannot be displayed. Please use the TerminalProgressBar. It can be enabled with `nengo.rc.set('progress', 'progress_bar', 'nengo.utils.progress.TerminalProgressBar')`."
      ]
     },
     "metadata": {},
     "output_type": "display_data"
    },
    {
     "data": {
      "application/javascript": [
       "\n",
       "              (function () {\n",
       "                  var root = document.getElementById('013d3185-5c90-4e7b-b426-f78eed98c448');\n",
       "                  var text = root.getElementsByClassName('pb-text')[0];\n",
       "                  var fill = root.getElementsByClassName('pb-fill')[0];\n",
       "\n",
       "                  text.innerHTML = 'Simulation finished in 0:00:44.';\n",
       "                  \n",
       "            if (100.0 > 0.) {\n",
       "                fill.style.transition = 'width 0.1s linear';\n",
       "            } else {\n",
       "                fill.style.transition = 'none';\n",
       "            }\n",
       "\n",
       "            fill.style.width = '100.0%';\n",
       "            fill.style.animation = 'none';\n",
       "            fill.style.backgroundImage = 'none'\n",
       "        \n",
       "                  \n",
       "                fill.style.animation = 'none';\n",
       "                fill.style.backgroundImage = 'none';\n",
       "            \n",
       "              })();\n",
       "        "
      ],
      "text/plain": [
       "<IPython.core.display.Javascript object>"
      ]
     },
     "metadata": {},
     "output_type": "display_data"
    },
    {
     "name": "stdout",
     "output_type": "stream",
     "text": [
      "seed = 4558\n",
      "backend = 'nengo_ocl'\n",
      "dt = 0.001\n",
      "neuron_type = 'default'\n",
      "n_neurons_scale = 1\n",
      "s_crosstalk = 1\n",
      "s_evidence = 4.5\n",
      "vocab = <nengo_spa.vocabulary.Vocabulary object at 0x7fa88e5ce690>\n",
      "xp = <experiments.Xp1 object at 0x7fa8b5316d10>\n",
      "proc_feedback = 0.5\n",
      "GW_feedback = 0.95\n",
      "GW_scale = 20\n",
      "BG_thr = 0.1\n",
      "BG_bias = 0.5\n",
      "RTs = [0.261, 0.14800000000000013, 0.18900000000000006, 0.14700000000000024, 0.1850000000000005, 0.16500000000000092, 0.1620000000000008, 0.25, 0.16300000000000026, 0.2580000000000009, 0.18700000000000117, 0.14499999999999957]\n",
      "feedbacks = [2, 2, 2, 2, 2, 2, 2, 2, 2, 2, 2, 2]\n",
      "model_actions = [2, 1, 2, 1, 2, 1, 1, 2, 1, 2, 2, 1]\n",
      "running test\n",
      "Seed: 90283\n",
      "Number of neurons: 20250\n"
     ]
    },
    {
     "data": {
      "text/html": [
       "\n",
       "                <div id=\"c77f5211-4540-4aba-83fd-52704c97c82f\" style=\"\n",
       "                    width: 100%;\n",
       "                    border: 1px solid #cfcfcf;\n",
       "                    border-radius: 4px;\n",
       "                    text-align: center;\n",
       "                    position: relative;\">\n",
       "                  <div class=\"pb-text\" style=\"\n",
       "                      position: absolute;\n",
       "                      width: 100%;\">\n",
       "                    0%\n",
       "                  </div>\n",
       "                  <div class=\"pb-fill\" style=\"\n",
       "                      background-color: #bdd2e6;\n",
       "                      width: 0%;\">\n",
       "                    <style type=\"text/css\" scoped=\"scoped\">\n",
       "                        @keyframes pb-fill-anim {\n",
       "                            0% { background-position: 0 0; }\n",
       "                            100% { background-position: 100px 0; }\n",
       "                        }\n",
       "                    </style>\n",
       "                    &nbsp;\n",
       "                  </div>\n",
       "                </div>"
      ],
      "text/plain": [
       "HtmlProgressBar cannot be displayed. Please use the TerminalProgressBar. It can be enabled with `nengo.rc.set('progress', 'progress_bar', 'nengo.utils.progress.TerminalProgressBar')`."
      ]
     },
     "metadata": {},
     "output_type": "display_data"
    },
    {
     "data": {
      "application/javascript": [
       "\n",
       "              (function () {\n",
       "                  var root = document.getElementById('c77f5211-4540-4aba-83fd-52704c97c82f');\n",
       "                  var text = root.getElementsByClassName('pb-text')[0];\n",
       "                  var fill = root.getElementsByClassName('pb-fill')[0];\n",
       "\n",
       "                  text.innerHTML = 'Simulation finished in 0:00:42.';\n",
       "                  \n",
       "            if (100.0 > 0.) {\n",
       "                fill.style.transition = 'width 0.1s linear';\n",
       "            } else {\n",
       "                fill.style.transition = 'none';\n",
       "            }\n",
       "\n",
       "            fill.style.width = '100.0%';\n",
       "            fill.style.animation = 'none';\n",
       "            fill.style.backgroundImage = 'none'\n",
       "        \n",
       "                  \n",
       "                fill.style.animation = 'none';\n",
       "                fill.style.backgroundImage = 'none';\n",
       "            \n",
       "              })();\n",
       "        "
      ],
      "text/plain": [
       "<IPython.core.display.Javascript object>"
      ]
     },
     "metadata": {},
     "output_type": "display_data"
    },
    {
     "name": "stdout",
     "output_type": "stream",
     "text": [
      "seed = 90283\n",
      "backend = 'nengo_ocl'\n",
      "dt = 0.001\n",
      "neuron_type = 'default'\n",
      "n_neurons_scale = 1\n",
      "s_crosstalk = 1\n",
      "s_evidence = 4.5\n",
      "vocab = <nengo_spa.vocabulary.Vocabulary object at 0x7fa85cfc3e50>\n",
      "xp = <experiments.Xp1 object at 0x7fa85cfc3350>\n",
      "proc_feedback = 0.5\n",
      "GW_feedback = 0.95\n",
      "GW_scale = 20\n",
      "BG_thr = 0.1\n",
      "BG_bias = 0.5\n",
      "RTs = [0.15800000000000003, 0.22599999999999998, 0.16800000000000015, 0.16699999999999982, 0.22100000000000009, 0.17300000000000004, 0.15600000000000058, 0.2240000000000002, 0.15700000000000003, 0.21600000000000108, 0.22799999999999976, 0.23100000000000165]\n",
      "feedbacks = [2, 2, 2, 2, 2, 2, 2, 2, 2, 2, 2, 2]\n",
      "model_actions = [2, 1, 2, 2, 1, 2, 2, 1, 2, 1, 1, 1]\n",
      "running test\n",
      "Seed: 32469\n",
      "Number of neurons: 20250\n"
     ]
    },
    {
     "data": {
      "text/html": [
       "\n",
       "                <div id=\"98921229-1509-45c8-9d83-07c182c85aa6\" style=\"\n",
       "                    width: 100%;\n",
       "                    border: 1px solid #cfcfcf;\n",
       "                    border-radius: 4px;\n",
       "                    text-align: center;\n",
       "                    position: relative;\">\n",
       "                  <div class=\"pb-text\" style=\"\n",
       "                      position: absolute;\n",
       "                      width: 100%;\">\n",
       "                    0%\n",
       "                  </div>\n",
       "                  <div class=\"pb-fill\" style=\"\n",
       "                      background-color: #bdd2e6;\n",
       "                      width: 0%;\">\n",
       "                    <style type=\"text/css\" scoped=\"scoped\">\n",
       "                        @keyframes pb-fill-anim {\n",
       "                            0% { background-position: 0 0; }\n",
       "                            100% { background-position: 100px 0; }\n",
       "                        }\n",
       "                    </style>\n",
       "                    &nbsp;\n",
       "                  </div>\n",
       "                </div>"
      ],
      "text/plain": [
       "HtmlProgressBar cannot be displayed. Please use the TerminalProgressBar. It can be enabled with `nengo.rc.set('progress', 'progress_bar', 'nengo.utils.progress.TerminalProgressBar')`."
      ]
     },
     "metadata": {},
     "output_type": "display_data"
    },
    {
     "data": {
      "application/javascript": [
       "\n",
       "              (function () {\n",
       "                  var root = document.getElementById('98921229-1509-45c8-9d83-07c182c85aa6');\n",
       "                  var text = root.getElementsByClassName('pb-text')[0];\n",
       "                  var fill = root.getElementsByClassName('pb-fill')[0];\n",
       "\n",
       "                  text.innerHTML = 'Simulation finished in 0:00:40.';\n",
       "                  \n",
       "            if (100.0 > 0.) {\n",
       "                fill.style.transition = 'width 0.1s linear';\n",
       "            } else {\n",
       "                fill.style.transition = 'none';\n",
       "            }\n",
       "\n",
       "            fill.style.width = '100.0%';\n",
       "            fill.style.animation = 'none';\n",
       "            fill.style.backgroundImage = 'none'\n",
       "        \n",
       "                  \n",
       "                fill.style.animation = 'none';\n",
       "                fill.style.backgroundImage = 'none';\n",
       "            \n",
       "              })();\n",
       "        "
      ],
      "text/plain": [
       "<IPython.core.display.Javascript object>"
      ]
     },
     "metadata": {},
     "output_type": "display_data"
    },
    {
     "name": "stdout",
     "output_type": "stream",
     "text": [
      "seed = 32469\n",
      "backend = 'nengo_ocl'\n",
      "dt = 0.001\n",
      "neuron_type = 'default'\n",
      "n_neurons_scale = 1\n",
      "s_crosstalk = 1\n",
      "s_evidence = 4.5\n",
      "vocab = <nengo_spa.vocabulary.Vocabulary object at 0x7fa852adb750>\n",
      "xp = <experiments.Xp1 object at 0x7fa82b4644d0>\n",
      "proc_feedback = 0.5\n",
      "GW_feedback = 0.95\n",
      "GW_scale = 20\n",
      "BG_thr = 0.1\n",
      "BG_bias = 0.5\n",
      "RTs = [0.20000000000000007, 0.18000000000000016, 0.20400000000000018, 0.17300000000000004, 0.20000000000000018, 0.18200000000000038, 0.18200000000000038, 0.19500000000000028, 0.18200000000000038, 0.1720000000000006, 0.20000000000000107, 0.1960000000000015]\n",
      "feedbacks = [2, 2, 2, 2, 2, 2, 2, 2, 2, 2, 2, 2]\n",
      "model_actions = [1, 1, 2, 2, 2, 2, 1, 1, 1, 2, 1, 2]\n",
      "running test\n",
      "Seed: 73854\n",
      "Number of neurons: 20250\n"
     ]
    },
    {
     "data": {
      "text/html": [
       "\n",
       "                <div id=\"5327c06a-8cfe-4363-8328-5757e627d929\" style=\"\n",
       "                    width: 100%;\n",
       "                    border: 1px solid #cfcfcf;\n",
       "                    border-radius: 4px;\n",
       "                    text-align: center;\n",
       "                    position: relative;\">\n",
       "                  <div class=\"pb-text\" style=\"\n",
       "                      position: absolute;\n",
       "                      width: 100%;\">\n",
       "                    0%\n",
       "                  </div>\n",
       "                  <div class=\"pb-fill\" style=\"\n",
       "                      background-color: #bdd2e6;\n",
       "                      width: 0%;\">\n",
       "                    <style type=\"text/css\" scoped=\"scoped\">\n",
       "                        @keyframes pb-fill-anim {\n",
       "                            0% { background-position: 0 0; }\n",
       "                            100% { background-position: 100px 0; }\n",
       "                        }\n",
       "                    </style>\n",
       "                    &nbsp;\n",
       "                  </div>\n",
       "                </div>"
      ],
      "text/plain": [
       "HtmlProgressBar cannot be displayed. Please use the TerminalProgressBar. It can be enabled with `nengo.rc.set('progress', 'progress_bar', 'nengo.utils.progress.TerminalProgressBar')`."
      ]
     },
     "metadata": {},
     "output_type": "display_data"
    },
    {
     "data": {
      "application/javascript": [
       "\n",
       "              (function () {\n",
       "                  var root = document.getElementById('5327c06a-8cfe-4363-8328-5757e627d929');\n",
       "                  var text = root.getElementsByClassName('pb-text')[0];\n",
       "                  var fill = root.getElementsByClassName('pb-fill')[0];\n",
       "\n",
       "                  text.innerHTML = 'Simulation finished in 0:00:38.';\n",
       "                  \n",
       "            if (100.0 > 0.) {\n",
       "                fill.style.transition = 'width 0.1s linear';\n",
       "            } else {\n",
       "                fill.style.transition = 'none';\n",
       "            }\n",
       "\n",
       "            fill.style.width = '100.0%';\n",
       "            fill.style.animation = 'none';\n",
       "            fill.style.backgroundImage = 'none'\n",
       "        \n",
       "                  \n",
       "                fill.style.animation = 'none';\n",
       "                fill.style.backgroundImage = 'none';\n",
       "            \n",
       "              })();\n",
       "        "
      ],
      "text/plain": [
       "<IPython.core.display.Javascript object>"
      ]
     },
     "metadata": {},
     "output_type": "display_data"
    },
    {
     "name": "stdout",
     "output_type": "stream",
     "text": [
      "seed = 73854\n",
      "backend = 'nengo_ocl'\n",
      "dt = 0.001\n",
      "neuron_type = 'default'\n",
      "n_neurons_scale = 1\n",
      "s_crosstalk = 1\n",
      "s_evidence = 4.5\n",
      "vocab = <nengo_spa.vocabulary.Vocabulary object at 0x7fa83a0da310>\n",
      "xp = <experiments.Xp1 object at 0x7fa852aa7ad0>\n",
      "proc_feedback = 0.5\n",
      "GW_feedback = 0.95\n",
      "GW_scale = 20\n",
      "BG_thr = 0.1\n",
      "BG_bias = 0.5\n",
      "RTs = [0.16800000000000004, 0.16400000000000015, 0.16000000000000014, 0.1639999999999997, 0.1639999999999997, 0.15700000000000003, 0.15799999999999947, 0.1620000000000008, 0.1620000000000008, 0.16800000000000104, 0.16000000000000014, 0.16499999999999915]\n",
      "feedbacks = [2, 2, 2, 2, 2, 2, 2, 2, 2, 2, 2, 2]\n",
      "model_actions = [2, 1, 2, 1, 2, 2, 1, 1, 2, 1, 1, 2]\n",
      "running test\n",
      "Seed: 99645\n",
      "Number of neurons: 20250\n"
     ]
    },
    {
     "data": {
      "text/html": [
       "\n",
       "                <div id=\"771d9cb8-bdd0-4fea-a79a-3a11d9c4246e\" style=\"\n",
       "                    width: 100%;\n",
       "                    border: 1px solid #cfcfcf;\n",
       "                    border-radius: 4px;\n",
       "                    text-align: center;\n",
       "                    position: relative;\">\n",
       "                  <div class=\"pb-text\" style=\"\n",
       "                      position: absolute;\n",
       "                      width: 100%;\">\n",
       "                    0%\n",
       "                  </div>\n",
       "                  <div class=\"pb-fill\" style=\"\n",
       "                      background-color: #bdd2e6;\n",
       "                      width: 0%;\">\n",
       "                    <style type=\"text/css\" scoped=\"scoped\">\n",
       "                        @keyframes pb-fill-anim {\n",
       "                            0% { background-position: 0 0; }\n",
       "                            100% { background-position: 100px 0; }\n",
       "                        }\n",
       "                    </style>\n",
       "                    &nbsp;\n",
       "                  </div>\n",
       "                </div>"
      ],
      "text/plain": [
       "HtmlProgressBar cannot be displayed. Please use the TerminalProgressBar. It can be enabled with `nengo.rc.set('progress', 'progress_bar', 'nengo.utils.progress.TerminalProgressBar')`."
      ]
     },
     "metadata": {},
     "output_type": "display_data"
    },
    {
     "data": {
      "application/javascript": [
       "\n",
       "              (function () {\n",
       "                  var root = document.getElementById('771d9cb8-bdd0-4fea-a79a-3a11d9c4246e');\n",
       "                  var text = root.getElementsByClassName('pb-text')[0];\n",
       "                  var fill = root.getElementsByClassName('pb-fill')[0];\n",
       "\n",
       "                  text.innerHTML = 'Simulation finished in 0:00:37.';\n",
       "                  \n",
       "            if (100.0 > 0.) {\n",
       "                fill.style.transition = 'width 0.1s linear';\n",
       "            } else {\n",
       "                fill.style.transition = 'none';\n",
       "            }\n",
       "\n",
       "            fill.style.width = '100.0%';\n",
       "            fill.style.animation = 'none';\n",
       "            fill.style.backgroundImage = 'none'\n",
       "        \n",
       "                  \n",
       "                fill.style.animation = 'none';\n",
       "                fill.style.backgroundImage = 'none';\n",
       "            \n",
       "              })();\n",
       "        "
      ],
      "text/plain": [
       "<IPython.core.display.Javascript object>"
      ]
     },
     "metadata": {},
     "output_type": "display_data"
    },
    {
     "name": "stdout",
     "output_type": "stream",
     "text": [
      "seed = 99645\n",
      "backend = 'nengo_ocl'\n",
      "dt = 0.001\n",
      "neuron_type = 'default'\n",
      "n_neurons_scale = 1\n",
      "s_crosstalk = 1\n",
      "s_evidence = 4.5\n",
      "vocab = <nengo_spa.vocabulary.Vocabulary object at 0x7fa87934db90>\n",
      "xp = <experiments.Xp1 object at 0x7fa82c0ea650>\n",
      "proc_feedback = 0.5\n",
      "GW_feedback = 0.95\n",
      "GW_scale = 20\n",
      "BG_thr = 0.1\n",
      "BG_bias = 0.5\n",
      "RTs = [0.19500000000000006, 0.2120000000000002, 0.20999999999999996, 0.2789999999999999, 0.27200000000000024, 0.22199999999999953, 0.21199999999999974, 0.23000000000000043, 0.19299999999999962, 0.19100000000000072, 0.2710000000000008, 0.2270000000000003]\n",
      "feedbacks = [2, 2, 2, 2, 2, 2, 2, 2, 2, 2, 2, 2]\n",
      "model_actions = [2, 1, 1, 2, 2, 1, 1, 1, 2, 2, 2, 1]\n",
      "running test\n",
      "Seed: 26645\n",
      "Number of neurons: 20250\n"
     ]
    },
    {
     "data": {
      "text/html": [
       "\n",
       "                <div id=\"9ce85dd4-3aa0-4cdf-98e6-2103b1a5b41a\" style=\"\n",
       "                    width: 100%;\n",
       "                    border: 1px solid #cfcfcf;\n",
       "                    border-radius: 4px;\n",
       "                    text-align: center;\n",
       "                    position: relative;\">\n",
       "                  <div class=\"pb-text\" style=\"\n",
       "                      position: absolute;\n",
       "                      width: 100%;\">\n",
       "                    0%\n",
       "                  </div>\n",
       "                  <div class=\"pb-fill\" style=\"\n",
       "                      background-color: #bdd2e6;\n",
       "                      width: 0%;\">\n",
       "                    <style type=\"text/css\" scoped=\"scoped\">\n",
       "                        @keyframes pb-fill-anim {\n",
       "                            0% { background-position: 0 0; }\n",
       "                            100% { background-position: 100px 0; }\n",
       "                        }\n",
       "                    </style>\n",
       "                    &nbsp;\n",
       "                  </div>\n",
       "                </div>"
      ],
      "text/plain": [
       "HtmlProgressBar cannot be displayed. Please use the TerminalProgressBar. It can be enabled with `nengo.rc.set('progress', 'progress_bar', 'nengo.utils.progress.TerminalProgressBar')`."
      ]
     },
     "metadata": {},
     "output_type": "display_data"
    },
    {
     "data": {
      "application/javascript": [
       "\n",
       "              (function () {\n",
       "                  var root = document.getElementById('9ce85dd4-3aa0-4cdf-98e6-2103b1a5b41a');\n",
       "                  var text = root.getElementsByClassName('pb-text')[0];\n",
       "                  var fill = root.getElementsByClassName('pb-fill')[0];\n",
       "\n",
       "                  text.innerHTML = 'Simulation finished in 0:00:38.';\n",
       "                  \n",
       "            if (100.0 > 0.) {\n",
       "                fill.style.transition = 'width 0.1s linear';\n",
       "            } else {\n",
       "                fill.style.transition = 'none';\n",
       "            }\n",
       "\n",
       "            fill.style.width = '100.0%';\n",
       "            fill.style.animation = 'none';\n",
       "            fill.style.backgroundImage = 'none'\n",
       "        \n",
       "                  \n",
       "                fill.style.animation = 'none';\n",
       "                fill.style.backgroundImage = 'none';\n",
       "            \n",
       "              })();\n",
       "        "
      ],
      "text/plain": [
       "<IPython.core.display.Javascript object>"
      ]
     },
     "metadata": {},
     "output_type": "display_data"
    },
    {
     "name": "stdout",
     "output_type": "stream",
     "text": [
      "seed = 26645\n",
      "backend = 'nengo_ocl'\n",
      "dt = 0.001\n",
      "neuron_type = 'default'\n",
      "n_neurons_scale = 1\n",
      "s_crosstalk = 1\n",
      "s_evidence = 4.5\n",
      "vocab = <nengo_spa.vocabulary.Vocabulary object at 0x7fa85cfd1110>\n",
      "xp = <experiments.Xp1 object at 0x7fa853ef1a90>\n",
      "proc_feedback = 0.5\n",
      "GW_feedback = 0.95\n",
      "GW_scale = 20\n",
      "BG_thr = 0.1\n",
      "BG_bias = 0.5\n",
      "RTs = [0.21899999999999997, 0.2749999999999999, 1.5, 0.5730000000000004, 0.26200000000000045, 0.5750000000000011, 0.5779999999999994, 0.25900000000000034, 1.5, 0.21199999999999974, 0.21499999999999986, 1.5]\n",
      "feedbacks = [2, 2, 0, 2, 2, 2, 2, 2, 0, 2, 2, 0]\n",
      "model_actions = [1, 1, 0, 2, 1, 2, 2, 1, 0, 1, 1, 0]\n",
      "running test\n",
      "Seed: 4589\n",
      "Number of neurons: 20250\n"
     ]
    },
    {
     "data": {
      "text/html": [
       "\n",
       "                <div id=\"34616326-1560-42d0-ac53-d0f5a2b5780c\" style=\"\n",
       "                    width: 100%;\n",
       "                    border: 1px solid #cfcfcf;\n",
       "                    border-radius: 4px;\n",
       "                    text-align: center;\n",
       "                    position: relative;\">\n",
       "                  <div class=\"pb-text\" style=\"\n",
       "                      position: absolute;\n",
       "                      width: 100%;\">\n",
       "                    0%\n",
       "                  </div>\n",
       "                  <div class=\"pb-fill\" style=\"\n",
       "                      background-color: #bdd2e6;\n",
       "                      width: 0%;\">\n",
       "                    <style type=\"text/css\" scoped=\"scoped\">\n",
       "                        @keyframes pb-fill-anim {\n",
       "                            0% { background-position: 0 0; }\n",
       "                            100% { background-position: 100px 0; }\n",
       "                        }\n",
       "                    </style>\n",
       "                    &nbsp;\n",
       "                  </div>\n",
       "                </div>"
      ],
      "text/plain": [
       "HtmlProgressBar cannot be displayed. Please use the TerminalProgressBar. It can be enabled with `nengo.rc.set('progress', 'progress_bar', 'nengo.utils.progress.TerminalProgressBar')`."
      ]
     },
     "metadata": {},
     "output_type": "display_data"
    },
    {
     "data": {
      "application/javascript": [
       "\n",
       "              (function () {\n",
       "                  var root = document.getElementById('34616326-1560-42d0-ac53-d0f5a2b5780c');\n",
       "                  var text = root.getElementsByClassName('pb-text')[0];\n",
       "                  var fill = root.getElementsByClassName('pb-fill')[0];\n",
       "\n",
       "                  text.innerHTML = 'Simulation finished in 0:00:36.';\n",
       "                  \n",
       "            if (100.0 > 0.) {\n",
       "                fill.style.transition = 'width 0.1s linear';\n",
       "            } else {\n",
       "                fill.style.transition = 'none';\n",
       "            }\n",
       "\n",
       "            fill.style.width = '100.0%';\n",
       "            fill.style.animation = 'none';\n",
       "            fill.style.backgroundImage = 'none'\n",
       "        \n",
       "                  \n",
       "                fill.style.animation = 'none';\n",
       "                fill.style.backgroundImage = 'none';\n",
       "            \n",
       "              })();\n",
       "        "
      ],
      "text/plain": [
       "<IPython.core.display.Javascript object>"
      ]
     },
     "metadata": {},
     "output_type": "display_data"
    },
    {
     "name": "stdout",
     "output_type": "stream",
     "text": [
      "seed = 4589\n",
      "backend = 'nengo_ocl'\n",
      "dt = 0.001\n",
      "neuron_type = 'default'\n",
      "n_neurons_scale = 1\n",
      "s_crosstalk = 1\n",
      "s_evidence = 4.5\n",
      "vocab = <nengo_spa.vocabulary.Vocabulary object at 0x7fa88ca4bb90>\n",
      "xp = <experiments.Xp1 object at 0x7fa85cfc3050>\n",
      "proc_feedback = 0.5\n",
      "GW_feedback = 0.95\n",
      "GW_scale = 20\n",
      "BG_thr = 0.1\n",
      "BG_bias = 0.5\n",
      "RTs = [0.19500000000000006, 0.19399999999999995, 0.2490000000000001, 0.19200000000000017, 0.23800000000000043, 0.19100000000000072, 0.24099999999999966, 0.19200000000000017, 0.19400000000000084, 0.2469999999999999, 0.24300000000000033, 0.25]\n",
      "feedbacks = [2, 2, 2, 2, 2, 2, 2, 2, 2, 2, 2, 2]\n",
      "model_actions = [2, 2, 1, 2, 1, 2, 1, 2, 2, 1, 1, 1]\n",
      "running test\n",
      "Seed: 13657\n",
      "Number of neurons: 20250\n"
     ]
    },
    {
     "data": {
      "text/html": [
       "\n",
       "                <div id=\"e6602739-4c26-4334-a8e2-20181bad0797\" style=\"\n",
       "                    width: 100%;\n",
       "                    border: 1px solid #cfcfcf;\n",
       "                    border-radius: 4px;\n",
       "                    text-align: center;\n",
       "                    position: relative;\">\n",
       "                  <div class=\"pb-text\" style=\"\n",
       "                      position: absolute;\n",
       "                      width: 100%;\">\n",
       "                    0%\n",
       "                  </div>\n",
       "                  <div class=\"pb-fill\" style=\"\n",
       "                      background-color: #bdd2e6;\n",
       "                      width: 0%;\">\n",
       "                    <style type=\"text/css\" scoped=\"scoped\">\n",
       "                        @keyframes pb-fill-anim {\n",
       "                            0% { background-position: 0 0; }\n",
       "                            100% { background-position: 100px 0; }\n",
       "                        }\n",
       "                    </style>\n",
       "                    &nbsp;\n",
       "                  </div>\n",
       "                </div>"
      ],
      "text/plain": [
       "HtmlProgressBar cannot be displayed. Please use the TerminalProgressBar. It can be enabled with `nengo.rc.set('progress', 'progress_bar', 'nengo.utils.progress.TerminalProgressBar')`."
      ]
     },
     "metadata": {},
     "output_type": "display_data"
    },
    {
     "data": {
      "application/javascript": [
       "\n",
       "              (function () {\n",
       "                  var root = document.getElementById('e6602739-4c26-4334-a8e2-20181bad0797');\n",
       "                  var text = root.getElementsByClassName('pb-text')[0];\n",
       "                  var fill = root.getElementsByClassName('pb-fill')[0];\n",
       "\n",
       "                  text.innerHTML = 'Simulation finished in 0:00:37.';\n",
       "                  \n",
       "            if (100.0 > 0.) {\n",
       "                fill.style.transition = 'width 0.1s linear';\n",
       "            } else {\n",
       "                fill.style.transition = 'none';\n",
       "            }\n",
       "\n",
       "            fill.style.width = '100.0%';\n",
       "            fill.style.animation = 'none';\n",
       "            fill.style.backgroundImage = 'none'\n",
       "        \n",
       "                  \n",
       "                fill.style.animation = 'none';\n",
       "                fill.style.backgroundImage = 'none';\n",
       "            \n",
       "              })();\n",
       "        "
      ],
      "text/plain": [
       "<IPython.core.display.Javascript object>"
      ]
     },
     "metadata": {},
     "output_type": "display_data"
    },
    {
     "name": "stdout",
     "output_type": "stream",
     "text": [
      "seed = 13657\n",
      "backend = 'nengo_ocl'\n",
      "dt = 0.001\n",
      "neuron_type = 'default'\n",
      "n_neurons_scale = 1\n",
      "s_crosstalk = 1\n",
      "s_evidence = 4.5\n",
      "vocab = <nengo_spa.vocabulary.Vocabulary object at 0x7fa83a0daa90>\n",
      "xp = <experiments.Xp1 object at 0x7fa85046b750>\n",
      "proc_feedback = 0.5\n",
      "GW_feedback = 0.95\n",
      "GW_scale = 20\n",
      "BG_thr = 0.1\n",
      "BG_bias = 0.5\n",
      "RTs = [0.372, 0.367, 0.39300000000000024, 0.30600000000000005, 0.30900000000000016, 0.3849999999999998, 0.37100000000000044, 0.3260000000000005, 0.33699999999999974, 0.4380000000000006, 0.3049999999999997, 0.3520000000000003]\n",
      "feedbacks = [2, 2, 2, 2, 2, 2, 2, 2, 2, 2, 2, 2]\n",
      "model_actions = [2, 2, 1, 2, 2, 1, 2, 1, 1, 1, 2, 1]\n",
      "running test\n",
      "Seed: 14960\n",
      "Number of neurons: 20250\n"
     ]
    },
    {
     "data": {
      "text/html": [
       "\n",
       "                <div id=\"b15f4ef2-346e-42da-a31e-a0fd856278ec\" style=\"\n",
       "                    width: 100%;\n",
       "                    border: 1px solid #cfcfcf;\n",
       "                    border-radius: 4px;\n",
       "                    text-align: center;\n",
       "                    position: relative;\">\n",
       "                  <div class=\"pb-text\" style=\"\n",
       "                      position: absolute;\n",
       "                      width: 100%;\">\n",
       "                    0%\n",
       "                  </div>\n",
       "                  <div class=\"pb-fill\" style=\"\n",
       "                      background-color: #bdd2e6;\n",
       "                      width: 0%;\">\n",
       "                    <style type=\"text/css\" scoped=\"scoped\">\n",
       "                        @keyframes pb-fill-anim {\n",
       "                            0% { background-position: 0 0; }\n",
       "                            100% { background-position: 100px 0; }\n",
       "                        }\n",
       "                    </style>\n",
       "                    &nbsp;\n",
       "                  </div>\n",
       "                </div>"
      ],
      "text/plain": [
       "HtmlProgressBar cannot be displayed. Please use the TerminalProgressBar. It can be enabled with `nengo.rc.set('progress', 'progress_bar', 'nengo.utils.progress.TerminalProgressBar')`."
      ]
     },
     "metadata": {},
     "output_type": "display_data"
    },
    {
     "data": {
      "application/javascript": [
       "\n",
       "              (function () {\n",
       "                  var root = document.getElementById('b15f4ef2-346e-42da-a31e-a0fd856278ec');\n",
       "                  var text = root.getElementsByClassName('pb-text')[0];\n",
       "                  var fill = root.getElementsByClassName('pb-fill')[0];\n",
       "\n",
       "                  text.innerHTML = 'Simulation finished in 0:00:38.';\n",
       "                  \n",
       "            if (100.0 > 0.) {\n",
       "                fill.style.transition = 'width 0.1s linear';\n",
       "            } else {\n",
       "                fill.style.transition = 'none';\n",
       "            }\n",
       "\n",
       "            fill.style.width = '100.0%';\n",
       "            fill.style.animation = 'none';\n",
       "            fill.style.backgroundImage = 'none'\n",
       "        \n",
       "                  \n",
       "                fill.style.animation = 'none';\n",
       "                fill.style.backgroundImage = 'none';\n",
       "            \n",
       "              })();\n",
       "        "
      ],
      "text/plain": [
       "<IPython.core.display.Javascript object>"
      ]
     },
     "metadata": {},
     "output_type": "display_data"
    },
    {
     "name": "stdout",
     "output_type": "stream",
     "text": [
      "seed = 14960\n",
      "backend = 'nengo_ocl'\n",
      "dt = 0.001\n",
      "neuron_type = 'default'\n",
      "n_neurons_scale = 1\n",
      "s_crosstalk = 1\n",
      "s_evidence = 4.5\n",
      "vocab = <nengo_spa.vocabulary.Vocabulary object at 0x7fa83a0daad0>\n",
      "xp = <experiments.Xp1 object at 0x7fa88e5c95d0>\n",
      "proc_feedback = 0.5\n",
      "GW_feedback = 0.95\n",
      "GW_scale = 20\n",
      "BG_thr = 0.1\n",
      "BG_bias = 0.5\n",
      "RTs = [0.21299999999999997, 0.21300000000000008, 0.19300000000000006, 0.23500000000000032, 0.2400000000000002, 0.19899999999999984, 0.24099999999999966, 0.19500000000000028, 0.2400000000000002, 0.21000000000000085, 0.23600000000000065, 0.24099999999999966]\n",
      "feedbacks = [2, 2, 2, 2, 2, 2, 2, 2, 2, 2, 2, 2]\n",
      "model_actions = [2, 2, 2, 1, 1, 2, 1, 2, 1, 2, 1, 1]\n"
     ]
    }
   ],
   "source": [
    "\n",
    "\n",
    "D = int(128*1.5)  # the dimensionality of the vectors\n",
    "PROC_FDBCK = .5\n",
    "GW_FDBCK = .95 # but synapse is shorter than for perfect storage\n",
    "GW_SCALE = 20 # scale the input of GW for saturation and catching very short visual stimuli\n",
    "BG_THR = .1\n",
    "BG_BIAS = .5\n",
    "STIM_DURATION = .5\n",
    "N_NEURONS_SCALE = 1\n",
    "RANDOM_SEED = True\n",
    "\n",
    "n_blocks_per_operation = 1 # default: 10\n",
    "n_trials_per_digit = 3 # default: 5\n",
    "n_different_digits = 4 # default: 4\n",
    "n_different_operations = 1 # default: 3\n",
    "\n",
    "s_evidences = [4.5]\n",
    "s_crosstalks = [1]\n",
    "digits = [\"D\"+str(d) for d in [2,4,6,8][:n_different_digits]]\n",
    "operations = ['SIMPLE','CHAINED_ADD','CHAINED_SUB'][:n_different_operations]\n",
    "n_seeds = 20\n",
    "# starting_seed = np.random.randint(99999)\n",
    "# seeds = range(starting_seed,n_seeds+starting_seed)\n",
    "seeds = np.random.randint(99999, size=(n_seeds)) if RANDOM_SEED else range(n_seeds)\n",
    "n_per_condition = n_blocks_per_operation * n_trials_per_digit\n",
    "param_ranges = [seeds, s_evidences, s_crosstalks, digits, operations]\n",
    "iterable_param_ranges = [seeds, s_evidences, s_crosstalks]\n",
    "dependent_variables = ['RTs','feedbacks']\n",
    "results = {var: np.zeros((n_per_condition,)+tuple(len(pr) for pr in param_ranges)) for var in dependent_variables}\n",
    "counts = np.zeros(tuple(len(pr) for pr in param_ranges), dtype=int)\n",
    "\n",
    "for conditions_idx in list(itertools.product(*tuple(range(len(pr)) for pr in iterable_param_ranges))):\n",
    "    seed, s_evidence, s_crosstalk = [pr[conditions_idx[i]] for i,pr in enumerate(iterable_param_ranges)] # get parameter values\n",
    "    xp = create_xp(n_blocks_per_operation, n_trials_per_digit, n_different_digits, n_different_operations, STIM_DURATION)\n",
    "    result = ExperimentRun().run(\n",
    "        n_neurons_scale=N_NEURONS_SCALE,\n",
    "        s_crosstalk=s_crosstalk,\n",
    "        s_evidence=s_evidence,\n",
    "        vocab=create_vocab(D, seed),\n",
    "        xp=xp,\n",
    "        proc_feedback=PROC_FDBCK,\n",
    "        GW_feedback=GW_FDBCK,\n",
    "        GW_scale=GW_SCALE,\n",
    "        BG_thr=BG_THR,\n",
    "        BG_bias=BG_BIAS,\n",
    "        seed=seed,\n",
    "        backend=\"nengo_ocl\",\n",
    "        data_filename='test'\n",
    "    )\n",
    "    \n",
    "    for i,trial in enumerate(xp.trials):\n",
    "        trial_conditions_idx = conditions_idx+(trial.stimulus_idx, trial.operation_idx)\n",
    "        trial_condition_count = counts[trial_conditions_idx]\n",
    "        \n",
    "        for var in dependent_variables:\n",
    "            results[var][(trial_condition_count,)+trial_conditions_idx] = result[var][i]\n",
    "\n",
    "        counts[trial_conditions_idx] += 1 # increment count of this condition\n",
    "    \n"
   ]
  },
  {
   "cell_type": "code",
   "execution_count": 14,
   "metadata": {},
   "outputs": [
    {
     "name": "stdout",
     "output_type": "stream",
     "text": [
      "(3, 20, 1, 1, 4, 1)\n",
      "(2, 19, 0, 0, 1, 0)\n"
     ]
    }
   ],
   "source": [
    "print(results[var].shape)\n",
    "#             results[var][trial_conditions_idx+(trial_condition_count,)] = result[var][i]\n",
    "print((trial_condition_count,)+trial_conditions_idx)"
   ]
  },
  {
   "cell_type": "code",
   "execution_count": 15,
   "metadata": {},
   "outputs": [
    {
     "name": "stdout",
     "output_type": "stream",
     "text": [
      "(3, 20, 1, 1, 4, 1)\n",
      "(3, 20, 4)\n",
      "(60, 4)\n"
     ]
    }
   ],
   "source": [
    "\n",
    "# [n_per_condition, seeds, s_evidences, s_crosstalks, digits, operations]\n",
    "print(results['feedbacks'].shape)\n",
    "focus_results = {k:v[:,:,0,0,:,0] for k,v in results.items()}\n",
    "print(focus_results['feedbacks'].shape)\n",
    "focus_results = {k:np.reshape(v, (-1,)+v.shape[2:]) for k,v in focus_results.items()}\n",
    "print(focus_results['feedbacks'].shape)\n",
    "\n",
    "\n",
    "# xp_errors = np.array(results[\"feedbacks\"]!=2, dtype=bool)\n",
    "\n",
    "# plt.figure(figsize=(8,1))\n",
    "# plt.eventplot(np.where(xp_errors)[0]+1, color='black')\n",
    "# plt.yticks([])\n",
    "# plt.ylabel('Error')\n",
    "# plt.xlim(0,len(xp_errors)+1)\n",
    "# plt.title('Score: '+str(number_of_total_trials-xp_errors.sum())+'/'+str(number_of_total_trials)+\"\\n\"+\n",
    "#          \"error rate: \"+str(round(100*xp_errors.sum()/number_of_total_trials,2))+\"%\")\n",
    "# plt.xlabel('Trial')\n",
    "# plt.show()\n",
    "\n",
    "\n"
   ]
  },
  {
   "cell_type": "code",
   "execution_count": null,
   "metadata": {},
   "outputs": [],
   "source": []
  },
  {
   "cell_type": "code",
   "execution_count": null,
   "metadata": {},
   "outputs": [],
   "source": []
  },
  {
   "cell_type": "markdown",
   "metadata": {},
   "source": [
    "# s_evidence=4.5 (20 seeds)"
   ]
  },
  {
   "cell_type": "code",
   "execution_count": 25,
   "metadata": {},
   "outputs": [
    {
     "data": {
      "image/png": "[encoded data removed]",
      "text/plain": [
       "<Figure size 432x288 with 1 Axes>"
      ]
     },
     "metadata": {
      "needs_background": "light"
     },
     "output_type": "display_data"
    },
    {
     "name": "stdout",
     "output_type": "stream",
     "text": [
      "[182.5 210.  210.  192.5]\n",
      "(4,)\n",
      "[0. 0. 0. 0.]\n"
     ]
    },
    {
     "data": {
      "image/png": "[encoded data removed]",
      "text/plain": [
       "<Figure size 432x288 with 1 Axes>"
      ]
     },
     "metadata": {
      "needs_background": "light"
     },
     "output_type": "display_data"
    },
    {
     "name": "stdout",
     "output_type": "stream",
     "text": [
      "(4,)\n",
      "[0. 0. 5. 0.]\n"
     ]
    },
    {
     "data": {
      "image/png": "[encoded data removed]",
      "text/plain": [
       "<Figure size 432x288 with 1 Axes>"
      ]
     },
     "metadata": {
      "needs_background": "light"
     },
     "output_type": "display_data"
    }
   ],
   "source": [
    "RTs_simple = np.copy(focus_results['RTs'][:,:]) * 1000\n",
    "\n",
    "digit_RTs = digit_RTs[digit_RTs != 0] # remove outliers (no answer)\n",
    "\n",
    "\n",
    "RTs_simple_median = np.median(RTs_simple, axis=0)\n",
    "RTs_simple_std = np.std(RTs_simple, axis=0)\n",
    "# plt.errorbar([2,4,6,8][:n_different_digits], RTs_simple_median, yerr=RTs_simple_std, color='black', capsize=3, capthick=2, marker='.', markersize=12, markerfacecolor='white')\n",
    "plt.errorbar([2,4,6,8][:n_different_digits], RTs_simple_median, yerr=np.zeros_like(RTs_simple_std), color='black', capsize=3, capthick=2, marker='.', markersize=12, markerfacecolor='white')\n",
    "plt.ylabel('Median Reaction times (ms)')\n",
    "plt.xlabel('Stimuli')\n",
    "plt.xticks([2,4,6,8][:n_different_digits])\n",
    "plt.show()\n",
    "\n",
    "print(RTs_simple_median)\n",
    "\n",
    "\n",
    "\n",
    "\n",
    "for unresponsive_as_error in [False,True]:\n",
    "\n",
    "    if unresponsive_as_error:\n",
    "        performance_simple = np.copy(focus_results['feedbacks'][:,:])\n",
    "        err_simple = np.sum(performance_simple != 2, axis=0) / performance_simple.shape[0] * 100\n",
    "        plt.title('Errors and absence of response')\n",
    "        \n",
    "    else:\n",
    "        performance_simple = np.copy(focus_results['feedbacks'][:,:])\n",
    "        n_responsive = np.sum(performance_simple!=0) # count the number of responses\n",
    "        err_simple = np.sum(performance_simple == 1, axis=0) / n_responsive * 100\n",
    "        plt.title('Errors')\n",
    "\n",
    "    print(err_simple.shape)\n",
    "    print(err_simple)\n",
    "    plt.bar([2,4,6,8][:n_different_digits], err_simple, color='black')\n",
    "    plt.ylabel('Error rates (%)')\n",
    "    plt.xlabel('Stimuli')\n",
    "    plt.xticks([2,4,6,8][:n_different_digits])\n",
    "    plt.ylim(0,100)\n",
    "    plt.show()\n",
    "        "
   ]
  },
  {
   "cell_type": "markdown",
   "metadata": {},
   "source": [
    "# s_evidence=5"
   ]
  },
  {
   "cell_type": "code",
   "execution_count": 11,
   "metadata": {},
   "outputs": [
    {
     "data": {
      "image/png": "[encoded data removed]",
      "text/plain": [
       "<Figure size 432x288 with 1 Axes>"
      ]
     },
     "metadata": {
      "needs_background": "light"
     },
     "output_type": "display_data"
    },
    {
     "name": "stdout",
     "output_type": "stream",
     "text": [
      "[178.  188.5 189.5 176.5]\n",
      "(4,)\n",
      "[0. 0. 0. 0.]\n"
     ]
    },
    {
     "data": {
      "image/png": "[encoded data removed]",
      "text/plain": [
       "<Figure size 432x288 with 1 Axes>"
      ]
     },
     "metadata": {
      "needs_background": "light"
     },
     "output_type": "display_data"
    },
    {
     "name": "stdout",
     "output_type": "stream",
     "text": [
      "(4,)\n",
      "[0. 0. 0. 0.]\n"
     ]
    },
    {
     "data": {
      "image/png": "[encoded data removed]",
      "text/plain": [
       "<Figure size 432x288 with 1 Axes>"
      ]
     },
     "metadata": {
      "needs_background": "light"
     },
     "output_type": "display_data"
    }
   ],
   "source": [
    "RTs_simple = np.copy(focus_results['RTs'][:,:]) * 1000\n",
    "for digit_RTs in RTs_simple:\n",
    "#     print(digit_RTs.shape)\n",
    "    digit_RTs = digit_RTs[digit_RTs != 0] # remove outliers (no answer)\n",
    "#     print(digit_RTs.shape)\n",
    "#     print('\\n')\n",
    "\n",
    "RTs_simple_median = np.median(RTs_simple, axis=0)\n",
    "RTs_simple_std = np.std(RTs_simple, axis=0)\n",
    "plt.errorbar([2,4,6,8][:n_different_digits], RTs_simple_median, yerr=RTs_simple_std, color='black', capsize=3, capthick=2, marker='.', markersize=12, markerfacecolor='white')\n",
    "plt.ylabel('Median Reaction times (ms)')\n",
    "plt.xlabel('Stimuli')\n",
    "plt.xticks([2,4,6,8][:n_different_digits])\n",
    "plt.show()\n",
    "\n",
    "print(RTs_simple_median)\n",
    "\n",
    "\n",
    "\n",
    "\n",
    "for unresponsive_as_error in [False,True]:\n",
    "\n",
    "    if unresponsive_as_error:\n",
    "        performance_simple = np.copy(focus_results['feedbacks'][:,:])\n",
    "        err_simple = np.sum(performance_simple != 2, axis=0) / performance_simple.shape[0] * 100\n",
    "        plt.title('Errors and absence of response')\n",
    "        \n",
    "    else:\n",
    "        performance_simple = np.copy(focus_results['feedbacks'][:,:])\n",
    "        n_responsive = np.sum(performance_simple!=0) # count the number of responses\n",
    "        err_simple = np.sum(performance_simple == 1, axis=0) / n_responsive * 100\n",
    "        plt.title('Errors')\n",
    "\n",
    "    print(err_simple.shape)\n",
    "    print(err_simple)\n",
    "    plt.bar([2,4,6,8][:n_different_digits], err_simple, color='black')\n",
    "    plt.ylabel('Error rates (%)')\n",
    "    plt.xlabel('Stimuli')\n",
    "    plt.xticks([2,4,6,8][:n_different_digits])\n",
    "    plt.ylim(0,100)\n",
    "    plt.show()\n",
    "        "
   ]
  },
  {
   "cell_type": "markdown",
   "metadata": {},
   "source": [
    "# s_evidence=5.9"
   ]
  },
  {
   "cell_type": "code",
   "execution_count": 5,
   "metadata": {},
   "outputs": [
    {
     "data": {
      "image/png": "[encoded data removed]",
      "text/plain": [
       "<Figure size 432x288 with 1 Axes>"
      ]
     },
     "metadata": {
      "needs_background": "light"
     },
     "output_type": "display_data"
    },
    {
     "name": "stdout",
     "output_type": "stream",
     "text": [
      "[163.  173.  169.  161.5]\n",
      "(4,)\n",
      "[0. 0. 0. 0.]\n"
     ]
    },
    {
     "data": {
      "image/png": "[encoded data removed]",
      "text/plain": [
       "<Figure size 432x288 with 1 Axes>"
      ]
     },
     "metadata": {
      "needs_background": "light"
     },
     "output_type": "display_data"
    },
    {
     "name": "stdout",
     "output_type": "stream",
     "text": [
      "(4,)\n",
      "[0. 0. 0. 0.]\n"
     ]
    },
    {
     "data": {
      "image/png": "[encoded data removed]",
      "text/plain": [
       "<Figure size 432x288 with 1 Axes>"
      ]
     },
     "metadata": {
      "needs_background": "light"
     },
     "output_type": "display_data"
    }
   ],
   "source": [
    "RTs_simple = np.copy(focus_results['RTs'][:,:]) * 1000\n",
    "for digit_RTs in RTs_simple:\n",
    "#     print(digit_RTs.shape)\n",
    "    digit_RTs = digit_RTs[digit_RTs != 0] # remove outliers (no answer)\n",
    "#     print(digit_RTs.shape)\n",
    "#     print('\\n')\n",
    "\n",
    "RTs_simple_median = np.median(RTs_simple, axis=0)\n",
    "RTs_simple_std = np.std(RTs_simple, axis=0)\n",
    "plt.errorbar([2,4,6,8][:n_different_digits], RTs_simple_median, yerr=RTs_simple_std, color='black', capsize=3, capthick=2, marker='.', markersize=12, markerfacecolor='white')\n",
    "plt.ylabel('Median Reaction times (ms)')\n",
    "plt.xlabel('Stimuli')\n",
    "plt.xticks([2,4,6,8][:n_different_digits])\n",
    "plt.show()\n",
    "\n",
    "print(RTs_simple_median)\n",
    "\n",
    "\n",
    "\n",
    "\n",
    "for unresponsive_as_error in [False,True]:\n",
    "\n",
    "    if unresponsive_as_error:\n",
    "        performance_simple = np.copy(focus_results['feedbacks'][:,:])\n",
    "        err_simple = np.sum(performance_simple != 2, axis=0) / performance_simple.shape[0] * 100\n",
    "        plt.title('Errors and absence of response')\n",
    "        \n",
    "    else:\n",
    "        performance_simple = np.copy(focus_results['feedbacks'][:,:])\n",
    "        n_responsive = np.sum(performance_simple!=0) # count the number of responses\n",
    "        err_simple = np.sum(performance_simple == 1, axis=0) / n_responsive * 100\n",
    "        plt.title('Errors')\n",
    "\n",
    "    print(err_simple.shape)\n",
    "    print(err_simple)\n",
    "    plt.bar([2,4,6,8][:n_different_digits], err_simple, color='black')\n",
    "    plt.ylabel('Error rates (%)')\n",
    "    plt.xlabel('Stimuli')\n",
    "    plt.xticks([2,4,6,8][:n_different_digits])\n",
    "    plt.ylim(0,100)\n",
    "    plt.show()\n",
    "        "
   ]
  },
  {
   "cell_type": "markdown",
   "metadata": {},
   "source": [
    "# Attention"
   ]
  },
  {
   "cell_type": "code",
   "execution_count": 6,
   "metadata": {},
   "outputs": [
    {
     "ename": "NameError",
     "evalue": "name 'model' is not defined",
     "output_type": "error",
     "traceback": [
      "\u001b[0;31m---------------------------------------------------------------------------\u001b[0m",
      "\u001b[0;31mNameError\u001b[0m                                 Traceback (most recent call last)",
      "\u001b[0;32m<ipython-input-6-48dd28334c45>\u001b[0m in \u001b[0;36m<module>\u001b[0;34m\u001b[0m\n\u001b[1;32m      1\u001b[0m \u001b[0mplt\u001b[0m\u001b[0;34m.\u001b[0m\u001b[0mfigure\u001b[0m\u001b[0;34m(\u001b[0m\u001b[0mfigsize\u001b[0m\u001b[0;34m=\u001b[0m\u001b[0;34m(\u001b[0m\u001b[0;36m16\u001b[0m\u001b[0;34m,\u001b[0m\u001b[0;36m6\u001b[0m\u001b[0;34m)\u001b[0m\u001b[0;34m)\u001b[0m\u001b[0;34m\u001b[0m\u001b[0;34m\u001b[0m\u001b[0m\n\u001b[1;32m      2\u001b[0m \u001b[0mi\u001b[0m\u001b[0;34m=\u001b[0m\u001b[0;36m0\u001b[0m\u001b[0;34m\u001b[0m\u001b[0;34m\u001b[0m\u001b[0m\n\u001b[0;32m----> 3\u001b[0;31m \u001b[0;32mfor\u001b[0m \u001b[0mp\u001b[0m \u001b[0;32min\u001b[0m \u001b[0mmodel\u001b[0m\u001b[0;34m.\u001b[0m\u001b[0mprocessors\u001b[0m\u001b[0;34m:\u001b[0m\u001b[0;34m\u001b[0m\u001b[0;34m\u001b[0m\u001b[0m\n\u001b[0m\u001b[1;32m      4\u001b[0m     \u001b[0;32mif\u001b[0m \u001b[0mp\u001b[0m\u001b[0;34m.\u001b[0m\u001b[0msender\u001b[0m\u001b[0;34m:\u001b[0m\u001b[0;34m\u001b[0m\u001b[0;34m\u001b[0m\u001b[0m\n\u001b[1;32m      5\u001b[0m         \u001b[0mplt\u001b[0m\u001b[0;34m.\u001b[0m\u001b[0msubplot\u001b[0m\u001b[0;34m(\u001b[0m\u001b[0;36m1\u001b[0m\u001b[0;34m,\u001b[0m\u001b[0mlen\u001b[0m\u001b[0;34m(\u001b[0m\u001b[0mmodel\u001b[0m\u001b[0;34m.\u001b[0m\u001b[0mprocessors\u001b[0m\u001b[0;34m)\u001b[0m\u001b[0;34m,\u001b[0m\u001b[0mi\u001b[0m\u001b[0;34m+\u001b[0m\u001b[0;36m1\u001b[0m\u001b[0;34m)\u001b[0m\u001b[0;34m\u001b[0m\u001b[0;34m\u001b[0m\u001b[0m\n",
      "\u001b[0;31mNameError\u001b[0m: name 'model' is not defined"
     ]
    },
    {
     "data": {
      "text/plain": [
       "<Figure size 1152x432 with 0 Axes>"
      ]
     },
     "metadata": {},
     "output_type": "display_data"
    }
   ],
   "source": [
    "plt.figure(figsize=(16,6))\n",
    "i=0\n",
    "for p in model.processors:\n",
    "    if p.sender:\n",
    "        plt.subplot(1,len(model.processors),i+1)\n",
    "        plt.plot(trange, sim.data[p_attentions[p]][selected_idx])\n",
    "        plt.title(p.label)\n",
    "        plt.ylim(-.2,2.2)\n",
    "        i += 1\n",
    "plt.show()"
   ]
  },
  {
   "cell_type": "markdown",
   "metadata": {},
   "source": [
    "# Access"
   ]
  },
  {
   "cell_type": "code",
   "execution_count": null,
   "metadata": {},
   "outputs": [],
   "source": [
    "plt.figure(figsize=(16,6))\n",
    "for i in range(model.network.access_net.AS.bg.input.size_out):\n",
    "    plt.subplot(1,model.network.access_net.AS.bg.input.size_out,i+1)\n",
    "    plt.plot(sim.trange()[selected_idx], sim.data[model.probes['AS_nets']['access']['in']][:,i][selected_idx])\n",
    "    plt.title(model.network.access_net.labels[i])\n",
    "    plt.ylim(-.5,1.5)\n",
    "\n",
    "plt.show()\n",
    "\n",
    "plt.figure(figsize=(16,6))\n",
    "for i in range(model.network.access_net.AS.bg.input.size_out):\n",
    "    plt.subplot(1,model.network.access_net.AS.bg.input.size_out,i+1)\n",
    "    plt.plot(sim.trange()[selected_idx], sim.data[model.probes['AS_nets']['access']['out']][:,i][selected_idx])\n",
    "    plt.title(model.network.access_net.labels[i])\n",
    "    plt.ylim(-.5,1.5)\n",
    "\n",
    "plt.show()"
   ]
  },
  {
   "cell_type": "markdown",
   "metadata": {},
   "source": [
    "# Routing"
   ]
  },
  {
   "cell_type": "code",
   "execution_count": null,
   "metadata": {},
   "outputs": [],
   "source": [
    "plt.figure(figsize=(16,6))\n",
    "for i in range(model.network.routing_net.AS.bg.input.size_out):\n",
    "    plt.subplot(1,model.network.routing_net.AS.bg.input.size_out,i+1)\n",
    "    plt.plot(sim.trange()[selected_idx], sim.data[model.probes['AS_nets']['routing']['in']][:,i][selected_idx])\n",
    "    plt.title(model.network.routing_net.labels[i])\n",
    "    plt.ylim(-.5,1.5)\n",
    "plt.show()\n",
    "\n",
    "plt.figure(figsize=(16,6))\n",
    "for i in range(model.network.routing_net.AS.bg.input.size_out):\n",
    "    plt.subplot(1,model.network.routing_net.AS.bg.input.size_out,i+1)\n",
    "    plt.plot(sim.trange()[selected_idx], sim.data[model.probes['AS_nets']['routing']['out']][:,i][selected_idx])\n",
    "    plt.title(model.network.routing_net.labels[i])\n",
    "    plt.ylim(-.5,1.5)\n",
    "plt.show()"
   ]
  },
  {
   "cell_type": "markdown",
   "metadata": {},
   "source": [
    "# Avec - 10"
   ]
  },
  {
   "cell_type": "code",
   "execution_count": null,
   "metadata": {},
   "outputs": [],
   "source": [
    "for j,p in enumerate(model.receivers):\n",
    "    \n",
    "    print(p.label)\n",
    "\n",
    "    plt.figure(figsize=(16,6))\n",
    "    for i in range(model.network.broadcast_nets[j].AS.bg.input.size_out):\n",
    "        plt.subplot(1,model.network.broadcast_nets[j].AS.bg.input.size_out,i+1)\n",
    "        plt.plot(sim.trange()[selected_idx], sim.data[model.probes['AS_nets']['broadcast '+p.label]['in']][:,i][selected_idx])\n",
    "        plt.title(model.network.broadcast_nets[j].labels[i])\n",
    "    plt.show()\n",
    "\n",
    "    plt.figure(figsize=(16,6))\n",
    "    for i in range(model.network.broadcast_nets[j].AS.bg.input.size_out):\n",
    "        plt.subplot(1,model.network.broadcast_nets[j].AS.bg.input.size_out,i+1)\n",
    "        plt.plot(sim.trange()[selected_idx], sim.data[model.probes['AS_nets']['broadcast '+p.label]['out']][:,i][selected_idx])\n",
    "        plt.title(model.network.broadcast_nets[j].labels[i])\n",
    "    plt.show()"
   ]
  },
  {
   "cell_type": "markdown",
   "metadata": {},
   "source": [
    "# Sans - 10"
   ]
  },
  {
   "cell_type": "code",
   "execution_count": null,
   "metadata": {},
   "outputs": [],
   "source": [
    "for j,p in enumerate(model.receivers):\n",
    "    \n",
    "    print(p.label)\n",
    "\n",
    "    plt.figure(figsize=(16,6))\n",
    "    for i in range(model.network.broadcast_nets[j].AS.bg.input.size_out):\n",
    "        plt.subplot(1,model.network.broadcast_nets[j].AS.bg.input.size_out,i+1)\n",
    "        plt.plot(sim.trange()[selected_idx], sim.data[model.probes['AS_nets']['broadcast '+p.label]['in']][:,i][selected_idx])\n",
    "        plt.title(model.network.broadcast_nets[j].labels[i])\n",
    "    plt.show()\n",
    "\n",
    "    plt.figure(figsize=(16,6))\n",
    "    for i in range(model.network.broadcast_nets[j].AS.bg.input.size_out):\n",
    "        plt.subplot(1,model.network.broadcast_nets[j].AS.bg.input.size_out,i+1)\n",
    "        plt.plot(sim.trange()[selected_idx], sim.data[model.probes['AS_nets']['broadcast '+p.label]['out']][:,i][selected_idx])\n",
    "        plt.title(model.network.broadcast_nets[j].labels[i])\n",
    "    plt.show()"
   ]
  },
  {
   "cell_type": "code",
   "execution_count": null,
   "metadata": {},
   "outputs": [],
   "source": []
  }
 ],
 "metadata": {
  "kernelspec": {
   "display_name": "Python 3",
   "language": "python",
   "name": "python3"
  },
  "language_info": {
   "codemirror_mode": {
    "name": "ipython",
    "version": 3
   },
   "file_extension": ".py",
   "mimetype": "text/x-python",
   "name": "python",
   "nbconvert_exporter": "python",
   "pygments_lexer": "ipython3",
   "version": "3.7.5"
  }
 },
 "nbformat": 4,
 "nbformat_minor": 2
}
