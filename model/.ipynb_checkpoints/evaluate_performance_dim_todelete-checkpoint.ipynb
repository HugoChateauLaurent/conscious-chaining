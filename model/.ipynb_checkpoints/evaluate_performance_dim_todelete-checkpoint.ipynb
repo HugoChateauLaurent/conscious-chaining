{
 "cells": [
  {
   "cell_type": "code",
   "execution_count": 1,
   "metadata": {},
   "outputs": [],
   "source": [
    "import nengo\n",
    "import nengo_spa as spa\n",
    "import pytry\n",
    "import numpy as np\n",
    "from random import shuffle\n",
    "import random\n",
    "import sys, os\n",
    "import math\n",
    "from IPython import display\n",
    "from scipy.optimize import brute, minimize\n",
    "from scipy.stats import sem\n",
    "import pandas as pd\n",
    "import matplotlib.pyplot as plt\n",
    "import matplotlib as mpl\n",
    "import matplotlib.style as style\n",
    "\n",
    "import os\n",
    "\n",
    "\n",
    "\n",
    "# Import our classes\n",
    "sys.path.append('..')\n",
    "import experiments as xps\n",
    "from experiments import create_xp\n",
    "from model import ExperimentRun, create_vocab\n",
    "from data import Data\n",
    "\n"
   ]
  },
  {
   "cell_type": "markdown",
   "metadata": {},
   "source": [
    "# Optimization and model parameters"
   ]
  },
  {
   "cell_type": "code",
   "execution_count": 2,
   "metadata": {},
   "outputs": [],
   "source": [
    "D = int(96)  # the dimensionality of the vectors\n",
    "PROC_FDBCK = .9\n",
    "PROC_FDBCK_SYN = .005\n",
    "GW_FDBCK = 1\n",
    "GW_SCALE = 20 # scale the input of GW for saturation and catching very short visual stimuli\n",
    "BG_THR = .1\n",
    "BG_BIAS = .5\n",
    "STIM_DURATION = .1\n",
    "FIX_DURATION = .5\n",
    "N_NEURONS_SCALE = 1\n",
    "N_NEURONS_SCALE_COMBINED = .25\n",
    "S_EVIDENCE = 20\n",
    "INTEGRATOR_RESET = False\n",
    "N_SAMPLES = 10000\n",
    "\n",
    "STARTING_SEED = 1\n",
    "N_SEEDS = 5\n",
    "\n",
    "N_BLOCKS_PER_OPERATION = 1 # default: 10\n",
    "N_TRIALS_PER_DIGIT = 2 # default: 5\n",
    "N_DIFFERENT_DIGITS = 4 # default: 4\n",
    "N_DIFFERENT_OPERATIONS = 3 # default: 3\n"
   ]
  },
  {
   "cell_type": "code",
   "execution_count": 3,
   "metadata": {
    "scrolled": true
   },
   "outputs": [
    {
     "name": "stdout",
     "output_type": "stream",
     "text": [
      "params: [1.]\n",
      "Simulating...\n",
      "\t seed 1/20\n",
      "\t seed 2/20\n",
      "\t seed 3/20\n",
      "\t seed 4/20\n",
      "\t seed 5/20\n",
      "\t seed 6/20\n",
      "\t seed 7/20\n",
      "\t seed 8/20\n",
      "\t seed 9/20\n",
      "\t seed 10/20\n",
      "\t seed 11/20\n",
      "running run_seed11_dim16\n"
     ]
    },
    {
     "name": "stderr",
     "output_type": "stream",
     "text": [
      "/home/ubuntu/anaconda3/envs/CTN/lib/python3.7/site-packages/nengo_spa/vocabulary.py:173: UserWarning: Could not create a semantic pointer with max_similarity=0.10 (D=16, M=8, similarity=0.11)\n",
      "  len(self._key2idx), best_sim))\n",
      "/home/ubuntu/anaconda3/envs/CTN/lib/python3.7/site-packages/nengo_spa/vocabulary.py:173: UserWarning: Could not create a semantic pointer with max_similarity=0.10 (D=16, M=9, similarity=0.18)\n",
      "  len(self._key2idx), best_sim))\n",
      "/home/ubuntu/anaconda3/envs/CTN/lib/python3.7/site-packages/nengo_spa/vocabulary.py:173: UserWarning: Could not create a semantic pointer with max_similarity=0.10 (D=16, M=10, similarity=0.15)\n",
      "  len(self._key2idx), best_sim))\n",
      "/home/ubuntu/anaconda3/envs/CTN/lib/python3.7/site-packages/nengo_spa/vocabulary.py:173: UserWarning: Could not create a semantic pointer with max_similarity=0.10 (D=16, M=11, similarity=0.14)\n",
      "  len(self._key2idx), best_sim))\n",
      "/home/ubuntu/anaconda3/envs/CTN/lib/python3.7/site-packages/nengo_spa/vocabulary.py:173: UserWarning: Could not create a semantic pointer with max_similarity=0.10 (D=16, M=12, similarity=0.20)\n",
      "  len(self._key2idx), best_sim))\n",
      "/home/ubuntu/anaconda3/envs/CTN/lib/python3.7/site-packages/nengo_spa/vocabulary.py:173: UserWarning: Could not create a semantic pointer with max_similarity=0.10 (D=16, M=13, similarity=0.20)\n",
      "  len(self._key2idx), best_sim))\n",
      "/home/ubuntu/anaconda3/envs/CTN/lib/python3.7/site-packages/nengo_spa/vocabulary.py:173: UserWarning: Could not create a semantic pointer with max_similarity=0.10 (D=16, M=14, similarity=0.23)\n",
      "  len(self._key2idx), best_sim))\n",
      "/home/ubuntu/anaconda3/envs/CTN/lib/python3.7/site-packages/nengo_spa/vocabulary.py:173: UserWarning: Could not create a semantic pointer with max_similarity=0.10 (D=16, M=15, similarity=0.27)\n",
      "  len(self._key2idx), best_sim))\n",
      "/home/ubuntu/anaconda3/envs/CTN/lib/python3.7/site-packages/nengo_spa/vocabulary.py:173: UserWarning: Could not create a semantic pointer with max_similarity=0.10 (D=16, M=16, similarity=0.22)\n",
      "  len(self._key2idx), best_sim))\n",
      "/home/ubuntu/anaconda3/envs/CTN/lib/python3.7/site-packages/nengo_spa/vocabulary.py:173: UserWarning: Could not create a semantic pointer with max_similarity=0.10 (D=16, M=17, similarity=0.21)\n",
      "  len(self._key2idx), best_sim))\n",
      "/home/ubuntu/anaconda3/envs/CTN/lib/python3.7/site-packages/nengo_spa/vocabulary.py:173: UserWarning: Could not create a semantic pointer with max_similarity=0.10 (D=16, M=18, similarity=0.25)\n",
      "  len(self._key2idx), best_sim))\n",
      "/home/ubuntu/anaconda3/envs/CTN/lib/python3.7/site-packages/nengo_spa/vocabulary.py:173: UserWarning: Could not create a semantic pointer with max_similarity=0.10 (D=16, M=19, similarity=0.25)\n",
      "  len(self._key2idx), best_sim))\n",
      "/home/ubuntu/anaconda3/envs/CTN/lib/python3.7/site-packages/nengo_spa/vocabulary.py:173: UserWarning: Could not create a semantic pointer with max_similarity=0.10 (D=16, M=20, similarity=0.24)\n",
      "  len(self._key2idx), best_sim))\n"
     ]
    },
    {
     "name": "stdout",
     "output_type": "stream",
     "text": [
      "No context argument was provided to nengo_ocl.Simulator\n",
      "Calling pyopencl.create_some_context() for you now:\n"
     ]
    },
    {
     "data": {
      "text/html": [
       "\n",
       "                <div id=\"1738694c-9ef0-4b09-8ff3-16b76a1de8e1\" style=\"\n",
       "                    width: 100%;\n",
       "                    border: 1px solid #cfcfcf;\n",
       "                    border-radius: 4px;\n",
       "                    text-align: center;\n",
       "                    position: relative;\">\n",
       "                  <div class=\"pb-text\" style=\"\n",
       "                      position: absolute;\n",
       "                      width: 100%;\">\n",
       "                    0%\n",
       "                  </div>\n",
       "                  <div class=\"pb-fill\" style=\"\n",
       "                      background-color: #bdd2e6;\n",
       "                      width: 0%;\">\n",
       "                    <style type=\"text/css\" scoped=\"scoped\">\n",
       "                        @keyframes pb-fill-anim {\n",
       "                            0% { background-position: 0 0; }\n",
       "                            100% { background-position: 100px 0; }\n",
       "                        }\n",
       "                    </style>\n",
       "                    &nbsp;\n",
       "                  </div>\n",
       "                </div>"
      ],
      "text/plain": [
       "HtmlProgressBar cannot be displayed. Please use the TerminalProgressBar. It can be enabled with `nengo.rc.set('progress', 'progress_bar', 'nengo.utils.progress.TerminalProgressBar')`."
      ]
     },
     "metadata": {},
     "output_type": "display_data"
    },
    {
     "data": {
      "application/javascript": [
       "\n",
       "              (function () {\n",
       "                  var root = document.getElementById('1738694c-9ef0-4b09-8ff3-16b76a1de8e1');\n",
       "                  var text = root.getElementsByClassName('pb-text')[0];\n",
       "                  var fill = root.getElementsByClassName('pb-fill')[0];\n",
       "\n",
       "                  text.innerHTML = 'Simulation finished in 0:01:34.';\n",
       "                  \n",
       "            if (100.0 > 0.) {\n",
       "                fill.style.transition = 'width 0.1s linear';\n",
       "            } else {\n",
       "                fill.style.transition = 'none';\n",
       "            }\n",
       "\n",
       "            fill.style.width = '100.0%';\n",
       "            fill.style.animation = 'none';\n",
       "            fill.style.backgroundImage = 'none'\n",
       "        \n",
       "                  \n",
       "                fill.style.animation = 'none';\n",
       "                fill.style.backgroundImage = 'none';\n",
       "            \n",
       "              })();\n",
       "        "
      ],
      "text/plain": [
       "<IPython.core.display.Javascript object>"
      ]
     },
     "metadata": {},
     "output_type": "display_data"
    },
    {
     "name": "stdout",
     "output_type": "stream",
     "text": [
      "seed = 11\n",
      "backend = 'nengo_ocl'\n",
      "dt = 0.001\n",
      "neuron_type = 'default'\n",
      "n_neurons_scale = 1\n",
      "n_neurons_scale_combined = 0.25\n",
      "s_crosstalk = 0\n",
      "s_evidence = 20\n",
      "n_samples = 10000\n",
      "t_senso = 0\n",
      "vocab = <nengo_spa.vocabulary.Vocabulary object at 0x7f30f2a4d410>\n",
      "xp = <experiments.Xp1 object at 0x7f30f2a47d50>\n",
      "proc_feedback = 0.9\n",
      "proc_feedback_synapse = 0.005\n",
      "GW_feedback = 1\n",
      "GW_threshold = 0.5\n",
      "GW_scale = 20\n",
      "BG_thr = 0.1\n",
      "BG_bias = 0.5\n",
      "integrator_reset = False\n",
      "data = <data.Data object at 0x7f30f3143250>\n",
      "\t seed 12/20\n",
      "running run_seed12_dim16\n"
     ]
    },
    {
     "name": "stderr",
     "output_type": "stream",
     "text": [
      "/home/ubuntu/anaconda3/envs/CTN/lib/python3.7/site-packages/nengo_spa/vocabulary.py:173: UserWarning: Could not create a semantic pointer with max_similarity=0.10 (D=16, M=8, similarity=0.12)\n",
      "  len(self._key2idx), best_sim))\n",
      "/home/ubuntu/anaconda3/envs/CTN/lib/python3.7/site-packages/nengo_spa/vocabulary.py:173: UserWarning: Could not create a semantic pointer with max_similarity=0.10 (D=16, M=9, similarity=0.16)\n",
      "  len(self._key2idx), best_sim))\n",
      "/home/ubuntu/anaconda3/envs/CTN/lib/python3.7/site-packages/nengo_spa/vocabulary.py:173: UserWarning: Could not create a semantic pointer with max_similarity=0.10 (D=16, M=10, similarity=0.16)\n",
      "  len(self._key2idx), best_sim))\n",
      "/home/ubuntu/anaconda3/envs/CTN/lib/python3.7/site-packages/nengo_spa/vocabulary.py:173: UserWarning: Could not create a semantic pointer with max_similarity=0.10 (D=16, M=11, similarity=0.16)\n",
      "  len(self._key2idx), best_sim))\n",
      "/home/ubuntu/anaconda3/envs/CTN/lib/python3.7/site-packages/nengo_spa/vocabulary.py:173: UserWarning: Could not create a semantic pointer with max_similarity=0.10 (D=16, M=12, similarity=0.21)\n",
      "  len(self._key2idx), best_sim))\n",
      "/home/ubuntu/anaconda3/envs/CTN/lib/python3.7/site-packages/nengo_spa/vocabulary.py:173: UserWarning: Could not create a semantic pointer with max_similarity=0.10 (D=16, M=13, similarity=0.14)\n",
      "  len(self._key2idx), best_sim))\n",
      "/home/ubuntu/anaconda3/envs/CTN/lib/python3.7/site-packages/nengo_spa/vocabulary.py:173: UserWarning: Could not create a semantic pointer with max_similarity=0.10 (D=16, M=14, similarity=0.25)\n",
      "  len(self._key2idx), best_sim))\n",
      "/home/ubuntu/anaconda3/envs/CTN/lib/python3.7/site-packages/nengo_spa/vocabulary.py:173: UserWarning: Could not create a semantic pointer with max_similarity=0.10 (D=16, M=15, similarity=0.24)\n",
      "  len(self._key2idx), best_sim))\n",
      "/home/ubuntu/anaconda3/envs/CTN/lib/python3.7/site-packages/nengo_spa/vocabulary.py:173: UserWarning: Could not create a semantic pointer with max_similarity=0.10 (D=16, M=16, similarity=0.23)\n",
      "  len(self._key2idx), best_sim))\n",
      "/home/ubuntu/anaconda3/envs/CTN/lib/python3.7/site-packages/nengo_spa/vocabulary.py:173: UserWarning: Could not create a semantic pointer with max_similarity=0.10 (D=16, M=17, similarity=0.24)\n",
      "  len(self._key2idx), best_sim))\n",
      "/home/ubuntu/anaconda3/envs/CTN/lib/python3.7/site-packages/nengo_spa/vocabulary.py:173: UserWarning: Could not create a semantic pointer with max_similarity=0.10 (D=16, M=18, similarity=0.22)\n",
      "  len(self._key2idx), best_sim))\n",
      "/home/ubuntu/anaconda3/envs/CTN/lib/python3.7/site-packages/nengo_spa/vocabulary.py:173: UserWarning: Could not create a semantic pointer with max_similarity=0.10 (D=16, M=19, similarity=0.25)\n",
      "  len(self._key2idx), best_sim))\n",
      "/home/ubuntu/anaconda3/envs/CTN/lib/python3.7/site-packages/nengo_spa/vocabulary.py:173: UserWarning: Could not create a semantic pointer with max_similarity=0.10 (D=16, M=20, similarity=0.28)\n",
      "  len(self._key2idx), best_sim))\n"
     ]
    },
    {
     "data": {
      "text/html": [
       "\n",
       "                <div id=\"1cc305f9-42d8-4c49-af4d-8abf2481a5e9\" style=\"\n",
       "                    width: 100%;\n",
       "                    border: 1px solid #cfcfcf;\n",
       "                    border-radius: 4px;\n",
       "                    text-align: center;\n",
       "                    position: relative;\">\n",
       "                  <div class=\"pb-text\" style=\"\n",
       "                      position: absolute;\n",
       "                      width: 100%;\">\n",
       "                    0%\n",
       "                  </div>\n",
       "                  <div class=\"pb-fill\" style=\"\n",
       "                      background-color: #bdd2e6;\n",
       "                      width: 0%;\">\n",
       "                    <style type=\"text/css\" scoped=\"scoped\">\n",
       "                        @keyframes pb-fill-anim {\n",
       "                            0% { background-position: 0 0; }\n",
       "                            100% { background-position: 100px 0; }\n",
       "                        }\n",
       "                    </style>\n",
       "                    &nbsp;\n",
       "                  </div>\n",
       "                </div>"
      ],
      "text/plain": [
       "HtmlProgressBar cannot be displayed. Please use the TerminalProgressBar. It can be enabled with `nengo.rc.set('progress', 'progress_bar', 'nengo.utils.progress.TerminalProgressBar')`."
      ]
     },
     "metadata": {},
     "output_type": "display_data"
    },
    {
     "data": {
      "application/javascript": [
       "\n",
       "              (function () {\n",
       "                  var root = document.getElementById('1cc305f9-42d8-4c49-af4d-8abf2481a5e9');\n",
       "                  var text = root.getElementsByClassName('pb-text')[0];\n",
       "                  var fill = root.getElementsByClassName('pb-fill')[0];\n",
       "\n",
       "                  text.innerHTML = 'Simulation finished in 0:01:35.';\n",
       "                  \n",
       "            if (100.0 > 0.) {\n",
       "                fill.style.transition = 'width 0.1s linear';\n",
       "            } else {\n",
       "                fill.style.transition = 'none';\n",
       "            }\n",
       "\n",
       "            fill.style.width = '100.0%';\n",
       "            fill.style.animation = 'none';\n",
       "            fill.style.backgroundImage = 'none'\n",
       "        \n",
       "                  \n",
       "                fill.style.animation = 'none';\n",
       "                fill.style.backgroundImage = 'none';\n",
       "            \n",
       "              })();\n",
       "        "
      ],
      "text/plain": [
       "<IPython.core.display.Javascript object>"
      ]
     },
     "metadata": {},
     "output_type": "display_data"
    },
    {
     "name": "stdout",
     "output_type": "stream",
     "text": [
      "seed = 12\n",
      "backend = 'nengo_ocl'\n",
      "dt = 0.001\n",
      "neuron_type = 'default'\n",
      "n_neurons_scale = 1\n",
      "n_neurons_scale_combined = 0.25\n",
      "s_crosstalk = 0\n",
      "s_evidence = 20\n",
      "n_samples = 10000\n",
      "t_senso = 0\n",
      "vocab = <nengo_spa.vocabulary.Vocabulary object at 0x7f30e8a36150>\n",
      "xp = <experiments.Xp1 object at 0x7f312413e990>\n",
      "proc_feedback = 0.9\n",
      "proc_feedback_synapse = 0.005\n",
      "GW_feedback = 1\n",
      "GW_threshold = 0.5\n",
      "GW_scale = 20\n",
      "BG_thr = 0.1\n",
      "BG_bias = 0.5\n",
      "integrator_reset = False\n",
      "data = <data.Data object at 0x7f30f27a7fd0>\n",
      "\t seed 13/20\n",
      "running run_seed13_dim16\n"
     ]
    },
    {
     "name": "stderr",
     "output_type": "stream",
     "text": [
      "/home/ubuntu/anaconda3/envs/CTN/lib/python3.7/site-packages/nengo_spa/vocabulary.py:173: UserWarning: Could not create a semantic pointer with max_similarity=0.10 (D=16, M=7, similarity=0.14)\n",
      "  len(self._key2idx), best_sim))\n",
      "/home/ubuntu/anaconda3/envs/CTN/lib/python3.7/site-packages/nengo_spa/vocabulary.py:173: UserWarning: Could not create a semantic pointer with max_similarity=0.10 (D=16, M=8, similarity=0.10)\n",
      "  len(self._key2idx), best_sim))\n",
      "/home/ubuntu/anaconda3/envs/CTN/lib/python3.7/site-packages/nengo_spa/vocabulary.py:173: UserWarning: Could not create a semantic pointer with max_similarity=0.10 (D=16, M=9, similarity=0.14)\n",
      "  len(self._key2idx), best_sim))\n",
      "/home/ubuntu/anaconda3/envs/CTN/lib/python3.7/site-packages/nengo_spa/vocabulary.py:173: UserWarning: Could not create a semantic pointer with max_similarity=0.10 (D=16, M=10, similarity=0.17)\n",
      "  len(self._key2idx), best_sim))\n",
      "/home/ubuntu/anaconda3/envs/CTN/lib/python3.7/site-packages/nengo_spa/vocabulary.py:173: UserWarning: Could not create a semantic pointer with max_similarity=0.10 (D=16, M=11, similarity=0.24)\n",
      "  len(self._key2idx), best_sim))\n",
      "/home/ubuntu/anaconda3/envs/CTN/lib/python3.7/site-packages/nengo_spa/vocabulary.py:173: UserWarning: Could not create a semantic pointer with max_similarity=0.10 (D=16, M=12, similarity=0.16)\n",
      "  len(self._key2idx), best_sim))\n",
      "/home/ubuntu/anaconda3/envs/CTN/lib/python3.7/site-packages/nengo_spa/vocabulary.py:173: UserWarning: Could not create a semantic pointer with max_similarity=0.10 (D=16, M=13, similarity=0.18)\n",
      "  len(self._key2idx), best_sim))\n",
      "/home/ubuntu/anaconda3/envs/CTN/lib/python3.7/site-packages/nengo_spa/vocabulary.py:173: UserWarning: Could not create a semantic pointer with max_similarity=0.10 (D=16, M=14, similarity=0.20)\n",
      "  len(self._key2idx), best_sim))\n",
      "/home/ubuntu/anaconda3/envs/CTN/lib/python3.7/site-packages/nengo_spa/vocabulary.py:173: UserWarning: Could not create a semantic pointer with max_similarity=0.10 (D=16, M=15, similarity=0.20)\n",
      "  len(self._key2idx), best_sim))\n",
      "/home/ubuntu/anaconda3/envs/CTN/lib/python3.7/site-packages/nengo_spa/vocabulary.py:173: UserWarning: Could not create a semantic pointer with max_similarity=0.10 (D=16, M=16, similarity=0.24)\n",
      "  len(self._key2idx), best_sim))\n",
      "/home/ubuntu/anaconda3/envs/CTN/lib/python3.7/site-packages/nengo_spa/vocabulary.py:173: UserWarning: Could not create a semantic pointer with max_similarity=0.10 (D=16, M=17, similarity=0.20)\n",
      "  len(self._key2idx), best_sim))\n",
      "/home/ubuntu/anaconda3/envs/CTN/lib/python3.7/site-packages/nengo_spa/vocabulary.py:173: UserWarning: Could not create a semantic pointer with max_similarity=0.10 (D=16, M=18, similarity=0.20)\n",
      "  len(self._key2idx), best_sim))\n",
      "/home/ubuntu/anaconda3/envs/CTN/lib/python3.7/site-packages/nengo_spa/vocabulary.py:173: UserWarning: Could not create a semantic pointer with max_similarity=0.10 (D=16, M=19, similarity=0.27)\n",
      "  len(self._key2idx), best_sim))\n",
      "/home/ubuntu/anaconda3/envs/CTN/lib/python3.7/site-packages/nengo_spa/vocabulary.py:173: UserWarning: Could not create a semantic pointer with max_similarity=0.10 (D=16, M=20, similarity=0.30)\n",
      "  len(self._key2idx), best_sim))\n"
     ]
    },
    {
     "data": {
      "text/html": [
       "\n",
       "                <div id=\"9fd3b802-c7ca-46e1-a295-fd5b49551699\" style=\"\n",
       "                    width: 100%;\n",
       "                    border: 1px solid #cfcfcf;\n",
       "                    border-radius: 4px;\n",
       "                    text-align: center;\n",
       "                    position: relative;\">\n",
       "                  <div class=\"pb-text\" style=\"\n",
       "                      position: absolute;\n",
       "                      width: 100%;\">\n",
       "                    0%\n",
       "                  </div>\n",
       "                  <div class=\"pb-fill\" style=\"\n",
       "                      background-color: #bdd2e6;\n",
       "                      width: 0%;\">\n",
       "                    <style type=\"text/css\" scoped=\"scoped\">\n",
       "                        @keyframes pb-fill-anim {\n",
       "                            0% { background-position: 0 0; }\n",
       "                            100% { background-position: 100px 0; }\n",
       "                        }\n",
       "                    </style>\n",
       "                    &nbsp;\n",
       "                  </div>\n",
       "                </div>"
      ],
      "text/plain": [
       "HtmlProgressBar cannot be displayed. Please use the TerminalProgressBar. It can be enabled with `nengo.rc.set('progress', 'progress_bar', 'nengo.utils.progress.TerminalProgressBar')`."
      ]
     },
     "metadata": {},
     "output_type": "display_data"
    },
    {
     "data": {
      "application/javascript": [
       "\n",
       "              (function () {\n",
       "                  var root = document.getElementById('9fd3b802-c7ca-46e1-a295-fd5b49551699');\n",
       "                  var text = root.getElementsByClassName('pb-text')[0];\n",
       "                  var fill = root.getElementsByClassName('pb-fill')[0];\n",
       "\n",
       "                  text.innerHTML = 'Simulation finished in 0:01:31.';\n",
       "                  \n",
       "            if (100.0 > 0.) {\n",
       "                fill.style.transition = 'width 0.1s linear';\n",
       "            } else {\n",
       "                fill.style.transition = 'none';\n",
       "            }\n",
       "\n",
       "            fill.style.width = '100.0%';\n",
       "            fill.style.animation = 'none';\n",
       "            fill.style.backgroundImage = 'none'\n",
       "        \n",
       "                  \n",
       "                fill.style.animation = 'none';\n",
       "                fill.style.backgroundImage = 'none';\n",
       "            \n",
       "              })();\n",
       "        "
      ],
      "text/plain": [
       "<IPython.core.display.Javascript object>"
      ]
     },
     "metadata": {},
     "output_type": "display_data"
    },
    {
     "name": "stdout",
     "output_type": "stream",
     "text": [
      "seed = 13\n",
      "backend = 'nengo_ocl'\n",
      "dt = 0.001\n",
      "neuron_type = 'default'\n",
      "n_neurons_scale = 1\n",
      "n_neurons_scale_combined = 0.25\n",
      "s_crosstalk = 0\n",
      "s_evidence = 20\n",
      "n_samples = 10000\n",
      "t_senso = 0\n",
      "vocab = <nengo_spa.vocabulary.Vocabulary object at 0x7f30f25a1710>\n",
      "xp = <experiments.Xp1 object at 0x7f30e89b2c90>\n",
      "proc_feedback = 0.9\n",
      "proc_feedback_synapse = 0.005\n",
      "GW_feedback = 1\n",
      "GW_threshold = 0.5\n",
      "GW_scale = 20\n",
      "BG_thr = 0.1\n",
      "BG_bias = 0.5\n",
      "integrator_reset = False\n",
      "data = <data.Data object at 0x7f30e8744750>\n",
      "\t seed 14/20\n",
      "running run_seed14_dim16\n"
     ]
    },
    {
     "name": "stderr",
     "output_type": "stream",
     "text": [
      "/home/ubuntu/anaconda3/envs/CTN/lib/python3.7/site-packages/nengo_spa/vocabulary.py:173: UserWarning: Could not create a semantic pointer with max_similarity=0.10 (D=16, M=9, similarity=0.11)\n",
      "  len(self._key2idx), best_sim))\n",
      "/home/ubuntu/anaconda3/envs/CTN/lib/python3.7/site-packages/nengo_spa/vocabulary.py:173: UserWarning: Could not create a semantic pointer with max_similarity=0.10 (D=16, M=10, similarity=0.20)\n",
      "  len(self._key2idx), best_sim))\n",
      "/home/ubuntu/anaconda3/envs/CTN/lib/python3.7/site-packages/nengo_spa/vocabulary.py:173: UserWarning: Could not create a semantic pointer with max_similarity=0.10 (D=16, M=11, similarity=0.18)\n",
      "  len(self._key2idx), best_sim))\n",
      "/home/ubuntu/anaconda3/envs/CTN/lib/python3.7/site-packages/nengo_spa/vocabulary.py:173: UserWarning: Could not create a semantic pointer with max_similarity=0.10 (D=16, M=12, similarity=0.18)\n",
      "  len(self._key2idx), best_sim))\n",
      "/home/ubuntu/anaconda3/envs/CTN/lib/python3.7/site-packages/nengo_spa/vocabulary.py:173: UserWarning: Could not create a semantic pointer with max_similarity=0.10 (D=16, M=13, similarity=0.20)\n",
      "  len(self._key2idx), best_sim))\n",
      "/home/ubuntu/anaconda3/envs/CTN/lib/python3.7/site-packages/nengo_spa/vocabulary.py:173: UserWarning: Could not create a semantic pointer with max_similarity=0.10 (D=16, M=17, similarity=0.23)\n",
      "  len(self._key2idx), best_sim))\n",
      "/home/ubuntu/anaconda3/envs/CTN/lib/python3.7/site-packages/nengo_spa/vocabulary.py:173: UserWarning: Could not create a semantic pointer with max_similarity=0.10 (D=16, M=18, similarity=0.23)\n",
      "  len(self._key2idx), best_sim))\n",
      "/home/ubuntu/anaconda3/envs/CTN/lib/python3.7/site-packages/nengo_spa/vocabulary.py:173: UserWarning: Could not create a semantic pointer with max_similarity=0.10 (D=16, M=19, similarity=0.29)\n",
      "  len(self._key2idx), best_sim))\n"
     ]
    },
    {
     "data": {
      "text/html": [
       "\n",
       "                <div id=\"3f5fbb72-77d4-4622-b1bd-879b8db5f1eb\" style=\"\n",
       "                    width: 100%;\n",
       "                    border: 1px solid #cfcfcf;\n",
       "                    border-radius: 4px;\n",
       "                    text-align: center;\n",
       "                    position: relative;\">\n",
       "                  <div class=\"pb-text\" style=\"\n",
       "                      position: absolute;\n",
       "                      width: 100%;\">\n",
       "                    0%\n",
       "                  </div>\n",
       "                  <div class=\"pb-fill\" style=\"\n",
       "                      background-color: #bdd2e6;\n",
       "                      width: 0%;\">\n",
       "                    <style type=\"text/css\" scoped=\"scoped\">\n",
       "                        @keyframes pb-fill-anim {\n",
       "                            0% { background-position: 0 0; }\n",
       "                            100% { background-position: 100px 0; }\n",
       "                        }\n",
       "                    </style>\n",
       "                    &nbsp;\n",
       "                  </div>\n",
       "                </div>"
      ],
      "text/plain": [
       "HtmlProgressBar cannot be displayed. Please use the TerminalProgressBar. It can be enabled with `nengo.rc.set('progress', 'progress_bar', 'nengo.utils.progress.TerminalProgressBar')`."
      ]
     },
     "metadata": {},
     "output_type": "display_data"
    },
    {
     "data": {
      "application/javascript": [
       "\n",
       "              (function () {\n",
       "                  var root = document.getElementById('3f5fbb72-77d4-4622-b1bd-879b8db5f1eb');\n",
       "                  var text = root.getElementsByClassName('pb-text')[0];\n",
       "                  var fill = root.getElementsByClassName('pb-fill')[0];\n",
       "\n",
       "                  text.innerHTML = 'Simulation finished in 0:01:42.';\n",
       "                  \n",
       "            if (100.0 > 0.) {\n",
       "                fill.style.transition = 'width 0.1s linear';\n",
       "            } else {\n",
       "                fill.style.transition = 'none';\n",
       "            }\n",
       "\n",
       "            fill.style.width = '100.0%';\n",
       "            fill.style.animation = 'none';\n",
       "            fill.style.backgroundImage = 'none'\n",
       "        \n",
       "                  \n",
       "                fill.style.animation = 'none';\n",
       "                fill.style.backgroundImage = 'none';\n",
       "            \n",
       "              })();\n",
       "        "
      ],
      "text/plain": [
       "<IPython.core.display.Javascript object>"
      ]
     },
     "metadata": {},
     "output_type": "display_data"
    },
    {
     "name": "stdout",
     "output_type": "stream",
     "text": [
      "seed = 14\n",
      "backend = 'nengo_ocl'\n",
      "dt = 0.001\n",
      "neuron_type = 'default'\n",
      "n_neurons_scale = 1\n",
      "n_neurons_scale_combined = 0.25\n",
      "s_crosstalk = 0\n",
      "s_evidence = 20\n",
      "n_samples = 10000\n",
      "t_senso = 0\n",
      "vocab = <nengo_spa.vocabulary.Vocabulary object at 0x7f30e86b1490>\n",
      "xp = <experiments.Xp1 object at 0x7f30ae422710>\n",
      "proc_feedback = 0.9\n",
      "proc_feedback_synapse = 0.005\n",
      "GW_feedback = 1\n",
      "GW_threshold = 0.5\n",
      "GW_scale = 20\n",
      "BG_thr = 0.1\n",
      "BG_bias = 0.5\n",
      "integrator_reset = False\n",
      "data = <data.Data object at 0x7f30acc41ad0>\n",
      "\t seed 15/20\n",
      "running run_seed15_dim16\n"
     ]
    },
    {
     "name": "stderr",
     "output_type": "stream",
     "text": [
      "/home/ubuntu/anaconda3/envs/CTN/lib/python3.7/site-packages/nengo_spa/vocabulary.py:173: UserWarning: Could not create a semantic pointer with max_similarity=0.10 (D=16, M=7, similarity=0.10)\n",
      "  len(self._key2idx), best_sim))\n",
      "/home/ubuntu/anaconda3/envs/CTN/lib/python3.7/site-packages/nengo_spa/vocabulary.py:173: UserWarning: Could not create a semantic pointer with max_similarity=0.10 (D=16, M=10, similarity=0.15)\n",
      "  len(self._key2idx), best_sim))\n",
      "/home/ubuntu/anaconda3/envs/CTN/lib/python3.7/site-packages/nengo_spa/vocabulary.py:173: UserWarning: Could not create a semantic pointer with max_similarity=0.10 (D=16, M=11, similarity=0.12)\n",
      "  len(self._key2idx), best_sim))\n",
      "/home/ubuntu/anaconda3/envs/CTN/lib/python3.7/site-packages/nengo_spa/vocabulary.py:173: UserWarning: Could not create a semantic pointer with max_similarity=0.10 (D=16, M=14, similarity=0.24)\n",
      "  len(self._key2idx), best_sim))\n",
      "/home/ubuntu/anaconda3/envs/CTN/lib/python3.7/site-packages/nengo_spa/vocabulary.py:173: UserWarning: Could not create a semantic pointer with max_similarity=0.10 (D=16, M=15, similarity=0.21)\n",
      "  len(self._key2idx), best_sim))\n",
      "/home/ubuntu/anaconda3/envs/CTN/lib/python3.7/site-packages/nengo_spa/vocabulary.py:173: UserWarning: Could not create a semantic pointer with max_similarity=0.10 (D=16, M=17, similarity=0.22)\n",
      "  len(self._key2idx), best_sim))\n",
      "/home/ubuntu/anaconda3/envs/CTN/lib/python3.7/site-packages/nengo_spa/vocabulary.py:173: UserWarning: Could not create a semantic pointer with max_similarity=0.10 (D=16, M=18, similarity=0.28)\n",
      "  len(self._key2idx), best_sim))\n",
      "/home/ubuntu/anaconda3/envs/CTN/lib/python3.7/site-packages/nengo_spa/vocabulary.py:173: UserWarning: Could not create a semantic pointer with max_similarity=0.10 (D=16, M=19, similarity=0.28)\n",
      "  len(self._key2idx), best_sim))\n",
      "/home/ubuntu/anaconda3/envs/CTN/lib/python3.7/site-packages/nengo_spa/vocabulary.py:173: UserWarning: Could not create a semantic pointer with max_similarity=0.10 (D=16, M=20, similarity=0.31)\n",
      "  len(self._key2idx), best_sim))\n"
     ]
    },
    {
     "data": {
      "text/html": [
       "\n",
       "                <div id=\"e2678611-2c0c-47ef-94ee-b8269a4ebcdb\" style=\"\n",
       "                    width: 100%;\n",
       "                    border: 1px solid #cfcfcf;\n",
       "                    border-radius: 4px;\n",
       "                    text-align: center;\n",
       "                    position: relative;\">\n",
       "                  <div class=\"pb-text\" style=\"\n",
       "                      position: absolute;\n",
       "                      width: 100%;\">\n",
       "                    0%\n",
       "                  </div>\n",
       "                  <div class=\"pb-fill\" style=\"\n",
       "                      background-color: #bdd2e6;\n",
       "                      width: 0%;\">\n",
       "                    <style type=\"text/css\" scoped=\"scoped\">\n",
       "                        @keyframes pb-fill-anim {\n",
       "                            0% { background-position: 0 0; }\n",
       "                            100% { background-position: 100px 0; }\n",
       "                        }\n",
       "                    </style>\n",
       "                    &nbsp;\n",
       "                  </div>\n",
       "                </div>"
      ],
      "text/plain": [
       "HtmlProgressBar cannot be displayed. Please use the TerminalProgressBar. It can be enabled with `nengo.rc.set('progress', 'progress_bar', 'nengo.utils.progress.TerminalProgressBar')`."
      ]
     },
     "metadata": {},
     "output_type": "display_data"
    },
    {
     "data": {
      "application/javascript": [
       "\n",
       "              (function () {\n",
       "                  var root = document.getElementById('e2678611-2c0c-47ef-94ee-b8269a4ebcdb');\n",
       "                  var text = root.getElementsByClassName('pb-text')[0];\n",
       "                  var fill = root.getElementsByClassName('pb-fill')[0];\n",
       "\n",
       "                  text.innerHTML = 'Simulation finished in 0:01:32.';\n",
       "                  \n",
       "            if (100.0 > 0.) {\n",
       "                fill.style.transition = 'width 0.1s linear';\n",
       "            } else {\n",
       "                fill.style.transition = 'none';\n",
       "            }\n",
       "\n",
       "            fill.style.width = '100.0%';\n",
       "            fill.style.animation = 'none';\n",
       "            fill.style.backgroundImage = 'none'\n",
       "        \n",
       "                  \n",
       "                fill.style.animation = 'none';\n",
       "                fill.style.backgroundImage = 'none';\n",
       "            \n",
       "              })();\n",
       "        "
      ],
      "text/plain": [
       "<IPython.core.display.Javascript object>"
      ]
     },
     "metadata": {},
     "output_type": "display_data"
    },
    {
     "name": "stdout",
     "output_type": "stream",
     "text": [
      "seed = 15\n",
      "backend = 'nengo_ocl'\n",
      "dt = 0.001\n",
      "neuron_type = 'default'\n",
      "n_neurons_scale = 1\n",
      "n_neurons_scale_combined = 0.25\n",
      "s_crosstalk = 0\n",
      "s_evidence = 20\n",
      "n_samples = 10000\n",
      "t_senso = 0\n",
      "vocab = <nengo_spa.vocabulary.Vocabulary object at 0x7f30f22abc10>\n",
      "xp = <experiments.Xp1 object at 0x7f30f27a7e90>\n",
      "proc_feedback = 0.9\n",
      "proc_feedback_synapse = 0.005\n",
      "GW_feedback = 1\n",
      "GW_threshold = 0.5\n",
      "GW_scale = 20\n",
      "BG_thr = 0.1\n",
      "BG_bias = 0.5\n",
      "integrator_reset = False\n",
      "data = <data.Data object at 0x7f30e8a6f6d0>\n",
      "\t seed 16/20\n",
      "running run_seed16_dim16\n"
     ]
    },
    {
     "name": "stderr",
     "output_type": "stream",
     "text": [
      "/home/ubuntu/anaconda3/envs/CTN/lib/python3.7/site-packages/nengo_spa/vocabulary.py:173: UserWarning: Could not create a semantic pointer with max_similarity=0.10 (D=16, M=7, similarity=0.11)\n",
      "  len(self._key2idx), best_sim))\n",
      "/home/ubuntu/anaconda3/envs/CTN/lib/python3.7/site-packages/nengo_spa/vocabulary.py:173: UserWarning: Could not create a semantic pointer with max_similarity=0.10 (D=16, M=10, similarity=0.13)\n",
      "  len(self._key2idx), best_sim))\n",
      "/home/ubuntu/anaconda3/envs/CTN/lib/python3.7/site-packages/nengo_spa/vocabulary.py:173: UserWarning: Could not create a semantic pointer with max_similarity=0.10 (D=16, M=11, similarity=0.17)\n",
      "  len(self._key2idx), best_sim))\n",
      "/home/ubuntu/anaconda3/envs/CTN/lib/python3.7/site-packages/nengo_spa/vocabulary.py:173: UserWarning: Could not create a semantic pointer with max_similarity=0.10 (D=16, M=12, similarity=0.26)\n",
      "  len(self._key2idx), best_sim))\n",
      "/home/ubuntu/anaconda3/envs/CTN/lib/python3.7/site-packages/nengo_spa/vocabulary.py:173: UserWarning: Could not create a semantic pointer with max_similarity=0.10 (D=16, M=14, similarity=0.23)\n",
      "  len(self._key2idx), best_sim))\n",
      "/home/ubuntu/anaconda3/envs/CTN/lib/python3.7/site-packages/nengo_spa/vocabulary.py:173: UserWarning: Could not create a semantic pointer with max_similarity=0.10 (D=16, M=16, similarity=0.27)\n",
      "  len(self._key2idx), best_sim))\n",
      "/home/ubuntu/anaconda3/envs/CTN/lib/python3.7/site-packages/nengo_spa/vocabulary.py:173: UserWarning: Could not create a semantic pointer with max_similarity=0.10 (D=16, M=18, similarity=0.27)\n",
      "  len(self._key2idx), best_sim))\n",
      "/home/ubuntu/anaconda3/envs/CTN/lib/python3.7/site-packages/nengo_spa/vocabulary.py:173: UserWarning: Could not create a semantic pointer with max_similarity=0.10 (D=16, M=20, similarity=0.25)\n",
      "  len(self._key2idx), best_sim))\n"
     ]
    },
    {
     "data": {
      "text/html": [
       "\n",
       "                <div id=\"b730eeb3-2be5-45ba-a3a7-96ea8c243200\" style=\"\n",
       "                    width: 100%;\n",
       "                    border: 1px solid #cfcfcf;\n",
       "                    border-radius: 4px;\n",
       "                    text-align: center;\n",
       "                    position: relative;\">\n",
       "                  <div class=\"pb-text\" style=\"\n",
       "                      position: absolute;\n",
       "                      width: 100%;\">\n",
       "                    0%\n",
       "                  </div>\n",
       "                  <div class=\"pb-fill\" style=\"\n",
       "                      background-color: #bdd2e6;\n",
       "                      width: 0%;\">\n",
       "                    <style type=\"text/css\" scoped=\"scoped\">\n",
       "                        @keyframes pb-fill-anim {\n",
       "                            0% { background-position: 0 0; }\n",
       "                            100% { background-position: 100px 0; }\n",
       "                        }\n",
       "                    </style>\n",
       "                    &nbsp;\n",
       "                  </div>\n",
       "                </div>"
      ],
      "text/plain": [
       "HtmlProgressBar cannot be displayed. Please use the TerminalProgressBar. It can be enabled with `nengo.rc.set('progress', 'progress_bar', 'nengo.utils.progress.TerminalProgressBar')`."
      ]
     },
     "metadata": {},
     "output_type": "display_data"
    },
    {
     "data": {
      "application/javascript": [
       "\n",
       "              (function () {\n",
       "                  var root = document.getElementById('b730eeb3-2be5-45ba-a3a7-96ea8c243200');\n",
       "                  var text = root.getElementsByClassName('pb-text')[0];\n",
       "                  var fill = root.getElementsByClassName('pb-fill')[0];\n",
       "\n",
       "                  text.innerHTML = 'Simulation finished in 0:01:24.';\n",
       "                  \n",
       "            if (100.0 > 0.) {\n",
       "                fill.style.transition = 'width 0.1s linear';\n",
       "            } else {\n",
       "                fill.style.transition = 'none';\n",
       "            }\n",
       "\n",
       "            fill.style.width = '100.0%';\n",
       "            fill.style.animation = 'none';\n",
       "            fill.style.backgroundImage = 'none'\n",
       "        \n",
       "                  \n",
       "                fill.style.animation = 'none';\n",
       "                fill.style.backgroundImage = 'none';\n",
       "            \n",
       "              })();\n",
       "        "
      ],
      "text/plain": [
       "<IPython.core.display.Javascript object>"
      ]
     },
     "metadata": {},
     "output_type": "display_data"
    },
    {
     "name": "stdout",
     "output_type": "stream",
     "text": [
      "seed = 16\n",
      "backend = 'nengo_ocl'\n",
      "dt = 0.001\n",
      "neuron_type = 'default'\n",
      "n_neurons_scale = 1\n",
      "n_neurons_scale_combined = 0.25\n",
      "s_crosstalk = 0\n",
      "s_evidence = 20\n",
      "n_samples = 10000\n",
      "t_senso = 0\n",
      "vocab = <nengo_spa.vocabulary.Vocabulary object at 0x7f30e86d2390>\n",
      "xp = <experiments.Xp1 object at 0x7f30e89dc6d0>\n",
      "proc_feedback = 0.9\n",
      "proc_feedback_synapse = 0.005\n",
      "GW_feedback = 1\n",
      "GW_threshold = 0.5\n",
      "GW_scale = 20\n",
      "BG_thr = 0.1\n",
      "BG_bias = 0.5\n",
      "integrator_reset = False\n",
      "data = <data.Data object at 0x7f30e8a80b90>\n",
      "\t seed 17/20\n",
      "running run_seed17_dim16\n"
     ]
    },
    {
     "name": "stderr",
     "output_type": "stream",
     "text": [
      "/home/ubuntu/anaconda3/envs/CTN/lib/python3.7/site-packages/nengo_spa/vocabulary.py:173: UserWarning: Could not create a semantic pointer with max_similarity=0.10 (D=16, M=8, similarity=0.11)\n",
      "  len(self._key2idx), best_sim))\n",
      "/home/ubuntu/anaconda3/envs/CTN/lib/python3.7/site-packages/nengo_spa/vocabulary.py:173: UserWarning: Could not create a semantic pointer with max_similarity=0.10 (D=16, M=11, similarity=0.20)\n",
      "  len(self._key2idx), best_sim))\n",
      "/home/ubuntu/anaconda3/envs/CTN/lib/python3.7/site-packages/nengo_spa/vocabulary.py:173: UserWarning: Could not create a semantic pointer with max_similarity=0.10 (D=16, M=12, similarity=0.24)\n",
      "  len(self._key2idx), best_sim))\n",
      "/home/ubuntu/anaconda3/envs/CTN/lib/python3.7/site-packages/nengo_spa/vocabulary.py:173: UserWarning: Could not create a semantic pointer with max_similarity=0.10 (D=16, M=13, similarity=0.21)\n",
      "  len(self._key2idx), best_sim))\n",
      "/home/ubuntu/anaconda3/envs/CTN/lib/python3.7/site-packages/nengo_spa/vocabulary.py:173: UserWarning: Could not create a semantic pointer with max_similarity=0.10 (D=16, M=16, similarity=0.21)\n",
      "  len(self._key2idx), best_sim))\n",
      "/home/ubuntu/anaconda3/envs/CTN/lib/python3.7/site-packages/nengo_spa/vocabulary.py:173: UserWarning: Could not create a semantic pointer with max_similarity=0.10 (D=16, M=18, similarity=0.24)\n",
      "  len(self._key2idx), best_sim))\n",
      "/home/ubuntu/anaconda3/envs/CTN/lib/python3.7/site-packages/nengo_spa/vocabulary.py:173: UserWarning: Could not create a semantic pointer with max_similarity=0.10 (D=16, M=19, similarity=0.30)\n",
      "  len(self._key2idx), best_sim))\n",
      "/home/ubuntu/anaconda3/envs/CTN/lib/python3.7/site-packages/nengo_spa/vocabulary.py:173: UserWarning: Could not create a semantic pointer with max_similarity=0.10 (D=16, M=20, similarity=0.20)\n",
      "  len(self._key2idx), best_sim))\n"
     ]
    },
    {
     "data": {
      "text/html": [
       "\n",
       "                <div id=\"b450dbf4-1080-44e5-8f06-fe43bfe24edf\" style=\"\n",
       "                    width: 100%;\n",
       "                    border: 1px solid #cfcfcf;\n",
       "                    border-radius: 4px;\n",
       "                    text-align: center;\n",
       "                    position: relative;\">\n",
       "                  <div class=\"pb-text\" style=\"\n",
       "                      position: absolute;\n",
       "                      width: 100%;\">\n",
       "                    0%\n",
       "                  </div>\n",
       "                  <div class=\"pb-fill\" style=\"\n",
       "                      background-color: #bdd2e6;\n",
       "                      width: 0%;\">\n",
       "                    <style type=\"text/css\" scoped=\"scoped\">\n",
       "                        @keyframes pb-fill-anim {\n",
       "                            0% { background-position: 0 0; }\n",
       "                            100% { background-position: 100px 0; }\n",
       "                        }\n",
       "                    </style>\n",
       "                    &nbsp;\n",
       "                  </div>\n",
       "                </div>"
      ],
      "text/plain": [
       "HtmlProgressBar cannot be displayed. Please use the TerminalProgressBar. It can be enabled with `nengo.rc.set('progress', 'progress_bar', 'nengo.utils.progress.TerminalProgressBar')`."
      ]
     },
     "metadata": {},
     "output_type": "display_data"
    },
    {
     "data": {
      "application/javascript": [
       "\n",
       "              (function () {\n",
       "                  var root = document.getElementById('b450dbf4-1080-44e5-8f06-fe43bfe24edf');\n",
       "                  var text = root.getElementsByClassName('pb-text')[0];\n",
       "                  var fill = root.getElementsByClassName('pb-fill')[0];\n",
       "\n",
       "                  text.innerHTML = 'Simulation finished in 0:01:25.';\n",
       "                  \n",
       "            if (100.0 > 0.) {\n",
       "                fill.style.transition = 'width 0.1s linear';\n",
       "            } else {\n",
       "                fill.style.transition = 'none';\n",
       "            }\n",
       "\n",
       "            fill.style.width = '100.0%';\n",
       "            fill.style.animation = 'none';\n",
       "            fill.style.backgroundImage = 'none'\n",
       "        \n",
       "                  \n",
       "                fill.style.animation = 'none';\n",
       "                fill.style.backgroundImage = 'none';\n",
       "            \n",
       "              })();\n",
       "        "
      ],
      "text/plain": [
       "<IPython.core.display.Javascript object>"
      ]
     },
     "metadata": {},
     "output_type": "display_data"
    },
    {
     "name": "stdout",
     "output_type": "stream",
     "text": [
      "seed = 17\n",
      "backend = 'nengo_ocl'\n",
      "dt = 0.001\n",
      "neuron_type = 'default'\n",
      "n_neurons_scale = 1\n",
      "n_neurons_scale_combined = 0.25\n",
      "s_crosstalk = 0\n",
      "s_evidence = 20\n",
      "n_samples = 10000\n",
      "t_senso = 0\n",
      "vocab = <nengo_spa.vocabulary.Vocabulary object at 0x7f30f1b2f850>\n",
      "xp = <experiments.Xp1 object at 0x7f31049083d0>\n",
      "proc_feedback = 0.9\n",
      "proc_feedback_synapse = 0.005\n",
      "GW_feedback = 1\n",
      "GW_threshold = 0.5\n",
      "GW_scale = 20\n",
      "BG_thr = 0.1\n",
      "BG_bias = 0.5\n",
      "integrator_reset = False\n",
      "data = <data.Data object at 0x7f30e86a8910>\n",
      "\t seed 18/20\n",
      "running run_seed18_dim16\n"
     ]
    },
    {
     "name": "stderr",
     "output_type": "stream",
     "text": [
      "/home/ubuntu/anaconda3/envs/CTN/lib/python3.7/site-packages/nengo_spa/vocabulary.py:173: UserWarning: Could not create a semantic pointer with max_similarity=0.10 (D=16, M=8, similarity=0.13)\n",
      "  len(self._key2idx), best_sim))\n",
      "/home/ubuntu/anaconda3/envs/CTN/lib/python3.7/site-packages/nengo_spa/vocabulary.py:173: UserWarning: Could not create a semantic pointer with max_similarity=0.10 (D=16, M=13, similarity=0.25)\n",
      "  len(self._key2idx), best_sim))\n",
      "/home/ubuntu/anaconda3/envs/CTN/lib/python3.7/site-packages/nengo_spa/vocabulary.py:173: UserWarning: Could not create a semantic pointer with max_similarity=0.10 (D=16, M=14, similarity=0.22)\n",
      "  len(self._key2idx), best_sim))\n",
      "/home/ubuntu/anaconda3/envs/CTN/lib/python3.7/site-packages/nengo_spa/vocabulary.py:173: UserWarning: Could not create a semantic pointer with max_similarity=0.10 (D=16, M=15, similarity=0.23)\n",
      "  len(self._key2idx), best_sim))\n",
      "/home/ubuntu/anaconda3/envs/CTN/lib/python3.7/site-packages/nengo_spa/vocabulary.py:173: UserWarning: Could not create a semantic pointer with max_similarity=0.10 (D=16, M=17, similarity=0.19)\n",
      "  len(self._key2idx), best_sim))\n"
     ]
    },
    {
     "data": {
      "text/html": [
       "\n",
       "                <div id=\"94436849-69f2-4f12-8100-77c84c3a2bba\" style=\"\n",
       "                    width: 100%;\n",
       "                    border: 1px solid #cfcfcf;\n",
       "                    border-radius: 4px;\n",
       "                    text-align: center;\n",
       "                    position: relative;\">\n",
       "                  <div class=\"pb-text\" style=\"\n",
       "                      position: absolute;\n",
       "                      width: 100%;\">\n",
       "                    0%\n",
       "                  </div>\n",
       "                  <div class=\"pb-fill\" style=\"\n",
       "                      background-color: #bdd2e6;\n",
       "                      width: 0%;\">\n",
       "                    <style type=\"text/css\" scoped=\"scoped\">\n",
       "                        @keyframes pb-fill-anim {\n",
       "                            0% { background-position: 0 0; }\n",
       "                            100% { background-position: 100px 0; }\n",
       "                        }\n",
       "                    </style>\n",
       "                    &nbsp;\n",
       "                  </div>\n",
       "                </div>"
      ],
      "text/plain": [
       "HtmlProgressBar cannot be displayed. Please use the TerminalProgressBar. It can be enabled with `nengo.rc.set('progress', 'progress_bar', 'nengo.utils.progress.TerminalProgressBar')`."
      ]
     },
     "metadata": {},
     "output_type": "display_data"
    },
    {
     "data": {
      "application/javascript": [
       "\n",
       "              (function () {\n",
       "                  var root = document.getElementById('94436849-69f2-4f12-8100-77c84c3a2bba');\n",
       "                  var text = root.getElementsByClassName('pb-text')[0];\n",
       "                  var fill = root.getElementsByClassName('pb-fill')[0];\n",
       "\n",
       "                  text.innerHTML = 'Simulation finished in 0:01:21.';\n",
       "                  \n",
       "            if (100.0 > 0.) {\n",
       "                fill.style.transition = 'width 0.1s linear';\n",
       "            } else {\n",
       "                fill.style.transition = 'none';\n",
       "            }\n",
       "\n",
       "            fill.style.width = '100.0%';\n",
       "            fill.style.animation = 'none';\n",
       "            fill.style.backgroundImage = 'none'\n",
       "        \n",
       "                  \n",
       "                fill.style.animation = 'none';\n",
       "                fill.style.backgroundImage = 'none';\n",
       "            \n",
       "              })();\n",
       "        "
      ],
      "text/plain": [
       "<IPython.core.display.Javascript object>"
      ]
     },
     "metadata": {},
     "output_type": "display_data"
    },
    {
     "name": "stdout",
     "output_type": "stream",
     "text": [
      "seed = 18\n",
      "backend = 'nengo_ocl'\n",
      "dt = 0.001\n",
      "neuron_type = 'default'\n",
      "n_neurons_scale = 1\n",
      "n_neurons_scale_combined = 0.25\n",
      "s_crosstalk = 0\n",
      "s_evidence = 20\n",
      "n_samples = 10000\n",
      "t_senso = 0\n",
      "vocab = <nengo_spa.vocabulary.Vocabulary object at 0x7f30adeec290>\n",
      "xp = <experiments.Xp1 object at 0x7f30f1af58d0>\n",
      "proc_feedback = 0.9\n",
      "proc_feedback_synapse = 0.005\n",
      "GW_feedback = 1\n",
      "GW_threshold = 0.5\n",
      "GW_scale = 20\n",
      "BG_thr = 0.1\n",
      "BG_bias = 0.5\n",
      "integrator_reset = False\n",
      "data = <data.Data object at 0x7f30e899c990>\n",
      "\t seed 19/20\n",
      "running run_seed19_dim16\n"
     ]
    },
    {
     "name": "stderr",
     "output_type": "stream",
     "text": [
      "/home/ubuntu/anaconda3/envs/CTN/lib/python3.7/site-packages/nengo_spa/vocabulary.py:173: UserWarning: Could not create a semantic pointer with max_similarity=0.10 (D=16, M=9, similarity=0.17)\n",
      "  len(self._key2idx), best_sim))\n",
      "/home/ubuntu/anaconda3/envs/CTN/lib/python3.7/site-packages/nengo_spa/vocabulary.py:173: UserWarning: Could not create a semantic pointer with max_similarity=0.10 (D=16, M=12, similarity=0.17)\n",
      "  len(self._key2idx), best_sim))\n",
      "/home/ubuntu/anaconda3/envs/CTN/lib/python3.7/site-packages/nengo_spa/vocabulary.py:173: UserWarning: Could not create a semantic pointer with max_similarity=0.10 (D=16, M=14, similarity=0.21)\n",
      "  len(self._key2idx), best_sim))\n",
      "/home/ubuntu/anaconda3/envs/CTN/lib/python3.7/site-packages/nengo_spa/vocabulary.py:173: UserWarning: Could not create a semantic pointer with max_similarity=0.10 (D=16, M=16, similarity=0.18)\n",
      "  len(self._key2idx), best_sim))\n",
      "/home/ubuntu/anaconda3/envs/CTN/lib/python3.7/site-packages/nengo_spa/vocabulary.py:173: UserWarning: Could not create a semantic pointer with max_similarity=0.10 (D=16, M=18, similarity=0.26)\n",
      "  len(self._key2idx), best_sim))\n"
     ]
    },
    {
     "data": {
      "text/html": [
       "\n",
       "                <div id=\"2f8ebf1d-e60b-402b-bd4f-3094f0a7c80f\" style=\"\n",
       "                    width: 100%;\n",
       "                    border: 1px solid #cfcfcf;\n",
       "                    border-radius: 4px;\n",
       "                    text-align: center;\n",
       "                    position: relative;\">\n",
       "                  <div class=\"pb-text\" style=\"\n",
       "                      position: absolute;\n",
       "                      width: 100%;\">\n",
       "                    0%\n",
       "                  </div>\n",
       "                  <div class=\"pb-fill\" style=\"\n",
       "                      background-color: #bdd2e6;\n",
       "                      width: 0%;\">\n",
       "                    <style type=\"text/css\" scoped=\"scoped\">\n",
       "                        @keyframes pb-fill-anim {\n",
       "                            0% { background-position: 0 0; }\n",
       "                            100% { background-position: 100px 0; }\n",
       "                        }\n",
       "                    </style>\n",
       "                    &nbsp;\n",
       "                  </div>\n",
       "                </div>"
      ],
      "text/plain": [
       "HtmlProgressBar cannot be displayed. Please use the TerminalProgressBar. It can be enabled with `nengo.rc.set('progress', 'progress_bar', 'nengo.utils.progress.TerminalProgressBar')`."
      ]
     },
     "metadata": {},
     "output_type": "display_data"
    },
    {
     "data": {
      "application/javascript": [
       "\n",
       "              (function () {\n",
       "                  var root = document.getElementById('2f8ebf1d-e60b-402b-bd4f-3094f0a7c80f');\n",
       "                  var text = root.getElementsByClassName('pb-text')[0];\n",
       "                  var fill = root.getElementsByClassName('pb-fill')[0];\n",
       "\n",
       "                  text.innerHTML = 'Simulation finished in 0:01:41.';\n",
       "                  \n",
       "            if (100.0 > 0.) {\n",
       "                fill.style.transition = 'width 0.1s linear';\n",
       "            } else {\n",
       "                fill.style.transition = 'none';\n",
       "            }\n",
       "\n",
       "            fill.style.width = '100.0%';\n",
       "            fill.style.animation = 'none';\n",
       "            fill.style.backgroundImage = 'none'\n",
       "        \n",
       "                  \n",
       "                fill.style.animation = 'none';\n",
       "                fill.style.backgroundImage = 'none';\n",
       "            \n",
       "              })();\n",
       "        "
      ],
      "text/plain": [
       "<IPython.core.display.Javascript object>"
      ]
     },
     "metadata": {},
     "output_type": "display_data"
    },
    {
     "name": "stdout",
     "output_type": "stream",
     "text": [
      "seed = 19\n",
      "backend = 'nengo_ocl'\n",
      "dt = 0.001\n",
      "neuron_type = 'default'\n",
      "n_neurons_scale = 1\n",
      "n_neurons_scale_combined = 0.25\n",
      "s_crosstalk = 0\n",
      "s_evidence = 20\n",
      "n_samples = 10000\n",
      "t_senso = 0\n",
      "vocab = <nengo_spa.vocabulary.Vocabulary object at 0x7f309cdc41d0>\n",
      "xp = <experiments.Xp1 object at 0x7f30e89cb450>\n",
      "proc_feedback = 0.9\n",
      "proc_feedback_synapse = 0.005\n",
      "GW_feedback = 1\n",
      "GW_threshold = 0.5\n",
      "GW_scale = 20\n",
      "BG_thr = 0.1\n",
      "BG_bias = 0.5\n",
      "integrator_reset = False\n",
      "data = <data.Data object at 0x7f309cdc4150>\n",
      "\t seed 20/20\n",
      "running run_seed20_dim16\n"
     ]
    },
    {
     "name": "stderr",
     "output_type": "stream",
     "text": [
      "/home/ubuntu/anaconda3/envs/CTN/lib/python3.7/site-packages/nengo_spa/vocabulary.py:173: UserWarning: Could not create a semantic pointer with max_similarity=0.10 (D=16, M=8, similarity=0.14)\n",
      "  len(self._key2idx), best_sim))\n",
      "/home/ubuntu/anaconda3/envs/CTN/lib/python3.7/site-packages/nengo_spa/vocabulary.py:173: UserWarning: Could not create a semantic pointer with max_similarity=0.10 (D=16, M=10, similarity=0.23)\n",
      "  len(self._key2idx), best_sim))\n",
      "/home/ubuntu/anaconda3/envs/CTN/lib/python3.7/site-packages/nengo_spa/vocabulary.py:173: UserWarning: Could not create a semantic pointer with max_similarity=0.10 (D=16, M=15, similarity=0.18)\n",
      "  len(self._key2idx), best_sim))\n",
      "/home/ubuntu/anaconda3/envs/CTN/lib/python3.7/site-packages/nengo_spa/vocabulary.py:173: UserWarning: Could not create a semantic pointer with max_similarity=0.10 (D=16, M=17, similarity=0.26)\n",
      "  len(self._key2idx), best_sim))\n"
     ]
    },
    {
     "data": {
      "text/html": [
       "\n",
       "                <div id=\"f3cd26a4-ef93-4110-8cef-e52320299c12\" style=\"\n",
       "                    width: 100%;\n",
       "                    border: 1px solid #cfcfcf;\n",
       "                    border-radius: 4px;\n",
       "                    text-align: center;\n",
       "                    position: relative;\">\n",
       "                  <div class=\"pb-text\" style=\"\n",
       "                      position: absolute;\n",
       "                      width: 100%;\">\n",
       "                    0%\n",
       "                  </div>\n",
       "                  <div class=\"pb-fill\" style=\"\n",
       "                      background-color: #bdd2e6;\n",
       "                      width: 0%;\">\n",
       "                    <style type=\"text/css\" scoped=\"scoped\">\n",
       "                        @keyframes pb-fill-anim {\n",
       "                            0% { background-position: 0 0; }\n",
       "                            100% { background-position: 100px 0; }\n",
       "                        }\n",
       "                    </style>\n",
       "                    &nbsp;\n",
       "                  </div>\n",
       "                </div>"
      ],
      "text/plain": [
       "HtmlProgressBar cannot be displayed. Please use the TerminalProgressBar. It can be enabled with `nengo.rc.set('progress', 'progress_bar', 'nengo.utils.progress.TerminalProgressBar')`."
      ]
     },
     "metadata": {},
     "output_type": "display_data"
    },
    {
     "data": {
      "application/javascript": [
       "\n",
       "              (function () {\n",
       "                  var root = document.getElementById('f3cd26a4-ef93-4110-8cef-e52320299c12');\n",
       "                  var text = root.getElementsByClassName('pb-text')[0];\n",
       "                  var fill = root.getElementsByClassName('pb-fill')[0];\n",
       "\n",
       "                  text.innerHTML = 'Simulation finished in 0:01:42.';\n",
       "                  \n",
       "            if (100.0 > 0.) {\n",
       "                fill.style.transition = 'width 0.1s linear';\n",
       "            } else {\n",
       "                fill.style.transition = 'none';\n",
       "            }\n",
       "\n",
       "            fill.style.width = '100.0%';\n",
       "            fill.style.animation = 'none';\n",
       "            fill.style.backgroundImage = 'none'\n",
       "        \n",
       "                  \n",
       "                fill.style.animation = 'none';\n",
       "                fill.style.backgroundImage = 'none';\n",
       "            \n",
       "              })();\n",
       "        "
      ],
      "text/plain": [
       "<IPython.core.display.Javascript object>"
      ]
     },
     "metadata": {},
     "output_type": "display_data"
    },
    {
     "name": "stdout",
     "output_type": "stream",
     "text": [
      "seed = 20\n",
      "backend = 'nengo_ocl'\n",
      "dt = 0.001\n",
      "neuron_type = 'default'\n",
      "n_neurons_scale = 1\n",
      "n_neurons_scale_combined = 0.25\n",
      "s_crosstalk = 0\n",
      "s_evidence = 20\n",
      "n_samples = 10000\n",
      "t_senso = 0\n",
      "vocab = <nengo_spa.vocabulary.Vocabulary object at 0x7f30ae352f90>\n",
      "xp = <experiments.Xp1 object at 0x7f309d012250>\n",
      "proc_feedback = 0.9\n",
      "proc_feedback_synapse = 0.005\n",
      "GW_feedback = 1\n",
      "GW_threshold = 0.5\n",
      "GW_scale = 20\n",
      "BG_thr = 0.1\n",
      "BG_bias = 0.5\n",
      "integrator_reset = False\n",
      "data = <data.Data object at 0x7f309cddb610>\n",
      "error rate: 0.6104166666666666\n",
      "params: [2.]\n",
      "Simulating...\n",
      "\t seed 1/20\n",
      "\t seed 2/20\n",
      "\t seed 3/20\n",
      "\t seed 4/20\n",
      "\t seed 5/20\n",
      "\t seed 6/20\n",
      "\t seed 7/20\n",
      "\t seed 8/20\n",
      "\t seed 9/20\n",
      "\t seed 10/20\n",
      "\t seed 11/20\n",
      "running run_seed11_dim32\n"
     ]
    },
    {
     "name": "stderr",
     "output_type": "stream",
     "text": [
      "/home/ubuntu/anaconda3/envs/CTN/lib/python3.7/site-packages/nengo_spa/vocabulary.py:173: UserWarning: Could not create a semantic pointer with max_similarity=0.10 (D=32, M=10, similarity=0.12)\n",
      "  len(self._key2idx), best_sim))\n",
      "/home/ubuntu/anaconda3/envs/CTN/lib/python3.7/site-packages/nengo_spa/vocabulary.py:173: UserWarning: Could not create a semantic pointer with max_similarity=0.10 (D=32, M=13, similarity=0.12)\n",
      "  len(self._key2idx), best_sim))\n",
      "/home/ubuntu/anaconda3/envs/CTN/lib/python3.7/site-packages/nengo_spa/vocabulary.py:173: UserWarning: Could not create a semantic pointer with max_similarity=0.10 (D=32, M=14, similarity=0.14)\n",
      "  len(self._key2idx), best_sim))\n",
      "/home/ubuntu/anaconda3/envs/CTN/lib/python3.7/site-packages/nengo_spa/vocabulary.py:173: UserWarning: Could not create a semantic pointer with max_similarity=0.10 (D=32, M=15, similarity=0.16)\n",
      "  len(self._key2idx), best_sim))\n",
      "/home/ubuntu/anaconda3/envs/CTN/lib/python3.7/site-packages/nengo_spa/vocabulary.py:173: UserWarning: Could not create a semantic pointer with max_similarity=0.10 (D=32, M=16, similarity=0.16)\n",
      "  len(self._key2idx), best_sim))\n",
      "/home/ubuntu/anaconda3/envs/CTN/lib/python3.7/site-packages/nengo_spa/vocabulary.py:173: UserWarning: Could not create a semantic pointer with max_similarity=0.10 (D=32, M=17, similarity=0.16)\n",
      "  len(self._key2idx), best_sim))\n",
      "/home/ubuntu/anaconda3/envs/CTN/lib/python3.7/site-packages/nengo_spa/vocabulary.py:173: UserWarning: Could not create a semantic pointer with max_similarity=0.10 (D=32, M=18, similarity=0.15)\n",
      "  len(self._key2idx), best_sim))\n",
      "/home/ubuntu/anaconda3/envs/CTN/lib/python3.7/site-packages/nengo_spa/vocabulary.py:173: UserWarning: Could not create a semantic pointer with max_similarity=0.10 (D=32, M=19, similarity=0.15)\n",
      "  len(self._key2idx), best_sim))\n",
      "/home/ubuntu/anaconda3/envs/CTN/lib/python3.7/site-packages/nengo_spa/vocabulary.py:173: UserWarning: Could not create a semantic pointer with max_similarity=0.10 (D=32, M=20, similarity=0.19)\n",
      "  len(self._key2idx), best_sim))\n"
     ]
    },
    {
     "data": {
      "text/html": [
       "\n",
       "                <div id=\"e81f67e6-6eca-4ca5-98bb-c47940209693\" style=\"\n",
       "                    width: 100%;\n",
       "                    border: 1px solid #cfcfcf;\n",
       "                    border-radius: 4px;\n",
       "                    text-align: center;\n",
       "                    position: relative;\">\n",
       "                  <div class=\"pb-text\" style=\"\n",
       "                      position: absolute;\n",
       "                      width: 100%;\">\n",
       "                    0%\n",
       "                  </div>\n",
       "                  <div class=\"pb-fill\" style=\"\n",
       "                      background-color: #bdd2e6;\n",
       "                      width: 0%;\">\n",
       "                    <style type=\"text/css\" scoped=\"scoped\">\n",
       "                        @keyframes pb-fill-anim {\n",
       "                            0% { background-position: 0 0; }\n",
       "                            100% { background-position: 100px 0; }\n",
       "                        }\n",
       "                    </style>\n",
       "                    &nbsp;\n",
       "                  </div>\n",
       "                </div>"
      ],
      "text/plain": [
       "HtmlProgressBar cannot be displayed. Please use the TerminalProgressBar. It can be enabled with `nengo.rc.set('progress', 'progress_bar', 'nengo.utils.progress.TerminalProgressBar')`."
      ]
     },
     "metadata": {},
     "output_type": "display_data"
    },
    {
     "data": {
      "application/javascript": [
       "\n",
       "              (function () {\n",
       "                  var root = document.getElementById('e81f67e6-6eca-4ca5-98bb-c47940209693');\n",
       "                  var text = root.getElementsByClassName('pb-text')[0];\n",
       "                  var fill = root.getElementsByClassName('pb-fill')[0];\n",
       "\n",
       "                  text.innerHTML = 'Simulation finished in 0:01:28.';\n",
       "                  \n",
       "            if (100.0 > 0.) {\n",
       "                fill.style.transition = 'width 0.1s linear';\n",
       "            } else {\n",
       "                fill.style.transition = 'none';\n",
       "            }\n",
       "\n",
       "            fill.style.width = '100.0%';\n",
       "            fill.style.animation = 'none';\n",
       "            fill.style.backgroundImage = 'none'\n",
       "        \n",
       "                  \n",
       "                fill.style.animation = 'none';\n",
       "                fill.style.backgroundImage = 'none';\n",
       "            \n",
       "              })();\n",
       "        "
      ],
      "text/plain": [
       "<IPython.core.display.Javascript object>"
      ]
     },
     "metadata": {},
     "output_type": "display_data"
    },
    {
     "name": "stdout",
     "output_type": "stream",
     "text": [
      "seed = 11\n",
      "backend = 'nengo_ocl'\n",
      "dt = 0.001\n",
      "neuron_type = 'default'\n",
      "n_neurons_scale = 1\n",
      "n_neurons_scale_combined = 0.25\n",
      "s_crosstalk = 0\n",
      "s_evidence = 20\n",
      "n_samples = 10000\n",
      "t_senso = 0\n",
      "vocab = <nengo_spa.vocabulary.Vocabulary object at 0x7f30f27e4750>\n",
      "xp = <experiments.Xp1 object at 0x7f309cae3e90>\n",
      "proc_feedback = 0.9\n",
      "proc_feedback_synapse = 0.005\n",
      "GW_feedback = 1\n",
      "GW_threshold = 0.5\n",
      "GW_scale = 20\n",
      "BG_thr = 0.1\n",
      "BG_bias = 0.5\n",
      "integrator_reset = False\n",
      "data = <data.Data object at 0x7f30e8a74850>\n",
      "\t seed 12/20\n",
      "running run_seed12_dim32\n"
     ]
    },
    {
     "name": "stderr",
     "output_type": "stream",
     "text": [
      "/home/ubuntu/anaconda3/envs/CTN/lib/python3.7/site-packages/nengo_spa/vocabulary.py:173: UserWarning: Could not create a semantic pointer with max_similarity=0.10 (D=32, M=13, similarity=0.17)\n",
      "  len(self._key2idx), best_sim))\n",
      "/home/ubuntu/anaconda3/envs/CTN/lib/python3.7/site-packages/nengo_spa/vocabulary.py:173: UserWarning: Could not create a semantic pointer with max_similarity=0.10 (D=32, M=14, similarity=0.12)\n",
      "  len(self._key2idx), best_sim))\n",
      "/home/ubuntu/anaconda3/envs/CTN/lib/python3.7/site-packages/nengo_spa/vocabulary.py:173: UserWarning: Could not create a semantic pointer with max_similarity=0.10 (D=32, M=15, similarity=0.12)\n",
      "  len(self._key2idx), best_sim))\n",
      "/home/ubuntu/anaconda3/envs/CTN/lib/python3.7/site-packages/nengo_spa/vocabulary.py:173: UserWarning: Could not create a semantic pointer with max_similarity=0.10 (D=32, M=16, similarity=0.18)\n",
      "  len(self._key2idx), best_sim))\n",
      "/home/ubuntu/anaconda3/envs/CTN/lib/python3.7/site-packages/nengo_spa/vocabulary.py:173: UserWarning: Could not create a semantic pointer with max_similarity=0.10 (D=32, M=18, similarity=0.19)\n",
      "  len(self._key2idx), best_sim))\n",
      "/home/ubuntu/anaconda3/envs/CTN/lib/python3.7/site-packages/nengo_spa/vocabulary.py:173: UserWarning: Could not create a semantic pointer with max_similarity=0.10 (D=32, M=19, similarity=0.17)\n",
      "  len(self._key2idx), best_sim))\n",
      "/home/ubuntu/anaconda3/envs/CTN/lib/python3.7/site-packages/nengo_spa/vocabulary.py:173: UserWarning: Could not create a semantic pointer with max_similarity=0.10 (D=32, M=20, similarity=0.20)\n",
      "  len(self._key2idx), best_sim))\n"
     ]
    },
    {
     "data": {
      "text/html": [
       "\n",
       "                <div id=\"38b7df13-ca5b-4153-b1cf-0b24c074cc5f\" style=\"\n",
       "                    width: 100%;\n",
       "                    border: 1px solid #cfcfcf;\n",
       "                    border-radius: 4px;\n",
       "                    text-align: center;\n",
       "                    position: relative;\">\n",
       "                  <div class=\"pb-text\" style=\"\n",
       "                      position: absolute;\n",
       "                      width: 100%;\">\n",
       "                    0%\n",
       "                  </div>\n",
       "                  <div class=\"pb-fill\" style=\"\n",
       "                      background-color: #bdd2e6;\n",
       "                      width: 0%;\">\n",
       "                    <style type=\"text/css\" scoped=\"scoped\">\n",
       "                        @keyframes pb-fill-anim {\n",
       "                            0% { background-position: 0 0; }\n",
       "                            100% { background-position: 100px 0; }\n",
       "                        }\n",
       "                    </style>\n",
       "                    &nbsp;\n",
       "                  </div>\n",
       "                </div>"
      ],
      "text/plain": [
       "HtmlProgressBar cannot be displayed. Please use the TerminalProgressBar. It can be enabled with `nengo.rc.set('progress', 'progress_bar', 'nengo.utils.progress.TerminalProgressBar')`."
      ]
     },
     "metadata": {},
     "output_type": "display_data"
    },
    {
     "data": {
      "application/javascript": [
       "\n",
       "              (function () {\n",
       "                  var root = document.getElementById('38b7df13-ca5b-4153-b1cf-0b24c074cc5f');\n",
       "                  var text = root.getElementsByClassName('pb-text')[0];\n",
       "                  var fill = root.getElementsByClassName('pb-fill')[0];\n",
       "\n",
       "                  text.innerHTML = 'Simulation finished in 0:01:26.';\n",
       "                  \n",
       "            if (100.0 > 0.) {\n",
       "                fill.style.transition = 'width 0.1s linear';\n",
       "            } else {\n",
       "                fill.style.transition = 'none';\n",
       "            }\n",
       "\n",
       "            fill.style.width = '100.0%';\n",
       "            fill.style.animation = 'none';\n",
       "            fill.style.backgroundImage = 'none'\n",
       "        \n",
       "                  \n",
       "                fill.style.animation = 'none';\n",
       "                fill.style.backgroundImage = 'none';\n",
       "            \n",
       "              })();\n",
       "        "
      ],
      "text/plain": [
       "<IPython.core.display.Javascript object>"
      ]
     },
     "metadata": {},
     "output_type": "display_data"
    },
    {
     "name": "stdout",
     "output_type": "stream",
     "text": [
      "seed = 12\n",
      "backend = 'nengo_ocl'\n",
      "dt = 0.001\n",
      "neuron_type = 'default'\n",
      "n_neurons_scale = 1\n",
      "n_neurons_scale_combined = 0.25\n",
      "s_crosstalk = 0\n",
      "s_evidence = 20\n",
      "n_samples = 10000\n",
      "t_senso = 0\n",
      "vocab = <nengo_spa.vocabulary.Vocabulary object at 0x7f30f27e7f50>\n",
      "xp = <experiments.Xp1 object at 0x7f30e869ead0>\n",
      "proc_feedback = 0.9\n",
      "proc_feedback_synapse = 0.005\n",
      "GW_feedback = 1\n",
      "GW_threshold = 0.5\n",
      "GW_scale = 20\n",
      "BG_thr = 0.1\n",
      "BG_bias = 0.5\n",
      "integrator_reset = False\n",
      "data = <data.Data object at 0x7f309c503ed0>\n",
      "\t seed 13/20\n",
      "running run_seed13_dim32\n"
     ]
    },
    {
     "name": "stderr",
     "output_type": "stream",
     "text": [
      "/home/ubuntu/anaconda3/envs/CTN/lib/python3.7/site-packages/nengo_spa/vocabulary.py:173: UserWarning: Could not create a semantic pointer with max_similarity=0.10 (D=32, M=12, similarity=0.12)\n",
      "  len(self._key2idx), best_sim))\n",
      "/home/ubuntu/anaconda3/envs/CTN/lib/python3.7/site-packages/nengo_spa/vocabulary.py:173: UserWarning: Could not create a semantic pointer with max_similarity=0.10 (D=32, M=16, similarity=0.17)\n",
      "  len(self._key2idx), best_sim))\n",
      "/home/ubuntu/anaconda3/envs/CTN/lib/python3.7/site-packages/nengo_spa/vocabulary.py:173: UserWarning: Could not create a semantic pointer with max_similarity=0.10 (D=32, M=17, similarity=0.14)\n",
      "  len(self._key2idx), best_sim))\n",
      "/home/ubuntu/anaconda3/envs/CTN/lib/python3.7/site-packages/nengo_spa/vocabulary.py:173: UserWarning: Could not create a semantic pointer with max_similarity=0.10 (D=32, M=18, similarity=0.18)\n",
      "  len(self._key2idx), best_sim))\n",
      "/home/ubuntu/anaconda3/envs/CTN/lib/python3.7/site-packages/nengo_spa/vocabulary.py:173: UserWarning: Could not create a semantic pointer with max_similarity=0.10 (D=32, M=19, similarity=0.14)\n",
      "  len(self._key2idx), best_sim))\n"
     ]
    },
    {
     "data": {
      "text/html": [
       "\n",
       "                <div id=\"8744e9b7-0edd-4ba7-842d-92461d656b80\" style=\"\n",
       "                    width: 100%;\n",
       "                    border: 1px solid #cfcfcf;\n",
       "                    border-radius: 4px;\n",
       "                    text-align: center;\n",
       "                    position: relative;\">\n",
       "                  <div class=\"pb-text\" style=\"\n",
       "                      position: absolute;\n",
       "                      width: 100%;\">\n",
       "                    0%\n",
       "                  </div>\n",
       "                  <div class=\"pb-fill\" style=\"\n",
       "                      background-color: #bdd2e6;\n",
       "                      width: 0%;\">\n",
       "                    <style type=\"text/css\" scoped=\"scoped\">\n",
       "                        @keyframes pb-fill-anim {\n",
       "                            0% { background-position: 0 0; }\n",
       "                            100% { background-position: 100px 0; }\n",
       "                        }\n",
       "                    </style>\n",
       "                    &nbsp;\n",
       "                  </div>\n",
       "                </div>"
      ],
      "text/plain": [
       "HtmlProgressBar cannot be displayed. Please use the TerminalProgressBar. It can be enabled with `nengo.rc.set('progress', 'progress_bar', 'nengo.utils.progress.TerminalProgressBar')`."
      ]
     },
     "metadata": {},
     "output_type": "display_data"
    },
    {
     "data": {
      "application/javascript": [
       "\n",
       "              (function () {\n",
       "                  var root = document.getElementById('8744e9b7-0edd-4ba7-842d-92461d656b80');\n",
       "                  var text = root.getElementsByClassName('pb-text')[0];\n",
       "                  var fill = root.getElementsByClassName('pb-fill')[0];\n",
       "\n",
       "                  text.innerHTML = 'Simulation finished in 0:01:27.';\n",
       "                  \n",
       "            if (100.0 > 0.) {\n",
       "                fill.style.transition = 'width 0.1s linear';\n",
       "            } else {\n",
       "                fill.style.transition = 'none';\n",
       "            }\n",
       "\n",
       "            fill.style.width = '100.0%';\n",
       "            fill.style.animation = 'none';\n",
       "            fill.style.backgroundImage = 'none'\n",
       "        \n",
       "                  \n",
       "                fill.style.animation = 'none';\n",
       "                fill.style.backgroundImage = 'none';\n",
       "            \n",
       "              })();\n",
       "        "
      ],
      "text/plain": [
       "<IPython.core.display.Javascript object>"
      ]
     },
     "metadata": {},
     "output_type": "display_data"
    },
    {
     "name": "stdout",
     "output_type": "stream",
     "text": [
      "seed = 13\n",
      "backend = 'nengo_ocl'\n",
      "dt = 0.001\n",
      "neuron_type = 'default'\n",
      "n_neurons_scale = 1\n",
      "n_neurons_scale_combined = 0.25\n",
      "s_crosstalk = 0\n",
      "s_evidence = 20\n",
      "n_samples = 10000\n",
      "t_senso = 0\n",
      "vocab = <nengo_spa.vocabulary.Vocabulary object at 0x7f30f1f5dc50>\n",
      "xp = <experiments.Xp1 object at 0x7f309de0fa90>\n",
      "proc_feedback = 0.9\n",
      "proc_feedback_synapse = 0.005\n",
      "GW_feedback = 1\n",
      "GW_threshold = 0.5\n",
      "GW_scale = 20\n",
      "BG_thr = 0.1\n",
      "BG_bias = 0.5\n",
      "integrator_reset = False\n",
      "data = <data.Data object at 0x7f30ae33b6d0>\n",
      "\t seed 14/20\n",
      "running run_seed14_dim32\n"
     ]
    },
    {
     "name": "stderr",
     "output_type": "stream",
     "text": [
      "/home/ubuntu/anaconda3/envs/CTN/lib/python3.7/site-packages/nengo_spa/vocabulary.py:173: UserWarning: Could not create a semantic pointer with max_similarity=0.10 (D=32, M=9, similarity=0.12)\n",
      "  len(self._key2idx), best_sim))\n",
      "/home/ubuntu/anaconda3/envs/CTN/lib/python3.7/site-packages/nengo_spa/vocabulary.py:173: UserWarning: Could not create a semantic pointer with max_similarity=0.10 (D=32, M=12, similarity=0.14)\n",
      "  len(self._key2idx), best_sim))\n",
      "/home/ubuntu/anaconda3/envs/CTN/lib/python3.7/site-packages/nengo_spa/vocabulary.py:173: UserWarning: Could not create a semantic pointer with max_similarity=0.10 (D=32, M=15, similarity=0.14)\n",
      "  len(self._key2idx), best_sim))\n"
     ]
    },
    {
     "data": {
      "text/html": [
       "\n",
       "                <div id=\"97e64fb3-6b77-4cad-ba52-d051aeb4ac9e\" style=\"\n",
       "                    width: 100%;\n",
       "                    border: 1px solid #cfcfcf;\n",
       "                    border-radius: 4px;\n",
       "                    text-align: center;\n",
       "                    position: relative;\">\n",
       "                  <div class=\"pb-text\" style=\"\n",
       "                      position: absolute;\n",
       "                      width: 100%;\">\n",
       "                    0%\n",
       "                  </div>\n",
       "                  <div class=\"pb-fill\" style=\"\n",
       "                      background-color: #bdd2e6;\n",
       "                      width: 0%;\">\n",
       "                    <style type=\"text/css\" scoped=\"scoped\">\n",
       "                        @keyframes pb-fill-anim {\n",
       "                            0% { background-position: 0 0; }\n",
       "                            100% { background-position: 100px 0; }\n",
       "                        }\n",
       "                    </style>\n",
       "                    &nbsp;\n",
       "                  </div>\n",
       "                </div>"
      ],
      "text/plain": [
       "HtmlProgressBar cannot be displayed. Please use the TerminalProgressBar. It can be enabled with `nengo.rc.set('progress', 'progress_bar', 'nengo.utils.progress.TerminalProgressBar')`."
      ]
     },
     "metadata": {},
     "output_type": "display_data"
    },
    {
     "data": {
      "application/javascript": [
       "\n",
       "              (function () {\n",
       "                  var root = document.getElementById('97e64fb3-6b77-4cad-ba52-d051aeb4ac9e');\n",
       "                  var text = root.getElementsByClassName('pb-text')[0];\n",
       "                  var fill = root.getElementsByClassName('pb-fill')[0];\n",
       "\n",
       "                  text.innerHTML = 'Simulation finished in 0:01:27.';\n",
       "                  \n",
       "            if (100.0 > 0.) {\n",
       "                fill.style.transition = 'width 0.1s linear';\n",
       "            } else {\n",
       "                fill.style.transition = 'none';\n",
       "            }\n",
       "\n",
       "            fill.style.width = '100.0%';\n",
       "            fill.style.animation = 'none';\n",
       "            fill.style.backgroundImage = 'none'\n",
       "        \n",
       "                  \n",
       "                fill.style.animation = 'none';\n",
       "                fill.style.backgroundImage = 'none';\n",
       "            \n",
       "              })();\n",
       "        "
      ],
      "text/plain": [
       "<IPython.core.display.Javascript object>"
      ]
     },
     "metadata": {},
     "output_type": "display_data"
    },
    {
     "name": "stdout",
     "output_type": "stream",
     "text": [
      "seed = 14\n",
      "backend = 'nengo_ocl'\n",
      "dt = 0.001\n",
      "neuron_type = 'default'\n",
      "n_neurons_scale = 1\n",
      "n_neurons_scale_combined = 0.25\n",
      "s_crosstalk = 0\n",
      "s_evidence = 20\n",
      "n_samples = 10000\n",
      "t_senso = 0\n",
      "vocab = <nengo_spa.vocabulary.Vocabulary object at 0x7f30cd821850>\n",
      "xp = <experiments.Xp1 object at 0x7f30f1f77ad0>\n",
      "proc_feedback = 0.9\n",
      "proc_feedback_synapse = 0.005\n",
      "GW_feedback = 1\n",
      "GW_threshold = 0.5\n",
      "GW_scale = 20\n",
      "BG_thr = 0.1\n",
      "BG_bias = 0.5\n",
      "integrator_reset = False\n",
      "data = <data.Data object at 0x7f30acc41b10>\n",
      "\t seed 15/20\n",
      "running run_seed15_dim32\n"
     ]
    },
    {
     "name": "stderr",
     "output_type": "stream",
     "text": [
      "/home/ubuntu/anaconda3/envs/CTN/lib/python3.7/site-packages/nengo_spa/vocabulary.py:173: UserWarning: Could not create a semantic pointer with max_similarity=0.10 (D=32, M=11, similarity=0.12)\n",
      "  len(self._key2idx), best_sim))\n",
      "/home/ubuntu/anaconda3/envs/CTN/lib/python3.7/site-packages/nengo_spa/vocabulary.py:173: UserWarning: Could not create a semantic pointer with max_similarity=0.10 (D=32, M=12, similarity=0.11)\n",
      "  len(self._key2idx), best_sim))\n",
      "/home/ubuntu/anaconda3/envs/CTN/lib/python3.7/site-packages/nengo_spa/vocabulary.py:173: UserWarning: Could not create a semantic pointer with max_similarity=0.10 (D=32, M=13, similarity=0.14)\n",
      "  len(self._key2idx), best_sim))\n",
      "/home/ubuntu/anaconda3/envs/CTN/lib/python3.7/site-packages/nengo_spa/vocabulary.py:173: UserWarning: Could not create a semantic pointer with max_similarity=0.10 (D=32, M=14, similarity=0.13)\n",
      "  len(self._key2idx), best_sim))\n",
      "/home/ubuntu/anaconda3/envs/CTN/lib/python3.7/site-packages/nengo_spa/vocabulary.py:173: UserWarning: Could not create a semantic pointer with max_similarity=0.10 (D=32, M=15, similarity=0.15)\n",
      "  len(self._key2idx), best_sim))\n",
      "/home/ubuntu/anaconda3/envs/CTN/lib/python3.7/site-packages/nengo_spa/vocabulary.py:173: UserWarning: Could not create a semantic pointer with max_similarity=0.10 (D=32, M=16, similarity=0.12)\n",
      "  len(self._key2idx), best_sim))\n",
      "/home/ubuntu/anaconda3/envs/CTN/lib/python3.7/site-packages/nengo_spa/vocabulary.py:173: UserWarning: Could not create a semantic pointer with max_similarity=0.10 (D=32, M=17, similarity=0.19)\n",
      "  len(self._key2idx), best_sim))\n",
      "/home/ubuntu/anaconda3/envs/CTN/lib/python3.7/site-packages/nengo_spa/vocabulary.py:173: UserWarning: Could not create a semantic pointer with max_similarity=0.10 (D=32, M=19, similarity=0.19)\n",
      "  len(self._key2idx), best_sim))\n",
      "/home/ubuntu/anaconda3/envs/CTN/lib/python3.7/site-packages/nengo_spa/vocabulary.py:173: UserWarning: Could not create a semantic pointer with max_similarity=0.10 (D=32, M=20, similarity=0.16)\n",
      "  len(self._key2idx), best_sim))\n"
     ]
    },
    {
     "data": {
      "text/html": [
       "\n",
       "                <div id=\"2ea6b17f-4621-414e-b616-a87f3f623ed6\" style=\"\n",
       "                    width: 100%;\n",
       "                    border: 1px solid #cfcfcf;\n",
       "                    border-radius: 4px;\n",
       "                    text-align: center;\n",
       "                    position: relative;\">\n",
       "                  <div class=\"pb-text\" style=\"\n",
       "                      position: absolute;\n",
       "                      width: 100%;\">\n",
       "                    0%\n",
       "                  </div>\n",
       "                  <div class=\"pb-fill\" style=\"\n",
       "                      background-color: #bdd2e6;\n",
       "                      width: 0%;\">\n",
       "                    <style type=\"text/css\" scoped=\"scoped\">\n",
       "                        @keyframes pb-fill-anim {\n",
       "                            0% { background-position: 0 0; }\n",
       "                            100% { background-position: 100px 0; }\n",
       "                        }\n",
       "                    </style>\n",
       "                    &nbsp;\n",
       "                  </div>\n",
       "                </div>"
      ],
      "text/plain": [
       "HtmlProgressBar cannot be displayed. Please use the TerminalProgressBar. It can be enabled with `nengo.rc.set('progress', 'progress_bar', 'nengo.utils.progress.TerminalProgressBar')`."
      ]
     },
     "metadata": {},
     "output_type": "display_data"
    },
    {
     "data": {
      "application/javascript": [
       "\n",
       "              (function () {\n",
       "                  var root = document.getElementById('2ea6b17f-4621-414e-b616-a87f3f623ed6');\n",
       "                  var text = root.getElementsByClassName('pb-text')[0];\n",
       "                  var fill = root.getElementsByClassName('pb-fill')[0];\n",
       "\n",
       "                  text.innerHTML = 'Simulation finished in 0:01:27.';\n",
       "                  \n",
       "            if (100.0 > 0.) {\n",
       "                fill.style.transition = 'width 0.1s linear';\n",
       "            } else {\n",
       "                fill.style.transition = 'none';\n",
       "            }\n",
       "\n",
       "            fill.style.width = '100.0%';\n",
       "            fill.style.animation = 'none';\n",
       "            fill.style.backgroundImage = 'none'\n",
       "        \n",
       "                  \n",
       "                fill.style.animation = 'none';\n",
       "                fill.style.backgroundImage = 'none';\n",
       "            \n",
       "              })();\n",
       "        "
      ],
      "text/plain": [
       "<IPython.core.display.Javascript object>"
      ]
     },
     "metadata": {},
     "output_type": "display_data"
    },
    {
     "name": "stdout",
     "output_type": "stream",
     "text": [
      "seed = 15\n",
      "backend = 'nengo_ocl'\n",
      "dt = 0.001\n",
      "neuron_type = 'default'\n",
      "n_neurons_scale = 1\n",
      "n_neurons_scale_combined = 0.25\n",
      "s_crosstalk = 0\n",
      "s_evidence = 20\n",
      "n_samples = 10000\n",
      "t_senso = 0\n",
      "vocab = <nengo_spa.vocabulary.Vocabulary object at 0x7f30ae3f98d0>\n",
      "xp = <experiments.Xp1 object at 0x7f30f1f5dc90>\n",
      "proc_feedback = 0.9\n",
      "proc_feedback_synapse = 0.005\n",
      "GW_feedback = 1\n",
      "GW_threshold = 0.5\n",
      "GW_scale = 20\n",
      "BG_thr = 0.1\n",
      "BG_bias = 0.5\n",
      "integrator_reset = False\n",
      "data = <data.Data object at 0x7f309c17eb90>\n",
      "\t seed 16/20\n",
      "running run_seed16_dim32\n"
     ]
    },
    {
     "name": "stderr",
     "output_type": "stream",
     "text": [
      "/home/ubuntu/anaconda3/envs/CTN/lib/python3.7/site-packages/nengo_spa/vocabulary.py:173: UserWarning: Could not create a semantic pointer with max_similarity=0.10 (D=32, M=14, similarity=0.15)\n",
      "  len(self._key2idx), best_sim))\n",
      "/home/ubuntu/anaconda3/envs/CTN/lib/python3.7/site-packages/nengo_spa/vocabulary.py:173: UserWarning: Could not create a semantic pointer with max_similarity=0.10 (D=32, M=15, similarity=0.11)\n",
      "  len(self._key2idx), best_sim))\n",
      "/home/ubuntu/anaconda3/envs/CTN/lib/python3.7/site-packages/nengo_spa/vocabulary.py:173: UserWarning: Could not create a semantic pointer with max_similarity=0.10 (D=32, M=16, similarity=0.19)\n",
      "  len(self._key2idx), best_sim))\n",
      "/home/ubuntu/anaconda3/envs/CTN/lib/python3.7/site-packages/nengo_spa/vocabulary.py:173: UserWarning: Could not create a semantic pointer with max_similarity=0.10 (D=32, M=17, similarity=0.15)\n",
      "  len(self._key2idx), best_sim))\n",
      "/home/ubuntu/anaconda3/envs/CTN/lib/python3.7/site-packages/nengo_spa/vocabulary.py:173: UserWarning: Could not create a semantic pointer with max_similarity=0.10 (D=32, M=18, similarity=0.17)\n",
      "  len(self._key2idx), best_sim))\n",
      "/home/ubuntu/anaconda3/envs/CTN/lib/python3.7/site-packages/nengo_spa/vocabulary.py:173: UserWarning: Could not create a semantic pointer with max_similarity=0.10 (D=32, M=19, similarity=0.18)\n",
      "  len(self._key2idx), best_sim))\n"
     ]
    },
    {
     "data": {
      "text/html": [
       "\n",
       "                <div id=\"6236531d-c91a-4a35-934f-2fe8a8d97885\" style=\"\n",
       "                    width: 100%;\n",
       "                    border: 1px solid #cfcfcf;\n",
       "                    border-radius: 4px;\n",
       "                    text-align: center;\n",
       "                    position: relative;\">\n",
       "                  <div class=\"pb-text\" style=\"\n",
       "                      position: absolute;\n",
       "                      width: 100%;\">\n",
       "                    0%\n",
       "                  </div>\n",
       "                  <div class=\"pb-fill\" style=\"\n",
       "                      background-color: #bdd2e6;\n",
       "                      width: 0%;\">\n",
       "                    <style type=\"text/css\" scoped=\"scoped\">\n",
       "                        @keyframes pb-fill-anim {\n",
       "                            0% { background-position: 0 0; }\n",
       "                            100% { background-position: 100px 0; }\n",
       "                        }\n",
       "                    </style>\n",
       "                    &nbsp;\n",
       "                  </div>\n",
       "                </div>"
      ],
      "text/plain": [
       "HtmlProgressBar cannot be displayed. Please use the TerminalProgressBar. It can be enabled with `nengo.rc.set('progress', 'progress_bar', 'nengo.utils.progress.TerminalProgressBar')`."
      ]
     },
     "metadata": {},
     "output_type": "display_data"
    },
    {
     "data": {
      "application/javascript": [
       "\n",
       "              (function () {\n",
       "                  var root = document.getElementById('6236531d-c91a-4a35-934f-2fe8a8d97885');\n",
       "                  var text = root.getElementsByClassName('pb-text')[0];\n",
       "                  var fill = root.getElementsByClassName('pb-fill')[0];\n",
       "\n",
       "                  text.innerHTML = 'Simulation finished in 0:01:27.';\n",
       "                  \n",
       "            if (100.0 > 0.) {\n",
       "                fill.style.transition = 'width 0.1s linear';\n",
       "            } else {\n",
       "                fill.style.transition = 'none';\n",
       "            }\n",
       "\n",
       "            fill.style.width = '100.0%';\n",
       "            fill.style.animation = 'none';\n",
       "            fill.style.backgroundImage = 'none'\n",
       "        \n",
       "                  \n",
       "                fill.style.animation = 'none';\n",
       "                fill.style.backgroundImage = 'none';\n",
       "            \n",
       "              })();\n",
       "        "
      ],
      "text/plain": [
       "<IPython.core.display.Javascript object>"
      ]
     },
     "metadata": {},
     "output_type": "display_data"
    },
    {
     "name": "stdout",
     "output_type": "stream",
     "text": [
      "seed = 16\n",
      "backend = 'nengo_ocl'\n",
      "dt = 0.001\n",
      "neuron_type = 'default'\n",
      "n_neurons_scale = 1\n",
      "n_neurons_scale_combined = 0.25\n",
      "s_crosstalk = 0\n",
      "s_evidence = 20\n",
      "n_samples = 10000\n",
      "t_senso = 0\n",
      "vocab = <nengo_spa.vocabulary.Vocabulary object at 0x7f309c1782d0>\n",
      "xp = <experiments.Xp1 object at 0x7f309ccf91d0>\n",
      "proc_feedback = 0.9\n",
      "proc_feedback_synapse = 0.005\n",
      "GW_feedback = 1\n",
      "GW_threshold = 0.5\n",
      "GW_scale = 20\n",
      "BG_thr = 0.1\n",
      "BG_bias = 0.5\n",
      "integrator_reset = False\n",
      "data = <data.Data object at 0x7f309dbf6a50>\n",
      "\t seed 17/20\n",
      "running run_seed17_dim32\n"
     ]
    },
    {
     "name": "stderr",
     "output_type": "stream",
     "text": [
      "/home/ubuntu/anaconda3/envs/CTN/lib/python3.7/site-packages/nengo_spa/vocabulary.py:173: UserWarning: Could not create a semantic pointer with max_similarity=0.10 (D=32, M=11, similarity=0.13)\n",
      "  len(self._key2idx), best_sim))\n",
      "/home/ubuntu/anaconda3/envs/CTN/lib/python3.7/site-packages/nengo_spa/vocabulary.py:173: UserWarning: Could not create a semantic pointer with max_similarity=0.10 (D=32, M=13, similarity=0.11)\n",
      "  len(self._key2idx), best_sim))\n",
      "/home/ubuntu/anaconda3/envs/CTN/lib/python3.7/site-packages/nengo_spa/vocabulary.py:173: UserWarning: Could not create a semantic pointer with max_similarity=0.10 (D=32, M=17, similarity=0.12)\n",
      "  len(self._key2idx), best_sim))\n",
      "/home/ubuntu/anaconda3/envs/CTN/lib/python3.7/site-packages/nengo_spa/vocabulary.py:173: UserWarning: Could not create a semantic pointer with max_similarity=0.10 (D=32, M=20, similarity=0.15)\n",
      "  len(self._key2idx), best_sim))\n"
     ]
    },
    {
     "data": {
      "text/html": [
       "\n",
       "                <div id=\"b6c36f87-bf46-4deb-b344-7ebecb6c801e\" style=\"\n",
       "                    width: 100%;\n",
       "                    border: 1px solid #cfcfcf;\n",
       "                    border-radius: 4px;\n",
       "                    text-align: center;\n",
       "                    position: relative;\">\n",
       "                  <div class=\"pb-text\" style=\"\n",
       "                      position: absolute;\n",
       "                      width: 100%;\">\n",
       "                    0%\n",
       "                  </div>\n",
       "                  <div class=\"pb-fill\" style=\"\n",
       "                      background-color: #bdd2e6;\n",
       "                      width: 0%;\">\n",
       "                    <style type=\"text/css\" scoped=\"scoped\">\n",
       "                        @keyframes pb-fill-anim {\n",
       "                            0% { background-position: 0 0; }\n",
       "                            100% { background-position: 100px 0; }\n",
       "                        }\n",
       "                    </style>\n",
       "                    &nbsp;\n",
       "                  </div>\n",
       "                </div>"
      ],
      "text/plain": [
       "HtmlProgressBar cannot be displayed. Please use the TerminalProgressBar. It can be enabled with `nengo.rc.set('progress', 'progress_bar', 'nengo.utils.progress.TerminalProgressBar')`."
      ]
     },
     "metadata": {},
     "output_type": "display_data"
    },
    {
     "data": {
      "application/javascript": [
       "\n",
       "              (function () {\n",
       "                  var root = document.getElementById('b6c36f87-bf46-4deb-b344-7ebecb6c801e');\n",
       "                  var text = root.getElementsByClassName('pb-text')[0];\n",
       "                  var fill = root.getElementsByClassName('pb-fill')[0];\n",
       "\n",
       "                  text.innerHTML = 'Simulation finished in 0:01:26.';\n",
       "                  \n",
       "            if (100.0 > 0.) {\n",
       "                fill.style.transition = 'width 0.1s linear';\n",
       "            } else {\n",
       "                fill.style.transition = 'none';\n",
       "            }\n",
       "\n",
       "            fill.style.width = '100.0%';\n",
       "            fill.style.animation = 'none';\n",
       "            fill.style.backgroundImage = 'none'\n",
       "        \n",
       "                  \n",
       "                fill.style.animation = 'none';\n",
       "                fill.style.backgroundImage = 'none';\n",
       "            \n",
       "              })();\n",
       "        "
      ],
      "text/plain": [
       "<IPython.core.display.Javascript object>"
      ]
     },
     "metadata": {},
     "output_type": "display_data"
    },
    {
     "name": "stdout",
     "output_type": "stream",
     "text": [
      "seed = 17\n",
      "backend = 'nengo_ocl'\n",
      "dt = 0.001\n",
      "neuron_type = 'default'\n",
      "n_neurons_scale = 1\n",
      "n_neurons_scale_combined = 0.25\n",
      "s_crosstalk = 0\n",
      "s_evidence = 20\n",
      "n_samples = 10000\n",
      "t_senso = 0\n",
      "vocab = <nengo_spa.vocabulary.Vocabulary object at 0x7f309dbf6c90>\n",
      "xp = <experiments.Xp1 object at 0x7f30ae3f9990>\n",
      "proc_feedback = 0.9\n",
      "proc_feedback_synapse = 0.005\n",
      "GW_feedback = 1\n",
      "GW_threshold = 0.5\n",
      "GW_scale = 20\n",
      "BG_thr = 0.1\n",
      "BG_bias = 0.5\n",
      "integrator_reset = False\n",
      "data = <data.Data object at 0x7f30f2529990>\n",
      "\t seed 18/20\n",
      "running run_seed18_dim32\n"
     ]
    },
    {
     "name": "stderr",
     "output_type": "stream",
     "text": [
      "/home/ubuntu/anaconda3/envs/CTN/lib/python3.7/site-packages/nengo_spa/vocabulary.py:173: UserWarning: Could not create a semantic pointer with max_similarity=0.10 (D=32, M=20, similarity=0.14)\n",
      "  len(self._key2idx), best_sim))\n"
     ]
    },
    {
     "data": {
      "text/html": [
       "\n",
       "                <div id=\"e79d308c-3462-498f-8617-2b1ece3fb157\" style=\"\n",
       "                    width: 100%;\n",
       "                    border: 1px solid #cfcfcf;\n",
       "                    border-radius: 4px;\n",
       "                    text-align: center;\n",
       "                    position: relative;\">\n",
       "                  <div class=\"pb-text\" style=\"\n",
       "                      position: absolute;\n",
       "                      width: 100%;\">\n",
       "                    0%\n",
       "                  </div>\n",
       "                  <div class=\"pb-fill\" style=\"\n",
       "                      background-color: #bdd2e6;\n",
       "                      width: 0%;\">\n",
       "                    <style type=\"text/css\" scoped=\"scoped\">\n",
       "                        @keyframes pb-fill-anim {\n",
       "                            0% { background-position: 0 0; }\n",
       "                            100% { background-position: 100px 0; }\n",
       "                        }\n",
       "                    </style>\n",
       "                    &nbsp;\n",
       "                  </div>\n",
       "                </div>"
      ],
      "text/plain": [
       "HtmlProgressBar cannot be displayed. Please use the TerminalProgressBar. It can be enabled with `nengo.rc.set('progress', 'progress_bar', 'nengo.utils.progress.TerminalProgressBar')`."
      ]
     },
     "metadata": {},
     "output_type": "display_data"
    },
    {
     "data": {
      "application/javascript": [
       "\n",
       "              (function () {\n",
       "                  var root = document.getElementById('e79d308c-3462-498f-8617-2b1ece3fb157');\n",
       "                  var text = root.getElementsByClassName('pb-text')[0];\n",
       "                  var fill = root.getElementsByClassName('pb-fill')[0];\n",
       "\n",
       "                  text.innerHTML = 'Simulation finished in 0:01:26.';\n",
       "                  \n",
       "            if (100.0 > 0.) {\n",
       "                fill.style.transition = 'width 0.1s linear';\n",
       "            } else {\n",
       "                fill.style.transition = 'none';\n",
       "            }\n",
       "\n",
       "            fill.style.width = '100.0%';\n",
       "            fill.style.animation = 'none';\n",
       "            fill.style.backgroundImage = 'none'\n",
       "        \n",
       "                  \n",
       "                fill.style.animation = 'none';\n",
       "                fill.style.backgroundImage = 'none';\n",
       "            \n",
       "              })();\n",
       "        "
      ],
      "text/plain": [
       "<IPython.core.display.Javascript object>"
      ]
     },
     "metadata": {},
     "output_type": "display_data"
    },
    {
     "name": "stdout",
     "output_type": "stream",
     "text": [
      "seed = 18\n",
      "backend = 'nengo_ocl'\n",
      "dt = 0.001\n",
      "neuron_type = 'default'\n",
      "n_neurons_scale = 1\n",
      "n_neurons_scale_combined = 0.25\n",
      "s_crosstalk = 0\n",
      "s_evidence = 20\n",
      "n_samples = 10000\n",
      "t_senso = 0\n",
      "vocab = <nengo_spa.vocabulary.Vocabulary object at 0x7f30f24e8e10>\n",
      "xp = <experiments.Xp1 object at 0x7f30f24ad390>\n",
      "proc_feedback = 0.9\n",
      "proc_feedback_synapse = 0.005\n",
      "GW_feedback = 1\n",
      "GW_threshold = 0.5\n",
      "GW_scale = 20\n",
      "BG_thr = 0.1\n",
      "BG_bias = 0.5\n",
      "integrator_reset = False\n",
      "data = <data.Data object at 0x7f30f24b7850>\n",
      "\t seed 19/20\n",
      "running run_seed19_dim32\n"
     ]
    },
    {
     "name": "stderr",
     "output_type": "stream",
     "text": [
      "/home/ubuntu/anaconda3/envs/CTN/lib/python3.7/site-packages/nengo_spa/vocabulary.py:173: UserWarning: Could not create a semantic pointer with max_similarity=0.10 (D=32, M=14, similarity=0.10)\n",
      "  len(self._key2idx), best_sim))\n",
      "/home/ubuntu/anaconda3/envs/CTN/lib/python3.7/site-packages/nengo_spa/vocabulary.py:173: UserWarning: Could not create a semantic pointer with max_similarity=0.10 (D=32, M=17, similarity=0.18)\n",
      "  len(self._key2idx), best_sim))\n",
      "/home/ubuntu/anaconda3/envs/CTN/lib/python3.7/site-packages/nengo_spa/vocabulary.py:173: UserWarning: Could not create a semantic pointer with max_similarity=0.10 (D=32, M=18, similarity=0.14)\n",
      "  len(self._key2idx), best_sim))\n"
     ]
    },
    {
     "data": {
      "text/html": [
       "\n",
       "                <div id=\"71742a56-7fe9-4a6f-88a2-b0c382461529\" style=\"\n",
       "                    width: 100%;\n",
       "                    border: 1px solid #cfcfcf;\n",
       "                    border-radius: 4px;\n",
       "                    text-align: center;\n",
       "                    position: relative;\">\n",
       "                  <div class=\"pb-text\" style=\"\n",
       "                      position: absolute;\n",
       "                      width: 100%;\">\n",
       "                    0%\n",
       "                  </div>\n",
       "                  <div class=\"pb-fill\" style=\"\n",
       "                      background-color: #bdd2e6;\n",
       "                      width: 0%;\">\n",
       "                    <style type=\"text/css\" scoped=\"scoped\">\n",
       "                        @keyframes pb-fill-anim {\n",
       "                            0% { background-position: 0 0; }\n",
       "                            100% { background-position: 100px 0; }\n",
       "                        }\n",
       "                    </style>\n",
       "                    &nbsp;\n",
       "                  </div>\n",
       "                </div>"
      ],
      "text/plain": [
       "HtmlProgressBar cannot be displayed. Please use the TerminalProgressBar. It can be enabled with `nengo.rc.set('progress', 'progress_bar', 'nengo.utils.progress.TerminalProgressBar')`."
      ]
     },
     "metadata": {},
     "output_type": "display_data"
    },
    {
     "data": {
      "application/javascript": [
       "\n",
       "              (function () {\n",
       "                  var root = document.getElementById('71742a56-7fe9-4a6f-88a2-b0c382461529');\n",
       "                  var text = root.getElementsByClassName('pb-text')[0];\n",
       "                  var fill = root.getElementsByClassName('pb-fill')[0];\n",
       "\n",
       "                  text.innerHTML = 'Simulation finished in 0:01:25.';\n",
       "                  \n",
       "            if (100.0 > 0.) {\n",
       "                fill.style.transition = 'width 0.1s linear';\n",
       "            } else {\n",
       "                fill.style.transition = 'none';\n",
       "            }\n",
       "\n",
       "            fill.style.width = '100.0%';\n",
       "            fill.style.animation = 'none';\n",
       "            fill.style.backgroundImage = 'none'\n",
       "        \n",
       "                  \n",
       "                fill.style.animation = 'none';\n",
       "                fill.style.backgroundImage = 'none';\n",
       "            \n",
       "              })();\n",
       "        "
      ],
      "text/plain": [
       "<IPython.core.display.Javascript object>"
      ]
     },
     "metadata": {},
     "output_type": "display_data"
    },
    {
     "name": "stdout",
     "output_type": "stream",
     "text": [
      "seed = 19\n",
      "backend = 'nengo_ocl'\n",
      "dt = 0.001\n",
      "neuron_type = 'default'\n",
      "n_neurons_scale = 1\n",
      "n_neurons_scale_combined = 0.25\n",
      "s_crosstalk = 0\n",
      "s_evidence = 20\n",
      "n_samples = 10000\n",
      "t_senso = 0\n",
      "vocab = <nengo_spa.vocabulary.Vocabulary object at 0x7f30ae303c10>\n",
      "xp = <experiments.Xp1 object at 0x7f30f23e3250>\n",
      "proc_feedback = 0.9\n",
      "proc_feedback_synapse = 0.005\n",
      "GW_feedback = 1\n",
      "GW_threshold = 0.5\n",
      "GW_scale = 20\n",
      "BG_thr = 0.1\n",
      "BG_bias = 0.5\n",
      "integrator_reset = False\n",
      "data = <data.Data object at 0x7f30ae362f50>\n",
      "\t seed 20/20\n",
      "running run_seed20_dim32\n"
     ]
    },
    {
     "name": "stderr",
     "output_type": "stream",
     "text": [
      "/home/ubuntu/anaconda3/envs/CTN/lib/python3.7/site-packages/nengo_spa/vocabulary.py:173: UserWarning: Could not create a semantic pointer with max_similarity=0.10 (D=32, M=14, similarity=0.11)\n",
      "  len(self._key2idx), best_sim))\n",
      "/home/ubuntu/anaconda3/envs/CTN/lib/python3.7/site-packages/nengo_spa/vocabulary.py:173: UserWarning: Could not create a semantic pointer with max_similarity=0.10 (D=32, M=17, similarity=0.17)\n",
      "  len(self._key2idx), best_sim))\n"
     ]
    },
    {
     "data": {
      "text/html": [
       "\n",
       "                <div id=\"7252883b-4e2e-488f-95bf-ead3c0eee0a7\" style=\"\n",
       "                    width: 100%;\n",
       "                    border: 1px solid #cfcfcf;\n",
       "                    border-radius: 4px;\n",
       "                    text-align: center;\n",
       "                    position: relative;\">\n",
       "                  <div class=\"pb-text\" style=\"\n",
       "                      position: absolute;\n",
       "                      width: 100%;\">\n",
       "                    0%\n",
       "                  </div>\n",
       "                  <div class=\"pb-fill\" style=\"\n",
       "                      background-color: #bdd2e6;\n",
       "                      width: 0%;\">\n",
       "                    <style type=\"text/css\" scoped=\"scoped\">\n",
       "                        @keyframes pb-fill-anim {\n",
       "                            0% { background-position: 0 0; }\n",
       "                            100% { background-position: 100px 0; }\n",
       "                        }\n",
       "                    </style>\n",
       "                    &nbsp;\n",
       "                  </div>\n",
       "                </div>"
      ],
      "text/plain": [
       "HtmlProgressBar cannot be displayed. Please use the TerminalProgressBar. It can be enabled with `nengo.rc.set('progress', 'progress_bar', 'nengo.utils.progress.TerminalProgressBar')`."
      ]
     },
     "metadata": {},
     "output_type": "display_data"
    },
    {
     "data": {
      "application/javascript": [
       "\n",
       "              (function () {\n",
       "                  var root = document.getElementById('7252883b-4e2e-488f-95bf-ead3c0eee0a7');\n",
       "                  var text = root.getElementsByClassName('pb-text')[0];\n",
       "                  var fill = root.getElementsByClassName('pb-fill')[0];\n",
       "\n",
       "                  text.innerHTML = 'Simulation finished in 0:01:26.';\n",
       "                  \n",
       "            if (100.0 > 0.) {\n",
       "                fill.style.transition = 'width 0.1s linear';\n",
       "            } else {\n",
       "                fill.style.transition = 'none';\n",
       "            }\n",
       "\n",
       "            fill.style.width = '100.0%';\n",
       "            fill.style.animation = 'none';\n",
       "            fill.style.backgroundImage = 'none'\n",
       "        \n",
       "                  \n",
       "                fill.style.animation = 'none';\n",
       "                fill.style.backgroundImage = 'none';\n",
       "            \n",
       "              })();\n",
       "        "
      ],
      "text/plain": [
       "<IPython.core.display.Javascript object>"
      ]
     },
     "metadata": {},
     "output_type": "display_data"
    },
    {
     "name": "stdout",
     "output_type": "stream",
     "text": [
      "seed = 20\n",
      "backend = 'nengo_ocl'\n",
      "dt = 0.001\n",
      "neuron_type = 'default'\n",
      "n_neurons_scale = 1\n",
      "n_neurons_scale_combined = 0.25\n",
      "s_crosstalk = 0\n",
      "s_evidence = 20\n",
      "n_samples = 10000\n",
      "t_senso = 0\n",
      "vocab = <nengo_spa.vocabulary.Vocabulary object at 0x7f308830be10>\n",
      "xp = <experiments.Xp1 object at 0x7f30f24e8fd0>\n",
      "proc_feedback = 0.9\n",
      "proc_feedback_synapse = 0.005\n",
      "GW_feedback = 1\n",
      "GW_threshold = 0.5\n",
      "GW_scale = 20\n",
      "BG_thr = 0.1\n",
      "BG_bias = 0.5\n",
      "integrator_reset = False\n",
      "data = <data.Data object at 0x7f30f1c75250>\n",
      "error rate: 0.27083333333333337\n",
      "params: [3.]\n",
      "Simulating...\n",
      "\t seed 1/20\n",
      "\t seed 2/20\n",
      "\t seed 3/20\n",
      "\t seed 4/20\n",
      "\t seed 5/20\n",
      "\t seed 6/20\n",
      "\t seed 7/20\n",
      "\t seed 8/20\n",
      "\t seed 9/20\n",
      "\t seed 10/20\n",
      "\t seed 11/20\n",
      "running run_seed11_dim48\n"
     ]
    },
    {
     "name": "stderr",
     "output_type": "stream",
     "text": [
      "/home/ubuntu/anaconda3/envs/CTN/lib/python3.7/site-packages/nengo_spa/vocabulary.py:173: UserWarning: Could not create a semantic pointer with max_similarity=0.10 (D=48, M=13, similarity=0.11)\n",
      "  len(self._key2idx), best_sim))\n",
      "/home/ubuntu/anaconda3/envs/CTN/lib/python3.7/site-packages/nengo_spa/vocabulary.py:173: UserWarning: Could not create a semantic pointer with max_similarity=0.10 (D=48, M=14, similarity=0.12)\n",
      "  len(self._key2idx), best_sim))\n",
      "/home/ubuntu/anaconda3/envs/CTN/lib/python3.7/site-packages/nengo_spa/vocabulary.py:173: UserWarning: Could not create a semantic pointer with max_similarity=0.10 (D=48, M=15, similarity=0.12)\n",
      "  len(self._key2idx), best_sim))\n",
      "/home/ubuntu/anaconda3/envs/CTN/lib/python3.7/site-packages/nengo_spa/vocabulary.py:173: UserWarning: Could not create a semantic pointer with max_similarity=0.10 (D=48, M=17, similarity=0.13)\n",
      "  len(self._key2idx), best_sim))\n",
      "/home/ubuntu/anaconda3/envs/CTN/lib/python3.7/site-packages/nengo_spa/vocabulary.py:173: UserWarning: Could not create a semantic pointer with max_similarity=0.10 (D=48, M=18, similarity=0.14)\n",
      "  len(self._key2idx), best_sim))\n",
      "/home/ubuntu/anaconda3/envs/CTN/lib/python3.7/site-packages/nengo_spa/vocabulary.py:173: UserWarning: Could not create a semantic pointer with max_similarity=0.10 (D=48, M=19, similarity=0.17)\n",
      "  len(self._key2idx), best_sim))\n",
      "/home/ubuntu/anaconda3/envs/CTN/lib/python3.7/site-packages/nengo_spa/vocabulary.py:173: UserWarning: Could not create a semantic pointer with max_similarity=0.10 (D=48, M=20, similarity=0.10)\n",
      "  len(self._key2idx), best_sim))\n"
     ]
    },
    {
     "data": {
      "text/html": [
       "\n",
       "                <div id=\"bf617966-4455-4636-8d29-10edb7898814\" style=\"\n",
       "                    width: 100%;\n",
       "                    border: 1px solid #cfcfcf;\n",
       "                    border-radius: 4px;\n",
       "                    text-align: center;\n",
       "                    position: relative;\">\n",
       "                  <div class=\"pb-text\" style=\"\n",
       "                      position: absolute;\n",
       "                      width: 100%;\">\n",
       "                    0%\n",
       "                  </div>\n",
       "                  <div class=\"pb-fill\" style=\"\n",
       "                      background-color: #bdd2e6;\n",
       "                      width: 0%;\">\n",
       "                    <style type=\"text/css\" scoped=\"scoped\">\n",
       "                        @keyframes pb-fill-anim {\n",
       "                            0% { background-position: 0 0; }\n",
       "                            100% { background-position: 100px 0; }\n",
       "                        }\n",
       "                    </style>\n",
       "                    &nbsp;\n",
       "                  </div>\n",
       "                </div>"
      ],
      "text/plain": [
       "HtmlProgressBar cannot be displayed. Please use the TerminalProgressBar. It can be enabled with `nengo.rc.set('progress', 'progress_bar', 'nengo.utils.progress.TerminalProgressBar')`."
      ]
     },
     "metadata": {},
     "output_type": "display_data"
    },
    {
     "data": {
      "application/javascript": [
       "\n",
       "              (function () {\n",
       "                  var root = document.getElementById('bf617966-4455-4636-8d29-10edb7898814');\n",
       "                  var text = root.getElementsByClassName('pb-text')[0];\n",
       "                  var fill = root.getElementsByClassName('pb-fill')[0];\n",
       "\n",
       "                  text.innerHTML = 'Simulation finished in 0:01:29.';\n",
       "                  \n",
       "            if (100.0 > 0.) {\n",
       "                fill.style.transition = 'width 0.1s linear';\n",
       "            } else {\n",
       "                fill.style.transition = 'none';\n",
       "            }\n",
       "\n",
       "            fill.style.width = '100.0%';\n",
       "            fill.style.animation = 'none';\n",
       "            fill.style.backgroundImage = 'none'\n",
       "        \n",
       "                  \n",
       "                fill.style.animation = 'none';\n",
       "                fill.style.backgroundImage = 'none';\n",
       "            \n",
       "              })();\n",
       "        "
      ],
      "text/plain": [
       "<IPython.core.display.Javascript object>"
      ]
     },
     "metadata": {},
     "output_type": "display_data"
    },
    {
     "name": "stdout",
     "output_type": "stream",
     "text": [
      "seed = 11\n",
      "backend = 'nengo_ocl'\n",
      "dt = 0.001\n",
      "neuron_type = 'default'\n",
      "n_neurons_scale = 1\n",
      "n_neurons_scale_combined = 0.25\n",
      "s_crosstalk = 0\n",
      "s_evidence = 20\n",
      "n_samples = 10000\n",
      "t_senso = 0\n",
      "vocab = <nengo_spa.vocabulary.Vocabulary object at 0x7f30f1fb8b90>\n",
      "xp = <experiments.Xp1 object at 0x7f30f2a3ec90>\n",
      "proc_feedback = 0.9\n",
      "proc_feedback_synapse = 0.005\n",
      "GW_feedback = 1\n",
      "GW_threshold = 0.5\n",
      "GW_scale = 20\n",
      "BG_thr = 0.1\n",
      "BG_bias = 0.5\n",
      "integrator_reset = False\n",
      "data = <data.Data object at 0x7f30f1fb8fd0>\n",
      "\t seed 12/20\n",
      "running run_seed12_dim48\n"
     ]
    },
    {
     "name": "stderr",
     "output_type": "stream",
     "text": [
      "/home/ubuntu/anaconda3/envs/CTN/lib/python3.7/site-packages/nengo_spa/vocabulary.py:173: UserWarning: Could not create a semantic pointer with max_similarity=0.10 (D=48, M=14, similarity=0.13)\n",
      "  len(self._key2idx), best_sim))\n",
      "/home/ubuntu/anaconda3/envs/CTN/lib/python3.7/site-packages/nengo_spa/vocabulary.py:173: UserWarning: Could not create a semantic pointer with max_similarity=0.10 (D=48, M=15, similarity=0.10)\n",
      "  len(self._key2idx), best_sim))\n",
      "/home/ubuntu/anaconda3/envs/CTN/lib/python3.7/site-packages/nengo_spa/vocabulary.py:173: UserWarning: Could not create a semantic pointer with max_similarity=0.10 (D=48, M=16, similarity=0.10)\n",
      "  len(self._key2idx), best_sim))\n",
      "/home/ubuntu/anaconda3/envs/CTN/lib/python3.7/site-packages/nengo_spa/vocabulary.py:173: UserWarning: Could not create a semantic pointer with max_similarity=0.10 (D=48, M=17, similarity=0.14)\n",
      "  len(self._key2idx), best_sim))\n",
      "/home/ubuntu/anaconda3/envs/CTN/lib/python3.7/site-packages/nengo_spa/vocabulary.py:173: UserWarning: Could not create a semantic pointer with max_similarity=0.10 (D=48, M=18, similarity=0.13)\n",
      "  len(self._key2idx), best_sim))\n",
      "/home/ubuntu/anaconda3/envs/CTN/lib/python3.7/site-packages/nengo_spa/vocabulary.py:173: UserWarning: Could not create a semantic pointer with max_similarity=0.10 (D=48, M=19, similarity=0.14)\n",
      "  len(self._key2idx), best_sim))\n",
      "/home/ubuntu/anaconda3/envs/CTN/lib/python3.7/site-packages/nengo_spa/vocabulary.py:173: UserWarning: Could not create a semantic pointer with max_similarity=0.10 (D=48, M=20, similarity=0.14)\n",
      "  len(self._key2idx), best_sim))\n"
     ]
    },
    {
     "data": {
      "text/html": [
       "\n",
       "                <div id=\"df93b787-b313-4a20-9bd0-aeef177f72bd\" style=\"\n",
       "                    width: 100%;\n",
       "                    border: 1px solid #cfcfcf;\n",
       "                    border-radius: 4px;\n",
       "                    text-align: center;\n",
       "                    position: relative;\">\n",
       "                  <div class=\"pb-text\" style=\"\n",
       "                      position: absolute;\n",
       "                      width: 100%;\">\n",
       "                    0%\n",
       "                  </div>\n",
       "                  <div class=\"pb-fill\" style=\"\n",
       "                      background-color: #bdd2e6;\n",
       "                      width: 0%;\">\n",
       "                    <style type=\"text/css\" scoped=\"scoped\">\n",
       "                        @keyframes pb-fill-anim {\n",
       "                            0% { background-position: 0 0; }\n",
       "                            100% { background-position: 100px 0; }\n",
       "                        }\n",
       "                    </style>\n",
       "                    &nbsp;\n",
       "                  </div>\n",
       "                </div>"
      ],
      "text/plain": [
       "HtmlProgressBar cannot be displayed. Please use the TerminalProgressBar. It can be enabled with `nengo.rc.set('progress', 'progress_bar', 'nengo.utils.progress.TerminalProgressBar')`."
      ]
     },
     "metadata": {},
     "output_type": "display_data"
    },
    {
     "data": {
      "application/javascript": [
       "\n",
       "              (function () {\n",
       "                  var root = document.getElementById('df93b787-b313-4a20-9bd0-aeef177f72bd');\n",
       "                  var text = root.getElementsByClassName('pb-text')[0];\n",
       "                  var fill = root.getElementsByClassName('pb-fill')[0];\n",
       "\n",
       "                  text.innerHTML = 'Simulation finished in 0:01:26.';\n",
       "                  \n",
       "            if (100.0 > 0.) {\n",
       "                fill.style.transition = 'width 0.1s linear';\n",
       "            } else {\n",
       "                fill.style.transition = 'none';\n",
       "            }\n",
       "\n",
       "            fill.style.width = '100.0%';\n",
       "            fill.style.animation = 'none';\n",
       "            fill.style.backgroundImage = 'none'\n",
       "        \n",
       "                  \n",
       "                fill.style.animation = 'none';\n",
       "                fill.style.backgroundImage = 'none';\n",
       "            \n",
       "              })();\n",
       "        "
      ],
      "text/plain": [
       "<IPython.core.display.Javascript object>"
      ]
     },
     "metadata": {},
     "output_type": "display_data"
    },
    {
     "name": "stdout",
     "output_type": "stream",
     "text": [
      "seed = 12\n",
      "backend = 'nengo_ocl'\n",
      "dt = 0.001\n",
      "neuron_type = 'default'\n",
      "n_neurons_scale = 1\n",
      "n_neurons_scale_combined = 0.25\n",
      "s_crosstalk = 0\n",
      "s_evidence = 20\n",
      "n_samples = 10000\n",
      "t_senso = 0\n",
      "vocab = <nengo_spa.vocabulary.Vocabulary object at 0x7f30adff6110>\n",
      "xp = <experiments.Xp1 object at 0x7f309d7e54d0>\n",
      "proc_feedback = 0.9\n",
      "proc_feedback_synapse = 0.005\n",
      "GW_feedback = 1\n",
      "GW_threshold = 0.5\n",
      "GW_scale = 20\n",
      "BG_thr = 0.1\n",
      "BG_bias = 0.5\n",
      "integrator_reset = False\n",
      "data = <data.Data object at 0x7f309e0b7a10>\n",
      "\t seed 13/20\n",
      "running run_seed13_dim48\n"
     ]
    },
    {
     "name": "stderr",
     "output_type": "stream",
     "text": [
      "/home/ubuntu/anaconda3/envs/CTN/lib/python3.7/site-packages/nengo_spa/vocabulary.py:173: UserWarning: Could not create a semantic pointer with max_similarity=0.10 (D=48, M=15, similarity=0.11)\n",
      "  len(self._key2idx), best_sim))\n",
      "/home/ubuntu/anaconda3/envs/CTN/lib/python3.7/site-packages/nengo_spa/vocabulary.py:173: UserWarning: Could not create a semantic pointer with max_similarity=0.10 (D=48, M=16, similarity=0.12)\n",
      "  len(self._key2idx), best_sim))\n",
      "/home/ubuntu/anaconda3/envs/CTN/lib/python3.7/site-packages/nengo_spa/vocabulary.py:173: UserWarning: Could not create a semantic pointer with max_similarity=0.10 (D=48, M=17, similarity=0.15)\n",
      "  len(self._key2idx), best_sim))\n",
      "/home/ubuntu/anaconda3/envs/CTN/lib/python3.7/site-packages/nengo_spa/vocabulary.py:173: UserWarning: Could not create a semantic pointer with max_similarity=0.10 (D=48, M=19, similarity=0.13)\n",
      "  len(self._key2idx), best_sim))\n",
      "/home/ubuntu/anaconda3/envs/CTN/lib/python3.7/site-packages/nengo_spa/vocabulary.py:173: UserWarning: Could not create a semantic pointer with max_similarity=0.10 (D=48, M=20, similarity=0.15)\n",
      "  len(self._key2idx), best_sim))\n"
     ]
    },
    {
     "data": {
      "text/html": [
       "\n",
       "                <div id=\"7bcba73c-bd4f-4133-bbb3-5fd7908f2a60\" style=\"\n",
       "                    width: 100%;\n",
       "                    border: 1px solid #cfcfcf;\n",
       "                    border-radius: 4px;\n",
       "                    text-align: center;\n",
       "                    position: relative;\">\n",
       "                  <div class=\"pb-text\" style=\"\n",
       "                      position: absolute;\n",
       "                      width: 100%;\">\n",
       "                    0%\n",
       "                  </div>\n",
       "                  <div class=\"pb-fill\" style=\"\n",
       "                      background-color: #bdd2e6;\n",
       "                      width: 0%;\">\n",
       "                    <style type=\"text/css\" scoped=\"scoped\">\n",
       "                        @keyframes pb-fill-anim {\n",
       "                            0% { background-position: 0 0; }\n",
       "                            100% { background-position: 100px 0; }\n",
       "                        }\n",
       "                    </style>\n",
       "                    &nbsp;\n",
       "                  </div>\n",
       "                </div>"
      ],
      "text/plain": [
       "HtmlProgressBar cannot be displayed. Please use the TerminalProgressBar. It can be enabled with `nengo.rc.set('progress', 'progress_bar', 'nengo.utils.progress.TerminalProgressBar')`."
      ]
     },
     "metadata": {},
     "output_type": "display_data"
    },
    {
     "data": {
      "application/javascript": [
       "\n",
       "              (function () {\n",
       "                  var root = document.getElementById('7bcba73c-bd4f-4133-bbb3-5fd7908f2a60');\n",
       "                  var text = root.getElementsByClassName('pb-text')[0];\n",
       "                  var fill = root.getElementsByClassName('pb-fill')[0];\n",
       "\n",
       "                  text.innerHTML = 'Simulation finished in 0:01:29.';\n",
       "                  \n",
       "            if (100.0 > 0.) {\n",
       "                fill.style.transition = 'width 0.1s linear';\n",
       "            } else {\n",
       "                fill.style.transition = 'none';\n",
       "            }\n",
       "\n",
       "            fill.style.width = '100.0%';\n",
       "            fill.style.animation = 'none';\n",
       "            fill.style.backgroundImage = 'none'\n",
       "        \n",
       "                  \n",
       "                fill.style.animation = 'none';\n",
       "                fill.style.backgroundImage = 'none';\n",
       "            \n",
       "              })();\n",
       "        "
      ],
      "text/plain": [
       "<IPython.core.display.Javascript object>"
      ]
     },
     "metadata": {},
     "output_type": "display_data"
    },
    {
     "name": "stdout",
     "output_type": "stream",
     "text": [
      "seed = 13\n",
      "backend = 'nengo_ocl'\n",
      "dt = 0.001\n",
      "neuron_type = 'default'\n",
      "n_neurons_scale = 1\n",
      "n_neurons_scale_combined = 0.25\n",
      "s_crosstalk = 0\n",
      "s_evidence = 20\n",
      "n_samples = 10000\n",
      "t_senso = 0\n",
      "vocab = <nengo_spa.vocabulary.Vocabulary object at 0x7f308840f490>\n",
      "xp = <experiments.Xp1 object at 0x7f30adff6fd0>\n",
      "proc_feedback = 0.9\n",
      "proc_feedback_synapse = 0.005\n",
      "GW_feedback = 1\n",
      "GW_threshold = 0.5\n",
      "GW_scale = 20\n",
      "BG_thr = 0.1\n",
      "BG_bias = 0.5\n",
      "integrator_reset = False\n",
      "data = <data.Data object at 0x7f309dfe7090>\n",
      "\t seed 14/20\n",
      "running run_seed14_dim48\n"
     ]
    },
    {
     "name": "stderr",
     "output_type": "stream",
     "text": [
      "/home/ubuntu/anaconda3/envs/CTN/lib/python3.7/site-packages/nengo_spa/vocabulary.py:173: UserWarning: Could not create a semantic pointer with max_similarity=0.10 (D=48, M=15, similarity=0.14)\n",
      "  len(self._key2idx), best_sim))\n",
      "/home/ubuntu/anaconda3/envs/CTN/lib/python3.7/site-packages/nengo_spa/vocabulary.py:173: UserWarning: Could not create a semantic pointer with max_similarity=0.10 (D=48, M=18, similarity=0.12)\n",
      "  len(self._key2idx), best_sim))\n",
      "/home/ubuntu/anaconda3/envs/CTN/lib/python3.7/site-packages/nengo_spa/vocabulary.py:173: UserWarning: Could not create a semantic pointer with max_similarity=0.10 (D=48, M=20, similarity=0.13)\n",
      "  len(self._key2idx), best_sim))\n"
     ]
    },
    {
     "data": {
      "text/html": [
       "\n",
       "                <div id=\"3c319123-ceac-4b27-8860-2fbbdce28213\" style=\"\n",
       "                    width: 100%;\n",
       "                    border: 1px solid #cfcfcf;\n",
       "                    border-radius: 4px;\n",
       "                    text-align: center;\n",
       "                    position: relative;\">\n",
       "                  <div class=\"pb-text\" style=\"\n",
       "                      position: absolute;\n",
       "                      width: 100%;\">\n",
       "                    0%\n",
       "                  </div>\n",
       "                  <div class=\"pb-fill\" style=\"\n",
       "                      background-color: #bdd2e6;\n",
       "                      width: 0%;\">\n",
       "                    <style type=\"text/css\" scoped=\"scoped\">\n",
       "                        @keyframes pb-fill-anim {\n",
       "                            0% { background-position: 0 0; }\n",
       "                            100% { background-position: 100px 0; }\n",
       "                        }\n",
       "                    </style>\n",
       "                    &nbsp;\n",
       "                  </div>\n",
       "                </div>"
      ],
      "text/plain": [
       "HtmlProgressBar cannot be displayed. Please use the TerminalProgressBar. It can be enabled with `nengo.rc.set('progress', 'progress_bar', 'nengo.utils.progress.TerminalProgressBar')`."
      ]
     },
     "metadata": {},
     "output_type": "display_data"
    },
    {
     "data": {
      "application/javascript": [
       "\n",
       "              (function () {\n",
       "                  var root = document.getElementById('3c319123-ceac-4b27-8860-2fbbdce28213');\n",
       "                  var text = root.getElementsByClassName('pb-text')[0];\n",
       "                  var fill = root.getElementsByClassName('pb-fill')[0];\n",
       "\n",
       "                  text.innerHTML = 'Simulation finished in 0:01:31.';\n",
       "                  \n",
       "            if (100.0 > 0.) {\n",
       "                fill.style.transition = 'width 0.1s linear';\n",
       "            } else {\n",
       "                fill.style.transition = 'none';\n",
       "            }\n",
       "\n",
       "            fill.style.width = '100.0%';\n",
       "            fill.style.animation = 'none';\n",
       "            fill.style.backgroundImage = 'none'\n",
       "        \n",
       "                  \n",
       "                fill.style.animation = 'none';\n",
       "                fill.style.backgroundImage = 'none';\n",
       "            \n",
       "              })();\n",
       "        "
      ],
      "text/plain": [
       "<IPython.core.display.Javascript object>"
      ]
     },
     "metadata": {},
     "output_type": "display_data"
    },
    {
     "name": "stdout",
     "output_type": "stream",
     "text": [
      "seed = 14\n",
      "backend = 'nengo_ocl'\n",
      "dt = 0.001\n",
      "neuron_type = 'default'\n",
      "n_neurons_scale = 1\n",
      "n_neurons_scale_combined = 0.25\n",
      "s_crosstalk = 0\n",
      "s_evidence = 20\n",
      "n_samples = 10000\n",
      "t_senso = 0\n",
      "vocab = <nengo_spa.vocabulary.Vocabulary object at 0x7f30f5f32850>\n",
      "xp = <experiments.Xp1 object at 0x7f30adfbae10>\n",
      "proc_feedback = 0.9\n",
      "proc_feedback_synapse = 0.005\n",
      "GW_feedback = 1\n",
      "GW_threshold = 0.5\n",
      "GW_scale = 20\n",
      "BG_thr = 0.1\n",
      "BG_bias = 0.5\n",
      "integrator_reset = False\n",
      "data = <data.Data object at 0x7f309cdc4410>\n",
      "\t seed 15/20\n",
      "running run_seed15_dim48\n"
     ]
    },
    {
     "name": "stderr",
     "output_type": "stream",
     "text": [
      "/home/ubuntu/anaconda3/envs/CTN/lib/python3.7/site-packages/nengo_spa/vocabulary.py:173: UserWarning: Could not create a semantic pointer with max_similarity=0.10 (D=48, M=17, similarity=0.10)\n",
      "  len(self._key2idx), best_sim))\n",
      "/home/ubuntu/anaconda3/envs/CTN/lib/python3.7/site-packages/nengo_spa/vocabulary.py:173: UserWarning: Could not create a semantic pointer with max_similarity=0.10 (D=48, M=19, similarity=0.12)\n",
      "  len(self._key2idx), best_sim))\n"
     ]
    },
    {
     "data": {
      "text/html": [
       "\n",
       "                <div id=\"d744c8d2-e077-435f-964b-8fe8380de997\" style=\"\n",
       "                    width: 100%;\n",
       "                    border: 1px solid #cfcfcf;\n",
       "                    border-radius: 4px;\n",
       "                    text-align: center;\n",
       "                    position: relative;\">\n",
       "                  <div class=\"pb-text\" style=\"\n",
       "                      position: absolute;\n",
       "                      width: 100%;\">\n",
       "                    0%\n",
       "                  </div>\n",
       "                  <div class=\"pb-fill\" style=\"\n",
       "                      background-color: #bdd2e6;\n",
       "                      width: 0%;\">\n",
       "                    <style type=\"text/css\" scoped=\"scoped\">\n",
       "                        @keyframes pb-fill-anim {\n",
       "                            0% { background-position: 0 0; }\n",
       "                            100% { background-position: 100px 0; }\n",
       "                        }\n",
       "                    </style>\n",
       "                    &nbsp;\n",
       "                  </div>\n",
       "                </div>"
      ],
      "text/plain": [
       "HtmlProgressBar cannot be displayed. Please use the TerminalProgressBar. It can be enabled with `nengo.rc.set('progress', 'progress_bar', 'nengo.utils.progress.TerminalProgressBar')`."
      ]
     },
     "metadata": {},
     "output_type": "display_data"
    },
    {
     "data": {
      "application/javascript": [
       "\n",
       "              (function () {\n",
       "                  var root = document.getElementById('d744c8d2-e077-435f-964b-8fe8380de997');\n",
       "                  var text = root.getElementsByClassName('pb-text')[0];\n",
       "                  var fill = root.getElementsByClassName('pb-fill')[0];\n",
       "\n",
       "                  text.innerHTML = 'Simulation finished in 0:01:29.';\n",
       "                  \n",
       "            if (100.0 > 0.) {\n",
       "                fill.style.transition = 'width 0.1s linear';\n",
       "            } else {\n",
       "                fill.style.transition = 'none';\n",
       "            }\n",
       "\n",
       "            fill.style.width = '100.0%';\n",
       "            fill.style.animation = 'none';\n",
       "            fill.style.backgroundImage = 'none'\n",
       "        \n",
       "                  \n",
       "                fill.style.animation = 'none';\n",
       "                fill.style.backgroundImage = 'none';\n",
       "            \n",
       "              })();\n",
       "        "
      ],
      "text/plain": [
       "<IPython.core.display.Javascript object>"
      ]
     },
     "metadata": {},
     "output_type": "display_data"
    },
    {
     "name": "stdout",
     "output_type": "stream",
     "text": [
      "seed = 15\n",
      "backend = 'nengo_ocl'\n",
      "dt = 0.001\n",
      "neuron_type = 'default'\n",
      "n_neurons_scale = 1\n",
      "n_neurons_scale_combined = 0.25\n",
      "s_crosstalk = 0\n",
      "s_evidence = 20\n",
      "n_samples = 10000\n",
      "t_senso = 0\n",
      "vocab = <nengo_spa.vocabulary.Vocabulary object at 0x7f30f26c4cd0>\n",
      "xp = <experiments.Xp1 object at 0x7f309c58af10>\n",
      "proc_feedback = 0.9\n",
      "proc_feedback_synapse = 0.005\n",
      "GW_feedback = 1\n",
      "GW_threshold = 0.5\n",
      "GW_scale = 20\n",
      "BG_thr = 0.1\n",
      "BG_bias = 0.5\n",
      "integrator_reset = False\n",
      "data = <data.Data object at 0x7f309d691950>\n",
      "\t seed 16/20\n",
      "running run_seed16_dim48\n"
     ]
    },
    {
     "name": "stderr",
     "output_type": "stream",
     "text": [
      "/home/ubuntu/anaconda3/envs/CTN/lib/python3.7/site-packages/nengo_spa/vocabulary.py:173: UserWarning: Could not create a semantic pointer with max_similarity=0.10 (D=48, M=13, similarity=0.12)\n",
      "  len(self._key2idx), best_sim))\n",
      "/home/ubuntu/anaconda3/envs/CTN/lib/python3.7/site-packages/nengo_spa/vocabulary.py:173: UserWarning: Could not create a semantic pointer with max_similarity=0.10 (D=48, M=16, similarity=0.13)\n",
      "  len(self._key2idx), best_sim))\n"
     ]
    },
    {
     "data": {
      "text/html": [
       "\n",
       "                <div id=\"a194eb53-39d1-464f-8d7a-21227baa6511\" style=\"\n",
       "                    width: 100%;\n",
       "                    border: 1px solid #cfcfcf;\n",
       "                    border-radius: 4px;\n",
       "                    text-align: center;\n",
       "                    position: relative;\">\n",
       "                  <div class=\"pb-text\" style=\"\n",
       "                      position: absolute;\n",
       "                      width: 100%;\">\n",
       "                    0%\n",
       "                  </div>\n",
       "                  <div class=\"pb-fill\" style=\"\n",
       "                      background-color: #bdd2e6;\n",
       "                      width: 0%;\">\n",
       "                    <style type=\"text/css\" scoped=\"scoped\">\n",
       "                        @keyframes pb-fill-anim {\n",
       "                            0% { background-position: 0 0; }\n",
       "                            100% { background-position: 100px 0; }\n",
       "                        }\n",
       "                    </style>\n",
       "                    &nbsp;\n",
       "                  </div>\n",
       "                </div>"
      ],
      "text/plain": [
       "HtmlProgressBar cannot be displayed. Please use the TerminalProgressBar. It can be enabled with `nengo.rc.set('progress', 'progress_bar', 'nengo.utils.progress.TerminalProgressBar')`."
      ]
     },
     "metadata": {},
     "output_type": "display_data"
    },
    {
     "data": {
      "application/javascript": [
       "\n",
       "              (function () {\n",
       "                  var root = document.getElementById('a194eb53-39d1-464f-8d7a-21227baa6511');\n",
       "                  var text = root.getElementsByClassName('pb-text')[0];\n",
       "                  var fill = root.getElementsByClassName('pb-fill')[0];\n",
       "\n",
       "                  text.innerHTML = 'Simulation finished in 0:01:30.';\n",
       "                  \n",
       "            if (100.0 > 0.) {\n",
       "                fill.style.transition = 'width 0.1s linear';\n",
       "            } else {\n",
       "                fill.style.transition = 'none';\n",
       "            }\n",
       "\n",
       "            fill.style.width = '100.0%';\n",
       "            fill.style.animation = 'none';\n",
       "            fill.style.backgroundImage = 'none'\n",
       "        \n",
       "                  \n",
       "                fill.style.animation = 'none';\n",
       "                fill.style.backgroundImage = 'none';\n",
       "            \n",
       "              })();\n",
       "        "
      ],
      "text/plain": [
       "<IPython.core.display.Javascript object>"
      ]
     },
     "metadata": {},
     "output_type": "display_data"
    },
    {
     "name": "stdout",
     "output_type": "stream",
     "text": [
      "seed = 16\n",
      "backend = 'nengo_ocl'\n",
      "dt = 0.001\n",
      "neuron_type = 'default'\n",
      "n_neurons_scale = 1\n",
      "n_neurons_scale_combined = 0.25\n",
      "s_crosstalk = 0\n",
      "s_evidence = 20\n",
      "n_samples = 10000\n",
      "t_senso = 0\n",
      "vocab = <nengo_spa.vocabulary.Vocabulary object at 0x7f30adfbac50>\n",
      "xp = <experiments.Xp1 object at 0x7f30e8760f50>\n",
      "proc_feedback = 0.9\n",
      "proc_feedback_synapse = 0.005\n",
      "GW_feedback = 1\n",
      "GW_threshold = 0.5\n",
      "GW_scale = 20\n",
      "BG_thr = 0.1\n",
      "BG_bias = 0.5\n",
      "integrator_reset = False\n",
      "data = <data.Data object at 0x7f30b266f890>\n",
      "\t seed 17/20\n",
      "running run_seed17_dim48\n"
     ]
    },
    {
     "name": "stderr",
     "output_type": "stream",
     "text": [
      "/home/ubuntu/anaconda3/envs/CTN/lib/python3.7/site-packages/nengo_spa/vocabulary.py:173: UserWarning: Could not create a semantic pointer with max_similarity=0.10 (D=48, M=16, similarity=0.11)\n",
      "  len(self._key2idx), best_sim))\n",
      "/home/ubuntu/anaconda3/envs/CTN/lib/python3.7/site-packages/nengo_spa/vocabulary.py:173: UserWarning: Could not create a semantic pointer with max_similarity=0.10 (D=48, M=17, similarity=0.12)\n",
      "  len(self._key2idx), best_sim))\n",
      "/home/ubuntu/anaconda3/envs/CTN/lib/python3.7/site-packages/nengo_spa/vocabulary.py:173: UserWarning: Could not create a semantic pointer with max_similarity=0.10 (D=48, M=19, similarity=0.16)\n",
      "  len(self._key2idx), best_sim))\n"
     ]
    },
    {
     "data": {
      "text/html": [
       "\n",
       "                <div id=\"12679345-d3f9-46f6-959e-6afef5ca056a\" style=\"\n",
       "                    width: 100%;\n",
       "                    border: 1px solid #cfcfcf;\n",
       "                    border-radius: 4px;\n",
       "                    text-align: center;\n",
       "                    position: relative;\">\n",
       "                  <div class=\"pb-text\" style=\"\n",
       "                      position: absolute;\n",
       "                      width: 100%;\">\n",
       "                    0%\n",
       "                  </div>\n",
       "                  <div class=\"pb-fill\" style=\"\n",
       "                      background-color: #bdd2e6;\n",
       "                      width: 0%;\">\n",
       "                    <style type=\"text/css\" scoped=\"scoped\">\n",
       "                        @keyframes pb-fill-anim {\n",
       "                            0% { background-position: 0 0; }\n",
       "                            100% { background-position: 100px 0; }\n",
       "                        }\n",
       "                    </style>\n",
       "                    &nbsp;\n",
       "                  </div>\n",
       "                </div>"
      ],
      "text/plain": [
       "HtmlProgressBar cannot be displayed. Please use the TerminalProgressBar. It can be enabled with `nengo.rc.set('progress', 'progress_bar', 'nengo.utils.progress.TerminalProgressBar')`."
      ]
     },
     "metadata": {},
     "output_type": "display_data"
    },
    {
     "data": {
      "application/javascript": [
       "\n",
       "              (function () {\n",
       "                  var root = document.getElementById('12679345-d3f9-46f6-959e-6afef5ca056a');\n",
       "                  var text = root.getElementsByClassName('pb-text')[0];\n",
       "                  var fill = root.getElementsByClassName('pb-fill')[0];\n",
       "\n",
       "                  text.innerHTML = 'Simulation finished in 0:01:29.';\n",
       "                  \n",
       "            if (100.0 > 0.) {\n",
       "                fill.style.transition = 'width 0.1s linear';\n",
       "            } else {\n",
       "                fill.style.transition = 'none';\n",
       "            }\n",
       "\n",
       "            fill.style.width = '100.0%';\n",
       "            fill.style.animation = 'none';\n",
       "            fill.style.backgroundImage = 'none'\n",
       "        \n",
       "                  \n",
       "                fill.style.animation = 'none';\n",
       "                fill.style.backgroundImage = 'none';\n",
       "            \n",
       "              })();\n",
       "        "
      ],
      "text/plain": [
       "<IPython.core.display.Javascript object>"
      ]
     },
     "metadata": {},
     "output_type": "display_data"
    },
    {
     "name": "stdout",
     "output_type": "stream",
     "text": [
      "seed = 17\n",
      "backend = 'nengo_ocl'\n",
      "dt = 0.001\n",
      "neuron_type = 'default'\n",
      "n_neurons_scale = 1\n",
      "n_neurons_scale_combined = 0.25\n",
      "s_crosstalk = 0\n",
      "s_evidence = 20\n",
      "n_samples = 10000\n",
      "t_senso = 0\n",
      "vocab = <nengo_spa.vocabulary.Vocabulary object at 0x7f309dfc1c90>\n",
      "xp = <experiments.Xp1 object at 0x7f309dfc1e90>\n",
      "proc_feedback = 0.9\n",
      "proc_feedback_synapse = 0.005\n",
      "GW_feedback = 1\n",
      "GW_threshold = 0.5\n",
      "GW_scale = 20\n",
      "BG_thr = 0.1\n",
      "BG_bias = 0.5\n",
      "integrator_reset = False\n",
      "data = <data.Data object at 0x7f309dd48050>\n",
      "\t seed 18/20\n",
      "running run_seed18_dim48\n"
     ]
    },
    {
     "name": "stderr",
     "output_type": "stream",
     "text": [
      "/home/ubuntu/anaconda3/envs/CTN/lib/python3.7/site-packages/nengo_spa/vocabulary.py:173: UserWarning: Could not create a semantic pointer with max_similarity=0.10 (D=48, M=16, similarity=0.14)\n",
      "  len(self._key2idx), best_sim))\n",
      "/home/ubuntu/anaconda3/envs/CTN/lib/python3.7/site-packages/nengo_spa/vocabulary.py:173: UserWarning: Could not create a semantic pointer with max_similarity=0.10 (D=48, M=20, similarity=0.11)\n",
      "  len(self._key2idx), best_sim))\n"
     ]
    },
    {
     "data": {
      "text/html": [
       "\n",
       "                <div id=\"3f56c5ab-acf8-48f6-b871-cdffdbde902f\" style=\"\n",
       "                    width: 100%;\n",
       "                    border: 1px solid #cfcfcf;\n",
       "                    border-radius: 4px;\n",
       "                    text-align: center;\n",
       "                    position: relative;\">\n",
       "                  <div class=\"pb-text\" style=\"\n",
       "                      position: absolute;\n",
       "                      width: 100%;\">\n",
       "                    0%\n",
       "                  </div>\n",
       "                  <div class=\"pb-fill\" style=\"\n",
       "                      background-color: #bdd2e6;\n",
       "                      width: 0%;\">\n",
       "                    <style type=\"text/css\" scoped=\"scoped\">\n",
       "                        @keyframes pb-fill-anim {\n",
       "                            0% { background-position: 0 0; }\n",
       "                            100% { background-position: 100px 0; }\n",
       "                        }\n",
       "                    </style>\n",
       "                    &nbsp;\n",
       "                  </div>\n",
       "                </div>"
      ],
      "text/plain": [
       "HtmlProgressBar cannot be displayed. Please use the TerminalProgressBar. It can be enabled with `nengo.rc.set('progress', 'progress_bar', 'nengo.utils.progress.TerminalProgressBar')`."
      ]
     },
     "metadata": {},
     "output_type": "display_data"
    },
    {
     "data": {
      "application/javascript": [
       "\n",
       "              (function () {\n",
       "                  var root = document.getElementById('3f56c5ab-acf8-48f6-b871-cdffdbde902f');\n",
       "                  var text = root.getElementsByClassName('pb-text')[0];\n",
       "                  var fill = root.getElementsByClassName('pb-fill')[0];\n",
       "\n",
       "                  text.innerHTML = 'Simulation finished in 0:01:30.';\n",
       "                  \n",
       "            if (100.0 > 0.) {\n",
       "                fill.style.transition = 'width 0.1s linear';\n",
       "            } else {\n",
       "                fill.style.transition = 'none';\n",
       "            }\n",
       "\n",
       "            fill.style.width = '100.0%';\n",
       "            fill.style.animation = 'none';\n",
       "            fill.style.backgroundImage = 'none'\n",
       "        \n",
       "                  \n",
       "                fill.style.animation = 'none';\n",
       "                fill.style.backgroundImage = 'none';\n",
       "            \n",
       "              })();\n",
       "        "
      ],
      "text/plain": [
       "<IPython.core.display.Javascript object>"
      ]
     },
     "metadata": {},
     "output_type": "display_data"
    },
    {
     "name": "stdout",
     "output_type": "stream",
     "text": [
      "seed = 18\n",
      "backend = 'nengo_ocl'\n",
      "dt = 0.001\n",
      "neuron_type = 'default'\n",
      "n_neurons_scale = 1\n",
      "n_neurons_scale_combined = 0.25\n",
      "s_crosstalk = 0\n",
      "s_evidence = 20\n",
      "n_samples = 10000\n",
      "t_senso = 0\n",
      "vocab = <nengo_spa.vocabulary.Vocabulary object at 0x7f30f5fbead0>\n",
      "xp = <experiments.Xp1 object at 0x7f30adfbaf50>\n",
      "proc_feedback = 0.9\n",
      "proc_feedback_synapse = 0.005\n",
      "GW_feedback = 1\n",
      "GW_threshold = 0.5\n",
      "GW_scale = 20\n",
      "BG_thr = 0.1\n",
      "BG_bias = 0.5\n",
      "integrator_reset = False\n",
      "data = <data.Data object at 0x7f30f29ebf50>\n",
      "\t seed 19/20\n",
      "running run_seed19_dim48\n"
     ]
    },
    {
     "name": "stderr",
     "output_type": "stream",
     "text": [
      "/home/ubuntu/anaconda3/envs/CTN/lib/python3.7/site-packages/nengo_spa/vocabulary.py:173: UserWarning: Could not create a semantic pointer with max_similarity=0.10 (D=48, M=15, similarity=0.13)\n",
      "  len(self._key2idx), best_sim))\n",
      "/home/ubuntu/anaconda3/envs/CTN/lib/python3.7/site-packages/nengo_spa/vocabulary.py:173: UserWarning: Could not create a semantic pointer with max_similarity=0.10 (D=48, M=17, similarity=0.11)\n",
      "  len(self._key2idx), best_sim))\n",
      "/home/ubuntu/anaconda3/envs/CTN/lib/python3.7/site-packages/nengo_spa/vocabulary.py:173: UserWarning: Could not create a semantic pointer with max_similarity=0.10 (D=48, M=19, similarity=0.11)\n",
      "  len(self._key2idx), best_sim))\n"
     ]
    },
    {
     "data": {
      "text/html": [
       "\n",
       "                <div id=\"3f0fcee4-19bd-4d84-b1ef-776b5dde3acf\" style=\"\n",
       "                    width: 100%;\n",
       "                    border: 1px solid #cfcfcf;\n",
       "                    border-radius: 4px;\n",
       "                    text-align: center;\n",
       "                    position: relative;\">\n",
       "                  <div class=\"pb-text\" style=\"\n",
       "                      position: absolute;\n",
       "                      width: 100%;\">\n",
       "                    0%\n",
       "                  </div>\n",
       "                  <div class=\"pb-fill\" style=\"\n",
       "                      background-color: #bdd2e6;\n",
       "                      width: 0%;\">\n",
       "                    <style type=\"text/css\" scoped=\"scoped\">\n",
       "                        @keyframes pb-fill-anim {\n",
       "                            0% { background-position: 0 0; }\n",
       "                            100% { background-position: 100px 0; }\n",
       "                        }\n",
       "                    </style>\n",
       "                    &nbsp;\n",
       "                  </div>\n",
       "                </div>"
      ],
      "text/plain": [
       "HtmlProgressBar cannot be displayed. Please use the TerminalProgressBar. It can be enabled with `nengo.rc.set('progress', 'progress_bar', 'nengo.utils.progress.TerminalProgressBar')`."
      ]
     },
     "metadata": {},
     "output_type": "display_data"
    },
    {
     "data": {
      "application/javascript": [
       "\n",
       "              (function () {\n",
       "                  var root = document.getElementById('3f0fcee4-19bd-4d84-b1ef-776b5dde3acf');\n",
       "                  var text = root.getElementsByClassName('pb-text')[0];\n",
       "                  var fill = root.getElementsByClassName('pb-fill')[0];\n",
       "\n",
       "                  text.innerHTML = 'Simulation finished in 0:01:28.';\n",
       "                  \n",
       "            if (100.0 > 0.) {\n",
       "                fill.style.transition = 'width 0.1s linear';\n",
       "            } else {\n",
       "                fill.style.transition = 'none';\n",
       "            }\n",
       "\n",
       "            fill.style.width = '100.0%';\n",
       "            fill.style.animation = 'none';\n",
       "            fill.style.backgroundImage = 'none'\n",
       "        \n",
       "                  \n",
       "                fill.style.animation = 'none';\n",
       "                fill.style.backgroundImage = 'none';\n",
       "            \n",
       "              })();\n",
       "        "
      ],
      "text/plain": [
       "<IPython.core.display.Javascript object>"
      ]
     },
     "metadata": {},
     "output_type": "display_data"
    },
    {
     "name": "stdout",
     "output_type": "stream",
     "text": [
      "seed = 19\n",
      "backend = 'nengo_ocl'\n",
      "dt = 0.001\n",
      "neuron_type = 'default'\n",
      "n_neurons_scale = 1\n",
      "n_neurons_scale_combined = 0.25\n",
      "s_crosstalk = 0\n",
      "s_evidence = 20\n",
      "n_samples = 10000\n",
      "t_senso = 0\n",
      "vocab = <nengo_spa.vocabulary.Vocabulary object at 0x7f3082455950>\n",
      "xp = <experiments.Xp1 object at 0x7f309dd57710>\n",
      "proc_feedback = 0.9\n",
      "proc_feedback_synapse = 0.005\n",
      "GW_feedback = 1\n",
      "GW_threshold = 0.5\n",
      "GW_scale = 20\n",
      "BG_thr = 0.1\n",
      "BG_bias = 0.5\n",
      "integrator_reset = False\n",
      "data = <data.Data object at 0x7f3088485850>\n",
      "\t seed 20/20\n",
      "running run_seed20_dim48\n"
     ]
    },
    {
     "name": "stderr",
     "output_type": "stream",
     "text": [
      "/home/ubuntu/anaconda3/envs/CTN/lib/python3.7/site-packages/nengo_spa/vocabulary.py:173: UserWarning: Could not create a semantic pointer with max_similarity=0.10 (D=48, M=16, similarity=0.15)\n",
      "  len(self._key2idx), best_sim))\n"
     ]
    },
    {
     "data": {
      "text/html": [
       "\n",
       "                <div id=\"f9582e70-8974-4efc-90e7-53aab445270d\" style=\"\n",
       "                    width: 100%;\n",
       "                    border: 1px solid #cfcfcf;\n",
       "                    border-radius: 4px;\n",
       "                    text-align: center;\n",
       "                    position: relative;\">\n",
       "                  <div class=\"pb-text\" style=\"\n",
       "                      position: absolute;\n",
       "                      width: 100%;\">\n",
       "                    0%\n",
       "                  </div>\n",
       "                  <div class=\"pb-fill\" style=\"\n",
       "                      background-color: #bdd2e6;\n",
       "                      width: 0%;\">\n",
       "                    <style type=\"text/css\" scoped=\"scoped\">\n",
       "                        @keyframes pb-fill-anim {\n",
       "                            0% { background-position: 0 0; }\n",
       "                            100% { background-position: 100px 0; }\n",
       "                        }\n",
       "                    </style>\n",
       "                    &nbsp;\n",
       "                  </div>\n",
       "                </div>"
      ],
      "text/plain": [
       "HtmlProgressBar cannot be displayed. Please use the TerminalProgressBar. It can be enabled with `nengo.rc.set('progress', 'progress_bar', 'nengo.utils.progress.TerminalProgressBar')`."
      ]
     },
     "metadata": {},
     "output_type": "display_data"
    },
    {
     "data": {
      "application/javascript": [
       "\n",
       "              (function () {\n",
       "                  var root = document.getElementById('f9582e70-8974-4efc-90e7-53aab445270d');\n",
       "                  var text = root.getElementsByClassName('pb-text')[0];\n",
       "                  var fill = root.getElementsByClassName('pb-fill')[0];\n",
       "\n",
       "                  text.innerHTML = 'Simulation finished in 0:01:31.';\n",
       "                  \n",
       "            if (100.0 > 0.) {\n",
       "                fill.style.transition = 'width 0.1s linear';\n",
       "            } else {\n",
       "                fill.style.transition = 'none';\n",
       "            }\n",
       "\n",
       "            fill.style.width = '100.0%';\n",
       "            fill.style.animation = 'none';\n",
       "            fill.style.backgroundImage = 'none'\n",
       "        \n",
       "                  \n",
       "                fill.style.animation = 'none';\n",
       "                fill.style.backgroundImage = 'none';\n",
       "            \n",
       "              })();\n",
       "        "
      ],
      "text/plain": [
       "<IPython.core.display.Javascript object>"
      ]
     },
     "metadata": {},
     "output_type": "display_data"
    },
    {
     "name": "stdout",
     "output_type": "stream",
     "text": [
      "seed = 20\n",
      "backend = 'nengo_ocl'\n",
      "dt = 0.001\n",
      "neuron_type = 'default'\n",
      "n_neurons_scale = 1\n",
      "n_neurons_scale_combined = 0.25\n",
      "s_crosstalk = 0\n",
      "s_evidence = 20\n",
      "n_samples = 10000\n",
      "t_senso = 0\n",
      "vocab = <nengo_spa.vocabulary.Vocabulary object at 0x7f30ade50310>\n",
      "xp = <experiments.Xp1 object at 0x7f309ded4c50>\n",
      "proc_feedback = 0.9\n",
      "proc_feedback_synapse = 0.005\n",
      "GW_feedback = 1\n",
      "GW_threshold = 0.5\n",
      "GW_scale = 20\n",
      "BG_thr = 0.1\n",
      "BG_bias = 0.5\n",
      "integrator_reset = False\n",
      "data = <data.Data object at 0x7f30ae36b550>\n",
      "error rate: 0.10416666666666663\n",
      "params: [4.]\n",
      "Simulating...\n",
      "\t seed 1/20\n",
      "\t seed 2/20\n",
      "\t seed 3/20\n",
      "\t seed 4/20\n",
      "\t seed 5/20\n",
      "\t seed 6/20\n",
      "\t seed 7/20\n",
      "\t seed 8/20\n",
      "\t seed 9/20\n",
      "\t seed 10/20\n",
      "\t seed 11/20\n",
      "running run_seed11_dim64\n"
     ]
    },
    {
     "name": "stderr",
     "output_type": "stream",
     "text": [
      "/home/ubuntu/anaconda3/envs/CTN/lib/python3.7/site-packages/nengo_spa/vocabulary.py:173: UserWarning: Could not create a semantic pointer with max_similarity=0.10 (D=64, M=17, similarity=0.12)\n",
      "  len(self._key2idx), best_sim))\n",
      "/home/ubuntu/anaconda3/envs/CTN/lib/python3.7/site-packages/nengo_spa/vocabulary.py:173: UserWarning: Could not create a semantic pointer with max_similarity=0.10 (D=64, M=19, similarity=0.13)\n",
      "  len(self._key2idx), best_sim))\n",
      "/home/ubuntu/anaconda3/envs/CTN/lib/python3.7/site-packages/nengo_spa/vocabulary.py:173: UserWarning: Could not create a semantic pointer with max_similarity=0.10 (D=64, M=20, similarity=0.13)\n",
      "  len(self._key2idx), best_sim))\n"
     ]
    },
    {
     "data": {
      "text/html": [
       "\n",
       "                <div id=\"58978024-8323-40a4-bb50-274eb7ce7f2e\" style=\"\n",
       "                    width: 100%;\n",
       "                    border: 1px solid #cfcfcf;\n",
       "                    border-radius: 4px;\n",
       "                    text-align: center;\n",
       "                    position: relative;\">\n",
       "                  <div class=\"pb-text\" style=\"\n",
       "                      position: absolute;\n",
       "                      width: 100%;\">\n",
       "                    0%\n",
       "                  </div>\n",
       "                  <div class=\"pb-fill\" style=\"\n",
       "                      background-color: #bdd2e6;\n",
       "                      width: 0%;\">\n",
       "                    <style type=\"text/css\" scoped=\"scoped\">\n",
       "                        @keyframes pb-fill-anim {\n",
       "                            0% { background-position: 0 0; }\n",
       "                            100% { background-position: 100px 0; }\n",
       "                        }\n",
       "                    </style>\n",
       "                    &nbsp;\n",
       "                  </div>\n",
       "                </div>"
      ],
      "text/plain": [
       "HtmlProgressBar cannot be displayed. Please use the TerminalProgressBar. It can be enabled with `nengo.rc.set('progress', 'progress_bar', 'nengo.utils.progress.TerminalProgressBar')`."
      ]
     },
     "metadata": {},
     "output_type": "display_data"
    },
    {
     "data": {
      "application/javascript": [
       "\n",
       "              (function () {\n",
       "                  var root = document.getElementById('58978024-8323-40a4-bb50-274eb7ce7f2e');\n",
       "                  var text = root.getElementsByClassName('pb-text')[0];\n",
       "                  var fill = root.getElementsByClassName('pb-fill')[0];\n",
       "\n",
       "                  text.innerHTML = 'Simulation finished in 0:01:34.';\n",
       "                  \n",
       "            if (100.0 > 0.) {\n",
       "                fill.style.transition = 'width 0.1s linear';\n",
       "            } else {\n",
       "                fill.style.transition = 'none';\n",
       "            }\n",
       "\n",
       "            fill.style.width = '100.0%';\n",
       "            fill.style.animation = 'none';\n",
       "            fill.style.backgroundImage = 'none'\n",
       "        \n",
       "                  \n",
       "                fill.style.animation = 'none';\n",
       "                fill.style.backgroundImage = 'none';\n",
       "            \n",
       "              })();\n",
       "        "
      ],
      "text/plain": [
       "<IPython.core.display.Javascript object>"
      ]
     },
     "metadata": {},
     "output_type": "display_data"
    },
    {
     "name": "stdout",
     "output_type": "stream",
     "text": [
      "seed = 11\n",
      "backend = 'nengo_ocl'\n",
      "dt = 0.001\n",
      "neuron_type = 'default'\n",
      "n_neurons_scale = 1\n",
      "n_neurons_scale_combined = 0.25\n",
      "s_crosstalk = 0\n",
      "s_evidence = 20\n",
      "n_samples = 10000\n",
      "t_senso = 0\n",
      "vocab = <nengo_spa.vocabulary.Vocabulary object at 0x7f30adfc1090>\n",
      "xp = <experiments.Xp1 object at 0x7f309d5e2fd0>\n",
      "proc_feedback = 0.9\n",
      "proc_feedback_synapse = 0.005\n",
      "GW_feedback = 1\n",
      "GW_threshold = 0.5\n",
      "GW_scale = 20\n",
      "BG_thr = 0.1\n",
      "BG_bias = 0.5\n",
      "integrator_reset = False\n",
      "data = <data.Data object at 0x7f309c4c3650>\n",
      "\t seed 12/20\n",
      "running run_seed12_dim64\n"
     ]
    },
    {
     "name": "stderr",
     "output_type": "stream",
     "text": [
      "/home/ubuntu/anaconda3/envs/CTN/lib/python3.7/site-packages/nengo_spa/vocabulary.py:173: UserWarning: Could not create a semantic pointer with max_similarity=0.10 (D=64, M=14, similarity=0.10)\n",
      "  len(self._key2idx), best_sim))\n",
      "/home/ubuntu/anaconda3/envs/CTN/lib/python3.7/site-packages/nengo_spa/vocabulary.py:173: UserWarning: Could not create a semantic pointer with max_similarity=0.10 (D=64, M=17, similarity=0.11)\n",
      "  len(self._key2idx), best_sim))\n",
      "/home/ubuntu/anaconda3/envs/CTN/lib/python3.7/site-packages/nengo_spa/vocabulary.py:173: UserWarning: Could not create a semantic pointer with max_similarity=0.10 (D=64, M=18, similarity=0.13)\n",
      "  len(self._key2idx), best_sim))\n",
      "/home/ubuntu/anaconda3/envs/CTN/lib/python3.7/site-packages/nengo_spa/vocabulary.py:173: UserWarning: Could not create a semantic pointer with max_similarity=0.10 (D=64, M=19, similarity=0.12)\n",
      "  len(self._key2idx), best_sim))\n"
     ]
    },
    {
     "data": {
      "text/html": [
       "\n",
       "                <div id=\"87dabd59-9907-4d8f-a68b-c3e2289a379b\" style=\"\n",
       "                    width: 100%;\n",
       "                    border: 1px solid #cfcfcf;\n",
       "                    border-radius: 4px;\n",
       "                    text-align: center;\n",
       "                    position: relative;\">\n",
       "                  <div class=\"pb-text\" style=\"\n",
       "                      position: absolute;\n",
       "                      width: 100%;\">\n",
       "                    0%\n",
       "                  </div>\n",
       "                  <div class=\"pb-fill\" style=\"\n",
       "                      background-color: #bdd2e6;\n",
       "                      width: 0%;\">\n",
       "                    <style type=\"text/css\" scoped=\"scoped\">\n",
       "                        @keyframes pb-fill-anim {\n",
       "                            0% { background-position: 0 0; }\n",
       "                            100% { background-position: 100px 0; }\n",
       "                        }\n",
       "                    </style>\n",
       "                    &nbsp;\n",
       "                  </div>\n",
       "                </div>"
      ],
      "text/plain": [
       "HtmlProgressBar cannot be displayed. Please use the TerminalProgressBar. It can be enabled with `nengo.rc.set('progress', 'progress_bar', 'nengo.utils.progress.TerminalProgressBar')`."
      ]
     },
     "metadata": {},
     "output_type": "display_data"
    },
    {
     "data": {
      "application/javascript": [
       "\n",
       "              (function () {\n",
       "                  var root = document.getElementById('87dabd59-9907-4d8f-a68b-c3e2289a379b');\n",
       "                  var text = root.getElementsByClassName('pb-text')[0];\n",
       "                  var fill = root.getElementsByClassName('pb-fill')[0];\n",
       "\n",
       "                  text.innerHTML = 'Simulation finished in 0:01:31.';\n",
       "                  \n",
       "            if (100.0 > 0.) {\n",
       "                fill.style.transition = 'width 0.1s linear';\n",
       "            } else {\n",
       "                fill.style.transition = 'none';\n",
       "            }\n",
       "\n",
       "            fill.style.width = '100.0%';\n",
       "            fill.style.animation = 'none';\n",
       "            fill.style.backgroundImage = 'none'\n",
       "        \n",
       "                  \n",
       "                fill.style.animation = 'none';\n",
       "                fill.style.backgroundImage = 'none';\n",
       "            \n",
       "              })();\n",
       "        "
      ],
      "text/plain": [
       "<IPython.core.display.Javascript object>"
      ]
     },
     "metadata": {},
     "output_type": "display_data"
    },
    {
     "name": "stdout",
     "output_type": "stream",
     "text": [
      "seed = 12\n",
      "backend = 'nengo_ocl'\n",
      "dt = 0.001\n",
      "neuron_type = 'default'\n",
      "n_neurons_scale = 1\n",
      "n_neurons_scale_combined = 0.25\n",
      "s_crosstalk = 0\n",
      "s_evidence = 20\n",
      "n_samples = 10000\n",
      "t_senso = 0\n",
      "vocab = <nengo_spa.vocabulary.Vocabulary object at 0x7f309c4fea10>\n",
      "xp = <experiments.Xp1 object at 0x7f30adfc1690>\n",
      "proc_feedback = 0.9\n",
      "proc_feedback_synapse = 0.005\n",
      "GW_feedback = 1\n",
      "GW_threshold = 0.5\n",
      "GW_scale = 20\n",
      "BG_thr = 0.1\n",
      "BG_bias = 0.5\n",
      "integrator_reset = False\n",
      "data = <data.Data object at 0x7f30ae1d2090>\n",
      "\t seed 13/20\n",
      "running run_seed13_dim64\n"
     ]
    },
    {
     "name": "stderr",
     "output_type": "stream",
     "text": [
      "/home/ubuntu/anaconda3/envs/CTN/lib/python3.7/site-packages/nengo_spa/vocabulary.py:173: UserWarning: Could not create a semantic pointer with max_similarity=0.10 (D=64, M=16, similarity=0.11)\n",
      "  len(self._key2idx), best_sim))\n"
     ]
    },
    {
     "data": {
      "text/html": [
       "\n",
       "                <div id=\"5f0fb0b5-2ac1-4ed0-a5c6-1c2a4ec2df44\" style=\"\n",
       "                    width: 100%;\n",
       "                    border: 1px solid #cfcfcf;\n",
       "                    border-radius: 4px;\n",
       "                    text-align: center;\n",
       "                    position: relative;\">\n",
       "                  <div class=\"pb-text\" style=\"\n",
       "                      position: absolute;\n",
       "                      width: 100%;\">\n",
       "                    0%\n",
       "                  </div>\n",
       "                  <div class=\"pb-fill\" style=\"\n",
       "                      background-color: #bdd2e6;\n",
       "                      width: 0%;\">\n",
       "                    <style type=\"text/css\" scoped=\"scoped\">\n",
       "                        @keyframes pb-fill-anim {\n",
       "                            0% { background-position: 0 0; }\n",
       "                            100% { background-position: 100px 0; }\n",
       "                        }\n",
       "                    </style>\n",
       "                    &nbsp;\n",
       "                  </div>\n",
       "                </div>"
      ],
      "text/plain": [
       "HtmlProgressBar cannot be displayed. Please use the TerminalProgressBar. It can be enabled with `nengo.rc.set('progress', 'progress_bar', 'nengo.utils.progress.TerminalProgressBar')`."
      ]
     },
     "metadata": {},
     "output_type": "display_data"
    },
    {
     "data": {
      "application/javascript": [
       "\n",
       "              (function () {\n",
       "                  var root = document.getElementById('5f0fb0b5-2ac1-4ed0-a5c6-1c2a4ec2df44');\n",
       "                  var text = root.getElementsByClassName('pb-text')[0];\n",
       "                  var fill = root.getElementsByClassName('pb-fill')[0];\n",
       "\n",
       "                  text.innerHTML = 'Simulation finished in 0:01:40.';\n",
       "                  \n",
       "            if (100.0 > 0.) {\n",
       "                fill.style.transition = 'width 0.1s linear';\n",
       "            } else {\n",
       "                fill.style.transition = 'none';\n",
       "            }\n",
       "\n",
       "            fill.style.width = '100.0%';\n",
       "            fill.style.animation = 'none';\n",
       "            fill.style.backgroundImage = 'none'\n",
       "        \n",
       "                  \n",
       "                fill.style.animation = 'none';\n",
       "                fill.style.backgroundImage = 'none';\n",
       "            \n",
       "              })();\n",
       "        "
      ],
      "text/plain": [
       "<IPython.core.display.Javascript object>"
      ]
     },
     "metadata": {},
     "output_type": "display_data"
    },
    {
     "name": "stdout",
     "output_type": "stream",
     "text": [
      "seed = 13\n",
      "backend = 'nengo_ocl'\n",
      "dt = 0.001\n",
      "neuron_type = 'default'\n",
      "n_neurons_scale = 1\n",
      "n_neurons_scale_combined = 0.25\n",
      "s_crosstalk = 0\n",
      "s_evidence = 20\n",
      "n_samples = 10000\n",
      "t_senso = 0\n",
      "vocab = <nengo_spa.vocabulary.Vocabulary object at 0x7f309c6d9b50>\n",
      "xp = <experiments.Xp1 object at 0x7f309ddeb590>\n",
      "proc_feedback = 0.9\n",
      "proc_feedback_synapse = 0.005\n",
      "GW_feedback = 1\n",
      "GW_threshold = 0.5\n",
      "GW_scale = 20\n",
      "BG_thr = 0.1\n",
      "BG_bias = 0.5\n",
      "integrator_reset = False\n",
      "data = <data.Data object at 0x7f30f2233210>\n",
      "\t seed 14/20\n",
      "running run_seed14_dim64\n"
     ]
    },
    {
     "name": "stderr",
     "output_type": "stream",
     "text": [
      "/home/ubuntu/anaconda3/envs/CTN/lib/python3.7/site-packages/nengo_spa/vocabulary.py:173: UserWarning: Could not create a semantic pointer with max_similarity=0.10 (D=64, M=16, similarity=0.13)\n",
      "  len(self._key2idx), best_sim))\n",
      "/home/ubuntu/anaconda3/envs/CTN/lib/python3.7/site-packages/nengo_spa/vocabulary.py:173: UserWarning: Could not create a semantic pointer with max_similarity=0.10 (D=64, M=19, similarity=0.14)\n",
      "  len(self._key2idx), best_sim))\n",
      "/home/ubuntu/anaconda3/envs/CTN/lib/python3.7/site-packages/nengo_spa/vocabulary.py:173: UserWarning: Could not create a semantic pointer with max_similarity=0.10 (D=64, M=20, similarity=0.12)\n",
      "  len(self._key2idx), best_sim))\n"
     ]
    },
    {
     "data": {
      "text/html": [
       "\n",
       "                <div id=\"5d553335-f909-42b5-b41d-0ed6552caa97\" style=\"\n",
       "                    width: 100%;\n",
       "                    border: 1px solid #cfcfcf;\n",
       "                    border-radius: 4px;\n",
       "                    text-align: center;\n",
       "                    position: relative;\">\n",
       "                  <div class=\"pb-text\" style=\"\n",
       "                      position: absolute;\n",
       "                      width: 100%;\">\n",
       "                    0%\n",
       "                  </div>\n",
       "                  <div class=\"pb-fill\" style=\"\n",
       "                      background-color: #bdd2e6;\n",
       "                      width: 0%;\">\n",
       "                    <style type=\"text/css\" scoped=\"scoped\">\n",
       "                        @keyframes pb-fill-anim {\n",
       "                            0% { background-position: 0 0; }\n",
       "                            100% { background-position: 100px 0; }\n",
       "                        }\n",
       "                    </style>\n",
       "                    &nbsp;\n",
       "                  </div>\n",
       "                </div>"
      ],
      "text/plain": [
       "HtmlProgressBar cannot be displayed. Please use the TerminalProgressBar. It can be enabled with `nengo.rc.set('progress', 'progress_bar', 'nengo.utils.progress.TerminalProgressBar')`."
      ]
     },
     "metadata": {},
     "output_type": "display_data"
    },
    {
     "data": {
      "application/javascript": [
       "\n",
       "              (function () {\n",
       "                  var root = document.getElementById('5d553335-f909-42b5-b41d-0ed6552caa97');\n",
       "                  var text = root.getElementsByClassName('pb-text')[0];\n",
       "                  var fill = root.getElementsByClassName('pb-fill')[0];\n",
       "\n",
       "                  text.innerHTML = 'Simulation finished in 0:01:39.';\n",
       "                  \n",
       "            if (100.0 > 0.) {\n",
       "                fill.style.transition = 'width 0.1s linear';\n",
       "            } else {\n",
       "                fill.style.transition = 'none';\n",
       "            }\n",
       "\n",
       "            fill.style.width = '100.0%';\n",
       "            fill.style.animation = 'none';\n",
       "            fill.style.backgroundImage = 'none'\n",
       "        \n",
       "                  \n",
       "                fill.style.animation = 'none';\n",
       "                fill.style.backgroundImage = 'none';\n",
       "            \n",
       "              })();\n",
       "        "
      ],
      "text/plain": [
       "<IPython.core.display.Javascript object>"
      ]
     },
     "metadata": {},
     "output_type": "display_data"
    },
    {
     "name": "stdout",
     "output_type": "stream",
     "text": [
      "seed = 14\n",
      "backend = 'nengo_ocl'\n",
      "dt = 0.001\n",
      "neuron_type = 'default'\n",
      "n_neurons_scale = 1\n",
      "n_neurons_scale_combined = 0.25\n",
      "s_crosstalk = 0\n",
      "s_evidence = 20\n",
      "n_samples = 10000\n",
      "t_senso = 0\n",
      "vocab = <nengo_spa.vocabulary.Vocabulary object at 0x7f309de2d990>\n",
      "xp = <experiments.Xp1 object at 0x7f3088427890>\n",
      "proc_feedback = 0.9\n",
      "proc_feedback_synapse = 0.005\n",
      "GW_feedback = 1\n",
      "GW_threshold = 0.5\n",
      "GW_scale = 20\n",
      "BG_thr = 0.1\n",
      "BG_bias = 0.5\n",
      "integrator_reset = False\n",
      "data = <data.Data object at 0x7f309de7d550>\n",
      "\t seed 15/20\n",
      "running run_seed15_dim64\n"
     ]
    },
    {
     "name": "stderr",
     "output_type": "stream",
     "text": [
      "/home/ubuntu/anaconda3/envs/CTN/lib/python3.7/site-packages/nengo_spa/vocabulary.py:173: UserWarning: Could not create a semantic pointer with max_similarity=0.10 (D=64, M=15, similarity=0.10)\n",
      "  len(self._key2idx), best_sim))\n",
      "/home/ubuntu/anaconda3/envs/CTN/lib/python3.7/site-packages/nengo_spa/vocabulary.py:173: UserWarning: Could not create a semantic pointer with max_similarity=0.10 (D=64, M=16, similarity=0.12)\n",
      "  len(self._key2idx), best_sim))\n",
      "/home/ubuntu/anaconda3/envs/CTN/lib/python3.7/site-packages/nengo_spa/vocabulary.py:173: UserWarning: Could not create a semantic pointer with max_similarity=0.10 (D=64, M=20, similarity=0.14)\n",
      "  len(self._key2idx), best_sim))\n"
     ]
    },
    {
     "data": {
      "text/html": [
       "\n",
       "                <div id=\"c7b5747c-0781-430a-b649-b05f302f25eb\" style=\"\n",
       "                    width: 100%;\n",
       "                    border: 1px solid #cfcfcf;\n",
       "                    border-radius: 4px;\n",
       "                    text-align: center;\n",
       "                    position: relative;\">\n",
       "                  <div class=\"pb-text\" style=\"\n",
       "                      position: absolute;\n",
       "                      width: 100%;\">\n",
       "                    0%\n",
       "                  </div>\n",
       "                  <div class=\"pb-fill\" style=\"\n",
       "                      background-color: #bdd2e6;\n",
       "                      width: 0%;\">\n",
       "                    <style type=\"text/css\" scoped=\"scoped\">\n",
       "                        @keyframes pb-fill-anim {\n",
       "                            0% { background-position: 0 0; }\n",
       "                            100% { background-position: 100px 0; }\n",
       "                        }\n",
       "                    </style>\n",
       "                    &nbsp;\n",
       "                  </div>\n",
       "                </div>"
      ],
      "text/plain": [
       "HtmlProgressBar cannot be displayed. Please use the TerminalProgressBar. It can be enabled with `nengo.rc.set('progress', 'progress_bar', 'nengo.utils.progress.TerminalProgressBar')`."
      ]
     },
     "metadata": {},
     "output_type": "display_data"
    },
    {
     "data": {
      "application/javascript": [
       "\n",
       "              (function () {\n",
       "                  var root = document.getElementById('c7b5747c-0781-430a-b649-b05f302f25eb');\n",
       "                  var text = root.getElementsByClassName('pb-text')[0];\n",
       "                  var fill = root.getElementsByClassName('pb-fill')[0];\n",
       "\n",
       "                  text.innerHTML = 'Simulation finished in 0:01:36.';\n",
       "                  \n",
       "            if (100.0 > 0.) {\n",
       "                fill.style.transition = 'width 0.1s linear';\n",
       "            } else {\n",
       "                fill.style.transition = 'none';\n",
       "            }\n",
       "\n",
       "            fill.style.width = '100.0%';\n",
       "            fill.style.animation = 'none';\n",
       "            fill.style.backgroundImage = 'none'\n",
       "        \n",
       "                  \n",
       "                fill.style.animation = 'none';\n",
       "                fill.style.backgroundImage = 'none';\n",
       "            \n",
       "              })();\n",
       "        "
      ],
      "text/plain": [
       "<IPython.core.display.Javascript object>"
      ]
     },
     "metadata": {},
     "output_type": "display_data"
    },
    {
     "name": "stdout",
     "output_type": "stream",
     "text": [
      "seed = 15\n",
      "backend = 'nengo_ocl'\n",
      "dt = 0.001\n",
      "neuron_type = 'default'\n",
      "n_neurons_scale = 1\n",
      "n_neurons_scale_combined = 0.25\n",
      "s_crosstalk = 0\n",
      "s_evidence = 20\n",
      "n_samples = 10000\n",
      "t_senso = 0\n",
      "vocab = <nengo_spa.vocabulary.Vocabulary object at 0x7f309b5fa550>\n",
      "xp = <experiments.Xp1 object at 0x7f309c6d4110>\n",
      "proc_feedback = 0.9\n",
      "proc_feedback_synapse = 0.005\n",
      "GW_feedback = 1\n",
      "GW_threshold = 0.5\n",
      "GW_scale = 20\n",
      "BG_thr = 0.1\n",
      "BG_bias = 0.5\n",
      "integrator_reset = False\n",
      "data = <data.Data object at 0x7f309db27e50>\n",
      "\t seed 16/20\n",
      "running run_seed16_dim64\n"
     ]
    },
    {
     "name": "stderr",
     "output_type": "stream",
     "text": [
      "/home/ubuntu/anaconda3/envs/CTN/lib/python3.7/site-packages/nengo_spa/vocabulary.py:173: UserWarning: Could not create a semantic pointer with max_similarity=0.10 (D=64, M=18, similarity=0.11)\n",
      "  len(self._key2idx), best_sim))\n"
     ]
    },
    {
     "data": {
      "text/html": [
       "\n",
       "                <div id=\"787f835f-0093-4b09-aa56-9c70bc892a9f\" style=\"\n",
       "                    width: 100%;\n",
       "                    border: 1px solid #cfcfcf;\n",
       "                    border-radius: 4px;\n",
       "                    text-align: center;\n",
       "                    position: relative;\">\n",
       "                  <div class=\"pb-text\" style=\"\n",
       "                      position: absolute;\n",
       "                      width: 100%;\">\n",
       "                    0%\n",
       "                  </div>\n",
       "                  <div class=\"pb-fill\" style=\"\n",
       "                      background-color: #bdd2e6;\n",
       "                      width: 0%;\">\n",
       "                    <style type=\"text/css\" scoped=\"scoped\">\n",
       "                        @keyframes pb-fill-anim {\n",
       "                            0% { background-position: 0 0; }\n",
       "                            100% { background-position: 100px 0; }\n",
       "                        }\n",
       "                    </style>\n",
       "                    &nbsp;\n",
       "                  </div>\n",
       "                </div>"
      ],
      "text/plain": [
       "HtmlProgressBar cannot be displayed. Please use the TerminalProgressBar. It can be enabled with `nengo.rc.set('progress', 'progress_bar', 'nengo.utils.progress.TerminalProgressBar')`."
      ]
     },
     "metadata": {},
     "output_type": "display_data"
    },
    {
     "data": {
      "application/javascript": [
       "\n",
       "              (function () {\n",
       "                  var root = document.getElementById('787f835f-0093-4b09-aa56-9c70bc892a9f');\n",
       "                  var text = root.getElementsByClassName('pb-text')[0];\n",
       "                  var fill = root.getElementsByClassName('pb-fill')[0];\n",
       "\n",
       "                  text.innerHTML = 'Simulation finished in 0:01:34.';\n",
       "                  \n",
       "            if (100.0 > 0.) {\n",
       "                fill.style.transition = 'width 0.1s linear';\n",
       "            } else {\n",
       "                fill.style.transition = 'none';\n",
       "            }\n",
       "\n",
       "            fill.style.width = '100.0%';\n",
       "            fill.style.animation = 'none';\n",
       "            fill.style.backgroundImage = 'none'\n",
       "        \n",
       "                  \n",
       "                fill.style.animation = 'none';\n",
       "                fill.style.backgroundImage = 'none';\n",
       "            \n",
       "              })();\n",
       "        "
      ],
      "text/plain": [
       "<IPython.core.display.Javascript object>"
      ]
     },
     "metadata": {},
     "output_type": "display_data"
    },
    {
     "name": "stdout",
     "output_type": "stream",
     "text": [
      "seed = 16\n",
      "backend = 'nengo_ocl'\n",
      "dt = 0.001\n",
      "neuron_type = 'default'\n",
      "n_neurons_scale = 1\n",
      "n_neurons_scale_combined = 0.25\n",
      "s_crosstalk = 0\n",
      "s_evidence = 20\n",
      "n_samples = 10000\n",
      "t_senso = 0\n",
      "vocab = <nengo_spa.vocabulary.Vocabulary object at 0x7f30ae1be590>\n",
      "xp = <experiments.Xp1 object at 0x7f309d775bd0>\n",
      "proc_feedback = 0.9\n",
      "proc_feedback_synapse = 0.005\n",
      "GW_feedback = 1\n",
      "GW_threshold = 0.5\n",
      "GW_scale = 20\n",
      "BG_thr = 0.1\n",
      "BG_bias = 0.5\n",
      "integrator_reset = False\n",
      "data = <data.Data object at 0x7f309c560ed0>\n",
      "\t seed 17/20\n",
      "running run_seed17_dim64\n"
     ]
    },
    {
     "name": "stderr",
     "output_type": "stream",
     "text": [
      "/home/ubuntu/anaconda3/envs/CTN/lib/python3.7/site-packages/nengo_spa/vocabulary.py:173: UserWarning: Could not create a semantic pointer with max_similarity=0.10 (D=64, M=17, similarity=0.10)\n",
      "  len(self._key2idx), best_sim))\n",
      "/home/ubuntu/anaconda3/envs/CTN/lib/python3.7/site-packages/nengo_spa/vocabulary.py:173: UserWarning: Could not create a semantic pointer with max_similarity=0.10 (D=64, M=18, similarity=0.10)\n",
      "  len(self._key2idx), best_sim))\n",
      "/home/ubuntu/anaconda3/envs/CTN/lib/python3.7/site-packages/nengo_spa/vocabulary.py:173: UserWarning: Could not create a semantic pointer with max_similarity=0.10 (D=64, M=19, similarity=0.11)\n",
      "  len(self._key2idx), best_sim))\n"
     ]
    },
    {
     "data": {
      "text/html": [
       "\n",
       "                <div id=\"876c455c-a11e-40da-92d7-5e98d30b4ed9\" style=\"\n",
       "                    width: 100%;\n",
       "                    border: 1px solid #cfcfcf;\n",
       "                    border-radius: 4px;\n",
       "                    text-align: center;\n",
       "                    position: relative;\">\n",
       "                  <div class=\"pb-text\" style=\"\n",
       "                      position: absolute;\n",
       "                      width: 100%;\">\n",
       "                    0%\n",
       "                  </div>\n",
       "                  <div class=\"pb-fill\" style=\"\n",
       "                      background-color: #bdd2e6;\n",
       "                      width: 0%;\">\n",
       "                    <style type=\"text/css\" scoped=\"scoped\">\n",
       "                        @keyframes pb-fill-anim {\n",
       "                            0% { background-position: 0 0; }\n",
       "                            100% { background-position: 100px 0; }\n",
       "                        }\n",
       "                    </style>\n",
       "                    &nbsp;\n",
       "                  </div>\n",
       "                </div>"
      ],
      "text/plain": [
       "HtmlProgressBar cannot be displayed. Please use the TerminalProgressBar. It can be enabled with `nengo.rc.set('progress', 'progress_bar', 'nengo.utils.progress.TerminalProgressBar')`."
      ]
     },
     "metadata": {},
     "output_type": "display_data"
    },
    {
     "data": {
      "application/javascript": [
       "\n",
       "              (function () {\n",
       "                  var root = document.getElementById('876c455c-a11e-40da-92d7-5e98d30b4ed9');\n",
       "                  var text = root.getElementsByClassName('pb-text')[0];\n",
       "                  var fill = root.getElementsByClassName('pb-fill')[0];\n",
       "\n",
       "                  text.innerHTML = 'Simulation finished in 0:01:33.';\n",
       "                  \n",
       "            if (100.0 > 0.) {\n",
       "                fill.style.transition = 'width 0.1s linear';\n",
       "            } else {\n",
       "                fill.style.transition = 'none';\n",
       "            }\n",
       "\n",
       "            fill.style.width = '100.0%';\n",
       "            fill.style.animation = 'none';\n",
       "            fill.style.backgroundImage = 'none'\n",
       "        \n",
       "                  \n",
       "                fill.style.animation = 'none';\n",
       "                fill.style.backgroundImage = 'none';\n",
       "            \n",
       "              })();\n",
       "        "
      ],
      "text/plain": [
       "<IPython.core.display.Javascript object>"
      ]
     },
     "metadata": {},
     "output_type": "display_data"
    },
    {
     "name": "stdout",
     "output_type": "stream",
     "text": [
      "seed = 17\n",
      "backend = 'nengo_ocl'\n",
      "dt = 0.001\n",
      "neuron_type = 'default'\n",
      "n_neurons_scale = 1\n",
      "n_neurons_scale_combined = 0.25\n",
      "s_crosstalk = 0\n",
      "s_evidence = 20\n",
      "n_samples = 10000\n",
      "t_senso = 0\n",
      "vocab = <nengo_spa.vocabulary.Vocabulary object at 0x7f309cf62490>\n",
      "xp = <experiments.Xp1 object at 0x7f309e5abed0>\n",
      "proc_feedback = 0.9\n",
      "proc_feedback_synapse = 0.005\n",
      "GW_feedback = 1\n",
      "GW_threshold = 0.5\n",
      "GW_scale = 20\n",
      "BG_thr = 0.1\n",
      "BG_bias = 0.5\n",
      "integrator_reset = False\n",
      "data = <data.Data object at 0x7f30e89d5390>\n",
      "\t seed 18/20\n",
      "running run_seed18_dim64\n"
     ]
    },
    {
     "name": "stderr",
     "output_type": "stream",
     "text": [
      "/home/ubuntu/anaconda3/envs/CTN/lib/python3.7/site-packages/nengo_spa/vocabulary.py:173: UserWarning: Could not create a semantic pointer with max_similarity=0.10 (D=64, M=15, similarity=0.11)\n",
      "  len(self._key2idx), best_sim))\n"
     ]
    },
    {
     "data": {
      "text/html": [
       "\n",
       "                <div id=\"0a108682-203a-4dce-9f8f-01c2282025bb\" style=\"\n",
       "                    width: 100%;\n",
       "                    border: 1px solid #cfcfcf;\n",
       "                    border-radius: 4px;\n",
       "                    text-align: center;\n",
       "                    position: relative;\">\n",
       "                  <div class=\"pb-text\" style=\"\n",
       "                      position: absolute;\n",
       "                      width: 100%;\">\n",
       "                    0%\n",
       "                  </div>\n",
       "                  <div class=\"pb-fill\" style=\"\n",
       "                      background-color: #bdd2e6;\n",
       "                      width: 0%;\">\n",
       "                    <style type=\"text/css\" scoped=\"scoped\">\n",
       "                        @keyframes pb-fill-anim {\n",
       "                            0% { background-position: 0 0; }\n",
       "                            100% { background-position: 100px 0; }\n",
       "                        }\n",
       "                    </style>\n",
       "                    &nbsp;\n",
       "                  </div>\n",
       "                </div>"
      ],
      "text/plain": [
       "HtmlProgressBar cannot be displayed. Please use the TerminalProgressBar. It can be enabled with `nengo.rc.set('progress', 'progress_bar', 'nengo.utils.progress.TerminalProgressBar')`."
      ]
     },
     "metadata": {},
     "output_type": "display_data"
    },
    {
     "data": {
      "application/javascript": [
       "\n",
       "              (function () {\n",
       "                  var root = document.getElementById('0a108682-203a-4dce-9f8f-01c2282025bb');\n",
       "                  var text = root.getElementsByClassName('pb-text')[0];\n",
       "                  var fill = root.getElementsByClassName('pb-fill')[0];\n",
       "\n",
       "                  text.innerHTML = 'Simulation finished in 0:01:35.';\n",
       "                  \n",
       "            if (100.0 > 0.) {\n",
       "                fill.style.transition = 'width 0.1s linear';\n",
       "            } else {\n",
       "                fill.style.transition = 'none';\n",
       "            }\n",
       "\n",
       "            fill.style.width = '100.0%';\n",
       "            fill.style.animation = 'none';\n",
       "            fill.style.backgroundImage = 'none'\n",
       "        \n",
       "                  \n",
       "                fill.style.animation = 'none';\n",
       "                fill.style.backgroundImage = 'none';\n",
       "            \n",
       "              })();\n",
       "        "
      ],
      "text/plain": [
       "<IPython.core.display.Javascript object>"
      ]
     },
     "metadata": {},
     "output_type": "display_data"
    },
    {
     "name": "stdout",
     "output_type": "stream",
     "text": [
      "seed = 18\n",
      "backend = 'nengo_ocl'\n",
      "dt = 0.001\n",
      "neuron_type = 'default'\n",
      "n_neurons_scale = 1\n",
      "n_neurons_scale_combined = 0.25\n",
      "s_crosstalk = 0\n",
      "s_evidence = 20\n",
      "n_samples = 10000\n",
      "t_senso = 0\n",
      "vocab = <nengo_spa.vocabulary.Vocabulary object at 0x7f309db0f150>\n",
      "xp = <experiments.Xp1 object at 0x7f30ae1be490>\n",
      "proc_feedback = 0.9\n",
      "proc_feedback_synapse = 0.005\n",
      "GW_feedback = 1\n",
      "GW_threshold = 0.5\n",
      "GW_scale = 20\n",
      "BG_thr = 0.1\n",
      "BG_bias = 0.5\n",
      "integrator_reset = False\n",
      "data = <data.Data object at 0x7f309e565190>\n",
      "\t seed 19/20\n",
      "running run_seed19_dim64\n"
     ]
    },
    {
     "data": {
      "text/html": [
       "\n",
       "                <div id=\"839e8d18-ad5f-4b71-978f-6556a65cabc7\" style=\"\n",
       "                    width: 100%;\n",
       "                    border: 1px solid #cfcfcf;\n",
       "                    border-radius: 4px;\n",
       "                    text-align: center;\n",
       "                    position: relative;\">\n",
       "                  <div class=\"pb-text\" style=\"\n",
       "                      position: absolute;\n",
       "                      width: 100%;\">\n",
       "                    0%\n",
       "                  </div>\n",
       "                  <div class=\"pb-fill\" style=\"\n",
       "                      background-color: #bdd2e6;\n",
       "                      width: 0%;\">\n",
       "                    <style type=\"text/css\" scoped=\"scoped\">\n",
       "                        @keyframes pb-fill-anim {\n",
       "                            0% { background-position: 0 0; }\n",
       "                            100% { background-position: 100px 0; }\n",
       "                        }\n",
       "                    </style>\n",
       "                    &nbsp;\n",
       "                  </div>\n",
       "                </div>"
      ],
      "text/plain": [
       "HtmlProgressBar cannot be displayed. Please use the TerminalProgressBar. It can be enabled with `nengo.rc.set('progress', 'progress_bar', 'nengo.utils.progress.TerminalProgressBar')`."
      ]
     },
     "metadata": {},
     "output_type": "display_data"
    },
    {
     "data": {
      "application/javascript": [
       "\n",
       "              (function () {\n",
       "                  var root = document.getElementById('839e8d18-ad5f-4b71-978f-6556a65cabc7');\n",
       "                  var text = root.getElementsByClassName('pb-text')[0];\n",
       "                  var fill = root.getElementsByClassName('pb-fill')[0];\n",
       "\n",
       "                  text.innerHTML = 'Simulation finished in 0:01:35.';\n",
       "                  \n",
       "            if (100.0 > 0.) {\n",
       "                fill.style.transition = 'width 0.1s linear';\n",
       "            } else {\n",
       "                fill.style.transition = 'none';\n",
       "            }\n",
       "\n",
       "            fill.style.width = '100.0%';\n",
       "            fill.style.animation = 'none';\n",
       "            fill.style.backgroundImage = 'none'\n",
       "        \n",
       "                  \n",
       "                fill.style.animation = 'none';\n",
       "                fill.style.backgroundImage = 'none';\n",
       "            \n",
       "              })();\n",
       "        "
      ],
      "text/plain": [
       "<IPython.core.display.Javascript object>"
      ]
     },
     "metadata": {},
     "output_type": "display_data"
    },
    {
     "name": "stdout",
     "output_type": "stream",
     "text": [
      "seed = 19\n",
      "backend = 'nengo_ocl'\n",
      "dt = 0.001\n",
      "neuron_type = 'default'\n",
      "n_neurons_scale = 1\n",
      "n_neurons_scale_combined = 0.25\n",
      "s_crosstalk = 0\n",
      "s_evidence = 20\n",
      "n_samples = 10000\n",
      "t_senso = 0\n",
      "vocab = <nengo_spa.vocabulary.Vocabulary object at 0x7f309da20110>\n",
      "xp = <experiments.Xp1 object at 0x7f309db0f2d0>\n",
      "proc_feedback = 0.9\n",
      "proc_feedback_synapse = 0.005\n",
      "GW_feedback = 1\n",
      "GW_threshold = 0.5\n",
      "GW_scale = 20\n",
      "BG_thr = 0.1\n",
      "BG_bias = 0.5\n",
      "integrator_reset = False\n",
      "data = <data.Data object at 0x7f309df76990>\n",
      "\t seed 20/20\n",
      "running run_seed20_dim64\n"
     ]
    },
    {
     "name": "stderr",
     "output_type": "stream",
     "text": [
      "/home/ubuntu/anaconda3/envs/CTN/lib/python3.7/site-packages/nengo_spa/vocabulary.py:173: UserWarning: Could not create a semantic pointer with max_similarity=0.10 (D=64, M=18, similarity=0.12)\n",
      "  len(self._key2idx), best_sim))\n"
     ]
    },
    {
     "data": {
      "text/html": [
       "\n",
       "                <div id=\"2b842856-b82e-4aee-9c90-87a1c47aa164\" style=\"\n",
       "                    width: 100%;\n",
       "                    border: 1px solid #cfcfcf;\n",
       "                    border-radius: 4px;\n",
       "                    text-align: center;\n",
       "                    position: relative;\">\n",
       "                  <div class=\"pb-text\" style=\"\n",
       "                      position: absolute;\n",
       "                      width: 100%;\">\n",
       "                    0%\n",
       "                  </div>\n",
       "                  <div class=\"pb-fill\" style=\"\n",
       "                      background-color: #bdd2e6;\n",
       "                      width: 0%;\">\n",
       "                    <style type=\"text/css\" scoped=\"scoped\">\n",
       "                        @keyframes pb-fill-anim {\n",
       "                            0% { background-position: 0 0; }\n",
       "                            100% { background-position: 100px 0; }\n",
       "                        }\n",
       "                    </style>\n",
       "                    &nbsp;\n",
       "                  </div>\n",
       "                </div>"
      ],
      "text/plain": [
       "HtmlProgressBar cannot be displayed. Please use the TerminalProgressBar. It can be enabled with `nengo.rc.set('progress', 'progress_bar', 'nengo.utils.progress.TerminalProgressBar')`."
      ]
     },
     "metadata": {},
     "output_type": "display_data"
    },
    {
     "data": {
      "application/javascript": [
       "\n",
       "              (function () {\n",
       "                  var root = document.getElementById('2b842856-b82e-4aee-9c90-87a1c47aa164');\n",
       "                  var text = root.getElementsByClassName('pb-text')[0];\n",
       "                  var fill = root.getElementsByClassName('pb-fill')[0];\n",
       "\n",
       "                  text.innerHTML = 'Simulation finished in 0:01:35.';\n",
       "                  \n",
       "            if (100.0 > 0.) {\n",
       "                fill.style.transition = 'width 0.1s linear';\n",
       "            } else {\n",
       "                fill.style.transition = 'none';\n",
       "            }\n",
       "\n",
       "            fill.style.width = '100.0%';\n",
       "            fill.style.animation = 'none';\n",
       "            fill.style.backgroundImage = 'none'\n",
       "        \n",
       "                  \n",
       "                fill.style.animation = 'none';\n",
       "                fill.style.backgroundImage = 'none';\n",
       "            \n",
       "              })();\n",
       "        "
      ],
      "text/plain": [
       "<IPython.core.display.Javascript object>"
      ]
     },
     "metadata": {},
     "output_type": "display_data"
    },
    {
     "name": "stdout",
     "output_type": "stream",
     "text": [
      "seed = 20\n",
      "backend = 'nengo_ocl'\n",
      "dt = 0.001\n",
      "neuron_type = 'default'\n",
      "n_neurons_scale = 1\n",
      "n_neurons_scale_combined = 0.25\n",
      "s_crosstalk = 0\n",
      "s_evidence = 20\n",
      "n_samples = 10000\n",
      "t_senso = 0\n",
      "vocab = <nengo_spa.vocabulary.Vocabulary object at 0x7f309d49e590>\n",
      "xp = <experiments.Xp1 object at 0x7f309b28cfd0>\n",
      "proc_feedback = 0.9\n",
      "proc_feedback_synapse = 0.005\n",
      "GW_feedback = 1\n",
      "GW_threshold = 0.5\n",
      "GW_scale = 20\n",
      "BG_thr = 0.1\n",
      "BG_bias = 0.5\n",
      "integrator_reset = False\n",
      "data = <data.Data object at 0x7f30f5f87290>\n",
      "error rate: 0.09166666666666667\n",
      "params: [5.]\n",
      "Simulating...\n",
      "\t seed 1/20\n",
      "\t seed 2/20\n",
      "\t seed 3/20\n",
      "\t seed 4/20\n",
      "\t seed 5/20\n",
      "\t seed 6/20\n",
      "\t seed 7/20\n",
      "\t seed 8/20\n",
      "\t seed 9/20\n",
      "\t seed 10/20\n",
      "\t seed 11/20\n",
      "running run_seed11_dim80\n"
     ]
    },
    {
     "name": "stderr",
     "output_type": "stream",
     "text": [
      "/home/ubuntu/anaconda3/envs/CTN/lib/python3.7/site-packages/nengo_spa/vocabulary.py:173: UserWarning: Could not create a semantic pointer with max_similarity=0.10 (D=80, M=18, similarity=0.11)\n",
      "  len(self._key2idx), best_sim))\n",
      "/home/ubuntu/anaconda3/envs/CTN/lib/python3.7/site-packages/nengo_spa/vocabulary.py:173: UserWarning: Could not create a semantic pointer with max_similarity=0.10 (D=80, M=19, similarity=0.11)\n",
      "  len(self._key2idx), best_sim))\n",
      "/home/ubuntu/anaconda3/envs/CTN/lib/python3.7/site-packages/nengo_spa/vocabulary.py:173: UserWarning: Could not create a semantic pointer with max_similarity=0.10 (D=80, M=20, similarity=0.12)\n",
      "  len(self._key2idx), best_sim))\n"
     ]
    },
    {
     "data": {
      "text/html": [
       "\n",
       "                <div id=\"c37cf368-fbe5-4da4-9bb6-866d26b866d9\" style=\"\n",
       "                    width: 100%;\n",
       "                    border: 1px solid #cfcfcf;\n",
       "                    border-radius: 4px;\n",
       "                    text-align: center;\n",
       "                    position: relative;\">\n",
       "                  <div class=\"pb-text\" style=\"\n",
       "                      position: absolute;\n",
       "                      width: 100%;\">\n",
       "                    0%\n",
       "                  </div>\n",
       "                  <div class=\"pb-fill\" style=\"\n",
       "                      background-color: #bdd2e6;\n",
       "                      width: 0%;\">\n",
       "                    <style type=\"text/css\" scoped=\"scoped\">\n",
       "                        @keyframes pb-fill-anim {\n",
       "                            0% { background-position: 0 0; }\n",
       "                            100% { background-position: 100px 0; }\n",
       "                        }\n",
       "                    </style>\n",
       "                    &nbsp;\n",
       "                  </div>\n",
       "                </div>"
      ],
      "text/plain": [
       "HtmlProgressBar cannot be displayed. Please use the TerminalProgressBar. It can be enabled with `nengo.rc.set('progress', 'progress_bar', 'nengo.utils.progress.TerminalProgressBar')`."
      ]
     },
     "metadata": {},
     "output_type": "display_data"
    },
    {
     "data": {
      "application/javascript": [
       "\n",
       "              (function () {\n",
       "                  var root = document.getElementById('c37cf368-fbe5-4da4-9bb6-866d26b866d9');\n",
       "                  var text = root.getElementsByClassName('pb-text')[0];\n",
       "                  var fill = root.getElementsByClassName('pb-fill')[0];\n",
       "\n",
       "                  text.innerHTML = 'Simulation finished in 0:01:39.';\n",
       "                  \n",
       "            if (100.0 > 0.) {\n",
       "                fill.style.transition = 'width 0.1s linear';\n",
       "            } else {\n",
       "                fill.style.transition = 'none';\n",
       "            }\n",
       "\n",
       "            fill.style.width = '100.0%';\n",
       "            fill.style.animation = 'none';\n",
       "            fill.style.backgroundImage = 'none'\n",
       "        \n",
       "                  \n",
       "                fill.style.animation = 'none';\n",
       "                fill.style.backgroundImage = 'none';\n",
       "            \n",
       "              })();\n",
       "        "
      ],
      "text/plain": [
       "<IPython.core.display.Javascript object>"
      ]
     },
     "metadata": {},
     "output_type": "display_data"
    },
    {
     "name": "stdout",
     "output_type": "stream",
     "text": [
      "seed = 11\n",
      "backend = 'nengo_ocl'\n",
      "dt = 0.001\n",
      "neuron_type = 'default'\n",
      "n_neurons_scale = 1\n",
      "n_neurons_scale_combined = 0.25\n",
      "s_crosstalk = 0\n",
      "s_evidence = 20\n",
      "n_samples = 10000\n",
      "t_senso = 0\n",
      "vocab = <nengo_spa.vocabulary.Vocabulary object at 0x7f309e33a510>\n",
      "xp = <experiments.Xp1 object at 0x7f309d5e2990>\n",
      "proc_feedback = 0.9\n",
      "proc_feedback_synapse = 0.005\n",
      "GW_feedback = 1\n",
      "GW_threshold = 0.5\n",
      "GW_scale = 20\n",
      "BG_thr = 0.1\n",
      "BG_bias = 0.5\n",
      "integrator_reset = False\n",
      "data = <data.Data object at 0x7f30ade4e390>\n",
      "\t seed 12/20\n",
      "running run_seed12_dim80\n"
     ]
    },
    {
     "name": "stderr",
     "output_type": "stream",
     "text": [
      "/home/ubuntu/anaconda3/envs/CTN/lib/python3.7/site-packages/nengo_spa/vocabulary.py:173: UserWarning: Could not create a semantic pointer with max_similarity=0.10 (D=80, M=16, similarity=0.11)\n",
      "  len(self._key2idx), best_sim))\n"
     ]
    },
    {
     "data": {
      "text/html": [
       "\n",
       "                <div id=\"e7783fed-51fb-4410-997a-4ee2ef6482e4\" style=\"\n",
       "                    width: 100%;\n",
       "                    border: 1px solid #cfcfcf;\n",
       "                    border-radius: 4px;\n",
       "                    text-align: center;\n",
       "                    position: relative;\">\n",
       "                  <div class=\"pb-text\" style=\"\n",
       "                      position: absolute;\n",
       "                      width: 100%;\">\n",
       "                    0%\n",
       "                  </div>\n",
       "                  <div class=\"pb-fill\" style=\"\n",
       "                      background-color: #bdd2e6;\n",
       "                      width: 0%;\">\n",
       "                    <style type=\"text/css\" scoped=\"scoped\">\n",
       "                        @keyframes pb-fill-anim {\n",
       "                            0% { background-position: 0 0; }\n",
       "                            100% { background-position: 100px 0; }\n",
       "                        }\n",
       "                    </style>\n",
       "                    &nbsp;\n",
       "                  </div>\n",
       "                </div>"
      ],
      "text/plain": [
       "HtmlProgressBar cannot be displayed. Please use the TerminalProgressBar. It can be enabled with `nengo.rc.set('progress', 'progress_bar', 'nengo.utils.progress.TerminalProgressBar')`."
      ]
     },
     "metadata": {},
     "output_type": "display_data"
    },
    {
     "data": {
      "application/javascript": [
       "\n",
       "              (function () {\n",
       "                  var root = document.getElementById('e7783fed-51fb-4410-997a-4ee2ef6482e4');\n",
       "                  var text = root.getElementsByClassName('pb-text')[0];\n",
       "                  var fill = root.getElementsByClassName('pb-fill')[0];\n",
       "\n",
       "                  text.innerHTML = 'Simulation finished in 0:01:39.';\n",
       "                  \n",
       "            if (100.0 > 0.) {\n",
       "                fill.style.transition = 'width 0.1s linear';\n",
       "            } else {\n",
       "                fill.style.transition = 'none';\n",
       "            }\n",
       "\n",
       "            fill.style.width = '100.0%';\n",
       "            fill.style.animation = 'none';\n",
       "            fill.style.backgroundImage = 'none'\n",
       "        \n",
       "                  \n",
       "                fill.style.animation = 'none';\n",
       "                fill.style.backgroundImage = 'none';\n",
       "            \n",
       "              })();\n",
       "        "
      ],
      "text/plain": [
       "<IPython.core.display.Javascript object>"
      ]
     },
     "metadata": {},
     "output_type": "display_data"
    },
    {
     "name": "stdout",
     "output_type": "stream",
     "text": [
      "seed = 12\n",
      "backend = 'nengo_ocl'\n",
      "dt = 0.001\n",
      "neuron_type = 'default'\n",
      "n_neurons_scale = 1\n",
      "n_neurons_scale_combined = 0.25\n",
      "s_crosstalk = 0\n",
      "s_evidence = 20\n",
      "n_samples = 10000\n",
      "t_senso = 0\n",
      "vocab = <nengo_spa.vocabulary.Vocabulary object at 0x7f309a736dd0>\n",
      "xp = <experiments.Xp1 object at 0x7f309e33ab90>\n",
      "proc_feedback = 0.9\n",
      "proc_feedback_synapse = 0.005\n",
      "GW_feedback = 1\n",
      "GW_threshold = 0.5\n",
      "GW_scale = 20\n",
      "BG_thr = 0.1\n",
      "BG_bias = 0.5\n",
      "integrator_reset = False\n",
      "data = <data.Data object at 0x7f309c306290>\n",
      "\t seed 13/20\n",
      "running run_seed13_dim80\n"
     ]
    },
    {
     "name": "stderr",
     "output_type": "stream",
     "text": [
      "/home/ubuntu/anaconda3/envs/CTN/lib/python3.7/site-packages/nengo_spa/vocabulary.py:173: UserWarning: Could not create a semantic pointer with max_similarity=0.10 (D=80, M=17, similarity=0.11)\n",
      "  len(self._key2idx), best_sim))\n",
      "/home/ubuntu/anaconda3/envs/CTN/lib/python3.7/site-packages/nengo_spa/vocabulary.py:173: UserWarning: Could not create a semantic pointer with max_similarity=0.10 (D=80, M=19, similarity=0.10)\n",
      "  len(self._key2idx), best_sim))\n"
     ]
    },
    {
     "data": {
      "text/html": [
       "\n",
       "                <div id=\"b698b71e-6b23-48f6-9201-4a702620a574\" style=\"\n",
       "                    width: 100%;\n",
       "                    border: 1px solid #cfcfcf;\n",
       "                    border-radius: 4px;\n",
       "                    text-align: center;\n",
       "                    position: relative;\">\n",
       "                  <div class=\"pb-text\" style=\"\n",
       "                      position: absolute;\n",
       "                      width: 100%;\">\n",
       "                    0%\n",
       "                  </div>\n",
       "                  <div class=\"pb-fill\" style=\"\n",
       "                      background-color: #bdd2e6;\n",
       "                      width: 0%;\">\n",
       "                    <style type=\"text/css\" scoped=\"scoped\">\n",
       "                        @keyframes pb-fill-anim {\n",
       "                            0% { background-position: 0 0; }\n",
       "                            100% { background-position: 100px 0; }\n",
       "                        }\n",
       "                    </style>\n",
       "                    &nbsp;\n",
       "                  </div>\n",
       "                </div>"
      ],
      "text/plain": [
       "HtmlProgressBar cannot be displayed. Please use the TerminalProgressBar. It can be enabled with `nengo.rc.set('progress', 'progress_bar', 'nengo.utils.progress.TerminalProgressBar')`."
      ]
     },
     "metadata": {},
     "output_type": "display_data"
    },
    {
     "data": {
      "application/javascript": [
       "\n",
       "              (function () {\n",
       "                  var root = document.getElementById('b698b71e-6b23-48f6-9201-4a702620a574');\n",
       "                  var text = root.getElementsByClassName('pb-text')[0];\n",
       "                  var fill = root.getElementsByClassName('pb-fill')[0];\n",
       "\n",
       "                  text.innerHTML = 'Simulation finished in 0:01:41.';\n",
       "                  \n",
       "            if (100.0 > 0.) {\n",
       "                fill.style.transition = 'width 0.1s linear';\n",
       "            } else {\n",
       "                fill.style.transition = 'none';\n",
       "            }\n",
       "\n",
       "            fill.style.width = '100.0%';\n",
       "            fill.style.animation = 'none';\n",
       "            fill.style.backgroundImage = 'none'\n",
       "        \n",
       "                  \n",
       "                fill.style.animation = 'none';\n",
       "                fill.style.backgroundImage = 'none';\n",
       "            \n",
       "              })();\n",
       "        "
      ],
      "text/plain": [
       "<IPython.core.display.Javascript object>"
      ]
     },
     "metadata": {},
     "output_type": "display_data"
    },
    {
     "name": "stdout",
     "output_type": "stream",
     "text": [
      "seed = 13\n",
      "backend = 'nengo_ocl'\n",
      "dt = 0.001\n",
      "neuron_type = 'default'\n",
      "n_neurons_scale = 1\n",
      "n_neurons_scale_combined = 0.25\n",
      "s_crosstalk = 0\n",
      "s_evidence = 20\n",
      "n_samples = 10000\n",
      "t_senso = 0\n",
      "vocab = <nengo_spa.vocabulary.Vocabulary object at 0x7f309cf43c10>\n",
      "xp = <experiments.Xp1 object at 0x7f30b2e3ee90>\n",
      "proc_feedback = 0.9\n",
      "proc_feedback_synapse = 0.005\n",
      "GW_feedback = 1\n",
      "GW_threshold = 0.5\n",
      "GW_scale = 20\n",
      "BG_thr = 0.1\n",
      "BG_bias = 0.5\n",
      "integrator_reset = False\n",
      "data = <data.Data object at 0x7f309d4ab350>\n",
      "\t seed 14/20\n",
      "running run_seed14_dim80\n"
     ]
    },
    {
     "data": {
      "text/html": [
       "\n",
       "                <div id=\"4c71fcf7-7083-4eb6-8eaf-507424bb821c\" style=\"\n",
       "                    width: 100%;\n",
       "                    border: 1px solid #cfcfcf;\n",
       "                    border-radius: 4px;\n",
       "                    text-align: center;\n",
       "                    position: relative;\">\n",
       "                  <div class=\"pb-text\" style=\"\n",
       "                      position: absolute;\n",
       "                      width: 100%;\">\n",
       "                    0%\n",
       "                  </div>\n",
       "                  <div class=\"pb-fill\" style=\"\n",
       "                      background-color: #bdd2e6;\n",
       "                      width: 0%;\">\n",
       "                    <style type=\"text/css\" scoped=\"scoped\">\n",
       "                        @keyframes pb-fill-anim {\n",
       "                            0% { background-position: 0 0; }\n",
       "                            100% { background-position: 100px 0; }\n",
       "                        }\n",
       "                    </style>\n",
       "                    &nbsp;\n",
       "                  </div>\n",
       "                </div>"
      ],
      "text/plain": [
       "HtmlProgressBar cannot be displayed. Please use the TerminalProgressBar. It can be enabled with `nengo.rc.set('progress', 'progress_bar', 'nengo.utils.progress.TerminalProgressBar')`."
      ]
     },
     "metadata": {},
     "output_type": "display_data"
    },
    {
     "data": {
      "application/javascript": [
       "\n",
       "              (function () {\n",
       "                  var root = document.getElementById('4c71fcf7-7083-4eb6-8eaf-507424bb821c');\n",
       "                  var text = root.getElementsByClassName('pb-text')[0];\n",
       "                  var fill = root.getElementsByClassName('pb-fill')[0];\n",
       "\n",
       "                  text.innerHTML = 'Simulation finished in 0:01:40.';\n",
       "                  \n",
       "            if (100.0 > 0.) {\n",
       "                fill.style.transition = 'width 0.1s linear';\n",
       "            } else {\n",
       "                fill.style.transition = 'none';\n",
       "            }\n",
       "\n",
       "            fill.style.width = '100.0%';\n",
       "            fill.style.animation = 'none';\n",
       "            fill.style.backgroundImage = 'none'\n",
       "        \n",
       "                  \n",
       "                fill.style.animation = 'none';\n",
       "                fill.style.backgroundImage = 'none';\n",
       "            \n",
       "              })();\n",
       "        "
      ],
      "text/plain": [
       "<IPython.core.display.Javascript object>"
      ]
     },
     "metadata": {},
     "output_type": "display_data"
    },
    {
     "name": "stdout",
     "output_type": "stream",
     "text": [
      "seed = 14\n",
      "backend = 'nengo_ocl'\n",
      "dt = 0.001\n",
      "neuron_type = 'default'\n",
      "n_neurons_scale = 1\n",
      "n_neurons_scale_combined = 0.25\n",
      "s_crosstalk = 0\n",
      "s_evidence = 20\n",
      "n_samples = 10000\n",
      "t_senso = 0\n",
      "vocab = <nengo_spa.vocabulary.Vocabulary object at 0x7f309e022490>\n",
      "xp = <experiments.Xp1 object at 0x7f309d725510>\n",
      "proc_feedback = 0.9\n",
      "proc_feedback_synapse = 0.005\n",
      "GW_feedback = 1\n",
      "GW_threshold = 0.5\n",
      "GW_scale = 20\n",
      "BG_thr = 0.1\n",
      "BG_bias = 0.5\n",
      "integrator_reset = False\n",
      "data = <data.Data object at 0x7f30823ee2d0>\n",
      "\t seed 15/20\n",
      "running run_seed15_dim80\n"
     ]
    },
    {
     "name": "stderr",
     "output_type": "stream",
     "text": [
      "/home/ubuntu/anaconda3/envs/CTN/lib/python3.7/site-packages/nengo_spa/vocabulary.py:173: UserWarning: Could not create a semantic pointer with max_similarity=0.10 (D=80, M=17, similarity=0.10)\n",
      "  len(self._key2idx), best_sim))\n"
     ]
    },
    {
     "data": {
      "text/html": [
       "\n",
       "                <div id=\"90e29e3e-38c3-44b4-94da-1f3995911acd\" style=\"\n",
       "                    width: 100%;\n",
       "                    border: 1px solid #cfcfcf;\n",
       "                    border-radius: 4px;\n",
       "                    text-align: center;\n",
       "                    position: relative;\">\n",
       "                  <div class=\"pb-text\" style=\"\n",
       "                      position: absolute;\n",
       "                      width: 100%;\">\n",
       "                    0%\n",
       "                  </div>\n",
       "                  <div class=\"pb-fill\" style=\"\n",
       "                      background-color: #bdd2e6;\n",
       "                      width: 0%;\">\n",
       "                    <style type=\"text/css\" scoped=\"scoped\">\n",
       "                        @keyframes pb-fill-anim {\n",
       "                            0% { background-position: 0 0; }\n",
       "                            100% { background-position: 100px 0; }\n",
       "                        }\n",
       "                    </style>\n",
       "                    &nbsp;\n",
       "                  </div>\n",
       "                </div>"
      ],
      "text/plain": [
       "HtmlProgressBar cannot be displayed. Please use the TerminalProgressBar. It can be enabled with `nengo.rc.set('progress', 'progress_bar', 'nengo.utils.progress.TerminalProgressBar')`."
      ]
     },
     "metadata": {},
     "output_type": "display_data"
    },
    {
     "data": {
      "application/javascript": [
       "\n",
       "              (function () {\n",
       "                  var root = document.getElementById('90e29e3e-38c3-44b4-94da-1f3995911acd');\n",
       "                  var text = root.getElementsByClassName('pb-text')[0];\n",
       "                  var fill = root.getElementsByClassName('pb-fill')[0];\n",
       "\n",
       "                  text.innerHTML = 'Simulation finished in 0:01:37.';\n",
       "                  \n",
       "            if (100.0 > 0.) {\n",
       "                fill.style.transition = 'width 0.1s linear';\n",
       "            } else {\n",
       "                fill.style.transition = 'none';\n",
       "            }\n",
       "\n",
       "            fill.style.width = '100.0%';\n",
       "            fill.style.animation = 'none';\n",
       "            fill.style.backgroundImage = 'none'\n",
       "        \n",
       "                  \n",
       "                fill.style.animation = 'none';\n",
       "                fill.style.backgroundImage = 'none';\n",
       "            \n",
       "              })();\n",
       "        "
      ],
      "text/plain": [
       "<IPython.core.display.Javascript object>"
      ]
     },
     "metadata": {},
     "output_type": "display_data"
    },
    {
     "name": "stdout",
     "output_type": "stream",
     "text": [
      "seed = 15\n",
      "backend = 'nengo_ocl'\n",
      "dt = 0.001\n",
      "neuron_type = 'default'\n",
      "n_neurons_scale = 1\n",
      "n_neurons_scale_combined = 0.25\n",
      "s_crosstalk = 0\n",
      "s_evidence = 20\n",
      "n_samples = 10000\n",
      "t_senso = 0\n",
      "vocab = <nengo_spa.vocabulary.Vocabulary object at 0x7f30ac181310>\n",
      "xp = <experiments.Xp1 object at 0x7f309ab31e90>\n",
      "proc_feedback = 0.9\n",
      "proc_feedback_synapse = 0.005\n",
      "GW_feedback = 1\n",
      "GW_threshold = 0.5\n",
      "GW_scale = 20\n",
      "BG_thr = 0.1\n",
      "BG_bias = 0.5\n",
      "integrator_reset = False\n",
      "data = <data.Data object at 0x7f309b6d79d0>\n",
      "\t seed 16/20\n",
      "running run_seed16_dim80\n"
     ]
    },
    {
     "data": {
      "text/html": [
       "\n",
       "                <div id=\"cd1b8b94-4c4c-4549-848a-4376f0943963\" style=\"\n",
       "                    width: 100%;\n",
       "                    border: 1px solid #cfcfcf;\n",
       "                    border-radius: 4px;\n",
       "                    text-align: center;\n",
       "                    position: relative;\">\n",
       "                  <div class=\"pb-text\" style=\"\n",
       "                      position: absolute;\n",
       "                      width: 100%;\">\n",
       "                    0%\n",
       "                  </div>\n",
       "                  <div class=\"pb-fill\" style=\"\n",
       "                      background-color: #bdd2e6;\n",
       "                      width: 0%;\">\n",
       "                    <style type=\"text/css\" scoped=\"scoped\">\n",
       "                        @keyframes pb-fill-anim {\n",
       "                            0% { background-position: 0 0; }\n",
       "                            100% { background-position: 100px 0; }\n",
       "                        }\n",
       "                    </style>\n",
       "                    &nbsp;\n",
       "                  </div>\n",
       "                </div>"
      ],
      "text/plain": [
       "HtmlProgressBar cannot be displayed. Please use the TerminalProgressBar. It can be enabled with `nengo.rc.set('progress', 'progress_bar', 'nengo.utils.progress.TerminalProgressBar')`."
      ]
     },
     "metadata": {},
     "output_type": "display_data"
    },
    {
     "data": {
      "application/javascript": [
       "\n",
       "              (function () {\n",
       "                  var root = document.getElementById('cd1b8b94-4c4c-4549-848a-4376f0943963');\n",
       "                  var text = root.getElementsByClassName('pb-text')[0];\n",
       "                  var fill = root.getElementsByClassName('pb-fill')[0];\n",
       "\n",
       "                  text.innerHTML = 'Simulation finished in 0:01:42.';\n",
       "                  \n",
       "            if (100.0 > 0.) {\n",
       "                fill.style.transition = 'width 0.1s linear';\n",
       "            } else {\n",
       "                fill.style.transition = 'none';\n",
       "            }\n",
       "\n",
       "            fill.style.width = '100.0%';\n",
       "            fill.style.animation = 'none';\n",
       "            fill.style.backgroundImage = 'none'\n",
       "        \n",
       "                  \n",
       "                fill.style.animation = 'none';\n",
       "                fill.style.backgroundImage = 'none';\n",
       "            \n",
       "              })();\n",
       "        "
      ],
      "text/plain": [
       "<IPython.core.display.Javascript object>"
      ]
     },
     "metadata": {},
     "output_type": "display_data"
    },
    {
     "name": "stdout",
     "output_type": "stream",
     "text": [
      "seed = 16\n",
      "backend = 'nengo_ocl'\n",
      "dt = 0.001\n",
      "neuron_type = 'default'\n",
      "n_neurons_scale = 1\n",
      "n_neurons_scale_combined = 0.25\n",
      "s_crosstalk = 0\n",
      "s_evidence = 20\n",
      "n_samples = 10000\n",
      "t_senso = 0\n",
      "vocab = <nengo_spa.vocabulary.Vocabulary object at 0x7f309d100b90>\n",
      "xp = <experiments.Xp1 object at 0x7f309e061750>\n",
      "proc_feedback = 0.9\n",
      "proc_feedback_synapse = 0.005\n",
      "GW_feedback = 1\n",
      "GW_threshold = 0.5\n",
      "GW_scale = 20\n",
      "BG_thr = 0.1\n",
      "BG_bias = 0.5\n",
      "integrator_reset = False\n",
      "data = <data.Data object at 0x7f30ac18f2d0>\n",
      "\t seed 17/20\n",
      "running run_seed17_dim80\n"
     ]
    },
    {
     "name": "stderr",
     "output_type": "stream",
     "text": [
      "/home/ubuntu/anaconda3/envs/CTN/lib/python3.7/site-packages/nengo_spa/vocabulary.py:173: UserWarning: Could not create a semantic pointer with max_similarity=0.10 (D=80, M=20, similarity=0.11)\n",
      "  len(self._key2idx), best_sim))\n"
     ]
    },
    {
     "data": {
      "text/html": [
       "\n",
       "                <div id=\"24d83123-82e0-4347-a3fd-97e0e9b92682\" style=\"\n",
       "                    width: 100%;\n",
       "                    border: 1px solid #cfcfcf;\n",
       "                    border-radius: 4px;\n",
       "                    text-align: center;\n",
       "                    position: relative;\">\n",
       "                  <div class=\"pb-text\" style=\"\n",
       "                      position: absolute;\n",
       "                      width: 100%;\">\n",
       "                    0%\n",
       "                  </div>\n",
       "                  <div class=\"pb-fill\" style=\"\n",
       "                      background-color: #bdd2e6;\n",
       "                      width: 0%;\">\n",
       "                    <style type=\"text/css\" scoped=\"scoped\">\n",
       "                        @keyframes pb-fill-anim {\n",
       "                            0% { background-position: 0 0; }\n",
       "                            100% { background-position: 100px 0; }\n",
       "                        }\n",
       "                    </style>\n",
       "                    &nbsp;\n",
       "                  </div>\n",
       "                </div>"
      ],
      "text/plain": [
       "HtmlProgressBar cannot be displayed. Please use the TerminalProgressBar. It can be enabled with `nengo.rc.set('progress', 'progress_bar', 'nengo.utils.progress.TerminalProgressBar')`."
      ]
     },
     "metadata": {},
     "output_type": "display_data"
    },
    {
     "data": {
      "application/javascript": [
       "\n",
       "              (function () {\n",
       "                  var root = document.getElementById('24d83123-82e0-4347-a3fd-97e0e9b92682');\n",
       "                  var text = root.getElementsByClassName('pb-text')[0];\n",
       "                  var fill = root.getElementsByClassName('pb-fill')[0];\n",
       "\n",
       "                  text.innerHTML = 'Simulation finished in 0:01:37.';\n",
       "                  \n",
       "            if (100.0 > 0.) {\n",
       "                fill.style.transition = 'width 0.1s linear';\n",
       "            } else {\n",
       "                fill.style.transition = 'none';\n",
       "            }\n",
       "\n",
       "            fill.style.width = '100.0%';\n",
       "            fill.style.animation = 'none';\n",
       "            fill.style.backgroundImage = 'none'\n",
       "        \n",
       "                  \n",
       "                fill.style.animation = 'none';\n",
       "                fill.style.backgroundImage = 'none';\n",
       "            \n",
       "              })();\n",
       "        "
      ],
      "text/plain": [
       "<IPython.core.display.Javascript object>"
      ]
     },
     "metadata": {},
     "output_type": "display_data"
    },
    {
     "name": "stdout",
     "output_type": "stream",
     "text": [
      "seed = 17\n",
      "backend = 'nengo_ocl'\n",
      "dt = 0.001\n",
      "neuron_type = 'default'\n",
      "n_neurons_scale = 1\n",
      "n_neurons_scale_combined = 0.25\n",
      "s_crosstalk = 0\n",
      "s_evidence = 20\n",
      "n_samples = 10000\n",
      "t_senso = 0\n",
      "vocab = <nengo_spa.vocabulary.Vocabulary object at 0x7f30adfdc190>\n",
      "xp = <experiments.Xp1 object at 0x7f3099b60dd0>\n",
      "proc_feedback = 0.9\n",
      "proc_feedback_synapse = 0.005\n",
      "GW_feedback = 1\n",
      "GW_threshold = 0.5\n",
      "GW_scale = 20\n",
      "BG_thr = 0.1\n",
      "BG_bias = 0.5\n",
      "integrator_reset = False\n",
      "data = <data.Data object at 0x7f309dc80fd0>\n",
      "\t seed 18/20\n",
      "running run_seed18_dim80\n"
     ]
    },
    {
     "data": {
      "text/html": [
       "\n",
       "                <div id=\"c0d86242-bc54-4602-873e-b298e943a52d\" style=\"\n",
       "                    width: 100%;\n",
       "                    border: 1px solid #cfcfcf;\n",
       "                    border-radius: 4px;\n",
       "                    text-align: center;\n",
       "                    position: relative;\">\n",
       "                  <div class=\"pb-text\" style=\"\n",
       "                      position: absolute;\n",
       "                      width: 100%;\">\n",
       "                    0%\n",
       "                  </div>\n",
       "                  <div class=\"pb-fill\" style=\"\n",
       "                      background-color: #bdd2e6;\n",
       "                      width: 0%;\">\n",
       "                    <style type=\"text/css\" scoped=\"scoped\">\n",
       "                        @keyframes pb-fill-anim {\n",
       "                            0% { background-position: 0 0; }\n",
       "                            100% { background-position: 100px 0; }\n",
       "                        }\n",
       "                    </style>\n",
       "                    &nbsp;\n",
       "                  </div>\n",
       "                </div>"
      ],
      "text/plain": [
       "HtmlProgressBar cannot be displayed. Please use the TerminalProgressBar. It can be enabled with `nengo.rc.set('progress', 'progress_bar', 'nengo.utils.progress.TerminalProgressBar')`."
      ]
     },
     "metadata": {},
     "output_type": "display_data"
    },
    {
     "data": {
      "application/javascript": [
       "\n",
       "              (function () {\n",
       "                  var root = document.getElementById('c0d86242-bc54-4602-873e-b298e943a52d');\n",
       "                  var text = root.getElementsByClassName('pb-text')[0];\n",
       "                  var fill = root.getElementsByClassName('pb-fill')[0];\n",
       "\n",
       "                  text.innerHTML = 'Simulation finished in 0:01:37.';\n",
       "                  \n",
       "            if (100.0 > 0.) {\n",
       "                fill.style.transition = 'width 0.1s linear';\n",
       "            } else {\n",
       "                fill.style.transition = 'none';\n",
       "            }\n",
       "\n",
       "            fill.style.width = '100.0%';\n",
       "            fill.style.animation = 'none';\n",
       "            fill.style.backgroundImage = 'none'\n",
       "        \n",
       "                  \n",
       "                fill.style.animation = 'none';\n",
       "                fill.style.backgroundImage = 'none';\n",
       "            \n",
       "              })();\n",
       "        "
      ],
      "text/plain": [
       "<IPython.core.display.Javascript object>"
      ]
     },
     "metadata": {},
     "output_type": "display_data"
    },
    {
     "name": "stdout",
     "output_type": "stream",
     "text": [
      "seed = 18\n",
      "backend = 'nengo_ocl'\n",
      "dt = 0.001\n",
      "neuron_type = 'default'\n",
      "n_neurons_scale = 1\n",
      "n_neurons_scale_combined = 0.25\n",
      "s_crosstalk = 0\n",
      "s_evidence = 20\n",
      "n_samples = 10000\n",
      "t_senso = 0\n",
      "vocab = <nengo_spa.vocabulary.Vocabulary object at 0x7f309bcb4f90>\n",
      "xp = <experiments.Xp1 object at 0x7f309de9d0d0>\n",
      "proc_feedback = 0.9\n",
      "proc_feedback_synapse = 0.005\n",
      "GW_feedback = 1\n",
      "GW_threshold = 0.5\n",
      "GW_scale = 20\n",
      "BG_thr = 0.1\n",
      "BG_bias = 0.5\n",
      "integrator_reset = False\n",
      "data = <data.Data object at 0x7f309c19f990>\n",
      "\t seed 19/20\n",
      "running run_seed19_dim80\n"
     ]
    },
    {
     "name": "stderr",
     "output_type": "stream",
     "text": [
      "/home/ubuntu/anaconda3/envs/CTN/lib/python3.7/site-packages/nengo_spa/vocabulary.py:173: UserWarning: Could not create a semantic pointer with max_similarity=0.10 (D=80, M=18, similarity=0.10)\n",
      "  len(self._key2idx), best_sim))\n",
      "/home/ubuntu/anaconda3/envs/CTN/lib/python3.7/site-packages/nengo_spa/vocabulary.py:173: UserWarning: Could not create a semantic pointer with max_similarity=0.10 (D=80, M=19, similarity=0.12)\n",
      "  len(self._key2idx), best_sim))\n"
     ]
    },
    {
     "data": {
      "text/html": [
       "\n",
       "                <div id=\"7711cc37-537d-452a-a76a-85dc52856c2e\" style=\"\n",
       "                    width: 100%;\n",
       "                    border: 1px solid #cfcfcf;\n",
       "                    border-radius: 4px;\n",
       "                    text-align: center;\n",
       "                    position: relative;\">\n",
       "                  <div class=\"pb-text\" style=\"\n",
       "                      position: absolute;\n",
       "                      width: 100%;\">\n",
       "                    0%\n",
       "                  </div>\n",
       "                  <div class=\"pb-fill\" style=\"\n",
       "                      background-color: #bdd2e6;\n",
       "                      width: 0%;\">\n",
       "                    <style type=\"text/css\" scoped=\"scoped\">\n",
       "                        @keyframes pb-fill-anim {\n",
       "                            0% { background-position: 0 0; }\n",
       "                            100% { background-position: 100px 0; }\n",
       "                        }\n",
       "                    </style>\n",
       "                    &nbsp;\n",
       "                  </div>\n",
       "                </div>"
      ],
      "text/plain": [
       "HtmlProgressBar cannot be displayed. Please use the TerminalProgressBar. It can be enabled with `nengo.rc.set('progress', 'progress_bar', 'nengo.utils.progress.TerminalProgressBar')`."
      ]
     },
     "metadata": {},
     "output_type": "display_data"
    },
    {
     "data": {
      "application/javascript": [
       "\n",
       "              (function () {\n",
       "                  var root = document.getElementById('7711cc37-537d-452a-a76a-85dc52856c2e');\n",
       "                  var text = root.getElementsByClassName('pb-text')[0];\n",
       "                  var fill = root.getElementsByClassName('pb-fill')[0];\n",
       "\n",
       "                  text.innerHTML = 'Simulation finished in 0:01:38.';\n",
       "                  \n",
       "            if (100.0 > 0.) {\n",
       "                fill.style.transition = 'width 0.1s linear';\n",
       "            } else {\n",
       "                fill.style.transition = 'none';\n",
       "            }\n",
       "\n",
       "            fill.style.width = '100.0%';\n",
       "            fill.style.animation = 'none';\n",
       "            fill.style.backgroundImage = 'none'\n",
       "        \n",
       "                  \n",
       "                fill.style.animation = 'none';\n",
       "                fill.style.backgroundImage = 'none';\n",
       "            \n",
       "              })();\n",
       "        "
      ],
      "text/plain": [
       "<IPython.core.display.Javascript object>"
      ]
     },
     "metadata": {},
     "output_type": "display_data"
    },
    {
     "name": "stdout",
     "output_type": "stream",
     "text": [
      "seed = 19\n",
      "backend = 'nengo_ocl'\n",
      "dt = 0.001\n",
      "neuron_type = 'default'\n",
      "n_neurons_scale = 1\n",
      "n_neurons_scale_combined = 0.25\n",
      "s_crosstalk = 0\n",
      "s_evidence = 20\n",
      "n_samples = 10000\n",
      "t_senso = 0\n",
      "vocab = <nengo_spa.vocabulary.Vocabulary object at 0x7f30823f2f90>\n",
      "xp = <experiments.Xp1 object at 0x7f30884aaa10>\n",
      "proc_feedback = 0.9\n",
      "proc_feedback_synapse = 0.005\n",
      "GW_feedback = 1\n",
      "GW_threshold = 0.5\n",
      "GW_scale = 20\n",
      "BG_thr = 0.1\n",
      "BG_bias = 0.5\n",
      "integrator_reset = False\n",
      "data = <data.Data object at 0x7f309d122e50>\n",
      "\t seed 20/20\n",
      "running run_seed20_dim80\n"
     ]
    },
    {
     "name": "stderr",
     "output_type": "stream",
     "text": [
      "/home/ubuntu/anaconda3/envs/CTN/lib/python3.7/site-packages/nengo_spa/vocabulary.py:173: UserWarning: Could not create a semantic pointer with max_similarity=0.10 (D=80, M=16, similarity=0.10)\n",
      "  len(self._key2idx), best_sim))\n"
     ]
    },
    {
     "data": {
      "text/html": [
       "\n",
       "                <div id=\"2c1cdeeb-4c4a-4fe0-b98f-f8779b391c51\" style=\"\n",
       "                    width: 100%;\n",
       "                    border: 1px solid #cfcfcf;\n",
       "                    border-radius: 4px;\n",
       "                    text-align: center;\n",
       "                    position: relative;\">\n",
       "                  <div class=\"pb-text\" style=\"\n",
       "                      position: absolute;\n",
       "                      width: 100%;\">\n",
       "                    0%\n",
       "                  </div>\n",
       "                  <div class=\"pb-fill\" style=\"\n",
       "                      background-color: #bdd2e6;\n",
       "                      width: 0%;\">\n",
       "                    <style type=\"text/css\" scoped=\"scoped\">\n",
       "                        @keyframes pb-fill-anim {\n",
       "                            0% { background-position: 0 0; }\n",
       "                            100% { background-position: 100px 0; }\n",
       "                        }\n",
       "                    </style>\n",
       "                    &nbsp;\n",
       "                  </div>\n",
       "                </div>"
      ],
      "text/plain": [
       "HtmlProgressBar cannot be displayed. Please use the TerminalProgressBar. It can be enabled with `nengo.rc.set('progress', 'progress_bar', 'nengo.utils.progress.TerminalProgressBar')`."
      ]
     },
     "metadata": {},
     "output_type": "display_data"
    },
    {
     "data": {
      "application/javascript": [
       "\n",
       "              (function () {\n",
       "                  var root = document.getElementById('2c1cdeeb-4c4a-4fe0-b98f-f8779b391c51');\n",
       "                  var text = root.getElementsByClassName('pb-text')[0];\n",
       "                  var fill = root.getElementsByClassName('pb-fill')[0];\n",
       "\n",
       "                  text.innerHTML = 'Simulation finished in 0:01:40.';\n",
       "                  \n",
       "            if (100.0 > 0.) {\n",
       "                fill.style.transition = 'width 0.1s linear';\n",
       "            } else {\n",
       "                fill.style.transition = 'none';\n",
       "            }\n",
       "\n",
       "            fill.style.width = '100.0%';\n",
       "            fill.style.animation = 'none';\n",
       "            fill.style.backgroundImage = 'none'\n",
       "        \n",
       "                  \n",
       "                fill.style.animation = 'none';\n",
       "                fill.style.backgroundImage = 'none';\n",
       "            \n",
       "              })();\n",
       "        "
      ],
      "text/plain": [
       "<IPython.core.display.Javascript object>"
      ]
     },
     "metadata": {},
     "output_type": "display_data"
    },
    {
     "name": "stdout",
     "output_type": "stream",
     "text": [
      "seed = 20\n",
      "backend = 'nengo_ocl'\n",
      "dt = 0.001\n",
      "neuron_type = 'default'\n",
      "n_neurons_scale = 1\n",
      "n_neurons_scale_combined = 0.25\n",
      "s_crosstalk = 0\n",
      "s_evidence = 20\n",
      "n_samples = 10000\n",
      "t_senso = 0\n",
      "vocab = <nengo_spa.vocabulary.Vocabulary object at 0x7f309c4e3410>\n",
      "xp = <experiments.Xp1 object at 0x7f309c6d9fd0>\n",
      "proc_feedback = 0.9\n",
      "proc_feedback_synapse = 0.005\n",
      "GW_feedback = 1\n",
      "GW_threshold = 0.5\n",
      "GW_scale = 20\n",
      "BG_thr = 0.1\n",
      "BG_bias = 0.5\n",
      "integrator_reset = False\n",
      "data = <data.Data object at 0x7f308837e650>\n",
      "error rate: 0.04791666666666672\n",
      "params: [6.]\n",
      "Simulating...\n",
      "\t seed 1/20\n",
      "\t seed 2/20\n",
      "\t seed 3/20\n",
      "\t seed 4/20\n",
      "\t seed 5/20\n",
      "\t seed 6/20\n",
      "\t seed 7/20\n",
      "\t seed 8/20\n",
      "\t seed 9/20\n",
      "\t seed 10/20\n",
      "\t seed 11/20\n",
      "running run_seed11_dim96\n"
     ]
    },
    {
     "data": {
      "text/html": [
       "\n",
       "                <div id=\"2849f291-9d52-4459-99df-85b5c1442192\" style=\"\n",
       "                    width: 100%;\n",
       "                    border: 1px solid #cfcfcf;\n",
       "                    border-radius: 4px;\n",
       "                    text-align: center;\n",
       "                    position: relative;\">\n",
       "                  <div class=\"pb-text\" style=\"\n",
       "                      position: absolute;\n",
       "                      width: 100%;\">\n",
       "                    0%\n",
       "                  </div>\n",
       "                  <div class=\"pb-fill\" style=\"\n",
       "                      background-color: #bdd2e6;\n",
       "                      width: 0%;\">\n",
       "                    <style type=\"text/css\" scoped=\"scoped\">\n",
       "                        @keyframes pb-fill-anim {\n",
       "                            0% { background-position: 0 0; }\n",
       "                            100% { background-position: 100px 0; }\n",
       "                        }\n",
       "                    </style>\n",
       "                    &nbsp;\n",
       "                  </div>\n",
       "                </div>"
      ],
      "text/plain": [
       "HtmlProgressBar cannot be displayed. Please use the TerminalProgressBar. It can be enabled with `nengo.rc.set('progress', 'progress_bar', 'nengo.utils.progress.TerminalProgressBar')`."
      ]
     },
     "metadata": {},
     "output_type": "display_data"
    },
    {
     "data": {
      "application/javascript": [
       "\n",
       "              (function () {\n",
       "                  var root = document.getElementById('2849f291-9d52-4459-99df-85b5c1442192');\n",
       "                  var text = root.getElementsByClassName('pb-text')[0];\n",
       "                  var fill = root.getElementsByClassName('pb-fill')[0];\n",
       "\n",
       "                  text.innerHTML = 'Simulation finished in 0:01:44.';\n",
       "                  \n",
       "            if (100.0 > 0.) {\n",
       "                fill.style.transition = 'width 0.1s linear';\n",
       "            } else {\n",
       "                fill.style.transition = 'none';\n",
       "            }\n",
       "\n",
       "            fill.style.width = '100.0%';\n",
       "            fill.style.animation = 'none';\n",
       "            fill.style.backgroundImage = 'none'\n",
       "        \n",
       "                  \n",
       "                fill.style.animation = 'none';\n",
       "                fill.style.backgroundImage = 'none';\n",
       "            \n",
       "              })();\n",
       "        "
      ],
      "text/plain": [
       "<IPython.core.display.Javascript object>"
      ]
     },
     "metadata": {},
     "output_type": "display_data"
    },
    {
     "name": "stdout",
     "output_type": "stream",
     "text": [
      "seed = 11\n",
      "backend = 'nengo_ocl'\n",
      "dt = 0.001\n",
      "neuron_type = 'default'\n",
      "n_neurons_scale = 1\n",
      "n_neurons_scale_combined = 0.25\n",
      "s_crosstalk = 0\n",
      "s_evidence = 20\n",
      "n_samples = 10000\n",
      "t_senso = 0\n",
      "vocab = <nengo_spa.vocabulary.Vocabulary object at 0x7f30997f4290>\n",
      "xp = <experiments.Xp1 object at 0x7f30e85d7e50>\n",
      "proc_feedback = 0.9\n",
      "proc_feedback_synapse = 0.005\n",
      "GW_feedback = 1\n",
      "GW_threshold = 0.5\n",
      "GW_scale = 20\n",
      "BG_thr = 0.1\n",
      "BG_bias = 0.5\n",
      "integrator_reset = False\n",
      "data = <data.Data object at 0x7f309c8fac90>\n",
      "\t seed 12/20\n",
      "running run_seed12_dim96\n"
     ]
    },
    {
     "data": {
      "text/html": [
       "\n",
       "                <div id=\"c6b01010-957f-4739-bad4-ff24011c133e\" style=\"\n",
       "                    width: 100%;\n",
       "                    border: 1px solid #cfcfcf;\n",
       "                    border-radius: 4px;\n",
       "                    text-align: center;\n",
       "                    position: relative;\">\n",
       "                  <div class=\"pb-text\" style=\"\n",
       "                      position: absolute;\n",
       "                      width: 100%;\">\n",
       "                    0%\n",
       "                  </div>\n",
       "                  <div class=\"pb-fill\" style=\"\n",
       "                      background-color: #bdd2e6;\n",
       "                      width: 0%;\">\n",
       "                    <style type=\"text/css\" scoped=\"scoped\">\n",
       "                        @keyframes pb-fill-anim {\n",
       "                            0% { background-position: 0 0; }\n",
       "                            100% { background-position: 100px 0; }\n",
       "                        }\n",
       "                    </style>\n",
       "                    &nbsp;\n",
       "                  </div>\n",
       "                </div>"
      ],
      "text/plain": [
       "HtmlProgressBar cannot be displayed. Please use the TerminalProgressBar. It can be enabled with `nengo.rc.set('progress', 'progress_bar', 'nengo.utils.progress.TerminalProgressBar')`."
      ]
     },
     "metadata": {},
     "output_type": "display_data"
    },
    {
     "data": {
      "application/javascript": [
       "\n",
       "              (function () {\n",
       "                  var root = document.getElementById('c6b01010-957f-4739-bad4-ff24011c133e');\n",
       "                  var text = root.getElementsByClassName('pb-text')[0];\n",
       "                  var fill = root.getElementsByClassName('pb-fill')[0];\n",
       "\n",
       "                  text.innerHTML = 'Simulation finished in 0:01:43.';\n",
       "                  \n",
       "            if (100.0 > 0.) {\n",
       "                fill.style.transition = 'width 0.1s linear';\n",
       "            } else {\n",
       "                fill.style.transition = 'none';\n",
       "            }\n",
       "\n",
       "            fill.style.width = '100.0%';\n",
       "            fill.style.animation = 'none';\n",
       "            fill.style.backgroundImage = 'none'\n",
       "        \n",
       "                  \n",
       "                fill.style.animation = 'none';\n",
       "                fill.style.backgroundImage = 'none';\n",
       "            \n",
       "              })();\n",
       "        "
      ],
      "text/plain": [
       "<IPython.core.display.Javascript object>"
      ]
     },
     "metadata": {},
     "output_type": "display_data"
    },
    {
     "name": "stdout",
     "output_type": "stream",
     "text": [
      "seed = 12\n",
      "backend = 'nengo_ocl'\n",
      "dt = 0.001\n",
      "neuron_type = 'default'\n",
      "n_neurons_scale = 1\n",
      "n_neurons_scale_combined = 0.25\n",
      "s_crosstalk = 0\n",
      "s_evidence = 20\n",
      "n_samples = 10000\n",
      "t_senso = 0\n",
      "vocab = <nengo_spa.vocabulary.Vocabulary object at 0x7f309baa23d0>\n",
      "xp = <experiments.Xp1 object at 0x7f309b5f5e50>\n",
      "proc_feedback = 0.9\n",
      "proc_feedback_synapse = 0.005\n",
      "GW_feedback = 1\n",
      "GW_threshold = 0.5\n",
      "GW_scale = 20\n",
      "BG_thr = 0.1\n",
      "BG_bias = 0.5\n",
      "integrator_reset = False\n",
      "data = <data.Data object at 0x7f309b9bf810>\n",
      "\t seed 13/20\n",
      "running run_seed13_dim96\n"
     ]
    },
    {
     "data": {
      "text/html": [
       "\n",
       "                <div id=\"b4bc47f4-6754-46a2-895c-6fcd117ea081\" style=\"\n",
       "                    width: 100%;\n",
       "                    border: 1px solid #cfcfcf;\n",
       "                    border-radius: 4px;\n",
       "                    text-align: center;\n",
       "                    position: relative;\">\n",
       "                  <div class=\"pb-text\" style=\"\n",
       "                      position: absolute;\n",
       "                      width: 100%;\">\n",
       "                    0%\n",
       "                  </div>\n",
       "                  <div class=\"pb-fill\" style=\"\n",
       "                      background-color: #bdd2e6;\n",
       "                      width: 0%;\">\n",
       "                    <style type=\"text/css\" scoped=\"scoped\">\n",
       "                        @keyframes pb-fill-anim {\n",
       "                            0% { background-position: 0 0; }\n",
       "                            100% { background-position: 100px 0; }\n",
       "                        }\n",
       "                    </style>\n",
       "                    &nbsp;\n",
       "                  </div>\n",
       "                </div>"
      ],
      "text/plain": [
       "HtmlProgressBar cannot be displayed. Please use the TerminalProgressBar. It can be enabled with `nengo.rc.set('progress', 'progress_bar', 'nengo.utils.progress.TerminalProgressBar')`."
      ]
     },
     "metadata": {},
     "output_type": "display_data"
    },
    {
     "data": {
      "application/javascript": [
       "\n",
       "              (function () {\n",
       "                  var root = document.getElementById('b4bc47f4-6754-46a2-895c-6fcd117ea081');\n",
       "                  var text = root.getElementsByClassName('pb-text')[0];\n",
       "                  var fill = root.getElementsByClassName('pb-fill')[0];\n",
       "\n",
       "                  text.innerHTML = 'Simulation finished in 0:01:47.';\n",
       "                  \n",
       "            if (100.0 > 0.) {\n",
       "                fill.style.transition = 'width 0.1s linear';\n",
       "            } else {\n",
       "                fill.style.transition = 'none';\n",
       "            }\n",
       "\n",
       "            fill.style.width = '100.0%';\n",
       "            fill.style.animation = 'none';\n",
       "            fill.style.backgroundImage = 'none'\n",
       "        \n",
       "                  \n",
       "                fill.style.animation = 'none';\n",
       "                fill.style.backgroundImage = 'none';\n",
       "            \n",
       "              })();\n",
       "        "
      ],
      "text/plain": [
       "<IPython.core.display.Javascript object>"
      ]
     },
     "metadata": {},
     "output_type": "display_data"
    },
    {
     "name": "stdout",
     "output_type": "stream",
     "text": [
      "seed = 13\n",
      "backend = 'nengo_ocl'\n",
      "dt = 0.001\n",
      "neuron_type = 'default'\n",
      "n_neurons_scale = 1\n",
      "n_neurons_scale_combined = 0.25\n",
      "s_crosstalk = 0\n",
      "s_evidence = 20\n",
      "n_samples = 10000\n",
      "t_senso = 0\n",
      "vocab = <nengo_spa.vocabulary.Vocabulary object at 0x7f3098c6b210>\n",
      "xp = <experiments.Xp1 object at 0x7f30ade64710>\n",
      "proc_feedback = 0.9\n",
      "proc_feedback_synapse = 0.005\n",
      "GW_feedback = 1\n",
      "GW_threshold = 0.5\n",
      "GW_scale = 20\n",
      "BG_thr = 0.1\n",
      "BG_bias = 0.5\n",
      "integrator_reset = False\n",
      "data = <data.Data object at 0x7f30f5f71c50>\n",
      "\t seed 14/20\n",
      "running run_seed14_dim96\n"
     ]
    },
    {
     "data": {
      "text/html": [
       "\n",
       "                <div id=\"d9133d49-3573-42d4-9809-8d8c927f17ec\" style=\"\n",
       "                    width: 100%;\n",
       "                    border: 1px solid #cfcfcf;\n",
       "                    border-radius: 4px;\n",
       "                    text-align: center;\n",
       "                    position: relative;\">\n",
       "                  <div class=\"pb-text\" style=\"\n",
       "                      position: absolute;\n",
       "                      width: 100%;\">\n",
       "                    0%\n",
       "                  </div>\n",
       "                  <div class=\"pb-fill\" style=\"\n",
       "                      background-color: #bdd2e6;\n",
       "                      width: 0%;\">\n",
       "                    <style type=\"text/css\" scoped=\"scoped\">\n",
       "                        @keyframes pb-fill-anim {\n",
       "                            0% { background-position: 0 0; }\n",
       "                            100% { background-position: 100px 0; }\n",
       "                        }\n",
       "                    </style>\n",
       "                    &nbsp;\n",
       "                  </div>\n",
       "                </div>"
      ],
      "text/plain": [
       "HtmlProgressBar cannot be displayed. Please use the TerminalProgressBar. It can be enabled with `nengo.rc.set('progress', 'progress_bar', 'nengo.utils.progress.TerminalProgressBar')`."
      ]
     },
     "metadata": {},
     "output_type": "display_data"
    },
    {
     "data": {
      "application/javascript": [
       "\n",
       "              (function () {\n",
       "                  var root = document.getElementById('d9133d49-3573-42d4-9809-8d8c927f17ec');\n",
       "                  var text = root.getElementsByClassName('pb-text')[0];\n",
       "                  var fill = root.getElementsByClassName('pb-fill')[0];\n",
       "\n",
       "                  text.innerHTML = 'Simulation finished in 0:01:46.';\n",
       "                  \n",
       "            if (100.0 > 0.) {\n",
       "                fill.style.transition = 'width 0.1s linear';\n",
       "            } else {\n",
       "                fill.style.transition = 'none';\n",
       "            }\n",
       "\n",
       "            fill.style.width = '100.0%';\n",
       "            fill.style.animation = 'none';\n",
       "            fill.style.backgroundImage = 'none'\n",
       "        \n",
       "                  \n",
       "                fill.style.animation = 'none';\n",
       "                fill.style.backgroundImage = 'none';\n",
       "            \n",
       "              })();\n",
       "        "
      ],
      "text/plain": [
       "<IPython.core.display.Javascript object>"
      ]
     },
     "metadata": {},
     "output_type": "display_data"
    },
    {
     "name": "stdout",
     "output_type": "stream",
     "text": [
      "seed = 14\n",
      "backend = 'nengo_ocl'\n",
      "dt = 0.001\n",
      "neuron_type = 'default'\n",
      "n_neurons_scale = 1\n",
      "n_neurons_scale_combined = 0.25\n",
      "s_crosstalk = 0\n",
      "s_evidence = 20\n",
      "n_samples = 10000\n",
      "t_senso = 0\n",
      "vocab = <nengo_spa.vocabulary.Vocabulary object at 0x7f309aff07d0>\n",
      "xp = <experiments.Xp1 object at 0x7f3098ac4990>\n",
      "proc_feedback = 0.9\n",
      "proc_feedback_synapse = 0.005\n",
      "GW_feedback = 1\n",
      "GW_threshold = 0.5\n",
      "GW_scale = 20\n",
      "BG_thr = 0.1\n",
      "BG_bias = 0.5\n",
      "integrator_reset = False\n",
      "data = <data.Data object at 0x7f309b3d5910>\n",
      "\t seed 15/20\n",
      "running run_seed15_dim96\n"
     ]
    },
    {
     "data": {
      "text/html": [
       "\n",
       "                <div id=\"a7f1ef98-cd06-4f73-986f-0268cff5a2f4\" style=\"\n",
       "                    width: 100%;\n",
       "                    border: 1px solid #cfcfcf;\n",
       "                    border-radius: 4px;\n",
       "                    text-align: center;\n",
       "                    position: relative;\">\n",
       "                  <div class=\"pb-text\" style=\"\n",
       "                      position: absolute;\n",
       "                      width: 100%;\">\n",
       "                    0%\n",
       "                  </div>\n",
       "                  <div class=\"pb-fill\" style=\"\n",
       "                      background-color: #bdd2e6;\n",
       "                      width: 0%;\">\n",
       "                    <style type=\"text/css\" scoped=\"scoped\">\n",
       "                        @keyframes pb-fill-anim {\n",
       "                            0% { background-position: 0 0; }\n",
       "                            100% { background-position: 100px 0; }\n",
       "                        }\n",
       "                    </style>\n",
       "                    &nbsp;\n",
       "                  </div>\n",
       "                </div>"
      ],
      "text/plain": [
       "HtmlProgressBar cannot be displayed. Please use the TerminalProgressBar. It can be enabled with `nengo.rc.set('progress', 'progress_bar', 'nengo.utils.progress.TerminalProgressBar')`."
      ]
     },
     "metadata": {},
     "output_type": "display_data"
    },
    {
     "data": {
      "application/javascript": [
       "\n",
       "              (function () {\n",
       "                  var root = document.getElementById('a7f1ef98-cd06-4f73-986f-0268cff5a2f4');\n",
       "                  var text = root.getElementsByClassName('pb-text')[0];\n",
       "                  var fill = root.getElementsByClassName('pb-fill')[0];\n",
       "\n",
       "                  text.innerHTML = 'Simulation finished in 0:01:45.';\n",
       "                  \n",
       "            if (100.0 > 0.) {\n",
       "                fill.style.transition = 'width 0.1s linear';\n",
       "            } else {\n",
       "                fill.style.transition = 'none';\n",
       "            }\n",
       "\n",
       "            fill.style.width = '100.0%';\n",
       "            fill.style.animation = 'none';\n",
       "            fill.style.backgroundImage = 'none'\n",
       "        \n",
       "                  \n",
       "                fill.style.animation = 'none';\n",
       "                fill.style.backgroundImage = 'none';\n",
       "            \n",
       "              })();\n",
       "        "
      ],
      "text/plain": [
       "<IPython.core.display.Javascript object>"
      ]
     },
     "metadata": {},
     "output_type": "display_data"
    },
    {
     "name": "stdout",
     "output_type": "stream",
     "text": [
      "seed = 15\n",
      "backend = 'nengo_ocl'\n",
      "dt = 0.001\n",
      "neuron_type = 'default'\n",
      "n_neurons_scale = 1\n",
      "n_neurons_scale_combined = 0.25\n",
      "s_crosstalk = 0\n",
      "s_evidence = 20\n",
      "n_samples = 10000\n",
      "t_senso = 0\n",
      "vocab = <nengo_spa.vocabulary.Vocabulary object at 0x7f309c0a75d0>\n",
      "xp = <experiments.Xp1 object at 0x7f309b430fd0>\n",
      "proc_feedback = 0.9\n",
      "proc_feedback_synapse = 0.005\n",
      "GW_feedback = 1\n",
      "GW_threshold = 0.5\n",
      "GW_scale = 20\n",
      "BG_thr = 0.1\n",
      "BG_bias = 0.5\n",
      "integrator_reset = False\n",
      "data = <data.Data object at 0x7f309c2eae10>\n",
      "\t seed 16/20\n",
      "running run_seed16_dim96\n"
     ]
    },
    {
     "data": {
      "text/html": [
       "\n",
       "                <div id=\"9a178e95-b4f2-46cf-9277-68cdd05ebc47\" style=\"\n",
       "                    width: 100%;\n",
       "                    border: 1px solid #cfcfcf;\n",
       "                    border-radius: 4px;\n",
       "                    text-align: center;\n",
       "                    position: relative;\">\n",
       "                  <div class=\"pb-text\" style=\"\n",
       "                      position: absolute;\n",
       "                      width: 100%;\">\n",
       "                    0%\n",
       "                  </div>\n",
       "                  <div class=\"pb-fill\" style=\"\n",
       "                      background-color: #bdd2e6;\n",
       "                      width: 0%;\">\n",
       "                    <style type=\"text/css\" scoped=\"scoped\">\n",
       "                        @keyframes pb-fill-anim {\n",
       "                            0% { background-position: 0 0; }\n",
       "                            100% { background-position: 100px 0; }\n",
       "                        }\n",
       "                    </style>\n",
       "                    &nbsp;\n",
       "                  </div>\n",
       "                </div>"
      ],
      "text/plain": [
       "HtmlProgressBar cannot be displayed. Please use the TerminalProgressBar. It can be enabled with `nengo.rc.set('progress', 'progress_bar', 'nengo.utils.progress.TerminalProgressBar')`."
      ]
     },
     "metadata": {},
     "output_type": "display_data"
    },
    {
     "data": {
      "application/javascript": [
       "\n",
       "              (function () {\n",
       "                  var root = document.getElementById('9a178e95-b4f2-46cf-9277-68cdd05ebc47');\n",
       "                  var text = root.getElementsByClassName('pb-text')[0];\n",
       "                  var fill = root.getElementsByClassName('pb-fill')[0];\n",
       "\n",
       "                  text.innerHTML = 'Simulation finished in 0:01:44.';\n",
       "                  \n",
       "            if (100.0 > 0.) {\n",
       "                fill.style.transition = 'width 0.1s linear';\n",
       "            } else {\n",
       "                fill.style.transition = 'none';\n",
       "            }\n",
       "\n",
       "            fill.style.width = '100.0%';\n",
       "            fill.style.animation = 'none';\n",
       "            fill.style.backgroundImage = 'none'\n",
       "        \n",
       "                  \n",
       "                fill.style.animation = 'none';\n",
       "                fill.style.backgroundImage = 'none';\n",
       "            \n",
       "              })();\n",
       "        "
      ],
      "text/plain": [
       "<IPython.core.display.Javascript object>"
      ]
     },
     "metadata": {},
     "output_type": "display_data"
    },
    {
     "name": "stdout",
     "output_type": "stream",
     "text": [
      "seed = 16\n",
      "backend = 'nengo_ocl'\n",
      "dt = 0.001\n",
      "neuron_type = 'default'\n",
      "n_neurons_scale = 1\n",
      "n_neurons_scale_combined = 0.25\n",
      "s_crosstalk = 0\n",
      "s_evidence = 20\n",
      "n_samples = 10000\n",
      "t_senso = 0\n",
      "vocab = <nengo_spa.vocabulary.Vocabulary object at 0x7f309e262250>\n",
      "xp = <experiments.Xp1 object at 0x7f309a35bd90>\n",
      "proc_feedback = 0.9\n",
      "proc_feedback_synapse = 0.005\n",
      "GW_feedback = 1\n",
      "GW_threshold = 0.5\n",
      "GW_scale = 20\n",
      "BG_thr = 0.1\n",
      "BG_bias = 0.5\n",
      "integrator_reset = False\n",
      "data = <data.Data object at 0x7f309869ac50>\n",
      "\t seed 17/20\n",
      "running run_seed17_dim96\n"
     ]
    },
    {
     "name": "stderr",
     "output_type": "stream",
     "text": [
      "/home/ubuntu/anaconda3/envs/CTN/lib/python3.7/site-packages/nengo_spa/vocabulary.py:173: UserWarning: Could not create a semantic pointer with max_similarity=0.10 (D=96, M=19, similarity=0.10)\n",
      "  len(self._key2idx), best_sim))\n"
     ]
    },
    {
     "data": {
      "text/html": [
       "\n",
       "                <div id=\"f3f7774d-09ee-49e2-89e1-2af962bb3a9f\" style=\"\n",
       "                    width: 100%;\n",
       "                    border: 1px solid #cfcfcf;\n",
       "                    border-radius: 4px;\n",
       "                    text-align: center;\n",
       "                    position: relative;\">\n",
       "                  <div class=\"pb-text\" style=\"\n",
       "                      position: absolute;\n",
       "                      width: 100%;\">\n",
       "                    0%\n",
       "                  </div>\n",
       "                  <div class=\"pb-fill\" style=\"\n",
       "                      background-color: #bdd2e6;\n",
       "                      width: 0%;\">\n",
       "                    <style type=\"text/css\" scoped=\"scoped\">\n",
       "                        @keyframes pb-fill-anim {\n",
       "                            0% { background-position: 0 0; }\n",
       "                            100% { background-position: 100px 0; }\n",
       "                        }\n",
       "                    </style>\n",
       "                    &nbsp;\n",
       "                  </div>\n",
       "                </div>"
      ],
      "text/plain": [
       "HtmlProgressBar cannot be displayed. Please use the TerminalProgressBar. It can be enabled with `nengo.rc.set('progress', 'progress_bar', 'nengo.utils.progress.TerminalProgressBar')`."
      ]
     },
     "metadata": {},
     "output_type": "display_data"
    },
    {
     "data": {
      "application/javascript": [
       "\n",
       "              (function () {\n",
       "                  var root = document.getElementById('f3f7774d-09ee-49e2-89e1-2af962bb3a9f');\n",
       "                  var text = root.getElementsByClassName('pb-text')[0];\n",
       "                  var fill = root.getElementsByClassName('pb-fill')[0];\n",
       "\n",
       "                  text.innerHTML = 'Simulation finished in 0:01:44.';\n",
       "                  \n",
       "            if (100.0 > 0.) {\n",
       "                fill.style.transition = 'width 0.1s linear';\n",
       "            } else {\n",
       "                fill.style.transition = 'none';\n",
       "            }\n",
       "\n",
       "            fill.style.width = '100.0%';\n",
       "            fill.style.animation = 'none';\n",
       "            fill.style.backgroundImage = 'none'\n",
       "        \n",
       "                  \n",
       "                fill.style.animation = 'none';\n",
       "                fill.style.backgroundImage = 'none';\n",
       "            \n",
       "              })();\n",
       "        "
      ],
      "text/plain": [
       "<IPython.core.display.Javascript object>"
      ]
     },
     "metadata": {},
     "output_type": "display_data"
    },
    {
     "name": "stdout",
     "output_type": "stream",
     "text": [
      "seed = 17\n",
      "backend = 'nengo_ocl'\n",
      "dt = 0.001\n",
      "neuron_type = 'default'\n",
      "n_neurons_scale = 1\n",
      "n_neurons_scale_combined = 0.25\n",
      "s_crosstalk = 0\n",
      "s_evidence = 20\n",
      "n_samples = 10000\n",
      "t_senso = 0\n",
      "vocab = <nengo_spa.vocabulary.Vocabulary object at 0x7f309bb80590>\n",
      "xp = <experiments.Xp1 object at 0x7f30e8a5cb10>\n",
      "proc_feedback = 0.9\n",
      "proc_feedback_synapse = 0.005\n",
      "GW_feedback = 1\n",
      "GW_threshold = 0.5\n",
      "GW_scale = 20\n",
      "BG_thr = 0.1\n",
      "BG_bias = 0.5\n",
      "integrator_reset = False\n",
      "data = <data.Data object at 0x7f30ae169490>\n",
      "\t seed 18/20\n",
      "running run_seed18_dim96\n"
     ]
    },
    {
     "data": {
      "text/html": [
       "\n",
       "                <div id=\"104e5971-24b2-4b43-a69c-7197e438e400\" style=\"\n",
       "                    width: 100%;\n",
       "                    border: 1px solid #cfcfcf;\n",
       "                    border-radius: 4px;\n",
       "                    text-align: center;\n",
       "                    position: relative;\">\n",
       "                  <div class=\"pb-text\" style=\"\n",
       "                      position: absolute;\n",
       "                      width: 100%;\">\n",
       "                    0%\n",
       "                  </div>\n",
       "                  <div class=\"pb-fill\" style=\"\n",
       "                      background-color: #bdd2e6;\n",
       "                      width: 0%;\">\n",
       "                    <style type=\"text/css\" scoped=\"scoped\">\n",
       "                        @keyframes pb-fill-anim {\n",
       "                            0% { background-position: 0 0; }\n",
       "                            100% { background-position: 100px 0; }\n",
       "                        }\n",
       "                    </style>\n",
       "                    &nbsp;\n",
       "                  </div>\n",
       "                </div>"
      ],
      "text/plain": [
       "HtmlProgressBar cannot be displayed. Please use the TerminalProgressBar. It can be enabled with `nengo.rc.set('progress', 'progress_bar', 'nengo.utils.progress.TerminalProgressBar')`."
      ]
     },
     "metadata": {},
     "output_type": "display_data"
    },
    {
     "data": {
      "application/javascript": [
       "\n",
       "              (function () {\n",
       "                  var root = document.getElementById('104e5971-24b2-4b43-a69c-7197e438e400');\n",
       "                  var text = root.getElementsByClassName('pb-text')[0];\n",
       "                  var fill = root.getElementsByClassName('pb-fill')[0];\n",
       "\n",
       "                  text.innerHTML = 'Simulation finished in 0:01:44.';\n",
       "                  \n",
       "            if (100.0 > 0.) {\n",
       "                fill.style.transition = 'width 0.1s linear';\n",
       "            } else {\n",
       "                fill.style.transition = 'none';\n",
       "            }\n",
       "\n",
       "            fill.style.width = '100.0%';\n",
       "            fill.style.animation = 'none';\n",
       "            fill.style.backgroundImage = 'none'\n",
       "        \n",
       "                  \n",
       "                fill.style.animation = 'none';\n",
       "                fill.style.backgroundImage = 'none';\n",
       "            \n",
       "              })();\n",
       "        "
      ],
      "text/plain": [
       "<IPython.core.display.Javascript object>"
      ]
     },
     "metadata": {},
     "output_type": "display_data"
    },
    {
     "name": "stdout",
     "output_type": "stream",
     "text": [
      "seed = 18\n",
      "backend = 'nengo_ocl'\n",
      "dt = 0.001\n",
      "neuron_type = 'default'\n",
      "n_neurons_scale = 1\n",
      "n_neurons_scale_combined = 0.25\n",
      "s_crosstalk = 0\n",
      "s_evidence = 20\n",
      "n_samples = 10000\n",
      "t_senso = 0\n",
      "vocab = <nengo_spa.vocabulary.Vocabulary object at 0x7f309c933390>\n",
      "xp = <experiments.Xp1 object at 0x7f309b42e550>\n",
      "proc_feedback = 0.9\n",
      "proc_feedback_synapse = 0.005\n",
      "GW_feedback = 1\n",
      "GW_threshold = 0.5\n",
      "GW_scale = 20\n",
      "BG_thr = 0.1\n",
      "BG_bias = 0.5\n",
      "integrator_reset = False\n",
      "data = <data.Data object at 0x7f308840f410>\n",
      "\t seed 19/20\n",
      "running run_seed19_dim96\n"
     ]
    },
    {
     "name": "stderr",
     "output_type": "stream",
     "text": [
      "/home/ubuntu/anaconda3/envs/CTN/lib/python3.7/site-packages/nengo_spa/vocabulary.py:173: UserWarning: Could not create a semantic pointer with max_similarity=0.10 (D=96, M=20, similarity=0.10)\n",
      "  len(self._key2idx), best_sim))\n"
     ]
    },
    {
     "data": {
      "text/html": [
       "\n",
       "                <div id=\"9ad9e77f-1129-472a-83e5-c5eb7535a106\" style=\"\n",
       "                    width: 100%;\n",
       "                    border: 1px solid #cfcfcf;\n",
       "                    border-radius: 4px;\n",
       "                    text-align: center;\n",
       "                    position: relative;\">\n",
       "                  <div class=\"pb-text\" style=\"\n",
       "                      position: absolute;\n",
       "                      width: 100%;\">\n",
       "                    0%\n",
       "                  </div>\n",
       "                  <div class=\"pb-fill\" style=\"\n",
       "                      background-color: #bdd2e6;\n",
       "                      width: 0%;\">\n",
       "                    <style type=\"text/css\" scoped=\"scoped\">\n",
       "                        @keyframes pb-fill-anim {\n",
       "                            0% { background-position: 0 0; }\n",
       "                            100% { background-position: 100px 0; }\n",
       "                        }\n",
       "                    </style>\n",
       "                    &nbsp;\n",
       "                  </div>\n",
       "                </div>"
      ],
      "text/plain": [
       "HtmlProgressBar cannot be displayed. Please use the TerminalProgressBar. It can be enabled with `nengo.rc.set('progress', 'progress_bar', 'nengo.utils.progress.TerminalProgressBar')`."
      ]
     },
     "metadata": {},
     "output_type": "display_data"
    },
    {
     "data": {
      "application/javascript": [
       "\n",
       "              (function () {\n",
       "                  var root = document.getElementById('9ad9e77f-1129-472a-83e5-c5eb7535a106');\n",
       "                  var text = root.getElementsByClassName('pb-text')[0];\n",
       "                  var fill = root.getElementsByClassName('pb-fill')[0];\n",
       "\n",
       "                  text.innerHTML = 'Simulation finished in 0:01:44.';\n",
       "                  \n",
       "            if (100.0 > 0.) {\n",
       "                fill.style.transition = 'width 0.1s linear';\n",
       "            } else {\n",
       "                fill.style.transition = 'none';\n",
       "            }\n",
       "\n",
       "            fill.style.width = '100.0%';\n",
       "            fill.style.animation = 'none';\n",
       "            fill.style.backgroundImage = 'none'\n",
       "        \n",
       "                  \n",
       "                fill.style.animation = 'none';\n",
       "                fill.style.backgroundImage = 'none';\n",
       "            \n",
       "              })();\n",
       "        "
      ],
      "text/plain": [
       "<IPython.core.display.Javascript object>"
      ]
     },
     "metadata": {},
     "output_type": "display_data"
    },
    {
     "name": "stdout",
     "output_type": "stream",
     "text": [
      "seed = 19\n",
      "backend = 'nengo_ocl'\n",
      "dt = 0.001\n",
      "neuron_type = 'default'\n",
      "n_neurons_scale = 1\n",
      "n_neurons_scale_combined = 0.25\n",
      "s_crosstalk = 0\n",
      "s_evidence = 20\n",
      "n_samples = 10000\n",
      "t_senso = 0\n",
      "vocab = <nengo_spa.vocabulary.Vocabulary object at 0x7f307a82bcd0>\n",
      "xp = <experiments.Xp1 object at 0x7f309bf42990>\n",
      "proc_feedback = 0.9\n",
      "proc_feedback_synapse = 0.005\n",
      "GW_feedback = 1\n",
      "GW_threshold = 0.5\n",
      "GW_scale = 20\n",
      "BG_thr = 0.1\n",
      "BG_bias = 0.5\n",
      "integrator_reset = False\n",
      "data = <data.Data object at 0x7f30f234d6d0>\n",
      "\t seed 20/20\n",
      "running run_seed20_dim96\n"
     ]
    },
    {
     "data": {
      "text/html": [
       "\n",
       "                <div id=\"13e07f7c-e09d-4c9d-bb96-7124e6540482\" style=\"\n",
       "                    width: 100%;\n",
       "                    border: 1px solid #cfcfcf;\n",
       "                    border-radius: 4px;\n",
       "                    text-align: center;\n",
       "                    position: relative;\">\n",
       "                  <div class=\"pb-text\" style=\"\n",
       "                      position: absolute;\n",
       "                      width: 100%;\">\n",
       "                    0%\n",
       "                  </div>\n",
       "                  <div class=\"pb-fill\" style=\"\n",
       "                      background-color: #bdd2e6;\n",
       "                      width: 0%;\">\n",
       "                    <style type=\"text/css\" scoped=\"scoped\">\n",
       "                        @keyframes pb-fill-anim {\n",
       "                            0% { background-position: 0 0; }\n",
       "                            100% { background-position: 100px 0; }\n",
       "                        }\n",
       "                    </style>\n",
       "                    &nbsp;\n",
       "                  </div>\n",
       "                </div>"
      ],
      "text/plain": [
       "HtmlProgressBar cannot be displayed. Please use the TerminalProgressBar. It can be enabled with `nengo.rc.set('progress', 'progress_bar', 'nengo.utils.progress.TerminalProgressBar')`."
      ]
     },
     "metadata": {},
     "output_type": "display_data"
    },
    {
     "data": {
      "application/javascript": [
       "\n",
       "              (function () {\n",
       "                  var root = document.getElementById('13e07f7c-e09d-4c9d-bb96-7124e6540482');\n",
       "                  var text = root.getElementsByClassName('pb-text')[0];\n",
       "                  var fill = root.getElementsByClassName('pb-fill')[0];\n",
       "\n",
       "                  text.innerHTML = 'Simulation finished in 0:01:43.';\n",
       "                  \n",
       "            if (100.0 > 0.) {\n",
       "                fill.style.transition = 'width 0.1s linear';\n",
       "            } else {\n",
       "                fill.style.transition = 'none';\n",
       "            }\n",
       "\n",
       "            fill.style.width = '100.0%';\n",
       "            fill.style.animation = 'none';\n",
       "            fill.style.backgroundImage = 'none'\n",
       "        \n",
       "                  \n",
       "                fill.style.animation = 'none';\n",
       "                fill.style.backgroundImage = 'none';\n",
       "            \n",
       "              })();\n",
       "        "
      ],
      "text/plain": [
       "<IPython.core.display.Javascript object>"
      ]
     },
     "metadata": {},
     "output_type": "display_data"
    },
    {
     "name": "stdout",
     "output_type": "stream",
     "text": [
      "seed = 20\n",
      "backend = 'nengo_ocl'\n",
      "dt = 0.001\n",
      "neuron_type = 'default'\n",
      "n_neurons_scale = 1\n",
      "n_neurons_scale_combined = 0.25\n",
      "s_crosstalk = 0\n",
      "s_evidence = 20\n",
      "n_samples = 10000\n",
      "t_senso = 0\n",
      "vocab = <nengo_spa.vocabulary.Vocabulary object at 0x7f309aff31d0>\n",
      "xp = <experiments.Xp1 object at 0x7f309ddb71d0>\n",
      "proc_feedback = 0.9\n",
      "proc_feedback_synapse = 0.005\n",
      "GW_feedback = 1\n",
      "GW_threshold = 0.5\n",
      "GW_scale = 20\n",
      "BG_thr = 0.1\n",
      "BG_bias = 0.5\n",
      "integrator_reset = False\n",
      "data = <data.Data object at 0x7f3098436bd0>\n",
      "error rate: 0.012499999999999956\n",
      "params: [7.]\n",
      "Simulating...\n",
      "\t seed 1/20\n",
      "\t seed 2/20\n",
      "\t seed 3/20\n",
      "\t seed 4/20\n",
      "\t seed 5/20\n",
      "\t seed 6/20\n",
      "\t seed 7/20\n",
      "\t seed 8/20\n",
      "\t seed 9/20\n",
      "\t seed 10/20\n",
      "\t seed 11/20\n",
      "running run_seed11_dim112\n"
     ]
    },
    {
     "data": {
      "text/html": [
       "\n",
       "                <div id=\"2b0214ff-c35d-451c-b5a3-b4c327dad69a\" style=\"\n",
       "                    width: 100%;\n",
       "                    border: 1px solid #cfcfcf;\n",
       "                    border-radius: 4px;\n",
       "                    text-align: center;\n",
       "                    position: relative;\">\n",
       "                  <div class=\"pb-text\" style=\"\n",
       "                      position: absolute;\n",
       "                      width: 100%;\">\n",
       "                    0%\n",
       "                  </div>\n",
       "                  <div class=\"pb-fill\" style=\"\n",
       "                      background-color: #bdd2e6;\n",
       "                      width: 0%;\">\n",
       "                    <style type=\"text/css\" scoped=\"scoped\">\n",
       "                        @keyframes pb-fill-anim {\n",
       "                            0% { background-position: 0 0; }\n",
       "                            100% { background-position: 100px 0; }\n",
       "                        }\n",
       "                    </style>\n",
       "                    &nbsp;\n",
       "                  </div>\n",
       "                </div>"
      ],
      "text/plain": [
       "HtmlProgressBar cannot be displayed. Please use the TerminalProgressBar. It can be enabled with `nengo.rc.set('progress', 'progress_bar', 'nengo.utils.progress.TerminalProgressBar')`."
      ]
     },
     "metadata": {},
     "output_type": "display_data"
    },
    {
     "data": {
      "application/javascript": [
       "\n",
       "              (function () {\n",
       "                  var root = document.getElementById('2b0214ff-c35d-451c-b5a3-b4c327dad69a');\n",
       "                  var text = root.getElementsByClassName('pb-text')[0];\n",
       "                  var fill = root.getElementsByClassName('pb-fill')[0];\n",
       "\n",
       "                  text.innerHTML = 'Simulation finished in 0:01:48.';\n",
       "                  \n",
       "            if (100.0 > 0.) {\n",
       "                fill.style.transition = 'width 0.1s linear';\n",
       "            } else {\n",
       "                fill.style.transition = 'none';\n",
       "            }\n",
       "\n",
       "            fill.style.width = '100.0%';\n",
       "            fill.style.animation = 'none';\n",
       "            fill.style.backgroundImage = 'none'\n",
       "        \n",
       "                  \n",
       "                fill.style.animation = 'none';\n",
       "                fill.style.backgroundImage = 'none';\n",
       "            \n",
       "              })();\n",
       "        "
      ],
      "text/plain": [
       "<IPython.core.display.Javascript object>"
      ]
     },
     "metadata": {},
     "output_type": "display_data"
    },
    {
     "name": "stdout",
     "output_type": "stream",
     "text": [
      "seed = 11\n",
      "backend = 'nengo_ocl'\n",
      "dt = 0.001\n",
      "neuron_type = 'default'\n",
      "n_neurons_scale = 1\n",
      "n_neurons_scale_combined = 0.25\n",
      "s_crosstalk = 0\n",
      "s_evidence = 20\n",
      "n_samples = 10000\n",
      "t_senso = 0\n",
      "vocab = <nengo_spa.vocabulary.Vocabulary object at 0x7f3099851d10>\n",
      "xp = <experiments.Xp1 object at 0x7f309b5f5910>\n",
      "proc_feedback = 0.9\n",
      "proc_feedback_synapse = 0.005\n",
      "GW_feedback = 1\n",
      "GW_threshold = 0.5\n",
      "GW_scale = 20\n",
      "BG_thr = 0.1\n",
      "BG_bias = 0.5\n",
      "integrator_reset = False\n",
      "data = <data.Data object at 0x7f309d99dbd0>\n",
      "\t seed 12/20\n",
      "running run_seed12_dim112\n"
     ]
    },
    {
     "data": {
      "text/html": [
       "\n",
       "                <div id=\"a00919c5-6192-4487-8f24-b135c3166a16\" style=\"\n",
       "                    width: 100%;\n",
       "                    border: 1px solid #cfcfcf;\n",
       "                    border-radius: 4px;\n",
       "                    text-align: center;\n",
       "                    position: relative;\">\n",
       "                  <div class=\"pb-text\" style=\"\n",
       "                      position: absolute;\n",
       "                      width: 100%;\">\n",
       "                    0%\n",
       "                  </div>\n",
       "                  <div class=\"pb-fill\" style=\"\n",
       "                      background-color: #bdd2e6;\n",
       "                      width: 0%;\">\n",
       "                    <style type=\"text/css\" scoped=\"scoped\">\n",
       "                        @keyframes pb-fill-anim {\n",
       "                            0% { background-position: 0 0; }\n",
       "                            100% { background-position: 100px 0; }\n",
       "                        }\n",
       "                    </style>\n",
       "                    &nbsp;\n",
       "                  </div>\n",
       "                </div>"
      ],
      "text/plain": [
       "HtmlProgressBar cannot be displayed. Please use the TerminalProgressBar. It can be enabled with `nengo.rc.set('progress', 'progress_bar', 'nengo.utils.progress.TerminalProgressBar')`."
      ]
     },
     "metadata": {},
     "output_type": "display_data"
    },
    {
     "data": {
      "application/javascript": [
       "\n",
       "              (function () {\n",
       "                  var root = document.getElementById('a00919c5-6192-4487-8f24-b135c3166a16');\n",
       "                  var text = root.getElementsByClassName('pb-text')[0];\n",
       "                  var fill = root.getElementsByClassName('pb-fill')[0];\n",
       "\n",
       "                  text.innerHTML = 'Simulation finished in 0:01:51.';\n",
       "                  \n",
       "            if (100.0 > 0.) {\n",
       "                fill.style.transition = 'width 0.1s linear';\n",
       "            } else {\n",
       "                fill.style.transition = 'none';\n",
       "            }\n",
       "\n",
       "            fill.style.width = '100.0%';\n",
       "            fill.style.animation = 'none';\n",
       "            fill.style.backgroundImage = 'none'\n",
       "        \n",
       "                  \n",
       "                fill.style.animation = 'none';\n",
       "                fill.style.backgroundImage = 'none';\n",
       "            \n",
       "              })();\n",
       "        "
      ],
      "text/plain": [
       "<IPython.core.display.Javascript object>"
      ]
     },
     "metadata": {},
     "output_type": "display_data"
    },
    {
     "name": "stdout",
     "output_type": "stream",
     "text": [
      "seed = 12\n",
      "backend = 'nengo_ocl'\n",
      "dt = 0.001\n",
      "neuron_type = 'default'\n",
      "n_neurons_scale = 1\n",
      "n_neurons_scale_combined = 0.25\n",
      "s_crosstalk = 0\n",
      "s_evidence = 20\n",
      "n_samples = 10000\n",
      "t_senso = 0\n",
      "vocab = <nengo_spa.vocabulary.Vocabulary object at 0x7f309d0ef790>\n",
      "xp = <experiments.Xp1 object at 0x7f309b4d0fd0>\n",
      "proc_feedback = 0.9\n",
      "proc_feedback_synapse = 0.005\n",
      "GW_feedback = 1\n",
      "GW_threshold = 0.5\n",
      "GW_scale = 20\n",
      "BG_thr = 0.1\n",
      "BG_bias = 0.5\n",
      "integrator_reset = False\n",
      "data = <data.Data object at 0x7f309c41fd50>\n",
      "\t seed 13/20\n",
      "running run_seed13_dim112\n"
     ]
    },
    {
     "data": {
      "text/html": [
       "\n",
       "                <div id=\"f8fb1c16-cda7-480f-9430-f08dea122c06\" style=\"\n",
       "                    width: 100%;\n",
       "                    border: 1px solid #cfcfcf;\n",
       "                    border-radius: 4px;\n",
       "                    text-align: center;\n",
       "                    position: relative;\">\n",
       "                  <div class=\"pb-text\" style=\"\n",
       "                      position: absolute;\n",
       "                      width: 100%;\">\n",
       "                    0%\n",
       "                  </div>\n",
       "                  <div class=\"pb-fill\" style=\"\n",
       "                      background-color: #bdd2e6;\n",
       "                      width: 0%;\">\n",
       "                    <style type=\"text/css\" scoped=\"scoped\">\n",
       "                        @keyframes pb-fill-anim {\n",
       "                            0% { background-position: 0 0; }\n",
       "                            100% { background-position: 100px 0; }\n",
       "                        }\n",
       "                    </style>\n",
       "                    &nbsp;\n",
       "                  </div>\n",
       "                </div>"
      ],
      "text/plain": [
       "HtmlProgressBar cannot be displayed. Please use the TerminalProgressBar. It can be enabled with `nengo.rc.set('progress', 'progress_bar', 'nengo.utils.progress.TerminalProgressBar')`."
      ]
     },
     "metadata": {},
     "output_type": "display_data"
    },
    {
     "data": {
      "application/javascript": [
       "\n",
       "              (function () {\n",
       "                  var root = document.getElementById('f8fb1c16-cda7-480f-9430-f08dea122c06');\n",
       "                  var text = root.getElementsByClassName('pb-text')[0];\n",
       "                  var fill = root.getElementsByClassName('pb-fill')[0];\n",
       "\n",
       "                  text.innerHTML = 'Simulation finished in 0:01:47.';\n",
       "                  \n",
       "            if (100.0 > 0.) {\n",
       "                fill.style.transition = 'width 0.1s linear';\n",
       "            } else {\n",
       "                fill.style.transition = 'none';\n",
       "            }\n",
       "\n",
       "            fill.style.width = '100.0%';\n",
       "            fill.style.animation = 'none';\n",
       "            fill.style.backgroundImage = 'none'\n",
       "        \n",
       "                  \n",
       "                fill.style.animation = 'none';\n",
       "                fill.style.backgroundImage = 'none';\n",
       "            \n",
       "              })();\n",
       "        "
      ],
      "text/plain": [
       "<IPython.core.display.Javascript object>"
      ]
     },
     "metadata": {},
     "output_type": "display_data"
    },
    {
     "name": "stdout",
     "output_type": "stream",
     "text": [
      "seed = 13\n",
      "backend = 'nengo_ocl'\n",
      "dt = 0.001\n",
      "neuron_type = 'default'\n",
      "n_neurons_scale = 1\n",
      "n_neurons_scale_combined = 0.25\n",
      "s_crosstalk = 0\n",
      "s_evidence = 20\n",
      "n_samples = 10000\n",
      "t_senso = 0\n",
      "vocab = <nengo_spa.vocabulary.Vocabulary object at 0x7f309ba8a290>\n",
      "xp = <experiments.Xp1 object at 0x7f30987cce50>\n",
      "proc_feedback = 0.9\n",
      "proc_feedback_synapse = 0.005\n",
      "GW_feedback = 1\n",
      "GW_threshold = 0.5\n",
      "GW_scale = 20\n",
      "BG_thr = 0.1\n",
      "BG_bias = 0.5\n",
      "integrator_reset = False\n",
      "data = <data.Data object at 0x7f309d3ad510>\n",
      "\t seed 14/20\n",
      "running run_seed14_dim112\n"
     ]
    },
    {
     "data": {
      "text/html": [
       "\n",
       "                <div id=\"97d441da-bbd9-4f50-a17f-cb538ff395ff\" style=\"\n",
       "                    width: 100%;\n",
       "                    border: 1px solid #cfcfcf;\n",
       "                    border-radius: 4px;\n",
       "                    text-align: center;\n",
       "                    position: relative;\">\n",
       "                  <div class=\"pb-text\" style=\"\n",
       "                      position: absolute;\n",
       "                      width: 100%;\">\n",
       "                    0%\n",
       "                  </div>\n",
       "                  <div class=\"pb-fill\" style=\"\n",
       "                      background-color: #bdd2e6;\n",
       "                      width: 0%;\">\n",
       "                    <style type=\"text/css\" scoped=\"scoped\">\n",
       "                        @keyframes pb-fill-anim {\n",
       "                            0% { background-position: 0 0; }\n",
       "                            100% { background-position: 100px 0; }\n",
       "                        }\n",
       "                    </style>\n",
       "                    &nbsp;\n",
       "                  </div>\n",
       "                </div>"
      ],
      "text/plain": [
       "HtmlProgressBar cannot be displayed. Please use the TerminalProgressBar. It can be enabled with `nengo.rc.set('progress', 'progress_bar', 'nengo.utils.progress.TerminalProgressBar')`."
      ]
     },
     "metadata": {},
     "output_type": "display_data"
    },
    {
     "data": {
      "application/javascript": [
       "\n",
       "              (function () {\n",
       "                  var root = document.getElementById('97d441da-bbd9-4f50-a17f-cb538ff395ff');\n",
       "                  var text = root.getElementsByClassName('pb-text')[0];\n",
       "                  var fill = root.getElementsByClassName('pb-fill')[0];\n",
       "\n",
       "                  text.innerHTML = 'Simulation finished in 0:01:50.';\n",
       "                  \n",
       "            if (100.0 > 0.) {\n",
       "                fill.style.transition = 'width 0.1s linear';\n",
       "            } else {\n",
       "                fill.style.transition = 'none';\n",
       "            }\n",
       "\n",
       "            fill.style.width = '100.0%';\n",
       "            fill.style.animation = 'none';\n",
       "            fill.style.backgroundImage = 'none'\n",
       "        \n",
       "                  \n",
       "                fill.style.animation = 'none';\n",
       "                fill.style.backgroundImage = 'none';\n",
       "            \n",
       "              })();\n",
       "        "
      ],
      "text/plain": [
       "<IPython.core.display.Javascript object>"
      ]
     },
     "metadata": {},
     "output_type": "display_data"
    },
    {
     "name": "stdout",
     "output_type": "stream",
     "text": [
      "seed = 14\n",
      "backend = 'nengo_ocl'\n",
      "dt = 0.001\n",
      "neuron_type = 'default'\n",
      "n_neurons_scale = 1\n",
      "n_neurons_scale_combined = 0.25\n",
      "s_crosstalk = 0\n",
      "s_evidence = 20\n",
      "n_samples = 10000\n",
      "t_senso = 0\n",
      "vocab = <nengo_spa.vocabulary.Vocabulary object at 0x7f309d39a210>\n",
      "xp = <experiments.Xp1 object at 0x7f309d39a5d0>\n",
      "proc_feedback = 0.9\n",
      "proc_feedback_synapse = 0.005\n",
      "GW_feedback = 1\n",
      "GW_threshold = 0.5\n",
      "GW_scale = 20\n",
      "BG_thr = 0.1\n",
      "BG_bias = 0.5\n",
      "integrator_reset = False\n",
      "data = <data.Data object at 0x7f30976cb310>\n",
      "\t seed 15/20\n",
      "running run_seed15_dim112\n"
     ]
    },
    {
     "data": {
      "text/html": [
       "\n",
       "                <div id=\"d7bedd96-a647-4efd-ba6e-df68ad5f487d\" style=\"\n",
       "                    width: 100%;\n",
       "                    border: 1px solid #cfcfcf;\n",
       "                    border-radius: 4px;\n",
       "                    text-align: center;\n",
       "                    position: relative;\">\n",
       "                  <div class=\"pb-text\" style=\"\n",
       "                      position: absolute;\n",
       "                      width: 100%;\">\n",
       "                    0%\n",
       "                  </div>\n",
       "                  <div class=\"pb-fill\" style=\"\n",
       "                      background-color: #bdd2e6;\n",
       "                      width: 0%;\">\n",
       "                    <style type=\"text/css\" scoped=\"scoped\">\n",
       "                        @keyframes pb-fill-anim {\n",
       "                            0% { background-position: 0 0; }\n",
       "                            100% { background-position: 100px 0; }\n",
       "                        }\n",
       "                    </style>\n",
       "                    &nbsp;\n",
       "                  </div>\n",
       "                </div>"
      ],
      "text/plain": [
       "HtmlProgressBar cannot be displayed. Please use the TerminalProgressBar. It can be enabled with `nengo.rc.set('progress', 'progress_bar', 'nengo.utils.progress.TerminalProgressBar')`."
      ]
     },
     "metadata": {},
     "output_type": "display_data"
    },
    {
     "data": {
      "application/javascript": [
       "\n",
       "              (function () {\n",
       "                  var root = document.getElementById('d7bedd96-a647-4efd-ba6e-df68ad5f487d');\n",
       "                  var text = root.getElementsByClassName('pb-text')[0];\n",
       "                  var fill = root.getElementsByClassName('pb-fill')[0];\n",
       "\n",
       "                  text.innerHTML = 'Simulation finished in 0:01:54.';\n",
       "                  \n",
       "            if (100.0 > 0.) {\n",
       "                fill.style.transition = 'width 0.1s linear';\n",
       "            } else {\n",
       "                fill.style.transition = 'none';\n",
       "            }\n",
       "\n",
       "            fill.style.width = '100.0%';\n",
       "            fill.style.animation = 'none';\n",
       "            fill.style.backgroundImage = 'none'\n",
       "        \n",
       "                  \n",
       "                fill.style.animation = 'none';\n",
       "                fill.style.backgroundImage = 'none';\n",
       "            \n",
       "              })();\n",
       "        "
      ],
      "text/plain": [
       "<IPython.core.display.Javascript object>"
      ]
     },
     "metadata": {},
     "output_type": "display_data"
    },
    {
     "name": "stdout",
     "output_type": "stream",
     "text": [
      "seed = 15\n",
      "backend = 'nengo_ocl'\n",
      "dt = 0.001\n",
      "neuron_type = 'default'\n",
      "n_neurons_scale = 1\n",
      "n_neurons_scale_combined = 0.25\n",
      "s_crosstalk = 0\n",
      "s_evidence = 20\n",
      "n_samples = 10000\n",
      "t_senso = 0\n",
      "vocab = <nengo_spa.vocabulary.Vocabulary object at 0x7f309a7f89d0>\n",
      "xp = <experiments.Xp1 object at 0x7f309a7f8a90>\n",
      "proc_feedback = 0.9\n",
      "proc_feedback_synapse = 0.005\n",
      "GW_feedback = 1\n",
      "GW_threshold = 0.5\n",
      "GW_scale = 20\n",
      "BG_thr = 0.1\n",
      "BG_bias = 0.5\n",
      "integrator_reset = False\n",
      "data = <data.Data object at 0x7f309aae7110>\n",
      "\t seed 16/20\n",
      "running run_seed16_dim112\n"
     ]
    },
    {
     "data": {
      "text/html": [
       "\n",
       "                <div id=\"f467fa6d-229e-4c08-bfe7-58cff0d57242\" style=\"\n",
       "                    width: 100%;\n",
       "                    border: 1px solid #cfcfcf;\n",
       "                    border-radius: 4px;\n",
       "                    text-align: center;\n",
       "                    position: relative;\">\n",
       "                  <div class=\"pb-text\" style=\"\n",
       "                      position: absolute;\n",
       "                      width: 100%;\">\n",
       "                    0%\n",
       "                  </div>\n",
       "                  <div class=\"pb-fill\" style=\"\n",
       "                      background-color: #bdd2e6;\n",
       "                      width: 0%;\">\n",
       "                    <style type=\"text/css\" scoped=\"scoped\">\n",
       "                        @keyframes pb-fill-anim {\n",
       "                            0% { background-position: 0 0; }\n",
       "                            100% { background-position: 100px 0; }\n",
       "                        }\n",
       "                    </style>\n",
       "                    &nbsp;\n",
       "                  </div>\n",
       "                </div>"
      ],
      "text/plain": [
       "HtmlProgressBar cannot be displayed. Please use the TerminalProgressBar. It can be enabled with `nengo.rc.set('progress', 'progress_bar', 'nengo.utils.progress.TerminalProgressBar')`."
      ]
     },
     "metadata": {},
     "output_type": "display_data"
    },
    {
     "data": {
      "application/javascript": [
       "\n",
       "              (function () {\n",
       "                  var root = document.getElementById('f467fa6d-229e-4c08-bfe7-58cff0d57242');\n",
       "                  var text = root.getElementsByClassName('pb-text')[0];\n",
       "                  var fill = root.getElementsByClassName('pb-fill')[0];\n",
       "\n",
       "                  text.innerHTML = 'Simulation finished in 0:01:54.';\n",
       "                  \n",
       "            if (100.0 > 0.) {\n",
       "                fill.style.transition = 'width 0.1s linear';\n",
       "            } else {\n",
       "                fill.style.transition = 'none';\n",
       "            }\n",
       "\n",
       "            fill.style.width = '100.0%';\n",
       "            fill.style.animation = 'none';\n",
       "            fill.style.backgroundImage = 'none'\n",
       "        \n",
       "                  \n",
       "                fill.style.animation = 'none';\n",
       "                fill.style.backgroundImage = 'none';\n",
       "            \n",
       "              })();\n",
       "        "
      ],
      "text/plain": [
       "<IPython.core.display.Javascript object>"
      ]
     },
     "metadata": {},
     "output_type": "display_data"
    },
    {
     "name": "stdout",
     "output_type": "stream",
     "text": [
      "seed = 16\n",
      "backend = 'nengo_ocl'\n",
      "dt = 0.001\n",
      "neuron_type = 'default'\n",
      "n_neurons_scale = 1\n",
      "n_neurons_scale_combined = 0.25\n",
      "s_crosstalk = 0\n",
      "s_evidence = 20\n",
      "n_samples = 10000\n",
      "t_senso = 0\n",
      "vocab = <nengo_spa.vocabulary.Vocabulary object at 0x7f309aade990>\n",
      "xp = <experiments.Xp1 object at 0x7f309a7f8b90>\n",
      "proc_feedback = 0.9\n",
      "proc_feedback_synapse = 0.005\n",
      "GW_feedback = 1\n",
      "GW_threshold = 0.5\n",
      "GW_scale = 20\n",
      "BG_thr = 0.1\n",
      "BG_bias = 0.5\n",
      "integrator_reset = False\n",
      "data = <data.Data object at 0x7f30975e0550>\n",
      "\t seed 17/20\n",
      "running run_seed17_dim112\n"
     ]
    },
    {
     "data": {
      "text/html": [
       "\n",
       "                <div id=\"cada0335-03ef-472a-9af2-f935efede294\" style=\"\n",
       "                    width: 100%;\n",
       "                    border: 1px solid #cfcfcf;\n",
       "                    border-radius: 4px;\n",
       "                    text-align: center;\n",
       "                    position: relative;\">\n",
       "                  <div class=\"pb-text\" style=\"\n",
       "                      position: absolute;\n",
       "                      width: 100%;\">\n",
       "                    0%\n",
       "                  </div>\n",
       "                  <div class=\"pb-fill\" style=\"\n",
       "                      background-color: #bdd2e6;\n",
       "                      width: 0%;\">\n",
       "                    <style type=\"text/css\" scoped=\"scoped\">\n",
       "                        @keyframes pb-fill-anim {\n",
       "                            0% { background-position: 0 0; }\n",
       "                            100% { background-position: 100px 0; }\n",
       "                        }\n",
       "                    </style>\n",
       "                    &nbsp;\n",
       "                  </div>\n",
       "                </div>"
      ],
      "text/plain": [
       "HtmlProgressBar cannot be displayed. Please use the TerminalProgressBar. It can be enabled with `nengo.rc.set('progress', 'progress_bar', 'nengo.utils.progress.TerminalProgressBar')`."
      ]
     },
     "metadata": {},
     "output_type": "display_data"
    },
    {
     "data": {
      "application/javascript": [
       "\n",
       "              (function () {\n",
       "                  var root = document.getElementById('cada0335-03ef-472a-9af2-f935efede294');\n",
       "                  var text = root.getElementsByClassName('pb-text')[0];\n",
       "                  var fill = root.getElementsByClassName('pb-fill')[0];\n",
       "\n",
       "                  text.innerHTML = 'Simulation finished in 0:01:56.';\n",
       "                  \n",
       "            if (100.0 > 0.) {\n",
       "                fill.style.transition = 'width 0.1s linear';\n",
       "            } else {\n",
       "                fill.style.transition = 'none';\n",
       "            }\n",
       "\n",
       "            fill.style.width = '100.0%';\n",
       "            fill.style.animation = 'none';\n",
       "            fill.style.backgroundImage = 'none'\n",
       "        \n",
       "                  \n",
       "                fill.style.animation = 'none';\n",
       "                fill.style.backgroundImage = 'none';\n",
       "            \n",
       "              })();\n",
       "        "
      ],
      "text/plain": [
       "<IPython.core.display.Javascript object>"
      ]
     },
     "metadata": {},
     "output_type": "display_data"
    },
    {
     "name": "stdout",
     "output_type": "stream",
     "text": [
      "seed = 17\n",
      "backend = 'nengo_ocl'\n",
      "dt = 0.001\n",
      "neuron_type = 'default'\n",
      "n_neurons_scale = 1\n",
      "n_neurons_scale_combined = 0.25\n",
      "s_crosstalk = 0\n",
      "s_evidence = 20\n",
      "n_samples = 10000\n",
      "t_senso = 0\n",
      "vocab = <nengo_spa.vocabulary.Vocabulary object at 0x7f309944a4d0>\n",
      "xp = <experiments.Xp1 object at 0x7f309c92a150>\n",
      "proc_feedback = 0.9\n",
      "proc_feedback_synapse = 0.005\n",
      "GW_feedback = 1\n",
      "GW_threshold = 0.5\n",
      "GW_scale = 20\n",
      "BG_thr = 0.1\n",
      "BG_bias = 0.5\n",
      "integrator_reset = False\n",
      "data = <data.Data object at 0x7f30984a1cd0>\n",
      "\t seed 18/20\n",
      "running run_seed18_dim112\n"
     ]
    },
    {
     "name": "stderr",
     "output_type": "stream",
     "text": [
      "/home/ubuntu/anaconda3/envs/CTN/lib/python3.7/site-packages/nengo_spa/vocabulary.py:173: UserWarning: Could not create a semantic pointer with max_similarity=0.10 (D=112, M=20, similarity=0.10)\n",
      "  len(self._key2idx), best_sim))\n"
     ]
    },
    {
     "data": {
      "text/html": [
       "\n",
       "                <div id=\"68394d4b-8421-41ff-b7cf-d74746a6db37\" style=\"\n",
       "                    width: 100%;\n",
       "                    border: 1px solid #cfcfcf;\n",
       "                    border-radius: 4px;\n",
       "                    text-align: center;\n",
       "                    position: relative;\">\n",
       "                  <div class=\"pb-text\" style=\"\n",
       "                      position: absolute;\n",
       "                      width: 100%;\">\n",
       "                    0%\n",
       "                  </div>\n",
       "                  <div class=\"pb-fill\" style=\"\n",
       "                      background-color: #bdd2e6;\n",
       "                      width: 0%;\">\n",
       "                    <style type=\"text/css\" scoped=\"scoped\">\n",
       "                        @keyframes pb-fill-anim {\n",
       "                            0% { background-position: 0 0; }\n",
       "                            100% { background-position: 100px 0; }\n",
       "                        }\n",
       "                    </style>\n",
       "                    &nbsp;\n",
       "                  </div>\n",
       "                </div>"
      ],
      "text/plain": [
       "HtmlProgressBar cannot be displayed. Please use the TerminalProgressBar. It can be enabled with `nengo.rc.set('progress', 'progress_bar', 'nengo.utils.progress.TerminalProgressBar')`."
      ]
     },
     "metadata": {},
     "output_type": "display_data"
    },
    {
     "data": {
      "application/javascript": [
       "\n",
       "              (function () {\n",
       "                  var root = document.getElementById('68394d4b-8421-41ff-b7cf-d74746a6db37');\n",
       "                  var text = root.getElementsByClassName('pb-text')[0];\n",
       "                  var fill = root.getElementsByClassName('pb-fill')[0];\n",
       "\n",
       "                  text.innerHTML = 'Simulation finished in 0:01:52.';\n",
       "                  \n",
       "            if (100.0 > 0.) {\n",
       "                fill.style.transition = 'width 0.1s linear';\n",
       "            } else {\n",
       "                fill.style.transition = 'none';\n",
       "            }\n",
       "\n",
       "            fill.style.width = '100.0%';\n",
       "            fill.style.animation = 'none';\n",
       "            fill.style.backgroundImage = 'none'\n",
       "        \n",
       "                  \n",
       "                fill.style.animation = 'none';\n",
       "                fill.style.backgroundImage = 'none';\n",
       "            \n",
       "              })();\n",
       "        "
      ],
      "text/plain": [
       "<IPython.core.display.Javascript object>"
      ]
     },
     "metadata": {},
     "output_type": "display_data"
    },
    {
     "name": "stdout",
     "output_type": "stream",
     "text": [
      "seed = 18\n",
      "backend = 'nengo_ocl'\n",
      "dt = 0.001\n",
      "neuron_type = 'default'\n",
      "n_neurons_scale = 1\n",
      "n_neurons_scale_combined = 0.25\n",
      "s_crosstalk = 0\n",
      "s_evidence = 20\n",
      "n_samples = 10000\n",
      "t_senso = 0\n",
      "vocab = <nengo_spa.vocabulary.Vocabulary object at 0x7f30977f62d0>\n",
      "xp = <experiments.Xp1 object at 0x7f309aabafd0>\n",
      "proc_feedback = 0.9\n",
      "proc_feedback_synapse = 0.005\n",
      "GW_feedback = 1\n",
      "GW_threshold = 0.5\n",
      "GW_scale = 20\n",
      "BG_thr = 0.1\n",
      "BG_bias = 0.5\n",
      "integrator_reset = False\n",
      "data = <data.Data object at 0x7f309a6ef650>\n",
      "\t seed 19/20\n",
      "running run_seed19_dim112\n"
     ]
    },
    {
     "data": {
      "text/html": [
       "\n",
       "                <div id=\"7f152d55-d9af-4cf4-9e54-33a0c18718d7\" style=\"\n",
       "                    width: 100%;\n",
       "                    border: 1px solid #cfcfcf;\n",
       "                    border-radius: 4px;\n",
       "                    text-align: center;\n",
       "                    position: relative;\">\n",
       "                  <div class=\"pb-text\" style=\"\n",
       "                      position: absolute;\n",
       "                      width: 100%;\">\n",
       "                    0%\n",
       "                  </div>\n",
       "                  <div class=\"pb-fill\" style=\"\n",
       "                      background-color: #bdd2e6;\n",
       "                      width: 0%;\">\n",
       "                    <style type=\"text/css\" scoped=\"scoped\">\n",
       "                        @keyframes pb-fill-anim {\n",
       "                            0% { background-position: 0 0; }\n",
       "                            100% { background-position: 100px 0; }\n",
       "                        }\n",
       "                    </style>\n",
       "                    &nbsp;\n",
       "                  </div>\n",
       "                </div>"
      ],
      "text/plain": [
       "HtmlProgressBar cannot be displayed. Please use the TerminalProgressBar. It can be enabled with `nengo.rc.set('progress', 'progress_bar', 'nengo.utils.progress.TerminalProgressBar')`."
      ]
     },
     "metadata": {},
     "output_type": "display_data"
    },
    {
     "data": {
      "application/javascript": [
       "\n",
       "              (function () {\n",
       "                  var root = document.getElementById('7f152d55-d9af-4cf4-9e54-33a0c18718d7');\n",
       "                  var text = root.getElementsByClassName('pb-text')[0];\n",
       "                  var fill = root.getElementsByClassName('pb-fill')[0];\n",
       "\n",
       "                  text.innerHTML = 'Simulation finished in 0:01:50.';\n",
       "                  \n",
       "            if (100.0 > 0.) {\n",
       "                fill.style.transition = 'width 0.1s linear';\n",
       "            } else {\n",
       "                fill.style.transition = 'none';\n",
       "            }\n",
       "\n",
       "            fill.style.width = '100.0%';\n",
       "            fill.style.animation = 'none';\n",
       "            fill.style.backgroundImage = 'none'\n",
       "        \n",
       "                  \n",
       "                fill.style.animation = 'none';\n",
       "                fill.style.backgroundImage = 'none';\n",
       "            \n",
       "              })();\n",
       "        "
      ],
      "text/plain": [
       "<IPython.core.display.Javascript object>"
      ]
     },
     "metadata": {},
     "output_type": "display_data"
    },
    {
     "name": "stdout",
     "output_type": "stream",
     "text": [
      "seed = 19\n",
      "backend = 'nengo_ocl'\n",
      "dt = 0.001\n",
      "neuron_type = 'default'\n",
      "n_neurons_scale = 1\n",
      "n_neurons_scale_combined = 0.25\n",
      "s_crosstalk = 0\n",
      "s_evidence = 20\n",
      "n_samples = 10000\n",
      "t_senso = 0\n",
      "vocab = <nengo_spa.vocabulary.Vocabulary object at 0x7f3098c51d90>\n",
      "xp = <experiments.Xp1 object at 0x7f309c3b4c50>\n",
      "proc_feedback = 0.9\n",
      "proc_feedback_synapse = 0.005\n",
      "GW_feedback = 1\n",
      "GW_threshold = 0.5\n",
      "GW_scale = 20\n",
      "BG_thr = 0.1\n",
      "BG_bias = 0.5\n",
      "integrator_reset = False\n",
      "data = <data.Data object at 0x7f309c7551d0>\n",
      "\t seed 20/20\n",
      "running run_seed20_dim112\n"
     ]
    },
    {
     "data": {
      "text/html": [
       "\n",
       "                <div id=\"3779abc6-2954-4aef-9daf-81f6b9c04255\" style=\"\n",
       "                    width: 100%;\n",
       "                    border: 1px solid #cfcfcf;\n",
       "                    border-radius: 4px;\n",
       "                    text-align: center;\n",
       "                    position: relative;\">\n",
       "                  <div class=\"pb-text\" style=\"\n",
       "                      position: absolute;\n",
       "                      width: 100%;\">\n",
       "                    0%\n",
       "                  </div>\n",
       "                  <div class=\"pb-fill\" style=\"\n",
       "                      background-color: #bdd2e6;\n",
       "                      width: 0%;\">\n",
       "                    <style type=\"text/css\" scoped=\"scoped\">\n",
       "                        @keyframes pb-fill-anim {\n",
       "                            0% { background-position: 0 0; }\n",
       "                            100% { background-position: 100px 0; }\n",
       "                        }\n",
       "                    </style>\n",
       "                    &nbsp;\n",
       "                  </div>\n",
       "                </div>"
      ],
      "text/plain": [
       "HtmlProgressBar cannot be displayed. Please use the TerminalProgressBar. It can be enabled with `nengo.rc.set('progress', 'progress_bar', 'nengo.utils.progress.TerminalProgressBar')`."
      ]
     },
     "metadata": {},
     "output_type": "display_data"
    },
    {
     "data": {
      "application/javascript": [
       "\n",
       "              (function () {\n",
       "                  var root = document.getElementById('3779abc6-2954-4aef-9daf-81f6b9c04255');\n",
       "                  var text = root.getElementsByClassName('pb-text')[0];\n",
       "                  var fill = root.getElementsByClassName('pb-fill')[0];\n",
       "\n",
       "                  text.innerHTML = 'Simulation finished in 0:01:49.';\n",
       "                  \n",
       "            if (100.0 > 0.) {\n",
       "                fill.style.transition = 'width 0.1s linear';\n",
       "            } else {\n",
       "                fill.style.transition = 'none';\n",
       "            }\n",
       "\n",
       "            fill.style.width = '100.0%';\n",
       "            fill.style.animation = 'none';\n",
       "            fill.style.backgroundImage = 'none'\n",
       "        \n",
       "                  \n",
       "                fill.style.animation = 'none';\n",
       "                fill.style.backgroundImage = 'none';\n",
       "            \n",
       "              })();\n",
       "        "
      ],
      "text/plain": [
       "<IPython.core.display.Javascript object>"
      ]
     },
     "metadata": {},
     "output_type": "display_data"
    },
    {
     "name": "stdout",
     "output_type": "stream",
     "text": [
      "seed = 20\n",
      "backend = 'nengo_ocl'\n",
      "dt = 0.001\n",
      "neuron_type = 'default'\n",
      "n_neurons_scale = 1\n",
      "n_neurons_scale_combined = 0.25\n",
      "s_crosstalk = 0\n",
      "s_evidence = 20\n",
      "n_samples = 10000\n",
      "t_senso = 0\n",
      "vocab = <nengo_spa.vocabulary.Vocabulary object at 0x7f3099d16390>\n",
      "xp = <experiments.Xp1 object at 0x7f309a6f9390>\n",
      "proc_feedback = 0.9\n",
      "proc_feedback_synapse = 0.005\n",
      "GW_feedback = 1\n",
      "GW_threshold = 0.5\n",
      "GW_scale = 20\n",
      "BG_thr = 0.1\n",
      "BG_bias = 0.5\n",
      "integrator_reset = False\n",
      "data = <data.Data object at 0x7f3097329a10>\n",
      "error rate: 0.03125\n",
      "params: [8.]\n",
      "Simulating...\n",
      "\t seed 1/20\n",
      "\t seed 2/20\n",
      "\t seed 3/20\n",
      "\t seed 4/20\n",
      "\t seed 5/20\n",
      "\t seed 6/20\n",
      "\t seed 7/20\n",
      "\t seed 8/20\n",
      "\t seed 9/20\n",
      "\t seed 10/20\n",
      "\t seed 11/20\n",
      "running run_seed11_dim128\n"
     ]
    },
    {
     "data": {
      "text/html": [
       "\n",
       "                <div id=\"2334c8e1-e3d2-4603-a7cf-59d293ad4de4\" style=\"\n",
       "                    width: 100%;\n",
       "                    border: 1px solid #cfcfcf;\n",
       "                    border-radius: 4px;\n",
       "                    text-align: center;\n",
       "                    position: relative;\">\n",
       "                  <div class=\"pb-text\" style=\"\n",
       "                      position: absolute;\n",
       "                      width: 100%;\">\n",
       "                    0%\n",
       "                  </div>\n",
       "                  <div class=\"pb-fill\" style=\"\n",
       "                      background-color: #bdd2e6;\n",
       "                      width: 0%;\">\n",
       "                    <style type=\"text/css\" scoped=\"scoped\">\n",
       "                        @keyframes pb-fill-anim {\n",
       "                            0% { background-position: 0 0; }\n",
       "                            100% { background-position: 100px 0; }\n",
       "                        }\n",
       "                    </style>\n",
       "                    &nbsp;\n",
       "                  </div>\n",
       "                </div>"
      ],
      "text/plain": [
       "HtmlProgressBar cannot be displayed. Please use the TerminalProgressBar. It can be enabled with `nengo.rc.set('progress', 'progress_bar', 'nengo.utils.progress.TerminalProgressBar')`."
      ]
     },
     "metadata": {},
     "output_type": "display_data"
    },
    {
     "data": {
      "application/javascript": [
       "\n",
       "              (function () {\n",
       "                  var root = document.getElementById('2334c8e1-e3d2-4603-a7cf-59d293ad4de4');\n",
       "                  var text = root.getElementsByClassName('pb-text')[0];\n",
       "                  var fill = root.getElementsByClassName('pb-fill')[0];\n",
       "\n",
       "                  text.innerHTML = 'Simulation finished in 0:01:53.';\n",
       "                  \n",
       "            if (100.0 > 0.) {\n",
       "                fill.style.transition = 'width 0.1s linear';\n",
       "            } else {\n",
       "                fill.style.transition = 'none';\n",
       "            }\n",
       "\n",
       "            fill.style.width = '100.0%';\n",
       "            fill.style.animation = 'none';\n",
       "            fill.style.backgroundImage = 'none'\n",
       "        \n",
       "                  \n",
       "                fill.style.animation = 'none';\n",
       "                fill.style.backgroundImage = 'none';\n",
       "            \n",
       "              })();\n",
       "        "
      ],
      "text/plain": [
       "<IPython.core.display.Javascript object>"
      ]
     },
     "metadata": {},
     "output_type": "display_data"
    },
    {
     "name": "stdout",
     "output_type": "stream",
     "text": [
      "seed = 11\n",
      "backend = 'nengo_ocl'\n",
      "dt = 0.001\n",
      "neuron_type = 'default'\n",
      "n_neurons_scale = 1\n",
      "n_neurons_scale_combined = 0.25\n",
      "s_crosstalk = 0\n",
      "s_evidence = 20\n",
      "n_samples = 10000\n",
      "t_senso = 0\n",
      "vocab = <nengo_spa.vocabulary.Vocabulary object at 0x7f309ae58990>\n",
      "xp = <experiments.Xp1 object at 0x7f30f2a44e90>\n",
      "proc_feedback = 0.9\n",
      "proc_feedback_synapse = 0.005\n",
      "GW_feedback = 1\n",
      "GW_threshold = 0.5\n",
      "GW_scale = 20\n",
      "BG_thr = 0.1\n",
      "BG_bias = 0.5\n",
      "integrator_reset = False\n",
      "data = <data.Data object at 0x7f309c7e4290>\n",
      "\t seed 12/20\n",
      "running run_seed12_dim128\n"
     ]
    },
    {
     "data": {
      "text/html": [
       "\n",
       "                <div id=\"3ad0d3da-cf71-45cb-9638-99776815c443\" style=\"\n",
       "                    width: 100%;\n",
       "                    border: 1px solid #cfcfcf;\n",
       "                    border-radius: 4px;\n",
       "                    text-align: center;\n",
       "                    position: relative;\">\n",
       "                  <div class=\"pb-text\" style=\"\n",
       "                      position: absolute;\n",
       "                      width: 100%;\">\n",
       "                    0%\n",
       "                  </div>\n",
       "                  <div class=\"pb-fill\" style=\"\n",
       "                      background-color: #bdd2e6;\n",
       "                      width: 0%;\">\n",
       "                    <style type=\"text/css\" scoped=\"scoped\">\n",
       "                        @keyframes pb-fill-anim {\n",
       "                            0% { background-position: 0 0; }\n",
       "                            100% { background-position: 100px 0; }\n",
       "                        }\n",
       "                    </style>\n",
       "                    &nbsp;\n",
       "                  </div>\n",
       "                </div>"
      ],
      "text/plain": [
       "HtmlProgressBar cannot be displayed. Please use the TerminalProgressBar. It can be enabled with `nengo.rc.set('progress', 'progress_bar', 'nengo.utils.progress.TerminalProgressBar')`."
      ]
     },
     "metadata": {},
     "output_type": "display_data"
    },
    {
     "data": {
      "application/javascript": [
       "\n",
       "              (function () {\n",
       "                  var root = document.getElementById('3ad0d3da-cf71-45cb-9638-99776815c443');\n",
       "                  var text = root.getElementsByClassName('pb-text')[0];\n",
       "                  var fill = root.getElementsByClassName('pb-fill')[0];\n",
       "\n",
       "                  text.innerHTML = 'Simulation finished in 0:01:55.';\n",
       "                  \n",
       "            if (100.0 > 0.) {\n",
       "                fill.style.transition = 'width 0.1s linear';\n",
       "            } else {\n",
       "                fill.style.transition = 'none';\n",
       "            }\n",
       "\n",
       "            fill.style.width = '100.0%';\n",
       "            fill.style.animation = 'none';\n",
       "            fill.style.backgroundImage = 'none'\n",
       "        \n",
       "                  \n",
       "                fill.style.animation = 'none';\n",
       "                fill.style.backgroundImage = 'none';\n",
       "            \n",
       "              })();\n",
       "        "
      ],
      "text/plain": [
       "<IPython.core.display.Javascript object>"
      ]
     },
     "metadata": {},
     "output_type": "display_data"
    },
    {
     "name": "stdout",
     "output_type": "stream",
     "text": [
      "seed = 12\n",
      "backend = 'nengo_ocl'\n",
      "dt = 0.001\n",
      "neuron_type = 'default'\n",
      "n_neurons_scale = 1\n",
      "n_neurons_scale_combined = 0.25\n",
      "s_crosstalk = 0\n",
      "s_evidence = 20\n",
      "n_samples = 10000\n",
      "t_senso = 0\n",
      "vocab = <nengo_spa.vocabulary.Vocabulary object at 0x7f309c046f10>\n",
      "xp = <experiments.Xp1 object at 0x7f309ae585d0>\n",
      "proc_feedback = 0.9\n",
      "proc_feedback_synapse = 0.005\n",
      "GW_feedback = 1\n",
      "GW_threshold = 0.5\n",
      "GW_scale = 20\n",
      "BG_thr = 0.1\n",
      "BG_bias = 0.5\n",
      "integrator_reset = False\n",
      "data = <data.Data object at 0x7f30cd8721d0>\n",
      "\t seed 13/20\n",
      "running run_seed13_dim128\n"
     ]
    },
    {
     "data": {
      "text/html": [
       "\n",
       "                <div id=\"b75922ac-e78a-4284-9a72-16c5ae786e91\" style=\"\n",
       "                    width: 100%;\n",
       "                    border: 1px solid #cfcfcf;\n",
       "                    border-radius: 4px;\n",
       "                    text-align: center;\n",
       "                    position: relative;\">\n",
       "                  <div class=\"pb-text\" style=\"\n",
       "                      position: absolute;\n",
       "                      width: 100%;\">\n",
       "                    0%\n",
       "                  </div>\n",
       "                  <div class=\"pb-fill\" style=\"\n",
       "                      background-color: #bdd2e6;\n",
       "                      width: 0%;\">\n",
       "                    <style type=\"text/css\" scoped=\"scoped\">\n",
       "                        @keyframes pb-fill-anim {\n",
       "                            0% { background-position: 0 0; }\n",
       "                            100% { background-position: 100px 0; }\n",
       "                        }\n",
       "                    </style>\n",
       "                    &nbsp;\n",
       "                  </div>\n",
       "                </div>"
      ],
      "text/plain": [
       "HtmlProgressBar cannot be displayed. Please use the TerminalProgressBar. It can be enabled with `nengo.rc.set('progress', 'progress_bar', 'nengo.utils.progress.TerminalProgressBar')`."
      ]
     },
     "metadata": {},
     "output_type": "display_data"
    },
    {
     "data": {
      "application/javascript": [
       "\n",
       "              (function () {\n",
       "                  var root = document.getElementById('b75922ac-e78a-4284-9a72-16c5ae786e91');\n",
       "                  var text = root.getElementsByClassName('pb-text')[0];\n",
       "                  var fill = root.getElementsByClassName('pb-fill')[0];\n",
       "\n",
       "                  text.innerHTML = 'Simulation finished in 0:01:53.';\n",
       "                  \n",
       "            if (100.0 > 0.) {\n",
       "                fill.style.transition = 'width 0.1s linear';\n",
       "            } else {\n",
       "                fill.style.transition = 'none';\n",
       "            }\n",
       "\n",
       "            fill.style.width = '100.0%';\n",
       "            fill.style.animation = 'none';\n",
       "            fill.style.backgroundImage = 'none'\n",
       "        \n",
       "                  \n",
       "                fill.style.animation = 'none';\n",
       "                fill.style.backgroundImage = 'none';\n",
       "            \n",
       "              })();\n",
       "        "
      ],
      "text/plain": [
       "<IPython.core.display.Javascript object>"
      ]
     },
     "metadata": {},
     "output_type": "display_data"
    },
    {
     "name": "stdout",
     "output_type": "stream",
     "text": [
      "seed = 13\n",
      "backend = 'nengo_ocl'\n",
      "dt = 0.001\n",
      "neuron_type = 'default'\n",
      "n_neurons_scale = 1\n",
      "n_neurons_scale_combined = 0.25\n",
      "s_crosstalk = 0\n",
      "s_evidence = 20\n",
      "n_samples = 10000\n",
      "t_senso = 0\n",
      "vocab = <nengo_spa.vocabulary.Vocabulary object at 0x7f30977171d0>\n",
      "xp = <experiments.Xp1 object at 0x7f309d109fd0>\n",
      "proc_feedback = 0.9\n",
      "proc_feedback_synapse = 0.005\n",
      "GW_feedback = 1\n",
      "GW_threshold = 0.5\n",
      "GW_scale = 20\n",
      "BG_thr = 0.1\n",
      "BG_bias = 0.5\n",
      "integrator_reset = False\n",
      "data = <data.Data object at 0x7f30965bd150>\n",
      "\t seed 14/20\n",
      "running run_seed14_dim128\n"
     ]
    },
    {
     "data": {
      "text/html": [
       "\n",
       "                <div id=\"9036f0d7-3a7f-4fb1-9ed8-a427450953a3\" style=\"\n",
       "                    width: 100%;\n",
       "                    border: 1px solid #cfcfcf;\n",
       "                    border-radius: 4px;\n",
       "                    text-align: center;\n",
       "                    position: relative;\">\n",
       "                  <div class=\"pb-text\" style=\"\n",
       "                      position: absolute;\n",
       "                      width: 100%;\">\n",
       "                    0%\n",
       "                  </div>\n",
       "                  <div class=\"pb-fill\" style=\"\n",
       "                      background-color: #bdd2e6;\n",
       "                      width: 0%;\">\n",
       "                    <style type=\"text/css\" scoped=\"scoped\">\n",
       "                        @keyframes pb-fill-anim {\n",
       "                            0% { background-position: 0 0; }\n",
       "                            100% { background-position: 100px 0; }\n",
       "                        }\n",
       "                    </style>\n",
       "                    &nbsp;\n",
       "                  </div>\n",
       "                </div>"
      ],
      "text/plain": [
       "HtmlProgressBar cannot be displayed. Please use the TerminalProgressBar. It can be enabled with `nengo.rc.set('progress', 'progress_bar', 'nengo.utils.progress.TerminalProgressBar')`."
      ]
     },
     "metadata": {},
     "output_type": "display_data"
    },
    {
     "data": {
      "application/javascript": [
       "\n",
       "              (function () {\n",
       "                  var root = document.getElementById('9036f0d7-3a7f-4fb1-9ed8-a427450953a3');\n",
       "                  var text = root.getElementsByClassName('pb-text')[0];\n",
       "                  var fill = root.getElementsByClassName('pb-fill')[0];\n",
       "\n",
       "                  text.innerHTML = 'Simulation finished in 0:01:56.';\n",
       "                  \n",
       "            if (100.0 > 0.) {\n",
       "                fill.style.transition = 'width 0.1s linear';\n",
       "            } else {\n",
       "                fill.style.transition = 'none';\n",
       "            }\n",
       "\n",
       "            fill.style.width = '100.0%';\n",
       "            fill.style.animation = 'none';\n",
       "            fill.style.backgroundImage = 'none'\n",
       "        \n",
       "                  \n",
       "                fill.style.animation = 'none';\n",
       "                fill.style.backgroundImage = 'none';\n",
       "            \n",
       "              })();\n",
       "        "
      ],
      "text/plain": [
       "<IPython.core.display.Javascript object>"
      ]
     },
     "metadata": {},
     "output_type": "display_data"
    },
    {
     "name": "stdout",
     "output_type": "stream",
     "text": [
      "seed = 14\n",
      "backend = 'nengo_ocl'\n",
      "dt = 0.001\n",
      "neuron_type = 'default'\n",
      "n_neurons_scale = 1\n",
      "n_neurons_scale_combined = 0.25\n",
      "s_crosstalk = 0\n",
      "s_evidence = 20\n",
      "n_samples = 10000\n",
      "t_senso = 0\n",
      "vocab = <nengo_spa.vocabulary.Vocabulary object at 0x7f309736a710>\n",
      "xp = <experiments.Xp1 object at 0x7f3099adcdd0>\n",
      "proc_feedback = 0.9\n",
      "proc_feedback_synapse = 0.005\n",
      "GW_feedback = 1\n",
      "GW_threshold = 0.5\n",
      "GW_scale = 20\n",
      "BG_thr = 0.1\n",
      "BG_bias = 0.5\n",
      "integrator_reset = False\n",
      "data = <data.Data object at 0x7f309653d950>\n",
      "\t seed 15/20\n",
      "running run_seed15_dim128\n"
     ]
    },
    {
     "data": {
      "text/html": [
       "\n",
       "                <div id=\"fb2838d8-0a7a-4fb0-a44e-b6c8f2e3c290\" style=\"\n",
       "                    width: 100%;\n",
       "                    border: 1px solid #cfcfcf;\n",
       "                    border-radius: 4px;\n",
       "                    text-align: center;\n",
       "                    position: relative;\">\n",
       "                  <div class=\"pb-text\" style=\"\n",
       "                      position: absolute;\n",
       "                      width: 100%;\">\n",
       "                    0%\n",
       "                  </div>\n",
       "                  <div class=\"pb-fill\" style=\"\n",
       "                      background-color: #bdd2e6;\n",
       "                      width: 0%;\">\n",
       "                    <style type=\"text/css\" scoped=\"scoped\">\n",
       "                        @keyframes pb-fill-anim {\n",
       "                            0% { background-position: 0 0; }\n",
       "                            100% { background-position: 100px 0; }\n",
       "                        }\n",
       "                    </style>\n",
       "                    &nbsp;\n",
       "                  </div>\n",
       "                </div>"
      ],
      "text/plain": [
       "HtmlProgressBar cannot be displayed. Please use the TerminalProgressBar. It can be enabled with `nengo.rc.set('progress', 'progress_bar', 'nengo.utils.progress.TerminalProgressBar')`."
      ]
     },
     "metadata": {},
     "output_type": "display_data"
    },
    {
     "data": {
      "application/javascript": [
       "\n",
       "              (function () {\n",
       "                  var root = document.getElementById('fb2838d8-0a7a-4fb0-a44e-b6c8f2e3c290');\n",
       "                  var text = root.getElementsByClassName('pb-text')[0];\n",
       "                  var fill = root.getElementsByClassName('pb-fill')[0];\n",
       "\n",
       "                  text.innerHTML = 'Simulation finished in 0:01:55.';\n",
       "                  \n",
       "            if (100.0 > 0.) {\n",
       "                fill.style.transition = 'width 0.1s linear';\n",
       "            } else {\n",
       "                fill.style.transition = 'none';\n",
       "            }\n",
       "\n",
       "            fill.style.width = '100.0%';\n",
       "            fill.style.animation = 'none';\n",
       "            fill.style.backgroundImage = 'none'\n",
       "        \n",
       "                  \n",
       "                fill.style.animation = 'none';\n",
       "                fill.style.backgroundImage = 'none';\n",
       "            \n",
       "              })();\n",
       "        "
      ],
      "text/plain": [
       "<IPython.core.display.Javascript object>"
      ]
     },
     "metadata": {},
     "output_type": "display_data"
    },
    {
     "name": "stdout",
     "output_type": "stream",
     "text": [
      "seed = 15\n",
      "backend = 'nengo_ocl'\n",
      "dt = 0.001\n",
      "neuron_type = 'default'\n",
      "n_neurons_scale = 1\n",
      "n_neurons_scale_combined = 0.25\n",
      "s_crosstalk = 0\n",
      "s_evidence = 20\n",
      "n_samples = 10000\n",
      "t_senso = 0\n",
      "vocab = <nengo_spa.vocabulary.Vocabulary object at 0x7f309bf94750>\n",
      "xp = <experiments.Xp1 object at 0x7f309b22d8d0>\n",
      "proc_feedback = 0.9\n",
      "proc_feedback_synapse = 0.005\n",
      "GW_feedback = 1\n",
      "GW_threshold = 0.5\n",
      "GW_scale = 20\n",
      "BG_thr = 0.1\n",
      "BG_bias = 0.5\n",
      "integrator_reset = False\n",
      "data = <data.Data object at 0x7f309a62b850>\n",
      "\t seed 16/20\n",
      "running run_seed16_dim128\n"
     ]
    },
    {
     "data": {
      "text/html": [
       "\n",
       "                <div id=\"b5588171-e8f4-45c9-b36c-44a0e9fea219\" style=\"\n",
       "                    width: 100%;\n",
       "                    border: 1px solid #cfcfcf;\n",
       "                    border-radius: 4px;\n",
       "                    text-align: center;\n",
       "                    position: relative;\">\n",
       "                  <div class=\"pb-text\" style=\"\n",
       "                      position: absolute;\n",
       "                      width: 100%;\">\n",
       "                    0%\n",
       "                  </div>\n",
       "                  <div class=\"pb-fill\" style=\"\n",
       "                      background-color: #bdd2e6;\n",
       "                      width: 0%;\">\n",
       "                    <style type=\"text/css\" scoped=\"scoped\">\n",
       "                        @keyframes pb-fill-anim {\n",
       "                            0% { background-position: 0 0; }\n",
       "                            100% { background-position: 100px 0; }\n",
       "                        }\n",
       "                    </style>\n",
       "                    &nbsp;\n",
       "                  </div>\n",
       "                </div>"
      ],
      "text/plain": [
       "HtmlProgressBar cannot be displayed. Please use the TerminalProgressBar. It can be enabled with `nengo.rc.set('progress', 'progress_bar', 'nengo.utils.progress.TerminalProgressBar')`."
      ]
     },
     "metadata": {},
     "output_type": "display_data"
    },
    {
     "data": {
      "application/javascript": [
       "\n",
       "              (function () {\n",
       "                  var root = document.getElementById('b5588171-e8f4-45c9-b36c-44a0e9fea219');\n",
       "                  var text = root.getElementsByClassName('pb-text')[0];\n",
       "                  var fill = root.getElementsByClassName('pb-fill')[0];\n",
       "\n",
       "                  text.innerHTML = 'Simulation finished in 0:01:55.';\n",
       "                  \n",
       "            if (100.0 > 0.) {\n",
       "                fill.style.transition = 'width 0.1s linear';\n",
       "            } else {\n",
       "                fill.style.transition = 'none';\n",
       "            }\n",
       "\n",
       "            fill.style.width = '100.0%';\n",
       "            fill.style.animation = 'none';\n",
       "            fill.style.backgroundImage = 'none'\n",
       "        \n",
       "                  \n",
       "                fill.style.animation = 'none';\n",
       "                fill.style.backgroundImage = 'none';\n",
       "            \n",
       "              })();\n",
       "        "
      ],
      "text/plain": [
       "<IPython.core.display.Javascript object>"
      ]
     },
     "metadata": {},
     "output_type": "display_data"
    },
    {
     "name": "stdout",
     "output_type": "stream",
     "text": [
      "seed = 16\n",
      "backend = 'nengo_ocl'\n",
      "dt = 0.001\n",
      "neuron_type = 'default'\n",
      "n_neurons_scale = 1\n",
      "n_neurons_scale_combined = 0.25\n",
      "s_crosstalk = 0\n",
      "s_evidence = 20\n",
      "n_samples = 10000\n",
      "t_senso = 0\n",
      "vocab = <nengo_spa.vocabulary.Vocabulary object at 0x7f3097913750>\n",
      "xp = <experiments.Xp1 object at 0x7f3097a63c10>\n",
      "proc_feedback = 0.9\n",
      "proc_feedback_synapse = 0.005\n",
      "GW_feedback = 1\n",
      "GW_threshold = 0.5\n",
      "GW_scale = 20\n",
      "BG_thr = 0.1\n",
      "BG_bias = 0.5\n",
      "integrator_reset = False\n",
      "data = <data.Data object at 0x7f309df1c550>\n",
      "\t seed 17/20\n",
      "running run_seed17_dim128\n"
     ]
    },
    {
     "data": {
      "text/html": [
       "\n",
       "                <div id=\"2e1b3604-5ef9-443c-9bfe-96e7aeda45de\" style=\"\n",
       "                    width: 100%;\n",
       "                    border: 1px solid #cfcfcf;\n",
       "                    border-radius: 4px;\n",
       "                    text-align: center;\n",
       "                    position: relative;\">\n",
       "                  <div class=\"pb-text\" style=\"\n",
       "                      position: absolute;\n",
       "                      width: 100%;\">\n",
       "                    0%\n",
       "                  </div>\n",
       "                  <div class=\"pb-fill\" style=\"\n",
       "                      background-color: #bdd2e6;\n",
       "                      width: 0%;\">\n",
       "                    <style type=\"text/css\" scoped=\"scoped\">\n",
       "                        @keyframes pb-fill-anim {\n",
       "                            0% { background-position: 0 0; }\n",
       "                            100% { background-position: 100px 0; }\n",
       "                        }\n",
       "                    </style>\n",
       "                    &nbsp;\n",
       "                  </div>\n",
       "                </div>"
      ],
      "text/plain": [
       "HtmlProgressBar cannot be displayed. Please use the TerminalProgressBar. It can be enabled with `nengo.rc.set('progress', 'progress_bar', 'nengo.utils.progress.TerminalProgressBar')`."
      ]
     },
     "metadata": {},
     "output_type": "display_data"
    },
    {
     "data": {
      "application/javascript": [
       "\n",
       "              (function () {\n",
       "                  var root = document.getElementById('2e1b3604-5ef9-443c-9bfe-96e7aeda45de');\n",
       "                  var text = root.getElementsByClassName('pb-text')[0];\n",
       "                  var fill = root.getElementsByClassName('pb-fill')[0];\n",
       "\n",
       "                  text.innerHTML = 'Simulation finished in 0:02:00.';\n",
       "                  \n",
       "            if (100.0 > 0.) {\n",
       "                fill.style.transition = 'width 0.1s linear';\n",
       "            } else {\n",
       "                fill.style.transition = 'none';\n",
       "            }\n",
       "\n",
       "            fill.style.width = '100.0%';\n",
       "            fill.style.animation = 'none';\n",
       "            fill.style.backgroundImage = 'none'\n",
       "        \n",
       "                  \n",
       "                fill.style.animation = 'none';\n",
       "                fill.style.backgroundImage = 'none';\n",
       "            \n",
       "              })();\n",
       "        "
      ],
      "text/plain": [
       "<IPython.core.display.Javascript object>"
      ]
     },
     "metadata": {},
     "output_type": "display_data"
    },
    {
     "name": "stdout",
     "output_type": "stream",
     "text": [
      "seed = 17\n",
      "backend = 'nengo_ocl'\n",
      "dt = 0.001\n",
      "neuron_type = 'default'\n",
      "n_neurons_scale = 1\n",
      "n_neurons_scale_combined = 0.25\n",
      "s_crosstalk = 0\n",
      "s_evidence = 20\n",
      "n_samples = 10000\n",
      "t_senso = 0\n",
      "vocab = <nengo_spa.vocabulary.Vocabulary object at 0x7f309bf94910>\n",
      "xp = <experiments.Xp1 object at 0x7f3099959c90>\n",
      "proc_feedback = 0.9\n",
      "proc_feedback_synapse = 0.005\n",
      "GW_feedback = 1\n",
      "GW_threshold = 0.5\n",
      "GW_scale = 20\n",
      "BG_thr = 0.1\n",
      "BG_bias = 0.5\n",
      "integrator_reset = False\n",
      "data = <data.Data object at 0x7f309d109490>\n",
      "\t seed 18/20\n",
      "running run_seed18_dim128\n"
     ]
    },
    {
     "data": {
      "text/html": [
       "\n",
       "                <div id=\"2c21b40c-4bea-419d-84c8-010d0293687a\" style=\"\n",
       "                    width: 100%;\n",
       "                    border: 1px solid #cfcfcf;\n",
       "                    border-radius: 4px;\n",
       "                    text-align: center;\n",
       "                    position: relative;\">\n",
       "                  <div class=\"pb-text\" style=\"\n",
       "                      position: absolute;\n",
       "                      width: 100%;\">\n",
       "                    0%\n",
       "                  </div>\n",
       "                  <div class=\"pb-fill\" style=\"\n",
       "                      background-color: #bdd2e6;\n",
       "                      width: 0%;\">\n",
       "                    <style type=\"text/css\" scoped=\"scoped\">\n",
       "                        @keyframes pb-fill-anim {\n",
       "                            0% { background-position: 0 0; }\n",
       "                            100% { background-position: 100px 0; }\n",
       "                        }\n",
       "                    </style>\n",
       "                    &nbsp;\n",
       "                  </div>\n",
       "                </div>"
      ],
      "text/plain": [
       "HtmlProgressBar cannot be displayed. Please use the TerminalProgressBar. It can be enabled with `nengo.rc.set('progress', 'progress_bar', 'nengo.utils.progress.TerminalProgressBar')`."
      ]
     },
     "metadata": {},
     "output_type": "display_data"
    },
    {
     "data": {
      "application/javascript": [
       "\n",
       "              (function () {\n",
       "                  var root = document.getElementById('2c21b40c-4bea-419d-84c8-010d0293687a');\n",
       "                  var text = root.getElementsByClassName('pb-text')[0];\n",
       "                  var fill = root.getElementsByClassName('pb-fill')[0];\n",
       "\n",
       "                  text.innerHTML = 'Simulation finished in 0:01:58.';\n",
       "                  \n",
       "            if (100.0 > 0.) {\n",
       "                fill.style.transition = 'width 0.1s linear';\n",
       "            } else {\n",
       "                fill.style.transition = 'none';\n",
       "            }\n",
       "\n",
       "            fill.style.width = '100.0%';\n",
       "            fill.style.animation = 'none';\n",
       "            fill.style.backgroundImage = 'none'\n",
       "        \n",
       "                  \n",
       "                fill.style.animation = 'none';\n",
       "                fill.style.backgroundImage = 'none';\n",
       "            \n",
       "              })();\n",
       "        "
      ],
      "text/plain": [
       "<IPython.core.display.Javascript object>"
      ]
     },
     "metadata": {},
     "output_type": "display_data"
    },
    {
     "name": "stdout",
     "output_type": "stream",
     "text": [
      "seed = 18\n",
      "backend = 'nengo_ocl'\n",
      "dt = 0.001\n",
      "neuron_type = 'default'\n",
      "n_neurons_scale = 1\n",
      "n_neurons_scale_combined = 0.25\n",
      "s_crosstalk = 0\n",
      "s_evidence = 20\n",
      "n_samples = 10000\n",
      "t_senso = 0\n",
      "vocab = <nengo_spa.vocabulary.Vocabulary object at 0x7f3099d0ef50>\n",
      "xp = <experiments.Xp1 object at 0x7f3099ff5a50>\n",
      "proc_feedback = 0.9\n",
      "proc_feedback_synapse = 0.005\n",
      "GW_feedback = 1\n",
      "GW_threshold = 0.5\n",
      "GW_scale = 20\n",
      "BG_thr = 0.1\n",
      "BG_bias = 0.5\n",
      "integrator_reset = False\n",
      "data = <data.Data object at 0x7f309c0c46d0>\n",
      "\t seed 19/20\n",
      "running run_seed19_dim128\n"
     ]
    },
    {
     "data": {
      "text/html": [
       "\n",
       "                <div id=\"427f6d97-83d5-4407-9c8b-1e8bd57d484b\" style=\"\n",
       "                    width: 100%;\n",
       "                    border: 1px solid #cfcfcf;\n",
       "                    border-radius: 4px;\n",
       "                    text-align: center;\n",
       "                    position: relative;\">\n",
       "                  <div class=\"pb-text\" style=\"\n",
       "                      position: absolute;\n",
       "                      width: 100%;\">\n",
       "                    0%\n",
       "                  </div>\n",
       "                  <div class=\"pb-fill\" style=\"\n",
       "                      background-color: #bdd2e6;\n",
       "                      width: 0%;\">\n",
       "                    <style type=\"text/css\" scoped=\"scoped\">\n",
       "                        @keyframes pb-fill-anim {\n",
       "                            0% { background-position: 0 0; }\n",
       "                            100% { background-position: 100px 0; }\n",
       "                        }\n",
       "                    </style>\n",
       "                    &nbsp;\n",
       "                  </div>\n",
       "                </div>"
      ],
      "text/plain": [
       "HtmlProgressBar cannot be displayed. Please use the TerminalProgressBar. It can be enabled with `nengo.rc.set('progress', 'progress_bar', 'nengo.utils.progress.TerminalProgressBar')`."
      ]
     },
     "metadata": {},
     "output_type": "display_data"
    },
    {
     "data": {
      "application/javascript": [
       "\n",
       "              (function () {\n",
       "                  var root = document.getElementById('427f6d97-83d5-4407-9c8b-1e8bd57d484b');\n",
       "                  var text = root.getElementsByClassName('pb-text')[0];\n",
       "                  var fill = root.getElementsByClassName('pb-fill')[0];\n",
       "\n",
       "                  text.innerHTML = 'Simulation finished in 0:02:00.';\n",
       "                  \n",
       "            if (100.0 > 0.) {\n",
       "                fill.style.transition = 'width 0.1s linear';\n",
       "            } else {\n",
       "                fill.style.transition = 'none';\n",
       "            }\n",
       "\n",
       "            fill.style.width = '100.0%';\n",
       "            fill.style.animation = 'none';\n",
       "            fill.style.backgroundImage = 'none'\n",
       "        \n",
       "                  \n",
       "                fill.style.animation = 'none';\n",
       "                fill.style.backgroundImage = 'none';\n",
       "            \n",
       "              })();\n",
       "        "
      ],
      "text/plain": [
       "<IPython.core.display.Javascript object>"
      ]
     },
     "metadata": {},
     "output_type": "display_data"
    },
    {
     "name": "stdout",
     "output_type": "stream",
     "text": [
      "seed = 19\n",
      "backend = 'nengo_ocl'\n",
      "dt = 0.001\n",
      "neuron_type = 'default'\n",
      "n_neurons_scale = 1\n",
      "n_neurons_scale_combined = 0.25\n",
      "s_crosstalk = 0\n",
      "s_evidence = 20\n",
      "n_samples = 10000\n",
      "t_senso = 0\n",
      "vocab = <nengo_spa.vocabulary.Vocabulary object at 0x7f309b7699d0>\n",
      "xp = <experiments.Xp1 object at 0x7f309c86d410>\n",
      "proc_feedback = 0.9\n",
      "proc_feedback_synapse = 0.005\n",
      "GW_feedback = 1\n",
      "GW_threshold = 0.5\n",
      "GW_scale = 20\n",
      "BG_thr = 0.1\n",
      "BG_bias = 0.5\n",
      "integrator_reset = False\n",
      "data = <data.Data object at 0x7f30ae152950>\n",
      "\t seed 20/20\n",
      "running run_seed20_dim128\n"
     ]
    },
    {
     "data": {
      "text/html": [
       "\n",
       "                <div id=\"b2a7a62c-805d-411c-aa9b-1bb2a3a576a7\" style=\"\n",
       "                    width: 100%;\n",
       "                    border: 1px solid #cfcfcf;\n",
       "                    border-radius: 4px;\n",
       "                    text-align: center;\n",
       "                    position: relative;\">\n",
       "                  <div class=\"pb-text\" style=\"\n",
       "                      position: absolute;\n",
       "                      width: 100%;\">\n",
       "                    0%\n",
       "                  </div>\n",
       "                  <div class=\"pb-fill\" style=\"\n",
       "                      background-color: #bdd2e6;\n",
       "                      width: 0%;\">\n",
       "                    <style type=\"text/css\" scoped=\"scoped\">\n",
       "                        @keyframes pb-fill-anim {\n",
       "                            0% { background-position: 0 0; }\n",
       "                            100% { background-position: 100px 0; }\n",
       "                        }\n",
       "                    </style>\n",
       "                    &nbsp;\n",
       "                  </div>\n",
       "                </div>"
      ],
      "text/plain": [
       "HtmlProgressBar cannot be displayed. Please use the TerminalProgressBar. It can be enabled with `nengo.rc.set('progress', 'progress_bar', 'nengo.utils.progress.TerminalProgressBar')`."
      ]
     },
     "metadata": {},
     "output_type": "display_data"
    },
    {
     "data": {
      "application/javascript": [
       "\n",
       "              (function () {\n",
       "                  var root = document.getElementById('b2a7a62c-805d-411c-aa9b-1bb2a3a576a7');\n",
       "                  var text = root.getElementsByClassName('pb-text')[0];\n",
       "                  var fill = root.getElementsByClassName('pb-fill')[0];\n",
       "\n",
       "                  text.innerHTML = 'Simulation finished in 0:02:01.';\n",
       "                  \n",
       "            if (100.0 > 0.) {\n",
       "                fill.style.transition = 'width 0.1s linear';\n",
       "            } else {\n",
       "                fill.style.transition = 'none';\n",
       "            }\n",
       "\n",
       "            fill.style.width = '100.0%';\n",
       "            fill.style.animation = 'none';\n",
       "            fill.style.backgroundImage = 'none'\n",
       "        \n",
       "                  \n",
       "                fill.style.animation = 'none';\n",
       "                fill.style.backgroundImage = 'none';\n",
       "            \n",
       "              })();\n",
       "        "
      ],
      "text/plain": [
       "<IPython.core.display.Javascript object>"
      ]
     },
     "metadata": {},
     "output_type": "display_data"
    },
    {
     "name": "stdout",
     "output_type": "stream",
     "text": [
      "seed = 20\n",
      "backend = 'nengo_ocl'\n",
      "dt = 0.001\n",
      "neuron_type = 'default'\n",
      "n_neurons_scale = 1\n",
      "n_neurons_scale_combined = 0.25\n",
      "s_crosstalk = 0\n",
      "s_evidence = 20\n",
      "n_samples = 10000\n",
      "t_senso = 0\n",
      "vocab = <nengo_spa.vocabulary.Vocabulary object at 0x7f30f3ba1a90>\n",
      "xp = <experiments.Xp1 object at 0x7f30989dae50>\n",
      "proc_feedback = 0.9\n",
      "proc_feedback_synapse = 0.005\n",
      "GW_feedback = 1\n",
      "GW_threshold = 0.5\n",
      "GW_scale = 20\n",
      "BG_thr = 0.1\n",
      "BG_bias = 0.5\n",
      "integrator_reset = False\n",
      "data = <data.Data object at 0x7f309c67bfd0>\n",
      "error rate: 0.014583333333333282\n",
      "params: [9.]\n",
      "Simulating...\n",
      "\t seed 1/20\n",
      "\t seed 2/20\n",
      "\t seed 3/20\n",
      "\t seed 4/20\n",
      "\t seed 5/20\n",
      "\t seed 6/20\n",
      "\t seed 7/20\n",
      "\t seed 8/20\n",
      "\t seed 9/20\n",
      "\t seed 10/20\n",
      "\t seed 11/20\n",
      "running run_seed11_dim144\n"
     ]
    },
    {
     "data": {
      "text/html": [
       "\n",
       "                <div id=\"9f70e316-4088-4719-a37c-ad4839f1ee41\" style=\"\n",
       "                    width: 100%;\n",
       "                    border: 1px solid #cfcfcf;\n",
       "                    border-radius: 4px;\n",
       "                    text-align: center;\n",
       "                    position: relative;\">\n",
       "                  <div class=\"pb-text\" style=\"\n",
       "                      position: absolute;\n",
       "                      width: 100%;\">\n",
       "                    0%\n",
       "                  </div>\n",
       "                  <div class=\"pb-fill\" style=\"\n",
       "                      background-color: #bdd2e6;\n",
       "                      width: 0%;\">\n",
       "                    <style type=\"text/css\" scoped=\"scoped\">\n",
       "                        @keyframes pb-fill-anim {\n",
       "                            0% { background-position: 0 0; }\n",
       "                            100% { background-position: 100px 0; }\n",
       "                        }\n",
       "                    </style>\n",
       "                    &nbsp;\n",
       "                  </div>\n",
       "                </div>"
      ],
      "text/plain": [
       "HtmlProgressBar cannot be displayed. Please use the TerminalProgressBar. It can be enabled with `nengo.rc.set('progress', 'progress_bar', 'nengo.utils.progress.TerminalProgressBar')`."
      ]
     },
     "metadata": {},
     "output_type": "display_data"
    },
    {
     "data": {
      "application/javascript": [
       "\n",
       "              (function () {\n",
       "                  var root = document.getElementById('9f70e316-4088-4719-a37c-ad4839f1ee41');\n",
       "                  var text = root.getElementsByClassName('pb-text')[0];\n",
       "                  var fill = root.getElementsByClassName('pb-fill')[0];\n",
       "\n",
       "                  text.innerHTML = 'Simulation finished in 0:02:09.';\n",
       "                  \n",
       "            if (100.0 > 0.) {\n",
       "                fill.style.transition = 'width 0.1s linear';\n",
       "            } else {\n",
       "                fill.style.transition = 'none';\n",
       "            }\n",
       "\n",
       "            fill.style.width = '100.0%';\n",
       "            fill.style.animation = 'none';\n",
       "            fill.style.backgroundImage = 'none'\n",
       "        \n",
       "                  \n",
       "                fill.style.animation = 'none';\n",
       "                fill.style.backgroundImage = 'none';\n",
       "            \n",
       "              })();\n",
       "        "
      ],
      "text/plain": [
       "<IPython.core.display.Javascript object>"
      ]
     },
     "metadata": {},
     "output_type": "display_data"
    },
    {
     "name": "stdout",
     "output_type": "stream",
     "text": [
      "seed = 11\n",
      "backend = 'nengo_ocl'\n",
      "dt = 0.001\n",
      "neuron_type = 'default'\n",
      "n_neurons_scale = 1\n",
      "n_neurons_scale_combined = 0.25\n",
      "s_crosstalk = 0\n",
      "s_evidence = 20\n",
      "n_samples = 10000\n",
      "t_senso = 0\n",
      "vocab = <nengo_spa.vocabulary.Vocabulary object at 0x7f30f25e2a50>\n",
      "xp = <experiments.Xp1 object at 0x7f309b3d5050>\n",
      "proc_feedback = 0.9\n",
      "proc_feedback_synapse = 0.005\n",
      "GW_feedback = 1\n",
      "GW_threshold = 0.5\n",
      "GW_scale = 20\n",
      "BG_thr = 0.1\n",
      "BG_bias = 0.5\n",
      "integrator_reset = False\n",
      "data = <data.Data object at 0x7f309f697e50>\n",
      "\t seed 12/20\n",
      "running run_seed12_dim144\n"
     ]
    },
    {
     "data": {
      "text/html": [
       "\n",
       "                <div id=\"4739a112-63c0-4da4-a219-d19bf559b3d7\" style=\"\n",
       "                    width: 100%;\n",
       "                    border: 1px solid #cfcfcf;\n",
       "                    border-radius: 4px;\n",
       "                    text-align: center;\n",
       "                    position: relative;\">\n",
       "                  <div class=\"pb-text\" style=\"\n",
       "                      position: absolute;\n",
       "                      width: 100%;\">\n",
       "                    0%\n",
       "                  </div>\n",
       "                  <div class=\"pb-fill\" style=\"\n",
       "                      background-color: #bdd2e6;\n",
       "                      width: 0%;\">\n",
       "                    <style type=\"text/css\" scoped=\"scoped\">\n",
       "                        @keyframes pb-fill-anim {\n",
       "                            0% { background-position: 0 0; }\n",
       "                            100% { background-position: 100px 0; }\n",
       "                        }\n",
       "                    </style>\n",
       "                    &nbsp;\n",
       "                  </div>\n",
       "                </div>"
      ],
      "text/plain": [
       "HtmlProgressBar cannot be displayed. Please use the TerminalProgressBar. It can be enabled with `nengo.rc.set('progress', 'progress_bar', 'nengo.utils.progress.TerminalProgressBar')`."
      ]
     },
     "metadata": {},
     "output_type": "display_data"
    },
    {
     "data": {
      "application/javascript": [
       "\n",
       "              (function () {\n",
       "                  var root = document.getElementById('4739a112-63c0-4da4-a219-d19bf559b3d7');\n",
       "                  var text = root.getElementsByClassName('pb-text')[0];\n",
       "                  var fill = root.getElementsByClassName('pb-fill')[0];\n",
       "\n",
       "                  text.innerHTML = 'Simulation finished in 0:02:09.';\n",
       "                  \n",
       "            if (100.0 > 0.) {\n",
       "                fill.style.transition = 'width 0.1s linear';\n",
       "            } else {\n",
       "                fill.style.transition = 'none';\n",
       "            }\n",
       "\n",
       "            fill.style.width = '100.0%';\n",
       "            fill.style.animation = 'none';\n",
       "            fill.style.backgroundImage = 'none'\n",
       "        \n",
       "                  \n",
       "                fill.style.animation = 'none';\n",
       "                fill.style.backgroundImage = 'none';\n",
       "            \n",
       "              })();\n",
       "        "
      ],
      "text/plain": [
       "<IPython.core.display.Javascript object>"
      ]
     },
     "metadata": {},
     "output_type": "display_data"
    },
    {
     "name": "stdout",
     "output_type": "stream",
     "text": [
      "seed = 12\n",
      "backend = 'nengo_ocl'\n",
      "dt = 0.001\n",
      "neuron_type = 'default'\n",
      "n_neurons_scale = 1\n",
      "n_neurons_scale_combined = 0.25\n",
      "s_crosstalk = 0\n",
      "s_evidence = 20\n",
      "n_samples = 10000\n",
      "t_senso = 0\n",
      "vocab = <nengo_spa.vocabulary.Vocabulary object at 0x7f30988b47d0>\n",
      "xp = <experiments.Xp1 object at 0x7f309bc0c6d0>\n",
      "proc_feedback = 0.9\n",
      "proc_feedback_synapse = 0.005\n",
      "GW_feedback = 1\n",
      "GW_threshold = 0.5\n",
      "GW_scale = 20\n",
      "BG_thr = 0.1\n",
      "BG_bias = 0.5\n",
      "integrator_reset = False\n",
      "data = <data.Data object at 0x7f309679c850>\n",
      "\t seed 13/20\n",
      "running run_seed13_dim144\n"
     ]
    },
    {
     "data": {
      "text/html": [
       "\n",
       "                <div id=\"797bfb6c-b5ec-4dfc-8c91-8536cb6207cb\" style=\"\n",
       "                    width: 100%;\n",
       "                    border: 1px solid #cfcfcf;\n",
       "                    border-radius: 4px;\n",
       "                    text-align: center;\n",
       "                    position: relative;\">\n",
       "                  <div class=\"pb-text\" style=\"\n",
       "                      position: absolute;\n",
       "                      width: 100%;\">\n",
       "                    0%\n",
       "                  </div>\n",
       "                  <div class=\"pb-fill\" style=\"\n",
       "                      background-color: #bdd2e6;\n",
       "                      width: 0%;\">\n",
       "                    <style type=\"text/css\" scoped=\"scoped\">\n",
       "                        @keyframes pb-fill-anim {\n",
       "                            0% { background-position: 0 0; }\n",
       "                            100% { background-position: 100px 0; }\n",
       "                        }\n",
       "                    </style>\n",
       "                    &nbsp;\n",
       "                  </div>\n",
       "                </div>"
      ],
      "text/plain": [
       "HtmlProgressBar cannot be displayed. Please use the TerminalProgressBar. It can be enabled with `nengo.rc.set('progress', 'progress_bar', 'nengo.utils.progress.TerminalProgressBar')`."
      ]
     },
     "metadata": {},
     "output_type": "display_data"
    },
    {
     "data": {
      "application/javascript": [
       "\n",
       "              (function () {\n",
       "                  var root = document.getElementById('797bfb6c-b5ec-4dfc-8c91-8536cb6207cb');\n",
       "                  var text = root.getElementsByClassName('pb-text')[0];\n",
       "                  var fill = root.getElementsByClassName('pb-fill')[0];\n",
       "\n",
       "                  text.innerHTML = 'Simulation finished in 0:02:07.';\n",
       "                  \n",
       "            if (100.0 > 0.) {\n",
       "                fill.style.transition = 'width 0.1s linear';\n",
       "            } else {\n",
       "                fill.style.transition = 'none';\n",
       "            }\n",
       "\n",
       "            fill.style.width = '100.0%';\n",
       "            fill.style.animation = 'none';\n",
       "            fill.style.backgroundImage = 'none'\n",
       "        \n",
       "                  \n",
       "                fill.style.animation = 'none';\n",
       "                fill.style.backgroundImage = 'none';\n",
       "            \n",
       "              })();\n",
       "        "
      ],
      "text/plain": [
       "<IPython.core.display.Javascript object>"
      ]
     },
     "metadata": {},
     "output_type": "display_data"
    },
    {
     "name": "stdout",
     "output_type": "stream",
     "text": [
      "seed = 13\n",
      "backend = 'nengo_ocl'\n",
      "dt = 0.001\n",
      "neuron_type = 'default'\n",
      "n_neurons_scale = 1\n",
      "n_neurons_scale_combined = 0.25\n",
      "s_crosstalk = 0\n",
      "s_evidence = 20\n",
      "n_samples = 10000\n",
      "t_senso = 0\n",
      "vocab = <nengo_spa.vocabulary.Vocabulary object at 0x7f3097c49750>\n",
      "xp = <experiments.Xp1 object at 0x7f3095687fd0>\n",
      "proc_feedback = 0.9\n",
      "proc_feedback_synapse = 0.005\n",
      "GW_feedback = 1\n",
      "GW_threshold = 0.5\n",
      "GW_scale = 20\n",
      "BG_thr = 0.1\n",
      "BG_bias = 0.5\n",
      "integrator_reset = False\n",
      "data = <data.Data object at 0x7f3099a841d0>\n",
      "\t seed 14/20\n",
      "running run_seed14_dim144\n"
     ]
    },
    {
     "data": {
      "text/html": [
       "\n",
       "                <div id=\"cccb2b46-ca76-4e87-bd0c-fb58afa0eee5\" style=\"\n",
       "                    width: 100%;\n",
       "                    border: 1px solid #cfcfcf;\n",
       "                    border-radius: 4px;\n",
       "                    text-align: center;\n",
       "                    position: relative;\">\n",
       "                  <div class=\"pb-text\" style=\"\n",
       "                      position: absolute;\n",
       "                      width: 100%;\">\n",
       "                    0%\n",
       "                  </div>\n",
       "                  <div class=\"pb-fill\" style=\"\n",
       "                      background-color: #bdd2e6;\n",
       "                      width: 0%;\">\n",
       "                    <style type=\"text/css\" scoped=\"scoped\">\n",
       "                        @keyframes pb-fill-anim {\n",
       "                            0% { background-position: 0 0; }\n",
       "                            100% { background-position: 100px 0; }\n",
       "                        }\n",
       "                    </style>\n",
       "                    &nbsp;\n",
       "                  </div>\n",
       "                </div>"
      ],
      "text/plain": [
       "HtmlProgressBar cannot be displayed. Please use the TerminalProgressBar. It can be enabled with `nengo.rc.set('progress', 'progress_bar', 'nengo.utils.progress.TerminalProgressBar')`."
      ]
     },
     "metadata": {},
     "output_type": "display_data"
    },
    {
     "data": {
      "application/javascript": [
       "\n",
       "              (function () {\n",
       "                  var root = document.getElementById('cccb2b46-ca76-4e87-bd0c-fb58afa0eee5');\n",
       "                  var text = root.getElementsByClassName('pb-text')[0];\n",
       "                  var fill = root.getElementsByClassName('pb-fill')[0];\n",
       "\n",
       "                  text.innerHTML = 'Simulation finished in 0:02:07.';\n",
       "                  \n",
       "            if (100.0 > 0.) {\n",
       "                fill.style.transition = 'width 0.1s linear';\n",
       "            } else {\n",
       "                fill.style.transition = 'none';\n",
       "            }\n",
       "\n",
       "            fill.style.width = '100.0%';\n",
       "            fill.style.animation = 'none';\n",
       "            fill.style.backgroundImage = 'none'\n",
       "        \n",
       "                  \n",
       "                fill.style.animation = 'none';\n",
       "                fill.style.backgroundImage = 'none';\n",
       "            \n",
       "              })();\n",
       "        "
      ],
      "text/plain": [
       "<IPython.core.display.Javascript object>"
      ]
     },
     "metadata": {},
     "output_type": "display_data"
    },
    {
     "name": "stdout",
     "output_type": "stream",
     "text": [
      "seed = 14\n",
      "backend = 'nengo_ocl'\n",
      "dt = 0.001\n",
      "neuron_type = 'default'\n",
      "n_neurons_scale = 1\n",
      "n_neurons_scale_combined = 0.25\n",
      "s_crosstalk = 0\n",
      "s_evidence = 20\n",
      "n_samples = 10000\n",
      "t_senso = 0\n",
      "vocab = <nengo_spa.vocabulary.Vocabulary object at 0x7f30988e5d50>\n",
      "xp = <experiments.Xp1 object at 0x7f3097c49ed0>\n",
      "proc_feedback = 0.9\n",
      "proc_feedback_synapse = 0.005\n",
      "GW_feedback = 1\n",
      "GW_threshold = 0.5\n",
      "GW_scale = 20\n",
      "BG_thr = 0.1\n",
      "BG_bias = 0.5\n",
      "integrator_reset = False\n",
      "data = <data.Data object at 0x7f3096dad050>\n",
      "\t seed 15/20\n",
      "running run_seed15_dim144\n"
     ]
    },
    {
     "data": {
      "text/html": [
       "\n",
       "                <div id=\"f89f878f-328a-42c6-9a08-78e409e41d78\" style=\"\n",
       "                    width: 100%;\n",
       "                    border: 1px solid #cfcfcf;\n",
       "                    border-radius: 4px;\n",
       "                    text-align: center;\n",
       "                    position: relative;\">\n",
       "                  <div class=\"pb-text\" style=\"\n",
       "                      position: absolute;\n",
       "                      width: 100%;\">\n",
       "                    0%\n",
       "                  </div>\n",
       "                  <div class=\"pb-fill\" style=\"\n",
       "                      background-color: #bdd2e6;\n",
       "                      width: 0%;\">\n",
       "                    <style type=\"text/css\" scoped=\"scoped\">\n",
       "                        @keyframes pb-fill-anim {\n",
       "                            0% { background-position: 0 0; }\n",
       "                            100% { background-position: 100px 0; }\n",
       "                        }\n",
       "                    </style>\n",
       "                    &nbsp;\n",
       "                  </div>\n",
       "                </div>"
      ],
      "text/plain": [
       "HtmlProgressBar cannot be displayed. Please use the TerminalProgressBar. It can be enabled with `nengo.rc.set('progress', 'progress_bar', 'nengo.utils.progress.TerminalProgressBar')`."
      ]
     },
     "metadata": {},
     "output_type": "display_data"
    },
    {
     "data": {
      "application/javascript": [
       "\n",
       "              (function () {\n",
       "                  var root = document.getElementById('f89f878f-328a-42c6-9a08-78e409e41d78');\n",
       "                  var text = root.getElementsByClassName('pb-text')[0];\n",
       "                  var fill = root.getElementsByClassName('pb-fill')[0];\n",
       "\n",
       "                  text.innerHTML = 'Simulation finished in 0:02:05.';\n",
       "                  \n",
       "            if (100.0 > 0.) {\n",
       "                fill.style.transition = 'width 0.1s linear';\n",
       "            } else {\n",
       "                fill.style.transition = 'none';\n",
       "            }\n",
       "\n",
       "            fill.style.width = '100.0%';\n",
       "            fill.style.animation = 'none';\n",
       "            fill.style.backgroundImage = 'none'\n",
       "        \n",
       "                  \n",
       "                fill.style.animation = 'none';\n",
       "                fill.style.backgroundImage = 'none';\n",
       "            \n",
       "              })();\n",
       "        "
      ],
      "text/plain": [
       "<IPython.core.display.Javascript object>"
      ]
     },
     "metadata": {},
     "output_type": "display_data"
    },
    {
     "name": "stdout",
     "output_type": "stream",
     "text": [
      "seed = 15\n",
      "backend = 'nengo_ocl'\n",
      "dt = 0.001\n",
      "neuron_type = 'default'\n",
      "n_neurons_scale = 1\n",
      "n_neurons_scale_combined = 0.25\n",
      "s_crosstalk = 0\n",
      "s_evidence = 20\n",
      "n_samples = 10000\n",
      "t_senso = 0\n",
      "vocab = <nengo_spa.vocabulary.Vocabulary object at 0x7f309ba90e10>\n",
      "xp = <experiments.Xp1 object at 0x7f3099980e50>\n",
      "proc_feedback = 0.9\n",
      "proc_feedback_synapse = 0.005\n",
      "GW_feedback = 1\n",
      "GW_threshold = 0.5\n",
      "GW_scale = 20\n",
      "BG_thr = 0.1\n",
      "BG_bias = 0.5\n",
      "integrator_reset = False\n",
      "data = <data.Data object at 0x7f309daeacd0>\n",
      "\t seed 16/20\n",
      "running run_seed16_dim144\n"
     ]
    },
    {
     "data": {
      "text/html": [
       "\n",
       "                <div id=\"3f3d10c8-3bf1-4f84-9b8e-f64c248d3a64\" style=\"\n",
       "                    width: 100%;\n",
       "                    border: 1px solid #cfcfcf;\n",
       "                    border-radius: 4px;\n",
       "                    text-align: center;\n",
       "                    position: relative;\">\n",
       "                  <div class=\"pb-text\" style=\"\n",
       "                      position: absolute;\n",
       "                      width: 100%;\">\n",
       "                    0%\n",
       "                  </div>\n",
       "                  <div class=\"pb-fill\" style=\"\n",
       "                      background-color: #bdd2e6;\n",
       "                      width: 0%;\">\n",
       "                    <style type=\"text/css\" scoped=\"scoped\">\n",
       "                        @keyframes pb-fill-anim {\n",
       "                            0% { background-position: 0 0; }\n",
       "                            100% { background-position: 100px 0; }\n",
       "                        }\n",
       "                    </style>\n",
       "                    &nbsp;\n",
       "                  </div>\n",
       "                </div>"
      ],
      "text/plain": [
       "HtmlProgressBar cannot be displayed. Please use the TerminalProgressBar. It can be enabled with `nengo.rc.set('progress', 'progress_bar', 'nengo.utils.progress.TerminalProgressBar')`."
      ]
     },
     "metadata": {},
     "output_type": "display_data"
    },
    {
     "data": {
      "application/javascript": [
       "\n",
       "              (function () {\n",
       "                  var root = document.getElementById('3f3d10c8-3bf1-4f84-9b8e-f64c248d3a64');\n",
       "                  var text = root.getElementsByClassName('pb-text')[0];\n",
       "                  var fill = root.getElementsByClassName('pb-fill')[0];\n",
       "\n",
       "                  text.innerHTML = 'Simulation finished in 0:02:03.';\n",
       "                  \n",
       "            if (100.0 > 0.) {\n",
       "                fill.style.transition = 'width 0.1s linear';\n",
       "            } else {\n",
       "                fill.style.transition = 'none';\n",
       "            }\n",
       "\n",
       "            fill.style.width = '100.0%';\n",
       "            fill.style.animation = 'none';\n",
       "            fill.style.backgroundImage = 'none'\n",
       "        \n",
       "                  \n",
       "                fill.style.animation = 'none';\n",
       "                fill.style.backgroundImage = 'none';\n",
       "            \n",
       "              })();\n",
       "        "
      ],
      "text/plain": [
       "<IPython.core.display.Javascript object>"
      ]
     },
     "metadata": {},
     "output_type": "display_data"
    },
    {
     "name": "stdout",
     "output_type": "stream",
     "text": [
      "seed = 16\n",
      "backend = 'nengo_ocl'\n",
      "dt = 0.001\n",
      "neuron_type = 'default'\n",
      "n_neurons_scale = 1\n",
      "n_neurons_scale_combined = 0.25\n",
      "s_crosstalk = 0\n",
      "s_evidence = 20\n",
      "n_samples = 10000\n",
      "t_senso = 0\n",
      "vocab = <nengo_spa.vocabulary.Vocabulary object at 0x7f3097843c10>\n",
      "xp = <experiments.Xp1 object at 0x7f3097873350>\n",
      "proc_feedback = 0.9\n",
      "proc_feedback_synapse = 0.005\n",
      "GW_feedback = 1\n",
      "GW_threshold = 0.5\n",
      "GW_scale = 20\n",
      "BG_thr = 0.1\n",
      "BG_bias = 0.5\n",
      "integrator_reset = False\n",
      "data = <data.Data object at 0x7f30cd863ed0>\n",
      "\t seed 17/20\n",
      "running run_seed17_dim144\n"
     ]
    },
    {
     "data": {
      "text/html": [
       "\n",
       "                <div id=\"bf298143-30d0-4b04-b37a-514fb80e2aa2\" style=\"\n",
       "                    width: 100%;\n",
       "                    border: 1px solid #cfcfcf;\n",
       "                    border-radius: 4px;\n",
       "                    text-align: center;\n",
       "                    position: relative;\">\n",
       "                  <div class=\"pb-text\" style=\"\n",
       "                      position: absolute;\n",
       "                      width: 100%;\">\n",
       "                    0%\n",
       "                  </div>\n",
       "                  <div class=\"pb-fill\" style=\"\n",
       "                      background-color: #bdd2e6;\n",
       "                      width: 0%;\">\n",
       "                    <style type=\"text/css\" scoped=\"scoped\">\n",
       "                        @keyframes pb-fill-anim {\n",
       "                            0% { background-position: 0 0; }\n",
       "                            100% { background-position: 100px 0; }\n",
       "                        }\n",
       "                    </style>\n",
       "                    &nbsp;\n",
       "                  </div>\n",
       "                </div>"
      ],
      "text/plain": [
       "HtmlProgressBar cannot be displayed. Please use the TerminalProgressBar. It can be enabled with `nengo.rc.set('progress', 'progress_bar', 'nengo.utils.progress.TerminalProgressBar')`."
      ]
     },
     "metadata": {},
     "output_type": "display_data"
    },
    {
     "data": {
      "application/javascript": [
       "\n",
       "              (function () {\n",
       "                  var root = document.getElementById('bf298143-30d0-4b04-b37a-514fb80e2aa2');\n",
       "                  var text = root.getElementsByClassName('pb-text')[0];\n",
       "                  var fill = root.getElementsByClassName('pb-fill')[0];\n",
       "\n",
       "                  text.innerHTML = 'Simulation finished in 0:02:03.';\n",
       "                  \n",
       "            if (100.0 > 0.) {\n",
       "                fill.style.transition = 'width 0.1s linear';\n",
       "            } else {\n",
       "                fill.style.transition = 'none';\n",
       "            }\n",
       "\n",
       "            fill.style.width = '100.0%';\n",
       "            fill.style.animation = 'none';\n",
       "            fill.style.backgroundImage = 'none'\n",
       "        \n",
       "                  \n",
       "                fill.style.animation = 'none';\n",
       "                fill.style.backgroundImage = 'none';\n",
       "            \n",
       "              })();\n",
       "        "
      ],
      "text/plain": [
       "<IPython.core.display.Javascript object>"
      ]
     },
     "metadata": {},
     "output_type": "display_data"
    },
    {
     "name": "stdout",
     "output_type": "stream",
     "text": [
      "seed = 17\n",
      "backend = 'nengo_ocl'\n",
      "dt = 0.001\n",
      "neuron_type = 'default'\n",
      "n_neurons_scale = 1\n",
      "n_neurons_scale_combined = 0.25\n",
      "s_crosstalk = 0\n",
      "s_evidence = 20\n",
      "n_samples = 10000\n",
      "t_senso = 0\n",
      "vocab = <nengo_spa.vocabulary.Vocabulary object at 0x7f309a9ee110>\n",
      "xp = <experiments.Xp1 object at 0x7f30989c5f10>\n",
      "proc_feedback = 0.9\n",
      "proc_feedback_synapse = 0.005\n",
      "GW_feedback = 1\n",
      "GW_threshold = 0.5\n",
      "GW_scale = 20\n",
      "BG_thr = 0.1\n",
      "BG_bias = 0.5\n",
      "integrator_reset = False\n",
      "data = <data.Data object at 0x7f309887f290>\n",
      "\t seed 18/20\n",
      "running run_seed18_dim144\n"
     ]
    },
    {
     "data": {
      "text/html": [
       "\n",
       "                <div id=\"2c249237-3a05-488a-85a6-85c7618fc7a6\" style=\"\n",
       "                    width: 100%;\n",
       "                    border: 1px solid #cfcfcf;\n",
       "                    border-radius: 4px;\n",
       "                    text-align: center;\n",
       "                    position: relative;\">\n",
       "                  <div class=\"pb-text\" style=\"\n",
       "                      position: absolute;\n",
       "                      width: 100%;\">\n",
       "                    0%\n",
       "                  </div>\n",
       "                  <div class=\"pb-fill\" style=\"\n",
       "                      background-color: #bdd2e6;\n",
       "                      width: 0%;\">\n",
       "                    <style type=\"text/css\" scoped=\"scoped\">\n",
       "                        @keyframes pb-fill-anim {\n",
       "                            0% { background-position: 0 0; }\n",
       "                            100% { background-position: 100px 0; }\n",
       "                        }\n",
       "                    </style>\n",
       "                    &nbsp;\n",
       "                  </div>\n",
       "                </div>"
      ],
      "text/plain": [
       "HtmlProgressBar cannot be displayed. Please use the TerminalProgressBar. It can be enabled with `nengo.rc.set('progress', 'progress_bar', 'nengo.utils.progress.TerminalProgressBar')`."
      ]
     },
     "metadata": {},
     "output_type": "display_data"
    },
    {
     "data": {
      "application/javascript": [
       "\n",
       "              (function () {\n",
       "                  var root = document.getElementById('2c249237-3a05-488a-85a6-85c7618fc7a6');\n",
       "                  var text = root.getElementsByClassName('pb-text')[0];\n",
       "                  var fill = root.getElementsByClassName('pb-fill')[0];\n",
       "\n",
       "                  text.innerHTML = 'Simulation finished in 0:02:09.';\n",
       "                  \n",
       "            if (100.0 > 0.) {\n",
       "                fill.style.transition = 'width 0.1s linear';\n",
       "            } else {\n",
       "                fill.style.transition = 'none';\n",
       "            }\n",
       "\n",
       "            fill.style.width = '100.0%';\n",
       "            fill.style.animation = 'none';\n",
       "            fill.style.backgroundImage = 'none'\n",
       "        \n",
       "                  \n",
       "                fill.style.animation = 'none';\n",
       "                fill.style.backgroundImage = 'none';\n",
       "            \n",
       "              })();\n",
       "        "
      ],
      "text/plain": [
       "<IPython.core.display.Javascript object>"
      ]
     },
     "metadata": {},
     "output_type": "display_data"
    },
    {
     "name": "stdout",
     "output_type": "stream",
     "text": [
      "seed = 18\n",
      "backend = 'nengo_ocl'\n",
      "dt = 0.001\n",
      "neuron_type = 'default'\n",
      "n_neurons_scale = 1\n",
      "n_neurons_scale_combined = 0.25\n",
      "s_crosstalk = 0\n",
      "s_evidence = 20\n",
      "n_samples = 10000\n",
      "t_senso = 0\n",
      "vocab = <nengo_spa.vocabulary.Vocabulary object at 0x7f309c6523d0>\n",
      "xp = <experiments.Xp1 object at 0x7f30996ee1d0>\n",
      "proc_feedback = 0.9\n",
      "proc_feedback_synapse = 0.005\n",
      "GW_feedback = 1\n",
      "GW_threshold = 0.5\n",
      "GW_scale = 20\n",
      "BG_thr = 0.1\n",
      "BG_bias = 0.5\n",
      "integrator_reset = False\n",
      "data = <data.Data object at 0x7f309bda0b50>\n",
      "\t seed 19/20\n",
      "running run_seed19_dim144\n"
     ]
    },
    {
     "data": {
      "text/html": [
       "\n",
       "                <div id=\"f849b8ad-84f4-41f4-b531-6a60561f0e90\" style=\"\n",
       "                    width: 100%;\n",
       "                    border: 1px solid #cfcfcf;\n",
       "                    border-radius: 4px;\n",
       "                    text-align: center;\n",
       "                    position: relative;\">\n",
       "                  <div class=\"pb-text\" style=\"\n",
       "                      position: absolute;\n",
       "                      width: 100%;\">\n",
       "                    0%\n",
       "                  </div>\n",
       "                  <div class=\"pb-fill\" style=\"\n",
       "                      background-color: #bdd2e6;\n",
       "                      width: 0%;\">\n",
       "                    <style type=\"text/css\" scoped=\"scoped\">\n",
       "                        @keyframes pb-fill-anim {\n",
       "                            0% { background-position: 0 0; }\n",
       "                            100% { background-position: 100px 0; }\n",
       "                        }\n",
       "                    </style>\n",
       "                    &nbsp;\n",
       "                  </div>\n",
       "                </div>"
      ],
      "text/plain": [
       "HtmlProgressBar cannot be displayed. Please use the TerminalProgressBar. It can be enabled with `nengo.rc.set('progress', 'progress_bar', 'nengo.utils.progress.TerminalProgressBar')`."
      ]
     },
     "metadata": {},
     "output_type": "display_data"
    },
    {
     "data": {
      "application/javascript": [
       "\n",
       "              (function () {\n",
       "                  var root = document.getElementById('f849b8ad-84f4-41f4-b531-6a60561f0e90');\n",
       "                  var text = root.getElementsByClassName('pb-text')[0];\n",
       "                  var fill = root.getElementsByClassName('pb-fill')[0];\n",
       "\n",
       "                  text.innerHTML = 'Simulation finished in 0:02:11.';\n",
       "                  \n",
       "            if (100.0 > 0.) {\n",
       "                fill.style.transition = 'width 0.1s linear';\n",
       "            } else {\n",
       "                fill.style.transition = 'none';\n",
       "            }\n",
       "\n",
       "            fill.style.width = '100.0%';\n",
       "            fill.style.animation = 'none';\n",
       "            fill.style.backgroundImage = 'none'\n",
       "        \n",
       "                  \n",
       "                fill.style.animation = 'none';\n",
       "                fill.style.backgroundImage = 'none';\n",
       "            \n",
       "              })();\n",
       "        "
      ],
      "text/plain": [
       "<IPython.core.display.Javascript object>"
      ]
     },
     "metadata": {},
     "output_type": "display_data"
    },
    {
     "name": "stdout",
     "output_type": "stream",
     "text": [
      "seed = 19\n",
      "backend = 'nengo_ocl'\n",
      "dt = 0.001\n",
      "neuron_type = 'default'\n",
      "n_neurons_scale = 1\n",
      "n_neurons_scale_combined = 0.25\n",
      "s_crosstalk = 0\n",
      "s_evidence = 20\n",
      "n_samples = 10000\n",
      "t_senso = 0\n",
      "vocab = <nengo_spa.vocabulary.Vocabulary object at 0x7f3099ad4390>\n",
      "xp = <experiments.Xp1 object at 0x7f3098efd510>\n",
      "proc_feedback = 0.9\n",
      "proc_feedback_synapse = 0.005\n",
      "GW_feedback = 1\n",
      "GW_threshold = 0.5\n",
      "GW_scale = 20\n",
      "BG_thr = 0.1\n",
      "BG_bias = 0.5\n",
      "integrator_reset = False\n",
      "data = <data.Data object at 0x7f309bcb2210>\n",
      "\t seed 20/20\n",
      "running run_seed20_dim144\n"
     ]
    },
    {
     "data": {
      "text/html": [
       "\n",
       "                <div id=\"3e2146aa-b08b-4c6e-9fd1-ba97f5011a87\" style=\"\n",
       "                    width: 100%;\n",
       "                    border: 1px solid #cfcfcf;\n",
       "                    border-radius: 4px;\n",
       "                    text-align: center;\n",
       "                    position: relative;\">\n",
       "                  <div class=\"pb-text\" style=\"\n",
       "                      position: absolute;\n",
       "                      width: 100%;\">\n",
       "                    0%\n",
       "                  </div>\n",
       "                  <div class=\"pb-fill\" style=\"\n",
       "                      background-color: #bdd2e6;\n",
       "                      width: 0%;\">\n",
       "                    <style type=\"text/css\" scoped=\"scoped\">\n",
       "                        @keyframes pb-fill-anim {\n",
       "                            0% { background-position: 0 0; }\n",
       "                            100% { background-position: 100px 0; }\n",
       "                        }\n",
       "                    </style>\n",
       "                    &nbsp;\n",
       "                  </div>\n",
       "                </div>"
      ],
      "text/plain": [
       "HtmlProgressBar cannot be displayed. Please use the TerminalProgressBar. It can be enabled with `nengo.rc.set('progress', 'progress_bar', 'nengo.utils.progress.TerminalProgressBar')`."
      ]
     },
     "metadata": {},
     "output_type": "display_data"
    },
    {
     "data": {
      "application/javascript": [
       "\n",
       "              (function () {\n",
       "                  var root = document.getElementById('3e2146aa-b08b-4c6e-9fd1-ba97f5011a87');\n",
       "                  var text = root.getElementsByClassName('pb-text')[0];\n",
       "                  var fill = root.getElementsByClassName('pb-fill')[0];\n",
       "\n",
       "                  text.innerHTML = 'Simulation finished in 0:02:13.';\n",
       "                  \n",
       "            if (100.0 > 0.) {\n",
       "                fill.style.transition = 'width 0.1s linear';\n",
       "            } else {\n",
       "                fill.style.transition = 'none';\n",
       "            }\n",
       "\n",
       "            fill.style.width = '100.0%';\n",
       "            fill.style.animation = 'none';\n",
       "            fill.style.backgroundImage = 'none'\n",
       "        \n",
       "                  \n",
       "                fill.style.animation = 'none';\n",
       "                fill.style.backgroundImage = 'none';\n",
       "            \n",
       "              })();\n",
       "        "
      ],
      "text/plain": [
       "<IPython.core.display.Javascript object>"
      ]
     },
     "metadata": {},
     "output_type": "display_data"
    },
    {
     "name": "stdout",
     "output_type": "stream",
     "text": [
      "seed = 20\n",
      "backend = 'nengo_ocl'\n",
      "dt = 0.001\n",
      "neuron_type = 'default'\n",
      "n_neurons_scale = 1\n",
      "n_neurons_scale_combined = 0.25\n",
      "s_crosstalk = 0\n",
      "s_evidence = 20\n",
      "n_samples = 10000\n",
      "t_senso = 0\n",
      "vocab = <nengo_spa.vocabulary.Vocabulary object at 0x7f30989ff2d0>\n",
      "xp = <experiments.Xp1 object at 0x7f309bc9cd10>\n",
      "proc_feedback = 0.9\n",
      "proc_feedback_synapse = 0.005\n",
      "GW_feedback = 1\n",
      "GW_threshold = 0.5\n",
      "GW_scale = 20\n",
      "BG_thr = 0.1\n",
      "BG_bias = 0.5\n",
      "integrator_reset = False\n",
      "data = <data.Data object at 0x7f3098de3150>\n",
      "error rate: 0.01666666666666672\n",
      "params: [10.]\n",
      "Simulating...\n",
      "\t seed 1/20\n",
      "\t seed 2/20\n",
      "\t seed 3/20\n",
      "\t seed 4/20\n",
      "\t seed 5/20\n",
      "\t seed 6/20\n",
      "\t seed 7/20\n",
      "\t seed 8/20\n",
      "\t seed 9/20\n",
      "\t seed 10/20\n",
      "\t seed 11/20\n",
      "running run_seed11_dim160\n"
     ]
    },
    {
     "data": {
      "text/html": [
       "\n",
       "                <div id=\"5f957cdc-c7ae-482f-a7a9-ad847ca73f9c\" style=\"\n",
       "                    width: 100%;\n",
       "                    border: 1px solid #cfcfcf;\n",
       "                    border-radius: 4px;\n",
       "                    text-align: center;\n",
       "                    position: relative;\">\n",
       "                  <div class=\"pb-text\" style=\"\n",
       "                      position: absolute;\n",
       "                      width: 100%;\">\n",
       "                    0%\n",
       "                  </div>\n",
       "                  <div class=\"pb-fill\" style=\"\n",
       "                      background-color: #bdd2e6;\n",
       "                      width: 0%;\">\n",
       "                    <style type=\"text/css\" scoped=\"scoped\">\n",
       "                        @keyframes pb-fill-anim {\n",
       "                            0% { background-position: 0 0; }\n",
       "                            100% { background-position: 100px 0; }\n",
       "                        }\n",
       "                    </style>\n",
       "                    &nbsp;\n",
       "                  </div>\n",
       "                </div>"
      ],
      "text/plain": [
       "HtmlProgressBar cannot be displayed. Please use the TerminalProgressBar. It can be enabled with `nengo.rc.set('progress', 'progress_bar', 'nengo.utils.progress.TerminalProgressBar')`."
      ]
     },
     "metadata": {},
     "output_type": "display_data"
    },
    {
     "data": {
      "application/javascript": [
       "\n",
       "              (function () {\n",
       "                  var root = document.getElementById('5f957cdc-c7ae-482f-a7a9-ad847ca73f9c');\n",
       "                  var text = root.getElementsByClassName('pb-text')[0];\n",
       "                  var fill = root.getElementsByClassName('pb-fill')[0];\n",
       "\n",
       "                  text.innerHTML = 'Simulation finished in 0:02:24.';\n",
       "                  \n",
       "            if (100.0 > 0.) {\n",
       "                fill.style.transition = 'width 0.1s linear';\n",
       "            } else {\n",
       "                fill.style.transition = 'none';\n",
       "            }\n",
       "\n",
       "            fill.style.width = '100.0%';\n",
       "            fill.style.animation = 'none';\n",
       "            fill.style.backgroundImage = 'none'\n",
       "        \n",
       "                  \n",
       "                fill.style.animation = 'none';\n",
       "                fill.style.backgroundImage = 'none';\n",
       "            \n",
       "              })();\n",
       "        "
      ],
      "text/plain": [
       "<IPython.core.display.Javascript object>"
      ]
     },
     "metadata": {},
     "output_type": "display_data"
    },
    {
     "name": "stdout",
     "output_type": "stream",
     "text": [
      "seed = 11\n",
      "backend = 'nengo_ocl'\n",
      "dt = 0.001\n",
      "neuron_type = 'default'\n",
      "n_neurons_scale = 1\n",
      "n_neurons_scale_combined = 0.25\n",
      "s_crosstalk = 0\n",
      "s_evidence = 20\n",
      "n_samples = 10000\n",
      "t_senso = 0\n",
      "vocab = <nengo_spa.vocabulary.Vocabulary object at 0x7f3099af5a90>\n",
      "xp = <experiments.Xp1 object at 0x7f309c2ea8d0>\n",
      "proc_feedback = 0.9\n",
      "proc_feedback_synapse = 0.005\n",
      "GW_feedback = 1\n",
      "GW_threshold = 0.5\n",
      "GW_scale = 20\n",
      "BG_thr = 0.1\n",
      "BG_bias = 0.5\n",
      "integrator_reset = False\n",
      "data = <data.Data object at 0x7f3098854a90>\n",
      "\t seed 12/20\n",
      "running run_seed12_dim160\n"
     ]
    },
    {
     "data": {
      "text/html": [
       "\n",
       "                <div id=\"504a6946-f5c3-4081-91b4-788a8cd88846\" style=\"\n",
       "                    width: 100%;\n",
       "                    border: 1px solid #cfcfcf;\n",
       "                    border-radius: 4px;\n",
       "                    text-align: center;\n",
       "                    position: relative;\">\n",
       "                  <div class=\"pb-text\" style=\"\n",
       "                      position: absolute;\n",
       "                      width: 100%;\">\n",
       "                    0%\n",
       "                  </div>\n",
       "                  <div class=\"pb-fill\" style=\"\n",
       "                      background-color: #bdd2e6;\n",
       "                      width: 0%;\">\n",
       "                    <style type=\"text/css\" scoped=\"scoped\">\n",
       "                        @keyframes pb-fill-anim {\n",
       "                            0% { background-position: 0 0; }\n",
       "                            100% { background-position: 100px 0; }\n",
       "                        }\n",
       "                    </style>\n",
       "                    &nbsp;\n",
       "                  </div>\n",
       "                </div>"
      ],
      "text/plain": [
       "HtmlProgressBar cannot be displayed. Please use the TerminalProgressBar. It can be enabled with `nengo.rc.set('progress', 'progress_bar', 'nengo.utils.progress.TerminalProgressBar')`."
      ]
     },
     "metadata": {},
     "output_type": "display_data"
    },
    {
     "data": {
      "application/javascript": [
       "\n",
       "              (function () {\n",
       "                  var root = document.getElementById('504a6946-f5c3-4081-91b4-788a8cd88846');\n",
       "                  var text = root.getElementsByClassName('pb-text')[0];\n",
       "                  var fill = root.getElementsByClassName('pb-fill')[0];\n",
       "\n",
       "                  text.innerHTML = 'Simulation finished in 0:02:21.';\n",
       "                  \n",
       "            if (100.0 > 0.) {\n",
       "                fill.style.transition = 'width 0.1s linear';\n",
       "            } else {\n",
       "                fill.style.transition = 'none';\n",
       "            }\n",
       "\n",
       "            fill.style.width = '100.0%';\n",
       "            fill.style.animation = 'none';\n",
       "            fill.style.backgroundImage = 'none'\n",
       "        \n",
       "                  \n",
       "                fill.style.animation = 'none';\n",
       "                fill.style.backgroundImage = 'none';\n",
       "            \n",
       "              })();\n",
       "        "
      ],
      "text/plain": [
       "<IPython.core.display.Javascript object>"
      ]
     },
     "metadata": {},
     "output_type": "display_data"
    },
    {
     "name": "stdout",
     "output_type": "stream",
     "text": [
      "seed = 12\n",
      "backend = 'nengo_ocl'\n",
      "dt = 0.001\n",
      "neuron_type = 'default'\n",
      "n_neurons_scale = 1\n",
      "n_neurons_scale_combined = 0.25\n",
      "s_crosstalk = 0\n",
      "s_evidence = 20\n",
      "n_samples = 10000\n",
      "t_senso = 0\n",
      "vocab = <nengo_spa.vocabulary.Vocabulary object at 0x7f3098a03e90>\n",
      "xp = <experiments.Xp1 object at 0x7f309e8ff4d0>\n",
      "proc_feedback = 0.9\n",
      "proc_feedback_synapse = 0.005\n",
      "GW_feedback = 1\n",
      "GW_threshold = 0.5\n",
      "GW_scale = 20\n",
      "BG_thr = 0.1\n",
      "BG_bias = 0.5\n",
      "integrator_reset = False\n",
      "data = <data.Data object at 0x7f30953d4090>\n",
      "\t seed 13/20\n",
      "running run_seed13_dim160\n"
     ]
    },
    {
     "data": {
      "text/html": [
       "\n",
       "                <div id=\"f86edb29-9413-46ff-9c9c-e64257ebc45f\" style=\"\n",
       "                    width: 100%;\n",
       "                    border: 1px solid #cfcfcf;\n",
       "                    border-radius: 4px;\n",
       "                    text-align: center;\n",
       "                    position: relative;\">\n",
       "                  <div class=\"pb-text\" style=\"\n",
       "                      position: absolute;\n",
       "                      width: 100%;\">\n",
       "                    0%\n",
       "                  </div>\n",
       "                  <div class=\"pb-fill\" style=\"\n",
       "                      background-color: #bdd2e6;\n",
       "                      width: 0%;\">\n",
       "                    <style type=\"text/css\" scoped=\"scoped\">\n",
       "                        @keyframes pb-fill-anim {\n",
       "                            0% { background-position: 0 0; }\n",
       "                            100% { background-position: 100px 0; }\n",
       "                        }\n",
       "                    </style>\n",
       "                    &nbsp;\n",
       "                  </div>\n",
       "                </div>"
      ],
      "text/plain": [
       "HtmlProgressBar cannot be displayed. Please use the TerminalProgressBar. It can be enabled with `nengo.rc.set('progress', 'progress_bar', 'nengo.utils.progress.TerminalProgressBar')`."
      ]
     },
     "metadata": {},
     "output_type": "display_data"
    },
    {
     "data": {
      "application/javascript": [
       "\n",
       "              (function () {\n",
       "                  var root = document.getElementById('f86edb29-9413-46ff-9c9c-e64257ebc45f');\n",
       "                  var text = root.getElementsByClassName('pb-text')[0];\n",
       "                  var fill = root.getElementsByClassName('pb-fill')[0];\n",
       "\n",
       "                  text.innerHTML = 'Simulation finished in 0:02:19.';\n",
       "                  \n",
       "            if (100.0 > 0.) {\n",
       "                fill.style.transition = 'width 0.1s linear';\n",
       "            } else {\n",
       "                fill.style.transition = 'none';\n",
       "            }\n",
       "\n",
       "            fill.style.width = '100.0%';\n",
       "            fill.style.animation = 'none';\n",
       "            fill.style.backgroundImage = 'none'\n",
       "        \n",
       "                  \n",
       "                fill.style.animation = 'none';\n",
       "                fill.style.backgroundImage = 'none';\n",
       "            \n",
       "              })();\n",
       "        "
      ],
      "text/plain": [
       "<IPython.core.display.Javascript object>"
      ]
     },
     "metadata": {},
     "output_type": "display_data"
    },
    {
     "name": "stdout",
     "output_type": "stream",
     "text": [
      "seed = 13\n",
      "backend = 'nengo_ocl'\n",
      "dt = 0.001\n",
      "neuron_type = 'default'\n",
      "n_neurons_scale = 1\n",
      "n_neurons_scale_combined = 0.25\n",
      "s_crosstalk = 0\n",
      "s_evidence = 20\n",
      "n_samples = 10000\n",
      "t_senso = 0\n",
      "vocab = <nengo_spa.vocabulary.Vocabulary object at 0x7f309867d410>\n",
      "xp = <experiments.Xp1 object at 0x7f3098a21150>\n",
      "proc_feedback = 0.9\n",
      "proc_feedback_synapse = 0.005\n",
      "GW_feedback = 1\n",
      "GW_threshold = 0.5\n",
      "GW_scale = 20\n",
      "BG_thr = 0.1\n",
      "BG_bias = 0.5\n",
      "integrator_reset = False\n",
      "data = <data.Data object at 0x7f3096d33410>\n",
      "\t seed 14/20\n",
      "running run_seed14_dim160\n"
     ]
    },
    {
     "data": {
      "text/html": [
       "\n",
       "                <div id=\"683baf6b-d3eb-46ab-a09d-32416576cc8e\" style=\"\n",
       "                    width: 100%;\n",
       "                    border: 1px solid #cfcfcf;\n",
       "                    border-radius: 4px;\n",
       "                    text-align: center;\n",
       "                    position: relative;\">\n",
       "                  <div class=\"pb-text\" style=\"\n",
       "                      position: absolute;\n",
       "                      width: 100%;\">\n",
       "                    0%\n",
       "                  </div>\n",
       "                  <div class=\"pb-fill\" style=\"\n",
       "                      background-color: #bdd2e6;\n",
       "                      width: 0%;\">\n",
       "                    <style type=\"text/css\" scoped=\"scoped\">\n",
       "                        @keyframes pb-fill-anim {\n",
       "                            0% { background-position: 0 0; }\n",
       "                            100% { background-position: 100px 0; }\n",
       "                        }\n",
       "                    </style>\n",
       "                    &nbsp;\n",
       "                  </div>\n",
       "                </div>"
      ],
      "text/plain": [
       "HtmlProgressBar cannot be displayed. Please use the TerminalProgressBar. It can be enabled with `nengo.rc.set('progress', 'progress_bar', 'nengo.utils.progress.TerminalProgressBar')`."
      ]
     },
     "metadata": {},
     "output_type": "display_data"
    },
    {
     "data": {
      "application/javascript": [
       "\n",
       "              (function () {\n",
       "                  var root = document.getElementById('683baf6b-d3eb-46ab-a09d-32416576cc8e');\n",
       "                  var text = root.getElementsByClassName('pb-text')[0];\n",
       "                  var fill = root.getElementsByClassName('pb-fill')[0];\n",
       "\n",
       "                  text.innerHTML = 'Simulation finished in 0:02:14.';\n",
       "                  \n",
       "            if (100.0 > 0.) {\n",
       "                fill.style.transition = 'width 0.1s linear';\n",
       "            } else {\n",
       "                fill.style.transition = 'none';\n",
       "            }\n",
       "\n",
       "            fill.style.width = '100.0%';\n",
       "            fill.style.animation = 'none';\n",
       "            fill.style.backgroundImage = 'none'\n",
       "        \n",
       "                  \n",
       "                fill.style.animation = 'none';\n",
       "                fill.style.backgroundImage = 'none';\n",
       "            \n",
       "              })();\n",
       "        "
      ],
      "text/plain": [
       "<IPython.core.display.Javascript object>"
      ]
     },
     "metadata": {},
     "output_type": "display_data"
    },
    {
     "name": "stdout",
     "output_type": "stream",
     "text": [
      "seed = 14\n",
      "backend = 'nengo_ocl'\n",
      "dt = 0.001\n",
      "neuron_type = 'default'\n",
      "n_neurons_scale = 1\n",
      "n_neurons_scale_combined = 0.25\n",
      "s_crosstalk = 0\n",
      "s_evidence = 20\n",
      "n_samples = 10000\n",
      "t_senso = 0\n",
      "vocab = <nengo_spa.vocabulary.Vocabulary object at 0x7f309a9a3890>\n",
      "xp = <experiments.Xp1 object at 0x7f30b5f88110>\n",
      "proc_feedback = 0.9\n",
      "proc_feedback_synapse = 0.005\n",
      "GW_feedback = 1\n",
      "GW_threshold = 0.5\n",
      "GW_scale = 20\n",
      "BG_thr = 0.1\n",
      "BG_bias = 0.5\n",
      "integrator_reset = False\n",
      "data = <data.Data object at 0x7f309dad6b50>\n",
      "\t seed 15/20\n",
      "running run_seed15_dim160\n"
     ]
    },
    {
     "data": {
      "text/html": [
       "\n",
       "                <div id=\"22224180-4441-4c95-abd5-8e3b305e02dd\" style=\"\n",
       "                    width: 100%;\n",
       "                    border: 1px solid #cfcfcf;\n",
       "                    border-radius: 4px;\n",
       "                    text-align: center;\n",
       "                    position: relative;\">\n",
       "                  <div class=\"pb-text\" style=\"\n",
       "                      position: absolute;\n",
       "                      width: 100%;\">\n",
       "                    0%\n",
       "                  </div>\n",
       "                  <div class=\"pb-fill\" style=\"\n",
       "                      background-color: #bdd2e6;\n",
       "                      width: 0%;\">\n",
       "                    <style type=\"text/css\" scoped=\"scoped\">\n",
       "                        @keyframes pb-fill-anim {\n",
       "                            0% { background-position: 0 0; }\n",
       "                            100% { background-position: 100px 0; }\n",
       "                        }\n",
       "                    </style>\n",
       "                    &nbsp;\n",
       "                  </div>\n",
       "                </div>"
      ],
      "text/plain": [
       "HtmlProgressBar cannot be displayed. Please use the TerminalProgressBar. It can be enabled with `nengo.rc.set('progress', 'progress_bar', 'nengo.utils.progress.TerminalProgressBar')`."
      ]
     },
     "metadata": {},
     "output_type": "display_data"
    },
    {
     "data": {
      "application/javascript": [
       "\n",
       "              (function () {\n",
       "                  var root = document.getElementById('22224180-4441-4c95-abd5-8e3b305e02dd');\n",
       "                  var text = root.getElementsByClassName('pb-text')[0];\n",
       "                  var fill = root.getElementsByClassName('pb-fill')[0];\n",
       "\n",
       "                  text.innerHTML = 'Simulation finished in 0:02:15.';\n",
       "                  \n",
       "            if (100.0 > 0.) {\n",
       "                fill.style.transition = 'width 0.1s linear';\n",
       "            } else {\n",
       "                fill.style.transition = 'none';\n",
       "            }\n",
       "\n",
       "            fill.style.width = '100.0%';\n",
       "            fill.style.animation = 'none';\n",
       "            fill.style.backgroundImage = 'none'\n",
       "        \n",
       "                  \n",
       "                fill.style.animation = 'none';\n",
       "                fill.style.backgroundImage = 'none';\n",
       "            \n",
       "              })();\n",
       "        "
      ],
      "text/plain": [
       "<IPython.core.display.Javascript object>"
      ]
     },
     "metadata": {},
     "output_type": "display_data"
    },
    {
     "name": "stdout",
     "output_type": "stream",
     "text": [
      "seed = 15\n",
      "backend = 'nengo_ocl'\n",
      "dt = 0.001\n",
      "neuron_type = 'default'\n",
      "n_neurons_scale = 1\n",
      "n_neurons_scale_combined = 0.25\n",
      "s_crosstalk = 0\n",
      "s_evidence = 20\n",
      "n_samples = 10000\n",
      "t_senso = 0\n",
      "vocab = <nengo_spa.vocabulary.Vocabulary object at 0x7f309aa97790>\n",
      "xp = <experiments.Xp1 object at 0x7f30b5c08050>\n",
      "proc_feedback = 0.9\n",
      "proc_feedback_synapse = 0.005\n",
      "GW_feedback = 1\n",
      "GW_threshold = 0.5\n",
      "GW_scale = 20\n",
      "BG_thr = 0.1\n",
      "BG_bias = 0.5\n",
      "integrator_reset = False\n",
      "data = <data.Data object at 0x7f309bd79d50>\n",
      "\t seed 16/20\n",
      "running run_seed16_dim160\n"
     ]
    },
    {
     "data": {
      "text/html": [
       "\n",
       "                <div id=\"d3bdb277-3f36-4266-bf7d-1c97663790e5\" style=\"\n",
       "                    width: 100%;\n",
       "                    border: 1px solid #cfcfcf;\n",
       "                    border-radius: 4px;\n",
       "                    text-align: center;\n",
       "                    position: relative;\">\n",
       "                  <div class=\"pb-text\" style=\"\n",
       "                      position: absolute;\n",
       "                      width: 100%;\">\n",
       "                    0%\n",
       "                  </div>\n",
       "                  <div class=\"pb-fill\" style=\"\n",
       "                      background-color: #bdd2e6;\n",
       "                      width: 0%;\">\n",
       "                    <style type=\"text/css\" scoped=\"scoped\">\n",
       "                        @keyframes pb-fill-anim {\n",
       "                            0% { background-position: 0 0; }\n",
       "                            100% { background-position: 100px 0; }\n",
       "                        }\n",
       "                    </style>\n",
       "                    &nbsp;\n",
       "                  </div>\n",
       "                </div>"
      ],
      "text/plain": [
       "HtmlProgressBar cannot be displayed. Please use the TerminalProgressBar. It can be enabled with `nengo.rc.set('progress', 'progress_bar', 'nengo.utils.progress.TerminalProgressBar')`."
      ]
     },
     "metadata": {},
     "output_type": "display_data"
    },
    {
     "data": {
      "application/javascript": [
       "\n",
       "              (function () {\n",
       "                  var root = document.getElementById('d3bdb277-3f36-4266-bf7d-1c97663790e5');\n",
       "                  var text = root.getElementsByClassName('pb-text')[0];\n",
       "                  var fill = root.getElementsByClassName('pb-fill')[0];\n",
       "\n",
       "                  text.innerHTML = 'Simulation finished in 0:02:11.';\n",
       "                  \n",
       "            if (100.0 > 0.) {\n",
       "                fill.style.transition = 'width 0.1s linear';\n",
       "            } else {\n",
       "                fill.style.transition = 'none';\n",
       "            }\n",
       "\n",
       "            fill.style.width = '100.0%';\n",
       "            fill.style.animation = 'none';\n",
       "            fill.style.backgroundImage = 'none'\n",
       "        \n",
       "                  \n",
       "                fill.style.animation = 'none';\n",
       "                fill.style.backgroundImage = 'none';\n",
       "            \n",
       "              })();\n",
       "        "
      ],
      "text/plain": [
       "<IPython.core.display.Javascript object>"
      ]
     },
     "metadata": {},
     "output_type": "display_data"
    },
    {
     "name": "stdout",
     "output_type": "stream",
     "text": [
      "seed = 16\n",
      "backend = 'nengo_ocl'\n",
      "dt = 0.001\n",
      "neuron_type = 'default'\n",
      "n_neurons_scale = 1\n",
      "n_neurons_scale_combined = 0.25\n",
      "s_crosstalk = 0\n",
      "s_evidence = 20\n",
      "n_samples = 10000\n",
      "t_senso = 0\n",
      "vocab = <nengo_spa.vocabulary.Vocabulary object at 0x7f30985398d0>\n",
      "xp = <experiments.Xp1 object at 0x7f309b556910>\n",
      "proc_feedback = 0.9\n",
      "proc_feedback_synapse = 0.005\n",
      "GW_feedback = 1\n",
      "GW_threshold = 0.5\n",
      "GW_scale = 20\n",
      "BG_thr = 0.1\n",
      "BG_bias = 0.5\n",
      "integrator_reset = False\n",
      "data = <data.Data object at 0x7f30978717d0>\n",
      "\t seed 17/20\n",
      "running run_seed17_dim160\n"
     ]
    },
    {
     "data": {
      "text/html": [
       "\n",
       "                <div id=\"d989b25b-977c-492c-9a6c-5a37fdc1afb3\" style=\"\n",
       "                    width: 100%;\n",
       "                    border: 1px solid #cfcfcf;\n",
       "                    border-radius: 4px;\n",
       "                    text-align: center;\n",
       "                    position: relative;\">\n",
       "                  <div class=\"pb-text\" style=\"\n",
       "                      position: absolute;\n",
       "                      width: 100%;\">\n",
       "                    0%\n",
       "                  </div>\n",
       "                  <div class=\"pb-fill\" style=\"\n",
       "                      background-color: #bdd2e6;\n",
       "                      width: 0%;\">\n",
       "                    <style type=\"text/css\" scoped=\"scoped\">\n",
       "                        @keyframes pb-fill-anim {\n",
       "                            0% { background-position: 0 0; }\n",
       "                            100% { background-position: 100px 0; }\n",
       "                        }\n",
       "                    </style>\n",
       "                    &nbsp;\n",
       "                  </div>\n",
       "                </div>"
      ],
      "text/plain": [
       "HtmlProgressBar cannot be displayed. Please use the TerminalProgressBar. It can be enabled with `nengo.rc.set('progress', 'progress_bar', 'nengo.utils.progress.TerminalProgressBar')`."
      ]
     },
     "metadata": {},
     "output_type": "display_data"
    },
    {
     "data": {
      "application/javascript": [
       "\n",
       "              (function () {\n",
       "                  var root = document.getElementById('d989b25b-977c-492c-9a6c-5a37fdc1afb3');\n",
       "                  var text = root.getElementsByClassName('pb-text')[0];\n",
       "                  var fill = root.getElementsByClassName('pb-fill')[0];\n",
       "\n",
       "                  text.innerHTML = 'Simulation finished in 0:02:09.';\n",
       "                  \n",
       "            if (100.0 > 0.) {\n",
       "                fill.style.transition = 'width 0.1s linear';\n",
       "            } else {\n",
       "                fill.style.transition = 'none';\n",
       "            }\n",
       "\n",
       "            fill.style.width = '100.0%';\n",
       "            fill.style.animation = 'none';\n",
       "            fill.style.backgroundImage = 'none'\n",
       "        \n",
       "                  \n",
       "                fill.style.animation = 'none';\n",
       "                fill.style.backgroundImage = 'none';\n",
       "            \n",
       "              })();\n",
       "        "
      ],
      "text/plain": [
       "<IPython.core.display.Javascript object>"
      ]
     },
     "metadata": {},
     "output_type": "display_data"
    },
    {
     "name": "stdout",
     "output_type": "stream",
     "text": [
      "seed = 17\n",
      "backend = 'nengo_ocl'\n",
      "dt = 0.001\n",
      "neuron_type = 'default'\n",
      "n_neurons_scale = 1\n",
      "n_neurons_scale_combined = 0.25\n",
      "s_crosstalk = 0\n",
      "s_evidence = 20\n",
      "n_samples = 10000\n",
      "t_senso = 0\n",
      "vocab = <nengo_spa.vocabulary.Vocabulary object at 0x7f3097bbb0d0>\n",
      "xp = <experiments.Xp1 object at 0x7f309f0c1a50>\n",
      "proc_feedback = 0.9\n",
      "proc_feedback_synapse = 0.005\n",
      "GW_feedback = 1\n",
      "GW_threshold = 0.5\n",
      "GW_scale = 20\n",
      "BG_thr = 0.1\n",
      "BG_bias = 0.5\n",
      "integrator_reset = False\n",
      "data = <data.Data object at 0x7f3096973a10>\n",
      "\t seed 18/20\n",
      "running run_seed18_dim160\n"
     ]
    },
    {
     "data": {
      "text/html": [
       "\n",
       "                <div id=\"b4cae860-dc3d-4da3-935e-12b1bc5b5885\" style=\"\n",
       "                    width: 100%;\n",
       "                    border: 1px solid #cfcfcf;\n",
       "                    border-radius: 4px;\n",
       "                    text-align: center;\n",
       "                    position: relative;\">\n",
       "                  <div class=\"pb-text\" style=\"\n",
       "                      position: absolute;\n",
       "                      width: 100%;\">\n",
       "                    0%\n",
       "                  </div>\n",
       "                  <div class=\"pb-fill\" style=\"\n",
       "                      background-color: #bdd2e6;\n",
       "                      width: 0%;\">\n",
       "                    <style type=\"text/css\" scoped=\"scoped\">\n",
       "                        @keyframes pb-fill-anim {\n",
       "                            0% { background-position: 0 0; }\n",
       "                            100% { background-position: 100px 0; }\n",
       "                        }\n",
       "                    </style>\n",
       "                    &nbsp;\n",
       "                  </div>\n",
       "                </div>"
      ],
      "text/plain": [
       "HtmlProgressBar cannot be displayed. Please use the TerminalProgressBar. It can be enabled with `nengo.rc.set('progress', 'progress_bar', 'nengo.utils.progress.TerminalProgressBar')`."
      ]
     },
     "metadata": {},
     "output_type": "display_data"
    },
    {
     "data": {
      "application/javascript": [
       "\n",
       "              (function () {\n",
       "                  var root = document.getElementById('b4cae860-dc3d-4da3-935e-12b1bc5b5885');\n",
       "                  var text = root.getElementsByClassName('pb-text')[0];\n",
       "                  var fill = root.getElementsByClassName('pb-fill')[0];\n",
       "\n",
       "                  text.innerHTML = 'Simulation finished in 0:02:16.';\n",
       "                  \n",
       "            if (100.0 > 0.) {\n",
       "                fill.style.transition = 'width 0.1s linear';\n",
       "            } else {\n",
       "                fill.style.transition = 'none';\n",
       "            }\n",
       "\n",
       "            fill.style.width = '100.0%';\n",
       "            fill.style.animation = 'none';\n",
       "            fill.style.backgroundImage = 'none'\n",
       "        \n",
       "                  \n",
       "                fill.style.animation = 'none';\n",
       "                fill.style.backgroundImage = 'none';\n",
       "            \n",
       "              })();\n",
       "        "
      ],
      "text/plain": [
       "<IPython.core.display.Javascript object>"
      ]
     },
     "metadata": {},
     "output_type": "display_data"
    },
    {
     "name": "stdout",
     "output_type": "stream",
     "text": [
      "seed = 18\n",
      "backend = 'nengo_ocl'\n",
      "dt = 0.001\n",
      "neuron_type = 'default'\n",
      "n_neurons_scale = 1\n",
      "n_neurons_scale_combined = 0.25\n",
      "s_crosstalk = 0\n",
      "s_evidence = 20\n",
      "n_samples = 10000\n",
      "t_senso = 0\n",
      "vocab = <nengo_spa.vocabulary.Vocabulary object at 0x7f3097bbb9d0>\n",
      "xp = <experiments.Xp1 object at 0x7f309bbe6a50>\n",
      "proc_feedback = 0.9\n",
      "proc_feedback_synapse = 0.005\n",
      "GW_feedback = 1\n",
      "GW_threshold = 0.5\n",
      "GW_scale = 20\n",
      "BG_thr = 0.1\n",
      "BG_bias = 0.5\n",
      "integrator_reset = False\n",
      "data = <data.Data object at 0x7f309b4f4990>\n",
      "\t seed 19/20\n",
      "running run_seed19_dim160\n"
     ]
    },
    {
     "data": {
      "text/html": [
       "\n",
       "                <div id=\"84ca2864-823e-4409-a23a-9092ccf69695\" style=\"\n",
       "                    width: 100%;\n",
       "                    border: 1px solid #cfcfcf;\n",
       "                    border-radius: 4px;\n",
       "                    text-align: center;\n",
       "                    position: relative;\">\n",
       "                  <div class=\"pb-text\" style=\"\n",
       "                      position: absolute;\n",
       "                      width: 100%;\">\n",
       "                    0%\n",
       "                  </div>\n",
       "                  <div class=\"pb-fill\" style=\"\n",
       "                      background-color: #bdd2e6;\n",
       "                      width: 0%;\">\n",
       "                    <style type=\"text/css\" scoped=\"scoped\">\n",
       "                        @keyframes pb-fill-anim {\n",
       "                            0% { background-position: 0 0; }\n",
       "                            100% { background-position: 100px 0; }\n",
       "                        }\n",
       "                    </style>\n",
       "                    &nbsp;\n",
       "                  </div>\n",
       "                </div>"
      ],
      "text/plain": [
       "HtmlProgressBar cannot be displayed. Please use the TerminalProgressBar. It can be enabled with `nengo.rc.set('progress', 'progress_bar', 'nengo.utils.progress.TerminalProgressBar')`."
      ]
     },
     "metadata": {},
     "output_type": "display_data"
    },
    {
     "data": {
      "application/javascript": [
       "\n",
       "              (function () {\n",
       "                  var root = document.getElementById('84ca2864-823e-4409-a23a-9092ccf69695');\n",
       "                  var text = root.getElementsByClassName('pb-text')[0];\n",
       "                  var fill = root.getElementsByClassName('pb-fill')[0];\n",
       "\n",
       "                  text.innerHTML = 'Simulation finished in 0:02:17.';\n",
       "                  \n",
       "            if (100.0 > 0.) {\n",
       "                fill.style.transition = 'width 0.1s linear';\n",
       "            } else {\n",
       "                fill.style.transition = 'none';\n",
       "            }\n",
       "\n",
       "            fill.style.width = '100.0%';\n",
       "            fill.style.animation = 'none';\n",
       "            fill.style.backgroundImage = 'none'\n",
       "        \n",
       "                  \n",
       "                fill.style.animation = 'none';\n",
       "                fill.style.backgroundImage = 'none';\n",
       "            \n",
       "              })();\n",
       "        "
      ],
      "text/plain": [
       "<IPython.core.display.Javascript object>"
      ]
     },
     "metadata": {},
     "output_type": "display_data"
    },
    {
     "name": "stdout",
     "output_type": "stream",
     "text": [
      "seed = 19\n",
      "backend = 'nengo_ocl'\n",
      "dt = 0.001\n",
      "neuron_type = 'default'\n",
      "n_neurons_scale = 1\n",
      "n_neurons_scale_combined = 0.25\n",
      "s_crosstalk = 0\n",
      "s_evidence = 20\n",
      "n_samples = 10000\n",
      "t_senso = 0\n",
      "vocab = <nengo_spa.vocabulary.Vocabulary object at 0x7f3098dfbed0>\n",
      "xp = <experiments.Xp1 object at 0x7f309ecfb9d0>\n",
      "proc_feedback = 0.9\n",
      "proc_feedback_synapse = 0.005\n",
      "GW_feedback = 1\n",
      "GW_threshold = 0.5\n",
      "GW_scale = 20\n",
      "BG_thr = 0.1\n",
      "BG_bias = 0.5\n",
      "integrator_reset = False\n",
      "data = <data.Data object at 0x7f309a4f7bd0>\n",
      "\t seed 20/20\n",
      "running run_seed20_dim160\n"
     ]
    },
    {
     "data": {
      "text/html": [
       "\n",
       "                <div id=\"364de50c-7875-44d7-99ed-850bb9a44570\" style=\"\n",
       "                    width: 100%;\n",
       "                    border: 1px solid #cfcfcf;\n",
       "                    border-radius: 4px;\n",
       "                    text-align: center;\n",
       "                    position: relative;\">\n",
       "                  <div class=\"pb-text\" style=\"\n",
       "                      position: absolute;\n",
       "                      width: 100%;\">\n",
       "                    0%\n",
       "                  </div>\n",
       "                  <div class=\"pb-fill\" style=\"\n",
       "                      background-color: #bdd2e6;\n",
       "                      width: 0%;\">\n",
       "                    <style type=\"text/css\" scoped=\"scoped\">\n",
       "                        @keyframes pb-fill-anim {\n",
       "                            0% { background-position: 0 0; }\n",
       "                            100% { background-position: 100px 0; }\n",
       "                        }\n",
       "                    </style>\n",
       "                    &nbsp;\n",
       "                  </div>\n",
       "                </div>"
      ],
      "text/plain": [
       "HtmlProgressBar cannot be displayed. Please use the TerminalProgressBar. It can be enabled with `nengo.rc.set('progress', 'progress_bar', 'nengo.utils.progress.TerminalProgressBar')`."
      ]
     },
     "metadata": {},
     "output_type": "display_data"
    },
    {
     "data": {
      "application/javascript": [
       "\n",
       "              (function () {\n",
       "                  var root = document.getElementById('364de50c-7875-44d7-99ed-850bb9a44570');\n",
       "                  var text = root.getElementsByClassName('pb-text')[0];\n",
       "                  var fill = root.getElementsByClassName('pb-fill')[0];\n",
       "\n",
       "                  text.innerHTML = 'Simulation finished in 0:02:14.';\n",
       "                  \n",
       "            if (100.0 > 0.) {\n",
       "                fill.style.transition = 'width 0.1s linear';\n",
       "            } else {\n",
       "                fill.style.transition = 'none';\n",
       "            }\n",
       "\n",
       "            fill.style.width = '100.0%';\n",
       "            fill.style.animation = 'none';\n",
       "            fill.style.backgroundImage = 'none'\n",
       "        \n",
       "                  \n",
       "                fill.style.animation = 'none';\n",
       "                fill.style.backgroundImage = 'none';\n",
       "            \n",
       "              })();\n",
       "        "
      ],
      "text/plain": [
       "<IPython.core.display.Javascript object>"
      ]
     },
     "metadata": {},
     "output_type": "display_data"
    },
    {
     "name": "stdout",
     "output_type": "stream",
     "text": [
      "seed = 20\n",
      "backend = 'nengo_ocl'\n",
      "dt = 0.001\n",
      "neuron_type = 'default'\n",
      "n_neurons_scale = 1\n",
      "n_neurons_scale_combined = 0.25\n",
      "s_crosstalk = 0\n",
      "s_evidence = 20\n",
      "n_samples = 10000\n",
      "t_senso = 0\n",
      "vocab = <nengo_spa.vocabulary.Vocabulary object at 0x7f309cdaddd0>\n",
      "xp = <experiments.Xp1 object at 0x7f3099acbf10>\n",
      "proc_feedback = 0.9\n",
      "proc_feedback_synapse = 0.005\n",
      "GW_feedback = 1\n",
      "GW_threshold = 0.5\n",
      "GW_scale = 20\n",
      "BG_thr = 0.1\n",
      "BG_bias = 0.5\n",
      "integrator_reset = False\n",
      "data = <data.Data object at 0x7f30989d6610>\n",
      "error rate: 0.01041666666666663\n",
      "10.0 0.01041666666666663 [ 1.  2.  3.  4.  5.  6.  7.  8.  9. 10.] [0.61041667 0.27083333 0.10416667 0.09166667 0.04791667 0.0125\n",
      " 0.03125    0.01458333 0.01666667 0.01041667]\n"
     ]
    }
   ],
   "source": [
    "data_dir = \"evaluate_performance/dim_to_delete\"\n",
    "\n",
    "def evaluation_function(params):\n",
    "    \n",
    "    print(\"params:\", params)\n",
    "    data = []\n",
    "    \n",
    "#     if params[0]==1:\n",
    "#     return 0\n",
    "    \n",
    "    D = int(params[0] * 16)    \n",
    "    \n",
    "    print('Simulating...')\n",
    "    for i,seed in enumerate(range(STARTING_SEED, STARTING_SEED+N_SEEDS)):\n",
    "        print('\\t seed '+str(i+1)+'/'+str(N_SEEDS))\n",
    "        data_filename = 'run_seed'+str(seed)+'_dim'+str(D)   \n",
    "        \n",
    "        try:\n",
    "            seed_data = pd.read_pickle(data_dir+'/'+data_filename+'.csv')\n",
    "        \n",
    "        except FileNotFoundError:\n",
    "            xp = create_xp(N_BLOCKS_PER_OPERATION, N_TRIALS_PER_DIGIT, N_DIFFERENT_DIGITS, N_DIFFERENT_OPERATIONS, STIM_DURATION, FIX_DURATION, seed)\n",
    "            results = ExperimentRun().run(\n",
    "                n_neurons_scale=N_NEURONS_SCALE,\n",
    "                n_neurons_scale_combined=N_NEURONS_SCALE_COMBINED,\n",
    "                s_crosstalk=0,\n",
    "                s_evidence=S_EVIDENCE,\n",
    "                n_samples=N_SAMPLES,\n",
    "                integrator_reset=INTEGRATOR_RESET,\n",
    "                t_senso=0,\n",
    "                vocab=create_vocab(D, seed),\n",
    "                xp=xp,\n",
    "                proc_feedback=PROC_FDBCK,\n",
    "                proc_feedback_synapse=PROC_FDBCK_SYN,\n",
    "                GW_feedback=GW_FDBCK,\n",
    "                GW_scale=GW_SCALE,\n",
    "                BG_thr=BG_THR,\n",
    "                BG_bias=BG_BIAS,\n",
    "                seed=seed,\n",
    "                backend=\"nengo_ocl\",\n",
    "                data_dir=data_dir,\n",
    "                data_filename=data_filename,\n",
    "                plt=False\n",
    "            )\n",
    "\n",
    "            seed_data = results['data'].df\n",
    "            seed_data.to_pickle(data_dir+'/'+data_filename+'.csv')\n",
    "        \n",
    "        data.append(seed_data)\n",
    "        \n",
    "        \n",
    "    data = Data(pd.concat(data))\n",
    "    error_rate = data.error_rate\n",
    "    print('error rate:', error_rate)\n",
    "    return error_rate\n",
    "\n",
    "    \n",
    "x0, fval, grid, jout = brute(\n",
    "    evaluation_function, \n",
    "    (\n",
    "        (6, 10), # number of dimensions (*16)\n",
    "    ),\n",
    "    Ns=1, \n",
    "    full_output=True,\n",
    "    finish=None\n",
    ")\n",
    "\n",
    "print(x0, fval, grid, jout)\n",
    "np.save(data_dir+\"/x0_2\", x0)\n",
    "np.save(data_dir+\"/fval_2\", fval)\n",
    "np.save(data_dir+\"/grid_2\", grid)\n",
    "np.save(data_dir+\"/jout_2\", jout)"
   ]
  },
  {
   "cell_type": "code",
   "execution_count": null,
   "metadata": {},
   "outputs": [],
   "source": []
  },
  {
   "cell_type": "code",
   "execution_count": 5,
   "metadata": {},
   "outputs": [
    {
     "name": "stdout",
     "output_type": "stream",
     "text": [
      "10.0 0.01041666666666663 [ 1.  2.  3.  4.  5.  6.  7.  8.  9. 10.] [0.61041667 0.27083333 0.10416667 0.09166667 0.04791667 0.0125\n",
      " 0.03125    0.01458333 0.01666667 0.01041667]\n"
     ]
    }
   ],
   "source": [
    "print(x0, fval, grid, jout)\n",
    "np.save(data_dir+\"/x0_2\", x0)\n",
    "np.save(data_dir+\"/fval_2\", fval)\n",
    "np.save(data_dir+\"/grid_2\", grid)\n",
    "np.save(data_dir+\"/jout_2\", jout)"
   ]
  },
  {
   "cell_type": "code",
   "execution_count": 6,
   "metadata": {
    "scrolled": true
   },
   "outputs": [
    {
     "data": {
      "image/png": "[encoded data removed]",
      "text/plain": [
       "<Figure size 432x288 with 1 Axes>"
      ]
     },
     "metadata": {
      "needs_background": "light"
     },
     "output_type": "display_data"
    }
   ],
   "source": [
    "start = 0\n",
    "mpl.rcParams['lines.linewidth'] = 2\n",
    "mpl.rcParams['lines.color'] = \"black\"\n",
    "mpl.rcParams['font.size'] = 15\n",
    "mpl.rcParams['errorbar.capsize'] = 3\n",
    "\n",
    "\n",
    "accuracies = np.array([all_data.df.loc[all_data.df['dim'] == dim]['acc'].to_list() for dim in grid*16])\n",
    "accuracies = 100-100*accuracies\n",
    "means = accuracies.mean(axis=1)\n",
    "sems = sem(accuracies, axis=1)\n",
    "\n",
    "accuracies_simple = np.array([all_data.df.loc[(all_data.df['dim'] == dim) & (all_data.df['rule'] == 0)]['acc'].to_list() for dim in grid*16])\n",
    "accuracies_simple = 100-100*accuracies_simple\n",
    "means_simple = accuracies_simple.mean(axis=1)\n",
    "sems_simple = sem(accuracies_simple, axis=1)\n",
    "\n",
    "accuracies_chained = np.array([all_data.df.loc[(all_data.df['dim'] == dim) & (all_data.df['rule'] != 0)]['acc'].to_list() for dim in grid*16])\n",
    "accuracies_chained = 100-100*accuracies_chained\n",
    "means_chained = accuracies_chained.mean(axis=1)\n",
    "sems_chained = sem(accuracies_chained, axis=1)\n",
    "\n",
    "\n",
    "plt.errorbar(grid*16, means_chained, sems_chained, color=\"black\", label='Chained', linestyle='dotted')\n",
    "plt.errorbar(grid*16, means, sems, color=\"black\", label='All')\n",
    "plt.errorbar(grid*16, means_simple, sems_simple, color=\"black\", label='Simple', linestyle='-.')\n",
    "plt.xlabel('Number of dimensions')\n",
    "plt.ylabel('Error rate (%)')\n",
    "plt.xticks(grid*16)\n",
    "plt.ylim(bottom=0)\n",
    "plt.yticks(range(0,90,10))\n",
    "plt.gca().spines['right'].set_color('none')\n",
    "plt.gca().spines['top'].set_color('none')\n",
    "plt.legend()\n",
    "\n",
    "plt.show()"
   ]
  },
  {
   "cell_type": "code",
   "execution_count": 7,
   "metadata": {
    "scrolled": true
   },
   "outputs": [
    {
     "data": {
      "image/png": "[encoded data removed]",
      "text/plain": [
       "<Figure size 432x288 with 1 Axes>"
      ]
     },
     "metadata": {
      "needs_background": "light"
     },
     "output_type": "display_data"
    }
   ],
   "source": [
    "mpl.rcParams['lines.linewidth'] = 2\n",
    "mpl.rcParams['lines.color'] = \"black\"\n",
    "mpl.rcParams['font.size'] = 15\n",
    "mpl.rcParams['errorbar.capsize'] = 3\n",
    "\n",
    "\n",
    "accuracies = np.array([all_data.df.loc[all_data.df['dim'] == dim]['acc'].to_list() for dim in grid*16])\n",
    "accuracies = 100-100*accuracies\n",
    "means = accuracies.mean(axis=1)\n",
    "sems = sem(accuracies, axis=1)\n",
    "\n",
    "accuracies_simple = np.array([all_data.df.loc[(all_data.df['dim'] == dim) & (all_data.df['rule'] == 0)]['acc'].to_list() for dim in grid*16])\n",
    "accuracies_simple = 100-100*accuracies_simple\n",
    "means_simple = accuracies_simple.mean(axis=1)\n",
    "sems_simple = sem(accuracies_simple, axis=1)\n",
    "\n",
    "accuracies_chained = np.array([all_data.df.loc[(all_data.df['dim'] == dim) & (all_data.df['rule'] != 0)]['acc'].to_list() for dim in grid*16])\n",
    "accuracies_chained = 100-100*accuracies_chained\n",
    "means_chained = accuracies_chained.mean(axis=1)\n",
    "sems_chained = sem(accuracies_chained, axis=1)\n",
    "\n",
    "\n",
    "plt.errorbar(grid*16, means_chained, sems_chained, color=\"black\", label='Chained', linestyle='dotted')\n",
    "plt.errorbar(grid*16, means, sems, color=\"black\", label='All')\n",
    "plt.errorbar(grid*16, means_simple, sems_simple, color=\"black\", label='Simple', linestyle='-.')\n",
    "plt.xlabel('Number of dimensions')\n",
    "plt.ylabel('Error rate (%)')\n",
    "plt.xticks(grid*16)\n",
    "plt.ylim(bottom=0)\n",
    "plt.yticks(range(0,90,10))\n",
    "plt.gca().spines['right'].set_color('none')\n",
    "plt.gca().spines['top'].set_color('none')\n",
    "plt.legend()\n",
    "\n",
    "plt.show()"
   ]
  },
  {
   "cell_type": "code",
   "execution_count": null,
   "metadata": {},
   "outputs": [],
   "source": []
  }
 ],
 "metadata": {
  "kernelspec": {
   "display_name": "Python 3",
   "language": "python",
   "name": "python3"
  },
  "language_info": {
   "codemirror_mode": {
    "name": "ipython",
    "version": 3
   },
   "file_extension": ".py",
   "mimetype": "text/x-python",
   "name": "python",
   "nbconvert_exporter": "python",
   "pygments_lexer": "ipython3",
   "version": "3.7.5"
  }
 },
 "nbformat": 4,
 "nbformat_minor": 2
}
