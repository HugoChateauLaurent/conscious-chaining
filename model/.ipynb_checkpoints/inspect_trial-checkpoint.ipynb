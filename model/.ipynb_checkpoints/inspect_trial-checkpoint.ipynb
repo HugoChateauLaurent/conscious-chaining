{
 "cells": [
  {
   "cell_type": "code",
   "execution_count": 1,
   "metadata": {},
   "outputs": [],
   "source": [
    "import nengo\n",
    "import nengo_spa as spa\n",
    "import numpy as np\n",
    "from random import shuffle\n",
    "import random\n",
    "import sys, os\n",
    "import math\n",
    "from IPython import display\n",
    "\n",
    "# Import our classes\n",
    "sys.path.append('..')\n",
    "import experiments as xps\n",
    "from experiments import create_xp\n",
    "from model import *\n",
    "from vocabs import create_vocabs\n",
    "\n",
    "# Select Nengo simulator\n",
    "backend = 'nengo'\n",
    "if backend=='nengo_ocl':\n",
    "    import nengo_ocl\n",
    "    simulator_cls = nengo_ocl.Simulator\n",
    "elif backend=='nengo_dl':\n",
    "    import nengo_dl\n",
    "    simulator_cls = nengo_dl.Simulator\n",
    "else:\n",
    "    simulator_cls = nengo.Simulator\n",
    "    \n",
    "\n",
    "\n",
    "import matplotlib.pyplot as plt\n",
    "import matplotlib.patches as mpatches\n",
    "from matplotlib.colors import ListedColormap\n",
    "from cycler import cycler\n",
    "%matplotlib inline\n",
    "\n",
    "# color-blind accessibility\n",
    "default_cycler = cycler('color', ['#006BA4', '#FF800E', '#ABABAB', '#595959', '#5F9ED1', '#C85200', '#898989', '#A2C8EC', '#FFBC79', '#CFCFCF'])\n",
    "plt.rc('axes', prop_cycle=(default_cycler))\n"
   ]
  },
  {
   "cell_type": "markdown",
   "metadata": {},
   "source": [
    "# Model variables"
   ]
  },
  {
   "cell_type": "code",
   "execution_count": null,
   "metadata": {},
   "outputs": [
    {
     "name": "stdout",
     "output_type": "stream",
     "text": [
      "seed: 21373\n"
     ]
    },
    {
     "data": {
      "application/vdom.v1+json": {
       "attributes": {},
       "tagName": "div"
      },
      "text/html": [
       "\n",
       "                <script>\n",
       "                    if (Jupyter.version.split(\".\")[0] < 5) {\n",
       "                        var pb = document.getElementById(\"a4cc3c31-d8de-4c44-a76d-fdad371bdb39\");\n",
       "                        var text = document.createTextNode(\n",
       "                            \"HMTL progress bar requires Jupyter Notebook >= \" +\n",
       "                            \"5.0 or Jupyter Lab. Alternatively, you can use \" +\n",
       "                            \"TerminalProgressBar().\");\n",
       "                        pb.parentNode.insertBefore(text, pb);\n",
       "                    }\n",
       "                </script>\n",
       "                <div id=\"a4cc3c31-d8de-4c44-a76d-fdad371bdb39\" style=\"\n",
       "                    width: 100%;\n",
       "                    border: 1px solid #cfcfcf;\n",
       "                    border-radius: 4px;\n",
       "                    text-align: center;\n",
       "                    position: relative;\">\n",
       "                  <div class=\"pb-text\" style=\"\n",
       "                      position: absolute;\n",
       "                      width: 100%;\">\n",
       "                    0%\n",
       "                  </div>\n",
       "                  <div class=\"pb-fill\" style=\"\n",
       "                      background-color: #bdd2e6;\n",
       "                      width: 0%;\">\n",
       "                    <style type=\"text/css\" scoped=\"scoped\">\n",
       "                        @keyframes pb-fill-anim {\n",
       "                            0% { background-position: 0 0; }\n",
       "                            100% { background-position: 100px 0; }\n",
       "                        }\n",
       "                    </style>\n",
       "                    &nbsp;\n",
       "                  </div>\n",
       "                </div>"
      ],
      "text/plain": [
       "HtmlProgressBar cannot be displayed. Please use the TerminalProgressBar. It can be enabled with `nengo.rc.set('progress', 'progress_bar', 'nengo.utils.progress.TerminalProgressBar')`."
      ]
     },
     "metadata": {},
     "output_type": "display_data"
    },
    {
     "data": {
      "application/vdom.v1+json": {
       "attributes": {
        "id": "ff99e038-ec81-405e-a68d-27ce202cf964",
        "style": {
         "border": "1px solid #cfcfcf",
         "borderRadius": "4px",
         "boxSizing": "border-box",
         "position": "relative",
         "textAlign": "center",
         "width": "100%"
        }
       },
       "children": [
        {
         "attributes": {
          "class": "pb-text",
          "style": {
           "position": "absolute",
           "width": "100%"
          }
         },
         "children": [
          "Build finished in 0:00:23."
         ],
         "tagName": "div"
        },
        {
         "attributes": {
          "class": "pb-fill",
          "style": {
           "animation": "none",
           "backgroundColor": "#bdd2e6",
           "backgroundImage": "none",
           "backgroundSize": "100px 100%",
           "width": "100%"
          }
         },
         "children": [
          {
           "attributes": {
            "scoped": "scoped",
            "type": "text/css"
           },
           "children": [
            "\n                        @keyframes pb-fill-anim {\n                            0% { background-position: 0 0; }\n                            100% { background-position: 100px 0; }\n                        }}"
           ],
           "tagName": "style"
          },
          " "
         ],
         "tagName": "div"
        }
       ],
       "tagName": "div"
      },
      "text/html": [
       "<script>\n",
       "              (function () {\n",
       "                  var root = document.getElementById('a4cc3c31-d8de-4c44-a76d-fdad371bdb39');\n",
       "                  var text = root.getElementsByClassName('pb-text')[0];\n",
       "                  var fill = root.getElementsByClassName('pb-fill')[0];\n",
       "\n",
       "                  text.innerHTML = 'Build finished in 0:00:23.';\n",
       "                  \n",
       "            fill.style.width = '100%';\n",
       "            fill.style.animation = 'pb-fill-anim 2s linear infinite';\n",
       "            fill.style.backgroundSize = '100px 100%';\n",
       "            fill.style.backgroundImage = 'repeating-linear-gradient(' +\n",
       "                '90deg, #bdd2e6, #edf2f8 40%, #bdd2e6 80%, #bdd2e6)';\n",
       "        \n",
       "                  \n",
       "                fill.style.animation = 'none';\n",
       "                fill.style.backgroundImage = 'none';\n",
       "            \n",
       "              })();\n",
       "        </script>"
      ]
     },
     "metadata": {},
     "output_type": "display_data"
    },
    {
     "data": {
      "application/vdom.v1+json": {
       "attributes": {},
       "tagName": "div"
      },
      "text/html": [
       "\n",
       "                <script>\n",
       "                    if (Jupyter.version.split(\".\")[0] < 5) {\n",
       "                        var pb = document.getElementById(\"3a291792-63ea-4e60-9c6a-33830a38468e\");\n",
       "                        var text = document.createTextNode(\n",
       "                            \"HMTL progress bar requires Jupyter Notebook >= \" +\n",
       "                            \"5.0 or Jupyter Lab. Alternatively, you can use \" +\n",
       "                            \"TerminalProgressBar().\");\n",
       "                        pb.parentNode.insertBefore(text, pb);\n",
       "                    }\n",
       "                </script>\n",
       "                <div id=\"3a291792-63ea-4e60-9c6a-33830a38468e\" style=\"\n",
       "                    width: 100%;\n",
       "                    border: 1px solid #cfcfcf;\n",
       "                    border-radius: 4px;\n",
       "                    text-align: center;\n",
       "                    position: relative;\">\n",
       "                  <div class=\"pb-text\" style=\"\n",
       "                      position: absolute;\n",
       "                      width: 100%;\">\n",
       "                    0%\n",
       "                  </div>\n",
       "                  <div class=\"pb-fill\" style=\"\n",
       "                      background-color: #bdd2e6;\n",
       "                      width: 0%;\">\n",
       "                    <style type=\"text/css\" scoped=\"scoped\">\n",
       "                        @keyframes pb-fill-anim {\n",
       "                            0% { background-position: 0 0; }\n",
       "                            100% { background-position: 100px 0; }\n",
       "                        }\n",
       "                    </style>\n",
       "                    &nbsp;\n",
       "                  </div>\n",
       "                </div>"
      ],
      "text/plain": [
       "HtmlProgressBar cannot be displayed. Please use the TerminalProgressBar. It can be enabled with `nengo.rc.set('progress', 'progress_bar', 'nengo.utils.progress.TerminalProgressBar')`."
      ]
     },
     "metadata": {},
     "output_type": "display_data"
    },
    {
     "data": {
      "application/vdom.v1+json": {
       "attributes": {
        "id": "56ae2bbe-9008-4d69-9c9c-a8095340fa38",
        "style": {
         "border": "1px solid #cfcfcf",
         "borderRadius": "4px",
         "boxSizing": "border-box",
         "position": "relative",
         "textAlign": "center",
         "width": "100%"
        }
       },
       "children": [
        {
         "attributes": {
          "class": "pb-text",
          "style": {
           "position": "absolute",
           "width": "100%"
          }
         },
         "children": [
          "Simulating… 1%, ETA: 4:23:45"
         ],
         "tagName": "div"
        },
        {
         "attributes": {
          "class": "pb-fill",
          "style": {
           "animation": "none",
           "backgroundColor": "#bdd2e6",
           "backgroundImage": "none",
           "transition": "width 0.1s linear",
           "width": "1%"
          }
         },
         "children": [
          {
           "attributes": {
            "scoped": "scoped",
            "type": "text/css"
           },
           "children": [
            "\n                        @keyframes pb-fill-anim {\n                            0% { background-position: 0 0; }\n                            100% { background-position: 100px 0; }\n                        }}"
           ],
           "tagName": "style"
          },
          " "
         ],
         "tagName": "div"
        }
       ],
       "tagName": "div"
      },
      "text/html": [
       "<script>\n",
       "              (function () {\n",
       "                  var root = document.getElementById('3a291792-63ea-4e60-9c6a-33830a38468e');\n",
       "                  var text = root.getElementsByClassName('pb-text')[0];\n",
       "                  var fill = root.getElementsByClassName('pb-fill')[0];\n",
       "\n",
       "                  text.innerHTML = 'Simulating&hellip; 1%, ETA: 4:23:45';\n",
       "                  \n",
       "            if (1.4055555555555554 > 0.) {\n",
       "                fill.style.transition = 'width 0.1s linear';\n",
       "            } else {\n",
       "                fill.style.transition = 'none';\n",
       "            }\n",
       "\n",
       "            fill.style.width = '1.4055555555555554%';\n",
       "            fill.style.animation = 'none';\n",
       "            fill.style.backgroundImage = 'none'\n",
       "        \n",
       "                  \n",
       "              })();\n",
       "        </script>"
      ]
     },
     "metadata": {},
     "output_type": "display_data"
    }
   ],
   "source": [
    "# Parameters of the model\n",
    "D = int(128)\n",
    "BG_THR = .5\n",
    "BG_BIAS = .5\n",
    "N_SAMPLES = 10000\n",
    "INTEGRATOR_RESET = True\n",
    "PROC_FEEDBACK = .8\n",
    "COMPARE_TAU = 0\n",
    "N_NEURONS_SCALE = 1\n",
    "N_NEURONS_SCALE_COMBINED = 0.25\n",
    "N_NEURONS_PER_DIM = make_n_neurons_per_dim(N_NEURONS_SCALE, N_NEURONS_SCALE_COMBINED)\n",
    "\n",
    "# Parameters of the experiment\n",
    "N_BLOCKS_PER_OPERATION = 1 # default: 10\n",
    "N_TRIALS_PER_DIGIT = 20 # default: 5\n",
    "N_DIFFERENT_DIGITS = 2 # default: 4\n",
    "N_DIFFERENT_OPERATIONS = 1 # default: 3\n",
    "STIM_DURATION = .1\n",
    "FIX_DURATION = .25\n",
    "T_ANSWER = 1\n",
    "\n",
    "\n",
    "number_of_total_trials = N_BLOCKS_PER_OPERATION * N_TRIALS_PER_DIGIT * N_DIFFERENT_DIGITS * N_DIFFERENT_OPERATIONS\n",
    "seed = np.random.randint(99999)\n",
    "seed = 21373\n",
    "print(\"seed:\", seed)\n",
    "\n",
    "vocabs = create_vocabs(D, seed)\n",
    "xp = create_xp(1, N_BLOCKS_PER_OPERATION, N_TRIALS_PER_DIGIT, N_DIFFERENT_DIGITS, N_DIFFERENT_OPERATIONS, STIM_DURATION, FIX_DURATION, T_ANSWER, seed)\n",
    "#     xp = xps.TestMasking(.2, number_of_learning_trials, trials) # SOA can be 16, 33 or 83ms\n",
    "\n",
    "T = number_of_total_trials * xp.trial_length - .00001# simulations run a bit too long\n",
    "\n",
    "model = Model(\n",
    "    vocabs, \n",
    "    xp, \n",
    "    N_SAMPLES,\n",
    "    INTEGRATOR_RESET,\n",
    "    PROC_FEEDBACK,\n",
    "    COMPARE_TAU,\n",
    "    BG_THR, \n",
    "    BG_BIAS, \n",
    "    N_NEURONS_PER_DIM, \n",
    "    seed=seed, \n",
    "    plot=True)\n",
    "\n",
    "net = model.network\n",
    "sim = model.run(simulator_cls)\n",
    "print(net.n_neurons, 'neurons')"
   ]
  },
  {
   "cell_type": "markdown",
   "metadata": {},
   "source": [
    "# Plot results"
   ]
  },
  {
   "cell_type": "code",
   "execution_count": null,
   "metadata": {},
   "outputs": [],
   "source": [
    "def format_plot(t_range, title):\n",
    "    \n",
    "    plt.title(title, size=15)\n",
    "    plt.xlim(left=t_range[0], right=t_range[-1])\n",
    "\n",
    "    plt.yticks(range(3), range(3))\n",
    "    plt.xticks(np.arange(trange[0], trange[-1], xp.trial_length))\n",
    "\n",
    "def plot_similarities(t_range, data, vocab, keys=False, autoscale=False, title='Similarity', sort_legend=True, subplot_nrows=0, subplot_ncols=0, subplot_i = 1):\n",
    "        \n",
    "        if not keys:\n",
    "            keys = list(vocab.keys())\n",
    "\n",
    "        if subplot_nrows * subplot_ncols > 0:\n",
    "            plt.subplot(subplot_nrows,subplot_ncols,subplot_i)\n",
    "\n",
    "        vectors = np.array([vocab.parse(p).v for p in keys])\n",
    "        \n",
    "        plt.ylim(-1, 2.5)\n",
    "        plt.autoscale(autoscale, axis='y')\n",
    "        plt.grid(False)\n",
    "        handles = plt.plot(t_range, spa.similarity(data, vectors), linewidth=2.5)\n",
    "        leg = plt.legend(handles, keys, loc='upper center', ncol=4)\n",
    "        for line in leg.get_lines():\n",
    "            line.set_linewidth(4.0)\n",
    "        \n",
    "        format_plot(t_range, title)\n",
    "        \n",
    "        if subplot_nrows * subplot_ncols == 0:\n",
    "            plt.show()\n",
    "\n",
    "\n",
    "        return subplot_i + 1"
   ]
  },
  {
   "cell_type": "code",
   "execution_count": null,
   "metadata": {
    "scrolled": false
   },
   "outputs": [],
   "source": [
    "def trial_t(trial_number):\n",
    "    return trial_number*xp.trial_length\n",
    "\n",
    "focus_start = 0 # first trial to plot\n",
    "n_focus = 3 # how many trials to plot\n",
    "start = trial_t(focus_start)\n",
    "end = trial_t(focus_start+n_focus)\n",
    "skip = 1\n",
    "trange = sim.trange()\n",
    "selected_idx = np.where(np.logical_and(trange > start, trange < end))\n",
    "trange = trange[selected_idx][::skip]\n",
    "\n",
    "\n",
    "plot_similarities(trange, sim.data[model.probes[net.POS]][selected_idx][::skip], model.vocabs['big vocab'], keys=['D1','D2','D3','D4','D5'], title='POS')\n",
    "# plot_similarities(trange, sim.data[model.probes[net.INCREMENT]][selected_idx][::skip], model.vocabs['big vocab'], keys=['D1','D2','D3','D4','D5'], title='INCREMENT')\n",
    "plot_similarities(trange, sim.data[model.probes[net.GET_PRIM]][selected_idx][::skip], model.vocabs['big vocab'], keys=['GET_V', 'GET_COM', 'GET_ADD'], title='GET PRIM')\n",
    "plot_similarities(trange, sim.data[model.probes[net.SET_PRIM]][selected_idx][::skip], model.vocabs['big vocab'], keys=['SET_COM', 'SET_ADD', 'SET_M'], title='SET PRIM')\n",
    "plot_similarities(trange, sim.data[model.probes[net.V]['out']][selected_idx][::skip], model.vocabs['big vocab'], keys=['D2','D4','D6','D8','FIXATE'], title='Visual')\n",
    "plot_similarities(trange, sim.data[model.probes[net.V]['preconscious']][selected_idx][::skip], model.vocabs['big vocab'], keys=['D2','D4','D6','D8','FIXATE'], title='Visual preconscious')\n",
    "# plot_similarities(trange, sim.data[model.probes[net.ADD]['in']][selected_idx][::skip], model.vocabs['big vocab'], keys=['D2','D4','D6','D8','FIXATE'], title='Add in')\n",
    "# plot_similarities(trange, sim.data[model.probes[net.ADD]['out']][selected_idx][::skip], model.vocabs['big vocab'], keys=['D0','D2','D4','D6','D8','D10'], title='Add')\n",
    "# plot_similarities(trange, sim.data[model.probes[net.COM]['in']][selected_idx][::skip], model.vocabs['big vocab'], keys=['D2','D4','D6','D8','FIXATE'], title='Com in')\n",
    "plot_similarities(trange, sim.data[model.probes[net.COM]['in']][selected_idx][::skip], model.vocabs['big vocab'], keys=['D2','D4','D6','D8','FIXATE'], title='Com in')\n",
    "plot_similarities(trange, sim.data[model.probes[net.COM]['out']][selected_idx][::skip], model.vocabs['big vocab'], keys=['MORE','LESS'], title='Com')\n",
    "# plot_similarities(trange, sim.data[model.probes[net.GW]['in'][net.V]][selected_idx][::skip], model.vocabs['big vocab'], keys=['D2','D4','D6','D8','FIXATE'], title='V GW in')\n",
    "plot_similarities(trange, sim.data[model.probes[net.GW]['out']][selected_idx][::skip], model.vocabs['big vocab'], keys=['D2','D4','D6','D8','MORE','LESS','FIXATE'], title='Global workspace')\n",
    "plot_similarities(trange, sim.data[model.probes[net.M]['out']][selected_idx][::skip], model.vocabs['big vocab'], keys=['MORE','LESS'], title='Motor')\n",
    "\n",
    "# plt.plot(trange, sim.data[model.probes['INCREMENT_trigger']][selected_idx][::skip])\n",
    "# format_plot(trange, 'Increment trigger')\n",
    "# plt.show()\n",
    "\n",
    "for AS_net in [model.network.GET_selector, model.network.SET_selector]:#, model.network.ADD.result_controller]:\n",
    "    for i in range(AS_net.AS.bg.input.size_out):\n",
    "        for source in ['in','out']:\n",
    "            plt.plot(trange, sim.data[model.probes[AS_net][source]][:,i][selected_idx])\n",
    "            format_plot(trange, AS_net.labels[i]+' '+source)\n",
    "            plt.ylim(-.1,1.2)\n",
    "            plt.show()\n",
    "\n",
    "plt.subplot(subplot_nrows,subplot_ncols,subplot_i)\n",
    "plt.title('Compare integrator', size=15)\n",
    "#     plt.subplot(subplot_nrows,subplot_ncols,subplot_i)\n",
    "plt.plot(trange, sim.data[model.probes['compared']][selected_idx], color='gray', linewidth=1.5, linestyle='solid', label='input')\n",
    "plt.plot(trange, sim.data[model.probes['integrator']][selected_idx][:,1], color='gray', linewidth=2, linestyle=(0, (1, 5)), label='control')\n",
    "plt.plot(trange, sim.data[model.probes['integrator']][selected_idx][:,0], color='black', linewidth=1.5, label='integrator')\n",
    "plt.xlim(left=trange[0], right=trange[-1])\n",
    "plt.xticks(np.arange(trange[0], trange[-1], xp.trial_length), fontsize=10)\n",
    "\n",
    "\n",
    "\n",
    "#     plt.yticks([-.5,.5], ['-','+'])\n",
    "#     plt.ylim(-.2,2.2)\n",
    "ax = plt.gca()\n",
    "ax.yaxis.set_label_position(\"right\")\n",
    "ax.yaxis.tick_right()\n",
    "plt.ylim(-2,2)\n",
    "plt.ylabel(\"Action integration\", labelpad=15, size=12).set_rotation(-90)\n",
    "plt.legend(ncol=3)#, handlelength=3)\n",
    "subplot_i+=1\n",
    "\n",
    "#     plt.savefig('cogsci_trial.svg')\n",
    "plt.show()\n",
    "\n",
    "#     plt.plot(sim.trange()[selected_idx], sim.data[model.probes['BTN']][selected_idx])\n",
    "\n",
    "#     for p in model.senders:\n",
    "#         print(p.label)\n",
    "#         plt.plot(trange, sim.data[model.probes['processors'][p.label]['sent']][selected_idx])\n",
    "#         plt.title('sent '+p.label)\n",
    "#         plt.show()\n",
    "\n",
    "#     for p in model.receivers:\n",
    "#         print(p.label)\n",
    "#         plt.plot(trange, sim.data[model.probes['processors'][p.label]['received']][selected_idx])\n",
    "#         plt.title('received '+p.label)\n",
    "#         plt.show()\n",
    "\n",
    "# #     plt.plot(trange, sim.data[model.probes['PREV_reset_step']][selected_idx])\n",
    "# #     plt.show()"
   ]
  },
  {
   "cell_type": "code",
   "execution_count": null,
   "metadata": {},
   "outputs": [],
   "source": [
    "digit_key_to_int = {'D2':2, 'D4':4, 'D6':6, 'D8':8}\n",
    "digit_key_to_idx = {k:i for i,k in enumerate(digit_key_to_int.keys())}\n",
    "operations_key_to_idx = {k:i for i,k in enumerate(['SIMPLE', 'CHAINED_ADD', 'CHAINED_SUB'])}\n",
    "\n",
    "n_per_condition = N_BLOCKS_PER_OPERATION * N_TRIALS_PER_DIGIT\n",
    "\n",
    "RTs = np.zeros((N_DIFFERENT_OPERATIONS, N_DIFFERENT_DIGITS, n_per_condition)) \n",
    "performance = np.zeros((N_DIFFERENT_OPERATIONS, N_DIFFERENT_DIGITS, n_per_condition)) # 0:no answer / 1:wrong answer / 2:correct answer\n",
    "xp_errors = []\n",
    "model_actions = []\n",
    "expected_actions = []\n",
    "\n",
    "indices = np.zeros((N_DIFFERENT_OPERATIONS, N_DIFFERENT_DIGITS), dtype=int) \n",
    "\n",
    "t = 0\n",
    "while t<T-.01:\n",
    "    t += xp.trial_length\n",
    "    trial = model.experiment(t)[0]\n",
    "    expected_action = trial.expected_action\n",
    "    expected_actions.append(expected_action)\n",
    "    t_window = (np.where(np.logical_and(sim.trange() < t, sim.trange() > t-model.experiment.trial_length))[0],)\n",
    "    \n",
    "    print(expected_action, trial.stimulus, trial.operation)\n",
    "    # get model's action\n",
    "    model_behaviour = sim.data[model.probes['BTN']][t_window]\n",
    "    if np.count_nonzero(model_behaviour) > 1:\n",
    "        raise ValueError(\"more than one action\")\n",
    "    \n",
    "    \n",
    "    cond_idx = (operations_key_to_idx[trial.operation], digit_key_to_idx[trial.stimulus])\n",
    "    trial_idx = indices[cond_idx]\n",
    "    \n",
    "    model_action = model_behaviour.sum()\n",
    "    model_actions.append(int(model_action))\n",
    "    if model_action == 0:\n",
    "        trial_RT = 0\n",
    "        trial_performance = 0\n",
    "    else:\n",
    "        action_t_idx = np.nonzero(model_behaviour[:,0])\n",
    "        trial_RT = sim.trange()[t_window][action_t_idx][0] - (t-model.experiment.trial_length) - model.experiment.t_start\n",
    "        trial_performance = int(model_action==expected_action) + 1\n",
    "    \n",
    "    xp_errors += [trial_performance!=2]\n",
    "    \n",
    "    performance[cond_idx+(trial_idx,)] = trial_performance\n",
    "    RTs[cond_idx+(trial_idx,)] = trial_RT\n",
    "    \n",
    "    indices[cond_idx] += 1 # increment index of this condition\n",
    "    \n",
    "\n",
    "\n",
    "xp_errors = np.array(xp_errors, dtype=bool)\n",
    "\n",
    "plt.figure(figsize=(8,1))\n",
    "plt.eventplot(np.where(xp_errors)[0]+1, color='black')\n",
    "plt.yticks([])\n",
    "plt.ylabel('Error')\n",
    "plt.xlim(0,len(xp_errors)+1)\n",
    "plt.title('Score: '+str(number_of_total_trials-xp_errors.sum())+'/'+str(number_of_total_trials)+\"\\n\"+\n",
    "         \"error rate: \"+str(round(100*xp_errors.sum()/number_of_total_trials,2))+\"%\")\n",
    "plt.xlabel('Trial')\n",
    "plt.show()\n",
    "\n",
    "\n"
   ]
  },
  {
   "cell_type": "code",
   "execution_count": null,
   "metadata": {},
   "outputs": [],
   "source": [
    "expected_actions_matrix = np.zeros((number_of_total_trials,3))\n",
    "for i,a in enumerate(expected_actions):\n",
    "    expected_actions_matrix[i,a] += 1\n",
    "\n",
    "# cmap = ListedColormap(['white', 'cyan'])\n",
    "cmap = ListedColormap(['white', 'khaki'])\n",
    "    \n",
    "# plt.figure(figsize=(16,6))\n",
    "# plt.imshow(expected_actions_matrix.T, origin='lower', cmap=cmap)\n",
    "# plt.xlabel(\"Trial\", size=15)\n",
    "# plt.yticks(range(3),['None','Less','More'], size=15)\n",
    "# plt.xticks(range(number_of_total_trials), range(1,number_of_total_trials+1))\n",
    "\n",
    "# plt.plot(model_actions,'o',color='black')\n",
    "# plt.title('Score: '+str(number_of_total_trials-xp_errors.sum())+'/'+str(number_of_total_trials), size=15)\n",
    "# plt.ylim(0.5,2.5)\n",
    "# plt.show()\n",
    "\n",
    "plt.figure(figsize=(16,6))\n",
    "plt.imshow(expected_actions_matrix.T, origin='lower', cmap=cmap)\n",
    "plt.xlabel(\"Trial\", size=15)\n",
    "plt.yticks(range(3),['None','Less','More'], size=15)\n",
    "plt.xticks(range(number_of_total_trials), range(1,number_of_total_trials+1))\n",
    "\n",
    "plt.plot(model_actions,'o',color='black')\n",
    "plt.title('Score: '+str(number_of_total_trials-xp_errors.sum())+'/'+str(number_of_total_trials), size=15)\n",
    "plt.show()"
   ]
  },
  {
   "cell_type": "markdown",
   "metadata": {},
   "source": [
    "## Simple blocks plot"
   ]
  },
  {
   "cell_type": "code",
   "execution_count": null,
   "metadata": {},
   "outputs": [],
   "source": [
    "RTs_simple = np.copy(RTs[0,:,:]) * 1000\n",
    "RTs_simple = [RTs_simple[i,:] for i in range(n_different_digits)]\n",
    "print(RTs_simple)\n",
    "for digit_RTs in RTs_simple:\n",
    "#     print(digit_RTs.shape)\n",
    "    digit_RTs = digit_RTs[digit_RTs != 0] # remove outliers (no answer)\n",
    "#     print(digit_RTs.shape)\n",
    "#     print('\\n')\n",
    "\n",
    "RTs_simple_median = np.array([np.median(digit_RTs) for digit_RTs in RTs_simple])\n",
    "RTs_simple_std = np.array([digit_RTs.std() for digit_RTs in RTs_simple])\n",
    "plt.errorbar([2,4,6,8][:n_different_digits], RTs_simple_median, yerr=RTs_simple_std, color='black', capsize=3, capthick=2, marker='.', markersize=12, markerfacecolor='white')\n",
    "plt.ylabel('Median Reaction times (ms)')\n",
    "plt.xlabel('Stimuli')\n",
    "plt.xticks([2,4,6,8][:n_different_digits])\n",
    "plt.show()\n",
    "\n",
    "print(RTs_simple_median)\n",
    "\n",
    "\n",
    "\n",
    "\n",
    "for unresponsive_as_error in [False,True]:\n",
    "\n",
    "    if unresponsive_as_error:\n",
    "        performance_simple = np.copy(performance[0,:,:])\n",
    "        err_simple = np.sum(performance_simple != 2, axis=1) / n_per_condition * 100\n",
    "        plt.title('Errors and absence of response')\n",
    "        \n",
    "    else:\n",
    "        performance_simple = np.copy(performance[0,:,:])\n",
    "        n_responsive = np.sum(performance_simple!=0) # count the number of responses\n",
    "        err_simple = np.sum(performance_simple == 1, axis=1) / n_responsive * 100\n",
    "        plt.title('Errors')\n",
    "\n",
    "    plt.bar([2,4,6,8][:n_different_digits], err_simple, color='black')\n",
    "    plt.ylabel('Error rates (%)')\n",
    "    plt.xlabel('Stimuli')\n",
    "    plt.xticks([2,4,6,8][:n_different_digits])\n",
    "    plt.ylim(bottom=0)\n",
    "    plt.show()\n",
    "        "
   ]
  },
  {
   "cell_type": "markdown",
   "metadata": {},
   "source": [
    "build: 4\n",
    "sim: 8\n",
    "\n",
    "Build finished in 0:02:48                                                      \n",
    "Optimization finished in 0:00:47                                               \n",
    "Construction finished in 0:00:04                                               \n",
    "Simulation finished in 0:09:59    "
   ]
  },
  {
   "cell_type": "code",
   "execution_count": null,
   "metadata": {},
   "outputs": [],
   "source": []
  },
  {
   "cell_type": "code",
   "execution_count": null,
   "metadata": {},
   "outputs": [],
   "source": []
  }
 ],
 "metadata": {
  "kernelspec": {
   "display_name": "Python 3",
   "language": "python",
   "name": "python3"
  },
  "language_info": {
   "codemirror_mode": {
    "name": "ipython",
    "version": 3
   },
   "file_extension": ".py",
   "mimetype": "text/x-python",
   "name": "python",
   "nbconvert_exporter": "python",
   "pygments_lexer": "ipython3",
   "version": "3.8.5"
  }
 },
 "nbformat": 4,
 "nbformat_minor": 2
}
