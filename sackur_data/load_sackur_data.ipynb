{
 "cells": [
  {
   "cell_type": "code",
   "execution_count": 14,
   "metadata": {},
   "outputs": [
    {
     "name": "stdout",
     "output_type": "stream",
     "text": [
      "(11400, 14)\n",
      "Index(['suj', 'ses', 'bblock', 'miniblock', 'respside', 'rule', 'stim', 'acc',\n",
      "       'rt', 'cg', 'target', 'code', 'begend', 'newcode'],\n",
      "      dtype='object')\n",
      "(11400,)\n",
      "1\n",
      "<class 'pandas.core.frame.DataFrame'>\n",
      "\n",
      "     1    2\n",
      "0  0.0  0.0\n",
      "1  0.0  0.0\n",
      "2  0.0  0.0\n",
      "3  0.0  0.0\n"
     ]
    }
   ],
   "source": [
    "import pyreadr\n",
    "import pandas as pd\n",
    "import matplotlib.pyplot as plt\n",
    "import scipy\n",
    "from scipy.stats import sem\n",
    "import numpy as np\n",
    "\n",
    "result = pyreadr.read_r('exp1.R')['data']\n",
    "print(result.shape)\n",
    "print(result.columns)\n",
    "print(result['suj'].shape)\n",
    "\n",
    "\n",
    "## suj: participant\n",
    "## ses: (\"session\"): training = 1 / main = 2\n",
    "## block: larger blocks (1 -- 10)\n",
    "## miniblock: smaller blocks of 20 trials (1 -- 30)\n",
    "## respside: (1/2) withinn participant counterbalancing of response side\n",
    "## rule: -2, 0 (simple comparison), +2\n",
    "## stim: stimulus (2, 4, 6, 8)\n",
    "## acc: accuracy (0: error / 1: correct)\n",
    "## rt: response times (ms --- values of 0 are probably anticipations)\n",
    "## cg: congruency (1: congruent / -1 incongruent); is the result of the application of the rule one the same side of 5 as the stimulus itself? meaningful only for rule !=0\n",
    "## target: result of the application of the rule to the stimulus\n",
    "## code: ?\n",
    "## begend: ?\n",
    "## newCode: ? \n",
    "\n",
    "class Data():\n",
    "    def __init__(self, data):\n",
    "        self.data = data\n",
    "\n",
    "class SackurData(Data):\n",
    "    def __init__(self):\n",
    "        super().__init__(pyreadr.read_r('exp1.R')['data'])\n",
    "        \n",
    "    @property\n",
    "    def main(self):\n",
    "        return self.data.loc[self.data['ses'] == 2]\n",
    "    \n",
    "    @property\n",
    "    def training(self):\n",
    "        return self.data.loc[self.data['ses'] == 2]\n",
    "    \n",
    "d = Data(1)\n",
    "print(d.data)\n",
    "\n",
    "sd = SackurData()\n",
    "print(type(sd.data))\n",
    "print()\n",
    "\n",
    "data = pd.DataFrame(np.stack((np.zeros(4), np.zeros(4)), axis=1),columns=[1,2])\n",
    "print(data)"
   ]
  },
  {
   "cell_type": "code",
   "execution_count": 15,
   "metadata": {},
   "outputs": [
    {
     "name": "stdout",
     "output_type": "stream",
     "text": [
      "(73, 14)\n",
      "(array([1., 2.]), array([5400, 5400]))\n",
      "       suj  ses  bblock  miniblock  respside  rule  stim  acc   rt   cg  \\\n",
      "20      10    2       1          2       1.0     0     4    0  546  1.0   \n",
      "21      10    2       1          2       1.0     0     8    1  585  1.0   \n",
      "22      10    2       1          2       1.0     0     2    1  664  1.0   \n",
      "23      10    2       1          2       1.0     0     6    1  570  1.0   \n",
      "24      10    2       1          2       1.0     0     2    1  649  1.0   \n",
      "...    ...  ...     ...        ...       ...   ...   ...  ...  ...  ...   \n",
      "11395    9    2      10         30       1.0     0     2    1  414  1.0   \n",
      "11396    9    2      10         30       1.0     0     4    1  461  1.0   \n",
      "11397    9    2      10         30       1.0     0     8    1  351  1.0   \n",
      "11398    9    2      10         30       1.0     0     8    1  336  1.0   \n",
      "11399    9    2      10         30       1.0     0     8    1  505  1.0   \n",
      "\n",
      "       target code begend newcode  \n",
      "20        4.0    d      b     546  \n",
      "21        8.0    d      b     585  \n",
      "22        2.0    d      b     664  \n",
      "23        6.0    d      b     570  \n",
      "24        2.0    d      b     649  \n",
      "...       ...  ...    ...     ...  \n",
      "11395     2.0    d      e     414  \n",
      "11396     4.0    d      e     461  \n",
      "11397     8.0    d      e     351  \n",
      "11398     8.0    d      e     336  \n",
      "11399     8.0    d      e     505  \n",
      "\n",
      "[3800 rows x 14 columns]\n"
     ]
    }
   ],
   "source": [
    "print(result.loc[result['rt'] == 0].shape) # rt is 0 (\"anticipation\")\n",
    "\n",
    "main = result.loc[result['ses'] == 2] # remove training data\n",
    "# training = result.loc[result['ses'] == 1]\n",
    "\n",
    "print(np.unique(main['respside'], return_counts=True))\n",
    "print(result.loc[result['rule'] == 0])\n"
   ]
  },
  {
   "cell_type": "markdown",
   "metadata": {},
   "source": [
    "# Simple blocks"
   ]
  },
  {
   "cell_type": "code",
   "execution_count": 30,
   "metadata": {},
   "outputs": [
    {
     "name": "stderr",
     "output_type": "stream",
     "text": [
      "No handles with labels found to put in legend.\n",
      "No handles with labels found to put in legend.\n"
     ]
    },
    {
     "data": {
      "image/png": "[encoded data removed]",
      "text/plain": [
       "<Figure size 1152x432 with 2 Axes>"
      ]
     },
     "metadata": {
      "needs_background": "light"
     },
     "output_type": "display_data"
    }
   ],
   "source": [
    "simple = main.loc[main['rule'] == 0]\n",
    "stimuli = [2,4,6,8]\n",
    "data = [simple.loc[simple['stim'] == s] for s in stimuli]\n",
    "error_rates = [100 - 100*np.mean(s['acc']) for s in data]\n",
    "\n",
    "RTs = np.array([s['rt'] for s in data])\n",
    "\n",
    "    \n",
    "plt.figure(figsize=(16,6))\n",
    "\n",
    "plt.subplot(1,2,1)\n",
    "plt.errorbar(stimuli, np.median(RTs, axis=1), sem(RTs, axis=1), color='black', capsize=3)\n",
    "plt.xticks(stimuli)\n",
    "plt.xlabel('Stimuli')\n",
    "plt.ylabel('Median reaction times (ms)')\n",
    "plt.legend()\n",
    "\n",
    "plt.subplot(1,2,2)\n",
    "plt.bar(stimuli, error_rates, color='black')\n",
    "plt.xticks(stimuli)\n",
    "plt.xlabel('Stimuli')\n",
    "plt.ylabel('Error rates (%)')\n",
    "plt.legend()\n",
    "plt.show()\n",
    "\n",
    "\n",
    "\n",
    "    "
   ]
  },
  {
   "cell_type": "markdown",
   "metadata": {},
   "source": [
    "# Chained blocks"
   ]
  },
  {
   "cell_type": "code",
   "execution_count": 32,
   "metadata": {},
   "outputs": [
    {
     "name": "stdout",
     "output_type": "stream",
     "text": [
      "(3600, 14) (3600, 14) (3600, 14) (3600, 14)\n"
     ]
    },
    {
     "data": {
      "image/png": "[encoded data removed]",
      "text/plain": [
       "<Figure size 1152x432 with 2 Axes>"
      ]
     },
     "metadata": {
      "needs_background": "light"
     },
     "output_type": "display_data"
    }
   ],
   "source": [
    "stimuli = np.array([2,4,6,8])\n",
    "add = main.loc[main['rule'] == 2]\n",
    "sub = main.loc[main['rule'] == -2]\n",
    "congruent = main.loc[(main['cg'] == 1) & (main['rule'] != 0)]\n",
    "incongruent = main.loc[(main['cg'] == -1) & (main['rule'] != 0)]\n",
    "\n",
    "data_add = [add.loc[add['stim'] == s] for s in stimuli]\n",
    "data_sub = [sub.loc[sub['stim'] == s] for s in stimuli]\n",
    "error_rates_add = [100 - 100*np.mean(s['acc']) for s in data_add]\n",
    "error_rates_sub = [100 - 100*np.mean(s['acc']) for s in data_sub]\n",
    "RTs_add = np.array([s['rt'] for s in data_add])\n",
    "RTs_sub = np.array([s['rt'] for s in data_sub])\n",
    "\n",
    "data_congruent = [congruent.loc[congruent['stim'] == s] for s in stimuli]\n",
    "data_incongruent = [incongruent.loc[incongruent['stim'] == s] for s in stimuli]\n",
    "error_rates_congruent = [100 - 100*np.mean(s['acc']) for s in data_congruent]\n",
    "error_rates_incongruent = [100 - 100*np.mean(s['acc']) for s in data_incongruent]\n",
    "RTs_congruent = np.array([s['rt'] for s in data_congruent])\n",
    "RTs_incongruent = np.array([s['rt'] for s in data_incongruent])\n",
    "\n",
    "    \n",
    "\n",
    "plt.figure(figsize=(16,6))\n",
    "\n",
    "plt.subplot(1,2,1)\n",
    "plt.errorbar(stimuli, np.median(RTs_add, axis=1), sem(RTs_add, axis=1), color='black', ls='none', capsize=3, fmt='^', label='add')\n",
    "plt.errorbar(stimuli, np.median(RTs_sub, axis=1), sem(RTs_sub, axis=1), color='black', ls='none', capsize=3, fmt='o', label='sub')\n",
    "\n",
    "plt.plot(stimuli, np.median(RTs_congruent, axis=1), linestyle=(0, (5, 10)), color='black', label='congruent')\n",
    "plt.plot(stimuli, np.median(RTs_incongruent, axis=1), linestyle='dotted', color='black', label='incongruent')\n",
    "\n",
    "plt.xticks(stimuli)\n",
    "plt.xlabel('Stimuli')\n",
    "plt.ylabel('Median reaction times (ms)')\n",
    "plt.legend()\n",
    "\n",
    "plt.subplot(1,2,2)\n",
    "bar_width = .5\n",
    "bar_x_offset = bar_width + .1\n",
    "plt.bar(stimuli, error_rates_sub, width=bar_width, label='sub', color='white', edgecolor='black')\n",
    "plt.bar(stimuli+bar_x_offset, error_rates_add, width=bar_width, label='add', color='black')\n",
    "\n",
    "congruent_x_offset = [bar_x_offset if s in [2,6] else 0 for s in stimuli]\n",
    "incongruent_x_offset = [bar_x_offset if s not in [2,6] else 0 for s in stimuli]\n",
    "plt.plot(stimuli + congruent_x_offset, error_rates_congruent, linestyle=(0, (5, 10)), color='black', label='congruent')\n",
    "plt.plot(stimuli + incongruent_x_offset, error_rates_incongruent, linestyle='dotted', color='black', label='incongruent')\n",
    "\n",
    "plt.xticks(stimuli)\n",
    "plt.xlabel('Stimuli')\n",
    "plt.ylabel('Error rates (%)')\n",
    "plt.legend()\n",
    "plt.show()\n",
    "\n",
    "\n",
    "\n",
    "    "
   ]
  },
  {
   "cell_type": "code",
   "execution_count": 38,
   "metadata": {},
   "outputs": [
    {
     "name": "stdout",
     "output_type": "stream",
     "text": [
      "[0.25 0.   0.   0.   0.   0.   0.   0.   0.   0.75]\n",
      "[0.5 0.  0.  0.  0.  0.  0.  0.  0.  0.5]\n",
      "0.13081203594113697\n"
     ]
    },
    {
     "name": "stderr",
     "output_type": "stream",
     "text": [
      "/home/ubuntu/anaconda3/envs/CTN/lib/python3.7/site-packages/ipykernel_launcher.py:17: RuntimeWarning: invalid value encountered in true_divide\n"
     ]
    }
   ],
   "source": [
    "from scipy.stats import entropy as kl_div\n",
    "\n",
    "a = [1,1,1,0]\n",
    "b = [1,0,1,0,1,0]\n",
    "\n",
    "\n",
    "\n",
    "def kl_div(a,b):\n",
    "    q, bin_edges = np.histogram(b)\n",
    "    p = np.histogram(a, bins=bin_edges)[0]\n",
    "    \n",
    "    # normalize histograms\n",
    "    p = p / p.sum()\n",
    "    q = q / q.sum()\n",
    "    print(p)\n",
    "    print(q)\n",
    "    return np.sum(np.where(p != 0, p * np.log(p / q), 0))\n",
    "\n",
    "\n",
    "print(kl_div(a,b))"
   ]
  },
  {
   "cell_type": "code",
   "execution_count": 27,
   "metadata": {},
   "outputs": [
    {
     "name": "stdout",
     "output_type": "stream",
     "text": [
      "inf\n"
     ]
    },
    {
     "name": "stderr",
     "output_type": "stream",
     "text": [
      "/home/ubuntu/anaconda3/envs/CTN/lib/python3.7/site-packages/ipykernel_launcher.py:12: RuntimeWarning: divide by zero encountered in true_divide\n",
      "  if sys.path[0] == '':\n"
     ]
    }
   ],
   "source": []
  },
  {
   "cell_type": "code",
   "execution_count": null,
   "metadata": {},
   "outputs": [],
   "source": []
  }
 ],
 "metadata": {
  "kernelspec": {
   "display_name": "CTN",
   "language": "python",
   "name": "ctn"
  },
  "language_info": {
   "codemirror_mode": {
    "name": "ipython",
    "version": 3
   },
   "file_extension": ".py",
   "mimetype": "text/x-python",
   "name": "python",
   "nbconvert_exporter": "python",
   "pygments_lexer": "ipython3",
   "version": "3.7.5"
  }
 },
 "nbformat": 4,
 "nbformat_minor": 2
}
