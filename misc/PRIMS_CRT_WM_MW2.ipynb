{
 "cells": [
  {
   "cell_type": "code",
   "execution_count": 1,
   "metadata": {},
   "outputs": [],
   "source": [
    "import nengo\n",
    "import nengo_spa as spa\n",
    "import numpy as np\n",
    "# import nengo_ocl\n",
    "import sys, os\n",
    "import math\n",
    "import matplotlib.pyplot as plt\n",
    "%matplotlib inline\n",
    "\n",
    "from IPython import display\n",
    "from nengo_gui.ipython import IPythonViz"
   ]
  },
  {
   "cell_type": "markdown",
   "metadata": {},
   "source": [
    "This is a model that learns to do two tasks: A Choice reaction time task and a Working Memory task. First set global parameters and populate the vocabulary."
   ]
  },
  {
   "cell_type": "code",
   "execution_count": 2,
   "metadata": {},
   "outputs": [
    {
     "name": "stderr",
     "output_type": "stream",
     "text": [
      "/home/hugo/anaconda3/envs/CTN/lib/python3.7/site-packages/nengo_spa/vocabulary.py:173: UserWarning: Could not create a semantic pointer with max_similarity=0.10 (D=128, M=26, similarity=0.11)\n",
      "  len(self._key2idx), best_sim))\n"
     ]
    }
   ],
   "source": [
    "s = spa.sym\n",
    "D = 128  # the dimensionality of the vectors\n",
    "\n",
    "number_of_learning_trials = 40\n",
    "trial_length = 3.4  # This is actually for a WMTASK trial and a CRTTASK trial together, they are 1.7 sec each\n",
    "\n",
    "number_of_running_trials = 60\n",
    "T = number_of_running_trials * trial_length\n",
    "\n",
    "rng = np.random.RandomState(0)\n",
    "\n",
    "symbol_keys = {'ONE', 'TWO', 'THREE', 'NINE', 'ODD', 'EVEN', 'BLACK', 'RED', \\\n",
    "    'G1', 'V1', 'V2', 'WM1', 'RT1', 'RT2', 'AC1', 'PRIM',  'WMTASK', \\\n",
    "    'CRTTASK', 'QUESTION', 'EPISODE', 'CRY', 'REDEEM', 'LAUGH' }\n",
    "prim_keys = {'V1RT1', 'V1WM1', 'RT2AC1', 'RT2WM1', 'WM1RT1', 'WM1AC1', 'FOCUS', 'DONOTHING'}\n",
    "\n",
    "all_keys = symbol_keys | prim_keys\n",
    "\n",
    "#vocab_memory = spa.Vocabulary(dimensions=D,rng=rng, name='all')\n",
    "vocab_memory = spa.Vocabulary(dimensions=D, name='all')\n",
    "\n",
    "vocab_memory.populate(\";\".join(all_keys))\n",
    "\n",
    "prim_vocab = vocab_memory.create_subset(prim_keys)\n",
    "\n",
    "# Taskname can be either WMTASK or CRTTASK\n",
    "# taskname = 'WMTASK'\n",
    "# Is now set by the simulation\n",
    "taskname = 'CRTTASK'\n"
   ]
  },
  {
   "cell_type": "code",
   "execution_count": 3,
   "metadata": {},
   "outputs": [],
   "source": [
    "model = spa.Network(seed=12) # was 14\n",
    "with model:\n",
    "    # You can set variable to either s.CRTTASK or s.WMTASK\n",
    "    if taskname == 'WMTASK':\n",
    "        task = s.WMTASK\n",
    "    else:\n",
    "        task = s.CRTTASK\n",
    "\n",
    "    # We start defining the buffer slots in which information can\n",
    "    # be placed:\n",
    "    # Two visual buffers. We will use vison1 for the digit and vision2 for the color\n",
    "    vision1 = spa.State(vocab_memory, label='vision1')\n",
    "    vision2 = spa.State(vocab_memory, label='vision2')\n",
    "\n",
    "    # This is the buffer where we want the answer\n",
    "    action = spa.State(vocab_memory, feedback=0.8, feedback_synapse=0.01, label='action')\n",
    "\n",
    "    # we can place a memory request in memory1, and the answer will be place in memory2\n",
    "    memory1 = spa.State(vocab_memory, label='memory1')\n",
    "    memory1a = spa.State(vocab_memory, label='memory1a', feedback = 0.8, feedback_synapse=0.05)\n",
    "    memory2 = spa.State(vocab_memory, feedback=0.9, feedback_synapse=0.05, label='memory2')\n",
    "    \n",
    "    memory1 >> memory1a\n",
    "    \n",
    "    # Finally, we have a working memory with one slot\n",
    "    wm = spa.State(vocab_memory, feedback=0.90, feedback_synapse=0.05, label='wm')\n",
    "\n",
    "    # A slot for the goal\n",
    "    goal = spa.State(vocab_memory, label = 'goal')\n",
    "\n",
    "    \n",
    "    # A state to store the previous PRIM\n",
    "    prev_prim = spa.State(vocab_memory, label = 'prev_prim')\n",
    "    \n",
    "    # Now bind all the state slots together in one big semantic pointer\n",
    "   \n",
    "    combined_state = spa.State(vocab_memory, neurons_per_dimension = 150, label='combined_state')\n",
    "    \n",
    "    goal*s.G1 + vision1*s.V1 + vision2*s.V2 + wm*s.WM1 + \\\n",
    "    memory1*s.RT1 + memory2*s.RT2 + prev_prim*s.PRIM >> combined_state\n",
    " \n",
    "    # The prim state will receive the prim to be executed based on the combined_state\n",
    "    prim = spa.State(prim_vocab, label='prim')\n",
    "\n",
    "    # We will do supervised learned, so this state will hold the correct action\n",
    "    correct_action = spa.State(prim_vocab, label='correct action')\n",
    "    \n",
    "    # This state will be used to calculated the error\n",
    "    error = spa.State(prim_vocab, label='error')\n",
    "    prim - correct_action >> error\n",
    "\n",
    "    # Randomize decoders between ensembles and output\n",
    "    for ens in combined_state.all_ensembles:\n",
    "        con = nengo.Connection(ens, prim.input, function=lambda t: [0]*D,\n",
    "                               learning_rule_type=nengo.PES(learning_rate=1e-5)) # was 1e-4\n",
    "        nengo.Connection(error.output, con.learning_rule)\n",
    "    #    ens.intercepts= nengo.dists.Uniform(0.15, 0.2)\n",
    "\n",
    "    \n",
    "\n",
    "    def stimuli_for_trial(trial, i):\n",
    "        numbers = ['ONE','TWO','THREE','NINE']\n",
    "        return numbers[(trial * 3 + i) % numbers.__len__()]\n",
    "    \n",
    "    def event_queue(t):\n",
    "        trial_number = math.floor( t / trial_length)\n",
    "        t_in_trial = t - trial_number * trial_length\n",
    "        if t_in_trial < 1.7:\n",
    "            taskname == 'WMTASK'\n",
    "            if trial_number < number_of_learning_trials:\n",
    "                if 0.0 < t_in_trial < 0.3:\n",
    "                    return stimuli_for_trial(trial_number,0), 'BLACK', 'V1WM1', 0, s.WMTASK\n",
    "                elif 0.5 < t_in_trial < 0.8:\n",
    "                    return stimuli_for_trial(trial_number,1), 'BLACK', 'V1WM1', 0, s.WMTASK    \n",
    "                elif 1.0 < t_in_trial < 1.3:\n",
    "                    return 'QUESTION', 'RED', 'WM1RT1', 0, s.WMTASK\n",
    "                elif 1.3 < t_in_trial < 1.6:\n",
    "                    return 'QUESTION', 'RED', 'RT2AC1', 0, s.WMTASK\n",
    "                else:\n",
    "                    return '0', '0', 'DONOTHING', 0, s.WMTASK\n",
    "            else:\n",
    "                if 0.0 < t_in_trial < 0.3:\n",
    "                    return stimuli_for_trial(trial_number,0), 'BLACK', 'V1WM1', -1, s.WMTASK\n",
    "                elif 0.5 < t_in_trial < 0.8:\n",
    "                    return stimuli_for_trial(trial_number,1), 'BLACK', 'V1WM1', -1, s.WMTASK   \n",
    "                elif 1.0 < t_in_trial < 1.3:\n",
    "                    return 'QUESTION', 'RED', 'WM1RT1', -1, s.WMTASK\n",
    "                elif 1.3 < t_in_trial < 1.6:\n",
    "                    return 'QUESTION', 'RED', 'RT2AC1', -1, s.WMTASK\n",
    "                else:\n",
    "                    return '0', '0', 'DONOTHING', -1, s.WMTASK\n",
    "        else:\n",
    "            taskname == 'CRTTASK'\n",
    "            t_in_trial -= 1.7\n",
    "            if trial_number < number_of_learning_trials:\n",
    "                if 0.0 < t_in_trial < 0.3:\n",
    "                    return stimuli_for_trial(trial_number,0), 'BLACK', 'FOCUS', 0, s.CRTTASK\n",
    "                elif 0.5 < t_in_trial < 0.8:\n",
    "                    return stimuli_for_trial(trial_number,1), 'BLACK', 'FOCUS', 0, s.CRTTASK    \n",
    "                elif 1.0 < t_in_trial < 1.3:\n",
    "                    return stimuli_for_trial(trial_number,2), 'RED', 'V1RT1', 0, s.CRTTASK\n",
    "                elif 1.3 < t_in_trial < 1.6:\n",
    "                    return stimuli_for_trial(trial_number,2), 'RED', 'RT2AC1', 0, s.CRTTASK\n",
    "                else:\n",
    "                    return '0', '0', 'DONOTHING', 0, s.CRTTASK\n",
    "            else:\n",
    "                if 0.0 < t_in_trial < 0.3:\n",
    "                    return stimuli_for_trial(trial_number,0), 'BLACK', 'FOCUS', -1, s.CRTTASK\n",
    "                elif 0.5 < t_in_trial < 0.8:\n",
    "                    return stimuli_for_trial(trial_number,1), 'BLACK', 'FOCUS', -1, s.CRTTASK    \n",
    "                elif 1.0 < t_in_trial < 1.3:\n",
    "                    return stimuli_for_trial(trial_number,2), 'RED', 'V1RT1', -1, s.CRTTASK\n",
    "                elif 1.3 < t_in_trial < 1.6:\n",
    "                    return stimuli_for_trial(trial_number,2), 'RED', 'RT2AC1', -1, s.CRTTASK\n",
    "                else:\n",
    "                    return '0', '0', 'DONOTHING', -1, s.CRTTASK\n",
    "            \n",
    "\n",
    "    def vision_func(t):\n",
    "        return event_queue(t)[0]\n",
    "    \n",
    "    def color_func(t):\n",
    "        return event_queue(t)[1]\n",
    "    \n",
    "    def correct_func(t):\n",
    "        return event_queue(t)[2]\n",
    "    \n",
    "    def task_function(t):\n",
    "        return event_queue(t)[4]\n",
    "    \n",
    "    # Feed the input in the vision1 and vision2\n",
    "    with spa.Network(label='inputs'):\n",
    "        vision_input = spa.Transcode(vision_func,output_vocab = vocab_memory)\n",
    "        color_input = spa.Transcode(color_func,output_vocab = vocab_memory)\n",
    "        correct_input = spa.Transcode(correct_func, output_vocab = prim_vocab)\n",
    "        task_input = spa.Transcode(task_function, output_vocab = vocab_memory)\n",
    "\n",
    "    vision_input >> vision1\n",
    "    \n",
    "    color_input >> vision2\n",
    "    correct_input >> correct_action\n",
    "    task_input >> goal  \n",
    "    inhibit = nengo.Node(output = lambda t: event_queue(t)[3])\n",
    "    inhibit2 = spa.Scalar(label='PRIMSdone')\n",
    "    for ens in error.all_ensembles:\n",
    "        nengo.Connection(inhibit, ens.neurons, transform=np.ones((ens.n_neurons, 1)) * 10, synapse=None)\n",
    "        nengo.Connection(inhibit2.output, ens.neurons, transform=np.ones((ens.n_neurons, 1)) , synapse=None)\n",
    "\n",
    "    # Definition of the actions\n",
    "    # There are rules that carry out the actions, and rules that check the\n",
    "    # conditions. If a condition is satisfied, check is set to YES which\n",
    "    # is a condition for the actions.\n",
    "    with spa.Network(label='BG-Thalamus') :\n",
    "        with spa.ActionSelection() as bg_thalamus:\n",
    "            # Action rules first\n",
    "            spa.ifmax( spa.dot(prim, s.V1RT1),\n",
    "                        vision1 >> memory1)\n",
    "            spa.ifmax( spa.dot(prim, s.RT2AC1),\n",
    "                        memory2 >> action)\n",
    "            spa.ifmax( spa.dot(prim, s.V1WM1),\n",
    "                        vision1 >> wm)\n",
    "            spa.ifmax( spa.dot(prim, s.WM1RT1),\n",
    "                        wm >> memory1)\n",
    "            spa.ifmax( spa.dot(prim, s.RT2WM1),\n",
    "                        memory2 >> wm)\n",
    "            spa.ifmax( spa.dot(prim, s.WM1AC1),\n",
    "                        wm >> action)\n",
    "#            spa.ifmax( spa.dot(prim, s.FOCUS),\n",
    "#                        s.FOCUS >> prev_prim)\n",
    "            spa.ifmax(0.3,\n",
    "                        s.EPISODE >> memory1, 10 * memory2 >> memory1)\n",
    "#            spa.ifmax( 0.35 * spa.dot(memory2, s.EPISODE),\n",
    "#                        memory2 >> memory1)\n",
    "#            spa.ifmax(0.3, s.DONOTHING >> prev_prim)\n",
    "    \n",
    "    \n",
    "    with spa.Network(label='Inhibit- BG-Thalamus'):\n",
    "        with spa.ActionSelection():\n",
    "            spa.ifmax( spa.dot(correct_action, s.V1WM1) * spa.dot(vision1,wm) ,\n",
    "                        -1.0 >> inhibit2, s.V1WM1 >> prev_prim)\n",
    "            spa.ifmax( spa.dot(correct_action, s.WM1RT1) * spa.dot(wm,memory1) ,\n",
    "                        -1.0 >> inhibit2, s.WM1RT1 >> prev_prim)\n",
    "            spa.ifmax( spa.dot(correct_action, s.RT2AC1) * spa.dot(memory2,action),\n",
    "                        -1.0 >> inhibit2, s.RT2AC1 >> prev_prim)\n",
    "            spa.ifmax( spa.dot(correct_action, s.V1RT1) * spa.dot(vision1, memory1),\n",
    "                        -1.0 >> inhibit2, s.V1RT1 >> prev_prim)\n",
    "            spa.ifmax(0.3, 0.0 >> inhibit2)\n",
    "            \n",
    "    # A simple memory system\n",
    "    \n",
    "    mapping = {\n",
    "        'ONE' : 'ODD',\n",
    "        'TWO' : 'EVEN',\n",
    "        'THREE' : 'ODD',\n",
    "        'NINE' : 'ODD',\n",
    "        'EPISODE' : 'CRY',\n",
    "        'CRY' : 'REDEEM',\n",
    "        'REDEEM' : 'LAUGH'\n",
    "    }\n",
    "    \n",
    "    memory = spa.WTAAssocMem(\n",
    "        threshold = 0.3,\n",
    "        input_vocab = vocab_memory,\n",
    "        mapping = mapping,\n",
    "        label = 'memory',\n",
    "        function = lambda x: x > 0.)\n",
    "        \n",
    "    memory1a >> memory\n",
    "    memory.output >> memory2"
   ]
  },
  {
   "cell_type": "markdown",
   "metadata": {},
   "source": [
    "Set up some probes"
   ]
  },
  {
   "cell_type": "code",
   "execution_count": 4,
   "metadata": {},
   "outputs": [],
   "source": [
    "with model:\n",
    "    p_sel = nengo.Probe(bg_thalamus.thalamus.output, synapse = 0.01, sample_every = 0.01)\n",
    "    p_util = nengo.Probe(bg_thalamus.bg.input, synapse = 0.01, sample_every = 0.01)\n",
    "    p_mem = nengo.Probe(memory2.output, synapse = 0.01, sample_every = 0.01)"
   ]
  },
  {
   "cell_type": "markdown",
   "metadata": {},
   "source": [
    "Run de model"
   ]
  },
  {
   "cell_type": "code",
   "execution_count": 5,
   "metadata": {},
   "outputs": [
    {
     "data": {
      "application/vdom.v1+json": {
       "attributes": {},
       "tagName": "div"
      },
      "text/html": [
       "\n",
       "                <script>\n",
       "                    if (Jupyter.version.split(\".\")[0] < 5) {\n",
       "                        var pb = document.getElementById(\"45e6642f-f01b-4bb2-b6e3-f6d9b3f00f35\");\n",
       "                        var text = document.createTextNode(\n",
       "                            \"HMTL progress bar requires Jupyter Notebook >= \" +\n",
       "                            \"5.0 or Jupyter Lab. Alternatively, you can use \" +\n",
       "                            \"TerminalProgressBar().\");\n",
       "                        pb.parentNode.insertBefore(text, pb);\n",
       "                    }\n",
       "                </script>\n",
       "                <div id=\"45e6642f-f01b-4bb2-b6e3-f6d9b3f00f35\" style=\"\n",
       "                    width: 100%;\n",
       "                    border: 1px solid #cfcfcf;\n",
       "                    border-radius: 4px;\n",
       "                    text-align: center;\n",
       "                    position: relative;\">\n",
       "                  <div class=\"pb-text\" style=\"\n",
       "                      position: absolute;\n",
       "                      width: 100%;\">\n",
       "                    0%\n",
       "                  </div>\n",
       "                  <div class=\"pb-fill\" style=\"\n",
       "                      background-color: #bdd2e6;\n",
       "                      width: 0%;\">\n",
       "                    <style type=\"text/css\" scoped=\"scoped\">\n",
       "                        @keyframes pb-fill-anim {\n",
       "                            0% { background-position: 0 0; }\n",
       "                            100% { background-position: 100px 0; }\n",
       "                        }\n",
       "                    </style>\n",
       "                    &nbsp;\n",
       "                  </div>\n",
       "                </div>"
      ],
      "text/plain": [
       "HtmlProgressBar cannot be displayed. Please use the TerminalProgressBar. It can be enabled with `nengo.rc.set('progress', 'progress_bar', 'nengo.utils.progress.TerminalProgressBar')`."
      ]
     },
     "metadata": {},
     "output_type": "display_data"
    },
    {
     "data": {
      "application/vdom.v1+json": {
       "attributes": {
        "id": "87df8668-9268-4eab-8ce2-9d922c013d93",
        "style": {
         "border": "1px solid #cfcfcf",
         "borderRadius": "4px",
         "boxSizing": "border-box",
         "position": "relative",
         "textAlign": "center",
         "width": "100%"
        }
       },
       "children": [
        {
         "attributes": {
          "class": "pb-text",
          "style": {
           "position": "absolute",
           "width": "100%"
          }
         },
         "children": [
          "Build finished in 0:01:17."
         ],
         "tagName": "div"
        },
        {
         "attributes": {
          "class": "pb-fill",
          "style": {
           "animation": "none",
           "backgroundColor": "#bdd2e6",
           "backgroundImage": "none",
           "backgroundSize": "100px 100%",
           "width": "100%"
          }
         },
         "children": [
          {
           "attributes": {
            "scoped": "scoped",
            "type": "text/css"
           },
           "children": [
            "\n                        @keyframes pb-fill-anim {\n                            0% { background-position: 0 0; }\n                            100% { background-position: 100px 0; }\n                        }}"
           ],
           "tagName": "style"
          },
          " "
         ],
         "tagName": "div"
        }
       ],
       "tagName": "div"
      },
      "text/html": [
       "<script>\n",
       "              (function () {\n",
       "                  var root = document.getElementById('45e6642f-f01b-4bb2-b6e3-f6d9b3f00f35');\n",
       "                  var text = root.getElementsByClassName('pb-text')[0];\n",
       "                  var fill = root.getElementsByClassName('pb-fill')[0];\n",
       "\n",
       "                  text.innerHTML = 'Build finished in 0:01:17.';\n",
       "                  \n",
       "            fill.style.width = '100%';\n",
       "            fill.style.animation = 'pb-fill-anim 2s linear infinite';\n",
       "            fill.style.backgroundSize = '100px 100%';\n",
       "            fill.style.backgroundImage = 'repeating-linear-gradient(' +\n",
       "                '90deg, #bdd2e6, #edf2f8 40%, #bdd2e6 80%, #bdd2e6)';\n",
       "        \n",
       "                  \n",
       "                fill.style.animation = 'none';\n",
       "                fill.style.backgroundImage = 'none';\n",
       "            \n",
       "              })();\n",
       "        </script>"
      ]
     },
     "metadata": {},
     "output_type": "display_data"
    },
    {
     "data": {
      "application/vdom.v1+json": {
       "attributes": {},
       "tagName": "div"
      },
      "text/html": [
       "\n",
       "                <script>\n",
       "                    if (Jupyter.version.split(\".\")[0] < 5) {\n",
       "                        var pb = document.getElementById(\"80adcc76-32ce-479b-82e3-b7ef451ff7cb\");\n",
       "                        var text = document.createTextNode(\n",
       "                            \"HMTL progress bar requires Jupyter Notebook >= \" +\n",
       "                            \"5.0 or Jupyter Lab. Alternatively, you can use \" +\n",
       "                            \"TerminalProgressBar().\");\n",
       "                        pb.parentNode.insertBefore(text, pb);\n",
       "                    }\n",
       "                </script>\n",
       "                <div id=\"80adcc76-32ce-479b-82e3-b7ef451ff7cb\" style=\"\n",
       "                    width: 100%;\n",
       "                    border: 1px solid #cfcfcf;\n",
       "                    border-radius: 4px;\n",
       "                    text-align: center;\n",
       "                    position: relative;\">\n",
       "                  <div class=\"pb-text\" style=\"\n",
       "                      position: absolute;\n",
       "                      width: 100%;\">\n",
       "                    0%\n",
       "                  </div>\n",
       "                  <div class=\"pb-fill\" style=\"\n",
       "                      background-color: #bdd2e6;\n",
       "                      width: 0%;\">\n",
       "                    <style type=\"text/css\" scoped=\"scoped\">\n",
       "                        @keyframes pb-fill-anim {\n",
       "                            0% { background-position: 0 0; }\n",
       "                            100% { background-position: 100px 0; }\n",
       "                        }\n",
       "                    </style>\n",
       "                    &nbsp;\n",
       "                  </div>\n",
       "                </div>"
      ],
      "text/plain": [
       "HtmlProgressBar cannot be displayed. Please use the TerminalProgressBar. It can be enabled with `nengo.rc.set('progress', 'progress_bar', 'nengo.utils.progress.TerminalProgressBar')`."
      ]
     },
     "metadata": {},
     "output_type": "display_data"
    },
    {
     "data": {
      "application/vdom.v1+json": {
       "attributes": {
        "id": "1078ee1d-77d9-4ed3-a510-34898ca157fc",
        "style": {
         "border": "1px solid #cfcfcf",
         "borderRadius": "4px",
         "boxSizing": "border-box",
         "position": "relative",
         "textAlign": "center",
         "width": "100%"
        }
       },
       "children": [
        {
         "attributes": {
          "class": "pb-text",
          "style": {
           "position": "absolute",
           "width": "100%"
          }
         },
         "children": [
          "Simulation finished in 0:16:24."
         ],
         "tagName": "div"
        },
        {
         "attributes": {
          "class": "pb-fill",
          "style": {
           "animation": "none",
           "backgroundColor": "#bdd2e6",
           "backgroundImage": "none",
           "transition": "width 0.1s linear",
           "width": "7%"
          }
         },
         "children": [
          {
           "attributes": {
            "scoped": "scoped",
            "type": "text/css"
           },
           "children": [
            "\n                        @keyframes pb-fill-anim {\n                            0% { background-position: 0 0; }\n                            100% { background-position: 100px 0; }\n                        }}"
           ],
           "tagName": "style"
          },
          " "
         ],
         "tagName": "div"
        }
       ],
       "tagName": "div"
      },
      "text/html": [
       "<script>\n",
       "              (function () {\n",
       "                  var root = document.getElementById('80adcc76-32ce-479b-82e3-b7ef451ff7cb');\n",
       "                  var text = root.getElementsByClassName('pb-text')[0];\n",
       "                  var fill = root.getElementsByClassName('pb-fill')[0];\n",
       "\n",
       "                  text.innerHTML = 'Simulation finished in 0:16:24.';\n",
       "                  \n",
       "            if (6.901470588235294 > 0.) {\n",
       "                fill.style.transition = 'width 0.1s linear';\n",
       "            } else {\n",
       "                fill.style.transition = 'none';\n",
       "            }\n",
       "\n",
       "            fill.style.width = '6.901470588235294%';\n",
       "            fill.style.animation = 'none';\n",
       "            fill.style.backgroundImage = 'none'\n",
       "        \n",
       "                  \n",
       "                fill.style.animation = 'none';\n",
       "                fill.style.backgroundImage = 'none';\n",
       "            \n",
       "              })();\n",
       "        </script>"
      ]
     },
     "metadata": {},
     "output_type": "display_data"
    },
    {
     "name": "stderr",
     "output_type": "stream",
     "text": [
      "ERROR:root:Internal Python error in the inspect module.\n",
      "Below is the traceback from this internal error.\n",
      "\n"
     ]
    },
    {
     "name": "stdout",
     "output_type": "stream",
     "text": [
      "Traceback (most recent call last):\n",
      "  File \"/home/hugo/anaconda3/envs/CTN/lib/python3.7/site-packages/IPython/core/interactiveshell.py\", line 3319, in run_code\n",
      "    exec(code_obj, self.user_global_ns, self.user_ns)\n",
      "  File \"<ipython-input-5-7de1e4ae4718>\", line 2, in <module>\n",
      "    sim.run(T)\n",
      "  File \"/home/hugo/anaconda3/envs/CTN/lib/python3.7/site-packages/nengo/simulator.py\", line 333, in run\n",
      "    self.run_steps(steps, progress_bar=progress_bar)\n",
      "  File \"/home/hugo/anaconda3/envs/CTN/lib/python3.7/site-packages/nengo/simulator.py\", line 357, in run_steps\n",
      "    self.step()\n",
      "  File \"/home/hugo/anaconda3/envs/CTN/lib/python3.7/site-packages/nengo/simulator.py\", line 368, in step\n",
      "    step_fn()\n",
      "  File \"/home/hugo/anaconda3/envs/CTN/lib/python3.7/site-packages/nengo/builder/operator.py\", line 625, in step_dotinc\n",
      "    Y[...] += A.dot(X)\n",
      "KeyboardInterrupt\n",
      "\n",
      "During handling of the above exception, another exception occurred:\n",
      "\n",
      "Traceback (most recent call last):\n",
      "  File \"/home/hugo/anaconda3/envs/CTN/lib/python3.7/site-packages/IPython/core/interactiveshell.py\", line 2034, in showtraceback\n",
      "    stb = value._render_traceback_()\n",
      "AttributeError: 'KeyboardInterrupt' object has no attribute '_render_traceback_'\n",
      "\n",
      "During handling of the above exception, another exception occurred:\n",
      "\n",
      "Traceback (most recent call last):\n",
      "  File \"/home/hugo/anaconda3/envs/CTN/lib/python3.7/site-packages/IPython/core/ultratb.py\", line 1151, in get_records\n",
      "    return _fixed_getinnerframes(etb, number_of_lines_of_context, tb_offset)\n",
      "  File \"/home/hugo/anaconda3/envs/CTN/lib/python3.7/site-packages/IPython/core/ultratb.py\", line 319, in wrapped\n",
      "    return f(*args, **kwargs)\n",
      "  File \"/home/hugo/anaconda3/envs/CTN/lib/python3.7/site-packages/IPython/core/ultratb.py\", line 353, in _fixed_getinnerframes\n",
      "    records = fix_frame_records_filenames(inspect.getinnerframes(etb, context))\n",
      "  File \"/home/hugo/anaconda3/envs/CTN/lib/python3.7/inspect.py\", line 1502, in getinnerframes\n",
      "    frameinfo = (tb.tb_frame,) + getframeinfo(tb, context)\n",
      "  File \"/home/hugo/anaconda3/envs/CTN/lib/python3.7/inspect.py\", line 1460, in getframeinfo\n",
      "    filename = getsourcefile(frame) or getfile(frame)\n",
      "  File \"/home/hugo/anaconda3/envs/CTN/lib/python3.7/inspect.py\", line 696, in getsourcefile\n",
      "    if getattr(getmodule(object, filename), '__loader__', None) is not None:\n",
      "  File \"/home/hugo/anaconda3/envs/CTN/lib/python3.7/inspect.py\", line 742, in getmodule\n",
      "    os.path.realpath(f)] = module.__name__\n",
      "  File \"/home/hugo/anaconda3/envs/CTN/lib/python3.7/posixpath.py\", line 395, in realpath\n",
      "    path, ok = _joinrealpath(filename[:0], filename, {})\n",
      "  File \"/home/hugo/anaconda3/envs/CTN/lib/python3.7/posixpath.py\", line 428, in _joinrealpath\n",
      "    newpath = join(path, name)\n",
      "  File \"/home/hugo/anaconda3/envs/CTN/lib/python3.7/posixpath.py\", line 83, in join\n",
      "    try:\n",
      "KeyboardInterrupt\n"
     ]
    },
    {
     "ename": "KeyboardInterrupt",
     "evalue": "",
     "output_type": "error",
     "traceback": [
      "\u001b[0;31m---------------------------------------------------------------------------\u001b[0m"
     ]
    }
   ],
   "source": [
    "with nengo.Simulator(model) as sim:\n",
    "    sim.run(T)"
   ]
  },
  {
   "cell_type": "code",
   "execution_count": 16,
   "metadata": {},
   "outputs": [],
   "source": [
    "file = open('th-output-2.txt', 'w')\n",
    "i = 0\n",
    "for item in sim.data[p_sel]:\n",
    "    i += 1\n",
    "    j = 0\n",
    "    for sub_item in item:\n",
    "        j += 1\n",
    "        print(i, j, sub_item, file=file)\n",
    "#        file.write(\"%s %s %s\\n\" % i % j % sub_item)\n",
    "file.close()"
   ]
  },
  {
   "cell_type": "code",
   "execution_count": 17,
   "metadata": {},
   "outputs": [],
   "source": [
    "file = open('bg-util-2.txt', 'w')\n",
    "i = 0\n",
    "for item in sim.data[p_util]:\n",
    "    i += 1\n",
    "    j = 0\n",
    "    for sub_item in item:\n",
    "        j += 1\n",
    "        print(i, j, sub_item, file=file)\n",
    "#        file.write(\"%s %s %s\\n\" % i % j % sub_item)\n",
    "file.close()"
   ]
  },
  {
   "cell_type": "code",
   "execution_count": 22,
   "metadata": {},
   "outputs": [],
   "source": [
    "file = open('mem-output-2.txt', 'w')\n",
    "i = 0\n",
    "for item in sim.data[p_mem]:\n",
    "    i += 1\n",
    "    for entry in vocab_memory.keys():\n",
    "        print(i, entry, spa.similarity(item, vocab_memory[entry].v)[0], file=file)\n",
    "#        file.write(\"%s %s %s\\n\" % i % j % sub_item)\n",
    "file.close()"
   ]
  },
  {
   "cell_type": "code",
   "execution_count": null,
   "metadata": {},
   "outputs": [],
   "source": []
  },
  {
   "cell_type": "code",
   "execution_count": null,
   "metadata": {},
   "outputs": [],
   "source": []
  },
  {
   "cell_type": "code",
   "execution_count": null,
   "metadata": {},
   "outputs": [],
   "source": []
  }
 ],
 "metadata": {
  "kernelspec": {
   "display_name": "Python 3",
   "language": "python",
   "name": "python3"
  },
  "language_info": {
   "codemirror_mode": {
    "name": "ipython",
    "version": 3
   },
   "file_extension": ".py",
   "mimetype": "text/x-python",
   "name": "python",
   "nbconvert_exporter": "python",
   "pygments_lexer": "ipython3",
   "version": "3.7.5"
  }
 },
 "nbformat": 4,
 "nbformat_minor": 2
}
